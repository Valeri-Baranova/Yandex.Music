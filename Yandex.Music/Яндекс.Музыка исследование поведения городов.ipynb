{
 "cells": [
  {
   "cell_type": "markdown",
   "metadata": {
    "id": "E0vqbgi9ay0H"
   },
   "source": [
    "# Яндекс.Музыка"
   ]
  },
  {
   "cell_type": "markdown",
   "metadata": {
    "id": "VUC88oWjTJw2"
   },
   "source": [
    "На данных Яндекс.Музыки нужно было сравнить поведение пользователей двух столиц.\n",
    "\n",
    "**Цель исследования** — проверьте три гипотезы:\n",
    "1. Активность пользователей зависит от дня недели. Причём в Москве и Петербурге это проявляется по-разному.\n",
    "2. В понедельник утром в Москве преобладают одни жанры, а в Петербурге — другие. Так же и вечером пятницы преобладают разные жанры — в зависимости от города. \n",
    "3. Москва и Петербург предпочитают разные жанры музыки. В Москве чаще слушают поп-музыку, в Петербурге — русский рэп.\n",
    "\n",
    "Датасет содержит данные:\n",
    "- userID — идентификатор пользователя;\n",
    "- Track — название трека;\n",
    "- artist — имя исполнителя;\n",
    "- genre — название жанра;\n",
    "- City — город пользователя;\n",
    "- time — время начала прослушивания;\n",
    "- Day — день недели."
   ]
  },
  {
   "cell_type": "markdown",
   "metadata": {
    "id": "Ml1hmfXC_Zcs"
   },
   "source": [
    "## Обзор данных\n",
    "\n",
    "Составим первое представление о данных Яндекс.Музыки.\n",
    "\n",
    "\n"
   ]
  },
  {
   "cell_type": "code",
   "execution_count": 1,
   "metadata": {
    "id": "AXN7PHPN_Zcs",
    "scrolled": true
   },
   "outputs": [],
   "source": [
    "import pandas as pd # импорт библиотеки pandas"
   ]
  },
  {
   "cell_type": "code",
   "execution_count": 2,
   "metadata": {
    "id": "fFVu7vqh_Zct"
   },
   "outputs": [],
   "source": [
    "df = pd.read_csv(\"/datasets/yandex_music_project.csv\") # чтение файла с данными и сохранение в df"
   ]
  },
  {
   "cell_type": "code",
   "execution_count": 3,
   "metadata": {
    "id": "oWTVX3gW_Zct"
   },
   "outputs": [
    {
     "name": "stdout",
     "output_type": "stream",
     "text": [
      "     userID                        Track            artist   genre  \\\n",
      "0  FFB692EC            Kamigata To Boots  The Mass Missile    rock   \n",
      "1  55204538  Delayed Because of Accident  Andreas Rönnberg    rock   \n",
      "2    20EC38            Funiculì funiculà       Mario Lanza     pop   \n",
      "3  A3DD03C9        Dragons in the Sunset        Fire + Ice    folk   \n",
      "4  E2DC1FAE                  Soul People        Space Echo   dance   \n",
      "5  842029A1                    Преданная         IMPERVTOR  rusrap   \n",
      "6  4CB90AA5                         True      Roman Messer   dance   \n",
      "7  F03E1C1F             Feeling This Way   Polina Griffith   dance   \n",
      "8  8FA1D3BE     И вновь продолжается бой               NaN  ruspop   \n",
      "9  E772D5C0                    Pessimist               NaN   dance   \n",
      "\n",
      "             City        time        Day  \n",
      "0  Saint-Petersburg  20:28:33  Wednesday  \n",
      "1            Moscow  14:07:09     Friday  \n",
      "2  Saint-Petersburg  20:58:07  Wednesday  \n",
      "3  Saint-Petersburg  08:37:09     Monday  \n",
      "4            Moscow  08:34:34     Monday  \n",
      "5  Saint-Petersburg  13:09:41     Friday  \n",
      "6            Moscow  13:00:07  Wednesday  \n",
      "7            Moscow  20:47:49  Wednesday  \n",
      "8            Moscow  09:17:40     Friday  \n",
      "9  Saint-Petersburg  21:20:49  Wednesday  \n"
     ]
    }
   ],
   "source": [
    "print(df.head(10)) # получение первых 10 строк таблицы df"
   ]
  },
  {
   "cell_type": "code",
   "execution_count": 4,
   "metadata": {
    "id": "DSf2kIb-_Zct"
   },
   "outputs": [
    {
     "name": "stdout",
     "output_type": "stream",
     "text": [
      "<class 'pandas.core.frame.DataFrame'>\n",
      "RangeIndex: 65079 entries, 0 to 65078\n",
      "Data columns (total 7 columns):\n",
      "  userID    65079 non-null object\n",
      "Track       63848 non-null object\n",
      "artist      57876 non-null object\n",
      "genre       63881 non-null object\n",
      "  City      65079 non-null object\n",
      "time        65079 non-null object\n",
      "Day         65079 non-null object\n",
      "dtypes: object(7)\n",
      "memory usage: 3.5+ MB\n"
     ]
    }
   ],
   "source": [
    "df.info()  #должен быть змеинный регистр (user_id)"
   ]
  },
  {
   "cell_type": "markdown",
   "metadata": {
    "id": "MCB6-dXG_Zct"
   },
   "source": [
    "**Выводы**\n",
    "\n",
    "Предварительно можно утверждать, что, данных достаточно для проверки гипотез. Но встречаются пропуски в данных, а в названиях колонок — расхождения с хорошим стилем.\n",
    "\n",
    "Чтобы двигаться дальше, нужно устранить проблемы в данных."
   ]
  },
  {
   "cell_type": "markdown",
   "metadata": {
    "id": "SjYF6Ub9_Zct"
   },
   "source": [
    "## Предобработка данных"
   ]
  },
  {
   "cell_type": "markdown",
   "metadata": {
    "id": "dIaKXr29_Zct"
   },
   "source": [
    "Выведем на экран названия столбцов:"
   ]
  },
  {
   "cell_type": "code",
   "execution_count": 5,
   "metadata": {
    "id": "oKOTdF_Q_Zct"
   },
   "outputs": [
    {
     "data": {
      "text/plain": [
       "Index(['  userID', 'Track', 'artist', 'genre', '  City  ', 'time', 'Day'], dtype='object')"
      ]
     },
     "execution_count": 5,
     "metadata": {},
     "output_type": "execute_result"
    }
   ],
   "source": [
    "df.columns # перечень названий столбцов таблицы df"
   ]
  },
  {
   "cell_type": "markdown",
   "metadata": {
    "id": "zj5534cv_Zct"
   },
   "source": [
    "Приведем названия в соответствие с хорошим стилем:"
   ]
  },
  {
   "cell_type": "code",
   "execution_count": 6,
   "metadata": {
    "id": "ISlFqs5y_Zct"
   },
   "outputs": [],
   "source": [
    "df = df.rename(columns={\"  userID\":\"user_id\",\"Track\":\"track\",\"  City  \":\"city\",\"Day\":\"day\"})  # переименование столбцов"
   ]
  },
  {
   "cell_type": "code",
   "execution_count": 7,
   "metadata": {
    "id": "d4NOAmTW_Zct",
    "scrolled": true
   },
   "outputs": [
    {
     "name": "stdout",
     "output_type": "stream",
     "text": [
      "Index(['user_id', 'track', 'artist', 'genre', 'city', 'time', 'day'], dtype='object')\n"
     ]
    }
   ],
   "source": [
    "print(df.columns) # проверка результатов - перечень названий столбцов"
   ]
  },
  {
   "cell_type": "code",
   "execution_count": 8,
   "metadata": {
    "id": "RskX29qr_Zct"
   },
   "outputs": [
    {
     "name": "stdout",
     "output_type": "stream",
     "text": [
      "user_id       0\n",
      "track      1231\n",
      "artist     7203\n",
      "genre      1198\n",
      "city          0\n",
      "time          0\n",
      "day           0\n",
      "dtype: int64\n"
     ]
    }
   ],
   "source": [
    "print(df.isna().sum()) # подсчёт пропусков"
   ]
  },
  {
   "cell_type": "markdown",
   "metadata": {
    "id": "qubhgnlO_Zct"
   },
   "source": [
    "Не все пропущенные значения влияют на исследование. Так в `track` и `artist` пропуски не важны для вашей работы. Достаточно заменить их явными обозначениями.\n",
    "\n",
    "Но пропуски в `genre` могут помешать сравнению музыкальных вкусов в Москве и Санкт-Петербурге. На практике было бы правильно установить причину пропусков и восстановить данные. Такой возможности нет в учебном проекте. Придётся:\n",
    "* заполнить и эти пропуски явными обозначениями,\n",
    "* оценить, насколько они повредят расчётам. "
   ]
  },
  {
   "cell_type": "code",
   "execution_count": 9,
   "metadata": {
    "id": "KplB5qWs_Zct"
   },
   "outputs": [],
   "source": [
    "columns_to_replace = [\"track\", \"artist\", \"genre\"] # перебор названий столбцов в цикле и замена пропущенных значений на 'unknown'\n",
    "for column in columns_to_replace:\n",
    "    df[column] = df[column].fillna(\"unknown\")"
   ]
  },
  {
   "cell_type": "code",
   "execution_count": 10,
   "metadata": {
    "id": "Tq4nYRX4_Zct"
   },
   "outputs": [
    {
     "name": "stdout",
     "output_type": "stream",
     "text": [
      "user_id    0\n",
      "track      0\n",
      "artist     0\n",
      "genre      0\n",
      "city       0\n",
      "time       0\n",
      "day        0\n",
      "dtype: int64\n"
     ]
    }
   ],
   "source": [
    "print(df.isna().sum()) # подсчёт пропусков"
   ]
  },
  {
   "cell_type": "code",
   "execution_count": 11,
   "metadata": {
    "id": "36eES_S0_Zct"
   },
   "outputs": [
    {
     "name": "stdout",
     "output_type": "stream",
     "text": [
      "3826\n"
     ]
    }
   ],
   "source": [
    "print(df.duplicated().sum())  # подсчёт явных дубликатов"
   ]
  },
  {
   "cell_type": "code",
   "execution_count": 12,
   "metadata": {
    "id": "exFHq6tt_Zct"
   },
   "outputs": [],
   "source": [
    "df = df.drop_duplicates().reset_index(drop=True) # удаление явных дубликатов (с удалением старых индексов и формированием новых)"
   ]
  },
  {
   "cell_type": "code",
   "execution_count": 13,
   "metadata": {
    "id": "-8PuNWQ0_Zct"
   },
   "outputs": [
    {
     "name": "stdout",
     "output_type": "stream",
     "text": [
      "0\n"
     ]
    }
   ],
   "source": [
    "print(df.duplicated().sum()) # проверка на отсутствие дубликатов"
   ]
  },
  {
   "cell_type": "code",
   "execution_count": 14,
   "metadata": {
    "id": "JIUcqzZN_Zct"
   },
   "outputs": [
    {
     "name": "stdout",
     "output_type": "stream",
     "text": [
      "['acid', 'acoustic', 'action', 'adult', 'africa', 'afrikaans', 'alternative', 'alternativepunk', 'ambient', 'americana', 'animated', 'anime', 'arabesk', 'arabic', 'arena', 'argentinetango', 'art', 'audiobook', 'author', 'avantgarde', 'axé', 'baile', 'balkan', 'beats', 'bigroom', 'black', 'bluegrass', 'blues', 'bollywood', 'bossa', 'brazilian', 'breakbeat', 'breaks', 'broadway', 'cantautori', 'cantopop', 'canzone', 'caribbean', 'caucasian', 'celtic', 'chamber', 'chanson', 'children', 'chill', 'chinese', 'choral', 'christian', 'christmas', 'classical', 'classicmetal', 'club', 'colombian', 'comedy', 'conjazz', 'contemporary', 'country', 'cuban', 'dance', 'dancehall', 'dancepop', 'dark', 'death', 'deep', 'deutschrock', 'deutschspr', 'dirty', 'disco', 'dnb', 'documentary', 'downbeat', 'downtempo', 'drum', 'dub', 'dubstep', 'eastern', 'easy', 'electronic', 'electropop', 'emo', 'entehno', 'epicmetal', 'estrada', 'ethnic', 'eurofolk', 'european', 'experimental', 'extrememetal', 'fado', 'fairytail', 'film', 'fitness', 'flamenco', 'folk', 'folklore', 'folkmetal', 'folkrock', 'folktronica', 'forró', 'frankreich', 'französisch', 'french', 'funk', 'future', 'gangsta', 'garage', 'german', 'ghazal', 'gitarre', 'glitch', 'gospel', 'gothic', 'grime', 'grunge', 'gypsy', 'handsup', \"hard'n'heavy\", 'hardcore', 'hardstyle', 'hardtechno', 'hip', 'hip-hop', 'hiphop', 'historisch', 'holiday', 'hop', 'horror', 'house', 'hymn', 'idm', 'independent', 'indian', 'indie', 'indipop', 'industrial', 'inspirational', 'instrumental', 'international', 'irish', 'jam', 'japanese', 'jazz', 'jewish', 'jpop', 'jungle', 'k-pop', 'karadeniz', 'karaoke', 'kayokyoku', 'korean', 'laiko', 'latin', 'latino', 'leftfield', 'local', 'lounge', 'loungeelectronic', 'lovers', 'malaysian', 'mandopop', 'marschmusik', 'meditative', 'mediterranean', 'melodic', 'metal', 'metalcore', 'mexican', 'middle', 'minimal', 'miscellaneous', 'modern', 'mood', 'mpb', 'muslim', 'native', 'neoklassik', 'neue', 'new', 'newage', 'newwave', 'nu', 'nujazz', 'numetal', 'oceania', 'old', 'opera', 'orchestral', 'other', 'piano', 'podcasts', 'pop', 'popdance', 'popelectronic', 'popeurodance', 'poprussian', 'post', 'posthardcore', 'postrock', 'power', 'progmetal', 'progressive', 'psychedelic', 'punjabi', 'punk', 'quebecois', 'ragga', 'ram', 'rancheras', 'rap', 'rave', 'reggae', 'reggaeton', 'regional', 'relax', 'religious', 'retro', 'rhythm', 'rnb', 'rnr', 'rock', 'rockabilly', 'rockalternative', 'rockindie', 'rockother', 'romance', 'roots', 'ruspop', 'rusrap', 'rusrock', 'russian', 'salsa', 'samba', 'scenic', 'schlager', 'self', 'sertanejo', 'shanson', 'shoegazing', 'showtunes', 'singer', 'ska', 'skarock', 'slow', 'smooth', 'soft', 'soul', 'soulful', 'sound', 'soundtrack', 'southern', 'specialty', 'speech', 'spiritual', 'sport', 'stonerrock', 'surf', 'swing', 'synthpop', 'synthrock', 'sängerportrait', 'tango', 'tanzorchester', 'taraftar', 'tatar', 'tech', 'techno', 'teen', 'thrash', 'top', 'traditional', 'tradjazz', 'trance', 'tribal', 'trip', 'triphop', 'tropical', 'türk', 'türkçe', 'ukrrock', 'unknown', 'urban', 'uzbek', 'variété', 'vi', 'videogame', 'vocal', 'western', 'world', 'worldbeat', 'ïîï', 'электроника']\n"
     ]
    }
   ],
   "source": [
    "print(sorted(df[\"genre\"].unique())) # Просмотр уникальных названий жанров"
   ]
  },
  {
   "cell_type": "code",
   "execution_count": 15,
   "metadata": {
    "id": "ErNDkmns_Zct"
   },
   "outputs": [],
   "source": [
    "def replace_wrong_genres(wrong_genres, correct_genres): # Функция для замены неявных дубликатов\n",
    "     for wrong_genre in wrong_genres:\n",
    "            df[\"genre\"] = df[\"genre\"].replace(wrong_genres, correct_genres)\n",
    "duplicates = [\"hip\", \"hop\", \"hip-hop\"] # список неправильных имён\n",
    "genre = \"hiphop\"\n",
    "replace_wrong_genres(duplicates, genre )"
   ]
  },
  {
   "cell_type": "code",
   "execution_count": 16,
   "metadata": {
    "id": "YN5i2hpmSo09"
   },
   "outputs": [],
   "source": [
    "replace_wrong_genres(duplicates, genre ) # Устранение неявных дубликатов"
   ]
  },
  {
   "cell_type": "code",
   "execution_count": 17,
   "metadata": {
    "id": "wvixALnFG15m"
   },
   "outputs": [
    {
     "name": "stdout",
     "output_type": "stream",
     "text": [
      "['acid', 'acoustic', 'action', 'adult', 'africa', 'afrikaans', 'alternative', 'alternativepunk', 'ambient', 'americana', 'animated', 'anime', 'arabesk', 'arabic', 'arena', 'argentinetango', 'art', 'audiobook', 'author', 'avantgarde', 'axé', 'baile', 'balkan', 'beats', 'bigroom', 'black', 'bluegrass', 'blues', 'bollywood', 'bossa', 'brazilian', 'breakbeat', 'breaks', 'broadway', 'cantautori', 'cantopop', 'canzone', 'caribbean', 'caucasian', 'celtic', 'chamber', 'chanson', 'children', 'chill', 'chinese', 'choral', 'christian', 'christmas', 'classical', 'classicmetal', 'club', 'colombian', 'comedy', 'conjazz', 'contemporary', 'country', 'cuban', 'dance', 'dancehall', 'dancepop', 'dark', 'death', 'deep', 'deutschrock', 'deutschspr', 'dirty', 'disco', 'dnb', 'documentary', 'downbeat', 'downtempo', 'drum', 'dub', 'dubstep', 'eastern', 'easy', 'electronic', 'electropop', 'emo', 'entehno', 'epicmetal', 'estrada', 'ethnic', 'eurofolk', 'european', 'experimental', 'extrememetal', 'fado', 'fairytail', 'film', 'fitness', 'flamenco', 'folk', 'folklore', 'folkmetal', 'folkrock', 'folktronica', 'forró', 'frankreich', 'französisch', 'french', 'funk', 'future', 'gangsta', 'garage', 'german', 'ghazal', 'gitarre', 'glitch', 'gospel', 'gothic', 'grime', 'grunge', 'gypsy', 'handsup', \"hard'n'heavy\", 'hardcore', 'hardstyle', 'hardtechno', 'hiphop', 'historisch', 'holiday', 'horror', 'house', 'hymn', 'idm', 'independent', 'indian', 'indie', 'indipop', 'industrial', 'inspirational', 'instrumental', 'international', 'irish', 'jam', 'japanese', 'jazz', 'jewish', 'jpop', 'jungle', 'k-pop', 'karadeniz', 'karaoke', 'kayokyoku', 'korean', 'laiko', 'latin', 'latino', 'leftfield', 'local', 'lounge', 'loungeelectronic', 'lovers', 'malaysian', 'mandopop', 'marschmusik', 'meditative', 'mediterranean', 'melodic', 'metal', 'metalcore', 'mexican', 'middle', 'minimal', 'miscellaneous', 'modern', 'mood', 'mpb', 'muslim', 'native', 'neoklassik', 'neue', 'new', 'newage', 'newwave', 'nu', 'nujazz', 'numetal', 'oceania', 'old', 'opera', 'orchestral', 'other', 'piano', 'podcasts', 'pop', 'popdance', 'popelectronic', 'popeurodance', 'poprussian', 'post', 'posthardcore', 'postrock', 'power', 'progmetal', 'progressive', 'psychedelic', 'punjabi', 'punk', 'quebecois', 'ragga', 'ram', 'rancheras', 'rap', 'rave', 'reggae', 'reggaeton', 'regional', 'relax', 'religious', 'retro', 'rhythm', 'rnb', 'rnr', 'rock', 'rockabilly', 'rockalternative', 'rockindie', 'rockother', 'romance', 'roots', 'ruspop', 'rusrap', 'rusrock', 'russian', 'salsa', 'samba', 'scenic', 'schlager', 'self', 'sertanejo', 'shanson', 'shoegazing', 'showtunes', 'singer', 'ska', 'skarock', 'slow', 'smooth', 'soft', 'soul', 'soulful', 'sound', 'soundtrack', 'southern', 'specialty', 'speech', 'spiritual', 'sport', 'stonerrock', 'surf', 'swing', 'synthpop', 'synthrock', 'sängerportrait', 'tango', 'tanzorchester', 'taraftar', 'tatar', 'tech', 'techno', 'teen', 'thrash', 'top', 'traditional', 'tradjazz', 'trance', 'tribal', 'trip', 'triphop', 'tropical', 'türk', 'türkçe', 'ukrrock', 'unknown', 'urban', 'uzbek', 'variété', 'vi', 'videogame', 'vocal', 'western', 'world', 'worldbeat', 'ïîï', 'электроника']\n"
     ]
    }
   ],
   "source": [
    "print(sorted(df[\"genre\"].unique())) # Проверка на неявные дубликаты"
   ]
  },
  {
   "cell_type": "markdown",
   "metadata": {
    "id": "jz6a9-7HQUDd"
   },
   "source": [
    "**Выводы**\n",
    "\n",
    "Предобработка обнаружила три проблемы в данных:\n",
    "\n",
    "- нарушения в стиле заголовков,\n",
    "- пропущенные значения,\n",
    "- дубликаты — явные и неявные.\n",
    "\n",
    "Заголовки были исправлены, чтобы упростить работу с таблицей. Без дубликатов исследование станет более точным.\n",
    "\n",
    "Пропущенные значения вы заменили на `'unknown'`. Ещё предстоит увидеть, не повредят ли исследованию пропуски в колонке `genre`.\n",
    "\n",
    "Теперь можно перейти к проверке гипотез. "
   ]
  },
  {
   "cell_type": "markdown",
   "metadata": {
    "id": "WttZHXH0SqKk"
   },
   "source": [
    "## Проверка гипотез"
   ]
  },
  {
   "cell_type": "markdown",
   "metadata": {
    "id": "Im936VVi_Zcu"
   },
   "source": [
    "### Сравнение поведения пользователей двух столиц"
   ]
  },
  {
   "cell_type": "markdown",
   "metadata": {
    "id": "nwt_MuaL_Zcu"
   },
   "source": [
    "Первая гипотеза утверждает, что пользователи по-разному слушают музыку в Москве и Санкт-Петербурге.\n",
    "Для этого:\n",
    "\n",
    "* Разделим пользователей Москвы и Санкт-Петербурга\n",
    "* Сравним, сколько треков послушала каждая группа пользователей в понедельник, среду и пятницу.\n"
   ]
  },
  {
   "cell_type": "code",
   "execution_count": 18,
   "metadata": {
    "id": "0_Qs96oh_Zcu"
   },
   "outputs": [
    {
     "name": "stdout",
     "output_type": "stream",
     "text": [
      "city\n",
      "Moscow              42741\n",
      "Saint-Petersburg    18512\n",
      "Name: user_id, dtype: int64\n"
     ]
    }
   ],
   "source": [
    "print(df.groupby(\"city\")[\"user_id\"].count()) # Подсчёт прослушиваний в Москве и Петербурге\n"
   ]
  },
  {
   "cell_type": "markdown",
   "metadata": {
    "id": "dzli3w8o_Zcu"
   },
   "source": [
    "В Москве прослушиваний больше, чем в Петербурге. Из этого не следует, что московские пользователи чаще слушают музыку. Просто самих пользователей в Москве больше.\n"
   ]
  },
  {
   "cell_type": "code",
   "execution_count": 19,
   "metadata": {
    "id": "uZMKjiJz_Zcu"
   },
   "outputs": [
    {
     "name": "stdout",
     "output_type": "stream",
     "text": [
      "day\n",
      "Friday       21840\n",
      "Monday       21354\n",
      "Wednesday    18059\n",
      "Name: user_id, dtype: int64\n"
     ]
    }
   ],
   "source": [
    "print(df.groupby(\"day\")[\"user_id\"].count()) # Подсчёт прослушиваний в каждый из трёх дней"
   ]
  },
  {
   "cell_type": "markdown",
   "metadata": {
    "id": "cC2tNrlL_Zcu"
   },
   "source": [
    "В среднем пользователи из двух городов менее активны по средам. Но картина может измениться, если рассмотреть каждый город в отдельности."
   ]
  },
  {
   "cell_type": "code",
   "execution_count": 20,
   "metadata": {
    "id": "Nz3GdQB1_Zcu"
   },
   "outputs": [],
   "source": [
    "# <создание функции number_tracks()>   \n",
    "# Объявляется функция с двумя параметрами: day, city.\n",
    "# В переменной track_list сохраняются те строки таблицы df, для которых \n",
    "# значение в столбце 'day' равно параметру day и одновременно значение\n",
    "# в столбце 'city' равно параметру city (используйте последовательную фильтрацию\n",
    "# с помощью логической индексации).\n",
    "# В переменной track_list_count сохраняется число значений столбца 'user_id',\n",
    "# рассчитанное методом count() для таблицы track_list.\n",
    "# Функция возвращает число - значение track_list_count.\n",
    "\n",
    "def number_tracks(day,city):\n",
    "    track_list = df[(df[\"day\"] == day) & (df[\"city\"] == city)]\n",
    "    track_list_count = track_list[\"user_id\"].count()\n",
    "    return track_list_count\n",
    "# Функция для подсчёта прослушиваний для конкретного города и дня.\n",
    "# С помощью последовательной фильтрации с логической индексацией она \n",
    "# сначала получит из исходной таблицы строки с нужным днём,\n",
    "# затем из результата отфильтрует строки с нужным городом,\n",
    "# методом count() посчитает количество значений в колонке user_id. \n",
    "# Это количество функция вернёт в качестве результата"
   ]
  },
  {
   "cell_type": "markdown",
   "metadata": {
    "id": "ytf7xFrFJQ2r"
   },
   "source": [
    "Вызовем `number_tracks()` шесть раз, меняя значение параметров — так, чтобы получить данные для каждого города в каждый из трёх дней."
   ]
  },
  {
   "cell_type": "code",
   "execution_count": 21,
   "metadata": {
    "id": "rJcRATNQ_Zcu"
   },
   "outputs": [
    {
     "data": {
      "text/plain": [
       "15740"
      ]
     },
     "execution_count": 21,
     "metadata": {},
     "output_type": "execute_result"
    }
   ],
   "source": [
    "number_tracks(\"Monday\", \"Moscow\") # количество прослушиваний в Москве по понедельникам"
   ]
  },
  {
   "cell_type": "code",
   "execution_count": 22,
   "metadata": {
    "id": "hq_ncZ5T_Zcu"
   },
   "outputs": [
    {
     "data": {
      "text/plain": [
       "5614"
      ]
     },
     "execution_count": 22,
     "metadata": {},
     "output_type": "execute_result"
    }
   ],
   "source": [
    "number_tracks(\"Monday\", \"Saint-Petersburg\") # количество прослушиваний в Санкт-Петербурге по понедельникам"
   ]
  },
  {
   "cell_type": "code",
   "execution_count": 23,
   "metadata": {
    "id": "_NTy2VPU_Zcu"
   },
   "outputs": [
    {
     "data": {
      "text/plain": [
       "11056"
      ]
     },
     "execution_count": 23,
     "metadata": {},
     "output_type": "execute_result"
    }
   ],
   "source": [
    "number_tracks(\"Wednesday\", \"Moscow\") # количество прослушиваний в Москве по средам"
   ]
  },
  {
   "cell_type": "code",
   "execution_count": 24,
   "metadata": {
    "id": "j2y3TAwo_Zcu"
   },
   "outputs": [
    {
     "data": {
      "text/plain": [
       "7003"
      ]
     },
     "execution_count": 24,
     "metadata": {},
     "output_type": "execute_result"
    }
   ],
   "source": [
    "number_tracks(\"Wednesday\", \"Saint-Petersburg\") # количество прослушиваний в Санкт-Петербурге по средам"
   ]
  },
  {
   "cell_type": "code",
   "execution_count": 25,
   "metadata": {
    "id": "vYDw5u_K_Zcu"
   },
   "outputs": [
    {
     "data": {
      "text/plain": [
       "15945"
      ]
     },
     "execution_count": 25,
     "metadata": {},
     "output_type": "execute_result"
    }
   ],
   "source": [
    "number_tracks(\"Friday\", \"Moscow\") # количество прослушиваний в Москве по пятницам"
   ]
  },
  {
   "cell_type": "code",
   "execution_count": 26,
   "metadata": {
    "id": "8_yzFtW3_Zcu"
   },
   "outputs": [
    {
     "data": {
      "text/plain": [
       "5895"
      ]
     },
     "execution_count": 26,
     "metadata": {},
     "output_type": "execute_result"
    }
   ],
   "source": [
    "number_tracks(\"Friday\", \"Saint-Petersburg\") # количество прослушиваний в Санкт-Петербурге по пятницам\n"
   ]
  },
  {
   "cell_type": "markdown",
   "metadata": {
    "id": "7QXffbO-_Zcu"
   },
   "source": [
    "Создадим c помощью конструктора `pd.DataFrame` таблицу, где\n",
    "* названия колонок — `['city', 'monday', 'wednesday', 'friday']`;\n",
    "* данные — результаты, которые вы получили с помощью `number_tracks`."
   ]
  },
  {
   "cell_type": "code",
   "execution_count": 27,
   "metadata": {
    "id": "APAcLpOr_Zcu"
   },
   "outputs": [
    {
     "name": "stdout",
     "output_type": "stream",
     "text": [
      "               city  monday  wednesday  friday\n",
      "0            Moscow   15740      11056   15945\n",
      "1  Saint-Petersburg    5614       7003    5895\n"
     ]
    }
   ],
   "source": [
    "data=[[\"Moscow\", 15740, 11056, 15945],\n",
    "      [\"Saint-Petersburg\", 5614, 7003, 5895]]\n",
    "columns=['city', 'monday', 'wednesday', 'friday']\n",
    "table = pd.DataFrame(data=data, columns=columns) # Таблица с результатами\n",
    "print(table)"
   ]
  },
  {
   "cell_type": "markdown",
   "metadata": {
    "id": "-EgPIHYu_Zcu"
   },
   "source": [
    "**Выводы**\n",
    "\n",
    "Данные показывают разницу поведения пользователей:\n",
    "\n",
    "- В Москве пик прослушиваний приходится на понедельник и пятницу, а в среду заметен спад.\n",
    "- В Петербурге, наоборот, больше слушают музыку по средам. Активность в понедельник и пятницу здесь почти в равной мере уступает среде.\n",
    "\n",
    "Значит, данные говорят в пользу первой гипотезы."
   ]
  },
  {
   "cell_type": "markdown",
   "metadata": {
    "id": "atZAxtq4_Zcu"
   },
   "source": [
    "### Музыка в начале и в конце недели"
   ]
  },
  {
   "cell_type": "markdown",
   "metadata": {
    "id": "eXrQqXFH_Zcu"
   },
   "source": [
    "Согласно второй гипотезе, утром в понедельник в Москве преобладают одни жанры, а в Петербурге — другие. Так же и вечером пятницы преобладают разные жанры — в зависимости от города."
   ]
  },
  {
   "cell_type": "markdown",
   "metadata": {
    "id": "S8UcW6Hw_Zcu"
   },
   "source": [
    "Сохраним таблицы с данными в две переменные:\n",
    "* по Москве — в `moscow_general`;\n",
    "* по Санкт-Петербургу — в `spb_general`."
   ]
  },
  {
   "cell_type": "code",
   "execution_count": 28,
   "metadata": {
    "id": "qeaFfM_P_Zcu"
   },
   "outputs": [
    {
     "data": {
      "text/html": [
       "<div>\n",
       "<style scoped>\n",
       "    .dataframe tbody tr th:only-of-type {\n",
       "        vertical-align: middle;\n",
       "    }\n",
       "\n",
       "    .dataframe tbody tr th {\n",
       "        vertical-align: top;\n",
       "    }\n",
       "\n",
       "    .dataframe thead th {\n",
       "        text-align: right;\n",
       "    }\n",
       "</style>\n",
       "<table border=\"1\" class=\"dataframe\">\n",
       "  <thead>\n",
       "    <tr style=\"text-align: right;\">\n",
       "      <th></th>\n",
       "      <th>user_id</th>\n",
       "      <th>track</th>\n",
       "      <th>artist</th>\n",
       "      <th>genre</th>\n",
       "      <th>city</th>\n",
       "      <th>time</th>\n",
       "      <th>day</th>\n",
       "    </tr>\n",
       "  </thead>\n",
       "  <tbody>\n",
       "    <tr>\n",
       "      <td>1</td>\n",
       "      <td>55204538</td>\n",
       "      <td>Delayed Because of Accident</td>\n",
       "      <td>Andreas Rönnberg</td>\n",
       "      <td>rock</td>\n",
       "      <td>Moscow</td>\n",
       "      <td>14:07:09</td>\n",
       "      <td>Friday</td>\n",
       "    </tr>\n",
       "    <tr>\n",
       "      <td>4</td>\n",
       "      <td>E2DC1FAE</td>\n",
       "      <td>Soul People</td>\n",
       "      <td>Space Echo</td>\n",
       "      <td>dance</td>\n",
       "      <td>Moscow</td>\n",
       "      <td>08:34:34</td>\n",
       "      <td>Monday</td>\n",
       "    </tr>\n",
       "    <tr>\n",
       "      <td>6</td>\n",
       "      <td>4CB90AA5</td>\n",
       "      <td>True</td>\n",
       "      <td>Roman Messer</td>\n",
       "      <td>dance</td>\n",
       "      <td>Moscow</td>\n",
       "      <td>13:00:07</td>\n",
       "      <td>Wednesday</td>\n",
       "    </tr>\n",
       "    <tr>\n",
       "      <td>7</td>\n",
       "      <td>F03E1C1F</td>\n",
       "      <td>Feeling This Way</td>\n",
       "      <td>Polina Griffith</td>\n",
       "      <td>dance</td>\n",
       "      <td>Moscow</td>\n",
       "      <td>20:47:49</td>\n",
       "      <td>Wednesday</td>\n",
       "    </tr>\n",
       "    <tr>\n",
       "      <td>8</td>\n",
       "      <td>8FA1D3BE</td>\n",
       "      <td>И вновь продолжается бой</td>\n",
       "      <td>unknown</td>\n",
       "      <td>ruspop</td>\n",
       "      <td>Moscow</td>\n",
       "      <td>09:17:40</td>\n",
       "      <td>Friday</td>\n",
       "    </tr>\n",
       "    <tr>\n",
       "      <td>...</td>\n",
       "      <td>...</td>\n",
       "      <td>...</td>\n",
       "      <td>...</td>\n",
       "      <td>...</td>\n",
       "      <td>...</td>\n",
       "      <td>...</td>\n",
       "      <td>...</td>\n",
       "    </tr>\n",
       "    <tr>\n",
       "      <td>61247</td>\n",
       "      <td>83A474E7</td>\n",
       "      <td>I Worship Only What You Bleed</td>\n",
       "      <td>The Black Dahlia Murder</td>\n",
       "      <td>extrememetal</td>\n",
       "      <td>Moscow</td>\n",
       "      <td>21:07:12</td>\n",
       "      <td>Monday</td>\n",
       "    </tr>\n",
       "    <tr>\n",
       "      <td>61248</td>\n",
       "      <td>729CBB09</td>\n",
       "      <td>My Name</td>\n",
       "      <td>McLean</td>\n",
       "      <td>rnb</td>\n",
       "      <td>Moscow</td>\n",
       "      <td>13:32:28</td>\n",
       "      <td>Wednesday</td>\n",
       "    </tr>\n",
       "    <tr>\n",
       "      <td>61250</td>\n",
       "      <td>C5E3A0D5</td>\n",
       "      <td>Jalopiina</td>\n",
       "      <td>unknown</td>\n",
       "      <td>industrial</td>\n",
       "      <td>Moscow</td>\n",
       "      <td>20:09:26</td>\n",
       "      <td>Friday</td>\n",
       "    </tr>\n",
       "    <tr>\n",
       "      <td>61251</td>\n",
       "      <td>321D0506</td>\n",
       "      <td>Freight Train</td>\n",
       "      <td>Chas McDevitt</td>\n",
       "      <td>rock</td>\n",
       "      <td>Moscow</td>\n",
       "      <td>21:43:59</td>\n",
       "      <td>Friday</td>\n",
       "    </tr>\n",
       "    <tr>\n",
       "      <td>61252</td>\n",
       "      <td>3A64EF84</td>\n",
       "      <td>Tell Me Sweet Little Lies</td>\n",
       "      <td>Monica Lopez</td>\n",
       "      <td>country</td>\n",
       "      <td>Moscow</td>\n",
       "      <td>21:59:46</td>\n",
       "      <td>Friday</td>\n",
       "    </tr>\n",
       "  </tbody>\n",
       "</table>\n",
       "<p>42741 rows × 7 columns</p>\n",
       "</div>"
      ],
      "text/plain": [
       "        user_id                          track                   artist  \\\n",
       "1      55204538    Delayed Because of Accident         Andreas Rönnberg   \n",
       "4      E2DC1FAE                    Soul People               Space Echo   \n",
       "6      4CB90AA5                           True             Roman Messer   \n",
       "7      F03E1C1F               Feeling This Way          Polina Griffith   \n",
       "8      8FA1D3BE       И вновь продолжается бой                  unknown   \n",
       "...         ...                            ...                      ...   \n",
       "61247  83A474E7  I Worship Only What You Bleed  The Black Dahlia Murder   \n",
       "61248  729CBB09                        My Name                   McLean   \n",
       "61250  C5E3A0D5                      Jalopiina                  unknown   \n",
       "61251  321D0506                  Freight Train            Chas McDevitt   \n",
       "61252  3A64EF84      Tell Me Sweet Little Lies             Monica Lopez   \n",
       "\n",
       "              genre    city      time        day  \n",
       "1              rock  Moscow  14:07:09     Friday  \n",
       "4             dance  Moscow  08:34:34     Monday  \n",
       "6             dance  Moscow  13:00:07  Wednesday  \n",
       "7             dance  Moscow  20:47:49  Wednesday  \n",
       "8            ruspop  Moscow  09:17:40     Friday  \n",
       "...             ...     ...       ...        ...  \n",
       "61247  extrememetal  Moscow  21:07:12     Monday  \n",
       "61248           rnb  Moscow  13:32:28  Wednesday  \n",
       "61250    industrial  Moscow  20:09:26     Friday  \n",
       "61251          rock  Moscow  21:43:59     Friday  \n",
       "61252       country  Moscow  21:59:46     Friday  \n",
       "\n",
       "[42741 rows x 7 columns]"
      ]
     },
     "execution_count": 28,
     "metadata": {},
     "output_type": "execute_result"
    }
   ],
   "source": [
    "moscow_general = df[(df[\"city\"] == \"Moscow\")] # получение таблицы moscow_general из тех строк таблицы df, \n",
    "# для которых значение в столбце 'city' равно 'Moscow'\n",
    "moscow_general\n"
   ]
  },
  {
   "cell_type": "code",
   "execution_count": 29,
   "metadata": {
    "id": "ORaVRKto_Zcu"
   },
   "outputs": [
    {
     "data": {
      "text/html": [
       "<div>\n",
       "<style scoped>\n",
       "    .dataframe tbody tr th:only-of-type {\n",
       "        vertical-align: middle;\n",
       "    }\n",
       "\n",
       "    .dataframe tbody tr th {\n",
       "        vertical-align: top;\n",
       "    }\n",
       "\n",
       "    .dataframe thead th {\n",
       "        text-align: right;\n",
       "    }\n",
       "</style>\n",
       "<table border=\"1\" class=\"dataframe\">\n",
       "  <thead>\n",
       "    <tr style=\"text-align: right;\">\n",
       "      <th></th>\n",
       "      <th>user_id</th>\n",
       "      <th>track</th>\n",
       "      <th>artist</th>\n",
       "      <th>genre</th>\n",
       "      <th>city</th>\n",
       "      <th>time</th>\n",
       "      <th>day</th>\n",
       "    </tr>\n",
       "  </thead>\n",
       "  <tbody>\n",
       "    <tr>\n",
       "      <td>0</td>\n",
       "      <td>FFB692EC</td>\n",
       "      <td>Kamigata To Boots</td>\n",
       "      <td>The Mass Missile</td>\n",
       "      <td>rock</td>\n",
       "      <td>Saint-Petersburg</td>\n",
       "      <td>20:28:33</td>\n",
       "      <td>Wednesday</td>\n",
       "    </tr>\n",
       "    <tr>\n",
       "      <td>2</td>\n",
       "      <td>20EC38</td>\n",
       "      <td>Funiculì funiculà</td>\n",
       "      <td>Mario Lanza</td>\n",
       "      <td>pop</td>\n",
       "      <td>Saint-Petersburg</td>\n",
       "      <td>20:58:07</td>\n",
       "      <td>Wednesday</td>\n",
       "    </tr>\n",
       "    <tr>\n",
       "      <td>3</td>\n",
       "      <td>A3DD03C9</td>\n",
       "      <td>Dragons in the Sunset</td>\n",
       "      <td>Fire + Ice</td>\n",
       "      <td>folk</td>\n",
       "      <td>Saint-Petersburg</td>\n",
       "      <td>08:37:09</td>\n",
       "      <td>Monday</td>\n",
       "    </tr>\n",
       "    <tr>\n",
       "      <td>5</td>\n",
       "      <td>842029A1</td>\n",
       "      <td>Преданная</td>\n",
       "      <td>IMPERVTOR</td>\n",
       "      <td>rusrap</td>\n",
       "      <td>Saint-Petersburg</td>\n",
       "      <td>13:09:41</td>\n",
       "      <td>Friday</td>\n",
       "    </tr>\n",
       "    <tr>\n",
       "      <td>9</td>\n",
       "      <td>E772D5C0</td>\n",
       "      <td>Pessimist</td>\n",
       "      <td>unknown</td>\n",
       "      <td>dance</td>\n",
       "      <td>Saint-Petersburg</td>\n",
       "      <td>21:20:49</td>\n",
       "      <td>Wednesday</td>\n",
       "    </tr>\n",
       "    <tr>\n",
       "      <td>...</td>\n",
       "      <td>...</td>\n",
       "      <td>...</td>\n",
       "      <td>...</td>\n",
       "      <td>...</td>\n",
       "      <td>...</td>\n",
       "      <td>...</td>\n",
       "      <td>...</td>\n",
       "    </tr>\n",
       "    <tr>\n",
       "      <td>61239</td>\n",
       "      <td>D94F810B</td>\n",
       "      <td>Theme from the Walking Dead</td>\n",
       "      <td>Proyecto Halloween</td>\n",
       "      <td>film</td>\n",
       "      <td>Saint-Petersburg</td>\n",
       "      <td>21:14:40</td>\n",
       "      <td>Monday</td>\n",
       "    </tr>\n",
       "    <tr>\n",
       "      <td>61240</td>\n",
       "      <td>BC8EC5CF</td>\n",
       "      <td>Red Lips: Gta (Rover Rework)</td>\n",
       "      <td>Rover</td>\n",
       "      <td>electronic</td>\n",
       "      <td>Saint-Petersburg</td>\n",
       "      <td>21:06:50</td>\n",
       "      <td>Monday</td>\n",
       "    </tr>\n",
       "    <tr>\n",
       "      <td>61241</td>\n",
       "      <td>29E04611</td>\n",
       "      <td>Bre Petrunko</td>\n",
       "      <td>Perunika Trio</td>\n",
       "      <td>world</td>\n",
       "      <td>Saint-Petersburg</td>\n",
       "      <td>13:56:00</td>\n",
       "      <td>Monday</td>\n",
       "    </tr>\n",
       "    <tr>\n",
       "      <td>61242</td>\n",
       "      <td>1B91C621</td>\n",
       "      <td>(Hello) Cloud Mountain</td>\n",
       "      <td>sleepmakeswaves</td>\n",
       "      <td>postrock</td>\n",
       "      <td>Saint-Petersburg</td>\n",
       "      <td>09:22:13</td>\n",
       "      <td>Monday</td>\n",
       "    </tr>\n",
       "    <tr>\n",
       "      <td>61249</td>\n",
       "      <td>D08D4A55</td>\n",
       "      <td>Maybe One Day (feat. Black Spade)</td>\n",
       "      <td>Blu &amp; Exile</td>\n",
       "      <td>hiphop</td>\n",
       "      <td>Saint-Petersburg</td>\n",
       "      <td>10:00:00</td>\n",
       "      <td>Monday</td>\n",
       "    </tr>\n",
       "  </tbody>\n",
       "</table>\n",
       "<p>18512 rows × 7 columns</p>\n",
       "</div>"
      ],
      "text/plain": [
       "        user_id                              track              artist  \\\n",
       "0      FFB692EC                  Kamigata To Boots    The Mass Missile   \n",
       "2        20EC38                  Funiculì funiculà         Mario Lanza   \n",
       "3      A3DD03C9              Dragons in the Sunset          Fire + Ice   \n",
       "5      842029A1                          Преданная           IMPERVTOR   \n",
       "9      E772D5C0                          Pessimist             unknown   \n",
       "...         ...                                ...                 ...   \n",
       "61239  D94F810B        Theme from the Walking Dead  Proyecto Halloween   \n",
       "61240  BC8EC5CF       Red Lips: Gta (Rover Rework)               Rover   \n",
       "61241  29E04611                       Bre Petrunko       Perunika Trio   \n",
       "61242  1B91C621             (Hello) Cloud Mountain     sleepmakeswaves   \n",
       "61249  D08D4A55  Maybe One Day (feat. Black Spade)         Blu & Exile   \n",
       "\n",
       "            genre              city      time        day  \n",
       "0            rock  Saint-Petersburg  20:28:33  Wednesday  \n",
       "2             pop  Saint-Petersburg  20:58:07  Wednesday  \n",
       "3            folk  Saint-Petersburg  08:37:09     Monday  \n",
       "5          rusrap  Saint-Petersburg  13:09:41     Friday  \n",
       "9           dance  Saint-Petersburg  21:20:49  Wednesday  \n",
       "...           ...               ...       ...        ...  \n",
       "61239        film  Saint-Petersburg  21:14:40     Monday  \n",
       "61240  electronic  Saint-Petersburg  21:06:50     Monday  \n",
       "61241       world  Saint-Petersburg  13:56:00     Monday  \n",
       "61242    postrock  Saint-Petersburg  09:22:13     Monday  \n",
       "61249      hiphop  Saint-Petersburg  10:00:00     Monday  \n",
       "\n",
       "[18512 rows x 7 columns]"
      ]
     },
     "execution_count": 29,
     "metadata": {},
     "output_type": "execute_result"
    }
   ],
   "source": [
    "spb_general = df[df[\"city\"] == \"Saint-Petersburg\"]# получение таблицы spb_general из тех строк таблицы df,\n",
    "# для которых значение в столбце 'city' равно 'Saint-Petersburg'\n",
    "spb_general\n"
   ]
  },
  {
   "cell_type": "code",
   "execution_count": 30,
   "metadata": {
    "id": "laJT9BYl_Zcu"
   },
   "outputs": [],
   "source": [
    "def genre_weekday(table, day, time1, time2):# Объявление функции genre_weekday() с параметрами table, day, time1, time2,\n",
    "# которая возвращает информацию о самых популярных жанрах в указанный день в\n",
    "# заданное время:\n",
    "# 1) в переменную genre_df сохраняются те строки переданного датафрейма table, для\n",
    "#    которых одновременно:\n",
    "#    - значение в столбце day равно значению аргумента day\n",
    "#    - значение в столбце time больше значения аргумента time1\n",
    "#    - значение в столбце time меньше значения аргумента time2\n",
    "#    Используйте последовательную фильтрацию с помощью логической индексации.\n",
    "    genre_df = table[table[\"day\"]==day]\n",
    "    genre_df = genre_df[genre_df[\"time\"] > time1]\n",
    "    genre_df= genre_df[genre_df[\"time\"] < time2]\n",
    "# 2) сгруппировать датафрейм genre_df по столбцу genre, взять один из его\n",
    "#    столбцов и посчитать методом count() количество записей для каждого из\n",
    "#    присутствующих жанров, получившийся Series записать в переменную\n",
    "#    genre_df_count\n",
    "    genre_df_count = genre_df.groupby(\"genre\")[\"genre\"].count()\n",
    "# 3) отсортировать genre_df_count по убыванию встречаемости и сохранить\n",
    "#    в переменную genre_df_sorted\n",
    "    genre_df_sorted = genre_df_count.sort_values(ascending = False)\n",
    "# 4) вернуть Series из 10 первых значений genre_df_sorted, это будут топ-10\n",
    "#    популярных жанров (в указанный день, в заданное время)\n",
    "    return genre_df_sorted.head(10)\n",
    "\n"
   ]
  },
  {
   "cell_type": "markdown",
   "metadata": {
    "id": "la2s2_PF_Zcu"
   },
   "source": [
    "Cравним результаты функции `genre_weekday()` для Москвы и Санкт-Петербурга в понедельник утром (с 7:00 до 11:00) и в пятницу вечером (с 17:00 до 23:00):"
   ]
  },
  {
   "cell_type": "code",
   "execution_count": 31,
   "metadata": {
    "id": "yz7itPUQ_Zcu"
   },
   "outputs": [
    {
     "data": {
      "text/plain": [
       "genre\n",
       "pop            781\n",
       "dance          549\n",
       "electronic     480\n",
       "rock           474\n",
       "hiphop         286\n",
       "ruspop         186\n",
       "world          181\n",
       "rusrap         175\n",
       "alternative    164\n",
       "unknown        161\n",
       "Name: genre, dtype: int64"
      ]
     },
     "execution_count": 31,
     "metadata": {},
     "output_type": "execute_result"
    }
   ],
   "source": [
    "# вызов функции для утра понедельника в Москве (вместо df — таблица moscow_general)\n",
    "# объекты, хранящие время, являются строками и сравниваются как строки\n",
    "# пример вызова: genre_weekday(moscow_general, 'Monday', '07:00', '11:00')\n",
    "genre_weekday(moscow_general, \"Monday\", \"07:00\", \"11:00\")"
   ]
  },
  {
   "cell_type": "code",
   "execution_count": 32,
   "metadata": {
    "id": "kwUcHPdy_Zcu"
   },
   "outputs": [
    {
     "data": {
      "text/plain": [
       "genre\n",
       "pop            218\n",
       "dance          182\n",
       "rock           162\n",
       "electronic     147\n",
       "hiphop          80\n",
       "ruspop          64\n",
       "alternative     58\n",
       "rusrap          55\n",
       "jazz            44\n",
       "classical       40\n",
       "Name: genre, dtype: int64"
      ]
     },
     "execution_count": 32,
     "metadata": {},
     "output_type": "execute_result"
    }
   ],
   "source": [
    "genre_weekday(spb_general, \"Monday\", \"07:00\", \"11:00\") # вызов функции для утра понедельника в Петербурге (вместо df — таблица spb_general)"
   ]
  },
  {
   "cell_type": "code",
   "execution_count": 33,
   "metadata": {
    "id": "EzXVRE1o_Zcu"
   },
   "outputs": [
    {
     "data": {
      "text/plain": [
       "genre\n",
       "pop            789\n",
       "dance          585\n",
       "rock           509\n",
       "electronic     506\n",
       "hiphop         277\n",
       "ruspop         207\n",
       "classical      201\n",
       "world          174\n",
       "alternative    172\n",
       "rusrap         148\n",
       "Name: genre, dtype: int64"
      ]
     },
     "execution_count": 33,
     "metadata": {},
     "output_type": "execute_result"
    }
   ],
   "source": [
    "genre_weekday(moscow_general, \"Friday\", \"07:00\", \"11:00\") # вызов функции для вечера пятницы в Москве"
   ]
  },
  {
   "cell_type": "code",
   "execution_count": 34,
   "metadata": {
    "id": "JZaEKu5v_Zcu"
   },
   "outputs": [
    {
     "data": {
      "text/plain": [
       "genre\n",
       "pop            211\n",
       "dance          192\n",
       "electronic     167\n",
       "rock           156\n",
       "hiphop         109\n",
       "classical       56\n",
       "alternative     55\n",
       "rusrap          55\n",
       "world           46\n",
       "ruspop          45\n",
       "Name: genre, dtype: int64"
      ]
     },
     "execution_count": 34,
     "metadata": {},
     "output_type": "execute_result"
    }
   ],
   "source": [
    "genre_weekday(spb_general, \"Friday\", \"07:00\", \"11:00\") # вызов функции для вечера пятницы в Петербурге"
   ]
  },
  {
   "cell_type": "markdown",
   "metadata": {
    "id": "wrCe4MNX_Zcu"
   },
   "source": [
    "**Выводы**\n",
    "\n",
    "Если сравнить топ-10 жанров в понедельник утром, можно сделать такие выводы:\n",
    "\n",
    "1. В Москве и Петербурге слушают похожую музыку. Единственное отличие — в московский рейтинг вошёл жанр “world”, а в петербургский — джаз и классика.\n",
    "\n",
    "2. В Москве пропущенных значений оказалось так много, что значение `'unknown'` заняло десятое место среди самых популярных жанров. Значит, пропущенные значения занимают существенную долю в данных и угрожают достоверности исследования.\n",
    "\n",
    "Вечер пятницы не меняет эту картину. Некоторые жанры поднимаются немного выше, другие спускаются, но в целом топ-10 остаётся тем же самым.\n",
    "\n",
    "Таким образом, вторая гипотеза подтвердилась лишь частично:\n",
    "* Пользователи слушают похожую музыку в начале недели и в конце.\n",
    "* Разница между Москвой и Петербургом не слишком выражена. В Москве чаще слушают русскую популярную музыку, в Петербурге — джаз.\n",
    "\n",
    "Однако пропуски в данных ставят под сомнение этот результат. В Москве их так много, что рейтинг топ-10 мог бы выглядеть иначе, если бы не утерянные  данные о жанрах."
   ]
  },
  {
   "cell_type": "markdown",
   "metadata": {
    "id": "JolODAqr_Zcu"
   },
   "source": [
    "### Жанровые предпочтения в Москве и Петербурге\n",
    "\n",
    "Гипотеза: Петербург — столица рэпа, музыку этого жанра там слушают чаще, чем в Москве.  А Москва — город контрастов, в котором, тем не менее, преобладает поп-музыка."
   ]
  },
  {
   "cell_type": "code",
   "execution_count": 35,
   "metadata": {
    "id": "r19lIPke_Zcu"
   },
   "outputs": [],
   "source": [
    "# одной строкой: группировка таблицы moscow_general по столбцу 'genre', \n",
    "# подсчёт числа значений 'genre' в этой группировке методом count(), \n",
    "# сортировка получившегося Series в порядке убывания и сохранение в moscow_genres\n",
    "moscow_genres = moscow_general.groupby(\"genre\")[\"genre\"].count().sort_values(ascending = False)"
   ]
  },
  {
   "cell_type": "code",
   "execution_count": 36,
   "metadata": {
    "id": "WhCSooF8_Zcv"
   },
   "outputs": [
    {
     "data": {
      "text/plain": [
       "genre\n",
       "pop            5892\n",
       "dance          4435\n",
       "rock           3965\n",
       "electronic     3786\n",
       "hiphop         2096\n",
       "classical      1616\n",
       "world          1432\n",
       "alternative    1379\n",
       "ruspop         1372\n",
       "rusrap         1161\n",
       "Name: genre, dtype: int64"
      ]
     },
     "metadata": {},
     "output_type": "display_data"
    }
   ],
   "source": [
    "display(moscow_genres.head(10)) # просмотр первых 10 строк moscow_genres"
   ]
  },
  {
   "cell_type": "code",
   "execution_count": 37,
   "metadata": {
    "id": "gluLIpE7_Zcv"
   },
   "outputs": [],
   "source": [
    "# одной строкой: группировка таблицы spb_general по столбцу 'genre', \n",
    "# подсчёт числа значений 'genre' в этой группировке методом count(), \n",
    "# сортировка получившегося Series в порядке убывания и сохранение в spb_genres\n",
    "spb_generes = spb_general.groupby(\"genre\")[\"genre\"].count().sort_values(ascending = False)"
   ]
  },
  {
   "cell_type": "code",
   "execution_count": 38,
   "metadata": {
    "id": "uaGJHjVU_Zcv"
   },
   "outputs": [
    {
     "data": {
      "text/plain": [
       "genre\n",
       "pop            2431\n",
       "dance          1932\n",
       "rock           1879\n",
       "electronic     1736\n",
       "hiphop          960\n",
       "alternative     649\n",
       "classical       646\n",
       "rusrap          564\n",
       "ruspop          538\n",
       "world           515\n",
       "Name: genre, dtype: int64"
      ]
     },
     "metadata": {},
     "output_type": "display_data"
    }
   ],
   "source": [
    "display(spb_generes.head(10)) # просмотр первых 10 строк spb_genres"
   ]
  },
  {
   "cell_type": "markdown",
   "metadata": {
    "id": "RY51YJYu_Zcv"
   },
   "source": [
    "**Выводы**"
   ]
  },
  {
   "cell_type": "markdown",
   "metadata": {
    "id": "nVhnJEm__Zcv"
   },
   "source": [
    "Гипотеза частично подтвердилась:\n",
    "* Поп-музыка — самый популярный жанр в Москве, как и предполагала гипотеза. Более того, в топ-10 жанров встречается близкий жанр — русская популярная музыка.\n",
    "* Вопреки ожиданиям, рэп одинаково популярен в Москве и Петербурге. \n"
   ]
  },
  {
   "cell_type": "markdown",
   "metadata": {
    "id": "ykKQ0N65_Zcv"
   },
   "source": [
    "## Итоги исследования"
   ]
  },
  {
   "cell_type": "markdown",
   "metadata": {
    "id": "tjUwbHb3_Zcv"
   },
   "source": [
    "Вы проверили три гипотезы и установили:\n",
    "\n",
    "1. День недели по-разному влияет на активность пользователей в Москве и Петербурге. \n",
    "\n",
    "Первая гипотеза полностью подтвердилась.\n",
    "\n",
    "2. Музыкальные предпочтения не сильно меняются в течение недели — будь то Москва или Петербург. Небольшие различия заметны в начале недели, по понедельникам:\n",
    "* в Москве слушают музыку жанра “world”,\n",
    "* в Петербурге — джаз и классику.\n",
    "\n",
    "Таким образом, вторая гипотеза подтвердилась лишь отчасти. Этот результат мог оказаться иным, если бы не пропуски в данных.\n",
    "\n",
    "3. Во вкусах пользователей Москвы и Петербурга больше общего чем различий. Вопреки ожиданиям, предпочтения жанров в Петербурге напоминают московские.\n",
    "\n",
    "Третья гипотеза не подтвердилась. Если различия в предпочтениях и существуют, на основной массе пользователей они незаметны.\n",
    "\n",
    "**На практике исследования содержат проверки статистических гипотез.**\n",
    "Из данных одного сервиса не всегда можно сделать вывод о всех жителях города.\n",
    "Проверки статистических гипотез покажут, насколько они достоверны, исходя из имеющихся данных. \n",
    "С методами проверок гипотез вы ещё познакомитесь в следующих темах."
   ]
  },
  {
   "cell_type": "code",
   "execution_count": null,
   "metadata": {},
   "outputs": [],
   "source": []
  }
 ],
 "metadata": {
  "ExecuteTimeLog": [
   {
    "duration": 366,
    "start_time": "2021-12-23T16:34:35.045Z"
   },
   {
    "duration": 597,
    "start_time": "2021-12-23T16:36:36.862Z"
   },
   {
    "duration": 131,
    "start_time": "2021-12-23T16:36:40.159Z"
   },
   {
    "duration": 7,
    "start_time": "2021-12-23T16:36:43.255Z"
   },
   {
    "duration": 4,
    "start_time": "2021-12-23T16:56:12.708Z"
   },
   {
    "duration": 104,
    "start_time": "2021-12-23T17:00:14.491Z"
   },
   {
    "duration": 31,
    "start_time": "2021-12-23T17:00:51.664Z"
   },
   {
    "duration": 25,
    "start_time": "2021-12-23T17:00:58.317Z"
   },
   {
    "duration": 2,
    "start_time": "2021-12-23T17:02:29.660Z"
   },
   {
    "duration": 124,
    "start_time": "2021-12-23T17:02:32.121Z"
   },
   {
    "duration": 6,
    "start_time": "2021-12-23T17:02:34.693Z"
   },
   {
    "duration": 3,
    "start_time": "2021-12-23T17:02:42.234Z"
   },
   {
    "duration": 26,
    "start_time": "2021-12-23T17:02:51.853Z"
   },
   {
    "duration": 3,
    "start_time": "2021-12-23T17:03:10.475Z"
   },
   {
    "duration": 451,
    "start_time": "2021-12-23T17:06:25.310Z"
   },
   {
    "duration": 542,
    "start_time": "2021-12-23T17:06:32.375Z"
   },
   {
    "duration": 127,
    "start_time": "2021-12-23T17:06:38.746Z"
   },
   {
    "duration": 7,
    "start_time": "2021-12-23T17:06:42.330Z"
   },
   {
    "duration": 4,
    "start_time": "2021-12-23T17:06:54.117Z"
   },
   {
    "duration": 21,
    "start_time": "2021-12-23T17:06:58.325Z"
   },
   {
    "duration": 3,
    "start_time": "2021-12-23T17:07:46.159Z"
   },
   {
    "duration": 21,
    "start_time": "2021-12-23T17:09:36.582Z"
   },
   {
    "duration": 2,
    "start_time": "2021-12-23T17:17:13.455Z"
   },
   {
    "duration": 501,
    "start_time": "2021-12-23T17:18:54.764Z"
   },
   {
    "duration": 17,
    "start_time": "2021-12-23T17:20:07.625Z"
   },
   {
    "duration": 16,
    "start_time": "2021-12-23T17:20:15.682Z"
   },
   {
    "duration": 17,
    "start_time": "2021-12-23T17:20:21.689Z"
   },
   {
    "duration": 16,
    "start_time": "2021-12-23T17:20:27.877Z"
   },
   {
    "duration": 17,
    "start_time": "2021-12-23T17:20:39.468Z"
   },
   {
    "duration": 17,
    "start_time": "2021-12-23T17:21:02.600Z"
   },
   {
    "duration": 3,
    "start_time": "2021-12-23T17:21:08.939Z"
   },
   {
    "duration": 126,
    "start_time": "2021-12-23T17:21:08.945Z"
   },
   {
    "duration": 6,
    "start_time": "2021-12-23T17:21:09.073Z"
   },
   {
    "duration": 5,
    "start_time": "2021-12-23T17:21:09.082Z"
   },
   {
    "duration": 5,
    "start_time": "2021-12-23T17:21:09.089Z"
   },
   {
    "duration": 43,
    "start_time": "2021-12-23T17:21:09.095Z"
   },
   {
    "duration": 4,
    "start_time": "2021-12-23T17:21:09.139Z"
   },
   {
    "duration": 23,
    "start_time": "2021-12-23T17:21:09.144Z"
   },
   {
    "duration": 16,
    "start_time": "2021-12-23T17:21:09.170Z"
   },
   {
    "duration": 2,
    "start_time": "2021-12-23T17:21:09.188Z"
   },
   {
    "duration": 4,
    "start_time": "2021-12-23T17:21:09.192Z"
   },
   {
    "duration": 5,
    "start_time": "2021-12-23T17:21:09.228Z"
   },
   {
    "duration": 4,
    "start_time": "2021-12-23T17:21:09.234Z"
   },
   {
    "duration": 4,
    "start_time": "2021-12-23T17:21:09.239Z"
   },
   {
    "duration": 4,
    "start_time": "2021-12-23T17:21:09.245Z"
   },
   {
    "duration": 7,
    "start_time": "2021-12-23T17:21:09.250Z"
   },
   {
    "duration": 4,
    "start_time": "2021-12-23T17:21:09.258Z"
   },
   {
    "duration": 3,
    "start_time": "2021-12-23T17:21:09.264Z"
   },
   {
    "duration": 4,
    "start_time": "2021-12-23T17:21:09.269Z"
   },
   {
    "duration": 8,
    "start_time": "2021-12-23T17:21:09.274Z"
   },
   {
    "duration": 5,
    "start_time": "2021-12-23T17:21:09.283Z"
   },
   {
    "duration": 5,
    "start_time": "2021-12-23T17:21:09.289Z"
   },
   {
    "duration": 7,
    "start_time": "2021-12-23T17:21:09.295Z"
   },
   {
    "duration": 22,
    "start_time": "2021-12-23T17:21:09.305Z"
   },
   {
    "duration": 4,
    "start_time": "2021-12-23T17:21:09.329Z"
   },
   {
    "duration": 5,
    "start_time": "2021-12-23T17:21:09.334Z"
   },
   {
    "duration": 4,
    "start_time": "2021-12-23T17:21:09.340Z"
   },
   {
    "duration": 4,
    "start_time": "2021-12-23T17:21:09.345Z"
   },
   {
    "duration": 4,
    "start_time": "2021-12-23T17:21:09.350Z"
   },
   {
    "duration": 4,
    "start_time": "2021-12-23T17:21:09.356Z"
   },
   {
    "duration": 6,
    "start_time": "2021-12-23T17:21:09.361Z"
   },
   {
    "duration": 4,
    "start_time": "2021-12-23T17:21:09.368Z"
   },
   {
    "duration": 6,
    "start_time": "2021-12-23T17:21:09.373Z"
   },
   {
    "duration": 5,
    "start_time": "2021-12-23T17:21:09.380Z"
   },
   {
    "duration": 4,
    "start_time": "2021-12-23T17:21:09.386Z"
   },
   {
    "duration": 4,
    "start_time": "2021-12-23T17:21:09.391Z"
   },
   {
    "duration": 31,
    "start_time": "2021-12-23T17:21:09.396Z"
   },
   {
    "duration": 5,
    "start_time": "2021-12-23T17:21:09.429Z"
   },
   {
    "duration": 3,
    "start_time": "2021-12-23T17:21:25.982Z"
   },
   {
    "duration": 2,
    "start_time": "2021-12-23T17:21:38.484Z"
   },
   {
    "duration": 3,
    "start_time": "2021-12-23T17:21:49.772Z"
   },
   {
    "duration": 3,
    "start_time": "2021-12-23T17:21:59.721Z"
   },
   {
    "duration": 2,
    "start_time": "2021-12-23T17:22:10.397Z"
   },
   {
    "duration": 2,
    "start_time": "2021-12-23T17:22:22.398Z"
   },
   {
    "duration": 141,
    "start_time": "2021-12-23T17:22:22.402Z"
   },
   {
    "duration": 7,
    "start_time": "2021-12-23T17:22:22.544Z"
   },
   {
    "duration": 5,
    "start_time": "2021-12-23T17:22:22.553Z"
   },
   {
    "duration": 6,
    "start_time": "2021-12-23T17:22:22.560Z"
   },
   {
    "duration": 22,
    "start_time": "2021-12-23T17:22:22.568Z"
   },
   {
    "duration": 3,
    "start_time": "2021-12-23T17:22:22.592Z"
   },
   {
    "duration": 44,
    "start_time": "2021-12-23T17:22:22.597Z"
   },
   {
    "duration": 17,
    "start_time": "2021-12-23T17:22:22.643Z"
   },
   {
    "duration": 2,
    "start_time": "2021-12-23T17:22:22.661Z"
   },
   {
    "duration": 5,
    "start_time": "2021-12-23T17:22:22.665Z"
   },
   {
    "duration": 4,
    "start_time": "2021-12-23T17:22:22.671Z"
   },
   {
    "duration": 5,
    "start_time": "2021-12-23T17:22:22.676Z"
   },
   {
    "duration": 4,
    "start_time": "2021-12-23T17:22:22.682Z"
   },
   {
    "duration": 4,
    "start_time": "2021-12-23T17:22:22.688Z"
   },
   {
    "duration": 5,
    "start_time": "2021-12-23T17:22:22.693Z"
   },
   {
    "duration": 5,
    "start_time": "2021-12-23T17:22:22.699Z"
   },
   {
    "duration": 2,
    "start_time": "2021-12-23T17:22:22.727Z"
   },
   {
    "duration": 3,
    "start_time": "2021-12-23T17:22:22.732Z"
   },
   {
    "duration": 5,
    "start_time": "2021-12-23T17:22:22.737Z"
   },
   {
    "duration": 5,
    "start_time": "2021-12-23T17:22:22.744Z"
   },
   {
    "duration": 4,
    "start_time": "2021-12-23T17:22:22.751Z"
   },
   {
    "duration": 4,
    "start_time": "2021-12-23T17:22:22.757Z"
   },
   {
    "duration": 5,
    "start_time": "2021-12-23T17:22:22.762Z"
   },
   {
    "duration": 4,
    "start_time": "2021-12-23T17:22:22.768Z"
   },
   {
    "duration": 7,
    "start_time": "2021-12-23T17:22:22.773Z"
   },
   {
    "duration": 5,
    "start_time": "2021-12-23T17:22:22.782Z"
   },
   {
    "duration": 4,
    "start_time": "2021-12-23T17:22:22.788Z"
   },
   {
    "duration": 4,
    "start_time": "2021-12-23T17:22:22.793Z"
   },
   {
    "duration": 5,
    "start_time": "2021-12-23T17:22:22.798Z"
   },
   {
    "duration": 23,
    "start_time": "2021-12-23T17:22:22.804Z"
   },
   {
    "duration": 5,
    "start_time": "2021-12-23T17:22:22.829Z"
   },
   {
    "duration": 7,
    "start_time": "2021-12-23T17:22:22.835Z"
   },
   {
    "duration": 4,
    "start_time": "2021-12-23T17:22:22.843Z"
   },
   {
    "duration": 4,
    "start_time": "2021-12-23T17:22:22.848Z"
   },
   {
    "duration": 4,
    "start_time": "2021-12-23T17:22:22.854Z"
   },
   {
    "duration": 6,
    "start_time": "2021-12-23T17:22:22.859Z"
   },
   {
    "duration": 3,
    "start_time": "2021-12-23T17:22:22.867Z"
   },
   {
    "duration": 3,
    "start_time": "2021-12-23T17:31:24.169Z"
   },
   {
    "duration": 145,
    "start_time": "2021-12-23T17:31:27.712Z"
   },
   {
    "duration": 6,
    "start_time": "2021-12-23T17:31:31.275Z"
   },
   {
    "duration": 4,
    "start_time": "2021-12-23T17:31:37.144Z"
   },
   {
    "duration": 18,
    "start_time": "2021-12-23T17:31:43.059Z"
   },
   {
    "duration": 3,
    "start_time": "2021-12-23T17:31:46.531Z"
   },
   {
    "duration": 21,
    "start_time": "2021-12-23T17:31:52.827Z"
   },
   {
    "duration": 16,
    "start_time": "2021-12-23T17:31:56.323Z"
   },
   {
    "duration": 20,
    "start_time": "2021-12-23T17:32:30.874Z"
   },
   {
    "duration": 51,
    "start_time": "2021-12-23T17:33:12.386Z"
   },
   {
    "duration": 59,
    "start_time": "2021-12-23T17:34:09.306Z"
   },
   {
    "duration": 46,
    "start_time": "2021-12-23T17:34:21.602Z"
   },
   {
    "duration": 6,
    "start_time": "2021-12-23T17:38:50.059Z"
   },
   {
    "duration": 4,
    "start_time": "2021-12-23T17:47:04.444Z"
   },
   {
    "duration": 339,
    "start_time": "2021-12-23T17:50:00.003Z"
   },
   {
    "duration": 371,
    "start_time": "2021-12-23T17:50:21.470Z"
   },
   {
    "duration": 3,
    "start_time": "2021-12-23T17:50:32.623Z"
   },
   {
    "duration": 661,
    "start_time": "2021-12-23T17:50:40.070Z"
   },
   {
    "duration": 568,
    "start_time": "2021-12-23T17:50:48.389Z"
   },
   {
    "duration": 2,
    "start_time": "2021-12-23T17:50:51.609Z"
   },
   {
    "duration": 645,
    "start_time": "2021-12-23T17:51:08.839Z"
   },
   {
    "duration": 5,
    "start_time": "2021-12-23T17:51:21.516Z"
   },
   {
    "duration": 3,
    "start_time": "2021-12-23T17:51:25.091Z"
   },
   {
    "duration": 2,
    "start_time": "2021-12-23T17:51:32.543Z"
   },
   {
    "duration": 2,
    "start_time": "2021-12-23T17:51:38.866Z"
   },
   {
    "duration": 709,
    "start_time": "2021-12-23T17:52:38.388Z"
   },
   {
    "duration": 133,
    "start_time": "2021-12-23T17:52:40.958Z"
   },
   {
    "duration": 6,
    "start_time": "2021-12-23T17:52:44.834Z"
   },
   {
    "duration": 3,
    "start_time": "2021-12-23T17:52:50.014Z"
   },
   {
    "duration": 19,
    "start_time": "2021-12-23T17:52:53.774Z"
   },
   {
    "duration": 3,
    "start_time": "2021-12-23T17:52:56.541Z"
   },
   {
    "duration": 21,
    "start_time": "2021-12-23T17:52:59.798Z"
   },
   {
    "duration": 16,
    "start_time": "2021-12-23T17:53:03.598Z"
   },
   {
    "duration": 20,
    "start_time": "2021-12-23T17:53:06.502Z"
   },
   {
    "duration": 61,
    "start_time": "2021-12-23T17:53:09.893Z"
   },
   {
    "duration": 70,
    "start_time": "2021-12-23T17:53:12.835Z"
   },
   {
    "duration": 48,
    "start_time": "2021-12-23T17:53:16.299Z"
   },
   {
    "duration": 6,
    "start_time": "2021-12-23T17:53:19.163Z"
   },
   {
    "duration": 3,
    "start_time": "2021-12-23T17:53:22.826Z"
   },
   {
    "duration": 685,
    "start_time": "2021-12-23T17:53:27.083Z"
   },
   {
    "duration": 3,
    "start_time": "2021-12-23T17:53:40.938Z"
   },
   {
    "duration": 16,
    "start_time": "2021-12-23T17:53:43.974Z"
   },
   {
    "duration": 3,
    "start_time": "2021-12-23T17:54:18.218Z"
   },
   {
    "duration": 15,
    "start_time": "2021-12-23T17:54:21.961Z"
   },
   {
    "duration": 3,
    "start_time": "2021-12-23T17:54:28.101Z"
   },
   {
    "duration": 549,
    "start_time": "2021-12-23T17:55:17.469Z"
   },
   {
    "duration": 130,
    "start_time": "2021-12-23T17:55:19.975Z"
   },
   {
    "duration": 6,
    "start_time": "2021-12-23T17:55:22.315Z"
   },
   {
    "duration": 3,
    "start_time": "2021-12-23T17:55:31.364Z"
   },
   {
    "duration": 21,
    "start_time": "2021-12-23T17:55:37.386Z"
   },
   {
    "duration": 4,
    "start_time": "2021-12-23T17:55:39.997Z"
   },
   {
    "duration": 22,
    "start_time": "2021-12-23T17:55:42.468Z"
   },
   {
    "duration": 17,
    "start_time": "2021-12-23T17:55:45.920Z"
   },
   {
    "duration": 21,
    "start_time": "2021-12-23T17:55:48.619Z"
   },
   {
    "duration": 55,
    "start_time": "2021-12-23T17:55:51.811Z"
   },
   {
    "duration": 67,
    "start_time": "2021-12-23T17:55:54.147Z"
   },
   {
    "duration": 48,
    "start_time": "2021-12-23T17:55:56.597Z"
   },
   {
    "duration": 6,
    "start_time": "2021-12-23T17:55:59.982Z"
   },
   {
    "duration": 364,
    "start_time": "2021-12-23T17:56:03.913Z"
   },
   {
    "duration": 318,
    "start_time": "2021-12-23T17:57:49.973Z"
   },
   {
    "duration": 664,
    "start_time": "2021-12-23T17:58:20.504Z"
   },
   {
    "duration": 124,
    "start_time": "2021-12-23T17:58:23.306Z"
   },
   {
    "duration": 6,
    "start_time": "2021-12-23T17:58:25.267Z"
   },
   {
    "duration": 4,
    "start_time": "2021-12-23T17:58:29.980Z"
   },
   {
    "duration": 20,
    "start_time": "2021-12-23T17:58:32.392Z"
   },
   {
    "duration": 3,
    "start_time": "2021-12-23T17:58:34.598Z"
   },
   {
    "duration": 21,
    "start_time": "2021-12-23T17:58:53.724Z"
   },
   {
    "duration": 15,
    "start_time": "2021-12-23T17:58:56.569Z"
   },
   {
    "duration": 21,
    "start_time": "2021-12-23T17:58:58.666Z"
   },
   {
    "duration": 57,
    "start_time": "2021-12-23T17:59:01.366Z"
   },
   {
    "duration": 64,
    "start_time": "2021-12-23T17:59:03.925Z"
   },
   {
    "duration": 48,
    "start_time": "2021-12-23T17:59:06.582Z"
   },
   {
    "duration": 6,
    "start_time": "2021-12-23T17:59:10.342Z"
   },
   {
    "duration": 4,
    "start_time": "2021-12-23T17:59:13.440Z"
   },
   {
    "duration": 20,
    "start_time": "2021-12-23T17:59:15.621Z"
   },
   {
    "duration": 3,
    "start_time": "2021-12-23T17:59:18.484Z"
   },
   {
    "duration": 110,
    "start_time": "2021-12-23T18:03:42.771Z"
   },
   {
    "duration": 418,
    "start_time": "2021-12-23T18:05:00.231Z"
   },
   {
    "duration": 332,
    "start_time": "2021-12-23T18:05:08.787Z"
   },
   {
    "duration": 380,
    "start_time": "2021-12-23T18:05:14.649Z"
   },
   {
    "duration": 362,
    "start_time": "2021-12-23T18:05:19.494Z"
   },
   {
    "duration": 330,
    "start_time": "2021-12-23T18:05:21.592Z"
   },
   {
    "duration": 343,
    "start_time": "2021-12-23T18:05:23.902Z"
   },
   {
    "duration": 316,
    "start_time": "2021-12-23T18:05:26.064Z"
   },
   {
    "duration": 317,
    "start_time": "2021-12-23T18:05:29.063Z"
   },
   {
    "duration": 346,
    "start_time": "2021-12-23T18:05:30.820Z"
   },
   {
    "duration": 309,
    "start_time": "2021-12-23T18:05:32.294Z"
   },
   {
    "duration": 316,
    "start_time": "2021-12-23T18:05:33.833Z"
   },
   {
    "duration": 325,
    "start_time": "2021-12-23T18:05:35.410Z"
   },
   {
    "duration": 302,
    "start_time": "2021-12-23T18:05:37.411Z"
   },
   {
    "duration": 451,
    "start_time": "2021-12-23T18:05:38.887Z"
   },
   {
    "duration": 361,
    "start_time": "2021-12-23T18:05:40.625Z"
   },
   {
    "duration": 326,
    "start_time": "2021-12-23T18:05:42.496Z"
   },
   {
    "duration": 340,
    "start_time": "2021-12-23T18:05:46.732Z"
   },
   {
    "duration": 603,
    "start_time": "2021-12-23T18:12:10.439Z"
   },
   {
    "duration": 122,
    "start_time": "2021-12-23T18:12:11.044Z"
   },
   {
    "duration": 7,
    "start_time": "2021-12-23T18:12:11.168Z"
   },
   {
    "duration": 5,
    "start_time": "2021-12-23T18:12:11.176Z"
   },
   {
    "duration": 5,
    "start_time": "2021-12-23T18:12:11.182Z"
   },
   {
    "duration": 20,
    "start_time": "2021-12-23T18:12:11.189Z"
   },
   {
    "duration": 17,
    "start_time": "2021-12-23T18:12:11.211Z"
   },
   {
    "duration": 22,
    "start_time": "2021-12-23T18:12:11.230Z"
   },
   {
    "duration": 16,
    "start_time": "2021-12-23T18:12:11.254Z"
   },
   {
    "duration": 19,
    "start_time": "2021-12-23T18:12:11.271Z"
   },
   {
    "duration": 73,
    "start_time": "2021-12-23T18:12:11.292Z"
   },
   {
    "duration": 71,
    "start_time": "2021-12-23T18:12:11.366Z"
   },
   {
    "duration": 44,
    "start_time": "2021-12-23T18:12:11.438Z"
   },
   {
    "duration": 5,
    "start_time": "2021-12-23T18:12:11.484Z"
   },
   {
    "duration": 15,
    "start_time": "2021-12-23T18:12:11.490Z"
   },
   {
    "duration": 31,
    "start_time": "2021-12-23T18:12:11.506Z"
   },
   {
    "duration": 5,
    "start_time": "2021-12-23T18:12:11.538Z"
   },
   {
    "duration": 382,
    "start_time": "2021-12-23T18:12:11.545Z"
   },
   {
    "duration": 193,
    "start_time": "2021-12-23T18:12:11.737Z"
   },
   {
    "duration": 186,
    "start_time": "2021-12-23T18:12:11.744Z"
   },
   {
    "duration": 173,
    "start_time": "2021-12-23T18:12:11.758Z"
   },
   {
    "duration": 168,
    "start_time": "2021-12-23T18:12:11.764Z"
   },
   {
    "duration": 164,
    "start_time": "2021-12-23T18:12:11.769Z"
   },
   {
    "duration": 158,
    "start_time": "2021-12-23T18:12:11.776Z"
   },
   {
    "duration": 153,
    "start_time": "2021-12-23T18:12:11.782Z"
   },
   {
    "duration": 149,
    "start_time": "2021-12-23T18:12:11.787Z"
   },
   {
    "duration": 144,
    "start_time": "2021-12-23T18:12:11.793Z"
   },
   {
    "duration": 137,
    "start_time": "2021-12-23T18:12:11.800Z"
   },
   {
    "duration": 131,
    "start_time": "2021-12-23T18:12:11.807Z"
   },
   {
    "duration": 126,
    "start_time": "2021-12-23T18:12:11.813Z"
   },
   {
    "duration": 122,
    "start_time": "2021-12-23T18:12:11.818Z"
   },
   {
    "duration": 115,
    "start_time": "2021-12-23T18:12:11.825Z"
   },
   {
    "duration": 111,
    "start_time": "2021-12-23T18:12:11.830Z"
   },
   {
    "duration": 107,
    "start_time": "2021-12-23T18:12:11.835Z"
   },
   {
    "duration": 102,
    "start_time": "2021-12-23T18:12:11.841Z"
   },
   {
    "duration": 97,
    "start_time": "2021-12-23T18:12:11.847Z"
   },
   {
    "duration": 93,
    "start_time": "2021-12-23T18:12:11.852Z"
   },
   {
    "duration": 78,
    "start_time": "2021-12-23T18:12:11.868Z"
   },
   {
    "duration": 901,
    "start_time": "2021-12-23T18:14:06.882Z"
   },
   {
    "duration": 606,
    "start_time": "2021-12-23T18:14:21.299Z"
   },
   {
    "duration": 121,
    "start_time": "2021-12-23T18:14:21.906Z"
   },
   {
    "duration": 6,
    "start_time": "2021-12-23T18:14:22.029Z"
   },
   {
    "duration": 5,
    "start_time": "2021-12-23T18:14:22.037Z"
   },
   {
    "duration": 6,
    "start_time": "2021-12-23T18:14:22.043Z"
   },
   {
    "duration": 19,
    "start_time": "2021-12-23T18:14:22.051Z"
   },
   {
    "duration": 3,
    "start_time": "2021-12-23T18:14:22.072Z"
   },
   {
    "duration": 21,
    "start_time": "2021-12-23T18:14:22.078Z"
   },
   {
    "duration": 15,
    "start_time": "2021-12-23T18:14:22.128Z"
   },
   {
    "duration": 21,
    "start_time": "2021-12-23T18:14:22.144Z"
   },
   {
    "duration": 67,
    "start_time": "2021-12-23T18:14:22.166Z"
   },
   {
    "duration": 55,
    "start_time": "2021-12-23T18:14:22.235Z"
   },
   {
    "duration": 54,
    "start_time": "2021-12-23T18:14:22.292Z"
   },
   {
    "duration": 6,
    "start_time": "2021-12-23T18:14:22.348Z"
   },
   {
    "duration": 16,
    "start_time": "2021-12-23T18:14:22.355Z"
   },
   {
    "duration": 14,
    "start_time": "2021-12-23T18:14:22.373Z"
   },
   {
    "duration": 10,
    "start_time": "2021-12-23T18:14:22.388Z"
   },
   {
    "duration": 399,
    "start_time": "2021-12-23T18:14:22.400Z"
   },
   {
    "duration": 195,
    "start_time": "2021-12-23T18:14:22.607Z"
   },
   {
    "duration": 188,
    "start_time": "2021-12-23T18:14:22.615Z"
   },
   {
    "duration": 185,
    "start_time": "2021-12-23T18:14:22.619Z"
   },
   {
    "duration": 181,
    "start_time": "2021-12-23T18:14:22.624Z"
   },
   {
    "duration": 177,
    "start_time": "2021-12-23T18:14:22.629Z"
   },
   {
    "duration": 172,
    "start_time": "2021-12-23T18:14:22.635Z"
   },
   {
    "duration": 169,
    "start_time": "2021-12-23T18:14:22.639Z"
   },
   {
    "duration": 164,
    "start_time": "2021-12-23T18:14:22.645Z"
   },
   {
    "duration": 159,
    "start_time": "2021-12-23T18:14:22.650Z"
   },
   {
    "duration": 154,
    "start_time": "2021-12-23T18:14:22.656Z"
   },
   {
    "duration": 150,
    "start_time": "2021-12-23T18:14:22.661Z"
   },
   {
    "duration": 146,
    "start_time": "2021-12-23T18:14:22.666Z"
   },
   {
    "duration": 142,
    "start_time": "2021-12-23T18:14:22.671Z"
   },
   {
    "duration": 137,
    "start_time": "2021-12-23T18:14:22.677Z"
   },
   {
    "duration": 134,
    "start_time": "2021-12-23T18:14:22.681Z"
   },
   {
    "duration": 129,
    "start_time": "2021-12-23T18:14:22.687Z"
   },
   {
    "duration": 126,
    "start_time": "2021-12-23T18:14:22.691Z"
   },
   {
    "duration": 121,
    "start_time": "2021-12-23T18:14:22.697Z"
   },
   {
    "duration": 117,
    "start_time": "2021-12-23T18:14:22.702Z"
   },
   {
    "duration": 101,
    "start_time": "2021-12-23T18:14:22.719Z"
   },
   {
    "duration": 346,
    "start_time": "2021-12-23T18:21:31.264Z"
   },
   {
    "duration": 191,
    "start_time": "2021-12-23T18:21:55.242Z"
   },
   {
    "duration": 606,
    "start_time": "2021-12-23T18:22:01.428Z"
   },
   {
    "duration": 130,
    "start_time": "2021-12-23T18:22:02.036Z"
   },
   {
    "duration": 7,
    "start_time": "2021-12-23T18:22:02.168Z"
   },
   {
    "duration": 5,
    "start_time": "2021-12-23T18:22:02.177Z"
   },
   {
    "duration": 6,
    "start_time": "2021-12-23T18:22:02.184Z"
   },
   {
    "duration": 28,
    "start_time": "2021-12-23T18:22:02.191Z"
   },
   {
    "duration": 3,
    "start_time": "2021-12-23T18:22:02.221Z"
   },
   {
    "duration": 23,
    "start_time": "2021-12-23T18:22:02.226Z"
   },
   {
    "duration": 17,
    "start_time": "2021-12-23T18:22:02.252Z"
   },
   {
    "duration": 31,
    "start_time": "2021-12-23T18:22:02.271Z"
   },
   {
    "duration": 76,
    "start_time": "2021-12-23T18:22:02.304Z"
   },
   {
    "duration": 74,
    "start_time": "2021-12-23T18:22:02.382Z"
   },
   {
    "duration": 49,
    "start_time": "2021-12-23T18:22:02.457Z"
   },
   {
    "duration": 19,
    "start_time": "2021-12-23T18:22:02.508Z"
   },
   {
    "duration": 17,
    "start_time": "2021-12-23T18:22:02.529Z"
   },
   {
    "duration": 16,
    "start_time": "2021-12-23T18:22:02.548Z"
   },
   {
    "duration": 7,
    "start_time": "2021-12-23T18:22:02.565Z"
   },
   {
    "duration": 9438,
    "start_time": "2021-12-23T18:22:02.574Z"
   },
   {
    "duration": 174,
    "start_time": "2021-12-23T18:22:11.841Z"
   },
   {
    "duration": 167,
    "start_time": "2021-12-23T18:22:11.849Z"
   },
   {
    "duration": 159,
    "start_time": "2021-12-23T18:22:11.857Z"
   },
   {
    "duration": 153,
    "start_time": "2021-12-23T18:22:11.864Z"
   },
   {
    "duration": 147,
    "start_time": "2021-12-23T18:22:11.871Z"
   },
   {
    "duration": 142,
    "start_time": "2021-12-23T18:22:11.877Z"
   },
   {
    "duration": 134,
    "start_time": "2021-12-23T18:22:11.886Z"
   },
   {
    "duration": 128,
    "start_time": "2021-12-23T18:22:11.893Z"
   },
   {
    "duration": 122,
    "start_time": "2021-12-23T18:22:11.900Z"
   },
   {
    "duration": 116,
    "start_time": "2021-12-23T18:22:11.906Z"
   },
   {
    "duration": 109,
    "start_time": "2021-12-23T18:22:11.914Z"
   },
   {
    "duration": 104,
    "start_time": "2021-12-23T18:22:11.920Z"
   },
   {
    "duration": 100,
    "start_time": "2021-12-23T18:22:11.926Z"
   },
   {
    "duration": 95,
    "start_time": "2021-12-23T18:22:11.931Z"
   },
   {
    "duration": 81,
    "start_time": "2021-12-23T18:22:11.946Z"
   },
   {
    "duration": 76,
    "start_time": "2021-12-23T18:22:11.952Z"
   },
   {
    "duration": 70,
    "start_time": "2021-12-23T18:22:11.959Z"
   },
   {
    "duration": 66,
    "start_time": "2021-12-23T18:22:11.964Z"
   },
   {
    "duration": 61,
    "start_time": "2021-12-23T18:22:11.970Z"
   },
   {
    "duration": 57,
    "start_time": "2021-12-23T18:22:11.975Z"
   },
   {
    "duration": 207,
    "start_time": "2021-12-23T18:22:22.535Z"
   },
   {
    "duration": 209,
    "start_time": "2021-12-23T18:22:35.706Z"
   },
   {
    "duration": 205,
    "start_time": "2021-12-23T18:25:08.333Z"
   },
   {
    "duration": 389,
    "start_time": "2021-12-23T18:25:23.859Z"
   },
   {
    "duration": 586,
    "start_time": "2021-12-23T18:25:40.956Z"
   },
   {
    "duration": 141,
    "start_time": "2021-12-23T18:25:41.544Z"
   },
   {
    "duration": 6,
    "start_time": "2021-12-23T18:25:41.689Z"
   },
   {
    "duration": 7,
    "start_time": "2021-12-23T18:25:41.697Z"
   },
   {
    "duration": 8,
    "start_time": "2021-12-23T18:25:41.706Z"
   },
   {
    "duration": 25,
    "start_time": "2021-12-23T18:25:41.716Z"
   },
   {
    "duration": 3,
    "start_time": "2021-12-23T18:25:41.743Z"
   },
   {
    "duration": 21,
    "start_time": "2021-12-23T18:25:41.748Z"
   },
   {
    "duration": 18,
    "start_time": "2021-12-23T18:25:41.771Z"
   },
   {
    "duration": 45,
    "start_time": "2021-12-23T18:25:41.790Z"
   },
   {
    "duration": 53,
    "start_time": "2021-12-23T18:25:41.837Z"
   },
   {
    "duration": 86,
    "start_time": "2021-12-23T18:25:41.891Z"
   },
   {
    "duration": 51,
    "start_time": "2021-12-23T18:25:41.979Z"
   },
   {
    "duration": 5,
    "start_time": "2021-12-23T18:25:42.032Z"
   },
   {
    "duration": 21,
    "start_time": "2021-12-23T18:25:42.039Z"
   },
   {
    "duration": 14,
    "start_time": "2021-12-23T18:25:42.062Z"
   },
   {
    "duration": 8,
    "start_time": "2021-12-23T18:25:42.077Z"
   },
   {
    "duration": 9131,
    "start_time": "2021-12-23T18:25:42.087Z"
   },
   {
    "duration": 167,
    "start_time": "2021-12-23T18:25:51.053Z"
   },
   {
    "duration": 146,
    "start_time": "2021-12-23T18:25:51.075Z"
   },
   {
    "duration": 135,
    "start_time": "2021-12-23T18:25:51.087Z"
   },
   {
    "duration": 124,
    "start_time": "2021-12-23T18:25:51.099Z"
   },
   {
    "duration": 117,
    "start_time": "2021-12-23T18:25:51.107Z"
   },
   {
    "duration": 83,
    "start_time": "2021-12-23T18:25:51.141Z"
   },
   {
    "duration": 76,
    "start_time": "2021-12-23T18:25:51.149Z"
   },
   {
    "duration": 72,
    "start_time": "2021-12-23T18:25:51.155Z"
   },
   {
    "duration": 67,
    "start_time": "2021-12-23T18:25:51.160Z"
   },
   {
    "duration": 61,
    "start_time": "2021-12-23T18:25:51.167Z"
   },
   {
    "duration": 57,
    "start_time": "2021-12-23T18:25:51.172Z"
   },
   {
    "duration": 52,
    "start_time": "2021-12-23T18:25:51.178Z"
   },
   {
    "duration": 49,
    "start_time": "2021-12-23T18:25:51.183Z"
   },
   {
    "duration": 43,
    "start_time": "2021-12-23T18:25:51.189Z"
   },
   {
    "duration": 36,
    "start_time": "2021-12-23T18:25:51.197Z"
   },
   {
    "duration": 31,
    "start_time": "2021-12-23T18:25:51.203Z"
   },
   {
    "duration": 27,
    "start_time": "2021-12-23T18:25:51.208Z"
   },
   {
    "duration": 23,
    "start_time": "2021-12-23T18:25:51.214Z"
   },
   {
    "duration": 19,
    "start_time": "2021-12-23T18:25:51.219Z"
   },
   {
    "duration": 14,
    "start_time": "2021-12-23T18:25:51.225Z"
   },
   {
    "duration": 57,
    "start_time": "2021-12-24T17:23:41.082Z"
   },
   {
    "duration": 204,
    "start_time": "2021-12-24T17:24:30.279Z"
   },
   {
    "duration": 576,
    "start_time": "2021-12-24T17:24:43.133Z"
   },
   {
    "duration": 143,
    "start_time": "2021-12-24T17:24:43.711Z"
   },
   {
    "duration": 7,
    "start_time": "2021-12-24T17:24:43.856Z"
   },
   {
    "duration": 24,
    "start_time": "2021-12-24T17:24:43.865Z"
   },
   {
    "duration": 9,
    "start_time": "2021-12-24T17:24:43.892Z"
   },
   {
    "duration": 45,
    "start_time": "2021-12-24T17:24:43.904Z"
   },
   {
    "duration": 12,
    "start_time": "2021-12-24T17:24:43.951Z"
   },
   {
    "duration": 58,
    "start_time": "2021-12-24T17:24:43.966Z"
   },
   {
    "duration": 28,
    "start_time": "2021-12-24T17:24:44.026Z"
   },
   {
    "duration": 27,
    "start_time": "2021-12-24T17:24:44.056Z"
   },
   {
    "duration": 77,
    "start_time": "2021-12-24T17:24:44.084Z"
   },
   {
    "duration": 82,
    "start_time": "2021-12-24T17:24:44.163Z"
   },
   {
    "duration": 63,
    "start_time": "2021-12-24T17:24:44.247Z"
   },
   {
    "duration": 6,
    "start_time": "2021-12-24T17:24:44.312Z"
   },
   {
    "duration": 40,
    "start_time": "2021-12-24T17:24:44.320Z"
   },
   {
    "duration": 50,
    "start_time": "2021-12-24T17:24:44.362Z"
   },
   {
    "duration": 6,
    "start_time": "2021-12-24T17:24:44.413Z"
   },
   {
    "duration": 266,
    "start_time": "2021-12-24T17:24:44.420Z"
   },
   {
    "duration": -15,
    "start_time": "2021-12-24T17:24:44.703Z"
   },
   {
    "duration": -20,
    "start_time": "2021-12-24T17:24:44.710Z"
   },
   {
    "duration": -28,
    "start_time": "2021-12-24T17:24:44.719Z"
   },
   {
    "duration": -34,
    "start_time": "2021-12-24T17:24:44.727Z"
   },
   {
    "duration": -41,
    "start_time": "2021-12-24T17:24:44.736Z"
   },
   {
    "duration": -47,
    "start_time": "2021-12-24T17:24:44.744Z"
   },
   {
    "duration": -56,
    "start_time": "2021-12-24T17:24:44.754Z"
   },
   {
    "duration": -97,
    "start_time": "2021-12-24T17:24:44.797Z"
   },
   {
    "duration": -107,
    "start_time": "2021-12-24T17:24:44.809Z"
   },
   {
    "duration": -113,
    "start_time": "2021-12-24T17:24:44.817Z"
   },
   {
    "duration": -122,
    "start_time": "2021-12-24T17:24:44.828Z"
   },
   {
    "duration": -129,
    "start_time": "2021-12-24T17:24:44.837Z"
   },
   {
    "duration": -139,
    "start_time": "2021-12-24T17:24:44.848Z"
   },
   {
    "duration": -147,
    "start_time": "2021-12-24T17:24:44.858Z"
   },
   {
    "duration": -156,
    "start_time": "2021-12-24T17:24:44.868Z"
   },
   {
    "duration": -164,
    "start_time": "2021-12-24T17:24:44.878Z"
   },
   {
    "duration": -172,
    "start_time": "2021-12-24T17:24:44.888Z"
   },
   {
    "duration": -191,
    "start_time": "2021-12-24T17:24:44.908Z"
   },
   {
    "duration": -197,
    "start_time": "2021-12-24T17:24:44.916Z"
   },
   {
    "duration": -206,
    "start_time": "2021-12-24T17:24:44.926Z"
   },
   {
    "duration": 186,
    "start_time": "2021-12-24T17:26:33.997Z"
   },
   {
    "duration": 182,
    "start_time": "2021-12-24T17:26:43.336Z"
   },
   {
    "duration": 11,
    "start_time": "2021-12-24T17:27:28.057Z"
   },
   {
    "duration": 562,
    "start_time": "2021-12-24T17:27:44.238Z"
   },
   {
    "duration": 145,
    "start_time": "2021-12-24T17:27:44.802Z"
   },
   {
    "duration": 7,
    "start_time": "2021-12-24T17:27:44.949Z"
   },
   {
    "duration": 5,
    "start_time": "2021-12-24T17:27:44.957Z"
   },
   {
    "duration": 5,
    "start_time": "2021-12-24T17:27:44.964Z"
   },
   {
    "duration": 44,
    "start_time": "2021-12-24T17:27:44.971Z"
   },
   {
    "duration": 8,
    "start_time": "2021-12-24T17:27:45.017Z"
   },
   {
    "duration": 24,
    "start_time": "2021-12-24T17:27:45.028Z"
   },
   {
    "duration": 17,
    "start_time": "2021-12-24T17:27:45.054Z"
   },
   {
    "duration": 47,
    "start_time": "2021-12-24T17:27:45.073Z"
   },
   {
    "duration": 57,
    "start_time": "2021-12-24T17:27:45.122Z"
   },
   {
    "duration": 76,
    "start_time": "2021-12-24T17:27:45.181Z"
   },
   {
    "duration": 75,
    "start_time": "2021-12-24T17:27:45.259Z"
   },
   {
    "duration": 6,
    "start_time": "2021-12-24T17:27:45.335Z"
   },
   {
    "duration": 15,
    "start_time": "2021-12-24T17:27:45.343Z"
   },
   {
    "duration": 32,
    "start_time": "2021-12-24T17:27:45.360Z"
   },
   {
    "duration": 12,
    "start_time": "2021-12-24T17:27:45.395Z"
   },
   {
    "duration": 11,
    "start_time": "2021-12-24T17:27:45.409Z"
   },
   {
    "duration": 2,
    "start_time": "2021-12-24T17:27:45.421Z"
   },
   {
    "duration": 6,
    "start_time": "2021-12-24T17:27:45.425Z"
   },
   {
    "duration": 4,
    "start_time": "2021-12-24T17:27:45.433Z"
   },
   {
    "duration": 4,
    "start_time": "2021-12-24T17:27:45.438Z"
   },
   {
    "duration": 3,
    "start_time": "2021-12-24T17:27:45.445Z"
   },
   {
    "duration": 5,
    "start_time": "2021-12-24T17:27:45.449Z"
   },
   {
    "duration": 6,
    "start_time": "2021-12-24T17:27:45.455Z"
   },
   {
    "duration": 3,
    "start_time": "2021-12-24T17:27:45.492Z"
   },
   {
    "duration": 6,
    "start_time": "2021-12-24T17:27:45.497Z"
   },
   {
    "duration": 9,
    "start_time": "2021-12-24T17:27:45.505Z"
   },
   {
    "duration": 7,
    "start_time": "2021-12-24T17:27:45.515Z"
   },
   {
    "duration": 5,
    "start_time": "2021-12-24T17:27:45.524Z"
   },
   {
    "duration": 9,
    "start_time": "2021-12-24T17:27:45.531Z"
   },
   {
    "duration": 5,
    "start_time": "2021-12-24T17:27:45.541Z"
   },
   {
    "duration": 6,
    "start_time": "2021-12-24T17:27:45.548Z"
   },
   {
    "duration": 4,
    "start_time": "2021-12-24T17:27:45.556Z"
   },
   {
    "duration": 5,
    "start_time": "2021-12-24T17:27:45.561Z"
   },
   {
    "duration": 5,
    "start_time": "2021-12-24T17:27:45.567Z"
   },
   {
    "duration": 18,
    "start_time": "2021-12-24T17:27:45.574Z"
   },
   {
    "duration": 7,
    "start_time": "2021-12-24T17:27:45.594Z"
   },
   {
    "duration": 10,
    "start_time": "2021-12-24T17:31:42.928Z"
   },
   {
    "duration": 3,
    "start_time": "2021-12-24T17:45:59.183Z"
   },
   {
    "duration": 3,
    "start_time": "2021-12-24T17:46:04.802Z"
   },
   {
    "duration": 542,
    "start_time": "2021-12-24T17:46:11.953Z"
   },
   {
    "duration": 163,
    "start_time": "2021-12-24T17:46:12.497Z"
   },
   {
    "duration": 8,
    "start_time": "2021-12-24T17:46:12.664Z"
   },
   {
    "duration": 27,
    "start_time": "2021-12-24T17:46:12.674Z"
   },
   {
    "duration": 29,
    "start_time": "2021-12-24T17:46:12.704Z"
   },
   {
    "duration": 43,
    "start_time": "2021-12-24T17:46:12.735Z"
   },
   {
    "duration": 17,
    "start_time": "2021-12-24T17:46:12.781Z"
   },
   {
    "duration": 36,
    "start_time": "2021-12-24T17:46:12.801Z"
   },
   {
    "duration": 24,
    "start_time": "2021-12-24T17:46:12.839Z"
   },
   {
    "duration": 34,
    "start_time": "2021-12-24T17:46:12.865Z"
   },
   {
    "duration": 75,
    "start_time": "2021-12-24T17:46:12.902Z"
   },
   {
    "duration": 73,
    "start_time": "2021-12-24T17:46:12.979Z"
   },
   {
    "duration": 79,
    "start_time": "2021-12-24T17:46:13.053Z"
   },
   {
    "duration": 7,
    "start_time": "2021-12-24T17:46:13.134Z"
   },
   {
    "duration": 23,
    "start_time": "2021-12-24T17:46:13.143Z"
   },
   {
    "duration": 31,
    "start_time": "2021-12-24T17:46:13.168Z"
   },
   {
    "duration": 12,
    "start_time": "2021-12-24T17:46:13.202Z"
   },
   {
    "duration": 23,
    "start_time": "2021-12-24T17:46:13.215Z"
   },
   {
    "duration": 23,
    "start_time": "2021-12-24T17:46:13.240Z"
   },
   {
    "duration": 31,
    "start_time": "2021-12-24T17:46:13.265Z"
   },
   {
    "duration": 16,
    "start_time": "2021-12-24T17:46:13.298Z"
   },
   {
    "duration": 26,
    "start_time": "2021-12-24T17:46:13.318Z"
   },
   {
    "duration": 19,
    "start_time": "2021-12-24T17:46:13.346Z"
   },
   {
    "duration": 7,
    "start_time": "2021-12-24T17:46:13.367Z"
   },
   {
    "duration": 27,
    "start_time": "2021-12-24T17:46:13.376Z"
   },
   {
    "duration": 11,
    "start_time": "2021-12-24T17:46:13.405Z"
   },
   {
    "duration": 12,
    "start_time": "2021-12-24T17:46:13.418Z"
   },
   {
    "duration": 17,
    "start_time": "2021-12-24T17:46:13.432Z"
   },
   {
    "duration": 23,
    "start_time": "2021-12-24T17:46:13.451Z"
   },
   {
    "duration": 23,
    "start_time": "2021-12-24T17:46:13.475Z"
   },
   {
    "duration": 86,
    "start_time": "2021-12-24T17:46:13.500Z"
   },
   {
    "duration": 22,
    "start_time": "2021-12-24T17:46:13.588Z"
   },
   {
    "duration": 22,
    "start_time": "2021-12-24T17:46:13.611Z"
   },
   {
    "duration": 26,
    "start_time": "2021-12-24T17:46:13.636Z"
   },
   {
    "duration": 24,
    "start_time": "2021-12-24T17:46:13.664Z"
   },
   {
    "duration": 20,
    "start_time": "2021-12-24T17:46:13.690Z"
   },
   {
    "duration": 24,
    "start_time": "2021-12-24T17:46:13.712Z"
   },
   {
    "duration": 14,
    "start_time": "2021-12-24T17:46:13.738Z"
   },
   {
    "duration": 298,
    "start_time": "2021-12-24T17:55:38.400Z"
   },
   {
    "duration": 171,
    "start_time": "2021-12-24T18:01:36.397Z"
   },
   {
    "duration": 63,
    "start_time": "2021-12-24T18:04:06.743Z"
   },
   {
    "duration": 4460,
    "start_time": "2021-12-24T18:04:13.902Z"
   },
   {
    "duration": 179,
    "start_time": "2021-12-24T18:04:35.773Z"
   },
   {
    "duration": 29,
    "start_time": "2021-12-24T18:12:49.489Z"
   },
   {
    "duration": 24,
    "start_time": "2021-12-24T18:13:10.112Z"
   },
   {
    "duration": 28,
    "start_time": "2021-12-24T18:16:49.609Z"
   },
   {
    "duration": 581,
    "start_time": "2021-12-24T18:16:58.456Z"
   },
   {
    "duration": 150,
    "start_time": "2021-12-24T18:16:59.039Z"
   },
   {
    "duration": 12,
    "start_time": "2021-12-24T18:16:59.191Z"
   },
   {
    "duration": 8,
    "start_time": "2021-12-24T18:16:59.206Z"
   },
   {
    "duration": 5,
    "start_time": "2021-12-24T18:16:59.216Z"
   },
   {
    "duration": 27,
    "start_time": "2021-12-24T18:16:59.223Z"
   },
   {
    "duration": 6,
    "start_time": "2021-12-24T18:16:59.252Z"
   },
   {
    "duration": 56,
    "start_time": "2021-12-24T18:16:59.260Z"
   },
   {
    "duration": 18,
    "start_time": "2021-12-24T18:16:59.319Z"
   },
   {
    "duration": 22,
    "start_time": "2021-12-24T18:16:59.338Z"
   },
   {
    "duration": 87,
    "start_time": "2021-12-24T18:16:59.362Z"
   },
   {
    "duration": 87,
    "start_time": "2021-12-24T18:16:59.451Z"
   },
   {
    "duration": 63,
    "start_time": "2021-12-24T18:16:59.540Z"
   },
   {
    "duration": 7,
    "start_time": "2021-12-24T18:16:59.607Z"
   },
   {
    "duration": 19,
    "start_time": "2021-12-24T18:16:59.616Z"
   },
   {
    "duration": 15,
    "start_time": "2021-12-24T18:16:59.637Z"
   },
   {
    "duration": 6,
    "start_time": "2021-12-24T18:16:59.654Z"
   },
   {
    "duration": 45,
    "start_time": "2021-12-24T18:16:59.662Z"
   },
   {
    "duration": 10,
    "start_time": "2021-12-24T18:16:59.710Z"
   },
   {
    "duration": 4,
    "start_time": "2021-12-24T18:16:59.722Z"
   },
   {
    "duration": 32,
    "start_time": "2021-12-24T18:16:59.727Z"
   },
   {
    "duration": 55,
    "start_time": "2021-12-24T18:16:59.761Z"
   },
   {
    "duration": 24,
    "start_time": "2021-12-24T18:16:59.819Z"
   },
   {
    "duration": 20,
    "start_time": "2021-12-24T18:16:59.845Z"
   },
   {
    "duration": 52,
    "start_time": "2021-12-24T18:16:59.867Z"
   },
   {
    "duration": 19,
    "start_time": "2021-12-24T18:16:59.921Z"
   },
   {
    "duration": 267,
    "start_time": "2021-12-24T18:16:59.942Z"
   },
   {
    "duration": -274,
    "start_time": "2021-12-24T18:17:00.486Z"
   },
   {
    "duration": -302,
    "start_time": "2021-12-24T18:17:00.516Z"
   },
   {
    "duration": -311,
    "start_time": "2021-12-24T18:17:00.526Z"
   },
   {
    "duration": -321,
    "start_time": "2021-12-24T18:17:00.538Z"
   },
   {
    "duration": -332,
    "start_time": "2021-12-24T18:17:00.550Z"
   },
   {
    "duration": -339,
    "start_time": "2021-12-24T18:17:00.559Z"
   },
   {
    "duration": -351,
    "start_time": "2021-12-24T18:17:00.572Z"
   },
   {
    "duration": -367,
    "start_time": "2021-12-24T18:17:00.590Z"
   },
   {
    "duration": -384,
    "start_time": "2021-12-24T18:17:00.608Z"
   },
   {
    "duration": -413,
    "start_time": "2021-12-24T18:17:00.639Z"
   },
   {
    "duration": -426,
    "start_time": "2021-12-24T18:17:00.653Z"
   },
   {
    "duration": 4,
    "start_time": "2021-12-24T18:20:59.000Z"
   },
   {
    "duration": 581,
    "start_time": "2021-12-24T18:21:09.199Z"
   },
   {
    "duration": 139,
    "start_time": "2021-12-24T18:21:09.781Z"
   },
   {
    "duration": 8,
    "start_time": "2021-12-24T18:21:09.922Z"
   },
   {
    "duration": 12,
    "start_time": "2021-12-24T18:21:09.932Z"
   },
   {
    "duration": 43,
    "start_time": "2021-12-24T18:21:09.946Z"
   },
   {
    "duration": 43,
    "start_time": "2021-12-24T18:21:09.991Z"
   },
   {
    "duration": 17,
    "start_time": "2021-12-24T18:21:10.036Z"
   },
   {
    "duration": 33,
    "start_time": "2021-12-24T18:21:10.056Z"
   },
   {
    "duration": 37,
    "start_time": "2021-12-24T18:21:10.091Z"
   },
   {
    "duration": 27,
    "start_time": "2021-12-24T18:21:10.130Z"
   },
   {
    "duration": 79,
    "start_time": "2021-12-24T18:21:10.159Z"
   },
   {
    "duration": 78,
    "start_time": "2021-12-24T18:21:10.240Z"
   },
   {
    "duration": 51,
    "start_time": "2021-12-24T18:21:10.320Z"
   },
   {
    "duration": 19,
    "start_time": "2021-12-24T18:21:10.373Z"
   },
   {
    "duration": 16,
    "start_time": "2021-12-24T18:21:10.394Z"
   },
   {
    "duration": 15,
    "start_time": "2021-12-24T18:21:10.412Z"
   },
   {
    "duration": 6,
    "start_time": "2021-12-24T18:21:10.429Z"
   },
   {
    "duration": 15,
    "start_time": "2021-12-24T18:21:10.438Z"
   },
   {
    "duration": 37,
    "start_time": "2021-12-24T18:21:10.455Z"
   },
   {
    "duration": 3,
    "start_time": "2021-12-24T18:21:10.495Z"
   },
   {
    "duration": 24,
    "start_time": "2021-12-24T18:21:10.500Z"
   },
   {
    "duration": 15,
    "start_time": "2021-12-24T18:21:10.526Z"
   },
   {
    "duration": 52,
    "start_time": "2021-12-24T18:21:10.545Z"
   },
   {
    "duration": 15,
    "start_time": "2021-12-24T18:21:10.599Z"
   },
   {
    "duration": 17,
    "start_time": "2021-12-24T18:21:10.616Z"
   },
   {
    "duration": 16,
    "start_time": "2021-12-24T18:21:10.635Z"
   },
   {
    "duration": 55,
    "start_time": "2021-12-24T18:21:10.653Z"
   },
   {
    "duration": -163,
    "start_time": "2021-12-24T18:21:10.874Z"
   },
   {
    "duration": -171,
    "start_time": "2021-12-24T18:21:10.883Z"
   },
   {
    "duration": -177,
    "start_time": "2021-12-24T18:21:10.891Z"
   },
   {
    "duration": -185,
    "start_time": "2021-12-24T18:21:10.900Z"
   },
   {
    "duration": -191,
    "start_time": "2021-12-24T18:21:10.908Z"
   },
   {
    "duration": -200,
    "start_time": "2021-12-24T18:21:10.918Z"
   },
   {
    "duration": -205,
    "start_time": "2021-12-24T18:21:10.925Z"
   },
   {
    "duration": -213,
    "start_time": "2021-12-24T18:21:10.934Z"
   },
   {
    "duration": -245,
    "start_time": "2021-12-24T18:21:10.967Z"
   },
   {
    "duration": -252,
    "start_time": "2021-12-24T18:21:10.976Z"
   },
   {
    "duration": -260,
    "start_time": "2021-12-24T18:21:10.985Z"
   },
   {
    "duration": 63,
    "start_time": "2021-12-24T18:23:19.229Z"
   },
   {
    "duration": 4,
    "start_time": "2021-12-24T18:23:32.282Z"
   },
   {
    "duration": 5,
    "start_time": "2021-12-24T18:23:40.664Z"
   },
   {
    "duration": 547,
    "start_time": "2021-12-24T18:23:48.652Z"
   },
   {
    "duration": 149,
    "start_time": "2021-12-24T18:23:49.202Z"
   },
   {
    "duration": 8,
    "start_time": "2021-12-24T18:23:49.353Z"
   },
   {
    "duration": 11,
    "start_time": "2021-12-24T18:23:49.363Z"
   },
   {
    "duration": 16,
    "start_time": "2021-12-24T18:23:49.376Z"
   },
   {
    "duration": 35,
    "start_time": "2021-12-24T18:23:49.395Z"
   },
   {
    "duration": 5,
    "start_time": "2021-12-24T18:23:49.432Z"
   },
   {
    "duration": 51,
    "start_time": "2021-12-24T18:23:49.441Z"
   },
   {
    "duration": 28,
    "start_time": "2021-12-24T18:23:49.495Z"
   },
   {
    "duration": 22,
    "start_time": "2021-12-24T18:23:49.524Z"
   },
   {
    "duration": 84,
    "start_time": "2021-12-24T18:23:49.548Z"
   },
   {
    "duration": 77,
    "start_time": "2021-12-24T18:23:49.634Z"
   },
   {
    "duration": 53,
    "start_time": "2021-12-24T18:23:49.714Z"
   },
   {
    "duration": 6,
    "start_time": "2021-12-24T18:23:49.768Z"
   },
   {
    "duration": 21,
    "start_time": "2021-12-24T18:23:49.791Z"
   },
   {
    "duration": 15,
    "start_time": "2021-12-24T18:23:49.814Z"
   },
   {
    "duration": 6,
    "start_time": "2021-12-24T18:23:49.831Z"
   },
   {
    "duration": 11,
    "start_time": "2021-12-24T18:23:49.839Z"
   },
   {
    "duration": 10,
    "start_time": "2021-12-24T18:23:49.851Z"
   },
   {
    "duration": 4,
    "start_time": "2021-12-24T18:23:49.892Z"
   },
   {
    "duration": 28,
    "start_time": "2021-12-24T18:23:49.899Z"
   },
   {
    "duration": 14,
    "start_time": "2021-12-24T18:23:49.929Z"
   },
   {
    "duration": 14,
    "start_time": "2021-12-24T18:23:49.946Z"
   },
   {
    "duration": 41,
    "start_time": "2021-12-24T18:23:49.962Z"
   },
   {
    "duration": 19,
    "start_time": "2021-12-24T18:23:50.006Z"
   },
   {
    "duration": 14,
    "start_time": "2021-12-24T18:23:50.027Z"
   },
   {
    "duration": 5,
    "start_time": "2021-12-24T18:23:50.043Z"
   },
   {
    "duration": 5,
    "start_time": "2021-12-24T18:23:50.049Z"
   },
   {
    "duration": 5,
    "start_time": "2021-12-24T18:23:50.056Z"
   },
   {
    "duration": 8,
    "start_time": "2021-12-24T18:23:50.093Z"
   },
   {
    "duration": 8,
    "start_time": "2021-12-24T18:23:50.103Z"
   },
   {
    "duration": 8,
    "start_time": "2021-12-24T18:23:50.112Z"
   },
   {
    "duration": 7,
    "start_time": "2021-12-24T18:23:50.122Z"
   },
   {
    "duration": 7,
    "start_time": "2021-12-24T18:23:50.131Z"
   },
   {
    "duration": 7,
    "start_time": "2021-12-24T18:23:50.139Z"
   },
   {
    "duration": 4,
    "start_time": "2021-12-24T18:23:50.148Z"
   },
   {
    "duration": 8,
    "start_time": "2021-12-24T18:23:50.153Z"
   },
   {
    "duration": 9,
    "start_time": "2021-12-24T18:23:50.162Z"
   },
   {
    "duration": 5,
    "start_time": "2021-12-24T18:24:06.134Z"
   },
   {
    "duration": 7,
    "start_time": "2021-12-24T18:26:07.793Z"
   },
   {
    "duration": 595,
    "start_time": "2021-12-24T18:28:01.668Z"
   },
   {
    "duration": 150,
    "start_time": "2021-12-24T18:28:02.265Z"
   },
   {
    "duration": 8,
    "start_time": "2021-12-24T18:28:02.417Z"
   },
   {
    "duration": 5,
    "start_time": "2021-12-24T18:28:02.427Z"
   },
   {
    "duration": 11,
    "start_time": "2021-12-24T18:28:02.434Z"
   },
   {
    "duration": 26,
    "start_time": "2021-12-24T18:28:02.447Z"
   },
   {
    "duration": 26,
    "start_time": "2021-12-24T18:28:02.475Z"
   },
   {
    "duration": 28,
    "start_time": "2021-12-24T18:28:02.504Z"
   },
   {
    "duration": 18,
    "start_time": "2021-12-24T18:28:02.534Z"
   },
   {
    "duration": 23,
    "start_time": "2021-12-24T18:28:02.554Z"
   },
   {
    "duration": 60,
    "start_time": "2021-12-24T18:28:02.592Z"
   },
   {
    "duration": 82,
    "start_time": "2021-12-24T18:28:02.653Z"
   },
   {
    "duration": 55,
    "start_time": "2021-12-24T18:28:02.736Z"
   },
   {
    "duration": 8,
    "start_time": "2021-12-24T18:28:02.793Z"
   },
   {
    "duration": 19,
    "start_time": "2021-12-24T18:28:02.803Z"
   },
   {
    "duration": 14,
    "start_time": "2021-12-24T18:28:02.823Z"
   },
   {
    "duration": 10,
    "start_time": "2021-12-24T18:28:02.838Z"
   },
   {
    "duration": 10,
    "start_time": "2021-12-24T18:28:02.850Z"
   },
   {
    "duration": 42,
    "start_time": "2021-12-24T18:28:02.862Z"
   },
   {
    "duration": 4,
    "start_time": "2021-12-24T18:28:02.906Z"
   },
   {
    "duration": 25,
    "start_time": "2021-12-24T18:28:02.912Z"
   },
   {
    "duration": 14,
    "start_time": "2021-12-24T18:28:02.938Z"
   },
   {
    "duration": 16,
    "start_time": "2021-12-24T18:28:02.955Z"
   },
   {
    "duration": 22,
    "start_time": "2021-12-24T18:28:02.990Z"
   },
   {
    "duration": 14,
    "start_time": "2021-12-24T18:28:03.014Z"
   },
   {
    "duration": 12,
    "start_time": "2021-12-24T18:28:03.030Z"
   },
   {
    "duration": 6,
    "start_time": "2021-12-24T18:28:03.044Z"
   },
   {
    "duration": 5,
    "start_time": "2021-12-24T18:28:03.051Z"
   },
   {
    "duration": 39,
    "start_time": "2021-12-24T18:28:03.057Z"
   },
   {
    "duration": 6,
    "start_time": "2021-12-24T18:28:03.098Z"
   },
   {
    "duration": 14,
    "start_time": "2021-12-24T18:28:03.106Z"
   },
   {
    "duration": 6,
    "start_time": "2021-12-24T18:28:03.121Z"
   },
   {
    "duration": 7,
    "start_time": "2021-12-24T18:28:03.128Z"
   },
   {
    "duration": 4,
    "start_time": "2021-12-24T18:28:03.137Z"
   },
   {
    "duration": 5,
    "start_time": "2021-12-24T18:28:03.143Z"
   },
   {
    "duration": 4,
    "start_time": "2021-12-24T18:28:03.150Z"
   },
   {
    "duration": 7,
    "start_time": "2021-12-24T18:28:03.155Z"
   },
   {
    "duration": 5,
    "start_time": "2021-12-24T18:28:03.164Z"
   },
   {
    "duration": 23,
    "start_time": "2021-12-24T18:34:02.323Z"
   },
   {
    "duration": 11,
    "start_time": "2021-12-24T18:37:44.124Z"
   },
   {
    "duration": 18,
    "start_time": "2021-12-24T18:39:00.895Z"
   },
   {
    "duration": 100,
    "start_time": "2021-12-25T11:06:51.735Z"
   },
   {
    "duration": 86,
    "start_time": "2021-12-25T11:07:08.713Z"
   },
   {
    "duration": 6,
    "start_time": "2021-12-25T11:07:40.419Z"
   },
   {
    "duration": 756,
    "start_time": "2021-12-25T11:07:49.172Z"
   },
   {
    "duration": 212,
    "start_time": "2021-12-25T11:07:49.932Z"
   },
   {
    "duration": 10,
    "start_time": "2021-12-25T11:07:50.150Z"
   },
   {
    "duration": 6,
    "start_time": "2021-12-25T11:07:50.163Z"
   },
   {
    "duration": 9,
    "start_time": "2021-12-25T11:07:50.172Z"
   },
   {
    "duration": 57,
    "start_time": "2021-12-25T11:07:50.183Z"
   },
   {
    "duration": 5,
    "start_time": "2021-12-25T11:07:50.244Z"
   },
   {
    "duration": 32,
    "start_time": "2021-12-25T11:07:50.251Z"
   },
   {
    "duration": 47,
    "start_time": "2021-12-25T11:07:50.286Z"
   },
   {
    "duration": 32,
    "start_time": "2021-12-25T11:07:50.336Z"
   },
   {
    "duration": 112,
    "start_time": "2021-12-25T11:07:50.371Z"
   },
   {
    "duration": 126,
    "start_time": "2021-12-25T11:07:50.486Z"
   },
   {
    "duration": 80,
    "start_time": "2021-12-25T11:07:50.617Z"
   },
   {
    "duration": 21,
    "start_time": "2021-12-25T11:07:50.699Z"
   },
   {
    "duration": 33,
    "start_time": "2021-12-25T11:07:50.723Z"
   },
   {
    "duration": 21,
    "start_time": "2021-12-25T11:07:50.759Z"
   },
   {
    "duration": 14,
    "start_time": "2021-12-25T11:07:50.782Z"
   },
   {
    "duration": 16,
    "start_time": "2021-12-25T11:07:50.818Z"
   },
   {
    "duration": 17,
    "start_time": "2021-12-25T11:07:50.837Z"
   },
   {
    "duration": 6,
    "start_time": "2021-12-25T11:07:50.856Z"
   },
   {
    "duration": 70,
    "start_time": "2021-12-25T11:07:50.865Z"
   },
   {
    "duration": 21,
    "start_time": "2021-12-25T11:07:50.940Z"
   },
   {
    "duration": 21,
    "start_time": "2021-12-25T11:07:50.963Z"
   },
   {
    "duration": 48,
    "start_time": "2021-12-25T11:07:50.986Z"
   },
   {
    "duration": 23,
    "start_time": "2021-12-25T11:07:51.036Z"
   },
   {
    "duration": 23,
    "start_time": "2021-12-25T11:07:51.061Z"
   },
   {
    "duration": 38,
    "start_time": "2021-12-25T11:07:51.086Z"
   },
   {
    "duration": 39,
    "start_time": "2021-12-25T11:07:51.126Z"
   },
   {
    "duration": 49,
    "start_time": "2021-12-25T11:07:51.168Z"
   },
   {
    "duration": 6,
    "start_time": "2021-12-25T11:07:51.219Z"
   },
   {
    "duration": 8,
    "start_time": "2021-12-25T11:07:51.227Z"
   },
   {
    "duration": 8,
    "start_time": "2021-12-25T11:07:51.237Z"
   },
   {
    "duration": 7,
    "start_time": "2021-12-25T11:07:51.247Z"
   },
   {
    "duration": 6,
    "start_time": "2021-12-25T11:07:51.256Z"
   },
   {
    "duration": 6,
    "start_time": "2021-12-25T11:07:51.264Z"
   },
   {
    "duration": 6,
    "start_time": "2021-12-25T11:07:51.272Z"
   },
   {
    "duration": 43,
    "start_time": "2021-12-25T11:07:51.281Z"
   },
   {
    "duration": 9,
    "start_time": "2021-12-25T11:07:51.326Z"
   },
   {
    "duration": 105,
    "start_time": "2021-12-25T11:09:54.666Z"
   },
   {
    "duration": 335,
    "start_time": "2021-12-25T11:09:58.935Z"
   },
   {
    "duration": 259,
    "start_time": "2021-12-25T11:10:18.593Z"
   },
   {
    "duration": 751,
    "start_time": "2021-12-25T11:10:25.628Z"
   },
   {
    "duration": 188,
    "start_time": "2021-12-25T11:10:26.381Z"
   },
   {
    "duration": 11,
    "start_time": "2021-12-25T11:10:26.575Z"
   },
   {
    "duration": 7,
    "start_time": "2021-12-25T11:10:26.589Z"
   },
   {
    "duration": 21,
    "start_time": "2021-12-25T11:10:26.599Z"
   },
   {
    "duration": 31,
    "start_time": "2021-12-25T11:10:26.622Z"
   },
   {
    "duration": 17,
    "start_time": "2021-12-25T11:10:26.657Z"
   },
   {
    "duration": 47,
    "start_time": "2021-12-25T11:10:26.677Z"
   },
   {
    "duration": 23,
    "start_time": "2021-12-25T11:10:26.726Z"
   },
   {
    "duration": 28,
    "start_time": "2021-12-25T11:10:26.752Z"
   },
   {
    "duration": 124,
    "start_time": "2021-12-25T11:10:26.782Z"
   },
   {
    "duration": 117,
    "start_time": "2021-12-25T11:10:26.917Z"
   },
   {
    "duration": 92,
    "start_time": "2021-12-25T11:10:27.037Z"
   },
   {
    "duration": 9,
    "start_time": "2021-12-25T11:10:27.132Z"
   },
   {
    "duration": 22,
    "start_time": "2021-12-25T11:10:27.143Z"
   },
   {
    "duration": 20,
    "start_time": "2021-12-25T11:10:27.168Z"
   },
   {
    "duration": 8,
    "start_time": "2021-12-25T11:10:27.218Z"
   },
   {
    "duration": 15,
    "start_time": "2021-12-25T11:10:27.228Z"
   },
   {
    "duration": 14,
    "start_time": "2021-12-25T11:10:27.246Z"
   },
   {
    "duration": 4,
    "start_time": "2021-12-25T11:10:27.263Z"
   },
   {
    "duration": 73,
    "start_time": "2021-12-25T11:10:27.270Z"
   },
   {
    "duration": 18,
    "start_time": "2021-12-25T11:10:27.348Z"
   },
   {
    "duration": 20,
    "start_time": "2021-12-25T11:10:27.369Z"
   },
   {
    "duration": 19,
    "start_time": "2021-12-25T11:10:27.417Z"
   },
   {
    "duration": 22,
    "start_time": "2021-12-25T11:10:27.438Z"
   },
   {
    "duration": 21,
    "start_time": "2021-12-25T11:10:27.462Z"
   },
   {
    "duration": 38,
    "start_time": "2021-12-25T11:10:27.485Z"
   },
   {
    "duration": 32,
    "start_time": "2021-12-25T11:10:27.526Z"
   },
   {
    "duration": 28,
    "start_time": "2021-12-25T11:10:27.560Z"
   },
   {
    "duration": 1003,
    "start_time": "2021-12-25T11:10:27.617Z"
   },
   {
    "duration": -51,
    "start_time": "2021-12-25T11:10:28.674Z"
   },
   {
    "duration": -55,
    "start_time": "2021-12-25T11:10:28.679Z"
   },
   {
    "duration": -59,
    "start_time": "2021-12-25T11:10:28.685Z"
   },
   {
    "duration": -65,
    "start_time": "2021-12-25T11:10:28.692Z"
   },
   {
    "duration": -68,
    "start_time": "2021-12-25T11:10:28.697Z"
   },
   {
    "duration": -71,
    "start_time": "2021-12-25T11:10:28.701Z"
   },
   {
    "duration": -76,
    "start_time": "2021-12-25T11:10:28.708Z"
   },
   {
    "duration": -81,
    "start_time": "2021-12-25T11:10:28.714Z"
   },
   {
    "duration": 723,
    "start_time": "2021-12-25T11:12:05.063Z"
   },
   {
    "duration": 189,
    "start_time": "2021-12-25T11:12:05.789Z"
   },
   {
    "duration": 11,
    "start_time": "2021-12-25T11:12:05.981Z"
   },
   {
    "duration": 6,
    "start_time": "2021-12-25T11:12:05.994Z"
   },
   {
    "duration": 17,
    "start_time": "2021-12-25T11:12:06.002Z"
   },
   {
    "duration": 33,
    "start_time": "2021-12-25T11:12:06.021Z"
   },
   {
    "duration": 4,
    "start_time": "2021-12-25T11:12:06.057Z"
   },
   {
    "duration": 55,
    "start_time": "2021-12-25T11:12:06.064Z"
   },
   {
    "duration": 24,
    "start_time": "2021-12-25T11:12:06.121Z"
   },
   {
    "duration": 28,
    "start_time": "2021-12-25T11:12:06.147Z"
   },
   {
    "duration": 111,
    "start_time": "2021-12-25T11:12:06.177Z"
   },
   {
    "duration": 109,
    "start_time": "2021-12-25T11:12:06.290Z"
   },
   {
    "duration": 81,
    "start_time": "2021-12-25T11:12:06.402Z"
   },
   {
    "duration": 8,
    "start_time": "2021-12-25T11:12:06.486Z"
   },
   {
    "duration": 39,
    "start_time": "2021-12-25T11:12:06.497Z"
   },
   {
    "duration": 20,
    "start_time": "2021-12-25T11:12:06.538Z"
   },
   {
    "duration": 7,
    "start_time": "2021-12-25T11:12:06.561Z"
   },
   {
    "duration": 47,
    "start_time": "2021-12-25T11:12:06.570Z"
   },
   {
    "duration": 13,
    "start_time": "2021-12-25T11:12:06.620Z"
   },
   {
    "duration": 4,
    "start_time": "2021-12-25T11:12:06.635Z"
   },
   {
    "duration": 37,
    "start_time": "2021-12-25T11:12:06.641Z"
   },
   {
    "duration": 39,
    "start_time": "2021-12-25T11:12:06.680Z"
   },
   {
    "duration": 18,
    "start_time": "2021-12-25T11:12:06.723Z"
   },
   {
    "duration": 17,
    "start_time": "2021-12-25T11:12:06.744Z"
   },
   {
    "duration": 54,
    "start_time": "2021-12-25T11:12:06.764Z"
   },
   {
    "duration": 17,
    "start_time": "2021-12-25T11:12:06.821Z"
   },
   {
    "duration": 8,
    "start_time": "2021-12-25T11:12:06.841Z"
   },
   {
    "duration": 29,
    "start_time": "2021-12-25T11:12:06.852Z"
   },
   {
    "duration": 54,
    "start_time": "2021-12-25T11:12:06.884Z"
   },
   {
    "duration": 339,
    "start_time": "2021-12-25T11:12:06.941Z"
   },
   {
    "duration": -13,
    "start_time": "2021-12-25T11:12:07.295Z"
   },
   {
    "duration": -18,
    "start_time": "2021-12-25T11:12:07.302Z"
   },
   {
    "duration": -24,
    "start_time": "2021-12-25T11:12:07.309Z"
   },
   {
    "duration": -28,
    "start_time": "2021-12-25T11:12:07.315Z"
   },
   {
    "duration": -33,
    "start_time": "2021-12-25T11:12:07.321Z"
   },
   {
    "duration": -38,
    "start_time": "2021-12-25T11:12:07.327Z"
   },
   {
    "duration": -51,
    "start_time": "2021-12-25T11:12:07.342Z"
   },
   {
    "duration": -58,
    "start_time": "2021-12-25T11:12:07.350Z"
   },
   {
    "duration": 325,
    "start_time": "2021-12-25T11:14:54.825Z"
   },
   {
    "duration": 715,
    "start_time": "2021-12-25T11:15:10.758Z"
   },
   {
    "duration": 189,
    "start_time": "2021-12-25T11:15:11.476Z"
   },
   {
    "duration": 10,
    "start_time": "2021-12-25T11:15:11.668Z"
   },
   {
    "duration": 6,
    "start_time": "2021-12-25T11:15:11.681Z"
   },
   {
    "duration": 7,
    "start_time": "2021-12-25T11:15:11.690Z"
   },
   {
    "duration": 30,
    "start_time": "2021-12-25T11:15:11.717Z"
   },
   {
    "duration": 6,
    "start_time": "2021-12-25T11:15:11.750Z"
   },
   {
    "duration": 31,
    "start_time": "2021-12-25T11:15:11.760Z"
   },
   {
    "duration": 33,
    "start_time": "2021-12-25T11:15:11.819Z"
   },
   {
    "duration": 65,
    "start_time": "2021-12-25T11:15:11.855Z"
   },
   {
    "duration": 112,
    "start_time": "2021-12-25T11:15:11.923Z"
   },
   {
    "duration": 110,
    "start_time": "2021-12-25T11:15:12.037Z"
   },
   {
    "duration": 85,
    "start_time": "2021-12-25T11:15:12.149Z"
   },
   {
    "duration": 8,
    "start_time": "2021-12-25T11:15:12.237Z"
   },
   {
    "duration": 23,
    "start_time": "2021-12-25T11:15:12.247Z"
   },
   {
    "duration": 49,
    "start_time": "2021-12-25T11:15:12.272Z"
   },
   {
    "duration": 8,
    "start_time": "2021-12-25T11:15:12.324Z"
   },
   {
    "duration": 13,
    "start_time": "2021-12-25T11:15:12.334Z"
   },
   {
    "duration": 13,
    "start_time": "2021-12-25T11:15:12.349Z"
   },
   {
    "duration": 5,
    "start_time": "2021-12-25T11:15:12.365Z"
   },
   {
    "duration": 70,
    "start_time": "2021-12-25T11:15:12.372Z"
   },
   {
    "duration": 18,
    "start_time": "2021-12-25T11:15:12.445Z"
   },
   {
    "duration": 19,
    "start_time": "2021-12-25T11:15:12.467Z"
   },
   {
    "duration": 19,
    "start_time": "2021-12-25T11:15:12.517Z"
   },
   {
    "duration": 21,
    "start_time": "2021-12-25T11:15:12.538Z"
   },
   {
    "duration": 18,
    "start_time": "2021-12-25T11:15:12.562Z"
   },
   {
    "duration": 40,
    "start_time": "2021-12-25T11:15:12.582Z"
   },
   {
    "duration": 33,
    "start_time": "2021-12-25T11:15:12.625Z"
   },
   {
    "duration": 56,
    "start_time": "2021-12-25T11:15:12.661Z"
   },
   {
    "duration": 365,
    "start_time": "2021-12-25T11:15:12.720Z"
   },
   {
    "duration": -30,
    "start_time": "2021-12-25T11:15:13.118Z"
   },
   {
    "duration": -37,
    "start_time": "2021-12-25T11:15:13.127Z"
   },
   {
    "duration": -56,
    "start_time": "2021-12-25T11:15:13.147Z"
   },
   {
    "duration": -63,
    "start_time": "2021-12-25T11:15:13.156Z"
   },
   {
    "duration": -68,
    "start_time": "2021-12-25T11:15:13.162Z"
   },
   {
    "duration": -75,
    "start_time": "2021-12-25T11:15:13.171Z"
   },
   {
    "duration": -81,
    "start_time": "2021-12-25T11:15:13.178Z"
   },
   {
    "duration": -87,
    "start_time": "2021-12-25T11:15:13.186Z"
   },
   {
    "duration": 32,
    "start_time": "2021-12-25T11:15:23.137Z"
   },
   {
    "duration": 29,
    "start_time": "2021-12-25T11:15:31.075Z"
   },
   {
    "duration": 27,
    "start_time": "2021-12-25T11:17:25.449Z"
   },
   {
    "duration": 29,
    "start_time": "2021-12-25T11:17:31.144Z"
   },
   {
    "duration": 19,
    "start_time": "2021-12-25T11:17:37.015Z"
   },
   {
    "duration": 28,
    "start_time": "2021-12-25T11:17:44.068Z"
   },
   {
    "duration": 95,
    "start_time": "2021-12-25T11:26:15.462Z"
   },
   {
    "duration": 273,
    "start_time": "2021-12-25T11:28:24.234Z"
   },
   {
    "duration": 8,
    "start_time": "2021-12-25T11:28:53.067Z"
   },
   {
    "duration": 8,
    "start_time": "2021-12-25T11:29:29.614Z"
   },
   {
    "duration": 5,
    "start_time": "2021-12-25T11:29:34.966Z"
   },
   {
    "duration": 19,
    "start_time": "2021-12-25T11:31:09.329Z"
   },
   {
    "duration": 715,
    "start_time": "2021-12-25T11:31:12.060Z"
   },
   {
    "duration": 186,
    "start_time": "2021-12-25T11:31:12.778Z"
   },
   {
    "duration": 10,
    "start_time": "2021-12-25T11:31:12.966Z"
   },
   {
    "duration": 5,
    "start_time": "2021-12-25T11:31:12.979Z"
   },
   {
    "duration": 9,
    "start_time": "2021-12-25T11:31:12.987Z"
   },
   {
    "duration": 47,
    "start_time": "2021-12-25T11:31:12.998Z"
   },
   {
    "duration": 4,
    "start_time": "2021-12-25T11:31:13.047Z"
   },
   {
    "duration": 32,
    "start_time": "2021-12-25T11:31:13.055Z"
   },
   {
    "duration": 49,
    "start_time": "2021-12-25T11:31:13.090Z"
   },
   {
    "duration": 30,
    "start_time": "2021-12-25T11:31:13.142Z"
   },
   {
    "duration": 114,
    "start_time": "2021-12-25T11:31:13.174Z"
   },
   {
    "duration": 104,
    "start_time": "2021-12-25T11:31:13.290Z"
   },
   {
    "duration": 84,
    "start_time": "2021-12-25T11:31:13.396Z"
   },
   {
    "duration": 8,
    "start_time": "2021-12-25T11:31:13.482Z"
   },
   {
    "duration": 37,
    "start_time": "2021-12-25T11:31:13.493Z"
   },
   {
    "duration": 22,
    "start_time": "2021-12-25T11:31:13.532Z"
   },
   {
    "duration": 9,
    "start_time": "2021-12-25T11:31:13.556Z"
   },
   {
    "duration": 14,
    "start_time": "2021-12-25T11:31:13.567Z"
   },
   {
    "duration": 43,
    "start_time": "2021-12-25T11:31:13.583Z"
   },
   {
    "duration": 5,
    "start_time": "2021-12-25T11:31:13.628Z"
   },
   {
    "duration": 33,
    "start_time": "2021-12-25T11:31:13.635Z"
   },
   {
    "duration": 17,
    "start_time": "2021-12-25T11:31:13.671Z"
   },
   {
    "duration": 18,
    "start_time": "2021-12-25T11:31:13.720Z"
   },
   {
    "duration": 17,
    "start_time": "2021-12-25T11:31:13.741Z"
   },
   {
    "duration": 20,
    "start_time": "2021-12-25T11:31:13.761Z"
   },
   {
    "duration": 51,
    "start_time": "2021-12-25T11:31:13.783Z"
   },
   {
    "duration": 9,
    "start_time": "2021-12-25T11:31:13.836Z"
   },
   {
    "duration": 32,
    "start_time": "2021-12-25T11:31:13.847Z"
   },
   {
    "duration": 60,
    "start_time": "2021-12-25T11:31:13.881Z"
   },
   {
    "duration": 7792,
    "start_time": "2021-12-25T11:31:13.943Z"
   },
   {
    "duration": -25,
    "start_time": "2021-12-25T11:31:21.764Z"
   },
   {
    "duration": -31,
    "start_time": "2021-12-25T11:31:21.772Z"
   },
   {
    "duration": -34,
    "start_time": "2021-12-25T11:31:21.777Z"
   },
   {
    "duration": -38,
    "start_time": "2021-12-25T11:31:21.783Z"
   },
   {
    "duration": -41,
    "start_time": "2021-12-25T11:31:21.789Z"
   },
   {
    "duration": -46,
    "start_time": "2021-12-25T11:31:21.796Z"
   },
   {
    "duration": -49,
    "start_time": "2021-12-25T11:31:21.801Z"
   },
   {
    "duration": -55,
    "start_time": "2021-12-25T11:31:21.809Z"
   },
   {
    "duration": 3,
    "start_time": "2021-12-25T11:31:43.481Z"
   },
   {
    "duration": 776,
    "start_time": "2021-12-25T11:31:47.677Z"
   },
   {
    "duration": 183,
    "start_time": "2021-12-25T11:31:48.456Z"
   },
   {
    "duration": 10,
    "start_time": "2021-12-25T11:31:48.642Z"
   },
   {
    "duration": 13,
    "start_time": "2021-12-25T11:31:48.655Z"
   },
   {
    "duration": 7,
    "start_time": "2021-12-25T11:31:48.671Z"
   },
   {
    "duration": 45,
    "start_time": "2021-12-25T11:31:48.680Z"
   },
   {
    "duration": 5,
    "start_time": "2021-12-25T11:31:48.728Z"
   },
   {
    "duration": 30,
    "start_time": "2021-12-25T11:31:48.736Z"
   },
   {
    "duration": 49,
    "start_time": "2021-12-25T11:31:48.769Z"
   },
   {
    "duration": 30,
    "start_time": "2021-12-25T11:31:48.821Z"
   },
   {
    "duration": 104,
    "start_time": "2021-12-25T11:31:48.854Z"
   },
   {
    "duration": 114,
    "start_time": "2021-12-25T11:31:48.961Z"
   },
   {
    "duration": 86,
    "start_time": "2021-12-25T11:31:49.077Z"
   },
   {
    "duration": 8,
    "start_time": "2021-12-25T11:31:49.166Z"
   },
   {
    "duration": 42,
    "start_time": "2021-12-25T11:31:49.176Z"
   },
   {
    "duration": 24,
    "start_time": "2021-12-25T11:31:49.220Z"
   },
   {
    "duration": 8,
    "start_time": "2021-12-25T11:31:49.247Z"
   },
   {
    "duration": 19,
    "start_time": "2021-12-25T11:31:49.257Z"
   },
   {
    "duration": 51,
    "start_time": "2021-12-25T11:31:49.279Z"
   },
   {
    "duration": 5,
    "start_time": "2021-12-25T11:31:49.333Z"
   },
   {
    "duration": 31,
    "start_time": "2021-12-25T11:31:49.340Z"
   },
   {
    "duration": 50,
    "start_time": "2021-12-25T11:31:49.374Z"
   },
   {
    "duration": 20,
    "start_time": "2021-12-25T11:31:49.429Z"
   },
   {
    "duration": 21,
    "start_time": "2021-12-25T11:31:49.451Z"
   },
   {
    "duration": 55,
    "start_time": "2021-12-25T11:31:49.475Z"
   },
   {
    "duration": 19,
    "start_time": "2021-12-25T11:31:49.533Z"
   },
   {
    "duration": 9,
    "start_time": "2021-12-25T11:31:49.554Z"
   },
   {
    "duration": 67,
    "start_time": "2021-12-25T11:31:49.566Z"
   },
   {
    "duration": 29,
    "start_time": "2021-12-25T11:31:49.636Z"
   },
   {
    "duration": 8204,
    "start_time": "2021-12-25T11:31:49.667Z"
   },
   {
    "duration": -10,
    "start_time": "2021-12-25T11:31:57.883Z"
   },
   {
    "duration": -17,
    "start_time": "2021-12-25T11:31:57.892Z"
   },
   {
    "duration": -29,
    "start_time": "2021-12-25T11:31:57.906Z"
   },
   {
    "duration": -39,
    "start_time": "2021-12-25T11:31:57.918Z"
   },
   {
    "duration": -43,
    "start_time": "2021-12-25T11:31:57.925Z"
   },
   {
    "duration": -47,
    "start_time": "2021-12-25T11:31:57.931Z"
   },
   {
    "duration": -51,
    "start_time": "2021-12-25T11:31:57.937Z"
   },
   {
    "duration": -54,
    "start_time": "2021-12-25T11:31:57.943Z"
   },
   {
    "duration": -8,
    "start_time": "2021-12-25T11:33:19.871Z"
   },
   {
    "duration": 752,
    "start_time": "2021-12-25T11:33:22.915Z"
   },
   {
    "duration": 182,
    "start_time": "2021-12-25T11:33:23.669Z"
   },
   {
    "duration": 10,
    "start_time": "2021-12-25T11:33:23.854Z"
   },
   {
    "duration": 10,
    "start_time": "2021-12-25T11:33:23.866Z"
   },
   {
    "duration": 8,
    "start_time": "2021-12-25T11:33:23.878Z"
   },
   {
    "duration": 48,
    "start_time": "2021-12-25T11:33:23.888Z"
   },
   {
    "duration": 5,
    "start_time": "2021-12-25T11:33:23.939Z"
   },
   {
    "duration": 33,
    "start_time": "2021-12-25T11:33:23.948Z"
   },
   {
    "duration": 48,
    "start_time": "2021-12-25T11:33:23.985Z"
   },
   {
    "duration": 30,
    "start_time": "2021-12-25T11:33:24.036Z"
   },
   {
    "duration": 106,
    "start_time": "2021-12-25T11:33:24.069Z"
   },
   {
    "duration": 106,
    "start_time": "2021-12-25T11:33:24.178Z"
   },
   {
    "duration": 100,
    "start_time": "2021-12-25T11:33:24.287Z"
   },
   {
    "duration": 7,
    "start_time": "2021-12-25T11:33:24.389Z"
   },
   {
    "duration": 35,
    "start_time": "2021-12-25T11:33:24.399Z"
   },
   {
    "duration": 21,
    "start_time": "2021-12-25T11:33:24.437Z"
   },
   {
    "duration": 10,
    "start_time": "2021-12-25T11:33:24.460Z"
   },
   {
    "duration": 47,
    "start_time": "2021-12-25T11:33:24.473Z"
   },
   {
    "duration": 14,
    "start_time": "2021-12-25T11:33:24.523Z"
   },
   {
    "duration": 5,
    "start_time": "2021-12-25T11:33:24.539Z"
   },
   {
    "duration": 34,
    "start_time": "2021-12-25T11:33:24.547Z"
   },
   {
    "duration": 20,
    "start_time": "2021-12-25T11:33:24.616Z"
   },
   {
    "duration": 25,
    "start_time": "2021-12-25T11:33:24.641Z"
   },
   {
    "duration": 22,
    "start_time": "2021-12-25T11:33:24.669Z"
   },
   {
    "duration": 41,
    "start_time": "2021-12-25T11:33:24.693Z"
   },
   {
    "duration": 18,
    "start_time": "2021-12-25T11:33:24.736Z"
   },
   {
    "duration": 8,
    "start_time": "2021-12-25T11:33:24.757Z"
   },
   {
    "duration": 67,
    "start_time": "2021-12-25T11:33:24.768Z"
   },
   {
    "duration": 26,
    "start_time": "2021-12-25T11:33:24.837Z"
   },
   {
    "duration": 7194,
    "start_time": "2021-12-25T11:33:24.865Z"
   },
   {
    "duration": -27,
    "start_time": "2021-12-25T11:33:32.089Z"
   },
   {
    "duration": -32,
    "start_time": "2021-12-25T11:33:32.095Z"
   },
   {
    "duration": -44,
    "start_time": "2021-12-25T11:33:32.109Z"
   },
   {
    "duration": -55,
    "start_time": "2021-12-25T11:33:32.121Z"
   },
   {
    "duration": -60,
    "start_time": "2021-12-25T11:33:32.128Z"
   },
   {
    "duration": -64,
    "start_time": "2021-12-25T11:33:32.133Z"
   },
   {
    "duration": -69,
    "start_time": "2021-12-25T11:33:32.139Z"
   },
   {
    "duration": -73,
    "start_time": "2021-12-25T11:33:32.145Z"
   },
   {
    "duration": 7,
    "start_time": "2021-12-25T11:33:53.285Z"
   },
   {
    "duration": 771,
    "start_time": "2021-12-25T11:34:03.300Z"
   },
   {
    "duration": 186,
    "start_time": "2021-12-25T11:34:04.073Z"
   },
   {
    "duration": 10,
    "start_time": "2021-12-25T11:34:04.262Z"
   },
   {
    "duration": 7,
    "start_time": "2021-12-25T11:34:04.274Z"
   },
   {
    "duration": 6,
    "start_time": "2021-12-25T11:34:04.284Z"
   },
   {
    "duration": 45,
    "start_time": "2021-12-25T11:34:04.292Z"
   },
   {
    "duration": 4,
    "start_time": "2021-12-25T11:34:04.340Z"
   },
   {
    "duration": 29,
    "start_time": "2021-12-25T11:34:04.348Z"
   },
   {
    "duration": 52,
    "start_time": "2021-12-25T11:34:04.380Z"
   },
   {
    "duration": 28,
    "start_time": "2021-12-25T11:34:04.434Z"
   },
   {
    "duration": 103,
    "start_time": "2021-12-25T11:34:04.465Z"
   },
   {
    "duration": 105,
    "start_time": "2021-12-25T11:34:04.570Z"
   },
   {
    "duration": 84,
    "start_time": "2021-12-25T11:34:04.677Z"
   },
   {
    "duration": 7,
    "start_time": "2021-12-25T11:34:04.763Z"
   },
   {
    "duration": 44,
    "start_time": "2021-12-25T11:34:04.773Z"
   },
   {
    "duration": 21,
    "start_time": "2021-12-25T11:34:04.819Z"
   },
   {
    "duration": 10,
    "start_time": "2021-12-25T11:34:04.843Z"
   },
   {
    "duration": 16,
    "start_time": "2021-12-25T11:34:04.856Z"
   },
   {
    "duration": 53,
    "start_time": "2021-12-25T11:34:04.875Z"
   },
   {
    "duration": 5,
    "start_time": "2021-12-25T11:34:04.931Z"
   },
   {
    "duration": 32,
    "start_time": "2021-12-25T11:34:04.939Z"
   },
   {
    "duration": 52,
    "start_time": "2021-12-25T11:34:04.974Z"
   },
   {
    "duration": 19,
    "start_time": "2021-12-25T11:34:05.031Z"
   },
   {
    "duration": 19,
    "start_time": "2021-12-25T11:34:05.053Z"
   },
   {
    "duration": 55,
    "start_time": "2021-12-25T11:34:05.075Z"
   },
   {
    "duration": 18,
    "start_time": "2021-12-25T11:34:05.133Z"
   },
   {
    "duration": 9,
    "start_time": "2021-12-25T11:34:05.154Z"
   },
   {
    "duration": 63,
    "start_time": "2021-12-25T11:34:05.165Z"
   },
   {
    "duration": 27,
    "start_time": "2021-12-25T11:34:05.231Z"
   },
   {
    "duration": 6,
    "start_time": "2021-12-25T11:34:05.260Z"
   },
   {
    "duration": 8,
    "start_time": "2021-12-25T11:34:05.268Z"
   },
   {
    "duration": 7,
    "start_time": "2021-12-25T11:34:05.278Z"
   },
   {
    "duration": 10,
    "start_time": "2021-12-25T11:34:05.287Z"
   },
   {
    "duration": 7,
    "start_time": "2021-12-25T11:34:05.318Z"
   },
   {
    "duration": 5,
    "start_time": "2021-12-25T11:34:05.327Z"
   },
   {
    "duration": 5,
    "start_time": "2021-12-25T11:34:05.334Z"
   },
   {
    "duration": 7,
    "start_time": "2021-12-25T11:34:05.342Z"
   },
   {
    "duration": 4,
    "start_time": "2021-12-25T11:34:05.351Z"
   },
   {
    "duration": 5,
    "start_time": "2021-12-25T11:36:54.613Z"
   },
   {
    "duration": 725,
    "start_time": "2021-12-25T11:37:02.642Z"
   },
   {
    "duration": 192,
    "start_time": "2021-12-25T11:37:03.369Z"
   },
   {
    "duration": 10,
    "start_time": "2021-12-25T11:37:03.564Z"
   },
   {
    "duration": 7,
    "start_time": "2021-12-25T11:37:03.577Z"
   },
   {
    "duration": 6,
    "start_time": "2021-12-25T11:37:03.587Z"
   },
   {
    "duration": 49,
    "start_time": "2021-12-25T11:37:03.596Z"
   },
   {
    "duration": 7,
    "start_time": "2021-12-25T11:37:03.647Z"
   },
   {
    "duration": 58,
    "start_time": "2021-12-25T11:37:03.659Z"
   },
   {
    "duration": 23,
    "start_time": "2021-12-25T11:37:03.720Z"
   },
   {
    "duration": 29,
    "start_time": "2021-12-25T11:37:03.746Z"
   },
   {
    "duration": 120,
    "start_time": "2021-12-25T11:37:03.777Z"
   },
   {
    "duration": 121,
    "start_time": "2021-12-25T11:37:03.899Z"
   },
   {
    "duration": 77,
    "start_time": "2021-12-25T11:37:04.022Z"
   },
   {
    "duration": 21,
    "start_time": "2021-12-25T11:37:04.102Z"
   },
   {
    "duration": 24,
    "start_time": "2021-12-25T11:37:04.125Z"
   },
   {
    "duration": 23,
    "start_time": "2021-12-25T11:37:04.152Z"
   },
   {
    "duration": 40,
    "start_time": "2021-12-25T11:37:04.178Z"
   },
   {
    "duration": 17,
    "start_time": "2021-12-25T11:37:04.222Z"
   },
   {
    "duration": 13,
    "start_time": "2021-12-25T11:37:04.242Z"
   },
   {
    "duration": 5,
    "start_time": "2021-12-25T11:37:04.257Z"
   },
   {
    "duration": 82,
    "start_time": "2021-12-25T11:37:04.264Z"
   },
   {
    "duration": 20,
    "start_time": "2021-12-25T11:37:04.349Z"
   },
   {
    "duration": 44,
    "start_time": "2021-12-25T11:37:04.375Z"
   },
   {
    "duration": 18,
    "start_time": "2021-12-25T11:37:04.422Z"
   },
   {
    "duration": 23,
    "start_time": "2021-12-25T11:37:04.443Z"
   },
   {
    "duration": 52,
    "start_time": "2021-12-25T11:37:04.469Z"
   },
   {
    "duration": 10,
    "start_time": "2021-12-25T11:37:04.523Z"
   },
   {
    "duration": 34,
    "start_time": "2021-12-25T11:37:04.536Z"
   },
   {
    "duration": 61,
    "start_time": "2021-12-25T11:37:04.573Z"
   },
   {
    "duration": 5,
    "start_time": "2021-12-25T11:37:04.637Z"
   },
   {
    "duration": 15,
    "start_time": "2021-12-25T11:37:04.644Z"
   },
   {
    "duration": 12,
    "start_time": "2021-12-25T11:37:04.662Z"
   },
   {
    "duration": 6,
    "start_time": "2021-12-25T11:37:04.676Z"
   },
   {
    "duration": 32,
    "start_time": "2021-12-25T11:37:04.685Z"
   },
   {
    "duration": 11,
    "start_time": "2021-12-25T11:37:04.720Z"
   },
   {
    "duration": 8,
    "start_time": "2021-12-25T11:37:04.733Z"
   },
   {
    "duration": 9,
    "start_time": "2021-12-25T11:37:04.743Z"
   },
   {
    "duration": 6,
    "start_time": "2021-12-25T11:37:04.755Z"
   },
   {
    "duration": 1407,
    "start_time": "2021-12-25T11:38:30.356Z"
   },
   {
    "duration": 14,
    "start_time": "2021-12-25T11:40:33.822Z"
   },
   {
    "duration": 33,
    "start_time": "2021-12-25T11:41:27.606Z"
   },
   {
    "duration": 28,
    "start_time": "2021-12-25T11:43:02.134Z"
   },
   {
    "duration": 6,
    "start_time": "2021-12-25T11:48:44.406Z"
   },
   {
    "duration": 1390,
    "start_time": "2021-12-25T11:48:49.280Z"
   },
   {
    "duration": 5,
    "start_time": "2021-12-25T11:51:01.226Z"
   },
   {
    "duration": 950,
    "start_time": "2021-12-25T11:51:03.957Z"
   },
   {
    "duration": 755,
    "start_time": "2021-12-25T11:54:34.822Z"
   },
   {
    "duration": 192,
    "start_time": "2021-12-25T11:54:35.580Z"
   },
   {
    "duration": 11,
    "start_time": "2021-12-25T11:54:35.775Z"
   },
   {
    "duration": 18,
    "start_time": "2021-12-25T11:54:35.788Z"
   },
   {
    "duration": 27,
    "start_time": "2021-12-25T11:54:35.809Z"
   },
   {
    "duration": 41,
    "start_time": "2021-12-25T11:54:35.838Z"
   },
   {
    "duration": 5,
    "start_time": "2021-12-25T11:54:35.881Z"
   },
   {
    "duration": 36,
    "start_time": "2021-12-25T11:54:35.889Z"
   },
   {
    "duration": 37,
    "start_time": "2021-12-25T11:54:35.928Z"
   },
   {
    "duration": 30,
    "start_time": "2021-12-25T11:54:35.967Z"
   },
   {
    "duration": 116,
    "start_time": "2021-12-25T11:54:36.000Z"
   },
   {
    "duration": 116,
    "start_time": "2021-12-25T11:54:36.118Z"
   },
   {
    "duration": 87,
    "start_time": "2021-12-25T11:54:36.237Z"
   },
   {
    "duration": 10,
    "start_time": "2021-12-25T11:54:36.326Z"
   },
   {
    "duration": 24,
    "start_time": "2021-12-25T11:54:36.339Z"
   },
   {
    "duration": 56,
    "start_time": "2021-12-25T11:54:36.366Z"
   },
   {
    "duration": 10,
    "start_time": "2021-12-25T11:54:36.424Z"
   },
   {
    "duration": 25,
    "start_time": "2021-12-25T11:54:36.437Z"
   },
   {
    "duration": 18,
    "start_time": "2021-12-25T11:54:36.464Z"
   },
   {
    "duration": 13,
    "start_time": "2021-12-25T11:54:36.484Z"
   },
   {
    "duration": 36,
    "start_time": "2021-12-25T11:54:36.517Z"
   },
   {
    "duration": 27,
    "start_time": "2021-12-25T11:54:36.556Z"
   },
   {
    "duration": 38,
    "start_time": "2021-12-25T11:54:36.588Z"
   },
   {
    "duration": 24,
    "start_time": "2021-12-25T11:54:36.629Z"
   },
   {
    "duration": 23,
    "start_time": "2021-12-25T11:54:36.656Z"
   },
   {
    "duration": 40,
    "start_time": "2021-12-25T11:54:36.681Z"
   },
   {
    "duration": 9,
    "start_time": "2021-12-25T11:54:36.724Z"
   },
   {
    "duration": 31,
    "start_time": "2021-12-25T11:54:36.735Z"
   },
   {
    "duration": 59,
    "start_time": "2021-12-25T11:54:36.769Z"
   },
   {
    "duration": 5,
    "start_time": "2021-12-25T11:54:36.831Z"
   },
   {
    "duration": 628,
    "start_time": "2021-12-25T11:54:36.838Z"
   },
   {
    "duration": -6,
    "start_time": "2021-12-25T11:54:37.474Z"
   },
   {
    "duration": -9,
    "start_time": "2021-12-25T11:54:37.479Z"
   },
   {
    "duration": -14,
    "start_time": "2021-12-25T11:54:37.485Z"
   },
   {
    "duration": -20,
    "start_time": "2021-12-25T11:54:37.492Z"
   },
   {
    "duration": -22,
    "start_time": "2021-12-25T11:54:37.496Z"
   },
   {
    "duration": -27,
    "start_time": "2021-12-25T11:54:37.502Z"
   },
   {
    "duration": -31,
    "start_time": "2021-12-25T11:54:37.508Z"
   },
   {
    "duration": 731,
    "start_time": "2021-12-25T12:08:31.140Z"
   },
   {
    "duration": 200,
    "start_time": "2021-12-25T12:08:31.873Z"
   },
   {
    "duration": 11,
    "start_time": "2021-12-25T12:08:32.077Z"
   },
   {
    "duration": 5,
    "start_time": "2021-12-25T12:08:32.091Z"
   },
   {
    "duration": 22,
    "start_time": "2021-12-25T12:08:32.098Z"
   },
   {
    "duration": 30,
    "start_time": "2021-12-25T12:08:32.122Z"
   },
   {
    "duration": 9,
    "start_time": "2021-12-25T12:08:32.154Z"
   },
   {
    "duration": 61,
    "start_time": "2021-12-25T12:08:32.167Z"
   },
   {
    "duration": 21,
    "start_time": "2021-12-25T12:08:32.231Z"
   },
   {
    "duration": 29,
    "start_time": "2021-12-25T12:08:32.255Z"
   },
   {
    "duration": 106,
    "start_time": "2021-12-25T12:08:32.286Z"
   },
   {
    "duration": 99,
    "start_time": "2021-12-25T12:08:32.395Z"
   },
   {
    "duration": 92,
    "start_time": "2021-12-25T12:08:32.496Z"
   },
   {
    "duration": 8,
    "start_time": "2021-12-25T12:08:32.590Z"
   },
   {
    "duration": 36,
    "start_time": "2021-12-25T12:08:32.600Z"
   },
   {
    "duration": 22,
    "start_time": "2021-12-25T12:08:32.639Z"
   },
   {
    "duration": 8,
    "start_time": "2021-12-25T12:08:32.664Z"
   },
   {
    "duration": 47,
    "start_time": "2021-12-25T12:08:32.675Z"
   },
   {
    "duration": 14,
    "start_time": "2021-12-25T12:08:32.725Z"
   },
   {
    "duration": 5,
    "start_time": "2021-12-25T12:08:32.741Z"
   },
   {
    "duration": 34,
    "start_time": "2021-12-25T12:08:32.748Z"
   },
   {
    "duration": 19,
    "start_time": "2021-12-25T12:08:32.817Z"
   },
   {
    "duration": 20,
    "start_time": "2021-12-25T12:08:32.841Z"
   },
   {
    "duration": 18,
    "start_time": "2021-12-25T12:08:32.864Z"
   },
   {
    "duration": 51,
    "start_time": "2021-12-25T12:08:32.885Z"
   },
   {
    "duration": 19,
    "start_time": "2021-12-25T12:08:32.938Z"
   },
   {
    "duration": 444,
    "start_time": "2021-12-25T12:08:32.959Z"
   },
   {
    "duration": -141,
    "start_time": "2021-12-25T12:08:33.546Z"
   },
   {
    "duration": -148,
    "start_time": "2021-12-25T12:08:33.555Z"
   },
   {
    "duration": -159,
    "start_time": "2021-12-25T12:08:33.567Z"
   },
   {
    "duration": -166,
    "start_time": "2021-12-25T12:08:33.575Z"
   },
   {
    "duration": -170,
    "start_time": "2021-12-25T12:08:33.581Z"
   },
   {
    "duration": -174,
    "start_time": "2021-12-25T12:08:33.586Z"
   },
   {
    "duration": -179,
    "start_time": "2021-12-25T12:08:33.593Z"
   },
   {
    "duration": -182,
    "start_time": "2021-12-25T12:08:33.597Z"
   },
   {
    "duration": -188,
    "start_time": "2021-12-25T12:08:33.604Z"
   },
   {
    "duration": -196,
    "start_time": "2021-12-25T12:08:33.613Z"
   },
   {
    "duration": -200,
    "start_time": "2021-12-25T12:08:33.619Z"
   },
   {
    "duration": 13,
    "start_time": "2021-12-25T12:08:51.906Z"
   },
   {
    "duration": 13,
    "start_time": "2021-12-25T12:08:56.106Z"
   },
   {
    "duration": 6,
    "start_time": "2021-12-25T12:09:01.021Z"
   },
   {
    "duration": 7700,
    "start_time": "2021-12-25T12:09:05.177Z"
   },
   {
    "duration": 801,
    "start_time": "2021-12-25T12:09:27.992Z"
   },
   {
    "duration": 198,
    "start_time": "2021-12-25T12:09:28.796Z"
   },
   {
    "duration": 19,
    "start_time": "2021-12-25T12:09:28.998Z"
   },
   {
    "duration": 3,
    "start_time": "2021-12-25T12:09:29.020Z"
   },
   {
    "duration": 8,
    "start_time": "2021-12-25T12:09:29.025Z"
   },
   {
    "duration": 30,
    "start_time": "2021-12-25T12:09:29.035Z"
   },
   {
    "duration": 7,
    "start_time": "2021-12-25T12:09:29.067Z"
   },
   {
    "duration": 67,
    "start_time": "2021-12-25T12:09:29.078Z"
   },
   {
    "duration": 23,
    "start_time": "2021-12-25T12:09:29.148Z"
   },
   {
    "duration": 52,
    "start_time": "2021-12-25T12:09:29.173Z"
   },
   {
    "duration": 109,
    "start_time": "2021-12-25T12:09:29.227Z"
   },
   {
    "duration": 117,
    "start_time": "2021-12-25T12:09:29.338Z"
   },
   {
    "duration": 97,
    "start_time": "2021-12-25T12:09:29.457Z"
   },
   {
    "duration": 8,
    "start_time": "2021-12-25T12:09:29.557Z"
   },
   {
    "duration": 26,
    "start_time": "2021-12-25T12:09:29.568Z"
   },
   {
    "duration": 37,
    "start_time": "2021-12-25T12:09:29.597Z"
   },
   {
    "duration": 11,
    "start_time": "2021-12-25T12:09:29.637Z"
   },
   {
    "duration": 16,
    "start_time": "2021-12-25T12:09:29.650Z"
   },
   {
    "duration": 51,
    "start_time": "2021-12-25T12:09:29.668Z"
   },
   {
    "duration": 5,
    "start_time": "2021-12-25T12:09:29.722Z"
   },
   {
    "duration": 35,
    "start_time": "2021-12-25T12:09:29.730Z"
   },
   {
    "duration": 20,
    "start_time": "2021-12-25T12:09:29.768Z"
   },
   {
    "duration": 22,
    "start_time": "2021-12-25T12:09:29.822Z"
   },
   {
    "duration": 19,
    "start_time": "2021-12-25T12:09:29.847Z"
   },
   {
    "duration": 52,
    "start_time": "2021-12-25T12:09:29.869Z"
   },
   {
    "duration": 20,
    "start_time": "2021-12-25T12:09:29.923Z"
   },
   {
    "duration": 489,
    "start_time": "2021-12-25T12:09:29.945Z"
   },
   {
    "duration": 2,
    "start_time": "2021-12-25T12:09:30.435Z"
   },
   {
    "duration": -6,
    "start_time": "2021-12-25T12:09:30.444Z"
   },
   {
    "duration": -10,
    "start_time": "2021-12-25T12:09:30.450Z"
   },
   {
    "duration": -15,
    "start_time": "2021-12-25T12:09:30.457Z"
   },
   {
    "duration": -20,
    "start_time": "2021-12-25T12:09:30.463Z"
   },
   {
    "duration": -24,
    "start_time": "2021-12-25T12:09:30.469Z"
   },
   {
    "duration": -30,
    "start_time": "2021-12-25T12:09:30.476Z"
   },
   {
    "duration": -35,
    "start_time": "2021-12-25T12:09:30.482Z"
   },
   {
    "duration": -39,
    "start_time": "2021-12-25T12:09:30.488Z"
   },
   {
    "duration": -45,
    "start_time": "2021-12-25T12:09:30.495Z"
   },
   {
    "duration": -49,
    "start_time": "2021-12-25T12:09:30.501Z"
   },
   {
    "duration": 9,
    "start_time": "2021-12-25T12:09:54.063Z"
   },
   {
    "duration": 15,
    "start_time": "2021-12-25T12:09:59.947Z"
   },
   {
    "duration": 11,
    "start_time": "2021-12-25T12:10:02.716Z"
   },
   {
    "duration": 6,
    "start_time": "2021-12-25T12:10:06.115Z"
   },
   {
    "duration": 37,
    "start_time": "2021-12-25T12:10:20.552Z"
   },
   {
    "duration": 519,
    "start_time": "2021-12-25T12:10:44.481Z"
   },
   {
    "duration": 292,
    "start_time": "2021-12-25T12:11:20.808Z"
   },
   {
    "duration": 850,
    "start_time": "2021-12-25T12:11:37.609Z"
   },
   {
    "duration": 199,
    "start_time": "2021-12-25T12:11:38.462Z"
   },
   {
    "duration": 10,
    "start_time": "2021-12-25T12:11:38.664Z"
   },
   {
    "duration": 6,
    "start_time": "2021-12-25T12:11:38.677Z"
   },
   {
    "duration": 7,
    "start_time": "2021-12-25T12:11:38.686Z"
   },
   {
    "duration": 50,
    "start_time": "2021-12-25T12:11:38.695Z"
   },
   {
    "duration": 5,
    "start_time": "2021-12-25T12:11:38.747Z"
   },
   {
    "duration": 61,
    "start_time": "2021-12-25T12:11:38.756Z"
   },
   {
    "duration": 23,
    "start_time": "2021-12-25T12:11:38.821Z"
   },
   {
    "duration": 30,
    "start_time": "2021-12-25T12:11:38.846Z"
   },
   {
    "duration": 112,
    "start_time": "2021-12-25T12:11:38.879Z"
   },
   {
    "duration": 104,
    "start_time": "2021-12-25T12:11:38.993Z"
   },
   {
    "duration": 83,
    "start_time": "2021-12-25T12:11:39.099Z"
   },
   {
    "duration": 8,
    "start_time": "2021-12-25T12:11:39.185Z"
   },
   {
    "duration": 39,
    "start_time": "2021-12-25T12:11:39.196Z"
   },
   {
    "duration": 42,
    "start_time": "2021-12-25T12:11:39.238Z"
   },
   {
    "duration": 9,
    "start_time": "2021-12-25T12:11:39.283Z"
   },
   {
    "duration": 27,
    "start_time": "2021-12-25T12:11:39.295Z"
   },
   {
    "duration": 14,
    "start_time": "2021-12-25T12:11:39.324Z"
   },
   {
    "duration": 4,
    "start_time": "2021-12-25T12:11:39.341Z"
   },
   {
    "duration": 39,
    "start_time": "2021-12-25T12:11:39.348Z"
   },
   {
    "duration": 38,
    "start_time": "2021-12-25T12:11:39.390Z"
   },
   {
    "duration": 19,
    "start_time": "2021-12-25T12:11:39.433Z"
   },
   {
    "duration": 19,
    "start_time": "2021-12-25T12:11:39.455Z"
   },
   {
    "duration": 54,
    "start_time": "2021-12-25T12:11:39.477Z"
   },
   {
    "duration": 22,
    "start_time": "2021-12-25T12:11:39.533Z"
   },
   {
    "duration": 19,
    "start_time": "2021-12-25T12:11:39.558Z"
   },
   {
    "duration": 49,
    "start_time": "2021-12-25T12:11:39.579Z"
   },
   {
    "duration": 15,
    "start_time": "2021-12-25T12:11:39.631Z"
   },
   {
    "duration": 13,
    "start_time": "2021-12-25T12:11:39.649Z"
   },
   {
    "duration": 7004,
    "start_time": "2021-12-25T12:11:39.664Z"
   },
   {
    "duration": 12,
    "start_time": "2021-12-25T12:11:46.658Z"
   },
   {
    "duration": 5,
    "start_time": "2021-12-25T12:11:46.667Z"
   },
   {
    "duration": 0,
    "start_time": "2021-12-25T12:11:46.673Z"
   },
   {
    "duration": -5,
    "start_time": "2021-12-25T12:11:46.680Z"
   },
   {
    "duration": -10,
    "start_time": "2021-12-25T12:11:46.686Z"
   },
   {
    "duration": -16,
    "start_time": "2021-12-25T12:11:46.693Z"
   },
   {
    "duration": -19,
    "start_time": "2021-12-25T12:11:46.698Z"
   },
   {
    "duration": -24,
    "start_time": "2021-12-25T12:11:46.705Z"
   },
   {
    "duration": 6,
    "start_time": "2021-12-25T12:12:03.227Z"
   },
   {
    "duration": 6971,
    "start_time": "2021-12-25T12:12:06.689Z"
   },
   {
    "duration": 999,
    "start_time": "2021-12-25T12:13:39.563Z"
   },
   {
    "duration": 10338,
    "start_time": "2021-12-25T12:13:52.481Z"
   },
   {
    "duration": 11527,
    "start_time": "2021-12-25T12:15:10.434Z"
   },
   {
    "duration": 5,
    "start_time": "2021-12-25T12:17:27.229Z"
   },
   {
    "duration": 7126,
    "start_time": "2021-12-25T12:17:30.940Z"
   },
   {
    "duration": 6,
    "start_time": "2021-12-25T12:18:13.189Z"
   },
   {
    "duration": 12460,
    "start_time": "2021-12-25T12:18:16.395Z"
   },
   {
    "duration": 9,
    "start_time": "2021-12-25T12:20:39.081Z"
   },
   {
    "duration": 11,
    "start_time": "2021-12-25T12:21:01.881Z"
   },
   {
    "duration": 11,
    "start_time": "2021-12-25T12:21:04.570Z"
   },
   {
    "duration": 16,
    "start_time": "2021-12-25T12:21:19.822Z"
   },
   {
    "duration": 5,
    "start_time": "2021-12-25T12:21:26.534Z"
   },
   {
    "duration": 10902,
    "start_time": "2021-12-25T12:21:29.183Z"
   },
   {
    "duration": 6,
    "start_time": "2021-12-25T12:22:05.434Z"
   },
   {
    "duration": 11609,
    "start_time": "2021-12-25T12:22:07.885Z"
   },
   {
    "duration": 5,
    "start_time": "2021-12-25T12:46:51.192Z"
   },
   {
    "duration": 7966,
    "start_time": "2021-12-25T12:46:54.341Z"
   },
   {
    "duration": 11,
    "start_time": "2021-12-25T12:50:46.403Z"
   },
   {
    "duration": 11,
    "start_time": "2021-12-25T12:50:50.798Z"
   },
   {
    "duration": 788,
    "start_time": "2021-12-25T12:51:11.062Z"
   },
   {
    "duration": 226,
    "start_time": "2021-12-25T12:51:11.852Z"
   },
   {
    "duration": 14,
    "start_time": "2021-12-25T12:51:12.081Z"
   },
   {
    "duration": 20,
    "start_time": "2021-12-25T12:51:12.098Z"
   },
   {
    "duration": 24,
    "start_time": "2021-12-25T12:51:12.121Z"
   },
   {
    "duration": 47,
    "start_time": "2021-12-25T12:51:12.148Z"
   },
   {
    "duration": 34,
    "start_time": "2021-12-25T12:51:12.198Z"
   },
   {
    "duration": 56,
    "start_time": "2021-12-25T12:51:12.237Z"
   },
   {
    "duration": 29,
    "start_time": "2021-12-25T12:51:12.297Z"
   },
   {
    "duration": 29,
    "start_time": "2021-12-25T12:51:12.328Z"
   },
   {
    "duration": 106,
    "start_time": "2021-12-25T12:51:12.359Z"
   },
   {
    "duration": 114,
    "start_time": "2021-12-25T12:51:12.468Z"
   },
   {
    "duration": 84,
    "start_time": "2021-12-25T12:51:12.585Z"
   },
   {
    "duration": 8,
    "start_time": "2021-12-25T12:51:12.672Z"
   },
   {
    "duration": 39,
    "start_time": "2021-12-25T12:51:12.682Z"
   },
   {
    "duration": 20,
    "start_time": "2021-12-25T12:51:12.724Z"
   },
   {
    "duration": 12,
    "start_time": "2021-12-25T12:51:12.747Z"
   },
   {
    "duration": 16,
    "start_time": "2021-12-25T12:51:12.761Z"
   },
   {
    "duration": 50,
    "start_time": "2021-12-25T12:51:12.779Z"
   },
   {
    "duration": 4,
    "start_time": "2021-12-25T12:51:12.832Z"
   },
   {
    "duration": 33,
    "start_time": "2021-12-25T12:51:12.840Z"
   },
   {
    "duration": 48,
    "start_time": "2021-12-25T12:51:12.876Z"
   },
   {
    "duration": 20,
    "start_time": "2021-12-25T12:51:12.929Z"
   },
   {
    "duration": 20,
    "start_time": "2021-12-25T12:51:12.953Z"
   },
   {
    "duration": 58,
    "start_time": "2021-12-25T12:51:12.976Z"
   },
   {
    "duration": 19,
    "start_time": "2021-12-25T12:51:13.036Z"
   },
   {
    "duration": 8,
    "start_time": "2021-12-25T12:51:13.058Z"
   },
   {
    "duration": 64,
    "start_time": "2021-12-25T12:51:13.069Z"
   },
   {
    "duration": 28,
    "start_time": "2021-12-25T12:51:13.135Z"
   },
   {
    "duration": 5,
    "start_time": "2021-12-25T12:51:13.166Z"
   },
   {
    "duration": 8464,
    "start_time": "2021-12-25T12:51:13.173Z"
   },
   {
    "duration": 644,
    "start_time": "2021-12-25T12:51:20.997Z"
   },
   {
    "duration": 635,
    "start_time": "2021-12-25T12:51:21.007Z"
   },
   {
    "duration": 629,
    "start_time": "2021-12-25T12:51:21.014Z"
   },
   {
    "duration": 625,
    "start_time": "2021-12-25T12:51:21.020Z"
   },
   {
    "duration": 620,
    "start_time": "2021-12-25T12:51:21.027Z"
   },
   {
    "duration": 614,
    "start_time": "2021-12-25T12:51:21.034Z"
   },
   {
    "duration": 609,
    "start_time": "2021-12-25T12:51:21.040Z"
   },
   {
    "duration": 605,
    "start_time": "2021-12-25T12:51:21.046Z"
   },
   {
    "duration": 6594,
    "start_time": "2021-12-25T12:51:23.838Z"
   },
   {
    "duration": 7,
    "start_time": "2021-12-25T12:52:10.166Z"
   },
   {
    "duration": 7,
    "start_time": "2021-12-25T12:52:33.364Z"
   },
   {
    "duration": 11,
    "start_time": "2021-12-25T12:57:45.394Z"
   },
   {
    "duration": 11,
    "start_time": "2021-12-25T12:57:49.326Z"
   },
   {
    "duration": 27,
    "start_time": "2021-12-25T13:02:42.717Z"
   },
   {
    "duration": 28,
    "start_time": "2021-12-25T13:02:45.037Z"
   },
   {
    "duration": 733,
    "start_time": "2021-12-25T13:03:44.039Z"
   },
   {
    "duration": 181,
    "start_time": "2021-12-25T13:03:44.775Z"
   },
   {
    "duration": 12,
    "start_time": "2021-12-25T13:03:44.962Z"
   },
   {
    "duration": 6,
    "start_time": "2021-12-25T13:03:44.976Z"
   },
   {
    "duration": 6,
    "start_time": "2021-12-25T13:03:44.984Z"
   },
   {
    "duration": 52,
    "start_time": "2021-12-25T13:03:44.992Z"
   },
   {
    "duration": 8,
    "start_time": "2021-12-25T13:03:45.048Z"
   },
   {
    "duration": 39,
    "start_time": "2021-12-25T13:03:45.059Z"
   },
   {
    "duration": 22,
    "start_time": "2021-12-25T13:03:45.118Z"
   },
   {
    "duration": 30,
    "start_time": "2021-12-25T13:03:45.142Z"
   },
   {
    "duration": 113,
    "start_time": "2021-12-25T13:03:45.175Z"
   },
   {
    "duration": 107,
    "start_time": "2021-12-25T13:03:45.291Z"
   },
   {
    "duration": 78,
    "start_time": "2021-12-25T13:03:45.401Z"
   },
   {
    "duration": 9,
    "start_time": "2021-12-25T13:03:45.482Z"
   },
   {
    "duration": 42,
    "start_time": "2021-12-25T13:03:45.493Z"
   },
   {
    "duration": 20,
    "start_time": "2021-12-25T13:03:45.537Z"
   },
   {
    "duration": 14,
    "start_time": "2021-12-25T13:03:45.560Z"
   },
   {
    "duration": 41,
    "start_time": "2021-12-25T13:03:45.576Z"
   },
   {
    "duration": 14,
    "start_time": "2021-12-25T13:03:45.619Z"
   },
   {
    "duration": 5,
    "start_time": "2021-12-25T13:03:45.635Z"
   },
   {
    "duration": 35,
    "start_time": "2021-12-25T13:03:45.642Z"
   },
   {
    "duration": 43,
    "start_time": "2021-12-25T13:03:45.681Z"
   },
   {
    "duration": 21,
    "start_time": "2021-12-25T13:03:45.726Z"
   },
   {
    "duration": 18,
    "start_time": "2021-12-25T13:03:45.749Z"
   },
   {
    "duration": 55,
    "start_time": "2021-12-25T13:03:45.769Z"
   },
   {
    "duration": 17,
    "start_time": "2021-12-25T13:03:45.827Z"
   },
   {
    "duration": 8,
    "start_time": "2021-12-25T13:03:45.847Z"
   },
   {
    "duration": 61,
    "start_time": "2021-12-25T13:03:45.858Z"
   },
   {
    "duration": 27,
    "start_time": "2021-12-25T13:03:45.922Z"
   },
   {
    "duration": 8,
    "start_time": "2021-12-25T13:03:45.952Z"
   },
   {
    "duration": 7286,
    "start_time": "2021-12-25T13:03:45.962Z"
   },
   {
    "duration": 646,
    "start_time": "2021-12-25T13:03:52.604Z"
   },
   {
    "duration": 639,
    "start_time": "2021-12-25T13:03:52.613Z"
   },
   {
    "duration": 635,
    "start_time": "2021-12-25T13:03:52.618Z"
   },
   {
    "duration": 629,
    "start_time": "2021-12-25T13:03:52.625Z"
   },
   {
    "duration": 625,
    "start_time": "2021-12-25T13:03:52.630Z"
   },
   {
    "duration": 620,
    "start_time": "2021-12-25T13:03:52.637Z"
   },
   {
    "duration": 615,
    "start_time": "2021-12-25T13:03:52.643Z"
   },
   {
    "duration": 5,
    "start_time": "2021-12-25T13:04:05.757Z"
   },
   {
    "duration": 8,
    "start_time": "2021-12-25T13:04:12.658Z"
   },
   {
    "duration": 6884,
    "start_time": "2021-12-25T13:04:16.795Z"
   },
   {
    "duration": 6,
    "start_time": "2021-12-25T13:05:03.835Z"
   },
   {
    "duration": 6730,
    "start_time": "2021-12-25T13:05:11.381Z"
   },
   {
    "duration": 7,
    "start_time": "2021-12-25T13:05:52.766Z"
   },
   {
    "duration": 6,
    "start_time": "2021-12-25T13:08:19.748Z"
   },
   {
    "duration": 6,
    "start_time": "2021-12-25T13:09:28.988Z"
   },
   {
    "duration": 576,
    "start_time": "2021-12-25T13:09:33.231Z"
   },
   {
    "duration": 6,
    "start_time": "2021-12-25T13:09:48.456Z"
   },
   {
    "duration": 24,
    "start_time": "2021-12-25T13:09:52.929Z"
   },
   {
    "duration": 743,
    "start_time": "2021-12-25T13:14:58.989Z"
   },
   {
    "duration": 179,
    "start_time": "2021-12-25T13:14:59.735Z"
   },
   {
    "duration": 10,
    "start_time": "2021-12-25T13:14:59.918Z"
   },
   {
    "duration": 7,
    "start_time": "2021-12-25T13:14:59.931Z"
   },
   {
    "duration": 8,
    "start_time": "2021-12-25T13:14:59.940Z"
   },
   {
    "duration": 28,
    "start_time": "2021-12-25T13:14:59.950Z"
   },
   {
    "duration": 10,
    "start_time": "2021-12-25T13:14:59.980Z"
   },
   {
    "duration": 29,
    "start_time": "2021-12-25T13:15:00.020Z"
   },
   {
    "duration": 29,
    "start_time": "2021-12-25T13:15:00.052Z"
   },
   {
    "duration": 47,
    "start_time": "2021-12-25T13:15:00.083Z"
   },
   {
    "duration": 103,
    "start_time": "2021-12-25T13:15:00.132Z"
   },
   {
    "duration": 114,
    "start_time": "2021-12-25T13:15:00.237Z"
   },
   {
    "duration": 86,
    "start_time": "2021-12-25T13:15:00.354Z"
   },
   {
    "duration": 8,
    "start_time": "2021-12-25T13:15:00.443Z"
   },
   {
    "duration": 28,
    "start_time": "2021-12-25T13:15:00.454Z"
   },
   {
    "duration": 42,
    "start_time": "2021-12-25T13:15:00.484Z"
   },
   {
    "duration": 13,
    "start_time": "2021-12-25T13:15:00.528Z"
   },
   {
    "duration": 21,
    "start_time": "2021-12-25T13:15:00.543Z"
   },
   {
    "duration": 14,
    "start_time": "2021-12-25T13:15:00.566Z"
   },
   {
    "duration": 5,
    "start_time": "2021-12-25T13:15:00.582Z"
   },
   {
    "duration": 28,
    "start_time": "2021-12-25T13:15:00.618Z"
   },
   {
    "duration": 17,
    "start_time": "2021-12-25T13:15:00.649Z"
   },
   {
    "duration": 48,
    "start_time": "2021-12-25T13:15:00.670Z"
   },
   {
    "duration": 18,
    "start_time": "2021-12-25T13:15:00.721Z"
   },
   {
    "duration": 21,
    "start_time": "2021-12-25T13:15:00.741Z"
   },
   {
    "duration": 17,
    "start_time": "2021-12-25T13:15:00.765Z"
   },
   {
    "duration": 9,
    "start_time": "2021-12-25T13:15:00.818Z"
   },
   {
    "duration": 32,
    "start_time": "2021-12-25T13:15:00.830Z"
   },
   {
    "duration": 59,
    "start_time": "2021-12-25T13:15:00.865Z"
   },
   {
    "duration": 7,
    "start_time": "2021-12-25T13:15:00.927Z"
   },
   {
    "duration": 35,
    "start_time": "2021-12-25T13:15:00.937Z"
   },
   {
    "duration": 43,
    "start_time": "2021-12-25T13:15:00.974Z"
   },
   {
    "duration": 24,
    "start_time": "2021-12-25T13:15:01.020Z"
   },
   {
    "duration": 17,
    "start_time": "2021-12-25T13:15:01.046Z"
   },
   {
    "duration": 3,
    "start_time": "2021-12-25T13:15:01.065Z"
   },
   {
    "duration": 10,
    "start_time": "2021-12-25T13:15:01.070Z"
   },
   {
    "duration": 35,
    "start_time": "2021-12-25T13:15:01.082Z"
   },
   {
    "duration": 7,
    "start_time": "2021-12-25T13:15:01.120Z"
   },
   {
    "duration": 380,
    "start_time": "2021-12-25T14:23:59.018Z"
   },
   {
    "duration": 276,
    "start_time": "2021-12-25T14:24:22.613Z"
   },
   {
    "duration": 31,
    "start_time": "2021-12-25T14:24:49.828Z"
   },
   {
    "duration": 31,
    "start_time": "2021-12-25T14:24:53.508Z"
   },
   {
    "duration": 741,
    "start_time": "2021-12-25T14:25:00.846Z"
   },
   {
    "duration": 199,
    "start_time": "2021-12-25T14:25:01.589Z"
   },
   {
    "duration": 11,
    "start_time": "2021-12-25T14:25:01.791Z"
   },
   {
    "duration": 19,
    "start_time": "2021-12-25T14:25:01.804Z"
   },
   {
    "duration": 14,
    "start_time": "2021-12-25T14:25:01.826Z"
   },
   {
    "duration": 41,
    "start_time": "2021-12-25T14:25:01.842Z"
   },
   {
    "duration": 25,
    "start_time": "2021-12-25T14:25:01.886Z"
   },
   {
    "duration": 41,
    "start_time": "2021-12-25T14:25:01.913Z"
   },
   {
    "duration": 35,
    "start_time": "2021-12-25T14:25:01.958Z"
   },
   {
    "duration": 44,
    "start_time": "2021-12-25T14:25:01.996Z"
   },
   {
    "duration": 97,
    "start_time": "2021-12-25T14:25:02.043Z"
   },
   {
    "duration": 117,
    "start_time": "2021-12-25T14:25:02.142Z"
   },
   {
    "duration": 87,
    "start_time": "2021-12-25T14:25:02.261Z"
   },
   {
    "duration": 8,
    "start_time": "2021-12-25T14:25:02.350Z"
   },
   {
    "duration": 38,
    "start_time": "2021-12-25T14:25:02.360Z"
   },
   {
    "duration": 27,
    "start_time": "2021-12-25T14:25:02.401Z"
   },
   {
    "duration": 45,
    "start_time": "2021-12-25T14:25:02.430Z"
   },
   {
    "duration": 23,
    "start_time": "2021-12-25T14:25:02.477Z"
   },
   {
    "duration": 18,
    "start_time": "2021-12-25T14:25:02.502Z"
   },
   {
    "duration": 4,
    "start_time": "2021-12-25T14:25:02.522Z"
   },
   {
    "duration": 34,
    "start_time": "2021-12-25T14:25:02.529Z"
   },
   {
    "duration": 18,
    "start_time": "2021-12-25T14:25:02.566Z"
   },
   {
    "duration": 45,
    "start_time": "2021-12-25T14:25:02.586Z"
   },
   {
    "duration": 21,
    "start_time": "2021-12-25T14:25:02.633Z"
   },
   {
    "duration": 23,
    "start_time": "2021-12-25T14:25:02.657Z"
   },
   {
    "duration": 47,
    "start_time": "2021-12-25T14:25:02.683Z"
   },
   {
    "duration": 9,
    "start_time": "2021-12-25T14:25:02.736Z"
   },
   {
    "duration": 70,
    "start_time": "2021-12-25T14:25:02.749Z"
   },
   {
    "duration": 34,
    "start_time": "2021-12-25T14:25:02.821Z"
   },
   {
    "duration": 7,
    "start_time": "2021-12-25T14:25:02.858Z"
   },
   {
    "duration": 55,
    "start_time": "2021-12-25T14:25:02.868Z"
   },
   {
    "duration": 19,
    "start_time": "2021-12-25T14:25:02.926Z"
   },
   {
    "duration": 25,
    "start_time": "2021-12-25T14:25:02.948Z"
   },
   {
    "duration": 50,
    "start_time": "2021-12-25T14:25:02.976Z"
   },
   {
    "duration": 32,
    "start_time": "2021-12-25T14:25:03.028Z"
   },
   {
    "duration": 3,
    "start_time": "2021-12-25T14:25:03.062Z"
   },
   {
    "duration": 12,
    "start_time": "2021-12-25T14:25:03.068Z"
   },
   {
    "duration": 8,
    "start_time": "2021-12-25T14:25:03.082Z"
   },
   {
    "duration": 8,
    "start_time": "2021-12-25T14:25:35.878Z"
   },
   {
    "duration": 796,
    "start_time": "2021-12-25T14:26:21.195Z"
   },
   {
    "duration": 202,
    "start_time": "2021-12-25T14:26:21.994Z"
   },
   {
    "duration": 12,
    "start_time": "2021-12-25T14:26:22.199Z"
   },
   {
    "duration": 4,
    "start_time": "2021-12-25T14:26:22.219Z"
   },
   {
    "duration": 10,
    "start_time": "2021-12-25T14:26:22.225Z"
   },
   {
    "duration": 33,
    "start_time": "2021-12-25T14:26:22.238Z"
   },
   {
    "duration": 9,
    "start_time": "2021-12-25T14:26:22.274Z"
   },
   {
    "duration": 31,
    "start_time": "2021-12-25T14:26:22.316Z"
   },
   {
    "duration": 24,
    "start_time": "2021-12-25T14:26:22.351Z"
   },
   {
    "duration": 61,
    "start_time": "2021-12-25T14:26:22.378Z"
   },
   {
    "duration": 108,
    "start_time": "2021-12-25T14:26:22.442Z"
   },
   {
    "duration": 113,
    "start_time": "2021-12-25T14:26:22.553Z"
   },
   {
    "duration": 90,
    "start_time": "2021-12-25T14:26:22.669Z"
   },
   {
    "duration": 9,
    "start_time": "2021-12-25T14:26:22.762Z"
   },
   {
    "duration": 46,
    "start_time": "2021-12-25T14:26:22.773Z"
   },
   {
    "duration": 20,
    "start_time": "2021-12-25T14:26:22.821Z"
   },
   {
    "duration": 26,
    "start_time": "2021-12-25T14:26:22.843Z"
   },
   {
    "duration": 14,
    "start_time": "2021-12-25T14:26:22.872Z"
   },
   {
    "duration": 35,
    "start_time": "2021-12-25T14:26:22.888Z"
   },
   {
    "duration": 6,
    "start_time": "2021-12-25T14:26:22.925Z"
   },
   {
    "duration": 35,
    "start_time": "2021-12-25T14:26:22.933Z"
   },
   {
    "duration": 51,
    "start_time": "2021-12-25T14:26:22.970Z"
   },
   {
    "duration": 19,
    "start_time": "2021-12-25T14:26:23.025Z"
   },
   {
    "duration": 19,
    "start_time": "2021-12-25T14:26:23.046Z"
   },
   {
    "duration": 53,
    "start_time": "2021-12-25T14:26:23.067Z"
   },
   {
    "duration": 21,
    "start_time": "2021-12-25T14:26:23.123Z"
   },
   {
    "duration": 9,
    "start_time": "2021-12-25T14:26:23.146Z"
   },
   {
    "duration": 67,
    "start_time": "2021-12-25T14:26:23.157Z"
   },
   {
    "duration": 28,
    "start_time": "2021-12-25T14:26:23.226Z"
   },
   {
    "duration": 5,
    "start_time": "2021-12-25T14:26:23.256Z"
   },
   {
    "duration": 55,
    "start_time": "2021-12-25T14:26:23.264Z"
   },
   {
    "duration": 20,
    "start_time": "2021-12-25T14:26:23.321Z"
   },
   {
    "duration": 25,
    "start_time": "2021-12-25T14:26:23.344Z"
   },
   {
    "duration": 57,
    "start_time": "2021-12-25T14:26:23.372Z"
   },
   {
    "duration": 32,
    "start_time": "2021-12-25T14:26:23.431Z"
   },
   {
    "duration": 8,
    "start_time": "2021-12-25T14:26:23.465Z"
   },
   {
    "duration": 6,
    "start_time": "2021-12-25T14:26:23.475Z"
   },
   {
    "duration": 36,
    "start_time": "2021-12-25T14:26:23.483Z"
   },
   {
    "duration": 31,
    "start_time": "2021-12-25T14:26:41.269Z"
   },
   {
    "duration": 7,
    "start_time": "2021-12-25T14:26:44.693Z"
   },
   {
    "duration": 451,
    "start_time": "2021-12-25T14:26:58.417Z"
   },
   {
    "duration": 10,
    "start_time": "2021-12-25T14:28:21.369Z"
   },
   {
    "duration": 5,
    "start_time": "2021-12-25T14:28:28.424Z"
   },
   {
    "duration": 6,
    "start_time": "2021-12-25T14:28:41.504Z"
   },
   {
    "duration": 8,
    "start_time": "2021-12-25T14:30:04.519Z"
   },
   {
    "duration": 8,
    "start_time": "2021-12-25T14:30:38.735Z"
   },
   {
    "duration": 974,
    "start_time": "2021-12-25T14:30:48.329Z"
   },
   {
    "duration": 261,
    "start_time": "2021-12-25T14:30:49.307Z"
   },
   {
    "duration": 13,
    "start_time": "2021-12-25T14:30:49.572Z"
   },
   {
    "duration": 4,
    "start_time": "2021-12-25T14:30:49.589Z"
   },
   {
    "duration": 24,
    "start_time": "2021-12-25T14:30:49.596Z"
   },
   {
    "duration": 37,
    "start_time": "2021-12-25T14:30:49.623Z"
   },
   {
    "duration": 8,
    "start_time": "2021-12-25T14:30:49.662Z"
   },
   {
    "duration": 58,
    "start_time": "2021-12-25T14:30:49.674Z"
   },
   {
    "duration": 21,
    "start_time": "2021-12-25T14:30:49.735Z"
   },
   {
    "duration": 28,
    "start_time": "2021-12-25T14:30:49.758Z"
   },
   {
    "duration": 109,
    "start_time": "2021-12-25T14:30:49.789Z"
   },
   {
    "duration": 131,
    "start_time": "2021-12-25T14:30:49.901Z"
   },
   {
    "duration": 93,
    "start_time": "2021-12-25T14:30:50.034Z"
   },
   {
    "duration": 8,
    "start_time": "2021-12-25T14:30:50.129Z"
   },
   {
    "duration": 22,
    "start_time": "2021-12-25T14:30:50.140Z"
   },
   {
    "duration": 21,
    "start_time": "2021-12-25T14:30:50.164Z"
   },
   {
    "duration": 34,
    "start_time": "2021-12-25T14:30:50.187Z"
   },
   {
    "duration": 14,
    "start_time": "2021-12-25T14:30:50.223Z"
   },
   {
    "duration": 14,
    "start_time": "2021-12-25T14:30:50.240Z"
   },
   {
    "duration": 4,
    "start_time": "2021-12-25T14:30:50.257Z"
   },
   {
    "duration": 83,
    "start_time": "2021-12-25T14:30:50.264Z"
   },
   {
    "duration": 29,
    "start_time": "2021-12-25T14:30:50.350Z"
   },
   {
    "duration": 40,
    "start_time": "2021-12-25T14:30:50.387Z"
   },
   {
    "duration": 20,
    "start_time": "2021-12-25T14:30:50.430Z"
   },
   {
    "duration": 24,
    "start_time": "2021-12-25T14:30:50.452Z"
   },
   {
    "duration": 53,
    "start_time": "2021-12-25T14:30:50.479Z"
   },
   {
    "duration": 9,
    "start_time": "2021-12-25T14:30:50.535Z"
   },
   {
    "duration": 31,
    "start_time": "2021-12-25T14:30:50.547Z"
   },
   {
    "duration": 61,
    "start_time": "2021-12-25T14:30:50.581Z"
   },
   {
    "duration": 5,
    "start_time": "2021-12-25T14:30:50.645Z"
   },
   {
    "duration": 31,
    "start_time": "2021-12-25T14:30:50.652Z"
   },
   {
    "duration": 46,
    "start_time": "2021-12-25T14:30:50.685Z"
   },
   {
    "duration": 26,
    "start_time": "2021-12-25T14:30:50.734Z"
   },
   {
    "duration": 61,
    "start_time": "2021-12-25T14:30:50.762Z"
   },
   {
    "duration": 15,
    "start_time": "2021-12-25T14:30:50.826Z"
   },
   {
    "duration": 8,
    "start_time": "2021-12-25T14:30:50.844Z"
   },
   {
    "duration": 62,
    "start_time": "2021-12-25T14:30:50.855Z"
   },
   {
    "duration": 8,
    "start_time": "2021-12-25T14:30:50.920Z"
   },
   {
    "duration": 140,
    "start_time": "2021-12-26T12:48:13.455Z"
   },
   {
    "duration": 251,
    "start_time": "2021-12-26T17:07:27.481Z"
   },
   {
    "duration": 551,
    "start_time": "2021-12-26T17:07:39.929Z"
   },
   {
    "duration": 132,
    "start_time": "2021-12-26T17:07:40.483Z"
   },
   {
    "duration": 8,
    "start_time": "2021-12-26T17:07:40.617Z"
   },
   {
    "duration": 28,
    "start_time": "2021-12-26T17:07:40.627Z"
   },
   {
    "duration": 3,
    "start_time": "2021-12-26T17:07:40.657Z"
   },
   {
    "duration": 42,
    "start_time": "2021-12-26T17:07:40.662Z"
   },
   {
    "duration": 4,
    "start_time": "2021-12-26T17:07:40.705Z"
   },
   {
    "duration": 23,
    "start_time": "2021-12-26T17:07:40.713Z"
   },
   {
    "duration": 17,
    "start_time": "2021-12-26T17:07:40.738Z"
   },
   {
    "duration": 55,
    "start_time": "2021-12-26T17:07:40.758Z"
   },
   {
    "duration": 59,
    "start_time": "2021-12-26T17:07:40.815Z"
   },
   {
    "duration": 66,
    "start_time": "2021-12-26T17:07:40.892Z"
   },
   {
    "duration": 70,
    "start_time": "2021-12-26T17:07:40.960Z"
   },
   {
    "duration": 7,
    "start_time": "2021-12-26T17:07:41.032Z"
   },
   {
    "duration": 16,
    "start_time": "2021-12-26T17:07:41.041Z"
   },
   {
    "duration": 36,
    "start_time": "2021-12-26T17:07:41.059Z"
   },
   {
    "duration": 7,
    "start_time": "2021-12-26T17:07:41.097Z"
   },
   {
    "duration": 10,
    "start_time": "2021-12-26T17:07:41.106Z"
   },
   {
    "duration": 9,
    "start_time": "2021-12-26T17:07:41.118Z"
   },
   {
    "duration": 4,
    "start_time": "2021-12-26T17:07:41.128Z"
   },
   {
    "duration": 22,
    "start_time": "2021-12-26T17:07:41.133Z"
   },
   {
    "duration": 48,
    "start_time": "2021-12-26T17:07:41.157Z"
   },
   {
    "duration": 14,
    "start_time": "2021-12-26T17:07:41.209Z"
   },
   {
    "duration": 13,
    "start_time": "2021-12-26T17:07:41.225Z"
   },
   {
    "duration": 15,
    "start_time": "2021-12-26T17:07:41.240Z"
   },
   {
    "duration": 46,
    "start_time": "2021-12-26T17:07:41.257Z"
   },
   {
    "duration": 6,
    "start_time": "2021-12-26T17:07:41.304Z"
   },
   {
    "duration": 22,
    "start_time": "2021-12-26T17:07:41.312Z"
   },
   {
    "duration": 18,
    "start_time": "2021-12-26T17:07:41.335Z"
   },
   {
    "duration": 4,
    "start_time": "2021-12-26T17:07:41.355Z"
   },
   {
    "duration": 20,
    "start_time": "2021-12-26T17:07:41.392Z"
   },
   {
    "duration": 13,
    "start_time": "2021-12-26T17:07:41.413Z"
   },
   {
    "duration": 20,
    "start_time": "2021-12-26T17:07:41.427Z"
   },
   {
    "duration": 13,
    "start_time": "2021-12-26T17:07:41.449Z"
   },
   {
    "duration": 9,
    "start_time": "2021-12-26T17:07:41.491Z"
   },
   {
    "duration": 5,
    "start_time": "2021-12-26T17:07:41.502Z"
   },
   {
    "duration": 8,
    "start_time": "2021-12-26T17:07:41.508Z"
   },
   {
    "duration": 5,
    "start_time": "2021-12-26T17:07:41.517Z"
   },
   {
    "duration": 4,
    "start_time": "2021-12-26T17:09:02.798Z"
   },
   {
    "duration": 594,
    "start_time": "2021-12-26T17:09:10.569Z"
   },
   {
    "duration": 139,
    "start_time": "2021-12-26T17:09:11.165Z"
   },
   {
    "duration": 8,
    "start_time": "2021-12-26T17:09:11.306Z"
   },
   {
    "duration": 26,
    "start_time": "2021-12-26T17:09:11.316Z"
   },
   {
    "duration": 10,
    "start_time": "2021-12-26T17:09:11.344Z"
   },
   {
    "duration": 44,
    "start_time": "2021-12-26T17:09:11.356Z"
   },
   {
    "duration": 4,
    "start_time": "2021-12-26T17:09:11.402Z"
   },
   {
    "duration": 25,
    "start_time": "2021-12-26T17:09:11.410Z"
   },
   {
    "duration": 18,
    "start_time": "2021-12-26T17:09:11.438Z"
   },
   {
    "duration": 46,
    "start_time": "2021-12-26T17:09:11.457Z"
   },
   {
    "duration": 58,
    "start_time": "2021-12-26T17:09:11.505Z"
   },
   {
    "duration": 82,
    "start_time": "2021-12-26T17:09:11.564Z"
   },
   {
    "duration": 60,
    "start_time": "2021-12-26T17:09:11.648Z"
   },
   {
    "duration": 6,
    "start_time": "2021-12-26T17:09:11.710Z"
   },
   {
    "duration": 16,
    "start_time": "2021-12-26T17:09:11.718Z"
   },
   {
    "duration": 16,
    "start_time": "2021-12-26T17:09:11.735Z"
   },
   {
    "duration": 6,
    "start_time": "2021-12-26T17:09:11.753Z"
   },
   {
    "duration": 40,
    "start_time": "2021-12-26T17:09:11.760Z"
   },
   {
    "duration": 10,
    "start_time": "2021-12-26T17:09:11.802Z"
   },
   {
    "duration": 4,
    "start_time": "2021-12-26T17:09:11.813Z"
   },
   {
    "duration": 20,
    "start_time": "2021-12-26T17:09:11.818Z"
   },
   {
    "duration": 12,
    "start_time": "2021-12-26T17:09:11.840Z"
   },
   {
    "duration": 38,
    "start_time": "2021-12-26T17:09:11.855Z"
   },
   {
    "duration": 14,
    "start_time": "2021-12-26T17:09:11.895Z"
   },
   {
    "duration": 15,
    "start_time": "2021-12-26T17:09:11.911Z"
   },
   {
    "duration": 13,
    "start_time": "2021-12-26T17:09:11.928Z"
   },
   {
    "duration": 6,
    "start_time": "2021-12-26T17:09:11.943Z"
   },
   {
    "duration": 56,
    "start_time": "2021-12-26T17:09:11.950Z"
   },
   {
    "duration": 17,
    "start_time": "2021-12-26T17:09:12.008Z"
   },
   {
    "duration": 3,
    "start_time": "2021-12-26T17:09:12.026Z"
   },
   {
    "duration": 22,
    "start_time": "2021-12-26T17:09:12.031Z"
   },
   {
    "duration": 11,
    "start_time": "2021-12-26T17:09:12.055Z"
   },
   {
    "duration": 18,
    "start_time": "2021-12-26T17:09:12.092Z"
   },
   {
    "duration": 12,
    "start_time": "2021-12-26T17:09:12.111Z"
   },
   {
    "duration": 8,
    "start_time": "2021-12-26T17:09:12.125Z"
   },
   {
    "duration": 4,
    "start_time": "2021-12-26T17:09:12.135Z"
   },
   {
    "duration": 6,
    "start_time": "2021-12-26T17:09:12.141Z"
   },
   {
    "duration": 5,
    "start_time": "2021-12-26T17:09:12.149Z"
   },
   {
    "duration": 10,
    "start_time": "2021-12-26T18:56:11.964Z"
   }
  ],
  "colab": {
   "collapsed_sections": [
    "E0vqbgi9ay0H",
    "VUC88oWjTJw2"
   ],
   "name": "yandex_music_project_2021.2.ipynb",
   "provenance": []
  },
  "kernelspec": {
   "display_name": "Python 3 (ipykernel)",
   "language": "python",
   "name": "python3"
  },
  "language_info": {
   "codemirror_mode": {
    "name": "ipython",
    "version": 3
   },
   "file_extension": ".py",
   "mimetype": "text/x-python",
   "name": "python",
   "nbconvert_exporter": "python",
   "pygments_lexer": "ipython3",
   "version": "3.9.7"
  },
  "toc": {
   "base_numbering": 1,
   "nav_menu": {},
   "number_sections": true,
   "sideBar": true,
   "skip_h1_title": true,
   "title_cell": "Table of Contents",
   "title_sidebar": "Contents",
   "toc_cell": false,
   "toc_position": {},
   "toc_section_display": true,
   "toc_window_display": true
  }
 },
 "nbformat": 4,
 "nbformat_minor": 1
}
