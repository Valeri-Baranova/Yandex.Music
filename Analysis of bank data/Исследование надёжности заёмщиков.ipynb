{
 "cells": [
  {
   "cell_type": "markdown",
   "metadata": {},
   "source": [
    "# Исследование надёжности заёмщиков\n",
    "\n",
    "Заказчик — кредитный отдел банка. Нужно разобраться, влияет ли семейное положение и количество детей клиента на факт погашения кредита в срок. Входные данные от банка — статистика о платёжеспособности клиентов.\n",
    "\n",
    "Результаты исследования будут учтены при построении модели **кредитного скоринга** — специальной системы, которая оценивает способность потенциального заёмщика вернуть кредит банку.\n",
    "\n",
    "Описание данных:\n",
    "\n",
    "- children — количество детей в семье\n",
    "- days_employed — общий трудовой стаж в днях\n",
    "- dob_years — возраст клиента в годах\n",
    "- education — уровень образования клиента\n",
    "- education_id — идентификатор уровня образования\n",
    "- family_status — семейное положение\n",
    "- family_status_id — идентификатор семейного положения\n",
    "- gender — пол клиента\n",
    "- income_type — тип занятости\n",
    "- debt — имел ли задолженность по возврату кредитов\n",
    "- total_income — ежемесячный доход\n",
    "- purpose — цель получения кредита"
   ]
  },
  {
   "cell_type": "markdown",
   "metadata": {},
   "source": [
    "## Шаг 1. Изучение данных"
   ]
  },
  {
   "cell_type": "code",
   "execution_count": 1,
   "metadata": {},
   "outputs": [
    {
     "data": {
      "text/html": [
       "<div>\n",
       "<style scoped>\n",
       "    .dataframe tbody tr th:only-of-type {\n",
       "        vertical-align: middle;\n",
       "    }\n",
       "\n",
       "    .dataframe tbody tr th {\n",
       "        vertical-align: top;\n",
       "    }\n",
       "\n",
       "    .dataframe thead th {\n",
       "        text-align: right;\n",
       "    }\n",
       "</style>\n",
       "<table border=\"1\" class=\"dataframe\">\n",
       "  <thead>\n",
       "    <tr style=\"text-align: right;\">\n",
       "      <th></th>\n",
       "      <th>children</th>\n",
       "      <th>days_employed</th>\n",
       "      <th>dob_years</th>\n",
       "      <th>education</th>\n",
       "      <th>education_id</th>\n",
       "      <th>family_status</th>\n",
       "      <th>family_status_id</th>\n",
       "      <th>gender</th>\n",
       "      <th>income_type</th>\n",
       "      <th>debt</th>\n",
       "      <th>total_income</th>\n",
       "      <th>purpose</th>\n",
       "    </tr>\n",
       "  </thead>\n",
       "  <tbody>\n",
       "    <tr>\n",
       "      <td>0</td>\n",
       "      <td>1</td>\n",
       "      <td>-8437.673028</td>\n",
       "      <td>42</td>\n",
       "      <td>высшее</td>\n",
       "      <td>0</td>\n",
       "      <td>женат / замужем</td>\n",
       "      <td>0</td>\n",
       "      <td>F</td>\n",
       "      <td>сотрудник</td>\n",
       "      <td>0</td>\n",
       "      <td>253875.639453</td>\n",
       "      <td>покупка жилья</td>\n",
       "    </tr>\n",
       "    <tr>\n",
       "      <td>1</td>\n",
       "      <td>1</td>\n",
       "      <td>-4024.803754</td>\n",
       "      <td>36</td>\n",
       "      <td>среднее</td>\n",
       "      <td>1</td>\n",
       "      <td>женат / замужем</td>\n",
       "      <td>0</td>\n",
       "      <td>F</td>\n",
       "      <td>сотрудник</td>\n",
       "      <td>0</td>\n",
       "      <td>112080.014102</td>\n",
       "      <td>приобретение автомобиля</td>\n",
       "    </tr>\n",
       "    <tr>\n",
       "      <td>2</td>\n",
       "      <td>0</td>\n",
       "      <td>-5623.422610</td>\n",
       "      <td>33</td>\n",
       "      <td>Среднее</td>\n",
       "      <td>1</td>\n",
       "      <td>женат / замужем</td>\n",
       "      <td>0</td>\n",
       "      <td>M</td>\n",
       "      <td>сотрудник</td>\n",
       "      <td>0</td>\n",
       "      <td>145885.952297</td>\n",
       "      <td>покупка жилья</td>\n",
       "    </tr>\n",
       "    <tr>\n",
       "      <td>3</td>\n",
       "      <td>3</td>\n",
       "      <td>-4124.747207</td>\n",
       "      <td>32</td>\n",
       "      <td>среднее</td>\n",
       "      <td>1</td>\n",
       "      <td>женат / замужем</td>\n",
       "      <td>0</td>\n",
       "      <td>M</td>\n",
       "      <td>сотрудник</td>\n",
       "      <td>0</td>\n",
       "      <td>267628.550329</td>\n",
       "      <td>дополнительное образование</td>\n",
       "    </tr>\n",
       "    <tr>\n",
       "      <td>4</td>\n",
       "      <td>0</td>\n",
       "      <td>340266.072047</td>\n",
       "      <td>53</td>\n",
       "      <td>среднее</td>\n",
       "      <td>1</td>\n",
       "      <td>гражданский брак</td>\n",
       "      <td>1</td>\n",
       "      <td>F</td>\n",
       "      <td>пенсионер</td>\n",
       "      <td>0</td>\n",
       "      <td>158616.077870</td>\n",
       "      <td>сыграть свадьбу</td>\n",
       "    </tr>\n",
       "    <tr>\n",
       "      <td>5</td>\n",
       "      <td>0</td>\n",
       "      <td>-926.185831</td>\n",
       "      <td>27</td>\n",
       "      <td>высшее</td>\n",
       "      <td>0</td>\n",
       "      <td>гражданский брак</td>\n",
       "      <td>1</td>\n",
       "      <td>M</td>\n",
       "      <td>компаньон</td>\n",
       "      <td>0</td>\n",
       "      <td>255763.565419</td>\n",
       "      <td>покупка жилья</td>\n",
       "    </tr>\n",
       "    <tr>\n",
       "      <td>6</td>\n",
       "      <td>0</td>\n",
       "      <td>-2879.202052</td>\n",
       "      <td>43</td>\n",
       "      <td>высшее</td>\n",
       "      <td>0</td>\n",
       "      <td>женат / замужем</td>\n",
       "      <td>0</td>\n",
       "      <td>F</td>\n",
       "      <td>компаньон</td>\n",
       "      <td>0</td>\n",
       "      <td>240525.971920</td>\n",
       "      <td>операции с жильем</td>\n",
       "    </tr>\n",
       "    <tr>\n",
       "      <td>7</td>\n",
       "      <td>0</td>\n",
       "      <td>-152.779569</td>\n",
       "      <td>50</td>\n",
       "      <td>СРЕДНЕЕ</td>\n",
       "      <td>1</td>\n",
       "      <td>женат / замужем</td>\n",
       "      <td>0</td>\n",
       "      <td>M</td>\n",
       "      <td>сотрудник</td>\n",
       "      <td>0</td>\n",
       "      <td>135823.934197</td>\n",
       "      <td>образование</td>\n",
       "    </tr>\n",
       "    <tr>\n",
       "      <td>8</td>\n",
       "      <td>2</td>\n",
       "      <td>-6929.865299</td>\n",
       "      <td>35</td>\n",
       "      <td>ВЫСШЕЕ</td>\n",
       "      <td>0</td>\n",
       "      <td>гражданский брак</td>\n",
       "      <td>1</td>\n",
       "      <td>F</td>\n",
       "      <td>сотрудник</td>\n",
       "      <td>0</td>\n",
       "      <td>95856.832424</td>\n",
       "      <td>на проведение свадьбы</td>\n",
       "    </tr>\n",
       "    <tr>\n",
       "      <td>9</td>\n",
       "      <td>0</td>\n",
       "      <td>-2188.756445</td>\n",
       "      <td>41</td>\n",
       "      <td>среднее</td>\n",
       "      <td>1</td>\n",
       "      <td>женат / замужем</td>\n",
       "      <td>0</td>\n",
       "      <td>M</td>\n",
       "      <td>сотрудник</td>\n",
       "      <td>0</td>\n",
       "      <td>144425.938277</td>\n",
       "      <td>покупка жилья для семьи</td>\n",
       "    </tr>\n",
       "  </tbody>\n",
       "</table>\n",
       "</div>"
      ],
      "text/plain": [
       "   children  days_employed  dob_years education  education_id  \\\n",
       "0         1   -8437.673028         42    высшее             0   \n",
       "1         1   -4024.803754         36   среднее             1   \n",
       "2         0   -5623.422610         33   Среднее             1   \n",
       "3         3   -4124.747207         32   среднее             1   \n",
       "4         0  340266.072047         53   среднее             1   \n",
       "5         0    -926.185831         27    высшее             0   \n",
       "6         0   -2879.202052         43    высшее             0   \n",
       "7         0    -152.779569         50   СРЕДНЕЕ             1   \n",
       "8         2   -6929.865299         35    ВЫСШЕЕ             0   \n",
       "9         0   -2188.756445         41   среднее             1   \n",
       "\n",
       "      family_status  family_status_id gender income_type  debt   total_income  \\\n",
       "0   женат / замужем                 0      F   сотрудник     0  253875.639453   \n",
       "1   женат / замужем                 0      F   сотрудник     0  112080.014102   \n",
       "2   женат / замужем                 0      M   сотрудник     0  145885.952297   \n",
       "3   женат / замужем                 0      M   сотрудник     0  267628.550329   \n",
       "4  гражданский брак                 1      F   пенсионер     0  158616.077870   \n",
       "5  гражданский брак                 1      M   компаньон     0  255763.565419   \n",
       "6   женат / замужем                 0      F   компаньон     0  240525.971920   \n",
       "7   женат / замужем                 0      M   сотрудник     0  135823.934197   \n",
       "8  гражданский брак                 1      F   сотрудник     0   95856.832424   \n",
       "9   женат / замужем                 0      M   сотрудник     0  144425.938277   \n",
       "\n",
       "                      purpose  \n",
       "0               покупка жилья  \n",
       "1     приобретение автомобиля  \n",
       "2               покупка жилья  \n",
       "3  дополнительное образование  \n",
       "4             сыграть свадьбу  \n",
       "5               покупка жилья  \n",
       "6           операции с жильем  \n",
       "7                 образование  \n",
       "8       на проведение свадьбы  \n",
       "9     покупка жилья для семьи  "
      ]
     },
     "execution_count": 1,
     "metadata": {},
     "output_type": "execute_result"
    }
   ],
   "source": [
    "import pandas as pd # импорт библиотеки pandas\n",
    "df = pd.read_csv('/datasets/data.csv') # чтение файла с данными и сохранение в df\n",
    "df.head(10) # получение первых 10 строк таблицы df"
   ]
  },
  {
   "cell_type": "code",
   "execution_count": 2,
   "metadata": {},
   "outputs": [
    {
     "name": "stdout",
     "output_type": "stream",
     "text": [
      "<class 'pandas.core.frame.DataFrame'>\n",
      "RangeIndex: 21525 entries, 0 to 21524\n",
      "Data columns (total 12 columns):\n",
      "children            21525 non-null int64\n",
      "days_employed       19351 non-null float64\n",
      "dob_years           21525 non-null int64\n",
      "education           21525 non-null object\n",
      "education_id        21525 non-null int64\n",
      "family_status       21525 non-null object\n",
      "family_status_id    21525 non-null int64\n",
      "gender              21525 non-null object\n",
      "income_type         21525 non-null object\n",
      "debt                21525 non-null int64\n",
      "total_income        19351 non-null float64\n",
      "purpose             21525 non-null object\n",
      "dtypes: float64(2), int64(5), object(5)\n",
      "memory usage: 2.0+ MB\n"
     ]
    }
   ],
   "source": [
    "df.info() # получение общей информации о таблице"
   ]
  },
  {
   "cell_type": "code",
   "execution_count": 3,
   "metadata": {},
   "outputs": [
    {
     "data": {
      "text/plain": [
       "children               0\n",
       "days_employed       2174\n",
       "dob_years              0\n",
       "education              0\n",
       "education_id           0\n",
       "family_status          0\n",
       "family_status_id       0\n",
       "gender                 0\n",
       "income_type            0\n",
       "debt                   0\n",
       "total_income        2174\n",
       "purpose                0\n",
       "dtype: int64"
      ]
     },
     "execution_count": 3,
     "metadata": {},
     "output_type": "execute_result"
    }
   ],
   "source": [
    "df.isna().sum() # подсчёт пропусков"
   ]
  },
  {
   "cell_type": "markdown",
   "metadata": {},
   "source": [
    "При исследовании таблицы, в столбце  children найдены 2 неккоретных значения:"
   ]
  },
  {
   "cell_type": "code",
   "execution_count": 4,
   "metadata": {},
   "outputs": [
    {
     "data": {
      "text/plain": [
       "array([ 1,  0,  3,  2, -1,  4, 20,  5])"
      ]
     },
     "execution_count": 4,
     "metadata": {},
     "output_type": "execute_result"
    }
   ],
   "source": [
    "df['children'].unique() # просмотр уникальных значений"
   ]
  },
  {
   "cell_type": "markdown",
   "metadata": {},
   "source": [
    "Чтобы решить, что с этой ошибкой делать, нужно посмотреть сколько людей с такими ошибками."
   ]
  },
  {
   "cell_type": "code",
   "execution_count": 5,
   "metadata": {},
   "outputs": [
    {
     "data": {
      "text/plain": [
       "children\n",
       "-1        47\n",
       " 0     14149\n",
       " 1      4818\n",
       " 2      2055\n",
       " 3       330\n",
       " 4        41\n",
       " 5         9\n",
       " 20       76\n",
       "Name: children, dtype: int64"
      ]
     },
     "execution_count": 5,
     "metadata": {},
     "output_type": "execute_result"
    }
   ],
   "source": [
    "df.groupby('children')['children'].count()"
   ]
  },
  {
   "cell_type": "markdown",
   "metadata": {},
   "source": [
    "Данная ошибка встречается очень редко (менее 1%) и в теории можно просто удалить эти строчки, но эти данные нужня для исследования. \n",
    "\n",
    "Есть вероятость, что скорее всего была ошибка при заполнении данных. Заменим вручную на правильные."
   ]
  },
  {
   "cell_type": "code",
   "execution_count": 6,
   "metadata": {},
   "outputs": [],
   "source": [
    "df['children'] = df['children'].abs() # исправляем значение -1 ребёнок"
   ]
  },
  {
   "cell_type": "code",
   "execution_count": 7,
   "metadata": {},
   "outputs": [],
   "source": [
    "df['children'] = df['children'].replace(20, 2) # исправляем значениt 20 детей на 2"
   ]
  },
  {
   "cell_type": "code",
   "execution_count": 8,
   "metadata": {},
   "outputs": [
    {
     "data": {
      "text/html": [
       "<div>\n",
       "<style scoped>\n",
       "    .dataframe tbody tr th:only-of-type {\n",
       "        vertical-align: middle;\n",
       "    }\n",
       "\n",
       "    .dataframe tbody tr th {\n",
       "        vertical-align: top;\n",
       "    }\n",
       "\n",
       "    .dataframe thead th {\n",
       "        text-align: right;\n",
       "    }\n",
       "</style>\n",
       "<table border=\"1\" class=\"dataframe\">\n",
       "  <thead>\n",
       "    <tr style=\"text-align: right;\">\n",
       "      <th></th>\n",
       "      <th>children</th>\n",
       "      <th>days_employed</th>\n",
       "      <th>dob_years</th>\n",
       "      <th>education_id</th>\n",
       "      <th>family_status_id</th>\n",
       "      <th>debt</th>\n",
       "      <th>total_income</th>\n",
       "    </tr>\n",
       "  </thead>\n",
       "  <tbody>\n",
       "    <tr>\n",
       "      <td>count</td>\n",
       "      <td>21525.000000</td>\n",
       "      <td>19351.000000</td>\n",
       "      <td>21525.000000</td>\n",
       "      <td>21525.000000</td>\n",
       "      <td>21525.000000</td>\n",
       "      <td>21525.000000</td>\n",
       "      <td>1.935100e+04</td>\n",
       "    </tr>\n",
       "    <tr>\n",
       "      <td>mean</td>\n",
       "      <td>0.479721</td>\n",
       "      <td>63046.497661</td>\n",
       "      <td>43.293380</td>\n",
       "      <td>0.817236</td>\n",
       "      <td>0.972544</td>\n",
       "      <td>0.080883</td>\n",
       "      <td>1.674223e+05</td>\n",
       "    </tr>\n",
       "    <tr>\n",
       "      <td>std</td>\n",
       "      <td>0.755528</td>\n",
       "      <td>140827.311974</td>\n",
       "      <td>12.574584</td>\n",
       "      <td>0.548138</td>\n",
       "      <td>1.420324</td>\n",
       "      <td>0.272661</td>\n",
       "      <td>1.029716e+05</td>\n",
       "    </tr>\n",
       "    <tr>\n",
       "      <td>min</td>\n",
       "      <td>0.000000</td>\n",
       "      <td>-18388.949901</td>\n",
       "      <td>0.000000</td>\n",
       "      <td>0.000000</td>\n",
       "      <td>0.000000</td>\n",
       "      <td>0.000000</td>\n",
       "      <td>2.066726e+04</td>\n",
       "    </tr>\n",
       "    <tr>\n",
       "      <td>25%</td>\n",
       "      <td>0.000000</td>\n",
       "      <td>-2747.423625</td>\n",
       "      <td>33.000000</td>\n",
       "      <td>1.000000</td>\n",
       "      <td>0.000000</td>\n",
       "      <td>0.000000</td>\n",
       "      <td>1.030532e+05</td>\n",
       "    </tr>\n",
       "    <tr>\n",
       "      <td>50%</td>\n",
       "      <td>0.000000</td>\n",
       "      <td>-1203.369529</td>\n",
       "      <td>42.000000</td>\n",
       "      <td>1.000000</td>\n",
       "      <td>0.000000</td>\n",
       "      <td>0.000000</td>\n",
       "      <td>1.450179e+05</td>\n",
       "    </tr>\n",
       "    <tr>\n",
       "      <td>75%</td>\n",
       "      <td>1.000000</td>\n",
       "      <td>-291.095954</td>\n",
       "      <td>53.000000</td>\n",
       "      <td>1.000000</td>\n",
       "      <td>1.000000</td>\n",
       "      <td>0.000000</td>\n",
       "      <td>2.034351e+05</td>\n",
       "    </tr>\n",
       "    <tr>\n",
       "      <td>max</td>\n",
       "      <td>5.000000</td>\n",
       "      <td>401755.400475</td>\n",
       "      <td>75.000000</td>\n",
       "      <td>4.000000</td>\n",
       "      <td>4.000000</td>\n",
       "      <td>1.000000</td>\n",
       "      <td>2.265604e+06</td>\n",
       "    </tr>\n",
       "  </tbody>\n",
       "</table>\n",
       "</div>"
      ],
      "text/plain": [
       "           children  days_employed     dob_years  education_id  \\\n",
       "count  21525.000000   19351.000000  21525.000000  21525.000000   \n",
       "mean       0.479721   63046.497661     43.293380      0.817236   \n",
       "std        0.755528  140827.311974     12.574584      0.548138   \n",
       "min        0.000000  -18388.949901      0.000000      0.000000   \n",
       "25%        0.000000   -2747.423625     33.000000      1.000000   \n",
       "50%        0.000000   -1203.369529     42.000000      1.000000   \n",
       "75%        1.000000    -291.095954     53.000000      1.000000   \n",
       "max        5.000000  401755.400475     75.000000      4.000000   \n",
       "\n",
       "       family_status_id          debt  total_income  \n",
       "count      21525.000000  21525.000000  1.935100e+04  \n",
       "mean           0.972544      0.080883  1.674223e+05  \n",
       "std            1.420324      0.272661  1.029716e+05  \n",
       "min            0.000000      0.000000  2.066726e+04  \n",
       "25%            0.000000      0.000000  1.030532e+05  \n",
       "50%            0.000000      0.000000  1.450179e+05  \n",
       "75%            1.000000      0.000000  2.034351e+05  \n",
       "max            4.000000      1.000000  2.265604e+06  "
      ]
     },
     "execution_count": 8,
     "metadata": {},
     "output_type": "execute_result"
    }
   ],
   "source": [
    "df.describe()"
   ]
  },
  {
   "cell_type": "code",
   "execution_count": 9,
   "metadata": {},
   "outputs": [
    {
     "data": {
      "text/plain": [
       "children            0.000000\n",
       "days_employed       0.100999\n",
       "dob_years           0.000000\n",
       "education           0.000000\n",
       "education_id        0.000000\n",
       "family_status       0.000000\n",
       "family_status_id    0.000000\n",
       "gender              0.000000\n",
       "income_type         0.000000\n",
       "debt                0.000000\n",
       "total_income        0.100999\n",
       "purpose             0.000000\n",
       "dtype: float64"
      ]
     },
     "execution_count": 9,
     "metadata": {},
     "output_type": "execute_result"
    }
   ],
   "source": [
    "df.isna().mean()"
   ]
  },
  {
   "cell_type": "markdown",
   "metadata": {},
   "source": [
    "**Вывод**"
   ]
  },
  {
   "cell_type": "markdown",
   "metadata": {},
   "source": [
    "Основываясь на результатах 1 шага, можно сделать следующие выводы:\n",
    "\n",
    "1. Количество значений в столбцах различается. Значит, в данных есть пропущенные значения;\n",
    "\n",
    "2. Некорректные данные в столбце days_employed ;\n",
    "\n",
    "3. Имеются дубликаты в нескольких столбцах;\n",
    "\n",
    "4. Количество пропусков в столбцах days_employed и total_income одинаковое, стоит проверить гипотезу о том, что попарны эти пропуски или нет.\n",
    "\n",
    "Возможно, ошибки получены при неправильном заполнении анкеты или при выгрузке данных.\n",
    "\n",
    "Чтобы двигаться дальше, нужно устранить проблемы в данных."
   ]
  },
  {
   "cell_type": "markdown",
   "metadata": {},
   "source": [
    "## Шаг 2. Предобработка данных"
   ]
  },
  {
   "cell_type": "markdown",
   "metadata": {},
   "source": [
    "### Обработка пропусков"
   ]
  },
  {
   "cell_type": "code",
   "execution_count": 10,
   "metadata": {},
   "outputs": [
    {
     "data": {
      "text/html": [
       "<div>\n",
       "<style scoped>\n",
       "    .dataframe tbody tr th:only-of-type {\n",
       "        vertical-align: middle;\n",
       "    }\n",
       "\n",
       "    .dataframe tbody tr th {\n",
       "        vertical-align: top;\n",
       "    }\n",
       "\n",
       "    .dataframe thead th {\n",
       "        text-align: right;\n",
       "    }\n",
       "</style>\n",
       "<table border=\"1\" class=\"dataframe\">\n",
       "  <thead>\n",
       "    <tr style=\"text-align: right;\">\n",
       "      <th></th>\n",
       "      <th>children</th>\n",
       "      <th>days_employed</th>\n",
       "      <th>dob_years</th>\n",
       "      <th>education</th>\n",
       "      <th>education_id</th>\n",
       "      <th>family_status</th>\n",
       "      <th>family_status_id</th>\n",
       "      <th>gender</th>\n",
       "      <th>income_type</th>\n",
       "      <th>debt</th>\n",
       "      <th>total_income</th>\n",
       "      <th>purpose</th>\n",
       "    </tr>\n",
       "  </thead>\n",
       "  <tbody>\n",
       "    <tr>\n",
       "      <td>12</td>\n",
       "      <td>0</td>\n",
       "      <td>NaN</td>\n",
       "      <td>65</td>\n",
       "      <td>среднее</td>\n",
       "      <td>1</td>\n",
       "      <td>гражданский брак</td>\n",
       "      <td>1</td>\n",
       "      <td>M</td>\n",
       "      <td>пенсионер</td>\n",
       "      <td>0</td>\n",
       "      <td>NaN</td>\n",
       "      <td>сыграть свадьбу</td>\n",
       "    </tr>\n",
       "    <tr>\n",
       "      <td>26</td>\n",
       "      <td>0</td>\n",
       "      <td>NaN</td>\n",
       "      <td>41</td>\n",
       "      <td>среднее</td>\n",
       "      <td>1</td>\n",
       "      <td>женат / замужем</td>\n",
       "      <td>0</td>\n",
       "      <td>M</td>\n",
       "      <td>госслужащий</td>\n",
       "      <td>0</td>\n",
       "      <td>NaN</td>\n",
       "      <td>образование</td>\n",
       "    </tr>\n",
       "    <tr>\n",
       "      <td>29</td>\n",
       "      <td>0</td>\n",
       "      <td>NaN</td>\n",
       "      <td>63</td>\n",
       "      <td>среднее</td>\n",
       "      <td>1</td>\n",
       "      <td>Не женат / не замужем</td>\n",
       "      <td>4</td>\n",
       "      <td>F</td>\n",
       "      <td>пенсионер</td>\n",
       "      <td>0</td>\n",
       "      <td>NaN</td>\n",
       "      <td>строительство жилой недвижимости</td>\n",
       "    </tr>\n",
       "    <tr>\n",
       "      <td>41</td>\n",
       "      <td>0</td>\n",
       "      <td>NaN</td>\n",
       "      <td>50</td>\n",
       "      <td>среднее</td>\n",
       "      <td>1</td>\n",
       "      <td>женат / замужем</td>\n",
       "      <td>0</td>\n",
       "      <td>F</td>\n",
       "      <td>госслужащий</td>\n",
       "      <td>0</td>\n",
       "      <td>NaN</td>\n",
       "      <td>сделка с подержанным автомобилем</td>\n",
       "    </tr>\n",
       "    <tr>\n",
       "      <td>55</td>\n",
       "      <td>0</td>\n",
       "      <td>NaN</td>\n",
       "      <td>54</td>\n",
       "      <td>среднее</td>\n",
       "      <td>1</td>\n",
       "      <td>гражданский брак</td>\n",
       "      <td>1</td>\n",
       "      <td>F</td>\n",
       "      <td>пенсионер</td>\n",
       "      <td>1</td>\n",
       "      <td>NaN</td>\n",
       "      <td>сыграть свадьбу</td>\n",
       "    </tr>\n",
       "    <tr>\n",
       "      <td>...</td>\n",
       "      <td>...</td>\n",
       "      <td>...</td>\n",
       "      <td>...</td>\n",
       "      <td>...</td>\n",
       "      <td>...</td>\n",
       "      <td>...</td>\n",
       "      <td>...</td>\n",
       "      <td>...</td>\n",
       "      <td>...</td>\n",
       "      <td>...</td>\n",
       "      <td>...</td>\n",
       "      <td>...</td>\n",
       "    </tr>\n",
       "    <tr>\n",
       "      <td>21489</td>\n",
       "      <td>2</td>\n",
       "      <td>NaN</td>\n",
       "      <td>47</td>\n",
       "      <td>Среднее</td>\n",
       "      <td>1</td>\n",
       "      <td>женат / замужем</td>\n",
       "      <td>0</td>\n",
       "      <td>M</td>\n",
       "      <td>компаньон</td>\n",
       "      <td>0</td>\n",
       "      <td>NaN</td>\n",
       "      <td>сделка с автомобилем</td>\n",
       "    </tr>\n",
       "    <tr>\n",
       "      <td>21495</td>\n",
       "      <td>1</td>\n",
       "      <td>NaN</td>\n",
       "      <td>50</td>\n",
       "      <td>среднее</td>\n",
       "      <td>1</td>\n",
       "      <td>гражданский брак</td>\n",
       "      <td>1</td>\n",
       "      <td>F</td>\n",
       "      <td>сотрудник</td>\n",
       "      <td>0</td>\n",
       "      <td>NaN</td>\n",
       "      <td>свадьба</td>\n",
       "    </tr>\n",
       "    <tr>\n",
       "      <td>21497</td>\n",
       "      <td>0</td>\n",
       "      <td>NaN</td>\n",
       "      <td>48</td>\n",
       "      <td>ВЫСШЕЕ</td>\n",
       "      <td>0</td>\n",
       "      <td>женат / замужем</td>\n",
       "      <td>0</td>\n",
       "      <td>F</td>\n",
       "      <td>компаньон</td>\n",
       "      <td>0</td>\n",
       "      <td>NaN</td>\n",
       "      <td>строительство недвижимости</td>\n",
       "    </tr>\n",
       "    <tr>\n",
       "      <td>21502</td>\n",
       "      <td>1</td>\n",
       "      <td>NaN</td>\n",
       "      <td>42</td>\n",
       "      <td>среднее</td>\n",
       "      <td>1</td>\n",
       "      <td>женат / замужем</td>\n",
       "      <td>0</td>\n",
       "      <td>F</td>\n",
       "      <td>сотрудник</td>\n",
       "      <td>0</td>\n",
       "      <td>NaN</td>\n",
       "      <td>строительство жилой недвижимости</td>\n",
       "    </tr>\n",
       "    <tr>\n",
       "      <td>21510</td>\n",
       "      <td>2</td>\n",
       "      <td>NaN</td>\n",
       "      <td>28</td>\n",
       "      <td>среднее</td>\n",
       "      <td>1</td>\n",
       "      <td>женат / замужем</td>\n",
       "      <td>0</td>\n",
       "      <td>F</td>\n",
       "      <td>сотрудник</td>\n",
       "      <td>0</td>\n",
       "      <td>NaN</td>\n",
       "      <td>приобретение автомобиля</td>\n",
       "    </tr>\n",
       "  </tbody>\n",
       "</table>\n",
       "<p>2174 rows × 12 columns</p>\n",
       "</div>"
      ],
      "text/plain": [
       "       children  days_employed  dob_years education  education_id  \\\n",
       "12            0            NaN         65   среднее             1   \n",
       "26            0            NaN         41   среднее             1   \n",
       "29            0            NaN         63   среднее             1   \n",
       "41            0            NaN         50   среднее             1   \n",
       "55            0            NaN         54   среднее             1   \n",
       "...         ...            ...        ...       ...           ...   \n",
       "21489         2            NaN         47   Среднее             1   \n",
       "21495         1            NaN         50   среднее             1   \n",
       "21497         0            NaN         48    ВЫСШЕЕ             0   \n",
       "21502         1            NaN         42   среднее             1   \n",
       "21510         2            NaN         28   среднее             1   \n",
       "\n",
       "               family_status  family_status_id gender  income_type  debt  \\\n",
       "12          гражданский брак                 1      M    пенсионер     0   \n",
       "26           женат / замужем                 0      M  госслужащий     0   \n",
       "29     Не женат / не замужем                 4      F    пенсионер     0   \n",
       "41           женат / замужем                 0      F  госслужащий     0   \n",
       "55          гражданский брак                 1      F    пенсионер     1   \n",
       "...                      ...               ...    ...          ...   ...   \n",
       "21489        женат / замужем                 0      M    компаньон     0   \n",
       "21495       гражданский брак                 1      F    сотрудник     0   \n",
       "21497        женат / замужем                 0      F    компаньон     0   \n",
       "21502        женат / замужем                 0      F    сотрудник     0   \n",
       "21510        женат / замужем                 0      F    сотрудник     0   \n",
       "\n",
       "       total_income                           purpose  \n",
       "12              NaN                   сыграть свадьбу  \n",
       "26              NaN                       образование  \n",
       "29              NaN  строительство жилой недвижимости  \n",
       "41              NaN  сделка с подержанным автомобилем  \n",
       "55              NaN                   сыграть свадьбу  \n",
       "...             ...                               ...  \n",
       "21489           NaN              сделка с автомобилем  \n",
       "21495           NaN                           свадьба  \n",
       "21497           NaN        строительство недвижимости  \n",
       "21502           NaN  строительство жилой недвижимости  \n",
       "21510           NaN           приобретение автомобиля  \n",
       "\n",
       "[2174 rows x 12 columns]"
      ]
     },
     "metadata": {},
     "output_type": "display_data"
    }
   ],
   "source": [
    "data = df[df['days_employed'].isna() & df['total_income'].isna()]\n",
    "display(data) # проверяем гипотезу 4 (см. выводы)"
   ]
  },
  {
   "cell_type": "code",
   "execution_count": 11,
   "metadata": {},
   "outputs": [
    {
     "data": {
      "text/plain": [
       "0.10099883855981417"
      ]
     },
     "execution_count": 11,
     "metadata": {},
     "output_type": "execute_result"
    }
   ],
   "source": [
    "weight = data.shape[0] / df.shape[0] # оцениваем удельный вес даных, на сколько их доля велика\n",
    "weight"
   ]
  },
  {
   "cell_type": "code",
   "execution_count": 12,
   "metadata": {},
   "outputs": [
    {
     "data": {
      "text/plain": [
       "145017.93753253992"
      ]
     },
     "execution_count": 12,
     "metadata": {},
     "output_type": "execute_result"
    }
   ],
   "source": [
    "median_total_income = df['total_income'].median() # получаем средне медианное значение для заполнеие пропусков\n",
    "median_total_income"
   ]
  },
  {
   "cell_type": "code",
   "execution_count": 13,
   "metadata": {},
   "outputs": [
    {
     "data": {
      "text/plain": [
       "children               0\n",
       "days_employed       2174\n",
       "dob_years              0\n",
       "education              0\n",
       "education_id           0\n",
       "family_status          0\n",
       "family_status_id       0\n",
       "gender                 0\n",
       "income_type            0\n",
       "debt                   0\n",
       "total_income           0\n",
       "purpose                0\n",
       "dtype: int64"
      ]
     },
     "execution_count": 13,
     "metadata": {},
     "output_type": "execute_result"
    }
   ],
   "source": [
    "df['total_income'] = df['total_income'].fillna(value=median_total_income) # заполняем пропуски и проверяем результат\n",
    "df.isna().sum()"
   ]
  },
  {
   "cell_type": "markdown",
   "metadata": {},
   "source": [
    "**Вывод**"
   ]
  },
  {
   "cell_type": "markdown",
   "metadata": {},
   "source": [
    "Исходя из шага 2.1 можно сделать выводы:\n",
    "\n",
    "1. Мы убедились в том, что пропуски в столбцах попарно пропущены и из этого снова можно сделать вывод об ошибке при выгрузке данных;\n",
    "\n",
    "2. Чтобы действовать дальше, нужно было решить, что с этими пропусками делать.\n",
    "\n",
    "3. Для этого мы выяснили на сколько весомый объём пропусков, он оказался весом (10%), из чего понятно, что удалять такие данные категорически запрещено.\n",
    "\n",
    "4. Тогда я выбрала путь - заменить пропуски медианными значениями.\n",
    " \n",
    "На этом мой шаг закончен, что делать с пропусками в days_employed, решим дальше, т.к. сначала нужно разобраться с типом данных."
   ]
  },
  {
   "cell_type": "markdown",
   "metadata": {},
   "source": [
    "### Замена типа данных"
   ]
  },
  {
   "cell_type": "markdown",
   "metadata": {},
   "source": [
    "В столбце days_employed отражается общий трудовой стаж в днях, на практике вполне может быть, что нецелочисленное число, но так как тут нужно именно целое количество дня, то переведем столбец в целочисленное значение типа int.\n",
    "\n",
    "Но сначала нужно разобраться с отрицательными значениями в столбце. Возможно, это ошибка при воде данных, скорее всего, человек, заполнявший данные, ставил \"-\" перед числовыми значениями. Так, что просто возьмём модуль от числа."
   ]
  },
  {
   "cell_type": "code",
   "execution_count": 14,
   "metadata": {},
   "outputs": [
    {
     "data": {
      "text/html": [
       "<div>\n",
       "<style scoped>\n",
       "    .dataframe tbody tr th:only-of-type {\n",
       "        vertical-align: middle;\n",
       "    }\n",
       "\n",
       "    .dataframe tbody tr th {\n",
       "        vertical-align: top;\n",
       "    }\n",
       "\n",
       "    .dataframe thead th {\n",
       "        text-align: right;\n",
       "    }\n",
       "</style>\n",
       "<table border=\"1\" class=\"dataframe\">\n",
       "  <thead>\n",
       "    <tr style=\"text-align: right;\">\n",
       "      <th></th>\n",
       "      <th>children</th>\n",
       "      <th>days_employed</th>\n",
       "      <th>dob_years</th>\n",
       "      <th>education</th>\n",
       "      <th>education_id</th>\n",
       "      <th>family_status</th>\n",
       "      <th>family_status_id</th>\n",
       "      <th>gender</th>\n",
       "      <th>income_type</th>\n",
       "      <th>debt</th>\n",
       "      <th>total_income</th>\n",
       "      <th>purpose</th>\n",
       "    </tr>\n",
       "  </thead>\n",
       "  <tbody>\n",
       "    <tr>\n",
       "      <td>0</td>\n",
       "      <td>1</td>\n",
       "      <td>8437.673028</td>\n",
       "      <td>42</td>\n",
       "      <td>высшее</td>\n",
       "      <td>0</td>\n",
       "      <td>женат / замужем</td>\n",
       "      <td>0</td>\n",
       "      <td>F</td>\n",
       "      <td>сотрудник</td>\n",
       "      <td>0</td>\n",
       "      <td>253875.639453</td>\n",
       "      <td>покупка жилья</td>\n",
       "    </tr>\n",
       "    <tr>\n",
       "      <td>1</td>\n",
       "      <td>1</td>\n",
       "      <td>4024.803754</td>\n",
       "      <td>36</td>\n",
       "      <td>среднее</td>\n",
       "      <td>1</td>\n",
       "      <td>женат / замужем</td>\n",
       "      <td>0</td>\n",
       "      <td>F</td>\n",
       "      <td>сотрудник</td>\n",
       "      <td>0</td>\n",
       "      <td>112080.014102</td>\n",
       "      <td>приобретение автомобиля</td>\n",
       "    </tr>\n",
       "    <tr>\n",
       "      <td>2</td>\n",
       "      <td>0</td>\n",
       "      <td>5623.422610</td>\n",
       "      <td>33</td>\n",
       "      <td>Среднее</td>\n",
       "      <td>1</td>\n",
       "      <td>женат / замужем</td>\n",
       "      <td>0</td>\n",
       "      <td>M</td>\n",
       "      <td>сотрудник</td>\n",
       "      <td>0</td>\n",
       "      <td>145885.952297</td>\n",
       "      <td>покупка жилья</td>\n",
       "    </tr>\n",
       "    <tr>\n",
       "      <td>3</td>\n",
       "      <td>3</td>\n",
       "      <td>4124.747207</td>\n",
       "      <td>32</td>\n",
       "      <td>среднее</td>\n",
       "      <td>1</td>\n",
       "      <td>женат / замужем</td>\n",
       "      <td>0</td>\n",
       "      <td>M</td>\n",
       "      <td>сотрудник</td>\n",
       "      <td>0</td>\n",
       "      <td>267628.550329</td>\n",
       "      <td>дополнительное образование</td>\n",
       "    </tr>\n",
       "    <tr>\n",
       "      <td>4</td>\n",
       "      <td>0</td>\n",
       "      <td>340266.072047</td>\n",
       "      <td>53</td>\n",
       "      <td>среднее</td>\n",
       "      <td>1</td>\n",
       "      <td>гражданский брак</td>\n",
       "      <td>1</td>\n",
       "      <td>F</td>\n",
       "      <td>пенсионер</td>\n",
       "      <td>0</td>\n",
       "      <td>158616.077870</td>\n",
       "      <td>сыграть свадьбу</td>\n",
       "    </tr>\n",
       "    <tr>\n",
       "      <td>...</td>\n",
       "      <td>...</td>\n",
       "      <td>...</td>\n",
       "      <td>...</td>\n",
       "      <td>...</td>\n",
       "      <td>...</td>\n",
       "      <td>...</td>\n",
       "      <td>...</td>\n",
       "      <td>...</td>\n",
       "      <td>...</td>\n",
       "      <td>...</td>\n",
       "      <td>...</td>\n",
       "      <td>...</td>\n",
       "    </tr>\n",
       "    <tr>\n",
       "      <td>21520</td>\n",
       "      <td>1</td>\n",
       "      <td>4529.316663</td>\n",
       "      <td>43</td>\n",
       "      <td>среднее</td>\n",
       "      <td>1</td>\n",
       "      <td>гражданский брак</td>\n",
       "      <td>1</td>\n",
       "      <td>F</td>\n",
       "      <td>компаньон</td>\n",
       "      <td>0</td>\n",
       "      <td>224791.862382</td>\n",
       "      <td>операции с жильем</td>\n",
       "    </tr>\n",
       "    <tr>\n",
       "      <td>21521</td>\n",
       "      <td>0</td>\n",
       "      <td>343937.404131</td>\n",
       "      <td>67</td>\n",
       "      <td>среднее</td>\n",
       "      <td>1</td>\n",
       "      <td>женат / замужем</td>\n",
       "      <td>0</td>\n",
       "      <td>F</td>\n",
       "      <td>пенсионер</td>\n",
       "      <td>0</td>\n",
       "      <td>155999.806512</td>\n",
       "      <td>сделка с автомобилем</td>\n",
       "    </tr>\n",
       "    <tr>\n",
       "      <td>21522</td>\n",
       "      <td>1</td>\n",
       "      <td>2113.346888</td>\n",
       "      <td>38</td>\n",
       "      <td>среднее</td>\n",
       "      <td>1</td>\n",
       "      <td>гражданский брак</td>\n",
       "      <td>1</td>\n",
       "      <td>M</td>\n",
       "      <td>сотрудник</td>\n",
       "      <td>1</td>\n",
       "      <td>89672.561153</td>\n",
       "      <td>недвижимость</td>\n",
       "    </tr>\n",
       "    <tr>\n",
       "      <td>21523</td>\n",
       "      <td>3</td>\n",
       "      <td>3112.481705</td>\n",
       "      <td>38</td>\n",
       "      <td>среднее</td>\n",
       "      <td>1</td>\n",
       "      <td>женат / замужем</td>\n",
       "      <td>0</td>\n",
       "      <td>M</td>\n",
       "      <td>сотрудник</td>\n",
       "      <td>1</td>\n",
       "      <td>244093.050500</td>\n",
       "      <td>на покупку своего автомобиля</td>\n",
       "    </tr>\n",
       "    <tr>\n",
       "      <td>21524</td>\n",
       "      <td>2</td>\n",
       "      <td>1984.507589</td>\n",
       "      <td>40</td>\n",
       "      <td>среднее</td>\n",
       "      <td>1</td>\n",
       "      <td>женат / замужем</td>\n",
       "      <td>0</td>\n",
       "      <td>F</td>\n",
       "      <td>сотрудник</td>\n",
       "      <td>0</td>\n",
       "      <td>82047.418899</td>\n",
       "      <td>на покупку автомобиля</td>\n",
       "    </tr>\n",
       "  </tbody>\n",
       "</table>\n",
       "<p>21525 rows × 12 columns</p>\n",
       "</div>"
      ],
      "text/plain": [
       "       children  days_employed  dob_years education  education_id  \\\n",
       "0             1    8437.673028         42    высшее             0   \n",
       "1             1    4024.803754         36   среднее             1   \n",
       "2             0    5623.422610         33   Среднее             1   \n",
       "3             3    4124.747207         32   среднее             1   \n",
       "4             0  340266.072047         53   среднее             1   \n",
       "...         ...            ...        ...       ...           ...   \n",
       "21520         1    4529.316663         43   среднее             1   \n",
       "21521         0  343937.404131         67   среднее             1   \n",
       "21522         1    2113.346888         38   среднее             1   \n",
       "21523         3    3112.481705         38   среднее             1   \n",
       "21524         2    1984.507589         40   среднее             1   \n",
       "\n",
       "          family_status  family_status_id gender income_type  debt  \\\n",
       "0       женат / замужем                 0      F   сотрудник     0   \n",
       "1       женат / замужем                 0      F   сотрудник     0   \n",
       "2       женат / замужем                 0      M   сотрудник     0   \n",
       "3       женат / замужем                 0      M   сотрудник     0   \n",
       "4      гражданский брак                 1      F   пенсионер     0   \n",
       "...                 ...               ...    ...         ...   ...   \n",
       "21520  гражданский брак                 1      F   компаньон     0   \n",
       "21521   женат / замужем                 0      F   пенсионер     0   \n",
       "21522  гражданский брак                 1      M   сотрудник     1   \n",
       "21523   женат / замужем                 0      M   сотрудник     1   \n",
       "21524   женат / замужем                 0      F   сотрудник     0   \n",
       "\n",
       "        total_income                       purpose  \n",
       "0      253875.639453                 покупка жилья  \n",
       "1      112080.014102       приобретение автомобиля  \n",
       "2      145885.952297                 покупка жилья  \n",
       "3      267628.550329    дополнительное образование  \n",
       "4      158616.077870               сыграть свадьбу  \n",
       "...              ...                           ...  \n",
       "21520  224791.862382             операции с жильем  \n",
       "21521  155999.806512          сделка с автомобилем  \n",
       "21522   89672.561153                  недвижимость  \n",
       "21523  244093.050500  на покупку своего автомобиля  \n",
       "21524   82047.418899         на покупку автомобиля  \n",
       "\n",
       "[21525 rows x 12 columns]"
      ]
     },
     "execution_count": 14,
     "metadata": {},
     "output_type": "execute_result"
    }
   ],
   "source": [
    "df['days_employed'] = df['days_employed'].abs() # получаем в столбце положительные числа\n",
    "df"
   ]
  },
  {
   "cell_type": "markdown",
   "metadata": {},
   "source": [
    "Так как данные стобца days_employed не нужны мне для исследования, можно пропуски заменить нули, но доля пропусков значительно больше 1%, нельзя обесценивать эти данные, лучше заменить пропуски на среднемедианное значение."
   ]
  },
  {
   "cell_type": "code",
   "execution_count": 15,
   "metadata": {},
   "outputs": [
    {
     "data": {
      "text/plain": [
       "66914.72890682236"
      ]
     },
     "execution_count": 15,
     "metadata": {},
     "output_type": "execute_result"
    }
   ],
   "source": [
    "median_days_employed = df['days_employed'].mean() # получаем средне медианное значение для заполнеие пропусков\n",
    "median_days_employed"
   ]
  },
  {
   "cell_type": "code",
   "execution_count": 16,
   "metadata": {},
   "outputs": [
    {
     "data": {
      "text/plain": [
       "children            0\n",
       "days_employed       0\n",
       "dob_years           0\n",
       "education           0\n",
       "education_id        0\n",
       "family_status       0\n",
       "family_status_id    0\n",
       "gender              0\n",
       "income_type         0\n",
       "debt                0\n",
       "total_income        0\n",
       "purpose             0\n",
       "dtype: int64"
      ]
     },
     "execution_count": 16,
     "metadata": {},
     "output_type": "execute_result"
    }
   ],
   "source": [
    "df['days_employed'] = df['days_employed'].fillna(value=median_days_employed) # заполняем пропуски и проверяем результат\n",
    "df.isna().sum()"
   ]
  },
  {
   "cell_type": "code",
   "execution_count": 17,
   "metadata": {},
   "outputs": [],
   "source": [
    "df['total_income'] = df['total_income'].astype(int) # изменяем тип данных на int"
   ]
  },
  {
   "cell_type": "code",
   "execution_count": 18,
   "metadata": {},
   "outputs": [
    {
     "data": {
      "text/html": [
       "<div>\n",
       "<style scoped>\n",
       "    .dataframe tbody tr th:only-of-type {\n",
       "        vertical-align: middle;\n",
       "    }\n",
       "\n",
       "    .dataframe tbody tr th {\n",
       "        vertical-align: top;\n",
       "    }\n",
       "\n",
       "    .dataframe thead th {\n",
       "        text-align: right;\n",
       "    }\n",
       "</style>\n",
       "<table border=\"1\" class=\"dataframe\">\n",
       "  <thead>\n",
       "    <tr style=\"text-align: right;\">\n",
       "      <th></th>\n",
       "      <th>children</th>\n",
       "      <th>days_employed</th>\n",
       "      <th>dob_years</th>\n",
       "      <th>education</th>\n",
       "      <th>education_id</th>\n",
       "      <th>family_status</th>\n",
       "      <th>family_status_id</th>\n",
       "      <th>gender</th>\n",
       "      <th>income_type</th>\n",
       "      <th>debt</th>\n",
       "      <th>total_income</th>\n",
       "      <th>purpose</th>\n",
       "    </tr>\n",
       "  </thead>\n",
       "  <tbody>\n",
       "    <tr>\n",
       "      <td>0</td>\n",
       "      <td>1</td>\n",
       "      <td>8437</td>\n",
       "      <td>42</td>\n",
       "      <td>высшее</td>\n",
       "      <td>0</td>\n",
       "      <td>женат / замужем</td>\n",
       "      <td>0</td>\n",
       "      <td>F</td>\n",
       "      <td>сотрудник</td>\n",
       "      <td>0</td>\n",
       "      <td>253875</td>\n",
       "      <td>покупка жилья</td>\n",
       "    </tr>\n",
       "    <tr>\n",
       "      <td>1</td>\n",
       "      <td>1</td>\n",
       "      <td>4024</td>\n",
       "      <td>36</td>\n",
       "      <td>среднее</td>\n",
       "      <td>1</td>\n",
       "      <td>женат / замужем</td>\n",
       "      <td>0</td>\n",
       "      <td>F</td>\n",
       "      <td>сотрудник</td>\n",
       "      <td>0</td>\n",
       "      <td>112080</td>\n",
       "      <td>приобретение автомобиля</td>\n",
       "    </tr>\n",
       "    <tr>\n",
       "      <td>2</td>\n",
       "      <td>0</td>\n",
       "      <td>5623</td>\n",
       "      <td>33</td>\n",
       "      <td>Среднее</td>\n",
       "      <td>1</td>\n",
       "      <td>женат / замужем</td>\n",
       "      <td>0</td>\n",
       "      <td>M</td>\n",
       "      <td>сотрудник</td>\n",
       "      <td>0</td>\n",
       "      <td>145885</td>\n",
       "      <td>покупка жилья</td>\n",
       "    </tr>\n",
       "    <tr>\n",
       "      <td>3</td>\n",
       "      <td>3</td>\n",
       "      <td>4124</td>\n",
       "      <td>32</td>\n",
       "      <td>среднее</td>\n",
       "      <td>1</td>\n",
       "      <td>женат / замужем</td>\n",
       "      <td>0</td>\n",
       "      <td>M</td>\n",
       "      <td>сотрудник</td>\n",
       "      <td>0</td>\n",
       "      <td>267628</td>\n",
       "      <td>дополнительное образование</td>\n",
       "    </tr>\n",
       "    <tr>\n",
       "      <td>4</td>\n",
       "      <td>0</td>\n",
       "      <td>340266</td>\n",
       "      <td>53</td>\n",
       "      <td>среднее</td>\n",
       "      <td>1</td>\n",
       "      <td>гражданский брак</td>\n",
       "      <td>1</td>\n",
       "      <td>F</td>\n",
       "      <td>пенсионер</td>\n",
       "      <td>0</td>\n",
       "      <td>158616</td>\n",
       "      <td>сыграть свадьбу</td>\n",
       "    </tr>\n",
       "    <tr>\n",
       "      <td>...</td>\n",
       "      <td>...</td>\n",
       "      <td>...</td>\n",
       "      <td>...</td>\n",
       "      <td>...</td>\n",
       "      <td>...</td>\n",
       "      <td>...</td>\n",
       "      <td>...</td>\n",
       "      <td>...</td>\n",
       "      <td>...</td>\n",
       "      <td>...</td>\n",
       "      <td>...</td>\n",
       "      <td>...</td>\n",
       "    </tr>\n",
       "    <tr>\n",
       "      <td>21520</td>\n",
       "      <td>1</td>\n",
       "      <td>4529</td>\n",
       "      <td>43</td>\n",
       "      <td>среднее</td>\n",
       "      <td>1</td>\n",
       "      <td>гражданский брак</td>\n",
       "      <td>1</td>\n",
       "      <td>F</td>\n",
       "      <td>компаньон</td>\n",
       "      <td>0</td>\n",
       "      <td>224791</td>\n",
       "      <td>операции с жильем</td>\n",
       "    </tr>\n",
       "    <tr>\n",
       "      <td>21521</td>\n",
       "      <td>0</td>\n",
       "      <td>343937</td>\n",
       "      <td>67</td>\n",
       "      <td>среднее</td>\n",
       "      <td>1</td>\n",
       "      <td>женат / замужем</td>\n",
       "      <td>0</td>\n",
       "      <td>F</td>\n",
       "      <td>пенсионер</td>\n",
       "      <td>0</td>\n",
       "      <td>155999</td>\n",
       "      <td>сделка с автомобилем</td>\n",
       "    </tr>\n",
       "    <tr>\n",
       "      <td>21522</td>\n",
       "      <td>1</td>\n",
       "      <td>2113</td>\n",
       "      <td>38</td>\n",
       "      <td>среднее</td>\n",
       "      <td>1</td>\n",
       "      <td>гражданский брак</td>\n",
       "      <td>1</td>\n",
       "      <td>M</td>\n",
       "      <td>сотрудник</td>\n",
       "      <td>1</td>\n",
       "      <td>89672</td>\n",
       "      <td>недвижимость</td>\n",
       "    </tr>\n",
       "    <tr>\n",
       "      <td>21523</td>\n",
       "      <td>3</td>\n",
       "      <td>3112</td>\n",
       "      <td>38</td>\n",
       "      <td>среднее</td>\n",
       "      <td>1</td>\n",
       "      <td>женат / замужем</td>\n",
       "      <td>0</td>\n",
       "      <td>M</td>\n",
       "      <td>сотрудник</td>\n",
       "      <td>1</td>\n",
       "      <td>244093</td>\n",
       "      <td>на покупку своего автомобиля</td>\n",
       "    </tr>\n",
       "    <tr>\n",
       "      <td>21524</td>\n",
       "      <td>2</td>\n",
       "      <td>1984</td>\n",
       "      <td>40</td>\n",
       "      <td>среднее</td>\n",
       "      <td>1</td>\n",
       "      <td>женат / замужем</td>\n",
       "      <td>0</td>\n",
       "      <td>F</td>\n",
       "      <td>сотрудник</td>\n",
       "      <td>0</td>\n",
       "      <td>82047</td>\n",
       "      <td>на покупку автомобиля</td>\n",
       "    </tr>\n",
       "  </tbody>\n",
       "</table>\n",
       "<p>21525 rows × 12 columns</p>\n",
       "</div>"
      ],
      "text/plain": [
       "       children  days_employed  dob_years education  education_id  \\\n",
       "0             1           8437         42    высшее             0   \n",
       "1             1           4024         36   среднее             1   \n",
       "2             0           5623         33   Среднее             1   \n",
       "3             3           4124         32   среднее             1   \n",
       "4             0         340266         53   среднее             1   \n",
       "...         ...            ...        ...       ...           ...   \n",
       "21520         1           4529         43   среднее             1   \n",
       "21521         0         343937         67   среднее             1   \n",
       "21522         1           2113         38   среднее             1   \n",
       "21523         3           3112         38   среднее             1   \n",
       "21524         2           1984         40   среднее             1   \n",
       "\n",
       "          family_status  family_status_id gender income_type  debt  \\\n",
       "0       женат / замужем                 0      F   сотрудник     0   \n",
       "1       женат / замужем                 0      F   сотрудник     0   \n",
       "2       женат / замужем                 0      M   сотрудник     0   \n",
       "3       женат / замужем                 0      M   сотрудник     0   \n",
       "4      гражданский брак                 1      F   пенсионер     0   \n",
       "...                 ...               ...    ...         ...   ...   \n",
       "21520  гражданский брак                 1      F   компаньон     0   \n",
       "21521   женат / замужем                 0      F   пенсионер     0   \n",
       "21522  гражданский брак                 1      M   сотрудник     1   \n",
       "21523   женат / замужем                 0      M   сотрудник     1   \n",
       "21524   женат / замужем                 0      F   сотрудник     0   \n",
       "\n",
       "       total_income                       purpose  \n",
       "0            253875                 покупка жилья  \n",
       "1            112080       приобретение автомобиля  \n",
       "2            145885                 покупка жилья  \n",
       "3            267628    дополнительное образование  \n",
       "4            158616               сыграть свадьбу  \n",
       "...             ...                           ...  \n",
       "21520        224791             операции с жильем  \n",
       "21521        155999          сделка с автомобилем  \n",
       "21522         89672                  недвижимость  \n",
       "21523        244093  на покупку своего автомобиля  \n",
       "21524         82047         на покупку автомобиля  \n",
       "\n",
       "[21525 rows x 12 columns]"
      ]
     },
     "execution_count": 18,
     "metadata": {},
     "output_type": "execute_result"
    }
   ],
   "source": [
    "df['days_employed'] = df['days_employed'].astype(int) # изменяем тип данных на int\n",
    "df"
   ]
  },
  {
   "cell_type": "markdown",
   "metadata": {},
   "source": [
    "**Вывод**"
   ]
  },
  {
   "cell_type": "markdown",
   "metadata": {},
   "source": [
    "В данном шаге я разобралась  с столбцом days_employed:\n",
    "\n",
    "1. Сначала мы разобрались с отрицательными значениями\n",
    "2. Далее заполнили пропуски выбрав наиболее \"щадящий\" способ\n",
    "3. Перевели, согласно заданию, столбец days_employed в целочисленный тип данных.\n",
    "\n",
    "На этом можно сказать, что данные готовы для работы над исследованием.\n",
    "\n",
    "Но нужно проверить на дубликаты таблицу и обработать их."
   ]
  },
  {
   "cell_type": "markdown",
   "metadata": {},
   "source": [
    "### Обработка дубликатов"
   ]
  },
  {
   "cell_type": "markdown",
   "metadata": {},
   "source": [
    "В столбце education мы видим, что данные заполнены в разном регистре, и нужно это исправить."
   ]
  },
  {
   "cell_type": "code",
   "execution_count": 19,
   "metadata": {},
   "outputs": [],
   "source": [
    "df['education'] = df['education'].str.lower() # переводим весь столбец в единый регистр"
   ]
  },
  {
   "cell_type": "code",
   "execution_count": 20,
   "metadata": {
    "scrolled": true
   },
   "outputs": [
    {
     "data": {
      "text/plain": [
       "array(['высшее', 'среднее', 'неоконченное высшее', 'начальное',\n",
       "       'ученая степень'], dtype=object)"
      ]
     },
     "execution_count": 20,
     "metadata": {},
     "output_type": "execute_result"
    }
   ],
   "source": [
    "df['education'].unique() # проверяем результат работы"
   ]
  },
  {
   "cell_type": "code",
   "execution_count": 21,
   "metadata": {},
   "outputs": [
    {
     "data": {
      "text/plain": [
       "71"
      ]
     },
     "execution_count": 21,
     "metadata": {},
     "output_type": "execute_result"
    }
   ],
   "source": [
    "df.duplicated().sum()  # подсчёт явных дубликатов"
   ]
  },
  {
   "cell_type": "code",
   "execution_count": 22,
   "metadata": {},
   "outputs": [],
   "source": [
    "df = df.drop_duplicates().reset_index(drop=True) # удаление явных дубликатов (с удалением старых индексов и формированием новых)"
   ]
  },
  {
   "cell_type": "code",
   "execution_count": 23,
   "metadata": {},
   "outputs": [
    {
     "data": {
      "text/plain": [
       "0"
      ]
     },
     "execution_count": 23,
     "metadata": {},
     "output_type": "execute_result"
    }
   ],
   "source": [
    "df.duplicated().sum()  # проверка на отсутствие дубликатов"
   ]
  },
  {
   "cell_type": "markdown",
   "metadata": {},
   "source": [
    "**Вывод**"
   ]
  },
  {
   "cell_type": "markdown",
   "metadata": {},
   "source": [
    "На данном этапе ликвидированы:\n",
    "\n",
    "неявные дубликаты (значения переведены в единый регистр)\n",
    "\n",
    "явные дубликаты (удалены идентичные  значения, так как их доля не превышает и 1%)"
   ]
  },
  {
   "cell_type": "markdown",
   "metadata": {},
   "source": [
    "### Лемматизация"
   ]
  },
  {
   "cell_type": "code",
   "execution_count": 24,
   "metadata": {},
   "outputs": [
    {
     "data": {
      "text/plain": [
       "свадьба                                   791\n",
       "на проведение свадьбы                     768\n",
       "сыграть свадьбу                           765\n",
       "операции с недвижимостью                  675\n",
       "покупка коммерческой недвижимости         661\n",
       "операции с жильем                         652\n",
       "покупка жилья для сдачи                   651\n",
       "операции с коммерческой недвижимостью     650\n",
       "покупка жилья                             646\n",
       "жилье                                     646\n",
       "покупка жилья для семьи                   638\n",
       "строительство собственной недвижимости    635\n",
       "недвижимость                              633\n",
       "операции со своей недвижимостью           627\n",
       "строительство жилой недвижимости          624\n",
       "покупка недвижимости                      621\n",
       "покупка своего жилья                      620\n",
       "строительство недвижимости                619\n",
       "ремонт жилью                              607\n",
       "покупка жилой недвижимости                606\n",
       "на покупку своего автомобиля              505\n",
       "заняться высшим образованием              496\n",
       "автомобиль                                494\n",
       "сделка с подержанным автомобилем          486\n",
       "свой автомобиль                           478\n",
       "на покупку подержанного автомобиля        478\n",
       "автомобили                                478\n",
       "на покупку автомобиля                     471\n",
       "приобретение автомобиля                   461\n",
       "дополнительное образование                460\n",
       "сделка с автомобилем                      455\n",
       "высшее образование                        452\n",
       "образование                               447\n",
       "получение дополнительного образования     446\n",
       "получение образования                     442\n",
       "профильное образование                    436\n",
       "получение высшего образования             426\n",
       "заняться образованием                     408\n",
       "Name: purpose, dtype: int64"
      ]
     },
     "execution_count": 24,
     "metadata": {},
     "output_type": "execute_result"
    }
   ],
   "source": [
    "df['purpose'].value_counts() #рассмотрим значения в данном столбце"
   ]
  },
  {
   "cell_type": "markdown",
   "metadata": {},
   "source": [
    "**Вывод**"
   ]
  },
  {
   "cell_type": "markdown",
   "metadata": {},
   "source": [
    "Анализируя данный столбец, можно выделить 4 категории целей кредита:\n",
    "\n",
    "- приобретение автомобиля\n",
    "\n",
    "- приобретение недвижимости\n",
    "\n",
    "- организация свадьбы\n",
    "\n",
    "- получение образования"
   ]
  },
  {
   "cell_type": "code",
   "execution_count": 25,
   "metadata": {},
   "outputs": [
    {
     "data": {
      "text/plain": [
       "' покупка жилья приобретение автомобиля дополнительное образование сыграть свадьбу операции с жильем образование на проведение свадьбы покупка жилья для семьи покупка недвижимости покупка коммерческой недвижимости покупка жилой недвижимости строительство собственной недвижимости недвижимость строительство недвижимости на покупку подержанного автомобиля на покупку своего автомобиля операции с коммерческой недвижимостью строительство жилой недвижимости жилье операции со своей недвижимостью автомобили заняться образованием сделка с подержанным автомобилем получение образования автомобиль свадьба получение дополнительного образования покупка своего жилья операции с недвижимостью получение высшего образования свой автомобиль сделка с автомобилем профильное образование высшее образование покупка жилья для сдачи на покупку автомобиля ремонт жилью заняться высшим образованием '"
      ]
     },
     "execution_count": 25,
     "metadata": {},
     "output_type": "execute_result"
    }
   ],
   "source": [
    "df_unique = df['purpose'].unique() # выведем уникальные значения в виде строки\n",
    "str_purpose = ' ' #создадим строчки из уникальных значений столбца\n",
    "for i in df_unique:\n",
    "    str_purpose += i + ' '\n",
    "str_purpose"
   ]
  },
  {
   "cell_type": "markdown",
   "metadata": {},
   "source": [
    "Чтобы создать словари для каждой из категорий, необходимо найти леммы"
   ]
  },
  {
   "cell_type": "code",
   "execution_count": 26,
   "metadata": {},
   "outputs": [
    {
     "data": {
      "text/plain": [
       "Counter({' ': 97,\n",
       "         'покупка': 10,\n",
       "         'жилье': 7,\n",
       "         'приобретение': 1,\n",
       "         'автомобиль': 9,\n",
       "         'дополнительный': 2,\n",
       "         'образование': 9,\n",
       "         'сыграть': 1,\n",
       "         'свадьба': 3,\n",
       "         'операция': 4,\n",
       "         'с': 5,\n",
       "         'на': 4,\n",
       "         'проведение': 1,\n",
       "         'для': 2,\n",
       "         'семья': 1,\n",
       "         'недвижимость': 10,\n",
       "         'коммерческий': 2,\n",
       "         'жилой': 2,\n",
       "         'строительство': 3,\n",
       "         'собственный': 1,\n",
       "         'подержать': 2,\n",
       "         'свой': 4,\n",
       "         'со': 1,\n",
       "         'заниматься': 2,\n",
       "         'сделка': 2,\n",
       "         'получение': 3,\n",
       "         'высокий': 3,\n",
       "         'профильный': 1,\n",
       "         'сдача': 1,\n",
       "         'ремонт': 1,\n",
       "         ' \\n': 1})"
      ]
     },
     "execution_count": 26,
     "metadata": {},
     "output_type": "execute_result"
    }
   ],
   "source": [
    "from pymystem3 import Mystem\n",
    "m = Mystem()\n",
    "\n",
    "\n",
    "lemmas = m.lemmatize(str_purpose)\n",
    "\n",
    "\n",
    "from collections import Counter\n",
    "Counter(lemmas) #для удобства выведем столбцом результат"
   ]
  },
  {
   "cell_type": "markdown",
   "metadata": {},
   "source": [
    "На основе результатов можем выделить словари для каждой категории:\n",
    "\n",
    "- приобретение автомобиля: 'автомобиль', 'подержать'.\n",
    "\n",
    "- приобретение недвижимости: 'жилье', 'недвижимость', 'коммерческий', 'жилой', 'строительство', 'сдача', 'ремонт'.\n",
    "\n",
    "- организация свадьбы: 'сыграть', 'свадьба'.\n",
    "\n",
    "- получение образования: 'дополнительный', 'образование', 'высокий', 'профильный'."
   ]
  },
  {
   "cell_type": "markdown",
   "metadata": {},
   "source": [
    "**Вывод**"
   ]
  },
  {
   "cell_type": "markdown",
   "metadata": {},
   "source": [
    "В данном пункте, проведена лемматизация. Созданы словари для  последующий категоризации."
   ]
  },
  {
   "cell_type": "markdown",
   "metadata": {},
   "source": [
    "### Категоризация данных"
   ]
  },
  {
   "cell_type": "code",
   "execution_count": 27,
   "metadata": {},
   "outputs": [],
   "source": [
    "# создаем словари для категоризации\n",
    "car = ['автомобиль', 'подержать']\n",
    "realty = ['жилье', 'недвижимость', 'коммерческий', 'жилой', 'строительство', 'сдача','ремонт']\n",
    "wedding = ['сыграть', 'свадьба']\n",
    "education = ['дополнительный', 'образование', 'высокий', 'профильный']"
   ]
  },
  {
   "cell_type": "code",
   "execution_count": 28,
   "metadata": {},
   "outputs": [],
   "source": [
    "# создадим функцию для категоризации\n",
    "def new_purpose(purpose):\n",
    "    lemmas = m.lemmatize(purpose)\n",
    "    for lemm in lemmas:\n",
    "        if lemm in car:\n",
    "            return 'приобретение автомобиля'\n",
    "        elif lemm in realty:\n",
    "            return 'приобретение недвижимости'\n",
    "        elif lemm in wedding:\n",
    "            return 'организация свадьбы'\n",
    "        elif lemm in education :\n",
    "            return 'получение образования'\n",
    "       "
   ]
  },
  {
   "cell_type": "code",
   "execution_count": 29,
   "metadata": {},
   "outputs": [
    {
     "data": {
      "text/plain": [
       "array(['приобретение недвижимости', 'приобретение автомобиля',\n",
       "       'получение образования', 'организация свадьбы'], dtype=object)"
      ]
     },
     "execution_count": 29,
     "metadata": {},
     "output_type": "execute_result"
    }
   ],
   "source": [
    "df['new_purpose'] = df['purpose'].apply(new_purpose) # заменияем старые значения на новые точные категории\n",
    "df['new_purpose'].unique() # проверяем результаты"
   ]
  },
  {
   "cell_type": "markdown",
   "metadata": {},
   "source": [
    "Проведена категоризация в столбце purpose\n",
    "\n",
    "Далее проведем  категоризацию в столбце children"
   ]
  },
  {
   "cell_type": "code",
   "execution_count": 30,
   "metadata": {},
   "outputs": [],
   "source": [
    "def children_quantity(children):\n",
    "    if children == 0:\n",
    "        return 'нет детей'\n",
    "    elif 1 <= children <= 2:\n",
    "        return 'малодетная семья'\n",
    "    elif children > 2:\n",
    "        return 'многодетная семья'"
   ]
  },
  {
   "cell_type": "code",
   "execution_count": 31,
   "metadata": {},
   "outputs": [
    {
     "data": {
      "text/plain": [
       "array(['малодетная семья', 'нет детей', 'многодетная семья'], dtype=object)"
      ]
     },
     "execution_count": 31,
     "metadata": {},
     "output_type": "execute_result"
    }
   ],
   "source": [
    "df['children_quantity'] = df['children'].apply(children_quantity) \n",
    "df['children_quantity'].unique()"
   ]
  },
  {
   "cell_type": "markdown",
   "metadata": {},
   "source": [
    "Проведена категоризация в столбце children\n",
    "\n",
    "Далее проведем категоризацию в столбце total_income\n",
    "\n",
    "Выделим 4 категории:\n",
    "\n",
    "- низший класс (будем определять как отрезок от минимального до четверти от общего дохода)\n",
    "\n",
    "- стремящиеся к среднему классу (от четверти до медианного значения)\n",
    "\n",
    "- средний класс (от медианного значения до 3/4 от общего значения)\n",
    "\n",
    "- высший класс (сверх значения 3/4)"
   ]
  },
  {
   "cell_type": "code",
   "execution_count": 32,
   "metadata": {},
   "outputs": [
    {
     "name": "stdout",
     "output_type": "stream",
     "text": [
      "нижняя граница: 107623.0\n",
      "серединное значение: 145017.0\n",
      "верхняя граница: 195813.25\n"
     ]
    }
   ],
   "source": [
    "quarter = (df[\"total_income\"]).quantile(0.25)\n",
    "middle = (df[\"total_income\"].median())\n",
    "three_quarters = (df[\"total_income\"]).quantile(0.75)\n",
    "\n",
    "print('нижняя граница:', quarter)\n",
    "\n",
    "print('серединное значение:' , middle)\n",
    "\n",
    "print('верхняя граница:', three_quarters)\n",
    "\n"
   ]
  },
  {
   "cell_type": "code",
   "execution_count": 33,
   "metadata": {},
   "outputs": [],
   "source": [
    "def total_income_category(total_income):\n",
    "    if total_income < quarter:\n",
    "        return 'нинизший класс'\n",
    "    elif quarter <= total_income <= middle:\n",
    "        return 'стремящиеся к среденему классу'\n",
    "    elif middle <= total_income <= three_quarters:\n",
    "        return 'средний класс'\n",
    "    elif total_income > three_quarters:\n",
    "        return 'высший класс'"
   ]
  },
  {
   "cell_type": "code",
   "execution_count": 34,
   "metadata": {},
   "outputs": [
    {
     "data": {
      "text/plain": [
       "array(['высший класс', 'стремящиеся к среденему классу', 'средний класс',\n",
       "       'нинизший класс'], dtype=object)"
      ]
     },
     "execution_count": 34,
     "metadata": {},
     "output_type": "execute_result"
    }
   ],
   "source": [
    "df['total_income_category'] = df['total_income'].apply(total_income_category) \n",
    "df['total_income_category'].unique()"
   ]
  },
  {
   "cell_type": "markdown",
   "metadata": {},
   "source": [
    "Проведена категоризация в столбце total_income"
   ]
  },
  {
   "cell_type": "markdown",
   "metadata": {},
   "source": [
    "## Шаг 3. Ответьте на вопросы"
   ]
  },
  {
   "cell_type": "markdown",
   "metadata": {},
   "source": [
    "- Есть ли зависимость между наличием детей и возвратом кредита в срок?"
   ]
  },
  {
   "cell_type": "code",
   "execution_count": 35,
   "metadata": {},
   "outputs": [
    {
     "data": {
      "text/html": [
       "<div>\n",
       "<style scoped>\n",
       "    .dataframe tbody tr th:only-of-type {\n",
       "        vertical-align: middle;\n",
       "    }\n",
       "\n",
       "    .dataframe tbody tr th {\n",
       "        vertical-align: top;\n",
       "    }\n",
       "\n",
       "    .dataframe thead th {\n",
       "        text-align: right;\n",
       "    }\n",
       "</style>\n",
       "<table border=\"1\" class=\"dataframe\">\n",
       "  <thead>\n",
       "    <tr style=\"text-align: right;\">\n",
       "      <th></th>\n",
       "      <th>debt</th>\n",
       "      <th>0</th>\n",
       "      <th>1</th>\n",
       "      <th>percent</th>\n",
       "    </tr>\n",
       "    <tr>\n",
       "      <th>children</th>\n",
       "      <th>children_quantity</th>\n",
       "      <th></th>\n",
       "      <th></th>\n",
       "      <th></th>\n",
       "    </tr>\n",
       "  </thead>\n",
       "  <tbody>\n",
       "    <tr>\n",
       "      <td>0</td>\n",
       "      <td>нет детей</td>\n",
       "      <td>13028.0</td>\n",
       "      <td>1063.0</td>\n",
       "      <td>7.543822</td>\n",
       "    </tr>\n",
       "    <tr>\n",
       "      <td>1</td>\n",
       "      <td>малодетная семья</td>\n",
       "      <td>4410.0</td>\n",
       "      <td>445.0</td>\n",
       "      <td>9.165808</td>\n",
       "    </tr>\n",
       "    <tr>\n",
       "      <td>2</td>\n",
       "      <td>малодетная семья</td>\n",
       "      <td>1926.0</td>\n",
       "      <td>202.0</td>\n",
       "      <td>9.492481</td>\n",
       "    </tr>\n",
       "    <tr>\n",
       "      <td>3</td>\n",
       "      <td>многодетная семья</td>\n",
       "      <td>303.0</td>\n",
       "      <td>27.0</td>\n",
       "      <td>8.181818</td>\n",
       "    </tr>\n",
       "    <tr>\n",
       "      <td>4</td>\n",
       "      <td>многодетная семья</td>\n",
       "      <td>37.0</td>\n",
       "      <td>4.0</td>\n",
       "      <td>9.756098</td>\n",
       "    </tr>\n",
       "    <tr>\n",
       "      <td>5</td>\n",
       "      <td>многодетная семья</td>\n",
       "      <td>9.0</td>\n",
       "      <td>NaN</td>\n",
       "      <td>NaN</td>\n",
       "    </tr>\n",
       "  </tbody>\n",
       "</table>\n",
       "</div>"
      ],
      "text/plain": [
       "debt                              0       1   percent\n",
       "children children_quantity                           \n",
       "0        нет детей          13028.0  1063.0  7.543822\n",
       "1        малодетная семья    4410.0   445.0  9.165808\n",
       "2        малодетная семья    1926.0   202.0  9.492481\n",
       "3        многодетная семья    303.0    27.0  8.181818\n",
       "4        многодетная семья     37.0     4.0  9.756098\n",
       "5        многодетная семья      9.0     NaN       NaN"
      ]
     },
     "execution_count": 35,
     "metadata": {},
     "output_type": "execute_result"
    }
   ],
   "source": [
    "pivot_table_children_quantity = df.pivot_table(index=['children', 'children_quantity'], columns='debt', values='days_employed', aggfunc='count')\n",
    "pivot_table_children_quantity['percent'] = pivot_table_children_quantity[1] / (pivot_table_children_quantity[1] + pivot_table_children_quantity[0])*100\n",
    "pivot_table_children_quantity"
   ]
  },
  {
   "cell_type": "markdown",
   "metadata": {},
   "source": [
    "**Вывод**"
   ]
  },
  {
   "cell_type": "markdown",
   "metadata": {},
   "source": [
    "Основываясь на изучение и сравнении данных можно сделать вывод о том, что количество детей не влияет на появление задолжности по кридиту.\n",
    "\n",
    "Сначала может показаться, что есть тендеция одновременного повышения количества детей и вероятности появления задолжности, но это не так.\n",
    "\n",
    "У семьи с 5 детьми, задолжностей не было вообще, в отличие от бездетных семей. Вероятность появления задолжности у семьи с 2 детьми выше, чем с 3.\n",
    "\n",
    "Что и требывалось даказать.\n"
   ]
  },
  {
   "cell_type": "markdown",
   "metadata": {},
   "source": [
    "- Есть ли зависимость между семейным положением и возвратом кредита в срок?"
   ]
  },
  {
   "cell_type": "code",
   "execution_count": 36,
   "metadata": {},
   "outputs": [
    {
     "data": {
      "text/html": [
       "<div>\n",
       "<style scoped>\n",
       "    .dataframe tbody tr th:only-of-type {\n",
       "        vertical-align: middle;\n",
       "    }\n",
       "\n",
       "    .dataframe tbody tr th {\n",
       "        vertical-align: top;\n",
       "    }\n",
       "\n",
       "    .dataframe thead th {\n",
       "        text-align: right;\n",
       "    }\n",
       "</style>\n",
       "<table border=\"1\" class=\"dataframe\">\n",
       "  <thead>\n",
       "    <tr style=\"text-align: right;\">\n",
       "      <th>debt</th>\n",
       "      <th>0</th>\n",
       "      <th>1</th>\n",
       "      <th>percent</th>\n",
       "    </tr>\n",
       "    <tr>\n",
       "      <th>family_status</th>\n",
       "      <th></th>\n",
       "      <th></th>\n",
       "      <th></th>\n",
       "    </tr>\n",
       "  </thead>\n",
       "  <tbody>\n",
       "    <tr>\n",
       "      <td>Не женат / не замужем</td>\n",
       "      <td>2536</td>\n",
       "      <td>274</td>\n",
       "      <td>9.750890</td>\n",
       "    </tr>\n",
       "    <tr>\n",
       "      <td>в разводе</td>\n",
       "      <td>1110</td>\n",
       "      <td>85</td>\n",
       "      <td>7.112971</td>\n",
       "    </tr>\n",
       "    <tr>\n",
       "      <td>вдовец / вдова</td>\n",
       "      <td>896</td>\n",
       "      <td>63</td>\n",
       "      <td>6.569343</td>\n",
       "    </tr>\n",
       "    <tr>\n",
       "      <td>гражданский брак</td>\n",
       "      <td>3763</td>\n",
       "      <td>388</td>\n",
       "      <td>9.347145</td>\n",
       "    </tr>\n",
       "    <tr>\n",
       "      <td>женат / замужем</td>\n",
       "      <td>11408</td>\n",
       "      <td>931</td>\n",
       "      <td>7.545182</td>\n",
       "    </tr>\n",
       "  </tbody>\n",
       "</table>\n",
       "</div>"
      ],
      "text/plain": [
       "debt                       0    1   percent\n",
       "family_status                              \n",
       "Не женат / не замужем   2536  274  9.750890\n",
       "в разводе               1110   85  7.112971\n",
       "вдовец / вдова           896   63  6.569343\n",
       "гражданский брак        3763  388  9.347145\n",
       "женат / замужем        11408  931  7.545182"
      ]
     },
     "execution_count": 36,
     "metadata": {},
     "output_type": "execute_result"
    }
   ],
   "source": [
    "pivot_table_family_status = df.pivot_table(index=['family_status',], columns='debt', values='days_employed', aggfunc='count')\n",
    "pivot_table_family_status['percent'] = pivot_table_family_status[1] / (pivot_table_family_status[1] + pivot_table_family_status[0])*100\n",
    "pivot_table_family_status"
   ]
  },
  {
   "cell_type": "markdown",
   "metadata": {},
   "source": [
    "**Вывод**"
   ]
  },
  {
   "cell_type": "markdown",
   "metadata": {},
   "source": [
    "Основываясь на изучении и сравнении данных, можно сделать вывод о том, что семейный статус не влияет на появление задолженности по кредиту.\n",
    "\n",
    "Самыми благонадежными по данной таблицей являются разведенные и вдовы/вдовцы, т.е. грубо говоря одинокие люди, но при этом же самыми неблагонадежными являются не женатые/замужние.\n",
    "\n",
    "Наличие мужа/жены тоже не дают однозначных результатов. Женаты/замужние благонадежнее сожителей (\"гражданский брак\")\n",
    "\n",
    "Что и требовалось доказать.\n"
   ]
  },
  {
   "cell_type": "markdown",
   "metadata": {},
   "source": [
    "- Есть ли зависимость между уровнем дохода и возвратом кредита в срок?"
   ]
  },
  {
   "cell_type": "code",
   "execution_count": 37,
   "metadata": {},
   "outputs": [
    {
     "data": {
      "text/html": [
       "<div>\n",
       "<style scoped>\n",
       "    .dataframe tbody tr th:only-of-type {\n",
       "        vertical-align: middle;\n",
       "    }\n",
       "\n",
       "    .dataframe tbody tr th {\n",
       "        vertical-align: top;\n",
       "    }\n",
       "\n",
       "    .dataframe thead th {\n",
       "        text-align: right;\n",
       "    }\n",
       "</style>\n",
       "<table border=\"1\" class=\"dataframe\">\n",
       "  <thead>\n",
       "    <tr style=\"text-align: right;\">\n",
       "      <th>debt</th>\n",
       "      <th>0</th>\n",
       "      <th>1</th>\n",
       "      <th>percent</th>\n",
       "    </tr>\n",
       "    <tr>\n",
       "      <th>total_income_category</th>\n",
       "      <th></th>\n",
       "      <th></th>\n",
       "      <th></th>\n",
       "    </tr>\n",
       "  </thead>\n",
       "  <tbody>\n",
       "    <tr>\n",
       "      <td>высший класс</td>\n",
       "      <td>4981</td>\n",
       "      <td>383</td>\n",
       "      <td>7.140194</td>\n",
       "    </tr>\n",
       "    <tr>\n",
       "      <td>нинизший класс</td>\n",
       "      <td>4937</td>\n",
       "      <td>427</td>\n",
       "      <td>7.960477</td>\n",
       "    </tr>\n",
       "    <tr>\n",
       "      <td>средний класс</td>\n",
       "      <td>3927</td>\n",
       "      <td>384</td>\n",
       "      <td>8.907446</td>\n",
       "    </tr>\n",
       "    <tr>\n",
       "      <td>стремящиеся к среденему классу</td>\n",
       "      <td>5868</td>\n",
       "      <td>547</td>\n",
       "      <td>8.526890</td>\n",
       "    </tr>\n",
       "  </tbody>\n",
       "</table>\n",
       "</div>"
      ],
      "text/plain": [
       "debt                               0    1   percent\n",
       "total_income_category                              \n",
       "высший класс                    4981  383  7.140194\n",
       "нинизший класс                  4937  427  7.960477\n",
       "средний класс                   3927  384  8.907446\n",
       "стремящиеся к среденему классу  5868  547  8.526890"
      ]
     },
     "execution_count": 37,
     "metadata": {},
     "output_type": "execute_result"
    }
   ],
   "source": [
    "pivot_table_total_income_category = df.pivot_table(index=['total_income_category',], columns='debt', values='days_employed', aggfunc='count')\n",
    "pivot_table_total_income_category['percent'] = pivot_table_total_income_category[1] / (pivot_table_total_income_category[1] + pivot_table_total_income_category[0])*100\n",
    "pivot_table_total_income_category"
   ]
  },
  {
   "cell_type": "markdown",
   "metadata": {},
   "source": [
    "**Вывод**"
   ]
  },
  {
   "cell_type": "markdown",
   "metadata": {},
   "source": [
    "Основываясь на изучение и сравнении данных, можно сделать вывод о том, что уровень дохода не влияет на появление задолженности по кредиту.\n",
    "\n",
    "Самыми благонадежными по данной таблицей являются так и высший класс, так и низший класс, что очень неоднозначно и не дает точную картину.\n",
    "\n",
    "Что и требовалось доказать.\n"
   ]
  },
  {
   "cell_type": "markdown",
   "metadata": {},
   "source": [
    "- Как разные цели кредита влияют на его возврат в срок?"
   ]
  },
  {
   "cell_type": "code",
   "execution_count": 38,
   "metadata": {},
   "outputs": [
    {
     "data": {
      "text/html": [
       "<div>\n",
       "<style scoped>\n",
       "    .dataframe tbody tr th:only-of-type {\n",
       "        vertical-align: middle;\n",
       "    }\n",
       "\n",
       "    .dataframe tbody tr th {\n",
       "        vertical-align: top;\n",
       "    }\n",
       "\n",
       "    .dataframe thead th {\n",
       "        text-align: right;\n",
       "    }\n",
       "</style>\n",
       "<table border=\"1\" class=\"dataframe\">\n",
       "  <thead>\n",
       "    <tr style=\"text-align: right;\">\n",
       "      <th>debt</th>\n",
       "      <th>0</th>\n",
       "      <th>1</th>\n",
       "      <th>percent</th>\n",
       "    </tr>\n",
       "    <tr>\n",
       "      <th>new_purpose</th>\n",
       "      <th></th>\n",
       "      <th></th>\n",
       "      <th></th>\n",
       "    </tr>\n",
       "  </thead>\n",
       "  <tbody>\n",
       "    <tr>\n",
       "      <td>организация свадьбы</td>\n",
       "      <td>2138</td>\n",
       "      <td>186</td>\n",
       "      <td>8.003442</td>\n",
       "    </tr>\n",
       "    <tr>\n",
       "      <td>получение образования</td>\n",
       "      <td>3643</td>\n",
       "      <td>370</td>\n",
       "      <td>9.220035</td>\n",
       "    </tr>\n",
       "    <tr>\n",
       "      <td>приобретение автомобиля</td>\n",
       "      <td>3903</td>\n",
       "      <td>403</td>\n",
       "      <td>9.359034</td>\n",
       "    </tr>\n",
       "    <tr>\n",
       "      <td>приобретение недвижимости</td>\n",
       "      <td>10029</td>\n",
       "      <td>782</td>\n",
       "      <td>7.233373</td>\n",
       "    </tr>\n",
       "  </tbody>\n",
       "</table>\n",
       "</div>"
      ],
      "text/plain": [
       "debt                           0    1   percent\n",
       "new_purpose                                    \n",
       "организация свадьбы         2138  186  8.003442\n",
       "получение образования       3643  370  9.220035\n",
       "приобретение автомобиля     3903  403  9.359034\n",
       "приобретение недвижимости  10029  782  7.233373"
      ]
     },
     "execution_count": 38,
     "metadata": {},
     "output_type": "execute_result"
    }
   ],
   "source": [
    "pivot_table_new_purpose = df.pivot_table(index=['new_purpose'], columns='debt', values='days_employed', aggfunc='count')\n",
    "pivot_table_new_purpose['percent'] = pivot_table_new_purpose[1] / (pivot_table_new_purpose[1] + pivot_table_new_purpose[0])*100\n",
    "pivot_table_new_purpose"
   ]
  },
  {
   "cell_type": "markdown",
   "metadata": {},
   "source": [
    "**Вывод**"
   ]
  },
  {
   "cell_type": "markdown",
   "metadata": {},
   "source": [
    "Целью, с наименьшей вероятностью появления долга, является приобретение недвижимости. \n",
    "\n",
    "На втором месте - организация свадьбы, на третьем - получение образования. \n",
    "\n",
    "И целью , с наибольшей вероятностью появления задолженности является приобретение автомобиля."
   ]
  },
  {
   "cell_type": "markdown",
   "metadata": {},
   "source": [
    "## Шаг 4. Общий вывод"
   ]
  },
  {
   "cell_type": "markdown",
   "metadata": {},
   "source": [
    "В результате моего исследования, все 3 гипотезы не подтвердились:\n",
    "1. Нет зависимости между количеством детей и возврат в срок кредита.\n",
    "\n",
    "2. Нет зависимости между  семейном положением и возврат в срок кредита.\n",
    "\n",
    "3. Нет зависимости между уровнем дохода и возврат в срок кредита.\n",
    "\n",
    "Так же мы рассмотрели, как цели кредита влияют на его возврат в срок.\n",
    "\n"
   ]
  },
  {
   "cell_type": "markdown",
   "metadata": {},
   "source": [
    "**Приложение к выводу**"
   ]
  },
  {
   "cell_type": "markdown",
   "metadata": {},
   "source": [
    "Модно выделить, по данным итогам,  портрет идеального клиента и клиента с самой высокой вероятностью просрочки.\n",
    "\n",
    "1. Самым идеальным клиентом является бездетный вдова/вдовец с высоким заработком. Объяснить это можно тем, что это связано с тем, что нет затрат на детей, и после смерти супруга/и возможно получения страховки и этим объясняется благонадежность.\n",
    "\n",
    "\n",
    "2. Клиентом с самой высокой вероятностью просрочки являются, клиент, имеющий детей, не женат/замужем, со среднем заработком. Предположительно, что одинокому родителю тяжелее воспитывать детей, поэтому и высок риск просрочек."
   ]
  },
  {
   "cell_type": "code",
   "execution_count": null,
   "metadata": {},
   "outputs": [],
   "source": []
  }
 ],
 "metadata": {
  "ExecuteTimeLog": [
   {
    "duration": 849,
    "start_time": "2022-01-12T19:02:56.861Z"
   },
   {
    "duration": 1047,
    "start_time": "2022-01-12T19:09:47.840Z"
   },
   {
    "duration": 102,
    "start_time": "2022-01-12T19:10:00.603Z"
   },
   {
    "duration": 89,
    "start_time": "2022-01-12T19:10:06.514Z"
   },
   {
    "duration": 77,
    "start_time": "2022-01-12T19:10:16.567Z"
   },
   {
    "duration": 81,
    "start_time": "2022-01-12T19:11:09.235Z"
   },
   {
    "duration": 82,
    "start_time": "2022-01-12T19:11:41.701Z"
   },
   {
    "duration": 76,
    "start_time": "2022-01-12T19:11:46.887Z"
   },
   {
    "duration": 838,
    "start_time": "2022-01-12T19:12:54.405Z"
   },
   {
    "duration": 77,
    "start_time": "2022-01-12T19:13:43.194Z"
   },
   {
    "duration": 110,
    "start_time": "2022-01-12T19:13:55.902Z"
   },
   {
    "duration": 1002,
    "start_time": "2022-01-12T19:14:30.322Z"
   },
   {
    "duration": 102,
    "start_time": "2022-01-12T19:16:45.266Z"
   },
   {
    "duration": 994,
    "start_time": "2022-01-12T19:17:09.360Z"
   },
   {
    "duration": 22,
    "start_time": "2022-01-12T19:17:10.358Z"
   },
   {
    "duration": 90,
    "start_time": "2022-01-12T19:18:10.743Z"
   },
   {
    "duration": 848,
    "start_time": "2022-01-12T19:18:22.532Z"
   },
   {
    "duration": 17,
    "start_time": "2022-01-12T19:18:23.383Z"
   },
   {
    "duration": 87,
    "start_time": "2022-01-12T19:22:38.004Z"
   },
   {
    "duration": 86,
    "start_time": "2022-01-12T19:22:54.318Z"
   },
   {
    "duration": 1050,
    "start_time": "2022-01-12T19:23:01.843Z"
   },
   {
    "duration": 23,
    "start_time": "2022-01-12T19:23:02.897Z"
   },
   {
    "duration": 627,
    "start_time": "2022-01-13T16:33:42.518Z"
   },
   {
    "duration": 51,
    "start_time": "2022-01-13T16:46:15.427Z"
   },
   {
    "duration": 51,
    "start_time": "2022-01-13T17:06:37.143Z"
   },
   {
    "duration": 10,
    "start_time": "2022-01-13T17:06:45.160Z"
   },
   {
    "duration": 545,
    "start_time": "2022-01-13T17:06:52.776Z"
   },
   {
    "duration": 10,
    "start_time": "2022-01-13T17:06:53.323Z"
   },
   {
    "duration": 51,
    "start_time": "2022-01-13T17:07:07.629Z"
   },
   {
    "duration": 11,
    "start_time": "2022-01-13T17:07:13.977Z"
   },
   {
    "duration": 596,
    "start_time": "2022-01-13T17:07:27.403Z"
   },
   {
    "duration": 10,
    "start_time": "2022-01-13T17:07:28.001Z"
   },
   {
    "duration": 495,
    "start_time": "2022-01-14T09:06:20.209Z"
   },
   {
    "duration": 1178,
    "start_time": "2022-01-14T09:06:44.170Z"
   },
   {
    "duration": 31,
    "start_time": "2022-01-14T09:06:45.352Z"
   },
   {
    "duration": 34,
    "start_time": "2022-01-14T09:06:45.386Z"
   },
   {
    "duration": 12,
    "start_time": "2022-01-14T09:07:15.679Z"
   },
   {
    "duration": 18,
    "start_time": "2022-01-14T09:12:18.384Z"
   },
   {
    "duration": 888,
    "start_time": "2022-01-14T09:19:13.745Z"
   },
   {
    "duration": 33,
    "start_time": "2022-01-14T09:19:14.636Z"
   },
   {
    "duration": 19,
    "start_time": "2022-01-14T09:19:14.672Z"
   },
   {
    "duration": 1409,
    "start_time": "2022-01-15T09:10:10.066Z"
   },
   {
    "duration": 1335,
    "start_time": "2022-01-15T09:10:27.132Z"
   },
   {
    "duration": 18,
    "start_time": "2022-01-15T09:10:28.471Z"
   },
   {
    "duration": 15,
    "start_time": "2022-01-15T09:10:28.493Z"
   },
   {
    "duration": 20213,
    "start_time": "2022-01-15T09:10:28.511Z"
   },
   {
    "duration": 2685,
    "start_time": "2022-01-15T09:11:05.385Z"
   },
   {
    "duration": 2644,
    "start_time": "2022-01-15T09:11:59.411Z"
   },
   {
    "duration": 3089,
    "start_time": "2022-01-15T09:12:19.143Z"
   },
   {
    "duration": 2532,
    "start_time": "2022-01-15T09:12:33.731Z"
   },
   {
    "duration": 2824,
    "start_time": "2022-01-15T09:13:00.742Z"
   },
   {
    "duration": 9,
    "start_time": "2022-01-15T09:13:23.680Z"
   },
   {
    "duration": 7,
    "start_time": "2022-01-15T09:13:51.528Z"
   },
   {
    "duration": 36,
    "start_time": "2022-01-15T09:14:52.610Z"
   },
   {
    "duration": 2568,
    "start_time": "2022-01-15T09:17:32.158Z"
   },
   {
    "duration": 416,
    "start_time": "2022-01-15T09:18:06.093Z"
   },
   {
    "duration": 35,
    "start_time": "2022-01-15T09:18:21.963Z"
   },
   {
    "duration": 866,
    "start_time": "2022-01-15T09:19:17.205Z"
   },
   {
    "duration": 16,
    "start_time": "2022-01-15T09:19:18.074Z"
   },
   {
    "duration": 12,
    "start_time": "2022-01-15T09:19:18.093Z"
   },
   {
    "duration": 71,
    "start_time": "2022-01-15T09:19:18.108Z"
   },
   {
    "duration": 36,
    "start_time": "2022-01-15T09:25:58.386Z"
   },
   {
    "duration": 499,
    "start_time": "2022-01-15T09:27:04.024Z"
   },
   {
    "duration": 387,
    "start_time": "2022-01-15T09:27:12.314Z"
   },
   {
    "duration": 5,
    "start_time": "2022-01-15T09:27:38.564Z"
   },
   {
    "duration": 4,
    "start_time": "2022-01-15T09:27:50.116Z"
   },
   {
    "duration": 5,
    "start_time": "2022-01-15T09:27:55.054Z"
   },
   {
    "duration": 6,
    "start_time": "2022-01-15T09:28:02.081Z"
   },
   {
    "duration": 219,
    "start_time": "2022-01-15T09:28:24.284Z"
   },
   {
    "duration": 5,
    "start_time": "2022-01-15T09:28:29.324Z"
   },
   {
    "duration": 843,
    "start_time": "2022-01-15T09:28:42.081Z"
   },
   {
    "duration": 15,
    "start_time": "2022-01-15T09:28:42.927Z"
   },
   {
    "duration": 20,
    "start_time": "2022-01-15T09:28:42.945Z"
   },
   {
    "duration": 33,
    "start_time": "2022-01-15T09:28:42.967Z"
   },
   {
    "duration": 6,
    "start_time": "2022-01-15T09:28:43.002Z"
   },
   {
    "duration": 7,
    "start_time": "2022-01-15T09:31:20.013Z"
   },
   {
    "duration": 7,
    "start_time": "2022-01-15T09:33:06.151Z"
   },
   {
    "duration": 5,
    "start_time": "2022-01-15T09:37:05.132Z"
   },
   {
    "duration": 16,
    "start_time": "2022-01-15T09:38:30.142Z"
   },
   {
    "duration": 466,
    "start_time": "2022-01-15T10:13:36.682Z"
   },
   {
    "duration": 415,
    "start_time": "2022-01-15T10:13:51.558Z"
   },
   {
    "duration": 9,
    "start_time": "2022-01-15T10:20:44.272Z"
   },
   {
    "duration": 8,
    "start_time": "2022-01-15T10:21:11.658Z"
   },
   {
    "duration": 7,
    "start_time": "2022-01-15T10:23:23.660Z"
   },
   {
    "duration": 7,
    "start_time": "2022-01-15T10:23:43.804Z"
   },
   {
    "duration": 5,
    "start_time": "2022-01-15T10:28:37.881Z"
   },
   {
    "duration": 8,
    "start_time": "2022-01-15T10:28:44.571Z"
   },
   {
    "duration": 7,
    "start_time": "2022-01-15T10:29:02.673Z"
   },
   {
    "duration": 33,
    "start_time": "2022-01-15T10:29:23.486Z"
   },
   {
    "duration": 17,
    "start_time": "2022-01-15T10:33:43.742Z"
   },
   {
    "duration": 21,
    "start_time": "2022-01-15T10:33:48.062Z"
   },
   {
    "duration": 33,
    "start_time": "2022-01-15T10:34:06.625Z"
   },
   {
    "duration": 31,
    "start_time": "2022-01-15T11:10:25.735Z"
   },
   {
    "duration": 114,
    "start_time": "2022-01-15T11:18:02.353Z"
   },
   {
    "duration": 9118,
    "start_time": "2022-01-15T11:18:08.477Z"
   },
   {
    "duration": 7,
    "start_time": "2022-01-15T11:18:41.918Z"
   },
   {
    "duration": 6,
    "start_time": "2022-01-15T11:18:58.815Z"
   },
   {
    "duration": 609,
    "start_time": "2022-01-16T09:38:56.172Z"
   },
   {
    "duration": 906,
    "start_time": "2022-01-16T09:39:05.451Z"
   },
   {
    "duration": 14,
    "start_time": "2022-01-16T09:39:06.360Z"
   },
   {
    "duration": 12,
    "start_time": "2022-01-16T09:39:06.377Z"
   },
   {
    "duration": 53,
    "start_time": "2022-01-16T09:39:06.392Z"
   },
   {
    "duration": 7,
    "start_time": "2022-01-16T09:39:06.447Z"
   },
   {
    "duration": 9,
    "start_time": "2022-01-16T09:39:06.457Z"
   },
   {
    "duration": 48,
    "start_time": "2022-01-16T09:39:06.468Z"
   },
   {
    "duration": 34,
    "start_time": "2022-01-16T09:39:06.519Z"
   },
   {
    "duration": 32,
    "start_time": "2022-01-16T09:39:06.555Z"
   },
   {
    "duration": 13,
    "start_time": "2022-01-16T09:40:35.372Z"
   },
   {
    "duration": 7,
    "start_time": "2022-01-16T09:40:56.983Z"
   },
   {
    "duration": 6,
    "start_time": "2022-01-16T09:41:02.916Z"
   },
   {
    "duration": 812,
    "start_time": "2022-01-16T09:41:11.457Z"
   },
   {
    "duration": 15,
    "start_time": "2022-01-16T09:41:12.271Z"
   },
   {
    "duration": 29,
    "start_time": "2022-01-16T09:41:12.289Z"
   },
   {
    "duration": 34,
    "start_time": "2022-01-16T09:41:12.321Z"
   },
   {
    "duration": 6,
    "start_time": "2022-01-16T09:41:12.358Z"
   },
   {
    "duration": 6,
    "start_time": "2022-01-16T09:41:12.367Z"
   },
   {
    "duration": 52,
    "start_time": "2022-01-16T09:41:12.376Z"
   },
   {
    "duration": 34,
    "start_time": "2022-01-16T09:41:12.431Z"
   },
   {
    "duration": 13,
    "start_time": "2022-01-16T09:41:12.468Z"
   },
   {
    "duration": 39,
    "start_time": "2022-01-16T09:41:12.484Z"
   },
   {
    "duration": 6,
    "start_time": "2022-01-16T09:41:49.833Z"
   },
   {
    "duration": 31,
    "start_time": "2022-01-16T09:41:56.141Z"
   },
   {
    "duration": 825,
    "start_time": "2022-01-16T09:49:32.331Z"
   },
   {
    "duration": 15,
    "start_time": "2022-01-16T09:49:33.159Z"
   },
   {
    "duration": 11,
    "start_time": "2022-01-16T09:49:33.177Z"
   },
   {
    "duration": 56,
    "start_time": "2022-01-16T09:49:33.191Z"
   },
   {
    "duration": 5,
    "start_time": "2022-01-16T09:49:33.249Z"
   },
   {
    "duration": 7,
    "start_time": "2022-01-16T09:49:33.256Z"
   },
   {
    "duration": 50,
    "start_time": "2022-01-16T09:49:33.266Z"
   },
   {
    "duration": 36,
    "start_time": "2022-01-16T09:49:33.320Z"
   },
   {
    "duration": 6,
    "start_time": "2022-01-16T09:49:33.358Z"
   },
   {
    "duration": 16,
    "start_time": "2022-01-16T09:49:33.366Z"
   },
   {
    "duration": 32,
    "start_time": "2022-01-16T09:49:33.418Z"
   },
   {
    "duration": 24,
    "start_time": "2022-01-16T09:52:42.546Z"
   },
   {
    "duration": 24,
    "start_time": "2022-01-16T09:52:59.956Z"
   },
   {
    "duration": 82,
    "start_time": "2022-01-16T09:53:13.580Z"
   },
   {
    "duration": 22,
    "start_time": "2022-01-16T09:53:19.717Z"
   },
   {
    "duration": 27,
    "start_time": "2022-01-16T09:53:59.310Z"
   },
   {
    "duration": 23,
    "start_time": "2022-01-16T09:54:18.211Z"
   },
   {
    "duration": 46,
    "start_time": "2022-01-16T09:56:30.896Z"
   },
   {
    "duration": 7,
    "start_time": "2022-01-16T10:05:21.633Z"
   },
   {
    "duration": 6,
    "start_time": "2022-01-16T10:05:33.554Z"
   },
   {
    "duration": 6,
    "start_time": "2022-01-16T10:07:35.839Z"
   },
   {
    "duration": 7,
    "start_time": "2022-01-16T10:08:57.522Z"
   },
   {
    "duration": 7,
    "start_time": "2022-01-16T10:10:05.988Z"
   },
   {
    "duration": 6337,
    "start_time": "2022-01-16T10:10:46.389Z"
   },
   {
    "duration": 7,
    "start_time": "2022-01-16T10:11:14.879Z"
   },
   {
    "duration": 6292,
    "start_time": "2022-01-16T10:13:56.859Z"
   },
   {
    "duration": 6438,
    "start_time": "2022-01-16T10:14:05.150Z"
   },
   {
    "duration": 874,
    "start_time": "2022-01-16T10:14:18.482Z"
   },
   {
    "duration": 18,
    "start_time": "2022-01-16T10:14:19.360Z"
   },
   {
    "duration": 39,
    "start_time": "2022-01-16T10:14:19.382Z"
   },
   {
    "duration": 35,
    "start_time": "2022-01-16T10:14:19.425Z"
   },
   {
    "duration": 6,
    "start_time": "2022-01-16T10:14:19.464Z"
   },
   {
    "duration": 45,
    "start_time": "2022-01-16T10:14:19.473Z"
   },
   {
    "duration": 17,
    "start_time": "2022-01-16T10:14:19.520Z"
   },
   {
    "duration": 43,
    "start_time": "2022-01-16T10:14:19.540Z"
   },
   {
    "duration": 31,
    "start_time": "2022-01-16T10:14:19.586Z"
   },
   {
    "duration": 15,
    "start_time": "2022-01-16T10:14:19.619Z"
   },
   {
    "duration": 32,
    "start_time": "2022-01-16T10:14:19.636Z"
   },
   {
    "duration": 6664,
    "start_time": "2022-01-16T10:14:19.670Z"
   },
   {
    "duration": -530,
    "start_time": "2022-01-16T10:14:26.867Z"
   },
   {
    "duration": -543,
    "start_time": "2022-01-16T10:14:26.882Z"
   },
   {
    "duration": -547,
    "start_time": "2022-01-16T10:14:26.888Z"
   },
   {
    "duration": 7,
    "start_time": "2022-01-16T10:14:43.086Z"
   },
   {
    "duration": 6,
    "start_time": "2022-01-16T10:21:23.972Z"
   },
   {
    "duration": 7,
    "start_time": "2022-01-16T10:22:36.371Z"
   },
   {
    "duration": 7,
    "start_time": "2022-01-16T10:22:48.948Z"
   },
   {
    "duration": 307,
    "start_time": "2022-01-16T11:23:01.381Z"
   },
   {
    "duration": 8,
    "start_time": "2022-01-16T11:24:12.482Z"
   },
   {
    "duration": 8,
    "start_time": "2022-01-16T11:24:22.142Z"
   },
   {
    "duration": 4,
    "start_time": "2022-01-16T11:31:51.446Z"
   },
   {
    "duration": 6,
    "start_time": "2022-01-16T11:32:58.146Z"
   },
   {
    "duration": 1056,
    "start_time": "2022-01-16T11:33:05.533Z"
   },
   {
    "duration": 25,
    "start_time": "2022-01-16T11:33:06.592Z"
   },
   {
    "duration": 13,
    "start_time": "2022-01-16T11:33:06.620Z"
   },
   {
    "duration": 6,
    "start_time": "2022-01-16T11:33:06.635Z"
   },
   {
    "duration": 10,
    "start_time": "2022-01-16T11:33:06.643Z"
   },
   {
    "duration": 4,
    "start_time": "2022-01-16T11:33:06.655Z"
   },
   {
    "duration": 6,
    "start_time": "2022-01-16T11:33:06.661Z"
   },
   {
    "duration": 78,
    "start_time": "2022-01-16T11:33:06.671Z"
   },
   {
    "duration": 6,
    "start_time": "2022-01-16T11:33:06.751Z"
   },
   {
    "duration": 8,
    "start_time": "2022-01-16T11:33:06.759Z"
   },
   {
    "duration": 47,
    "start_time": "2022-01-16T11:33:06.770Z"
   },
   {
    "duration": 34,
    "start_time": "2022-01-16T11:33:06.819Z"
   },
   {
    "duration": 7,
    "start_time": "2022-01-16T11:33:06.855Z"
   },
   {
    "duration": 15,
    "start_time": "2022-01-16T11:33:06.864Z"
   },
   {
    "duration": 32,
    "start_time": "2022-01-16T11:33:06.918Z"
   },
   {
    "duration": 25,
    "start_time": "2022-01-16T11:33:06.952Z"
   },
   {
    "duration": 57,
    "start_time": "2022-01-16T11:33:06.979Z"
   },
   {
    "duration": 43,
    "start_time": "2022-01-16T11:33:07.039Z"
   },
   {
    "duration": 16,
    "start_time": "2022-01-16T11:43:31.226Z"
   },
   {
    "duration": 9,
    "start_time": "2022-01-16T11:44:00.543Z"
   },
   {
    "duration": 7,
    "start_time": "2022-01-16T11:44:53.419Z"
   },
   {
    "duration": 7,
    "start_time": "2022-01-16T11:45:46.896Z"
   },
   {
    "duration": 836,
    "start_time": "2022-01-16T11:47:18.220Z"
   },
   {
    "duration": 18,
    "start_time": "2022-01-16T11:47:19.059Z"
   },
   {
    "duration": 14,
    "start_time": "2022-01-16T11:47:19.081Z"
   },
   {
    "duration": 6,
    "start_time": "2022-01-16T11:47:19.118Z"
   },
   {
    "duration": 9,
    "start_time": "2022-01-16T11:47:19.126Z"
   },
   {
    "duration": 5,
    "start_time": "2022-01-16T11:47:19.137Z"
   },
   {
    "duration": 7,
    "start_time": "2022-01-16T11:47:19.144Z"
   },
   {
    "duration": 76,
    "start_time": "2022-01-16T11:47:19.155Z"
   },
   {
    "duration": 6,
    "start_time": "2022-01-16T11:47:19.233Z"
   },
   {
    "duration": 7,
    "start_time": "2022-01-16T11:47:19.241Z"
   },
   {
    "duration": 16,
    "start_time": "2022-01-16T11:47:19.250Z"
   },
   {
    "duration": 74,
    "start_time": "2022-01-16T11:47:19.269Z"
   },
   {
    "duration": 7,
    "start_time": "2022-01-16T11:47:19.346Z"
   },
   {
    "duration": 15,
    "start_time": "2022-01-16T11:47:19.355Z"
   },
   {
    "duration": 63,
    "start_time": "2022-01-16T11:47:19.372Z"
   },
   {
    "duration": 16,
    "start_time": "2022-01-16T11:47:19.437Z"
   },
   {
    "duration": 11,
    "start_time": "2022-01-16T11:47:19.456Z"
   },
   {
    "duration": 54,
    "start_time": "2022-01-16T11:47:19.469Z"
   },
   {
    "duration": 27,
    "start_time": "2022-01-16T11:47:19.525Z"
   },
   {
    "duration": 67,
    "start_time": "2022-01-16T11:47:19.554Z"
   },
   {
    "duration": 7,
    "start_time": "2022-01-16T11:47:19.623Z"
   },
   {
    "duration": 374,
    "start_time": "2022-01-16T11:49:57.182Z"
   },
   {
    "duration": 6,
    "start_time": "2022-01-16T11:50:26.745Z"
   },
   {
    "duration": 12,
    "start_time": "2022-01-16T11:50:37.738Z"
   },
   {
    "duration": 23,
    "start_time": "2022-01-16T11:52:59.301Z"
   },
   {
    "duration": 830,
    "start_time": "2022-01-16T11:53:12.507Z"
   },
   {
    "duration": 18,
    "start_time": "2022-01-16T11:53:13.340Z"
   },
   {
    "duration": 13,
    "start_time": "2022-01-16T11:53:13.362Z"
   },
   {
    "duration": 7,
    "start_time": "2022-01-16T11:53:13.378Z"
   },
   {
    "duration": 33,
    "start_time": "2022-01-16T11:53:13.387Z"
   },
   {
    "duration": 5,
    "start_time": "2022-01-16T11:53:13.422Z"
   },
   {
    "duration": 7,
    "start_time": "2022-01-16T11:53:13.429Z"
   },
   {
    "duration": 32,
    "start_time": "2022-01-16T11:53:13.440Z"
   },
   {
    "duration": 46,
    "start_time": "2022-01-16T11:53:13.475Z"
   },
   {
    "duration": 8,
    "start_time": "2022-01-16T11:53:13.523Z"
   },
   {
    "duration": 14,
    "start_time": "2022-01-16T11:53:13.533Z"
   },
   {
    "duration": 31,
    "start_time": "2022-01-16T11:53:13.549Z"
   },
   {
    "duration": 6,
    "start_time": "2022-01-16T11:53:13.617Z"
   },
   {
    "duration": 15,
    "start_time": "2022-01-16T11:53:13.625Z"
   },
   {
    "duration": 31,
    "start_time": "2022-01-16T11:53:13.642Z"
   },
   {
    "duration": 54,
    "start_time": "2022-01-16T11:53:13.676Z"
   },
   {
    "duration": 14,
    "start_time": "2022-01-16T11:53:13.733Z"
   },
   {
    "duration": 25,
    "start_time": "2022-01-16T11:53:13.749Z"
   },
   {
    "duration": 66,
    "start_time": "2022-01-16T11:53:13.777Z"
   },
   {
    "duration": 26,
    "start_time": "2022-01-16T11:53:13.845Z"
   },
   {
    "duration": 299,
    "start_time": "2022-01-29T10:46:18.562Z"
   },
   {
    "duration": 677,
    "start_time": "2022-01-29T10:46:27.227Z"
   },
   {
    "duration": 12,
    "start_time": "2022-01-29T10:46:27.906Z"
   },
   {
    "duration": 9,
    "start_time": "2022-01-29T10:46:27.920Z"
   },
   {
    "duration": 5,
    "start_time": "2022-01-29T10:46:27.932Z"
   },
   {
    "duration": 9,
    "start_time": "2022-01-29T10:46:27.939Z"
   },
   {
    "duration": 8,
    "start_time": "2022-01-29T10:46:27.950Z"
   },
   {
    "duration": 6,
    "start_time": "2022-01-29T10:46:27.959Z"
   },
   {
    "duration": 55,
    "start_time": "2022-01-29T10:46:27.968Z"
   },
   {
    "duration": 4,
    "start_time": "2022-01-29T10:46:28.024Z"
   },
   {
    "duration": 12,
    "start_time": "2022-01-29T10:46:28.030Z"
   },
   {
    "duration": 18,
    "start_time": "2022-01-29T10:46:28.044Z"
   },
   {
    "duration": 45,
    "start_time": "2022-01-29T10:46:28.064Z"
   },
   {
    "duration": 18,
    "start_time": "2022-01-29T10:46:28.110Z"
   },
   {
    "duration": 18,
    "start_time": "2022-01-29T10:46:28.130Z"
   },
   {
    "duration": 25,
    "start_time": "2022-01-29T10:46:28.150Z"
   },
   {
    "duration": 11,
    "start_time": "2022-01-29T10:46:28.177Z"
   },
   {
    "duration": 6,
    "start_time": "2022-01-29T10:46:28.198Z"
   },
   {
    "duration": 19,
    "start_time": "2022-01-29T10:46:28.206Z"
   },
   {
    "duration": 19,
    "start_time": "2022-01-29T10:46:28.226Z"
   },
   {
    "duration": 17,
    "start_time": "2022-01-29T10:46:28.247Z"
   },
   {
    "duration": 380,
    "start_time": "2022-01-29T10:46:28.266Z"
   },
   {
    "duration": 8,
    "start_time": "2022-01-29T10:46:43.096Z"
   },
   {
    "duration": 4,
    "start_time": "2022-01-29T11:14:01.831Z"
   },
   {
    "duration": 6,
    "start_time": "2022-01-29T11:14:13.683Z"
   },
   {
    "duration": 349,
    "start_time": "2022-01-29T11:21:54.674Z"
   },
   {
    "duration": 241,
    "start_time": "2022-01-29T11:22:13.377Z"
   },
   {
    "duration": 9,
    "start_time": "2022-01-29T11:22:20.009Z"
   },
   {
    "duration": 10,
    "start_time": "2022-01-29T11:22:30.834Z"
   },
   {
    "duration": 30,
    "start_time": "2022-01-29T11:29:05.112Z"
   },
   {
    "duration": 7,
    "start_time": "2022-01-29T11:29:33.197Z"
   },
   {
    "duration": 716,
    "start_time": "2022-01-29T11:34:49.837Z"
   },
   {
    "duration": 716,
    "start_time": "2022-01-29T11:34:56.743Z"
   },
   {
    "duration": 712,
    "start_time": "2022-01-29T11:35:42.866Z"
   },
   {
    "duration": 697,
    "start_time": "2022-01-29T11:49:16.497Z"
   },
   {
    "duration": 11,
    "start_time": "2022-01-29T11:49:17.196Z"
   },
   {
    "duration": 19,
    "start_time": "2022-01-29T11:49:17.210Z"
   },
   {
    "duration": 9,
    "start_time": "2022-01-29T11:49:17.231Z"
   },
   {
    "duration": 8,
    "start_time": "2022-01-29T11:49:17.241Z"
   },
   {
    "duration": 5,
    "start_time": "2022-01-29T11:49:17.251Z"
   },
   {
    "duration": 7,
    "start_time": "2022-01-29T11:49:17.258Z"
   },
   {
    "duration": 55,
    "start_time": "2022-01-29T11:49:17.267Z"
   },
   {
    "duration": 29,
    "start_time": "2022-01-29T11:49:17.324Z"
   },
   {
    "duration": 49,
    "start_time": "2022-01-29T11:49:17.355Z"
   },
   {
    "duration": 13,
    "start_time": "2022-01-29T11:49:17.406Z"
   },
   {
    "duration": 23,
    "start_time": "2022-01-29T11:49:17.421Z"
   },
   {
    "duration": 7,
    "start_time": "2022-01-29T11:49:17.446Z"
   },
   {
    "duration": 46,
    "start_time": "2022-01-29T11:49:17.455Z"
   },
   {
    "duration": 21,
    "start_time": "2022-01-29T11:49:17.503Z"
   },
   {
    "duration": 14,
    "start_time": "2022-01-29T11:49:17.526Z"
   },
   {
    "duration": 11,
    "start_time": "2022-01-29T11:49:17.542Z"
   },
   {
    "duration": 45,
    "start_time": "2022-01-29T11:49:17.555Z"
   },
   {
    "duration": 21,
    "start_time": "2022-01-29T11:49:17.603Z"
   },
   {
    "duration": 18,
    "start_time": "2022-01-29T11:49:17.626Z"
   },
   {
    "duration": 9,
    "start_time": "2022-01-29T11:49:17.646Z"
   },
   {
    "duration": 7,
    "start_time": "2022-01-29T11:49:17.657Z"
   },
   {
    "duration": 722,
    "start_time": "2022-01-29T11:49:17.701Z"
   },
   {
    "duration": 3,
    "start_time": "2022-01-29T11:53:34.097Z"
   },
   {
    "duration": 95,
    "start_time": "2022-01-29T12:09:08.042Z"
   },
   {
    "duration": 89,
    "start_time": "2022-01-29T12:09:33.991Z"
   },
   {
    "duration": 5,
    "start_time": "2022-01-29T12:11:10.749Z"
   },
   {
    "duration": 4,
    "start_time": "2022-01-29T12:11:29.201Z"
   },
   {
    "duration": 4,
    "start_time": "2022-01-29T12:11:35.573Z"
   },
   {
    "duration": 635,
    "start_time": "2022-01-29T12:11:43.246Z"
   },
   {
    "duration": 11,
    "start_time": "2022-01-29T12:11:43.882Z"
   },
   {
    "duration": 10,
    "start_time": "2022-01-29T12:11:43.896Z"
   },
   {
    "duration": 4,
    "start_time": "2022-01-29T12:11:43.908Z"
   },
   {
    "duration": 7,
    "start_time": "2022-01-29T12:11:43.913Z"
   },
   {
    "duration": 5,
    "start_time": "2022-01-29T12:11:43.921Z"
   },
   {
    "duration": 4,
    "start_time": "2022-01-29T12:11:43.928Z"
   },
   {
    "duration": 23,
    "start_time": "2022-01-29T12:11:43.935Z"
   },
   {
    "duration": 4,
    "start_time": "2022-01-29T12:11:43.999Z"
   },
   {
    "duration": 9,
    "start_time": "2022-01-29T12:11:44.005Z"
   },
   {
    "duration": 11,
    "start_time": "2022-01-29T12:11:44.015Z"
   },
   {
    "duration": 21,
    "start_time": "2022-01-29T12:11:44.028Z"
   },
   {
    "duration": 4,
    "start_time": "2022-01-29T12:11:44.051Z"
   },
   {
    "duration": 11,
    "start_time": "2022-01-29T12:11:44.099Z"
   },
   {
    "duration": 21,
    "start_time": "2022-01-29T12:11:44.112Z"
   },
   {
    "duration": 11,
    "start_time": "2022-01-29T12:11:44.135Z"
   },
   {
    "duration": 11,
    "start_time": "2022-01-29T12:11:44.148Z"
   },
   {
    "duration": 47,
    "start_time": "2022-01-29T12:11:44.161Z"
   },
   {
    "duration": 21,
    "start_time": "2022-01-29T12:11:44.209Z"
   },
   {
    "duration": 16,
    "start_time": "2022-01-29T12:11:44.232Z"
   },
   {
    "duration": 10,
    "start_time": "2022-01-29T12:11:44.250Z"
   },
   {
    "duration": 45,
    "start_time": "2022-01-29T12:11:44.261Z"
   },
   {
    "duration": 707,
    "start_time": "2022-01-29T12:11:44.308Z"
   },
   {
    "duration": 3,
    "start_time": "2022-01-29T12:11:45.018Z"
   },
   {
    "duration": 7,
    "start_time": "2022-01-29T12:11:45.023Z"
   },
   {
    "duration": 5,
    "start_time": "2022-01-29T12:13:33.334Z"
   },
   {
    "duration": 7,
    "start_time": "2022-01-29T12:13:46.009Z"
   },
   {
    "duration": 1352,
    "start_time": "2022-01-29T12:14:45.606Z"
   },
   {
    "duration": 697,
    "start_time": "2022-01-29T12:15:10.172Z"
   },
   {
    "duration": 11,
    "start_time": "2022-01-29T12:15:10.871Z"
   },
   {
    "duration": 15,
    "start_time": "2022-01-29T12:15:10.884Z"
   },
   {
    "duration": 5,
    "start_time": "2022-01-29T12:15:10.901Z"
   },
   {
    "duration": 10,
    "start_time": "2022-01-29T12:15:10.908Z"
   },
   {
    "duration": 4,
    "start_time": "2022-01-29T12:15:10.920Z"
   },
   {
    "duration": 5,
    "start_time": "2022-01-29T12:15:10.926Z"
   },
   {
    "duration": 27,
    "start_time": "2022-01-29T12:15:10.934Z"
   },
   {
    "duration": 4,
    "start_time": "2022-01-29T12:15:10.963Z"
   },
   {
    "duration": 8,
    "start_time": "2022-01-29T12:15:10.999Z"
   },
   {
    "duration": 12,
    "start_time": "2022-01-29T12:15:11.009Z"
   },
   {
    "duration": 25,
    "start_time": "2022-01-29T12:15:11.023Z"
   },
   {
    "duration": 4,
    "start_time": "2022-01-29T12:15:11.050Z"
   },
   {
    "duration": 47,
    "start_time": "2022-01-29T12:15:11.056Z"
   },
   {
    "duration": 22,
    "start_time": "2022-01-29T12:15:11.105Z"
   },
   {
    "duration": 12,
    "start_time": "2022-01-29T12:15:11.129Z"
   },
   {
    "duration": 14,
    "start_time": "2022-01-29T12:15:11.142Z"
   },
   {
    "duration": 45,
    "start_time": "2022-01-29T12:15:11.158Z"
   },
   {
    "duration": 19,
    "start_time": "2022-01-29T12:15:11.205Z"
   },
   {
    "duration": 16,
    "start_time": "2022-01-29T12:15:11.226Z"
   },
   {
    "duration": 7,
    "start_time": "2022-01-29T12:15:11.244Z"
   },
   {
    "duration": 10,
    "start_time": "2022-01-29T12:15:11.253Z"
   },
   {
    "duration": 737,
    "start_time": "2022-01-29T12:15:11.266Z"
   },
   {
    "duration": 3,
    "start_time": "2022-01-29T12:15:12.006Z"
   },
   {
    "duration": 9,
    "start_time": "2022-01-29T12:15:12.011Z"
   },
   {
    "duration": 1497,
    "start_time": "2022-01-29T12:15:12.022Z"
   },
   {
    "duration": 4,
    "start_time": "2022-01-29T12:15:29.465Z"
   },
   {
    "duration": 3498,
    "start_time": "2022-01-29T12:15:32.728Z"
   },
   {
    "duration": 2930,
    "start_time": "2022-01-29T12:15:39.837Z"
   },
   {
    "duration": 3068,
    "start_time": "2022-01-29T12:16:11.037Z"
   },
   {
    "duration": 8,
    "start_time": "2022-01-29T12:16:28.318Z"
   },
   {
    "duration": 6,
    "start_time": "2022-01-29T12:16:34.983Z"
   },
   {
    "duration": 3827,
    "start_time": "2022-01-29T12:17:42.854Z"
   },
   {
    "duration": 3,
    "start_time": "2022-01-29T12:18:48.937Z"
   },
   {
    "duration": 4,
    "start_time": "2022-01-29T12:18:52.187Z"
   },
   {
    "duration": 3248,
    "start_time": "2022-01-29T12:18:54.808Z"
   },
   {
    "duration": 5,
    "start_time": "2022-01-29T12:19:22.586Z"
   },
   {
    "duration": 3,
    "start_time": "2022-01-29T12:19:43.758Z"
   },
   {
    "duration": 3332,
    "start_time": "2022-01-29T12:21:41.611Z"
   },
   {
    "duration": 3555,
    "start_time": "2022-01-29T12:22:17.313Z"
   },
   {
    "duration": 4,
    "start_time": "2022-01-29T12:22:58.063Z"
   },
   {
    "duration": 4429,
    "start_time": "2022-01-29T12:23:03.082Z"
   },
   {
    "duration": 5,
    "start_time": "2022-01-29T12:25:36.475Z"
   },
   {
    "duration": 7,
    "start_time": "2022-01-29T12:25:49.854Z"
   },
   {
    "duration": 3269,
    "start_time": "2022-01-29T12:26:18.007Z"
   },
   {
    "duration": 2898,
    "start_time": "2022-01-29T12:27:43.589Z"
   },
   {
    "duration": 6950,
    "start_time": "2022-01-29T12:28:26.288Z"
   },
   {
    "duration": 3559,
    "start_time": "2022-01-29T12:28:46.862Z"
   },
   {
    "duration": 6047,
    "start_time": "2022-01-29T12:28:58.716Z"
   },
   {
    "duration": 3199,
    "start_time": "2022-01-29T12:29:28.790Z"
   },
   {
    "duration": 3152,
    "start_time": "2022-01-29T12:29:35.873Z"
   },
   {
    "duration": 3193,
    "start_time": "2022-01-29T12:29:47.679Z"
   },
   {
    "duration": 78,
    "start_time": "2022-01-29T12:29:54.373Z"
   },
   {
    "duration": 10,
    "start_time": "2022-01-29T12:32:17.360Z"
   },
   {
    "duration": 3074,
    "start_time": "2022-01-29T12:36:59.194Z"
   },
   {
    "duration": 7,
    "start_time": "2022-01-29T12:37:12.525Z"
   },
   {
    "duration": 3093,
    "start_time": "2022-01-29T12:39:00.833Z"
   },
   {
    "duration": 755,
    "start_time": "2022-01-29T12:39:20.884Z"
   },
   {
    "duration": 12,
    "start_time": "2022-01-29T12:39:21.641Z"
   },
   {
    "duration": 16,
    "start_time": "2022-01-29T12:39:21.656Z"
   },
   {
    "duration": 5,
    "start_time": "2022-01-29T12:39:21.674Z"
   },
   {
    "duration": 23,
    "start_time": "2022-01-29T12:39:21.682Z"
   },
   {
    "duration": 4,
    "start_time": "2022-01-29T12:39:21.707Z"
   },
   {
    "duration": 6,
    "start_time": "2022-01-29T12:39:21.713Z"
   },
   {
    "duration": 35,
    "start_time": "2022-01-29T12:39:21.723Z"
   },
   {
    "duration": 5,
    "start_time": "2022-01-29T12:39:21.761Z"
   },
   {
    "duration": 35,
    "start_time": "2022-01-29T12:39:21.769Z"
   },
   {
    "duration": 23,
    "start_time": "2022-01-29T12:39:21.806Z"
   },
   {
    "duration": 34,
    "start_time": "2022-01-29T12:39:21.831Z"
   },
   {
    "duration": 33,
    "start_time": "2022-01-29T12:39:21.867Z"
   },
   {
    "duration": 17,
    "start_time": "2022-01-29T12:39:21.902Z"
   },
   {
    "duration": 32,
    "start_time": "2022-01-29T12:39:21.922Z"
   },
   {
    "duration": 42,
    "start_time": "2022-01-29T12:39:21.956Z"
   },
   {
    "duration": 10,
    "start_time": "2022-01-29T12:39:22.001Z"
   },
   {
    "duration": 26,
    "start_time": "2022-01-29T12:39:22.013Z"
   },
   {
    "duration": 22,
    "start_time": "2022-01-29T12:39:22.041Z"
   },
   {
    "duration": 44,
    "start_time": "2022-01-29T12:39:22.065Z"
   },
   {
    "duration": 8,
    "start_time": "2022-01-29T12:39:22.111Z"
   },
   {
    "duration": 16,
    "start_time": "2022-01-29T12:39:22.121Z"
   },
   {
    "duration": 750,
    "start_time": "2022-01-29T12:39:22.140Z"
   },
   {
    "duration": 7,
    "start_time": "2022-01-29T12:39:22.892Z"
   },
   {
    "duration": 8344,
    "start_time": "2022-01-29T12:39:22.901Z"
   },
   {
    "duration": -274,
    "start_time": "2022-01-29T12:39:31.521Z"
   },
   {
    "duration": 18118,
    "start_time": "2022-01-29T12:40:23.569Z"
   },
   {
    "duration": 129,
    "start_time": "2022-01-29T12:40:51.924Z"
   },
   {
    "duration": 6655,
    "start_time": "2022-01-29T12:41:05.102Z"
   },
   {
    "duration": 678,
    "start_time": "2022-01-29T12:41:27.141Z"
   },
   {
    "duration": 13,
    "start_time": "2022-01-29T12:41:27.822Z"
   },
   {
    "duration": 11,
    "start_time": "2022-01-29T12:41:27.838Z"
   },
   {
    "duration": 6,
    "start_time": "2022-01-29T12:41:27.851Z"
   },
   {
    "duration": 8,
    "start_time": "2022-01-29T12:41:27.858Z"
   },
   {
    "duration": 34,
    "start_time": "2022-01-29T12:41:27.868Z"
   },
   {
    "duration": 8,
    "start_time": "2022-01-29T12:41:27.904Z"
   },
   {
    "duration": 25,
    "start_time": "2022-01-29T12:41:27.915Z"
   },
   {
    "duration": 5,
    "start_time": "2022-01-29T12:41:27.943Z"
   },
   {
    "duration": 6,
    "start_time": "2022-01-29T12:41:27.950Z"
   },
   {
    "duration": 47,
    "start_time": "2022-01-29T12:41:27.959Z"
   },
   {
    "duration": 22,
    "start_time": "2022-01-29T12:41:28.008Z"
   },
   {
    "duration": 4,
    "start_time": "2022-01-29T12:41:28.032Z"
   },
   {
    "duration": 16,
    "start_time": "2022-01-29T12:41:28.038Z"
   },
   {
    "duration": 58,
    "start_time": "2022-01-29T12:41:28.056Z"
   },
   {
    "duration": 12,
    "start_time": "2022-01-29T12:41:28.116Z"
   },
   {
    "duration": 19,
    "start_time": "2022-01-29T12:41:28.130Z"
   },
   {
    "duration": 23,
    "start_time": "2022-01-29T12:41:28.151Z"
   },
   {
    "duration": 29,
    "start_time": "2022-01-29T12:41:28.176Z"
   },
   {
    "duration": 18,
    "start_time": "2022-01-29T12:41:28.207Z"
   },
   {
    "duration": 8,
    "start_time": "2022-01-29T12:41:28.227Z"
   },
   {
    "duration": 8,
    "start_time": "2022-01-29T12:41:28.236Z"
   },
   {
    "duration": 746,
    "start_time": "2022-01-29T12:41:28.247Z"
   },
   {
    "duration": 4,
    "start_time": "2022-01-29T12:41:28.995Z"
   },
   {
    "duration": 7927,
    "start_time": "2022-01-29T12:41:29.001Z"
   },
   {
    "duration": -307,
    "start_time": "2022-01-29T12:41:37.238Z"
   },
   {
    "duration": 6415,
    "start_time": "2022-01-29T12:41:49.270Z"
   },
   {
    "duration": 7,
    "start_time": "2022-01-29T12:42:30.524Z"
   },
   {
    "duration": 3103,
    "start_time": "2022-01-29T12:42:53.936Z"
   },
   {
    "duration": 4,
    "start_time": "2022-01-29T12:43:26.892Z"
   },
   {
    "duration": 3092,
    "start_time": "2022-01-29T12:43:38.154Z"
   },
   {
    "duration": 2918,
    "start_time": "2022-01-29T12:44:14.636Z"
   },
   {
    "duration": 4,
    "start_time": "2022-01-29T12:44:29.253Z"
   },
   {
    "duration": 3290,
    "start_time": "2022-01-29T12:44:30.866Z"
   },
   {
    "duration": 2993,
    "start_time": "2022-01-29T12:45:15.836Z"
   },
   {
    "duration": 700,
    "start_time": "2022-01-29T12:45:41.191Z"
   },
   {
    "duration": 12,
    "start_time": "2022-01-29T12:45:41.893Z"
   },
   {
    "duration": 10,
    "start_time": "2022-01-29T12:45:41.907Z"
   },
   {
    "duration": 5,
    "start_time": "2022-01-29T12:45:41.919Z"
   },
   {
    "duration": 9,
    "start_time": "2022-01-29T12:45:41.925Z"
   },
   {
    "duration": 4,
    "start_time": "2022-01-29T12:45:41.935Z"
   },
   {
    "duration": 9,
    "start_time": "2022-01-29T12:45:41.941Z"
   },
   {
    "duration": 48,
    "start_time": "2022-01-29T12:45:41.952Z"
   },
   {
    "duration": 5,
    "start_time": "2022-01-29T12:45:42.002Z"
   },
   {
    "duration": 9,
    "start_time": "2022-01-29T12:45:42.009Z"
   },
   {
    "duration": 17,
    "start_time": "2022-01-29T12:45:42.020Z"
   },
   {
    "duration": 23,
    "start_time": "2022-01-29T12:45:42.038Z"
   },
   {
    "duration": 38,
    "start_time": "2022-01-29T12:45:42.063Z"
   },
   {
    "duration": 13,
    "start_time": "2022-01-29T12:45:42.103Z"
   },
   {
    "duration": 22,
    "start_time": "2022-01-29T12:45:42.118Z"
   },
   {
    "duration": 13,
    "start_time": "2022-01-29T12:45:42.142Z"
   },
   {
    "duration": 43,
    "start_time": "2022-01-29T12:45:42.156Z"
   },
   {
    "duration": 19,
    "start_time": "2022-01-29T12:45:42.201Z"
   },
   {
    "duration": 22,
    "start_time": "2022-01-29T12:45:42.221Z"
   },
   {
    "duration": 18,
    "start_time": "2022-01-29T12:45:42.245Z"
   },
   {
    "duration": 39,
    "start_time": "2022-01-29T12:45:42.265Z"
   },
   {
    "duration": 8,
    "start_time": "2022-01-29T12:45:42.307Z"
   },
   {
    "duration": 742,
    "start_time": "2022-01-29T12:45:42.319Z"
   },
   {
    "duration": 4,
    "start_time": "2022-01-29T12:45:43.063Z"
   },
   {
    "duration": 6,
    "start_time": "2022-01-29T12:45:43.070Z"
   },
   {
    "duration": 3466,
    "start_time": "2022-01-29T12:45:43.079Z"
   },
   {
    "duration": 3,
    "start_time": "2022-01-29T13:02:27.397Z"
   },
   {
    "duration": 1373,
    "start_time": "2022-01-29T13:03:20.918Z"
   },
   {
    "duration": 11,
    "start_time": "2022-01-29T13:03:30.574Z"
   },
   {
    "duration": 283,
    "start_time": "2022-01-29T13:15:33.695Z"
   },
   {
    "duration": 17,
    "start_time": "2022-01-29T13:16:37.061Z"
   },
   {
    "duration": 7070,
    "start_time": "2022-01-29T13:17:27.259Z"
   },
   {
    "duration": 9,
    "start_time": "2022-01-29T13:17:52.458Z"
   },
   {
    "duration": 5,
    "start_time": "2022-01-29T13:24:17.719Z"
   },
   {
    "duration": 5,
    "start_time": "2022-01-29T13:24:42.854Z"
   },
   {
    "duration": 5,
    "start_time": "2022-01-29T13:24:59.734Z"
   },
   {
    "duration": 8,
    "start_time": "2022-01-29T13:40:22.206Z"
   },
   {
    "duration": 9,
    "start_time": "2022-01-29T13:40:27.998Z"
   },
   {
    "duration": 6,
    "start_time": "2022-01-29T13:40:45.393Z"
   },
   {
    "duration": 273,
    "start_time": "2022-01-29T19:54:13.789Z"
   },
   {
    "duration": 730,
    "start_time": "2022-01-29T19:54:25.485Z"
   },
   {
    "duration": 12,
    "start_time": "2022-01-29T19:54:26.217Z"
   },
   {
    "duration": 18,
    "start_time": "2022-01-29T19:54:26.231Z"
   },
   {
    "duration": 8,
    "start_time": "2022-01-29T19:54:26.251Z"
   },
   {
    "duration": 13,
    "start_time": "2022-01-29T19:54:26.261Z"
   },
   {
    "duration": 15,
    "start_time": "2022-01-29T19:54:26.276Z"
   },
   {
    "duration": 9,
    "start_time": "2022-01-29T19:54:26.293Z"
   },
   {
    "duration": 32,
    "start_time": "2022-01-29T19:54:26.305Z"
   },
   {
    "duration": 4,
    "start_time": "2022-01-29T19:54:26.340Z"
   },
   {
    "duration": 13,
    "start_time": "2022-01-29T19:54:26.346Z"
   },
   {
    "duration": 15,
    "start_time": "2022-01-29T19:54:26.361Z"
   },
   {
    "duration": 40,
    "start_time": "2022-01-29T19:54:26.378Z"
   },
   {
    "duration": 5,
    "start_time": "2022-01-29T19:54:26.420Z"
   },
   {
    "duration": 13,
    "start_time": "2022-01-29T19:54:26.427Z"
   },
   {
    "duration": 25,
    "start_time": "2022-01-29T19:54:26.441Z"
   },
   {
    "duration": 13,
    "start_time": "2022-01-29T19:54:26.467Z"
   },
   {
    "duration": 8,
    "start_time": "2022-01-29T19:54:26.507Z"
   },
   {
    "duration": 20,
    "start_time": "2022-01-29T19:54:26.517Z"
   },
   {
    "duration": 21,
    "start_time": "2022-01-29T19:54:26.538Z"
   },
   {
    "duration": 47,
    "start_time": "2022-01-29T19:54:26.560Z"
   },
   {
    "duration": 9,
    "start_time": "2022-01-29T19:54:26.609Z"
   },
   {
    "duration": 10,
    "start_time": "2022-01-29T19:54:26.619Z"
   },
   {
    "duration": 732,
    "start_time": "2022-01-29T19:54:26.633Z"
   },
   {
    "duration": 3,
    "start_time": "2022-01-29T19:54:27.368Z"
   },
   {
    "duration": 6,
    "start_time": "2022-01-29T19:54:27.373Z"
   },
   {
    "duration": 3253,
    "start_time": "2022-01-29T19:54:27.381Z"
   },
   {
    "duration": 3,
    "start_time": "2022-01-29T19:54:30.636Z"
   },
   {
    "duration": 14,
    "start_time": "2022-01-29T19:54:30.641Z"
   },
   {
    "duration": 24,
    "start_time": "2022-01-29T19:54:30.657Z"
   },
   {
    "duration": 31,
    "start_time": "2022-01-29T19:54:30.683Z"
   },
   {
    "duration": 11,
    "start_time": "2022-01-29T19:56:31.689Z"
   },
   {
    "duration": 10,
    "start_time": "2022-01-29T19:57:32.970Z"
   },
   {
    "duration": 77,
    "start_time": "2022-01-29T20:00:22.962Z"
   },
   {
    "duration": 10,
    "start_time": "2022-01-29T20:00:53.483Z"
   },
   {
    "duration": 9,
    "start_time": "2022-01-29T20:05:53.712Z"
   },
   {
    "duration": 4,
    "start_time": "2022-01-29T20:11:38.659Z"
   },
   {
    "duration": 6,
    "start_time": "2022-01-29T20:11:49.348Z"
   },
   {
    "duration": 19,
    "start_time": "2022-01-29T20:12:52.261Z"
   },
   {
    "duration": 25,
    "start_time": "2022-01-29T20:28:56.421Z"
   },
   {
    "duration": 18,
    "start_time": "2022-01-29T20:35:43.620Z"
   },
   {
    "duration": 18,
    "start_time": "2022-01-29T20:36:24.380Z"
   },
   {
    "duration": 24,
    "start_time": "2022-01-29T20:39:08.214Z"
   },
   {
    "duration": 1280,
    "start_time": "2022-01-29T20:39:52.359Z"
   },
   {
    "duration": 1300,
    "start_time": "2022-01-29T20:40:00.883Z"
   },
   {
    "duration": 705,
    "start_time": "2022-01-29T20:40:44.198Z"
   },
   {
    "duration": 13,
    "start_time": "2022-01-29T20:40:44.905Z"
   },
   {
    "duration": 12,
    "start_time": "2022-01-29T20:40:44.920Z"
   },
   {
    "duration": 5,
    "start_time": "2022-01-29T20:40:44.934Z"
   },
   {
    "duration": 12,
    "start_time": "2022-01-29T20:40:44.941Z"
   },
   {
    "duration": 4,
    "start_time": "2022-01-29T20:40:44.955Z"
   },
   {
    "duration": 7,
    "start_time": "2022-01-29T20:40:44.961Z"
   },
   {
    "duration": 51,
    "start_time": "2022-01-29T20:40:44.970Z"
   },
   {
    "duration": 5,
    "start_time": "2022-01-29T20:40:45.023Z"
   },
   {
    "duration": 11,
    "start_time": "2022-01-29T20:40:45.029Z"
   },
   {
    "duration": 18,
    "start_time": "2022-01-29T20:40:45.042Z"
   },
   {
    "duration": 45,
    "start_time": "2022-01-29T20:40:45.062Z"
   },
   {
    "duration": 5,
    "start_time": "2022-01-29T20:40:45.109Z"
   },
   {
    "duration": 13,
    "start_time": "2022-01-29T20:40:45.116Z"
   },
   {
    "duration": 21,
    "start_time": "2022-01-29T20:40:45.131Z"
   },
   {
    "duration": 13,
    "start_time": "2022-01-29T20:40:45.154Z"
   },
   {
    "duration": 40,
    "start_time": "2022-01-29T20:40:45.169Z"
   },
   {
    "duration": 18,
    "start_time": "2022-01-29T20:40:45.211Z"
   },
   {
    "duration": 21,
    "start_time": "2022-01-29T20:40:45.231Z"
   },
   {
    "duration": 19,
    "start_time": "2022-01-29T20:40:45.253Z"
   },
   {
    "duration": 38,
    "start_time": "2022-01-29T20:40:45.274Z"
   },
   {
    "duration": 10,
    "start_time": "2022-01-29T20:40:45.314Z"
   },
   {
    "duration": 725,
    "start_time": "2022-01-29T20:40:45.327Z"
   },
   {
    "duration": 4,
    "start_time": "2022-01-29T20:40:46.054Z"
   },
   {
    "duration": 6,
    "start_time": "2022-01-29T20:40:46.060Z"
   },
   {
    "duration": 3528,
    "start_time": "2022-01-29T20:40:46.068Z"
   },
   {
    "duration": 3,
    "start_time": "2022-01-29T20:40:49.608Z"
   },
   {
    "duration": 21,
    "start_time": "2022-01-29T20:40:49.613Z"
   },
   {
    "duration": 29,
    "start_time": "2022-01-29T20:40:49.636Z"
   },
   {
    "duration": 15,
    "start_time": "2022-01-29T20:40:49.667Z"
   },
   {
    "duration": 39,
    "start_time": "2022-01-29T20:40:49.684Z"
   },
   {
    "duration": 47,
    "start_time": "2022-01-29T20:40:49.725Z"
   },
   {
    "duration": 9,
    "start_time": "2022-01-29T20:44:54.824Z"
   },
   {
    "duration": 4,
    "start_time": "2022-01-29T20:44:59.428Z"
   },
   {
    "duration": 5,
    "start_time": "2022-01-29T20:45:04.268Z"
   },
   {
    "duration": 5,
    "start_time": "2022-01-29T20:45:12.606Z"
   },
   {
    "duration": 6,
    "start_time": "2022-01-29T20:46:14.654Z"
   },
   {
    "duration": 702,
    "start_time": "2022-01-29T20:46:29.768Z"
   },
   {
    "duration": 13,
    "start_time": "2022-01-29T20:46:30.472Z"
   },
   {
    "duration": 23,
    "start_time": "2022-01-29T20:46:30.488Z"
   },
   {
    "duration": 11,
    "start_time": "2022-01-29T20:46:30.514Z"
   },
   {
    "duration": 17,
    "start_time": "2022-01-29T20:46:30.527Z"
   },
   {
    "duration": 8,
    "start_time": "2022-01-29T20:46:30.545Z"
   },
   {
    "duration": 12,
    "start_time": "2022-01-29T20:46:30.555Z"
   },
   {
    "duration": 28,
    "start_time": "2022-01-29T20:46:30.570Z"
   },
   {
    "duration": 9,
    "start_time": "2022-01-29T20:46:30.600Z"
   },
   {
    "duration": 13,
    "start_time": "2022-01-29T20:46:30.610Z"
   },
   {
    "duration": 23,
    "start_time": "2022-01-29T20:46:30.624Z"
   },
   {
    "duration": 33,
    "start_time": "2022-01-29T20:46:30.649Z"
   },
   {
    "duration": 6,
    "start_time": "2022-01-29T20:46:30.684Z"
   },
   {
    "duration": 27,
    "start_time": "2022-01-29T20:46:30.691Z"
   },
   {
    "duration": 32,
    "start_time": "2022-01-29T20:46:30.720Z"
   },
   {
    "duration": 13,
    "start_time": "2022-01-29T20:46:30.754Z"
   },
   {
    "duration": 24,
    "start_time": "2022-01-29T20:46:30.769Z"
   },
   {
    "duration": 28,
    "start_time": "2022-01-29T20:46:30.795Z"
   },
   {
    "duration": 26,
    "start_time": "2022-01-29T20:46:30.826Z"
   },
   {
    "duration": 20,
    "start_time": "2022-01-29T20:46:30.854Z"
   },
   {
    "duration": 10,
    "start_time": "2022-01-29T20:46:30.877Z"
   },
   {
    "duration": 39,
    "start_time": "2022-01-29T20:46:30.889Z"
   },
   {
    "duration": 720,
    "start_time": "2022-01-29T20:46:30.931Z"
   },
   {
    "duration": 3,
    "start_time": "2022-01-29T20:46:31.654Z"
   },
   {
    "duration": 22,
    "start_time": "2022-01-29T20:46:31.659Z"
   },
   {
    "duration": 3457,
    "start_time": "2022-01-29T20:46:31.683Z"
   },
   {
    "duration": 3,
    "start_time": "2022-01-29T20:46:35.142Z"
   },
   {
    "duration": 19,
    "start_time": "2022-01-29T20:46:35.147Z"
   },
   {
    "duration": 13,
    "start_time": "2022-01-29T20:46:35.168Z"
   },
   {
    "duration": 3,
    "start_time": "2022-01-29T20:46:35.183Z"
   },
   {
    "duration": 36,
    "start_time": "2022-01-29T20:46:35.188Z"
   },
   {
    "duration": 22,
    "start_time": "2022-01-29T20:46:35.226Z"
   },
   {
    "duration": 318,
    "start_time": "2022-01-29T20:53:33.508Z"
   },
   {
    "duration": 240,
    "start_time": "2022-01-29T20:54:19.028Z"
   },
   {
    "duration": 20,
    "start_time": "2022-01-29T21:00:00.871Z"
   },
   {
    "duration": 24,
    "start_time": "2022-01-29T21:00:28.535Z"
   },
   {
    "duration": 274,
    "start_time": "2022-01-29T21:04:27.876Z"
   },
   {
    "duration": 19,
    "start_time": "2022-01-29T21:05:07.756Z"
   },
   {
    "duration": 25,
    "start_time": "2022-01-29T21:05:17.404Z"
   },
   {
    "duration": 22,
    "start_time": "2022-01-29T21:19:32.799Z"
   },
   {
    "duration": 24,
    "start_time": "2022-01-29T21:38:45.997Z"
   },
   {
    "duration": 30,
    "start_time": "2022-01-29T21:45:28.635Z"
   },
   {
    "duration": 22,
    "start_time": "2022-01-29T21:46:45.421Z"
   },
   {
    "duration": 22,
    "start_time": "2022-01-29T21:47:46.370Z"
   },
   {
    "duration": 24,
    "start_time": "2022-01-29T21:48:57.529Z"
   },
   {
    "duration": 865,
    "start_time": "2022-02-07T18:03:53.662Z"
   },
   {
    "duration": 15,
    "start_time": "2022-02-07T18:03:54.530Z"
   },
   {
    "duration": 26,
    "start_time": "2022-02-07T18:03:54.548Z"
   },
   {
    "duration": 23,
    "start_time": "2022-02-07T18:03:54.576Z"
   },
   {
    "duration": 35,
    "start_time": "2022-02-07T18:03:54.601Z"
   },
   {
    "duration": 6,
    "start_time": "2022-02-07T18:03:54.639Z"
   },
   {
    "duration": 26,
    "start_time": "2022-02-07T18:03:54.648Z"
   },
   {
    "duration": 53,
    "start_time": "2022-02-07T18:03:54.677Z"
   },
   {
    "duration": 7,
    "start_time": "2022-02-07T18:03:54.735Z"
   },
   {
    "duration": 32,
    "start_time": "2022-02-07T18:03:54.745Z"
   },
   {
    "duration": 15,
    "start_time": "2022-02-07T18:03:54.779Z"
   },
   {
    "duration": 35,
    "start_time": "2022-02-07T18:03:54.796Z"
   },
   {
    "duration": 39,
    "start_time": "2022-02-07T18:03:54.833Z"
   },
   {
    "duration": 14,
    "start_time": "2022-02-07T18:03:54.874Z"
   },
   {
    "duration": 32,
    "start_time": "2022-02-07T18:03:54.890Z"
   },
   {
    "duration": 50,
    "start_time": "2022-02-07T18:03:54.924Z"
   },
   {
    "duration": 8,
    "start_time": "2022-02-07T18:03:54.977Z"
   },
   {
    "duration": 41,
    "start_time": "2022-02-07T18:03:54.987Z"
   },
   {
    "duration": 49,
    "start_time": "2022-02-07T18:03:55.031Z"
   },
   {
    "duration": 23,
    "start_time": "2022-02-07T18:03:55.083Z"
   },
   {
    "duration": 13,
    "start_time": "2022-02-07T18:03:55.108Z"
   },
   {
    "duration": 29,
    "start_time": "2022-02-07T18:03:55.123Z"
   },
   {
    "duration": 963,
    "start_time": "2022-02-07T18:03:55.154Z"
   },
   {
    "duration": 4,
    "start_time": "2022-02-07T18:03:56.120Z"
   },
   {
    "duration": 5,
    "start_time": "2022-02-07T18:03:56.127Z"
   },
   {
    "duration": 4052,
    "start_time": "2022-02-07T18:03:56.135Z"
   },
   {
    "duration": 4,
    "start_time": "2022-02-07T18:04:00.192Z"
   },
   {
    "duration": 22,
    "start_time": "2022-02-07T18:04:00.199Z"
   },
   {
    "duration": 15,
    "start_time": "2022-02-07T18:04:00.223Z"
   },
   {
    "duration": 30,
    "start_time": "2022-02-07T18:04:00.241Z"
   },
   {
    "duration": 28,
    "start_time": "2022-02-07T18:04:00.274Z"
   },
   {
    "duration": 74,
    "start_time": "2022-02-07T18:04:00.305Z"
   },
   {
    "duration": 29,
    "start_time": "2022-02-07T18:04:00.381Z"
   },
   {
    "duration": 29,
    "start_time": "2022-02-07T18:04:00.413Z"
   },
   {
    "duration": 31,
    "start_time": "2022-02-07T18:04:00.469Z"
   },
   {
    "duration": 18,
    "start_time": "2022-02-07T18:05:39.074Z"
   },
   {
    "duration": 442,
    "start_time": "2022-02-08T08:19:44.890Z"
   },
   {
    "duration": 887,
    "start_time": "2022-02-08T08:19:44.447Z"
   },
   {
    "duration": 3819,
    "start_time": "2022-02-08T08:19:45.480Z"
   },
   {
    "duration": 853,
    "start_time": "2022-02-08T08:19:48.449Z"
   },
   {
    "duration": 832,
    "start_time": "2022-02-08T08:19:48.471Z"
   },
   {
    "duration": 824,
    "start_time": "2022-02-08T08:19:48.480Z"
   },
   {
    "duration": 803,
    "start_time": "2022-02-08T08:19:48.502Z"
   },
   {
    "duration": 792,
    "start_time": "2022-02-08T08:19:48.514Z"
   },
   {
    "duration": 765,
    "start_time": "2022-02-08T08:19:48.542Z"
   },
   {
    "duration": 741,
    "start_time": "2022-02-08T08:19:48.567Z"
   },
   {
    "duration": 711,
    "start_time": "2022-02-08T08:19:48.598Z"
   },
   {
    "duration": 679,
    "start_time": "2022-02-08T08:19:48.631Z"
   },
   {
    "duration": 667,
    "start_time": "2022-02-08T08:19:48.643Z"
   },
   {
    "duration": 645,
    "start_time": "2022-02-08T08:19:48.666Z"
   },
   {
    "duration": 611,
    "start_time": "2022-02-08T08:19:48.701Z"
   },
   {
    "duration": 585,
    "start_time": "2022-02-08T08:19:48.728Z"
   },
   {
    "duration": 559,
    "start_time": "2022-02-08T08:19:48.755Z"
   },
   {
    "duration": 535,
    "start_time": "2022-02-08T08:19:48.780Z"
   },
   {
    "duration": 513,
    "start_time": "2022-02-08T08:19:48.803Z"
   },
   {
    "duration": 505,
    "start_time": "2022-02-08T08:19:48.813Z"
   },
   {
    "duration": 469,
    "start_time": "2022-02-08T08:19:48.850Z"
   },
   {
    "duration": 457,
    "start_time": "2022-02-08T08:19:48.862Z"
   },
   {
    "duration": 423,
    "start_time": "2022-02-08T08:19:48.897Z"
   },
   {
    "duration": 384,
    "start_time": "2022-02-08T08:19:48.937Z"
   },
   {
    "duration": 355,
    "start_time": "2022-02-08T08:19:48.967Z"
   },
   {
    "duration": 333,
    "start_time": "2022-02-08T08:19:48.990Z"
   },
   {
    "duration": 307,
    "start_time": "2022-02-08T08:19:49.017Z"
   },
   {
    "duration": 259,
    "start_time": "2022-02-08T08:19:49.066Z"
   },
   {
    "duration": 230,
    "start_time": "2022-02-08T08:19:49.096Z"
   },
   {
    "duration": 196,
    "start_time": "2022-02-08T08:19:49.131Z"
   },
   {
    "duration": 162,
    "start_time": "2022-02-08T08:19:49.166Z"
   },
   {
    "duration": 113,
    "start_time": "2022-02-08T08:19:49.215Z"
   },
   {
    "duration": 82,
    "start_time": "2022-02-08T08:19:49.247Z"
   },
   {
    "duration": 63,
    "start_time": "2022-02-08T08:19:49.267Z"
   },
   {
    "duration": 52,
    "start_time": "2022-02-08T08:19:49.279Z"
   },
   {
    "duration": 32,
    "start_time": "2022-02-08T08:19:49.300Z"
   },
   {
    "duration": 11,
    "start_time": "2022-02-08T08:19:49.322Z"
   },
   {
    "duration": -10,
    "start_time": "2022-02-08T08:19:49.343Z"
   },
   {
    "duration": -19,
    "start_time": "2022-02-08T08:19:49.353Z"
   },
   {
    "duration": 681,
    "start_time": "2022-02-08T08:26:37.057Z"
   },
   {
    "duration": 12,
    "start_time": "2022-02-08T08:26:37.739Z"
   },
   {
    "duration": 10,
    "start_time": "2022-02-08T08:26:37.753Z"
   },
   {
    "duration": 8,
    "start_time": "2022-02-08T08:26:37.765Z"
   },
   {
    "duration": 8,
    "start_time": "2022-02-08T08:26:37.775Z"
   },
   {
    "duration": 4,
    "start_time": "2022-02-08T08:26:37.785Z"
   },
   {
    "duration": 4,
    "start_time": "2022-02-08T08:26:37.818Z"
   },
   {
    "duration": 33,
    "start_time": "2022-02-08T08:26:37.825Z"
   },
   {
    "duration": 11,
    "start_time": "2022-02-08T08:26:37.861Z"
   },
   {
    "duration": 47,
    "start_time": "2022-02-08T08:26:37.874Z"
   },
   {
    "duration": 5,
    "start_time": "2022-02-08T08:26:37.923Z"
   },
   {
    "duration": 9,
    "start_time": "2022-02-08T08:26:37.930Z"
   },
   {
    "duration": 12,
    "start_time": "2022-02-08T08:26:37.941Z"
   },
   {
    "duration": 23,
    "start_time": "2022-02-08T08:26:37.955Z"
   },
   {
    "duration": 6,
    "start_time": "2022-02-08T08:26:38.018Z"
   },
   {
    "duration": 15,
    "start_time": "2022-02-08T08:26:38.026Z"
   },
   {
    "duration": 20,
    "start_time": "2022-02-08T08:26:38.043Z"
   },
   {
    "duration": 13,
    "start_time": "2022-02-08T08:26:38.065Z"
   },
   {
    "duration": 21,
    "start_time": "2022-02-08T08:26:38.079Z"
   },
   {
    "duration": 18,
    "start_time": "2022-02-08T08:26:38.119Z"
   },
   {
    "duration": 20,
    "start_time": "2022-02-08T08:26:38.139Z"
   },
   {
    "duration": 19,
    "start_time": "2022-02-08T08:26:38.161Z"
   },
   {
    "duration": 35,
    "start_time": "2022-02-08T08:26:38.183Z"
   },
   {
    "duration": 6,
    "start_time": "2022-02-08T08:26:38.221Z"
   },
   {
    "duration": 708,
    "start_time": "2022-02-08T08:26:38.229Z"
   },
   {
    "duration": 4,
    "start_time": "2022-02-08T08:26:38.939Z"
   },
   {
    "duration": 13,
    "start_time": "2022-02-08T08:26:38.944Z"
   },
   {
    "duration": 3307,
    "start_time": "2022-02-08T08:26:38.959Z"
   },
   {
    "duration": 3,
    "start_time": "2022-02-08T08:26:42.268Z"
   },
   {
    "duration": 17,
    "start_time": "2022-02-08T08:26:42.273Z"
   },
   {
    "duration": 11,
    "start_time": "2022-02-08T08:26:42.292Z"
   },
   {
    "duration": 4,
    "start_time": "2022-02-08T08:26:42.319Z"
   },
   {
    "duration": 27,
    "start_time": "2022-02-08T08:26:42.324Z"
   },
   {
    "duration": 35,
    "start_time": "2022-02-08T08:26:42.353Z"
   },
   {
    "duration": 36,
    "start_time": "2022-02-08T08:26:42.390Z"
   },
   {
    "duration": 21,
    "start_time": "2022-02-08T08:26:42.428Z"
   },
   {
    "duration": 22,
    "start_time": "2022-02-08T08:26:42.450Z"
   },
   {
    "duration": 109,
    "start_time": "2022-02-08T08:32:35.966Z"
   },
   {
    "duration": 108,
    "start_time": "2022-02-08T08:33:04.802Z"
   },
   {
    "duration": 93,
    "start_time": "2022-02-08T08:33:36.781Z"
   },
   {
    "duration": 104,
    "start_time": "2022-02-08T08:34:11.334Z"
   },
   {
    "duration": 91,
    "start_time": "2022-02-08T08:35:14.399Z"
   },
   {
    "duration": 117,
    "start_time": "2022-02-08T08:35:25.043Z"
   },
   {
    "duration": 90,
    "start_time": "2022-02-08T08:36:05.371Z"
   },
   {
    "duration": 81,
    "start_time": "2022-02-08T08:36:48.714Z"
   },
   {
    "duration": 1073,
    "start_time": "2022-02-08T08:36:57.181Z"
   },
   {
    "duration": 17,
    "start_time": "2022-02-08T08:36:58.256Z"
   },
   {
    "duration": 14,
    "start_time": "2022-02-08T08:36:58.276Z"
   },
   {
    "duration": 7,
    "start_time": "2022-02-08T08:36:58.292Z"
   },
   {
    "duration": 7,
    "start_time": "2022-02-08T08:36:58.319Z"
   },
   {
    "duration": 4,
    "start_time": "2022-02-08T08:36:58.328Z"
   },
   {
    "duration": 9,
    "start_time": "2022-02-08T08:36:58.335Z"
   },
   {
    "duration": 57,
    "start_time": "2022-02-08T08:36:58.348Z"
   },
   {
    "duration": 15,
    "start_time": "2022-02-08T08:36:58.420Z"
   },
   {
    "duration": 36,
    "start_time": "2022-02-08T08:36:58.437Z"
   },
   {
    "duration": 5,
    "start_time": "2022-02-08T08:36:58.476Z"
   },
   {
    "duration": 15,
    "start_time": "2022-02-08T08:36:58.483Z"
   },
   {
    "duration": 16,
    "start_time": "2022-02-08T08:36:58.519Z"
   },
   {
    "duration": 32,
    "start_time": "2022-02-08T08:36:58.537Z"
   },
   {
    "duration": 6,
    "start_time": "2022-02-08T08:36:58.571Z"
   },
   {
    "duration": 41,
    "start_time": "2022-02-08T08:36:58.579Z"
   },
   {
    "duration": 30,
    "start_time": "2022-02-08T08:36:58.622Z"
   },
   {
    "duration": 83,
    "start_time": "2022-02-08T08:36:58.654Z"
   },
   {
    "duration": 369,
    "start_time": "2022-02-08T08:36:58.371Z"
   },
   {
    "duration": 327,
    "start_time": "2022-02-08T08:36:58.415Z"
   },
   {
    "duration": 318,
    "start_time": "2022-02-08T08:36:58.425Z"
   },
   {
    "duration": 310,
    "start_time": "2022-02-08T08:36:58.435Z"
   },
   {
    "duration": 301,
    "start_time": "2022-02-08T08:36:58.446Z"
   },
   {
    "duration": 291,
    "start_time": "2022-02-08T08:36:58.457Z"
   },
   {
    "duration": 280,
    "start_time": "2022-02-08T08:36:58.468Z"
   },
   {
    "duration": 274,
    "start_time": "2022-02-08T08:36:58.476Z"
   },
   {
    "duration": 264,
    "start_time": "2022-02-08T08:36:58.487Z"
   },
   {
    "duration": 257,
    "start_time": "2022-02-08T08:36:58.495Z"
   },
   {
    "duration": 246,
    "start_time": "2022-02-08T08:36:58.507Z"
   },
   {
    "duration": 221,
    "start_time": "2022-02-08T08:36:58.533Z"
   },
   {
    "duration": 206,
    "start_time": "2022-02-08T08:36:58.549Z"
   },
   {
    "duration": 198,
    "start_time": "2022-02-08T08:36:58.557Z"
   },
   {
    "duration": 189,
    "start_time": "2022-02-08T08:36:58.567Z"
   },
   {
    "duration": 182,
    "start_time": "2022-02-08T08:36:58.575Z"
   },
   {
    "duration": 174,
    "start_time": "2022-02-08T08:36:58.584Z"
   },
   {
    "duration": 167,
    "start_time": "2022-02-08T08:36:58.592Z"
   },
   {
    "duration": 157,
    "start_time": "2022-02-08T08:36:58.603Z"
   },
   {
    "duration": 149,
    "start_time": "2022-02-08T08:36:58.611Z"
   },
   {
    "duration": 87,
    "start_time": "2022-02-08T08:37:21.189Z"
   },
   {
    "duration": 97,
    "start_time": "2022-02-08T08:37:56.617Z"
   },
   {
    "duration": 4,
    "start_time": "2022-02-08T08:39:32.958Z"
   },
   {
    "duration": 22,
    "start_time": "2022-02-08T08:39:35.564Z"
   },
   {
    "duration": 5,
    "start_time": "2022-02-08T08:42:30.049Z"
   },
   {
    "duration": 20,
    "start_time": "2022-02-08T08:42:32.930Z"
   },
   {
    "duration": 680,
    "start_time": "2022-02-08T08:42:45.075Z"
   },
   {
    "duration": 11,
    "start_time": "2022-02-08T08:42:45.757Z"
   },
   {
    "duration": 9,
    "start_time": "2022-02-08T08:42:45.770Z"
   },
   {
    "duration": 5,
    "start_time": "2022-02-08T08:42:45.780Z"
   },
   {
    "duration": 33,
    "start_time": "2022-02-08T08:42:45.787Z"
   },
   {
    "duration": 4,
    "start_time": "2022-02-08T08:42:45.821Z"
   },
   {
    "duration": 8,
    "start_time": "2022-02-08T08:42:45.826Z"
   },
   {
    "duration": 35,
    "start_time": "2022-02-08T08:42:45.837Z"
   },
   {
    "duration": 12,
    "start_time": "2022-02-08T08:42:45.875Z"
   },
   {
    "duration": 23,
    "start_time": "2022-02-08T08:42:45.919Z"
   },
   {
    "duration": 4,
    "start_time": "2022-02-08T08:42:45.944Z"
   },
   {
    "duration": 14,
    "start_time": "2022-02-08T08:42:45.949Z"
   },
   {
    "duration": 17,
    "start_time": "2022-02-08T08:42:45.965Z"
   },
   {
    "duration": 43,
    "start_time": "2022-02-08T08:42:45.984Z"
   },
   {
    "duration": 5,
    "start_time": "2022-02-08T08:42:46.028Z"
   },
   {
    "duration": 14,
    "start_time": "2022-02-08T08:42:46.034Z"
   },
   {
    "duration": 3,
    "start_time": "2022-02-08T08:42:46.050Z"
   },
   {
    "duration": 25,
    "start_time": "2022-02-08T08:42:46.055Z"
   },
   {
    "duration": 36,
    "start_time": "2022-02-08T08:42:46.082Z"
   },
   {
    "duration": 11,
    "start_time": "2022-02-08T08:42:46.120Z"
   },
   {
    "duration": 17,
    "start_time": "2022-02-08T08:42:46.133Z"
   },
   {
    "duration": 18,
    "start_time": "2022-02-08T08:42:46.152Z"
   },
   {
    "duration": 15,
    "start_time": "2022-02-08T08:42:46.174Z"
   },
   {
    "duration": 10,
    "start_time": "2022-02-08T08:42:46.219Z"
   },
   {
    "duration": 10,
    "start_time": "2022-02-08T08:42:46.231Z"
   },
   {
    "duration": 686,
    "start_time": "2022-02-08T08:42:46.244Z"
   },
   {
    "duration": 4,
    "start_time": "2022-02-08T08:42:46.932Z"
   },
   {
    "duration": 7,
    "start_time": "2022-02-08T08:42:46.937Z"
   },
   {
    "duration": 3212,
    "start_time": "2022-02-08T08:42:46.946Z"
   },
   {
    "duration": 3,
    "start_time": "2022-02-08T08:42:50.160Z"
   },
   {
    "duration": 16,
    "start_time": "2022-02-08T08:42:50.165Z"
   },
   {
    "duration": 17,
    "start_time": "2022-02-08T08:42:50.184Z"
   },
   {
    "duration": 20,
    "start_time": "2022-02-08T08:42:50.202Z"
   },
   {
    "duration": 36,
    "start_time": "2022-02-08T08:42:50.224Z"
   },
   {
    "duration": 42,
    "start_time": "2022-02-08T08:42:50.261Z"
   },
   {
    "duration": 35,
    "start_time": "2022-02-08T08:42:50.305Z"
   },
   {
    "duration": 30,
    "start_time": "2022-02-08T08:42:50.342Z"
   },
   {
    "duration": 44,
    "start_time": "2022-02-08T08:42:50.375Z"
   }
  ],
  "kernelspec": {
   "display_name": "Python 3 (ipykernel)",
   "language": "python",
   "name": "python3"
  },
  "language_info": {
   "codemirror_mode": {
    "name": "ipython",
    "version": 3
   },
   "file_extension": ".py",
   "mimetype": "text/x-python",
   "name": "python",
   "nbconvert_exporter": "python",
   "pygments_lexer": "ipython3",
   "version": "3.9.7"
  },
  "toc": {
   "base_numbering": 1,
   "nav_menu": {
    "height": "12px",
    "width": "160px"
   },
   "number_sections": true,
   "sideBar": true,
   "skip_h1_title": true,
   "title_cell": "Table of Contents",
   "title_sidebar": "Contents",
   "toc_cell": false,
   "toc_position": {
    "height": "calc(100% - 180px)",
    "left": "10px",
    "top": "150px",
    "width": "255.594px"
   },
   "toc_section_display": true,
   "toc_window_display": true
  }
 },
 "nbformat": 4,
 "nbformat_minor": 2
}
