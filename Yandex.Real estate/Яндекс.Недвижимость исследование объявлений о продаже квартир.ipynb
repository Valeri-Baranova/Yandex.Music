{
 "cells": [
  {
   "cell_type": "markdown",
   "metadata": {},
   "source": [
    "# Исследование объявлений о продаже квартир\n",
    "\n",
    "В вашем распоряжении данные сервиса Яндекс.Недвижимость — архив объявлений о продаже квартир в Санкт-Петербурге и соседних населённых пунктах за несколько лет. Нужно научиться определять рыночную стоимость объектов недвижимости. Ваша задача — установить параметры. Это позволит построить автоматизированную систему: она отследит аномалии и мошенническую деятельность. \n",
    "\n",
    "По каждой квартире на продажу доступны два вида данных. Первые вписаны пользователем, вторые получены автоматически на основе картографических данных. Например, расстояние до центра, аэропорта, ближайшего парка и водоёма. \n",
    "\n",
    "Описание данных:\n",
    "\n",
    "- airports_nearest — расстояние до ближайшего аэропорта в метрах (м)\n",
    "- balcony — число балконов\n",
    "- ceiling_height — высота потолков (м)\n",
    "- cityCenters_nearest — расстояние до центра города (м)\n",
    "- days_exposition — сколько дней было размещено объявление (от публикации до снятия)\n",
    "- first_day_exposition — дата публикации\n",
    "- floor — этаж\n",
    "- floors_total — всего этажей в доме\n",
    "- is_apartment — апартаменты (булев тип)\n",
    "- kitchen_area — площадь кухни в квадратных метрах (м²)\n",
    "- last_price — цена на момент снятия с публикации\n",
    "- living_area — жилая площадь в квадратных метрах (м²)\n",
    "- locality_name — название населённого пункта\n",
    "- open_plan — свободная планировка (булев тип)\n",
    "- parks_around3000 — число парков в радиусе 3 км\n",
    "- parks_nearest — расстояние до ближайшего парка (м)\n",
    "- ponds_around3000 — число водоёмов в радиусе 3 км\n",
    "- ponds_nearest — расстояние до ближайшего водоёма (м)\n",
    "- rooms — число комнат\n",
    "- studio — квартира-студия (булев тип)\n",
    "- total_area — площадь квартиры в квадратных метрах (м²)\n",
    "- total_images — число фотографий квартиры в объявлении"
   ]
  },
  {
   "cell_type": "markdown",
   "metadata": {},
   "source": [
    "## Изучение данных из файла"
   ]
  },
  {
   "cell_type": "code",
   "execution_count": 1,
   "metadata": {},
   "outputs": [
    {
     "data": {
      "text/html": [
       "<div>\n",
       "<style scoped>\n",
       "    .dataframe tbody tr th:only-of-type {\n",
       "        vertical-align: middle;\n",
       "    }\n",
       "\n",
       "    .dataframe tbody tr th {\n",
       "        vertical-align: top;\n",
       "    }\n",
       "\n",
       "    .dataframe thead th {\n",
       "        text-align: right;\n",
       "    }\n",
       "</style>\n",
       "<table border=\"1\" class=\"dataframe\">\n",
       "  <thead>\n",
       "    <tr style=\"text-align: right;\">\n",
       "      <th></th>\n",
       "      <th>total_images</th>\n",
       "      <th>last_price</th>\n",
       "      <th>total_area</th>\n",
       "      <th>first_day_exposition</th>\n",
       "      <th>rooms</th>\n",
       "      <th>ceiling_height</th>\n",
       "      <th>floors_total</th>\n",
       "      <th>living_area</th>\n",
       "      <th>floor</th>\n",
       "      <th>is_apartment</th>\n",
       "      <th>...</th>\n",
       "      <th>kitchen_area</th>\n",
       "      <th>balcony</th>\n",
       "      <th>locality_name</th>\n",
       "      <th>airports_nearest</th>\n",
       "      <th>cityCenters_nearest</th>\n",
       "      <th>parks_around3000</th>\n",
       "      <th>parks_nearest</th>\n",
       "      <th>ponds_around3000</th>\n",
       "      <th>ponds_nearest</th>\n",
       "      <th>days_exposition</th>\n",
       "    </tr>\n",
       "  </thead>\n",
       "  <tbody>\n",
       "    <tr>\n",
       "      <td>0</td>\n",
       "      <td>20</td>\n",
       "      <td>13000000.0</td>\n",
       "      <td>108.00</td>\n",
       "      <td>2019-03-07T00:00:00</td>\n",
       "      <td>3</td>\n",
       "      <td>2.70</td>\n",
       "      <td>16.0</td>\n",
       "      <td>51.00</td>\n",
       "      <td>8</td>\n",
       "      <td>NaN</td>\n",
       "      <td>...</td>\n",
       "      <td>25.00</td>\n",
       "      <td>NaN</td>\n",
       "      <td>Санкт-Петербург</td>\n",
       "      <td>18863.0</td>\n",
       "      <td>16028.0</td>\n",
       "      <td>1.0</td>\n",
       "      <td>482.0</td>\n",
       "      <td>2.0</td>\n",
       "      <td>755.0</td>\n",
       "      <td>NaN</td>\n",
       "    </tr>\n",
       "    <tr>\n",
       "      <td>1</td>\n",
       "      <td>7</td>\n",
       "      <td>3350000.0</td>\n",
       "      <td>40.40</td>\n",
       "      <td>2018-12-04T00:00:00</td>\n",
       "      <td>1</td>\n",
       "      <td>NaN</td>\n",
       "      <td>11.0</td>\n",
       "      <td>18.60</td>\n",
       "      <td>1</td>\n",
       "      <td>NaN</td>\n",
       "      <td>...</td>\n",
       "      <td>11.00</td>\n",
       "      <td>2.0</td>\n",
       "      <td>посёлок Шушары</td>\n",
       "      <td>12817.0</td>\n",
       "      <td>18603.0</td>\n",
       "      <td>0.0</td>\n",
       "      <td>NaN</td>\n",
       "      <td>0.0</td>\n",
       "      <td>NaN</td>\n",
       "      <td>81.0</td>\n",
       "    </tr>\n",
       "    <tr>\n",
       "      <td>2</td>\n",
       "      <td>10</td>\n",
       "      <td>5196000.0</td>\n",
       "      <td>56.00</td>\n",
       "      <td>2015-08-20T00:00:00</td>\n",
       "      <td>2</td>\n",
       "      <td>NaN</td>\n",
       "      <td>5.0</td>\n",
       "      <td>34.30</td>\n",
       "      <td>4</td>\n",
       "      <td>NaN</td>\n",
       "      <td>...</td>\n",
       "      <td>8.30</td>\n",
       "      <td>0.0</td>\n",
       "      <td>Санкт-Петербург</td>\n",
       "      <td>21741.0</td>\n",
       "      <td>13933.0</td>\n",
       "      <td>1.0</td>\n",
       "      <td>90.0</td>\n",
       "      <td>2.0</td>\n",
       "      <td>574.0</td>\n",
       "      <td>558.0</td>\n",
       "    </tr>\n",
       "    <tr>\n",
       "      <td>3</td>\n",
       "      <td>0</td>\n",
       "      <td>64900000.0</td>\n",
       "      <td>159.00</td>\n",
       "      <td>2015-07-24T00:00:00</td>\n",
       "      <td>3</td>\n",
       "      <td>NaN</td>\n",
       "      <td>14.0</td>\n",
       "      <td>NaN</td>\n",
       "      <td>9</td>\n",
       "      <td>NaN</td>\n",
       "      <td>...</td>\n",
       "      <td>NaN</td>\n",
       "      <td>0.0</td>\n",
       "      <td>Санкт-Петербург</td>\n",
       "      <td>28098.0</td>\n",
       "      <td>6800.0</td>\n",
       "      <td>2.0</td>\n",
       "      <td>84.0</td>\n",
       "      <td>3.0</td>\n",
       "      <td>234.0</td>\n",
       "      <td>424.0</td>\n",
       "    </tr>\n",
       "    <tr>\n",
       "      <td>4</td>\n",
       "      <td>2</td>\n",
       "      <td>10000000.0</td>\n",
       "      <td>100.00</td>\n",
       "      <td>2018-06-19T00:00:00</td>\n",
       "      <td>2</td>\n",
       "      <td>3.03</td>\n",
       "      <td>14.0</td>\n",
       "      <td>32.00</td>\n",
       "      <td>13</td>\n",
       "      <td>NaN</td>\n",
       "      <td>...</td>\n",
       "      <td>41.00</td>\n",
       "      <td>NaN</td>\n",
       "      <td>Санкт-Петербург</td>\n",
       "      <td>31856.0</td>\n",
       "      <td>8098.0</td>\n",
       "      <td>2.0</td>\n",
       "      <td>112.0</td>\n",
       "      <td>1.0</td>\n",
       "      <td>48.0</td>\n",
       "      <td>121.0</td>\n",
       "    </tr>\n",
       "    <tr>\n",
       "      <td>5</td>\n",
       "      <td>10</td>\n",
       "      <td>2890000.0</td>\n",
       "      <td>30.40</td>\n",
       "      <td>2018-09-10T00:00:00</td>\n",
       "      <td>1</td>\n",
       "      <td>NaN</td>\n",
       "      <td>12.0</td>\n",
       "      <td>14.40</td>\n",
       "      <td>5</td>\n",
       "      <td>NaN</td>\n",
       "      <td>...</td>\n",
       "      <td>9.10</td>\n",
       "      <td>NaN</td>\n",
       "      <td>городской посёлок Янино-1</td>\n",
       "      <td>NaN</td>\n",
       "      <td>NaN</td>\n",
       "      <td>NaN</td>\n",
       "      <td>NaN</td>\n",
       "      <td>NaN</td>\n",
       "      <td>NaN</td>\n",
       "      <td>55.0</td>\n",
       "    </tr>\n",
       "    <tr>\n",
       "      <td>6</td>\n",
       "      <td>6</td>\n",
       "      <td>3700000.0</td>\n",
       "      <td>37.30</td>\n",
       "      <td>2017-11-02T00:00:00</td>\n",
       "      <td>1</td>\n",
       "      <td>NaN</td>\n",
       "      <td>26.0</td>\n",
       "      <td>10.60</td>\n",
       "      <td>6</td>\n",
       "      <td>NaN</td>\n",
       "      <td>...</td>\n",
       "      <td>14.40</td>\n",
       "      <td>1.0</td>\n",
       "      <td>посёлок Парголово</td>\n",
       "      <td>52996.0</td>\n",
       "      <td>19143.0</td>\n",
       "      <td>0.0</td>\n",
       "      <td>NaN</td>\n",
       "      <td>0.0</td>\n",
       "      <td>NaN</td>\n",
       "      <td>155.0</td>\n",
       "    </tr>\n",
       "    <tr>\n",
       "      <td>7</td>\n",
       "      <td>5</td>\n",
       "      <td>7915000.0</td>\n",
       "      <td>71.60</td>\n",
       "      <td>2019-04-18T00:00:00</td>\n",
       "      <td>2</td>\n",
       "      <td>NaN</td>\n",
       "      <td>24.0</td>\n",
       "      <td>NaN</td>\n",
       "      <td>22</td>\n",
       "      <td>NaN</td>\n",
       "      <td>...</td>\n",
       "      <td>18.90</td>\n",
       "      <td>2.0</td>\n",
       "      <td>Санкт-Петербург</td>\n",
       "      <td>23982.0</td>\n",
       "      <td>11634.0</td>\n",
       "      <td>0.0</td>\n",
       "      <td>NaN</td>\n",
       "      <td>0.0</td>\n",
       "      <td>NaN</td>\n",
       "      <td>NaN</td>\n",
       "    </tr>\n",
       "    <tr>\n",
       "      <td>8</td>\n",
       "      <td>20</td>\n",
       "      <td>2900000.0</td>\n",
       "      <td>33.16</td>\n",
       "      <td>2018-05-23T00:00:00</td>\n",
       "      <td>1</td>\n",
       "      <td>NaN</td>\n",
       "      <td>27.0</td>\n",
       "      <td>15.43</td>\n",
       "      <td>26</td>\n",
       "      <td>NaN</td>\n",
       "      <td>...</td>\n",
       "      <td>8.81</td>\n",
       "      <td>NaN</td>\n",
       "      <td>посёлок Мурино</td>\n",
       "      <td>NaN</td>\n",
       "      <td>NaN</td>\n",
       "      <td>NaN</td>\n",
       "      <td>NaN</td>\n",
       "      <td>NaN</td>\n",
       "      <td>NaN</td>\n",
       "      <td>189.0</td>\n",
       "    </tr>\n",
       "    <tr>\n",
       "      <td>9</td>\n",
       "      <td>18</td>\n",
       "      <td>5400000.0</td>\n",
       "      <td>61.00</td>\n",
       "      <td>2017-02-26T00:00:00</td>\n",
       "      <td>3</td>\n",
       "      <td>2.50</td>\n",
       "      <td>9.0</td>\n",
       "      <td>43.60</td>\n",
       "      <td>7</td>\n",
       "      <td>NaN</td>\n",
       "      <td>...</td>\n",
       "      <td>6.50</td>\n",
       "      <td>2.0</td>\n",
       "      <td>Санкт-Петербург</td>\n",
       "      <td>50898.0</td>\n",
       "      <td>15008.0</td>\n",
       "      <td>0.0</td>\n",
       "      <td>NaN</td>\n",
       "      <td>0.0</td>\n",
       "      <td>NaN</td>\n",
       "      <td>289.0</td>\n",
       "    </tr>\n",
       "  </tbody>\n",
       "</table>\n",
       "<p>10 rows × 22 columns</p>\n",
       "</div>"
      ],
      "text/plain": [
       "   total_images  last_price  total_area first_day_exposition  rooms  \\\n",
       "0            20  13000000.0      108.00  2019-03-07T00:00:00      3   \n",
       "1             7   3350000.0       40.40  2018-12-04T00:00:00      1   \n",
       "2            10   5196000.0       56.00  2015-08-20T00:00:00      2   \n",
       "3             0  64900000.0      159.00  2015-07-24T00:00:00      3   \n",
       "4             2  10000000.0      100.00  2018-06-19T00:00:00      2   \n",
       "5            10   2890000.0       30.40  2018-09-10T00:00:00      1   \n",
       "6             6   3700000.0       37.30  2017-11-02T00:00:00      1   \n",
       "7             5   7915000.0       71.60  2019-04-18T00:00:00      2   \n",
       "8            20   2900000.0       33.16  2018-05-23T00:00:00      1   \n",
       "9            18   5400000.0       61.00  2017-02-26T00:00:00      3   \n",
       "\n",
       "   ceiling_height  floors_total  living_area  floor is_apartment  ...  \\\n",
       "0            2.70          16.0        51.00      8          NaN  ...   \n",
       "1             NaN          11.0        18.60      1          NaN  ...   \n",
       "2             NaN           5.0        34.30      4          NaN  ...   \n",
       "3             NaN          14.0          NaN      9          NaN  ...   \n",
       "4            3.03          14.0        32.00     13          NaN  ...   \n",
       "5             NaN          12.0        14.40      5          NaN  ...   \n",
       "6             NaN          26.0        10.60      6          NaN  ...   \n",
       "7             NaN          24.0          NaN     22          NaN  ...   \n",
       "8             NaN          27.0        15.43     26          NaN  ...   \n",
       "9            2.50           9.0        43.60      7          NaN  ...   \n",
       "\n",
       "   kitchen_area  balcony              locality_name  airports_nearest  \\\n",
       "0         25.00      NaN            Санкт-Петербург           18863.0   \n",
       "1         11.00      2.0             посёлок Шушары           12817.0   \n",
       "2          8.30      0.0            Санкт-Петербург           21741.0   \n",
       "3           NaN      0.0            Санкт-Петербург           28098.0   \n",
       "4         41.00      NaN            Санкт-Петербург           31856.0   \n",
       "5          9.10      NaN  городской посёлок Янино-1               NaN   \n",
       "6         14.40      1.0          посёлок Парголово           52996.0   \n",
       "7         18.90      2.0            Санкт-Петербург           23982.0   \n",
       "8          8.81      NaN             посёлок Мурино               NaN   \n",
       "9          6.50      2.0            Санкт-Петербург           50898.0   \n",
       "\n",
       "  cityCenters_nearest  parks_around3000  parks_nearest  ponds_around3000  \\\n",
       "0             16028.0               1.0          482.0               2.0   \n",
       "1             18603.0               0.0            NaN               0.0   \n",
       "2             13933.0               1.0           90.0               2.0   \n",
       "3              6800.0               2.0           84.0               3.0   \n",
       "4              8098.0               2.0          112.0               1.0   \n",
       "5                 NaN               NaN            NaN               NaN   \n",
       "6             19143.0               0.0            NaN               0.0   \n",
       "7             11634.0               0.0            NaN               0.0   \n",
       "8                 NaN               NaN            NaN               NaN   \n",
       "9             15008.0               0.0            NaN               0.0   \n",
       "\n",
       "   ponds_nearest  days_exposition  \n",
       "0          755.0              NaN  \n",
       "1            NaN             81.0  \n",
       "2          574.0            558.0  \n",
       "3          234.0            424.0  \n",
       "4           48.0            121.0  \n",
       "5            NaN             55.0  \n",
       "6            NaN            155.0  \n",
       "7            NaN              NaN  \n",
       "8            NaN            189.0  \n",
       "9            NaN            289.0  \n",
       "\n",
       "[10 rows x 22 columns]"
      ]
     },
     "execution_count": 1,
     "metadata": {},
     "output_type": "execute_result"
    }
   ],
   "source": [
    "import pandas as pd\n",
    "\n",
    "import warnings\n",
    "warnings.filterwarnings(\"ignore\")\n",
    "\n",
    "import seaborn as sns\n",
    "\n",
    "df = pd.read_csv('/datasets/real_estate_data.csv', sep='\\t')\n",
    "df. head(10)"
   ]
  },
  {
   "cell_type": "code",
   "execution_count": 2,
   "metadata": {},
   "outputs": [
    {
     "name": "stdout",
     "output_type": "stream",
     "text": [
      "<class 'pandas.core.frame.DataFrame'>\n",
      "RangeIndex: 23699 entries, 0 to 23698\n",
      "Data columns (total 22 columns):\n",
      "total_images            23699 non-null int64\n",
      "last_price              23699 non-null float64\n",
      "total_area              23699 non-null float64\n",
      "first_day_exposition    23699 non-null object\n",
      "rooms                   23699 non-null int64\n",
      "ceiling_height          14504 non-null float64\n",
      "floors_total            23613 non-null float64\n",
      "living_area             21796 non-null float64\n",
      "floor                   23699 non-null int64\n",
      "is_apartment            2775 non-null object\n",
      "studio                  23699 non-null bool\n",
      "open_plan               23699 non-null bool\n",
      "kitchen_area            21421 non-null float64\n",
      "balcony                 12180 non-null float64\n",
      "locality_name           23650 non-null object\n",
      "airports_nearest        18157 non-null float64\n",
      "cityCenters_nearest     18180 non-null float64\n",
      "parks_around3000        18181 non-null float64\n",
      "parks_nearest           8079 non-null float64\n",
      "ponds_around3000        18181 non-null float64\n",
      "ponds_nearest           9110 non-null float64\n",
      "days_exposition         20518 non-null float64\n",
      "dtypes: bool(2), float64(14), int64(3), object(3)\n",
      "memory usage: 3.7+ MB\n"
     ]
    }
   ],
   "source": [
    "df.info() # получение общей информации о таблице"
   ]
  },
  {
   "cell_type": "code",
   "execution_count": 3,
   "metadata": {},
   "outputs": [],
   "source": [
    "df = df.rename(columns={'cityCenters_nearest':'city_centers_nearest'})"
   ]
  },
  {
   "cell_type": "code",
   "execution_count": 4,
   "metadata": {},
   "outputs": [
    {
     "data": {
      "text/plain": [
       "total_images            0.000000\n",
       "last_price              0.000000\n",
       "total_area              0.000000\n",
       "first_day_exposition    0.000000\n",
       "rooms                   0.000000\n",
       "ceiling_height          0.387991\n",
       "floors_total            0.003629\n",
       "living_area             0.080299\n",
       "floor                   0.000000\n",
       "is_apartment            0.882906\n",
       "studio                  0.000000\n",
       "open_plan               0.000000\n",
       "kitchen_area            0.096122\n",
       "balcony                 0.486054\n",
       "locality_name           0.002068\n",
       "airports_nearest        0.233850\n",
       "city_centers_nearest    0.232879\n",
       "parks_around3000        0.232837\n",
       "parks_nearest           0.659100\n",
       "ponds_around3000        0.232837\n",
       "ponds_nearest           0.615596\n",
       "days_exposition         0.134225\n",
       "dtype: float64"
      ]
     },
     "execution_count": 4,
     "metadata": {},
     "output_type": "execute_result"
    }
   ],
   "source": [
    "df.isna().mean() # подсчёт пропусков в долевом соотношении"
   ]
  },
  {
   "cell_type": "code",
   "execution_count": 5,
   "metadata": {},
   "outputs": [
    {
     "data": {
      "text/plain": [
       "0"
      ]
     },
     "execution_count": 5,
     "metadata": {},
     "output_type": "execute_result"
    }
   ],
   "source": [
    "df.duplicated().sum() # проверяем на наличие дубликатов"
   ]
  },
  {
   "cell_type": "markdown",
   "metadata": {},
   "source": [
    "### Вывод"
   ]
  },
  {
   "cell_type": "markdown",
   "metadata": {},
   "source": [
    "При изучении данных видно, что имеются пропуски. Дубликатов не имеется. Исправлено некорректное название столбца 'cityCenters_nearest'"
   ]
  },
  {
   "cell_type": "markdown",
   "metadata": {},
   "source": [
    "## Предобработка данных"
   ]
  },
  {
   "cell_type": "markdown",
   "metadata": {},
   "source": [
    "Рассмотрим пропуски в столбцах"
   ]
  },
  {
   "cell_type": "markdown",
   "metadata": {},
   "source": [
    "**Столбец 'ceiling_height'**"
   ]
  },
  {
   "cell_type": "code",
   "execution_count": 6,
   "metadata": {},
   "outputs": [
    {
     "data": {
      "text/html": [
       "<div>\n",
       "<style scoped>\n",
       "    .dataframe tbody tr th:only-of-type {\n",
       "        vertical-align: middle;\n",
       "    }\n",
       "\n",
       "    .dataframe tbody tr th {\n",
       "        vertical-align: top;\n",
       "    }\n",
       "\n",
       "    .dataframe thead th {\n",
       "        text-align: right;\n",
       "    }\n",
       "</style>\n",
       "<table border=\"1\" class=\"dataframe\">\n",
       "  <thead>\n",
       "    <tr style=\"text-align: right;\">\n",
       "      <th></th>\n",
       "      <th>total_images</th>\n",
       "      <th>last_price</th>\n",
       "      <th>total_area</th>\n",
       "      <th>first_day_exposition</th>\n",
       "      <th>rooms</th>\n",
       "      <th>ceiling_height</th>\n",
       "      <th>floors_total</th>\n",
       "      <th>living_area</th>\n",
       "      <th>floor</th>\n",
       "      <th>is_apartment</th>\n",
       "      <th>...</th>\n",
       "      <th>kitchen_area</th>\n",
       "      <th>balcony</th>\n",
       "      <th>locality_name</th>\n",
       "      <th>airports_nearest</th>\n",
       "      <th>city_centers_nearest</th>\n",
       "      <th>parks_around3000</th>\n",
       "      <th>parks_nearest</th>\n",
       "      <th>ponds_around3000</th>\n",
       "      <th>ponds_nearest</th>\n",
       "      <th>days_exposition</th>\n",
       "    </tr>\n",
       "  </thead>\n",
       "  <tbody>\n",
       "    <tr>\n",
       "      <td>1</td>\n",
       "      <td>7</td>\n",
       "      <td>3350000.0</td>\n",
       "      <td>40.40</td>\n",
       "      <td>2018-12-04T00:00:00</td>\n",
       "      <td>1</td>\n",
       "      <td>NaN</td>\n",
       "      <td>11.0</td>\n",
       "      <td>18.60</td>\n",
       "      <td>1</td>\n",
       "      <td>NaN</td>\n",
       "      <td>...</td>\n",
       "      <td>11.00</td>\n",
       "      <td>2.0</td>\n",
       "      <td>посёлок Шушары</td>\n",
       "      <td>12817.0</td>\n",
       "      <td>18603.0</td>\n",
       "      <td>0.0</td>\n",
       "      <td>NaN</td>\n",
       "      <td>0.0</td>\n",
       "      <td>NaN</td>\n",
       "      <td>81.0</td>\n",
       "    </tr>\n",
       "    <tr>\n",
       "      <td>2</td>\n",
       "      <td>10</td>\n",
       "      <td>5196000.0</td>\n",
       "      <td>56.00</td>\n",
       "      <td>2015-08-20T00:00:00</td>\n",
       "      <td>2</td>\n",
       "      <td>NaN</td>\n",
       "      <td>5.0</td>\n",
       "      <td>34.30</td>\n",
       "      <td>4</td>\n",
       "      <td>NaN</td>\n",
       "      <td>...</td>\n",
       "      <td>8.30</td>\n",
       "      <td>0.0</td>\n",
       "      <td>Санкт-Петербург</td>\n",
       "      <td>21741.0</td>\n",
       "      <td>13933.0</td>\n",
       "      <td>1.0</td>\n",
       "      <td>90.0</td>\n",
       "      <td>2.0</td>\n",
       "      <td>574.0</td>\n",
       "      <td>558.0</td>\n",
       "    </tr>\n",
       "    <tr>\n",
       "      <td>3</td>\n",
       "      <td>0</td>\n",
       "      <td>64900000.0</td>\n",
       "      <td>159.00</td>\n",
       "      <td>2015-07-24T00:00:00</td>\n",
       "      <td>3</td>\n",
       "      <td>NaN</td>\n",
       "      <td>14.0</td>\n",
       "      <td>NaN</td>\n",
       "      <td>9</td>\n",
       "      <td>NaN</td>\n",
       "      <td>...</td>\n",
       "      <td>NaN</td>\n",
       "      <td>0.0</td>\n",
       "      <td>Санкт-Петербург</td>\n",
       "      <td>28098.0</td>\n",
       "      <td>6800.0</td>\n",
       "      <td>2.0</td>\n",
       "      <td>84.0</td>\n",
       "      <td>3.0</td>\n",
       "      <td>234.0</td>\n",
       "      <td>424.0</td>\n",
       "    </tr>\n",
       "    <tr>\n",
       "      <td>5</td>\n",
       "      <td>10</td>\n",
       "      <td>2890000.0</td>\n",
       "      <td>30.40</td>\n",
       "      <td>2018-09-10T00:00:00</td>\n",
       "      <td>1</td>\n",
       "      <td>NaN</td>\n",
       "      <td>12.0</td>\n",
       "      <td>14.40</td>\n",
       "      <td>5</td>\n",
       "      <td>NaN</td>\n",
       "      <td>...</td>\n",
       "      <td>9.10</td>\n",
       "      <td>NaN</td>\n",
       "      <td>городской посёлок Янино-1</td>\n",
       "      <td>NaN</td>\n",
       "      <td>NaN</td>\n",
       "      <td>NaN</td>\n",
       "      <td>NaN</td>\n",
       "      <td>NaN</td>\n",
       "      <td>NaN</td>\n",
       "      <td>55.0</td>\n",
       "    </tr>\n",
       "    <tr>\n",
       "      <td>6</td>\n",
       "      <td>6</td>\n",
       "      <td>3700000.0</td>\n",
       "      <td>37.30</td>\n",
       "      <td>2017-11-02T00:00:00</td>\n",
       "      <td>1</td>\n",
       "      <td>NaN</td>\n",
       "      <td>26.0</td>\n",
       "      <td>10.60</td>\n",
       "      <td>6</td>\n",
       "      <td>NaN</td>\n",
       "      <td>...</td>\n",
       "      <td>14.40</td>\n",
       "      <td>1.0</td>\n",
       "      <td>посёлок Парголово</td>\n",
       "      <td>52996.0</td>\n",
       "      <td>19143.0</td>\n",
       "      <td>0.0</td>\n",
       "      <td>NaN</td>\n",
       "      <td>0.0</td>\n",
       "      <td>NaN</td>\n",
       "      <td>155.0</td>\n",
       "    </tr>\n",
       "    <tr>\n",
       "      <td>7</td>\n",
       "      <td>5</td>\n",
       "      <td>7915000.0</td>\n",
       "      <td>71.60</td>\n",
       "      <td>2019-04-18T00:00:00</td>\n",
       "      <td>2</td>\n",
       "      <td>NaN</td>\n",
       "      <td>24.0</td>\n",
       "      <td>NaN</td>\n",
       "      <td>22</td>\n",
       "      <td>NaN</td>\n",
       "      <td>...</td>\n",
       "      <td>18.90</td>\n",
       "      <td>2.0</td>\n",
       "      <td>Санкт-Петербург</td>\n",
       "      <td>23982.0</td>\n",
       "      <td>11634.0</td>\n",
       "      <td>0.0</td>\n",
       "      <td>NaN</td>\n",
       "      <td>0.0</td>\n",
       "      <td>NaN</td>\n",
       "      <td>NaN</td>\n",
       "    </tr>\n",
       "    <tr>\n",
       "      <td>8</td>\n",
       "      <td>20</td>\n",
       "      <td>2900000.0</td>\n",
       "      <td>33.16</td>\n",
       "      <td>2018-05-23T00:00:00</td>\n",
       "      <td>1</td>\n",
       "      <td>NaN</td>\n",
       "      <td>27.0</td>\n",
       "      <td>15.43</td>\n",
       "      <td>26</td>\n",
       "      <td>NaN</td>\n",
       "      <td>...</td>\n",
       "      <td>8.81</td>\n",
       "      <td>NaN</td>\n",
       "      <td>посёлок Мурино</td>\n",
       "      <td>NaN</td>\n",
       "      <td>NaN</td>\n",
       "      <td>NaN</td>\n",
       "      <td>NaN</td>\n",
       "      <td>NaN</td>\n",
       "      <td>NaN</td>\n",
       "      <td>189.0</td>\n",
       "    </tr>\n",
       "    <tr>\n",
       "      <td>11</td>\n",
       "      <td>9</td>\n",
       "      <td>3300000.0</td>\n",
       "      <td>44.00</td>\n",
       "      <td>2018-08-27T00:00:00</td>\n",
       "      <td>2</td>\n",
       "      <td>NaN</td>\n",
       "      <td>5.0</td>\n",
       "      <td>31.00</td>\n",
       "      <td>4</td>\n",
       "      <td>False</td>\n",
       "      <td>...</td>\n",
       "      <td>6.00</td>\n",
       "      <td>1.0</td>\n",
       "      <td>Ломоносов</td>\n",
       "      <td>48252.0</td>\n",
       "      <td>51677.0</td>\n",
       "      <td>0.0</td>\n",
       "      <td>NaN</td>\n",
       "      <td>0.0</td>\n",
       "      <td>NaN</td>\n",
       "      <td>7.0</td>\n",
       "    </tr>\n",
       "    <tr>\n",
       "      <td>12</td>\n",
       "      <td>10</td>\n",
       "      <td>3890000.0</td>\n",
       "      <td>54.00</td>\n",
       "      <td>2016-06-30T00:00:00</td>\n",
       "      <td>2</td>\n",
       "      <td>NaN</td>\n",
       "      <td>5.0</td>\n",
       "      <td>30.00</td>\n",
       "      <td>5</td>\n",
       "      <td>NaN</td>\n",
       "      <td>...</td>\n",
       "      <td>9.00</td>\n",
       "      <td>0.0</td>\n",
       "      <td>Сертолово</td>\n",
       "      <td>NaN</td>\n",
       "      <td>NaN</td>\n",
       "      <td>NaN</td>\n",
       "      <td>NaN</td>\n",
       "      <td>NaN</td>\n",
       "      <td>NaN</td>\n",
       "      <td>90.0</td>\n",
       "    </tr>\n",
       "    <tr>\n",
       "      <td>14</td>\n",
       "      <td>1</td>\n",
       "      <td>4400000.0</td>\n",
       "      <td>36.00</td>\n",
       "      <td>2016-06-23T00:00:00</td>\n",
       "      <td>1</td>\n",
       "      <td>NaN</td>\n",
       "      <td>6.0</td>\n",
       "      <td>17.00</td>\n",
       "      <td>1</td>\n",
       "      <td>NaN</td>\n",
       "      <td>...</td>\n",
       "      <td>8.00</td>\n",
       "      <td>0.0</td>\n",
       "      <td>Пушкин</td>\n",
       "      <td>20782.0</td>\n",
       "      <td>30759.0</td>\n",
       "      <td>0.0</td>\n",
       "      <td>NaN</td>\n",
       "      <td>1.0</td>\n",
       "      <td>96.0</td>\n",
       "      <td>203.0</td>\n",
       "    </tr>\n",
       "  </tbody>\n",
       "</table>\n",
       "<p>10 rows × 22 columns</p>\n",
       "</div>"
      ],
      "text/plain": [
       "    total_images  last_price  total_area first_day_exposition  rooms  \\\n",
       "1              7   3350000.0       40.40  2018-12-04T00:00:00      1   \n",
       "2             10   5196000.0       56.00  2015-08-20T00:00:00      2   \n",
       "3              0  64900000.0      159.00  2015-07-24T00:00:00      3   \n",
       "5             10   2890000.0       30.40  2018-09-10T00:00:00      1   \n",
       "6              6   3700000.0       37.30  2017-11-02T00:00:00      1   \n",
       "7              5   7915000.0       71.60  2019-04-18T00:00:00      2   \n",
       "8             20   2900000.0       33.16  2018-05-23T00:00:00      1   \n",
       "11             9   3300000.0       44.00  2018-08-27T00:00:00      2   \n",
       "12            10   3890000.0       54.00  2016-06-30T00:00:00      2   \n",
       "14             1   4400000.0       36.00  2016-06-23T00:00:00      1   \n",
       "\n",
       "    ceiling_height  floors_total  living_area  floor is_apartment  ...  \\\n",
       "1              NaN          11.0        18.60      1          NaN  ...   \n",
       "2              NaN           5.0        34.30      4          NaN  ...   \n",
       "3              NaN          14.0          NaN      9          NaN  ...   \n",
       "5              NaN          12.0        14.40      5          NaN  ...   \n",
       "6              NaN          26.0        10.60      6          NaN  ...   \n",
       "7              NaN          24.0          NaN     22          NaN  ...   \n",
       "8              NaN          27.0        15.43     26          NaN  ...   \n",
       "11             NaN           5.0        31.00      4        False  ...   \n",
       "12             NaN           5.0        30.00      5          NaN  ...   \n",
       "14             NaN           6.0        17.00      1          NaN  ...   \n",
       "\n",
       "    kitchen_area  balcony              locality_name  airports_nearest  \\\n",
       "1          11.00      2.0             посёлок Шушары           12817.0   \n",
       "2           8.30      0.0            Санкт-Петербург           21741.0   \n",
       "3            NaN      0.0            Санкт-Петербург           28098.0   \n",
       "5           9.10      NaN  городской посёлок Янино-1               NaN   \n",
       "6          14.40      1.0          посёлок Парголово           52996.0   \n",
       "7          18.90      2.0            Санкт-Петербург           23982.0   \n",
       "8           8.81      NaN             посёлок Мурино               NaN   \n",
       "11          6.00      1.0                  Ломоносов           48252.0   \n",
       "12          9.00      0.0                  Сертолово               NaN   \n",
       "14          8.00      0.0                     Пушкин           20782.0   \n",
       "\n",
       "   city_centers_nearest  parks_around3000  parks_nearest  ponds_around3000  \\\n",
       "1               18603.0               0.0            NaN               0.0   \n",
       "2               13933.0               1.0           90.0               2.0   \n",
       "3                6800.0               2.0           84.0               3.0   \n",
       "5                   NaN               NaN            NaN               NaN   \n",
       "6               19143.0               0.0            NaN               0.0   \n",
       "7               11634.0               0.0            NaN               0.0   \n",
       "8                   NaN               NaN            NaN               NaN   \n",
       "11              51677.0               0.0            NaN               0.0   \n",
       "12                  NaN               NaN            NaN               NaN   \n",
       "14              30759.0               0.0            NaN               1.0   \n",
       "\n",
       "    ponds_nearest  days_exposition  \n",
       "1             NaN             81.0  \n",
       "2           574.0            558.0  \n",
       "3           234.0            424.0  \n",
       "5             NaN             55.0  \n",
       "6             NaN            155.0  \n",
       "7             NaN              NaN  \n",
       "8             NaN            189.0  \n",
       "11            NaN              7.0  \n",
       "12            NaN             90.0  \n",
       "14           96.0            203.0  \n",
       "\n",
       "[10 rows x 22 columns]"
      ]
     },
     "execution_count": 6,
     "metadata": {},
     "output_type": "execute_result"
    }
   ],
   "source": [
    "df[df['ceiling_height']. isna()].head(10)"
   ]
  },
  {
   "cell_type": "code",
   "execution_count": 7,
   "metadata": {},
   "outputs": [],
   "source": [
    "meian_ceiling_height = df['ceiling_height'].median() # получаем средне медианное значение для заполнеие пропусков"
   ]
  },
  {
   "cell_type": "code",
   "execution_count": 8,
   "metadata": {},
   "outputs": [
    {
     "data": {
      "text/plain": [
       "0"
      ]
     },
     "execution_count": 8,
     "metadata": {},
     "output_type": "execute_result"
    }
   ],
   "source": [
    "df['ceiling_height'] = df['ceiling_height'].fillna(value=meian_ceiling_height) # заполняем пропуски и проверяем результат\n",
    "df['ceiling_height']. isna().sum()"
   ]
  },
  {
   "cell_type": "markdown",
   "metadata": {},
   "source": [
    "В данном столбце логики в пропусках не прослеживается, удалить строки непозволительно (слишком большая доля). Поэтому принято решение заполнить пропуски медианным значением."
   ]
  },
  {
   "cell_type": "markdown",
   "metadata": {},
   "source": [
    "**Столбец 'floors_total'**"
   ]
  },
  {
   "cell_type": "code",
   "execution_count": 9,
   "metadata": {},
   "outputs": [
    {
     "data": {
      "text/html": [
       "<div>\n",
       "<style scoped>\n",
       "    .dataframe tbody tr th:only-of-type {\n",
       "        vertical-align: middle;\n",
       "    }\n",
       "\n",
       "    .dataframe tbody tr th {\n",
       "        vertical-align: top;\n",
       "    }\n",
       "\n",
       "    .dataframe thead th {\n",
       "        text-align: right;\n",
       "    }\n",
       "</style>\n",
       "<table border=\"1\" class=\"dataframe\">\n",
       "  <thead>\n",
       "    <tr style=\"text-align: right;\">\n",
       "      <th></th>\n",
       "      <th>total_images</th>\n",
       "      <th>last_price</th>\n",
       "      <th>total_area</th>\n",
       "      <th>first_day_exposition</th>\n",
       "      <th>rooms</th>\n",
       "      <th>ceiling_height</th>\n",
       "      <th>floors_total</th>\n",
       "      <th>living_area</th>\n",
       "      <th>floor</th>\n",
       "      <th>is_apartment</th>\n",
       "      <th>...</th>\n",
       "      <th>kitchen_area</th>\n",
       "      <th>balcony</th>\n",
       "      <th>locality_name</th>\n",
       "      <th>airports_nearest</th>\n",
       "      <th>city_centers_nearest</th>\n",
       "      <th>parks_around3000</th>\n",
       "      <th>parks_nearest</th>\n",
       "      <th>ponds_around3000</th>\n",
       "      <th>ponds_nearest</th>\n",
       "      <th>days_exposition</th>\n",
       "    </tr>\n",
       "  </thead>\n",
       "  <tbody>\n",
       "    <tr>\n",
       "      <td>186</td>\n",
       "      <td>12</td>\n",
       "      <td>11640000.0</td>\n",
       "      <td>65.2</td>\n",
       "      <td>2018-10-02T00:00:00</td>\n",
       "      <td>2</td>\n",
       "      <td>2.65</td>\n",
       "      <td>NaN</td>\n",
       "      <td>30.80</td>\n",
       "      <td>4</td>\n",
       "      <td>NaN</td>\n",
       "      <td>...</td>\n",
       "      <td>12.00</td>\n",
       "      <td>NaN</td>\n",
       "      <td>Санкт-Петербург</td>\n",
       "      <td>39197.0</td>\n",
       "      <td>12373.0</td>\n",
       "      <td>1.0</td>\n",
       "      <td>123.0</td>\n",
       "      <td>0.0</td>\n",
       "      <td>NaN</td>\n",
       "      <td>49.0</td>\n",
       "    </tr>\n",
       "    <tr>\n",
       "      <td>237</td>\n",
       "      <td>4</td>\n",
       "      <td>2438033.0</td>\n",
       "      <td>28.1</td>\n",
       "      <td>2016-11-23T00:00:00</td>\n",
       "      <td>1</td>\n",
       "      <td>2.65</td>\n",
       "      <td>NaN</td>\n",
       "      <td>20.75</td>\n",
       "      <td>1</td>\n",
       "      <td>NaN</td>\n",
       "      <td>...</td>\n",
       "      <td>NaN</td>\n",
       "      <td>0.0</td>\n",
       "      <td>Санкт-Петербург</td>\n",
       "      <td>22041.0</td>\n",
       "      <td>17369.0</td>\n",
       "      <td>0.0</td>\n",
       "      <td>NaN</td>\n",
       "      <td>1.0</td>\n",
       "      <td>374.0</td>\n",
       "      <td>251.0</td>\n",
       "    </tr>\n",
       "    <tr>\n",
       "      <td>457</td>\n",
       "      <td>4</td>\n",
       "      <td>9788348.0</td>\n",
       "      <td>70.8</td>\n",
       "      <td>2015-08-01T00:00:00</td>\n",
       "      <td>2</td>\n",
       "      <td>2.65</td>\n",
       "      <td>NaN</td>\n",
       "      <td>38.40</td>\n",
       "      <td>12</td>\n",
       "      <td>NaN</td>\n",
       "      <td>...</td>\n",
       "      <td>10.63</td>\n",
       "      <td>0.0</td>\n",
       "      <td>Санкт-Петербург</td>\n",
       "      <td>37364.0</td>\n",
       "      <td>8322.0</td>\n",
       "      <td>2.0</td>\n",
       "      <td>309.0</td>\n",
       "      <td>2.0</td>\n",
       "      <td>706.0</td>\n",
       "      <td>727.0</td>\n",
       "    </tr>\n",
       "    <tr>\n",
       "      <td>671</td>\n",
       "      <td>4</td>\n",
       "      <td>6051191.0</td>\n",
       "      <td>93.6</td>\n",
       "      <td>2017-04-06T00:00:00</td>\n",
       "      <td>3</td>\n",
       "      <td>2.65</td>\n",
       "      <td>NaN</td>\n",
       "      <td>47.10</td>\n",
       "      <td>8</td>\n",
       "      <td>NaN</td>\n",
       "      <td>...</td>\n",
       "      <td>16.80</td>\n",
       "      <td>0.0</td>\n",
       "      <td>Санкт-Петербург</td>\n",
       "      <td>22041.0</td>\n",
       "      <td>17369.0</td>\n",
       "      <td>0.0</td>\n",
       "      <td>NaN</td>\n",
       "      <td>1.0</td>\n",
       "      <td>374.0</td>\n",
       "      <td>123.0</td>\n",
       "    </tr>\n",
       "    <tr>\n",
       "      <td>1757</td>\n",
       "      <td>5</td>\n",
       "      <td>3600000.0</td>\n",
       "      <td>39.0</td>\n",
       "      <td>2017-04-22T00:00:00</td>\n",
       "      <td>1</td>\n",
       "      <td>2.65</td>\n",
       "      <td>NaN</td>\n",
       "      <td>NaN</td>\n",
       "      <td>9</td>\n",
       "      <td>NaN</td>\n",
       "      <td>...</td>\n",
       "      <td>NaN</td>\n",
       "      <td>0.0</td>\n",
       "      <td>Санкт-Петербург</td>\n",
       "      <td>22735.0</td>\n",
       "      <td>11618.0</td>\n",
       "      <td>1.0</td>\n",
       "      <td>835.0</td>\n",
       "      <td>1.0</td>\n",
       "      <td>652.0</td>\n",
       "      <td>77.0</td>\n",
       "    </tr>\n",
       "  </tbody>\n",
       "</table>\n",
       "<p>5 rows × 22 columns</p>\n",
       "</div>"
      ],
      "text/plain": [
       "      total_images  last_price  total_area first_day_exposition  rooms  \\\n",
       "186             12  11640000.0        65.2  2018-10-02T00:00:00      2   \n",
       "237              4   2438033.0        28.1  2016-11-23T00:00:00      1   \n",
       "457              4   9788348.0        70.8  2015-08-01T00:00:00      2   \n",
       "671              4   6051191.0        93.6  2017-04-06T00:00:00      3   \n",
       "1757             5   3600000.0        39.0  2017-04-22T00:00:00      1   \n",
       "\n",
       "      ceiling_height  floors_total  living_area  floor is_apartment  ...  \\\n",
       "186             2.65           NaN        30.80      4          NaN  ...   \n",
       "237             2.65           NaN        20.75      1          NaN  ...   \n",
       "457             2.65           NaN        38.40     12          NaN  ...   \n",
       "671             2.65           NaN        47.10      8          NaN  ...   \n",
       "1757            2.65           NaN          NaN      9          NaN  ...   \n",
       "\n",
       "      kitchen_area  balcony    locality_name  airports_nearest  \\\n",
       "186          12.00      NaN  Санкт-Петербург           39197.0   \n",
       "237            NaN      0.0  Санкт-Петербург           22041.0   \n",
       "457          10.63      0.0  Санкт-Петербург           37364.0   \n",
       "671          16.80      0.0  Санкт-Петербург           22041.0   \n",
       "1757           NaN      0.0  Санкт-Петербург           22735.0   \n",
       "\n",
       "     city_centers_nearest  parks_around3000  parks_nearest  ponds_around3000  \\\n",
       "186               12373.0               1.0          123.0               0.0   \n",
       "237               17369.0               0.0            NaN               1.0   \n",
       "457                8322.0               2.0          309.0               2.0   \n",
       "671               17369.0               0.0            NaN               1.0   \n",
       "1757              11618.0               1.0          835.0               1.0   \n",
       "\n",
       "      ponds_nearest  days_exposition  \n",
       "186             NaN             49.0  \n",
       "237           374.0            251.0  \n",
       "457           706.0            727.0  \n",
       "671           374.0            123.0  \n",
       "1757          652.0             77.0  \n",
       "\n",
       "[5 rows x 22 columns]"
      ]
     },
     "execution_count": 9,
     "metadata": {},
     "output_type": "execute_result"
    }
   ],
   "source": [
    "df[df['floors_total']. isna()].head()"
   ]
  },
  {
   "cell_type": "code",
   "execution_count": 10,
   "metadata": {},
   "outputs": [],
   "source": [
    "df = df.dropna(subset=['floors_total'])"
   ]
  },
  {
   "cell_type": "code",
   "execution_count": 11,
   "metadata": {},
   "outputs": [
    {
     "data": {
      "text/plain": [
       "0"
      ]
     },
     "execution_count": 11,
     "metadata": {},
     "output_type": "execute_result"
    }
   ],
   "source": [
    "df['floors_total'].isna().sum()"
   ]
  },
  {
   "cell_type": "markdown",
   "metadata": {},
   "source": [
    "В данном столбце рациональным способом не заполнить пропуски, так как нет никакой связи и логики в них. Доля этих пропусков очень мала и на результаты не повлияет, поэтому можно их удалить."
   ]
  },
  {
   "cell_type": "markdown",
   "metadata": {},
   "source": [
    "**Столбец 'living_area'**"
   ]
  },
  {
   "cell_type": "code",
   "execution_count": 12,
   "metadata": {},
   "outputs": [
    {
     "data": {
      "text/html": [
       "<div>\n",
       "<style scoped>\n",
       "    .dataframe tbody tr th:only-of-type {\n",
       "        vertical-align: middle;\n",
       "    }\n",
       "\n",
       "    .dataframe tbody tr th {\n",
       "        vertical-align: top;\n",
       "    }\n",
       "\n",
       "    .dataframe thead th {\n",
       "        text-align: right;\n",
       "    }\n",
       "</style>\n",
       "<table border=\"1\" class=\"dataframe\">\n",
       "  <thead>\n",
       "    <tr style=\"text-align: right;\">\n",
       "      <th></th>\n",
       "      <th>total_images</th>\n",
       "      <th>last_price</th>\n",
       "      <th>total_area</th>\n",
       "      <th>first_day_exposition</th>\n",
       "      <th>rooms</th>\n",
       "      <th>ceiling_height</th>\n",
       "      <th>floors_total</th>\n",
       "      <th>living_area</th>\n",
       "      <th>floor</th>\n",
       "      <th>is_apartment</th>\n",
       "      <th>...</th>\n",
       "      <th>kitchen_area</th>\n",
       "      <th>balcony</th>\n",
       "      <th>locality_name</th>\n",
       "      <th>airports_nearest</th>\n",
       "      <th>city_centers_nearest</th>\n",
       "      <th>parks_around3000</th>\n",
       "      <th>parks_nearest</th>\n",
       "      <th>ponds_around3000</th>\n",
       "      <th>ponds_nearest</th>\n",
       "      <th>days_exposition</th>\n",
       "    </tr>\n",
       "  </thead>\n",
       "  <tbody>\n",
       "    <tr>\n",
       "      <td>3</td>\n",
       "      <td>0</td>\n",
       "      <td>64900000.0</td>\n",
       "      <td>159.0</td>\n",
       "      <td>2015-07-24T00:00:00</td>\n",
       "      <td>3</td>\n",
       "      <td>2.65</td>\n",
       "      <td>14.0</td>\n",
       "      <td>NaN</td>\n",
       "      <td>9</td>\n",
       "      <td>NaN</td>\n",
       "      <td>...</td>\n",
       "      <td>NaN</td>\n",
       "      <td>0.0</td>\n",
       "      <td>Санкт-Петербург</td>\n",
       "      <td>28098.0</td>\n",
       "      <td>6800.0</td>\n",
       "      <td>2.0</td>\n",
       "      <td>84.0</td>\n",
       "      <td>3.0</td>\n",
       "      <td>234.0</td>\n",
       "      <td>424.0</td>\n",
       "    </tr>\n",
       "    <tr>\n",
       "      <td>7</td>\n",
       "      <td>5</td>\n",
       "      <td>7915000.0</td>\n",
       "      <td>71.6</td>\n",
       "      <td>2019-04-18T00:00:00</td>\n",
       "      <td>2</td>\n",
       "      <td>2.65</td>\n",
       "      <td>24.0</td>\n",
       "      <td>NaN</td>\n",
       "      <td>22</td>\n",
       "      <td>NaN</td>\n",
       "      <td>...</td>\n",
       "      <td>18.9</td>\n",
       "      <td>2.0</td>\n",
       "      <td>Санкт-Петербург</td>\n",
       "      <td>23982.0</td>\n",
       "      <td>11634.0</td>\n",
       "      <td>0.0</td>\n",
       "      <td>NaN</td>\n",
       "      <td>0.0</td>\n",
       "      <td>NaN</td>\n",
       "      <td>NaN</td>\n",
       "    </tr>\n",
       "    <tr>\n",
       "      <td>30</td>\n",
       "      <td>12</td>\n",
       "      <td>2200000.0</td>\n",
       "      <td>32.8</td>\n",
       "      <td>2018-02-19T00:00:00</td>\n",
       "      <td>1</td>\n",
       "      <td>2.65</td>\n",
       "      <td>9.0</td>\n",
       "      <td>NaN</td>\n",
       "      <td>2</td>\n",
       "      <td>NaN</td>\n",
       "      <td>...</td>\n",
       "      <td>NaN</td>\n",
       "      <td>NaN</td>\n",
       "      <td>Коммунар</td>\n",
       "      <td>NaN</td>\n",
       "      <td>NaN</td>\n",
       "      <td>NaN</td>\n",
       "      <td>NaN</td>\n",
       "      <td>NaN</td>\n",
       "      <td>NaN</td>\n",
       "      <td>63.0</td>\n",
       "    </tr>\n",
       "    <tr>\n",
       "      <td>37</td>\n",
       "      <td>10</td>\n",
       "      <td>1990000.0</td>\n",
       "      <td>45.8</td>\n",
       "      <td>2017-10-28T00:00:00</td>\n",
       "      <td>2</td>\n",
       "      <td>2.50</td>\n",
       "      <td>5.0</td>\n",
       "      <td>NaN</td>\n",
       "      <td>1</td>\n",
       "      <td>NaN</td>\n",
       "      <td>...</td>\n",
       "      <td>NaN</td>\n",
       "      <td>NaN</td>\n",
       "      <td>поселок городского типа Красный Бор</td>\n",
       "      <td>NaN</td>\n",
       "      <td>NaN</td>\n",
       "      <td>NaN</td>\n",
       "      <td>NaN</td>\n",
       "      <td>NaN</td>\n",
       "      <td>NaN</td>\n",
       "      <td>196.0</td>\n",
       "    </tr>\n",
       "    <tr>\n",
       "      <td>44</td>\n",
       "      <td>13</td>\n",
       "      <td>5350000.0</td>\n",
       "      <td>40.0</td>\n",
       "      <td>2018-11-18T00:00:00</td>\n",
       "      <td>1</td>\n",
       "      <td>2.65</td>\n",
       "      <td>22.0</td>\n",
       "      <td>NaN</td>\n",
       "      <td>3</td>\n",
       "      <td>NaN</td>\n",
       "      <td>...</td>\n",
       "      <td>NaN</td>\n",
       "      <td>1.0</td>\n",
       "      <td>Санкт-Петербург</td>\n",
       "      <td>30471.0</td>\n",
       "      <td>11603.0</td>\n",
       "      <td>1.0</td>\n",
       "      <td>620.0</td>\n",
       "      <td>1.0</td>\n",
       "      <td>1152.0</td>\n",
       "      <td>NaN</td>\n",
       "    </tr>\n",
       "  </tbody>\n",
       "</table>\n",
       "<p>5 rows × 22 columns</p>\n",
       "</div>"
      ],
      "text/plain": [
       "    total_images  last_price  total_area first_day_exposition  rooms  \\\n",
       "3              0  64900000.0       159.0  2015-07-24T00:00:00      3   \n",
       "7              5   7915000.0        71.6  2019-04-18T00:00:00      2   \n",
       "30            12   2200000.0        32.8  2018-02-19T00:00:00      1   \n",
       "37            10   1990000.0        45.8  2017-10-28T00:00:00      2   \n",
       "44            13   5350000.0        40.0  2018-11-18T00:00:00      1   \n",
       "\n",
       "    ceiling_height  floors_total  living_area  floor is_apartment  ...  \\\n",
       "3             2.65          14.0          NaN      9          NaN  ...   \n",
       "7             2.65          24.0          NaN     22          NaN  ...   \n",
       "30            2.65           9.0          NaN      2          NaN  ...   \n",
       "37            2.50           5.0          NaN      1          NaN  ...   \n",
       "44            2.65          22.0          NaN      3          NaN  ...   \n",
       "\n",
       "    kitchen_area  balcony                        locality_name  \\\n",
       "3            NaN      0.0                      Санкт-Петербург   \n",
       "7           18.9      2.0                      Санкт-Петербург   \n",
       "30           NaN      NaN                             Коммунар   \n",
       "37           NaN      NaN  поселок городского типа Красный Бор   \n",
       "44           NaN      1.0                      Санкт-Петербург   \n",
       "\n",
       "    airports_nearest city_centers_nearest  parks_around3000  parks_nearest  \\\n",
       "3            28098.0               6800.0               2.0           84.0   \n",
       "7            23982.0              11634.0               0.0            NaN   \n",
       "30               NaN                  NaN               NaN            NaN   \n",
       "37               NaN                  NaN               NaN            NaN   \n",
       "44           30471.0              11603.0               1.0          620.0   \n",
       "\n",
       "    ponds_around3000  ponds_nearest  days_exposition  \n",
       "3                3.0          234.0            424.0  \n",
       "7                0.0            NaN              NaN  \n",
       "30               NaN            NaN             63.0  \n",
       "37               NaN            NaN            196.0  \n",
       "44               1.0         1152.0              NaN  \n",
       "\n",
       "[5 rows x 22 columns]"
      ]
     },
     "execution_count": 12,
     "metadata": {},
     "output_type": "execute_result"
    }
   ],
   "source": [
    "df[df['living_area']. isna()].head()"
   ]
  },
  {
   "cell_type": "code",
   "execution_count": 13,
   "metadata": {},
   "outputs": [
    {
     "data": {
      "text/plain": [
       "0        51.000000\n",
       "1        18.600000\n",
       "2        34.300000\n",
       "3        89.826726\n",
       "4        32.000000\n",
       "           ...    \n",
       "23694    73.300000\n",
       "23695    38.000000\n",
       "23696    29.700000\n",
       "23697    43.359756\n",
       "23698    12.300000\n",
       "Name: living_area, Length: 23613, dtype: float64"
      ]
     },
     "execution_count": 13,
     "metadata": {},
     "output_type": "execute_result"
    }
   ],
   "source": [
    "mean_area = (df['living_area']/df['total_area']).mean() # среднее соотношение жилой площади от общей\n",
    "df['living_area'] = df['living_area'].fillna(df['total_area']*mean_area)\n",
    "df['living_area']"
   ]
  },
  {
   "cell_type": "code",
   "execution_count": 14,
   "metadata": {},
   "outputs": [
    {
     "data": {
      "text/plain": [
       "0"
      ]
     },
     "execution_count": 14,
     "metadata": {},
     "output_type": "execute_result"
    }
   ],
   "source": [
    "df['living_area']. isna().sum()"
   ]
  },
  {
   "cell_type": "markdown",
   "metadata": {},
   "source": [
    "В данном столбце пропуски нельзя было удалить, так как они нужны в дальнейшем, принято было заполнить так:\n",
    "\n",
    "- найти средний коэффициент  соотношения жилой площади от  общей (где это возможно)\n",
    "- и заполнить пропуски через коэффициент , умножая его на значение общей площади"
   ]
  },
  {
   "cell_type": "markdown",
   "metadata": {},
   "source": [
    "**Столбец 'is_apartment'**"
   ]
  },
  {
   "cell_type": "code",
   "execution_count": 15,
   "metadata": {},
   "outputs": [
    {
     "data": {
      "text/plain": [
       "False    2725\n",
       "True       50\n",
       "Name: is_apartment, dtype: int64"
      ]
     },
     "execution_count": 15,
     "metadata": {},
     "output_type": "execute_result"
    }
   ],
   "source": [
    "df['is_apartment'].value_counts()"
   ]
  },
  {
   "cell_type": "markdown",
   "metadata": {},
   "source": [
    "Данной большое количесвто пропусков можно объясить тем, что люди сдающие/продающие не обращали внимание на этот вопрос. Так как владельцы аппартаментов удиляли вниманию данному пункту."
   ]
  },
  {
   "cell_type": "code",
   "execution_count": 16,
   "metadata": {},
   "outputs": [
    {
     "data": {
      "text/plain": [
       "0"
      ]
     },
     "execution_count": 16,
     "metadata": {},
     "output_type": "execute_result"
    }
   ],
   "source": [
    "df['is_apartment'] = df['is_apartment'].fillna(False)\n",
    "df['is_apartment'].isna().sum()"
   ]
  },
  {
   "cell_type": "markdown",
   "metadata": {},
   "source": [
    "Исходя из гипотизы, все пропуски заменены на значение False"
   ]
  },
  {
   "cell_type": "markdown",
   "metadata": {},
   "source": [
    "**Столбец 'kitchen_area'**"
   ]
  },
  {
   "cell_type": "code",
   "execution_count": 17,
   "metadata": {},
   "outputs": [
    {
     "data": {
      "text/html": [
       "<div>\n",
       "<style scoped>\n",
       "    .dataframe tbody tr th:only-of-type {\n",
       "        vertical-align: middle;\n",
       "    }\n",
       "\n",
       "    .dataframe tbody tr th {\n",
       "        vertical-align: top;\n",
       "    }\n",
       "\n",
       "    .dataframe thead th {\n",
       "        text-align: right;\n",
       "    }\n",
       "</style>\n",
       "<table border=\"1\" class=\"dataframe\">\n",
       "  <thead>\n",
       "    <tr style=\"text-align: right;\">\n",
       "      <th></th>\n",
       "      <th>total_images</th>\n",
       "      <th>last_price</th>\n",
       "      <th>total_area</th>\n",
       "      <th>first_day_exposition</th>\n",
       "      <th>rooms</th>\n",
       "      <th>ceiling_height</th>\n",
       "      <th>floors_total</th>\n",
       "      <th>living_area</th>\n",
       "      <th>floor</th>\n",
       "      <th>is_apartment</th>\n",
       "      <th>...</th>\n",
       "      <th>kitchen_area</th>\n",
       "      <th>balcony</th>\n",
       "      <th>locality_name</th>\n",
       "      <th>airports_nearest</th>\n",
       "      <th>city_centers_nearest</th>\n",
       "      <th>parks_around3000</th>\n",
       "      <th>parks_nearest</th>\n",
       "      <th>ponds_around3000</th>\n",
       "      <th>ponds_nearest</th>\n",
       "      <th>days_exposition</th>\n",
       "    </tr>\n",
       "  </thead>\n",
       "  <tbody>\n",
       "    <tr>\n",
       "      <td>3</td>\n",
       "      <td>0</td>\n",
       "      <td>64900000.0</td>\n",
       "      <td>159.0</td>\n",
       "      <td>2015-07-24T00:00:00</td>\n",
       "      <td>3</td>\n",
       "      <td>2.65</td>\n",
       "      <td>14.0</td>\n",
       "      <td>89.826726</td>\n",
       "      <td>9</td>\n",
       "      <td>False</td>\n",
       "      <td>...</td>\n",
       "      <td>NaN</td>\n",
       "      <td>0.0</td>\n",
       "      <td>Санкт-Петербург</td>\n",
       "      <td>28098.0</td>\n",
       "      <td>6800.0</td>\n",
       "      <td>2.0</td>\n",
       "      <td>84.0</td>\n",
       "      <td>3.0</td>\n",
       "      <td>234.0</td>\n",
       "      <td>424.0</td>\n",
       "    </tr>\n",
       "    <tr>\n",
       "      <td>30</td>\n",
       "      <td>12</td>\n",
       "      <td>2200000.0</td>\n",
       "      <td>32.8</td>\n",
       "      <td>2018-02-19T00:00:00</td>\n",
       "      <td>1</td>\n",
       "      <td>2.65</td>\n",
       "      <td>9.0</td>\n",
       "      <td>18.530293</td>\n",
       "      <td>2</td>\n",
       "      <td>False</td>\n",
       "      <td>...</td>\n",
       "      <td>NaN</td>\n",
       "      <td>NaN</td>\n",
       "      <td>Коммунар</td>\n",
       "      <td>NaN</td>\n",
       "      <td>NaN</td>\n",
       "      <td>NaN</td>\n",
       "      <td>NaN</td>\n",
       "      <td>NaN</td>\n",
       "      <td>NaN</td>\n",
       "      <td>63.0</td>\n",
       "    </tr>\n",
       "    <tr>\n",
       "      <td>37</td>\n",
       "      <td>10</td>\n",
       "      <td>1990000.0</td>\n",
       "      <td>45.8</td>\n",
       "      <td>2017-10-28T00:00:00</td>\n",
       "      <td>2</td>\n",
       "      <td>2.50</td>\n",
       "      <td>5.0</td>\n",
       "      <td>25.874617</td>\n",
       "      <td>1</td>\n",
       "      <td>False</td>\n",
       "      <td>...</td>\n",
       "      <td>NaN</td>\n",
       "      <td>NaN</td>\n",
       "      <td>поселок городского типа Красный Бор</td>\n",
       "      <td>NaN</td>\n",
       "      <td>NaN</td>\n",
       "      <td>NaN</td>\n",
       "      <td>NaN</td>\n",
       "      <td>NaN</td>\n",
       "      <td>NaN</td>\n",
       "      <td>196.0</td>\n",
       "    </tr>\n",
       "    <tr>\n",
       "      <td>44</td>\n",
       "      <td>13</td>\n",
       "      <td>5350000.0</td>\n",
       "      <td>40.0</td>\n",
       "      <td>2018-11-18T00:00:00</td>\n",
       "      <td>1</td>\n",
       "      <td>2.65</td>\n",
       "      <td>22.0</td>\n",
       "      <td>22.597918</td>\n",
       "      <td>3</td>\n",
       "      <td>False</td>\n",
       "      <td>...</td>\n",
       "      <td>NaN</td>\n",
       "      <td>1.0</td>\n",
       "      <td>Санкт-Петербург</td>\n",
       "      <td>30471.0</td>\n",
       "      <td>11603.0</td>\n",
       "      <td>1.0</td>\n",
       "      <td>620.0</td>\n",
       "      <td>1.0</td>\n",
       "      <td>1152.0</td>\n",
       "      <td>NaN</td>\n",
       "    </tr>\n",
       "    <tr>\n",
       "      <td>59</td>\n",
       "      <td>15</td>\n",
       "      <td>6300000.0</td>\n",
       "      <td>46.5</td>\n",
       "      <td>2017-03-06T00:00:00</td>\n",
       "      <td>1</td>\n",
       "      <td>2.65</td>\n",
       "      <td>13.0</td>\n",
       "      <td>26.270080</td>\n",
       "      <td>13</td>\n",
       "      <td>False</td>\n",
       "      <td>...</td>\n",
       "      <td>NaN</td>\n",
       "      <td>NaN</td>\n",
       "      <td>Санкт-Петербург</td>\n",
       "      <td>11125.0</td>\n",
       "      <td>14501.0</td>\n",
       "      <td>0.0</td>\n",
       "      <td>NaN</td>\n",
       "      <td>0.0</td>\n",
       "      <td>NaN</td>\n",
       "      <td>336.0</td>\n",
       "    </tr>\n",
       "    <tr>\n",
       "      <td>60</td>\n",
       "      <td>3</td>\n",
       "      <td>2740000.0</td>\n",
       "      <td>35.0</td>\n",
       "      <td>2018-01-01T00:00:00</td>\n",
       "      <td>1</td>\n",
       "      <td>2.65</td>\n",
       "      <td>12.0</td>\n",
       "      <td>19.773179</td>\n",
       "      <td>8</td>\n",
       "      <td>False</td>\n",
       "      <td>...</td>\n",
       "      <td>NaN</td>\n",
       "      <td>NaN</td>\n",
       "      <td>посёлок Мурино</td>\n",
       "      <td>NaN</td>\n",
       "      <td>NaN</td>\n",
       "      <td>NaN</td>\n",
       "      <td>NaN</td>\n",
       "      <td>NaN</td>\n",
       "      <td>NaN</td>\n",
       "      <td>11.0</td>\n",
       "    </tr>\n",
       "    <tr>\n",
       "      <td>81</td>\n",
       "      <td>9</td>\n",
       "      <td>10949000.0</td>\n",
       "      <td>68.0</td>\n",
       "      <td>2018-12-27T00:00:00</td>\n",
       "      <td>1</td>\n",
       "      <td>2.65</td>\n",
       "      <td>10.0</td>\n",
       "      <td>38.416461</td>\n",
       "      <td>6</td>\n",
       "      <td>False</td>\n",
       "      <td>...</td>\n",
       "      <td>NaN</td>\n",
       "      <td>NaN</td>\n",
       "      <td>Санкт-Петербург</td>\n",
       "      <td>NaN</td>\n",
       "      <td>NaN</td>\n",
       "      <td>NaN</td>\n",
       "      <td>NaN</td>\n",
       "      <td>NaN</td>\n",
       "      <td>NaN</td>\n",
       "      <td>NaN</td>\n",
       "    </tr>\n",
       "    <tr>\n",
       "      <td>82</td>\n",
       "      <td>3</td>\n",
       "      <td>4500000.0</td>\n",
       "      <td>80.5</td>\n",
       "      <td>2018-01-15T00:00:00</td>\n",
       "      <td>3</td>\n",
       "      <td>2.65</td>\n",
       "      <td>25.0</td>\n",
       "      <td>45.478311</td>\n",
       "      <td>16</td>\n",
       "      <td>False</td>\n",
       "      <td>...</td>\n",
       "      <td>NaN</td>\n",
       "      <td>NaN</td>\n",
       "      <td>посёлок Шушары</td>\n",
       "      <td>12430.0</td>\n",
       "      <td>18217.0</td>\n",
       "      <td>0.0</td>\n",
       "      <td>NaN</td>\n",
       "      <td>0.0</td>\n",
       "      <td>NaN</td>\n",
       "      <td>60.0</td>\n",
       "    </tr>\n",
       "    <tr>\n",
       "      <td>133</td>\n",
       "      <td>12</td>\n",
       "      <td>3150000.0</td>\n",
       "      <td>31.0</td>\n",
       "      <td>2018-03-23T00:00:00</td>\n",
       "      <td>1</td>\n",
       "      <td>2.65</td>\n",
       "      <td>25.0</td>\n",
       "      <td>17.513387</td>\n",
       "      <td>6</td>\n",
       "      <td>False</td>\n",
       "      <td>...</td>\n",
       "      <td>NaN</td>\n",
       "      <td>NaN</td>\n",
       "      <td>посёлок Мурино</td>\n",
       "      <td>NaN</td>\n",
       "      <td>NaN</td>\n",
       "      <td>NaN</td>\n",
       "      <td>NaN</td>\n",
       "      <td>NaN</td>\n",
       "      <td>NaN</td>\n",
       "      <td>78.0</td>\n",
       "    </tr>\n",
       "    <tr>\n",
       "      <td>144</td>\n",
       "      <td>1</td>\n",
       "      <td>2450000.0</td>\n",
       "      <td>27.0</td>\n",
       "      <td>2017-03-30T00:00:00</td>\n",
       "      <td>0</td>\n",
       "      <td>2.65</td>\n",
       "      <td>24.0</td>\n",
       "      <td>15.500000</td>\n",
       "      <td>2</td>\n",
       "      <td>False</td>\n",
       "      <td>...</td>\n",
       "      <td>NaN</td>\n",
       "      <td>2.0</td>\n",
       "      <td>посёлок Мурино</td>\n",
       "      <td>NaN</td>\n",
       "      <td>NaN</td>\n",
       "      <td>NaN</td>\n",
       "      <td>NaN</td>\n",
       "      <td>NaN</td>\n",
       "      <td>NaN</td>\n",
       "      <td>181.0</td>\n",
       "    </tr>\n",
       "  </tbody>\n",
       "</table>\n",
       "<p>10 rows × 22 columns</p>\n",
       "</div>"
      ],
      "text/plain": [
       "     total_images  last_price  total_area first_day_exposition  rooms  \\\n",
       "3               0  64900000.0       159.0  2015-07-24T00:00:00      3   \n",
       "30             12   2200000.0        32.8  2018-02-19T00:00:00      1   \n",
       "37             10   1990000.0        45.8  2017-10-28T00:00:00      2   \n",
       "44             13   5350000.0        40.0  2018-11-18T00:00:00      1   \n",
       "59             15   6300000.0        46.5  2017-03-06T00:00:00      1   \n",
       "60              3   2740000.0        35.0  2018-01-01T00:00:00      1   \n",
       "81              9  10949000.0        68.0  2018-12-27T00:00:00      1   \n",
       "82              3   4500000.0        80.5  2018-01-15T00:00:00      3   \n",
       "133            12   3150000.0        31.0  2018-03-23T00:00:00      1   \n",
       "144             1   2450000.0        27.0  2017-03-30T00:00:00      0   \n",
       "\n",
       "     ceiling_height  floors_total  living_area  floor  is_apartment  ...  \\\n",
       "3              2.65          14.0    89.826726      9         False  ...   \n",
       "30             2.65           9.0    18.530293      2         False  ...   \n",
       "37             2.50           5.0    25.874617      1         False  ...   \n",
       "44             2.65          22.0    22.597918      3         False  ...   \n",
       "59             2.65          13.0    26.270080     13         False  ...   \n",
       "60             2.65          12.0    19.773179      8         False  ...   \n",
       "81             2.65          10.0    38.416461      6         False  ...   \n",
       "82             2.65          25.0    45.478311     16         False  ...   \n",
       "133            2.65          25.0    17.513387      6         False  ...   \n",
       "144            2.65          24.0    15.500000      2         False  ...   \n",
       "\n",
       "     kitchen_area  balcony                        locality_name  \\\n",
       "3             NaN      0.0                      Санкт-Петербург   \n",
       "30            NaN      NaN                             Коммунар   \n",
       "37            NaN      NaN  поселок городского типа Красный Бор   \n",
       "44            NaN      1.0                      Санкт-Петербург   \n",
       "59            NaN      NaN                      Санкт-Петербург   \n",
       "60            NaN      NaN                       посёлок Мурино   \n",
       "81            NaN      NaN                      Санкт-Петербург   \n",
       "82            NaN      NaN                       посёлок Шушары   \n",
       "133           NaN      NaN                       посёлок Мурино   \n",
       "144           NaN      2.0                       посёлок Мурино   \n",
       "\n",
       "     airports_nearest city_centers_nearest  parks_around3000  parks_nearest  \\\n",
       "3             28098.0               6800.0               2.0           84.0   \n",
       "30                NaN                  NaN               NaN            NaN   \n",
       "37                NaN                  NaN               NaN            NaN   \n",
       "44            30471.0              11603.0               1.0          620.0   \n",
       "59            11125.0              14501.0               0.0            NaN   \n",
       "60                NaN                  NaN               NaN            NaN   \n",
       "81                NaN                  NaN               NaN            NaN   \n",
       "82            12430.0              18217.0               0.0            NaN   \n",
       "133               NaN                  NaN               NaN            NaN   \n",
       "144               NaN                  NaN               NaN            NaN   \n",
       "\n",
       "     ponds_around3000  ponds_nearest  days_exposition  \n",
       "3                 3.0          234.0            424.0  \n",
       "30                NaN            NaN             63.0  \n",
       "37                NaN            NaN            196.0  \n",
       "44                1.0         1152.0              NaN  \n",
       "59                0.0            NaN            336.0  \n",
       "60                NaN            NaN             11.0  \n",
       "81                NaN            NaN              NaN  \n",
       "82                0.0            NaN             60.0  \n",
       "133               NaN            NaN             78.0  \n",
       "144               NaN            NaN            181.0  \n",
       "\n",
       "[10 rows x 22 columns]"
      ]
     },
     "execution_count": 17,
     "metadata": {},
     "output_type": "execute_result"
    }
   ],
   "source": [
    "df[df['kitchen_area'].isna()].head(10)"
   ]
  },
  {
   "cell_type": "code",
   "execution_count": 18,
   "metadata": {},
   "outputs": [
    {
     "data": {
      "text/plain": [
       "0        25.000000\n",
       "1        11.000000\n",
       "2         8.300000\n",
       "3        29.784520\n",
       "4        41.000000\n",
       "           ...    \n",
       "23694    13.830000\n",
       "23695     8.500000\n",
       "23696    10.621272\n",
       "23697    23.300000\n",
       "23698     9.000000\n",
       "Name: kitchen_area, Length: 23613, dtype: float64"
      ]
     },
     "execution_count": 18,
     "metadata": {},
     "output_type": "execute_result"
    }
   ],
   "source": [
    "mean_area_kitchen = (df['kitchen_area']/df['total_area']).mean() # среднее соотношение куханной площади от общей\n",
    "df['kitchen_area'] = df['kitchen_area'].fillna(df['total_area']*mean_area_kitchen)\n",
    "df['kitchen_area']"
   ]
  },
  {
   "cell_type": "code",
   "execution_count": 19,
   "metadata": {},
   "outputs": [],
   "source": [
    "df['studio'] = df.loc[df['studio']==True, 'kitchen_area'] = 0\n"
   ]
  },
  {
   "cell_type": "code",
   "execution_count": 20,
   "metadata": {},
   "outputs": [],
   "source": [
    "df['oprn_plan'] = df.loc[df['open_plan']==True, 'kitchen_area'] = 0"
   ]
  },
  {
   "cell_type": "code",
   "execution_count": 21,
   "metadata": {},
   "outputs": [
    {
     "data": {
      "text/plain": [
       "0"
      ]
     },
     "execution_count": 21,
     "metadata": {},
     "output_type": "execute_result"
    }
   ],
   "source": [
    "df['kitchen_area'].isna().sum()"
   ]
  },
  {
   "cell_type": "markdown",
   "metadata": {},
   "source": [
    "В данном столбце применён тот же способ, что и с столбцом 'living_area' с некоторыми корректировками. Ведь о кухонной площади в студии и квартирах(общей планировки) мы знаем, они равны 0."
   ]
  },
  {
   "cell_type": "markdown",
   "metadata": {},
   "source": [
    "**Столбец 'balcony'**"
   ]
  },
  {
   "cell_type": "code",
   "execution_count": 22,
   "metadata": {},
   "outputs": [
    {
     "data": {
      "text/plain": [
       "0"
      ]
     },
     "execution_count": 22,
     "metadata": {},
     "output_type": "execute_result"
    }
   ],
   "source": [
    "df['balcony'] = df['balcony'].fillna(0)\n",
    "df['balcony'].isna().sum()"
   ]
  },
  {
   "cell_type": "markdown",
   "metadata": {},
   "source": [
    "В данном столбце пропуски заменены 0, так как можно предположить, что у кого нет балкона, не заполнял данную строчку."
   ]
  },
  {
   "cell_type": "markdown",
   "metadata": {},
   "source": [
    "**Столбец 'locality_name'**"
   ]
  },
  {
   "cell_type": "code",
   "execution_count": 23,
   "metadata": {},
   "outputs": [],
   "source": [
    "df = df.dropna(subset=['locality_name'])"
   ]
  },
  {
   "cell_type": "code",
   "execution_count": 24,
   "metadata": {},
   "outputs": [
    {
     "data": {
      "text/plain": [
       "0"
      ]
     },
     "execution_count": 24,
     "metadata": {},
     "output_type": "execute_result"
    }
   ],
   "source": [
    "df['locality_name'].isna().sum()"
   ]
  },
  {
   "cell_type": "markdown",
   "metadata": {},
   "source": [
    "В данном столбце решено удалить строки с пропусками, так как их количество ничтожно мало и на результаты оно не повлияет."
   ]
  },
  {
   "cell_type": "markdown",
   "metadata": {},
   "source": [
    "**Столбец 'days_exposition' и столбец 'city_centers_nearest'**"
   ]
  },
  {
   "cell_type": "markdown",
   "metadata": {},
   "source": [
    "Данные столбцы имеют значительное количество пропусков, но заменить мы их не можем, так как невозможно рационально подобрать подходящий метод. Поэтому оставляем без изменений.\n"
   ]
  },
  {
   "cell_type": "markdown",
   "metadata": {},
   "source": [
    "Пропуски в остальных столбцах, я заполнять не буду, так как для моего исследования они мне не нужны."
   ]
  },
  {
   "cell_type": "markdown",
   "metadata": {},
   "source": [
    "Приведем данные к нужному типу"
   ]
  },
  {
   "cell_type": "code",
   "execution_count": 25,
   "metadata": {},
   "outputs": [
    {
     "name": "stdout",
     "output_type": "stream",
     "text": [
      "<class 'pandas.core.frame.DataFrame'>\n",
      "Int64Index: 23565 entries, 0 to 23698\n",
      "Data columns (total 23 columns):\n",
      "total_images            23565 non-null int64\n",
      "last_price              23565 non-null float64\n",
      "total_area              23565 non-null float64\n",
      "first_day_exposition    23565 non-null object\n",
      "rooms                   23565 non-null int64\n",
      "ceiling_height          23565 non-null float64\n",
      "floors_total            23565 non-null float64\n",
      "living_area             23565 non-null float64\n",
      "floor                   23565 non-null int64\n",
      "is_apartment            23565 non-null bool\n",
      "studio                  23565 non-null int64\n",
      "open_plan               23565 non-null bool\n",
      "kitchen_area            23565 non-null float64\n",
      "balcony                 23565 non-null float64\n",
      "locality_name           23565 non-null object\n",
      "airports_nearest        18041 non-null float64\n",
      "city_centers_nearest    18064 non-null float64\n",
      "parks_around3000        18065 non-null float64\n",
      "parks_nearest           8030 non-null float64\n",
      "ponds_around3000        18065 non-null float64\n",
      "ponds_nearest           9036 non-null float64\n",
      "days_exposition         20394 non-null float64\n",
      "oprn_plan               23565 non-null int64\n",
      "dtypes: bool(2), float64(14), int64(5), object(2)\n",
      "memory usage: 4.0+ MB\n"
     ]
    }
   ],
   "source": [
    "df.info()"
   ]
  },
  {
   "cell_type": "markdown",
   "metadata": {},
   "source": [
    "Столбцы 'floors_total', 'balcony'. Должны быть целочисленные, так как этаж и балкон не могут иметь дробные значения."
   ]
  },
  {
   "cell_type": "code",
   "execution_count": 26,
   "metadata": {},
   "outputs": [],
   "source": [
    "df['floors_total'] = df['floors_total'].astype(int)"
   ]
  },
  {
   "cell_type": "code",
   "execution_count": 27,
   "metadata": {},
   "outputs": [],
   "source": [
    "df['balcony'] = df['balcony'].astype(int)"
   ]
  },
  {
   "cell_type": "markdown",
   "metadata": {},
   "source": [
    "В некоторых столбцах очень большая дробная часть, и чтобы визуально легче было изучать данные, нужно \"отбросить\" её."
   ]
  },
  {
   "cell_type": "code",
   "execution_count": 28,
   "metadata": {},
   "outputs": [
    {
     "data": {
      "text/html": [
       "<div>\n",
       "<style scoped>\n",
       "    .dataframe tbody tr th:only-of-type {\n",
       "        vertical-align: middle;\n",
       "    }\n",
       "\n",
       "    .dataframe tbody tr th {\n",
       "        vertical-align: top;\n",
       "    }\n",
       "\n",
       "    .dataframe thead th {\n",
       "        text-align: right;\n",
       "    }\n",
       "</style>\n",
       "<table border=\"1\" class=\"dataframe\">\n",
       "  <thead>\n",
       "    <tr style=\"text-align: right;\">\n",
       "      <th></th>\n",
       "      <th>total_images</th>\n",
       "      <th>last_price</th>\n",
       "      <th>total_area</th>\n",
       "      <th>first_day_exposition</th>\n",
       "      <th>rooms</th>\n",
       "      <th>ceiling_height</th>\n",
       "      <th>floors_total</th>\n",
       "      <th>living_area</th>\n",
       "      <th>floor</th>\n",
       "      <th>is_apartment</th>\n",
       "      <th>...</th>\n",
       "      <th>balcony</th>\n",
       "      <th>locality_name</th>\n",
       "      <th>airports_nearest</th>\n",
       "      <th>city_centers_nearest</th>\n",
       "      <th>parks_around3000</th>\n",
       "      <th>parks_nearest</th>\n",
       "      <th>ponds_around3000</th>\n",
       "      <th>ponds_nearest</th>\n",
       "      <th>days_exposition</th>\n",
       "      <th>oprn_plan</th>\n",
       "    </tr>\n",
       "  </thead>\n",
       "  <tbody>\n",
       "    <tr>\n",
       "      <td>0</td>\n",
       "      <td>20</td>\n",
       "      <td>13000000.0</td>\n",
       "      <td>108.0</td>\n",
       "      <td>2019-03-07T00:00:00</td>\n",
       "      <td>3</td>\n",
       "      <td>2.70</td>\n",
       "      <td>16</td>\n",
       "      <td>51.000000</td>\n",
       "      <td>8</td>\n",
       "      <td>False</td>\n",
       "      <td>...</td>\n",
       "      <td>0</td>\n",
       "      <td>Санкт-Петербург</td>\n",
       "      <td>18863.0</td>\n",
       "      <td>16028.0</td>\n",
       "      <td>1.0</td>\n",
       "      <td>482.0</td>\n",
       "      <td>2.0</td>\n",
       "      <td>755.0</td>\n",
       "      <td>NaN</td>\n",
       "      <td>0</td>\n",
       "    </tr>\n",
       "    <tr>\n",
       "      <td>1</td>\n",
       "      <td>7</td>\n",
       "      <td>3350000.0</td>\n",
       "      <td>40.4</td>\n",
       "      <td>2018-12-04T00:00:00</td>\n",
       "      <td>1</td>\n",
       "      <td>2.65</td>\n",
       "      <td>11</td>\n",
       "      <td>18.600000</td>\n",
       "      <td>1</td>\n",
       "      <td>False</td>\n",
       "      <td>...</td>\n",
       "      <td>2</td>\n",
       "      <td>посёлок Шушары</td>\n",
       "      <td>12817.0</td>\n",
       "      <td>18603.0</td>\n",
       "      <td>0.0</td>\n",
       "      <td>NaN</td>\n",
       "      <td>0.0</td>\n",
       "      <td>NaN</td>\n",
       "      <td>81.0</td>\n",
       "      <td>0</td>\n",
       "    </tr>\n",
       "    <tr>\n",
       "      <td>2</td>\n",
       "      <td>10</td>\n",
       "      <td>5196000.0</td>\n",
       "      <td>56.0</td>\n",
       "      <td>2015-08-20T00:00:00</td>\n",
       "      <td>2</td>\n",
       "      <td>2.65</td>\n",
       "      <td>5</td>\n",
       "      <td>34.300000</td>\n",
       "      <td>4</td>\n",
       "      <td>False</td>\n",
       "      <td>...</td>\n",
       "      <td>0</td>\n",
       "      <td>Санкт-Петербург</td>\n",
       "      <td>21741.0</td>\n",
       "      <td>13933.0</td>\n",
       "      <td>1.0</td>\n",
       "      <td>90.0</td>\n",
       "      <td>2.0</td>\n",
       "      <td>574.0</td>\n",
       "      <td>558.0</td>\n",
       "      <td>0</td>\n",
       "    </tr>\n",
       "    <tr>\n",
       "      <td>3</td>\n",
       "      <td>0</td>\n",
       "      <td>64900000.0</td>\n",
       "      <td>159.0</td>\n",
       "      <td>2015-07-24T00:00:00</td>\n",
       "      <td>3</td>\n",
       "      <td>2.65</td>\n",
       "      <td>14</td>\n",
       "      <td>89.826726</td>\n",
       "      <td>9</td>\n",
       "      <td>False</td>\n",
       "      <td>...</td>\n",
       "      <td>0</td>\n",
       "      <td>Санкт-Петербург</td>\n",
       "      <td>28098.0</td>\n",
       "      <td>6800.0</td>\n",
       "      <td>2.0</td>\n",
       "      <td>84.0</td>\n",
       "      <td>3.0</td>\n",
       "      <td>234.0</td>\n",
       "      <td>424.0</td>\n",
       "      <td>0</td>\n",
       "    </tr>\n",
       "    <tr>\n",
       "      <td>4</td>\n",
       "      <td>2</td>\n",
       "      <td>10000000.0</td>\n",
       "      <td>100.0</td>\n",
       "      <td>2018-06-19T00:00:00</td>\n",
       "      <td>2</td>\n",
       "      <td>3.03</td>\n",
       "      <td>14</td>\n",
       "      <td>32.000000</td>\n",
       "      <td>13</td>\n",
       "      <td>False</td>\n",
       "      <td>...</td>\n",
       "      <td>0</td>\n",
       "      <td>Санкт-Петербург</td>\n",
       "      <td>31856.0</td>\n",
       "      <td>8098.0</td>\n",
       "      <td>2.0</td>\n",
       "      <td>112.0</td>\n",
       "      <td>1.0</td>\n",
       "      <td>48.0</td>\n",
       "      <td>121.0</td>\n",
       "      <td>0</td>\n",
       "    </tr>\n",
       "  </tbody>\n",
       "</table>\n",
       "<p>5 rows × 23 columns</p>\n",
       "</div>"
      ],
      "text/plain": [
       "   total_images  last_price  total_area first_day_exposition  rooms  \\\n",
       "0            20  13000000.0       108.0  2019-03-07T00:00:00      3   \n",
       "1             7   3350000.0        40.4  2018-12-04T00:00:00      1   \n",
       "2            10   5196000.0        56.0  2015-08-20T00:00:00      2   \n",
       "3             0  64900000.0       159.0  2015-07-24T00:00:00      3   \n",
       "4             2  10000000.0       100.0  2018-06-19T00:00:00      2   \n",
       "\n",
       "   ceiling_height  floors_total  living_area  floor  is_apartment  ...  \\\n",
       "0            2.70            16    51.000000      8         False  ...   \n",
       "1            2.65            11    18.600000      1         False  ...   \n",
       "2            2.65             5    34.300000      4         False  ...   \n",
       "3            2.65            14    89.826726      9         False  ...   \n",
       "4            3.03            14    32.000000     13         False  ...   \n",
       "\n",
       "   balcony    locality_name  airports_nearest  city_centers_nearest  \\\n",
       "0        0  Санкт-Петербург           18863.0               16028.0   \n",
       "1        2   посёлок Шушары           12817.0               18603.0   \n",
       "2        0  Санкт-Петербург           21741.0               13933.0   \n",
       "3        0  Санкт-Петербург           28098.0                6800.0   \n",
       "4        0  Санкт-Петербург           31856.0                8098.0   \n",
       "\n",
       "  parks_around3000  parks_nearest  ponds_around3000  ponds_nearest  \\\n",
       "0              1.0          482.0               2.0          755.0   \n",
       "1              0.0            NaN               0.0            NaN   \n",
       "2              1.0           90.0               2.0          574.0   \n",
       "3              2.0           84.0               3.0          234.0   \n",
       "4              2.0          112.0               1.0           48.0   \n",
       "\n",
       "   days_exposition  oprn_plan  \n",
       "0              NaN          0  \n",
       "1             81.0          0  \n",
       "2            558.0          0  \n",
       "3            424.0          0  \n",
       "4            121.0          0  \n",
       "\n",
       "[5 rows x 23 columns]"
      ]
     },
     "execution_count": 28,
     "metadata": {},
     "output_type": "execute_result"
    }
   ],
   "source": [
    "df.head()"
   ]
  },
  {
   "cell_type": "markdown",
   "metadata": {},
   "source": [
    "В данном столбце должен тип данных datetime, потому что в таком типе должна хранится данные о дате."
   ]
  },
  {
   "cell_type": "code",
   "execution_count": 29,
   "metadata": {},
   "outputs": [
    {
     "data": {
      "text/plain": [
       "0   2019-03-07\n",
       "1   2018-12-04\n",
       "2   2015-08-20\n",
       "3   2015-07-24\n",
       "4   2018-06-19\n",
       "Name: first_day_exposition, dtype: datetime64[ns]"
      ]
     },
     "execution_count": 29,
     "metadata": {},
     "output_type": "execute_result"
    }
   ],
   "source": [
    "df['first_day_exposition'] = pd.to_datetime(df['first_day_exposition'], format='%Y-%m-%dT%H:%M:%S')\n",
    "df['first_day_exposition'].head()"
   ]
  },
  {
   "cell_type": "markdown",
   "metadata": {},
   "source": [
    "**Вывод**\n",
    "\n",
    "В данном этапе исправлена проблема с пропусками (где это возможно), преобразованы данные в нужный тип."
   ]
  },
  {
   "cell_type": "markdown",
   "metadata": {},
   "source": [
    "## Расчёты и добавление результатов в таблицу"
   ]
  },
  {
   "cell_type": "markdown",
   "metadata": {},
   "source": [
    "**Рассчитаем и добавим в таблицу цену 1 метра квадратного**"
   ]
  },
  {
   "cell_type": "code",
   "execution_count": 30,
   "metadata": {},
   "outputs": [],
   "source": [
    "df['price_metr'] = df['last_price'] / df['total_area']"
   ]
  },
  {
   "cell_type": "code",
   "execution_count": 31,
   "metadata": {},
   "outputs": [
    {
     "data": {
      "text/plain": [
       "count    2.356500e+04\n",
       "mean     9.940584e+04\n",
       "std      5.038943e+04\n",
       "min      1.118349e+02\n",
       "25%      7.656613e+04\n",
       "50%      9.500000e+04\n",
       "75%      1.142132e+05\n",
       "max      1.907500e+06\n",
       "Name: price_metr, dtype: float64"
      ]
     },
     "execution_count": 31,
     "metadata": {},
     "output_type": "execute_result"
    }
   ],
   "source": [
    "df['price_metr'].describe()"
   ]
  },
  {
   "cell_type": "markdown",
   "metadata": {},
   "source": [
    "**Рассчитаем и добавим в таблицу денб недели, месяц, год побликации**"
   ]
  },
  {
   "cell_type": "markdown",
   "metadata": {},
   "source": [
    "День недели"
   ]
  },
  {
   "cell_type": "code",
   "execution_count": 32,
   "metadata": {},
   "outputs": [],
   "source": [
    "df['weekday'] = pd.DatetimeIndex(df['first_day_exposition']).weekday"
   ]
  },
  {
   "cell_type": "markdown",
   "metadata": {},
   "source": [
    "Месяц"
   ]
  },
  {
   "cell_type": "code",
   "execution_count": 33,
   "metadata": {},
   "outputs": [],
   "source": [
    "df['month'] = pd.DatetimeIndex(df['first_day_exposition']).month"
   ]
  },
  {
   "cell_type": "markdown",
   "metadata": {},
   "source": [
    "Год"
   ]
  },
  {
   "cell_type": "code",
   "execution_count": 34,
   "metadata": {},
   "outputs": [],
   "source": [
    "df['year'] = pd.DatetimeIndex(df['first_day_exposition']).year"
   ]
  },
  {
   "cell_type": "code",
   "execution_count": 35,
   "metadata": {},
   "outputs": [
    {
     "data": {
      "text/html": [
       "<div>\n",
       "<style scoped>\n",
       "    .dataframe tbody tr th:only-of-type {\n",
       "        vertical-align: middle;\n",
       "    }\n",
       "\n",
       "    .dataframe tbody tr th {\n",
       "        vertical-align: top;\n",
       "    }\n",
       "\n",
       "    .dataframe thead th {\n",
       "        text-align: right;\n",
       "    }\n",
       "</style>\n",
       "<table border=\"1\" class=\"dataframe\">\n",
       "  <thead>\n",
       "    <tr style=\"text-align: right;\">\n",
       "      <th></th>\n",
       "      <th>first_day_exposition</th>\n",
       "      <th>weekday</th>\n",
       "      <th>month</th>\n",
       "      <th>year</th>\n",
       "    </tr>\n",
       "  </thead>\n",
       "  <tbody>\n",
       "    <tr>\n",
       "      <td>0</td>\n",
       "      <td>2019-03-07</td>\n",
       "      <td>3</td>\n",
       "      <td>3</td>\n",
       "      <td>2019</td>\n",
       "    </tr>\n",
       "    <tr>\n",
       "      <td>1</td>\n",
       "      <td>2018-12-04</td>\n",
       "      <td>1</td>\n",
       "      <td>12</td>\n",
       "      <td>2018</td>\n",
       "    </tr>\n",
       "    <tr>\n",
       "      <td>2</td>\n",
       "      <td>2015-08-20</td>\n",
       "      <td>3</td>\n",
       "      <td>8</td>\n",
       "      <td>2015</td>\n",
       "    </tr>\n",
       "    <tr>\n",
       "      <td>3</td>\n",
       "      <td>2015-07-24</td>\n",
       "      <td>4</td>\n",
       "      <td>7</td>\n",
       "      <td>2015</td>\n",
       "    </tr>\n",
       "    <tr>\n",
       "      <td>4</td>\n",
       "      <td>2018-06-19</td>\n",
       "      <td>1</td>\n",
       "      <td>6</td>\n",
       "      <td>2018</td>\n",
       "    </tr>\n",
       "  </tbody>\n",
       "</table>\n",
       "</div>"
      ],
      "text/plain": [
       "  first_day_exposition  weekday  month  year\n",
       "0           2019-03-07        3      3  2019\n",
       "1           2018-12-04        1     12  2018\n",
       "2           2015-08-20        3      8  2015\n",
       "3           2015-07-24        4      7  2015\n",
       "4           2018-06-19        1      6  2018"
      ]
     },
     "execution_count": 35,
     "metadata": {},
     "output_type": "execute_result"
    }
   ],
   "source": [
    "df[['first_day_exposition', 'weekday', 'month', 'year']].head() # проверяем результат"
   ]
  },
  {
   "cell_type": "markdown",
   "metadata": {},
   "source": [
    "**Определим этаж квартиры**"
   ]
  },
  {
   "cell_type": "markdown",
   "metadata": {},
   "source": [
    "Для этого создадим функцию, которая поможет категоризировать этаж квартиры на:\n",
    "- первый\n",
    "- последний\n",
    "- другой"
   ]
  },
  {
   "cell_type": "code",
   "execution_count": 36,
   "metadata": {},
   "outputs": [],
   "source": [
    "def floor_level(row):\n",
    "    floor = row['floor']\n",
    "    floors_total = row['floors_total']\n",
    "    if floor == 1:\n",
    "        return 'первый'\n",
    "    elif floor == floors_total:\n",
    "        return 'последний'\n",
    "    else:\n",
    "        return 'другой'"
   ]
  },
  {
   "cell_type": "code",
   "execution_count": 37,
   "metadata": {},
   "outputs": [],
   "source": [
    "df['floor_level'] = df.apply(floor_level, axis=1)\n"
   ]
  },
  {
   "cell_type": "code",
   "execution_count": 38,
   "metadata": {},
   "outputs": [
    {
     "data": {
      "text/html": [
       "<div>\n",
       "<style scoped>\n",
       "    .dataframe tbody tr th:only-of-type {\n",
       "        vertical-align: middle;\n",
       "    }\n",
       "\n",
       "    .dataframe tbody tr th {\n",
       "        vertical-align: top;\n",
       "    }\n",
       "\n",
       "    .dataframe thead th {\n",
       "        text-align: right;\n",
       "    }\n",
       "</style>\n",
       "<table border=\"1\" class=\"dataframe\">\n",
       "  <thead>\n",
       "    <tr style=\"text-align: right;\">\n",
       "      <th></th>\n",
       "      <th>floor</th>\n",
       "      <th>floors_total</th>\n",
       "      <th>floor_level</th>\n",
       "    </tr>\n",
       "  </thead>\n",
       "  <tbody>\n",
       "    <tr>\n",
       "      <td>0</td>\n",
       "      <td>8</td>\n",
       "      <td>16</td>\n",
       "      <td>другой</td>\n",
       "    </tr>\n",
       "    <tr>\n",
       "      <td>1</td>\n",
       "      <td>1</td>\n",
       "      <td>11</td>\n",
       "      <td>первый</td>\n",
       "    </tr>\n",
       "    <tr>\n",
       "      <td>2</td>\n",
       "      <td>4</td>\n",
       "      <td>5</td>\n",
       "      <td>другой</td>\n",
       "    </tr>\n",
       "    <tr>\n",
       "      <td>3</td>\n",
       "      <td>9</td>\n",
       "      <td>14</td>\n",
       "      <td>другой</td>\n",
       "    </tr>\n",
       "    <tr>\n",
       "      <td>4</td>\n",
       "      <td>13</td>\n",
       "      <td>14</td>\n",
       "      <td>другой</td>\n",
       "    </tr>\n",
       "    <tr>\n",
       "      <td>5</td>\n",
       "      <td>5</td>\n",
       "      <td>12</td>\n",
       "      <td>другой</td>\n",
       "    </tr>\n",
       "    <tr>\n",
       "      <td>6</td>\n",
       "      <td>6</td>\n",
       "      <td>26</td>\n",
       "      <td>другой</td>\n",
       "    </tr>\n",
       "    <tr>\n",
       "      <td>7</td>\n",
       "      <td>22</td>\n",
       "      <td>24</td>\n",
       "      <td>другой</td>\n",
       "    </tr>\n",
       "    <tr>\n",
       "      <td>8</td>\n",
       "      <td>26</td>\n",
       "      <td>27</td>\n",
       "      <td>другой</td>\n",
       "    </tr>\n",
       "    <tr>\n",
       "      <td>9</td>\n",
       "      <td>7</td>\n",
       "      <td>9</td>\n",
       "      <td>другой</td>\n",
       "    </tr>\n",
       "  </tbody>\n",
       "</table>\n",
       "</div>"
      ],
      "text/plain": [
       "   floor  floors_total floor_level\n",
       "0      8            16      другой\n",
       "1      1            11      первый\n",
       "2      4             5      другой\n",
       "3      9            14      другой\n",
       "4     13            14      другой\n",
       "5      5            12      другой\n",
       "6      6            26      другой\n",
       "7     22            24      другой\n",
       "8     26            27      другой\n",
       "9      7             9      другой"
      ]
     },
     "execution_count": 38,
     "metadata": {},
     "output_type": "execute_result"
    }
   ],
   "source": [
    "df[['floor', 'floors_total', 'floor_level']].head(10) # проверяем результат"
   ]
  },
  {
   "cell_type": "markdown",
   "metadata": {},
   "source": [
    "**Определим отношение жилой площади к общей и площади кухни к общей**"
   ]
  },
  {
   "cell_type": "markdown",
   "metadata": {},
   "source": [
    "Отношение жилой площади к общей"
   ]
  },
  {
   "cell_type": "code",
   "execution_count": 39,
   "metadata": {},
   "outputs": [],
   "source": [
    "df['living_to_total'] = (df['living_area'] / df['total_area']).round(2) # округляя до сотых"
   ]
  },
  {
   "cell_type": "markdown",
   "metadata": {},
   "source": [
    "Отношение площади кухни к общей "
   ]
  },
  {
   "cell_type": "code",
   "execution_count": 40,
   "metadata": {},
   "outputs": [],
   "source": [
    "df['kitchen_to_total'] = (df['kitchen_area'] / df['total_area']).round(2)"
   ]
  },
  {
   "cell_type": "code",
   "execution_count": 41,
   "metadata": {},
   "outputs": [
    {
     "data": {
      "text/html": [
       "<div>\n",
       "<style scoped>\n",
       "    .dataframe tbody tr th:only-of-type {\n",
       "        vertical-align: middle;\n",
       "    }\n",
       "\n",
       "    .dataframe tbody tr th {\n",
       "        vertical-align: top;\n",
       "    }\n",
       "\n",
       "    .dataframe thead th {\n",
       "        text-align: right;\n",
       "    }\n",
       "</style>\n",
       "<table border=\"1\" class=\"dataframe\">\n",
       "  <thead>\n",
       "    <tr style=\"text-align: right;\">\n",
       "      <th></th>\n",
       "      <th>total_area</th>\n",
       "      <th>living_area</th>\n",
       "      <th>kitchen_area</th>\n",
       "      <th>living_to_total</th>\n",
       "      <th>kitchen_to_total</th>\n",
       "    </tr>\n",
       "  </thead>\n",
       "  <tbody>\n",
       "    <tr>\n",
       "      <td>0</td>\n",
       "      <td>108.00</td>\n",
       "      <td>51.000000</td>\n",
       "      <td>25.00000</td>\n",
       "      <td>0.47</td>\n",
       "      <td>0.23</td>\n",
       "    </tr>\n",
       "    <tr>\n",
       "      <td>1</td>\n",
       "      <td>40.40</td>\n",
       "      <td>18.600000</td>\n",
       "      <td>11.00000</td>\n",
       "      <td>0.46</td>\n",
       "      <td>0.27</td>\n",
       "    </tr>\n",
       "    <tr>\n",
       "      <td>2</td>\n",
       "      <td>56.00</td>\n",
       "      <td>34.300000</td>\n",
       "      <td>8.30000</td>\n",
       "      <td>0.61</td>\n",
       "      <td>0.15</td>\n",
       "    </tr>\n",
       "    <tr>\n",
       "      <td>3</td>\n",
       "      <td>159.00</td>\n",
       "      <td>89.826726</td>\n",
       "      <td>29.78452</td>\n",
       "      <td>0.56</td>\n",
       "      <td>0.19</td>\n",
       "    </tr>\n",
       "    <tr>\n",
       "      <td>4</td>\n",
       "      <td>100.00</td>\n",
       "      <td>32.000000</td>\n",
       "      <td>41.00000</td>\n",
       "      <td>0.32</td>\n",
       "      <td>0.41</td>\n",
       "    </tr>\n",
       "    <tr>\n",
       "      <td>5</td>\n",
       "      <td>30.40</td>\n",
       "      <td>14.400000</td>\n",
       "      <td>9.10000</td>\n",
       "      <td>0.47</td>\n",
       "      <td>0.30</td>\n",
       "    </tr>\n",
       "    <tr>\n",
       "      <td>6</td>\n",
       "      <td>37.30</td>\n",
       "      <td>10.600000</td>\n",
       "      <td>14.40000</td>\n",
       "      <td>0.28</td>\n",
       "      <td>0.39</td>\n",
       "    </tr>\n",
       "    <tr>\n",
       "      <td>7</td>\n",
       "      <td>71.60</td>\n",
       "      <td>40.450274</td>\n",
       "      <td>18.90000</td>\n",
       "      <td>0.56</td>\n",
       "      <td>0.26</td>\n",
       "    </tr>\n",
       "    <tr>\n",
       "      <td>8</td>\n",
       "      <td>33.16</td>\n",
       "      <td>15.430000</td>\n",
       "      <td>8.81000</td>\n",
       "      <td>0.47</td>\n",
       "      <td>0.27</td>\n",
       "    </tr>\n",
       "    <tr>\n",
       "      <td>9</td>\n",
       "      <td>61.00</td>\n",
       "      <td>43.600000</td>\n",
       "      <td>6.50000</td>\n",
       "      <td>0.71</td>\n",
       "      <td>0.11</td>\n",
       "    </tr>\n",
       "  </tbody>\n",
       "</table>\n",
       "</div>"
      ],
      "text/plain": [
       "   total_area  living_area  kitchen_area  living_to_total  kitchen_to_total\n",
       "0      108.00    51.000000      25.00000             0.47              0.23\n",
       "1       40.40    18.600000      11.00000             0.46              0.27\n",
       "2       56.00    34.300000       8.30000             0.61              0.15\n",
       "3      159.00    89.826726      29.78452             0.56              0.19\n",
       "4      100.00    32.000000      41.00000             0.32              0.41\n",
       "5       30.40    14.400000       9.10000             0.47              0.30\n",
       "6       37.30    10.600000      14.40000             0.28              0.39\n",
       "7       71.60    40.450274      18.90000             0.56              0.26\n",
       "8       33.16    15.430000       8.81000             0.47              0.27\n",
       "9       61.00    43.600000       6.50000             0.71              0.11"
      ]
     },
     "execution_count": 41,
     "metadata": {},
     "output_type": "execute_result"
    }
   ],
   "source": [
    "df[['total_area', 'living_area', 'kitchen_area', 'living_to_total', 'kitchen_to_total']].head(10)"
   ]
  },
  {
   "cell_type": "markdown",
   "metadata": {},
   "source": [
    "**Вывод**\n",
    "\n",
    "На данном шаге проведены расчёты и добавлены в таблицу: \n",
    "\n",
    "- цена 1 метра\n",
    "\n",
    "- день недели, месяц и год подачи объявления\n",
    "\n",
    "- жилая площадь/общая площадь и площадь кухни/общая площадь"
   ]
  },
  {
   "cell_type": "markdown",
   "metadata": {},
   "source": [
    "## Исследовательский анализ данных"
   ]
  },
  {
   "cell_type": "markdown",
   "metadata": {},
   "source": [
    "Изучим такой параметр, как **площадь** и построем график"
   ]
  },
  {
   "cell_type": "code",
   "execution_count": 42,
   "metadata": {},
   "outputs": [
    {
     "data": {
      "text/plain": [
       "count    23565.0\n",
       "mean        60.0\n",
       "std         36.0\n",
       "min         12.0\n",
       "25%         40.0\n",
       "50%         52.0\n",
       "75%         70.0\n",
       "max        900.0\n",
       "Name: total_area, dtype: float64"
      ]
     },
     "execution_count": 42,
     "metadata": {},
     "output_type": "execute_result"
    }
   ],
   "source": [
    "df['total_area'].describe().round()"
   ]
  },
  {
   "cell_type": "code",
   "execution_count": 43,
   "metadata": {},
   "outputs": [
    {
     "data": {
      "text/plain": [
       "<matplotlib.axes._subplots.AxesSubplot at 0x7f302e585f90>"
      ]
     },
     "execution_count": 43,
     "metadata": {},
     "output_type": "execute_result"
    },
    {
     "data": {
      "image/png": "[encoded data removed]",
      "text/plain": [
       "<Figure size 432x288 with 1 Axes>"
      ]
     },
     "metadata": {
      "needs_background": "light"
     },
     "output_type": "display_data"
    }
   ],
   "source": [
    "df['total_area'].hist(bins='auto', range=(0,1000))"
   ]
  },
  {
   "cell_type": "markdown",
   "metadata": {},
   "source": [
    "На графике мы видим, что большее количество  квартир с площадью около 50 квартир, количесвто квартир с площадью 200 кв. м и более - очень  мало.\n",
    "Для наглядности выделим отрезок с наибольшем количеством квартир."
   ]
  },
  {
   "cell_type": "code",
   "execution_count": 44,
   "metadata": {},
   "outputs": [
    {
     "data": {
      "text/plain": [
       "<matplotlib.axes._subplots.AxesSubplot at 0x7f302e61c850>"
      ]
     },
     "execution_count": 44,
     "metadata": {},
     "output_type": "execute_result"
    },
    {
     "data": {
      "image/png": "[encoded data removed]",
      "text/plain": [
       "<Figure size 432x288 with 1 Axes>"
      ]
     },
     "metadata": {
      "needs_background": "light"
     },
     "output_type": "display_data"
    }
   ],
   "source": [
    "df['total_area'].hist(bins='auto', range=(0,200))"
   ]
  },
  {
   "cell_type": "markdown",
   "metadata": {},
   "source": [
    "Теперь более четко видно, что наиболее множественна квартира площадью ~ 45 кв. м "
   ]
  },
  {
   "cell_type": "markdown",
   "metadata": {},
   "source": [
    "Исследуя график:\n",
    "\n",
    "Меньше всех квартир с площадью от 12 до 20 кв. м и в промежутке от 300 до 900 кв. м"
   ]
  },
  {
   "cell_type": "markdown",
   "metadata": {},
   "source": [
    "Изучим столбец  **цены** и построим график"
   ]
  },
  {
   "cell_type": "code",
   "execution_count": 45,
   "metadata": {},
   "outputs": [
    {
     "data": {
      "text/plain": [
       "count        23565.0\n",
       "mean       6540058.0\n",
       "std       10910935.0\n",
       "min          12190.0\n",
       "25%        3400000.0\n",
       "50%        4646000.0\n",
       "75%        6790000.0\n",
       "max      763000000.0\n",
       "Name: last_price, dtype: float64"
      ]
     },
     "execution_count": 45,
     "metadata": {},
     "output_type": "execute_result"
    }
   ],
   "source": [
    "df['last_price'].describe().round()"
   ]
  },
  {
   "cell_type": "code",
   "execution_count": 46,
   "metadata": {},
   "outputs": [
    {
     "data": {
      "text/plain": [
       "<matplotlib.axes._subplots.AxesSubplot at 0x7f302b9973d0>"
      ]
     },
     "execution_count": 46,
     "metadata": {},
     "output_type": "execute_result"
    },
    {
     "data": {
      "image/png": "[encoded data removed]",
      "text/plain": [
       "<Figure size 432x288 with 1 Axes>"
      ]
     },
     "metadata": {
      "needs_background": "light"
     },
     "output_type": "display_data"
    }
   ],
   "source": [
    "df['last_price'].hist(bins='auto')"
   ]
  },
  {
   "cell_type": "markdown",
   "metadata": {},
   "source": [
    "График вовсе не показателен, нужно урезать диапазон, чтобы разглядеть поподробнее."
   ]
  },
  {
   "cell_type": "code",
   "execution_count": 47,
   "metadata": {},
   "outputs": [
    {
     "data": {
      "text/plain": [
       "<matplotlib.axes._subplots.AxesSubplot at 0x7f30214e04d0>"
      ]
     },
     "execution_count": 47,
     "metadata": {},
     "output_type": "execute_result"
    },
    {
     "data": {
      "image/png": "[encoded data removed]",
      "text/plain": [
       "<Figure size 432x288 with 1 Axes>"
      ]
     },
     "metadata": {
      "needs_background": "light"
     },
     "output_type": "display_data"
    }
   ],
   "source": [
    "df['last_price'].hist(bins='auto', range=(0,20000000))"
   ]
  },
  {
   "cell_type": "markdown",
   "metadata": {},
   "source": [
    "Самый высокий уровень у объявления с ценой ~ 3500000, после отметки в 20000000, количество объявлений с такой ценой очень мало"
   ]
  },
  {
   "cell_type": "markdown",
   "metadata": {},
   "source": [
    "Изучим столбец **количество комнат** и построим график"
   ]
  },
  {
   "cell_type": "code",
   "execution_count": 48,
   "metadata": {},
   "outputs": [
    {
     "data": {
      "text/plain": [
       "count    23565.0\n",
       "mean         2.0\n",
       "std          1.0\n",
       "min          0.0\n",
       "25%          1.0\n",
       "50%          2.0\n",
       "75%          3.0\n",
       "max         19.0\n",
       "Name: rooms, dtype: float64"
      ]
     },
     "execution_count": 48,
     "metadata": {},
     "output_type": "execute_result"
    }
   ],
   "source": [
    "df['rooms'].describe().round()"
   ]
  },
  {
   "cell_type": "code",
   "execution_count": 49,
   "metadata": {},
   "outputs": [
    {
     "data": {
      "text/plain": [
       "<matplotlib.axes._subplots.AxesSubplot at 0x7f30234ea990>"
      ]
     },
     "execution_count": 49,
     "metadata": {},
     "output_type": "execute_result"
    },
    {
     "data": {
      "image/png": "[encoded data removed]",
      "text/plain": [
       "<Figure size 432x288 with 1 Axes>"
      ]
     },
     "metadata": {
      "needs_background": "light"
     },
     "output_type": "display_data"
    }
   ],
   "source": [
    "df['rooms'].hist(bins='auto')"
   ]
  },
  {
   "cell_type": "markdown",
   "metadata": {},
   "source": [
    "График вовсе не показателен, нужно урезать диапазон, чтобы разглядеть поподробнее."
   ]
  },
  {
   "cell_type": "code",
   "execution_count": 50,
   "metadata": {},
   "outputs": [
    {
     "data": {
      "text/plain": [
       "<matplotlib.axes._subplots.AxesSubplot at 0x7f30210f0810>"
      ]
     },
     "execution_count": 50,
     "metadata": {},
     "output_type": "execute_result"
    },
    {
     "data": {
      "image/png": "[encoded data removed]",
      "text/plain": [
       "<Figure size 432x288 with 1 Axes>"
      ]
     },
     "metadata": {
      "needs_background": "light"
     },
     "output_type": "display_data"
    }
   ],
   "source": [
    "df['rooms'].hist(bins='auto', range=(0,6))"
   ]
  },
  {
   "cell_type": "markdown",
   "metadata": {},
   "source": [
    "В данном отрезке можно точно определить, что больше всего квартир с 1 комнатой, и очень близко, по количеству, квартиры с 2 комнатами. Меньше всего объявлений квартир с 6 и более комнатами."
   ]
  },
  {
   "cell_type": "markdown",
   "metadata": {},
   "source": [
    "Изучим столбец **высота потолков** и построим график"
   ]
  },
  {
   "cell_type": "code",
   "execution_count": 51,
   "metadata": {},
   "outputs": [
    {
     "data": {
      "text/plain": [
       "count    23565.000000\n",
       "mean         2.724530\n",
       "std          0.991026\n",
       "min          1.000000\n",
       "25%          2.600000\n",
       "50%          2.650000\n",
       "75%          2.700000\n",
       "max        100.000000\n",
       "Name: ceiling_height, dtype: float64"
      ]
     },
     "execution_count": 51,
     "metadata": {},
     "output_type": "execute_result"
    }
   ],
   "source": [
    "df['ceiling_height'].describe()"
   ]
  },
  {
   "cell_type": "code",
   "execution_count": 52,
   "metadata": {},
   "outputs": [
    {
     "data": {
      "text/plain": [
       "<matplotlib.axes._subplots.AxesSubplot at 0x7f3020fc4310>"
      ]
     },
     "execution_count": 52,
     "metadata": {},
     "output_type": "execute_result"
    },
    {
     "data": {
      "image/png": "[encoded data removed]",
      "text/plain": [
       "<Figure size 432x288 with 1 Axes>"
      ]
     },
     "metadata": {
      "needs_background": "light"
     },
     "output_type": "display_data"
    }
   ],
   "source": [
    "df['ceiling_height'].hist(bins='auto')"
   ]
  },
  {
   "cell_type": "markdown",
   "metadata": {},
   "source": [
    "График вовсе не показателен, нужно урезать диапазон, чтобы разглядеть поподробнее."
   ]
  },
  {
   "cell_type": "code",
   "execution_count": 53,
   "metadata": {},
   "outputs": [
    {
     "data": {
      "text/plain": [
       "<matplotlib.axes._subplots.AxesSubplot at 0x7f3020d610d0>"
      ]
     },
     "execution_count": 53,
     "metadata": {},
     "output_type": "execute_result"
    },
    {
     "data": {
      "image/png": "[encoded data removed]",
      "text/plain": [
       "<Figure size 432x288 with 1 Axes>"
      ]
     },
     "metadata": {
      "needs_background": "light"
     },
     "output_type": "display_data"
    }
   ],
   "source": [
    "df['ceiling_height'].hist(bins='auto', range=(2.6,2.8))"
   ]
  },
  {
   "cell_type": "markdown",
   "metadata": {},
   "source": [
    "В данном отрезке можно точно определить, что больше всего квартир с высотой потолков 2.65"
   ]
  },
  {
   "cell_type": "markdown",
   "metadata": {},
   "source": [
    "Изучим **время продажи** квартиры"
   ]
  },
  {
   "cell_type": "code",
   "execution_count": 54,
   "metadata": {},
   "outputs": [
    {
     "data": {
      "text/plain": [
       "count    20394.000000\n",
       "mean       180.741395\n",
       "std        219.732782\n",
       "min          1.000000\n",
       "25%         45.000000\n",
       "50%         95.000000\n",
       "75%        231.000000\n",
       "max       1580.000000\n",
       "Name: days_exposition, dtype: float64"
      ]
     },
     "execution_count": 54,
     "metadata": {},
     "output_type": "execute_result"
    }
   ],
   "source": [
    "df['days_exposition'].describe()"
   ]
  },
  {
   "cell_type": "markdown",
   "metadata": {},
   "source": [
    "На данном выводе можно выделить среднее значение и медиану.\n",
    "\n",
    "Медиана составляет 95 дней\n",
    "\n",
    "Среднее значение ~ 181 день"
   ]
  },
  {
   "cell_type": "code",
   "execution_count": 55,
   "metadata": {},
   "outputs": [
    {
     "data": {
      "text/plain": [
       "<matplotlib.axes._subplots.AxesSubplot at 0x7f301fa9c390>"
      ]
     },
     "execution_count": 55,
     "metadata": {},
     "output_type": "execute_result"
    },
    {
     "data": {
      "image/png": "[encoded data removed]",
      "text/plain": [
       "<Figure size 432x288 with 1 Axes>"
      ]
     },
     "metadata": {
      "needs_background": "light"
     },
     "output_type": "display_data"
    }
   ],
   "source": [
    "df['days_exposition'].hist(bins='auto')"
   ]
  },
  {
   "cell_type": "markdown",
   "metadata": {},
   "source": [
    "На графике мы видим большой пик у 0. Но наибольшее значение точно определить тяжело, урежем диапазон."
   ]
  },
  {
   "cell_type": "code",
   "execution_count": 56,
   "metadata": {},
   "outputs": [
    {
     "data": {
      "text/plain": [
       "<matplotlib.axes._subplots.AxesSubplot at 0x7f3016bf5110>"
      ]
     },
     "execution_count": 56,
     "metadata": {},
     "output_type": "execute_result"
    },
    {
     "data": {
      "image/png": "[encoded data removed]",
      "text/plain": [
       "<Figure size 432x288 with 1 Axes>"
      ]
     },
     "metadata": {
      "needs_background": "light"
     },
     "output_type": "display_data"
    }
   ],
   "source": [
    "df['days_exposition'].hist(bins='auto', range=(0,400))"
   ]
  },
  {
   "cell_type": "markdown",
   "metadata": {},
   "source": [
    "Теперь видно, что больше всего объявлеий находятся на сервисе около 50 дней"
   ]
  },
  {
   "cell_type": "markdown",
   "metadata": {},
   "source": [
    "Теперь видно, что больше всего объявлений находятся на сервисе около 50 дней.\n",
    "\n",
    "Исследуя весь график можно сделать выводы и ответить на оставшиеся вопросы:\n",
    "\n",
    "1.\tВ основном время продажи составлять от 0 до 300 дней\n",
    "\n",
    "2.\tНеобычно быстрой продажей можно считать, квартиру, которая продалась в первый месяц подачи объявления.\n",
    "\n",
    "3.\tНеобычно долгой продажей можно считать, квартиру, которая продавалась дольше 2 лет и таких объявлений крайне мало (о чём свидетельствует медиана меньшая по сравнению с средним значением).\n",
    "\n",
    "Далее изучим это подробнее\n"
   ]
  },
  {
   "cell_type": "markdown",
   "metadata": {},
   "source": [
    "Анализ **редких и выбивающихся** значений"
   ]
  },
  {
   "cell_type": "code",
   "execution_count": 57,
   "metadata": {
    "scrolled": true
   },
   "outputs": [
    {
     "data": {
      "text/plain": [
       "0.14920432845321452"
      ]
     },
     "execution_count": 57,
     "metadata": {},
     "output_type": "execute_result"
    }
   ],
   "source": [
    "df['fast'] = df['days_exposition'] < 30\n",
    "mean_fast = df['fast'].mean()  # процент быстрых продаж\n",
    "mean_fast\n"
   ]
  },
  {
   "cell_type": "code",
   "execution_count": 58,
   "metadata": {},
   "outputs": [
    {
     "data": {
      "text/plain": [
       "<matplotlib.axes._subplots.AxesSubplot at 0x7f3017053b90>"
      ]
     },
     "execution_count": 58,
     "metadata": {},
     "output_type": "execute_result"
    },
    {
     "data": {
      "image/png": "[encoded data removed]",
      "text/plain": [
       "<Figure size 432x288 with 1 Axes>"
      ]
     },
     "metadata": {
      "needs_background": "light"
     },
     "output_type": "display_data"
    }
   ],
   "source": [
    "df['days_exposition'].hist(bins='auto', range=(0, 10)) # график для вывода"
   ]
  },
  {
   "cell_type": "code",
   "execution_count": 59,
   "metadata": {},
   "outputs": [
    {
     "data": {
      "text/plain": [
       "0.07074050498620836"
      ]
     },
     "execution_count": 59,
     "metadata": {},
     "output_type": "execute_result"
    }
   ],
   "source": [
    "df['slow'] = df['days_exposition'] > 510\n",
    "mean_fast = df['slow'].mean()  # процент долгих продаж\n",
    "mean_fast\n"
   ]
  },
  {
   "cell_type": "code",
   "execution_count": 60,
   "metadata": {},
   "outputs": [
    {
     "data": {
      "text/plain": [
       "<matplotlib.axes._subplots.AxesSubplot at 0x7f302e07c090>"
      ]
     },
     "execution_count": 60,
     "metadata": {},
     "output_type": "execute_result"
    },
    {
     "data": {
      "image/png": "[encoded data removed]",
      "text/plain": [
       "<Figure size 432x288 with 1 Axes>"
      ]
     },
     "metadata": {
      "needs_background": "light"
     },
     "output_type": "display_data"
    }
   ],
   "source": [
    "df['days_exposition'].hist(bins='auto', range=(30,510))"
   ]
  },
  {
   "cell_type": "markdown",
   "metadata": {},
   "source": [
    "На данном этапе можно сказать:\n",
    "\n",
    "1.\tДоля быстрых продаж составляет почти 15%, и я считаю, что это нормальная доля. Возможно, что так быстро расходятся очень выгодные предложения, также может быть снято с публикации связи, например, с мошенничеством. И как видно на графике (см график для вывода) в первые 2 дня ничтожно мало снято объявлений. Так что можно оставить данный от 4 дней.\n",
    "\n",
    "2.\tДоля долгих продаж мала (7%) их можно смело удалить. Возможно, это связано с тем, что невыгодное предложение, квартира может не продаваться совсем и в конце концов снято с публикации по истечению срока размещения. Возьмем крайнее правое значение \"уса\" для обозначения границ (рассчитанный как межквартальное размах * 1.5)\n",
    "\n",
    "И можно сделать вывод, что большинство квартир продаётся в течение полугода со дня размещения.\n"
   ]
  },
  {
   "cell_type": "code",
   "execution_count": 61,
   "metadata": {},
   "outputs": [],
   "source": [
    "ok_df = df.query('4 <= days_exposition <= 510')"
   ]
  },
  {
   "cell_type": "code",
   "execution_count": 62,
   "metadata": {},
   "outputs": [
    {
     "data": {
      "text/plain": [
       "0.4619562911096966"
      ]
     },
     "execution_count": 62,
     "metadata": {},
     "output_type": "execute_result"
    }
   ],
   "source": [
    "df['small_total_area'] = df['total_area'] < 50\n",
    "mean_small = df['small_total_area'].mean()\n",
    "mean_small"
   ]
  },
  {
   "cell_type": "code",
   "execution_count": 63,
   "metadata": {},
   "outputs": [
    {
     "data": {
      "text/plain": [
       "<matplotlib.axes._subplots.AxesSubplot at 0x7f302e0c4450>"
      ]
     },
     "execution_count": 63,
     "metadata": {},
     "output_type": "execute_result"
    },
    {
     "data": {
      "image/png": "[encoded data removed]",
      "text/plain": [
       "<Figure size 432x288 with 1 Axes>"
      ]
     },
     "metadata": {
      "needs_background": "light"
     },
     "output_type": "display_data"
    }
   ],
   "source": [
    "df['total_area'].hist(bins='auto', range=(0,50)) # график для вывода"
   ]
  },
  {
   "cell_type": "code",
   "execution_count": 64,
   "metadata": {},
   "outputs": [
    {
     "data": {
      "text/plain": [
       "0.07723318480797793"
      ]
     },
     "execution_count": 64,
     "metadata": {},
     "output_type": "execute_result"
    }
   ],
   "source": [
    "df['big_total_area'] = df['total_area'] > 100\n",
    "mean_big = df['big_total_area'].mean()\n",
    "mean_big\n"
   ]
  },
  {
   "cell_type": "code",
   "execution_count": 65,
   "metadata": {},
   "outputs": [
    {
     "data": {
      "text/plain": [
       "<matplotlib.axes._subplots.AxesSubplot at 0x7f3016faa190>"
      ]
     },
     "execution_count": 65,
     "metadata": {},
     "output_type": "execute_result"
    },
    {
     "data": {
      "image/png": "[encoded data removed]",
      "text/plain": [
       "<Figure size 432x288 with 1 Axes>"
      ]
     },
     "metadata": {
      "needs_background": "light"
     },
     "output_type": "display_data"
    }
   ],
   "source": [
    "df['total_area'].hist(bins='auto', range=(10,100)) "
   ]
  },
  {
   "cell_type": "markdown",
   "metadata": {},
   "source": [
    "На данном этапе можно сказать:\n",
    "\n",
    "1.\tДоля квартир с малой площадью весома (почти 50%). В данных нет никакой аномалии, естественно, что таких квартир много, они чаще всего скупаются, так как являются более доступными.\n",
    "\n",
    "2.\tДоля квартир с большой площадью мала (почти 8%). Что тоже естественно, так как из-за дороговизны больших квартир данного предложения мало. Возьмем крайнее правое значение \"уса\" для обозначения границ (рассчитанный как межквартальное размах * 1.5)\n",
    "\n",
    "Подводя итоги, самыми распространёнными являются квартиры с площадью 30-60 кв. м\n"
   ]
  },
  {
   "cell_type": "code",
   "execution_count": 66,
   "metadata": {},
   "outputs": [],
   "source": [
    "ok_df = ok_df.query('10 <= total_area <= 100')"
   ]
  },
  {
   "cell_type": "code",
   "execution_count": 67,
   "metadata": {},
   "outputs": [
    {
     "data": {
      "text/plain": [
       "0.5585826437513262"
      ]
     },
     "execution_count": 67,
     "metadata": {},
     "output_type": "execute_result"
    }
   ],
   "source": [
    "df['low_last_price'] = df['last_price'] < 5000000\n",
    "mean_low = df['low_last_price'].mean()\n",
    "mean_low\n"
   ]
  },
  {
   "cell_type": "code",
   "execution_count": 68,
   "metadata": {},
   "outputs": [
    {
     "data": {
      "text/plain": [
       "0.114491831105453"
      ]
     },
     "execution_count": 68,
     "metadata": {},
     "output_type": "execute_result"
    }
   ],
   "source": [
    "df['high_last_price'] = df['last_price'] > 10000000\n",
    "mean_high = df['high_last_price'].mean()\n",
    "mean_high\n"
   ]
  },
  {
   "cell_type": "code",
   "execution_count": 69,
   "metadata": {},
   "outputs": [
    {
     "data": {
      "text/plain": [
       "<matplotlib.axes._subplots.AxesSubplot at 0x7f30170ba410>"
      ]
     },
     "execution_count": 69,
     "metadata": {},
     "output_type": "execute_result"
    },
    {
     "data": {
      "image/png": "[encoded data removed]",
      "text/plain": [
       "<Figure size 432x288 with 1 Axes>"
      ]
     },
     "metadata": {
      "needs_background": "light"
     },
     "output_type": "display_data"
    }
   ],
   "source": [
    "df['last_price'].hist(bins='auto', range=(0,6000000)) # график для вывода"
   ]
  },
  {
   "cell_type": "code",
   "execution_count": 70,
   "metadata": {},
   "outputs": [
    {
     "data": {
      "text/plain": [
       "<matplotlib.axes._subplots.AxesSubplot at 0x7f3016ee0fd0>"
      ]
     },
     "execution_count": 70,
     "metadata": {},
     "output_type": "execute_result"
    },
    {
     "data": {
      "image/png": "[encoded data removed]",
      "text/plain": [
       "<Figure size 432x288 with 1 Axes>"
      ]
     },
     "metadata": {
      "needs_background": "light"
     },
     "output_type": "display_data"
    }
   ],
   "source": [
    "df['last_price'].hist(bins='auto', range=(100000,11875000))"
   ]
  },
  {
   "cell_type": "markdown",
   "metadata": {},
   "source": [
    "Таким образом можно сказать:\n",
    "\n",
    "1.\tДоля квартир с небольшой ценой велика (55%). В данных нет никакой аномалии, естественно, что таких квартир много, они чаще всего скупаются, так как являются более доступными. Возьмем крайнее левое значение \"уса\" для обозначения границ (рассчитанный как межквартальное размах * 1.5)\n",
    "\n",
    "2.\tДоля квартир с высокой ценой незначительна (11%). Что тоже естественно, так как из-за дороговизны квартир, данного предложения мало. Возьмем крайнее правое значение \"уса\" для обозначения границ (рассчитанный как межквартальное размах * 1.5). \n",
    "\n",
    "Подводя итоги, самыми распространёнными являются квартиры стоимостью от 3 до 6 млн. д. е.\n"
   ]
  },
  {
   "cell_type": "code",
   "execution_count": 71,
   "metadata": {},
   "outputs": [],
   "source": [
    "ok_df = ok_df.query('1000000 <= last_price <= 11875000')"
   ]
  },
  {
   "cell_type": "code",
   "execution_count": 72,
   "metadata": {},
   "outputs": [
    {
     "data": {
      "text/plain": [
       "0.683004455760662"
      ]
     },
     "execution_count": 72,
     "metadata": {},
     "output_type": "execute_result"
    }
   ],
   "source": [
    "df['few_rooms'] = df['rooms'] <= 2\n",
    "mean_fast = df['few_rooms'].mean() \n",
    "mean_fast"
   ]
  },
  {
   "cell_type": "code",
   "execution_count": 73,
   "metadata": {},
   "outputs": [
    {
     "data": {
      "text/plain": [
       "0.008232548270740506"
      ]
     },
     "execution_count": 73,
     "metadata": {},
     "output_type": "execute_result"
    }
   ],
   "source": [
    "df['many_rooms'] = df['rooms'] >= 6\n",
    "mean_fast = df['many_rooms'].mean() \n",
    "mean_fast"
   ]
  },
  {
   "cell_type": "code",
   "execution_count": 74,
   "metadata": {},
   "outputs": [
    {
     "data": {
      "text/plain": [
       "<matplotlib.axes._subplots.AxesSubplot at 0x7f3016e7a350>"
      ]
     },
     "execution_count": 74,
     "metadata": {},
     "output_type": "execute_result"
    },
    {
     "data": {
      "image/png": "[encoded data removed]",
      "text/plain": [
       "<Figure size 432x288 with 1 Axes>"
      ]
     },
     "metadata": {
      "needs_background": "light"
     },
     "output_type": "display_data"
    }
   ],
   "source": [
    "df['rooms'].hist(bins='auto', range=(0,5))"
   ]
  },
  {
   "cell_type": "markdown",
   "metadata": {},
   "source": [
    "Таким образом можно сказать:\n",
    "\n",
    "Доля квартир с небольшим количеством комнат значительно (68%). Что нормально, ведь чаще всего скупаются из-за малой стоимости. Возьмем крайнее левое значение \"уса\" для обозначения границ (рассчитанный как межквартальное размах * 1.5)\n",
    "\n",
    "Доля многокомнатных квартир ничтожно мала (менее 1%). Что тоже естественно, так как из-за дороговизны многокомнатных квартир, данного предложения мало. Возьмем крайнее правое значение \"уса\" для обозначения границ (рассчитанный как межквартальное размах * 1.5).\n",
    "\n",
    "Подводя итоги, самыми распространёнными являются квартиры с количеством комнат от 1 до 3.\n"
   ]
  },
  {
   "cell_type": "code",
   "execution_count": 75,
   "metadata": {},
   "outputs": [],
   "source": [
    "ok_df = ok_df.query('0 <= rooms <= 4')"
   ]
  },
  {
   "cell_type": "code",
   "execution_count": 76,
   "metadata": {},
   "outputs": [
    {
     "data": {
      "text/plain": [
       "0.0008911521323997453"
      ]
     },
     "execution_count": 76,
     "metadata": {},
     "output_type": "execute_result"
    }
   ],
   "source": [
    "df['low_ceiling_height'] = df['ceiling_height'] < 2.4\n",
    "mean_fast = df['low_ceiling_height'].mean() \n",
    "mean_fast"
   ]
  },
  {
   "cell_type": "code",
   "execution_count": 77,
   "metadata": {},
   "outputs": [
    {
     "data": {
      "text/plain": [
       "0.7814555484829195"
      ]
     },
     "execution_count": 77,
     "metadata": {},
     "output_type": "execute_result"
    }
   ],
   "source": [
    "df['tall_ceiling_height'] = df['ceiling_height'] >= 2.6\n",
    "mean_fast = df['tall_ceiling_height'].mean() \n",
    "mean_fast"
   ]
  },
  {
   "cell_type": "code",
   "execution_count": 78,
   "metadata": {},
   "outputs": [
    {
     "data": {
      "text/plain": [
       "<matplotlib.axes._subplots.AxesSubplot at 0x7f302e07c3d0>"
      ]
     },
     "execution_count": 78,
     "metadata": {},
     "output_type": "execute_result"
    },
    {
     "data": {
      "image/png": "[encoded data removed]",
      "text/plain": [
       "<Figure size 432x288 with 1 Axes>"
      ]
     },
     "metadata": {
      "needs_background": "light"
     },
     "output_type": "display_data"
    }
   ],
   "source": [
    "df['ceiling_height'].hist(bins='auto', range=(1, 2.65)) # график для вывода"
   ]
  },
  {
   "cell_type": "markdown",
   "metadata": {},
   "source": [
    "Таким образом можно сказать:\n",
    "\n",
    "Доля квартир с низкими потолками ничтожно мала (менее 1%). Что нормально, ведь это очень низкие потолки (ниже стандарта), такие никто не захочет такие покупать с целью проживания. Возьмем крайнее левое значение \"уса\" для обозначения границ (рассчитанный как межквартальное размах * 1.5)\n",
    "\n",
    "Доля квартир с высокими потолками велика (79%). Очевидно, что людям хочется простора тем и объясняется такое большое предложение. Возьмем крайнее правое значение \"уса\" для обозначения границ (рассчитанный как межквартальное размах * 1.5)\n",
    "\n",
    "Подводя итоги, самыми распространёнными являются квартиры с высотой потолков 2.65 м.\n"
   ]
  },
  {
   "cell_type": "code",
   "execution_count": 79,
   "metadata": {},
   "outputs": [],
   "source": [
    "ok_df = ok_df.query('2.45 <= ceiling_height <= 2.85')"
   ]
  },
  {
   "cell_type": "code",
   "execution_count": 80,
   "metadata": {},
   "outputs": [
    {
     "data": {
      "text/html": [
       "<div>\n",
       "<style scoped>\n",
       "    .dataframe tbody tr th:only-of-type {\n",
       "        vertical-align: middle;\n",
       "    }\n",
       "\n",
       "    .dataframe tbody tr th {\n",
       "        vertical-align: top;\n",
       "    }\n",
       "\n",
       "    .dataframe thead th {\n",
       "        text-align: right;\n",
       "    }\n",
       "</style>\n",
       "<table border=\"1\" class=\"dataframe\">\n",
       "  <thead>\n",
       "    <tr style=\"text-align: right;\">\n",
       "      <th></th>\n",
       "      <th>total_images</th>\n",
       "      <th>last_price</th>\n",
       "      <th>total_area</th>\n",
       "      <th>first_day_exposition</th>\n",
       "      <th>rooms</th>\n",
       "      <th>ceiling_height</th>\n",
       "      <th>floors_total</th>\n",
       "      <th>living_area</th>\n",
       "      <th>floor</th>\n",
       "      <th>is_apartment</th>\n",
       "      <th>...</th>\n",
       "      <th>oprn_plan</th>\n",
       "      <th>price_metr</th>\n",
       "      <th>weekday</th>\n",
       "      <th>month</th>\n",
       "      <th>year</th>\n",
       "      <th>floor_level</th>\n",
       "      <th>living_to_total</th>\n",
       "      <th>kitchen_to_total</th>\n",
       "      <th>fast</th>\n",
       "      <th>slow</th>\n",
       "    </tr>\n",
       "  </thead>\n",
       "  <tbody>\n",
       "    <tr>\n",
       "      <td>1</td>\n",
       "      <td>7</td>\n",
       "      <td>3350000.0</td>\n",
       "      <td>40.40</td>\n",
       "      <td>2018-12-04</td>\n",
       "      <td>1</td>\n",
       "      <td>2.65</td>\n",
       "      <td>11</td>\n",
       "      <td>18.60</td>\n",
       "      <td>1</td>\n",
       "      <td>False</td>\n",
       "      <td>...</td>\n",
       "      <td>0</td>\n",
       "      <td>82920.792079</td>\n",
       "      <td>1</td>\n",
       "      <td>12</td>\n",
       "      <td>2018</td>\n",
       "      <td>первый</td>\n",
       "      <td>0.46</td>\n",
       "      <td>0.27</td>\n",
       "      <td>False</td>\n",
       "      <td>False</td>\n",
       "    </tr>\n",
       "    <tr>\n",
       "      <td>5</td>\n",
       "      <td>10</td>\n",
       "      <td>2890000.0</td>\n",
       "      <td>30.40</td>\n",
       "      <td>2018-09-10</td>\n",
       "      <td>1</td>\n",
       "      <td>2.65</td>\n",
       "      <td>12</td>\n",
       "      <td>14.40</td>\n",
       "      <td>5</td>\n",
       "      <td>False</td>\n",
       "      <td>...</td>\n",
       "      <td>0</td>\n",
       "      <td>95065.789474</td>\n",
       "      <td>0</td>\n",
       "      <td>9</td>\n",
       "      <td>2018</td>\n",
       "      <td>другой</td>\n",
       "      <td>0.47</td>\n",
       "      <td>0.30</td>\n",
       "      <td>False</td>\n",
       "      <td>False</td>\n",
       "    </tr>\n",
       "    <tr>\n",
       "      <td>6</td>\n",
       "      <td>6</td>\n",
       "      <td>3700000.0</td>\n",
       "      <td>37.30</td>\n",
       "      <td>2017-11-02</td>\n",
       "      <td>1</td>\n",
       "      <td>2.65</td>\n",
       "      <td>26</td>\n",
       "      <td>10.60</td>\n",
       "      <td>6</td>\n",
       "      <td>False</td>\n",
       "      <td>...</td>\n",
       "      <td>0</td>\n",
       "      <td>99195.710456</td>\n",
       "      <td>3</td>\n",
       "      <td>11</td>\n",
       "      <td>2017</td>\n",
       "      <td>другой</td>\n",
       "      <td>0.28</td>\n",
       "      <td>0.39</td>\n",
       "      <td>False</td>\n",
       "      <td>False</td>\n",
       "    </tr>\n",
       "    <tr>\n",
       "      <td>8</td>\n",
       "      <td>20</td>\n",
       "      <td>2900000.0</td>\n",
       "      <td>33.16</td>\n",
       "      <td>2018-05-23</td>\n",
       "      <td>1</td>\n",
       "      <td>2.65</td>\n",
       "      <td>27</td>\n",
       "      <td>15.43</td>\n",
       "      <td>26</td>\n",
       "      <td>False</td>\n",
       "      <td>...</td>\n",
       "      <td>0</td>\n",
       "      <td>87454.764777</td>\n",
       "      <td>2</td>\n",
       "      <td>5</td>\n",
       "      <td>2018</td>\n",
       "      <td>другой</td>\n",
       "      <td>0.47</td>\n",
       "      <td>0.27</td>\n",
       "      <td>False</td>\n",
       "      <td>False</td>\n",
       "    </tr>\n",
       "    <tr>\n",
       "      <td>9</td>\n",
       "      <td>18</td>\n",
       "      <td>5400000.0</td>\n",
       "      <td>61.00</td>\n",
       "      <td>2017-02-26</td>\n",
       "      <td>3</td>\n",
       "      <td>2.50</td>\n",
       "      <td>9</td>\n",
       "      <td>43.60</td>\n",
       "      <td>7</td>\n",
       "      <td>False</td>\n",
       "      <td>...</td>\n",
       "      <td>0</td>\n",
       "      <td>88524.590164</td>\n",
       "      <td>6</td>\n",
       "      <td>2</td>\n",
       "      <td>2017</td>\n",
       "      <td>другой</td>\n",
       "      <td>0.71</td>\n",
       "      <td>0.11</td>\n",
       "      <td>False</td>\n",
       "      <td>False</td>\n",
       "    </tr>\n",
       "  </tbody>\n",
       "</table>\n",
       "<p>5 rows × 32 columns</p>\n",
       "</div>"
      ],
      "text/plain": [
       "   total_images  last_price  total_area first_day_exposition  rooms  \\\n",
       "1             7   3350000.0       40.40           2018-12-04      1   \n",
       "5            10   2890000.0       30.40           2018-09-10      1   \n",
       "6             6   3700000.0       37.30           2017-11-02      1   \n",
       "8            20   2900000.0       33.16           2018-05-23      1   \n",
       "9            18   5400000.0       61.00           2017-02-26      3   \n",
       "\n",
       "   ceiling_height  floors_total  living_area  floor  is_apartment  ...  \\\n",
       "1            2.65            11        18.60      1         False  ...   \n",
       "5            2.65            12        14.40      5         False  ...   \n",
       "6            2.65            26        10.60      6         False  ...   \n",
       "8            2.65            27        15.43     26         False  ...   \n",
       "9            2.50             9        43.60      7         False  ...   \n",
       "\n",
       "   oprn_plan    price_metr  weekday  month  year  floor_level  \\\n",
       "1          0  82920.792079        1     12  2018       первый   \n",
       "5          0  95065.789474        0      9  2018       другой   \n",
       "6          0  99195.710456        3     11  2017       другой   \n",
       "8          0  87454.764777        2      5  2018       другой   \n",
       "9          0  88524.590164        6      2  2017       другой   \n",
       "\n",
       "   living_to_total  kitchen_to_total   fast   slow  \n",
       "1             0.46              0.27  False  False  \n",
       "5             0.47              0.30  False  False  \n",
       "6             0.28              0.39  False  False  \n",
       "8             0.47              0.27  False  False  \n",
       "9             0.71              0.11  False  False  \n",
       "\n",
       "[5 rows x 32 columns]"
      ]
     },
     "execution_count": 80,
     "metadata": {},
     "output_type": "execute_result"
    }
   ],
   "source": [
    "ok_df.head()"
   ]
  },
  {
   "cell_type": "markdown",
   "metadata": {},
   "source": [
    "**Можно сделать вывод**\n",
    "\n",
    "В данном подпункте мы проанализировали редкие и выбивающиеся значения и избавились от выбросов опираясь на 1 и 2 подпункте. Построены гистограммы и сделаны выводы."
   ]
  },
  {
   "cell_type": "markdown",
   "metadata": {},
   "source": [
    "**Факторы вляющие на стоимость квартиры**"
   ]
  },
  {
   "cell_type": "code",
   "execution_count": 81,
   "metadata": {},
   "outputs": [
    {
     "data": {
      "text/plain": [
       "0.6792215818956204"
      ]
     },
     "execution_count": 81,
     "metadata": {},
     "output_type": "execute_result"
    }
   ],
   "source": [
    "ok_df['last_price'].corr(df['total_area'])"
   ]
  },
  {
   "cell_type": "markdown",
   "metadata": {},
   "source": [
    "Данная связь сильная, что говорит о том, что влияет на цену"
   ]
  },
  {
   "cell_type": "code",
   "execution_count": 82,
   "metadata": {},
   "outputs": [
    {
     "data": {
      "text/plain": [
       "<matplotlib.axes._subplots.AxesSubplot at 0x7f30160d3b50>"
      ]
     },
     "execution_count": 82,
     "metadata": {},
     "output_type": "execute_result"
    },
    {
     "data": {
      "image/png": "[encoded data removed]",
      "text/plain": [
       "<Figure size 432x288 with 1 Axes>"
      ]
     },
     "metadata": {
      "needs_background": "light"
     },
     "output_type": "display_data"
    }
   ],
   "source": [
    "from_area = ok_df.groupby('total_area')['last_price'].mean()\n",
    "from_area.plot(x='total_area', y='last_price', kind='bar')"
   ]
  },
  {
   "cell_type": "markdown",
   "metadata": {},
   "source": [
    "Можно сказать, что график подтверждает вышесказанные выводы. Чем больше площадь, тем больше цена."
   ]
  },
  {
   "cell_type": "code",
   "execution_count": 83,
   "metadata": {},
   "outputs": [
    {
     "data": {
      "text/plain": [
       "0.4122529315572511"
      ]
     },
     "execution_count": 83,
     "metadata": {},
     "output_type": "execute_result"
    }
   ],
   "source": [
    "ok_df['last_price'].corr(df['rooms'])"
   ]
  },
  {
   "cell_type": "markdown",
   "metadata": {},
   "source": [
    "Данная связь умеренная, что говорит о малом влияние на цену"
   ]
  },
  {
   "cell_type": "code",
   "execution_count": 84,
   "metadata": {},
   "outputs": [
    {
     "data": {
      "text/plain": [
       "<matplotlib.axes._subplots.AxesSubplot at 0x7f301525dc10>"
      ]
     },
     "execution_count": 84,
     "metadata": {},
     "output_type": "execute_result"
    },
    {
     "data": {
      "image/png": "[encoded data removed]",
      "text/plain": [
       "<Figure size 432x288 with 1 Axes>"
      ]
     },
     "metadata": {
      "needs_background": "light"
     },
     "output_type": "display_data"
    }
   ],
   "source": [
    "from_rooms = ok_df.groupby('rooms')['last_price'].mean()\n",
    "from_rooms.plot(x='rooms', y='last_price', kind='bar')"
   ]
  },
  {
   "cell_type": "markdown",
   "metadata": {},
   "source": [
    "Можно сказать, что график подтверждает вышесказанные выводы. И даже можно добавить, что влияние больше, чем \"малое\" и видим прямую зависимость от цены."
   ]
  },
  {
   "cell_type": "code",
   "execution_count": 85,
   "metadata": {},
   "outputs": [
    {
     "data": {
      "text/plain": [
       "-0.31118863423329807"
      ]
     },
     "execution_count": 85,
     "metadata": {},
     "output_type": "execute_result"
    }
   ],
   "source": [
    "ok_df['last_price'].corr(df['city_centers_nearest'], 'spearman') # используем коэффицнт Спирмена"
   ]
  },
  {
   "cell_type": "markdown",
   "metadata": {},
   "source": [
    "Данная связь умеренная и зависимость обратная, что говорит о малом влиянии на цену"
   ]
  },
  {
   "cell_type": "code",
   "execution_count": 86,
   "metadata": {},
   "outputs": [
    {
     "data": {
      "text/plain": [
       "<matplotlib.axes._subplots.AxesSubplot at 0x7f30146befd0>"
      ]
     },
     "execution_count": 86,
     "metadata": {},
     "output_type": "execute_result"
    },
    {
     "data": {
      "image/png": "[encoded data removed]",
      "text/plain": [
       "<Figure size 432x288 with 1 Axes>"
      ]
     },
     "metadata": {
      "needs_background": "light"
     },
     "output_type": "display_data"
    }
   ],
   "source": [
    "from_nearest = ok_df.groupby('city_centers_nearest')['last_price'].mean()\n",
    "from_nearest.plot(x='city_centers_nearest', y='last_price', kind='bar')"
   ]
  },
  {
   "cell_type": "markdown",
   "metadata": {},
   "source": [
    "Можно сказать, что график подтверждает вышесказанные выводы. Видно, что сначала мы видим обратную динамику, но все же далле, зависимость не наблюдается."
   ]
  },
  {
   "cell_type": "code",
   "execution_count": 87,
   "metadata": {},
   "outputs": [
    {
     "data": {
      "text/plain": [
       "floor_level\n",
       "другой       94901.287896\n",
       "первый       77927.845989\n",
       "последний    83211.556137\n",
       "Name: price_metr, dtype: float64"
      ]
     },
     "execution_count": 87,
     "metadata": {},
     "output_type": "execute_result"
    }
   ],
   "source": [
    "from_floor = ok_df.groupby('floor_level')['price_metr'].mean()\n",
    "from_floor"
   ]
  },
  {
   "cell_type": "code",
   "execution_count": 88,
   "metadata": {},
   "outputs": [
    {
     "data": {
      "text/plain": [
       "<matplotlib.axes._subplots.AxesSubplot at 0x7f3010715350>"
      ]
     },
     "execution_count": 88,
     "metadata": {},
     "output_type": "execute_result"
    },
    {
     "data": {
      "image/png": "[encoded data removed]",
      "text/plain": [
       "<Figure size 432x288 with 1 Axes>"
      ]
     },
     "metadata": {
      "needs_background": "light"
     },
     "output_type": "display_data"
    }
   ],
   "source": [
    "from_floor.plot(x='floor_level', y='price_metr', kind='bar')"
   ]
  },
  {
   "cell_type": "markdown",
   "metadata": {},
   "source": [
    "Тут можно заметить, что самая низкая цена за кв. м у квартир, находящихся на первом этаже. И сказать что, чем выше этаж, тем дороже квартира - это будет неправильно, ведь на последнем этаже цена за м кв. не самая дорога. И отсюда можно сделать вывод, что связь умеренная.  "
   ]
  },
  {
   "cell_type": "code",
   "execution_count": 89,
   "metadata": {},
   "outputs": [
    {
     "data": {
      "text/plain": [
       "weekday\n",
       "0    91067.500381\n",
       "1    91143.690383\n",
       "2    91825.605378\n",
       "3    91503.198391\n",
       "4    91519.781828\n",
       "5    91483.254925\n",
       "6    91309.358798\n",
       "Name: price_metr, dtype: float64"
      ]
     },
     "execution_count": 89,
     "metadata": {},
     "output_type": "execute_result"
    }
   ],
   "source": [
    "from_time = ok_df.groupby('weekday')['price_metr'].mean()\n",
    "from_time"
   ]
  },
  {
   "cell_type": "code",
   "execution_count": 90,
   "metadata": {},
   "outputs": [
    {
     "data": {
      "text/plain": [
       "<matplotlib.axes._subplots.AxesSubplot at 0x7f300d6bf150>"
      ]
     },
     "execution_count": 90,
     "metadata": {},
     "output_type": "execute_result"
    },
    {
     "data": {
      "image/png": "[encoded data removed]",
      "text/plain": [
       "<Figure size 432x288 with 1 Axes>"
      ]
     },
     "metadata": {
      "needs_background": "light"
     },
     "output_type": "display_data"
    }
   ],
   "source": [
    "from_time.plot(x='weekday', y='price_metr', kind='bar', ylim=(0,100000))"
   ]
  },
  {
   "cell_type": "markdown",
   "metadata": {},
   "source": [
    "На графике видно, что независимо от дня недели цена за кв. м практически не меняется. Отсюда следует, что связь слабая и не влияет на цену."
   ]
  },
  {
   "cell_type": "code",
   "execution_count": 91,
   "metadata": {},
   "outputs": [
    {
     "data": {
      "text/plain": [
       "weekday\n",
       "0    91067.500381\n",
       "1    91143.690383\n",
       "2    91825.605378\n",
       "3    91503.198391\n",
       "4    91519.781828\n",
       "5    91483.254925\n",
       "6    91309.358798\n",
       "Name: price_metr, dtype: float64"
      ]
     },
     "execution_count": 91,
     "metadata": {},
     "output_type": "execute_result"
    }
   ],
   "source": [
    "from_time1 = ok_df.groupby('weekday')['price_metr'].mean()\n",
    "from_time1"
   ]
  },
  {
   "cell_type": "code",
   "execution_count": 92,
   "metadata": {},
   "outputs": [
    {
     "data": {
      "text/plain": [
       "<matplotlib.axes._subplots.AxesSubplot at 0x7f300d15c990>"
      ]
     },
     "execution_count": 92,
     "metadata": {},
     "output_type": "execute_result"
    },
    {
     "data": {
      "image/png": "[encoded data removed]",
      "text/plain": [
       "<Figure size 432x288 with 1 Axes>"
      ]
     },
     "metadata": {
      "needs_background": "light"
     },
     "output_type": "display_data"
    }
   ],
   "source": [
    "from_time1.plot(x='weekday', y='price_metr', kind='bar', ylim=(0,100000))"
   ]
  },
  {
   "cell_type": "markdown",
   "metadata": {},
   "source": [
    "На графике видно, что независимо от месяца цена за кв. м практически не меняется. Отсюда следует, что связь слабая и не влияет на цену."
   ]
  },
  {
   "cell_type": "code",
   "execution_count": 93,
   "metadata": {},
   "outputs": [
    {
     "data": {
      "text/plain": [
       "year\n",
       "2015     88019.167220\n",
       "2016     89313.275691\n",
       "2017     89772.203878\n",
       "2018     92252.714195\n",
       "2019    102412.638201\n",
       "Name: price_metr, dtype: float64"
      ]
     },
     "execution_count": 93,
     "metadata": {},
     "output_type": "execute_result"
    }
   ],
   "source": [
    "from_time2 = ok_df.groupby('year')['price_metr'].mean()\n",
    "from_time2"
   ]
  },
  {
   "cell_type": "code",
   "execution_count": 94,
   "metadata": {},
   "outputs": [
    {
     "data": {
      "text/plain": [
       "<matplotlib.axes._subplots.AxesSubplot at 0x7f300d3db7d0>"
      ]
     },
     "execution_count": 94,
     "metadata": {},
     "output_type": "execute_result"
    },
    {
     "data": {
      "image/png": "[encoded data removed]",
      "text/plain": [
       "<Figure size 432x288 with 1 Axes>"
      ]
     },
     "metadata": {
      "needs_background": "light"
     },
     "output_type": "display_data"
    }
   ],
   "source": [
    "from_time2.plot(x='year', y='price_metr', kind='bar', ylim=(0,110000))"
   ]
  },
  {
   "cell_type": "markdown",
   "metadata": {},
   "source": [
    "А вот тут видна динамика, с каждым годом квартиры становились только дороже, к счастью, незначительно). Можно сказать, что связь существует и она умеренна, что говорит о малом влияние на цену."
   ]
  },
  {
   "cell_type": "markdown",
   "metadata": {},
   "source": [
    "**Вывод**"
   ]
  },
  {
   "cell_type": "markdown",
   "metadata": {},
   "source": [
    "В данном пункте мы изучили влиянии факторов на стоимость квартир. В результате мы получили:\n",
    "\n",
    "Факторы, оказывающие влияние на стоимость: площадь квартиры, количество комнат, этаж и год подачи объявления."
   ]
  },
  {
   "cell_type": "markdown",
   "metadata": {},
   "source": [
    "**10 населённых пунктов** с наибольшим числом объявлений:"
   ]
  },
  {
   "cell_type": "code",
   "execution_count": 95,
   "metadata": {},
   "outputs": [
    {
     "data": {
      "text/plain": [
       "Санкт-Петербург      9787\n",
       "посёлок Мурино        473\n",
       "посёлок Шушары        374\n",
       "Всеволожск            292\n",
       "посёлок Парголово     281\n",
       "Колпино               270\n",
       "деревня Кудрово       262\n",
       "Пушкин                230\n",
       "Гатчина               221\n",
       "Выборг                167\n",
       "Петергоф              150\n",
       "Name: locality_name, dtype: int64"
      ]
     },
     "execution_count": 95,
     "metadata": {},
     "output_type": "execute_result"
    }
   ],
   "source": [
    "count_name = ok_df['locality_name'].value_counts()\n",
    "count_name = count_name[0:11]\n",
    "count_name"
   ]
  },
  {
   "cell_type": "markdown",
   "metadata": {},
   "source": [
    "Cредняя цена квадратного метра в этих населённых пунктах:"
   ]
  },
  {
   "cell_type": "code",
   "execution_count": 96,
   "metadata": {},
   "outputs": [
    {
     "data": {
      "text/html": [
       "<div>\n",
       "<style scoped>\n",
       "    .dataframe tbody tr th:only-of-type {\n",
       "        vertical-align: middle;\n",
       "    }\n",
       "\n",
       "    .dataframe tbody tr th {\n",
       "        vertical-align: top;\n",
       "    }\n",
       "\n",
       "    .dataframe thead th {\n",
       "        text-align: right;\n",
       "    }\n",
       "</style>\n",
       "<table border=\"1\" class=\"dataframe\">\n",
       "  <thead>\n",
       "    <tr style=\"text-align: right;\">\n",
       "      <th></th>\n",
       "      <th>price_metr</th>\n",
       "    </tr>\n",
       "    <tr>\n",
       "      <th>locality_name</th>\n",
       "      <th></th>\n",
       "    </tr>\n",
       "  </thead>\n",
       "  <tbody>\n",
       "    <tr>\n",
       "      <td>Всеволожск</td>\n",
       "      <td>66769.689744</td>\n",
       "    </tr>\n",
       "    <tr>\n",
       "      <td>Выборг</td>\n",
       "      <td>57463.229645</td>\n",
       "    </tr>\n",
       "    <tr>\n",
       "      <td>Гатчина</td>\n",
       "      <td>68032.129104</td>\n",
       "    </tr>\n",
       "    <tr>\n",
       "      <td>Колпино</td>\n",
       "      <td>74847.159378</td>\n",
       "    </tr>\n",
       "    <tr>\n",
       "      <td>Петергоф</td>\n",
       "      <td>81886.928004</td>\n",
       "    </tr>\n",
       "    <tr>\n",
       "      <td>Пушкин</td>\n",
       "      <td>98717.914606</td>\n",
       "    </tr>\n",
       "    <tr>\n",
       "      <td>Санкт-Петербург</td>\n",
       "      <td>103831.436432</td>\n",
       "    </tr>\n",
       "    <tr>\n",
       "      <td>деревня Кудрово</td>\n",
       "      <td>92600.842924</td>\n",
       "    </tr>\n",
       "    <tr>\n",
       "      <td>посёлок Мурино</td>\n",
       "      <td>85912.271049</td>\n",
       "    </tr>\n",
       "    <tr>\n",
       "      <td>посёлок Парголово</td>\n",
       "      <td>89426.370849</td>\n",
       "    </tr>\n",
       "    <tr>\n",
       "      <td>посёлок Шушары</td>\n",
       "      <td>77899.911982</td>\n",
       "    </tr>\n",
       "  </tbody>\n",
       "</table>\n",
       "</div>"
      ],
      "text/plain": [
       "                      price_metr\n",
       "locality_name                   \n",
       "Всеволожск          66769.689744\n",
       "Выборг              57463.229645\n",
       "Гатчина             68032.129104\n",
       "Колпино             74847.159378\n",
       "Петергоф            81886.928004\n",
       "Пушкин              98717.914606\n",
       "Санкт-Петербург    103831.436432\n",
       "деревня Кудрово     92600.842924\n",
       "посёлок Мурино      85912.271049\n",
       "посёлок Парголово   89426.370849\n",
       "посёлок Шушары      77899.911982"
      ]
     },
     "execution_count": 96,
     "metadata": {},
     "output_type": "execute_result"
    }
   ],
   "source": [
    "count_name1 =ok_df.query('locality_name == (\"Санкт-Петербург\", \"посёлок Мурино\", \"посёлок Шушары\", \"Всеволожск\", \"посёлок Парголово\", \"Колпино\", \"деревня Кудрово\", \"Пушкин\", \"Гатчина\", \"Выборг\", \"Петергоф\")')\n",
    "count_name2 = count_name1.pivot_table(aggfunc='mean', index='locality_name', values='price_metr')\n",
    "count_name2"
   ]
  },
  {
   "cell_type": "code",
   "execution_count": 97,
   "metadata": {},
   "outputs": [
    {
     "data": {
      "text/html": [
       "<div>\n",
       "<style scoped>\n",
       "    .dataframe tbody tr th:only-of-type {\n",
       "        vertical-align: middle;\n",
       "    }\n",
       "\n",
       "    .dataframe tbody tr th {\n",
       "        vertical-align: top;\n",
       "    }\n",
       "\n",
       "    .dataframe thead th {\n",
       "        text-align: right;\n",
       "    }\n",
       "</style>\n",
       "<table border=\"1\" class=\"dataframe\">\n",
       "  <thead>\n",
       "    <tr style=\"text-align: right;\">\n",
       "      <th></th>\n",
       "      <th>price_metr</th>\n",
       "    </tr>\n",
       "  </thead>\n",
       "  <tbody>\n",
       "    <tr>\n",
       "      <td>count</td>\n",
       "      <td>11.000000</td>\n",
       "    </tr>\n",
       "    <tr>\n",
       "      <td>mean</td>\n",
       "      <td>81580.716702</td>\n",
       "    </tr>\n",
       "    <tr>\n",
       "      <td>std</td>\n",
       "      <td>14262.204335</td>\n",
       "    </tr>\n",
       "    <tr>\n",
       "      <td>min</td>\n",
       "      <td>57463.229645</td>\n",
       "    </tr>\n",
       "    <tr>\n",
       "      <td>25%</td>\n",
       "      <td>71439.644241</td>\n",
       "    </tr>\n",
       "    <tr>\n",
       "      <td>50%</td>\n",
       "      <td>81886.928004</td>\n",
       "    </tr>\n",
       "    <tr>\n",
       "      <td>75%</td>\n",
       "      <td>91013.606887</td>\n",
       "    </tr>\n",
       "    <tr>\n",
       "      <td>max</td>\n",
       "      <td>103831.436432</td>\n",
       "    </tr>\n",
       "  </tbody>\n",
       "</table>\n",
       "</div>"
      ],
      "text/plain": [
       "          price_metr\n",
       "count      11.000000\n",
       "mean    81580.716702\n",
       "std     14262.204335\n",
       "min     57463.229645\n",
       "25%     71439.644241\n",
       "50%     81886.928004\n",
       "75%     91013.606887\n",
       "max    103831.436432"
      ]
     },
     "execution_count": 97,
     "metadata": {},
     "output_type": "execute_result"
    }
   ],
   "source": [
    "count_name2.describe()"
   ]
  },
  {
   "cell_type": "markdown",
   "metadata": {},
   "source": [
    "Таким образом, самое дорогое жилье в Санкт-Петербурге, а самое дешевое в Выборге."
   ]
  },
  {
   "cell_type": "markdown",
   "metadata": {},
   "source": [
    "**Изучим удалленость от центра**"
   ]
  },
  {
   "cell_type": "code",
   "execution_count": 98,
   "metadata": {},
   "outputs": [
    {
     "data": {
      "text/html": [
       "<div>\n",
       "<style scoped>\n",
       "    .dataframe tbody tr th:only-of-type {\n",
       "        vertical-align: middle;\n",
       "    }\n",
       "\n",
       "    .dataframe tbody tr th {\n",
       "        vertical-align: top;\n",
       "    }\n",
       "\n",
       "    .dataframe thead th {\n",
       "        text-align: right;\n",
       "    }\n",
       "</style>\n",
       "<table border=\"1\" class=\"dataframe\">\n",
       "  <thead>\n",
       "    <tr style=\"text-align: right;\">\n",
       "      <th></th>\n",
       "      <th>city_centers_nearest</th>\n",
       "      <th>piter_centers_nearest</th>\n",
       "    </tr>\n",
       "  </thead>\n",
       "  <tbody>\n",
       "    <tr>\n",
       "      <td>9</td>\n",
       "      <td>15008.0</td>\n",
       "      <td>15.0</td>\n",
       "    </tr>\n",
       "    <tr>\n",
       "      <td>10</td>\n",
       "      <td>13878.0</td>\n",
       "      <td>14.0</td>\n",
       "    </tr>\n",
       "    <tr>\n",
       "      <td>15</td>\n",
       "      <td>14259.0</td>\n",
       "      <td>14.0</td>\n",
       "    </tr>\n",
       "    <tr>\n",
       "      <td>18</td>\n",
       "      <td>10842.0</td>\n",
       "      <td>11.0</td>\n",
       "    </tr>\n",
       "    <tr>\n",
       "      <td>21</td>\n",
       "      <td>9722.0</td>\n",
       "      <td>10.0</td>\n",
       "    </tr>\n",
       "  </tbody>\n",
       "</table>\n",
       "</div>"
      ],
      "text/plain": [
       "    city_centers_nearest  piter_centers_nearest\n",
       "9                15008.0                   15.0\n",
       "10               13878.0                   14.0\n",
       "15               14259.0                   14.0\n",
       "18               10842.0                   11.0\n",
       "21                9722.0                   10.0"
      ]
     },
     "execution_count": 98,
     "metadata": {},
     "output_type": "execute_result"
    }
   ],
   "source": [
    "piter = ok_df.query('locality_name == \"Санкт-Петербург\"')\n",
    "piter['piter_centers_nearest'] = (piter['city_centers_nearest']/1000).round()\n",
    "piter[['city_centers_nearest','piter_centers_nearest']].head()"
   ]
  },
  {
   "cell_type": "code",
   "execution_count": 99,
   "metadata": {},
   "outputs": [
    {
     "data": {
      "text/html": [
       "<div>\n",
       "<style scoped>\n",
       "    .dataframe tbody tr th:only-of-type {\n",
       "        vertical-align: middle;\n",
       "    }\n",
       "\n",
       "    .dataframe tbody tr th {\n",
       "        vertical-align: top;\n",
       "    }\n",
       "\n",
       "    .dataframe thead th {\n",
       "        text-align: right;\n",
       "    }\n",
       "</style>\n",
       "<table border=\"1\" class=\"dataframe\">\n",
       "  <thead>\n",
       "    <tr style=\"text-align: right;\">\n",
       "      <th></th>\n",
       "      <th>price_metr</th>\n",
       "    </tr>\n",
       "    <tr>\n",
       "      <th>piter_centers_nearest</th>\n",
       "      <th></th>\n",
       "    </tr>\n",
       "  </thead>\n",
       "  <tbody>\n",
       "    <tr>\n",
       "      <td>0.0</td>\n",
       "      <td>114373.749500</td>\n",
       "    </tr>\n",
       "    <tr>\n",
       "      <td>1.0</td>\n",
       "      <td>121741.329746</td>\n",
       "    </tr>\n",
       "    <tr>\n",
       "      <td>2.0</td>\n",
       "      <td>119083.314316</td>\n",
       "    </tr>\n",
       "    <tr>\n",
       "      <td>3.0</td>\n",
       "      <td>108255.571273</td>\n",
       "    </tr>\n",
       "    <tr>\n",
       "      <td>4.0</td>\n",
       "      <td>121270.269144</td>\n",
       "    </tr>\n",
       "    <tr>\n",
       "      <td>5.0</td>\n",
       "      <td>123664.076529</td>\n",
       "    </tr>\n",
       "    <tr>\n",
       "      <td>6.0</td>\n",
       "      <td>124513.284436</td>\n",
       "    </tr>\n",
       "    <tr>\n",
       "      <td>7.0</td>\n",
       "      <td>118389.441266</td>\n",
       "    </tr>\n",
       "    <tr>\n",
       "      <td>8.0</td>\n",
       "      <td>114770.138997</td>\n",
       "    </tr>\n",
       "    <tr>\n",
       "      <td>9.0</td>\n",
       "      <td>105237.656360</td>\n",
       "    </tr>\n",
       "  </tbody>\n",
       "</table>\n",
       "</div>"
      ],
      "text/plain": [
       "                          price_metr\n",
       "piter_centers_nearest               \n",
       "0.0                    114373.749500\n",
       "1.0                    121741.329746\n",
       "2.0                    119083.314316\n",
       "3.0                    108255.571273\n",
       "4.0                    121270.269144\n",
       "5.0                    123664.076529\n",
       "6.0                    124513.284436\n",
       "7.0                    118389.441266\n",
       "8.0                    114770.138997\n",
       "9.0                    105237.656360"
      ]
     },
     "execution_count": 99,
     "metadata": {},
     "output_type": "execute_result"
    }
   ],
   "source": [
    "piter.pivot_table(index='piter_centers_nearest', values='price_metr', aggfunc='mean').head(10) # средняя цена для каждого км"
   ]
  },
  {
   "cell_type": "code",
   "execution_count": 100,
   "metadata": {},
   "outputs": [
    {
     "data": {
      "text/plain": [
       "<matplotlib.axes._subplots.AxesSubplot at 0x7f300c0abed0>"
      ]
     },
     "execution_count": 100,
     "metadata": {},
     "output_type": "execute_result"
    },
    {
     "data": {
      "image/png": "[encoded data removed]",
      "text/plain": [
       "<Figure size 1080x576 with 1 Axes>"
      ]
     },
     "metadata": {
      "needs_background": "light"
     },
     "output_type": "display_data"
    }
   ],
   "source": [
    "(piter.pivot_table(index='piter_centers_nearest', values='price_metr', aggfunc='mean')\n",
    " .plot(style='o-', grid=True, figsize=(15,8)))"
   ]
  },
  {
   "cell_type": "markdown",
   "metadata": {},
   "source": [
    "По рисунку видно, что около 7 км  график начинает убывать. Будем считать что 7 км - центральная зона"
   ]
  },
  {
   "cell_type": "markdown",
   "metadata": {},
   "source": [
    "Квартиры в **центре** города"
   ]
  },
  {
   "cell_type": "code",
   "execution_count": 101,
   "metadata": {},
   "outputs": [
    {
     "data": {
      "text/html": [
       "<div>\n",
       "<style scoped>\n",
       "    .dataframe tbody tr th:only-of-type {\n",
       "        vertical-align: middle;\n",
       "    }\n",
       "\n",
       "    .dataframe tbody tr th {\n",
       "        vertical-align: top;\n",
       "    }\n",
       "\n",
       "    .dataframe thead th {\n",
       "        text-align: right;\n",
       "    }\n",
       "</style>\n",
       "<table border=\"1\" class=\"dataframe\">\n",
       "  <thead>\n",
       "    <tr style=\"text-align: right;\">\n",
       "      <th></th>\n",
       "      <th>total_images</th>\n",
       "      <th>last_price</th>\n",
       "      <th>total_area</th>\n",
       "      <th>first_day_exposition</th>\n",
       "      <th>rooms</th>\n",
       "      <th>ceiling_height</th>\n",
       "      <th>floors_total</th>\n",
       "      <th>living_area</th>\n",
       "      <th>floor</th>\n",
       "      <th>is_apartment</th>\n",
       "      <th>...</th>\n",
       "      <th>price_metr</th>\n",
       "      <th>weekday</th>\n",
       "      <th>month</th>\n",
       "      <th>year</th>\n",
       "      <th>floor_level</th>\n",
       "      <th>living_to_total</th>\n",
       "      <th>kitchen_to_total</th>\n",
       "      <th>fast</th>\n",
       "      <th>slow</th>\n",
       "      <th>piter_centers_nearest</th>\n",
       "    </tr>\n",
       "  </thead>\n",
       "  <tbody>\n",
       "    <tr>\n",
       "      <td>24</td>\n",
       "      <td>8</td>\n",
       "      <td>6500000.0</td>\n",
       "      <td>97.2</td>\n",
       "      <td>2015-10-31</td>\n",
       "      <td>2</td>\n",
       "      <td>2.65</td>\n",
       "      <td>3</td>\n",
       "      <td>46.500000</td>\n",
       "      <td>1</td>\n",
       "      <td>False</td>\n",
       "      <td>...</td>\n",
       "      <td>66872.427984</td>\n",
       "      <td>5</td>\n",
       "      <td>10</td>\n",
       "      <td>2015</td>\n",
       "      <td>первый</td>\n",
       "      <td>0.48</td>\n",
       "      <td>0.20</td>\n",
       "      <td>False</td>\n",
       "      <td>False</td>\n",
       "      <td>2.0</td>\n",
       "    </tr>\n",
       "    <tr>\n",
       "      <td>94</td>\n",
       "      <td>3</td>\n",
       "      <td>3500000.0</td>\n",
       "      <td>29.5</td>\n",
       "      <td>2019-04-26</td>\n",
       "      <td>1</td>\n",
       "      <td>2.50</td>\n",
       "      <td>5</td>\n",
       "      <td>15.600000</td>\n",
       "      <td>2</td>\n",
       "      <td>False</td>\n",
       "      <td>...</td>\n",
       "      <td>118644.067797</td>\n",
       "      <td>4</td>\n",
       "      <td>4</td>\n",
       "      <td>2019</td>\n",
       "      <td>другой</td>\n",
       "      <td>0.53</td>\n",
       "      <td>0.19</td>\n",
       "      <td>True</td>\n",
       "      <td>False</td>\n",
       "      <td>7.0</td>\n",
       "    </tr>\n",
       "    <tr>\n",
       "      <td>99</td>\n",
       "      <td>32</td>\n",
       "      <td>9600000.0</td>\n",
       "      <td>90.0</td>\n",
       "      <td>2017-09-26</td>\n",
       "      <td>4</td>\n",
       "      <td>2.65</td>\n",
       "      <td>5</td>\n",
       "      <td>67.000000</td>\n",
       "      <td>2</td>\n",
       "      <td>False</td>\n",
       "      <td>...</td>\n",
       "      <td>106666.666667</td>\n",
       "      <td>1</td>\n",
       "      <td>9</td>\n",
       "      <td>2017</td>\n",
       "      <td>другой</td>\n",
       "      <td>0.74</td>\n",
       "      <td>0.09</td>\n",
       "      <td>False</td>\n",
       "      <td>False</td>\n",
       "      <td>3.0</td>\n",
       "    </tr>\n",
       "    <tr>\n",
       "      <td>111</td>\n",
       "      <td>4</td>\n",
       "      <td>4590000.0</td>\n",
       "      <td>40.0</td>\n",
       "      <td>2017-05-29</td>\n",
       "      <td>1</td>\n",
       "      <td>2.65</td>\n",
       "      <td>6</td>\n",
       "      <td>18.000000</td>\n",
       "      <td>1</td>\n",
       "      <td>False</td>\n",
       "      <td>...</td>\n",
       "      <td>114750.000000</td>\n",
       "      <td>0</td>\n",
       "      <td>5</td>\n",
       "      <td>2017</td>\n",
       "      <td>первый</td>\n",
       "      <td>0.45</td>\n",
       "      <td>0.25</td>\n",
       "      <td>False</td>\n",
       "      <td>False</td>\n",
       "      <td>6.0</td>\n",
       "    </tr>\n",
       "    <tr>\n",
       "      <td>138</td>\n",
       "      <td>8</td>\n",
       "      <td>4800000.0</td>\n",
       "      <td>40.0</td>\n",
       "      <td>2017-11-18</td>\n",
       "      <td>2</td>\n",
       "      <td>2.65</td>\n",
       "      <td>3</td>\n",
       "      <td>29.000000</td>\n",
       "      <td>2</td>\n",
       "      <td>False</td>\n",
       "      <td>...</td>\n",
       "      <td>120000.000000</td>\n",
       "      <td>5</td>\n",
       "      <td>11</td>\n",
       "      <td>2017</td>\n",
       "      <td>другой</td>\n",
       "      <td>0.72</td>\n",
       "      <td>0.15</td>\n",
       "      <td>False</td>\n",
       "      <td>False</td>\n",
       "      <td>3.0</td>\n",
       "    </tr>\n",
       "    <tr>\n",
       "      <td>...</td>\n",
       "      <td>...</td>\n",
       "      <td>...</td>\n",
       "      <td>...</td>\n",
       "      <td>...</td>\n",
       "      <td>...</td>\n",
       "      <td>...</td>\n",
       "      <td>...</td>\n",
       "      <td>...</td>\n",
       "      <td>...</td>\n",
       "      <td>...</td>\n",
       "      <td>...</td>\n",
       "      <td>...</td>\n",
       "      <td>...</td>\n",
       "      <td>...</td>\n",
       "      <td>...</td>\n",
       "      <td>...</td>\n",
       "      <td>...</td>\n",
       "      <td>...</td>\n",
       "      <td>...</td>\n",
       "      <td>...</td>\n",
       "      <td>...</td>\n",
       "    </tr>\n",
       "    <tr>\n",
       "      <td>23632</td>\n",
       "      <td>20</td>\n",
       "      <td>5000000.0</td>\n",
       "      <td>38.0</td>\n",
       "      <td>2018-06-23</td>\n",
       "      <td>1</td>\n",
       "      <td>2.55</td>\n",
       "      <td>16</td>\n",
       "      <td>21.468023</td>\n",
       "      <td>15</td>\n",
       "      <td>False</td>\n",
       "      <td>...</td>\n",
       "      <td>131578.947368</td>\n",
       "      <td>5</td>\n",
       "      <td>6</td>\n",
       "      <td>2018</td>\n",
       "      <td>другой</td>\n",
       "      <td>0.56</td>\n",
       "      <td>0.19</td>\n",
       "      <td>False</td>\n",
       "      <td>False</td>\n",
       "      <td>7.0</td>\n",
       "    </tr>\n",
       "    <tr>\n",
       "      <td>23644</td>\n",
       "      <td>7</td>\n",
       "      <td>4990000.0</td>\n",
       "      <td>62.5</td>\n",
       "      <td>2018-04-26</td>\n",
       "      <td>2</td>\n",
       "      <td>2.70</td>\n",
       "      <td>4</td>\n",
       "      <td>32.300000</td>\n",
       "      <td>4</td>\n",
       "      <td>False</td>\n",
       "      <td>...</td>\n",
       "      <td>79840.000000</td>\n",
       "      <td>3</td>\n",
       "      <td>4</td>\n",
       "      <td>2018</td>\n",
       "      <td>последний</td>\n",
       "      <td>0.52</td>\n",
       "      <td>0.19</td>\n",
       "      <td>False</td>\n",
       "      <td>False</td>\n",
       "      <td>4.0</td>\n",
       "    </tr>\n",
       "    <tr>\n",
       "      <td>23665</td>\n",
       "      <td>11</td>\n",
       "      <td>4250000.0</td>\n",
       "      <td>47.0</td>\n",
       "      <td>2016-05-20</td>\n",
       "      <td>1</td>\n",
       "      <td>2.65</td>\n",
       "      <td>6</td>\n",
       "      <td>18.200000</td>\n",
       "      <td>1</td>\n",
       "      <td>False</td>\n",
       "      <td>...</td>\n",
       "      <td>90425.531915</td>\n",
       "      <td>4</td>\n",
       "      <td>5</td>\n",
       "      <td>2016</td>\n",
       "      <td>первый</td>\n",
       "      <td>0.39</td>\n",
       "      <td>0.31</td>\n",
       "      <td>False</td>\n",
       "      <td>False</td>\n",
       "      <td>5.0</td>\n",
       "    </tr>\n",
       "    <tr>\n",
       "      <td>23681</td>\n",
       "      <td>13</td>\n",
       "      <td>5250000.0</td>\n",
       "      <td>43.0</td>\n",
       "      <td>2018-05-11</td>\n",
       "      <td>2</td>\n",
       "      <td>2.50</td>\n",
       "      <td>5</td>\n",
       "      <td>29.000000</td>\n",
       "      <td>2</td>\n",
       "      <td>False</td>\n",
       "      <td>...</td>\n",
       "      <td>122093.023256</td>\n",
       "      <td>4</td>\n",
       "      <td>5</td>\n",
       "      <td>2018</td>\n",
       "      <td>другой</td>\n",
       "      <td>0.67</td>\n",
       "      <td>0.14</td>\n",
       "      <td>False</td>\n",
       "      <td>False</td>\n",
       "      <td>7.0</td>\n",
       "    </tr>\n",
       "    <tr>\n",
       "      <td>23690</td>\n",
       "      <td>3</td>\n",
       "      <td>5500000.0</td>\n",
       "      <td>52.0</td>\n",
       "      <td>2018-07-19</td>\n",
       "      <td>2</td>\n",
       "      <td>2.65</td>\n",
       "      <td>5</td>\n",
       "      <td>31.000000</td>\n",
       "      <td>2</td>\n",
       "      <td>False</td>\n",
       "      <td>...</td>\n",
       "      <td>105769.230769</td>\n",
       "      <td>3</td>\n",
       "      <td>7</td>\n",
       "      <td>2018</td>\n",
       "      <td>другой</td>\n",
       "      <td>0.60</td>\n",
       "      <td>0.12</td>\n",
       "      <td>True</td>\n",
       "      <td>False</td>\n",
       "      <td>6.0</td>\n",
       "    </tr>\n",
       "  </tbody>\n",
       "</table>\n",
       "<p>1012 rows × 33 columns</p>\n",
       "</div>"
      ],
      "text/plain": [
       "       total_images  last_price  total_area first_day_exposition  rooms  \\\n",
       "24                8   6500000.0        97.2           2015-10-31      2   \n",
       "94                3   3500000.0        29.5           2019-04-26      1   \n",
       "99               32   9600000.0        90.0           2017-09-26      4   \n",
       "111               4   4590000.0        40.0           2017-05-29      1   \n",
       "138               8   4800000.0        40.0           2017-11-18      2   \n",
       "...             ...         ...         ...                  ...    ...   \n",
       "23632            20   5000000.0        38.0           2018-06-23      1   \n",
       "23644             7   4990000.0        62.5           2018-04-26      2   \n",
       "23665            11   4250000.0        47.0           2016-05-20      1   \n",
       "23681            13   5250000.0        43.0           2018-05-11      2   \n",
       "23690             3   5500000.0        52.0           2018-07-19      2   \n",
       "\n",
       "       ceiling_height  floors_total  living_area  floor  is_apartment  ...  \\\n",
       "24               2.65             3    46.500000      1         False  ...   \n",
       "94               2.50             5    15.600000      2         False  ...   \n",
       "99               2.65             5    67.000000      2         False  ...   \n",
       "111              2.65             6    18.000000      1         False  ...   \n",
       "138              2.65             3    29.000000      2         False  ...   \n",
       "...               ...           ...          ...    ...           ...  ...   \n",
       "23632            2.55            16    21.468023     15         False  ...   \n",
       "23644            2.70             4    32.300000      4         False  ...   \n",
       "23665            2.65             6    18.200000      1         False  ...   \n",
       "23681            2.50             5    29.000000      2         False  ...   \n",
       "23690            2.65             5    31.000000      2         False  ...   \n",
       "\n",
       "          price_metr  weekday  month  year floor_level  living_to_total  \\\n",
       "24      66872.427984        5     10  2015      первый             0.48   \n",
       "94     118644.067797        4      4  2019      другой             0.53   \n",
       "99     106666.666667        1      9  2017      другой             0.74   \n",
       "111    114750.000000        0      5  2017      первый             0.45   \n",
       "138    120000.000000        5     11  2017      другой             0.72   \n",
       "...              ...      ...    ...   ...         ...              ...   \n",
       "23632  131578.947368        5      6  2018      другой             0.56   \n",
       "23644   79840.000000        3      4  2018   последний             0.52   \n",
       "23665   90425.531915        4      5  2016      первый             0.39   \n",
       "23681  122093.023256        4      5  2018      другой             0.67   \n",
       "23690  105769.230769        3      7  2018      другой             0.60   \n",
       "\n",
       "       kitchen_to_total   fast   slow  piter_centers_nearest  \n",
       "24                 0.20  False  False                    2.0  \n",
       "94                 0.19   True  False                    7.0  \n",
       "99                 0.09  False  False                    3.0  \n",
       "111                0.25  False  False                    6.0  \n",
       "138                0.15  False  False                    3.0  \n",
       "...                 ...    ...    ...                    ...  \n",
       "23632              0.19  False  False                    7.0  \n",
       "23644              0.19  False  False                    4.0  \n",
       "23665              0.31  False  False                    5.0  \n",
       "23681              0.14  False  False                    7.0  \n",
       "23690              0.12   True  False                    6.0  \n",
       "\n",
       "[1012 rows x 33 columns]"
      ]
     },
     "execution_count": 101,
     "metadata": {},
     "output_type": "execute_result"
    }
   ],
   "source": [
    "piter_center = piter[piter['piter_centers_nearest']<=7]\n",
    "piter_center"
   ]
  },
  {
   "cell_type": "code",
   "execution_count": 102,
   "metadata": {},
   "outputs": [
    {
     "data": {
      "text/html": [
       "<div>\n",
       "<style scoped>\n",
       "    .dataframe tbody tr th:only-of-type {\n",
       "        vertical-align: middle;\n",
       "    }\n",
       "\n",
       "    .dataframe tbody tr th {\n",
       "        vertical-align: top;\n",
       "    }\n",
       "\n",
       "    .dataframe thead th {\n",
       "        text-align: right;\n",
       "    }\n",
       "</style>\n",
       "<table border=\"1\" class=\"dataframe\">\n",
       "  <thead>\n",
       "    <tr style=\"text-align: right;\">\n",
       "      <th></th>\n",
       "      <th>total_area</th>\n",
       "      <th>last_price</th>\n",
       "      <th>rooms</th>\n",
       "      <th>ceiling_height</th>\n",
       "    </tr>\n",
       "  </thead>\n",
       "  <tbody>\n",
       "    <tr>\n",
       "      <td>count</td>\n",
       "      <td>1012.000000</td>\n",
       "      <td>1.012000e+03</td>\n",
       "      <td>1012.000000</td>\n",
       "      <td>1012.000000</td>\n",
       "    </tr>\n",
       "    <tr>\n",
       "      <td>mean</td>\n",
       "      <td>59.007154</td>\n",
       "      <td>6.899729e+06</td>\n",
       "      <td>2.055336</td>\n",
       "      <td>2.658508</td>\n",
       "    </tr>\n",
       "    <tr>\n",
       "      <td>std</td>\n",
       "      <td>18.681801</td>\n",
       "      <td>2.126412e+06</td>\n",
       "      <td>0.869815</td>\n",
       "      <td>0.071455</td>\n",
       "    </tr>\n",
       "    <tr>\n",
       "      <td>min</td>\n",
       "      <td>12.000000</td>\n",
       "      <td>1.686000e+06</td>\n",
       "      <td>0.000000</td>\n",
       "      <td>2.460000</td>\n",
       "    </tr>\n",
       "    <tr>\n",
       "      <td>25%</td>\n",
       "      <td>44.000000</td>\n",
       "      <td>5.300000e+06</td>\n",
       "      <td>1.000000</td>\n",
       "      <td>2.650000</td>\n",
       "    </tr>\n",
       "    <tr>\n",
       "      <td>50%</td>\n",
       "      <td>57.650000</td>\n",
       "      <td>6.700000e+06</td>\n",
       "      <td>2.000000</td>\n",
       "      <td>2.650000</td>\n",
       "    </tr>\n",
       "    <tr>\n",
       "      <td>75%</td>\n",
       "      <td>72.000000</td>\n",
       "      <td>8.500000e+06</td>\n",
       "      <td>3.000000</td>\n",
       "      <td>2.650000</td>\n",
       "    </tr>\n",
       "    <tr>\n",
       "      <td>max</td>\n",
       "      <td>100.000000</td>\n",
       "      <td>1.185000e+07</td>\n",
       "      <td>4.000000</td>\n",
       "      <td>2.850000</td>\n",
       "    </tr>\n",
       "  </tbody>\n",
       "</table>\n",
       "</div>"
      ],
      "text/plain": [
       "        total_area    last_price        rooms  ceiling_height\n",
       "count  1012.000000  1.012000e+03  1012.000000     1012.000000\n",
       "mean     59.007154  6.899729e+06     2.055336        2.658508\n",
       "std      18.681801  2.126412e+06     0.869815        0.071455\n",
       "min      12.000000  1.686000e+06     0.000000        2.460000\n",
       "25%      44.000000  5.300000e+06     1.000000        2.650000\n",
       "50%      57.650000  6.700000e+06     2.000000        2.650000\n",
       "75%      72.000000  8.500000e+06     3.000000        2.650000\n",
       "max     100.000000  1.185000e+07     4.000000        2.850000"
      ]
     },
     "execution_count": 102,
     "metadata": {},
     "output_type": "execute_result"
    }
   ],
   "source": [
    "piter_center[['total_area', 'last_price', 'rooms', 'ceiling_height']].describe()"
   ]
  },
  {
   "cell_type": "markdown",
   "metadata": {},
   "source": [
    "Из данной таблицы можно сделать следующие выводы:\n",
    "- в среднем, в центре, встречаются квартиры площадью 60 кв. м\n",
    "- средняя стоимость квартиры в центре 7 миллионов\n",
    "- в центре преобладают двухкомнатные квартиры\n",
    "- высоту потолков оценивать некорректно, так как мы заполняли пропуски медианой"
   ]
  },
  {
   "cell_type": "code",
   "execution_count": 103,
   "metadata": {},
   "outputs": [
    {
     "data": {
      "text/html": [
       "<div>\n",
       "<style scoped>\n",
       "    .dataframe tbody tr th:only-of-type {\n",
       "        vertical-align: middle;\n",
       "    }\n",
       "\n",
       "    .dataframe tbody tr th {\n",
       "        vertical-align: top;\n",
       "    }\n",
       "\n",
       "    .dataframe thead th {\n",
       "        text-align: right;\n",
       "    }\n",
       "</style>\n",
       "<table border=\"1\" class=\"dataframe\">\n",
       "  <thead>\n",
       "    <tr style=\"text-align: right;\">\n",
       "      <th></th>\n",
       "      <th>total_area</th>\n",
       "      <th>last_price</th>\n",
       "      <th>rooms</th>\n",
       "      <th>city_centers_nearest</th>\n",
       "    </tr>\n",
       "  </thead>\n",
       "  <tbody>\n",
       "    <tr>\n",
       "      <td>total_area</td>\n",
       "      <td>1.000000</td>\n",
       "      <td>0.692515</td>\n",
       "      <td>0.767433</td>\n",
       "      <td>-0.156739</td>\n",
       "    </tr>\n",
       "    <tr>\n",
       "      <td>last_price</td>\n",
       "      <td>0.692515</td>\n",
       "      <td>1.000000</td>\n",
       "      <td>0.390656</td>\n",
       "      <td>-0.097343</td>\n",
       "    </tr>\n",
       "    <tr>\n",
       "      <td>rooms</td>\n",
       "      <td>0.767433</td>\n",
       "      <td>0.390656</td>\n",
       "      <td>1.000000</td>\n",
       "      <td>-0.154521</td>\n",
       "    </tr>\n",
       "    <tr>\n",
       "      <td>city_centers_nearest</td>\n",
       "      <td>-0.156739</td>\n",
       "      <td>-0.097343</td>\n",
       "      <td>-0.154521</td>\n",
       "      <td>1.000000</td>\n",
       "    </tr>\n",
       "  </tbody>\n",
       "</table>\n",
       "</div>"
      ],
      "text/plain": [
       "                      total_area  last_price     rooms  city_centers_nearest\n",
       "total_area              1.000000    0.692515  0.767433             -0.156739\n",
       "last_price              0.692515    1.000000  0.390656             -0.097343\n",
       "rooms                   0.767433    0.390656  1.000000             -0.154521\n",
       "city_centers_nearest   -0.156739   -0.097343 -0.154521              1.000000"
      ]
     },
     "execution_count": 103,
     "metadata": {},
     "output_type": "execute_result"
    }
   ],
   "source": [
    "piter_center[['total_area', 'last_price', 'rooms', 'city_centers_nearest']].corr()"
   ]
  },
  {
   "cell_type": "markdown",
   "metadata": {},
   "source": [
    "Из данной таблицы можно сделать следующие выводы:\n",
    "- сильная связь между **общей площадью** и ценой, что говорит о большом влияние на цену\n",
    "- умеренная связь между **количеством комнат** и ценой, что говорит о незначительном влиянии на цену\n",
    "- слабая связь между **расстоянием до центра** и ценой говорит о том,  что расстояние и цена обратно зависимо и почти не влияют друг на друга"
   ]
  },
  {
   "cell_type": "code",
   "execution_count": 104,
   "metadata": {},
   "outputs": [
    {
     "data": {
      "text/html": [
       "<div>\n",
       "<style scoped>\n",
       "    .dataframe tbody tr th:only-of-type {\n",
       "        vertical-align: middle;\n",
       "    }\n",
       "\n",
       "    .dataframe tbody tr th {\n",
       "        vertical-align: top;\n",
       "    }\n",
       "\n",
       "    .dataframe thead th {\n",
       "        text-align: right;\n",
       "    }\n",
       "</style>\n",
       "<table border=\"1\" class=\"dataframe\">\n",
       "  <thead>\n",
       "    <tr style=\"text-align: right;\">\n",
       "      <th></th>\n",
       "      <th>total_area</th>\n",
       "      <th>last_price</th>\n",
       "      <th>rooms</th>\n",
       "      <th>city_centers_nearest</th>\n",
       "    </tr>\n",
       "  </thead>\n",
       "  <tbody>\n",
       "    <tr>\n",
       "      <td>total_area</td>\n",
       "      <td>1.000000</td>\n",
       "      <td>0.787771</td>\n",
       "      <td>0.785355</td>\n",
       "      <td>-0.096391</td>\n",
       "    </tr>\n",
       "    <tr>\n",
       "      <td>last_price</td>\n",
       "      <td>0.787771</td>\n",
       "      <td>1.000000</td>\n",
       "      <td>0.472385</td>\n",
       "      <td>-0.276151</td>\n",
       "    </tr>\n",
       "    <tr>\n",
       "      <td>rooms</td>\n",
       "      <td>0.785355</td>\n",
       "      <td>0.472385</td>\n",
       "      <td>1.000000</td>\n",
       "      <td>-0.071682</td>\n",
       "    </tr>\n",
       "    <tr>\n",
       "      <td>city_centers_nearest</td>\n",
       "      <td>-0.096391</td>\n",
       "      <td>-0.276151</td>\n",
       "      <td>-0.071682</td>\n",
       "      <td>1.000000</td>\n",
       "    </tr>\n",
       "  </tbody>\n",
       "</table>\n",
       "</div>"
      ],
      "text/plain": [
       "                      total_area  last_price     rooms  city_centers_nearest\n",
       "total_area              1.000000    0.787771  0.785355             -0.096391\n",
       "last_price              0.787771    1.000000  0.472385             -0.276151\n",
       "rooms                   0.785355    0.472385  1.000000             -0.071682\n",
       "city_centers_nearest   -0.096391   -0.276151 -0.071682              1.000000"
      ]
     },
     "execution_count": 104,
     "metadata": {},
     "output_type": "execute_result"
    }
   ],
   "source": [
    "piter[['total_area', 'last_price', 'rooms', 'city_centers_nearest']].corr()"
   ]
  },
  {
   "cell_type": "code",
   "execution_count": 105,
   "metadata": {},
   "outputs": [
    {
     "data": {
      "text/plain": [
       "<matplotlib.axes._subplots.AxesSubplot at 0x7f300c0ab1d0>"
      ]
     },
     "execution_count": 105,
     "metadata": {},
     "output_type": "execute_result"
    },
    {
     "data": {
      "image/png": "[encoded data removed]",
      "text/plain": [
       "<Figure size 432x288 with 1 Axes>"
      ]
     },
     "metadata": {
      "needs_background": "light"
     },
     "output_type": "display_data"
    }
   ],
   "source": [
    "from_areas = piter.groupby('total_area')['last_price'].mean()\n",
    "from_areas.plot(x='total_area', y='last_price', kind='bar')"
   ]
  },
  {
   "cell_type": "markdown",
   "metadata": {},
   "source": [
    "Можно сказать, что график подтверждает значение коэффицента корреляции. Чем больше площадь, тем больше цена."
   ]
  },
  {
   "cell_type": "code",
   "execution_count": 106,
   "metadata": {},
   "outputs": [
    {
     "data": {
      "text/plain": [
       "<matplotlib.axes._subplots.AxesSubplot at 0x7f300b975a50>"
      ]
     },
     "execution_count": 106,
     "metadata": {},
     "output_type": "execute_result"
    },
    {
     "data": {
      "image/png": "[encoded data removed]",
      "text/plain": [
       "<Figure size 432x288 with 1 Axes>"
      ]
     },
     "metadata": {
      "needs_background": "light"
     },
     "output_type": "display_data"
    }
   ],
   "source": [
    "from_room = piter.groupby('rooms')['last_price'].mean()\n",
    "from_room.plot(x='rooms', y='last_price', kind='bar')"
   ]
  },
  {
   "cell_type": "markdown",
   "metadata": {},
   "source": [
    "Можно сказать, что график подтверждает значение коэффициента корреляции. Чем больше комнат, тем больше цена."
   ]
  },
  {
   "cell_type": "code",
   "execution_count": 107,
   "metadata": {},
   "outputs": [
    {
     "data": {
      "text/plain": [
       "<matplotlib.axes._subplots.AxesSubplot at 0x7f300be48ad0>"
      ]
     },
     "execution_count": 107,
     "metadata": {},
     "output_type": "execute_result"
    },
    {
     "data": {
      "image/png": "[encoded data removed]",
      "text/plain": [
       "<Figure size 432x288 with 1 Axes>"
      ]
     },
     "metadata": {
      "needs_background": "light"
     },
     "output_type": "display_data"
    }
   ],
   "source": [
    "from_near = piter.groupby('city_centers_nearest')['last_price'].mean()\n",
    "from_near.plot(x='city_centers_nearest', y='last_price', kind='bar')"
   ]
  },
  {
   "cell_type": "markdown",
   "metadata": {},
   "source": [
    "На данном графике не прослеживается никакая зависимость, что говорит о том, что расстояние практически не влияет на цену."
   ]
  },
  {
   "cell_type": "markdown",
   "metadata": {},
   "source": [
    "Коэффициенты корреляции центрального района и города всего в целом несильно различаются. Однако можно подметить присутствие тенденции снижения цены квартиры в зависимости от расстояния."
   ]
  },
  {
   "cell_type": "code",
   "execution_count": 108,
   "metadata": {},
   "outputs": [
    {
     "data": {
      "text/plain": [
       "floor_level\n",
       "другой       7.149269e+06\n",
       "первый       5.636869e+06\n",
       "последний    6.919764e+06\n",
       "Name: last_price, dtype: float64"
      ]
     },
     "execution_count": 108,
     "metadata": {},
     "output_type": "execute_result"
    }
   ],
   "source": [
    "from_floor2 = piter_center.groupby('floor_level')['last_price'].mean()\n",
    "from_floor2"
   ]
  },
  {
   "cell_type": "code",
   "execution_count": 109,
   "metadata": {},
   "outputs": [
    {
     "data": {
      "text/plain": [
       "<matplotlib.axes._subplots.AxesSubplot at 0x7f300847af10>"
      ]
     },
     "execution_count": 109,
     "metadata": {},
     "output_type": "execute_result"
    },
    {
     "data": {
      "image/png": "[encoded data removed]",
      "text/plain": [
       "<Figure size 432x288 with 1 Axes>"
      ]
     },
     "metadata": {
      "needs_background": "light"
     },
     "output_type": "display_data"
    }
   ],
   "source": [
    "from_floor2.plot(x='floor_level', y='last_price', kind='bar')"
   ]
  },
  {
   "cell_type": "markdown",
   "metadata": {},
   "source": [
    "Самые дорогие квартиры находятся ни на первом, ни на последнем этаже.\n",
    "\n",
    "Самые дешевые - на первом.\n",
    "\n",
    "Такая же тенденция есть и в других объявлениях самые дешевые квартиры на 1 этаже."
   ]
  },
  {
   "cell_type": "code",
   "execution_count": 110,
   "metadata": {},
   "outputs": [
    {
     "data": {
      "text/plain": [
       "weekday\n",
       "0    6.775074e+06\n",
       "1    6.784153e+06\n",
       "2    6.999931e+06\n",
       "3    6.690570e+06\n",
       "4    7.038808e+06\n",
       "5    6.885922e+06\n",
       "6    7.545789e+06\n",
       "Name: last_price, dtype: float64"
      ]
     },
     "execution_count": 110,
     "metadata": {},
     "output_type": "execute_result"
    }
   ],
   "source": [
    "from_week2 = piter_center.groupby('weekday')['last_price'].mean()\n",
    "from_week2"
   ]
  },
  {
   "cell_type": "code",
   "execution_count": 111,
   "metadata": {},
   "outputs": [
    {
     "data": {
      "text/plain": [
       "<matplotlib.axes._subplots.AxesSubplot at 0x7f3008236850>"
      ]
     },
     "execution_count": 111,
     "metadata": {},
     "output_type": "execute_result"
    },
    {
     "data": {
      "image/png": "[encoded data removed]",
      "text/plain": [
       "<Figure size 432x288 with 1 Axes>"
      ]
     },
     "metadata": {
      "needs_background": "light"
     },
     "output_type": "display_data"
    }
   ],
   "source": [
    "from_week2.plot(x='weekday', y='last_price', kind='bar')"
   ]
  },
  {
   "cell_type": "markdown",
   "metadata": {},
   "source": [
    "От даты размещения цена не зависит, в течение всей неделе цена колеблется  в отрезке от 6 до 7 млн."
   ]
  },
  {
   "cell_type": "markdown",
   "metadata": {},
   "source": [
    "## Общий вывод"
   ]
  },
  {
   "cell_type": "markdown",
   "metadata": {},
   "source": [
    "В данном объёмном исследовании найдены ответы на все вопросы:\n",
    "\n",
    "**1. Сколько обычно занимает  продажа квартиры на сервисе?**\n",
    "- Обычно квартиры продаются за 95 дней\n",
    "- Быстрой продажей считается менее чем за 45 дней\n",
    "- Очень долго продажей является срок более 2 лет \n",
    "\n",
    "**2. Какие факторы больше всего влияют на стоимость квартиры?**\n",
    "- Больше всего на величину стоимости влияет общая площадь квартиры, в прямой зависимости\n",
    "- Также стоит отметить, чем больше комнат и ближе к городу, тем больше цена\n",
    "- Квартиры на первых и последних этажах дешевле, чем на других\n",
    "- День подачи заявлений никак не влияет на стоимость\n",
    "\n",
    "**3. Где самая дорогие квартиры и наоборот?**\n",
    "- Самая высокая цена в Санкт-Петербурге \n",
    "- Самая низкая в Выборге\n",
    "\n",
    "**4. Что считается центральным районам Питера?**\n",
    "- На основе данных о средней стоимости квартир, мы опредилили в радиусе 7 км\n",
    "- Цена в данном районе в среднем составляет 7 млн\n",
    "- Средняя цена за пределами центра составляет 5 млн\n",
    "- Квартир с большой площадью преимущественно  больше в центральном рай"
   ]
  },
  {
   "cell_type": "code",
   "execution_count": null,
   "metadata": {},
   "outputs": [],
   "source": []
  }
 ],
 "metadata": {
  "ExecuteTimeLog": [
   {
    "duration": 818,
    "start_time": "2022-02-11T10:12:16.066Z"
   },
   {
    "duration": 73,
    "start_time": "2022-02-11T10:16:44.083Z"
   },
   {
    "duration": 814,
    "start_time": "2022-02-12T19:07:12.204Z"
   },
   {
    "duration": 97,
    "start_time": "2022-02-12T19:07:24.162Z"
   },
   {
    "duration": 141,
    "start_time": "2022-02-12T19:07:28.583Z"
   },
   {
    "duration": 95,
    "start_time": "2022-02-12T19:07:31.003Z"
   },
   {
    "duration": 95,
    "start_time": "2022-02-12T19:07:33.271Z"
   },
   {
    "duration": 100,
    "start_time": "2022-02-12T19:10:12.789Z"
   },
   {
    "duration": 15,
    "start_time": "2022-02-12T19:11:07.566Z"
   },
   {
    "duration": 26,
    "start_time": "2022-02-12T19:11:40.680Z"
   },
   {
    "duration": 10,
    "start_time": "2022-02-12T19:11:47.340Z"
   },
   {
    "duration": 12,
    "start_time": "2022-02-12T19:12:24.424Z"
   },
   {
    "duration": 80,
    "start_time": "2022-02-12T19:14:09.738Z"
   },
   {
    "duration": 10,
    "start_time": "2022-02-12T19:21:00.111Z"
   },
   {
    "duration": 10,
    "start_time": "2022-02-12T19:21:03.918Z"
   },
   {
    "duration": 11,
    "start_time": "2022-02-12T19:22:17.610Z"
   },
   {
    "duration": 10,
    "start_time": "2022-02-12T19:22:18.467Z"
   },
   {
    "duration": 96,
    "start_time": "2022-02-12T19:25:15.740Z"
   },
   {
    "duration": 322,
    "start_time": "2022-02-12T19:26:22.235Z"
   },
   {
    "duration": 32,
    "start_time": "2022-02-12T19:27:18.483Z"
   },
   {
    "duration": 29,
    "start_time": "2022-02-12T19:27:26.004Z"
   },
   {
    "duration": 304,
    "start_time": "2022-02-13T14:57:10.516Z"
   },
   {
    "duration": 918,
    "start_time": "2022-02-13T14:57:18.770Z"
   },
   {
    "duration": 12,
    "start_time": "2022-02-13T14:57:19.690Z"
   },
   {
    "duration": 9,
    "start_time": "2022-02-13T14:57:19.704Z"
   },
   {
    "duration": 27,
    "start_time": "2022-02-13T14:57:19.715Z"
   },
   {
    "duration": 6,
    "start_time": "2022-02-13T15:17:07.273Z"
   },
   {
    "duration": 6,
    "start_time": "2022-02-13T15:22:18.673Z"
   },
   {
    "duration": 37,
    "start_time": "2022-02-13T15:22:46.842Z"
   },
   {
    "duration": 31,
    "start_time": "2022-02-13T15:23:09.774Z"
   },
   {
    "duration": 29,
    "start_time": "2022-02-13T15:41:41.951Z"
   },
   {
    "duration": 27,
    "start_time": "2022-02-13T15:41:53.981Z"
   },
   {
    "duration": 49,
    "start_time": "2022-02-13T15:42:02.232Z"
   },
   {
    "duration": 6675,
    "start_time": "2022-02-13T15:45:14.275Z"
   },
   {
    "duration": 11,
    "start_time": "2022-02-13T15:45:49.568Z"
   },
   {
    "duration": 94,
    "start_time": "2022-02-13T15:46:38.144Z"
   },
   {
    "duration": 10,
    "start_time": "2022-02-13T15:46:51.159Z"
   },
   {
    "duration": 1390,
    "start_time": "2022-02-13T16:35:21.237Z"
   },
   {
    "duration": 12,
    "start_time": "2022-02-13T16:35:22.629Z"
   },
   {
    "duration": 9,
    "start_time": "2022-02-13T16:35:22.643Z"
   },
   {
    "duration": 44,
    "start_time": "2022-02-13T16:35:22.654Z"
   },
   {
    "duration": 30,
    "start_time": "2022-02-13T16:35:22.700Z"
   },
   {
    "duration": 8,
    "start_time": "2022-02-13T16:35:22.732Z"
   },
   {
    "duration": 36,
    "start_time": "2022-02-13T16:37:29.741Z"
   },
   {
    "duration": 32,
    "start_time": "2022-02-13T16:39:49.234Z"
   },
   {
    "duration": 10,
    "start_time": "2022-02-13T16:43:53.666Z"
   },
   {
    "duration": 33,
    "start_time": "2022-02-13T16:44:22.989Z"
   },
   {
    "duration": 31,
    "start_time": "2022-02-13T16:52:32.990Z"
   },
   {
    "duration": 5,
    "start_time": "2022-02-13T16:52:53.198Z"
   },
   {
    "duration": 325,
    "start_time": "2022-02-13T17:00:06.435Z"
   },
   {
    "duration": 6,
    "start_time": "2022-02-13T17:01:30.107Z"
   },
   {
    "duration": 254,
    "start_time": "2022-02-13T17:16:19.547Z"
   },
   {
    "duration": 762,
    "start_time": "2022-02-13T17:16:33.691Z"
   },
   {
    "duration": 12,
    "start_time": "2022-02-13T17:16:34.455Z"
   },
   {
    "duration": 10,
    "start_time": "2022-02-13T17:16:34.469Z"
   },
   {
    "duration": 29,
    "start_time": "2022-02-13T17:16:34.497Z"
   },
   {
    "duration": 30,
    "start_time": "2022-02-13T17:16:34.528Z"
   },
   {
    "duration": 4,
    "start_time": "2022-02-13T17:16:34.560Z"
   },
   {
    "duration": 6,
    "start_time": "2022-02-13T17:16:34.565Z"
   },
   {
    "duration": 6,
    "start_time": "2022-02-13T17:17:10.331Z"
   },
   {
    "duration": 5,
    "start_time": "2022-02-13T17:17:19.465Z"
   },
   {
    "duration": 6,
    "start_time": "2022-02-13T17:17:55.373Z"
   },
   {
    "duration": 7,
    "start_time": "2022-02-13T17:18:21.530Z"
   },
   {
    "duration": 223,
    "start_time": "2022-02-15T07:48:49.178Z"
   },
   {
    "duration": 669,
    "start_time": "2022-02-15T07:48:57.814Z"
   },
   {
    "duration": 9,
    "start_time": "2022-02-15T07:48:58.485Z"
   },
   {
    "duration": 25,
    "start_time": "2022-02-15T07:48:58.497Z"
   },
   {
    "duration": 24,
    "start_time": "2022-02-15T07:48:58.525Z"
   },
   {
    "duration": 25,
    "start_time": "2022-02-15T07:48:58.551Z"
   },
   {
    "duration": 3,
    "start_time": "2022-02-15T07:48:58.578Z"
   },
   {
    "duration": 33,
    "start_time": "2022-02-15T07:48:58.582Z"
   },
   {
    "duration": 255,
    "start_time": "2022-02-15T07:48:58.618Z"
   },
   {
    "duration": 24,
    "start_time": "2022-02-15T08:02:49.277Z"
   },
   {
    "duration": 28,
    "start_time": "2022-02-15T08:02:54.144Z"
   },
   {
    "duration": 4,
    "start_time": "2022-02-15T08:04:10.724Z"
   },
   {
    "duration": 5,
    "start_time": "2022-02-15T08:04:33.402Z"
   },
   {
    "duration": 8,
    "start_time": "2022-02-15T08:21:12.760Z"
   },
   {
    "duration": 5,
    "start_time": "2022-02-15T08:21:23.344Z"
   },
   {
    "duration": 14,
    "start_time": "2022-02-15T08:22:04.355Z"
   },
   {
    "duration": 9,
    "start_time": "2022-02-15T08:22:12.357Z"
   },
   {
    "duration": 622,
    "start_time": "2022-02-15T08:22:19.675Z"
   },
   {
    "duration": 14,
    "start_time": "2022-02-15T08:22:20.299Z"
   },
   {
    "duration": 11,
    "start_time": "2022-02-15T08:22:20.317Z"
   },
   {
    "duration": 25,
    "start_time": "2022-02-15T08:22:20.331Z"
   },
   {
    "duration": 25,
    "start_time": "2022-02-15T08:22:20.358Z"
   },
   {
    "duration": 3,
    "start_time": "2022-02-15T08:22:20.384Z"
   },
   {
    "duration": 28,
    "start_time": "2022-02-15T08:22:20.389Z"
   },
   {
    "duration": 29,
    "start_time": "2022-02-15T08:22:20.421Z"
   },
   {
    "duration": 8,
    "start_time": "2022-02-15T08:22:20.452Z"
   },
   {
    "duration": 14,
    "start_time": "2022-02-15T08:22:43.120Z"
   },
   {
    "duration": 12,
    "start_time": "2022-02-15T08:22:47.296Z"
   },
   {
    "duration": 11,
    "start_time": "2022-02-15T08:22:53.952Z"
   },
   {
    "duration": 11,
    "start_time": "2022-02-15T08:23:01.009Z"
   },
   {
    "duration": 5,
    "start_time": "2022-02-15T08:23:11.704Z"
   },
   {
    "duration": 629,
    "start_time": "2022-02-15T08:23:17.657Z"
   },
   {
    "duration": 10,
    "start_time": "2022-02-15T08:23:18.288Z"
   },
   {
    "duration": 19,
    "start_time": "2022-02-15T08:23:18.299Z"
   },
   {
    "duration": 29,
    "start_time": "2022-02-15T08:23:18.320Z"
   },
   {
    "duration": 25,
    "start_time": "2022-02-15T08:23:18.350Z"
   },
   {
    "duration": 3,
    "start_time": "2022-02-15T08:23:18.377Z"
   },
   {
    "duration": 37,
    "start_time": "2022-02-15T08:23:18.382Z"
   },
   {
    "duration": 25,
    "start_time": "2022-02-15T08:23:18.422Z"
   },
   {
    "duration": 7,
    "start_time": "2022-02-15T08:23:18.449Z"
   },
   {
    "duration": 4,
    "start_time": "2022-02-15T08:23:18.458Z"
   },
   {
    "duration": 65,
    "start_time": "2022-02-15T08:27:35.053Z"
   },
   {
    "duration": 24,
    "start_time": "2022-02-15T08:36:47.927Z"
   },
   {
    "duration": 27,
    "start_time": "2022-02-15T08:37:16.376Z"
   },
   {
    "duration": 24,
    "start_time": "2022-02-15T08:37:38.885Z"
   },
   {
    "duration": 7,
    "start_time": "2022-02-15T08:41:53.751Z"
   },
   {
    "duration": 7,
    "start_time": "2022-02-15T08:42:07.761Z"
   },
   {
    "duration": 19,
    "start_time": "2022-02-15T08:42:19.364Z"
   },
   {
    "duration": 8,
    "start_time": "2022-02-15T08:47:12.848Z"
   },
   {
    "duration": 5,
    "start_time": "2022-02-15T08:51:31.531Z"
   },
   {
    "duration": 5,
    "start_time": "2022-02-15T08:55:46.704Z"
   },
   {
    "duration": 9,
    "start_time": "2022-02-15T08:55:57.441Z"
   },
   {
    "duration": 9,
    "start_time": "2022-02-15T08:57:06.010Z"
   },
   {
    "duration": 5,
    "start_time": "2022-02-15T08:57:33.117Z"
   },
   {
    "duration": 69,
    "start_time": "2022-02-15T09:01:57.406Z"
   },
   {
    "duration": 60,
    "start_time": "2022-02-15T09:03:06.129Z"
   },
   {
    "duration": 26,
    "start_time": "2022-02-15T09:03:38.237Z"
   },
   {
    "duration": 5,
    "start_time": "2022-02-15T09:04:27.735Z"
   },
   {
    "duration": 5,
    "start_time": "2022-02-15T09:04:30.743Z"
   },
   {
    "duration": 6,
    "start_time": "2022-02-15T09:04:45.689Z"
   },
   {
    "duration": 5,
    "start_time": "2022-02-15T09:04:53.717Z"
   },
   {
    "duration": 249,
    "start_time": "2022-02-15T09:05:01.048Z"
   },
   {
    "duration": 6,
    "start_time": "2022-02-15T09:10:09.901Z"
   },
   {
    "duration": 5,
    "start_time": "2022-02-15T09:10:25.065Z"
   },
   {
    "duration": 284,
    "start_time": "2022-02-15T09:12:25.097Z"
   },
   {
    "duration": 181,
    "start_time": "2022-02-15T09:12:28.837Z"
   },
   {
    "duration": 7,
    "start_time": "2022-02-15T09:12:32.361Z"
   },
   {
    "duration": 6,
    "start_time": "2022-02-15T09:22:07.683Z"
   },
   {
    "duration": 6,
    "start_time": "2022-02-15T09:22:22.991Z"
   },
   {
    "duration": 5,
    "start_time": "2022-02-15T09:38:49.309Z"
   },
   {
    "duration": 6,
    "start_time": "2022-02-15T09:39:04.608Z"
   },
   {
    "duration": 25,
    "start_time": "2022-02-15T09:39:26.407Z"
   },
   {
    "duration": 4831,
    "start_time": "2022-02-15T09:42:56.399Z"
   },
   {
    "duration": 6,
    "start_time": "2022-02-15T09:43:10.145Z"
   },
   {
    "duration": 33,
    "start_time": "2022-02-15T09:43:32.575Z"
   },
   {
    "duration": 4,
    "start_time": "2022-02-15T09:43:54.773Z"
   },
   {
    "duration": 5,
    "start_time": "2022-02-15T09:44:26.809Z"
   },
   {
    "duration": 5,
    "start_time": "2022-02-15T09:44:37.556Z"
   },
   {
    "duration": 41,
    "start_time": "2022-02-15T09:45:15.781Z"
   },
   {
    "duration": 71,
    "start_time": "2022-02-15T09:46:52.357Z"
   },
   {
    "duration": 33,
    "start_time": "2022-02-15T09:46:58.865Z"
   },
   {
    "duration": 190,
    "start_time": "2022-02-15T09:57:22.894Z"
   },
   {
    "duration": 174,
    "start_time": "2022-02-15T09:58:40.447Z"
   },
   {
    "duration": 3,
    "start_time": "2022-02-15T10:13:29.805Z"
   },
   {
    "duration": 23,
    "start_time": "2022-02-15T10:14:55.729Z"
   },
   {
    "duration": 3,
    "start_time": "2022-02-15T10:15:07.323Z"
   },
   {
    "duration": 25,
    "start_time": "2022-02-15T10:15:08.869Z"
   },
   {
    "duration": 64,
    "start_time": "2022-02-15T10:15:29.260Z"
   },
   {
    "duration": 57,
    "start_time": "2022-02-15T10:15:37.244Z"
   },
   {
    "duration": 76,
    "start_time": "2022-02-15T10:15:42.347Z"
   },
   {
    "duration": 3,
    "start_time": "2022-02-15T10:17:16.408Z"
   },
   {
    "duration": 24,
    "start_time": "2022-02-15T10:17:18.699Z"
   },
   {
    "duration": 62,
    "start_time": "2022-02-15T10:18:01.205Z"
   },
   {
    "duration": 869,
    "start_time": "2022-02-15T10:18:06.450Z"
   },
   {
    "duration": 662,
    "start_time": "2022-02-15T10:25:46.577Z"
   },
   {
    "duration": 342,
    "start_time": "2022-02-15T10:29:43.129Z"
   },
   {
    "duration": 588,
    "start_time": "2022-02-15T10:29:51.460Z"
   },
   {
    "duration": 10,
    "start_time": "2022-02-15T10:29:52.050Z"
   },
   {
    "duration": 7,
    "start_time": "2022-02-15T10:29:52.062Z"
   },
   {
    "duration": 43,
    "start_time": "2022-02-15T10:29:52.071Z"
   },
   {
    "duration": 26,
    "start_time": "2022-02-15T10:29:52.115Z"
   },
   {
    "duration": 3,
    "start_time": "2022-02-15T10:29:52.142Z"
   },
   {
    "duration": 6,
    "start_time": "2022-02-15T10:29:52.146Z"
   },
   {
    "duration": 21,
    "start_time": "2022-02-15T10:29:52.154Z"
   },
   {
    "duration": 35,
    "start_time": "2022-02-15T10:29:52.177Z"
   },
   {
    "duration": 5,
    "start_time": "2022-02-15T10:29:52.213Z"
   },
   {
    "duration": 22,
    "start_time": "2022-02-15T10:29:52.220Z"
   },
   {
    "duration": 8,
    "start_time": "2022-02-15T10:29:52.243Z"
   },
   {
    "duration": 3,
    "start_time": "2022-02-15T10:29:52.253Z"
   },
   {
    "duration": 7,
    "start_time": "2022-02-15T10:29:52.257Z"
   },
   {
    "duration": 8,
    "start_time": "2022-02-15T10:29:52.266Z"
   },
   {
    "duration": 58,
    "start_time": "2022-02-15T10:29:52.275Z"
   },
   {
    "duration": 6178,
    "start_time": "2022-02-15T10:29:52.335Z"
   },
   {
    "duration": 35,
    "start_time": "2022-02-15T10:29:58.480Z"
   },
   {
    "duration": 60,
    "start_time": "2022-02-15T10:30:16.912Z"
   },
   {
    "duration": 68,
    "start_time": "2022-02-15T10:30:28.389Z"
   },
   {
    "duration": 69,
    "start_time": "2022-02-15T10:31:16.687Z"
   },
   {
    "duration": 6,
    "start_time": "2022-02-15T10:31:20.809Z"
   },
   {
    "duration": 24,
    "start_time": "2022-02-15T10:31:27.105Z"
   },
   {
    "duration": 26,
    "start_time": "2022-02-15T10:40:03.698Z"
   },
   {
    "duration": 24,
    "start_time": "2022-02-15T10:40:09.954Z"
   },
   {
    "duration": 4,
    "start_time": "2022-02-15T10:40:38.440Z"
   },
   {
    "duration": 5,
    "start_time": "2022-02-15T10:40:52.715Z"
   },
   {
    "duration": 6,
    "start_time": "2022-02-15T10:40:59.151Z"
   },
   {
    "duration": 603,
    "start_time": "2022-02-15T10:41:16.752Z"
   },
   {
    "duration": 10,
    "start_time": "2022-02-15T10:41:17.357Z"
   },
   {
    "duration": 7,
    "start_time": "2022-02-15T10:41:17.369Z"
   },
   {
    "duration": 44,
    "start_time": "2022-02-15T10:41:17.378Z"
   },
   {
    "duration": 25,
    "start_time": "2022-02-15T10:41:17.424Z"
   },
   {
    "duration": 3,
    "start_time": "2022-02-15T10:41:17.450Z"
   },
   {
    "duration": 8,
    "start_time": "2022-02-15T10:41:17.454Z"
   },
   {
    "duration": 48,
    "start_time": "2022-02-15T10:41:17.464Z"
   },
   {
    "duration": 8,
    "start_time": "2022-02-15T10:41:17.514Z"
   },
   {
    "duration": 4,
    "start_time": "2022-02-15T10:41:17.524Z"
   },
   {
    "duration": 23,
    "start_time": "2022-02-15T10:41:17.529Z"
   },
   {
    "duration": 7,
    "start_time": "2022-02-15T10:41:17.554Z"
   },
   {
    "duration": 4,
    "start_time": "2022-02-15T10:41:17.562Z"
   },
   {
    "duration": 8,
    "start_time": "2022-02-15T10:41:17.567Z"
   },
   {
    "duration": 40,
    "start_time": "2022-02-15T10:41:17.576Z"
   },
   {
    "duration": 24,
    "start_time": "2022-02-15T10:41:17.618Z"
   },
   {
    "duration": 5,
    "start_time": "2022-02-15T10:41:17.643Z"
   },
   {
    "duration": 7,
    "start_time": "2022-02-15T10:41:17.649Z"
   },
   {
    "duration": 24,
    "start_time": "2022-02-15T10:41:17.658Z"
   },
   {
    "duration": 4,
    "start_time": "2022-02-15T10:41:17.712Z"
   },
   {
    "duration": 5,
    "start_time": "2022-02-15T10:41:57.031Z"
   },
   {
    "duration": 5,
    "start_time": "2022-02-15T10:42:04.585Z"
   },
   {
    "duration": 600,
    "start_time": "2022-02-15T10:45:21.760Z"
   },
   {
    "duration": 12,
    "start_time": "2022-02-15T10:45:22.363Z"
   },
   {
    "duration": 8,
    "start_time": "2022-02-15T10:45:22.377Z"
   },
   {
    "duration": 44,
    "start_time": "2022-02-15T10:45:22.387Z"
   },
   {
    "duration": 24,
    "start_time": "2022-02-15T10:45:22.433Z"
   },
   {
    "duration": 3,
    "start_time": "2022-02-15T10:45:22.458Z"
   },
   {
    "duration": 6,
    "start_time": "2022-02-15T10:45:22.463Z"
   },
   {
    "duration": 44,
    "start_time": "2022-02-15T10:45:22.472Z"
   },
   {
    "duration": 8,
    "start_time": "2022-02-15T10:45:22.518Z"
   },
   {
    "duration": 5,
    "start_time": "2022-02-15T10:45:22.527Z"
   },
   {
    "duration": 22,
    "start_time": "2022-02-15T10:45:22.533Z"
   },
   {
    "duration": 8,
    "start_time": "2022-02-15T10:45:22.557Z"
   },
   {
    "duration": 4,
    "start_time": "2022-02-15T10:45:22.566Z"
   },
   {
    "duration": 44,
    "start_time": "2022-02-15T10:45:22.571Z"
   },
   {
    "duration": 7,
    "start_time": "2022-02-15T10:45:22.616Z"
   },
   {
    "duration": 24,
    "start_time": "2022-02-15T10:45:22.625Z"
   },
   {
    "duration": 6,
    "start_time": "2022-02-15T10:45:22.651Z"
   },
   {
    "duration": 4,
    "start_time": "2022-02-15T10:45:22.659Z"
   },
   {
    "duration": 5,
    "start_time": "2022-02-15T10:45:22.664Z"
   },
   {
    "duration": 43,
    "start_time": "2022-02-15T10:45:22.671Z"
   },
   {
    "duration": 6,
    "start_time": "2022-02-15T10:45:22.716Z"
   },
   {
    "duration": 5,
    "start_time": "2022-02-15T10:45:22.724Z"
   },
   {
    "duration": 7,
    "start_time": "2022-02-15T12:06:28.774Z"
   },
   {
    "duration": 507,
    "start_time": "2022-02-15T12:08:47.847Z"
   },
   {
    "duration": 60,
    "start_time": "2022-02-15T12:11:15.942Z"
   },
   {
    "duration": 5,
    "start_time": "2022-02-15T12:11:21.794Z"
   },
   {
    "duration": 10,
    "start_time": "2022-02-15T12:12:14.632Z"
   },
   {
    "duration": 5,
    "start_time": "2022-02-15T12:12:16.471Z"
   },
   {
    "duration": 622,
    "start_time": "2022-02-15T12:14:13.635Z"
   },
   {
    "duration": 9,
    "start_time": "2022-02-15T12:14:14.259Z"
   },
   {
    "duration": 7,
    "start_time": "2022-02-15T12:14:14.270Z"
   },
   {
    "duration": 43,
    "start_time": "2022-02-15T12:14:14.279Z"
   },
   {
    "duration": 25,
    "start_time": "2022-02-15T12:14:14.323Z"
   },
   {
    "duration": 3,
    "start_time": "2022-02-15T12:14:14.349Z"
   },
   {
    "duration": 8,
    "start_time": "2022-02-15T12:14:14.353Z"
   },
   {
    "duration": 21,
    "start_time": "2022-02-15T12:14:14.364Z"
   },
   {
    "duration": 28,
    "start_time": "2022-02-15T12:14:14.387Z"
   },
   {
    "duration": 4,
    "start_time": "2022-02-15T12:14:14.416Z"
   },
   {
    "duration": 23,
    "start_time": "2022-02-15T12:14:14.421Z"
   },
   {
    "duration": 8,
    "start_time": "2022-02-15T12:14:14.445Z"
   },
   {
    "duration": 4,
    "start_time": "2022-02-15T12:14:14.454Z"
   },
   {
    "duration": 7,
    "start_time": "2022-02-15T12:14:14.459Z"
   },
   {
    "duration": 7,
    "start_time": "2022-02-15T12:14:14.467Z"
   },
   {
    "duration": 59,
    "start_time": "2022-02-15T12:14:14.475Z"
   },
   {
    "duration": 8,
    "start_time": "2022-02-15T12:14:14.535Z"
   },
   {
    "duration": 5,
    "start_time": "2022-02-15T12:14:14.544Z"
   },
   {
    "duration": 5,
    "start_time": "2022-02-15T12:14:14.550Z"
   },
   {
    "duration": 5,
    "start_time": "2022-02-15T12:14:14.557Z"
   },
   {
    "duration": 4,
    "start_time": "2022-02-15T12:14:14.563Z"
   },
   {
    "duration": 43,
    "start_time": "2022-02-15T12:14:14.569Z"
   },
   {
    "duration": 5,
    "start_time": "2022-02-15T12:14:14.615Z"
   },
   {
    "duration": 70,
    "start_time": "2022-02-15T12:40:14.653Z"
   },
   {
    "duration": 10,
    "start_time": "2022-02-15T12:40:23.702Z"
   },
   {
    "duration": 619,
    "start_time": "2022-02-15T12:40:37.248Z"
   },
   {
    "duration": 9,
    "start_time": "2022-02-15T12:40:37.869Z"
   },
   {
    "duration": 6,
    "start_time": "2022-02-15T12:40:37.882Z"
   },
   {
    "duration": 24,
    "start_time": "2022-02-15T12:40:37.890Z"
   },
   {
    "duration": 24,
    "start_time": "2022-02-15T12:40:37.915Z"
   },
   {
    "duration": 22,
    "start_time": "2022-02-15T12:40:37.941Z"
   },
   {
    "duration": 3,
    "start_time": "2022-02-15T12:40:37.965Z"
   },
   {
    "duration": 9,
    "start_time": "2022-02-15T12:40:37.970Z"
   },
   {
    "duration": 45,
    "start_time": "2022-02-15T12:40:37.980Z"
   },
   {
    "duration": 8,
    "start_time": "2022-02-15T12:40:38.026Z"
   },
   {
    "duration": 10,
    "start_time": "2022-02-15T12:40:38.035Z"
   },
   {
    "duration": 35,
    "start_time": "2022-02-15T12:40:38.047Z"
   },
   {
    "duration": 8,
    "start_time": "2022-02-15T12:40:38.083Z"
   },
   {
    "duration": 15,
    "start_time": "2022-02-15T12:40:38.092Z"
   },
   {
    "duration": 8,
    "start_time": "2022-02-15T12:40:38.109Z"
   },
   {
    "duration": 21,
    "start_time": "2022-02-15T12:40:38.118Z"
   },
   {
    "duration": 34,
    "start_time": "2022-02-15T12:40:38.140Z"
   },
   {
    "duration": 6,
    "start_time": "2022-02-15T12:40:38.176Z"
   },
   {
    "duration": 14,
    "start_time": "2022-02-15T12:40:38.184Z"
   },
   {
    "duration": 7,
    "start_time": "2022-02-15T12:40:38.199Z"
   },
   {
    "duration": 16,
    "start_time": "2022-02-15T12:40:38.208Z"
   },
   {
    "duration": 5,
    "start_time": "2022-02-15T12:40:38.226Z"
   },
   {
    "duration": 22,
    "start_time": "2022-02-15T12:40:38.233Z"
   },
   {
    "duration": 19,
    "start_time": "2022-02-15T12:40:38.256Z"
   },
   {
    "duration": 204,
    "start_time": "2022-02-15T19:52:31.911Z"
   },
   {
    "duration": 645,
    "start_time": "2022-02-15T19:52:39.687Z"
   },
   {
    "duration": 11,
    "start_time": "2022-02-15T19:52:40.334Z"
   },
   {
    "duration": 7,
    "start_time": "2022-02-15T19:52:40.347Z"
   },
   {
    "duration": 8,
    "start_time": "2022-02-15T19:52:40.356Z"
   },
   {
    "duration": 26,
    "start_time": "2022-02-15T19:52:40.366Z"
   },
   {
    "duration": 58,
    "start_time": "2022-02-15T19:52:40.394Z"
   },
   {
    "duration": 4,
    "start_time": "2022-02-15T19:52:40.454Z"
   },
   {
    "duration": 8,
    "start_time": "2022-02-15T19:52:40.460Z"
   },
   {
    "duration": 26,
    "start_time": "2022-02-15T19:52:40.471Z"
   },
   {
    "duration": 39,
    "start_time": "2022-02-15T19:52:40.498Z"
   },
   {
    "duration": 4,
    "start_time": "2022-02-15T19:52:40.539Z"
   },
   {
    "duration": 23,
    "start_time": "2022-02-15T19:52:40.544Z"
   },
   {
    "duration": 8,
    "start_time": "2022-02-15T19:52:40.568Z"
   },
   {
    "duration": 4,
    "start_time": "2022-02-15T19:52:40.578Z"
   },
   {
    "duration": 47,
    "start_time": "2022-02-15T19:52:40.583Z"
   },
   {
    "duration": 7,
    "start_time": "2022-02-15T19:52:40.632Z"
   },
   {
    "duration": 24,
    "start_time": "2022-02-15T19:52:40.641Z"
   },
   {
    "duration": 7,
    "start_time": "2022-02-15T19:52:40.667Z"
   },
   {
    "duration": 7,
    "start_time": "2022-02-15T19:52:40.676Z"
   },
   {
    "duration": 45,
    "start_time": "2022-02-15T19:52:40.685Z"
   },
   {
    "duration": 6,
    "start_time": "2022-02-15T19:52:40.733Z"
   },
   {
    "duration": 7,
    "start_time": "2022-02-15T19:52:40.740Z"
   },
   {
    "duration": 9,
    "start_time": "2022-02-15T19:52:40.751Z"
   },
   {
    "duration": 4,
    "start_time": "2022-02-15T19:52:40.762Z"
   },
   {
    "duration": 17,
    "start_time": "2022-02-15T19:52:40.768Z"
   },
   {
    "duration": 5,
    "start_time": "2022-02-15T19:57:43.701Z"
   },
   {
    "duration": 4,
    "start_time": "2022-02-15T19:58:00.565Z"
   },
   {
    "duration": 24,
    "start_time": "2022-02-15T19:58:45.100Z"
   },
   {
    "duration": 29,
    "start_time": "2022-02-15T20:07:27.804Z"
   },
   {
    "duration": 24,
    "start_time": "2022-02-15T20:10:12.961Z"
   },
   {
    "duration": 3287,
    "start_time": "2022-02-15T20:14:39.374Z"
   },
   {
    "duration": 6,
    "start_time": "2022-02-15T20:16:04.774Z"
   },
   {
    "duration": 21,
    "start_time": "2022-02-15T20:16:25.063Z"
   },
   {
    "duration": 191,
    "start_time": "2022-02-15T20:17:00.036Z"
   },
   {
    "duration": 168,
    "start_time": "2022-02-15T20:19:41.384Z"
   },
   {
    "duration": 178,
    "start_time": "2022-02-15T20:19:57.166Z"
   },
   {
    "duration": 868,
    "start_time": "2022-02-15T20:20:20.662Z"
   },
   {
    "duration": 10,
    "start_time": "2022-02-15T20:20:21.532Z"
   },
   {
    "duration": 8,
    "start_time": "2022-02-15T20:20:21.544Z"
   },
   {
    "duration": 9,
    "start_time": "2022-02-15T20:20:21.553Z"
   },
   {
    "duration": 26,
    "start_time": "2022-02-15T20:20:21.564Z"
   },
   {
    "duration": 54,
    "start_time": "2022-02-15T20:20:21.591Z"
   },
   {
    "duration": 4,
    "start_time": "2022-02-15T20:20:21.646Z"
   },
   {
    "duration": 5,
    "start_time": "2022-02-15T20:20:21.652Z"
   },
   {
    "duration": 21,
    "start_time": "2022-02-15T20:20:21.659Z"
   },
   {
    "duration": 7,
    "start_time": "2022-02-15T20:20:21.682Z"
   },
   {
    "duration": 39,
    "start_time": "2022-02-15T20:20:21.691Z"
   },
   {
    "duration": 22,
    "start_time": "2022-02-15T20:20:21.732Z"
   },
   {
    "duration": 9,
    "start_time": "2022-02-15T20:20:21.755Z"
   },
   {
    "duration": 4,
    "start_time": "2022-02-15T20:20:21.765Z"
   },
   {
    "duration": 7,
    "start_time": "2022-02-15T20:20:21.771Z"
   },
   {
    "duration": 7,
    "start_time": "2022-02-15T20:20:21.779Z"
   },
   {
    "duration": 61,
    "start_time": "2022-02-15T20:20:21.787Z"
   },
   {
    "duration": 8,
    "start_time": "2022-02-15T20:20:21.850Z"
   },
   {
    "duration": 7,
    "start_time": "2022-02-15T20:20:21.859Z"
   },
   {
    "duration": 9,
    "start_time": "2022-02-15T20:20:21.868Z"
   },
   {
    "duration": 9,
    "start_time": "2022-02-15T20:20:21.878Z"
   },
   {
    "duration": 8,
    "start_time": "2022-02-15T20:20:21.888Z"
   },
   {
    "duration": 11,
    "start_time": "2022-02-15T20:20:21.898Z"
   },
   {
    "duration": 5,
    "start_time": "2022-02-15T20:20:21.930Z"
   },
   {
    "duration": 14,
    "start_time": "2022-02-15T20:20:21.936Z"
   },
   {
    "duration": 7,
    "start_time": "2022-02-15T20:20:21.952Z"
   },
   {
    "duration": 8,
    "start_time": "2022-02-15T20:20:21.961Z"
   },
   {
    "duration": 27,
    "start_time": "2022-02-15T20:20:21.971Z"
   },
   {
    "duration": 1043,
    "start_time": "2022-02-15T20:20:22.000Z"
   },
   {
    "duration": 880,
    "start_time": "2022-02-15T20:20:22.165Z"
   },
   {
    "duration": 186,
    "start_time": "2022-02-15T20:21:44.256Z"
   },
   {
    "duration": 178,
    "start_time": "2022-02-15T20:32:36.938Z"
   },
   {
    "duration": 181,
    "start_time": "2022-02-15T20:34:27.144Z"
   },
   {
    "duration": 7,
    "start_time": "2022-02-15T20:40:31.387Z"
   },
   {
    "duration": 28,
    "start_time": "2022-02-15T20:40:37.616Z"
   },
   {
    "duration": 5,
    "start_time": "2022-02-15T20:43:48.951Z"
   },
   {
    "duration": 19,
    "start_time": "2022-02-15T20:43:53.219Z"
   },
   {
    "duration": 24,
    "start_time": "2022-02-15T20:44:23.665Z"
   },
   {
    "duration": 189,
    "start_time": "2022-02-15T20:44:51.612Z"
   },
   {
    "duration": 195,
    "start_time": "2022-02-15T20:44:59.996Z"
   },
   {
    "duration": 203,
    "start_time": "2022-02-15T20:45:12.585Z"
   },
   {
    "duration": 5,
    "start_time": "2022-02-15T20:45:28.696Z"
   },
   {
    "duration": 18,
    "start_time": "2022-02-15T20:46:30.296Z"
   },
   {
    "duration": 179,
    "start_time": "2022-02-15T20:50:10.456Z"
   },
   {
    "duration": 180,
    "start_time": "2022-02-15T20:50:25.909Z"
   },
   {
    "duration": 11,
    "start_time": "2022-02-15T20:50:54.119Z"
   },
   {
    "duration": 54,
    "start_time": "2022-02-15T20:52:11.916Z"
   },
   {
    "duration": 4,
    "start_time": "2022-02-15T21:11:24.990Z"
   },
   {
    "duration": 9,
    "start_time": "2022-02-15T21:12:15.138Z"
   },
   {
    "duration": 4,
    "start_time": "2022-02-15T21:13:36.497Z"
   },
   {
    "duration": 9,
    "start_time": "2022-02-15T21:13:43.356Z"
   },
   {
    "duration": 63,
    "start_time": "2022-02-15T21:16:11.981Z"
   },
   {
    "duration": 7,
    "start_time": "2022-02-15T21:22:29.210Z"
   },
   {
    "duration": 9,
    "start_time": "2022-02-15T21:23:09.338Z"
   },
   {
    "duration": 242,
    "start_time": "2022-02-15T21:23:11.472Z"
   },
   {
    "duration": 6,
    "start_time": "2022-02-15T21:23:53.040Z"
   },
   {
    "duration": 5,
    "start_time": "2022-02-15T21:24:40.596Z"
   },
   {
    "duration": 17,
    "start_time": "2022-02-15T21:26:23.290Z"
   },
   {
    "duration": 9,
    "start_time": "2022-02-15T21:26:37.541Z"
   },
   {
    "duration": 3,
    "start_time": "2022-02-15T21:36:02.349Z"
   },
   {
    "duration": 462,
    "start_time": "2022-02-15T21:37:13.104Z"
   },
   {
    "duration": 5,
    "start_time": "2022-02-15T21:37:48.677Z"
   },
   {
    "duration": 10,
    "start_time": "2022-02-15T21:39:01.693Z"
   },
   {
    "duration": 9,
    "start_time": "2022-02-15T21:40:25.849Z"
   },
   {
    "duration": 5,
    "start_time": "2022-02-15T21:44:22.644Z"
   },
   {
    "duration": 4,
    "start_time": "2022-02-15T21:44:51.387Z"
   },
   {
    "duration": 5,
    "start_time": "2022-02-15T21:45:58.001Z"
   },
   {
    "duration": 4,
    "start_time": "2022-02-15T21:46:01.983Z"
   },
   {
    "duration": 665,
    "start_time": "2022-02-15T21:47:24.921Z"
   },
   {
    "duration": 13,
    "start_time": "2022-02-15T21:47:25.588Z"
   },
   {
    "duration": 8,
    "start_time": "2022-02-15T21:47:25.603Z"
   },
   {
    "duration": 24,
    "start_time": "2022-02-15T21:47:25.613Z"
   },
   {
    "duration": 27,
    "start_time": "2022-02-15T21:47:25.639Z"
   },
   {
    "duration": 26,
    "start_time": "2022-02-15T21:47:25.668Z"
   },
   {
    "duration": 4,
    "start_time": "2022-02-15T21:47:25.695Z"
   },
   {
    "duration": 6,
    "start_time": "2022-02-15T21:47:25.731Z"
   },
   {
    "duration": 23,
    "start_time": "2022-02-15T21:47:25.739Z"
   },
   {
    "duration": 9,
    "start_time": "2022-02-15T21:47:25.764Z"
   },
   {
    "duration": 4,
    "start_time": "2022-02-15T21:47:25.774Z"
   },
   {
    "duration": 51,
    "start_time": "2022-02-15T21:47:25.780Z"
   },
   {
    "duration": 8,
    "start_time": "2022-02-15T21:47:25.833Z"
   },
   {
    "duration": 4,
    "start_time": "2022-02-15T21:47:25.843Z"
   },
   {
    "duration": 7,
    "start_time": "2022-02-15T21:47:25.849Z"
   },
   {
    "duration": 8,
    "start_time": "2022-02-15T21:47:25.858Z"
   },
   {
    "duration": 25,
    "start_time": "2022-02-15T21:47:25.868Z"
   },
   {
    "duration": 37,
    "start_time": "2022-02-15T21:47:25.894Z"
   },
   {
    "duration": 5,
    "start_time": "2022-02-15T21:47:25.933Z"
   },
   {
    "duration": 5,
    "start_time": "2022-02-15T21:47:25.940Z"
   },
   {
    "duration": 5,
    "start_time": "2022-02-15T21:47:25.947Z"
   },
   {
    "duration": 7,
    "start_time": "2022-02-15T21:47:25.953Z"
   },
   {
    "duration": 10,
    "start_time": "2022-02-15T21:47:25.962Z"
   },
   {
    "duration": 4,
    "start_time": "2022-02-15T21:47:25.973Z"
   },
   {
    "duration": 10,
    "start_time": "2022-02-15T21:47:25.979Z"
   },
   {
    "duration": 41,
    "start_time": "2022-02-15T21:47:25.991Z"
   },
   {
    "duration": 4,
    "start_time": "2022-02-15T21:47:26.033Z"
   },
   {
    "duration": 7,
    "start_time": "2022-02-15T21:47:26.039Z"
   },
   {
    "duration": 23,
    "start_time": "2022-02-15T21:47:26.048Z"
   },
   {
    "duration": 10,
    "start_time": "2022-02-15T21:47:26.073Z"
   },
   {
    "duration": 5,
    "start_time": "2022-02-15T21:47:26.085Z"
   },
   {
    "duration": 11,
    "start_time": "2022-02-15T21:47:26.091Z"
   },
   {
    "duration": 30,
    "start_time": "2022-02-15T21:47:26.103Z"
   },
   {
    "duration": 6,
    "start_time": "2022-02-15T21:47:26.134Z"
   },
   {
    "duration": 5,
    "start_time": "2022-02-15T21:47:26.142Z"
   },
   {
    "duration": 13,
    "start_time": "2022-02-15T21:47:26.149Z"
   },
   {
    "duration": 3,
    "start_time": "2022-02-15T21:47:26.163Z"
   },
   {
    "duration": 479,
    "start_time": "2022-02-15T21:47:26.168Z"
   },
   {
    "duration": 10,
    "start_time": "2022-02-15T21:47:26.648Z"
   },
   {
    "duration": 4,
    "start_time": "2022-02-15T21:47:26.659Z"
   },
   {
    "duration": 7,
    "start_time": "2022-02-15T21:47:26.664Z"
   },
   {
    "duration": 33,
    "start_time": "2022-02-15T21:49:21.635Z"
   },
   {
    "duration": 4,
    "start_time": "2022-02-15T21:50:08.678Z"
   },
   {
    "duration": 4,
    "start_time": "2022-02-15T21:50:11.933Z"
   },
   {
    "duration": 10,
    "start_time": "2022-02-15T21:50:13.388Z"
   },
   {
    "duration": 662,
    "start_time": "2022-02-15T21:51:41.732Z"
   },
   {
    "duration": 14,
    "start_time": "2022-02-15T21:51:42.396Z"
   },
   {
    "duration": 22,
    "start_time": "2022-02-15T21:51:42.412Z"
   },
   {
    "duration": 10,
    "start_time": "2022-02-15T21:51:42.437Z"
   },
   {
    "duration": 28,
    "start_time": "2022-02-15T21:51:42.449Z"
   },
   {
    "duration": 57,
    "start_time": "2022-02-15T21:51:42.479Z"
   },
   {
    "duration": 4,
    "start_time": "2022-02-15T21:51:42.538Z"
   },
   {
    "duration": 8,
    "start_time": "2022-02-15T21:51:42.543Z"
   },
   {
    "duration": 22,
    "start_time": "2022-02-15T21:51:42.553Z"
   },
   {
    "duration": 11,
    "start_time": "2022-02-15T21:51:42.577Z"
   },
   {
    "duration": 5,
    "start_time": "2022-02-15T21:51:42.590Z"
   },
   {
    "duration": 49,
    "start_time": "2022-02-15T21:51:42.596Z"
   },
   {
    "duration": 8,
    "start_time": "2022-02-15T21:51:42.647Z"
   },
   {
    "duration": 4,
    "start_time": "2022-02-15T21:51:42.657Z"
   },
   {
    "duration": 8,
    "start_time": "2022-02-15T21:51:42.663Z"
   },
   {
    "duration": 10,
    "start_time": "2022-02-15T21:51:42.673Z"
   },
   {
    "duration": 53,
    "start_time": "2022-02-15T21:51:42.685Z"
   },
   {
    "duration": 9,
    "start_time": "2022-02-15T21:51:42.740Z"
   },
   {
    "duration": 5,
    "start_time": "2022-02-15T21:51:42.751Z"
   },
   {
    "duration": 9,
    "start_time": "2022-02-15T21:51:42.758Z"
   },
   {
    "duration": 6,
    "start_time": "2022-02-15T21:51:42.768Z"
   },
   {
    "duration": 7,
    "start_time": "2022-02-15T21:51:42.776Z"
   },
   {
    "duration": 11,
    "start_time": "2022-02-15T21:51:42.785Z"
   },
   {
    "duration": 32,
    "start_time": "2022-02-15T21:51:42.798Z"
   },
   {
    "duration": 10,
    "start_time": "2022-02-15T21:51:42.832Z"
   },
   {
    "duration": 5,
    "start_time": "2022-02-15T21:51:42.843Z"
   },
   {
    "duration": 7,
    "start_time": "2022-02-15T21:51:42.851Z"
   },
   {
    "duration": 9,
    "start_time": "2022-02-15T21:51:42.860Z"
   },
   {
    "duration": 24,
    "start_time": "2022-02-15T21:51:42.870Z"
   },
   {
    "duration": 35,
    "start_time": "2022-02-15T21:51:42.896Z"
   },
   {
    "duration": 4,
    "start_time": "2022-02-15T21:51:42.933Z"
   },
   {
    "duration": 12,
    "start_time": "2022-02-15T21:51:42.939Z"
   },
   {
    "duration": 12,
    "start_time": "2022-02-15T21:51:42.952Z"
   },
   {
    "duration": 5,
    "start_time": "2022-02-15T21:51:42.966Z"
   },
   {
    "duration": 6,
    "start_time": "2022-02-15T21:51:42.973Z"
   },
   {
    "duration": 14,
    "start_time": "2022-02-15T21:51:42.981Z"
   },
   {
    "duration": 3,
    "start_time": "2022-02-15T21:51:42.996Z"
   },
   {
    "duration": 476,
    "start_time": "2022-02-15T21:51:43.001Z"
   },
   {
    "duration": 9,
    "start_time": "2022-02-15T21:51:43.479Z"
   },
   {
    "duration": 4,
    "start_time": "2022-02-15T21:51:43.490Z"
   },
   {
    "duration": 7,
    "start_time": "2022-02-15T21:51:43.495Z"
   },
   {
    "duration": 33,
    "start_time": "2022-02-15T21:51:43.503Z"
   },
   {
    "duration": 726,
    "start_time": "2022-02-15T21:52:35.597Z"
   },
   {
    "duration": 16,
    "start_time": "2022-02-15T21:52:36.325Z"
   },
   {
    "duration": 10,
    "start_time": "2022-02-15T21:52:36.343Z"
   },
   {
    "duration": 12,
    "start_time": "2022-02-15T21:52:36.356Z"
   },
   {
    "duration": 66,
    "start_time": "2022-02-15T21:52:36.370Z"
   },
   {
    "duration": 40,
    "start_time": "2022-02-15T21:52:36.439Z"
   },
   {
    "duration": 3,
    "start_time": "2022-02-15T21:52:36.481Z"
   },
   {
    "duration": 6,
    "start_time": "2022-02-15T21:52:36.487Z"
   },
   {
    "duration": 50,
    "start_time": "2022-02-15T21:52:36.495Z"
   },
   {
    "duration": 10,
    "start_time": "2022-02-15T21:52:36.546Z"
   },
   {
    "duration": 4,
    "start_time": "2022-02-15T21:52:36.558Z"
   },
   {
    "duration": 23,
    "start_time": "2022-02-15T21:52:36.564Z"
   },
   {
    "duration": 8,
    "start_time": "2022-02-15T21:52:36.588Z"
   },
   {
    "duration": 35,
    "start_time": "2022-02-15T21:52:36.598Z"
   },
   {
    "duration": 8,
    "start_time": "2022-02-15T21:52:36.635Z"
   },
   {
    "duration": 11,
    "start_time": "2022-02-15T21:52:36.644Z"
   },
   {
    "duration": 25,
    "start_time": "2022-02-15T21:52:36.657Z"
   },
   {
    "duration": 46,
    "start_time": "2022-02-15T21:52:36.684Z"
   },
   {
    "duration": 235,
    "start_time": "2022-02-15T21:52:36.732Z"
   },
   {
    "duration": 365,
    "start_time": "2022-02-15T21:52:36.604Z"
   },
   {
    "duration": 355,
    "start_time": "2022-02-15T21:52:36.616Z"
   },
   {
    "duration": 345,
    "start_time": "2022-02-15T21:52:36.627Z"
   },
   {
    "duration": 334,
    "start_time": "2022-02-15T21:52:36.639Z"
   },
   {
    "duration": 321,
    "start_time": "2022-02-15T21:52:36.652Z"
   },
   {
    "duration": 311,
    "start_time": "2022-02-15T21:52:36.663Z"
   },
   {
    "duration": 299,
    "start_time": "2022-02-15T21:52:36.676Z"
   },
   {
    "duration": 251,
    "start_time": "2022-02-15T21:52:36.725Z"
   },
   {
    "duration": 241,
    "start_time": "2022-02-15T21:52:36.736Z"
   },
   {
    "duration": 233,
    "start_time": "2022-02-15T21:52:36.744Z"
   },
   {
    "duration": 225,
    "start_time": "2022-02-15T21:52:36.753Z"
   },
   {
    "duration": 217,
    "start_time": "2022-02-15T21:52:36.762Z"
   },
   {
    "duration": 208,
    "start_time": "2022-02-15T21:52:36.772Z"
   },
   {
    "duration": 197,
    "start_time": "2022-02-15T21:52:36.784Z"
   },
   {
    "duration": 187,
    "start_time": "2022-02-15T21:52:36.795Z"
   },
   {
    "duration": 171,
    "start_time": "2022-02-15T21:52:36.811Z"
   },
   {
    "duration": 144,
    "start_time": "2022-02-15T21:52:36.839Z"
   },
   {
    "duration": 135,
    "start_time": "2022-02-15T21:52:36.849Z"
   },
   {
    "duration": 125,
    "start_time": "2022-02-15T21:52:36.860Z"
   },
   {
    "duration": 115,
    "start_time": "2022-02-15T21:52:36.871Z"
   },
   {
    "duration": 107,
    "start_time": "2022-02-15T21:52:36.880Z"
   },
   {
    "duration": 99,
    "start_time": "2022-02-15T21:52:36.889Z"
   },
   {
    "duration": 90,
    "start_time": "2022-02-15T21:52:36.899Z"
   },
   {
    "duration": 166,
    "start_time": "2022-02-15T21:55:28.747Z"
   },
   {
    "duration": 173,
    "start_time": "2022-02-15T21:55:34.042Z"
   },
   {
    "duration": 57,
    "start_time": "2022-02-15T21:58:39.158Z"
   },
   {
    "duration": 76,
    "start_time": "2022-02-15T21:58:50.659Z"
   },
   {
    "duration": 61,
    "start_time": "2022-02-15T21:58:56.683Z"
   },
   {
    "duration": 202,
    "start_time": "2022-02-15T22:00:15.496Z"
   },
   {
    "duration": 74,
    "start_time": "2022-02-15T22:01:24.468Z"
   },
   {
    "duration": 65,
    "start_time": "2022-02-15T22:01:30.280Z"
   },
   {
    "duration": 241,
    "start_time": "2022-02-15T22:03:07.605Z"
   },
   {
    "duration": 61,
    "start_time": "2022-02-15T22:03:19.804Z"
   },
   {
    "duration": 175,
    "start_time": "2022-02-15T22:06:46.330Z"
   },
   {
    "duration": 170,
    "start_time": "2022-02-15T22:07:28.617Z"
   },
   {
    "duration": 167,
    "start_time": "2022-02-15T22:07:34.811Z"
   },
   {
    "duration": 178,
    "start_time": "2022-02-15T22:07:40.978Z"
   },
   {
    "duration": 638,
    "start_time": "2022-02-15T22:07:50.019Z"
   },
   {
    "duration": 10,
    "start_time": "2022-02-15T22:07:50.660Z"
   },
   {
    "duration": 6,
    "start_time": "2022-02-15T22:07:50.672Z"
   },
   {
    "duration": 7,
    "start_time": "2022-02-15T22:07:50.680Z"
   },
   {
    "duration": 55,
    "start_time": "2022-02-15T22:07:50.689Z"
   },
   {
    "duration": 25,
    "start_time": "2022-02-15T22:07:50.746Z"
   },
   {
    "duration": 5,
    "start_time": "2022-02-15T22:07:50.773Z"
   },
   {
    "duration": 7,
    "start_time": "2022-02-15T22:07:50.780Z"
   },
   {
    "duration": 50,
    "start_time": "2022-02-15T22:07:50.790Z"
   },
   {
    "duration": 10,
    "start_time": "2022-02-15T22:07:50.842Z"
   },
   {
    "duration": 5,
    "start_time": "2022-02-15T22:07:50.854Z"
   },
   {
    "duration": 25,
    "start_time": "2022-02-15T22:07:50.861Z"
   },
   {
    "duration": 8,
    "start_time": "2022-02-15T22:07:50.888Z"
   },
   {
    "duration": 32,
    "start_time": "2022-02-15T22:07:50.898Z"
   },
   {
    "duration": 8,
    "start_time": "2022-02-15T22:07:50.931Z"
   },
   {
    "duration": 10,
    "start_time": "2022-02-15T22:07:50.941Z"
   },
   {
    "duration": 25,
    "start_time": "2022-02-15T22:07:50.952Z"
   },
   {
    "duration": 8,
    "start_time": "2022-02-15T22:07:50.979Z"
   },
   {
    "duration": 5,
    "start_time": "2022-02-15T22:07:50.989Z"
   },
   {
    "duration": 37,
    "start_time": "2022-02-15T22:07:50.996Z"
   },
   {
    "duration": 6,
    "start_time": "2022-02-15T22:07:51.035Z"
   },
   {
    "duration": 7,
    "start_time": "2022-02-15T22:07:51.042Z"
   },
   {
    "duration": 8,
    "start_time": "2022-02-15T22:07:51.052Z"
   },
   {
    "duration": 8,
    "start_time": "2022-02-15T22:07:51.062Z"
   },
   {
    "duration": 17,
    "start_time": "2022-02-15T22:07:51.071Z"
   },
   {
    "duration": 5,
    "start_time": "2022-02-15T22:07:51.089Z"
   },
   {
    "duration": 35,
    "start_time": "2022-02-15T22:07:51.095Z"
   },
   {
    "duration": 5,
    "start_time": "2022-02-15T22:07:51.131Z"
   },
   {
    "duration": 24,
    "start_time": "2022-02-15T22:07:51.138Z"
   },
   {
    "duration": 9,
    "start_time": "2022-02-15T22:07:51.163Z"
   },
   {
    "duration": 13,
    "start_time": "2022-02-15T22:07:51.173Z"
   },
   {
    "duration": 11,
    "start_time": "2022-02-15T22:07:51.187Z"
   },
   {
    "duration": 7,
    "start_time": "2022-02-15T22:07:51.199Z"
   },
   {
    "duration": 5,
    "start_time": "2022-02-15T22:07:51.207Z"
   },
   {
    "duration": 19,
    "start_time": "2022-02-15T22:07:51.214Z"
   },
   {
    "duration": 11,
    "start_time": "2022-02-15T22:07:51.235Z"
   },
   {
    "duration": 2,
    "start_time": "2022-02-15T22:07:51.248Z"
   },
   {
    "duration": 457,
    "start_time": "2022-02-15T22:07:51.252Z"
   },
   {
    "duration": 9,
    "start_time": "2022-02-15T22:07:51.711Z"
   },
   {
    "duration": 4,
    "start_time": "2022-02-15T22:07:51.730Z"
   },
   {
    "duration": 6,
    "start_time": "2022-02-15T22:07:51.735Z"
   },
   {
    "duration": 16,
    "start_time": "2022-02-15T22:07:51.743Z"
   },
   {
    "duration": 7,
    "start_time": "2022-02-15T22:15:16.727Z"
   },
   {
    "duration": 6,
    "start_time": "2022-02-15T22:15:40.390Z"
   },
   {
    "duration": 667,
    "start_time": "2022-02-15T22:15:46.412Z"
   },
   {
    "duration": 11,
    "start_time": "2022-02-15T22:15:47.080Z"
   },
   {
    "duration": 7,
    "start_time": "2022-02-15T22:15:47.093Z"
   },
   {
    "duration": 28,
    "start_time": "2022-02-15T22:15:47.102Z"
   },
   {
    "duration": 26,
    "start_time": "2022-02-15T22:15:47.132Z"
   },
   {
    "duration": 24,
    "start_time": "2022-02-15T22:15:47.160Z"
   },
   {
    "duration": 3,
    "start_time": "2022-02-15T22:15:47.185Z"
   },
   {
    "duration": 6,
    "start_time": "2022-02-15T22:15:47.191Z"
   },
   {
    "duration": 47,
    "start_time": "2022-02-15T22:15:47.199Z"
   },
   {
    "duration": 8,
    "start_time": "2022-02-15T22:15:47.248Z"
   },
   {
    "duration": 4,
    "start_time": "2022-02-15T22:15:47.257Z"
   },
   {
    "duration": 27,
    "start_time": "2022-02-15T22:15:47.262Z"
   },
   {
    "duration": 8,
    "start_time": "2022-02-15T22:15:47.290Z"
   },
   {
    "duration": 35,
    "start_time": "2022-02-15T22:15:47.300Z"
   },
   {
    "duration": 7,
    "start_time": "2022-02-15T22:15:47.336Z"
   },
   {
    "duration": 8,
    "start_time": "2022-02-15T22:15:47.344Z"
   },
   {
    "duration": 23,
    "start_time": "2022-02-15T22:15:47.354Z"
   },
   {
    "duration": 7,
    "start_time": "2022-02-15T22:15:47.378Z"
   },
   {
    "duration": 6,
    "start_time": "2022-02-15T22:15:47.386Z"
   },
   {
    "duration": 40,
    "start_time": "2022-02-15T22:15:47.393Z"
   },
   {
    "duration": 5,
    "start_time": "2022-02-15T22:15:47.435Z"
   },
   {
    "duration": 6,
    "start_time": "2022-02-15T22:15:47.441Z"
   },
   {
    "duration": 9,
    "start_time": "2022-02-15T22:15:47.450Z"
   },
   {
    "duration": 5,
    "start_time": "2022-02-15T22:15:47.460Z"
   },
   {
    "duration": 9,
    "start_time": "2022-02-15T22:15:47.467Z"
   },
   {
    "duration": 5,
    "start_time": "2022-02-15T22:15:47.477Z"
   },
   {
    "duration": 6,
    "start_time": "2022-02-15T22:15:47.483Z"
   },
   {
    "duration": 40,
    "start_time": "2022-02-15T22:15:47.490Z"
   },
   {
    "duration": 19,
    "start_time": "2022-02-15T22:15:47.532Z"
   },
   {
    "duration": 9,
    "start_time": "2022-02-15T22:15:47.553Z"
   },
   {
    "duration": 5,
    "start_time": "2022-02-15T22:15:47.564Z"
   },
   {
    "duration": 9,
    "start_time": "2022-02-15T22:15:47.570Z"
   },
   {
    "duration": 5,
    "start_time": "2022-02-15T22:15:47.581Z"
   },
   {
    "duration": 5,
    "start_time": "2022-02-15T22:15:47.587Z"
   },
   {
    "duration": 37,
    "start_time": "2022-02-15T22:15:47.593Z"
   },
   {
    "duration": 11,
    "start_time": "2022-02-15T22:15:47.632Z"
   },
   {
    "duration": 3,
    "start_time": "2022-02-15T22:15:47.645Z"
   },
   {
    "duration": 450,
    "start_time": "2022-02-15T22:15:47.649Z"
   },
   {
    "duration": 9,
    "start_time": "2022-02-15T22:15:48.101Z"
   },
   {
    "duration": 3,
    "start_time": "2022-02-15T22:15:48.112Z"
   },
   {
    "duration": 16,
    "start_time": "2022-02-15T22:15:48.117Z"
   },
   {
    "duration": 16,
    "start_time": "2022-02-15T22:15:48.134Z"
   },
   {
    "duration": 472,
    "start_time": "2022-02-15T22:18:04.911Z"
   },
   {
    "duration": 445,
    "start_time": "2022-02-15T22:18:40.498Z"
   },
   {
    "duration": 440,
    "start_time": "2022-02-15T22:18:51.064Z"
   },
   {
    "duration": 673,
    "start_time": "2022-02-15T22:19:51.452Z"
   },
   {
    "duration": 17,
    "start_time": "2022-02-15T22:19:52.127Z"
   },
   {
    "duration": 9,
    "start_time": "2022-02-15T22:19:52.150Z"
   },
   {
    "duration": 8,
    "start_time": "2022-02-15T22:19:52.160Z"
   },
   {
    "duration": 27,
    "start_time": "2022-02-15T22:19:52.170Z"
   },
   {
    "duration": 54,
    "start_time": "2022-02-15T22:19:52.199Z"
   },
   {
    "duration": 4,
    "start_time": "2022-02-15T22:19:52.255Z"
   },
   {
    "duration": 11,
    "start_time": "2022-02-15T22:19:52.261Z"
   },
   {
    "duration": 21,
    "start_time": "2022-02-15T22:19:52.274Z"
   },
   {
    "duration": 9,
    "start_time": "2022-02-15T22:19:52.297Z"
   },
   {
    "duration": 27,
    "start_time": "2022-02-15T22:19:52.307Z"
   },
   {
    "duration": 35,
    "start_time": "2022-02-15T22:19:52.336Z"
   },
   {
    "duration": 8,
    "start_time": "2022-02-15T22:19:52.373Z"
   },
   {
    "duration": 5,
    "start_time": "2022-02-15T22:19:52.382Z"
   },
   {
    "duration": 8,
    "start_time": "2022-02-15T22:19:52.388Z"
   },
   {
    "duration": 8,
    "start_time": "2022-02-15T22:19:52.397Z"
   },
   {
    "duration": 56,
    "start_time": "2022-02-15T22:19:52.406Z"
   },
   {
    "duration": 6,
    "start_time": "2022-02-15T22:19:52.464Z"
   },
   {
    "duration": 6,
    "start_time": "2022-02-15T22:19:52.472Z"
   },
   {
    "duration": 6,
    "start_time": "2022-02-15T22:19:52.479Z"
   },
   {
    "duration": 4,
    "start_time": "2022-02-15T22:19:52.486Z"
   },
   {
    "duration": 38,
    "start_time": "2022-02-15T22:19:52.493Z"
   },
   {
    "duration": 15,
    "start_time": "2022-02-15T22:19:52.534Z"
   },
   {
    "duration": 12,
    "start_time": "2022-02-15T22:19:52.551Z"
   },
   {
    "duration": 12,
    "start_time": "2022-02-15T22:19:52.565Z"
   },
   {
    "duration": 5,
    "start_time": "2022-02-15T22:19:52.578Z"
   },
   {
    "duration": 12,
    "start_time": "2022-02-15T22:19:52.585Z"
   },
   {
    "duration": 13610,
    "start_time": "2022-02-15T22:19:52.599Z"
   },
   {
    "duration": 9,
    "start_time": "2022-02-15T22:20:06.211Z"
   },
   {
    "duration": 4614,
    "start_time": "2022-02-15T22:20:06.229Z"
   },
   {
    "duration": 923,
    "start_time": "2022-02-15T22:20:09.923Z"
   },
   {
    "duration": 916,
    "start_time": "2022-02-15T22:20:09.931Z"
   },
   {
    "duration": 898,
    "start_time": "2022-02-15T22:20:09.950Z"
   },
   {
    "duration": 881,
    "start_time": "2022-02-15T22:20:09.968Z"
   },
   {
    "duration": 852,
    "start_time": "2022-02-15T22:20:09.998Z"
   },
   {
    "duration": 847,
    "start_time": "2022-02-15T22:20:10.004Z"
   },
   {
    "duration": 840,
    "start_time": "2022-02-15T22:20:10.012Z"
   },
   {
    "duration": 835,
    "start_time": "2022-02-15T22:20:10.019Z"
   },
   {
    "duration": 829,
    "start_time": "2022-02-15T22:20:10.026Z"
   },
   {
    "duration": 823,
    "start_time": "2022-02-15T22:20:10.033Z"
   },
   {
    "duration": 816,
    "start_time": "2022-02-15T22:20:10.041Z"
   },
   {
    "duration": 811,
    "start_time": "2022-02-15T22:20:10.047Z"
   },
   {
    "duration": 4430,
    "start_time": "2022-02-15T22:21:19.504Z"
   },
   {
    "duration": 6,
    "start_time": "2022-02-15T22:21:53.296Z"
   },
   {
    "duration": 9,
    "start_time": "2022-02-15T22:21:54.800Z"
   },
   {
    "duration": 4368,
    "start_time": "2022-02-15T22:22:27.704Z"
   },
   {
    "duration": 670,
    "start_time": "2022-02-15T22:22:39.330Z"
   },
   {
    "duration": 11,
    "start_time": "2022-02-15T22:22:40.002Z"
   },
   {
    "duration": 22,
    "start_time": "2022-02-15T22:22:40.015Z"
   },
   {
    "duration": 11,
    "start_time": "2022-02-15T22:22:40.040Z"
   },
   {
    "duration": 26,
    "start_time": "2022-02-15T22:22:40.053Z"
   },
   {
    "duration": 24,
    "start_time": "2022-02-15T22:22:40.080Z"
   },
   {
    "duration": 4,
    "start_time": "2022-02-15T22:22:40.132Z"
   },
   {
    "duration": 12,
    "start_time": "2022-02-15T22:22:40.140Z"
   },
   {
    "duration": 22,
    "start_time": "2022-02-15T22:22:40.154Z"
   },
   {
    "duration": 8,
    "start_time": "2022-02-15T22:22:40.178Z"
   },
   {
    "duration": 4,
    "start_time": "2022-02-15T22:22:40.187Z"
   },
   {
    "duration": 54,
    "start_time": "2022-02-15T22:22:40.192Z"
   },
   {
    "duration": 8,
    "start_time": "2022-02-15T22:22:40.248Z"
   },
   {
    "duration": 4,
    "start_time": "2022-02-15T22:22:40.257Z"
   },
   {
    "duration": 8,
    "start_time": "2022-02-15T22:22:40.263Z"
   },
   {
    "duration": 7,
    "start_time": "2022-02-15T22:22:40.272Z"
   },
   {
    "duration": 51,
    "start_time": "2022-02-15T22:22:40.281Z"
   },
   {
    "duration": 10,
    "start_time": "2022-02-15T22:22:40.335Z"
   },
   {
    "duration": 10,
    "start_time": "2022-02-15T22:22:40.347Z"
   },
   {
    "duration": 7,
    "start_time": "2022-02-15T22:22:40.359Z"
   },
   {
    "duration": 5,
    "start_time": "2022-02-15T22:22:40.368Z"
   },
   {
    "duration": 7,
    "start_time": "2022-02-15T22:22:40.375Z"
   },
   {
    "duration": 46,
    "start_time": "2022-02-15T22:22:40.385Z"
   },
   {
    "duration": 9,
    "start_time": "2022-02-15T22:22:40.434Z"
   },
   {
    "duration": 18,
    "start_time": "2022-02-15T22:22:40.445Z"
   },
   {
    "duration": 5,
    "start_time": "2022-02-15T22:22:40.464Z"
   },
   {
    "duration": 5,
    "start_time": "2022-02-15T22:22:40.471Z"
   },
   {
    "duration": 9,
    "start_time": "2022-02-15T22:22:40.478Z"
   },
   {
    "duration": 20,
    "start_time": "2022-02-15T22:22:40.489Z"
   },
   {
    "duration": 33,
    "start_time": "2022-02-15T22:22:40.510Z"
   },
   {
    "duration": 4,
    "start_time": "2022-02-15T22:22:40.547Z"
   },
   {
    "duration": 11,
    "start_time": "2022-02-15T22:22:40.553Z"
   },
   {
    "duration": 6,
    "start_time": "2022-02-15T22:22:40.565Z"
   },
   {
    "duration": 5,
    "start_time": "2022-02-15T22:22:40.572Z"
   },
   {
    "duration": 5,
    "start_time": "2022-02-15T22:22:40.579Z"
   },
   {
    "duration": 54,
    "start_time": "2022-02-15T22:22:40.586Z"
   },
   {
    "duration": 4,
    "start_time": "2022-02-15T22:22:40.643Z"
   },
   {
    "duration": 463,
    "start_time": "2022-02-15T22:22:40.648Z"
   },
   {
    "duration": 18,
    "start_time": "2022-02-15T22:22:41.113Z"
   },
   {
    "duration": 7,
    "start_time": "2022-02-15T22:22:41.133Z"
   },
   {
    "duration": 8,
    "start_time": "2022-02-15T22:22:41.143Z"
   },
   {
    "duration": 16,
    "start_time": "2022-02-15T22:22:41.154Z"
   },
   {
    "duration": 219,
    "start_time": "2022-02-16T05:05:17.641Z"
   },
   {
    "duration": 621,
    "start_time": "2022-02-16T05:05:26.469Z"
   },
   {
    "duration": 10,
    "start_time": "2022-02-16T05:05:27.091Z"
   },
   {
    "duration": 7,
    "start_time": "2022-02-16T05:05:27.103Z"
   },
   {
    "duration": 21,
    "start_time": "2022-02-16T05:05:27.112Z"
   },
   {
    "duration": 27,
    "start_time": "2022-02-16T05:05:27.134Z"
   },
   {
    "duration": 24,
    "start_time": "2022-02-16T05:05:27.162Z"
   },
   {
    "duration": 3,
    "start_time": "2022-02-16T05:05:27.187Z"
   },
   {
    "duration": 6,
    "start_time": "2022-02-16T05:05:27.192Z"
   },
   {
    "duration": 48,
    "start_time": "2022-02-16T05:05:27.200Z"
   },
   {
    "duration": 8,
    "start_time": "2022-02-16T05:05:27.249Z"
   },
   {
    "duration": 3,
    "start_time": "2022-02-16T05:05:27.259Z"
   },
   {
    "duration": 22,
    "start_time": "2022-02-16T05:05:27.264Z"
   },
   {
    "duration": 7,
    "start_time": "2022-02-16T05:05:27.288Z"
   },
   {
    "duration": 4,
    "start_time": "2022-02-16T05:05:27.296Z"
   },
   {
    "duration": 7,
    "start_time": "2022-02-16T05:05:27.330Z"
   },
   {
    "duration": 8,
    "start_time": "2022-02-16T05:05:27.339Z"
   },
   {
    "duration": 23,
    "start_time": "2022-02-16T05:05:27.348Z"
   },
   {
    "duration": 7,
    "start_time": "2022-02-16T05:05:27.373Z"
   },
   {
    "duration": 6,
    "start_time": "2022-02-16T05:05:27.381Z"
   },
   {
    "duration": 10,
    "start_time": "2022-02-16T05:05:27.388Z"
   },
   {
    "duration": 33,
    "start_time": "2022-02-16T05:05:27.400Z"
   },
   {
    "duration": 6,
    "start_time": "2022-02-16T05:05:27.435Z"
   },
   {
    "duration": 9,
    "start_time": "2022-02-16T05:05:27.444Z"
   },
   {
    "duration": 5,
    "start_time": "2022-02-16T05:05:27.455Z"
   },
   {
    "duration": 10,
    "start_time": "2022-02-16T05:05:27.461Z"
   },
   {
    "duration": 4,
    "start_time": "2022-02-16T05:05:27.473Z"
   },
   {
    "duration": 4,
    "start_time": "2022-02-16T05:05:27.479Z"
   },
   {
    "duration": 249,
    "start_time": "2022-02-16T05:05:27.484Z"
   },
   {
    "duration": 1141,
    "start_time": "2022-02-16T05:05:26.594Z"
   },
   {
    "duration": 1135,
    "start_time": "2022-02-16T05:05:26.601Z"
   },
   {
    "duration": 1130,
    "start_time": "2022-02-16T05:05:26.606Z"
   },
   {
    "duration": 1124,
    "start_time": "2022-02-16T05:05:26.613Z"
   },
   {
    "duration": 1118,
    "start_time": "2022-02-16T05:05:26.620Z"
   },
   {
    "duration": 1112,
    "start_time": "2022-02-16T05:05:26.627Z"
   },
   {
    "duration": 1085,
    "start_time": "2022-02-16T05:05:26.655Z"
   },
   {
    "duration": 1078,
    "start_time": "2022-02-16T05:05:26.663Z"
   },
   {
    "duration": 1073,
    "start_time": "2022-02-16T05:05:26.669Z"
   },
   {
    "duration": 1068,
    "start_time": "2022-02-16T05:05:26.675Z"
   },
   {
    "duration": 1063,
    "start_time": "2022-02-16T05:05:26.681Z"
   },
   {
    "duration": 1057,
    "start_time": "2022-02-16T05:05:26.688Z"
   },
   {
    "duration": 1052,
    "start_time": "2022-02-16T05:05:26.694Z"
   },
   {
    "duration": 1046,
    "start_time": "2022-02-16T05:05:26.701Z"
   },
   {
    "duration": 1042,
    "start_time": "2022-02-16T05:05:26.706Z"
   },
   {
    "duration": 696,
    "start_time": "2022-02-16T05:06:50.933Z"
   },
   {
    "duration": 12,
    "start_time": "2022-02-16T05:06:51.630Z"
   },
   {
    "duration": 7,
    "start_time": "2022-02-16T05:06:51.644Z"
   },
   {
    "duration": 9,
    "start_time": "2022-02-16T05:06:51.653Z"
   },
   {
    "duration": 27,
    "start_time": "2022-02-16T05:06:51.664Z"
   },
   {
    "duration": 56,
    "start_time": "2022-02-16T05:06:51.693Z"
   },
   {
    "duration": 4,
    "start_time": "2022-02-16T05:06:51.751Z"
   },
   {
    "duration": 9,
    "start_time": "2022-02-16T05:06:51.758Z"
   },
   {
    "duration": 67,
    "start_time": "2022-02-16T05:06:51.770Z"
   },
   {
    "duration": 11,
    "start_time": "2022-02-16T05:06:51.839Z"
   },
   {
    "duration": 5,
    "start_time": "2022-02-16T05:06:51.852Z"
   },
   {
    "duration": 36,
    "start_time": "2022-02-16T05:06:51.858Z"
   },
   {
    "duration": 36,
    "start_time": "2022-02-16T05:06:51.896Z"
   },
   {
    "duration": 6,
    "start_time": "2022-02-16T05:06:51.934Z"
   },
   {
    "duration": 9,
    "start_time": "2022-02-16T05:06:51.942Z"
   },
   {
    "duration": 10,
    "start_time": "2022-02-16T05:06:51.954Z"
   },
   {
    "duration": 65,
    "start_time": "2022-02-16T05:06:51.967Z"
   },
   {
    "duration": 11,
    "start_time": "2022-02-16T05:06:52.034Z"
   },
   {
    "duration": 8,
    "start_time": "2022-02-16T05:06:52.047Z"
   },
   {
    "duration": 10,
    "start_time": "2022-02-16T05:06:52.057Z"
   },
   {
    "duration": 5,
    "start_time": "2022-02-16T05:06:52.069Z"
   },
   {
    "duration": 6,
    "start_time": "2022-02-16T05:06:52.076Z"
   },
   {
    "duration": 48,
    "start_time": "2022-02-16T05:06:52.086Z"
   },
   {
    "duration": 6,
    "start_time": "2022-02-16T05:06:52.137Z"
   },
   {
    "duration": 13,
    "start_time": "2022-02-16T05:06:52.145Z"
   },
   {
    "duration": 3,
    "start_time": "2022-02-16T05:06:52.160Z"
   },
   {
    "duration": 3,
    "start_time": "2022-02-16T05:06:52.165Z"
   },
   {
    "duration": 21,
    "start_time": "2022-02-16T05:06:52.170Z"
   },
   {
    "duration": 40,
    "start_time": "2022-02-16T05:06:52.193Z"
   },
   {
    "duration": 5,
    "start_time": "2022-02-16T05:06:52.235Z"
   },
   {
    "duration": 12,
    "start_time": "2022-02-16T05:06:52.241Z"
   },
   {
    "duration": 6,
    "start_time": "2022-02-16T05:06:52.255Z"
   },
   {
    "duration": 5,
    "start_time": "2022-02-16T05:06:52.262Z"
   },
   {
    "duration": 5,
    "start_time": "2022-02-16T05:06:52.269Z"
   },
   {
    "duration": 13,
    "start_time": "2022-02-16T05:06:52.275Z"
   },
   {
    "duration": 3,
    "start_time": "2022-02-16T05:06:52.330Z"
   },
   {
    "duration": 463,
    "start_time": "2022-02-16T05:06:52.335Z"
   },
   {
    "duration": 9,
    "start_time": "2022-02-16T05:06:52.799Z"
   },
   {
    "duration": 3,
    "start_time": "2022-02-16T05:06:52.810Z"
   },
   {
    "duration": 16,
    "start_time": "2022-02-16T05:06:52.815Z"
   },
   {
    "duration": 13,
    "start_time": "2022-02-16T05:06:52.832Z"
   },
   {
    "duration": 347,
    "start_time": "2022-02-16T20:39:44.077Z"
   },
   {
    "duration": 930,
    "start_time": "2022-02-16T20:39:51.915Z"
   },
   {
    "duration": 15,
    "start_time": "2022-02-16T20:39:52.849Z"
   },
   {
    "duration": 10,
    "start_time": "2022-02-16T20:39:52.867Z"
   },
   {
    "duration": 12,
    "start_time": "2022-02-16T20:39:52.880Z"
   },
   {
    "duration": 82,
    "start_time": "2022-02-16T20:39:52.894Z"
   },
   {
    "duration": 44,
    "start_time": "2022-02-16T20:39:52.979Z"
   },
   {
    "duration": 25,
    "start_time": "2022-02-16T20:39:53.025Z"
   },
   {
    "duration": 8,
    "start_time": "2022-02-16T20:39:53.054Z"
   },
   {
    "duration": 39,
    "start_time": "2022-02-16T20:39:53.065Z"
   },
   {
    "duration": 44,
    "start_time": "2022-02-16T20:39:53.106Z"
   },
   {
    "duration": 6,
    "start_time": "2022-02-16T20:39:53.153Z"
   },
   {
    "duration": 40,
    "start_time": "2022-02-16T20:39:53.162Z"
   },
   {
    "duration": 11,
    "start_time": "2022-02-16T20:39:53.204Z"
   },
   {
    "duration": 6,
    "start_time": "2022-02-16T20:39:53.249Z"
   },
   {
    "duration": 14,
    "start_time": "2022-02-16T20:39:53.257Z"
   },
   {
    "duration": 12,
    "start_time": "2022-02-16T20:39:53.273Z"
   },
   {
    "duration": 69,
    "start_time": "2022-02-16T20:39:53.287Z"
   },
   {
    "duration": 12,
    "start_time": "2022-02-16T20:39:53.358Z"
   },
   {
    "duration": 13,
    "start_time": "2022-02-16T20:39:53.373Z"
   },
   {
    "duration": 10,
    "start_time": "2022-02-16T20:39:53.389Z"
   },
   {
    "duration": 10,
    "start_time": "2022-02-16T20:39:53.401Z"
   },
   {
    "duration": 8,
    "start_time": "2022-02-16T20:39:53.449Z"
   },
   {
    "duration": 14,
    "start_time": "2022-02-16T20:39:53.464Z"
   },
   {
    "duration": 7,
    "start_time": "2022-02-16T20:39:53.482Z"
   },
   {
    "duration": 22,
    "start_time": "2022-02-16T20:39:53.492Z"
   },
   {
    "duration": 11,
    "start_time": "2022-02-16T20:39:53.550Z"
   },
   {
    "duration": 6,
    "start_time": "2022-02-16T20:39:53.564Z"
   },
   {
    "duration": 41,
    "start_time": "2022-02-16T20:39:53.572Z"
   },
   {
    "duration": 43,
    "start_time": "2022-02-16T20:39:53.616Z"
   },
   {
    "duration": 5,
    "start_time": "2022-02-16T20:39:53.662Z"
   },
   {
    "duration": 16,
    "start_time": "2022-02-16T20:39:53.669Z"
   },
   {
    "duration": 8,
    "start_time": "2022-02-16T20:39:53.687Z"
   },
   {
    "duration": 8,
    "start_time": "2022-02-16T20:39:53.697Z"
   },
   {
    "duration": 44,
    "start_time": "2022-02-16T20:39:53.708Z"
   },
   {
    "duration": 17,
    "start_time": "2022-02-16T20:39:53.755Z"
   },
   {
    "duration": 4,
    "start_time": "2022-02-16T20:39:53.776Z"
   },
   {
    "duration": 848,
    "start_time": "2022-02-16T20:39:53.782Z"
   },
   {
    "duration": 24,
    "start_time": "2022-02-16T20:39:54.633Z"
   },
   {
    "duration": 8,
    "start_time": "2022-02-16T20:39:54.659Z"
   },
   {
    "duration": 14,
    "start_time": "2022-02-16T20:39:54.669Z"
   },
   {
    "duration": 25,
    "start_time": "2022-02-16T20:39:54.685Z"
   },
   {
    "duration": 46,
    "start_time": "2022-02-16T20:39:54.713Z"
   },
   {
    "duration": 1640,
    "start_time": "2022-02-16T20:41:52.278Z"
   },
   {
    "duration": 1852,
    "start_time": "2022-02-16T20:44:48.738Z"
   },
   {
    "duration": 104,
    "start_time": "2022-02-16T20:44:59.983Z"
   },
   {
    "duration": 100,
    "start_time": "2022-02-16T20:45:05.300Z"
   },
   {
    "duration": 108,
    "start_time": "2022-02-16T20:45:12.457Z"
   },
   {
    "duration": 2057,
    "start_time": "2022-02-16T20:45:18.148Z"
   },
   {
    "duration": 1569,
    "start_time": "2022-02-16T20:45:26.259Z"
   },
   {
    "duration": 1106,
    "start_time": "2022-02-16T20:45:42.055Z"
   },
   {
    "duration": 925,
    "start_time": "2022-02-16T20:46:07.924Z"
   },
   {
    "duration": 641,
    "start_time": "2022-02-16T20:46:15.002Z"
   },
   {
    "duration": 1753,
    "start_time": "2022-02-16T20:46:35.246Z"
   },
   {
    "duration": 1808,
    "start_time": "2022-02-16T20:46:58.129Z"
   },
   {
    "duration": 1556,
    "start_time": "2022-02-16T20:47:04.928Z"
   },
   {
    "duration": 1929,
    "start_time": "2022-02-16T20:47:09.880Z"
   },
   {
    "duration": 1826,
    "start_time": "2022-02-16T20:51:29.106Z"
   },
   {
    "duration": 604,
    "start_time": "2022-02-16T20:51:44.871Z"
   },
   {
    "duration": 322,
    "start_time": "2022-02-16T20:54:29.581Z"
   },
   {
    "duration": 590,
    "start_time": "2022-02-16T20:54:45.012Z"
   },
   {
    "duration": 310,
    "start_time": "2022-02-16T20:55:04.441Z"
   },
   {
    "duration": 287,
    "start_time": "2022-02-16T20:55:17.725Z"
   },
   {
    "duration": 13,
    "start_time": "2022-02-16T20:59:21.871Z"
   },
   {
    "duration": 1498,
    "start_time": "2022-02-16T20:59:46.182Z"
   },
   {
    "duration": 881,
    "start_time": "2022-02-16T21:00:40.041Z"
   },
   {
    "duration": 717,
    "start_time": "2022-02-16T21:00:51.612Z"
   },
   {
    "duration": 275,
    "start_time": "2022-02-16T21:02:01.217Z"
   },
   {
    "duration": 260,
    "start_time": "2022-02-16T21:02:13.350Z"
   },
   {
    "duration": 10422,
    "start_time": "2022-02-16T21:02:28.440Z"
   },
   {
    "duration": 288,
    "start_time": "2022-02-16T21:02:56.131Z"
   },
   {
    "duration": 266,
    "start_time": "2022-02-16T21:03:10.016Z"
   },
   {
    "duration": 773,
    "start_time": "2022-02-16T21:03:28.345Z"
   },
   {
    "duration": 7521,
    "start_time": "2022-02-16T21:03:36.505Z"
   },
   {
    "duration": 2957,
    "start_time": "2022-02-16T21:03:50.435Z"
   },
   {
    "duration": 930,
    "start_time": "2022-02-16T21:04:38.706Z"
   },
   {
    "duration": 410,
    "start_time": "2022-02-16T21:06:09.096Z"
   },
   {
    "duration": 928,
    "start_time": "2022-02-16T21:06:18.533Z"
   },
   {
    "duration": 562,
    "start_time": "2022-02-16T21:07:44.709Z"
   },
   {
    "duration": 124,
    "start_time": "2022-02-16T21:10:51.336Z"
   },
   {
    "duration": 12,
    "start_time": "2022-02-16T21:11:37.145Z"
   },
   {
    "duration": 685,
    "start_time": "2022-02-16T21:12:10.795Z"
   },
   {
    "duration": 107,
    "start_time": "2022-02-16T21:12:31.981Z"
   },
   {
    "duration": 437,
    "start_time": "2022-02-16T21:13:08.534Z"
   },
   {
    "duration": 14,
    "start_time": "2022-02-16T21:16:16.686Z"
   },
   {
    "duration": 13,
    "start_time": "2022-02-16T21:16:24.731Z"
   },
   {
    "duration": 45960,
    "start_time": "2022-02-16T21:18:10.250Z"
   },
   {
    "duration": 826,
    "start_time": "2022-02-16T21:19:58.407Z"
   },
   {
    "duration": 270,
    "start_time": "2022-02-16T21:20:03.765Z"
   },
   {
    "duration": 2444,
    "start_time": "2022-02-16T21:21:14.617Z"
   },
   {
    "duration": 1529,
    "start_time": "2022-02-16T21:21:41.676Z"
   },
   {
    "duration": 1169,
    "start_time": "2022-02-16T21:21:54.710Z"
   },
   {
    "duration": 1078,
    "start_time": "2022-02-16T21:22:28.719Z"
   },
   {
    "duration": 803,
    "start_time": "2022-02-16T21:22:39.105Z"
   },
   {
    "duration": 2238,
    "start_time": "2022-02-16T21:23:03.679Z"
   },
   {
    "duration": 44134,
    "start_time": "2022-02-16T21:23:26.251Z"
   },
   {
    "duration": 2686,
    "start_time": "2022-02-16T21:24:42.271Z"
   },
   {
    "duration": 99,
    "start_time": "2022-02-16T21:26:06.711Z"
   },
   {
    "duration": 13,
    "start_time": "2022-02-16T21:32:38.876Z"
   },
   {
    "duration": 949,
    "start_time": "2022-02-16T21:56:43.241Z"
   },
   {
    "duration": 17,
    "start_time": "2022-02-16T21:56:44.194Z"
   },
   {
    "duration": 39,
    "start_time": "2022-02-16T21:56:44.215Z"
   },
   {
    "duration": 12,
    "start_time": "2022-02-16T21:56:44.257Z"
   },
   {
    "duration": 41,
    "start_time": "2022-02-16T21:56:44.271Z"
   },
   {
    "duration": 70,
    "start_time": "2022-02-16T21:56:44.315Z"
   },
   {
    "duration": 5,
    "start_time": "2022-02-16T21:56:44.387Z"
   },
   {
    "duration": 10,
    "start_time": "2022-02-16T21:56:44.395Z"
   },
   {
    "duration": 71,
    "start_time": "2022-02-16T21:56:44.409Z"
   },
   {
    "duration": 12,
    "start_time": "2022-02-16T21:56:44.482Z"
   },
   {
    "duration": 6,
    "start_time": "2022-02-16T21:56:44.497Z"
   },
   {
    "duration": 70,
    "start_time": "2022-02-16T21:56:44.505Z"
   },
   {
    "duration": 18,
    "start_time": "2022-02-16T21:56:44.578Z"
   },
   {
    "duration": 7,
    "start_time": "2022-02-16T21:56:44.598Z"
   },
   {
    "duration": 11,
    "start_time": "2022-02-16T21:56:44.607Z"
   },
   {
    "duration": 36,
    "start_time": "2022-02-16T21:56:44.620Z"
   },
   {
    "duration": 44,
    "start_time": "2022-02-16T21:56:44.659Z"
   },
   {
    "duration": 43,
    "start_time": "2022-02-16T21:56:44.706Z"
   },
   {
    "duration": 10,
    "start_time": "2022-02-16T21:56:44.752Z"
   },
   {
    "duration": 13,
    "start_time": "2022-02-16T21:56:44.764Z"
   },
   {
    "duration": 10,
    "start_time": "2022-02-16T21:56:44.779Z"
   },
   {
    "duration": 17,
    "start_time": "2022-02-16T21:56:44.792Z"
   },
   {
    "duration": 14,
    "start_time": "2022-02-16T21:56:44.850Z"
   },
   {
    "duration": 7,
    "start_time": "2022-02-16T21:56:44.868Z"
   },
   {
    "duration": 17,
    "start_time": "2022-02-16T21:56:44.878Z"
   },
   {
    "duration": 5,
    "start_time": "2022-02-16T21:56:44.898Z"
   },
   {
    "duration": 46,
    "start_time": "2022-02-16T21:56:44.906Z"
   },
   {
    "duration": 37,
    "start_time": "2022-02-16T21:56:44.954Z"
   },
   {
    "duration": 15,
    "start_time": "2022-02-16T21:56:44.994Z"
   },
   {
    "duration": 38,
    "start_time": "2022-02-16T21:56:45.012Z"
   },
   {
    "duration": 17,
    "start_time": "2022-02-16T21:56:45.053Z"
   },
   {
    "duration": 11,
    "start_time": "2022-02-16T21:56:45.073Z"
   },
   {
    "duration": 25,
    "start_time": "2022-02-16T21:56:45.086Z"
   },
   {
    "duration": 10,
    "start_time": "2022-02-16T21:56:45.114Z"
   },
   {
    "duration": 32,
    "start_time": "2022-02-16T21:56:45.127Z"
   },
   {
    "duration": 5,
    "start_time": "2022-02-16T21:56:45.161Z"
   },
   {
    "duration": 890,
    "start_time": "2022-02-16T21:56:45.168Z"
   },
   {
    "duration": 14,
    "start_time": "2022-02-16T21:56:46.060Z"
   },
   {
    "duration": 16,
    "start_time": "2022-02-16T21:56:46.076Z"
   },
   {
    "duration": 28,
    "start_time": "2022-02-16T21:56:46.095Z"
   },
   {
    "duration": 29,
    "start_time": "2022-02-16T21:56:46.125Z"
   },
   {
    "duration": 12,
    "start_time": "2022-02-16T21:56:46.157Z"
   },
   {
    "duration": 2112,
    "start_time": "2022-02-16T21:56:46.172Z"
   },
   {
    "duration": 593,
    "start_time": "2022-02-16T21:56:48.286Z"
   },
   {
    "duration": 12,
    "start_time": "2022-02-16T21:56:48.881Z"
   },
   {
    "duration": 10029,
    "start_time": "2022-02-16T21:56:48.896Z"
   },
   {
    "duration": 670,
    "start_time": "2022-02-16T21:56:58.928Z"
   },
   {
    "duration": 11,
    "start_time": "2022-02-16T21:56:59.601Z"
   },
   {
    "duration": 707,
    "start_time": "2022-02-16T21:56:59.615Z"
   },
   {
    "duration": 456,
    "start_time": "2022-02-16T21:57:00.325Z"
   },
   {
    "duration": 12,
    "start_time": "2022-02-16T21:57:00.784Z"
   },
   {
    "duration": 43515,
    "start_time": "2022-02-16T21:57:00.798Z"
   },
   {
    "duration": 344,
    "start_time": "2022-02-16T21:57:44.316Z"
   },
   {
    "duration": 13,
    "start_time": "2022-02-16T21:57:44.663Z"
   },
   {
    "duration": 669,
    "start_time": "2022-02-16T21:57:44.679Z"
   },
   {
    "duration": 432,
    "start_time": "2022-02-16T22:01:59.602Z"
   },
   {
    "duration": 504,
    "start_time": "2022-02-16T22:02:14.792Z"
   },
   {
    "duration": 384,
    "start_time": "2022-02-16T22:02:37.907Z"
   },
   {
    "duration": 1345,
    "start_time": "2022-02-16T22:02:51.203Z"
   },
   {
    "duration": 341,
    "start_time": "2022-02-17T05:25:22.416Z"
   },
   {
    "duration": 928,
    "start_time": "2022-02-17T05:25:32.501Z"
   },
   {
    "duration": 15,
    "start_time": "2022-02-17T05:25:33.432Z"
   },
   {
    "duration": 9,
    "start_time": "2022-02-17T05:25:33.450Z"
   },
   {
    "duration": 13,
    "start_time": "2022-02-17T05:25:33.462Z"
   },
   {
    "duration": 72,
    "start_time": "2022-02-17T05:25:33.477Z"
   },
   {
    "duration": 42,
    "start_time": "2022-02-17T05:25:33.552Z"
   },
   {
    "duration": 29,
    "start_time": "2022-02-17T05:25:33.597Z"
   },
   {
    "duration": 9,
    "start_time": "2022-02-17T05:25:33.632Z"
   },
   {
    "duration": 39,
    "start_time": "2022-02-17T05:25:33.645Z"
   },
   {
    "duration": 13,
    "start_time": "2022-02-17T05:25:33.723Z"
   },
   {
    "duration": 6,
    "start_time": "2022-02-17T05:25:33.739Z"
   },
   {
    "duration": 37,
    "start_time": "2022-02-17T05:25:33.747Z"
   },
   {
    "duration": 48,
    "start_time": "2022-02-17T05:25:33.787Z"
   },
   {
    "duration": 7,
    "start_time": "2022-02-17T05:25:33.838Z"
   },
   {
    "duration": 11,
    "start_time": "2022-02-17T05:25:33.848Z"
   },
   {
    "duration": 11,
    "start_time": "2022-02-17T05:25:33.862Z"
   },
   {
    "duration": 81,
    "start_time": "2022-02-17T05:25:33.876Z"
   },
   {
    "duration": 12,
    "start_time": "2022-02-17T05:25:33.960Z"
   },
   {
    "duration": 7,
    "start_time": "2022-02-17T05:25:33.974Z"
   },
   {
    "duration": 41,
    "start_time": "2022-02-17T05:25:33.984Z"
   },
   {
    "duration": 5,
    "start_time": "2022-02-17T05:25:34.028Z"
   },
   {
    "duration": 10,
    "start_time": "2022-02-17T05:25:34.035Z"
   },
   {
    "duration": 12,
    "start_time": "2022-02-17T05:25:34.051Z"
   },
   {
    "duration": 7,
    "start_time": "2022-02-17T05:25:34.067Z"
   },
   {
    "duration": 54,
    "start_time": "2022-02-17T05:25:34.076Z"
   },
   {
    "duration": 6,
    "start_time": "2022-02-17T05:25:34.133Z"
   },
   {
    "duration": 6,
    "start_time": "2022-02-17T05:25:34.141Z"
   },
   {
    "duration": 34,
    "start_time": "2022-02-17T05:25:34.149Z"
   },
   {
    "duration": 50,
    "start_time": "2022-02-17T05:25:34.185Z"
   },
   {
    "duration": 6,
    "start_time": "2022-02-17T05:25:34.237Z"
   },
   {
    "duration": 13,
    "start_time": "2022-02-17T05:25:34.246Z"
   },
   {
    "duration": 9,
    "start_time": "2022-02-17T05:25:34.261Z"
   },
   {
    "duration": 7,
    "start_time": "2022-02-17T05:25:34.272Z"
   },
   {
    "duration": 9,
    "start_time": "2022-02-17T05:25:34.322Z"
   },
   {
    "duration": 18,
    "start_time": "2022-02-17T05:25:34.333Z"
   },
   {
    "duration": 4,
    "start_time": "2022-02-17T05:25:34.354Z"
   },
   {
    "duration": 850,
    "start_time": "2022-02-17T05:25:34.360Z"
   },
   {
    "duration": 19,
    "start_time": "2022-02-17T05:25:35.213Z"
   },
   {
    "duration": 6,
    "start_time": "2022-02-17T05:25:35.234Z"
   },
   {
    "duration": 5,
    "start_time": "2022-02-17T05:25:35.243Z"
   },
   {
    "duration": 27,
    "start_time": "2022-02-17T05:25:35.251Z"
   },
   {
    "duration": 43,
    "start_time": "2022-02-17T05:25:35.280Z"
   },
   {
    "duration": 2090,
    "start_time": "2022-02-17T05:25:35.326Z"
   },
   {
    "duration": 604,
    "start_time": "2022-02-17T05:25:37.422Z"
   },
   {
    "duration": 13,
    "start_time": "2022-02-17T05:25:38.028Z"
   },
   {
    "duration": 9435,
    "start_time": "2022-02-17T05:25:38.043Z"
   },
   {
    "duration": 547,
    "start_time": "2022-02-17T05:25:47.480Z"
   },
   {
    "duration": 11,
    "start_time": "2022-02-17T05:25:48.029Z"
   },
   {
    "duration": 689,
    "start_time": "2022-02-17T05:25:48.043Z"
   },
   {
    "duration": 431,
    "start_time": "2022-02-17T05:25:48.735Z"
   },
   {
    "duration": 12,
    "start_time": "2022-02-17T05:25:49.169Z"
   },
   {
    "duration": 40514,
    "start_time": "2022-02-17T05:25:49.183Z"
   },
   {
    "duration": 343,
    "start_time": "2022-02-17T05:26:29.699Z"
   },
   {
    "duration": 13,
    "start_time": "2022-02-17T05:26:30.045Z"
   },
   {
    "duration": 649,
    "start_time": "2022-02-17T05:26:30.061Z"
   },
   {
    "duration": 426,
    "start_time": "2022-02-17T05:26:30.713Z"
   },
   {
    "duration": 46162,
    "start_time": "2022-02-17T05:26:31.141Z"
   },
   {
    "duration": 329,
    "start_time": "2022-02-17T05:27:30.032Z"
   },
   {
    "duration": 13,
    "start_time": "2022-02-17T05:30:33.183Z"
   },
   {
    "duration": 823,
    "start_time": "2022-02-17T05:31:28.483Z"
   },
   {
    "duration": 137,
    "start_time": "2022-02-17T05:33:37.001Z"
   },
   {
    "duration": 11,
    "start_time": "2022-02-17T05:33:53.751Z"
   },
   {
    "duration": 8,
    "start_time": "2022-02-17T05:40:38.528Z"
   },
   {
    "duration": 8,
    "start_time": "2022-02-17T05:42:01.341Z"
   },
   {
    "duration": 806,
    "start_time": "2022-02-17T05:44:13.685Z"
   },
   {
    "duration": 718,
    "start_time": "2022-02-17T05:47:57.937Z"
   },
   {
    "duration": 339,
    "start_time": "2022-02-17T05:48:35.470Z"
   },
   {
    "duration": 8,
    "start_time": "2022-02-17T05:48:59.849Z"
   },
   {
    "duration": 12,
    "start_time": "2022-02-17T05:49:18.270Z"
   },
   {
    "duration": 8,
    "start_time": "2022-02-17T05:49:29.809Z"
   },
   {
    "duration": 288,
    "start_time": "2022-02-17T05:53:22.330Z"
   },
   {
    "duration": 308,
    "start_time": "2022-02-17T05:59:56.605Z"
   },
   {
    "duration": 1565,
    "start_time": "2022-02-17T06:00:08.575Z"
   },
   {
    "duration": 279,
    "start_time": "2022-02-17T06:01:38.595Z"
   },
   {
    "duration": 290,
    "start_time": "2022-02-17T06:07:10.498Z"
   },
   {
    "duration": 98,
    "start_time": "2022-02-17T06:07:31.193Z"
   },
   {
    "duration": 6,
    "start_time": "2022-02-17T06:07:47.684Z"
   },
   {
    "duration": 762,
    "start_time": "2022-02-17T06:07:50.699Z"
   },
   {
    "duration": 12,
    "start_time": "2022-02-17T06:10:46.018Z"
   },
   {
    "duration": 8,
    "start_time": "2022-02-17T06:13:48.171Z"
   },
   {
    "duration": 446,
    "start_time": "2022-02-17T06:38:09.030Z"
   },
   {
    "duration": 8,
    "start_time": "2022-02-17T06:43:18.583Z"
   },
   {
    "duration": 9,
    "start_time": "2022-02-17T06:44:05.269Z"
   },
   {
    "duration": 9,
    "start_time": "2022-02-17T06:44:35.776Z"
   },
   {
    "duration": 9,
    "start_time": "2022-02-17T06:58:04.106Z"
   },
   {
    "duration": 371,
    "start_time": "2022-02-17T06:58:28.531Z"
   },
   {
    "duration": 90,
    "start_time": "2022-02-17T06:59:54.439Z"
   },
   {
    "duration": 330,
    "start_time": "2022-02-17T06:59:59.601Z"
   },
   {
    "duration": 286,
    "start_time": "2022-02-17T07:00:46.970Z"
   },
   {
    "duration": 300,
    "start_time": "2022-02-17T07:09:42.341Z"
   },
   {
    "duration": 16,
    "start_time": "2022-02-17T07:10:05.985Z"
   },
   {
    "duration": 309,
    "start_time": "2022-02-17T07:15:31.441Z"
   },
   {
    "duration": 8,
    "start_time": "2022-02-17T07:15:43.685Z"
   },
   {
    "duration": 268,
    "start_time": "2022-02-17T07:15:53.413Z"
   },
   {
    "duration": 8,
    "start_time": "2022-02-17T07:16:04.199Z"
   },
   {
    "duration": 7,
    "start_time": "2022-02-17T07:16:47.516Z"
   },
   {
    "duration": 8,
    "start_time": "2022-02-17T07:16:54.693Z"
   },
   {
    "duration": 8,
    "start_time": "2022-02-17T07:17:26.885Z"
   },
   {
    "duration": 431,
    "start_time": "2022-02-17T07:19:05.745Z"
   },
   {
    "duration": 418,
    "start_time": "2022-02-17T08:37:22.937Z"
   },
   {
    "duration": 397,
    "start_time": "2022-02-17T08:38:45.190Z"
   },
   {
    "duration": 15,
    "start_time": "2022-02-17T08:47:37.166Z"
   },
   {
    "duration": 938,
    "start_time": "2022-02-17T08:47:58.949Z"
   },
   {
    "duration": 16,
    "start_time": "2022-02-17T08:47:59.891Z"
   },
   {
    "duration": 11,
    "start_time": "2022-02-17T08:47:59.925Z"
   },
   {
    "duration": 13,
    "start_time": "2022-02-17T08:47:59.939Z"
   },
   {
    "duration": 72,
    "start_time": "2022-02-17T08:47:59.955Z"
   },
   {
    "duration": 42,
    "start_time": "2022-02-17T08:48:00.029Z"
   },
   {
    "duration": 5,
    "start_time": "2022-02-17T08:48:00.073Z"
   },
   {
    "duration": 11,
    "start_time": "2022-02-17T08:48:00.080Z"
   },
   {
    "duration": 68,
    "start_time": "2022-02-17T08:48:00.095Z"
   },
   {
    "duration": 14,
    "start_time": "2022-02-17T08:48:00.167Z"
   },
   {
    "duration": 10,
    "start_time": "2022-02-17T08:48:00.184Z"
   },
   {
    "duration": 41,
    "start_time": "2022-02-17T08:48:00.225Z"
   },
   {
    "duration": 26,
    "start_time": "2022-02-17T08:48:00.269Z"
   },
   {
    "duration": 5,
    "start_time": "2022-02-17T08:48:00.297Z"
   },
   {
    "duration": 10,
    "start_time": "2022-02-17T08:48:00.324Z"
   },
   {
    "duration": 11,
    "start_time": "2022-02-17T08:48:00.336Z"
   },
   {
    "duration": 39,
    "start_time": "2022-02-17T08:48:00.350Z"
   },
   {
    "duration": 41,
    "start_time": "2022-02-17T08:48:00.392Z"
   },
   {
    "duration": 9,
    "start_time": "2022-02-17T08:48:00.436Z"
   },
   {
    "duration": 22,
    "start_time": "2022-02-17T08:48:00.448Z"
   },
   {
    "duration": 9,
    "start_time": "2022-02-17T08:48:00.472Z"
   },
   {
    "duration": 14,
    "start_time": "2022-02-17T08:48:00.483Z"
   },
   {
    "duration": 13,
    "start_time": "2022-02-17T08:48:00.525Z"
   },
   {
    "duration": 13,
    "start_time": "2022-02-17T08:48:00.541Z"
   },
   {
    "duration": 24,
    "start_time": "2022-02-17T08:48:00.557Z"
   },
   {
    "duration": 6,
    "start_time": "2022-02-17T08:48:00.583Z"
   },
   {
    "duration": 31,
    "start_time": "2022-02-17T08:48:00.595Z"
   },
   {
    "duration": 38,
    "start_time": "2022-02-17T08:48:00.629Z"
   },
   {
    "duration": 14,
    "start_time": "2022-02-17T08:48:00.670Z"
   },
   {
    "duration": 37,
    "start_time": "2022-02-17T08:48:00.687Z"
   },
   {
    "duration": 32,
    "start_time": "2022-02-17T08:48:00.726Z"
   },
   {
    "duration": 11,
    "start_time": "2022-02-17T08:48:00.761Z"
   },
   {
    "duration": 16,
    "start_time": "2022-02-17T08:48:00.775Z"
   },
   {
    "duration": 13,
    "start_time": "2022-02-17T08:48:00.794Z"
   },
   {
    "duration": 32,
    "start_time": "2022-02-17T08:48:00.809Z"
   },
   {
    "duration": 7,
    "start_time": "2022-02-17T08:48:00.844Z"
   },
   {
    "duration": 852,
    "start_time": "2022-02-17T08:48:00.854Z"
   },
   {
    "duration": 25,
    "start_time": "2022-02-17T08:48:01.709Z"
   },
   {
    "duration": 19,
    "start_time": "2022-02-17T08:48:01.737Z"
   },
   {
    "duration": 12,
    "start_time": "2022-02-17T08:48:01.759Z"
   },
   {
    "duration": 26,
    "start_time": "2022-02-17T08:48:01.775Z"
   },
   {
    "duration": 27,
    "start_time": "2022-02-17T08:48:01.805Z"
   },
   {
    "duration": 2727,
    "start_time": "2022-02-17T08:48:01.834Z"
   },
   {
    "duration": 665,
    "start_time": "2022-02-17T08:48:04.564Z"
   },
   {
    "duration": 13,
    "start_time": "2022-02-17T08:48:05.233Z"
   },
   {
    "duration": 10040,
    "start_time": "2022-02-17T08:48:05.252Z"
   },
   {
    "duration": 550,
    "start_time": "2022-02-17T08:48:15.294Z"
   },
   {
    "duration": 12,
    "start_time": "2022-02-17T08:48:15.847Z"
   },
   {
    "duration": 741,
    "start_time": "2022-02-17T08:48:15.861Z"
   },
   {
    "duration": 430,
    "start_time": "2022-02-17T08:48:16.605Z"
   },
   {
    "duration": 12,
    "start_time": "2022-02-17T08:48:17.037Z"
   },
   {
    "duration": 45315,
    "start_time": "2022-02-17T08:48:17.052Z"
   },
   {
    "duration": 341,
    "start_time": "2022-02-17T08:49:02.370Z"
   },
   {
    "duration": 18,
    "start_time": "2022-02-17T08:49:02.713Z"
   },
   {
    "duration": 684,
    "start_time": "2022-02-17T08:49:02.733Z"
   },
   {
    "duration": 433,
    "start_time": "2022-02-17T08:49:03.423Z"
   },
   {
    "duration": 8,
    "start_time": "2022-02-17T08:49:03.859Z"
   },
   {
    "duration": 305,
    "start_time": "2022-02-17T08:49:03.870Z"
   },
   {
    "duration": 9,
    "start_time": "2022-02-17T08:49:04.177Z"
   },
   {
    "duration": 396,
    "start_time": "2022-02-17T08:49:04.188Z"
   },
   {
    "duration": 16,
    "start_time": "2022-02-17T08:49:04.587Z"
   },
   {
    "duration": 22,
    "start_time": "2022-02-17T08:49:04.606Z"
   },
   {
    "duration": 1160,
    "start_time": "2022-02-17T08:49:04.630Z"
   },
   {
    "duration": 8,
    "start_time": "2022-02-17T08:49:05.793Z"
   },
   {
    "duration": 441,
    "start_time": "2022-02-17T08:49:05.804Z"
   },
   {
    "duration": 14,
    "start_time": "2022-02-17T08:49:06.247Z"
   },
   {
    "duration": 8,
    "start_time": "2022-02-17T08:52:50.964Z"
   },
   {
    "duration": 9,
    "start_time": "2022-02-17T08:54:00.371Z"
   },
   {
    "duration": 8,
    "start_time": "2022-02-17T08:54:39.351Z"
   },
   {
    "duration": 386,
    "start_time": "2022-02-17T08:55:55.428Z"
   },
   {
    "duration": 422,
    "start_time": "2022-02-17T08:56:04.569Z"
   },
   {
    "duration": 694,
    "start_time": "2022-02-17T08:56:17.661Z"
   },
   {
    "duration": 1212,
    "start_time": "2022-02-17T08:56:36.337Z"
   },
   {
    "duration": 839,
    "start_time": "2022-02-17T08:56:37.704Z"
   },
   {
    "duration": 1186,
    "start_time": "2022-02-17T08:57:15.474Z"
   },
   {
    "duration": 696,
    "start_time": "2022-02-17T08:57:21.884Z"
   },
   {
    "duration": 1105,
    "start_time": "2022-02-17T08:57:29.654Z"
   },
   {
    "duration": 706,
    "start_time": "2022-02-17T08:57:58.199Z"
   },
   {
    "duration": 1076,
    "start_time": "2022-02-17T08:58:02.379Z"
   },
   {
    "duration": 1015,
    "start_time": "2022-02-17T08:58:53.301Z"
   },
   {
    "duration": 1235,
    "start_time": "2022-02-17T09:00:25.683Z"
   },
   {
    "duration": 1046,
    "start_time": "2022-02-17T09:02:08.454Z"
   },
   {
    "duration": 792,
    "start_time": "2022-02-17T09:02:21.772Z"
   },
   {
    "duration": 15,
    "start_time": "2022-02-17T09:02:22.567Z"
   },
   {
    "duration": 16,
    "start_time": "2022-02-17T09:02:22.584Z"
   },
   {
    "duration": 24,
    "start_time": "2022-02-17T09:02:22.603Z"
   },
   {
    "duration": 48,
    "start_time": "2022-02-17T09:02:22.630Z"
   },
   {
    "duration": 56,
    "start_time": "2022-02-17T09:02:22.681Z"
   },
   {
    "duration": 4,
    "start_time": "2022-02-17T09:02:22.740Z"
   },
   {
    "duration": 9,
    "start_time": "2022-02-17T09:02:22.749Z"
   },
   {
    "duration": 62,
    "start_time": "2022-02-17T09:02:22.761Z"
   },
   {
    "duration": 12,
    "start_time": "2022-02-17T09:02:22.825Z"
   },
   {
    "duration": 10,
    "start_time": "2022-02-17T09:02:22.839Z"
   },
   {
    "duration": 48,
    "start_time": "2022-02-17T09:02:22.851Z"
   },
   {
    "duration": 27,
    "start_time": "2022-02-17T09:02:22.901Z"
   },
   {
    "duration": 6,
    "start_time": "2022-02-17T09:02:22.930Z"
   },
   {
    "duration": 27,
    "start_time": "2022-02-17T09:02:22.938Z"
   },
   {
    "duration": 23,
    "start_time": "2022-02-17T09:02:22.968Z"
   },
   {
    "duration": 56,
    "start_time": "2022-02-17T09:02:22.993Z"
   },
   {
    "duration": 11,
    "start_time": "2022-02-17T09:02:23.052Z"
   },
   {
    "duration": 9,
    "start_time": "2022-02-17T09:02:23.065Z"
   },
   {
    "duration": 25,
    "start_time": "2022-02-17T09:02:23.076Z"
   },
   {
    "duration": 21,
    "start_time": "2022-02-17T09:02:23.103Z"
   },
   {
    "duration": 11,
    "start_time": "2022-02-17T09:02:23.127Z"
   },
   {
    "duration": 29,
    "start_time": "2022-02-17T09:02:23.144Z"
   },
   {
    "duration": 8,
    "start_time": "2022-02-17T09:02:23.177Z"
   },
   {
    "duration": 34,
    "start_time": "2022-02-17T09:02:23.187Z"
   },
   {
    "duration": 12,
    "start_time": "2022-02-17T09:02:23.224Z"
   },
   {
    "duration": 17,
    "start_time": "2022-02-17T09:02:23.238Z"
   },
   {
    "duration": 45,
    "start_time": "2022-02-17T09:02:23.258Z"
   },
   {
    "duration": 22,
    "start_time": "2022-02-17T09:02:23.306Z"
   },
   {
    "duration": 5,
    "start_time": "2022-02-17T09:02:23.330Z"
   },
   {
    "duration": 18,
    "start_time": "2022-02-17T09:02:23.337Z"
   },
   {
    "duration": 7,
    "start_time": "2022-02-17T09:02:23.357Z"
   },
   {
    "duration": 25,
    "start_time": "2022-02-17T09:02:23.366Z"
   },
   {
    "duration": 13,
    "start_time": "2022-02-17T09:02:23.394Z"
   },
   {
    "duration": 29,
    "start_time": "2022-02-17T09:02:23.409Z"
   },
   {
    "duration": 4,
    "start_time": "2022-02-17T09:02:23.440Z"
   },
   {
    "duration": 766,
    "start_time": "2022-02-17T09:02:23.446Z"
   },
   {
    "duration": 19,
    "start_time": "2022-02-17T09:02:24.214Z"
   },
   {
    "duration": 6,
    "start_time": "2022-02-17T09:02:24.236Z"
   },
   {
    "duration": 6,
    "start_time": "2022-02-17T09:02:24.244Z"
   },
   {
    "duration": 21,
    "start_time": "2022-02-17T09:02:24.253Z"
   },
   {
    "duration": 52,
    "start_time": "2022-02-17T09:02:24.276Z"
   },
   {
    "duration": 2192,
    "start_time": "2022-02-17T09:02:24.331Z"
   },
   {
    "duration": 589,
    "start_time": "2022-02-17T09:02:26.525Z"
   },
   {
    "duration": 12,
    "start_time": "2022-02-17T09:02:27.123Z"
   },
   {
    "duration": 10230,
    "start_time": "2022-02-17T09:02:27.138Z"
   },
   {
    "duration": 586,
    "start_time": "2022-02-17T09:02:37.371Z"
   },
   {
    "duration": 12,
    "start_time": "2022-02-17T09:02:37.960Z"
   },
   {
    "duration": 667,
    "start_time": "2022-02-17T09:02:37.975Z"
   },
   {
    "duration": 416,
    "start_time": "2022-02-17T09:02:38.644Z"
   },
   {
    "duration": 11,
    "start_time": "2022-02-17T09:02:39.062Z"
   },
   {
    "duration": 42183,
    "start_time": "2022-02-17T09:02:39.075Z"
   },
   {
    "duration": 352,
    "start_time": "2022-02-17T09:03:21.261Z"
   },
   {
    "duration": 17,
    "start_time": "2022-02-17T09:03:21.615Z"
   },
   {
    "duration": 647,
    "start_time": "2022-02-17T09:03:21.635Z"
   },
   {
    "duration": 425,
    "start_time": "2022-02-17T09:03:22.285Z"
   },
   {
    "duration": 17,
    "start_time": "2022-02-17T09:03:22.713Z"
   },
   {
    "duration": 311,
    "start_time": "2022-02-17T09:03:22.733Z"
   },
   {
    "duration": 8,
    "start_time": "2022-02-17T09:03:23.047Z"
   },
   {
    "duration": 407,
    "start_time": "2022-02-17T09:03:23.058Z"
   },
   {
    "duration": 14,
    "start_time": "2022-02-17T09:03:23.468Z"
   },
   {
    "duration": 8,
    "start_time": "2022-02-17T09:03:23.485Z"
   },
   {
    "duration": 1154,
    "start_time": "2022-02-17T09:03:23.495Z"
   },
   {
    "duration": 8,
    "start_time": "2022-02-17T09:03:24.652Z"
   },
   {
    "duration": 438,
    "start_time": "2022-02-17T09:03:24.662Z"
   },
   {
    "duration": 31,
    "start_time": "2022-02-17T09:03:25.102Z"
   },
   {
    "duration": 10,
    "start_time": "2022-02-17T09:03:25.136Z"
   },
   {
    "duration": 22,
    "start_time": "2022-02-17T09:23:11.751Z"
   },
   {
    "duration": 967,
    "start_time": "2022-02-17T09:23:58.196Z"
   },
   {
    "duration": 16,
    "start_time": "2022-02-17T09:23:59.166Z"
   },
   {
    "duration": 33,
    "start_time": "2022-02-17T09:23:59.185Z"
   },
   {
    "duration": 34,
    "start_time": "2022-02-17T09:23:59.220Z"
   },
   {
    "duration": 47,
    "start_time": "2022-02-17T09:23:59.256Z"
   },
   {
    "duration": 58,
    "start_time": "2022-02-17T09:23:59.305Z"
   },
   {
    "duration": 6,
    "start_time": "2022-02-17T09:23:59.365Z"
   },
   {
    "duration": 11,
    "start_time": "2022-02-17T09:23:59.375Z"
   },
   {
    "duration": 48,
    "start_time": "2022-02-17T09:23:59.389Z"
   },
   {
    "duration": 34,
    "start_time": "2022-02-17T09:23:59.439Z"
   },
   {
    "duration": 13,
    "start_time": "2022-02-17T09:23:59.475Z"
   },
   {
    "duration": 49,
    "start_time": "2022-02-17T09:23:59.490Z"
   },
   {
    "duration": 12,
    "start_time": "2022-02-17T09:23:59.561Z"
   },
   {
    "duration": 9,
    "start_time": "2022-02-17T09:23:59.575Z"
   },
   {
    "duration": 13,
    "start_time": "2022-02-17T09:23:59.586Z"
   },
   {
    "duration": 12,
    "start_time": "2022-02-17T09:23:59.602Z"
   },
   {
    "duration": 78,
    "start_time": "2022-02-17T09:23:59.616Z"
   },
   {
    "duration": 12,
    "start_time": "2022-02-17T09:23:59.698Z"
   },
   {
    "duration": 15,
    "start_time": "2022-02-17T09:23:59.713Z"
   },
   {
    "duration": 39,
    "start_time": "2022-02-17T09:23:59.731Z"
   },
   {
    "duration": 11,
    "start_time": "2022-02-17T09:23:59.772Z"
   },
   {
    "duration": 13,
    "start_time": "2022-02-17T09:23:59.785Z"
   },
   {
    "duration": 15,
    "start_time": "2022-02-17T09:23:59.804Z"
   },
   {
    "duration": 40,
    "start_time": "2022-02-17T09:23:59.823Z"
   },
   {
    "duration": 16,
    "start_time": "2022-02-17T09:23:59.866Z"
   },
   {
    "duration": 6,
    "start_time": "2022-02-17T09:23:59.885Z"
   },
   {
    "duration": 18,
    "start_time": "2022-02-17T09:23:59.893Z"
   },
   {
    "duration": 56,
    "start_time": "2022-02-17T09:23:59.914Z"
   },
   {
    "duration": 15,
    "start_time": "2022-02-17T09:23:59.972Z"
   },
   {
    "duration": 23,
    "start_time": "2022-02-17T09:23:59.990Z"
   },
   {
    "duration": 28,
    "start_time": "2022-02-17T09:24:00.016Z"
   },
   {
    "duration": 21,
    "start_time": "2022-02-17T09:24:00.046Z"
   },
   {
    "duration": 12,
    "start_time": "2022-02-17T09:24:00.070Z"
   },
   {
    "duration": 11,
    "start_time": "2022-02-17T09:24:00.085Z"
   },
   {
    "duration": 32,
    "start_time": "2022-02-17T09:24:00.098Z"
   },
   {
    "duration": 4,
    "start_time": "2022-02-17T09:24:00.161Z"
   },
   {
    "duration": 894,
    "start_time": "2022-02-17T09:24:00.167Z"
   },
   {
    "duration": 14,
    "start_time": "2022-02-17T09:24:01.064Z"
   },
   {
    "duration": 21,
    "start_time": "2022-02-17T09:24:01.081Z"
   },
   {
    "duration": 39,
    "start_time": "2022-02-17T09:24:01.105Z"
   },
   {
    "duration": 40,
    "start_time": "2022-02-17T09:24:01.146Z"
   },
   {
    "duration": 16,
    "start_time": "2022-02-17T09:24:01.189Z"
   },
   {
    "duration": 1737,
    "start_time": "2022-02-17T09:24:01.208Z"
   },
   {
    "duration": 606,
    "start_time": "2022-02-17T09:24:02.948Z"
   },
   {
    "duration": 14,
    "start_time": "2022-02-17T09:24:03.560Z"
   },
   {
    "duration": 9598,
    "start_time": "2022-02-17T09:24:03.577Z"
   },
   {
    "duration": 538,
    "start_time": "2022-02-17T09:24:13.178Z"
   },
   {
    "duration": 11,
    "start_time": "2022-02-17T09:24:13.718Z"
   },
   {
    "duration": 669,
    "start_time": "2022-02-17T09:24:13.731Z"
   },
   {
    "duration": 407,
    "start_time": "2022-02-17T09:24:14.402Z"
   },
   {
    "duration": 12,
    "start_time": "2022-02-17T09:24:14.812Z"
   },
   {
    "duration": 42097,
    "start_time": "2022-02-17T09:24:14.826Z"
   },
   {
    "duration": 345,
    "start_time": "2022-02-17T09:24:56.925Z"
   },
   {
    "duration": 11,
    "start_time": "2022-02-17T09:24:57.272Z"
   },
   {
    "duration": 654,
    "start_time": "2022-02-17T09:24:57.285Z"
   },
   {
    "duration": 467,
    "start_time": "2022-02-17T09:24:57.942Z"
   },
   {
    "duration": 7,
    "start_time": "2022-02-17T09:24:58.412Z"
   },
   {
    "duration": 305,
    "start_time": "2022-02-17T09:24:58.422Z"
   },
   {
    "duration": 8,
    "start_time": "2022-02-17T09:24:58.730Z"
   },
   {
    "duration": 402,
    "start_time": "2022-02-17T09:24:58.740Z"
   },
   {
    "duration": 29,
    "start_time": "2022-02-17T09:24:59.144Z"
   },
   {
    "duration": 10,
    "start_time": "2022-02-17T09:24:59.175Z"
   },
   {
    "duration": 1173,
    "start_time": "2022-02-17T09:24:59.188Z"
   },
   {
    "duration": 8,
    "start_time": "2022-02-17T09:25:00.363Z"
   },
   {
    "duration": 426,
    "start_time": "2022-02-17T09:25:00.374Z"
   },
   {
    "duration": 17,
    "start_time": "2022-02-17T09:25:00.804Z"
   },
   {
    "duration": 10,
    "start_time": "2022-02-17T09:25:00.824Z"
   },
   {
    "duration": 9,
    "start_time": "2022-02-17T09:25:00.862Z"
   },
   {
    "duration": 886,
    "start_time": "2022-02-17T09:26:52.656Z"
   },
   {
    "duration": 28,
    "start_time": "2022-02-17T09:26:53.545Z"
   },
   {
    "duration": 11,
    "start_time": "2022-02-17T09:26:53.576Z"
   },
   {
    "duration": 13,
    "start_time": "2022-02-17T09:26:53.590Z"
   },
   {
    "duration": 82,
    "start_time": "2022-02-17T09:26:53.606Z"
   },
   {
    "duration": 43,
    "start_time": "2022-02-17T09:26:53.690Z"
   },
   {
    "duration": 30,
    "start_time": "2022-02-17T09:26:53.735Z"
   },
   {
    "duration": 7,
    "start_time": "2022-02-17T09:26:53.769Z"
   },
   {
    "duration": 38,
    "start_time": "2022-02-17T09:26:53.780Z"
   },
   {
    "duration": 50,
    "start_time": "2022-02-17T09:26:53.820Z"
   },
   {
    "duration": 7,
    "start_time": "2022-02-17T09:26:53.872Z"
   },
   {
    "duration": 38,
    "start_time": "2022-02-17T09:26:53.882Z"
   },
   {
    "duration": 49,
    "start_time": "2022-02-17T09:26:53.923Z"
   },
   {
    "duration": 5,
    "start_time": "2022-02-17T09:26:53.975Z"
   },
   {
    "duration": 11,
    "start_time": "2022-02-17T09:26:53.983Z"
   },
   {
    "duration": 12,
    "start_time": "2022-02-17T09:26:53.997Z"
   },
   {
    "duration": 86,
    "start_time": "2022-02-17T09:26:54.011Z"
   },
   {
    "duration": 11,
    "start_time": "2022-02-17T09:26:54.099Z"
   },
   {
    "duration": 11,
    "start_time": "2022-02-17T09:26:54.113Z"
   },
   {
    "duration": 37,
    "start_time": "2022-02-17T09:26:54.126Z"
   },
   {
    "duration": 10,
    "start_time": "2022-02-17T09:26:54.166Z"
   },
   {
    "duration": 7,
    "start_time": "2022-02-17T09:26:54.179Z"
   },
   {
    "duration": 12,
    "start_time": "2022-02-17T09:26:54.192Z"
   },
   {
    "duration": 7,
    "start_time": "2022-02-17T09:26:54.208Z"
   },
   {
    "duration": 51,
    "start_time": "2022-02-17T09:26:54.217Z"
   },
   {
    "duration": 6,
    "start_time": "2022-02-17T09:26:54.270Z"
   },
   {
    "duration": 5,
    "start_time": "2022-02-17T09:26:54.279Z"
   },
   {
    "duration": 33,
    "start_time": "2022-02-17T09:26:54.286Z"
   },
   {
    "duration": 52,
    "start_time": "2022-02-17T09:26:54.321Z"
   },
   {
    "duration": 6,
    "start_time": "2022-02-17T09:26:54.376Z"
   },
   {
    "duration": 13,
    "start_time": "2022-02-17T09:26:54.385Z"
   },
   {
    "duration": 8,
    "start_time": "2022-02-17T09:26:54.401Z"
   },
   {
    "duration": 49,
    "start_time": "2022-02-17T09:26:54.412Z"
   },
   {
    "duration": 9,
    "start_time": "2022-02-17T09:26:54.463Z"
   },
   {
    "duration": 20,
    "start_time": "2022-02-17T09:26:54.474Z"
   },
   {
    "duration": 4,
    "start_time": "2022-02-17T09:26:54.496Z"
   },
   {
    "duration": 839,
    "start_time": "2022-02-17T09:26:54.504Z"
   },
   {
    "duration": 22,
    "start_time": "2022-02-17T09:26:55.345Z"
   },
   {
    "duration": 5,
    "start_time": "2022-02-17T09:26:55.370Z"
   },
   {
    "duration": 6,
    "start_time": "2022-02-17T09:26:55.378Z"
   },
   {
    "duration": 22,
    "start_time": "2022-02-17T09:26:55.386Z"
   },
   {
    "duration": 10,
    "start_time": "2022-02-17T09:26:55.411Z"
   },
   {
    "duration": 1825,
    "start_time": "2022-02-17T09:26:55.461Z"
   },
   {
    "duration": 583,
    "start_time": "2022-02-17T09:26:57.288Z"
   },
   {
    "duration": 12,
    "start_time": "2022-02-17T09:26:57.874Z"
   },
   {
    "duration": 9337,
    "start_time": "2022-02-17T09:26:57.888Z"
   },
   {
    "duration": 581,
    "start_time": "2022-02-17T09:27:07.228Z"
   },
   {
    "duration": 13,
    "start_time": "2022-02-17T09:27:07.812Z"
   },
   {
    "duration": 794,
    "start_time": "2022-02-17T09:27:07.827Z"
   },
   {
    "duration": 421,
    "start_time": "2022-02-17T09:27:08.625Z"
   },
   {
    "duration": 21,
    "start_time": "2022-02-17T09:27:09.048Z"
   },
   {
    "duration": 43495,
    "start_time": "2022-02-17T09:27:09.071Z"
   },
   {
    "duration": 341,
    "start_time": "2022-02-17T09:27:52.569Z"
   },
   {
    "duration": 12,
    "start_time": "2022-02-17T09:27:52.912Z"
   },
   {
    "duration": 672,
    "start_time": "2022-02-17T09:27:52.927Z"
   },
   {
    "duration": 432,
    "start_time": "2022-02-17T09:27:53.601Z"
   },
   {
    "duration": 8,
    "start_time": "2022-02-17T09:27:54.035Z"
   },
   {
    "duration": 307,
    "start_time": "2022-02-17T09:27:54.061Z"
   },
   {
    "duration": 9,
    "start_time": "2022-02-17T09:27:54.370Z"
   },
   {
    "duration": 413,
    "start_time": "2022-02-17T09:27:54.382Z"
   },
   {
    "duration": 18,
    "start_time": "2022-02-17T09:27:54.798Z"
   },
   {
    "duration": 9,
    "start_time": "2022-02-17T09:27:54.819Z"
   },
   {
    "duration": 1274,
    "start_time": "2022-02-17T09:27:54.862Z"
   },
   {
    "duration": 22,
    "start_time": "2022-02-17T09:27:56.139Z"
   },
   {
    "duration": 430,
    "start_time": "2022-02-17T09:27:56.164Z"
   },
   {
    "duration": 17,
    "start_time": "2022-02-17T09:27:56.596Z"
   },
   {
    "duration": 20,
    "start_time": "2022-02-17T09:27:56.616Z"
   },
   {
    "duration": 445,
    "start_time": "2022-02-17T09:27:56.643Z"
   },
   {
    "duration": 1412,
    "start_time": "2022-02-17T09:27:57.091Z"
   },
   {
    "duration": 1145,
    "start_time": "2022-02-17T09:29:18.654Z"
   },
   {
    "duration": 1070,
    "start_time": "2022-02-17T09:30:15.646Z"
   },
   {
    "duration": 969,
    "start_time": "2022-02-17T09:30:27.052Z"
   },
   {
    "duration": 17,
    "start_time": "2022-02-17T09:30:28.023Z"
   },
   {
    "duration": 10,
    "start_time": "2022-02-17T09:30:28.060Z"
   },
   {
    "duration": 16,
    "start_time": "2022-02-17T09:30:28.074Z"
   },
   {
    "duration": 80,
    "start_time": "2022-02-17T09:30:28.092Z"
   },
   {
    "duration": 50,
    "start_time": "2022-02-17T09:30:28.175Z"
   },
   {
    "duration": 5,
    "start_time": "2022-02-17T09:30:28.228Z"
   },
   {
    "duration": 27,
    "start_time": "2022-02-17T09:30:28.238Z"
   },
   {
    "duration": 43,
    "start_time": "2022-02-17T09:30:28.268Z"
   },
   {
    "duration": 13,
    "start_time": "2022-02-17T09:30:28.314Z"
   },
   {
    "duration": 36,
    "start_time": "2022-02-17T09:30:28.330Z"
   },
   {
    "duration": 37,
    "start_time": "2022-02-17T09:30:28.369Z"
   },
   {
    "duration": 12,
    "start_time": "2022-02-17T09:30:28.409Z"
   },
   {
    "duration": 38,
    "start_time": "2022-02-17T09:30:28.423Z"
   },
   {
    "duration": 10,
    "start_time": "2022-02-17T09:30:28.464Z"
   },
   {
    "duration": 15,
    "start_time": "2022-02-17T09:30:28.477Z"
   },
   {
    "duration": 74,
    "start_time": "2022-02-17T09:30:28.494Z"
   },
   {
    "duration": 12,
    "start_time": "2022-02-17T09:30:28.571Z"
   },
   {
    "duration": 10,
    "start_time": "2022-02-17T09:30:28.586Z"
   },
   {
    "duration": 11,
    "start_time": "2022-02-17T09:30:28.598Z"
   },
   {
    "duration": 49,
    "start_time": "2022-02-17T09:30:28.612Z"
   },
   {
    "duration": 15,
    "start_time": "2022-02-17T09:30:28.664Z"
   },
   {
    "duration": 14,
    "start_time": "2022-02-17T09:30:28.685Z"
   },
   {
    "duration": 7,
    "start_time": "2022-02-17T09:30:28.702Z"
   },
   {
    "duration": 50,
    "start_time": "2022-02-17T09:30:28.711Z"
   },
   {
    "duration": 7,
    "start_time": "2022-02-17T09:30:28.764Z"
   },
   {
    "duration": 6,
    "start_time": "2022-02-17T09:30:28.773Z"
   },
   {
    "duration": 41,
    "start_time": "2022-02-17T09:30:28.781Z"
   },
   {
    "duration": 39,
    "start_time": "2022-02-17T09:30:28.825Z"
   },
   {
    "duration": 6,
    "start_time": "2022-02-17T09:30:28.867Z"
   },
   {
    "duration": 14,
    "start_time": "2022-02-17T09:30:28.875Z"
   },
   {
    "duration": 8,
    "start_time": "2022-02-17T09:30:28.891Z"
   },
   {
    "duration": 10,
    "start_time": "2022-02-17T09:30:28.901Z"
   },
   {
    "duration": 49,
    "start_time": "2022-02-17T09:30:28.913Z"
   },
   {
    "duration": 17,
    "start_time": "2022-02-17T09:30:28.965Z"
   },
   {
    "duration": 4,
    "start_time": "2022-02-17T09:30:28.984Z"
   },
   {
    "duration": 819,
    "start_time": "2022-02-17T09:30:28.990Z"
   },
   {
    "duration": 16,
    "start_time": "2022-02-17T09:30:29.811Z"
   },
   {
    "duration": 6,
    "start_time": "2022-02-17T09:30:29.829Z"
   },
   {
    "duration": 7,
    "start_time": "2022-02-17T09:30:29.862Z"
   },
   {
    "duration": 23,
    "start_time": "2022-02-17T09:30:29.871Z"
   },
   {
    "duration": 14,
    "start_time": "2022-02-17T09:30:29.896Z"
   },
   {
    "duration": 1929,
    "start_time": "2022-02-17T09:30:29.912Z"
   },
   {
    "duration": 1401,
    "start_time": "2022-02-17T09:30:31.843Z"
   },
   {
    "duration": 23,
    "start_time": "2022-02-17T09:30:33.247Z"
   },
   {
    "duration": 9868,
    "start_time": "2022-02-17T09:30:33.272Z"
   },
   {
    "duration": 746,
    "start_time": "2022-02-17T09:30:43.143Z"
   },
   {
    "duration": 11,
    "start_time": "2022-02-17T09:30:43.892Z"
   },
   {
    "duration": 811,
    "start_time": "2022-02-17T09:30:43.906Z"
   },
   {
    "duration": 436,
    "start_time": "2022-02-17T09:30:44.719Z"
   },
   {
    "duration": 12,
    "start_time": "2022-02-17T09:30:45.157Z"
   },
   {
    "duration": 44584,
    "start_time": "2022-02-17T09:30:45.171Z"
   },
   {
    "duration": 349,
    "start_time": "2022-02-17T09:31:29.761Z"
   },
   {
    "duration": 13,
    "start_time": "2022-02-17T09:31:30.112Z"
   },
   {
    "duration": 696,
    "start_time": "2022-02-17T09:31:30.128Z"
   },
   {
    "duration": 447,
    "start_time": "2022-02-17T09:31:30.827Z"
   },
   {
    "duration": 10,
    "start_time": "2022-02-17T09:31:31.276Z"
   },
   {
    "duration": 342,
    "start_time": "2022-02-17T09:31:31.289Z"
   },
   {
    "duration": 25,
    "start_time": "2022-02-17T09:31:31.635Z"
   },
   {
    "duration": 403,
    "start_time": "2022-02-17T09:31:31.663Z"
   },
   {
    "duration": 16,
    "start_time": "2022-02-17T09:31:32.069Z"
   },
   {
    "duration": 10,
    "start_time": "2022-02-17T09:31:32.089Z"
   },
   {
    "duration": 1210,
    "start_time": "2022-02-17T09:31:32.102Z"
   },
   {
    "duration": 8,
    "start_time": "2022-02-17T09:31:33.314Z"
   },
   {
    "duration": 439,
    "start_time": "2022-02-17T09:31:33.325Z"
   },
   {
    "duration": 16,
    "start_time": "2022-02-17T09:31:33.767Z"
   },
   {
    "duration": 14,
    "start_time": "2022-02-17T09:31:33.786Z"
   },
   {
    "duration": 29,
    "start_time": "2022-02-17T09:31:33.808Z"
   },
   {
    "duration": 8,
    "start_time": "2022-02-17T09:32:30.457Z"
   },
   {
    "duration": 8,
    "start_time": "2022-02-17T09:32:44.017Z"
   },
   {
    "duration": 8,
    "start_time": "2022-02-17T09:33:06.778Z"
   },
   {
    "duration": 403,
    "start_time": "2022-02-17T10:05:50.858Z"
   },
   {
    "duration": 417,
    "start_time": "2022-02-17T10:05:59.260Z"
   },
   {
    "duration": 436,
    "start_time": "2022-02-17T10:06:06.461Z"
   },
   {
    "duration": 417,
    "start_time": "2022-02-17T10:07:34.251Z"
   },
   {
    "duration": 374,
    "start_time": "2022-02-17T10:11:20.532Z"
   },
   {
    "duration": 397,
    "start_time": "2022-02-17T10:11:23.454Z"
   },
   {
    "duration": 441,
    "start_time": "2022-02-17T10:15:28.662Z"
   },
   {
    "duration": 413,
    "start_time": "2022-02-17T10:23:46.081Z"
   },
   {
    "duration": 15,
    "start_time": "2022-02-17T10:24:43.509Z"
   },
   {
    "duration": 9,
    "start_time": "2022-02-17T10:27:54.865Z"
   },
   {
    "duration": 378,
    "start_time": "2022-02-17T10:28:38.606Z"
   },
   {
    "duration": 11,
    "start_time": "2022-02-17T10:30:00.979Z"
   },
   {
    "duration": 378,
    "start_time": "2022-02-17T10:30:32.572Z"
   },
   {
    "duration": 362,
    "start_time": "2022-02-17T10:30:41.287Z"
   },
   {
    "duration": 90,
    "start_time": "2022-02-17T10:32:48.158Z"
   },
   {
    "duration": 8,
    "start_time": "2022-02-17T10:32:50.512Z"
   },
   {
    "duration": 15,
    "start_time": "2022-02-17T10:37:43.181Z"
   },
   {
    "duration": 465,
    "start_time": "2022-02-17T10:37:59.816Z"
   },
   {
    "duration": 907,
    "start_time": "2022-02-17T10:38:16.237Z"
   },
   {
    "duration": 21,
    "start_time": "2022-02-17T10:38:17.146Z"
   },
   {
    "duration": 10,
    "start_time": "2022-02-17T10:38:17.170Z"
   },
   {
    "duration": 13,
    "start_time": "2022-02-17T10:38:17.183Z"
   },
   {
    "duration": 77,
    "start_time": "2022-02-17T10:38:17.199Z"
   },
   {
    "duration": 40,
    "start_time": "2022-02-17T10:38:17.279Z"
   },
   {
    "duration": 5,
    "start_time": "2022-02-17T10:38:17.321Z"
   },
   {
    "duration": 34,
    "start_time": "2022-02-17T10:38:17.328Z"
   },
   {
    "duration": 38,
    "start_time": "2022-02-17T10:38:17.366Z"
   },
   {
    "duration": 13,
    "start_time": "2022-02-17T10:38:17.407Z"
   },
   {
    "duration": 6,
    "start_time": "2022-02-17T10:38:17.423Z"
   },
   {
    "duration": 40,
    "start_time": "2022-02-17T10:38:17.462Z"
   },
   {
    "duration": 16,
    "start_time": "2022-02-17T10:38:17.504Z"
   },
   {
    "duration": 40,
    "start_time": "2022-02-17T10:38:17.522Z"
   },
   {
    "duration": 10,
    "start_time": "2022-02-17T10:38:17.565Z"
   },
   {
    "duration": 13,
    "start_time": "2022-02-17T10:38:17.577Z"
   },
   {
    "duration": 38,
    "start_time": "2022-02-17T10:38:17.592Z"
   },
   {
    "duration": 12,
    "start_time": "2022-02-17T10:38:17.660Z"
   },
   {
    "duration": 8,
    "start_time": "2022-02-17T10:38:17.674Z"
   },
   {
    "duration": 9,
    "start_time": "2022-02-17T10:38:17.684Z"
   },
   {
    "duration": 5,
    "start_time": "2022-02-17T10:38:17.696Z"
   },
   {
    "duration": 10,
    "start_time": "2022-02-17T10:38:17.703Z"
   },
   {
    "duration": 16,
    "start_time": "2022-02-17T10:38:17.760Z"
   },
   {
    "duration": 8,
    "start_time": "2022-02-17T10:38:17.778Z"
   },
   {
    "duration": 16,
    "start_time": "2022-02-17T10:38:17.789Z"
   },
   {
    "duration": 5,
    "start_time": "2022-02-17T10:38:17.808Z"
   },
   {
    "duration": 45,
    "start_time": "2022-02-17T10:38:17.820Z"
   },
   {
    "duration": 35,
    "start_time": "2022-02-17T10:38:17.869Z"
   },
   {
    "duration": 14,
    "start_time": "2022-02-17T10:38:17.906Z"
   },
   {
    "duration": 39,
    "start_time": "2022-02-17T10:38:17.922Z"
   },
   {
    "duration": 12,
    "start_time": "2022-02-17T10:38:17.964Z"
   },
   {
    "duration": 9,
    "start_time": "2022-02-17T10:38:17.978Z"
   },
   {
    "duration": 8,
    "start_time": "2022-02-17T10:38:17.989Z"
   },
   {
    "duration": 7,
    "start_time": "2022-02-17T10:38:17.999Z"
   },
   {
    "duration": 60,
    "start_time": "2022-02-17T10:38:18.009Z"
   },
   {
    "duration": 6,
    "start_time": "2022-02-17T10:38:18.072Z"
   },
   {
    "duration": 882,
    "start_time": "2022-02-17T10:38:18.081Z"
   },
   {
    "duration": 16,
    "start_time": "2022-02-17T10:38:18.965Z"
   },
   {
    "duration": 6,
    "start_time": "2022-02-17T10:38:18.983Z"
   },
   {
    "duration": 21,
    "start_time": "2022-02-17T10:38:18.991Z"
   },
   {
    "duration": 22,
    "start_time": "2022-02-17T10:38:19.014Z"
   },
   {
    "duration": 12,
    "start_time": "2022-02-17T10:38:19.062Z"
   },
   {
    "duration": 1745,
    "start_time": "2022-02-17T10:38:19.076Z"
   },
   {
    "duration": 606,
    "start_time": "2022-02-17T10:38:20.823Z"
   },
   {
    "duration": 12,
    "start_time": "2022-02-17T10:38:21.432Z"
   },
   {
    "duration": 10033,
    "start_time": "2022-02-17T10:38:21.462Z"
   },
   {
    "duration": 572,
    "start_time": "2022-02-17T10:38:31.497Z"
   },
   {
    "duration": 13,
    "start_time": "2022-02-17T10:38:32.071Z"
   },
   {
    "duration": 717,
    "start_time": "2022-02-17T10:38:32.087Z"
   },
   {
    "duration": 436,
    "start_time": "2022-02-17T10:38:32.806Z"
   },
   {
    "duration": 17,
    "start_time": "2022-02-17T10:38:33.245Z"
   },
   {
    "duration": 44198,
    "start_time": "2022-02-17T10:38:33.264Z"
   },
   {
    "duration": 337,
    "start_time": "2022-02-17T10:39:17.464Z"
   },
   {
    "duration": 12,
    "start_time": "2022-02-17T10:39:17.803Z"
   },
   {
    "duration": 644,
    "start_time": "2022-02-17T10:39:17.817Z"
   },
   {
    "duration": 424,
    "start_time": "2022-02-17T10:39:18.464Z"
   },
   {
    "duration": 7,
    "start_time": "2022-02-17T10:39:18.892Z"
   },
   {
    "duration": 438,
    "start_time": "2022-02-17T10:39:18.902Z"
   },
   {
    "duration": 19,
    "start_time": "2022-02-17T10:39:19.342Z"
   },
   {
    "duration": 416,
    "start_time": "2022-02-17T10:39:19.363Z"
   },
   {
    "duration": 21,
    "start_time": "2022-02-17T10:39:19.781Z"
   },
   {
    "duration": 8,
    "start_time": "2022-02-17T10:39:19.805Z"
   },
   {
    "duration": 1184,
    "start_time": "2022-02-17T10:39:19.815Z"
   },
   {
    "duration": 10,
    "start_time": "2022-02-17T10:39:21.002Z"
   },
   {
    "duration": 433,
    "start_time": "2022-02-17T10:39:21.015Z"
   },
   {
    "duration": 27,
    "start_time": "2022-02-17T10:39:21.451Z"
   },
   {
    "duration": 9,
    "start_time": "2022-02-17T10:39:21.480Z"
   },
   {
    "duration": 8,
    "start_time": "2022-02-17T10:39:21.492Z"
   },
   {
    "duration": 445,
    "start_time": "2022-02-17T10:39:21.503Z"
   },
   {
    "duration": 470,
    "start_time": "2022-02-17T10:39:21.950Z"
   },
   {
    "duration": 16,
    "start_time": "2022-02-17T10:39:22.423Z"
   },
   {
    "duration": 25,
    "start_time": "2022-02-17T10:39:22.441Z"
   },
   {
    "duration": 16,
    "start_time": "2022-02-17T10:39:22.468Z"
   },
   {
    "duration": 375,
    "start_time": "2022-02-17T10:39:22.486Z"
   },
   {
    "duration": 16,
    "start_time": "2022-02-17T10:46:20.751Z"
   },
   {
    "duration": 9,
    "start_time": "2022-02-17T10:48:59.455Z"
   },
   {
    "duration": 8,
    "start_time": "2022-02-17T10:54:23.011Z"
   },
   {
    "duration": 100,
    "start_time": "2022-02-17T10:54:28.081Z"
   },
   {
    "duration": 8,
    "start_time": "2022-02-17T10:54:38.801Z"
   },
   {
    "duration": 8,
    "start_time": "2022-02-17T10:54:55.602Z"
   },
   {
    "duration": 376,
    "start_time": "2022-02-17T10:56:10.211Z"
   },
   {
    "duration": 1723,
    "start_time": "2022-02-17T10:56:15.506Z"
   },
   {
    "duration": 1285,
    "start_time": "2022-02-17T10:56:34.262Z"
   },
   {
    "duration": 874,
    "start_time": "2022-02-17T10:56:56.659Z"
   },
   {
    "duration": 7,
    "start_time": "2022-02-17T10:57:21.383Z"
   },
   {
    "duration": 8,
    "start_time": "2022-02-17T10:57:33.902Z"
   },
   {
    "duration": 937,
    "start_time": "2022-02-17T10:57:59.824Z"
   },
   {
    "duration": 10,
    "start_time": "2022-02-17T11:02:03.582Z"
   },
   {
    "duration": 557,
    "start_time": "2022-02-17T11:04:36.957Z"
   },
   {
    "duration": 334,
    "start_time": "2022-02-17T11:04:47.771Z"
   },
   {
    "duration": 15,
    "start_time": "2022-02-17T11:06:06.654Z"
   },
   {
    "duration": 42,
    "start_time": "2022-02-17T11:06:58.899Z"
   },
   {
    "duration": 46,
    "start_time": "2022-02-17T11:07:13.674Z"
   },
   {
    "duration": 37,
    "start_time": "2022-02-17T11:08:19.899Z"
   },
   {
    "duration": 7,
    "start_time": "2022-02-17T11:18:41.718Z"
   },
   {
    "duration": 6,
    "start_time": "2022-02-17T11:22:01.727Z"
   },
   {
    "duration": 7099,
    "start_time": "2022-02-17T11:23:52.154Z"
   },
   {
    "duration": 8,
    "start_time": "2022-02-17T11:24:14.486Z"
   },
   {
    "duration": 7,
    "start_time": "2022-02-17T11:24:23.148Z"
   },
   {
    "duration": 272,
    "start_time": "2022-02-17T11:34:53.223Z"
   },
   {
    "duration": 318,
    "start_time": "2022-02-17T11:38:21.896Z"
   },
   {
    "duration": 449,
    "start_time": "2022-02-17T11:38:32.777Z"
   },
   {
    "duration": 304,
    "start_time": "2022-02-17T11:38:51.128Z"
   },
   {
    "duration": 16,
    "start_time": "2022-02-17T11:38:55.856Z"
   },
   {
    "duration": 13,
    "start_time": "2022-02-17T11:39:42.879Z"
   },
   {
    "duration": 14,
    "start_time": "2022-02-17T11:40:06.480Z"
   },
   {
    "duration": 85,
    "start_time": "2022-02-17T11:44:16.700Z"
   },
   {
    "duration": 1501,
    "start_time": "2022-02-17T11:46:07.587Z"
   },
   {
    "duration": 996,
    "start_time": "2022-02-17T11:46:35.769Z"
   },
   {
    "duration": 19,
    "start_time": "2022-02-17T11:46:36.768Z"
   },
   {
    "duration": 11,
    "start_time": "2022-02-17T11:46:36.792Z"
   },
   {
    "duration": 54,
    "start_time": "2022-02-17T11:46:36.807Z"
   },
   {
    "duration": 63,
    "start_time": "2022-02-17T11:46:36.864Z"
   },
   {
    "duration": 68,
    "start_time": "2022-02-17T11:46:36.929Z"
   },
   {
    "duration": 5,
    "start_time": "2022-02-17T11:46:36.999Z"
   },
   {
    "duration": 12,
    "start_time": "2022-02-17T11:46:37.007Z"
   },
   {
    "duration": 76,
    "start_time": "2022-02-17T11:46:37.023Z"
   },
   {
    "duration": 14,
    "start_time": "2022-02-17T11:46:37.102Z"
   },
   {
    "duration": 6,
    "start_time": "2022-02-17T11:46:37.119Z"
   },
   {
    "duration": 69,
    "start_time": "2022-02-17T11:46:37.128Z"
   },
   {
    "duration": 12,
    "start_time": "2022-02-17T11:46:37.200Z"
   },
   {
    "duration": 5,
    "start_time": "2022-02-17T11:46:37.214Z"
   },
   {
    "duration": 45,
    "start_time": "2022-02-17T11:46:37.221Z"
   },
   {
    "duration": 22,
    "start_time": "2022-02-17T11:46:37.269Z"
   },
   {
    "duration": 41,
    "start_time": "2022-02-17T11:46:37.294Z"
   },
   {
    "duration": 16,
    "start_time": "2022-02-17T11:46:37.363Z"
   },
   {
    "duration": 8,
    "start_time": "2022-02-17T11:46:37.382Z"
   },
   {
    "duration": 9,
    "start_time": "2022-02-17T11:46:37.393Z"
   },
   {
    "duration": 6,
    "start_time": "2022-02-17T11:46:37.405Z"
   },
   {
    "duration": 54,
    "start_time": "2022-02-17T11:46:37.413Z"
   },
   {
    "duration": 28,
    "start_time": "2022-02-17T11:46:37.471Z"
   },
   {
    "duration": 9,
    "start_time": "2022-02-17T11:46:37.502Z"
   },
   {
    "duration": 50,
    "start_time": "2022-02-17T11:46:37.514Z"
   },
   {
    "duration": 9,
    "start_time": "2022-02-17T11:46:37.567Z"
   },
   {
    "duration": 5,
    "start_time": "2022-02-17T11:46:37.584Z"
   },
   {
    "duration": 68,
    "start_time": "2022-02-17T11:46:37.594Z"
   },
   {
    "duration": 15,
    "start_time": "2022-02-17T11:46:37.665Z"
   },
   {
    "duration": 15,
    "start_time": "2022-02-17T11:46:37.682Z"
   },
   {
    "duration": 12,
    "start_time": "2022-02-17T11:46:37.700Z"
   },
   {
    "duration": 8,
    "start_time": "2022-02-17T11:46:37.715Z"
   },
   {
    "duration": 41,
    "start_time": "2022-02-17T11:46:37.726Z"
   },
   {
    "duration": 7,
    "start_time": "2022-02-17T11:46:37.770Z"
   },
   {
    "duration": 18,
    "start_time": "2022-02-17T11:46:37.779Z"
   },
   {
    "duration": 5,
    "start_time": "2022-02-17T11:46:37.800Z"
   },
   {
    "duration": 840,
    "start_time": "2022-02-17T11:46:37.808Z"
   },
   {
    "duration": 20,
    "start_time": "2022-02-17T11:46:38.650Z"
   },
   {
    "duration": 6,
    "start_time": "2022-02-17T11:46:38.673Z"
   },
   {
    "duration": 8,
    "start_time": "2022-02-17T11:46:38.681Z"
   },
   {
    "duration": 23,
    "start_time": "2022-02-17T11:46:38.692Z"
   },
   {
    "duration": 58,
    "start_time": "2022-02-17T11:46:38.717Z"
   },
   {
    "duration": 2270,
    "start_time": "2022-02-17T11:46:38.778Z"
   },
   {
    "duration": 608,
    "start_time": "2022-02-17T11:46:41.053Z"
   },
   {
    "duration": 17,
    "start_time": "2022-02-17T11:46:41.666Z"
   },
   {
    "duration": 10597,
    "start_time": "2022-02-17T11:46:41.686Z"
   },
   {
    "duration": 576,
    "start_time": "2022-02-17T11:46:52.286Z"
   },
   {
    "duration": 17,
    "start_time": "2022-02-17T11:46:52.864Z"
   },
   {
    "duration": 729,
    "start_time": "2022-02-17T11:46:52.884Z"
   },
   {
    "duration": 445,
    "start_time": "2022-02-17T11:46:53.616Z"
   },
   {
    "duration": 17,
    "start_time": "2022-02-17T11:46:54.065Z"
   },
   {
    "duration": 46796,
    "start_time": "2022-02-17T11:46:54.085Z"
   },
   {
    "duration": 346,
    "start_time": "2022-02-17T11:47:40.884Z"
   },
   {
    "duration": 27,
    "start_time": "2022-02-17T11:47:41.233Z"
   },
   {
    "duration": 623,
    "start_time": "2022-02-17T11:47:41.263Z"
   },
   {
    "duration": 448,
    "start_time": "2022-02-17T11:47:41.888Z"
   },
   {
    "duration": 8,
    "start_time": "2022-02-17T11:47:42.338Z"
   },
   {
    "duration": 313,
    "start_time": "2022-02-17T11:47:42.348Z"
   },
   {
    "duration": 8,
    "start_time": "2022-02-17T11:47:42.663Z"
   },
   {
    "duration": 391,
    "start_time": "2022-02-17T11:47:42.673Z"
   },
   {
    "duration": 17,
    "start_time": "2022-02-17T11:47:43.066Z"
   },
   {
    "duration": 10,
    "start_time": "2022-02-17T11:47:43.086Z"
   },
   {
    "duration": 1281,
    "start_time": "2022-02-17T11:47:43.099Z"
   },
   {
    "duration": 8,
    "start_time": "2022-02-17T11:47:44.382Z"
   },
   {
    "duration": 456,
    "start_time": "2022-02-17T11:47:44.393Z"
   },
   {
    "duration": 21,
    "start_time": "2022-02-17T11:47:44.852Z"
   },
   {
    "duration": 7,
    "start_time": "2022-02-17T11:47:44.875Z"
   },
   {
    "duration": 9,
    "start_time": "2022-02-17T11:47:44.885Z"
   },
   {
    "duration": 464,
    "start_time": "2022-02-17T11:47:44.897Z"
   },
   {
    "duration": 463,
    "start_time": "2022-02-17T11:47:45.363Z"
   },
   {
    "duration": 13,
    "start_time": "2022-02-17T11:47:45.828Z"
   },
   {
    "duration": 20,
    "start_time": "2022-02-17T11:47:45.843Z"
   },
   {
    "duration": 12,
    "start_time": "2022-02-17T11:47:45.867Z"
   },
   {
    "duration": 439,
    "start_time": "2022-02-17T11:47:45.882Z"
   },
   {
    "duration": 13,
    "start_time": "2022-02-17T11:47:46.324Z"
   },
   {
    "duration": 24,
    "start_time": "2022-02-17T11:47:46.339Z"
   },
   {
    "duration": 9,
    "start_time": "2022-02-17T11:47:46.366Z"
   },
   {
    "duration": 892,
    "start_time": "2022-02-17T11:47:46.378Z"
   },
   {
    "duration": 13,
    "start_time": "2022-02-17T11:47:47.273Z"
   },
   {
    "duration": 44,
    "start_time": "2022-02-17T11:47:47.288Z"
   },
   {
    "duration": 7,
    "start_time": "2022-02-17T11:47:47.361Z"
   },
   {
    "duration": 12,
    "start_time": "2022-02-17T11:47:47.371Z"
   },
   {
    "duration": 515,
    "start_time": "2022-02-17T11:47:47.385Z"
   },
   {
    "duration": 1449,
    "start_time": "2022-02-17T11:47:47.904Z"
   },
   {
    "duration": 209,
    "start_time": "2022-02-17T11:55:21.831Z"
   },
   {
    "duration": 522,
    "start_time": "2022-02-17T11:55:25.512Z"
   },
   {
    "duration": 11,
    "start_time": "2022-02-17T11:57:04.627Z"
   },
   {
    "duration": 10,
    "start_time": "2022-02-17T11:57:10.590Z"
   },
   {
    "duration": 15,
    "start_time": "2022-02-17T11:57:16.699Z"
   },
   {
    "duration": 302,
    "start_time": "2022-02-17T12:05:59.985Z"
   },
   {
    "duration": 6,
    "start_time": "2022-02-17T12:06:07.271Z"
   },
   {
    "duration": 367,
    "start_time": "2022-02-18T12:07:53.166Z"
   },
   {
    "duration": 912,
    "start_time": "2022-02-18T12:08:02.440Z"
   },
   {
    "duration": 15,
    "start_time": "2022-02-18T12:08:03.355Z"
   },
   {
    "duration": 26,
    "start_time": "2022-02-18T12:08:03.374Z"
   },
   {
    "duration": 13,
    "start_time": "2022-02-18T12:08:03.403Z"
   },
   {
    "duration": 45,
    "start_time": "2022-02-18T12:08:03.419Z"
   },
   {
    "duration": 65,
    "start_time": "2022-02-18T12:08:03.466Z"
   },
   {
    "duration": 4,
    "start_time": "2022-02-18T12:08:03.534Z"
   },
   {
    "duration": 10,
    "start_time": "2022-02-18T12:08:03.541Z"
   },
   {
    "duration": 59,
    "start_time": "2022-02-18T12:08:03.554Z"
   },
   {
    "duration": 11,
    "start_time": "2022-02-18T12:08:03.616Z"
   },
   {
    "duration": 6,
    "start_time": "2022-02-18T12:08:03.630Z"
   },
   {
    "duration": 65,
    "start_time": "2022-02-18T12:08:03.638Z"
   },
   {
    "duration": 15,
    "start_time": "2022-02-18T12:08:03.705Z"
   },
   {
    "duration": 5,
    "start_time": "2022-02-18T12:08:03.722Z"
   },
   {
    "duration": 9,
    "start_time": "2022-02-18T12:08:03.730Z"
   },
   {
    "duration": 11,
    "start_time": "2022-02-18T12:08:03.741Z"
   },
   {
    "duration": 77,
    "start_time": "2022-02-18T12:08:03.754Z"
   },
   {
    "duration": 11,
    "start_time": "2022-02-18T12:08:03.833Z"
   },
   {
    "duration": 14,
    "start_time": "2022-02-18T12:08:03.846Z"
   },
   {
    "duration": 35,
    "start_time": "2022-02-18T12:08:03.863Z"
   },
   {
    "duration": 6,
    "start_time": "2022-02-18T12:08:03.900Z"
   },
   {
    "duration": 8,
    "start_time": "2022-02-18T12:08:03.908Z"
   },
   {
    "duration": 14,
    "start_time": "2022-02-18T12:08:03.922Z"
   },
   {
    "duration": 6,
    "start_time": "2022-02-18T12:08:03.940Z"
   },
   {
    "duration": 54,
    "start_time": "2022-02-18T12:08:03.949Z"
   },
   {
    "duration": 4,
    "start_time": "2022-02-18T12:08:04.006Z"
   },
   {
    "duration": 10,
    "start_time": "2022-02-18T12:08:04.012Z"
   },
   {
    "duration": 37,
    "start_time": "2022-02-18T12:08:04.025Z"
   },
   {
    "duration": 34,
    "start_time": "2022-02-18T12:08:04.065Z"
   },
   {
    "duration": 4,
    "start_time": "2022-02-18T12:08:04.102Z"
   },
   {
    "duration": 14,
    "start_time": "2022-02-18T12:08:04.108Z"
   },
   {
    "duration": 7,
    "start_time": "2022-02-18T12:08:04.125Z"
   },
   {
    "duration": 8,
    "start_time": "2022-02-18T12:08:04.134Z"
   },
   {
    "duration": 51,
    "start_time": "2022-02-18T12:08:04.144Z"
   },
   {
    "duration": 27,
    "start_time": "2022-02-18T12:08:04.197Z"
   },
   {
    "duration": 4,
    "start_time": "2022-02-18T12:08:04.227Z"
   },
   {
    "duration": 815,
    "start_time": "2022-02-18T12:08:04.233Z"
   },
   {
    "duration": 15,
    "start_time": "2022-02-18T12:08:05.051Z"
   },
   {
    "duration": 26,
    "start_time": "2022-02-18T12:08:05.068Z"
   },
   {
    "duration": 6,
    "start_time": "2022-02-18T12:08:05.096Z"
   },
   {
    "duration": 22,
    "start_time": "2022-02-18T12:08:05.104Z"
   },
   {
    "duration": 11,
    "start_time": "2022-02-18T12:08:05.128Z"
   },
   {
    "duration": 1900,
    "start_time": "2022-02-18T12:08:05.141Z"
   },
   {
    "duration": 806,
    "start_time": "2022-02-18T12:08:07.095Z"
   },
   {
    "duration": 14,
    "start_time": "2022-02-18T12:08:07.904Z"
   },
   {
    "duration": 10239,
    "start_time": "2022-02-18T12:08:07.921Z"
   },
   {
    "duration": 547,
    "start_time": "2022-02-18T12:08:18.163Z"
   },
   {
    "duration": 11,
    "start_time": "2022-02-18T12:08:18.713Z"
   },
   {
    "duration": 692,
    "start_time": "2022-02-18T12:08:18.726Z"
   },
   {
    "duration": 417,
    "start_time": "2022-02-18T12:08:19.420Z"
   },
   {
    "duration": 11,
    "start_time": "2022-02-18T12:08:19.840Z"
   },
   {
    "duration": 43375,
    "start_time": "2022-02-18T12:08:19.853Z"
   },
   {
    "duration": 336,
    "start_time": "2022-02-18T12:09:03.230Z"
   },
   {
    "duration": 24,
    "start_time": "2022-02-18T12:09:03.569Z"
   },
   {
    "duration": 631,
    "start_time": "2022-02-18T12:09:03.596Z"
   },
   {
    "duration": 455,
    "start_time": "2022-02-18T12:09:04.230Z"
   },
   {
    "duration": 12,
    "start_time": "2022-02-18T12:09:04.687Z"
   },
   {
    "duration": 308,
    "start_time": "2022-02-18T12:09:04.701Z"
   },
   {
    "duration": 8,
    "start_time": "2022-02-18T12:09:05.012Z"
   },
   {
    "duration": 399,
    "start_time": "2022-02-18T12:09:05.022Z"
   },
   {
    "duration": 15,
    "start_time": "2022-02-18T12:09:05.423Z"
   },
   {
    "duration": 8,
    "start_time": "2022-02-18T12:09:05.441Z"
   },
   {
    "duration": 1104,
    "start_time": "2022-02-18T12:09:05.451Z"
   },
   {
    "duration": 8,
    "start_time": "2022-02-18T12:09:06.558Z"
   },
   {
    "duration": 461,
    "start_time": "2022-02-18T12:09:06.568Z"
   },
   {
    "duration": 16,
    "start_time": "2022-02-18T12:09:07.031Z"
   },
   {
    "duration": 9,
    "start_time": "2022-02-18T12:09:07.050Z"
   },
   {
    "duration": 8,
    "start_time": "2022-02-18T12:09:07.094Z"
   },
   {
    "duration": 416,
    "start_time": "2022-02-18T12:09:07.104Z"
   },
   {
    "duration": 448,
    "start_time": "2022-02-18T12:09:07.522Z"
   },
   {
    "duration": 24,
    "start_time": "2022-02-18T12:09:07.972Z"
   },
   {
    "duration": 8,
    "start_time": "2022-02-18T12:09:07.998Z"
   },
   {
    "duration": 16,
    "start_time": "2022-02-18T12:09:08.009Z"
   },
   {
    "duration": 407,
    "start_time": "2022-02-18T12:09:08.027Z"
   },
   {
    "duration": 12,
    "start_time": "2022-02-18T12:09:08.436Z"
   },
   {
    "duration": 10,
    "start_time": "2022-02-18T12:09:08.451Z"
   },
   {
    "duration": 34,
    "start_time": "2022-02-18T12:09:08.464Z"
   },
   {
    "duration": 870,
    "start_time": "2022-02-18T12:09:08.501Z"
   },
   {
    "duration": 20,
    "start_time": "2022-02-18T12:09:09.374Z"
   },
   {
    "duration": 37,
    "start_time": "2022-02-18T12:09:09.397Z"
   },
   {
    "duration": 9,
    "start_time": "2022-02-18T12:09:09.437Z"
   },
   {
    "duration": 44,
    "start_time": "2022-02-18T12:09:09.449Z"
   },
   {
    "duration": 439,
    "start_time": "2022-02-18T12:09:09.496Z"
   },
   {
    "duration": 9,
    "start_time": "2022-02-18T12:09:09.946Z"
   },
   {
    "duration": 6,
    "start_time": "2022-02-18T12:09:13.908Z"
   },
   {
    "duration": 40,
    "start_time": "2022-02-18T12:09:37.899Z"
   },
   {
    "duration": 13,
    "start_time": "2022-02-18T12:11:56.796Z"
   },
   {
    "duration": 7,
    "start_time": "2022-02-18T12:18:06.738Z"
   },
   {
    "duration": 11,
    "start_time": "2022-02-18T12:18:14.758Z"
   },
   {
    "duration": 451,
    "start_time": "2022-02-18T12:19:55.873Z"
   },
   {
    "duration": 222,
    "start_time": "2022-02-18T12:20:54.750Z"
   },
   {
    "duration": 239,
    "start_time": "2022-02-18T12:29:22.272Z"
   },
   {
    "duration": 6,
    "start_time": "2022-02-18T12:31:17.488Z"
   },
   {
    "duration": 8,
    "start_time": "2022-02-18T12:33:47.063Z"
   },
   {
    "duration": 240,
    "start_time": "2022-02-18T12:34:51.422Z"
   },
   {
    "duration": 277,
    "start_time": "2022-02-18T12:36:29.888Z"
   },
   {
    "duration": 74,
    "start_time": "2022-02-18T12:36:51.917Z"
   },
   {
    "duration": 244,
    "start_time": "2022-02-18T12:36:55.833Z"
   },
   {
    "duration": 10,
    "start_time": "2022-02-18T12:40:11.878Z"
   },
   {
    "duration": 248,
    "start_time": "2022-02-18T12:40:30.241Z"
   },
   {
    "duration": 10,
    "start_time": "2022-02-18T12:41:27.866Z"
   },
   {
    "duration": 9,
    "start_time": "2022-02-18T12:41:44.789Z"
   },
   {
    "duration": 9,
    "start_time": "2022-02-18T12:42:00.816Z"
   },
   {
    "duration": 9,
    "start_time": "2022-02-18T12:42:14.554Z"
   },
   {
    "duration": 244,
    "start_time": "2022-02-18T12:42:28.552Z"
   },
   {
    "duration": 235,
    "start_time": "2022-02-18T12:42:59.793Z"
   },
   {
    "duration": 263,
    "start_time": "2022-02-18T12:45:09.802Z"
   },
   {
    "duration": 240,
    "start_time": "2022-02-18T12:45:35.632Z"
   },
   {
    "duration": 267835,
    "start_time": "2022-02-18T12:45:54.585Z"
   },
   {
    "duration": 10,
    "start_time": "2022-02-18T12:52:47.709Z"
   },
   {
    "duration": 23699,
    "start_time": "2022-02-18T12:53:12.985Z"
   },
   {
    "duration": 88,
    "start_time": "2022-02-18T12:55:45.135Z"
   },
   {
    "duration": 307,
    "start_time": "2022-02-18T12:55:50.937Z"
   },
   {
    "duration": 1356,
    "start_time": "2022-02-18T12:56:59.573Z"
   },
   {
    "duration": 268108,
    "start_time": "2022-02-18T12:58:59.102Z"
   },
   {
    "duration": 44,
    "start_time": "2022-02-18T13:31:10.872Z"
   },
   {
    "duration": 293,
    "start_time": "2022-02-18T13:37:39.019Z"
   },
   {
    "duration": 256,
    "start_time": "2022-02-18T13:39:21.216Z"
   },
   {
    "duration": 12,
    "start_time": "2022-02-18T13:39:34.006Z"
   },
   {
    "duration": 422,
    "start_time": "2022-02-18T13:39:56.742Z"
   },
   {
    "duration": 11,
    "start_time": "2022-02-18T13:40:06.095Z"
   },
   {
    "duration": 466,
    "start_time": "2022-02-18T13:45:13.744Z"
   },
   {
    "duration": 9,
    "start_time": "2022-02-18T13:45:37.419Z"
   },
   {
    "duration": 493,
    "start_time": "2022-02-18T13:45:52.427Z"
   },
   {
    "duration": 14,
    "start_time": "2022-02-18T13:46:04.974Z"
   },
   {
    "duration": 13,
    "start_time": "2022-02-18T13:47:18.900Z"
   },
   {
    "duration": 13,
    "start_time": "2022-02-18T13:48:54.839Z"
   },
   {
    "duration": 249,
    "start_time": "2022-02-18T13:51:40.653Z"
   },
   {
    "duration": 10,
    "start_time": "2022-02-18T13:53:39.207Z"
   },
   {
    "duration": 10,
    "start_time": "2022-02-18T13:54:03.882Z"
   },
   {
    "duration": 12,
    "start_time": "2022-02-18T13:54:43.446Z"
   },
   {
    "duration": 13,
    "start_time": "2022-02-18T13:54:54.069Z"
   },
   {
    "duration": 17,
    "start_time": "2022-02-18T14:32:49.606Z"
   },
   {
    "duration": 258,
    "start_time": "2022-02-18T14:36:14.330Z"
   },
   {
    "duration": 271,
    "start_time": "2022-02-18T14:36:30.371Z"
   },
   {
    "duration": 17,
    "start_time": "2022-02-18T14:37:03.305Z"
   },
   {
    "duration": 268,
    "start_time": "2022-02-18T14:37:14.294Z"
   },
   {
    "duration": 250,
    "start_time": "2022-02-18T14:37:36.824Z"
   },
   {
    "duration": 5,
    "start_time": "2022-02-18T14:37:58.945Z"
   },
   {
    "duration": 7,
    "start_time": "2022-02-18T14:38:09.295Z"
   },
   {
    "duration": 7,
    "start_time": "2022-02-18T14:38:28.767Z"
   },
   {
    "duration": 198,
    "start_time": "2022-02-18T14:38:33.977Z"
   },
   {
    "duration": 18,
    "start_time": "2022-02-18T14:38:51.891Z"
   },
   {
    "duration": 12,
    "start_time": "2022-02-18T14:39:11.112Z"
   },
   {
    "duration": 7,
    "start_time": "2022-02-18T14:40:56.039Z"
   },
   {
    "duration": 6,
    "start_time": "2022-02-18T14:41:10.562Z"
   },
   {
    "duration": 4,
    "start_time": "2022-02-18T14:41:25.104Z"
   },
   {
    "duration": 250,
    "start_time": "2022-02-18T14:44:10.838Z"
   },
   {
    "duration": 17,
    "start_time": "2022-02-18T14:44:19.721Z"
   },
   {
    "duration": 12,
    "start_time": "2022-02-18T14:44:47.029Z"
   },
   {
    "duration": 240,
    "start_time": "2022-02-18T14:51:13.753Z"
   },
   {
    "duration": 10,
    "start_time": "2022-02-18T14:51:19.185Z"
   },
   {
    "duration": 11,
    "start_time": "2022-02-18T14:52:03.327Z"
   },
   {
    "duration": 904,
    "start_time": "2022-02-18T14:52:53.815Z"
   },
   {
    "duration": 16,
    "start_time": "2022-02-18T14:52:54.722Z"
   },
   {
    "duration": 12,
    "start_time": "2022-02-18T14:52:54.741Z"
   },
   {
    "duration": 40,
    "start_time": "2022-02-18T14:52:54.755Z"
   },
   {
    "duration": 40,
    "start_time": "2022-02-18T14:52:54.798Z"
   },
   {
    "duration": 62,
    "start_time": "2022-02-18T14:52:54.840Z"
   },
   {
    "duration": 5,
    "start_time": "2022-02-18T14:52:54.904Z"
   },
   {
    "duration": 15,
    "start_time": "2022-02-18T14:52:54.912Z"
   },
   {
    "duration": 37,
    "start_time": "2022-02-18T14:52:54.930Z"
   },
   {
    "duration": 12,
    "start_time": "2022-02-18T14:52:54.993Z"
   },
   {
    "duration": 7,
    "start_time": "2022-02-18T14:52:55.007Z"
   },
   {
    "duration": 40,
    "start_time": "2022-02-18T14:52:55.016Z"
   },
   {
    "duration": 40,
    "start_time": "2022-02-18T14:52:55.059Z"
   },
   {
    "duration": 6,
    "start_time": "2022-02-18T14:52:55.101Z"
   },
   {
    "duration": 13,
    "start_time": "2022-02-18T14:52:55.110Z"
   },
   {
    "duration": 11,
    "start_time": "2022-02-18T14:52:55.125Z"
   },
   {
    "duration": 83,
    "start_time": "2022-02-18T14:52:55.138Z"
   },
   {
    "duration": 12,
    "start_time": "2022-02-18T14:52:55.224Z"
   },
   {
    "duration": 10,
    "start_time": "2022-02-18T14:52:55.239Z"
   },
   {
    "duration": 44,
    "start_time": "2022-02-18T14:52:55.252Z"
   },
   {
    "duration": 7,
    "start_time": "2022-02-18T14:52:55.299Z"
   },
   {
    "duration": 8,
    "start_time": "2022-02-18T14:52:55.308Z"
   },
   {
    "duration": 13,
    "start_time": "2022-02-18T14:52:55.322Z"
   },
   {
    "duration": 8,
    "start_time": "2022-02-18T14:52:55.339Z"
   },
   {
    "duration": 51,
    "start_time": "2022-02-18T14:52:55.349Z"
   },
   {
    "duration": 7,
    "start_time": "2022-02-18T14:52:55.403Z"
   },
   {
    "duration": 9,
    "start_time": "2022-02-18T14:52:55.412Z"
   },
   {
    "duration": 70,
    "start_time": "2022-02-18T14:52:55.424Z"
   },
   {
    "duration": 16,
    "start_time": "2022-02-18T14:52:55.496Z"
   },
   {
    "duration": 8,
    "start_time": "2022-02-18T14:52:55.515Z"
   },
   {
    "duration": 15,
    "start_time": "2022-02-18T14:52:55.526Z"
   },
   {
    "duration": 8,
    "start_time": "2022-02-18T14:52:55.543Z"
   },
   {
    "duration": 46,
    "start_time": "2022-02-18T14:52:55.554Z"
   },
   {
    "duration": 9,
    "start_time": "2022-02-18T14:52:55.603Z"
   },
   {
    "duration": 19,
    "start_time": "2022-02-18T14:52:55.615Z"
   },
   {
    "duration": 4,
    "start_time": "2022-02-18T14:52:55.637Z"
   },
   {
    "duration": 861,
    "start_time": "2022-02-18T14:52:55.643Z"
   },
   {
    "duration": 15,
    "start_time": "2022-02-18T14:52:56.506Z"
   },
   {
    "duration": 13,
    "start_time": "2022-02-18T14:52:56.523Z"
   },
   {
    "duration": 6,
    "start_time": "2022-02-18T14:52:56.538Z"
   },
   {
    "duration": 46,
    "start_time": "2022-02-18T14:52:56.546Z"
   },
   {
    "duration": 14,
    "start_time": "2022-02-18T14:52:56.595Z"
   },
   {
    "duration": 2072,
    "start_time": "2022-02-18T14:52:56.612Z"
   },
   {
    "duration": 608,
    "start_time": "2022-02-18T14:52:58.694Z"
   },
   {
    "duration": 13,
    "start_time": "2022-02-18T14:52:59.304Z"
   },
   {
    "duration": 9726,
    "start_time": "2022-02-18T14:52:59.319Z"
   },
   {
    "duration": 566,
    "start_time": "2022-02-18T14:53:09.047Z"
   },
   {
    "duration": 12,
    "start_time": "2022-02-18T14:53:09.615Z"
   },
   {
    "duration": 694,
    "start_time": "2022-02-18T14:53:09.629Z"
   },
   {
    "duration": 429,
    "start_time": "2022-02-18T14:53:10.325Z"
   },
   {
    "duration": 14,
    "start_time": "2022-02-18T14:53:10.757Z"
   },
   {
    "duration": 45061,
    "start_time": "2022-02-18T14:53:10.774Z"
   },
   {
    "duration": 361,
    "start_time": "2022-02-18T14:53:55.837Z"
   },
   {
    "duration": 12,
    "start_time": "2022-02-18T14:53:56.201Z"
   },
   {
    "duration": 686,
    "start_time": "2022-02-18T14:53:56.216Z"
   },
   {
    "duration": 436,
    "start_time": "2022-02-18T14:53:56.905Z"
   },
   {
    "duration": 8,
    "start_time": "2022-02-18T14:53:57.343Z"
   },
   {
    "duration": 312,
    "start_time": "2022-02-18T14:53:57.353Z"
   },
   {
    "duration": 8,
    "start_time": "2022-02-18T14:53:57.669Z"
   },
   {
    "duration": 504,
    "start_time": "2022-02-18T14:53:57.694Z"
   },
   {
    "duration": 18,
    "start_time": "2022-02-18T14:53:58.201Z"
   },
   {
    "duration": 8,
    "start_time": "2022-02-18T14:53:58.221Z"
   },
   {
    "duration": 1307,
    "start_time": "2022-02-18T14:53:58.232Z"
   },
   {
    "duration": 9,
    "start_time": "2022-02-18T14:53:59.542Z"
   },
   {
    "duration": 456,
    "start_time": "2022-02-18T14:53:59.554Z"
   },
   {
    "duration": 15,
    "start_time": "2022-02-18T14:54:00.013Z"
   },
   {
    "duration": 15,
    "start_time": "2022-02-18T14:54:00.031Z"
   },
   {
    "duration": 38,
    "start_time": "2022-02-18T14:54:00.057Z"
   },
   {
    "duration": 461,
    "start_time": "2022-02-18T14:54:00.099Z"
   },
   {
    "duration": 481,
    "start_time": "2022-02-18T14:54:00.563Z"
   },
   {
    "duration": 13,
    "start_time": "2022-02-18T14:54:01.047Z"
   },
   {
    "duration": 8,
    "start_time": "2022-02-18T14:54:01.063Z"
   },
   {
    "duration": 27,
    "start_time": "2022-02-18T14:54:01.073Z"
   },
   {
    "duration": 397,
    "start_time": "2022-02-18T14:54:01.102Z"
   },
   {
    "duration": 12,
    "start_time": "2022-02-18T14:54:01.502Z"
   },
   {
    "duration": 32,
    "start_time": "2022-02-18T14:54:01.517Z"
   },
   {
    "duration": 34,
    "start_time": "2022-02-18T14:54:01.551Z"
   },
   {
    "duration": 883,
    "start_time": "2022-02-18T14:54:01.588Z"
   },
   {
    "duration": 20,
    "start_time": "2022-02-18T14:54:02.473Z"
   },
   {
    "duration": 54,
    "start_time": "2022-02-18T14:54:02.496Z"
   },
   {
    "duration": 9,
    "start_time": "2022-02-18T14:54:02.553Z"
   },
   {
    "duration": 11,
    "start_time": "2022-02-18T14:54:02.564Z"
   },
   {
    "duration": 428,
    "start_time": "2022-02-18T14:54:02.578Z"
   },
   {
    "duration": 9,
    "start_time": "2022-02-18T14:54:03.009Z"
   },
   {
    "duration": 244,
    "start_time": "2022-02-18T14:54:03.020Z"
   },
   {
    "duration": 8,
    "start_time": "2022-02-18T14:54:03.267Z"
   },
   {
    "duration": 265,
    "start_time": "2022-02-18T14:54:03.278Z"
   },
   {
    "duration": 8,
    "start_time": "2022-02-18T14:54:03.545Z"
   },
   {
    "duration": 265,
    "start_time": "2022-02-18T14:54:03.555Z"
   },
   {
    "duration": 9,
    "start_time": "2022-02-18T14:54:03.823Z"
   },
   {
    "duration": 261,
    "start_time": "2022-02-18T14:54:03.835Z"
   },
   {
    "duration": 10,
    "start_time": "2022-02-18T14:54:04.099Z"
   },
   {
    "duration": 11,
    "start_time": "2022-02-18T14:57:59.318Z"
   },
   {
    "duration": 4,
    "start_time": "2022-02-18T15:01:57.214Z"
   },
   {
    "duration": 6,
    "start_time": "2022-02-18T15:02:03.148Z"
   },
   {
    "duration": 14,
    "start_time": "2022-02-18T15:02:11.799Z"
   },
   {
    "duration": 13,
    "start_time": "2022-02-18T15:02:21.786Z"
   },
   {
    "duration": 10,
    "start_time": "2022-02-18T15:08:09.871Z"
   },
   {
    "duration": 364,
    "start_time": "2022-02-18T15:15:17.364Z"
   },
   {
    "duration": 244,
    "start_time": "2022-02-18T15:19:19.298Z"
   },
   {
    "duration": 16,
    "start_time": "2022-02-18T15:19:44.949Z"
   },
   {
    "duration": 24,
    "start_time": "2022-02-18T15:20:06.440Z"
   },
   {
    "duration": 610,
    "start_time": "2022-02-18T15:20:32.386Z"
   },
   {
    "duration": 39,
    "start_time": "2022-02-18T15:20:48.013Z"
   },
   {
    "duration": 301,
    "start_time": "2022-02-18T15:28:06.684Z"
   },
   {
    "duration": 36,
    "start_time": "2022-02-18T15:28:20.748Z"
   },
   {
    "duration": 93,
    "start_time": "2022-02-18T15:38:25.738Z"
   },
   {
    "duration": 319,
    "start_time": "2022-02-18T15:38:30.275Z"
   },
   {
    "duration": 314,
    "start_time": "2022-02-18T15:39:04.790Z"
   },
   {
    "duration": 256,
    "start_time": "2022-02-18T15:40:36.053Z"
   },
   {
    "duration": 25,
    "start_time": "2022-02-18T15:40:53.982Z"
   },
   {
    "duration": 283,
    "start_time": "2022-02-18T15:49:20.304Z"
   },
   {
    "duration": 29,
    "start_time": "2022-02-18T15:49:31.600Z"
   },
   {
    "duration": 30,
    "start_time": "2022-02-18T15:49:35.790Z"
   },
   {
    "duration": 41,
    "start_time": "2022-02-18T15:49:41.189Z"
   },
   {
    "duration": 289,
    "start_time": "2022-02-18T15:50:26.155Z"
   },
   {
    "duration": 37,
    "start_time": "2022-02-18T15:51:07.367Z"
   },
   {
    "duration": 7,
    "start_time": "2022-02-18T15:52:04.121Z"
   },
   {
    "duration": 23,
    "start_time": "2022-02-18T15:52:11.669Z"
   },
   {
    "duration": 484,
    "start_time": "2022-02-18T15:53:00.928Z"
   },
   {
    "duration": 26,
    "start_time": "2022-02-18T15:54:11.728Z"
   },
   {
    "duration": 23,
    "start_time": "2022-02-18T15:54:51.216Z"
   },
   {
    "duration": 24,
    "start_time": "2022-02-18T15:55:07.498Z"
   },
   {
    "duration": 7,
    "start_time": "2022-02-18T15:59:18.430Z"
   },
   {
    "duration": 12,
    "start_time": "2022-02-18T15:59:23.211Z"
   },
   {
    "duration": 270,
    "start_time": "2022-02-18T16:01:27.107Z"
   },
   {
    "duration": 242,
    "start_time": "2022-02-18T16:01:39.923Z"
   },
   {
    "duration": 257,
    "start_time": "2022-02-18T16:01:58.619Z"
   },
   {
    "duration": 257,
    "start_time": "2022-02-18T16:02:32.998Z"
   },
   {
    "duration": 87,
    "start_time": "2022-02-18T16:03:54.042Z"
   },
   {
    "duration": 84,
    "start_time": "2022-02-18T16:03:59.514Z"
   },
   {
    "duration": 112,
    "start_time": "2022-02-18T16:04:13.226Z"
   },
   {
    "duration": 259,
    "start_time": "2022-02-18T16:04:30.929Z"
   },
   {
    "duration": 243,
    "start_time": "2022-02-18T16:07:59.753Z"
   },
   {
    "duration": 11,
    "start_time": "2022-02-18T16:08:20.256Z"
   },
   {
    "duration": 82,
    "start_time": "2022-02-18T16:19:11.409Z"
   },
   {
    "duration": 4,
    "start_time": "2022-02-18T16:19:31.955Z"
   },
   {
    "duration": 8,
    "start_time": "2022-02-18T16:19:46.659Z"
   },
   {
    "duration": 266,
    "start_time": "2022-02-18T16:20:32.061Z"
   },
   {
    "duration": 261,
    "start_time": "2022-02-18T16:21:03.575Z"
   },
   {
    "duration": 251,
    "start_time": "2022-02-18T16:21:30.169Z"
   },
   {
    "duration": 319,
    "start_time": "2022-02-18T16:21:37.895Z"
   },
   {
    "duration": 259,
    "start_time": "2022-02-18T16:21:43.927Z"
   },
   {
    "duration": 255,
    "start_time": "2022-02-18T16:21:58.663Z"
   },
   {
    "duration": 8,
    "start_time": "2022-02-18T16:23:33.607Z"
   },
   {
    "duration": 11,
    "start_time": "2022-02-18T16:23:44.685Z"
   },
   {
    "duration": 263,
    "start_time": "2022-02-18T16:25:05.219Z"
   },
   {
    "duration": 288,
    "start_time": "2022-02-18T16:26:47.717Z"
   },
   {
    "duration": 14,
    "start_time": "2022-02-18T16:27:19.395Z"
   },
   {
    "duration": 30,
    "start_time": "2022-02-18T16:27:25.733Z"
   },
   {
    "duration": 31,
    "start_time": "2022-02-18T16:30:16.613Z"
   },
   {
    "duration": 10,
    "start_time": "2022-02-18T16:30:49.941Z"
   },
   {
    "duration": 23,
    "start_time": "2022-02-18T16:31:07.243Z"
   },
   {
    "duration": 268,
    "start_time": "2022-02-18T16:36:06.463Z"
   },
   {
    "duration": 315,
    "start_time": "2022-02-18T16:36:14.985Z"
   },
   {
    "duration": 28,
    "start_time": "2022-02-18T16:36:27.967Z"
   },
   {
    "duration": 279,
    "start_time": "2022-02-18T16:37:19.761Z"
   },
   {
    "duration": 81,
    "start_time": "2022-02-18T16:44:16.327Z"
   },
   {
    "duration": 73,
    "start_time": "2022-02-18T16:45:55.500Z"
   },
   {
    "duration": 11,
    "start_time": "2022-02-18T16:46:52.582Z"
   },
   {
    "duration": 93,
    "start_time": "2022-02-18T16:49:44.272Z"
   },
   {
    "duration": 269,
    "start_time": "2022-02-18T16:49:55.106Z"
   },
   {
    "duration": 27,
    "start_time": "2022-02-18T16:50:20.487Z"
   },
   {
    "duration": 28,
    "start_time": "2022-02-18T16:50:37.201Z"
   },
   {
    "duration": 28,
    "start_time": "2022-02-18T16:51:36.199Z"
   },
   {
    "duration": 7,
    "start_time": "2022-02-18T16:51:47.720Z"
   },
   {
    "duration": 249,
    "start_time": "2022-02-18T16:52:12.324Z"
   },
   {
    "duration": 306,
    "start_time": "2022-02-18T16:52:17.148Z"
   },
   {
    "duration": 252,
    "start_time": "2022-02-18T16:52:33.150Z"
   },
   {
    "duration": 18,
    "start_time": "2022-02-18T16:52:40.197Z"
   },
   {
    "duration": 271,
    "start_time": "2022-02-18T16:53:44.321Z"
   },
   {
    "duration": 26,
    "start_time": "2022-02-18T16:53:55.995Z"
   },
   {
    "duration": 6600,
    "start_time": "2022-02-18T16:54:45.604Z"
   },
   {
    "duration": 25,
    "start_time": "2022-02-18T16:55:08.662Z"
   },
   {
    "duration": 35,
    "start_time": "2022-02-18T16:55:44.025Z"
   },
   {
    "duration": 270,
    "start_time": "2022-02-18T16:55:54.170Z"
   },
   {
    "duration": 28,
    "start_time": "2022-02-18T16:56:00.808Z"
   },
   {
    "duration": 66,
    "start_time": "2022-02-18T17:04:13.116Z"
   },
   {
    "duration": 14,
    "start_time": "2022-02-18T17:05:45.703Z"
   },
   {
    "duration": 13,
    "start_time": "2022-02-18T17:09:39.921Z"
   },
   {
    "duration": 15,
    "start_time": "2022-02-18T17:09:46.180Z"
   },
   {
    "duration": 6079,
    "start_time": "2022-02-18T17:10:32.778Z"
   },
   {
    "duration": 6155,
    "start_time": "2022-02-18T17:11:53.089Z"
   },
   {
    "duration": 11,
    "start_time": "2022-02-18T17:12:56.247Z"
   },
   {
    "duration": 254,
    "start_time": "2022-02-18T17:13:02.580Z"
   },
   {
    "duration": 62,
    "start_time": "2022-02-18T17:13:07.260Z"
   },
   {
    "duration": 64,
    "start_time": "2022-02-18T17:14:08.436Z"
   },
   {
    "duration": 89,
    "start_time": "2022-02-18T17:14:20.545Z"
   },
   {
    "duration": 11,
    "start_time": "2022-02-18T17:15:18.346Z"
   },
   {
    "duration": 15,
    "start_time": "2022-02-18T17:15:30.525Z"
   },
   {
    "duration": 6,
    "start_time": "2022-02-18T17:16:22.122Z"
   },
   {
    "duration": 17,
    "start_time": "2022-02-18T17:27:07.636Z"
   },
   {
    "duration": 16,
    "start_time": "2022-02-18T17:28:44.708Z"
   },
   {
    "duration": 16,
    "start_time": "2022-02-18T17:29:42.590Z"
   },
   {
    "duration": 20,
    "start_time": "2022-02-18T17:32:54.620Z"
   },
   {
    "duration": 21,
    "start_time": "2022-02-18T17:34:52.039Z"
   },
   {
    "duration": 19,
    "start_time": "2022-02-18T17:35:19.860Z"
   },
   {
    "duration": 19,
    "start_time": "2022-02-18T17:35:34.282Z"
   },
   {
    "duration": 20,
    "start_time": "2022-02-18T17:36:45.447Z"
   },
   {
    "duration": 76,
    "start_time": "2022-02-18T17:38:50.485Z"
   },
   {
    "duration": 85,
    "start_time": "2022-02-18T17:38:58.247Z"
   },
   {
    "duration": 89,
    "start_time": "2022-02-18T17:39:20.055Z"
   },
   {
    "duration": 531,
    "start_time": "2022-02-18T17:39:29.770Z"
   },
   {
    "duration": 333,
    "start_time": "2022-02-18T17:39:43.879Z"
   },
   {
    "duration": 285,
    "start_time": "2022-02-18T17:40:17.758Z"
   },
   {
    "duration": 157,
    "start_time": "2022-02-18T17:40:41.354Z"
   },
   {
    "duration": 298,
    "start_time": "2022-02-18T17:40:45.448Z"
   },
   {
    "duration": 456,
    "start_time": "2022-02-18T17:42:45.908Z"
   },
   {
    "duration": 367,
    "start_time": "2022-02-19T11:49:58.013Z"
   },
   {
    "duration": 654,
    "start_time": "2022-02-19T11:50:11.201Z"
   },
   {
    "duration": 10,
    "start_time": "2022-02-19T11:50:11.857Z"
   },
   {
    "duration": 6,
    "start_time": "2022-02-19T11:50:11.869Z"
   },
   {
    "duration": 7,
    "start_time": "2022-02-19T11:50:11.877Z"
   },
   {
    "duration": 23,
    "start_time": "2022-02-19T11:50:11.886Z"
   },
   {
    "duration": 48,
    "start_time": "2022-02-19T11:50:11.910Z"
   },
   {
    "duration": 4,
    "start_time": "2022-02-19T11:50:11.960Z"
   },
   {
    "duration": 8,
    "start_time": "2022-02-19T11:50:11.965Z"
   },
   {
    "duration": 20,
    "start_time": "2022-02-19T11:50:11.975Z"
   },
   {
    "duration": 10,
    "start_time": "2022-02-19T11:50:11.997Z"
   },
   {
    "duration": 3,
    "start_time": "2022-02-19T11:50:12.009Z"
   },
   {
    "duration": 47,
    "start_time": "2022-02-19T11:50:12.014Z"
   },
   {
    "duration": 11,
    "start_time": "2022-02-19T11:50:12.063Z"
   },
   {
    "duration": 4,
    "start_time": "2022-02-19T11:50:12.075Z"
   },
   {
    "duration": 10,
    "start_time": "2022-02-19T11:50:12.080Z"
   },
   {
    "duration": 8,
    "start_time": "2022-02-19T11:50:12.091Z"
   },
   {
    "duration": 46,
    "start_time": "2022-02-19T11:50:12.101Z"
   },
   {
    "duration": 7,
    "start_time": "2022-02-19T11:50:12.149Z"
   },
   {
    "duration": 5,
    "start_time": "2022-02-19T11:50:12.157Z"
   },
   {
    "duration": 6,
    "start_time": "2022-02-19T11:50:12.164Z"
   },
   {
    "duration": 10,
    "start_time": "2022-02-19T11:50:12.172Z"
   },
   {
    "duration": 5,
    "start_time": "2022-02-19T11:50:12.184Z"
   },
   {
    "duration": 11,
    "start_time": "2022-02-19T11:50:12.192Z"
   },
   {
    "duration": 5,
    "start_time": "2022-02-19T11:50:12.205Z"
   },
   {
    "duration": 37,
    "start_time": "2022-02-19T11:50:12.211Z"
   },
   {
    "duration": 4,
    "start_time": "2022-02-19T11:50:12.249Z"
   },
   {
    "duration": 5,
    "start_time": "2022-02-19T11:50:12.255Z"
   },
   {
    "duration": 22,
    "start_time": "2022-02-19T11:50:12.261Z"
   },
   {
    "duration": 10,
    "start_time": "2022-02-19T11:50:12.284Z"
   },
   {
    "duration": 6,
    "start_time": "2022-02-19T11:50:12.295Z"
   },
   {
    "duration": 11,
    "start_time": "2022-02-19T11:50:12.302Z"
   },
   {
    "duration": 33,
    "start_time": "2022-02-19T11:50:12.315Z"
   },
   {
    "duration": 5,
    "start_time": "2022-02-19T11:50:12.349Z"
   },
   {
    "duration": 6,
    "start_time": "2022-02-19T11:50:12.355Z"
   },
   {
    "duration": 16,
    "start_time": "2022-02-19T11:50:12.362Z"
   },
   {
    "duration": 2,
    "start_time": "2022-02-19T11:50:12.379Z"
   },
   {
    "duration": 453,
    "start_time": "2022-02-19T11:50:12.383Z"
   },
   {
    "duration": 14,
    "start_time": "2022-02-19T11:50:12.838Z"
   },
   {
    "duration": 8,
    "start_time": "2022-02-19T11:50:12.854Z"
   },
   {
    "duration": 6,
    "start_time": "2022-02-19T11:50:12.863Z"
   },
   {
    "duration": 15,
    "start_time": "2022-02-19T11:50:12.870Z"
   },
   {
    "duration": 7,
    "start_time": "2022-02-19T11:50:12.886Z"
   },
   {
    "duration": 1051,
    "start_time": "2022-02-19T11:50:12.895Z"
   },
   {
    "duration": 325,
    "start_time": "2022-02-19T11:50:13.947Z"
   },
   {
    "duration": 11,
    "start_time": "2022-02-19T11:50:14.274Z"
   },
   {
    "duration": 5106,
    "start_time": "2022-02-19T11:50:14.287Z"
   },
   {
    "duration": 330,
    "start_time": "2022-02-19T11:50:19.395Z"
   },
   {
    "duration": 20,
    "start_time": "2022-02-19T11:50:19.727Z"
   },
   {
    "duration": 620,
    "start_time": "2022-02-19T11:50:19.749Z"
   },
   {
    "duration": 245,
    "start_time": "2022-02-19T11:50:20.371Z"
   },
   {
    "duration": 8,
    "start_time": "2022-02-19T11:50:20.618Z"
   },
   {
    "duration": 24185,
    "start_time": "2022-02-19T11:50:20.628Z"
   },
   {
    "duration": 185,
    "start_time": "2022-02-19T11:50:44.814Z"
   },
   {
    "duration": 11,
    "start_time": "2022-02-19T11:50:45.001Z"
   },
   {
    "duration": 342,
    "start_time": "2022-02-19T11:50:45.013Z"
   },
   {
    "duration": 241,
    "start_time": "2022-02-19T11:50:45.357Z"
   },
   {
    "duration": 5,
    "start_time": "2022-02-19T11:50:45.599Z"
   },
   {
    "duration": 165,
    "start_time": "2022-02-19T11:50:45.606Z"
   },
   {
    "duration": 7,
    "start_time": "2022-02-19T11:50:45.772Z"
   },
   {
    "duration": 214,
    "start_time": "2022-02-19T11:50:45.780Z"
   },
   {
    "duration": 11,
    "start_time": "2022-02-19T11:50:45.995Z"
   },
   {
    "duration": 5,
    "start_time": "2022-02-19T11:50:46.007Z"
   },
   {
    "duration": 887,
    "start_time": "2022-02-19T11:50:46.014Z"
   },
   {
    "duration": 5,
    "start_time": "2022-02-19T11:50:46.902Z"
   },
   {
    "duration": 237,
    "start_time": "2022-02-19T11:50:46.909Z"
   },
   {
    "duration": 10,
    "start_time": "2022-02-19T11:50:47.147Z"
   },
   {
    "duration": 5,
    "start_time": "2022-02-19T11:50:47.158Z"
   },
   {
    "duration": 5,
    "start_time": "2022-02-19T11:50:47.168Z"
   },
   {
    "duration": 251,
    "start_time": "2022-02-19T11:50:47.175Z"
   },
   {
    "duration": 246,
    "start_time": "2022-02-19T11:50:47.428Z"
   },
   {
    "duration": 10,
    "start_time": "2022-02-19T11:50:47.676Z"
   },
   {
    "duration": 6,
    "start_time": "2022-02-19T11:50:47.687Z"
   },
   {
    "duration": 5,
    "start_time": "2022-02-19T11:50:47.694Z"
   },
   {
    "duration": 226,
    "start_time": "2022-02-19T11:50:47.700Z"
   },
   {
    "duration": 9,
    "start_time": "2022-02-19T11:50:47.927Z"
   },
   {
    "duration": 11,
    "start_time": "2022-02-19T11:50:47.938Z"
   },
   {
    "duration": 5,
    "start_time": "2022-02-19T11:50:47.950Z"
   },
   {
    "duration": 456,
    "start_time": "2022-02-19T11:50:47.957Z"
   },
   {
    "duration": 9,
    "start_time": "2022-02-19T11:50:48.414Z"
   },
   {
    "duration": 39,
    "start_time": "2022-02-19T11:50:48.425Z"
   },
   {
    "duration": 7,
    "start_time": "2022-02-19T11:50:48.466Z"
   },
   {
    "duration": 5,
    "start_time": "2022-02-19T11:50:48.475Z"
   },
   {
    "duration": 380,
    "start_time": "2022-02-19T11:50:48.482Z"
   },
   {
    "duration": 7,
    "start_time": "2022-02-19T11:50:48.864Z"
   },
   {
    "duration": 134,
    "start_time": "2022-02-19T11:50:48.873Z"
   },
   {
    "duration": 5,
    "start_time": "2022-02-19T11:50:49.009Z"
   },
   {
    "duration": 141,
    "start_time": "2022-02-19T11:50:49.016Z"
   },
   {
    "duration": 6,
    "start_time": "2022-02-19T11:50:49.159Z"
   },
   {
    "duration": 149,
    "start_time": "2022-02-19T11:50:49.167Z"
   },
   {
    "duration": 6,
    "start_time": "2022-02-19T11:50:49.317Z"
   },
   {
    "duration": 141,
    "start_time": "2022-02-19T11:50:49.324Z"
   },
   {
    "duration": 7,
    "start_time": "2022-02-19T11:50:49.467Z"
   },
   {
    "duration": 20,
    "start_time": "2022-02-19T11:50:49.475Z"
   },
   {
    "duration": 9,
    "start_time": "2022-02-19T11:50:49.496Z"
   },
   {
    "duration": 16,
    "start_time": "2022-02-19T11:50:49.507Z"
   },
   {
    "duration": 32,
    "start_time": "2022-02-19T11:50:49.524Z"
   },
   {
    "duration": 271,
    "start_time": "2022-02-19T11:50:49.557Z"
   },
   {
    "duration": 2,
    "start_time": "2022-02-19T11:50:49.830Z"
   },
   {
    "duration": 260,
    "start_time": "2022-02-19T11:57:02.064Z"
   },
   {
    "duration": 31,
    "start_time": "2022-02-19T12:01:49.474Z"
   },
   {
    "duration": 33,
    "start_time": "2022-02-19T12:02:24.414Z"
   },
   {
    "duration": 20,
    "start_time": "2022-02-19T12:15:10.093Z"
   },
   {
    "duration": 10,
    "start_time": "2022-02-19T12:26:31.814Z"
   },
   {
    "duration": 10,
    "start_time": "2022-02-19T12:31:04.595Z"
   },
   {
    "duration": 119,
    "start_time": "2022-02-19T12:32:44.851Z"
   },
   {
    "duration": 10,
    "start_time": "2022-02-19T12:33:36.721Z"
   },
   {
    "duration": 6,
    "start_time": "2022-02-19T12:42:04.758Z"
   },
   {
    "duration": 128,
    "start_time": "2022-02-19T12:42:37.683Z"
   },
   {
    "duration": 408,
    "start_time": "2022-02-19T12:47:35.268Z"
   },
   {
    "duration": 6,
    "start_time": "2022-02-19T12:47:37.770Z"
   },
   {
    "duration": 136,
    "start_time": "2022-02-19T12:47:40.225Z"
   },
   {
    "duration": 255,
    "start_time": "2022-02-19T13:27:06.014Z"
   },
   {
    "duration": 254,
    "start_time": "2022-02-19T13:27:37.881Z"
   },
   {
    "duration": 19,
    "start_time": "2022-02-19T13:28:02.625Z"
   },
   {
    "duration": 19,
    "start_time": "2022-02-19T13:28:53.069Z"
   },
   {
    "duration": 5,
    "start_time": "2022-02-19T13:32:21.351Z"
   },
   {
    "duration": 719,
    "start_time": "2022-02-19T13:36:52.210Z"
   },
   {
    "duration": 9,
    "start_time": "2022-02-19T13:36:52.931Z"
   },
   {
    "duration": 6,
    "start_time": "2022-02-19T13:36:52.942Z"
   },
   {
    "duration": 8,
    "start_time": "2022-02-19T13:36:52.949Z"
   },
   {
    "duration": 24,
    "start_time": "2022-02-19T13:36:52.958Z"
   },
   {
    "duration": 23,
    "start_time": "2022-02-19T13:36:52.983Z"
   },
   {
    "duration": 3,
    "start_time": "2022-02-19T13:36:53.007Z"
   },
   {
    "duration": 6,
    "start_time": "2022-02-19T13:36:53.012Z"
   },
   {
    "duration": 42,
    "start_time": "2022-02-19T13:36:53.020Z"
   },
   {
    "duration": 9,
    "start_time": "2022-02-19T13:36:53.064Z"
   },
   {
    "duration": 4,
    "start_time": "2022-02-19T13:36:53.074Z"
   },
   {
    "duration": 21,
    "start_time": "2022-02-19T13:36:53.080Z"
   },
   {
    "duration": 7,
    "start_time": "2022-02-19T13:36:53.102Z"
   },
   {
    "duration": 4,
    "start_time": "2022-02-19T13:36:53.110Z"
   },
   {
    "duration": 34,
    "start_time": "2022-02-19T13:36:53.115Z"
   },
   {
    "duration": 7,
    "start_time": "2022-02-19T13:36:53.151Z"
   },
   {
    "duration": 22,
    "start_time": "2022-02-19T13:36:53.159Z"
   },
   {
    "duration": 8,
    "start_time": "2022-02-19T13:36:53.182Z"
   },
   {
    "duration": 6,
    "start_time": "2022-02-19T13:36:53.191Z"
   },
   {
    "duration": 7,
    "start_time": "2022-02-19T13:36:53.198Z"
   },
   {
    "duration": 40,
    "start_time": "2022-02-19T13:36:53.206Z"
   },
   {
    "duration": 5,
    "start_time": "2022-02-19T13:36:53.247Z"
   },
   {
    "duration": 8,
    "start_time": "2022-02-19T13:36:53.253Z"
   },
   {
    "duration": 5,
    "start_time": "2022-02-19T13:36:53.262Z"
   },
   {
    "duration": 10,
    "start_time": "2022-02-19T13:36:53.268Z"
   },
   {
    "duration": 6,
    "start_time": "2022-02-19T13:36:53.279Z"
   },
   {
    "duration": 3,
    "start_time": "2022-02-19T13:36:53.289Z"
   },
   {
    "duration": 57,
    "start_time": "2022-02-19T13:36:53.295Z"
   },
   {
    "duration": 10,
    "start_time": "2022-02-19T13:36:53.353Z"
   },
   {
    "duration": 5,
    "start_time": "2022-02-19T13:36:53.364Z"
   },
   {
    "duration": 9,
    "start_time": "2022-02-19T13:36:53.371Z"
   },
   {
    "duration": 6,
    "start_time": "2022-02-19T13:36:53.381Z"
   },
   {
    "duration": 5,
    "start_time": "2022-02-19T13:36:53.388Z"
   },
   {
    "duration": 5,
    "start_time": "2022-02-19T13:36:53.394Z"
   },
   {
    "duration": 14,
    "start_time": "2022-02-19T13:36:53.401Z"
   },
   {
    "duration": 4,
    "start_time": "2022-02-19T13:36:53.446Z"
   },
   {
    "duration": 437,
    "start_time": "2022-02-19T13:36:53.452Z"
   },
   {
    "duration": 9,
    "start_time": "2022-02-19T13:36:53.891Z"
   },
   {
    "duration": 4,
    "start_time": "2022-02-19T13:36:53.902Z"
   },
   {
    "duration": 7,
    "start_time": "2022-02-19T13:36:53.908Z"
   },
   {
    "duration": 31,
    "start_time": "2022-02-19T13:36:53.916Z"
   },
   {
    "duration": 7,
    "start_time": "2022-02-19T13:36:53.949Z"
   },
   {
    "duration": 947,
    "start_time": "2022-02-19T13:36:53.957Z"
   },
   {
    "duration": 301,
    "start_time": "2022-02-19T13:36:54.906Z"
   },
   {
    "duration": 7,
    "start_time": "2022-02-19T13:36:55.209Z"
   },
   {
    "duration": 5071,
    "start_time": "2022-02-19T13:36:55.217Z"
   },
   {
    "duration": 341,
    "start_time": "2022-02-19T13:37:00.290Z"
   },
   {
    "duration": 14,
    "start_time": "2022-02-19T13:37:00.633Z"
   },
   {
    "duration": 400,
    "start_time": "2022-02-19T13:37:00.649Z"
   },
   {
    "duration": 221,
    "start_time": "2022-02-19T13:37:01.051Z"
   },
   {
    "duration": 8,
    "start_time": "2022-02-19T13:37:01.274Z"
   },
   {
    "duration": 22630,
    "start_time": "2022-02-19T13:37:01.284Z"
   },
   {
    "duration": 198,
    "start_time": "2022-02-19T13:37:23.915Z"
   },
   {
    "duration": 8,
    "start_time": "2022-02-19T13:37:24.115Z"
   },
   {
    "duration": 351,
    "start_time": "2022-02-19T13:37:24.125Z"
   },
   {
    "duration": 232,
    "start_time": "2022-02-19T13:37:24.478Z"
   },
   {
    "duration": 6,
    "start_time": "2022-02-19T13:37:24.711Z"
   },
   {
    "duration": 164,
    "start_time": "2022-02-19T13:37:24.719Z"
   },
   {
    "duration": 6,
    "start_time": "2022-02-19T13:37:24.885Z"
   },
   {
    "duration": 210,
    "start_time": "2022-02-19T13:37:24.892Z"
   },
   {
    "duration": 10,
    "start_time": "2022-02-19T13:37:25.104Z"
   },
   {
    "duration": 5,
    "start_time": "2022-02-19T13:37:25.115Z"
   },
   {
    "duration": 872,
    "start_time": "2022-02-19T13:37:25.122Z"
   },
   {
    "duration": 5,
    "start_time": "2022-02-19T13:37:25.996Z"
   },
   {
    "duration": 228,
    "start_time": "2022-02-19T13:37:26.002Z"
   },
   {
    "duration": 15,
    "start_time": "2022-02-19T13:37:26.231Z"
   },
   {
    "duration": 6,
    "start_time": "2022-02-19T13:37:26.247Z"
   },
   {
    "duration": 6,
    "start_time": "2022-02-19T13:37:26.254Z"
   },
   {
    "duration": 235,
    "start_time": "2022-02-19T13:37:26.262Z"
   },
   {
    "duration": 242,
    "start_time": "2022-02-19T13:37:26.499Z"
   },
   {
    "duration": 9,
    "start_time": "2022-02-19T13:37:26.743Z"
   },
   {
    "duration": 5,
    "start_time": "2022-02-19T13:37:26.754Z"
   },
   {
    "duration": 8,
    "start_time": "2022-02-19T13:37:26.760Z"
   },
   {
    "duration": 218,
    "start_time": "2022-02-19T13:37:26.769Z"
   },
   {
    "duration": 8,
    "start_time": "2022-02-19T13:37:26.989Z"
   },
   {
    "duration": 7,
    "start_time": "2022-02-19T13:37:26.998Z"
   },
   {
    "duration": 6,
    "start_time": "2022-02-19T13:37:27.006Z"
   },
   {
    "duration": 557,
    "start_time": "2022-02-19T13:37:27.013Z"
   },
   {
    "duration": 7,
    "start_time": "2022-02-19T13:37:27.572Z"
   },
   {
    "duration": 18,
    "start_time": "2022-02-19T13:37:27.581Z"
   },
   {
    "duration": 6,
    "start_time": "2022-02-19T13:37:27.604Z"
   },
   {
    "duration": 6,
    "start_time": "2022-02-19T13:37:27.611Z"
   },
   {
    "duration": 360,
    "start_time": "2022-02-19T13:37:27.618Z"
   },
   {
    "duration": 6,
    "start_time": "2022-02-19T13:37:27.980Z"
   },
   {
    "duration": 135,
    "start_time": "2022-02-19T13:37:27.987Z"
   },
   {
    "duration": 6,
    "start_time": "2022-02-19T13:37:28.124Z"
   },
   {
    "duration": 144,
    "start_time": "2022-02-19T13:37:28.132Z"
   },
   {
    "duration": 6,
    "start_time": "2022-02-19T13:37:28.277Z"
   },
   {
    "duration": 142,
    "start_time": "2022-02-19T13:37:28.284Z"
   },
   {
    "duration": 6,
    "start_time": "2022-02-19T13:37:28.427Z"
   },
   {
    "duration": 141,
    "start_time": "2022-02-19T13:37:28.435Z"
   },
   {
    "duration": 7,
    "start_time": "2022-02-19T13:37:28.577Z"
   },
   {
    "duration": 18,
    "start_time": "2022-02-19T13:37:28.587Z"
   },
   {
    "duration": 10,
    "start_time": "2022-02-19T13:37:28.607Z"
   },
   {
    "duration": 40,
    "start_time": "2022-02-19T13:37:28.618Z"
   },
   {
    "duration": 11,
    "start_time": "2022-02-19T13:37:28.659Z"
   },
   {
    "duration": 274,
    "start_time": "2022-02-19T13:37:28.672Z"
   },
   {
    "duration": 32,
    "start_time": "2022-02-19T13:37:28.947Z"
   },
   {
    "duration": 17,
    "start_time": "2022-02-19T13:37:28.981Z"
   },
   {
    "duration": 8,
    "start_time": "2022-02-19T13:37:28.999Z"
   },
   {
    "duration": 10,
    "start_time": "2022-02-19T13:37:29.008Z"
   },
   {
    "duration": 5,
    "start_time": "2022-02-19T13:37:29.046Z"
   },
   {
    "duration": 135,
    "start_time": "2022-02-19T13:37:29.052Z"
   },
   {
    "duration": 6,
    "start_time": "2022-02-19T13:37:29.188Z"
   },
   {
    "duration": 149,
    "start_time": "2022-02-19T13:37:29.195Z"
   },
   {
    "duration": 683,
    "start_time": "2022-02-19T14:19:20.594Z"
   },
   {
    "duration": 10,
    "start_time": "2022-02-19T14:19:21.279Z"
   },
   {
    "duration": 6,
    "start_time": "2022-02-19T14:19:21.291Z"
   },
   {
    "duration": 8,
    "start_time": "2022-02-19T14:19:21.299Z"
   },
   {
    "duration": 47,
    "start_time": "2022-02-19T14:19:21.308Z"
   },
   {
    "duration": 23,
    "start_time": "2022-02-19T14:19:21.356Z"
   },
   {
    "duration": 3,
    "start_time": "2022-02-19T14:19:21.381Z"
   },
   {
    "duration": 11,
    "start_time": "2022-02-19T14:19:21.386Z"
   },
   {
    "duration": 26,
    "start_time": "2022-02-19T14:19:21.399Z"
   },
   {
    "duration": 25,
    "start_time": "2022-02-19T14:19:21.426Z"
   },
   {
    "duration": 5,
    "start_time": "2022-02-19T14:19:21.453Z"
   },
   {
    "duration": 23,
    "start_time": "2022-02-19T14:19:21.459Z"
   },
   {
    "duration": 11,
    "start_time": "2022-02-19T14:19:21.483Z"
   },
   {
    "duration": 3,
    "start_time": "2022-02-19T14:19:21.495Z"
   },
   {
    "duration": 12,
    "start_time": "2022-02-19T14:19:21.500Z"
   },
   {
    "duration": 15,
    "start_time": "2022-02-19T14:19:21.513Z"
   },
   {
    "duration": 28,
    "start_time": "2022-02-19T14:19:21.546Z"
   },
   {
    "duration": 7,
    "start_time": "2022-02-19T14:19:21.576Z"
   },
   {
    "duration": 9,
    "start_time": "2022-02-19T14:19:21.584Z"
   },
   {
    "duration": 23,
    "start_time": "2022-02-19T14:19:21.595Z"
   },
   {
    "duration": 18,
    "start_time": "2022-02-19T14:19:21.620Z"
   },
   {
    "duration": 11,
    "start_time": "2022-02-19T14:19:21.639Z"
   },
   {
    "duration": 8,
    "start_time": "2022-02-19T14:19:21.654Z"
   },
   {
    "duration": 7,
    "start_time": "2022-02-19T14:19:21.664Z"
   },
   {
    "duration": 13,
    "start_time": "2022-02-19T14:19:21.672Z"
   },
   {
    "duration": 6,
    "start_time": "2022-02-19T14:19:21.687Z"
   },
   {
    "duration": 20,
    "start_time": "2022-02-19T14:19:21.695Z"
   },
   {
    "duration": 30,
    "start_time": "2022-02-19T14:19:21.716Z"
   },
   {
    "duration": 10,
    "start_time": "2022-02-19T14:19:21.747Z"
   },
   {
    "duration": 13,
    "start_time": "2022-02-19T14:19:21.758Z"
   },
   {
    "duration": 14,
    "start_time": "2022-02-19T14:19:21.773Z"
   },
   {
    "duration": 5,
    "start_time": "2022-02-19T14:19:21.789Z"
   },
   {
    "duration": 7,
    "start_time": "2022-02-19T14:19:21.795Z"
   },
   {
    "duration": 5,
    "start_time": "2022-02-19T14:19:21.803Z"
   },
   {
    "duration": 13,
    "start_time": "2022-02-19T14:19:21.810Z"
   },
   {
    "duration": 3,
    "start_time": "2022-02-19T14:19:21.824Z"
   },
   {
    "duration": 531,
    "start_time": "2022-02-19T14:19:21.846Z"
   },
   {
    "duration": 9,
    "start_time": "2022-02-19T14:19:22.379Z"
   },
   {
    "duration": 9,
    "start_time": "2022-02-19T14:19:22.389Z"
   },
   {
    "duration": 9,
    "start_time": "2022-02-19T14:19:22.399Z"
   },
   {
    "duration": 15,
    "start_time": "2022-02-19T14:19:22.410Z"
   },
   {
    "duration": 7,
    "start_time": "2022-02-19T14:19:22.426Z"
   },
   {
    "duration": 926,
    "start_time": "2022-02-19T14:19:22.446Z"
   },
   {
    "duration": 409,
    "start_time": "2022-02-19T14:19:23.374Z"
   },
   {
    "duration": 8,
    "start_time": "2022-02-19T14:19:23.785Z"
   },
   {
    "duration": 5403,
    "start_time": "2022-02-19T14:19:23.794Z"
   },
   {
    "duration": 295,
    "start_time": "2022-02-19T14:19:29.199Z"
   },
   {
    "duration": 7,
    "start_time": "2022-02-19T14:19:29.496Z"
   },
   {
    "duration": 357,
    "start_time": "2022-02-19T14:19:29.505Z"
   },
   {
    "duration": 217,
    "start_time": "2022-02-19T14:19:29.864Z"
   },
   {
    "duration": 8,
    "start_time": "2022-02-19T14:19:30.082Z"
   },
   {
    "duration": 24156,
    "start_time": "2022-02-19T14:19:30.091Z"
   },
   {
    "duration": 191,
    "start_time": "2022-02-19T14:19:54.248Z"
   },
   {
    "duration": 8,
    "start_time": "2022-02-19T14:19:54.446Z"
   },
   {
    "duration": 345,
    "start_time": "2022-02-19T14:19:54.455Z"
   },
   {
    "duration": 235,
    "start_time": "2022-02-19T14:19:54.802Z"
   },
   {
    "duration": 10,
    "start_time": "2022-02-19T14:19:55.038Z"
   },
   {
    "duration": 162,
    "start_time": "2022-02-19T14:19:55.050Z"
   },
   {
    "duration": 5,
    "start_time": "2022-02-19T14:19:55.213Z"
   },
   {
    "duration": 208,
    "start_time": "2022-02-19T14:19:55.220Z"
   },
   {
    "duration": 19,
    "start_time": "2022-02-19T14:19:55.430Z"
   },
   {
    "duration": 5,
    "start_time": "2022-02-19T14:19:55.450Z"
   },
   {
    "duration": 909,
    "start_time": "2022-02-19T14:19:55.457Z"
   },
   {
    "duration": 5,
    "start_time": "2022-02-19T14:19:56.367Z"
   },
   {
    "duration": 221,
    "start_time": "2022-02-19T14:19:56.374Z"
   },
   {
    "duration": 9,
    "start_time": "2022-02-19T14:19:56.597Z"
   },
   {
    "duration": 6,
    "start_time": "2022-02-19T14:19:56.608Z"
   },
   {
    "duration": 5,
    "start_time": "2022-02-19T14:19:56.619Z"
   },
   {
    "duration": 254,
    "start_time": "2022-02-19T14:19:56.626Z"
   },
   {
    "duration": 244,
    "start_time": "2022-02-19T14:19:56.882Z"
   },
   {
    "duration": 18,
    "start_time": "2022-02-19T14:19:57.128Z"
   },
   {
    "duration": 6,
    "start_time": "2022-02-19T14:19:57.147Z"
   },
   {
    "duration": 7,
    "start_time": "2022-02-19T14:19:57.154Z"
   },
   {
    "duration": 210,
    "start_time": "2022-02-19T14:19:57.163Z"
   },
   {
    "duration": 9,
    "start_time": "2022-02-19T14:19:57.375Z"
   },
   {
    "duration": 9,
    "start_time": "2022-02-19T14:19:57.385Z"
   },
   {
    "duration": 6,
    "start_time": "2022-02-19T14:19:57.395Z"
   },
   {
    "duration": 472,
    "start_time": "2022-02-19T14:19:57.403Z"
   },
   {
    "duration": 8,
    "start_time": "2022-02-19T14:19:57.877Z"
   },
   {
    "duration": 20,
    "start_time": "2022-02-19T14:19:57.886Z"
   },
   {
    "duration": 5,
    "start_time": "2022-02-19T14:19:57.908Z"
   },
   {
    "duration": 5,
    "start_time": "2022-02-19T14:19:57.915Z"
   },
   {
    "duration": 332,
    "start_time": "2022-02-19T14:19:57.946Z"
   },
   {
    "duration": 6,
    "start_time": "2022-02-19T14:19:58.279Z"
   },
   {
    "duration": 137,
    "start_time": "2022-02-19T14:19:58.287Z"
   },
   {
    "duration": 7,
    "start_time": "2022-02-19T14:19:58.426Z"
   },
   {
    "duration": 190,
    "start_time": "2022-02-19T14:19:58.435Z"
   },
   {
    "duration": 7,
    "start_time": "2022-02-19T14:19:58.627Z"
   },
   {
    "duration": 154,
    "start_time": "2022-02-19T14:19:58.635Z"
   },
   {
    "duration": 6,
    "start_time": "2022-02-19T14:19:58.790Z"
   },
   {
    "duration": 143,
    "start_time": "2022-02-19T14:19:58.797Z"
   },
   {
    "duration": 8,
    "start_time": "2022-02-19T14:19:58.941Z"
   },
   {
    "duration": 20,
    "start_time": "2022-02-19T14:19:58.950Z"
   },
   {
    "duration": 9,
    "start_time": "2022-02-19T14:19:58.971Z"
   },
   {
    "duration": 15,
    "start_time": "2022-02-19T14:19:58.982Z"
   },
   {
    "duration": 10,
    "start_time": "2022-02-19T14:19:58.999Z"
   },
   {
    "duration": 287,
    "start_time": "2022-02-19T14:19:59.011Z"
   },
   {
    "duration": 33,
    "start_time": "2022-02-19T14:19:59.299Z"
   },
   {
    "duration": 25,
    "start_time": "2022-02-19T14:19:59.333Z"
   },
   {
    "duration": 9,
    "start_time": "2022-02-19T14:19:59.359Z"
   },
   {
    "duration": 8,
    "start_time": "2022-02-19T14:19:59.369Z"
   },
   {
    "duration": 5,
    "start_time": "2022-02-19T14:19:59.379Z"
   },
   {
    "duration": 156,
    "start_time": "2022-02-19T14:19:59.385Z"
   },
   {
    "duration": 6,
    "start_time": "2022-02-19T14:19:59.546Z"
   },
   {
    "duration": 154,
    "start_time": "2022-02-19T14:19:59.553Z"
   },
   {
    "duration": 684,
    "start_time": "2022-03-03T18:49:28.526Z"
   },
   {
    "duration": 11,
    "start_time": "2022-03-03T18:49:29.212Z"
   },
   {
    "duration": 7,
    "start_time": "2022-03-03T18:49:29.225Z"
   },
   {
    "duration": 26,
    "start_time": "2022-03-03T18:49:29.234Z"
   },
   {
    "duration": 28,
    "start_time": "2022-03-03T18:49:29.262Z"
   },
   {
    "duration": 28,
    "start_time": "2022-03-03T18:49:29.291Z"
   },
   {
    "duration": 3,
    "start_time": "2022-03-03T18:49:29.321Z"
   },
   {
    "duration": 37,
    "start_time": "2022-03-03T18:49:29.326Z"
   },
   {
    "duration": 24,
    "start_time": "2022-03-03T18:49:29.365Z"
   },
   {
    "duration": 9,
    "start_time": "2022-03-03T18:49:29.390Z"
   },
   {
    "duration": 4,
    "start_time": "2022-03-03T18:49:29.401Z"
   },
   {
    "duration": 57,
    "start_time": "2022-03-03T18:49:29.407Z"
   },
   {
    "duration": 8,
    "start_time": "2022-03-03T18:49:29.466Z"
   },
   {
    "duration": 4,
    "start_time": "2022-03-03T18:49:29.476Z"
   },
   {
    "duration": 8,
    "start_time": "2022-03-03T18:49:29.481Z"
   },
   {
    "duration": 8,
    "start_time": "2022-03-03T18:49:29.491Z"
   },
   {
    "duration": 60,
    "start_time": "2022-03-03T18:49:29.501Z"
   },
   {
    "duration": 8,
    "start_time": "2022-03-03T18:49:29.562Z"
   },
   {
    "duration": 6,
    "start_time": "2022-03-03T18:49:29.571Z"
   },
   {
    "duration": 8,
    "start_time": "2022-03-03T18:49:29.579Z"
   },
   {
    "duration": 4,
    "start_time": "2022-03-03T18:49:29.588Z"
   },
   {
    "duration": 6,
    "start_time": "2022-03-03T18:49:29.594Z"
   },
   {
    "duration": 11,
    "start_time": "2022-03-03T18:49:29.603Z"
   },
   {
    "duration": 44,
    "start_time": "2022-03-03T18:49:29.617Z"
   },
   {
    "duration": 12,
    "start_time": "2022-03-03T18:49:29.663Z"
   },
   {
    "duration": 5,
    "start_time": "2022-03-03T18:49:29.677Z"
   },
   {
    "duration": 7,
    "start_time": "2022-03-03T18:49:29.683Z"
   },
   {
    "duration": 25,
    "start_time": "2022-03-03T18:49:29.692Z"
   },
   {
    "duration": 42,
    "start_time": "2022-03-03T18:49:29.719Z"
   },
   {
    "duration": 5,
    "start_time": "2022-03-03T18:49:29.762Z"
   },
   {
    "duration": 10,
    "start_time": "2022-03-03T18:49:29.768Z"
   },
   {
    "duration": 6,
    "start_time": "2022-03-03T18:49:29.780Z"
   },
   {
    "duration": 5,
    "start_time": "2022-03-03T18:49:29.787Z"
   },
   {
    "duration": 5,
    "start_time": "2022-03-03T18:49:29.794Z"
   },
   {
    "duration": 13,
    "start_time": "2022-03-03T18:49:29.801Z"
   },
   {
    "duration": 3,
    "start_time": "2022-03-03T18:49:29.815Z"
   },
   {
    "duration": 519,
    "start_time": "2022-03-03T18:49:29.859Z"
   },
   {
    "duration": 10,
    "start_time": "2022-03-03T18:49:30.380Z"
   },
   {
    "duration": 15,
    "start_time": "2022-03-03T18:49:30.391Z"
   },
   {
    "duration": 11,
    "start_time": "2022-03-03T18:49:30.408Z"
   },
   {
    "duration": 27,
    "start_time": "2022-03-03T18:49:30.421Z"
   },
   {
    "duration": 15,
    "start_time": "2022-03-03T18:49:30.450Z"
   },
   {
    "duration": 1166,
    "start_time": "2022-03-03T18:49:30.467Z"
   },
   {
    "duration": 369,
    "start_time": "2022-03-03T18:49:31.635Z"
   },
   {
    "duration": 9,
    "start_time": "2022-03-03T18:49:32.006Z"
   },
   {
    "duration": 6102,
    "start_time": "2022-03-03T18:49:32.016Z"
   },
   {
    "duration": 381,
    "start_time": "2022-03-03T18:49:38.119Z"
   },
   {
    "duration": 8,
    "start_time": "2022-03-03T18:49:38.501Z"
   },
   {
    "duration": 448,
    "start_time": "2022-03-03T18:49:38.511Z"
   },
   {
    "duration": 273,
    "start_time": "2022-03-03T18:49:38.960Z"
   },
   {
    "duration": 9,
    "start_time": "2022-03-03T18:49:39.235Z"
   },
   {
    "duration": 27523,
    "start_time": "2022-03-03T18:49:39.245Z"
   },
   {
    "duration": 222,
    "start_time": "2022-03-03T18:50:06.770Z"
   },
   {
    "duration": 10,
    "start_time": "2022-03-03T18:50:06.994Z"
   },
   {
    "duration": 425,
    "start_time": "2022-03-03T18:50:07.006Z"
   },
   {
    "duration": 286,
    "start_time": "2022-03-03T18:50:07.432Z"
   },
   {
    "duration": 6,
    "start_time": "2022-03-03T18:50:07.720Z"
   },
   {
    "duration": 204,
    "start_time": "2022-03-03T18:50:07.728Z"
   },
   {
    "duration": 6,
    "start_time": "2022-03-03T18:50:07.935Z"
   },
   {
    "duration": 265,
    "start_time": "2022-03-03T18:50:07.943Z"
   },
   {
    "duration": 13,
    "start_time": "2022-03-03T18:50:08.210Z"
   },
   {
    "duration": 7,
    "start_time": "2022-03-03T18:50:08.224Z"
   },
   {
    "duration": 941,
    "start_time": "2022-03-03T18:50:08.233Z"
   },
   {
    "duration": 6,
    "start_time": "2022-03-03T18:50:09.176Z"
   },
   {
    "duration": 275,
    "start_time": "2022-03-03T18:50:09.184Z"
   },
   {
    "duration": 11,
    "start_time": "2022-03-03T18:50:09.461Z"
   },
   {
    "duration": 5,
    "start_time": "2022-03-03T18:50:09.477Z"
   },
   {
    "duration": 5,
    "start_time": "2022-03-03T18:50:09.484Z"
   },
   {
    "duration": 303,
    "start_time": "2022-03-03T18:50:09.491Z"
   },
   {
    "duration": 290,
    "start_time": "2022-03-03T18:50:09.796Z"
   },
   {
    "duration": 9,
    "start_time": "2022-03-03T18:50:10.088Z"
   },
   {
    "duration": 8,
    "start_time": "2022-03-03T18:50:10.098Z"
   },
   {
    "duration": 6,
    "start_time": "2022-03-03T18:50:10.107Z"
   },
   {
    "duration": 262,
    "start_time": "2022-03-03T18:50:10.114Z"
   },
   {
    "duration": 9,
    "start_time": "2022-03-03T18:50:10.378Z"
   },
   {
    "duration": 5,
    "start_time": "2022-03-03T18:50:10.389Z"
   },
   {
    "duration": 7,
    "start_time": "2022-03-03T18:50:10.396Z"
   },
   {
    "duration": 567,
    "start_time": "2022-03-03T18:50:10.405Z"
   },
   {
    "duration": 7,
    "start_time": "2022-03-03T18:50:10.974Z"
   },
   {
    "duration": 23,
    "start_time": "2022-03-03T18:50:10.983Z"
   },
   {
    "duration": 6,
    "start_time": "2022-03-03T18:50:11.007Z"
   },
   {
    "duration": 5,
    "start_time": "2022-03-03T18:50:11.015Z"
   },
   {
    "duration": 388,
    "start_time": "2022-03-03T18:50:11.022Z"
   },
   {
    "duration": 6,
    "start_time": "2022-03-03T18:50:11.411Z"
   },
   {
    "duration": 162,
    "start_time": "2022-03-03T18:50:11.419Z"
   },
   {
    "duration": 5,
    "start_time": "2022-03-03T18:50:11.583Z"
   },
   {
    "duration": 173,
    "start_time": "2022-03-03T18:50:11.590Z"
   },
   {
    "duration": 6,
    "start_time": "2022-03-03T18:50:11.764Z"
   },
   {
    "duration": 175,
    "start_time": "2022-03-03T18:50:11.772Z"
   },
   {
    "duration": 10,
    "start_time": "2022-03-03T18:50:11.949Z"
   },
   {
    "duration": 159,
    "start_time": "2022-03-03T18:50:11.961Z"
   },
   {
    "duration": 7,
    "start_time": "2022-03-03T18:50:12.122Z"
   },
   {
    "duration": 36,
    "start_time": "2022-03-03T18:50:12.132Z"
   },
   {
    "duration": 12,
    "start_time": "2022-03-03T18:50:12.171Z"
   },
   {
    "duration": 16,
    "start_time": "2022-03-03T18:50:12.185Z"
   },
   {
    "duration": 14,
    "start_time": "2022-03-03T18:50:12.203Z"
   },
   {
    "duration": 331,
    "start_time": "2022-03-03T18:50:12.218Z"
   },
   {
    "duration": 41,
    "start_time": "2022-03-03T18:50:12.552Z"
   },
   {
    "duration": 21,
    "start_time": "2022-03-03T18:50:12.595Z"
   },
   {
    "duration": 10,
    "start_time": "2022-03-03T18:50:12.618Z"
   },
   {
    "duration": 38,
    "start_time": "2022-03-03T18:50:12.630Z"
   },
   {
    "duration": 7,
    "start_time": "2022-03-03T18:50:12.670Z"
   },
   {
    "duration": 182,
    "start_time": "2022-03-03T18:50:12.679Z"
   },
   {
    "duration": 8,
    "start_time": "2022-03-03T18:50:12.863Z"
   },
   {
    "duration": 187,
    "start_time": "2022-03-03T18:50:12.873Z"
   },
   {
    "duration": 83,
    "start_time": "2022-03-03T18:50:41.031Z"
   },
   {
    "duration": 8,
    "start_time": "2022-03-03T19:20:40.217Z"
   },
   {
    "duration": 14933,
    "start_time": "2022-03-03T19:21:19.855Z"
   },
   {
    "duration": 6,
    "start_time": "2022-03-03T19:23:09.935Z"
   },
   {
    "duration": 15017,
    "start_time": "2022-03-03T19:23:13.896Z"
   },
   {
    "duration": 187,
    "start_time": "2022-03-03T19:25:32.522Z"
   },
   {
    "duration": 1209,
    "start_time": "2022-03-03T19:25:44.999Z"
   },
   {
    "duration": 13,
    "start_time": "2022-03-03T19:25:46.210Z"
   },
   {
    "duration": 8,
    "start_time": "2022-03-03T19:25:46.225Z"
   },
   {
    "duration": 32,
    "start_time": "2022-03-03T19:25:46.235Z"
   },
   {
    "duration": 29,
    "start_time": "2022-03-03T19:25:46.268Z"
   },
   {
    "duration": 29,
    "start_time": "2022-03-03T19:25:46.298Z"
   },
   {
    "duration": 33,
    "start_time": "2022-03-03T19:25:46.328Z"
   },
   {
    "duration": 6,
    "start_time": "2022-03-03T19:25:46.364Z"
   },
   {
    "duration": 26,
    "start_time": "2022-03-03T19:25:46.373Z"
   },
   {
    "duration": 10,
    "start_time": "2022-03-03T19:25:46.400Z"
   },
   {
    "duration": 5,
    "start_time": "2022-03-03T19:25:46.412Z"
   },
   {
    "duration": 58,
    "start_time": "2022-03-03T19:25:46.418Z"
   },
   {
    "duration": 8,
    "start_time": "2022-03-03T19:25:46.479Z"
   },
   {
    "duration": 4,
    "start_time": "2022-03-03T19:25:46.489Z"
   },
   {
    "duration": 6,
    "start_time": "2022-03-03T19:25:46.495Z"
   },
   {
    "duration": 9,
    "start_time": "2022-03-03T19:25:46.503Z"
   },
   {
    "duration": 64,
    "start_time": "2022-03-03T19:25:46.513Z"
   },
   {
    "duration": 8,
    "start_time": "2022-03-03T19:25:46.578Z"
   },
   {
    "duration": 6,
    "start_time": "2022-03-03T19:25:46.587Z"
   },
   {
    "duration": 7,
    "start_time": "2022-03-03T19:25:46.594Z"
   },
   {
    "duration": 4,
    "start_time": "2022-03-03T19:25:46.602Z"
   },
   {
    "duration": 6,
    "start_time": "2022-03-03T19:25:46.608Z"
   },
   {
    "duration": 43,
    "start_time": "2022-03-03T19:25:46.618Z"
   },
   {
    "duration": 5,
    "start_time": "2022-03-03T19:25:46.664Z"
   },
   {
    "duration": 13,
    "start_time": "2022-03-03T19:25:46.671Z"
   },
   {
    "duration": 4,
    "start_time": "2022-03-03T19:25:46.686Z"
   },
   {
    "duration": 5,
    "start_time": "2022-03-03T19:25:46.692Z"
   },
   {
    "duration": 23,
    "start_time": "2022-03-03T19:25:46.698Z"
   },
   {
    "duration": 44,
    "start_time": "2022-03-03T19:25:46.723Z"
   },
   {
    "duration": 4,
    "start_time": "2022-03-03T19:25:46.769Z"
   },
   {
    "duration": 11,
    "start_time": "2022-03-03T19:25:46.774Z"
   },
   {
    "duration": 6,
    "start_time": "2022-03-03T19:25:46.787Z"
   },
   {
    "duration": 6,
    "start_time": "2022-03-03T19:25:46.794Z"
   },
   {
    "duration": 6,
    "start_time": "2022-03-03T19:25:46.801Z"
   },
   {
    "duration": 50,
    "start_time": "2022-03-03T19:25:46.809Z"
   },
   {
    "duration": 3,
    "start_time": "2022-03-03T19:25:46.861Z"
   },
   {
    "duration": 498,
    "start_time": "2022-03-03T19:25:46.865Z"
   },
   {
    "duration": 10,
    "start_time": "2022-03-03T19:25:47.364Z"
   },
   {
    "duration": 4,
    "start_time": "2022-03-03T19:25:47.376Z"
   },
   {
    "duration": 5,
    "start_time": "2022-03-03T19:25:47.381Z"
   },
   {
    "duration": 15,
    "start_time": "2022-03-03T19:25:47.388Z"
   },
   {
    "duration": 8,
    "start_time": "2022-03-03T19:25:47.405Z"
   },
   {
    "duration": 1139,
    "start_time": "2022-03-03T19:25:47.415Z"
   },
   {
    "duration": 384,
    "start_time": "2022-03-03T19:25:48.555Z"
   },
   {
    "duration": 17,
    "start_time": "2022-03-03T19:25:48.942Z"
   },
   {
    "duration": 6176,
    "start_time": "2022-03-03T19:25:48.961Z"
   },
   {
    "duration": 386,
    "start_time": "2022-03-03T19:25:55.139Z"
   },
   {
    "duration": 9,
    "start_time": "2022-03-03T19:25:55.527Z"
   },
   {
    "duration": 466,
    "start_time": "2022-03-03T19:25:55.538Z"
   },
   {
    "duration": 277,
    "start_time": "2022-03-03T19:25:56.006Z"
   },
   {
    "duration": 10,
    "start_time": "2022-03-03T19:25:56.285Z"
   },
   {
    "duration": 28141,
    "start_time": "2022-03-03T19:25:56.297Z"
   },
   {
    "duration": 244,
    "start_time": "2022-03-03T19:26:24.440Z"
   },
   {
    "duration": 11,
    "start_time": "2022-03-03T19:26:24.685Z"
   },
   {
    "duration": 445,
    "start_time": "2022-03-03T19:26:24.698Z"
   },
   {
    "duration": 302,
    "start_time": "2022-03-03T19:26:25.146Z"
   },
   {
    "duration": 11,
    "start_time": "2022-03-03T19:26:25.451Z"
   },
   {
    "duration": 210,
    "start_time": "2022-03-03T19:26:25.465Z"
   },
   {
    "duration": 7,
    "start_time": "2022-03-03T19:26:25.677Z"
   },
   {
    "duration": 265,
    "start_time": "2022-03-03T19:26:25.686Z"
   },
   {
    "duration": 17,
    "start_time": "2022-03-03T19:26:25.953Z"
   },
   {
    "duration": 7,
    "start_time": "2022-03-03T19:26:25.971Z"
   },
   {
    "duration": 983,
    "start_time": "2022-03-03T19:26:25.979Z"
   },
   {
    "duration": 6,
    "start_time": "2022-03-03T19:26:26.964Z"
   },
   {
    "duration": 291,
    "start_time": "2022-03-03T19:26:26.971Z"
   },
   {
    "duration": 11,
    "start_time": "2022-03-03T19:26:27.264Z"
   },
   {
    "duration": 6,
    "start_time": "2022-03-03T19:26:27.277Z"
   },
   {
    "duration": 7,
    "start_time": "2022-03-03T19:26:27.289Z"
   },
   {
    "duration": 322,
    "start_time": "2022-03-03T19:26:27.298Z"
   },
   {
    "duration": 314,
    "start_time": "2022-03-03T19:26:27.622Z"
   },
   {
    "duration": 9,
    "start_time": "2022-03-03T19:26:27.938Z"
   },
   {
    "duration": 6,
    "start_time": "2022-03-03T19:26:27.959Z"
   },
   {
    "duration": 7,
    "start_time": "2022-03-03T19:26:27.966Z"
   },
   {
    "duration": 271,
    "start_time": "2022-03-03T19:26:27.975Z"
   },
   {
    "duration": 16,
    "start_time": "2022-03-03T19:26:28.248Z"
   },
   {
    "duration": 6,
    "start_time": "2022-03-03T19:26:28.266Z"
   },
   {
    "duration": 7,
    "start_time": "2022-03-03T19:26:28.274Z"
   },
   {
    "duration": 586,
    "start_time": "2022-03-03T19:26:28.282Z"
   },
   {
    "duration": 10,
    "start_time": "2022-03-03T19:26:28.870Z"
   },
   {
    "duration": 23,
    "start_time": "2022-03-03T19:26:28.881Z"
   },
   {
    "duration": 6,
    "start_time": "2022-03-03T19:26:28.906Z"
   },
   {
    "duration": 5,
    "start_time": "2022-03-03T19:26:28.914Z"
   },
   {
    "duration": 42,
    "start_time": "2022-03-03T19:26:28.921Z"
   },
   {
    "duration": 7,
    "start_time": "2022-03-03T19:26:28.964Z"
   },
   {
    "duration": 179,
    "start_time": "2022-03-03T19:26:28.973Z"
   },
   {
    "duration": 7,
    "start_time": "2022-03-03T19:26:29.154Z"
   },
   {
    "duration": 183,
    "start_time": "2022-03-03T19:26:29.163Z"
   },
   {
    "duration": 14,
    "start_time": "2022-03-03T19:26:29.349Z"
   },
   {
    "duration": 189,
    "start_time": "2022-03-03T19:26:29.365Z"
   },
   {
    "duration": 8,
    "start_time": "2022-03-03T19:26:29.556Z"
   },
   {
    "duration": 188,
    "start_time": "2022-03-03T19:26:29.566Z"
   },
   {
    "duration": 9,
    "start_time": "2022-03-03T19:26:29.756Z"
   },
   {
    "duration": 22,
    "start_time": "2022-03-03T19:26:29.766Z"
   },
   {
    "duration": 11,
    "start_time": "2022-03-03T19:26:29.789Z"
   },
   {
    "duration": 16,
    "start_time": "2022-03-03T19:26:29.802Z"
   },
   {
    "duration": 46,
    "start_time": "2022-03-03T19:26:29.820Z"
   },
   {
    "duration": 317,
    "start_time": "2022-03-03T19:26:29.869Z"
   },
   {
    "duration": 38,
    "start_time": "2022-03-03T19:26:30.189Z"
   },
   {
    "duration": 39,
    "start_time": "2022-03-03T19:26:30.229Z"
   },
   {
    "duration": 11,
    "start_time": "2022-03-03T19:26:30.269Z"
   },
   {
    "duration": 21,
    "start_time": "2022-03-03T19:26:30.281Z"
   },
   {
    "duration": 17,
    "start_time": "2022-03-03T19:26:30.304Z"
   },
   {
    "duration": 178,
    "start_time": "2022-03-03T19:26:30.322Z"
   },
   {
    "duration": 7,
    "start_time": "2022-03-03T19:26:30.503Z"
   },
   {
    "duration": 227,
    "start_time": "2022-03-03T19:26:30.512Z"
   },
   {
    "duration": 6322,
    "start_time": "2022-03-03T19:30:35.489Z"
   },
   {
    "duration": 299,
    "start_time": "2022-03-03T19:36:47.590Z"
   },
   {
    "duration": 5140,
    "start_time": "2022-03-03T19:36:58.338Z"
   },
   {
    "duration": 6,
    "start_time": "2022-03-03T19:37:12.066Z"
   },
   {
    "duration": 4718,
    "start_time": "2022-03-03T19:37:13.987Z"
   },
   {
    "duration": 1239,
    "start_time": "2022-03-03T19:37:29.496Z"
   },
   {
    "duration": 12,
    "start_time": "2022-03-03T19:37:30.737Z"
   },
   {
    "duration": 11,
    "start_time": "2022-03-03T19:37:30.751Z"
   },
   {
    "duration": 9,
    "start_time": "2022-03-03T19:37:30.764Z"
   },
   {
    "duration": 31,
    "start_time": "2022-03-03T19:37:30.775Z"
   },
   {
    "duration": 53,
    "start_time": "2022-03-03T19:37:30.808Z"
   },
   {
    "duration": 3,
    "start_time": "2022-03-03T19:37:30.863Z"
   },
   {
    "duration": 11,
    "start_time": "2022-03-03T19:37:30.868Z"
   },
   {
    "duration": 32,
    "start_time": "2022-03-03T19:37:30.882Z"
   },
   {
    "duration": 9,
    "start_time": "2022-03-03T19:37:30.916Z"
   },
   {
    "duration": 8,
    "start_time": "2022-03-03T19:37:30.927Z"
   },
   {
    "duration": 46,
    "start_time": "2022-03-03T19:37:30.936Z"
   },
   {
    "duration": 10,
    "start_time": "2022-03-03T19:37:30.983Z"
   },
   {
    "duration": 6,
    "start_time": "2022-03-03T19:37:30.995Z"
   },
   {
    "duration": 9,
    "start_time": "2022-03-03T19:37:31.002Z"
   },
   {
    "duration": 10,
    "start_time": "2022-03-03T19:37:31.013Z"
   },
   {
    "duration": 62,
    "start_time": "2022-03-03T19:37:31.025Z"
   },
   {
    "duration": 10,
    "start_time": "2022-03-03T19:37:31.089Z"
   },
   {
    "duration": 8,
    "start_time": "2022-03-03T19:37:31.101Z"
   },
   {
    "duration": 9,
    "start_time": "2022-03-03T19:37:31.110Z"
   },
   {
    "duration": 40,
    "start_time": "2022-03-03T19:37:31.121Z"
   },
   {
    "duration": 6,
    "start_time": "2022-03-03T19:37:31.164Z"
   },
   {
    "duration": 17,
    "start_time": "2022-03-03T19:37:31.171Z"
   },
   {
    "duration": 6,
    "start_time": "2022-03-03T19:37:31.190Z"
   },
   {
    "duration": 13,
    "start_time": "2022-03-03T19:37:31.197Z"
   },
   {
    "duration": 5,
    "start_time": "2022-03-03T19:37:31.212Z"
   },
   {
    "duration": 4,
    "start_time": "2022-03-03T19:37:31.222Z"
   },
   {
    "duration": 53,
    "start_time": "2022-03-03T19:37:31.228Z"
   },
   {
    "duration": 11,
    "start_time": "2022-03-03T19:37:31.282Z"
   },
   {
    "duration": 3,
    "start_time": "2022-03-03T19:37:31.295Z"
   },
   {
    "duration": 11,
    "start_time": "2022-03-03T19:37:31.300Z"
   },
   {
    "duration": 6,
    "start_time": "2022-03-03T19:37:31.312Z"
   },
   {
    "duration": 39,
    "start_time": "2022-03-03T19:37:31.320Z"
   },
   {
    "duration": 6,
    "start_time": "2022-03-03T19:37:31.361Z"
   },
   {
    "duration": 13,
    "start_time": "2022-03-03T19:37:31.369Z"
   },
   {
    "duration": 3,
    "start_time": "2022-03-03T19:37:31.384Z"
   },
   {
    "duration": 520,
    "start_time": "2022-03-03T19:37:31.388Z"
   },
   {
    "duration": 10,
    "start_time": "2022-03-03T19:37:31.910Z"
   },
   {
    "duration": 4,
    "start_time": "2022-03-03T19:37:31.921Z"
   },
   {
    "duration": 4,
    "start_time": "2022-03-03T19:37:31.927Z"
   },
   {
    "duration": 38,
    "start_time": "2022-03-03T19:37:31.932Z"
   },
   {
    "duration": 9,
    "start_time": "2022-03-03T19:37:31.972Z"
   },
   {
    "duration": 1113,
    "start_time": "2022-03-03T19:37:31.983Z"
   },
   {
    "duration": 383,
    "start_time": "2022-03-03T19:37:33.099Z"
   },
   {
    "duration": 10,
    "start_time": "2022-03-03T19:37:33.484Z"
   },
   {
    "duration": 6072,
    "start_time": "2022-03-03T19:37:33.496Z"
   },
   {
    "duration": 367,
    "start_time": "2022-03-03T19:37:39.570Z"
   },
   {
    "duration": 8,
    "start_time": "2022-03-03T19:37:39.939Z"
   },
   {
    "duration": 442,
    "start_time": "2022-03-03T19:37:39.948Z"
   },
   {
    "duration": 270,
    "start_time": "2022-03-03T19:37:40.392Z"
   },
   {
    "duration": 9,
    "start_time": "2022-03-03T19:37:40.664Z"
   },
   {
    "duration": 26973,
    "start_time": "2022-03-03T19:37:40.675Z"
   },
   {
    "duration": 217,
    "start_time": "2022-03-03T19:38:07.649Z"
   },
   {
    "duration": 9,
    "start_time": "2022-03-03T19:38:07.867Z"
   },
   {
    "duration": 424,
    "start_time": "2022-03-03T19:38:07.878Z"
   },
   {
    "duration": 281,
    "start_time": "2022-03-03T19:38:08.304Z"
   },
   {
    "duration": 6,
    "start_time": "2022-03-03T19:38:08.586Z"
   },
   {
    "duration": 207,
    "start_time": "2022-03-03T19:38:08.593Z"
   },
   {
    "duration": 6,
    "start_time": "2022-03-03T19:38:08.801Z"
   },
   {
    "duration": 260,
    "start_time": "2022-03-03T19:38:08.808Z"
   },
   {
    "duration": 11,
    "start_time": "2022-03-03T19:38:09.070Z"
   },
   {
    "duration": 5,
    "start_time": "2022-03-03T19:38:09.083Z"
   },
   {
    "duration": 960,
    "start_time": "2022-03-03T19:38:09.090Z"
   },
   {
    "duration": 11,
    "start_time": "2022-03-03T19:38:10.051Z"
   },
   {
    "duration": 282,
    "start_time": "2022-03-03T19:38:10.064Z"
   },
   {
    "duration": 16,
    "start_time": "2022-03-03T19:38:10.348Z"
   },
   {
    "duration": 5,
    "start_time": "2022-03-03T19:38:10.366Z"
   },
   {
    "duration": 9,
    "start_time": "2022-03-03T19:38:10.373Z"
   },
   {
    "duration": 300,
    "start_time": "2022-03-03T19:38:10.383Z"
   },
   {
    "duration": 304,
    "start_time": "2022-03-03T19:38:10.685Z"
   },
   {
    "duration": 9,
    "start_time": "2022-03-03T19:38:10.991Z"
   },
   {
    "duration": 13,
    "start_time": "2022-03-03T19:38:11.002Z"
   },
   {
    "duration": 25,
    "start_time": "2022-03-03T19:38:11.017Z"
   },
   {
    "duration": 270,
    "start_time": "2022-03-03T19:38:11.044Z"
   },
   {
    "duration": 9,
    "start_time": "2022-03-03T19:38:11.316Z"
   },
   {
    "duration": 27,
    "start_time": "2022-03-03T19:38:11.326Z"
   },
   {
    "duration": 17,
    "start_time": "2022-03-03T19:38:11.355Z"
   },
   {
    "duration": 564,
    "start_time": "2022-03-03T19:38:11.373Z"
   },
   {
    "duration": 8,
    "start_time": "2022-03-03T19:38:11.939Z"
   },
   {
    "duration": 32,
    "start_time": "2022-03-03T19:38:11.949Z"
   },
   {
    "duration": 7,
    "start_time": "2022-03-03T19:38:11.987Z"
   },
   {
    "duration": 5040,
    "start_time": "2022-03-03T19:38:11.997Z"
   },
   {
    "duration": 4891,
    "start_time": "2022-03-03T19:38:12.148Z"
   },
   {
    "duration": 4877,
    "start_time": "2022-03-03T19:38:12.163Z"
   },
   {
    "duration": 4861,
    "start_time": "2022-03-03T19:38:12.180Z"
   },
   {
    "duration": 4848,
    "start_time": "2022-03-03T19:38:12.194Z"
   },
   {
    "duration": 4834,
    "start_time": "2022-03-03T19:38:12.209Z"
   },
   {
    "duration": 4821,
    "start_time": "2022-03-03T19:38:12.223Z"
   },
   {
    "duration": 4806,
    "start_time": "2022-03-03T19:38:12.239Z"
   },
   {
    "duration": 4773,
    "start_time": "2022-03-03T19:38:12.273Z"
   },
   {
    "duration": 4757,
    "start_time": "2022-03-03T19:38:12.290Z"
   },
   {
    "duration": 4744,
    "start_time": "2022-03-03T19:38:12.304Z"
   },
   {
    "duration": 4729,
    "start_time": "2022-03-03T19:38:12.320Z"
   },
   {
    "duration": 4703,
    "start_time": "2022-03-03T19:38:12.347Z"
   },
   {
    "duration": 4688,
    "start_time": "2022-03-03T19:38:12.363Z"
   },
   {
    "duration": 4661,
    "start_time": "2022-03-03T19:38:12.391Z"
   },
   {
    "duration": 4652,
    "start_time": "2022-03-03T19:38:12.401Z"
   },
   {
    "duration": 4643,
    "start_time": "2022-03-03T19:38:12.411Z"
   },
   {
    "duration": 4628,
    "start_time": "2022-03-03T19:38:12.427Z"
   },
   {
    "duration": 4618,
    "start_time": "2022-03-03T19:38:12.438Z"
   },
   {
    "duration": 4606,
    "start_time": "2022-03-03T19:38:12.450Z"
   },
   {
    "duration": 4596,
    "start_time": "2022-03-03T19:38:12.461Z"
   },
   {
    "duration": 4585,
    "start_time": "2022-03-03T19:38:12.473Z"
   },
   {
    "duration": 4577,
    "start_time": "2022-03-03T19:38:12.482Z"
   },
   {
    "duration": 4548,
    "start_time": "2022-03-03T19:38:12.512Z"
   },
   {
    "duration": 4540,
    "start_time": "2022-03-03T19:38:12.521Z"
   },
   {
    "duration": 4530,
    "start_time": "2022-03-03T19:38:12.532Z"
   },
   {
    "duration": 4721,
    "start_time": "2022-03-03T19:40:59.988Z"
   },
   {
    "duration": 14370,
    "start_time": "2022-03-03T19:42:30.469Z"
   },
   {
    "duration": 154,
    "start_time": "2022-03-03T19:43:26.331Z"
   },
   {
    "duration": 150,
    "start_time": "2022-03-03T19:44:02.682Z"
   },
   {
    "duration": 67274,
    "start_time": "2022-03-03T19:44:11.320Z"
   },
   {
    "duration": 7,
    "start_time": "2022-03-03T19:47:17.746Z"
   },
   {
    "duration": 149,
    "start_time": "2022-03-03T19:47:19.976Z"
   },
   {
    "duration": 1204,
    "start_time": "2022-03-03T19:47:36.609Z"
   },
   {
    "duration": 11,
    "start_time": "2022-03-03T19:47:37.815Z"
   },
   {
    "duration": 8,
    "start_time": "2022-03-03T19:47:37.827Z"
   },
   {
    "duration": 24,
    "start_time": "2022-03-03T19:47:37.836Z"
   },
   {
    "duration": 26,
    "start_time": "2022-03-03T19:47:37.861Z"
   },
   {
    "duration": 25,
    "start_time": "2022-03-03T19:47:37.889Z"
   },
   {
    "duration": 3,
    "start_time": "2022-03-03T19:47:37.916Z"
   },
   {
    "duration": 5,
    "start_time": "2022-03-03T19:47:37.921Z"
   },
   {
    "duration": 53,
    "start_time": "2022-03-03T19:47:37.929Z"
   },
   {
    "duration": 8,
    "start_time": "2022-03-03T19:47:37.984Z"
   },
   {
    "duration": 3,
    "start_time": "2022-03-03T19:47:37.994Z"
   },
   {
    "duration": 22,
    "start_time": "2022-03-03T19:47:37.999Z"
   },
   {
    "duration": 36,
    "start_time": "2022-03-03T19:47:38.023Z"
   },
   {
    "duration": 4,
    "start_time": "2022-03-03T19:47:38.061Z"
   },
   {
    "duration": 9,
    "start_time": "2022-03-03T19:47:38.066Z"
   },
   {
    "duration": 9,
    "start_time": "2022-03-03T19:47:38.076Z"
   },
   {
    "duration": 25,
    "start_time": "2022-03-03T19:47:38.086Z"
   },
   {
    "duration": 7,
    "start_time": "2022-03-03T19:47:38.113Z"
   },
   {
    "duration": 39,
    "start_time": "2022-03-03T19:47:38.122Z"
   },
   {
    "duration": 7,
    "start_time": "2022-03-03T19:47:38.163Z"
   },
   {
    "duration": 5,
    "start_time": "2022-03-03T19:47:38.171Z"
   },
   {
    "duration": 4,
    "start_time": "2022-03-03T19:47:38.178Z"
   },
   {
    "duration": 9,
    "start_time": "2022-03-03T19:47:38.184Z"
   },
   {
    "duration": 5,
    "start_time": "2022-03-03T19:47:38.195Z"
   },
   {
    "duration": 11,
    "start_time": "2022-03-03T19:47:38.201Z"
   },
   {
    "duration": 4,
    "start_time": "2022-03-03T19:47:38.213Z"
   },
   {
    "duration": 5,
    "start_time": "2022-03-03T19:47:38.260Z"
   },
   {
    "duration": 24,
    "start_time": "2022-03-03T19:47:38.267Z"
   },
   {
    "duration": 10,
    "start_time": "2022-03-03T19:47:38.293Z"
   },
   {
    "duration": 4,
    "start_time": "2022-03-03T19:47:38.305Z"
   },
   {
    "duration": 10,
    "start_time": "2022-03-03T19:47:38.310Z"
   },
   {
    "duration": 6,
    "start_time": "2022-03-03T19:47:38.321Z"
   },
   {
    "duration": 36,
    "start_time": "2022-03-03T19:47:38.328Z"
   },
   {
    "duration": 5,
    "start_time": "2022-03-03T19:47:38.366Z"
   },
   {
    "duration": 14,
    "start_time": "2022-03-03T19:47:38.373Z"
   },
   {
    "duration": 3,
    "start_time": "2022-03-03T19:47:38.389Z"
   },
   {
    "duration": 516,
    "start_time": "2022-03-03T19:47:38.393Z"
   },
   {
    "duration": 9,
    "start_time": "2022-03-03T19:47:38.911Z"
   },
   {
    "duration": 4,
    "start_time": "2022-03-03T19:47:38.921Z"
   },
   {
    "duration": 7,
    "start_time": "2022-03-03T19:47:38.926Z"
   },
   {
    "duration": 27,
    "start_time": "2022-03-03T19:47:38.934Z"
   },
   {
    "duration": 9,
    "start_time": "2022-03-03T19:47:38.962Z"
   },
   {
    "duration": 1126,
    "start_time": "2022-03-03T19:47:38.972Z"
   },
   {
    "duration": 382,
    "start_time": "2022-03-03T19:47:40.099Z"
   },
   {
    "duration": 9,
    "start_time": "2022-03-03T19:47:40.483Z"
   },
   {
    "duration": 6372,
    "start_time": "2022-03-03T19:47:40.493Z"
   },
   {
    "duration": 373,
    "start_time": "2022-03-03T19:47:46.867Z"
   },
   {
    "duration": 21,
    "start_time": "2022-03-03T19:47:47.241Z"
   },
   {
    "duration": 460,
    "start_time": "2022-03-03T19:47:47.264Z"
   },
   {
    "duration": 282,
    "start_time": "2022-03-03T19:47:47.726Z"
   },
   {
    "duration": 9,
    "start_time": "2022-03-03T19:47:48.010Z"
   },
   {
    "duration": 27812,
    "start_time": "2022-03-03T19:47:48.021Z"
   },
   {
    "duration": 238,
    "start_time": "2022-03-03T19:48:15.835Z"
   },
   {
    "duration": 10,
    "start_time": "2022-03-03T19:48:16.075Z"
   },
   {
    "duration": 447,
    "start_time": "2022-03-03T19:48:16.087Z"
   },
   {
    "duration": 298,
    "start_time": "2022-03-03T19:48:16.536Z"
   },
   {
    "duration": 6,
    "start_time": "2022-03-03T19:48:16.837Z"
   },
   {
    "duration": 216,
    "start_time": "2022-03-03T19:48:16.845Z"
   },
   {
    "duration": 6,
    "start_time": "2022-03-03T19:48:17.062Z"
   },
   {
    "duration": 263,
    "start_time": "2022-03-03T19:48:17.069Z"
   },
   {
    "duration": 11,
    "start_time": "2022-03-03T19:48:17.334Z"
   },
   {
    "duration": 14,
    "start_time": "2022-03-03T19:48:17.347Z"
   },
   {
    "duration": 1013,
    "start_time": "2022-03-03T19:48:17.362Z"
   },
   {
    "duration": 6,
    "start_time": "2022-03-03T19:48:18.376Z"
   },
   {
    "duration": 292,
    "start_time": "2022-03-03T19:48:18.383Z"
   },
   {
    "duration": 12,
    "start_time": "2022-03-03T19:48:18.676Z"
   },
   {
    "duration": 5,
    "start_time": "2022-03-03T19:48:18.690Z"
   },
   {
    "duration": 6,
    "start_time": "2022-03-03T19:48:18.697Z"
   },
   {
    "duration": 304,
    "start_time": "2022-03-03T19:48:18.705Z"
   },
   {
    "duration": 337,
    "start_time": "2022-03-03T19:48:19.011Z"
   },
   {
    "duration": 15,
    "start_time": "2022-03-03T19:48:19.349Z"
   },
   {
    "duration": 6,
    "start_time": "2022-03-03T19:48:19.366Z"
   },
   {
    "duration": 5,
    "start_time": "2022-03-03T19:48:19.374Z"
   },
   {
    "duration": 278,
    "start_time": "2022-03-03T19:48:19.381Z"
   },
   {
    "duration": 9,
    "start_time": "2022-03-03T19:48:19.660Z"
   },
   {
    "duration": 5,
    "start_time": "2022-03-03T19:48:19.671Z"
   },
   {
    "duration": 6,
    "start_time": "2022-03-03T19:48:19.678Z"
   },
   {
    "duration": 608,
    "start_time": "2022-03-03T19:48:19.686Z"
   },
   {
    "duration": 8,
    "start_time": "2022-03-03T19:48:20.296Z"
   },
   {
    "duration": 25,
    "start_time": "2022-03-03T19:48:20.306Z"
   },
   {
    "duration": 24,
    "start_time": "2022-03-03T19:48:20.337Z"
   },
   {
    "duration": 14689,
    "start_time": "2022-03-03T19:48:20.363Z"
   },
   {
    "duration": 6,
    "start_time": "2022-03-03T19:48:35.054Z"
   },
   {
    "duration": 171,
    "start_time": "2022-03-03T19:48:35.062Z"
   },
   {
    "duration": 9,
    "start_time": "2022-03-03T19:48:35.235Z"
   },
   {
    "duration": 67559,
    "start_time": "2022-03-03T19:48:35.246Z"
   },
   {
    "duration": 7,
    "start_time": "2022-03-03T19:49:42.806Z"
   },
   {
    "duration": 156,
    "start_time": "2022-03-03T19:49:42.814Z"
   },
   {
    "duration": 6,
    "start_time": "2022-03-03T19:49:42.972Z"
   },
   {
    "duration": 180,
    "start_time": "2022-03-03T19:49:42.979Z"
   },
   {
    "duration": 6,
    "start_time": "2022-03-03T19:49:43.160Z"
   },
   {
    "duration": 175,
    "start_time": "2022-03-03T19:49:43.167Z"
   },
   {
    "duration": 15,
    "start_time": "2022-03-03T19:49:43.344Z"
   },
   {
    "duration": 156,
    "start_time": "2022-03-03T19:49:43.361Z"
   },
   {
    "duration": 7,
    "start_time": "2022-03-03T19:49:43.519Z"
   },
   {
    "duration": 37,
    "start_time": "2022-03-03T19:49:43.528Z"
   },
   {
    "duration": 12,
    "start_time": "2022-03-03T19:49:43.567Z"
   },
   {
    "duration": 16,
    "start_time": "2022-03-03T19:49:43.581Z"
   },
   {
    "duration": 14,
    "start_time": "2022-03-03T19:49:43.599Z"
   },
   {
    "duration": 344,
    "start_time": "2022-03-03T19:49:43.615Z"
   },
   {
    "duration": 38,
    "start_time": "2022-03-03T19:49:43.961Z"
   },
   {
    "duration": 24,
    "start_time": "2022-03-03T19:49:44.001Z"
   },
   {
    "duration": 36,
    "start_time": "2022-03-03T19:49:44.027Z"
   },
   {
    "duration": 11,
    "start_time": "2022-03-03T19:49:44.064Z"
   },
   {
    "duration": 6,
    "start_time": "2022-03-03T19:49:44.076Z"
   },
   {
    "duration": 177,
    "start_time": "2022-03-03T19:49:44.084Z"
   },
   {
    "duration": 6,
    "start_time": "2022-03-03T19:49:44.263Z"
   },
   {
    "duration": 186,
    "start_time": "2022-03-03T19:49:44.270Z"
   },
   {
    "duration": 6,
    "start_time": "2022-03-03T19:56:03.099Z"
   },
   {
    "duration": 64,
    "start_time": "2022-03-03T19:56:33.603Z"
   },
   {
    "duration": 10,
    "start_time": "2022-03-03T19:56:48.407Z"
   },
   {
    "duration": 67003,
    "start_time": "2022-03-03T19:56:52.240Z"
   },
   {
    "duration": 78,
    "start_time": "2022-03-03T20:02:01.890Z"
   },
   {
    "duration": 11000,
    "start_time": "2022-03-03T20:07:03.030Z"
   },
   {
    "duration": 166,
    "start_time": "2022-03-03T20:08:00.524Z"
   },
   {
    "duration": 55492,
    "start_time": "2022-03-03T20:09:14.486Z"
   },
   {
    "duration": 109,
    "start_time": "2022-03-03T21:31:41.236Z"
   },
   {
    "duration": 5271,
    "start_time": "2022-03-03T21:32:05.533Z"
   },
   {
    "duration": 15,
    "start_time": "2022-03-03T21:32:10.808Z"
   },
   {
    "duration": 9,
    "start_time": "2022-03-03T21:32:10.824Z"
   },
   {
    "duration": 8,
    "start_time": "2022-03-03T21:32:10.835Z"
   },
   {
    "duration": 30,
    "start_time": "2022-03-03T21:32:10.844Z"
   },
   {
    "duration": 49,
    "start_time": "2022-03-03T21:32:10.876Z"
   },
   {
    "duration": 3,
    "start_time": "2022-03-03T21:32:10.927Z"
   },
   {
    "duration": 11,
    "start_time": "2022-03-03T21:32:10.932Z"
   },
   {
    "duration": 21,
    "start_time": "2022-03-03T21:32:10.944Z"
   },
   {
    "duration": 7,
    "start_time": "2022-03-03T21:32:10.966Z"
   },
   {
    "duration": 3,
    "start_time": "2022-03-03T21:32:10.975Z"
   },
   {
    "duration": 47,
    "start_time": "2022-03-03T21:32:10.979Z"
   },
   {
    "duration": 9,
    "start_time": "2022-03-03T21:32:11.027Z"
   },
   {
    "duration": 4,
    "start_time": "2022-03-03T21:32:11.038Z"
   },
   {
    "duration": 7,
    "start_time": "2022-03-03T21:32:11.043Z"
   },
   {
    "duration": 7,
    "start_time": "2022-03-03T21:32:11.051Z"
   },
   {
    "duration": 54,
    "start_time": "2022-03-03T21:32:11.060Z"
   },
   {
    "duration": 9,
    "start_time": "2022-03-03T21:32:11.116Z"
   },
   {
    "duration": 5,
    "start_time": "2022-03-03T21:32:11.127Z"
   },
   {
    "duration": 8,
    "start_time": "2022-03-03T21:32:11.133Z"
   },
   {
    "duration": 6,
    "start_time": "2022-03-03T21:32:11.142Z"
   },
   {
    "duration": 6,
    "start_time": "2022-03-03T21:32:11.149Z"
   },
   {
    "duration": 8,
    "start_time": "2022-03-03T21:32:11.158Z"
   },
   {
    "duration": 4,
    "start_time": "2022-03-03T21:32:11.168Z"
   },
   {
    "duration": 44,
    "start_time": "2022-03-03T21:32:11.173Z"
   },
   {
    "duration": 8,
    "start_time": "2022-03-03T21:32:11.219Z"
   },
   {
    "duration": 3,
    "start_time": "2022-03-03T21:32:11.228Z"
   },
   {
    "duration": 20,
    "start_time": "2022-03-03T21:32:11.233Z"
   },
   {
    "duration": 9,
    "start_time": "2022-03-03T21:32:11.254Z"
   },
   {
    "duration": 5,
    "start_time": "2022-03-03T21:32:11.265Z"
   },
   {
    "duration": 35,
    "start_time": "2022-03-03T21:32:11.271Z"
   },
   {
    "duration": 11,
    "start_time": "2022-03-03T21:32:11.308Z"
   },
   {
    "duration": 7,
    "start_time": "2022-03-03T21:32:11.321Z"
   },
   {
    "duration": 10,
    "start_time": "2022-03-03T21:32:11.329Z"
   },
   {
    "duration": 11,
    "start_time": "2022-03-03T21:32:11.341Z"
   },
   {
    "duration": 2,
    "start_time": "2022-03-03T21:32:11.354Z"
   },
   {
    "duration": 468,
    "start_time": "2022-03-03T21:32:11.357Z"
   },
   {
    "duration": 8,
    "start_time": "2022-03-03T21:32:11.827Z"
   },
   {
    "duration": 3,
    "start_time": "2022-03-03T21:32:11.837Z"
   },
   {
    "duration": 5,
    "start_time": "2022-03-03T21:32:11.841Z"
   },
   {
    "duration": 14,
    "start_time": "2022-03-03T21:32:11.848Z"
   },
   {
    "duration": 7,
    "start_time": "2022-03-03T21:32:11.863Z"
   },
   {
    "duration": 966,
    "start_time": "2022-03-03T21:32:11.871Z"
   },
   {
    "duration": 313,
    "start_time": "2022-03-03T21:32:12.839Z"
   },
   {
    "duration": 9,
    "start_time": "2022-03-03T21:32:13.154Z"
   },
   {
    "duration": 5208,
    "start_time": "2022-03-03T21:32:13.164Z"
   },
   {
    "duration": 305,
    "start_time": "2022-03-03T21:32:18.373Z"
   },
   {
    "duration": 7,
    "start_time": "2022-03-03T21:32:18.679Z"
   },
   {
    "duration": 385,
    "start_time": "2022-03-03T21:32:18.688Z"
   },
   {
    "duration": 234,
    "start_time": "2022-03-03T21:32:19.074Z"
   },
   {
    "duration": 10,
    "start_time": "2022-03-03T21:32:19.313Z"
   },
   {
    "duration": 22811,
    "start_time": "2022-03-03T21:32:19.325Z"
   },
   {
    "duration": 182,
    "start_time": "2022-03-03T21:32:42.138Z"
   },
   {
    "duration": 7,
    "start_time": "2022-03-03T21:32:42.322Z"
   },
   {
    "duration": 330,
    "start_time": "2022-03-03T21:32:42.330Z"
   },
   {
    "duration": 223,
    "start_time": "2022-03-03T21:32:42.662Z"
   },
   {
    "duration": 5,
    "start_time": "2022-03-03T21:32:42.887Z"
   },
   {
    "duration": 156,
    "start_time": "2022-03-03T21:32:42.893Z"
   },
   {
    "duration": 5,
    "start_time": "2022-03-03T21:32:43.050Z"
   },
   {
    "duration": 231,
    "start_time": "2022-03-03T21:32:43.056Z"
   },
   {
    "duration": 18,
    "start_time": "2022-03-03T21:32:43.288Z"
   },
   {
    "duration": 4,
    "start_time": "2022-03-03T21:32:43.308Z"
   },
   {
    "duration": 823,
    "start_time": "2022-03-03T21:32:43.314Z"
   },
   {
    "duration": 7,
    "start_time": "2022-03-03T21:32:44.138Z"
   },
   {
    "duration": 228,
    "start_time": "2022-03-03T21:32:44.146Z"
   },
   {
    "duration": 11,
    "start_time": "2022-03-03T21:32:44.376Z"
   },
   {
    "duration": 17,
    "start_time": "2022-03-03T21:32:44.388Z"
   },
   {
    "duration": 4,
    "start_time": "2022-03-03T21:32:44.410Z"
   },
   {
    "duration": 227,
    "start_time": "2022-03-03T21:32:44.416Z"
   },
   {
    "duration": 238,
    "start_time": "2022-03-03T21:32:44.645Z"
   },
   {
    "duration": 8,
    "start_time": "2022-03-03T21:32:44.885Z"
   },
   {
    "duration": 12,
    "start_time": "2022-03-03T21:32:44.895Z"
   },
   {
    "duration": 9,
    "start_time": "2022-03-03T21:32:44.909Z"
   },
   {
    "duration": 204,
    "start_time": "2022-03-03T21:32:44.920Z"
   },
   {
    "duration": 8,
    "start_time": "2022-03-03T21:32:45.126Z"
   },
   {
    "duration": 5,
    "start_time": "2022-03-03T21:32:45.135Z"
   },
   {
    "duration": 6,
    "start_time": "2022-03-03T21:32:45.141Z"
   },
   {
    "duration": 442,
    "start_time": "2022-03-03T21:32:45.149Z"
   },
   {
    "duration": 16,
    "start_time": "2022-03-03T21:32:45.592Z"
   },
   {
    "duration": 19,
    "start_time": "2022-03-03T21:32:45.609Z"
   },
   {
    "duration": 5,
    "start_time": "2022-03-03T21:32:45.629Z"
   },
   {
    "duration": 11694,
    "start_time": "2022-03-03T21:32:45.636Z"
   },
   {
    "duration": 5,
    "start_time": "2022-03-03T21:32:57.331Z"
   },
   {
    "duration": 144,
    "start_time": "2022-03-03T21:32:57.338Z"
   },
   {
    "duration": 8,
    "start_time": "2022-03-03T21:32:57.484Z"
   },
   {
    "duration": 54719,
    "start_time": "2022-03-03T21:32:57.494Z"
   },
   {
    "duration": 8,
    "start_time": "2022-03-03T21:33:52.215Z"
   },
   {
    "duration": 156,
    "start_time": "2022-03-03T21:33:52.225Z"
   },
   {
    "duration": 8,
    "start_time": "2022-03-03T21:33:52.383Z"
   },
   {
    "duration": 165,
    "start_time": "2022-03-03T21:33:52.393Z"
   },
   {
    "duration": 6,
    "start_time": "2022-03-03T21:33:52.559Z"
   },
   {
    "duration": 161,
    "start_time": "2022-03-03T21:33:52.567Z"
   },
   {
    "duration": 7,
    "start_time": "2022-03-03T21:33:52.730Z"
   },
   {
    "duration": 153,
    "start_time": "2022-03-03T21:33:52.739Z"
   },
   {
    "duration": 13,
    "start_time": "2022-03-03T21:33:52.893Z"
   },
   {
    "duration": 19,
    "start_time": "2022-03-03T21:33:52.908Z"
   },
   {
    "duration": 10,
    "start_time": "2022-03-03T21:33:52.929Z"
   },
   {
    "duration": 15,
    "start_time": "2022-03-03T21:33:52.941Z"
   },
   {
    "duration": 11,
    "start_time": "2022-03-03T21:33:52.958Z"
   },
   {
    "duration": 305,
    "start_time": "2022-03-03T21:33:52.971Z"
   },
   {
    "duration": 45,
    "start_time": "2022-03-03T21:33:53.278Z"
   },
   {
    "duration": 18,
    "start_time": "2022-03-03T21:33:53.325Z"
   },
   {
    "duration": 9,
    "start_time": "2022-03-03T21:33:53.345Z"
   },
   {
    "duration": 17,
    "start_time": "2022-03-03T21:33:53.355Z"
   },
   {
    "duration": 10338,
    "start_time": "2022-03-03T21:33:53.373Z"
   },
   {
    "duration": 134,
    "start_time": "2022-03-03T21:34:03.712Z"
   },
   {
    "duration": 49991,
    "start_time": "2022-03-03T21:34:03.848Z"
   },
   {
    "duration": 6,
    "start_time": "2022-03-03T21:34:53.841Z"
   },
   {
    "duration": 140,
    "start_time": "2022-03-03T21:34:53.849Z"
   },
   {
    "duration": 16,
    "start_time": "2022-03-03T21:34:53.991Z"
   },
   {
    "duration": 141,
    "start_time": "2022-03-03T21:34:54.008Z"
   }
  ],
  "kernelspec": {
   "display_name": "Python 3 (ipykernel)",
   "language": "python",
   "name": "python3"
  },
  "language_info": {
   "codemirror_mode": {
    "name": "ipython",
    "version": 3
   },
   "file_extension": ".py",
   "mimetype": "text/x-python",
   "name": "python",
   "nbconvert_exporter": "python",
   "pygments_lexer": "ipython3",
   "version": "3.9.7"
  },
  "toc": {
   "base_numbering": 1,
   "nav_menu": {},
   "number_sections": true,
   "sideBar": true,
   "skip_h1_title": true,
   "title_cell": "Содержание",
   "title_sidebar": "Contents",
   "toc_cell": true,
   "toc_position": {
    "height": "calc(100% - 180px)",
    "left": "10px",
    "top": "150px",
    "width": "165px"
   },
   "toc_section_display": true,
   "toc_window_display": true
  }
 },
 "nbformat": 4,
 "nbformat_minor": 2
}
