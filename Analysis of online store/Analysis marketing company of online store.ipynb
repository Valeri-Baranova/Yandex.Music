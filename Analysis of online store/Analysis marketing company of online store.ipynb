{
 "cells": [
  {
   "cell_type": "markdown",
   "metadata": {},
   "source": [
    "# Проект № 8"
   ]
  },
  {
   "cell_type": "markdown",
   "metadata": {},
   "source": [
    "Вы — аналитик крупного интернет-магазина. Вместе с отделом маркетинга вы подготовили список гипотез для увеличения выручки.\n",
    "Приоритизируйте гипотезы, запустите A/B-тест и проанализируйте результаты."
   ]
  },
  {
   "cell_type": "markdown",
   "metadata": {},
   "source": [
    "## Изучение данных"
   ]
  },
  {
   "cell_type": "code",
   "execution_count": 1,
   "metadata": {},
   "outputs": [],
   "source": [
    "import pandas as pd\n",
    "import numpy as np\n",
    "from matplotlib import pyplot as plt\n",
    "import seaborn as sns\n",
    "import warnings\n",
    "warnings.filterwarnings(\"ignore\")\n",
    "import scipy.stats as stats"
   ]
  },
  {
   "cell_type": "code",
   "execution_count": 2,
   "metadata": {},
   "outputs": [
    {
     "data": {
      "text/html": [
       "<div>\n",
       "<style scoped>\n",
       "    .dataframe tbody tr th:only-of-type {\n",
       "        vertical-align: middle;\n",
       "    }\n",
       "\n",
       "    .dataframe tbody tr th {\n",
       "        vertical-align: top;\n",
       "    }\n",
       "\n",
       "    .dataframe thead th {\n",
       "        text-align: right;\n",
       "    }\n",
       "</style>\n",
       "<table border=\"1\" class=\"dataframe\">\n",
       "  <thead>\n",
       "    <tr style=\"text-align: right;\">\n",
       "      <th></th>\n",
       "      <th>Hypothesis</th>\n",
       "      <th>Reach</th>\n",
       "      <th>Impact</th>\n",
       "      <th>Confidence</th>\n",
       "      <th>Efforts</th>\n",
       "    </tr>\n",
       "  </thead>\n",
       "  <tbody>\n",
       "    <tr>\n",
       "      <th>0</th>\n",
       "      <td>Добавить два новых канала привлечения трафика, что позволит привлекать на 30% больше пользователей</td>\n",
       "      <td>3</td>\n",
       "      <td>10</td>\n",
       "      <td>8</td>\n",
       "      <td>6</td>\n",
       "    </tr>\n",
       "    <tr>\n",
       "      <th>1</th>\n",
       "      <td>Запустить собственную службу доставки, что сократит срок доставки заказов</td>\n",
       "      <td>2</td>\n",
       "      <td>5</td>\n",
       "      <td>4</td>\n",
       "      <td>10</td>\n",
       "    </tr>\n",
       "    <tr>\n",
       "      <th>2</th>\n",
       "      <td>Добавить блоки рекомендаций товаров на сайт интернет магазина, чтобы повысить конверсию и средни...</td>\n",
       "      <td>8</td>\n",
       "      <td>3</td>\n",
       "      <td>7</td>\n",
       "      <td>3</td>\n",
       "    </tr>\n",
       "    <tr>\n",
       "      <th>3</th>\n",
       "      <td>Изменить структура категорий, что увеличит конверсию, т.к. пользователи быстрее найдут нужный товар</td>\n",
       "      <td>8</td>\n",
       "      <td>3</td>\n",
       "      <td>3</td>\n",
       "      <td>8</td>\n",
       "    </tr>\n",
       "    <tr>\n",
       "      <th>4</th>\n",
       "      <td>Изменить цвет фона главной страницы, чтобы увеличить вовлеченность пользователей</td>\n",
       "      <td>3</td>\n",
       "      <td>1</td>\n",
       "      <td>1</td>\n",
       "      <td>1</td>\n",
       "    </tr>\n",
       "    <tr>\n",
       "      <th>5</th>\n",
       "      <td>Добавить страницу отзывов клиентов о магазине, что позволит увеличить количество заказов</td>\n",
       "      <td>3</td>\n",
       "      <td>2</td>\n",
       "      <td>2</td>\n",
       "      <td>3</td>\n",
       "    </tr>\n",
       "    <tr>\n",
       "      <th>6</th>\n",
       "      <td>Показать на главной странице баннеры с актуальными акциями и распродажами, чтобы увеличить конве...</td>\n",
       "      <td>5</td>\n",
       "      <td>3</td>\n",
       "      <td>8</td>\n",
       "      <td>3</td>\n",
       "    </tr>\n",
       "    <tr>\n",
       "      <th>7</th>\n",
       "      <td>Добавить форму подписки на все основные страницы, чтобы собрать базу клиентов для email-рассылок</td>\n",
       "      <td>10</td>\n",
       "      <td>7</td>\n",
       "      <td>8</td>\n",
       "      <td>5</td>\n",
       "    </tr>\n",
       "    <tr>\n",
       "      <th>8</th>\n",
       "      <td>Запустить акцию, дающую скидку на товар в день рождения</td>\n",
       "      <td>1</td>\n",
       "      <td>9</td>\n",
       "      <td>9</td>\n",
       "      <td>5</td>\n",
       "    </tr>\n",
       "  </tbody>\n",
       "</table>\n",
       "</div>"
      ],
      "text/plain": [
       "                                                                                            Hypothesis  \\\n",
       "0   Добавить два новых канала привлечения трафика, что позволит привлекать на 30% больше пользователей   \n",
       "1                            Запустить собственную службу доставки, что сократит срок доставки заказов   \n",
       "2  Добавить блоки рекомендаций товаров на сайт интернет магазина, чтобы повысить конверсию и средни...   \n",
       "3  Изменить структура категорий, что увеличит конверсию, т.к. пользователи быстрее найдут нужный товар   \n",
       "4                     Изменить цвет фона главной страницы, чтобы увеличить вовлеченность пользователей   \n",
       "5             Добавить страницу отзывов клиентов о магазине, что позволит увеличить количество заказов   \n",
       "6  Показать на главной странице баннеры с актуальными акциями и распродажами, чтобы увеличить конве...   \n",
       "7     Добавить форму подписки на все основные страницы, чтобы собрать базу клиентов для email-рассылок   \n",
       "8                                              Запустить акцию, дающую скидку на товар в день рождения   \n",
       "\n",
       "   Reach  Impact  Confidence  Efforts  \n",
       "0      3      10           8        6  \n",
       "1      2       5           4       10  \n",
       "2      8       3           7        3  \n",
       "3      8       3           3        8  \n",
       "4      3       1           1        1  \n",
       "5      3       2           2        3  \n",
       "6      5       3           8        3  \n",
       "7     10       7           8        5  \n",
       "8      1       9           9        5  "
      ]
     },
     "execution_count": 2,
     "metadata": {},
     "output_type": "execute_result"
    }
   ],
   "source": [
    "df = pd.read_csv('/datasets/hypothesis.csv')\n",
    "pd.options.display.max_colwidth = 100\n",
    "df.head(10)"
   ]
  },
  {
   "cell_type": "code",
   "execution_count": 3,
   "metadata": {},
   "outputs": [
    {
     "name": "stdout",
     "output_type": "stream",
     "text": [
      "<class 'pandas.core.frame.DataFrame'>\n",
      "RangeIndex: 9 entries, 0 to 8\n",
      "Data columns (total 5 columns):\n",
      " #   Column      Non-Null Count  Dtype \n",
      "---  ------      --------------  ----- \n",
      " 0   Hypothesis  9 non-null      object\n",
      " 1   Reach       9 non-null      int64 \n",
      " 2   Impact      9 non-null      int64 \n",
      " 3   Confidence  9 non-null      int64 \n",
      " 4   Efforts     9 non-null      int64 \n",
      "dtypes: int64(4), object(1)\n",
      "memory usage: 488.0+ bytes\n"
     ]
    }
   ],
   "source": [
    "df.info()"
   ]
  },
  {
   "cell_type": "code",
   "execution_count": 4,
   "metadata": {},
   "outputs": [],
   "source": [
    "df.columns = [x.lower().replace(' ', '_') for x in df.columns]"
   ]
  },
  {
   "cell_type": "code",
   "execution_count": 5,
   "metadata": {},
   "outputs": [
    {
     "name": "stdout",
     "output_type": "stream",
     "text": [
      "<class 'pandas.core.frame.DataFrame'>\n",
      "RangeIndex: 9 entries, 0 to 8\n",
      "Data columns (total 5 columns):\n",
      " #   Column      Non-Null Count  Dtype \n",
      "---  ------      --------------  ----- \n",
      " 0   hypothesis  9 non-null      object\n",
      " 1   reach       9 non-null      int64 \n",
      " 2   impact      9 non-null      int64 \n",
      " 3   confidence  9 non-null      int64 \n",
      " 4   efforts     9 non-null      int64 \n",
      "dtypes: int64(4), object(1)\n",
      "memory usage: 488.0+ bytes\n"
     ]
    }
   ],
   "source": [
    "df.info() # проверяем"
   ]
  },
  {
   "cell_type": "code",
   "execution_count": 6,
   "metadata": {},
   "outputs": [
    {
     "data": {
      "text/plain": [
       "0"
      ]
     },
     "execution_count": 6,
     "metadata": {},
     "output_type": "execute_result"
    }
   ],
   "source": [
    "df.duplicated().sum()"
   ]
  },
  {
   "cell_type": "markdown",
   "metadata": {},
   "source": [
    "### Вывод\n",
    "\n",
    "В данном шаге мы изучили данные, ошибок в них. Изминили заголовки на \"змеиный\" регистр"
   ]
  },
  {
   "cell_type": "markdown",
   "metadata": {},
   "source": [
    "## Приоритизация гипотез"
   ]
  },
  {
   "cell_type": "markdown",
   "metadata": {},
   "source": [
    "### Фреймворк ICE"
   ]
  },
  {
   "cell_type": "code",
   "execution_count": 7,
   "metadata": {},
   "outputs": [
    {
     "data": {
      "text/html": [
       "<div>\n",
       "<style scoped>\n",
       "    .dataframe tbody tr th:only-of-type {\n",
       "        vertical-align: middle;\n",
       "    }\n",
       "\n",
       "    .dataframe tbody tr th {\n",
       "        vertical-align: top;\n",
       "    }\n",
       "\n",
       "    .dataframe thead th {\n",
       "        text-align: right;\n",
       "    }\n",
       "</style>\n",
       "<table border=\"1\" class=\"dataframe\">\n",
       "  <thead>\n",
       "    <tr style=\"text-align: right;\">\n",
       "      <th></th>\n",
       "      <th>hypothesis</th>\n",
       "      <th>ICE</th>\n",
       "    </tr>\n",
       "  </thead>\n",
       "  <tbody>\n",
       "    <tr>\n",
       "      <th>8</th>\n",
       "      <td>Запустить акцию, дающую скидку на товар в день рождения</td>\n",
       "      <td>16.0</td>\n",
       "    </tr>\n",
       "    <tr>\n",
       "      <th>0</th>\n",
       "      <td>Добавить два новых канала привлечения трафика, что позволит привлекать на 30% больше пользователей</td>\n",
       "      <td>13.0</td>\n",
       "    </tr>\n",
       "    <tr>\n",
       "      <th>7</th>\n",
       "      <td>Добавить форму подписки на все основные страницы, чтобы собрать базу клиентов для email-рассылок</td>\n",
       "      <td>11.0</td>\n",
       "    </tr>\n",
       "    <tr>\n",
       "      <th>6</th>\n",
       "      <td>Показать на главной странице баннеры с актуальными акциями и распродажами, чтобы увеличить конве...</td>\n",
       "      <td>8.0</td>\n",
       "    </tr>\n",
       "    <tr>\n",
       "      <th>2</th>\n",
       "      <td>Добавить блоки рекомендаций товаров на сайт интернет магазина, чтобы повысить конверсию и средни...</td>\n",
       "      <td>7.0</td>\n",
       "    </tr>\n",
       "    <tr>\n",
       "      <th>1</th>\n",
       "      <td>Запустить собственную службу доставки, что сократит срок доставки заказов</td>\n",
       "      <td>2.0</td>\n",
       "    </tr>\n",
       "    <tr>\n",
       "      <th>5</th>\n",
       "      <td>Добавить страницу отзывов клиентов о магазине, что позволит увеличить количество заказов</td>\n",
       "      <td>1.0</td>\n",
       "    </tr>\n",
       "    <tr>\n",
       "      <th>3</th>\n",
       "      <td>Изменить структура категорий, что увеличит конверсию, т.к. пользователи быстрее найдут нужный товар</td>\n",
       "      <td>1.0</td>\n",
       "    </tr>\n",
       "    <tr>\n",
       "      <th>4</th>\n",
       "      <td>Изменить цвет фона главной страницы, чтобы увеличить вовлеченность пользователей</td>\n",
       "      <td>1.0</td>\n",
       "    </tr>\n",
       "  </tbody>\n",
       "</table>\n",
       "</div>"
      ],
      "text/plain": [
       "                                                                                            hypothesis  \\\n",
       "8                                              Запустить акцию, дающую скидку на товар в день рождения   \n",
       "0   Добавить два новых канала привлечения трафика, что позволит привлекать на 30% больше пользователей   \n",
       "7     Добавить форму подписки на все основные страницы, чтобы собрать базу клиентов для email-рассылок   \n",
       "6  Показать на главной странице баннеры с актуальными акциями и распродажами, чтобы увеличить конве...   \n",
       "2  Добавить блоки рекомендаций товаров на сайт интернет магазина, чтобы повысить конверсию и средни...   \n",
       "1                            Запустить собственную службу доставки, что сократит срок доставки заказов   \n",
       "5             Добавить страницу отзывов клиентов о магазине, что позволит увеличить количество заказов   \n",
       "3  Изменить структура категорий, что увеличит конверсию, т.к. пользователи быстрее найдут нужный товар   \n",
       "4                     Изменить цвет фона главной страницы, чтобы увеличить вовлеченность пользователей   \n",
       "\n",
       "    ICE  \n",
       "8  16.0  \n",
       "0  13.0  \n",
       "7  11.0  \n",
       "6   8.0  \n",
       "2   7.0  \n",
       "1   2.0  \n",
       "5   1.0  \n",
       "3   1.0  \n",
       "4   1.0  "
      ]
     },
     "execution_count": 7,
     "metadata": {},
     "output_type": "execute_result"
    }
   ],
   "source": [
    "df['ICE'] = (df['impact'] * df['confidence']) / df['efforts']\n",
    "df[['hypothesis', 'ICE']].sort_values(by='ICE', ascending=False).round()"
   ]
  },
  {
   "cell_type": "markdown",
   "metadata": {},
   "source": [
    "### Фреймворк RICE"
   ]
  },
  {
   "cell_type": "code",
   "execution_count": 8,
   "metadata": {},
   "outputs": [
    {
     "data": {
      "text/html": [
       "<div>\n",
       "<style scoped>\n",
       "    .dataframe tbody tr th:only-of-type {\n",
       "        vertical-align: middle;\n",
       "    }\n",
       "\n",
       "    .dataframe tbody tr th {\n",
       "        vertical-align: top;\n",
       "    }\n",
       "\n",
       "    .dataframe thead th {\n",
       "        text-align: right;\n",
       "    }\n",
       "</style>\n",
       "<table border=\"1\" class=\"dataframe\">\n",
       "  <thead>\n",
       "    <tr style=\"text-align: right;\">\n",
       "      <th></th>\n",
       "      <th>hypothesis</th>\n",
       "      <th>RICE</th>\n",
       "    </tr>\n",
       "  </thead>\n",
       "  <tbody>\n",
       "    <tr>\n",
       "      <th>7</th>\n",
       "      <td>Добавить форму подписки на все основные страницы, чтобы собрать базу клиентов для email-рассылок</td>\n",
       "      <td>112.0</td>\n",
       "    </tr>\n",
       "    <tr>\n",
       "      <th>2</th>\n",
       "      <td>Добавить блоки рекомендаций товаров на сайт интернет магазина, чтобы повысить конверсию и средни...</td>\n",
       "      <td>56.0</td>\n",
       "    </tr>\n",
       "    <tr>\n",
       "      <th>0</th>\n",
       "      <td>Добавить два новых канала привлечения трафика, что позволит привлекать на 30% больше пользователей</td>\n",
       "      <td>40.0</td>\n",
       "    </tr>\n",
       "    <tr>\n",
       "      <th>6</th>\n",
       "      <td>Показать на главной странице баннеры с актуальными акциями и распродажами, чтобы увеличить конве...</td>\n",
       "      <td>40.0</td>\n",
       "    </tr>\n",
       "    <tr>\n",
       "      <th>8</th>\n",
       "      <td>Запустить акцию, дающую скидку на товар в день рождения</td>\n",
       "      <td>16.2</td>\n",
       "    </tr>\n",
       "    <tr>\n",
       "      <th>3</th>\n",
       "      <td>Изменить структура категорий, что увеличит конверсию, т.к. пользователи быстрее найдут нужный товар</td>\n",
       "      <td>9.0</td>\n",
       "    </tr>\n",
       "    <tr>\n",
       "      <th>1</th>\n",
       "      <td>Запустить собственную службу доставки, что сократит срок доставки заказов</td>\n",
       "      <td>4.0</td>\n",
       "    </tr>\n",
       "    <tr>\n",
       "      <th>5</th>\n",
       "      <td>Добавить страницу отзывов клиентов о магазине, что позволит увеличить количество заказов</td>\n",
       "      <td>4.0</td>\n",
       "    </tr>\n",
       "    <tr>\n",
       "      <th>4</th>\n",
       "      <td>Изменить цвет фона главной страницы, чтобы увеличить вовлеченность пользователей</td>\n",
       "      <td>3.0</td>\n",
       "    </tr>\n",
       "  </tbody>\n",
       "</table>\n",
       "</div>"
      ],
      "text/plain": [
       "                                                                                            hypothesis  \\\n",
       "7     Добавить форму подписки на все основные страницы, чтобы собрать базу клиентов для email-рассылок   \n",
       "2  Добавить блоки рекомендаций товаров на сайт интернет магазина, чтобы повысить конверсию и средни...   \n",
       "0   Добавить два новых канала привлечения трафика, что позволит привлекать на 30% больше пользователей   \n",
       "6  Показать на главной странице баннеры с актуальными акциями и распродажами, чтобы увеличить конве...   \n",
       "8                                              Запустить акцию, дающую скидку на товар в день рождения   \n",
       "3  Изменить структура категорий, что увеличит конверсию, т.к. пользователи быстрее найдут нужный товар   \n",
       "1                            Запустить собственную службу доставки, что сократит срок доставки заказов   \n",
       "5             Добавить страницу отзывов клиентов о магазине, что позволит увеличить количество заказов   \n",
       "4                     Изменить цвет фона главной страницы, чтобы увеличить вовлеченность пользователей   \n",
       "\n",
       "    RICE  \n",
       "7  112.0  \n",
       "2   56.0  \n",
       "0   40.0  \n",
       "6   40.0  \n",
       "8   16.2  \n",
       "3    9.0  \n",
       "1    4.0  \n",
       "5    4.0  \n",
       "4    3.0  "
      ]
     },
     "execution_count": 8,
     "metadata": {},
     "output_type": "execute_result"
    }
   ],
   "source": [
    "df['RICE'] = (df['reach'] * df['impact'] * df['confidence']) / df['efforts']\n",
    "df[['hypothesis', 'RICE']].sort_values(by='RICE', ascending=False)"
   ]
  },
  {
   "cell_type": "markdown",
   "metadata": {},
   "source": [
    "### Вывод"
   ]
  },
  {
   "cell_type": "markdown",
   "metadata": {},
   "source": [
    "Приоритезация изменилась. Но 3 важных гипотез сохранились(7, 6, 0) просто изменилс их приоритет. Так случилось, потому что параметр confidence равен 9, это больше, чем у других"
   ]
  },
  {
   "cell_type": "markdown",
   "metadata": {},
   "source": [
    "## Анализ A/B-теста"
   ]
  },
  {
   "cell_type": "markdown",
   "metadata": {},
   "source": [
    "Изучим результаты тестов"
   ]
  },
  {
   "cell_type": "code",
   "execution_count": 9,
   "metadata": {},
   "outputs": [],
   "source": [
    "orders = pd.read_csv('/datasets/orders.csv')\n",
    "visitors = pd.read_csv('/datasets/visitors.csv')"
   ]
  },
  {
   "cell_type": "code",
   "execution_count": 10,
   "metadata": {},
   "outputs": [
    {
     "name": "stdout",
     "output_type": "stream",
     "text": [
      "<class 'pandas.core.frame.DataFrame'>\n",
      "RangeIndex: 1197 entries, 0 to 1196\n",
      "Data columns (total 5 columns):\n",
      " #   Column         Non-Null Count  Dtype \n",
      "---  ------         --------------  ----- \n",
      " 0   transactionId  1197 non-null   int64 \n",
      " 1   visitorId      1197 non-null   int64 \n",
      " 2   date           1197 non-null   object\n",
      " 3   revenue        1197 non-null   int64 \n",
      " 4   group          1197 non-null   object\n",
      "dtypes: int64(3), object(2)\n",
      "memory usage: 46.9+ KB\n",
      "<class 'pandas.core.frame.DataFrame'>\n",
      "RangeIndex: 62 entries, 0 to 61\n",
      "Data columns (total 3 columns):\n",
      " #   Column    Non-Null Count  Dtype \n",
      "---  ------    --------------  ----- \n",
      " 0   date      62 non-null     object\n",
      " 1   group     62 non-null     object\n",
      " 2   visitors  62 non-null     int64 \n",
      "dtypes: int64(1), object(2)\n",
      "memory usage: 1.6+ KB\n"
     ]
    }
   ],
   "source": [
    "orders.info()\n",
    "visitors.info()"
   ]
  },
  {
   "cell_type": "markdown",
   "metadata": {},
   "source": [
    "Приведем  заголовки в нужный силь:"
   ]
  },
  {
   "cell_type": "code",
   "execution_count": 11,
   "metadata": {},
   "outputs": [],
   "source": [
    "orders = orders.rename(columns={\"transactionId\":\"transaction_id\", \"visitorId\" : \"visitor_id\"})"
   ]
  },
  {
   "cell_type": "code",
   "execution_count": 12,
   "metadata": {},
   "outputs": [
    {
     "data": {
      "text/html": [
       "<div>\n",
       "<style scoped>\n",
       "    .dataframe tbody tr th:only-of-type {\n",
       "        vertical-align: middle;\n",
       "    }\n",
       "\n",
       "    .dataframe tbody tr th {\n",
       "        vertical-align: top;\n",
       "    }\n",
       "\n",
       "    .dataframe thead th {\n",
       "        text-align: right;\n",
       "    }\n",
       "</style>\n",
       "<table border=\"1\" class=\"dataframe\">\n",
       "  <thead>\n",
       "    <tr style=\"text-align: right;\">\n",
       "      <th></th>\n",
       "      <th>date</th>\n",
       "      <th>group</th>\n",
       "      <th>visitors</th>\n",
       "    </tr>\n",
       "  </thead>\n",
       "  <tbody>\n",
       "    <tr>\n",
       "      <th>0</th>\n",
       "      <td>2019-08-01</td>\n",
       "      <td>A</td>\n",
       "      <td>719</td>\n",
       "    </tr>\n",
       "    <tr>\n",
       "      <th>1</th>\n",
       "      <td>2019-08-02</td>\n",
       "      <td>A</td>\n",
       "      <td>619</td>\n",
       "    </tr>\n",
       "    <tr>\n",
       "      <th>2</th>\n",
       "      <td>2019-08-03</td>\n",
       "      <td>A</td>\n",
       "      <td>507</td>\n",
       "    </tr>\n",
       "    <tr>\n",
       "      <th>3</th>\n",
       "      <td>2019-08-04</td>\n",
       "      <td>A</td>\n",
       "      <td>717</td>\n",
       "    </tr>\n",
       "    <tr>\n",
       "      <th>4</th>\n",
       "      <td>2019-08-05</td>\n",
       "      <td>A</td>\n",
       "      <td>756</td>\n",
       "    </tr>\n",
       "    <tr>\n",
       "      <th>5</th>\n",
       "      <td>2019-08-06</td>\n",
       "      <td>A</td>\n",
       "      <td>667</td>\n",
       "    </tr>\n",
       "    <tr>\n",
       "      <th>6</th>\n",
       "      <td>2019-08-07</td>\n",
       "      <td>A</td>\n",
       "      <td>644</td>\n",
       "    </tr>\n",
       "    <tr>\n",
       "      <th>7</th>\n",
       "      <td>2019-08-08</td>\n",
       "      <td>A</td>\n",
       "      <td>610</td>\n",
       "    </tr>\n",
       "    <tr>\n",
       "      <th>8</th>\n",
       "      <td>2019-08-09</td>\n",
       "      <td>A</td>\n",
       "      <td>617</td>\n",
       "    </tr>\n",
       "    <tr>\n",
       "      <th>9</th>\n",
       "      <td>2019-08-10</td>\n",
       "      <td>A</td>\n",
       "      <td>406</td>\n",
       "    </tr>\n",
       "  </tbody>\n",
       "</table>\n",
       "</div>"
      ],
      "text/plain": [
       "         date group  visitors\n",
       "0  2019-08-01     A       719\n",
       "1  2019-08-02     A       619\n",
       "2  2019-08-03     A       507\n",
       "3  2019-08-04     A       717\n",
       "4  2019-08-05     A       756\n",
       "5  2019-08-06     A       667\n",
       "6  2019-08-07     A       644\n",
       "7  2019-08-08     A       610\n",
       "8  2019-08-09     A       617\n",
       "9  2019-08-10     A       406"
      ]
     },
     "execution_count": 12,
     "metadata": {},
     "output_type": "execute_result"
    }
   ],
   "source": [
    "visitors.head(10)"
   ]
  },
  {
   "cell_type": "markdown",
   "metadata": {},
   "source": [
    "Изменим тип даты на datetime"
   ]
  },
  {
   "cell_type": "code",
   "execution_count": 13,
   "metadata": {},
   "outputs": [],
   "source": [
    "orders['date'] = pd.to_datetime(orders['date'])\n",
    "visitors['date'] = pd.to_datetime(visitors['date'])"
   ]
  },
  {
   "cell_type": "code",
   "execution_count": 14,
   "metadata": {},
   "outputs": [
    {
     "name": "stdout",
     "output_type": "stream",
     "text": [
      "<class 'pandas.core.frame.DataFrame'>\n",
      "RangeIndex: 1197 entries, 0 to 1196\n",
      "Data columns (total 5 columns):\n",
      " #   Column          Non-Null Count  Dtype         \n",
      "---  ------          --------------  -----         \n",
      " 0   transaction_id  1197 non-null   int64         \n",
      " 1   visitor_id      1197 non-null   int64         \n",
      " 2   date            1197 non-null   datetime64[ns]\n",
      " 3   revenue         1197 non-null   int64         \n",
      " 4   group           1197 non-null   object        \n",
      "dtypes: datetime64[ns](1), int64(3), object(1)\n",
      "memory usage: 46.9+ KB\n",
      "<class 'pandas.core.frame.DataFrame'>\n",
      "RangeIndex: 62 entries, 0 to 61\n",
      "Data columns (total 3 columns):\n",
      " #   Column    Non-Null Count  Dtype         \n",
      "---  ------    --------------  -----         \n",
      " 0   date      62 non-null     datetime64[ns]\n",
      " 1   group     62 non-null     object        \n",
      " 2   visitors  62 non-null     int64         \n",
      "dtypes: datetime64[ns](1), int64(1), object(1)\n",
      "memory usage: 1.6+ KB\n"
     ]
    }
   ],
   "source": [
    "orders.info()\n",
    "visitors.info()"
   ]
  },
  {
   "cell_type": "markdown",
   "metadata": {},
   "source": [
    "Так как при A/B тестах - мы должны тестировать гипотезы на разных независимых группах, то проверим не пересекаются ли данные группы"
   ]
  },
  {
   "cell_type": "code",
   "execution_count": 15,
   "metadata": {},
   "outputs": [
    {
     "name": "stdout",
     "output_type": "stream",
     "text": [
      "58\n",
      "[   8300375  199603092  232979603  237748145  276558944  351125977\n",
      "  393266494  457167155  471551937  477780734  818047933  963407295\n",
      " 1230306981 1294878855 1316129916 1333886533 1404934699 1602967004\n",
      " 1614305549 1648269707 1668030113 1738359350 1801183820 1959144690\n",
      " 2038680547 2044997962 2378935119 2458001652 2579882178 2587333274\n",
      " 2600415354 2654030115 2686716486 2712142231 2716752286 2780786433\n",
      " 2927087541 2949041841 2954449915 3062433592 3202540741 3234906277\n",
      " 3656415546 3717692402 3766097110 3803269165 3891541246 3941795274\n",
      " 3951559397 3957174400 3963646447 3972127743 3984495233 4069496402\n",
      " 4120364173 4186807279 4256040402 4266935830]\n"
     ]
    }
   ],
   "source": [
    "intersected_orders = np.intersect1d(orders.query('group == \"A\"')['visitor_id'].unique(),\n",
    "                                  orders.query('group == \"B\"')['visitor_id'].unique())\n",
    "print(len(intersected_orders))\n",
    "print(intersected_orders)"
   ]
  },
  {
   "cell_type": "markdown",
   "metadata": {},
   "source": [
    "Вот и нашлись дубликаты. Создадим новый DateFrame без повторяющихся пользователей."
   ]
  },
  {
   "cell_type": "code",
   "execution_count": 16,
   "metadata": {},
   "outputs": [
    {
     "data": {
      "text/plain": [
       "973"
      ]
     },
     "execution_count": 16,
     "metadata": {},
     "output_type": "execute_result"
    }
   ],
   "source": [
    "new_orders = orders.query('visitor_id not in @intersected_visitors')\n",
    "len(new_orders['visitor_id'].unique())"
   ]
  },
  {
   "cell_type": "code",
   "execution_count": 17,
   "metadata": {},
   "outputs": [
    {
     "name": "stdout",
     "output_type": "stream",
     "text": [
      "       visitor_id\n",
      "group            \n",
      "A             445\n",
      "B             528\n",
      "visitor_id    973\n",
      "dtype: int64\n"
     ]
    }
   ],
   "source": [
    "print(new_orders.groupby('group').agg({'visitor_id' : 'nunique'}))\n",
    "print(new_orders.groupby('group').agg({'visitor_id' : 'nunique'}).sum())"
   ]
  },
  {
   "cell_type": "markdown",
   "metadata": {},
   "source": [
    "Теперь все впорядке, можно работать с этими данными"
   ]
  },
  {
   "cell_type": "code",
   "execution_count": 18,
   "metadata": {},
   "outputs": [
    {
     "data": {
      "text/plain": [
       "array(['B', 'A'], dtype=object)"
      ]
     },
     "execution_count": 18,
     "metadata": {},
     "output_type": "execute_result"
    }
   ],
   "source": [
    "new_orders['group'].unique() # посчитаем сколько групп в АВ-тесте"
   ]
  },
  {
   "cell_type": "code",
   "execution_count": 19,
   "metadata": {},
   "outputs": [
    {
     "data": {
      "text/plain": [
       "Timestamp('2019-08-01 00:00:00')"
      ]
     },
     "execution_count": 19,
     "metadata": {},
     "output_type": "execute_result"
    }
   ],
   "source": [
    "new_orders['date'].min() #датa начала теста;"
   ]
  },
  {
   "cell_type": "code",
   "execution_count": 20,
   "metadata": {},
   "outputs": [
    {
     "data": {
      "text/plain": [
       "Timestamp('2019-08-31 00:00:00')"
      ]
     },
     "execution_count": 20,
     "metadata": {},
     "output_type": "execute_result"
    }
   ],
   "source": [
    "new_orders['date'].max() #датa окончания теста;"
   ]
  },
  {
   "cell_type": "code",
   "execution_count": 21,
   "metadata": {},
   "outputs": [],
   "source": [
    "first = new_orders[['date', 'group']] "
   ]
  },
  {
   "cell_type": "markdown",
   "metadata": {},
   "source": [
    "### График кумулятивной выручки по группам"
   ]
  },
  {
   "cell_type": "code",
   "execution_count": 22,
   "metadata": {},
   "outputs": [
    {
     "data": {
      "text/plain": [
       "<matplotlib.legend.Legend at 0x7fb2a22fe130>"
      ]
     },
     "execution_count": 22,
     "metadata": {},
     "output_type": "execute_result"
    },
    {
     "data": {
      "image/png": "[encoded data removed]",
      "text/plain": [
       "<Figure size 432x288 with 1 Axes>"
      ]
     },
     "metadata": {
      "needs_background": "light"
     },
     "output_type": "display_data"
    }
   ],
   "source": [
    "ordersAggregated = first.apply(\n",
    "    lambda x: new_orders[\n",
    "        np.logical_and(\n",
    "            new_orders['date'] <= x['date'], orders['group'] == x['group']\n",
    "        )\n",
    "    ].agg(\n",
    "        {\n",
    "            'date': 'max',\n",
    "            'group': 'max',\n",
    "            'transaction_id': 'nunique',\n",
    "            'visitor_id': 'nunique',\n",
    "            'revenue': 'sum',\n",
    "        }\n",
    "    ),\n",
    "    axis=1,\n",
    ").sort_values(by=['date', 'group'])\n",
    "\n",
    "visitorsAggregated = first.apply(\n",
    "    lambda x: visitors[\n",
    "        np.logical_and(\n",
    "            visitors['date'] <= x['date'], visitors['group'] == x['group']\n",
    "        )\n",
    "    ].agg({'date': 'max', 'group': 'max', 'visitors': 'sum'}),\n",
    "    axis=1,\n",
    ").sort_values(by=['date', 'group'])\n",
    "\n",
    "cumulativeData = ordersAggregated.merge(\n",
    "    visitorsAggregated, left_on=['date', 'group'], right_on=['date', 'group']\n",
    ")\n",
    "cumulativeData.columns = [\n",
    "    'date',\n",
    "    'group',\n",
    "    'orders',\n",
    "    'buyers',\n",
    "    'revenue',\n",
    "    'visitors',\n",
    "]\n",
    "cumulativeRevenueA = cumulativeData[cumulativeData['group']=='A'][['date','revenue', 'orders']]\n",
    "\n",
    "cumulativeRevenueB = cumulativeData[cumulativeData['group']=='B'][['date','revenue', 'orders']]\n",
    "\n",
    "\n",
    "plt.plot(cumulativeRevenueA['revenue'], label='A')\n",
    "\n",
    "plt.plot(cumulativeRevenueB['revenue'], label='B')\n",
    "\n",
    "plt.title('График кумулятивной выручки по группам')\n",
    "\n",
    "plt.xlabel('Выручка заказа')\n",
    "\n",
    "\n",
    "plt.legend() \n"
   ]
  },
  {
   "cell_type": "markdown",
   "metadata": {},
   "source": [
    "Сегмент В в середине вырывается в  лидерство, а  сектор А плавно повышается."
   ]
  },
  {
   "cell_type": "code",
   "execution_count": 23,
   "metadata": {},
   "outputs": [
    {
     "data": {
      "text/html": [
       "<div>\n",
       "<style scoped>\n",
       "    .dataframe tbody tr th:only-of-type {\n",
       "        vertical-align: middle;\n",
       "    }\n",
       "\n",
       "    .dataframe tbody tr th {\n",
       "        vertical-align: top;\n",
       "    }\n",
       "\n",
       "    .dataframe thead th {\n",
       "        text-align: right;\n",
       "    }\n",
       "</style>\n",
       "<table border=\"1\" class=\"dataframe\">\n",
       "  <thead>\n",
       "    <tr style=\"text-align: right;\">\n",
       "      <th></th>\n",
       "      <th>transaction_id</th>\n",
       "      <th>visitor_id</th>\n",
       "      <th>date</th>\n",
       "      <th>revenue</th>\n",
       "      <th>group</th>\n",
       "    </tr>\n",
       "  </thead>\n",
       "  <tbody>\n",
       "    <tr>\n",
       "      <th>898</th>\n",
       "      <td>1035705992</td>\n",
       "      <td>1396482013</td>\n",
       "      <td>2019-08-21</td>\n",
       "      <td>17300</td>\n",
       "      <td>B</td>\n",
       "    </tr>\n",
       "    <tr>\n",
       "      <th>753</th>\n",
       "      <td>2271171213</td>\n",
       "      <td>2162167602</td>\n",
       "      <td>2019-08-21</td>\n",
       "      <td>19660</td>\n",
       "      <td>B</td>\n",
       "    </tr>\n",
       "    <tr>\n",
       "      <th>768</th>\n",
       "      <td>2102403691</td>\n",
       "      <td>2213855729</td>\n",
       "      <td>2019-08-21</td>\n",
       "      <td>2355</td>\n",
       "      <td>B</td>\n",
       "    </tr>\n",
       "    <tr>\n",
       "      <th>815</th>\n",
       "      <td>1722971027</td>\n",
       "      <td>1786280350</td>\n",
       "      <td>2019-08-21</td>\n",
       "      <td>250</td>\n",
       "      <td>B</td>\n",
       "    </tr>\n",
       "    <tr>\n",
       "      <th>840</th>\n",
       "      <td>234238251</td>\n",
       "      <td>2742574263</td>\n",
       "      <td>2019-08-21</td>\n",
       "      <td>9448</td>\n",
       "      <td>B</td>\n",
       "    </tr>\n",
       "    <tr>\n",
       "      <th>841</th>\n",
       "      <td>3730368751</td>\n",
       "      <td>1669393038</td>\n",
       "      <td>2019-08-21</td>\n",
       "      <td>10170</td>\n",
       "      <td>B</td>\n",
       "    </tr>\n",
       "    <tr>\n",
       "      <th>839</th>\n",
       "      <td>2368020497</td>\n",
       "      <td>2870367609</td>\n",
       "      <td>2019-08-21</td>\n",
       "      <td>1410</td>\n",
       "      <td>B</td>\n",
       "    </tr>\n",
       "    <tr>\n",
       "      <th>891</th>\n",
       "      <td>3608152685</td>\n",
       "      <td>3796654595</td>\n",
       "      <td>2019-08-21</td>\n",
       "      <td>3740</td>\n",
       "      <td>B</td>\n",
       "    </tr>\n",
       "    <tr>\n",
       "      <th>950</th>\n",
       "      <td>627172106</td>\n",
       "      <td>3074968175</td>\n",
       "      <td>2019-08-21</td>\n",
       "      <td>24350</td>\n",
       "      <td>B</td>\n",
       "    </tr>\n",
       "    <tr>\n",
       "      <th>945</th>\n",
       "      <td>1364984427</td>\n",
       "      <td>2010516786</td>\n",
       "      <td>2019-08-21</td>\n",
       "      <td>15485</td>\n",
       "      <td>B</td>\n",
       "    </tr>\n",
       "    <tr>\n",
       "      <th>890</th>\n",
       "      <td>1192185169</td>\n",
       "      <td>2853587382</td>\n",
       "      <td>2019-08-21</td>\n",
       "      <td>30649</td>\n",
       "      <td>B</td>\n",
       "    </tr>\n",
       "    <tr>\n",
       "      <th>920</th>\n",
       "      <td>3057892078</td>\n",
       "      <td>249864742</td>\n",
       "      <td>2019-08-21</td>\n",
       "      <td>5530</td>\n",
       "      <td>B</td>\n",
       "    </tr>\n",
       "    <tr>\n",
       "      <th>978</th>\n",
       "      <td>123992977</td>\n",
       "      <td>406208401</td>\n",
       "      <td>2019-08-22</td>\n",
       "      <td>2640</td>\n",
       "      <td>B</td>\n",
       "    </tr>\n",
       "    <tr>\n",
       "      <th>951</th>\n",
       "      <td>965979600</td>\n",
       "      <td>48147722</td>\n",
       "      <td>2019-08-22</td>\n",
       "      <td>1090</td>\n",
       "      <td>B</td>\n",
       "    </tr>\n",
       "    <tr>\n",
       "      <th>974</th>\n",
       "      <td>836739159</td>\n",
       "      <td>4283872382</td>\n",
       "      <td>2019-08-22</td>\n",
       "      <td>3806</td>\n",
       "      <td>B</td>\n",
       "    </tr>\n",
       "    <tr>\n",
       "      <th>975</th>\n",
       "      <td>3492564891</td>\n",
       "      <td>228221722</td>\n",
       "      <td>2019-08-22</td>\n",
       "      <td>12336</td>\n",
       "      <td>B</td>\n",
       "    </tr>\n",
       "    <tr>\n",
       "      <th>976</th>\n",
       "      <td>260086319</td>\n",
       "      <td>2156256996</td>\n",
       "      <td>2019-08-22</td>\n",
       "      <td>2907</td>\n",
       "      <td>B</td>\n",
       "    </tr>\n",
       "    <tr>\n",
       "      <th>977</th>\n",
       "      <td>3457754169</td>\n",
       "      <td>3752369942</td>\n",
       "      <td>2019-08-22</td>\n",
       "      <td>971</td>\n",
       "      <td>B</td>\n",
       "    </tr>\n",
       "    <tr>\n",
       "      <th>87</th>\n",
       "      <td>2304731149</td>\n",
       "      <td>2295217812</td>\n",
       "      <td>2019-08-22</td>\n",
       "      <td>382</td>\n",
       "      <td>B</td>\n",
       "    </tr>\n",
       "    <tr>\n",
       "      <th>132</th>\n",
       "      <td>665271848</td>\n",
       "      <td>3873846164</td>\n",
       "      <td>2019-08-22</td>\n",
       "      <td>6922</td>\n",
       "      <td>B</td>\n",
       "    </tr>\n",
       "  </tbody>\n",
       "</table>\n",
       "</div>"
      ],
      "text/plain": [
       "     transaction_id  visitor_id       date  revenue group\n",
       "898      1035705992  1396482013 2019-08-21    17300     B\n",
       "753      2271171213  2162167602 2019-08-21    19660     B\n",
       "768      2102403691  2213855729 2019-08-21     2355     B\n",
       "815      1722971027  1786280350 2019-08-21      250     B\n",
       "840       234238251  2742574263 2019-08-21     9448     B\n",
       "841      3730368751  1669393038 2019-08-21    10170     B\n",
       "839      2368020497  2870367609 2019-08-21     1410     B\n",
       "891      3608152685  3796654595 2019-08-21     3740     B\n",
       "950       627172106  3074968175 2019-08-21    24350     B\n",
       "945      1364984427  2010516786 2019-08-21    15485     B\n",
       "890      1192185169  2853587382 2019-08-21    30649     B\n",
       "920      3057892078   249864742 2019-08-21     5530     B\n",
       "978       123992977   406208401 2019-08-22     2640     B\n",
       "951       965979600    48147722 2019-08-22     1090     B\n",
       "974       836739159  4283872382 2019-08-22     3806     B\n",
       "975      3492564891   228221722 2019-08-22    12336     B\n",
       "976       260086319  2156256996 2019-08-22     2907     B\n",
       "977      3457754169  3752369942 2019-08-22      971     B\n",
       "87       2304731149  2295217812 2019-08-22      382     B\n",
       "132       665271848  3873846164 2019-08-22     6922     B"
      ]
     },
     "execution_count": 23,
     "metadata": {},
     "output_type": "execute_result"
    }
   ],
   "source": [
    "new_orders.query('group == \"B\"and date > \"2019-08-20\"').sort_values(by='date').head(20)"
   ]
  },
  {
   "cell_type": "markdown",
   "metadata": {},
   "source": [
    "И видимо, всвязи с дорогими заказами и редкими, сектор В и вырвался вперед"
   ]
  },
  {
   "cell_type": "markdown",
   "metadata": {},
   "source": [
    "### График кумулятивного среднего чека по группам"
   ]
  },
  {
   "cell_type": "code",
   "execution_count": 24,
   "metadata": {},
   "outputs": [
    {
     "data": {
      "text/plain": [
       "Text(0.5, 0, 'Выручка заказа')"
      ]
     },
     "execution_count": 24,
     "metadata": {},
     "output_type": "execute_result"
    },
    {
     "data": {
      "image/png": "[encoded data removed]",
      "text/plain": [
       "<Figure size 432x288 with 1 Axes>"
      ]
     },
     "metadata": {
      "needs_background": "light"
     },
     "output_type": "display_data"
    }
   ],
   "source": [
    "plt.plot(cumulativeRevenueA['revenue']/cumulativeRevenueA['orders'], label='A')\n",
    "plt.plot(cumulativeRevenueB['revenue']/cumulativeRevenueB['orders'], label='B')\n",
    "plt.legend() \n",
    "plt.title('График кумулятивного среднего чека по группам')\n",
    "\n",
    "plt.xlabel('Выручка заказа')"
   ]
  },
  {
   "cell_type": "markdown",
   "metadata": {},
   "source": [
    "По графику видно как колеблиться средний чек, но видно, что под конец сегиент В с большим отрывым \"ведёт\", но пока принимать решение еще рано"
   ]
  },
  {
   "cell_type": "markdown",
   "metadata": {},
   "source": [
    "### График относительного изменения кумулятивного среднего чека группы B к группе A"
   ]
  },
  {
   "cell_type": "code",
   "execution_count": 25,
   "metadata": {},
   "outputs": [],
   "source": [
    "mergedCumulativeRevenue = cumulativeRevenueA.merge(\n",
    "                                                  cumulativeRevenueB, \n",
    "                                                  left_on='date', \n",
    "                                                  right_on='date', \n",
    "                                                  how='left', \n",
    "                                                  suffixes=['A', 'B']\n",
    "                                                  )\n"
   ]
  },
  {
   "cell_type": "code",
   "execution_count": 26,
   "metadata": {},
   "outputs": [
    {
     "data": {
      "text/plain": [
       "Text(0.5, 0, 'Дата, когда был совершён заказ')"
      ]
     },
     "execution_count": 26,
     "metadata": {},
     "output_type": "execute_result"
    },
    {
     "data": {
      "image/png": "[encoded data removed]",
      "text/plain": [
       "<Figure size 432x288 with 1 Axes>"
      ]
     },
     "metadata": {
      "needs_background": "light"
     },
     "output_type": "display_data"
    }
   ],
   "source": [
    "plt.plot(mergedCumulativeRevenue['date'], \n",
    "         (mergedCumulativeRevenue['revenueB']/mergedCumulativeRevenue['ordersB'])\n",
    "         /(mergedCumulativeRevenue['revenueA']/mergedCumulativeRevenue['ordersA'])-1)\n",
    "\n",
    "plt.axhline(y=0, color='black', linestyle='--') \n",
    "plt.xticks(rotation=45)\n",
    "plt.title('График относительного изменения кумулятивного среднего чека группы B к группе A')\n",
    "\n",
    "plt.xlabel('Дата, когда был совершён заказ')"
   ]
  },
  {
   "cell_type": "markdown",
   "metadata": {},
   "source": [
    "Нагляднее видно, что средний чек достаточно сильно колебался в первой половине теста"
   ]
  },
  {
   "cell_type": "markdown",
   "metadata": {},
   "source": [
    "### График кумулятивной конверсии по группам"
   ]
  },
  {
   "cell_type": "code",
   "execution_count": 27,
   "metadata": {},
   "outputs": [],
   "source": [
    "cumulativeData['conversion'] = cumulativeData['orders']/cumulativeData['visitors']\n",
    "cumulativeDataA = cumulativeData[cumulativeData['group']=='A']\n",
    "cumulativeDataB = cumulativeData[cumulativeData['group']=='B']"
   ]
  },
  {
   "cell_type": "code",
   "execution_count": 28,
   "metadata": {},
   "outputs": [
    {
     "data": {
      "text/plain": [
       "Text(0.5, 0, 'Выручка заказа')"
      ]
     },
     "execution_count": 28,
     "metadata": {},
     "output_type": "execute_result"
    },
    {
     "data": {
      "image/png": "[encoded data removed]",
      "text/plain": [
       "<Figure size 432x288 with 1 Axes>"
      ]
     },
     "metadata": {
      "needs_background": "light"
     },
     "output_type": "display_data"
    }
   ],
   "source": [
    "plt.plot(cumulativeDataA['conversion'], label='A')\n",
    "plt.plot(cumulativeDataB['conversion'], label='B')\n",
    "plt.legend()\n",
    "plt.title('График кумулятивной конверсии по группам')\n",
    "\n",
    "plt.xlabel('Выручка заказа')"
   ]
  },
  {
   "cell_type": "markdown",
   "metadata": {},
   "source": [
    "В начале теста сегмент А имел большую конверсию, но постепенно сегмент В выровнялся и зафиксировался примерно около одного значения, больше значения сегмента А."
   ]
  },
  {
   "cell_type": "markdown",
   "metadata": {},
   "source": [
    "### График относительного изменения кумулятивной конверсии группы B к группе A. "
   ]
  },
  {
   "cell_type": "code",
   "execution_count": 29,
   "metadata": {},
   "outputs": [],
   "source": [
    "mergedCumulativeConversions = cumulativeDataA[['date','conversion']].merge(cumulativeDataB[['date','conversion']], \n",
    "                            left_on='date', \n",
    "                            right_on='date', \n",
    "                            how='left', suffixes=['A', 'B'])\n"
   ]
  },
  {
   "cell_type": "code",
   "execution_count": 30,
   "metadata": {},
   "outputs": [
    {
     "data": {
      "text/plain": [
       "Text(0.5, 0, 'Дата заказа')"
      ]
     },
     "execution_count": 30,
     "metadata": {},
     "output_type": "execute_result"
    },
    {
     "data": {
      "image/png": "[encoded data removed]",
      "text/plain": [
       "<Figure size 432x288 with 1 Axes>"
      ]
     },
     "metadata": {
      "needs_background": "light"
     },
     "output_type": "display_data"
    }
   ],
   "source": [
    "plt.plot( mergedCumulativeConversions['date'], \n",
    "   mergedCumulativeConversions['conversionB']/mergedCumulativeConversions['conversionA']-1, \n",
    "   label=\"Относительный прирост конверсии группы B относительно группы A\"\n",
    "   )\n",
    "plt.legend(loc = 'lower right')\n",
    "\n",
    "plt.axhline(y=0, color='black', linestyle='--')\n",
    "plt.axhline(y=0.2, color='grey', linestyle='--')\n",
    "plt.xticks(rotation=45)\n",
    "plt.title('График относительного изменения кумулятивной конверсии группы B к группе A')\n",
    "\n",
    "plt.xlabel('Дата заказа')"
   ]
  },
  {
   "cell_type": "markdown",
   "metadata": {},
   "source": [
    "Ближе к середине сегмент В лидирует по конверсии, и зафиксирован прирост 20% относительно сегмент А "
   ]
  },
  {
   "cell_type": "markdown",
   "metadata": {},
   "source": [
    "### Tочечный график количества заказов по пользователям"
   ]
  },
  {
   "cell_type": "markdown",
   "metadata": {},
   "source": [
    "Найдем число заказов по пользователям — создадим датафрейм c двумя столбцами: 'visitor_id' и 'orders'."
   ]
  },
  {
   "cell_type": "code",
   "execution_count": 31,
   "metadata": {},
   "outputs": [
    {
     "data": {
      "text/html": [
       "<div>\n",
       "<style scoped>\n",
       "    .dataframe tbody tr th:only-of-type {\n",
       "        vertical-align: middle;\n",
       "    }\n",
       "\n",
       "    .dataframe tbody tr th {\n",
       "        vertical-align: top;\n",
       "    }\n",
       "\n",
       "    .dataframe thead th {\n",
       "        text-align: right;\n",
       "    }\n",
       "</style>\n",
       "<table border=\"1\" class=\"dataframe\">\n",
       "  <thead>\n",
       "    <tr style=\"text-align: right;\">\n",
       "      <th></th>\n",
       "      <th>visitor_id</th>\n",
       "      <th>orders</th>\n",
       "    </tr>\n",
       "  </thead>\n",
       "  <tbody>\n",
       "    <tr>\n",
       "      <th>908</th>\n",
       "      <td>3967698036</td>\n",
       "      <td>3</td>\n",
       "    </tr>\n",
       "    <tr>\n",
       "      <th>55</th>\n",
       "      <td>249864742</td>\n",
       "      <td>3</td>\n",
       "    </tr>\n",
       "    <tr>\n",
       "      <th>478</th>\n",
       "      <td>2108163459</td>\n",
       "      <td>3</td>\n",
       "    </tr>\n",
       "    <tr>\n",
       "      <th>687</th>\n",
       "      <td>2988190573</td>\n",
       "      <td>3</td>\n",
       "    </tr>\n",
       "    <tr>\n",
       "      <th>890</th>\n",
       "      <td>3908431265</td>\n",
       "      <td>3</td>\n",
       "    </tr>\n",
       "    <tr>\n",
       "      <th>138</th>\n",
       "      <td>611059232</td>\n",
       "      <td>3</td>\n",
       "    </tr>\n",
       "    <tr>\n",
       "      <th>632</th>\n",
       "      <td>2742574263</td>\n",
       "      <td>3</td>\n",
       "    </tr>\n",
       "    <tr>\n",
       "      <th>157</th>\n",
       "      <td>678354126</td>\n",
       "      <td>2</td>\n",
       "    </tr>\n",
       "    <tr>\n",
       "      <th>323</th>\n",
       "      <td>1404560065</td>\n",
       "      <td>2</td>\n",
       "    </tr>\n",
       "    <tr>\n",
       "      <th>452</th>\n",
       "      <td>1985475298</td>\n",
       "      <td>2</td>\n",
       "    </tr>\n",
       "  </tbody>\n",
       "</table>\n",
       "</div>"
      ],
      "text/plain": [
       "     visitor_id  orders\n",
       "908  3967698036       3\n",
       "55    249864742       3\n",
       "478  2108163459       3\n",
       "687  2988190573       3\n",
       "890  3908431265       3\n",
       "138   611059232       3\n",
       "632  2742574263       3\n",
       "157   678354126       2\n",
       "323  1404560065       2\n",
       "452  1985475298       2"
      ]
     },
     "execution_count": 31,
     "metadata": {},
     "output_type": "execute_result"
    }
   ],
   "source": [
    "ordersByUsers = (\n",
    "    new_orders.groupby('visitor_id', as_index=False)\n",
    "    .agg({'transaction_id': 'nunique'})\n",
    ")\n",
    "ordersByUsers.columns = ['visitor_id', 'orders']\n",
    "\n",
    "ordersByUsers.sort_values(by='orders', ascending=False).head(10)"
   ]
  },
  {
   "cell_type": "code",
   "execution_count": 32,
   "metadata": {},
   "outputs": [
    {
     "data": {
      "text/plain": [
       "Text(0, 0.5, 'Cумма заказа')"
      ]
     },
     "execution_count": 32,
     "metadata": {},
     "output_type": "execute_result"
    },
    {
     "data": {
      "image/png": "[encoded data removed]",
      "text/plain": [
       "<Figure size 432x288 with 1 Axes>"
      ]
     },
     "metadata": {
      "needs_background": "light"
     },
     "output_type": "display_data"
    }
   ],
   "source": [
    "x_values = pd.Series(range(0,len(ordersByUsers))) #сгенерированные номера наблюдений\n",
    "\n",
    "plt.scatter(x_values, ordersByUsers['orders']) \n",
    "\n",
    "x_values = pd.Series(range(0, len(ordersByUsers)))\n",
    "plt.title('График количества заказов по пользователям')\n",
    "\n",
    "plt.ylabel('Cумма заказа')"
   ]
  },
  {
   "cell_type": "markdown",
   "metadata": {},
   "source": [
    "Пользователей заказавших больше 1 раза гораздо меньше, и как мы видим максимальное количество заказов всего 3 и таких пользователей очень мало. Это нехорошо. Большинство пользователей после первой покупки не совершают покупок больше, а после 2-х 3-й раз лишь единицы покупают. Возможно покупателей неустроило качество товара или сервиса. Может больший поток покупателей приходит на разовые большие скидки и акции, берет что-то нужное по большой скидке и больше не возвращается. Может стоить обратиться в службу поддержки или базу отзывов и узнать в чем причина?"
   ]
  },
  {
   "cell_type": "markdown",
   "metadata": {},
   "source": [
    "### 95-й и 99-й перцентили количества заказов на пользователя"
   ]
  },
  {
   "cell_type": "code",
   "execution_count": 33,
   "metadata": {},
   "outputs": [
    {
     "data": {
      "text/plain": [
       "array([1., 1., 2.])"
      ]
     },
     "execution_count": 33,
     "metadata": {},
     "output_type": "execute_result"
    }
   ],
   "source": [
    "np.percentile(ordersByUsers['orders'], [90, 95, 99])"
   ]
  },
  {
   "cell_type": "markdown",
   "metadata": {},
   "source": [
    "Не более 5% совершили больше 1 заказа  и не более 1% больше 2 заказов."
   ]
  },
  {
   "cell_type": "markdown",
   "metadata": {},
   "source": [
    "### Точечный график стоимостей заказов"
   ]
  },
  {
   "cell_type": "code",
   "execution_count": 34,
   "metadata": {},
   "outputs": [
    {
     "data": {
      "text/html": [
       "<div>\n",
       "<style scoped>\n",
       "    .dataframe tbody tr th:only-of-type {\n",
       "        vertical-align: middle;\n",
       "    }\n",
       "\n",
       "    .dataframe tbody tr th {\n",
       "        vertical-align: top;\n",
       "    }\n",
       "\n",
       "    .dataframe thead th {\n",
       "        text-align: right;\n",
       "    }\n",
       "</style>\n",
       "<table border=\"1\" class=\"dataframe\">\n",
       "  <thead>\n",
       "    <tr style=\"text-align: right;\">\n",
       "      <th></th>\n",
       "      <th>transaction_id</th>\n",
       "      <th>visitor_id</th>\n",
       "      <th>date</th>\n",
       "      <th>revenue</th>\n",
       "      <th>group</th>\n",
       "    </tr>\n",
       "  </thead>\n",
       "  <tbody>\n",
       "    <tr>\n",
       "      <th>425</th>\n",
       "      <td>590470918</td>\n",
       "      <td>1920142716</td>\n",
       "      <td>2019-08-19</td>\n",
       "      <td>1294500</td>\n",
       "      <td>B</td>\n",
       "    </tr>\n",
       "    <tr>\n",
       "      <th>1196</th>\n",
       "      <td>3936777065</td>\n",
       "      <td>2108080724</td>\n",
       "      <td>2019-08-15</td>\n",
       "      <td>202740</td>\n",
       "      <td>B</td>\n",
       "    </tr>\n",
       "    <tr>\n",
       "      <th>1136</th>\n",
       "      <td>666610489</td>\n",
       "      <td>1307669133</td>\n",
       "      <td>2019-08-13</td>\n",
       "      <td>92550</td>\n",
       "      <td>A</td>\n",
       "    </tr>\n",
       "    <tr>\n",
       "      <th>744</th>\n",
       "      <td>3668308183</td>\n",
       "      <td>888512513</td>\n",
       "      <td>2019-08-27</td>\n",
       "      <td>86620</td>\n",
       "      <td>B</td>\n",
       "    </tr>\n",
       "    <tr>\n",
       "      <th>743</th>\n",
       "      <td>3603576309</td>\n",
       "      <td>4133034833</td>\n",
       "      <td>2019-08-09</td>\n",
       "      <td>67990</td>\n",
       "      <td>A</td>\n",
       "    </tr>\n",
       "    <tr>\n",
       "      <th>1103</th>\n",
       "      <td>1348774318</td>\n",
       "      <td>1164614297</td>\n",
       "      <td>2019-08-12</td>\n",
       "      <td>66350</td>\n",
       "      <td>A</td>\n",
       "    </tr>\n",
       "    <tr>\n",
       "      <th>1099</th>\n",
       "      <td>316924019</td>\n",
       "      <td>148427295</td>\n",
       "      <td>2019-08-12</td>\n",
       "      <td>65710</td>\n",
       "      <td>A</td>\n",
       "    </tr>\n",
       "    <tr>\n",
       "      <th>949</th>\n",
       "      <td>1347999392</td>\n",
       "      <td>887908475</td>\n",
       "      <td>2019-08-21</td>\n",
       "      <td>60450</td>\n",
       "      <td>A</td>\n",
       "    </tr>\n",
       "    <tr>\n",
       "      <th>940</th>\n",
       "      <td>2420050534</td>\n",
       "      <td>4003628586</td>\n",
       "      <td>2019-08-08</td>\n",
       "      <td>58550</td>\n",
       "      <td>B</td>\n",
       "    </tr>\n",
       "    <tr>\n",
       "      <th>131</th>\n",
       "      <td>3163614039</td>\n",
       "      <td>2254586615</td>\n",
       "      <td>2019-08-22</td>\n",
       "      <td>53904</td>\n",
       "      <td>A</td>\n",
       "    </tr>\n",
       "  </tbody>\n",
       "</table>\n",
       "</div>"
      ],
      "text/plain": [
       "      transaction_id  visitor_id       date  revenue group\n",
       "425        590470918  1920142716 2019-08-19  1294500     B\n",
       "1196      3936777065  2108080724 2019-08-15   202740     B\n",
       "1136       666610489  1307669133 2019-08-13    92550     A\n",
       "744       3668308183   888512513 2019-08-27    86620     B\n",
       "743       3603576309  4133034833 2019-08-09    67990     A\n",
       "1103      1348774318  1164614297 2019-08-12    66350     A\n",
       "1099       316924019   148427295 2019-08-12    65710     A\n",
       "949       1347999392   887908475 2019-08-21    60450     A\n",
       "940       2420050534  4003628586 2019-08-08    58550     B\n",
       "131       3163614039  2254586615 2019-08-22    53904     A"
      ]
     },
     "execution_count": 34,
     "metadata": {},
     "output_type": "execute_result"
    }
   ],
   "source": [
    "new_orders.sort_values(by='revenue', ascending=False).head(10)"
   ]
  },
  {
   "cell_type": "code",
   "execution_count": 35,
   "metadata": {},
   "outputs": [
    {
     "data": {
      "text/plain": [
       "Text(0, 0.5, 'Выручка заказа')"
      ]
     },
     "execution_count": 35,
     "metadata": {},
     "output_type": "execute_result"
    },
    {
     "data": {
      "image/png": "[encoded data removed]",
      "text/plain": [
       "<Figure size 432x288 with 1 Axes>"
      ]
     },
     "metadata": {
      "needs_background": "light"
     },
     "output_type": "display_data"
    }
   ],
   "source": [
    "x_values = pd.Series(range(0, len(new_orders['revenue'])))\n",
    "plt.scatter(x_values, new_orders['revenue'])\n",
    "plt.title('График стоимостей заказов')\n",
    "\n",
    "plt.ylabel('Выручка заказа')"
   ]
  },
  {
   "cell_type": "markdown",
   "metadata": {},
   "source": [
    "Заказов стоимостью сыше 200 000 рублей не очень много. Есть выбросы в районе чуть выше 200000 рублей и в районе 1 200 000 рублей. Один заказ на 1 294 500\tрублей  и один на 202 740 рублей выглядят странно."
   ]
  },
  {
   "cell_type": "code",
   "execution_count": 36,
   "metadata": {},
   "outputs": [
    {
     "data": {
      "text/plain": [
       "Text(0, 0.5, 'Выручка заказа')"
      ]
     },
     "execution_count": 36,
     "metadata": {},
     "output_type": "execute_result"
    },
    {
     "data": {
      "image/png": "[encoded data removed]",
      "text/plain": [
       "<Figure size 432x288 with 1 Axes>"
      ]
     },
     "metadata": {
      "needs_background": "light"
     },
     "output_type": "display_data"
    }
   ],
   "source": [
    "multiple = new_orders.query('revenue < 200000')\n",
    "\n",
    "x_values = pd.Series(range(0, len(multiple['revenue'])))\n",
    "plt.scatter(x_values, multiple['revenue'])\n",
    "plt.title('График стоимостей заказов')\n",
    "\n",
    "plt.ylabel('Выручка заказа')"
   ]
  },
  {
   "cell_type": "markdown",
   "metadata": {},
   "source": [
    "### 95-й и 99-й перцентили стоимости заказов"
   ]
  },
  {
   "cell_type": "code",
   "execution_count": 37,
   "metadata": {},
   "outputs": [
    {
     "data": {
      "text/plain": [
       "array([17990., 26785., 53904.])"
      ]
     },
     "execution_count": 37,
     "metadata": {},
     "output_type": "execute_result"
    }
   ],
   "source": [
    "np.percentile(new_orders['revenue'], [90, 95, 99])"
   ]
  },
  {
   "cell_type": "markdown",
   "metadata": {},
   "source": [
    "Не более 5% заказов дороже 26 785 рублей и не более 1% дороже 53 904 рублей"
   ]
  },
  {
   "cell_type": "markdown",
   "metadata": {},
   "source": [
    "### Статистическая значимость различий в конверсии между группами по «сырым» данным"
   ]
  },
  {
   "cell_type": "markdown",
   "metadata": {},
   "source": [
    " Нулевая гипотеза Н0 - различий в конверсии между группами нет. \n",
    " \n",
    " Альтернативная гипотеза Н1: различия в конверсии между группами есть."
   ]
  },
  {
   "cell_type": "code",
   "execution_count": 38,
   "metadata": {},
   "outputs": [
    {
     "name": "stdout",
     "output_type": "stream",
     "text": [
      "Значение р-value: 0.01102\n",
      "Прирост конверсии группы В к конверсии группы А равен: 0.160\n"
     ]
    }
   ],
   "source": [
    "visitorsADaily = visitors[visitors['group'] == 'A'][['date', 'visitors']]\n",
    "visitorsADaily.columns = ['date', 'visitorsPerDateA']\n",
    "\n",
    "visitorsACummulative = visitorsADaily.apply(\n",
    "    lambda x: visitorsADaily[visitorsADaily['date'] <= x['date']].agg(\n",
    "        {'date': 'max', 'visitorsPerDateA': 'sum'}\n",
    "    ),\n",
    "    axis=1,\n",
    ")\n",
    "visitorsACummulative.columns = ['date', 'visitorsCummulativeA']\n",
    "\n",
    "visitorsBDaily = visitors[visitors['group'] == 'B'][['date', 'visitors']]\n",
    "visitorsBDaily.columns = ['date', 'visitorsPerDateB']\n",
    "\n",
    "visitorsBCummulative = visitorsBDaily.apply(\n",
    "    lambda x: visitorsBDaily[visitorsBDaily['date'] <= x['date']].agg(\n",
    "        {'date': 'max', 'visitorsPerDateB': 'sum'}\n",
    "    ),\n",
    "    axis=1,\n",
    ")\n",
    "visitorsBCummulative.columns = ['date', 'visitorsCummulativeB']\n",
    "\n",
    "ordersADaily = (\n",
    "    new_orders[new_orders['group'] == 'A'][['date', 'transaction_id', 'visitor_id', 'revenue']]\n",
    "    .groupby('date', as_index=False)\n",
    "    .agg({'transaction_id': pd.Series.nunique, 'revenue': 'sum'})\n",
    ")\n",
    "ordersADaily.columns = ['date', 'ordersPerDateA', 'revenuePerDateA']\n",
    "\n",
    "ordersACummulative = ordersADaily.apply(\n",
    "    lambda x: ordersADaily[ordersADaily['date'] <= x['date']].agg(\n",
    "        {'date': 'max', 'ordersPerDateA': 'sum', 'revenuePerDateA': 'sum'}\n",
    "    ),\n",
    "    axis=1,\n",
    ").sort_values(by=['date'])\n",
    "ordersACummulative.columns = [\n",
    "    'date',\n",
    "    'ordersCummulativeA',\n",
    "    'revenueCummulativeA',\n",
    "]\n",
    "\n",
    "ordersBDaily = (\n",
    "    new_orders[new_orders['group'] == 'B'][['date', 'transaction_id', 'visitor_id', 'revenue']]\n",
    "    .groupby('date', as_index=False)\n",
    "    .agg({'transaction_id': pd.Series.nunique, 'revenue': 'sum'})\n",
    ")\n",
    "ordersBDaily.columns = ['date', 'ordersPerDateB', 'revenuePerDateB']\n",
    "\n",
    "ordersBCummulative = ordersBDaily.apply(\n",
    "    lambda x: ordersBDaily[ordersBDaily['date'] <= x['date']].agg(\n",
    "        {'date': 'max', 'ordersPerDateB': 'sum', 'revenuePerDateB': 'sum'}\n",
    "    ),\n",
    "    axis=1,\n",
    ").sort_values(by=['date'])\n",
    "ordersBCummulative.columns = [\n",
    "    'date',\n",
    "    'ordersCummulativeB',\n",
    "    'revenueCummulativeB',\n",
    "]\n",
    "\n",
    "data = (\n",
    "    ordersADaily.merge(\n",
    "        ordersBDaily, left_on='date', right_on='date', how='left'\n",
    "    )\n",
    "    .merge(ordersACummulative, left_on='date', right_on='date', how='left')\n",
    "    .merge(ordersBCummulative, left_on='date', right_on='date', how='left')\n",
    "    .merge(visitorsADaily, left_on='date', right_on='date', how='left')\n",
    "    .merge(visitorsBDaily, left_on='date', right_on='date', how='left')\n",
    "    .merge(visitorsACummulative, left_on='date', right_on='date', how='left')\n",
    "    .merge(visitorsBCummulative, left_on='date', right_on='date', how='left')\n",
    ")\n",
    "\n",
    "ordersByUsersA =  (\n",
    "    new_orders[new_orders['group'] == 'A']\n",
    "    .groupby('visitor_id', as_index=False)\n",
    "    .agg({'transaction_id': pd.Series.nunique})\n",
    ")\n",
    "ordersByUsersA.columns = ['visitor_id', 'orders']\n",
    "\n",
    "ordersByUsersB = (\n",
    "    new_orders[new_orders['group'] == 'B']\n",
    "    .groupby('visitor_id', as_index=False)\n",
    "    .agg({'transaction_id': pd.Series.nunique})\n",
    ")\n",
    "ordersByUsersB.columns = ['visitor_id', 'orders']\n",
    "\n",
    "sampleA = pd.concat(\n",
    "    [\n",
    "        ordersByUsersA['orders'],\n",
    "        pd.Series(\n",
    "            0,\n",
    "            index=np.arange(\n",
    "                data['visitorsPerDateA'].sum() - len(ordersByUsersA['orders'])\n",
    "            ),\n",
    "            name='orders',\n",
    "        ),\n",
    "    ],\n",
    "    axis=0,\n",
    ")\n",
    "\n",
    "sampleB = pd.concat(\n",
    "    [\n",
    "        ordersByUsersB['orders'],\n",
    "        pd.Series(\n",
    "            0,\n",
    "            index=np.arange(\n",
    "                data['visitorsPerDateB'].sum() - len(ordersByUsersB['orders'])\n",
    "            ),\n",
    "            name='orders',\n",
    "        ),\n",
    "    ],\n",
    "    axis=0,\n",
    ")\n",
    "\n",
    "print(\"Значение р-value:\", \"{0:.5f}\".format(stats.mannwhitneyu(sampleA, sampleB)[1]))\n",
    "\n",
    "print(\"Прирост конверсии группы В к конверсии группы А равен:\", \"{0:.3f}\".format(sampleB.mean() / sampleA.mean() - 1))\n"
   ]
  },
  {
   "cell_type": "markdown",
   "metadata": {},
   "source": [
    "P-value значительно меньше 0.05, потому нулевую гипотезу отвергаем. Анализ «сырых данных» сообщает, что в конверсии между группами есть статистически значимые различия. Относительный прирост конверсии группы В к конверсии группы А равен 16%. Может действительно группа В успешнее А."
   ]
  },
  {
   "cell_type": "markdown",
   "metadata": {},
   "source": [
    "### Статистическая значимость различий  в среднем чеке заказа между группами по «сырым» данным"
   ]
  },
  {
   "cell_type": "markdown",
   "metadata": {},
   "source": [
    "Нулевая гипотеза Н0 - различий в конверсии между группами нет.\n",
    "\n",
    "Альтернативная гипотеза Н1: различия в конверсии между группами есть."
   ]
  },
  {
   "cell_type": "code",
   "execution_count": 39,
   "metadata": {},
   "outputs": [
    {
     "name": "stdout",
     "output_type": "stream",
     "text": [
      "Значение р-value: 0.829\n",
      "Относительное различие среднего чека между группами: 0.287\n"
     ]
    }
   ],
   "source": [
    "print(\"Значение р-value:\", '{0:.3f}'.format(stats.mannwhitneyu(new_orders[new_orders['group']=='A']['revenue'], \n",
    "                                          new_orders[new_orders['group']=='B']['revenue'])[1]))\n",
    "print(\"Относительное различие среднего чека между группами:\", \n",
    "      '{0:.3f}'.format(new_orders[new_orders['group']=='B']['revenue']\n",
    "      .mean()/new_orders[new_orders['group']=='A']['revenue'].mean()-1))"
   ]
  },
  {
   "cell_type": "markdown",
   "metadata": {},
   "source": [
    "P-value значительно больше 0.05. Значит, причин отвергать нулевую гипотезу и считать, что в среднем чеке есть различия, нет. "
   ]
  },
  {
   "cell_type": "markdown",
   "metadata": {},
   "source": [
    "### Статистическую значимость различий в конверсии между группами по «очищенным» данным"
   ]
  },
  {
   "cell_type": "markdown",
   "metadata": {},
   "source": [
    "Приступим к подготовке очищенных от аномалий данных"
   ]
  },
  {
   "cell_type": "code",
   "execution_count": 40,
   "metadata": {},
   "outputs": [
    {
     "name": "stdout",
     "output_type": "stream",
     "text": [
      "1099    148427295\n",
      "928     204675465\n",
      "33      249864742\n",
      "684     358944393\n",
      "36      366673373\n",
      "Name: visitor_id, dtype: int64\n",
      "86\n"
     ]
    }
   ],
   "source": [
    "usersWithManyOrders = pd.concat(\n",
    "    [\n",
    "        ordersByUsersA[ordersByUsersA['orders'] > 1]['visitor_id'],\n",
    "        ordersByUsersB[ordersByUsersB['orders'] > 1]['visitor_id'],\n",
    "    ],\n",
    "    axis=0,\n",
    ")\n",
    "usersWithExpensiveOrders = orders[orders['revenue'] > 30000]['visitor_id']\n",
    "abnormalUsers = (\n",
    "    pd.concat([usersWithManyOrders, usersWithExpensiveOrders], axis=0)\n",
    "    .drop_duplicates()\n",
    "    .sort_values()\n",
    ")\n",
    "print(abnormalUsers.head(5))\n",
    "print(abnormalUsers.shape[0])"
   ]
  },
  {
   "cell_type": "markdown",
   "metadata": {},
   "source": [
    "Всего 86 аномальных пользователей"
   ]
  },
  {
   "cell_type": "markdown",
   "metadata": {},
   "source": [
    "Узнаем, как их действия повлияли на результаты теста:"
   ]
  },
  {
   "cell_type": "code",
   "execution_count": 41,
   "metadata": {},
   "outputs": [
    {
     "name": "stdout",
     "output_type": "stream",
     "text": [
      "Значение р-value: 0.01255\n",
      "Прирост конверсии группы В к конверсии группы А равен: 0.180\n"
     ]
    }
   ],
   "source": [
    "sampleAFiltered = pd.concat(\n",
    "    [\n",
    "        ordersByUsersA[\n",
    "            np.logical_not(ordersByUsersA['visitor_id'].isin(abnormalUsers))\n",
    "        ]['orders'],\n",
    "        pd.Series(\n",
    "            0,\n",
    "            index=np.arange(\n",
    "                data['visitorsPerDateA'].sum() - len(ordersByUsersA['orders'])\n",
    "            ),\n",
    "            name='orders',\n",
    "        ),\n",
    "    ],\n",
    "    axis=0,\n",
    ")\n",
    "sampleAFiltered = pd.concat(\n",
    "    [\n",
    "        ordersByUsersA[\n",
    "            np.logical_not(ordersByUsersA['visitor_id'].isin(abnormalUsers))\n",
    "        ]['orders'],\n",
    "        pd.Series(\n",
    "            0,\n",
    "            index=np.arange(\n",
    "                data['visitorsPerDateA'].sum() - len(ordersByUsersA['orders'])\n",
    "            ),\n",
    "            name='orders',\n",
    "        ),\n",
    "    ],\n",
    "    axis=0,\n",
    ")\n",
    "\n",
    "sampleAFiltered = pd.concat(\n",
    "    [\n",
    "        ordersByUsersA[\n",
    "            np.logical_not(ordersByUsersA['visitor_id'].isin(abnormalUsers))\n",
    "        ]['orders'],\n",
    "        pd.Series(\n",
    "            0,\n",
    "            index=np.arange(\n",
    "                data['visitorsPerDateA'].sum() - len(ordersByUsersA['orders'])\n",
    "            ),\n",
    "            name='orders',\n",
    "        ),\n",
    "    ],\n",
    "    axis=0,\n",
    ")\n",
    "\n",
    "sampleBFiltered = pd.concat(\n",
    "    [\n",
    "        ordersByUsersB[\n",
    "            np.logical_not(ordersByUsersB['visitor_id'].isin(abnormalUsers))\n",
    "        ]['orders'],\n",
    "        pd.Series(\n",
    "            0,\n",
    "            index=np.arange(\n",
    "                data['visitorsPerDateB'].sum() - len(ordersByUsersB['orders'])\n",
    "            ),\n",
    "            name='orders',\n",
    "        ),\n",
    "    ],\n",
    "    axis=0,\n",
    ")\n",
    "print(\"Значение р-value:\", '{0:.5f}'.format(stats.mannwhitneyu(sampleAFiltered, sampleBFiltered)[1]))\n",
    "print(\"Прирост конверсии группы В к конверсии группы А равен:\", '{0:.3f}'.format(sampleBFiltered.mean()/sampleAFiltered.mean()-1)) "
   ]
  },
  {
   "cell_type": "markdown",
   "metadata": {},
   "source": [
    "Результаты по конверсии практически не изменились. Нулевую гипотезу отвергаем, относительный прирост конверсии группы В к конверсии группы А равен 16%(увеличился на 2%). Получилось так, потому что больше одного заказа совершало гораздо мало человек, поэтому и изменения незначительны."
   ]
  },
  {
   "cell_type": "markdown",
   "metadata": {},
   "source": [
    "### Статистическая значимость различий в среднем чеке заказа между группами по «очищенным» данным"
   ]
  },
  {
   "cell_type": "code",
   "execution_count": 42,
   "metadata": {},
   "outputs": [
    {
     "name": "stdout",
     "output_type": "stream",
     "text": [
      "Значение р-value: 0.829\n",
      "Относительное различие среднего чека между группами: -0.011\n"
     ]
    }
   ],
   "source": [
    "print(\"Значение р-value:\", \n",
    "    '{0:.3f}'.format(\n",
    "        stats.mannwhitneyu(\n",
    "            new_orders[\n",
    "                np.logical_and(\n",
    "                    new_orders['group'] == 'A',\n",
    "                    np.logical_not(new_orders['visitor_id'].isin(abnormalUsers)),\n",
    "                )\n",
    "            ]['revenue'],\n",
    "            new_orders[\n",
    "                np.logical_and(\n",
    "                    new_orders['group'] == 'B',\n",
    "                    np.logical_not(orders['visitor_id'].isin(abnormalUsers)),\n",
    "                )\n",
    "            ]['revenue'],\n",
    "        )[1]\n",
    "    )\n",
    ")\n",
    "\n",
    "print(\"Относительное различие среднего чека между группами:\", \n",
    "    \"{0:.3f}\".format(\n",
    "        new_orders[\n",
    "            np.logical_and(\n",
    "                new_orders['group'] == 'B',\n",
    "                np.logical_not(new_orders['visitor_id'].isin(abnormalUsers)),\n",
    "            )\n",
    "        ]['revenue'].mean()\n",
    "        / new_orders[\n",
    "            np.logical_and(\n",
    "                new_orders['group'] == 'A',\n",
    "                np.logical_not(new_orders['visitor_id'].isin(abnormalUsers)),\n",
    "            )\n",
    "        ]['revenue'].mean()\n",
    "        - 1\n",
    "    )\n",
    ")"
   ]
  },
  {
   "cell_type": "markdown",
   "metadata": {},
   "source": [
    "P-value практически не изменился, но разница между сегментами сократилась с 28.7% до -1.1%. Это связано с тем, что ушли аномально большие заказы, которые давали приемущество в среднем чеке по отношению к другой группе."
   ]
  },
  {
   "cell_type": "markdown",
   "metadata": {},
   "source": [
    "## Вывод"
   ]
  },
  {
   "cell_type": "markdown",
   "metadata": {},
   "source": [
    "В данном проекте:\n",
    "\n",
    "- Проведена приоритизация гипотез.\n",
    "\n",
    "- На основе результатов теста были проведены исследования:\n",
    "\n",
    "  - Построены графики, нужные для исследования и расчитанны 95-й и 99-й перцентили.\n",
    "  \n",
    "  - Проанализированны аномалии.\n",
    "  \n",
    "  В результате получены следующие выводы:\n",
    "\n",
    "  - Есть статистически значимое различие по конверсии между группами как по сырым данным, так и после фильтрации аномалий.\n",
    "\n",
    "  - По сырым данным нет статистически значимого различия по среднему чеку между группами, так и после фильтрации аномалий.\n",
    "\n",
    "  - График различия конверсии между группами сообщает, что результаты группы B лучше группы A: имеют тенденцию к росту, либо зафиксировались около среднего значения.\n",
    "\n",
    "  - График различия среднего чека колеблется: он-то и позволил найти аномалии. Сделать из этого графика определённые выводы нельзя.\n",
    "\n",
    "На основе вс его перечисленного, можно принять решение о **завершение** теста, так как все важные этапы выполнены, и дальнейшее проведение эксперимента не отразится на принятии решении  A группа  уже не станет лучше группы B.\n"
   ]
  }
 ],
 "metadata": {
  "ExecuteTimeLog": [
   {
    "duration": 364,
    "start_time": "2022-05-02T16:54:29.627Z"
   },
   {
    "duration": 22,
    "start_time": "2022-05-02T16:55:07.785Z"
   },
   {
    "duration": 11,
    "start_time": "2022-05-02T16:55:42.157Z"
   },
   {
    "duration": 19,
    "start_time": "2022-05-02T16:56:11.206Z"
   },
   {
    "duration": 72,
    "start_time": "2022-05-02T16:56:54.033Z"
   },
   {
    "duration": 8,
    "start_time": "2022-05-02T16:57:02.456Z"
   },
   {
    "duration": 5,
    "start_time": "2022-05-02T16:57:19.515Z"
   },
   {
    "duration": 7,
    "start_time": "2022-05-02T17:07:31.693Z"
   },
   {
    "duration": 8,
    "start_time": "2022-05-02T17:11:05.232Z"
   },
   {
    "duration": 3,
    "start_time": "2022-05-02T17:11:40.412Z"
   },
   {
    "duration": 10,
    "start_time": "2022-05-02T17:11:48.601Z"
   },
   {
    "duration": 411,
    "start_time": "2022-05-02T17:12:06.104Z"
   },
   {
    "duration": 21,
    "start_time": "2022-05-02T17:12:06.517Z"
   },
   {
    "duration": 10,
    "start_time": "2022-05-02T17:12:06.539Z"
   },
   {
    "duration": 6,
    "start_time": "2022-05-02T17:12:06.551Z"
   },
   {
    "duration": 6,
    "start_time": "2022-05-02T17:12:06.558Z"
   },
   {
    "duration": 88,
    "start_time": "2022-05-02T17:12:06.565Z"
   },
   {
    "duration": 8,
    "start_time": "2022-05-02T17:12:47.612Z"
   },
   {
    "duration": 9,
    "start_time": "2022-05-02T17:13:08.865Z"
   },
   {
    "duration": 8,
    "start_time": "2022-05-02T17:14:11.865Z"
   },
   {
    "duration": 8,
    "start_time": "2022-05-02T17:14:53.972Z"
   },
   {
    "duration": 8,
    "start_time": "2022-05-02T17:15:01.865Z"
   },
   {
    "duration": 8,
    "start_time": "2022-05-02T17:15:07.781Z"
   },
   {
    "duration": 8,
    "start_time": "2022-05-02T17:18:16.543Z"
   },
   {
    "duration": 7,
    "start_time": "2022-05-02T17:18:53.199Z"
   },
   {
    "duration": 8,
    "start_time": "2022-05-02T17:19:54.593Z"
   },
   {
    "duration": 7,
    "start_time": "2022-05-02T17:20:00.513Z"
   },
   {
    "duration": 5,
    "start_time": "2022-05-02T17:20:10.520Z"
   },
   {
    "duration": 4,
    "start_time": "2022-05-02T17:20:14.853Z"
   },
   {
    "duration": 6,
    "start_time": "2022-05-02T17:20:15.576Z"
   },
   {
    "duration": 4,
    "start_time": "2022-05-02T17:20:22.213Z"
   },
   {
    "duration": 5,
    "start_time": "2022-05-02T17:20:23.015Z"
   },
   {
    "duration": 6,
    "start_time": "2022-05-02T17:20:23.686Z"
   },
   {
    "duration": 7,
    "start_time": "2022-05-02T17:21:12.466Z"
   },
   {
    "duration": 373,
    "start_time": "2022-05-02T17:21:25.813Z"
   },
   {
    "duration": 20,
    "start_time": "2022-05-02T17:21:26.188Z"
   },
   {
    "duration": 9,
    "start_time": "2022-05-02T17:21:26.210Z"
   },
   {
    "duration": 4,
    "start_time": "2022-05-02T17:21:26.221Z"
   },
   {
    "duration": 7,
    "start_time": "2022-05-02T17:21:26.226Z"
   },
   {
    "duration": 9,
    "start_time": "2022-05-02T17:21:26.235Z"
   },
   {
    "duration": 83,
    "start_time": "2022-05-02T17:21:26.245Z"
   },
   {
    "duration": 11,
    "start_time": "2022-05-02T17:21:55.452Z"
   },
   {
    "duration": 9,
    "start_time": "2022-05-02T17:22:32.967Z"
   },
   {
    "duration": 10,
    "start_time": "2022-05-02T17:24:21.063Z"
   },
   {
    "duration": 30,
    "start_time": "2022-05-02T17:43:39.984Z"
   },
   {
    "duration": 419,
    "start_time": "2022-05-02T17:43:47.064Z"
   },
   {
    "duration": 34,
    "start_time": "2022-05-02T17:43:47.485Z"
   },
   {
    "duration": 10,
    "start_time": "2022-05-02T17:43:47.521Z"
   },
   {
    "duration": 4,
    "start_time": "2022-05-02T17:43:47.533Z"
   },
   {
    "duration": 8,
    "start_time": "2022-05-02T17:43:47.538Z"
   },
   {
    "duration": 10,
    "start_time": "2022-05-02T17:43:47.547Z"
   },
   {
    "duration": 13,
    "start_time": "2022-05-02T17:43:47.559Z"
   },
   {
    "duration": 33,
    "start_time": "2022-05-02T17:43:47.574Z"
   },
   {
    "duration": 145,
    "start_time": "2022-05-02T17:48:32.233Z"
   },
   {
    "duration": 162,
    "start_time": "2022-05-02T17:48:38.295Z"
   },
   {
    "duration": 154,
    "start_time": "2022-05-02T17:51:22.028Z"
   },
   {
    "duration": 532,
    "start_time": "2022-05-02T17:51:55.336Z"
   },
   {
    "duration": 13,
    "start_time": "2022-05-02T17:52:22.338Z"
   },
   {
    "duration": 21,
    "start_time": "2022-05-02T18:00:49.356Z"
   },
   {
    "duration": 12,
    "start_time": "2022-05-02T18:02:40.241Z"
   },
   {
    "duration": 388,
    "start_time": "2022-05-02T18:02:57.428Z"
   },
   {
    "duration": 22,
    "start_time": "2022-05-02T18:02:57.819Z"
   },
   {
    "duration": 11,
    "start_time": "2022-05-02T18:02:57.843Z"
   },
   {
    "duration": 9,
    "start_time": "2022-05-02T18:02:57.855Z"
   },
   {
    "duration": 12,
    "start_time": "2022-05-02T18:02:57.866Z"
   },
   {
    "duration": 23,
    "start_time": "2022-05-02T18:02:57.896Z"
   },
   {
    "duration": 16,
    "start_time": "2022-05-02T18:02:57.921Z"
   },
   {
    "duration": 11,
    "start_time": "2022-05-02T18:02:57.938Z"
   },
   {
    "duration": 9,
    "start_time": "2022-05-02T18:02:57.950Z"
   },
   {
    "duration": 26,
    "start_time": "2022-05-02T18:12:30.458Z"
   },
   {
    "duration": 27,
    "start_time": "2022-05-02T18:14:34.748Z"
   },
   {
    "duration": 17,
    "start_time": "2022-05-02T18:14:59.778Z"
   },
   {
    "duration": 4,
    "start_time": "2022-05-02T18:16:59.608Z"
   },
   {
    "duration": 8,
    "start_time": "2022-05-02T18:18:12.691Z"
   },
   {
    "duration": 64,
    "start_time": "2022-05-02T18:20:23.259Z"
   },
   {
    "duration": 7,
    "start_time": "2022-05-02T18:20:27.881Z"
   },
   {
    "duration": 7,
    "start_time": "2022-05-02T18:20:35.329Z"
   },
   {
    "duration": 69,
    "start_time": "2022-05-03T11:16:36.227Z"
   },
   {
    "duration": 658,
    "start_time": "2022-05-03T11:16:43.297Z"
   },
   {
    "duration": 47,
    "start_time": "2022-05-03T11:16:43.958Z"
   },
   {
    "duration": 23,
    "start_time": "2022-05-03T11:16:44.007Z"
   },
   {
    "duration": 10,
    "start_time": "2022-05-03T11:16:44.033Z"
   },
   {
    "duration": 22,
    "start_time": "2022-05-03T11:16:44.045Z"
   },
   {
    "duration": 31,
    "start_time": "2022-05-03T11:16:44.069Z"
   },
   {
    "duration": 25,
    "start_time": "2022-05-03T11:16:44.103Z"
   },
   {
    "duration": 17,
    "start_time": "2022-05-03T11:16:44.130Z"
   },
   {
    "duration": 58,
    "start_time": "2022-05-03T11:16:44.149Z"
   },
   {
    "duration": 24,
    "start_time": "2022-05-03T11:16:44.211Z"
   },
   {
    "duration": 4,
    "start_time": "2022-05-03T11:16:44.237Z"
   },
   {
    "duration": 14,
    "start_time": "2022-05-03T11:16:44.244Z"
   },
   {
    "duration": 33,
    "start_time": "2022-05-03T11:16:44.260Z"
   },
   {
    "duration": 12,
    "start_time": "2022-05-03T11:17:40.007Z"
   },
   {
    "duration": 4,
    "start_time": "2022-05-03T11:17:44.056Z"
   },
   {
    "duration": 11,
    "start_time": "2022-05-03T11:17:44.379Z"
   },
   {
    "duration": 10,
    "start_time": "2022-05-03T11:17:54.787Z"
   },
   {
    "duration": 27,
    "start_time": "2022-05-03T11:18:09.390Z"
   },
   {
    "duration": 496,
    "start_time": "2022-05-03T11:20:51.583Z"
   },
   {
    "duration": 45,
    "start_time": "2022-05-03T11:20:52.082Z"
   },
   {
    "duration": 15,
    "start_time": "2022-05-03T11:20:52.129Z"
   },
   {
    "duration": 7,
    "start_time": "2022-05-03T11:20:52.146Z"
   },
   {
    "duration": 15,
    "start_time": "2022-05-03T11:20:52.155Z"
   },
   {
    "duration": 22,
    "start_time": "2022-05-03T11:20:52.172Z"
   },
   {
    "duration": 20,
    "start_time": "2022-05-03T11:20:52.196Z"
   },
   {
    "duration": 14,
    "start_time": "2022-05-03T11:20:52.218Z"
   },
   {
    "duration": 54,
    "start_time": "2022-05-03T11:20:52.236Z"
   },
   {
    "duration": 27,
    "start_time": "2022-05-03T11:20:52.293Z"
   },
   {
    "duration": 7,
    "start_time": "2022-05-03T11:20:52.322Z"
   },
   {
    "duration": 13,
    "start_time": "2022-05-03T11:20:52.331Z"
   },
   {
    "duration": 47,
    "start_time": "2022-05-03T11:20:52.346Z"
   },
   {
    "duration": 26,
    "start_time": "2022-05-03T11:20:52.397Z"
   },
   {
    "duration": 10,
    "start_time": "2022-05-03T11:29:52.775Z"
   },
   {
    "duration": 8,
    "start_time": "2022-05-03T11:30:00.293Z"
   },
   {
    "duration": 102,
    "start_time": "2022-05-03T11:40:19.275Z"
   },
   {
    "duration": 10,
    "start_time": "2022-05-03T11:40:34.066Z"
   },
   {
    "duration": 10,
    "start_time": "2022-05-03T11:41:10.186Z"
   },
   {
    "duration": 10,
    "start_time": "2022-05-03T11:41:36.906Z"
   },
   {
    "duration": 1183,
    "start_time": "2022-05-03T11:52:11.827Z"
   },
   {
    "duration": 1558,
    "start_time": "2022-05-03T11:52:18.956Z"
   },
   {
    "duration": 43,
    "start_time": "2022-05-03T11:52:20.517Z"
   },
   {
    "duration": 16,
    "start_time": "2022-05-03T11:52:20.562Z"
   },
   {
    "duration": 11,
    "start_time": "2022-05-03T11:52:20.581Z"
   },
   {
    "duration": 18,
    "start_time": "2022-05-03T11:52:20.595Z"
   },
   {
    "duration": 11,
    "start_time": "2022-05-03T11:52:20.615Z"
   },
   {
    "duration": 19,
    "start_time": "2022-05-03T11:52:20.628Z"
   },
   {
    "duration": 15,
    "start_time": "2022-05-03T11:52:20.649Z"
   },
   {
    "duration": 56,
    "start_time": "2022-05-03T11:52:20.693Z"
   },
   {
    "duration": 27,
    "start_time": "2022-05-03T11:52:20.753Z"
   },
   {
    "duration": 11,
    "start_time": "2022-05-03T11:52:20.782Z"
   },
   {
    "duration": 22,
    "start_time": "2022-05-03T11:52:20.795Z"
   },
   {
    "duration": 13,
    "start_time": "2022-05-03T11:52:20.820Z"
   },
   {
    "duration": 29,
    "start_time": "2022-05-03T11:52:20.835Z"
   },
   {
    "duration": 30,
    "start_time": "2022-05-03T11:52:20.866Z"
   },
   {
    "duration": 13,
    "start_time": "2022-05-03T11:55:35.921Z"
   },
   {
    "duration": 9,
    "start_time": "2022-05-03T12:05:28.251Z"
   },
   {
    "duration": 156,
    "start_time": "2022-05-03T12:07:37.487Z"
   },
   {
    "duration": 13,
    "start_time": "2022-05-03T12:08:08.266Z"
   },
   {
    "duration": 20,
    "start_time": "2022-05-03T12:08:16.965Z"
   },
   {
    "duration": 12,
    "start_time": "2022-05-03T12:08:25.271Z"
   },
   {
    "duration": 9,
    "start_time": "2022-05-03T12:10:17.157Z"
   },
   {
    "duration": 12,
    "start_time": "2022-05-03T12:10:39.442Z"
   },
   {
    "duration": 13,
    "start_time": "2022-05-03T12:11:02.018Z"
   },
   {
    "duration": 12,
    "start_time": "2022-05-03T12:11:02.963Z"
   },
   {
    "duration": 1543,
    "start_time": "2022-05-03T12:11:12.950Z"
   },
   {
    "duration": 31,
    "start_time": "2022-05-03T12:11:14.496Z"
   },
   {
    "duration": 16,
    "start_time": "2022-05-03T12:11:14.530Z"
   },
   {
    "duration": 5,
    "start_time": "2022-05-03T12:11:14.551Z"
   },
   {
    "duration": 44,
    "start_time": "2022-05-03T12:11:14.558Z"
   },
   {
    "duration": 11,
    "start_time": "2022-05-03T12:11:14.605Z"
   },
   {
    "duration": 18,
    "start_time": "2022-05-03T12:11:14.618Z"
   },
   {
    "duration": 14,
    "start_time": "2022-05-03T12:11:14.638Z"
   },
   {
    "duration": 56,
    "start_time": "2022-05-03T12:11:14.654Z"
   },
   {
    "duration": 24,
    "start_time": "2022-05-03T12:11:14.713Z"
   },
   {
    "duration": 7,
    "start_time": "2022-05-03T12:11:14.739Z"
   },
   {
    "duration": 13,
    "start_time": "2022-05-03T12:11:14.748Z"
   },
   {
    "duration": 10,
    "start_time": "2022-05-03T12:11:14.763Z"
   },
   {
    "duration": 40,
    "start_time": "2022-05-03T12:11:14.775Z"
   },
   {
    "duration": 12,
    "start_time": "2022-05-03T12:11:14.817Z"
   },
   {
    "duration": 13,
    "start_time": "2022-05-03T12:11:14.831Z"
   },
   {
    "duration": 14,
    "start_time": "2022-05-03T12:11:14.846Z"
   },
   {
    "duration": 12,
    "start_time": "2022-05-03T12:11:53.605Z"
   },
   {
    "duration": 14,
    "start_time": "2022-05-03T12:12:00.656Z"
   },
   {
    "duration": 158,
    "start_time": "2022-05-03T12:13:23.424Z"
   },
   {
    "duration": 17,
    "start_time": "2022-05-03T12:13:31.983Z"
   },
   {
    "duration": 15,
    "start_time": "2022-05-03T12:13:40.554Z"
   },
   {
    "duration": 19,
    "start_time": "2022-05-03T12:13:51.975Z"
   },
   {
    "duration": 6,
    "start_time": "2022-05-03T12:14:09.541Z"
   },
   {
    "duration": 14,
    "start_time": "2022-05-03T12:14:24.545Z"
   },
   {
    "duration": 1517,
    "start_time": "2022-05-03T12:15:34.577Z"
   },
   {
    "duration": 31,
    "start_time": "2022-05-03T12:15:36.097Z"
   },
   {
    "duration": 16,
    "start_time": "2022-05-03T12:15:36.131Z"
   },
   {
    "duration": 8,
    "start_time": "2022-05-03T12:15:36.150Z"
   },
   {
    "duration": 36,
    "start_time": "2022-05-03T12:15:36.159Z"
   },
   {
    "duration": 6,
    "start_time": "2022-05-03T12:15:36.197Z"
   },
   {
    "duration": 17,
    "start_time": "2022-05-03T12:15:36.206Z"
   },
   {
    "duration": 15,
    "start_time": "2022-05-03T12:15:36.225Z"
   },
   {
    "duration": 57,
    "start_time": "2022-05-03T12:15:36.242Z"
   },
   {
    "duration": 26,
    "start_time": "2022-05-03T12:15:36.303Z"
   },
   {
    "duration": 15,
    "start_time": "2022-05-03T12:15:36.331Z"
   },
   {
    "duration": 16,
    "start_time": "2022-05-03T12:15:36.348Z"
   },
   {
    "duration": 9,
    "start_time": "2022-05-03T12:15:36.366Z"
   },
   {
    "duration": 36,
    "start_time": "2022-05-03T12:15:36.377Z"
   },
   {
    "duration": 15,
    "start_time": "2022-05-03T12:15:36.415Z"
   },
   {
    "duration": 12,
    "start_time": "2022-05-03T12:15:36.432Z"
   },
   {
    "duration": 19,
    "start_time": "2022-05-03T12:15:36.446Z"
   },
   {
    "duration": 141,
    "start_time": "2022-05-03T12:19:47.881Z"
   },
   {
    "duration": 6,
    "start_time": "2022-05-03T12:20:48.942Z"
   },
   {
    "duration": 43,
    "start_time": "2022-05-03T12:20:56.001Z"
   },
   {
    "duration": 3982,
    "start_time": "2022-05-03T12:22:27.351Z"
   },
   {
    "duration": 19,
    "start_time": "2022-05-03T12:25:34.462Z"
   },
   {
    "duration": 2368,
    "start_time": "2022-05-03T12:30:22.172Z"
   },
   {
    "duration": 3271,
    "start_time": "2022-05-03T12:31:10.511Z"
   },
   {
    "duration": 45,
    "start_time": "2022-05-03T12:35:10.235Z"
   },
   {
    "duration": 7931,
    "start_time": "2022-05-03T12:35:53.502Z"
   },
   {
    "duration": 7926,
    "start_time": "2022-05-03T12:38:42.470Z"
   },
   {
    "duration": 8009,
    "start_time": "2022-05-03T12:39:13.446Z"
   },
   {
    "duration": 254,
    "start_time": "2022-05-03T12:39:47.797Z"
   },
   {
    "duration": 7893,
    "start_time": "2022-05-03T12:40:05.869Z"
   },
   {
    "duration": 11,
    "start_time": "2022-05-03T12:50:11.731Z"
   },
   {
    "duration": 1698,
    "start_time": "2022-05-03T12:50:18.847Z"
   },
   {
    "duration": 0,
    "start_time": "2022-05-03T12:50:20.549Z"
   },
   {
    "duration": 0,
    "start_time": "2022-05-03T12:50:20.551Z"
   },
   {
    "duration": 0,
    "start_time": "2022-05-03T12:50:20.552Z"
   },
   {
    "duration": 0,
    "start_time": "2022-05-03T12:50:20.554Z"
   },
   {
    "duration": 0,
    "start_time": "2022-05-03T12:50:20.557Z"
   },
   {
    "duration": 0,
    "start_time": "2022-05-03T12:50:20.559Z"
   },
   {
    "duration": 0,
    "start_time": "2022-05-03T12:50:20.561Z"
   },
   {
    "duration": 0,
    "start_time": "2022-05-03T12:50:20.563Z"
   },
   {
    "duration": 0,
    "start_time": "2022-05-03T12:50:20.565Z"
   },
   {
    "duration": 0,
    "start_time": "2022-05-03T12:50:20.593Z"
   },
   {
    "duration": 0,
    "start_time": "2022-05-03T12:50:20.596Z"
   },
   {
    "duration": 0,
    "start_time": "2022-05-03T12:50:20.598Z"
   },
   {
    "duration": 0,
    "start_time": "2022-05-03T12:50:20.600Z"
   },
   {
    "duration": 0,
    "start_time": "2022-05-03T12:50:20.602Z"
   },
   {
    "duration": 0,
    "start_time": "2022-05-03T12:50:20.604Z"
   },
   {
    "duration": 0,
    "start_time": "2022-05-03T12:50:20.606Z"
   },
   {
    "duration": 0,
    "start_time": "2022-05-03T12:50:20.608Z"
   },
   {
    "duration": 0,
    "start_time": "2022-05-03T12:50:20.610Z"
   },
   {
    "duration": 1448,
    "start_time": "2022-05-03T12:51:43.144Z"
   },
   {
    "duration": 31,
    "start_time": "2022-05-03T12:51:44.594Z"
   },
   {
    "duration": 15,
    "start_time": "2022-05-03T12:51:44.627Z"
   },
   {
    "duration": 4,
    "start_time": "2022-05-03T12:51:44.645Z"
   },
   {
    "duration": 16,
    "start_time": "2022-05-03T12:51:44.651Z"
   },
   {
    "duration": 27,
    "start_time": "2022-05-03T12:51:44.670Z"
   },
   {
    "duration": 18,
    "start_time": "2022-05-03T12:51:44.699Z"
   },
   {
    "duration": 15,
    "start_time": "2022-05-03T12:51:44.719Z"
   },
   {
    "duration": 76,
    "start_time": "2022-05-03T12:51:44.736Z"
   },
   {
    "duration": 25,
    "start_time": "2022-05-03T12:51:44.815Z"
   },
   {
    "duration": 8,
    "start_time": "2022-05-03T12:51:44.842Z"
   },
   {
    "duration": 13,
    "start_time": "2022-05-03T12:51:44.851Z"
   },
   {
    "duration": 11,
    "start_time": "2022-05-03T12:51:44.866Z"
   },
   {
    "duration": 36,
    "start_time": "2022-05-03T12:51:44.879Z"
   },
   {
    "duration": 12,
    "start_time": "2022-05-03T12:51:44.917Z"
   },
   {
    "duration": 12,
    "start_time": "2022-05-03T12:51:44.931Z"
   },
   {
    "duration": 13,
    "start_time": "2022-05-03T12:51:44.946Z"
   },
   {
    "duration": 5,
    "start_time": "2022-05-03T12:51:44.993Z"
   },
   {
    "duration": 8176,
    "start_time": "2022-05-03T12:51:45.000Z"
   },
   {
    "duration": 13,
    "start_time": "2022-05-03T12:57:21.684Z"
   },
   {
    "duration": 15,
    "start_time": "2022-05-03T12:57:52.361Z"
   },
   {
    "duration": 8098,
    "start_time": "2022-05-03T12:59:11.243Z"
   },
   {
    "duration": 8384,
    "start_time": "2022-05-03T12:59:37.832Z"
   },
   {
    "duration": 8689,
    "start_time": "2022-05-03T13:00:03.681Z"
   },
   {
    "duration": 8279,
    "start_time": "2022-05-03T13:00:59.242Z"
   },
   {
    "duration": 71,
    "start_time": "2022-05-03T16:35:32.441Z"
   },
   {
    "duration": 1666,
    "start_time": "2022-05-03T16:35:41.988Z"
   },
   {
    "duration": 23,
    "start_time": "2022-05-03T16:35:43.657Z"
   },
   {
    "duration": 16,
    "start_time": "2022-05-03T16:35:43.682Z"
   },
   {
    "duration": 7,
    "start_time": "2022-05-03T16:35:43.700Z"
   },
   {
    "duration": 16,
    "start_time": "2022-05-03T16:35:43.709Z"
   },
   {
    "duration": 31,
    "start_time": "2022-05-03T16:35:43.727Z"
   },
   {
    "duration": 21,
    "start_time": "2022-05-03T16:35:43.760Z"
   },
   {
    "duration": 14,
    "start_time": "2022-05-03T16:35:43.783Z"
   },
   {
    "duration": 33,
    "start_time": "2022-05-03T16:35:43.799Z"
   },
   {
    "duration": 34,
    "start_time": "2022-05-03T16:35:43.835Z"
   },
   {
    "duration": 10,
    "start_time": "2022-05-03T16:35:43.870Z"
   },
   {
    "duration": 13,
    "start_time": "2022-05-03T16:35:43.882Z"
   },
   {
    "duration": 11,
    "start_time": "2022-05-03T16:35:43.898Z"
   },
   {
    "duration": 26,
    "start_time": "2022-05-03T16:35:43.911Z"
   },
   {
    "duration": 11,
    "start_time": "2022-05-03T16:35:43.956Z"
   },
   {
    "duration": 10,
    "start_time": "2022-05-03T16:35:43.969Z"
   },
   {
    "duration": 23,
    "start_time": "2022-05-03T16:35:43.981Z"
   },
   {
    "duration": 1805,
    "start_time": "2022-05-03T16:35:44.006Z"
   },
   {
    "duration": 0,
    "start_time": "2022-05-03T16:35:45.812Z"
   },
   {
    "duration": 0,
    "start_time": "2022-05-03T16:35:45.814Z"
   },
   {
    "duration": 29,
    "start_time": "2022-05-03T16:36:21.256Z"
   },
   {
    "duration": 16,
    "start_time": "2022-05-03T16:36:36.427Z"
   },
   {
    "duration": 5,
    "start_time": "2022-05-03T16:36:55.616Z"
   },
   {
    "duration": 7776,
    "start_time": "2022-05-03T16:36:56.978Z"
   },
   {
    "duration": 17,
    "start_time": "2022-05-03T16:37:42.713Z"
   },
   {
    "duration": 15,
    "start_time": "2022-05-03T16:37:51.726Z"
   },
   {
    "duration": 16,
    "start_time": "2022-05-03T16:38:12.786Z"
   },
   {
    "duration": 15,
    "start_time": "2022-05-03T16:38:17.616Z"
   },
   {
    "duration": 23,
    "start_time": "2022-05-03T16:38:59.497Z"
   },
   {
    "duration": 15,
    "start_time": "2022-05-03T16:39:08.339Z"
   },
   {
    "duration": 14,
    "start_time": "2022-05-03T16:39:35.276Z"
   },
   {
    "duration": 24,
    "start_time": "2022-05-03T16:39:46.181Z"
   },
   {
    "duration": 16,
    "start_time": "2022-05-03T16:40:05.496Z"
   },
   {
    "duration": 12,
    "start_time": "2022-05-03T16:40:19.296Z"
   },
   {
    "duration": 19,
    "start_time": "2022-05-03T16:40:27.457Z"
   },
   {
    "duration": 82,
    "start_time": "2022-05-05T08:22:46.629Z"
   },
   {
    "duration": 3226,
    "start_time": "2022-05-05T08:23:02.939Z"
   },
   {
    "duration": 28,
    "start_time": "2022-05-05T08:23:06.168Z"
   },
   {
    "duration": 77,
    "start_time": "2022-05-05T08:23:06.198Z"
   },
   {
    "duration": 7,
    "start_time": "2022-05-05T08:23:06.278Z"
   },
   {
    "duration": 65,
    "start_time": "2022-05-05T08:23:06.287Z"
   },
   {
    "duration": 26,
    "start_time": "2022-05-05T08:23:06.354Z"
   },
   {
    "duration": 24,
    "start_time": "2022-05-05T08:23:06.382Z"
   },
   {
    "duration": 60,
    "start_time": "2022-05-05T08:23:06.408Z"
   },
   {
    "duration": 82,
    "start_time": "2022-05-05T08:23:06.470Z"
   },
   {
    "duration": 26,
    "start_time": "2022-05-05T08:23:06.557Z"
   },
   {
    "duration": 6,
    "start_time": "2022-05-05T08:23:06.586Z"
   },
   {
    "duration": 69,
    "start_time": "2022-05-05T08:23:06.594Z"
   },
   {
    "duration": 17,
    "start_time": "2022-05-05T08:23:06.666Z"
   },
   {
    "duration": 74,
    "start_time": "2022-05-05T08:23:06.685Z"
   },
   {
    "duration": 14,
    "start_time": "2022-05-05T08:23:06.765Z"
   },
   {
    "duration": 12,
    "start_time": "2022-05-05T08:23:06.782Z"
   },
   {
    "duration": 82,
    "start_time": "2022-05-05T08:23:06.797Z"
   },
   {
    "duration": 5,
    "start_time": "2022-05-05T08:23:06.882Z"
   },
   {
    "duration": 9476,
    "start_time": "2022-05-05T08:23:06.890Z"
   },
   {
    "duration": 20,
    "start_time": "2022-05-05T08:23:16.368Z"
   },
   {
    "duration": 30,
    "start_time": "2022-05-05T08:24:45.930Z"
   },
   {
    "duration": 160,
    "start_time": "2022-05-05T08:25:33.794Z"
   },
   {
    "duration": 25,
    "start_time": "2022-05-05T08:25:38.300Z"
   },
   {
    "duration": 13,
    "start_time": "2022-05-05T08:25:50.082Z"
   },
   {
    "duration": 31,
    "start_time": "2022-05-05T08:25:57.609Z"
   },
   {
    "duration": 34,
    "start_time": "2022-05-05T08:26:21.028Z"
   },
   {
    "duration": 25,
    "start_time": "2022-05-05T08:27:11.045Z"
   },
   {
    "duration": 258,
    "start_time": "2022-05-05T08:28:10.969Z"
   },
   {
    "duration": 220,
    "start_time": "2022-05-05T08:32:38.677Z"
   },
   {
    "duration": 1158,
    "start_time": "2022-05-05T08:34:26.924Z"
   },
   {
    "duration": 780,
    "start_time": "2022-05-05T08:35:52.701Z"
   },
   {
    "duration": 850,
    "start_time": "2022-05-05T08:39:27.427Z"
   },
   {
    "duration": 12,
    "start_time": "2022-05-05T08:41:07.356Z"
   },
   {
    "duration": 228,
    "start_time": "2022-05-05T08:41:51.106Z"
   },
   {
    "duration": 13,
    "start_time": "2022-05-05T08:44:49.605Z"
   },
   {
    "duration": 12,
    "start_time": "2022-05-05T08:45:14.838Z"
   },
   {
    "duration": 15,
    "start_time": "2022-05-05T08:45:32.277Z"
   },
   {
    "duration": 172,
    "start_time": "2022-05-05T08:46:57.905Z"
   },
   {
    "duration": 11513,
    "start_time": "2022-05-05T08:48:17.145Z"
   },
   {
    "duration": 6349,
    "start_time": "2022-05-05T08:51:44.470Z"
   },
   {
    "duration": 768,
    "start_time": "2022-05-05T08:52:06.046Z"
   },
   {
    "duration": 1171,
    "start_time": "2022-05-05T08:52:21.125Z"
   },
   {
    "duration": 695,
    "start_time": "2022-05-05T08:55:09.835Z"
   },
   {
    "duration": 13,
    "start_time": "2022-05-05T08:58:42.004Z"
   },
   {
    "duration": 20,
    "start_time": "2022-05-05T08:59:01.149Z"
   },
   {
    "duration": 208,
    "start_time": "2022-05-05T08:59:15.197Z"
   },
   {
    "duration": 7,
    "start_time": "2022-05-05T09:10:31.745Z"
   },
   {
    "duration": 7,
    "start_time": "2022-05-05T09:10:35.606Z"
   },
   {
    "duration": 212,
    "start_time": "2022-05-05T09:19:28.027Z"
   },
   {
    "duration": 211,
    "start_time": "2022-05-05T09:20:22.047Z"
   },
   {
    "duration": 675,
    "start_time": "2022-05-05T09:21:26.616Z"
   },
   {
    "duration": 1892,
    "start_time": "2022-05-05T09:22:04.328Z"
   },
   {
    "duration": 48,
    "start_time": "2022-05-05T09:22:06.225Z"
   },
   {
    "duration": 59,
    "start_time": "2022-05-05T09:22:06.277Z"
   },
   {
    "duration": 37,
    "start_time": "2022-05-05T09:22:06.340Z"
   },
   {
    "duration": 38,
    "start_time": "2022-05-05T09:22:06.379Z"
   },
   {
    "duration": 19,
    "start_time": "2022-05-05T09:22:06.421Z"
   },
   {
    "duration": 39,
    "start_time": "2022-05-05T09:22:06.443Z"
   },
   {
    "duration": 25,
    "start_time": "2022-05-05T09:22:06.485Z"
   },
   {
    "duration": 48,
    "start_time": "2022-05-05T09:22:06.513Z"
   },
   {
    "duration": 29,
    "start_time": "2022-05-05T09:22:06.567Z"
   },
   {
    "duration": 6,
    "start_time": "2022-05-05T09:22:06.598Z"
   },
   {
    "duration": 19,
    "start_time": "2022-05-05T09:22:06.607Z"
   },
   {
    "duration": 18,
    "start_time": "2022-05-05T09:22:06.664Z"
   },
   {
    "duration": 38,
    "start_time": "2022-05-05T09:22:06.685Z"
   },
   {
    "duration": 14,
    "start_time": "2022-05-05T09:22:06.725Z"
   },
   {
    "duration": 54,
    "start_time": "2022-05-05T09:22:06.741Z"
   },
   {
    "duration": 17,
    "start_time": "2022-05-05T09:22:06.798Z"
   },
   {
    "duration": 5,
    "start_time": "2022-05-05T09:22:06.817Z"
   },
   {
    "duration": 10252,
    "start_time": "2022-05-05T09:22:06.824Z"
   },
   {
    "duration": 23,
    "start_time": "2022-05-05T09:22:17.078Z"
   },
   {
    "duration": 322,
    "start_time": "2022-05-05T09:22:17.104Z"
   },
   {
    "duration": 259,
    "start_time": "2022-05-05T09:22:17.429Z"
   },
   {
    "duration": 1116,
    "start_time": "2022-05-05T09:22:17.690Z"
   },
   {
    "duration": 16,
    "start_time": "2022-05-05T09:22:18.809Z"
   },
   {
    "duration": 374,
    "start_time": "2022-05-05T09:22:18.827Z"
   },
   {
    "duration": 123,
    "start_time": "2022-05-05T09:22:19.204Z"
   },
   {
    "duration": 0,
    "start_time": "2022-05-05T09:22:19.331Z"
   },
   {
    "duration": 0,
    "start_time": "2022-05-05T09:22:19.333Z"
   },
   {
    "duration": 0,
    "start_time": "2022-05-05T09:22:19.335Z"
   },
   {
    "duration": 0,
    "start_time": "2022-05-05T09:22:19.336Z"
   },
   {
    "duration": 0,
    "start_time": "2022-05-05T09:22:19.338Z"
   },
   {
    "duration": 195,
    "start_time": "2022-05-05T09:23:01.689Z"
   },
   {
    "duration": 749,
    "start_time": "2022-05-05T09:23:03.809Z"
   },
   {
    "duration": 20,
    "start_time": "2022-05-05T09:23:08.642Z"
   },
   {
    "duration": 226,
    "start_time": "2022-05-05T09:23:09.882Z"
   },
   {
    "duration": 9,
    "start_time": "2022-05-05T09:23:13.262Z"
   },
   {
    "duration": 782,
    "start_time": "2022-05-05T09:23:16.974Z"
   },
   {
    "duration": 640,
    "start_time": "2022-05-05T09:24:59.678Z"
   },
   {
    "duration": 399,
    "start_time": "2022-05-05T09:27:23.370Z"
   },
   {
    "duration": 1952,
    "start_time": "2022-05-05T09:29:42.010Z"
   },
   {
    "duration": 214,
    "start_time": "2022-05-05T09:30:59.794Z"
   },
   {
    "duration": 18,
    "start_time": "2022-05-05T09:33:52.854Z"
   },
   {
    "duration": 1716,
    "start_time": "2022-05-05T09:40:51.321Z"
   },
   {
    "duration": 9,
    "start_time": "2022-05-05T09:41:01.843Z"
   },
   {
    "duration": 595,
    "start_time": "2022-05-05T09:53:18.148Z"
   },
   {
    "duration": 21,
    "start_time": "2022-05-05T09:53:21.959Z"
   },
   {
    "duration": 1616,
    "start_time": "2022-05-05T09:56:38.939Z"
   },
   {
    "duration": 33,
    "start_time": "2022-05-05T09:56:40.560Z"
   },
   {
    "duration": 16,
    "start_time": "2022-05-05T09:56:40.595Z"
   },
   {
    "duration": 12,
    "start_time": "2022-05-05T09:56:40.614Z"
   },
   {
    "duration": 36,
    "start_time": "2022-05-05T09:56:40.628Z"
   },
   {
    "duration": 11,
    "start_time": "2022-05-05T09:56:40.667Z"
   },
   {
    "duration": 30,
    "start_time": "2022-05-05T09:56:40.681Z"
   },
   {
    "duration": 47,
    "start_time": "2022-05-05T09:56:40.714Z"
   },
   {
    "duration": 44,
    "start_time": "2022-05-05T09:56:40.763Z"
   },
   {
    "duration": 24,
    "start_time": "2022-05-05T09:56:40.812Z"
   },
   {
    "duration": 9,
    "start_time": "2022-05-05T09:56:40.839Z"
   },
   {
    "duration": 30,
    "start_time": "2022-05-05T09:56:40.851Z"
   },
   {
    "duration": 15,
    "start_time": "2022-05-05T09:56:40.884Z"
   },
   {
    "duration": 35,
    "start_time": "2022-05-05T09:56:40.902Z"
   },
   {
    "duration": 20,
    "start_time": "2022-05-05T09:56:40.941Z"
   },
   {
    "duration": 27,
    "start_time": "2022-05-05T09:56:40.964Z"
   },
   {
    "duration": 26,
    "start_time": "2022-05-05T09:56:40.993Z"
   },
   {
    "duration": 6,
    "start_time": "2022-05-05T09:56:41.021Z"
   },
   {
    "duration": 8816,
    "start_time": "2022-05-05T09:56:41.030Z"
   },
   {
    "duration": 26,
    "start_time": "2022-05-05T09:56:49.852Z"
   },
   {
    "duration": 279,
    "start_time": "2022-05-05T09:56:49.881Z"
   },
   {
    "duration": 222,
    "start_time": "2022-05-05T09:56:50.163Z"
   },
   {
    "duration": 1401,
    "start_time": "2022-05-05T09:56:50.387Z"
   },
   {
    "duration": 16,
    "start_time": "2022-05-05T09:56:51.790Z"
   },
   {
    "duration": 284,
    "start_time": "2022-05-05T09:56:51.809Z"
   },
   {
    "duration": 193,
    "start_time": "2022-05-05T09:56:52.096Z"
   },
   {
    "duration": 747,
    "start_time": "2022-05-05T09:56:52.292Z"
   },
   {
    "duration": 29,
    "start_time": "2022-05-05T09:56:53.043Z"
   },
   {
    "duration": 240,
    "start_time": "2022-05-05T09:56:53.073Z"
   },
   {
    "duration": 7,
    "start_time": "2022-05-05T09:56:53.315Z"
   },
   {
    "duration": 43,
    "start_time": "2022-05-05T09:56:53.324Z"
   },
   {
    "duration": 207,
    "start_time": "2022-05-05T09:56:53.369Z"
   },
   {
    "duration": 7,
    "start_time": "2022-05-05T09:56:53.579Z"
   },
   {
    "duration": 627,
    "start_time": "2022-05-05T09:56:53.589Z"
   },
   {
    "duration": 15,
    "start_time": "2022-05-05T09:56:54.219Z"
   },
   {
    "duration": 17,
    "start_time": "2022-05-05T10:06:47.806Z"
   },
   {
    "duration": 19,
    "start_time": "2022-05-05T10:06:59.179Z"
   },
   {
    "duration": 16,
    "start_time": "2022-05-05T10:07:36.370Z"
   },
   {
    "duration": 93,
    "start_time": "2022-05-05T10:09:48.717Z"
   },
   {
    "duration": 123,
    "start_time": "2022-05-05T10:17:11.078Z"
   },
   {
    "duration": 180,
    "start_time": "2022-05-05T10:19:03.907Z"
   },
   {
    "duration": 22,
    "start_time": "2022-05-05T10:19:31.967Z"
   },
   {
    "duration": 20,
    "start_time": "2022-05-05T10:24:20.377Z"
   },
   {
    "duration": 1552,
    "start_time": "2022-05-05T10:24:29.643Z"
   },
   {
    "duration": 26,
    "start_time": "2022-05-05T10:24:31.198Z"
   },
   {
    "duration": 31,
    "start_time": "2022-05-05T10:24:31.227Z"
   },
   {
    "duration": 25,
    "start_time": "2022-05-05T10:24:31.262Z"
   },
   {
    "duration": 36,
    "start_time": "2022-05-05T10:24:31.289Z"
   },
   {
    "duration": 40,
    "start_time": "2022-05-05T10:24:31.327Z"
   },
   {
    "duration": 38,
    "start_time": "2022-05-05T10:24:31.369Z"
   },
   {
    "duration": 19,
    "start_time": "2022-05-05T10:24:31.410Z"
   },
   {
    "duration": 65,
    "start_time": "2022-05-05T10:24:31.431Z"
   },
   {
    "duration": 27,
    "start_time": "2022-05-05T10:24:31.499Z"
   },
   {
    "duration": 38,
    "start_time": "2022-05-05T10:24:31.528Z"
   },
   {
    "duration": 23,
    "start_time": "2022-05-05T10:24:31.571Z"
   },
   {
    "duration": 31,
    "start_time": "2022-05-05T10:24:31.596Z"
   },
   {
    "duration": 53,
    "start_time": "2022-05-05T10:24:31.629Z"
   },
   {
    "duration": 13,
    "start_time": "2022-05-05T10:24:31.685Z"
   },
   {
    "duration": 18,
    "start_time": "2022-05-05T10:24:31.700Z"
   },
   {
    "duration": 41,
    "start_time": "2022-05-05T10:24:31.720Z"
   },
   {
    "duration": 6,
    "start_time": "2022-05-05T10:24:31.763Z"
   },
   {
    "duration": 11706,
    "start_time": "2022-05-05T10:24:31.771Z"
   },
   {
    "duration": 20,
    "start_time": "2022-05-05T10:24:43.480Z"
   },
   {
    "duration": 282,
    "start_time": "2022-05-05T10:24:43.502Z"
   },
   {
    "duration": 227,
    "start_time": "2022-05-05T10:24:43.787Z"
   },
   {
    "duration": 1045,
    "start_time": "2022-05-05T10:24:44.016Z"
   },
   {
    "duration": 13,
    "start_time": "2022-05-05T10:24:45.064Z"
   },
   {
    "duration": 263,
    "start_time": "2022-05-05T10:24:45.079Z"
   },
   {
    "duration": 180,
    "start_time": "2022-05-05T10:24:45.352Z"
   },
   {
    "duration": 675,
    "start_time": "2022-05-05T10:24:45.535Z"
   },
   {
    "duration": 17,
    "start_time": "2022-05-05T10:24:46.215Z"
   },
   {
    "duration": 210,
    "start_time": "2022-05-05T10:24:46.254Z"
   },
   {
    "duration": 11,
    "start_time": "2022-05-05T10:24:46.466Z"
   },
   {
    "duration": 16,
    "start_time": "2022-05-05T10:24:46.479Z"
   },
   {
    "duration": 227,
    "start_time": "2022-05-05T10:24:46.497Z"
   },
   {
    "duration": 7,
    "start_time": "2022-05-05T10:24:46.726Z"
   },
   {
    "duration": 642,
    "start_time": "2022-05-05T10:24:46.752Z"
   },
   {
    "duration": 14,
    "start_time": "2022-05-05T10:24:47.396Z"
   },
   {
    "duration": 18,
    "start_time": "2022-05-05T10:24:47.412Z"
   },
   {
    "duration": 64,
    "start_time": "2022-05-05T10:24:47.432Z"
   },
   {
    "duration": 21,
    "start_time": "2022-05-05T10:24:47.498Z"
   },
   {
    "duration": 104,
    "start_time": "2022-05-05T10:24:47.552Z"
   },
   {
    "duration": 1163,
    "start_time": "2022-05-06T09:12:38.336Z"
   },
   {
    "duration": 18,
    "start_time": "2022-05-06T09:12:39.502Z"
   },
   {
    "duration": 10,
    "start_time": "2022-05-06T09:12:39.522Z"
   },
   {
    "duration": 6,
    "start_time": "2022-05-06T09:12:39.533Z"
   },
   {
    "duration": 11,
    "start_time": "2022-05-06T09:12:39.555Z"
   },
   {
    "duration": 27,
    "start_time": "2022-05-06T09:12:39.568Z"
   },
   {
    "duration": 14,
    "start_time": "2022-05-06T09:12:39.596Z"
   },
   {
    "duration": 10,
    "start_time": "2022-05-06T09:12:39.612Z"
   },
   {
    "duration": 74,
    "start_time": "2022-05-06T09:12:39.623Z"
   },
   {
    "duration": 17,
    "start_time": "2022-05-06T09:12:39.699Z"
   },
   {
    "duration": 4,
    "start_time": "2022-05-06T09:12:39.717Z"
   },
   {
    "duration": 11,
    "start_time": "2022-05-06T09:12:39.722Z"
   },
   {
    "duration": 7,
    "start_time": "2022-05-06T09:12:39.735Z"
   },
   {
    "duration": 39,
    "start_time": "2022-05-06T09:12:39.744Z"
   },
   {
    "duration": 13,
    "start_time": "2022-05-06T09:12:39.786Z"
   },
   {
    "duration": 8,
    "start_time": "2022-05-06T09:12:39.800Z"
   },
   {
    "duration": 10,
    "start_time": "2022-05-06T09:12:39.809Z"
   },
   {
    "duration": 3,
    "start_time": "2022-05-06T09:12:39.820Z"
   },
   {
    "duration": 5345,
    "start_time": "2022-05-06T09:12:39.825Z"
   },
   {
    "duration": 17,
    "start_time": "2022-05-06T09:12:45.172Z"
   },
   {
    "duration": 178,
    "start_time": "2022-05-06T09:12:45.191Z"
   },
   {
    "duration": 160,
    "start_time": "2022-05-06T09:12:45.371Z"
   },
   {
    "duration": 829,
    "start_time": "2022-05-06T09:12:45.533Z"
   },
   {
    "duration": 13,
    "start_time": "2022-05-06T09:12:46.364Z"
   },
   {
    "duration": 171,
    "start_time": "2022-05-06T09:12:46.379Z"
   },
   {
    "duration": 155,
    "start_time": "2022-05-06T09:12:46.552Z"
   },
   {
    "duration": 508,
    "start_time": "2022-05-06T09:12:46.709Z"
   },
   {
    "duration": 11,
    "start_time": "2022-05-06T09:12:47.220Z"
   },
   {
    "duration": 177,
    "start_time": "2022-05-06T09:12:47.233Z"
   },
   {
    "duration": 6,
    "start_time": "2022-05-06T09:12:47.412Z"
   },
   {
    "duration": 31,
    "start_time": "2022-05-06T09:12:47.419Z"
   },
   {
    "duration": 161,
    "start_time": "2022-05-06T09:12:47.459Z"
   },
   {
    "duration": 6,
    "start_time": "2022-05-06T09:12:47.622Z"
   },
   {
    "duration": 535,
    "start_time": "2022-05-06T09:12:47.630Z"
   },
   {
    "duration": 16,
    "start_time": "2022-05-06T09:12:48.168Z"
   },
   {
    "duration": 14,
    "start_time": "2022-05-06T09:12:48.186Z"
   },
   {
    "duration": 31,
    "start_time": "2022-05-06T09:12:48.202Z"
   },
   {
    "duration": 29,
    "start_time": "2022-05-06T09:12:48.234Z"
   },
   {
    "duration": 170,
    "start_time": "2022-05-06T09:23:46.945Z"
   },
   {
    "duration": 252,
    "start_time": "2022-05-06T09:45:36.681Z"
   },
   {
    "duration": 171,
    "start_time": "2022-05-06T09:45:55.112Z"
   },
   {
    "duration": 600,
    "start_time": "2022-05-06T09:45:58.594Z"
   },
   {
    "duration": 604,
    "start_time": "2022-05-06T09:46:10.186Z"
   },
   {
    "duration": 631,
    "start_time": "2022-05-06T09:46:14.738Z"
   },
   {
    "duration": 376,
    "start_time": "2022-05-06T09:49:45.212Z"
   },
   {
    "duration": 385,
    "start_time": "2022-05-06T09:49:48.319Z"
   },
   {
    "duration": 527,
    "start_time": "2022-05-06T09:49:51.032Z"
   },
   {
    "duration": 595,
    "start_time": "2022-05-06T09:50:14.669Z"
   },
   {
    "duration": 494,
    "start_time": "2022-05-06T09:50:21.174Z"
   },
   {
    "duration": 519,
    "start_time": "2022-05-06T09:50:24.448Z"
   },
   {
    "duration": 11,
    "start_time": "2022-05-06T09:52:38.222Z"
   },
   {
    "duration": 613,
    "start_time": "2022-05-06T09:52:54.474Z"
   },
   {
    "duration": 531,
    "start_time": "2022-05-06T09:52:59.641Z"
   },
   {
    "duration": 165,
    "start_time": "2022-05-06T10:06:45.412Z"
   },
   {
    "duration": 131,
    "start_time": "2022-05-06T10:11:46.536Z"
   },
   {
    "duration": 4,
    "start_time": "2022-05-06T10:19:02.572Z"
   },
   {
    "duration": 16,
    "start_time": "2022-05-06T10:19:02.578Z"
   },
   {
    "duration": 10,
    "start_time": "2022-05-06T10:19:02.596Z"
   },
   {
    "duration": 7,
    "start_time": "2022-05-06T10:19:02.608Z"
   },
   {
    "duration": 12,
    "start_time": "2022-05-06T10:19:02.618Z"
   },
   {
    "duration": 23,
    "start_time": "2022-05-06T10:19:02.632Z"
   },
   {
    "duration": 23,
    "start_time": "2022-05-06T10:19:02.660Z"
   },
   {
    "duration": 12,
    "start_time": "2022-05-06T10:19:02.685Z"
   },
   {
    "duration": 35,
    "start_time": "2022-05-06T10:19:02.699Z"
   },
   {
    "duration": 21,
    "start_time": "2022-05-06T10:19:02.737Z"
   },
   {
    "duration": 25,
    "start_time": "2022-05-06T10:19:02.760Z"
   },
   {
    "duration": 12,
    "start_time": "2022-05-06T10:19:02.787Z"
   },
   {
    "duration": 7,
    "start_time": "2022-05-06T10:19:02.800Z"
   },
   {
    "duration": 22,
    "start_time": "2022-05-06T10:19:02.809Z"
   },
   {
    "duration": 9,
    "start_time": "2022-05-06T10:19:02.833Z"
   },
   {
    "duration": 18,
    "start_time": "2022-05-06T10:19:02.844Z"
   },
   {
    "duration": 25,
    "start_time": "2022-05-06T10:19:02.863Z"
   },
   {
    "duration": 5,
    "start_time": "2022-05-06T10:19:02.889Z"
   },
   {
    "duration": 6340,
    "start_time": "2022-05-06T10:19:02.896Z"
   },
   {
    "duration": 30,
    "start_time": "2022-05-06T10:19:09.238Z"
   },
   {
    "duration": 313,
    "start_time": "2022-05-06T10:19:09.270Z"
   },
   {
    "duration": 147,
    "start_time": "2022-05-06T10:19:09.585Z"
   },
   {
    "duration": 637,
    "start_time": "2022-05-06T10:19:09.733Z"
   },
   {
    "duration": 10,
    "start_time": "2022-05-06T10:19:10.374Z"
   },
   {
    "duration": 170,
    "start_time": "2022-05-06T10:19:10.385Z"
   },
   {
    "duration": 131,
    "start_time": "2022-05-06T10:19:10.557Z"
   },
   {
    "duration": 591,
    "start_time": "2022-05-06T10:19:10.690Z"
   },
   {
    "duration": 11,
    "start_time": "2022-05-06T10:19:11.283Z"
   },
   {
    "duration": 131,
    "start_time": "2022-05-06T10:19:11.295Z"
   },
   {
    "duration": 5,
    "start_time": "2022-05-06T10:19:11.428Z"
   },
   {
    "duration": 25,
    "start_time": "2022-05-06T10:19:11.434Z"
   },
   {
    "duration": 132,
    "start_time": "2022-05-06T10:19:11.460Z"
   },
   {
    "duration": 6,
    "start_time": "2022-05-06T10:19:11.594Z"
   },
   {
    "duration": 348,
    "start_time": "2022-05-06T10:19:11.602Z"
   },
   {
    "duration": 14,
    "start_time": "2022-05-06T10:19:11.953Z"
   },
   {
    "duration": 22,
    "start_time": "2022-05-06T10:19:11.969Z"
   },
   {
    "duration": 38,
    "start_time": "2022-05-06T10:19:11.993Z"
   },
   {
    "duration": 31,
    "start_time": "2022-05-06T10:19:12.032Z"
   },
   {
    "duration": 127,
    "start_time": "2022-05-06T10:24:20.966Z"
   },
   {
    "duration": 117,
    "start_time": "2022-05-06T10:24:27.973Z"
   },
   {
    "duration": 82,
    "start_time": "2022-05-06T10:45:51.197Z"
   },
   {
    "duration": 1681,
    "start_time": "2022-05-06T10:45:56.985Z"
   },
   {
    "duration": 29,
    "start_time": "2022-05-06T10:45:58.669Z"
   },
   {
    "duration": 16,
    "start_time": "2022-05-06T10:45:58.700Z"
   },
   {
    "duration": 17,
    "start_time": "2022-05-06T10:45:58.719Z"
   },
   {
    "duration": 26,
    "start_time": "2022-05-06T10:45:58.738Z"
   },
   {
    "duration": 18,
    "start_time": "2022-05-06T10:45:58.766Z"
   },
   {
    "duration": 29,
    "start_time": "2022-05-06T10:45:58.786Z"
   },
   {
    "duration": 14,
    "start_time": "2022-05-06T10:45:58.818Z"
   },
   {
    "duration": 45,
    "start_time": "2022-05-06T10:45:58.835Z"
   },
   {
    "duration": 24,
    "start_time": "2022-05-06T10:45:58.883Z"
   },
   {
    "duration": 15,
    "start_time": "2022-05-06T10:45:58.909Z"
   },
   {
    "duration": 31,
    "start_time": "2022-05-06T10:45:58.926Z"
   },
   {
    "duration": 16,
    "start_time": "2022-05-06T10:45:58.960Z"
   },
   {
    "duration": 42,
    "start_time": "2022-05-06T10:45:58.978Z"
   },
   {
    "duration": 12,
    "start_time": "2022-05-06T10:45:59.022Z"
   },
   {
    "duration": 22,
    "start_time": "2022-05-06T10:45:59.036Z"
   },
   {
    "duration": 25,
    "start_time": "2022-05-06T10:45:59.059Z"
   },
   {
    "duration": 10,
    "start_time": "2022-05-06T10:45:59.086Z"
   },
   {
    "duration": 9459,
    "start_time": "2022-05-06T10:45:59.098Z"
   },
   {
    "duration": 23,
    "start_time": "2022-05-06T10:46:08.559Z"
   },
   {
    "duration": 285,
    "start_time": "2022-05-06T10:46:08.585Z"
   },
   {
    "duration": 227,
    "start_time": "2022-05-06T10:46:08.872Z"
   },
   {
    "duration": 1078,
    "start_time": "2022-05-06T10:46:09.101Z"
   },
   {
    "duration": 14,
    "start_time": "2022-05-06T10:46:10.181Z"
   },
   {
    "duration": 268,
    "start_time": "2022-05-06T10:46:10.197Z"
   },
   {
    "duration": 189,
    "start_time": "2022-05-06T10:46:10.468Z"
   },
   {
    "duration": 669,
    "start_time": "2022-05-06T10:46:10.659Z"
   },
   {
    "duration": 25,
    "start_time": "2022-05-06T10:46:11.333Z"
   },
   {
    "duration": 206,
    "start_time": "2022-05-06T10:46:11.360Z"
   },
   {
    "duration": 7,
    "start_time": "2022-05-06T10:46:11.568Z"
   },
   {
    "duration": 17,
    "start_time": "2022-05-06T10:46:11.578Z"
   },
   {
    "duration": 217,
    "start_time": "2022-05-06T10:46:11.597Z"
   },
   {
    "duration": 7,
    "start_time": "2022-05-06T10:46:11.816Z"
   },
   {
    "duration": 606,
    "start_time": "2022-05-06T10:46:11.825Z"
   },
   {
    "duration": 29,
    "start_time": "2022-05-06T10:46:12.434Z"
   },
   {
    "duration": 18,
    "start_time": "2022-05-06T10:46:12.466Z"
   },
   {
    "duration": 98,
    "start_time": "2022-05-06T10:46:12.487Z"
   },
   {
    "duration": 30,
    "start_time": "2022-05-06T10:46:12.588Z"
   },
   {
    "duration": 150,
    "start_time": "2022-05-06T10:56:59.755Z"
   },
   {
    "duration": 16,
    "start_time": "2022-05-06T10:57:09.082Z"
   },
   {
    "duration": 8,
    "start_time": "2022-05-06T10:57:21.150Z"
   },
   {
    "duration": 7,
    "start_time": "2022-05-06T10:57:56.391Z"
   },
   {
    "duration": 9,
    "start_time": "2022-05-06T10:59:39.859Z"
   },
   {
    "duration": 12,
    "start_time": "2022-05-06T11:03:32.531Z"
   },
   {
    "duration": 12,
    "start_time": "2022-05-06T11:03:47.321Z"
   },
   {
    "duration": 11,
    "start_time": "2022-05-06T11:03:55.971Z"
   },
   {
    "duration": 11,
    "start_time": "2022-05-06T11:05:56.922Z"
   },
   {
    "duration": 6,
    "start_time": "2022-05-06T11:06:03.001Z"
   },
   {
    "duration": 7,
    "start_time": "2022-05-06T11:06:18.548Z"
   },
   {
    "duration": 1553,
    "start_time": "2022-05-06T11:07:18.607Z"
   },
   {
    "duration": 26,
    "start_time": "2022-05-06T11:07:20.165Z"
   },
   {
    "duration": 16,
    "start_time": "2022-05-06T11:07:20.194Z"
   },
   {
    "duration": 9,
    "start_time": "2022-05-06T11:07:20.214Z"
   },
   {
    "duration": 45,
    "start_time": "2022-05-06T11:07:20.226Z"
   },
   {
    "duration": 14,
    "start_time": "2022-05-06T11:07:20.274Z"
   },
   {
    "duration": 20,
    "start_time": "2022-05-06T11:07:20.290Z"
   },
   {
    "duration": 41,
    "start_time": "2022-05-06T11:07:20.313Z"
   },
   {
    "duration": 31,
    "start_time": "2022-05-06T11:07:20.357Z"
   },
   {
    "duration": 24,
    "start_time": "2022-05-06T11:07:20.391Z"
   },
   {
    "duration": 8,
    "start_time": "2022-05-06T11:07:20.418Z"
   },
   {
    "duration": 32,
    "start_time": "2022-05-06T11:07:20.428Z"
   },
   {
    "duration": 12,
    "start_time": "2022-05-06T11:07:20.462Z"
   },
   {
    "duration": 29,
    "start_time": "2022-05-06T11:07:20.477Z"
   },
   {
    "duration": 13,
    "start_time": "2022-05-06T11:07:20.508Z"
   },
   {
    "duration": 35,
    "start_time": "2022-05-06T11:07:20.523Z"
   },
   {
    "duration": 15,
    "start_time": "2022-05-06T11:07:20.560Z"
   },
   {
    "duration": 5,
    "start_time": "2022-05-06T11:07:20.577Z"
   },
   {
    "duration": 11,
    "start_time": "2022-05-06T11:07:20.584Z"
   },
   {
    "duration": 22,
    "start_time": "2022-05-06T11:07:20.597Z"
   },
   {
    "duration": 31,
    "start_time": "2022-05-06T11:07:20.621Z"
   },
   {
    "duration": 8517,
    "start_time": "2022-05-06T11:07:20.655Z"
   },
   {
    "duration": 21,
    "start_time": "2022-05-06T11:07:29.175Z"
   },
   {
    "duration": 283,
    "start_time": "2022-05-06T11:07:29.199Z"
   },
   {
    "duration": 413,
    "start_time": "2022-05-06T11:07:29.484Z"
   },
   {
    "duration": 2206,
    "start_time": "2022-05-06T11:07:29.951Z"
   },
   {
    "duration": 16,
    "start_time": "2022-05-06T11:07:32.160Z"
   },
   {
    "duration": 700,
    "start_time": "2022-05-06T11:07:32.183Z"
   },
   {
    "duration": 321,
    "start_time": "2022-05-06T11:07:32.885Z"
   },
   {
    "duration": 860,
    "start_time": "2022-05-06T11:07:33.208Z"
   },
   {
    "duration": 17,
    "start_time": "2022-05-06T11:07:34.070Z"
   },
   {
    "duration": 309,
    "start_time": "2022-05-06T11:07:34.089Z"
   },
   {
    "duration": 8,
    "start_time": "2022-05-06T11:07:34.400Z"
   },
   {
    "duration": 16,
    "start_time": "2022-05-06T11:07:34.411Z"
   },
   {
    "duration": 218,
    "start_time": "2022-05-06T11:07:34.453Z"
   },
   {
    "duration": 7,
    "start_time": "2022-05-06T11:07:34.673Z"
   },
   {
    "duration": 657,
    "start_time": "2022-05-06T11:07:34.683Z"
   },
   {
    "duration": 22,
    "start_time": "2022-05-06T11:07:35.344Z"
   },
   {
    "duration": 35,
    "start_time": "2022-05-06T11:07:35.368Z"
   },
   {
    "duration": 94,
    "start_time": "2022-05-06T11:07:35.406Z"
   },
   {
    "duration": 26,
    "start_time": "2022-05-06T11:07:35.503Z"
   },
   {
    "duration": 11948,
    "start_time": "2022-05-06T11:12:55.150Z"
   },
   {
    "duration": 855,
    "start_time": "2022-05-06T11:14:38.501Z"
   },
   {
    "duration": 112,
    "start_time": "2022-05-06T11:15:25.760Z"
   },
   {
    "duration": 866,
    "start_time": "2022-05-06T11:16:59.570Z"
   },
   {
    "duration": 873,
    "start_time": "2022-05-06T11:17:22.419Z"
   },
   {
    "duration": 416,
    "start_time": "2022-05-06T11:20:47.182Z"
   },
   {
    "duration": 205,
    "start_time": "2022-05-06T11:22:32.953Z"
   },
   {
    "duration": 204,
    "start_time": "2022-05-06T11:22:44.903Z"
   },
   {
    "duration": 197,
    "start_time": "2022-05-06T11:23:12.404Z"
   },
   {
    "duration": 200,
    "start_time": "2022-05-06T11:25:08.923Z"
   },
   {
    "duration": 195,
    "start_time": "2022-05-06T11:25:22.809Z"
   },
   {
    "duration": 11,
    "start_time": "2022-05-06T11:27:27.772Z"
   },
   {
    "duration": 95,
    "start_time": "2022-05-06T11:27:45.015Z"
   },
   {
    "duration": 12,
    "start_time": "2022-05-06T11:27:48.450Z"
   },
   {
    "duration": 195,
    "start_time": "2022-05-06T11:28:16.673Z"
   },
   {
    "duration": 173,
    "start_time": "2022-05-06T11:31:08.882Z"
   },
   {
    "duration": 202,
    "start_time": "2022-05-06T11:32:20.959Z"
   },
   {
    "duration": 261,
    "start_time": "2022-05-06T11:33:24.134Z"
   },
   {
    "duration": 24,
    "start_time": "2022-05-06T11:35:35.209Z"
   },
   {
    "duration": 1423,
    "start_time": "2022-05-06T11:36:18.273Z"
   },
   {
    "duration": 186,
    "start_time": "2022-05-06T11:36:36.889Z"
   },
   {
    "duration": 384,
    "start_time": "2022-05-06T11:38:45.573Z"
   },
   {
    "duration": 265,
    "start_time": "2022-05-06T11:39:09.990Z"
   },
   {
    "duration": 948,
    "start_time": "2022-05-06T11:39:53.487Z"
   },
   {
    "duration": 368,
    "start_time": "2022-05-06T11:40:32.009Z"
   },
   {
    "duration": 378,
    "start_time": "2022-05-06T11:40:41.309Z"
   },
   {
    "duration": 1329,
    "start_time": "2022-05-06T11:41:14.900Z"
   },
   {
    "duration": 331,
    "start_time": "2022-05-06T11:42:45.081Z"
   },
   {
    "duration": 282,
    "start_time": "2022-05-06T11:43:59.037Z"
   },
   {
    "duration": 205,
    "start_time": "2022-05-06T11:44:13.134Z"
   },
   {
    "duration": 600,
    "start_time": "2022-05-06T11:47:32.381Z"
   },
   {
    "duration": 660,
    "start_time": "2022-05-06T11:47:49.025Z"
   },
   {
    "duration": 117,
    "start_time": "2022-05-06T11:58:24.809Z"
   },
   {
    "duration": 15,
    "start_time": "2022-05-06T12:00:14.559Z"
   },
   {
    "duration": 19,
    "start_time": "2022-05-06T12:04:39.849Z"
   },
   {
    "duration": 99,
    "start_time": "2022-05-06T12:05:19.489Z"
   },
   {
    "duration": 87,
    "start_time": "2022-05-06T12:05:42.560Z"
   },
   {
    "duration": 65,
    "start_time": "2022-05-06T12:08:32.530Z"
   },
   {
    "duration": 31,
    "start_time": "2022-05-06T12:09:18.678Z"
   },
   {
    "duration": 1515,
    "start_time": "2022-05-06T12:11:41.688Z"
   },
   {
    "duration": 26,
    "start_time": "2022-05-06T12:11:43.206Z"
   },
   {
    "duration": 31,
    "start_time": "2022-05-06T12:11:43.235Z"
   },
   {
    "duration": 7,
    "start_time": "2022-05-06T12:11:43.270Z"
   },
   {
    "duration": 28,
    "start_time": "2022-05-06T12:11:43.279Z"
   },
   {
    "duration": 10,
    "start_time": "2022-05-06T12:11:43.309Z"
   },
   {
    "duration": 54,
    "start_time": "2022-05-06T12:11:43.321Z"
   },
   {
    "duration": 18,
    "start_time": "2022-05-06T12:11:43.377Z"
   },
   {
    "duration": 35,
    "start_time": "2022-05-06T12:11:43.397Z"
   },
   {
    "duration": 47,
    "start_time": "2022-05-06T12:11:43.435Z"
   },
   {
    "duration": 6,
    "start_time": "2022-05-06T12:11:43.485Z"
   },
   {
    "duration": 19,
    "start_time": "2022-05-06T12:11:43.493Z"
   },
   {
    "duration": 9,
    "start_time": "2022-05-06T12:11:43.514Z"
   },
   {
    "duration": 58,
    "start_time": "2022-05-06T12:11:43.525Z"
   },
   {
    "duration": 13,
    "start_time": "2022-05-06T12:11:43.585Z"
   },
   {
    "duration": 11,
    "start_time": "2022-05-06T12:11:43.600Z"
   },
   {
    "duration": 61,
    "start_time": "2022-05-06T12:11:43.613Z"
   },
   {
    "duration": 7,
    "start_time": "2022-05-06T12:11:43.677Z"
   },
   {
    "duration": 9,
    "start_time": "2022-05-06T12:11:43.686Z"
   },
   {
    "duration": 9,
    "start_time": "2022-05-06T12:11:43.697Z"
   },
   {
    "duration": 7,
    "start_time": "2022-05-06T12:11:43.708Z"
   },
   {
    "duration": 9189,
    "start_time": "2022-05-06T12:11:43.755Z"
   },
   {
    "duration": 28,
    "start_time": "2022-05-06T12:11:52.947Z"
   },
   {
    "duration": 305,
    "start_time": "2022-05-06T12:11:52.977Z"
   },
   {
    "duration": 242,
    "start_time": "2022-05-06T12:11:53.284Z"
   },
   {
    "duration": 1154,
    "start_time": "2022-05-06T12:11:53.529Z"
   },
   {
    "duration": 13,
    "start_time": "2022-05-06T12:11:54.685Z"
   },
   {
    "duration": 296,
    "start_time": "2022-05-06T12:11:54.703Z"
   },
   {
    "duration": 192,
    "start_time": "2022-05-06T12:11:55.001Z"
   },
   {
    "duration": 1139,
    "start_time": "2022-05-06T12:11:55.195Z"
   },
   {
    "duration": 33,
    "start_time": "2022-05-06T12:11:56.337Z"
   },
   {
    "duration": 262,
    "start_time": "2022-05-06T12:11:56.372Z"
   },
   {
    "duration": 16,
    "start_time": "2022-05-06T12:11:56.636Z"
   },
   {
    "duration": 21,
    "start_time": "2022-05-06T12:11:56.654Z"
   },
   {
    "duration": 244,
    "start_time": "2022-05-06T12:11:56.677Z"
   },
   {
    "duration": 231,
    "start_time": "2022-05-06T12:11:56.924Z"
   },
   {
    "duration": 8,
    "start_time": "2022-05-06T12:11:57.158Z"
   },
   {
    "duration": 638,
    "start_time": "2022-05-06T12:11:57.170Z"
   },
   {
    "duration": 15,
    "start_time": "2022-05-06T12:11:57.811Z"
   },
   {
    "duration": 41,
    "start_time": "2022-05-06T12:11:57.828Z"
   },
   {
    "duration": 45,
    "start_time": "2022-05-06T12:11:57.871Z"
   },
   {
    "duration": 57,
    "start_time": "2022-05-06T12:11:57.918Z"
   },
   {
    "duration": 113,
    "start_time": "2022-05-06T13:09:19.173Z"
   }
  ],
  "kernelspec": {
   "display_name": "Python 3 (ipykernel)",
   "language": "python",
   "name": "python3"
  },
  "language_info": {
   "codemirror_mode": {
    "name": "ipython",
    "version": 3
   },
   "file_extension": ".py",
   "mimetype": "text/x-python",
   "name": "python",
   "nbconvert_exporter": "python",
   "pygments_lexer": "ipython3",
   "version": "3.9.7"
  },
  "toc": {
   "base_numbering": 1,
   "nav_menu": {},
   "number_sections": true,
   "sideBar": true,
   "skip_h1_title": true,
   "title_cell": "Table of Contents",
   "title_sidebar": "Contents",
   "toc_cell": false,
   "toc_position": {
    "height": "calc(100% - 180px)",
    "left": "10px",
    "top": "150px",
    "width": "165px"
   },
   "toc_section_display": true,
   "toc_window_display": true
  }
 },
 "nbformat": 4,
 "nbformat_minor": 2
}
