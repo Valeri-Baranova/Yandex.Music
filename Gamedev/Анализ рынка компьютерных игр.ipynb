{
 "cells": [
  {
   "cell_type": "markdown",
   "metadata": {},
   "source": [
    "# Анализ рынка компьютерных игр"
   ]
  },
  {
   "cell_type": "markdown",
   "metadata": {},
   "source": [
    "Вы работаете в интернет-магазине «Стримчик», который продаёт по всему миру компьютерные игры. Из открытых источников доступны исторические данные о продажах игр, оценки пользователей и экспертов, жанры и платформы (например, Xbox или PlayStation). Вам нужно выявить определяющие успешность игры закономерности. Это позволит сделать ставку на потенциально популярный продукт и спланировать рекламные кампании.\n",
    "\n",
    "Перед вами данные до 2016 года. Представим, что сейчас декабрь 2016 г., и вы планируете кампанию на 2017-й. Нужно отработать принцип работы с данными. Неважно, прогнозируете ли вы продажи на 2017 год по данным 2016-го или же 2027-й — по данным 2026 года.\n",
    "\n",
    "В наборе данных попадается аббревиатура ESRB (Entertainment Software Rating Board) — это ассоциация, определяющая возрастной рейтинг компьютерных игр. ESRB оценивает игровой контент и присваивает ему подходящую возрастную категорию, например, «Для взрослых», «Для детей младшего возраста» или «Для подростков».\n"
   ]
  },
  {
   "cell_type": "markdown",
   "metadata": {},
   "source": [
    "## Изучение данных"
   ]
  },
  {
   "cell_type": "code",
   "execution_count": 1,
   "metadata": {},
   "outputs": [
    {
     "data": {
      "text/html": [
       "<div>\n",
       "<style scoped>\n",
       "    .dataframe tbody tr th:only-of-type {\n",
       "        vertical-align: middle;\n",
       "    }\n",
       "\n",
       "    .dataframe tbody tr th {\n",
       "        vertical-align: top;\n",
       "    }\n",
       "\n",
       "    .dataframe thead th {\n",
       "        text-align: right;\n",
       "    }\n",
       "</style>\n",
       "<table border=\"1\" class=\"dataframe\">\n",
       "  <thead>\n",
       "    <tr style=\"text-align: right;\">\n",
       "      <th></th>\n",
       "      <th>Name</th>\n",
       "      <th>Platform</th>\n",
       "      <th>Year_of_Release</th>\n",
       "      <th>Genre</th>\n",
       "      <th>NA_sales</th>\n",
       "      <th>EU_sales</th>\n",
       "      <th>JP_sales</th>\n",
       "      <th>Other_sales</th>\n",
       "      <th>Critic_Score</th>\n",
       "      <th>User_Score</th>\n",
       "      <th>Rating</th>\n",
       "    </tr>\n",
       "  </thead>\n",
       "  <tbody>\n",
       "    <tr>\n",
       "      <th>0</th>\n",
       "      <td>Wii Sports</td>\n",
       "      <td>Wii</td>\n",
       "      <td>2006.0</td>\n",
       "      <td>Sports</td>\n",
       "      <td>41.36</td>\n",
       "      <td>28.96</td>\n",
       "      <td>3.77</td>\n",
       "      <td>8.45</td>\n",
       "      <td>76.0</td>\n",
       "      <td>8</td>\n",
       "      <td>E</td>\n",
       "    </tr>\n",
       "    <tr>\n",
       "      <th>1</th>\n",
       "      <td>Super Mario Bros.</td>\n",
       "      <td>NES</td>\n",
       "      <td>1985.0</td>\n",
       "      <td>Platform</td>\n",
       "      <td>29.08</td>\n",
       "      <td>3.58</td>\n",
       "      <td>6.81</td>\n",
       "      <td>0.77</td>\n",
       "      <td>NaN</td>\n",
       "      <td>NaN</td>\n",
       "      <td>NaN</td>\n",
       "    </tr>\n",
       "    <tr>\n",
       "      <th>2</th>\n",
       "      <td>Mario Kart Wii</td>\n",
       "      <td>Wii</td>\n",
       "      <td>2008.0</td>\n",
       "      <td>Racing</td>\n",
       "      <td>15.68</td>\n",
       "      <td>12.76</td>\n",
       "      <td>3.79</td>\n",
       "      <td>3.29</td>\n",
       "      <td>82.0</td>\n",
       "      <td>8.3</td>\n",
       "      <td>E</td>\n",
       "    </tr>\n",
       "    <tr>\n",
       "      <th>3</th>\n",
       "      <td>Wii Sports Resort</td>\n",
       "      <td>Wii</td>\n",
       "      <td>2009.0</td>\n",
       "      <td>Sports</td>\n",
       "      <td>15.61</td>\n",
       "      <td>10.93</td>\n",
       "      <td>3.28</td>\n",
       "      <td>2.95</td>\n",
       "      <td>80.0</td>\n",
       "      <td>8</td>\n",
       "      <td>E</td>\n",
       "    </tr>\n",
       "    <tr>\n",
       "      <th>4</th>\n",
       "      <td>Pokemon Red/Pokemon Blue</td>\n",
       "      <td>GB</td>\n",
       "      <td>1996.0</td>\n",
       "      <td>Role-Playing</td>\n",
       "      <td>11.27</td>\n",
       "      <td>8.89</td>\n",
       "      <td>10.22</td>\n",
       "      <td>1.00</td>\n",
       "      <td>NaN</td>\n",
       "      <td>NaN</td>\n",
       "      <td>NaN</td>\n",
       "    </tr>\n",
       "    <tr>\n",
       "      <th>5</th>\n",
       "      <td>Tetris</td>\n",
       "      <td>GB</td>\n",
       "      <td>1989.0</td>\n",
       "      <td>Puzzle</td>\n",
       "      <td>23.20</td>\n",
       "      <td>2.26</td>\n",
       "      <td>4.22</td>\n",
       "      <td>0.58</td>\n",
       "      <td>NaN</td>\n",
       "      <td>NaN</td>\n",
       "      <td>NaN</td>\n",
       "    </tr>\n",
       "    <tr>\n",
       "      <th>6</th>\n",
       "      <td>New Super Mario Bros.</td>\n",
       "      <td>DS</td>\n",
       "      <td>2006.0</td>\n",
       "      <td>Platform</td>\n",
       "      <td>11.28</td>\n",
       "      <td>9.14</td>\n",
       "      <td>6.50</td>\n",
       "      <td>2.88</td>\n",
       "      <td>89.0</td>\n",
       "      <td>8.5</td>\n",
       "      <td>E</td>\n",
       "    </tr>\n",
       "    <tr>\n",
       "      <th>7</th>\n",
       "      <td>Wii Play</td>\n",
       "      <td>Wii</td>\n",
       "      <td>2006.0</td>\n",
       "      <td>Misc</td>\n",
       "      <td>13.96</td>\n",
       "      <td>9.18</td>\n",
       "      <td>2.93</td>\n",
       "      <td>2.84</td>\n",
       "      <td>58.0</td>\n",
       "      <td>6.6</td>\n",
       "      <td>E</td>\n",
       "    </tr>\n",
       "    <tr>\n",
       "      <th>8</th>\n",
       "      <td>New Super Mario Bros. Wii</td>\n",
       "      <td>Wii</td>\n",
       "      <td>2009.0</td>\n",
       "      <td>Platform</td>\n",
       "      <td>14.44</td>\n",
       "      <td>6.94</td>\n",
       "      <td>4.70</td>\n",
       "      <td>2.24</td>\n",
       "      <td>87.0</td>\n",
       "      <td>8.4</td>\n",
       "      <td>E</td>\n",
       "    </tr>\n",
       "    <tr>\n",
       "      <th>9</th>\n",
       "      <td>Duck Hunt</td>\n",
       "      <td>NES</td>\n",
       "      <td>1984.0</td>\n",
       "      <td>Shooter</td>\n",
       "      <td>26.93</td>\n",
       "      <td>0.63</td>\n",
       "      <td>0.28</td>\n",
       "      <td>0.47</td>\n",
       "      <td>NaN</td>\n",
       "      <td>NaN</td>\n",
       "      <td>NaN</td>\n",
       "    </tr>\n",
       "  </tbody>\n",
       "</table>\n",
       "</div>"
      ],
      "text/plain": [
       "                        Name Platform  Year_of_Release         Genre  \\\n",
       "0                 Wii Sports      Wii           2006.0        Sports   \n",
       "1          Super Mario Bros.      NES           1985.0      Platform   \n",
       "2             Mario Kart Wii      Wii           2008.0        Racing   \n",
       "3          Wii Sports Resort      Wii           2009.0        Sports   \n",
       "4   Pokemon Red/Pokemon Blue       GB           1996.0  Role-Playing   \n",
       "5                     Tetris       GB           1989.0        Puzzle   \n",
       "6      New Super Mario Bros.       DS           2006.0      Platform   \n",
       "7                   Wii Play      Wii           2006.0          Misc   \n",
       "8  New Super Mario Bros. Wii      Wii           2009.0      Platform   \n",
       "9                  Duck Hunt      NES           1984.0       Shooter   \n",
       "\n",
       "   NA_sales  EU_sales  JP_sales  Other_sales  Critic_Score User_Score Rating  \n",
       "0     41.36     28.96      3.77         8.45          76.0          8      E  \n",
       "1     29.08      3.58      6.81         0.77           NaN        NaN    NaN  \n",
       "2     15.68     12.76      3.79         3.29          82.0        8.3      E  \n",
       "3     15.61     10.93      3.28         2.95          80.0          8      E  \n",
       "4     11.27      8.89     10.22         1.00           NaN        NaN    NaN  \n",
       "5     23.20      2.26      4.22         0.58           NaN        NaN    NaN  \n",
       "6     11.28      9.14      6.50         2.88          89.0        8.5      E  \n",
       "7     13.96      9.18      2.93         2.84          58.0        6.6      E  \n",
       "8     14.44      6.94      4.70         2.24          87.0        8.4      E  \n",
       "9     26.93      0.63      0.28         0.47           NaN        NaN    NaN  "
      ]
     },
     "execution_count": 1,
     "metadata": {},
     "output_type": "execute_result"
    }
   ],
   "source": [
    "import pandas as  pd\n",
    "import matplotlib.pyplot as plt\n",
    "import seaborn as sns\n",
    "from scipy import stats as st\n",
    "import pandas as pd\n",
    "df = pd.read_csv('/datasets/games.csv')\n",
    "df.head(10)"
   ]
  },
  {
   "cell_type": "code",
   "execution_count": 2,
   "metadata": {},
   "outputs": [
    {
     "name": "stdout",
     "output_type": "stream",
     "text": [
      "<class 'pandas.core.frame.DataFrame'>\n",
      "RangeIndex: 16715 entries, 0 to 16714\n",
      "Data columns (total 11 columns):\n",
      " #   Column           Non-Null Count  Dtype  \n",
      "---  ------           --------------  -----  \n",
      " 0   Name             16713 non-null  object \n",
      " 1   Platform         16715 non-null  object \n",
      " 2   Year_of_Release  16446 non-null  float64\n",
      " 3   Genre            16713 non-null  object \n",
      " 4   NA_sales         16715 non-null  float64\n",
      " 5   EU_sales         16715 non-null  float64\n",
      " 6   JP_sales         16715 non-null  float64\n",
      " 7   Other_sales      16715 non-null  float64\n",
      " 8   Critic_Score     8137 non-null   float64\n",
      " 9   User_Score       10014 non-null  object \n",
      " 10  Rating           9949 non-null   object \n",
      "dtypes: float64(6), object(5)\n",
      "memory usage: 1.4+ MB\n"
     ]
    }
   ],
   "source": [
    "df.info()"
   ]
  },
  {
   "cell_type": "code",
   "execution_count": 3,
   "metadata": {},
   "outputs": [
    {
     "data": {
      "text/plain": [
       "Name               0.000120\n",
       "Platform           0.000000\n",
       "Year_of_Release    0.016093\n",
       "Genre              0.000120\n",
       "NA_sales           0.000000\n",
       "EU_sales           0.000000\n",
       "JP_sales           0.000000\n",
       "Other_sales        0.000000\n",
       "Critic_Score       0.513192\n",
       "User_Score         0.400897\n",
       "Rating             0.404786\n",
       "dtype: float64"
      ]
     },
     "execution_count": 3,
     "metadata": {},
     "output_type": "execute_result"
    }
   ],
   "source": [
    "df.isna().mean()"
   ]
  },
  {
   "cell_type": "code",
   "execution_count": 4,
   "metadata": {},
   "outputs": [
    {
     "data": {
      "text/plain": [
       "0"
      ]
     },
     "execution_count": 4,
     "metadata": {},
     "output_type": "execute_result"
    }
   ],
   "source": [
    "df.duplicated().sum() # проверяем на наличие дубликатов"
   ]
  },
  {
   "cell_type": "markdown",
   "metadata": {},
   "source": [
    "### Вывод"
   ]
  },
  {
   "cell_type": "markdown",
   "metadata": {},
   "source": [
    "Можно отметить следующее:\n",
    "\n",
    "- имеются пропуски в данных\n",
    "- названия колонок не в \"змеинном\" регистре\n",
    "- в некотрых колонках нужно изменить тип данных\n",
    "- дубликатов не имеется"
   ]
  },
  {
   "cell_type": "code",
   "execution_count": 5,
   "metadata": {},
   "outputs": [
    {
     "name": "stdout",
     "output_type": "stream",
     "text": [
      "<class 'pandas.core.frame.DataFrame'>\n",
      "RangeIndex: 16715 entries, 0 to 16714\n",
      "Data columns (total 11 columns):\n",
      " #   Column           Non-Null Count  Dtype  \n",
      "---  ------           --------------  -----  \n",
      " 0   name             16713 non-null  object \n",
      " 1   platform         16715 non-null  object \n",
      " 2   year_of_release  16446 non-null  float64\n",
      " 3   genre            16713 non-null  object \n",
      " 4   na_sales         16715 non-null  float64\n",
      " 5   eu_sales         16715 non-null  float64\n",
      " 6   jp_sales         16715 non-null  float64\n",
      " 7   other_sales      16715 non-null  float64\n",
      " 8   critic_score     8137 non-null   float64\n",
      " 9   user_score       10014 non-null  object \n",
      " 10  rating           9949 non-null   object \n",
      "dtypes: float64(6), object(5)\n",
      "memory usage: 1.4+ MB\n"
     ]
    }
   ],
   "source": [
    "df = df.rename(columns={'Name':'name',\n",
    "                       'Platform':'platform',\n",
    "                       'Year_of_Release':'year_of_release',\n",
    "                       'Genre':'genre',\n",
    "                       'NA_sales':'na_sales',\n",
    "                       'EU_sales':'eu_sales',\n",
    "                       'JP_sales':'jp_sales',\n",
    "                       'Other_sales':'other_sales',\n",
    "                       'Critic_Score':'critic_score',\n",
    "                       'User_Score':'user_score',\n",
    "                       'Rating':'rating'}\n",
    "              )\n",
    "df.info()"
   ]
  },
  {
   "cell_type": "markdown",
   "metadata": {},
   "source": [
    "В столбце 'year_of_release' нецелочисленный тип данных, колонку с годами нужно превести в тип int"
   ]
  },
  {
   "cell_type": "code",
   "execution_count": 6,
   "metadata": {},
   "outputs": [
    {
     "data": {
      "text/html": [
       "<div>\n",
       "<style scoped>\n",
       "    .dataframe tbody tr th:only-of-type {\n",
       "        vertical-align: middle;\n",
       "    }\n",
       "\n",
       "    .dataframe tbody tr th {\n",
       "        vertical-align: top;\n",
       "    }\n",
       "\n",
       "    .dataframe thead th {\n",
       "        text-align: right;\n",
       "    }\n",
       "</style>\n",
       "<table border=\"1\" class=\"dataframe\">\n",
       "  <thead>\n",
       "    <tr style=\"text-align: right;\">\n",
       "      <th></th>\n",
       "      <th>name</th>\n",
       "      <th>platform</th>\n",
       "      <th>year_of_release</th>\n",
       "      <th>genre</th>\n",
       "      <th>na_sales</th>\n",
       "      <th>eu_sales</th>\n",
       "      <th>jp_sales</th>\n",
       "      <th>other_sales</th>\n",
       "      <th>critic_score</th>\n",
       "      <th>user_score</th>\n",
       "      <th>rating</th>\n",
       "    </tr>\n",
       "  </thead>\n",
       "  <tbody>\n",
       "    <tr>\n",
       "      <th>0</th>\n",
       "      <td>Wii Sports</td>\n",
       "      <td>Wii</td>\n",
       "      <td>2006</td>\n",
       "      <td>Sports</td>\n",
       "      <td>41.36</td>\n",
       "      <td>28.96</td>\n",
       "      <td>3.77</td>\n",
       "      <td>8.45</td>\n",
       "      <td>76.0</td>\n",
       "      <td>8</td>\n",
       "      <td>E</td>\n",
       "    </tr>\n",
       "    <tr>\n",
       "      <th>1</th>\n",
       "      <td>Super Mario Bros.</td>\n",
       "      <td>NES</td>\n",
       "      <td>1985</td>\n",
       "      <td>Platform</td>\n",
       "      <td>29.08</td>\n",
       "      <td>3.58</td>\n",
       "      <td>6.81</td>\n",
       "      <td>0.77</td>\n",
       "      <td>NaN</td>\n",
       "      <td>NaN</td>\n",
       "      <td>NaN</td>\n",
       "    </tr>\n",
       "    <tr>\n",
       "      <th>2</th>\n",
       "      <td>Mario Kart Wii</td>\n",
       "      <td>Wii</td>\n",
       "      <td>2008</td>\n",
       "      <td>Racing</td>\n",
       "      <td>15.68</td>\n",
       "      <td>12.76</td>\n",
       "      <td>3.79</td>\n",
       "      <td>3.29</td>\n",
       "      <td>82.0</td>\n",
       "      <td>8.3</td>\n",
       "      <td>E</td>\n",
       "    </tr>\n",
       "    <tr>\n",
       "      <th>3</th>\n",
       "      <td>Wii Sports Resort</td>\n",
       "      <td>Wii</td>\n",
       "      <td>2009</td>\n",
       "      <td>Sports</td>\n",
       "      <td>15.61</td>\n",
       "      <td>10.93</td>\n",
       "      <td>3.28</td>\n",
       "      <td>2.95</td>\n",
       "      <td>80.0</td>\n",
       "      <td>8</td>\n",
       "      <td>E</td>\n",
       "    </tr>\n",
       "    <tr>\n",
       "      <th>4</th>\n",
       "      <td>Pokemon Red/Pokemon Blue</td>\n",
       "      <td>GB</td>\n",
       "      <td>1996</td>\n",
       "      <td>Role-Playing</td>\n",
       "      <td>11.27</td>\n",
       "      <td>8.89</td>\n",
       "      <td>10.22</td>\n",
       "      <td>1.00</td>\n",
       "      <td>NaN</td>\n",
       "      <td>NaN</td>\n",
       "      <td>NaN</td>\n",
       "    </tr>\n",
       "  </tbody>\n",
       "</table>\n",
       "</div>"
      ],
      "text/plain": [
       "                       name platform  year_of_release         genre  na_sales  \\\n",
       "0                Wii Sports      Wii             2006        Sports     41.36   \n",
       "1         Super Mario Bros.      NES             1985      Platform     29.08   \n",
       "2            Mario Kart Wii      Wii             2008        Racing     15.68   \n",
       "3         Wii Sports Resort      Wii             2009        Sports     15.61   \n",
       "4  Pokemon Red/Pokemon Blue       GB             1996  Role-Playing     11.27   \n",
       "\n",
       "   eu_sales  jp_sales  other_sales  critic_score user_score rating  \n",
       "0     28.96      3.77         8.45          76.0          8      E  \n",
       "1      3.58      6.81         0.77           NaN        NaN    NaN  \n",
       "2     12.76      3.79         3.29          82.0        8.3      E  \n",
       "3     10.93      3.28         2.95          80.0          8      E  \n",
       "4      8.89     10.22         1.00           NaN        NaN    NaN  "
      ]
     },
     "execution_count": 6,
     "metadata": {},
     "output_type": "execute_result"
    }
   ],
   "source": [
    "df['year_of_release'] = df['year_of_release'].astype('Int64')\n",
    "df.head()"
   ]
  },
  {
   "cell_type": "markdown",
   "metadata": {},
   "source": [
    "В колонке 'user_score' нечисловой формат, переведём оценки в тип float"
   ]
  },
  {
   "cell_type": "code",
   "execution_count": 7,
   "metadata": {
    "scrolled": false
   },
   "outputs": [
    {
     "name": "stdout",
     "output_type": "stream",
     "text": [
      "<class 'pandas.core.frame.DataFrame'>\n",
      "RangeIndex: 16715 entries, 0 to 16714\n",
      "Data columns (total 11 columns):\n",
      " #   Column           Non-Null Count  Dtype  \n",
      "---  ------           --------------  -----  \n",
      " 0   name             16713 non-null  object \n",
      " 1   platform         16715 non-null  object \n",
      " 2   year_of_release  16446 non-null  Int64  \n",
      " 3   genre            16713 non-null  object \n",
      " 4   na_sales         16715 non-null  float64\n",
      " 5   eu_sales         16715 non-null  float64\n",
      " 6   jp_sales         16715 non-null  float64\n",
      " 7   other_sales      16715 non-null  float64\n",
      " 8   critic_score     8137 non-null   float64\n",
      " 9   user_score       7590 non-null   float64\n",
      " 10  rating           9949 non-null   object \n",
      "dtypes: Int64(1), float64(6), object(4)\n",
      "memory usage: 1.4+ MB\n"
     ]
    }
   ],
   "source": [
    "df['user_score'] = pd.to_numeric(df['user_score'], errors='coerce') \n",
    "df.info()"
   ]
  },
  {
   "cell_type": "markdown",
   "metadata": {},
   "source": [
    "**Рассмотрим пропуски в столбцах**"
   ]
  },
  {
   "cell_type": "markdown",
   "metadata": {},
   "source": [
    "Столбец 'name'"
   ]
  },
  {
   "cell_type": "code",
   "execution_count": 8,
   "metadata": {},
   "outputs": [
    {
     "data": {
      "text/html": [
       "<div>\n",
       "<style scoped>\n",
       "    .dataframe tbody tr th:only-of-type {\n",
       "        vertical-align: middle;\n",
       "    }\n",
       "\n",
       "    .dataframe tbody tr th {\n",
       "        vertical-align: top;\n",
       "    }\n",
       "\n",
       "    .dataframe thead th {\n",
       "        text-align: right;\n",
       "    }\n",
       "</style>\n",
       "<table border=\"1\" class=\"dataframe\">\n",
       "  <thead>\n",
       "    <tr style=\"text-align: right;\">\n",
       "      <th></th>\n",
       "      <th>name</th>\n",
       "      <th>platform</th>\n",
       "      <th>year_of_release</th>\n",
       "      <th>genre</th>\n",
       "      <th>na_sales</th>\n",
       "      <th>eu_sales</th>\n",
       "      <th>jp_sales</th>\n",
       "      <th>other_sales</th>\n",
       "      <th>critic_score</th>\n",
       "      <th>user_score</th>\n",
       "      <th>rating</th>\n",
       "    </tr>\n",
       "  </thead>\n",
       "  <tbody>\n",
       "    <tr>\n",
       "      <th>659</th>\n",
       "      <td>NaN</td>\n",
       "      <td>GEN</td>\n",
       "      <td>1993</td>\n",
       "      <td>NaN</td>\n",
       "      <td>1.78</td>\n",
       "      <td>0.53</td>\n",
       "      <td>0.00</td>\n",
       "      <td>0.08</td>\n",
       "      <td>NaN</td>\n",
       "      <td>NaN</td>\n",
       "      <td>NaN</td>\n",
       "    </tr>\n",
       "    <tr>\n",
       "      <th>14244</th>\n",
       "      <td>NaN</td>\n",
       "      <td>GEN</td>\n",
       "      <td>1993</td>\n",
       "      <td>NaN</td>\n",
       "      <td>0.00</td>\n",
       "      <td>0.00</td>\n",
       "      <td>0.03</td>\n",
       "      <td>0.00</td>\n",
       "      <td>NaN</td>\n",
       "      <td>NaN</td>\n",
       "      <td>NaN</td>\n",
       "    </tr>\n",
       "  </tbody>\n",
       "</table>\n",
       "</div>"
      ],
      "text/plain": [
       "      name platform  year_of_release genre  na_sales  eu_sales  jp_sales  \\\n",
       "659    NaN      GEN             1993   NaN      1.78      0.53      0.00   \n",
       "14244  NaN      GEN             1993   NaN      0.00      0.00      0.03   \n",
       "\n",
       "       other_sales  critic_score  user_score rating  \n",
       "659           0.08           NaN         NaN    NaN  \n",
       "14244         0.00           NaN         NaN    NaN  "
      ]
     },
     "execution_count": 8,
     "metadata": {},
     "output_type": "execute_result"
    }
   ],
   "source": [
    "df[df['name']. isna()].head()"
   ]
  },
  {
   "cell_type": "markdown",
   "metadata": {},
   "source": [
    "Логика в пропусках не прослеживается (ошибка при выводе данных), и пропуска всего 2, что никак не повлияет на исслеование, так что удалим эти строчки "
   ]
  },
  {
   "cell_type": "code",
   "execution_count": 9,
   "metadata": {},
   "outputs": [
    {
     "data": {
      "text/plain": [
       "0"
      ]
     },
     "execution_count": 9,
     "metadata": {},
     "output_type": "execute_result"
    }
   ],
   "source": [
    "df = df.dropna(subset=['name'])\n",
    "df['name'].isna().sum()"
   ]
  },
  {
   "cell_type": "markdown",
   "metadata": {},
   "source": [
    "Столбец 'year_of_release'"
   ]
  },
  {
   "cell_type": "code",
   "execution_count": 10,
   "metadata": {},
   "outputs": [
    {
     "data": {
      "text/html": [
       "<div>\n",
       "<style scoped>\n",
       "    .dataframe tbody tr th:only-of-type {\n",
       "        vertical-align: middle;\n",
       "    }\n",
       "\n",
       "    .dataframe tbody tr th {\n",
       "        vertical-align: top;\n",
       "    }\n",
       "\n",
       "    .dataframe thead th {\n",
       "        text-align: right;\n",
       "    }\n",
       "</style>\n",
       "<table border=\"1\" class=\"dataframe\">\n",
       "  <thead>\n",
       "    <tr style=\"text-align: right;\">\n",
       "      <th></th>\n",
       "      <th>name</th>\n",
       "      <th>platform</th>\n",
       "      <th>year_of_release</th>\n",
       "      <th>genre</th>\n",
       "      <th>na_sales</th>\n",
       "      <th>eu_sales</th>\n",
       "      <th>jp_sales</th>\n",
       "      <th>other_sales</th>\n",
       "      <th>critic_score</th>\n",
       "      <th>user_score</th>\n",
       "      <th>rating</th>\n",
       "    </tr>\n",
       "  </thead>\n",
       "  <tbody>\n",
       "    <tr>\n",
       "      <th>183</th>\n",
       "      <td>Madden NFL 2004</td>\n",
       "      <td>PS2</td>\n",
       "      <td>&lt;NA&gt;</td>\n",
       "      <td>Sports</td>\n",
       "      <td>4.26</td>\n",
       "      <td>0.26</td>\n",
       "      <td>0.01</td>\n",
       "      <td>0.71</td>\n",
       "      <td>94.0</td>\n",
       "      <td>8.5</td>\n",
       "      <td>E</td>\n",
       "    </tr>\n",
       "    <tr>\n",
       "      <th>377</th>\n",
       "      <td>FIFA Soccer 2004</td>\n",
       "      <td>PS2</td>\n",
       "      <td>&lt;NA&gt;</td>\n",
       "      <td>Sports</td>\n",
       "      <td>0.59</td>\n",
       "      <td>2.36</td>\n",
       "      <td>0.04</td>\n",
       "      <td>0.51</td>\n",
       "      <td>84.0</td>\n",
       "      <td>6.4</td>\n",
       "      <td>E</td>\n",
       "    </tr>\n",
       "    <tr>\n",
       "      <th>456</th>\n",
       "      <td>LEGO Batman: The Videogame</td>\n",
       "      <td>Wii</td>\n",
       "      <td>&lt;NA&gt;</td>\n",
       "      <td>Action</td>\n",
       "      <td>1.80</td>\n",
       "      <td>0.97</td>\n",
       "      <td>0.00</td>\n",
       "      <td>0.29</td>\n",
       "      <td>74.0</td>\n",
       "      <td>7.9</td>\n",
       "      <td>E10+</td>\n",
       "    </tr>\n",
       "    <tr>\n",
       "      <th>475</th>\n",
       "      <td>wwe Smackdown vs. Raw 2006</td>\n",
       "      <td>PS2</td>\n",
       "      <td>&lt;NA&gt;</td>\n",
       "      <td>Fighting</td>\n",
       "      <td>1.57</td>\n",
       "      <td>1.02</td>\n",
       "      <td>0.00</td>\n",
       "      <td>0.41</td>\n",
       "      <td>NaN</td>\n",
       "      <td>NaN</td>\n",
       "      <td>NaN</td>\n",
       "    </tr>\n",
       "    <tr>\n",
       "      <th>609</th>\n",
       "      <td>Space Invaders</td>\n",
       "      <td>2600</td>\n",
       "      <td>&lt;NA&gt;</td>\n",
       "      <td>Shooter</td>\n",
       "      <td>2.36</td>\n",
       "      <td>0.14</td>\n",
       "      <td>0.00</td>\n",
       "      <td>0.03</td>\n",
       "      <td>NaN</td>\n",
       "      <td>NaN</td>\n",
       "      <td>NaN</td>\n",
       "    </tr>\n",
       "    <tr>\n",
       "      <th>627</th>\n",
       "      <td>Rock Band</td>\n",
       "      <td>X360</td>\n",
       "      <td>&lt;NA&gt;</td>\n",
       "      <td>Misc</td>\n",
       "      <td>1.93</td>\n",
       "      <td>0.33</td>\n",
       "      <td>0.00</td>\n",
       "      <td>0.21</td>\n",
       "      <td>92.0</td>\n",
       "      <td>8.2</td>\n",
       "      <td>T</td>\n",
       "    </tr>\n",
       "    <tr>\n",
       "      <th>657</th>\n",
       "      <td>Frogger's Adventures: Temple of the Frog</td>\n",
       "      <td>GBA</td>\n",
       "      <td>&lt;NA&gt;</td>\n",
       "      <td>Adventure</td>\n",
       "      <td>2.15</td>\n",
       "      <td>0.18</td>\n",
       "      <td>0.00</td>\n",
       "      <td>0.07</td>\n",
       "      <td>73.0</td>\n",
       "      <td>NaN</td>\n",
       "      <td>E</td>\n",
       "    </tr>\n",
       "    <tr>\n",
       "      <th>678</th>\n",
       "      <td>LEGO Indiana Jones: The Original Adventures</td>\n",
       "      <td>Wii</td>\n",
       "      <td>&lt;NA&gt;</td>\n",
       "      <td>Action</td>\n",
       "      <td>1.51</td>\n",
       "      <td>0.61</td>\n",
       "      <td>0.00</td>\n",
       "      <td>0.21</td>\n",
       "      <td>78.0</td>\n",
       "      <td>6.6</td>\n",
       "      <td>E10+</td>\n",
       "    </tr>\n",
       "    <tr>\n",
       "      <th>719</th>\n",
       "      <td>Call of Duty 3</td>\n",
       "      <td>Wii</td>\n",
       "      <td>&lt;NA&gt;</td>\n",
       "      <td>Shooter</td>\n",
       "      <td>1.17</td>\n",
       "      <td>0.84</td>\n",
       "      <td>0.00</td>\n",
       "      <td>0.23</td>\n",
       "      <td>69.0</td>\n",
       "      <td>6.7</td>\n",
       "      <td>T</td>\n",
       "    </tr>\n",
       "    <tr>\n",
       "      <th>805</th>\n",
       "      <td>Rock Band</td>\n",
       "      <td>Wii</td>\n",
       "      <td>&lt;NA&gt;</td>\n",
       "      <td>Misc</td>\n",
       "      <td>1.33</td>\n",
       "      <td>0.56</td>\n",
       "      <td>0.00</td>\n",
       "      <td>0.20</td>\n",
       "      <td>80.0</td>\n",
       "      <td>6.3</td>\n",
       "      <td>T</td>\n",
       "    </tr>\n",
       "  </tbody>\n",
       "</table>\n",
       "</div>"
      ],
      "text/plain": [
       "                                            name platform  year_of_release  \\\n",
       "183                              Madden NFL 2004      PS2             <NA>   \n",
       "377                             FIFA Soccer 2004      PS2             <NA>   \n",
       "456                   LEGO Batman: The Videogame      Wii             <NA>   \n",
       "475                   wwe Smackdown vs. Raw 2006      PS2             <NA>   \n",
       "609                               Space Invaders     2600             <NA>   \n",
       "627                                    Rock Band     X360             <NA>   \n",
       "657     Frogger's Adventures: Temple of the Frog      GBA             <NA>   \n",
       "678  LEGO Indiana Jones: The Original Adventures      Wii             <NA>   \n",
       "719                               Call of Duty 3      Wii             <NA>   \n",
       "805                                    Rock Band      Wii             <NA>   \n",
       "\n",
       "         genre  na_sales  eu_sales  jp_sales  other_sales  critic_score  \\\n",
       "183     Sports      4.26      0.26      0.01         0.71          94.0   \n",
       "377     Sports      0.59      2.36      0.04         0.51          84.0   \n",
       "456     Action      1.80      0.97      0.00         0.29          74.0   \n",
       "475   Fighting      1.57      1.02      0.00         0.41           NaN   \n",
       "609    Shooter      2.36      0.14      0.00         0.03           NaN   \n",
       "627       Misc      1.93      0.33      0.00         0.21          92.0   \n",
       "657  Adventure      2.15      0.18      0.00         0.07          73.0   \n",
       "678     Action      1.51      0.61      0.00         0.21          78.0   \n",
       "719    Shooter      1.17      0.84      0.00         0.23          69.0   \n",
       "805       Misc      1.33      0.56      0.00         0.20          80.0   \n",
       "\n",
       "     user_score rating  \n",
       "183         8.5      E  \n",
       "377         6.4      E  \n",
       "456         7.9   E10+  \n",
       "475         NaN    NaN  \n",
       "609         NaN    NaN  \n",
       "627         8.2      T  \n",
       "657         NaN      E  \n",
       "678         6.6   E10+  \n",
       "719         6.7      T  \n",
       "805         6.3      T  "
      ]
     },
     "execution_count": 10,
     "metadata": {},
     "output_type": "execute_result"
    }
   ],
   "source": [
    "df[df['year_of_release']. isna()].head(10)"
   ]
  },
  {
   "cell_type": "markdown",
   "metadata": {},
   "source": [
    "Логика в пропусках не прослеживается (ошибка при выводе данных), и доля пропусков незначительна(1.6%), что никак не повлияет на исслеование, так что удалим эти строчки"
   ]
  },
  {
   "cell_type": "code",
   "execution_count": 11,
   "metadata": {
    "scrolled": true
   },
   "outputs": [
    {
     "data": {
      "text/plain": [
       "0"
      ]
     },
     "execution_count": 11,
     "metadata": {},
     "output_type": "execute_result"
    }
   ],
   "source": [
    "df = df.dropna(subset=['year_of_release'])\n",
    "df['year_of_release'].isna().sum()"
   ]
  },
  {
   "cell_type": "markdown",
   "metadata": {},
   "source": [
    "Столбец 'genre'"
   ]
  },
  {
   "cell_type": "markdown",
   "metadata": {},
   "source": [
    "Пропуски в данном столбце удалились, так как они были там же, где и пропуски столбца 'name'"
   ]
  },
  {
   "cell_type": "code",
   "execution_count": 12,
   "metadata": {},
   "outputs": [
    {
     "data": {
      "text/plain": [
       "0"
      ]
     },
     "execution_count": 12,
     "metadata": {},
     "output_type": "execute_result"
    }
   ],
   "source": [
    "df['genre'].isna().sum()"
   ]
  },
  {
   "cell_type": "markdown",
   "metadata": {},
   "source": [
    "Столбецы 'critic_score', 'user_score'"
   ]
  },
  {
   "cell_type": "code",
   "execution_count": 13,
   "metadata": {},
   "outputs": [
    {
     "data": {
      "text/html": [
       "<div>\n",
       "<style scoped>\n",
       "    .dataframe tbody tr th:only-of-type {\n",
       "        vertical-align: middle;\n",
       "    }\n",
       "\n",
       "    .dataframe tbody tr th {\n",
       "        vertical-align: top;\n",
       "    }\n",
       "\n",
       "    .dataframe thead th {\n",
       "        text-align: right;\n",
       "    }\n",
       "</style>\n",
       "<table border=\"1\" class=\"dataframe\">\n",
       "  <thead>\n",
       "    <tr style=\"text-align: right;\">\n",
       "      <th></th>\n",
       "      <th>name</th>\n",
       "      <th>platform</th>\n",
       "      <th>year_of_release</th>\n",
       "      <th>genre</th>\n",
       "      <th>na_sales</th>\n",
       "      <th>eu_sales</th>\n",
       "      <th>jp_sales</th>\n",
       "      <th>other_sales</th>\n",
       "      <th>critic_score</th>\n",
       "      <th>user_score</th>\n",
       "      <th>rating</th>\n",
       "    </tr>\n",
       "  </thead>\n",
       "  <tbody>\n",
       "    <tr>\n",
       "      <th>1</th>\n",
       "      <td>Super Mario Bros.</td>\n",
       "      <td>NES</td>\n",
       "      <td>1985</td>\n",
       "      <td>Platform</td>\n",
       "      <td>29.08</td>\n",
       "      <td>3.58</td>\n",
       "      <td>6.81</td>\n",
       "      <td>0.77</td>\n",
       "      <td>NaN</td>\n",
       "      <td>NaN</td>\n",
       "      <td>NaN</td>\n",
       "    </tr>\n",
       "    <tr>\n",
       "      <th>4</th>\n",
       "      <td>Pokemon Red/Pokemon Blue</td>\n",
       "      <td>GB</td>\n",
       "      <td>1996</td>\n",
       "      <td>Role-Playing</td>\n",
       "      <td>11.27</td>\n",
       "      <td>8.89</td>\n",
       "      <td>10.22</td>\n",
       "      <td>1.00</td>\n",
       "      <td>NaN</td>\n",
       "      <td>NaN</td>\n",
       "      <td>NaN</td>\n",
       "    </tr>\n",
       "    <tr>\n",
       "      <th>5</th>\n",
       "      <td>Tetris</td>\n",
       "      <td>GB</td>\n",
       "      <td>1989</td>\n",
       "      <td>Puzzle</td>\n",
       "      <td>23.20</td>\n",
       "      <td>2.26</td>\n",
       "      <td>4.22</td>\n",
       "      <td>0.58</td>\n",
       "      <td>NaN</td>\n",
       "      <td>NaN</td>\n",
       "      <td>NaN</td>\n",
       "    </tr>\n",
       "    <tr>\n",
       "      <th>9</th>\n",
       "      <td>Duck Hunt</td>\n",
       "      <td>NES</td>\n",
       "      <td>1984</td>\n",
       "      <td>Shooter</td>\n",
       "      <td>26.93</td>\n",
       "      <td>0.63</td>\n",
       "      <td>0.28</td>\n",
       "      <td>0.47</td>\n",
       "      <td>NaN</td>\n",
       "      <td>NaN</td>\n",
       "      <td>NaN</td>\n",
       "    </tr>\n",
       "    <tr>\n",
       "      <th>10</th>\n",
       "      <td>Nintendogs</td>\n",
       "      <td>DS</td>\n",
       "      <td>2005</td>\n",
       "      <td>Simulation</td>\n",
       "      <td>9.05</td>\n",
       "      <td>10.95</td>\n",
       "      <td>1.93</td>\n",
       "      <td>2.74</td>\n",
       "      <td>NaN</td>\n",
       "      <td>NaN</td>\n",
       "      <td>NaN</td>\n",
       "    </tr>\n",
       "    <tr>\n",
       "      <th>12</th>\n",
       "      <td>Pokemon Gold/Pokemon Silver</td>\n",
       "      <td>GB</td>\n",
       "      <td>1999</td>\n",
       "      <td>Role-Playing</td>\n",
       "      <td>9.00</td>\n",
       "      <td>6.18</td>\n",
       "      <td>7.20</td>\n",
       "      <td>0.71</td>\n",
       "      <td>NaN</td>\n",
       "      <td>NaN</td>\n",
       "      <td>NaN</td>\n",
       "    </tr>\n",
       "    <tr>\n",
       "      <th>18</th>\n",
       "      <td>Super Mario World</td>\n",
       "      <td>SNES</td>\n",
       "      <td>1990</td>\n",
       "      <td>Platform</td>\n",
       "      <td>12.78</td>\n",
       "      <td>3.75</td>\n",
       "      <td>3.54</td>\n",
       "      <td>0.55</td>\n",
       "      <td>NaN</td>\n",
       "      <td>NaN</td>\n",
       "      <td>NaN</td>\n",
       "    </tr>\n",
       "    <tr>\n",
       "      <th>20</th>\n",
       "      <td>Pokemon Diamond/Pokemon Pearl</td>\n",
       "      <td>DS</td>\n",
       "      <td>2006</td>\n",
       "      <td>Role-Playing</td>\n",
       "      <td>6.38</td>\n",
       "      <td>4.46</td>\n",
       "      <td>6.04</td>\n",
       "      <td>1.36</td>\n",
       "      <td>NaN</td>\n",
       "      <td>NaN</td>\n",
       "      <td>NaN</td>\n",
       "    </tr>\n",
       "    <tr>\n",
       "      <th>21</th>\n",
       "      <td>Super Mario Land</td>\n",
       "      <td>GB</td>\n",
       "      <td>1989</td>\n",
       "      <td>Platform</td>\n",
       "      <td>10.83</td>\n",
       "      <td>2.71</td>\n",
       "      <td>4.18</td>\n",
       "      <td>0.42</td>\n",
       "      <td>NaN</td>\n",
       "      <td>NaN</td>\n",
       "      <td>NaN</td>\n",
       "    </tr>\n",
       "    <tr>\n",
       "      <th>22</th>\n",
       "      <td>Super Mario Bros. 3</td>\n",
       "      <td>NES</td>\n",
       "      <td>1988</td>\n",
       "      <td>Platform</td>\n",
       "      <td>9.54</td>\n",
       "      <td>3.44</td>\n",
       "      <td>3.84</td>\n",
       "      <td>0.46</td>\n",
       "      <td>NaN</td>\n",
       "      <td>NaN</td>\n",
       "      <td>NaN</td>\n",
       "    </tr>\n",
       "  </tbody>\n",
       "</table>\n",
       "</div>"
      ],
      "text/plain": [
       "                             name platform  year_of_release         genre  \\\n",
       "1               Super Mario Bros.      NES             1985      Platform   \n",
       "4        Pokemon Red/Pokemon Blue       GB             1996  Role-Playing   \n",
       "5                          Tetris       GB             1989        Puzzle   \n",
       "9                       Duck Hunt      NES             1984       Shooter   \n",
       "10                     Nintendogs       DS             2005    Simulation   \n",
       "12    Pokemon Gold/Pokemon Silver       GB             1999  Role-Playing   \n",
       "18              Super Mario World     SNES             1990      Platform   \n",
       "20  Pokemon Diamond/Pokemon Pearl       DS             2006  Role-Playing   \n",
       "21               Super Mario Land       GB             1989      Platform   \n",
       "22            Super Mario Bros. 3      NES             1988      Platform   \n",
       "\n",
       "    na_sales  eu_sales  jp_sales  other_sales  critic_score  user_score rating  \n",
       "1      29.08      3.58      6.81         0.77           NaN         NaN    NaN  \n",
       "4      11.27      8.89     10.22         1.00           NaN         NaN    NaN  \n",
       "5      23.20      2.26      4.22         0.58           NaN         NaN    NaN  \n",
       "9      26.93      0.63      0.28         0.47           NaN         NaN    NaN  \n",
       "10      9.05     10.95      1.93         2.74           NaN         NaN    NaN  \n",
       "12      9.00      6.18      7.20         0.71           NaN         NaN    NaN  \n",
       "18     12.78      3.75      3.54         0.55           NaN         NaN    NaN  \n",
       "20      6.38      4.46      6.04         1.36           NaN         NaN    NaN  \n",
       "21     10.83      2.71      4.18         0.42           NaN         NaN    NaN  \n",
       "22      9.54      3.44      3.84         0.46           NaN         NaN    NaN  "
      ]
     },
     "execution_count": 13,
     "metadata": {},
     "output_type": "execute_result"
    }
   ],
   "source": [
    "df[df['critic_score']. isna()].head(10)"
   ]
  },
  {
   "cell_type": "markdown",
   "metadata": {},
   "source": [
    "Столбец raiting"
   ]
  },
  {
   "cell_type": "code",
   "execution_count": 14,
   "metadata": {},
   "outputs": [],
   "source": [
    "df['rating']= df['rating'].fillna(\"no_ESRB\")"
   ]
  },
  {
   "cell_type": "markdown",
   "metadata": {},
   "source": [
    "Данные столбцы имеют значительное количество пропусков, но заменить мы их не можем, так как невозможно рационально подобрать подходящий метод. Поэтому оставляем без изменений"
   ]
  },
  {
   "cell_type": "markdown",
   "metadata": {},
   "source": [
    "Аббревиатура TBD  используется если какая-то информация не определена. Служит для отметки неясностей. В данной ситуации можно предположить, что это связано, например, с подозрительными данными (накрутка рейтингов). Здесь я приняла решение заменить на NaN (см. строчку 7), так как у меня нет никакой дополнительной информации для заполнения."
   ]
  },
  {
   "cell_type": "markdown",
   "metadata": {},
   "source": [
    "## Исследовательский анализ данных"
   ]
  },
  {
   "cell_type": "markdown",
   "metadata": {},
   "source": [
    "**Посчитаем суммарные продажи во всех регионах**"
   ]
  },
  {
   "cell_type": "code",
   "execution_count": 15,
   "metadata": {
    "scrolled": true
   },
   "outputs": [
    {
     "data": {
      "text/html": [
       "<div>\n",
       "<style scoped>\n",
       "    .dataframe tbody tr th:only-of-type {\n",
       "        vertical-align: middle;\n",
       "    }\n",
       "\n",
       "    .dataframe tbody tr th {\n",
       "        vertical-align: top;\n",
       "    }\n",
       "\n",
       "    .dataframe thead th {\n",
       "        text-align: right;\n",
       "    }\n",
       "</style>\n",
       "<table border=\"1\" class=\"dataframe\">\n",
       "  <thead>\n",
       "    <tr style=\"text-align: right;\">\n",
       "      <th></th>\n",
       "      <th>name</th>\n",
       "      <th>platform</th>\n",
       "      <th>year_of_release</th>\n",
       "      <th>genre</th>\n",
       "      <th>na_sales</th>\n",
       "      <th>eu_sales</th>\n",
       "      <th>jp_sales</th>\n",
       "      <th>other_sales</th>\n",
       "      <th>critic_score</th>\n",
       "      <th>user_score</th>\n",
       "      <th>rating</th>\n",
       "      <th>summ</th>\n",
       "    </tr>\n",
       "  </thead>\n",
       "  <tbody>\n",
       "    <tr>\n",
       "      <th>0</th>\n",
       "      <td>Wii Sports</td>\n",
       "      <td>Wii</td>\n",
       "      <td>2006</td>\n",
       "      <td>Sports</td>\n",
       "      <td>41.36</td>\n",
       "      <td>28.96</td>\n",
       "      <td>3.77</td>\n",
       "      <td>8.45</td>\n",
       "      <td>76.0</td>\n",
       "      <td>8.0</td>\n",
       "      <td>E</td>\n",
       "      <td>82.54</td>\n",
       "    </tr>\n",
       "    <tr>\n",
       "      <th>1</th>\n",
       "      <td>Super Mario Bros.</td>\n",
       "      <td>NES</td>\n",
       "      <td>1985</td>\n",
       "      <td>Platform</td>\n",
       "      <td>29.08</td>\n",
       "      <td>3.58</td>\n",
       "      <td>6.81</td>\n",
       "      <td>0.77</td>\n",
       "      <td>NaN</td>\n",
       "      <td>NaN</td>\n",
       "      <td>no_ESRB</td>\n",
       "      <td>40.24</td>\n",
       "    </tr>\n",
       "    <tr>\n",
       "      <th>2</th>\n",
       "      <td>Mario Kart Wii</td>\n",
       "      <td>Wii</td>\n",
       "      <td>2008</td>\n",
       "      <td>Racing</td>\n",
       "      <td>15.68</td>\n",
       "      <td>12.76</td>\n",
       "      <td>3.79</td>\n",
       "      <td>3.29</td>\n",
       "      <td>82.0</td>\n",
       "      <td>8.3</td>\n",
       "      <td>E</td>\n",
       "      <td>35.52</td>\n",
       "    </tr>\n",
       "    <tr>\n",
       "      <th>3</th>\n",
       "      <td>Wii Sports Resort</td>\n",
       "      <td>Wii</td>\n",
       "      <td>2009</td>\n",
       "      <td>Sports</td>\n",
       "      <td>15.61</td>\n",
       "      <td>10.93</td>\n",
       "      <td>3.28</td>\n",
       "      <td>2.95</td>\n",
       "      <td>80.0</td>\n",
       "      <td>8.0</td>\n",
       "      <td>E</td>\n",
       "      <td>32.77</td>\n",
       "    </tr>\n",
       "    <tr>\n",
       "      <th>4</th>\n",
       "      <td>Pokemon Red/Pokemon Blue</td>\n",
       "      <td>GB</td>\n",
       "      <td>1996</td>\n",
       "      <td>Role-Playing</td>\n",
       "      <td>11.27</td>\n",
       "      <td>8.89</td>\n",
       "      <td>10.22</td>\n",
       "      <td>1.00</td>\n",
       "      <td>NaN</td>\n",
       "      <td>NaN</td>\n",
       "      <td>no_ESRB</td>\n",
       "      <td>31.38</td>\n",
       "    </tr>\n",
       "    <tr>\n",
       "      <th>5</th>\n",
       "      <td>Tetris</td>\n",
       "      <td>GB</td>\n",
       "      <td>1989</td>\n",
       "      <td>Puzzle</td>\n",
       "      <td>23.20</td>\n",
       "      <td>2.26</td>\n",
       "      <td>4.22</td>\n",
       "      <td>0.58</td>\n",
       "      <td>NaN</td>\n",
       "      <td>NaN</td>\n",
       "      <td>no_ESRB</td>\n",
       "      <td>30.26</td>\n",
       "    </tr>\n",
       "    <tr>\n",
       "      <th>6</th>\n",
       "      <td>New Super Mario Bros.</td>\n",
       "      <td>DS</td>\n",
       "      <td>2006</td>\n",
       "      <td>Platform</td>\n",
       "      <td>11.28</td>\n",
       "      <td>9.14</td>\n",
       "      <td>6.50</td>\n",
       "      <td>2.88</td>\n",
       "      <td>89.0</td>\n",
       "      <td>8.5</td>\n",
       "      <td>E</td>\n",
       "      <td>29.80</td>\n",
       "    </tr>\n",
       "    <tr>\n",
       "      <th>7</th>\n",
       "      <td>Wii Play</td>\n",
       "      <td>Wii</td>\n",
       "      <td>2006</td>\n",
       "      <td>Misc</td>\n",
       "      <td>13.96</td>\n",
       "      <td>9.18</td>\n",
       "      <td>2.93</td>\n",
       "      <td>2.84</td>\n",
       "      <td>58.0</td>\n",
       "      <td>6.6</td>\n",
       "      <td>E</td>\n",
       "      <td>28.91</td>\n",
       "    </tr>\n",
       "    <tr>\n",
       "      <th>8</th>\n",
       "      <td>New Super Mario Bros. Wii</td>\n",
       "      <td>Wii</td>\n",
       "      <td>2009</td>\n",
       "      <td>Platform</td>\n",
       "      <td>14.44</td>\n",
       "      <td>6.94</td>\n",
       "      <td>4.70</td>\n",
       "      <td>2.24</td>\n",
       "      <td>87.0</td>\n",
       "      <td>8.4</td>\n",
       "      <td>E</td>\n",
       "      <td>28.32</td>\n",
       "    </tr>\n",
       "    <tr>\n",
       "      <th>9</th>\n",
       "      <td>Duck Hunt</td>\n",
       "      <td>NES</td>\n",
       "      <td>1984</td>\n",
       "      <td>Shooter</td>\n",
       "      <td>26.93</td>\n",
       "      <td>0.63</td>\n",
       "      <td>0.28</td>\n",
       "      <td>0.47</td>\n",
       "      <td>NaN</td>\n",
       "      <td>NaN</td>\n",
       "      <td>no_ESRB</td>\n",
       "      <td>28.31</td>\n",
       "    </tr>\n",
       "  </tbody>\n",
       "</table>\n",
       "</div>"
      ],
      "text/plain": [
       "                        name platform  year_of_release         genre  \\\n",
       "0                 Wii Sports      Wii             2006        Sports   \n",
       "1          Super Mario Bros.      NES             1985      Platform   \n",
       "2             Mario Kart Wii      Wii             2008        Racing   \n",
       "3          Wii Sports Resort      Wii             2009        Sports   \n",
       "4   Pokemon Red/Pokemon Blue       GB             1996  Role-Playing   \n",
       "5                     Tetris       GB             1989        Puzzle   \n",
       "6      New Super Mario Bros.       DS             2006      Platform   \n",
       "7                   Wii Play      Wii             2006          Misc   \n",
       "8  New Super Mario Bros. Wii      Wii             2009      Platform   \n",
       "9                  Duck Hunt      NES             1984       Shooter   \n",
       "\n",
       "   na_sales  eu_sales  jp_sales  other_sales  critic_score  user_score  \\\n",
       "0     41.36     28.96      3.77         8.45          76.0         8.0   \n",
       "1     29.08      3.58      6.81         0.77           NaN         NaN   \n",
       "2     15.68     12.76      3.79         3.29          82.0         8.3   \n",
       "3     15.61     10.93      3.28         2.95          80.0         8.0   \n",
       "4     11.27      8.89     10.22         1.00           NaN         NaN   \n",
       "5     23.20      2.26      4.22         0.58           NaN         NaN   \n",
       "6     11.28      9.14      6.50         2.88          89.0         8.5   \n",
       "7     13.96      9.18      2.93         2.84          58.0         6.6   \n",
       "8     14.44      6.94      4.70         2.24          87.0         8.4   \n",
       "9     26.93      0.63      0.28         0.47           NaN         NaN   \n",
       "\n",
       "    rating   summ  \n",
       "0        E  82.54  \n",
       "1  no_ESRB  40.24  \n",
       "2        E  35.52  \n",
       "3        E  32.77  \n",
       "4  no_ESRB  31.38  \n",
       "5  no_ESRB  30.26  \n",
       "6        E  29.80  \n",
       "7        E  28.91  \n",
       "8        E  28.32  \n",
       "9  no_ESRB  28.31  "
      ]
     },
     "execution_count": 15,
     "metadata": {},
     "output_type": "execute_result"
    }
   ],
   "source": [
    "df['summ'] = df[['na_sales','eu_sales','jp_sales', 'other_sales']].sum(axis = 1)\n",
    "df.head(10)"
   ]
  },
  {
   "cell_type": "markdown",
   "metadata": {},
   "source": [
    "Посмотрим **сколько игр выпускалось в разные годы**:"
   ]
  },
  {
   "cell_type": "code",
   "execution_count": 16,
   "metadata": {},
   "outputs": [
    {
     "data": {
      "text/plain": [
       "year_of_release\n",
       "1980       9\n",
       "1981      46\n",
       "1982      36\n",
       "1983      17\n",
       "1984      14\n",
       "1985      14\n",
       "1986      21\n",
       "1987      16\n",
       "1988      15\n",
       "1989      17\n",
       "1990      16\n",
       "1991      41\n",
       "1992      43\n",
       "1993      60\n",
       "1994     121\n",
       "1995     219\n",
       "1996     263\n",
       "1997     289\n",
       "1998     379\n",
       "1999     338\n",
       "2000     350\n",
       "2001     482\n",
       "2002     829\n",
       "2003     775\n",
       "2004     762\n",
       "2005     939\n",
       "2006    1006\n",
       "2007    1197\n",
       "2008    1427\n",
       "2009    1426\n",
       "2010    1255\n",
       "2011    1136\n",
       "2012     653\n",
       "2013     544\n",
       "2014     581\n",
       "2015     606\n",
       "2016     502\n",
       "Name: name, dtype: int64"
      ]
     },
     "execution_count": 16,
     "metadata": {},
     "output_type": "execute_result"
    }
   ],
   "source": [
    "from_year = df.groupby('year_of_release')['name'].count()\n",
    "from_year"
   ]
  },
  {
   "cell_type": "code",
   "execution_count": 17,
   "metadata": {},
   "outputs": [
    {
     "data": {
      "text/plain": [
       "count      37.000000\n",
       "mean      444.432432\n",
       "std       451.604334\n",
       "min         9.000000\n",
       "25%        36.000000\n",
       "50%       338.000000\n",
       "75%       762.000000\n",
       "max      1427.000000\n",
       "Name: name, dtype: float64"
      ]
     },
     "execution_count": 17,
     "metadata": {},
     "output_type": "execute_result"
    }
   ],
   "source": [
    "from_year.describe()"
   ]
  },
  {
   "cell_type": "code",
   "execution_count": 18,
   "metadata": {
    "scrolled": true
   },
   "outputs": [
    {
     "data": {
      "text/plain": [
       "<AxesSubplot:xlabel='year_of_release'>"
      ]
     },
     "execution_count": 18,
     "metadata": {},
     "output_type": "execute_result"
    },
    {
     "data": {
      "image/png": "[encoded data removed]",
      "text/plain": [
       "<Figure size 432x288 with 1 Axes>"
      ]
     },
     "metadata": {
      "needs_background": "light"
     },
     "output_type": "display_data"
    }
   ],
   "source": [
    "from_year.plot(style='-', grid=True)"
   ]
  },
  {
   "cell_type": "markdown",
   "metadata": {},
   "source": [
    "На рисунке видно, что пик достигается 2008 году, график идёт на спад после 2009"
   ]
  },
  {
   "cell_type": "markdown",
   "metadata": {},
   "source": [
    "Сотавим топ популярных платформ, основываясь на данных о продаже:"
   ]
  },
  {
   "cell_type": "code",
   "execution_count": 19,
   "metadata": {
    "scrolled": true
   },
   "outputs": [
    {
     "data": {
      "text/plain": [
       "platform\n",
       "PS2     1233.56\n",
       "X360     961.24\n",
       "PS3      931.34\n",
       "Wii      891.18\n",
       "DS       802.78\n",
       "PS       727.58\n",
       "PS4      314.14\n",
       "GBA      312.88\n",
       "PSP      289.53\n",
       "3DS      257.81\n",
       "Name: summ, dtype: float64"
      ]
     },
     "execution_count": 19,
     "metadata": {},
     "output_type": "execute_result"
    }
   ],
   "source": [
    "top_platform = df.groupby(['platform'])['summ'].sum()\n",
    "top_platform = top_platform.sort_values(ascending=False)\n",
    "top_platform.head(10)"
   ]
  },
  {
   "cell_type": "markdown",
   "metadata": {},
   "source": [
    "Построем распределение по годам:"
   ]
  },
  {
   "cell_type": "code",
   "execution_count": 20,
   "metadata": {},
   "outputs": [
    {
     "data": {
      "image/png": "[encoded data removed]",
      "text/plain": [
       "<Figure size 1152x360 with 1 Axes>"
      ]
     },
     "metadata": {
      "needs_background": "light"
     },
     "output_type": "display_data"
    }
   ],
   "source": [
    "df_top =(\n",
    "    df.pivot_table(index=['platform', 'year_of_release'], values='summ', aggfunc='sum')\n",
    "    .unstack('platform').reset_index()\n",
    ")\n",
    "\n",
    "years = df_top['year_of_release']\n",
    "ps2 = df_top['summ']['PS2']\n",
    "wii = df_top['summ']['Wii']\n",
    "x360 = df_top['summ']['X360']\n",
    "ps = df_top['summ']['PS']\n",
    "ps3 = df_top['summ']['PS3']\n",
    "\n",
    "plt.figure(figsize=(16, 5))\n",
    "plt.plot(years, ps2, '-', label='PS2')\n",
    "plt.plot(years, wii, '-', label='Wii')\n",
    "plt.plot(years, x360, '-', label='X360')\n",
    "plt.plot(years, ps, '-', label='PS')\n",
    "plt.plot(years, ps3, '-', label='PS3')\n",
    "\n",
    "plt.xlabel('Рассматриваемый период, г.', fontsize='large')\n",
    "plt.ylabel('Количество выпущенных игр за год, шт.', fontsize='large')\n",
    "plt.legend()\n",
    "plt.grid()\n",
    "plt.show()\n",
    "\n"
   ]
  },
  {
   "cell_type": "markdown",
   "metadata": {},
   "source": [
    "На данном графике наглядно видно, что появляются новые и исчезают старые платформы, примерно, в период 10 лет. Однако стоит подметить, что сначала идет резкий рост продаж, перевал, затем спад."
   ]
  },
  {
   "cell_type": "markdown",
   "metadata": {},
   "source": [
    "<div class=\"alert alert-warning\">\n",
    "<b font-size: 24pt>Совет</b><br /><br />\n",
    "Для подсчета среднего срока жизни платформы можно было использовать следующий подход: сгруппировать наблюдения по платформам, вывести минимальный и максимальный год релиза, добавить столбец, где будет подсчитана разница между ними. После всего этого дело за малым — посмотреть среднее, а лучше медианы по столбцу разницы.\n",
    "</div>"
   ]
  },
  {
   "cell_type": "markdown",
   "metadata": {},
   "source": [
    "Опеделим туальным период:\n",
    "- на общем граике мы наблюдали резки спад выпускаемых игр начиная с 2009 года\n",
    "- при расмотрение динамике продаж популярных платформ, имеется спад начиная с 2013 года\n",
    "\n",
    "Поэтому возьмём период с 2013 года"
   ]
  },
  {
   "cell_type": "code",
   "execution_count": 21,
   "metadata": {},
   "outputs": [
    {
     "data": {
      "text/html": [
       "<div>\n",
       "<style scoped>\n",
       "    .dataframe tbody tr th:only-of-type {\n",
       "        vertical-align: middle;\n",
       "    }\n",
       "\n",
       "    .dataframe tbody tr th {\n",
       "        vertical-align: top;\n",
       "    }\n",
       "\n",
       "    .dataframe thead th {\n",
       "        text-align: right;\n",
       "    }\n",
       "</style>\n",
       "<table border=\"1\" class=\"dataframe\">\n",
       "  <thead>\n",
       "    <tr style=\"text-align: right;\">\n",
       "      <th></th>\n",
       "      <th>name</th>\n",
       "      <th>platform</th>\n",
       "      <th>year_of_release</th>\n",
       "      <th>genre</th>\n",
       "      <th>na_sales</th>\n",
       "      <th>eu_sales</th>\n",
       "      <th>jp_sales</th>\n",
       "      <th>other_sales</th>\n",
       "      <th>critic_score</th>\n",
       "      <th>user_score</th>\n",
       "      <th>rating</th>\n",
       "      <th>summ</th>\n",
       "    </tr>\n",
       "  </thead>\n",
       "  <tbody>\n",
       "    <tr>\n",
       "      <th>31</th>\n",
       "      <td>Call of Duty: Black Ops 3</td>\n",
       "      <td>PS4</td>\n",
       "      <td>2015</td>\n",
       "      <td>Shooter</td>\n",
       "      <td>6.03</td>\n",
       "      <td>5.86</td>\n",
       "      <td>0.36</td>\n",
       "      <td>2.38</td>\n",
       "      <td>NaN</td>\n",
       "      <td>NaN</td>\n",
       "      <td>no_ESRB</td>\n",
       "      <td>14.63</td>\n",
       "    </tr>\n",
       "    <tr>\n",
       "      <th>42</th>\n",
       "      <td>Grand Theft Auto V</td>\n",
       "      <td>PS4</td>\n",
       "      <td>2014</td>\n",
       "      <td>Action</td>\n",
       "      <td>3.96</td>\n",
       "      <td>6.31</td>\n",
       "      <td>0.38</td>\n",
       "      <td>1.97</td>\n",
       "      <td>97.0</td>\n",
       "      <td>8.3</td>\n",
       "      <td>M</td>\n",
       "      <td>12.62</td>\n",
       "    </tr>\n",
       "    <tr>\n",
       "      <th>47</th>\n",
       "      <td>Pokemon Omega Ruby/Pokemon Alpha Sapphire</td>\n",
       "      <td>3DS</td>\n",
       "      <td>2014</td>\n",
       "      <td>Role-Playing</td>\n",
       "      <td>4.35</td>\n",
       "      <td>3.49</td>\n",
       "      <td>3.10</td>\n",
       "      <td>0.74</td>\n",
       "      <td>NaN</td>\n",
       "      <td>NaN</td>\n",
       "      <td>no_ESRB</td>\n",
       "      <td>11.68</td>\n",
       "    </tr>\n",
       "    <tr>\n",
       "      <th>77</th>\n",
       "      <td>FIFA 16</td>\n",
       "      <td>PS4</td>\n",
       "      <td>2015</td>\n",
       "      <td>Sports</td>\n",
       "      <td>1.12</td>\n",
       "      <td>6.12</td>\n",
       "      <td>0.06</td>\n",
       "      <td>1.28</td>\n",
       "      <td>82.0</td>\n",
       "      <td>4.3</td>\n",
       "      <td>E</td>\n",
       "      <td>8.58</td>\n",
       "    </tr>\n",
       "    <tr>\n",
       "      <th>87</th>\n",
       "      <td>Star Wars Battlefront (2015)</td>\n",
       "      <td>PS4</td>\n",
       "      <td>2015</td>\n",
       "      <td>Shooter</td>\n",
       "      <td>2.99</td>\n",
       "      <td>3.49</td>\n",
       "      <td>0.22</td>\n",
       "      <td>1.28</td>\n",
       "      <td>NaN</td>\n",
       "      <td>NaN</td>\n",
       "      <td>no_ESRB</td>\n",
       "      <td>7.98</td>\n",
       "    </tr>\n",
       "    <tr>\n",
       "      <th>...</th>\n",
       "      <td>...</td>\n",
       "      <td>...</td>\n",
       "      <td>...</td>\n",
       "      <td>...</td>\n",
       "      <td>...</td>\n",
       "      <td>...</td>\n",
       "      <td>...</td>\n",
       "      <td>...</td>\n",
       "      <td>...</td>\n",
       "      <td>...</td>\n",
       "      <td>...</td>\n",
       "      <td>...</td>\n",
       "    </tr>\n",
       "    <tr>\n",
       "      <th>16703</th>\n",
       "      <td>Strawberry Nauts</td>\n",
       "      <td>PSV</td>\n",
       "      <td>2016</td>\n",
       "      <td>Adventure</td>\n",
       "      <td>0.00</td>\n",
       "      <td>0.00</td>\n",
       "      <td>0.01</td>\n",
       "      <td>0.00</td>\n",
       "      <td>NaN</td>\n",
       "      <td>NaN</td>\n",
       "      <td>no_ESRB</td>\n",
       "      <td>0.01</td>\n",
       "    </tr>\n",
       "    <tr>\n",
       "      <th>16707</th>\n",
       "      <td>Aiyoku no Eustia</td>\n",
       "      <td>PSV</td>\n",
       "      <td>2014</td>\n",
       "      <td>Misc</td>\n",
       "      <td>0.00</td>\n",
       "      <td>0.00</td>\n",
       "      <td>0.01</td>\n",
       "      <td>0.00</td>\n",
       "      <td>NaN</td>\n",
       "      <td>NaN</td>\n",
       "      <td>no_ESRB</td>\n",
       "      <td>0.01</td>\n",
       "    </tr>\n",
       "    <tr>\n",
       "      <th>16710</th>\n",
       "      <td>Samurai Warriors: Sanada Maru</td>\n",
       "      <td>PS3</td>\n",
       "      <td>2016</td>\n",
       "      <td>Action</td>\n",
       "      <td>0.00</td>\n",
       "      <td>0.00</td>\n",
       "      <td>0.01</td>\n",
       "      <td>0.00</td>\n",
       "      <td>NaN</td>\n",
       "      <td>NaN</td>\n",
       "      <td>no_ESRB</td>\n",
       "      <td>0.01</td>\n",
       "    </tr>\n",
       "    <tr>\n",
       "      <th>16712</th>\n",
       "      <td>Haitaka no Psychedelica</td>\n",
       "      <td>PSV</td>\n",
       "      <td>2016</td>\n",
       "      <td>Adventure</td>\n",
       "      <td>0.00</td>\n",
       "      <td>0.00</td>\n",
       "      <td>0.01</td>\n",
       "      <td>0.00</td>\n",
       "      <td>NaN</td>\n",
       "      <td>NaN</td>\n",
       "      <td>no_ESRB</td>\n",
       "      <td>0.01</td>\n",
       "    </tr>\n",
       "    <tr>\n",
       "      <th>16714</th>\n",
       "      <td>Winning Post 8 2016</td>\n",
       "      <td>PSV</td>\n",
       "      <td>2016</td>\n",
       "      <td>Simulation</td>\n",
       "      <td>0.00</td>\n",
       "      <td>0.00</td>\n",
       "      <td>0.01</td>\n",
       "      <td>0.00</td>\n",
       "      <td>NaN</td>\n",
       "      <td>NaN</td>\n",
       "      <td>no_ESRB</td>\n",
       "      <td>0.01</td>\n",
       "    </tr>\n",
       "  </tbody>\n",
       "</table>\n",
       "<p>1689 rows × 12 columns</p>\n",
       "</div>"
      ],
      "text/plain": [
       "                                            name platform  year_of_release  \\\n",
       "31                     Call of Duty: Black Ops 3      PS4             2015   \n",
       "42                            Grand Theft Auto V      PS4             2014   \n",
       "47     Pokemon Omega Ruby/Pokemon Alpha Sapphire      3DS             2014   \n",
       "77                                       FIFA 16      PS4             2015   \n",
       "87                  Star Wars Battlefront (2015)      PS4             2015   \n",
       "...                                          ...      ...              ...   \n",
       "16703                           Strawberry Nauts      PSV             2016   \n",
       "16707                           Aiyoku no Eustia      PSV             2014   \n",
       "16710              Samurai Warriors: Sanada Maru      PS3             2016   \n",
       "16712                    Haitaka no Psychedelica      PSV             2016   \n",
       "16714                        Winning Post 8 2016      PSV             2016   \n",
       "\n",
       "              genre  na_sales  eu_sales  jp_sales  other_sales  critic_score  \\\n",
       "31          Shooter      6.03      5.86      0.36         2.38           NaN   \n",
       "42           Action      3.96      6.31      0.38         1.97          97.0   \n",
       "47     Role-Playing      4.35      3.49      3.10         0.74           NaN   \n",
       "77           Sports      1.12      6.12      0.06         1.28          82.0   \n",
       "87          Shooter      2.99      3.49      0.22         1.28           NaN   \n",
       "...             ...       ...       ...       ...          ...           ...   \n",
       "16703     Adventure      0.00      0.00      0.01         0.00           NaN   \n",
       "16707          Misc      0.00      0.00      0.01         0.00           NaN   \n",
       "16710        Action      0.00      0.00      0.01         0.00           NaN   \n",
       "16712     Adventure      0.00      0.00      0.01         0.00           NaN   \n",
       "16714    Simulation      0.00      0.00      0.01         0.00           NaN   \n",
       "\n",
       "       user_score   rating   summ  \n",
       "31            NaN  no_ESRB  14.63  \n",
       "42            8.3        M  12.62  \n",
       "47            NaN  no_ESRB  11.68  \n",
       "77            4.3        E   8.58  \n",
       "87            NaN  no_ESRB   7.98  \n",
       "...           ...      ...    ...  \n",
       "16703         NaN  no_ESRB   0.01  \n",
       "16707         NaN  no_ESRB   0.01  \n",
       "16710         NaN  no_ESRB   0.01  \n",
       "16712         NaN  no_ESRB   0.01  \n",
       "16714         NaN  no_ESRB   0.01  \n",
       "\n",
       "[1689 rows x 12 columns]"
      ]
     },
     "execution_count": 21,
     "metadata": {},
     "output_type": "execute_result"
    }
   ],
   "source": [
    "actual_df = df.query('year_of_release > 2013')\n",
    "actual_df"
   ]
  },
  {
   "cell_type": "code",
   "execution_count": 22,
   "metadata": {},
   "outputs": [
    {
     "data": {
      "text/plain": [
       "platform\n",
       "PS4     288.15\n",
       "XOne    140.36\n",
       "3DS      86.68\n",
       "PS3      68.18\n",
       "X360     48.22\n",
       "Name: summ, dtype: float64"
      ]
     },
     "execution_count": 22,
     "metadata": {},
     "output_type": "execute_result"
    }
   ],
   "source": [
    "top_trade = actual_df.groupby('platform')['summ'].sum()\n",
    "top_trade = top_trade.sort_values(ascending=False)\n",
    "top_trade.head()"
   ]
  },
  {
   "cell_type": "code",
   "execution_count": 23,
   "metadata": {},
   "outputs": [
    {
     "data": {
      "image/png": "[encoded data removed]",
      "text/plain": [
       "<Figure size 1152x360 with 1 Axes>"
      ]
     },
     "metadata": {
      "needs_background": "light"
     },
     "output_type": "display_data"
    }
   ],
   "source": [
    "df_tops =(\n",
    "    actual_df.pivot_table(index=['platform', 'year_of_release'], values='summ', aggfunc='sum')\n",
    "    .unstack('platform').reset_index()\n",
    ")\n",
    "\n",
    "years = df_tops['year_of_release']\n",
    "ps4 = df_tops['summ']['PS4']\n",
    "xone = df_tops['summ']['XOne']\n",
    "ds3 = df_tops['summ']['3DS']\n",
    "x360 = df_tops['summ']['X360']\n",
    "ps3 = df_tops['summ']['PS3']\n",
    "\n",
    "plt.figure(figsize=(16, 5))\n",
    "plt.plot(years, ps4, '-', label='PS4')\n",
    "plt.plot(years, xone, '-', label='XOne')\n",
    "plt.plot(years, x360, '-', label='X360')\n",
    "plt.plot(years, ds3, '-', label='3DS')\n",
    "plt.plot(years, ps3, '-', label='PS3')\n",
    "\n",
    "plt.xlabel('Рассматриваемый период, г.', fontsize='large')\n",
    "plt.ylabel('Количество выпущенных игр за год, шт.', fontsize='large')\n",
    "plt.legend()\n",
    "plt.grid()\n",
    "plt.show()\n",
    "\n"
   ]
  },
  {
   "cell_type": "markdown",
   "metadata": {},
   "source": [
    "### Вывод"
   ]
  },
  {
   "cell_type": "markdown",
   "metadata": {},
   "source": [
    "Подведём итоги:\n",
    "1. Лидером по продаже является платформа 'PS4'\n",
    "2. После 2015 года у всех (топ 5) платформ объём продаж снижаются\n",
    "3. Если учитывать предыдущий вывод о жизненном цикле, то потенциально прибыльных платформ можно выделить 'PS4', в качестве свежей платформой. (Достачно сложный вопрос, у нас мало данных, чтобы судить о прибыльности)"
   ]
  },
  {
   "cell_type": "code",
   "execution_count": 24,
   "metadata": {
    "scrolled": true
   },
   "outputs": [
    {
     "data": {
      "text/plain": [
       "Text(0, 0.5, 'Общий объём продаж, д.е.')"
      ]
     },
     "execution_count": 24,
     "metadata": {},
     "output_type": "execute_result"
    },
    {
     "data": {
      "image/png": "[encoded data removed]",
      "text/plain": [
       "<Figure size 720x1080 with 1 Axes>"
      ]
     },
     "metadata": {
      "needs_background": "light"
     },
     "output_type": "display_data"
    }
   ],
   "source": [
    "actual_df.query('platform == \"PS4\"').boxplot(figsize=(10, 15), column=\"summ\")\n",
    "plt.ylim(0, 0.8)\n",
    "plt.ylabel('Общий объём продаж, д.е.', fontsize='large')"
   ]
  },
  {
   "cell_type": "code",
   "execution_count": 25,
   "metadata": {},
   "outputs": [
    {
     "data": {
      "text/plain": [
       "Text(0, 0.5, 'Общий объём продаж, д.е.')"
      ]
     },
     "execution_count": 25,
     "metadata": {},
     "output_type": "execute_result"
    },
    {
     "data": {
      "image/png": "[encoded data removed]",
      "text/plain": [
       "<Figure size 864x432 with 1 Axes>"
      ]
     },
     "metadata": {
      "needs_background": "light"
     },
     "output_type": "display_data"
    }
   ],
   "source": [
    "pl = actual_df.pivot_table(index=['platform', 'name'], values='summ')\n",
    "pl.boxplot(by='platform', figsize=(12,6))\n",
    "plt.ylim(0, 0.8)\n",
    "plt.ylabel('Общий объём продаж, д.е.')"
   ]
  },
  {
   "cell_type": "code",
   "execution_count": 26,
   "metadata": {},
   "outputs": [
    {
     "data": {
      "text/html": [
       "<div>\n",
       "<style scoped>\n",
       "    .dataframe tbody tr th:only-of-type {\n",
       "        vertical-align: middle;\n",
       "    }\n",
       "\n",
       "    .dataframe tbody tr th {\n",
       "        vertical-align: top;\n",
       "    }\n",
       "\n",
       "    .dataframe thead th {\n",
       "        text-align: right;\n",
       "    }\n",
       "</style>\n",
       "<table border=\"1\" class=\"dataframe\">\n",
       "  <thead>\n",
       "    <tr style=\"text-align: right;\">\n",
       "      <th></th>\n",
       "      <th></th>\n",
       "      <th>summ</th>\n",
       "    </tr>\n",
       "    <tr>\n",
       "      <th>platform</th>\n",
       "      <th>name</th>\n",
       "      <th></th>\n",
       "    </tr>\n",
       "  </thead>\n",
       "  <tbody>\n",
       "    <tr>\n",
       "      <th rowspan=\"5\" valign=\"top\">3DS</th>\n",
       "      <th>Beyblade Burst</th>\n",
       "      <td>0.03</td>\n",
       "    </tr>\n",
       "    <tr>\n",
       "      <th>Fire Emblem Fates</th>\n",
       "      <td>1.67</td>\n",
       "    </tr>\n",
       "    <tr>\n",
       "      <th>Haikyu!! Cross Team Match!</th>\n",
       "      <td>0.04</td>\n",
       "    </tr>\n",
       "    <tr>\n",
       "      <th>12-Sai. Honto no Kimochi</th>\n",
       "      <td>0.07</td>\n",
       "    </tr>\n",
       "    <tr>\n",
       "      <th>12-Sai. Koisuru Diary</th>\n",
       "      <td>0.05</td>\n",
       "    </tr>\n",
       "    <tr>\n",
       "      <th>...</th>\n",
       "      <th>...</th>\n",
       "      <td>...</td>\n",
       "    </tr>\n",
       "    <tr>\n",
       "      <th rowspan=\"5\" valign=\"top\">XOne</th>\n",
       "      <th>Wolfenstein: The Old Blood</th>\n",
       "      <td>0.15</td>\n",
       "    </tr>\n",
       "    <tr>\n",
       "      <th>Worms: WMD</th>\n",
       "      <td>0.01</td>\n",
       "    </tr>\n",
       "    <tr>\n",
       "      <th>XCOM 2</th>\n",
       "      <td>0.04</td>\n",
       "    </tr>\n",
       "    <tr>\n",
       "      <th>ZombiU</th>\n",
       "      <td>0.01</td>\n",
       "    </tr>\n",
       "    <tr>\n",
       "      <th>Zombie Army Trilogy</th>\n",
       "      <td>0.11</td>\n",
       "    </tr>\n",
       "  </tbody>\n",
       "</table>\n",
       "<p>1689 rows × 1 columns</p>\n",
       "</div>"
      ],
      "text/plain": [
       "                                      summ\n",
       "platform name                             \n",
       "3DS       Beyblade Burst              0.03\n",
       "          Fire Emblem Fates           1.67\n",
       "          Haikyu!! Cross Team Match!  0.04\n",
       "         12-Sai. Honto no Kimochi     0.07\n",
       "         12-Sai. Koisuru Diary        0.05\n",
       "...                                    ...\n",
       "XOne     Wolfenstein: The Old Blood   0.15\n",
       "         Worms: WMD                   0.01\n",
       "         XCOM 2                       0.04\n",
       "         ZombiU                       0.01\n",
       "         Zombie Army Trilogy          0.11\n",
       "\n",
       "[1689 rows x 1 columns]"
      ]
     },
     "execution_count": 26,
     "metadata": {},
     "output_type": "execute_result"
    }
   ],
   "source": [
    "pl"
   ]
  },
  {
   "cell_type": "code",
   "execution_count": 27,
   "metadata": {},
   "outputs": [
    {
     "data": {
      "text/html": [
       "<div>\n",
       "<style scoped>\n",
       "    .dataframe tbody tr th:only-of-type {\n",
       "        vertical-align: middle;\n",
       "    }\n",
       "\n",
       "    .dataframe tbody tr th {\n",
       "        vertical-align: top;\n",
       "    }\n",
       "\n",
       "    .dataframe thead th {\n",
       "        text-align: right;\n",
       "    }\n",
       "</style>\n",
       "<table border=\"1\" class=\"dataframe\">\n",
       "  <thead>\n",
       "    <tr style=\"text-align: right;\">\n",
       "      <th></th>\n",
       "      <th>year_of_release</th>\n",
       "      <th>na_sales</th>\n",
       "      <th>eu_sales</th>\n",
       "      <th>jp_sales</th>\n",
       "      <th>other_sales</th>\n",
       "      <th>critic_score</th>\n",
       "      <th>user_score</th>\n",
       "      <th>summ</th>\n",
       "    </tr>\n",
       "  </thead>\n",
       "  <tbody>\n",
       "    <tr>\n",
       "      <th>count</th>\n",
       "      <td>376.000000</td>\n",
       "      <td>376.000000</td>\n",
       "      <td>376.000000</td>\n",
       "      <td>376.000000</td>\n",
       "      <td>376.000000</td>\n",
       "      <td>237.000000</td>\n",
       "      <td>242.000000</td>\n",
       "      <td>376.000000</td>\n",
       "    </tr>\n",
       "    <tr>\n",
       "      <th>mean</th>\n",
       "      <td>2015.236702</td>\n",
       "      <td>0.262261</td>\n",
       "      <td>0.345851</td>\n",
       "      <td>0.039947</td>\n",
       "      <td>0.118298</td>\n",
       "      <td>72.164557</td>\n",
       "      <td>6.828099</td>\n",
       "      <td>0.766356</td>\n",
       "    </tr>\n",
       "    <tr>\n",
       "      <th>std</th>\n",
       "      <td>0.762336</td>\n",
       "      <td>0.583439</td>\n",
       "      <td>0.815480</td>\n",
       "      <td>0.067048</td>\n",
       "      <td>0.256506</td>\n",
       "      <td>12.214985</td>\n",
       "      <td>1.399035</td>\n",
       "      <td>1.614969</td>\n",
       "    </tr>\n",
       "    <tr>\n",
       "      <th>min</th>\n",
       "      <td>2014.000000</td>\n",
       "      <td>0.000000</td>\n",
       "      <td>0.000000</td>\n",
       "      <td>0.000000</td>\n",
       "      <td>0.000000</td>\n",
       "      <td>19.000000</td>\n",
       "      <td>1.500000</td>\n",
       "      <td>0.010000</td>\n",
       "    </tr>\n",
       "    <tr>\n",
       "      <th>25%</th>\n",
       "      <td>2015.000000</td>\n",
       "      <td>0.000000</td>\n",
       "      <td>0.000000</td>\n",
       "      <td>0.000000</td>\n",
       "      <td>0.000000</td>\n",
       "      <td>66.000000</td>\n",
       "      <td>6.200000</td>\n",
       "      <td>0.057500</td>\n",
       "    </tr>\n",
       "    <tr>\n",
       "      <th>50%</th>\n",
       "      <td>2015.000000</td>\n",
       "      <td>0.050000</td>\n",
       "      <td>0.070000</td>\n",
       "      <td>0.015000</td>\n",
       "      <td>0.020000</td>\n",
       "      <td>73.000000</td>\n",
       "      <td>7.100000</td>\n",
       "      <td>0.185000</td>\n",
       "    </tr>\n",
       "    <tr>\n",
       "      <th>75%</th>\n",
       "      <td>2016.000000</td>\n",
       "      <td>0.240000</td>\n",
       "      <td>0.280000</td>\n",
       "      <td>0.050000</td>\n",
       "      <td>0.102500</td>\n",
       "      <td>80.000000</td>\n",
       "      <td>7.875000</td>\n",
       "      <td>0.690000</td>\n",
       "    </tr>\n",
       "    <tr>\n",
       "      <th>max</th>\n",
       "      <td>2016.000000</td>\n",
       "      <td>6.030000</td>\n",
       "      <td>6.310000</td>\n",
       "      <td>0.490000</td>\n",
       "      <td>2.380000</td>\n",
       "      <td>97.000000</td>\n",
       "      <td>9.200000</td>\n",
       "      <td>14.630000</td>\n",
       "    </tr>\n",
       "  </tbody>\n",
       "</table>\n",
       "</div>"
      ],
      "text/plain": [
       "       year_of_release    na_sales    eu_sales    jp_sales  other_sales  \\\n",
       "count       376.000000  376.000000  376.000000  376.000000   376.000000   \n",
       "mean       2015.236702    0.262261    0.345851    0.039947     0.118298   \n",
       "std           0.762336    0.583439    0.815480    0.067048     0.256506   \n",
       "min        2014.000000    0.000000    0.000000    0.000000     0.000000   \n",
       "25%        2015.000000    0.000000    0.000000    0.000000     0.000000   \n",
       "50%        2015.000000    0.050000    0.070000    0.015000     0.020000   \n",
       "75%        2016.000000    0.240000    0.280000    0.050000     0.102500   \n",
       "max        2016.000000    6.030000    6.310000    0.490000     2.380000   \n",
       "\n",
       "       critic_score  user_score        summ  \n",
       "count    237.000000  242.000000  376.000000  \n",
       "mean      72.164557    6.828099    0.766356  \n",
       "std       12.214985    1.399035    1.614969  \n",
       "min       19.000000    1.500000    0.010000  \n",
       "25%       66.000000    6.200000    0.057500  \n",
       "50%       73.000000    7.100000    0.185000  \n",
       "75%       80.000000    7.875000    0.690000  \n",
       "max       97.000000    9.200000   14.630000  "
      ]
     },
     "execution_count": 27,
     "metadata": {},
     "output_type": "execute_result"
    }
   ],
   "source": [
    "actual_df.query('platform == \"PS4\"').describe()"
   ]
  },
  {
   "cell_type": "markdown",
   "metadata": {},
   "source": [
    "Можно увидеть что большая часть лежит в диапозоне от 0 до 1. Нижний \"ус\" около 0, верхний - примерно 1.6. И всё же значения, которые отсёк верхний «ус», — редкие. Видно, насколько медиана  не стремится к длинному хвосту высоких значений."
   ]
  },
  {
   "cell_type": "markdown",
   "metadata": {},
   "source": [
    "Посмотрим, как влияют на продажи внутри одной популярной платформы отзывы пользователей и критиков:"
   ]
  },
  {
   "cell_type": "code",
   "execution_count": 28,
   "metadata": {
    "scrolled": true
   },
   "outputs": [
    {
     "data": {
      "text/html": [
       "<div>\n",
       "<style scoped>\n",
       "    .dataframe tbody tr th:only-of-type {\n",
       "        vertical-align: middle;\n",
       "    }\n",
       "\n",
       "    .dataframe tbody tr th {\n",
       "        vertical-align: top;\n",
       "    }\n",
       "\n",
       "    .dataframe thead th {\n",
       "        text-align: right;\n",
       "    }\n",
       "</style>\n",
       "<table border=\"1\" class=\"dataframe\">\n",
       "  <thead>\n",
       "    <tr style=\"text-align: right;\">\n",
       "      <th></th>\n",
       "      <th>critic_score</th>\n",
       "      <th>summ</th>\n",
       "      <th>user_score</th>\n",
       "    </tr>\n",
       "    <tr>\n",
       "      <th>other_sales</th>\n",
       "      <th></th>\n",
       "      <th></th>\n",
       "      <th></th>\n",
       "    </tr>\n",
       "  </thead>\n",
       "  <tbody>\n",
       "    <tr>\n",
       "      <th>0.00</th>\n",
       "      <td>64.142857</td>\n",
       "      <td>0.047917</td>\n",
       "      <td>6.747368</td>\n",
       "    </tr>\n",
       "    <tr>\n",
       "      <th>0.01</th>\n",
       "      <td>69.355556</td>\n",
       "      <td>0.066923</td>\n",
       "      <td>6.819565</td>\n",
       "    </tr>\n",
       "    <tr>\n",
       "      <th>0.02</th>\n",
       "      <td>68.565217</td>\n",
       "      <td>0.137586</td>\n",
       "      <td>7.122727</td>\n",
       "    </tr>\n",
       "    <tr>\n",
       "      <th>0.03</th>\n",
       "      <td>60.300000</td>\n",
       "      <td>0.222778</td>\n",
       "      <td>6.172727</td>\n",
       "    </tr>\n",
       "    <tr>\n",
       "      <th>0.04</th>\n",
       "      <td>71.153846</td>\n",
       "      <td>0.268571</td>\n",
       "      <td>7.357143</td>\n",
       "    </tr>\n",
       "    <tr>\n",
       "      <th>...</th>\n",
       "      <td>...</td>\n",
       "      <td>...</td>\n",
       "      <td>...</td>\n",
       "    </tr>\n",
       "    <tr>\n",
       "      <th>1.13</th>\n",
       "      <td>87.000000</td>\n",
       "      <td>7.170000</td>\n",
       "      <td>6.500000</td>\n",
       "    </tr>\n",
       "    <tr>\n",
       "      <th>1.23</th>\n",
       "      <td>83.000000</td>\n",
       "      <td>7.660000</td>\n",
       "      <td>5.700000</td>\n",
       "    </tr>\n",
       "    <tr>\n",
       "      <th>1.28</th>\n",
       "      <td>82.000000</td>\n",
       "      <td>8.280000</td>\n",
       "      <td>4.300000</td>\n",
       "    </tr>\n",
       "    <tr>\n",
       "      <th>1.97</th>\n",
       "      <td>97.000000</td>\n",
       "      <td>12.620000</td>\n",
       "      <td>8.300000</td>\n",
       "    </tr>\n",
       "    <tr>\n",
       "      <th>2.38</th>\n",
       "      <td>NaN</td>\n",
       "      <td>14.630000</td>\n",
       "      <td>NaN</td>\n",
       "    </tr>\n",
       "  </tbody>\n",
       "</table>\n",
       "<p>61 rows × 3 columns</p>\n",
       "</div>"
      ],
      "text/plain": [
       "             critic_score       summ  user_score\n",
       "other_sales                                     \n",
       "0.00            64.142857   0.047917    6.747368\n",
       "0.01            69.355556   0.066923    6.819565\n",
       "0.02            68.565217   0.137586    7.122727\n",
       "0.03            60.300000   0.222778    6.172727\n",
       "0.04            71.153846   0.268571    7.357143\n",
       "...                   ...        ...         ...\n",
       "1.13            87.000000   7.170000    6.500000\n",
       "1.23            83.000000   7.660000    5.700000\n",
       "1.28            82.000000   8.280000    4.300000\n",
       "1.97            97.000000  12.620000    8.300000\n",
       "2.38                  NaN  14.630000         NaN\n",
       "\n",
       "[61 rows x 3 columns]"
      ]
     },
     "execution_count": 28,
     "metadata": {},
     "output_type": "execute_result"
    }
   ],
   "source": [
    "for_matrix = actual_df.query('platform == \"PS4\"').pivot_table(index='other_sales', values=['critic_score', 'user_score', 'summ'])\n",
    "for_matrix"
   ]
  },
  {
   "cell_type": "code",
   "execution_count": 29,
   "metadata": {},
   "outputs": [
    {
     "data": {
      "text/plain": [
       "array([[<AxesSubplot:xlabel='critic_score', ylabel='critic_score'>,\n",
       "        <AxesSubplot:xlabel='summ', ylabel='critic_score'>,\n",
       "        <AxesSubplot:xlabel='user_score', ylabel='critic_score'>],\n",
       "       [<AxesSubplot:xlabel='critic_score', ylabel='summ'>,\n",
       "        <AxesSubplot:xlabel='summ', ylabel='summ'>,\n",
       "        <AxesSubplot:xlabel='user_score', ylabel='summ'>],\n",
       "       [<AxesSubplot:xlabel='critic_score', ylabel='user_score'>,\n",
       "        <AxesSubplot:xlabel='summ', ylabel='user_score'>,\n",
       "        <AxesSubplot:xlabel='user_score', ylabel='user_score'>]],\n",
       "      dtype=object)"
      ]
     },
     "execution_count": 29,
     "metadata": {},
     "output_type": "execute_result"
    },
    {
     "data": {
      "image/png": "[encoded data removed]",
      "text/plain": [
       "<Figure size 1080x720 with 9 Axes>"
      ]
     },
     "metadata": {
      "needs_background": "light"
     },
     "output_type": "display_data"
    }
   ],
   "source": [
    "pd.plotting.scatter_matrix(for_matrix, figsize=(15, 10), alpha=0.8)"
   ]
  },
  {
   "cell_type": "code",
   "execution_count": 30,
   "metadata": {},
   "outputs": [
    {
     "data": {
      "text/plain": [
       "0.40266141068104083"
      ]
     },
     "execution_count": 30,
     "metadata": {},
     "output_type": "execute_result"
    }
   ],
   "source": [
    "actual_df.query('platform == \"PS4\"')['summ'].corr(actual_df.query('platform == \"PS4\"')['critic_score'])"
   ]
  },
  {
   "cell_type": "markdown",
   "metadata": {},
   "source": [
    "И график и коэффицент корреляции говорят о умеренной связи, что означает оценки критиков прямо влияют на объём продаж(чем выше оценка, тем выше объём продаж)"
   ]
  },
  {
   "cell_type": "code",
   "execution_count": 31,
   "metadata": {},
   "outputs": [
    {
     "data": {
      "text/plain": [
       "-0.040131589472697356"
      ]
     },
     "execution_count": 31,
     "metadata": {},
     "output_type": "execute_result"
    }
   ],
   "source": [
    "actual_df.query('platform == \"PS4\"')['summ'].corr(actual_df.query('platform == \"PS4\"')['user_score'])"
   ]
  },
  {
   "cell_type": "markdown",
   "metadata": {},
   "source": [
    "И график и коэффицент корреляции говорят о низкой связи, что означает оценки игроков не влияют на объём продаж(возможно связано, что критика пользователе не имеет такого сильного доверия)"
   ]
  },
  {
   "cell_type": "markdown",
   "metadata": {},
   "source": [
    "**Соотнесем с данными  мене популярных платформ:**"
   ]
  },
  {
   "cell_type": "code",
   "execution_count": 32,
   "metadata": {},
   "outputs": [
    {
     "data": {
      "text/html": [
       "<div>\n",
       "<style scoped>\n",
       "    .dataframe tbody tr th:only-of-type {\n",
       "        vertical-align: middle;\n",
       "    }\n",
       "\n",
       "    .dataframe tbody tr th {\n",
       "        vertical-align: top;\n",
       "    }\n",
       "\n",
       "    .dataframe thead th {\n",
       "        text-align: right;\n",
       "    }\n",
       "</style>\n",
       "<table border=\"1\" class=\"dataframe\">\n",
       "  <thead>\n",
       "    <tr style=\"text-align: right;\">\n",
       "      <th></th>\n",
       "      <th>critic_score</th>\n",
       "      <th>summ</th>\n",
       "      <th>user_score</th>\n",
       "    </tr>\n",
       "    <tr>\n",
       "      <th>other_sales</th>\n",
       "      <th></th>\n",
       "      <th></th>\n",
       "      <th></th>\n",
       "    </tr>\n",
       "  </thead>\n",
       "  <tbody>\n",
       "    <tr>\n",
       "      <th>0.00</th>\n",
       "      <td>68.147059</td>\n",
       "      <td>0.063299</td>\n",
       "      <td>6.670760</td>\n",
       "    </tr>\n",
       "    <tr>\n",
       "      <th>0.01</th>\n",
       "      <td>70.110092</td>\n",
       "      <td>0.124709</td>\n",
       "      <td>6.663121</td>\n",
       "    </tr>\n",
       "    <tr>\n",
       "      <th>0.02</th>\n",
       "      <td>71.716667</td>\n",
       "      <td>0.220374</td>\n",
       "      <td>6.371429</td>\n",
       "    </tr>\n",
       "    <tr>\n",
       "      <th>0.03</th>\n",
       "      <td>73.342857</td>\n",
       "      <td>0.327407</td>\n",
       "      <td>6.276596</td>\n",
       "    </tr>\n",
       "    <tr>\n",
       "      <th>0.04</th>\n",
       "      <td>76.666667</td>\n",
       "      <td>0.459815</td>\n",
       "      <td>6.735000</td>\n",
       "    </tr>\n",
       "  </tbody>\n",
       "</table>\n",
       "</div>"
      ],
      "text/plain": [
       "             critic_score      summ  user_score\n",
       "other_sales                                    \n",
       "0.00            68.147059  0.063299    6.670760\n",
       "0.01            70.110092  0.124709    6.663121\n",
       "0.02            71.716667  0.220374    6.371429\n",
       "0.03            73.342857  0.327407    6.276596\n",
       "0.04            76.666667  0.459815    6.735000"
      ]
     },
     "execution_count": 32,
     "metadata": {},
     "output_type": "execute_result"
    }
   ],
   "source": [
    "for_other_matrix = actual_df.query('platform != \"PS4\"').pivot_table(index='other_sales', values=['critic_score', 'user_score', 'summ'])\n",
    "for_other_matrix.head()"
   ]
  },
  {
   "cell_type": "code",
   "execution_count": 33,
   "metadata": {},
   "outputs": [
    {
     "data": {
      "text/plain": [
       "array([[<AxesSubplot:xlabel='critic_score', ylabel='critic_score'>,\n",
       "        <AxesSubplot:xlabel='summ', ylabel='critic_score'>,\n",
       "        <AxesSubplot:xlabel='user_score', ylabel='critic_score'>],\n",
       "       [<AxesSubplot:xlabel='critic_score', ylabel='summ'>,\n",
       "        <AxesSubplot:xlabel='summ', ylabel='summ'>,\n",
       "        <AxesSubplot:xlabel='user_score', ylabel='summ'>],\n",
       "       [<AxesSubplot:xlabel='critic_score', ylabel='user_score'>,\n",
       "        <AxesSubplot:xlabel='summ', ylabel='user_score'>,\n",
       "        <AxesSubplot:xlabel='user_score', ylabel='user_score'>]],\n",
       "      dtype=object)"
      ]
     },
     "execution_count": 33,
     "metadata": {},
     "output_type": "execute_result"
    },
    {
     "data": {
      "image/png": "[encoded data removed]",
      "text/plain": [
       "<Figure size 1080x720 with 9 Axes>"
      ]
     },
     "metadata": {
      "needs_background": "light"
     },
     "output_type": "display_data"
    }
   ],
   "source": [
    "pd.plotting.scatter_matrix(for_other_matrix, figsize=(15, 10), alpha=0.8)"
   ]
  },
  {
   "cell_type": "code",
   "execution_count": 34,
   "metadata": {},
   "outputs": [
    {
     "data": {
      "text/plain": [
       "0.30947400260011515"
      ]
     },
     "execution_count": 34,
     "metadata": {},
     "output_type": "execute_result"
    }
   ],
   "source": [
    "actual_df.query('platform != \"PS4\"')['summ'].corr(actual_df.query('platform != \"PS4\"')['critic_score'])"
   ]
  },
  {
   "cell_type": "code",
   "execution_count": 35,
   "metadata": {},
   "outputs": [
    {
     "data": {
      "text/plain": [
       "-0.023478187237975554"
      ]
     },
     "execution_count": 35,
     "metadata": {},
     "output_type": "execute_result"
    }
   ],
   "source": [
    "actual_df.query('platform != \"PS4\"')['summ'].corr(actual_df.query('platform != \"PS4\"')['user_score'])"
   ]
  },
  {
   "cell_type": "markdown",
   "metadata": {},
   "source": [
    "Корреляция у других платформ почти одинакова"
   ]
  },
  {
   "cell_type": "markdown",
   "metadata": {},
   "source": [
    "**Посмотрим на общее распределение игр по жанрам:**"
   ]
  },
  {
   "cell_type": "code",
   "execution_count": 36,
   "metadata": {
    "scrolled": true
   },
   "outputs": [
    {
     "data": {
      "text/plain": [
       "<AxesSubplot:xlabel='genre'>"
      ]
     },
     "execution_count": 36,
     "metadata": {},
     "output_type": "execute_result"
    },
    {
     "data": {
      "image/png": "[encoded data removed]",
      "text/plain": [
       "<Figure size 864x360 with 1 Axes>"
      ]
     },
     "metadata": {
      "needs_background": "light"
     },
     "output_type": "display_data"
    }
   ],
   "source": [
    "actual_df.pivot_table(index='genre', values='summ').plot(grid=True, figsize=(12, 5), kind='bar')"
   ]
  },
  {
   "cell_type": "markdown",
   "metadata": {},
   "source": [
    "### Вывод"
   ]
  },
  {
   "cell_type": "markdown",
   "metadata": {},
   "source": [
    "Самым продаваемым жанром является shooter, самым непоппулярным - жанр adventure. Можно выделеть топ 5 самых продаваемых жанров и считать ,на основе этого топа, наиболее прибыльными:\n",
    "- shooter\n",
    "- sports\n",
    "- fighting\n",
    "- platform \n",
    "- role-playing"
   ]
  },
  {
   "cell_type": "markdown",
   "metadata": {},
   "source": [
    "## Составим портрет пользователя каждого региона"
   ]
  },
  {
   "cell_type": "markdown",
   "metadata": {},
   "source": [
    "### Составаим портрет пользователя каждого региона по платформам:"
   ]
  },
  {
   "cell_type": "markdown",
   "metadata": {},
   "source": [
    "Регион Северной Америки:"
   ]
  },
  {
   "cell_type": "code",
   "execution_count": 37,
   "metadata": {},
   "outputs": [
    {
     "data": {
      "text/plain": [
       "platform\n",
       "PS4     98.61\n",
       "XOne    81.27\n",
       "X360    28.30\n",
       "3DS     22.64\n",
       "PS3     22.05\n",
       "Name: na_sales, dtype: float64"
      ]
     },
     "execution_count": 37,
     "metadata": {},
     "output_type": "execute_result"
    }
   ],
   "source": [
    "top_na = actual_df.groupby('platform')['na_sales'].sum()\n",
    "top_na= top_na.sort_values(ascending=False)\n",
    "top_na.head()"
   ]
  },
  {
   "cell_type": "code",
   "execution_count": 38,
   "metadata": {},
   "outputs": [
    {
     "data": {
      "text/plain": [
       "<matplotlib.legend.Legend at 0x7f787f87f3d0>"
      ]
     },
     "execution_count": 38,
     "metadata": {},
     "output_type": "execute_result"
    },
    {
     "data": {
      "image/png": "[encoded data removed]",
      "text/plain": [
       "<Figure size 576x504 with 1 Axes>"
      ]
     },
     "metadata": {},
     "output_type": "display_data"
    }
   ],
   "source": [
    "top_na.plot(kind='pie', autopct='%1.2f%%', figsize=(8, 7))\n",
    "plt.legend(loc='upper left', bbox_to_anchor=(1.0, 1.0))"
   ]
  },
  {
   "cell_type": "markdown",
   "metadata": {},
   "source": [
    "Регион Европы:"
   ]
  },
  {
   "cell_type": "code",
   "execution_count": 39,
   "metadata": {},
   "outputs": [
    {
     "data": {
      "text/plain": [
       "platform\n",
       "PS4     130.04\n",
       "XOne     46.25\n",
       "PS3      25.54\n",
       "PC       17.97\n",
       "3DS      16.12\n",
       "Name: eu_sales, dtype: float64"
      ]
     },
     "execution_count": 39,
     "metadata": {},
     "output_type": "execute_result"
    }
   ],
   "source": [
    "top_eu = actual_df.groupby('platform')['eu_sales'].sum()\n",
    "top_eu= top_eu.sort_values(ascending=False)\n",
    "top_eu.head()"
   ]
  },
  {
   "cell_type": "code",
   "execution_count": 40,
   "metadata": {},
   "outputs": [
    {
     "data": {
      "text/plain": [
       "<matplotlib.legend.Legend at 0x7f787d68d910>"
      ]
     },
     "execution_count": 40,
     "metadata": {},
     "output_type": "execute_result"
    },
    {
     "data": {
      "image/png": "[encoded data removed]",
      "text/plain": [
       "<Figure size 576x504 with 1 Axes>"
      ]
     },
     "metadata": {},
     "output_type": "display_data"
    }
   ],
   "source": [
    "top_eu.plot(kind='pie', autopct='%1.2f%%', figsize=(8, 7))\n",
    "plt.legend(loc='upper left', bbox_to_anchor=(1.0, 1.0))"
   ]
  },
  {
   "cell_type": "markdown",
   "metadata": {},
   "source": [
    "Регион Японии:"
   ]
  },
  {
   "cell_type": "code",
   "execution_count": 41,
   "metadata": {},
   "outputs": [
    {
     "data": {
      "text/plain": [
       "platform\n",
       "3DS     44.24\n",
       "PS4     15.02\n",
       "PSV     14.54\n",
       "PS3     11.22\n",
       "WiiU     7.31\n",
       "Name: jp_sales, dtype: float64"
      ]
     },
     "execution_count": 41,
     "metadata": {},
     "output_type": "execute_result"
    }
   ],
   "source": [
    "top_jp = actual_df.groupby('platform')['jp_sales'].sum()\n",
    "top_jp= top_jp.sort_values(ascending=False)\n",
    "top_jp.head()"
   ]
  },
  {
   "cell_type": "code",
   "execution_count": 42,
   "metadata": {},
   "outputs": [
    {
     "data": {
      "text/plain": [
       "<matplotlib.legend.Legend at 0x7f787d5f5e80>"
      ]
     },
     "execution_count": 42,
     "metadata": {},
     "output_type": "execute_result"
    },
    {
     "data": {
      "image/png": "[encoded data removed]",
      "text/plain": [
       "<Figure size 576x504 with 1 Axes>"
      ]
     },
     "metadata": {},
     "output_type": "display_data"
    }
   ],
   "source": [
    "top_jp.plot(kind='pie', autopct='%1.2f%%', figsize=(8, 7))\n",
    "plt.legend(loc='upper left', bbox_to_anchor=(1.0, 1.0))"
   ]
  },
  {
   "cell_type": "markdown",
   "metadata": {},
   "source": [
    "### Вывод\n",
    "\n",
    "Таким образом по платформам:\n",
    "\n",
    "Топ 5 в **Северной Америки**:\n",
    "\n",
    "- PS4 ~ 35%\n",
    "- XOne ~ 39%\n",
    "- X360 ~ 10%\n",
    "- 3DS ~ 8%\n",
    "- PS3 ~ 8%\n",
    "\n",
    "Топ 5 в **Европе**:\n",
    "\n",
    "- PS4 ~ 49%\n",
    "- XOne ~ 17%\n",
    "- PS3 ~ 5% \n",
    "- РС ~ 7%\n",
    "- 3DS ~ 6%\n",
    "\n",
    "Топ 5 в **Японии**:\n",
    "\n",
    "- 3DS ~ 48%\n",
    "- PS4 ~ 16%\n",
    "- PSV ~ 16%\n",
    "- PS3 ~ 12%\n",
    "- WiiU ~ 8%\n",
    "\n",
    "\n"
   ]
  },
  {
   "cell_type": "markdown",
   "metadata": {},
   "source": [
    "<div class=\"alert alert-success\">\n",
    "<b font-size: 24pt>Успех</b><br /><br />\n",
    "Очень удачный выбор графиков для данного шага. С результатами согласен\n",
    "</div>"
   ]
  },
  {
   "cell_type": "markdown",
   "metadata": {},
   "source": [
    "### Составаим портрет пользователя каждого региона по жанру:"
   ]
  },
  {
   "cell_type": "markdown",
   "metadata": {},
   "source": [
    "Регион Северной Америки:"
   ]
  },
  {
   "cell_type": "code",
   "execution_count": 43,
   "metadata": {},
   "outputs": [
    {
     "data": {
      "text/plain": [
       "genre\n",
       "Shooter         79.02\n",
       "Action          72.53\n",
       "Sports          46.13\n",
       "Role-Playing    33.47\n",
       "Misc            15.05\n",
       "Name: na_sales, dtype: float64"
      ]
     },
     "execution_count": 43,
     "metadata": {},
     "output_type": "execute_result"
    }
   ],
   "source": [
    "g_na = actual_df.groupby('genre')['na_sales'].sum()\n",
    "g_na= g_na.sort_values(ascending=False)\n",
    "g_na.head()"
   ]
  },
  {
   "cell_type": "code",
   "execution_count": 44,
   "metadata": {},
   "outputs": [
    {
     "data": {
      "text/plain": [
       "<matplotlib.legend.Legend at 0x7f787d4afca0>"
      ]
     },
     "execution_count": 44,
     "metadata": {},
     "output_type": "execute_result"
    },
    {
     "data": {
      "image/png": "[encoded data removed]",
      "text/plain": [
       "<Figure size 576x504 with 1 Axes>"
      ]
     },
     "metadata": {},
     "output_type": "display_data"
    }
   ],
   "source": [
    "g_na.plot(kind='pie', autopct='%1.2f%%', figsize=(8, 7))\n",
    "plt.legend(loc='upper left', bbox_to_anchor=(1.0, 1.0))"
   ]
  },
  {
   "cell_type": "markdown",
   "metadata": {},
   "source": [
    "Регион Европы:"
   ]
  },
  {
   "cell_type": "code",
   "execution_count": 45,
   "metadata": {},
   "outputs": [
    {
     "data": {
      "text/plain": [
       "genre\n",
       "Action          74.68\n",
       "Shooter         65.52\n",
       "Sports          45.73\n",
       "Role-Playing    28.17\n",
       "Racing          14.13\n",
       "Name: eu_sales, dtype: float64"
      ]
     },
     "execution_count": 45,
     "metadata": {},
     "output_type": "execute_result"
    }
   ],
   "source": [
    "g_eu = actual_df.groupby('genre')['eu_sales'].sum()\n",
    "g_eu= g_eu.sort_values(ascending=False)\n",
    "g_eu.head()"
   ]
  },
  {
   "cell_type": "code",
   "execution_count": 46,
   "metadata": {},
   "outputs": [
    {
     "data": {
      "text/plain": [
       "<matplotlib.legend.Legend at 0x7f787d44bb80>"
      ]
     },
     "execution_count": 46,
     "metadata": {},
     "output_type": "execute_result"
    },
    {
     "data": {
      "image/png": "[encoded data removed]",
      "text/plain": [
       "<Figure size 576x504 with 1 Axes>"
      ]
     },
     "metadata": {},
     "output_type": "display_data"
    }
   ],
   "source": [
    "g_eu.plot(kind='pie', autopct='%1.2f%%', figsize=(8, 7))\n",
    "plt.legend(loc='upper left', bbox_to_anchor=(1.0, 1.0))"
   ]
  },
  {
   "cell_type": "markdown",
   "metadata": {},
   "source": [
    "Регион Японии:"
   ]
  },
  {
   "cell_type": "code",
   "execution_count": 47,
   "metadata": {},
   "outputs": [
    {
     "data": {
      "text/plain": [
       "genre\n",
       "Action          74.68\n",
       "Shooter         65.52\n",
       "Sports          45.73\n",
       "Role-Playing    28.17\n",
       "Racing          14.13\n",
       "Name: eu_sales, dtype: float64"
      ]
     },
     "execution_count": 47,
     "metadata": {},
     "output_type": "execute_result"
    }
   ],
   "source": [
    "g_jp = actual_df.groupby('genre')['eu_sales'].sum()\n",
    "g_jp= g_jp.sort_values(ascending=False)\n",
    "g_jp.head()"
   ]
  },
  {
   "cell_type": "code",
   "execution_count": 48,
   "metadata": {},
   "outputs": [
    {
     "data": {
      "text/plain": [
       "<matplotlib.legend.Legend at 0x7f787d689f40>"
      ]
     },
     "execution_count": 48,
     "metadata": {},
     "output_type": "execute_result"
    },
    {
     "data": {
      "image/png": "[encoded data removed]",
      "text/plain": [
       "<Figure size 576x504 with 1 Axes>"
      ]
     },
     "metadata": {},
     "output_type": "display_data"
    }
   ],
   "source": [
    "g_jp.plot(kind='pie', autopct='%1.2f%%', figsize=(8, 7))\n",
    "plt.legend(loc='upper left', bbox_to_anchor=(1.0, 1.0))"
   ]
  },
  {
   "cell_type": "markdown",
   "metadata": {},
   "source": [
    "### Вывод\n",
    "\n",
    "Таким образом по жанрам:\n",
    "\n",
    "Топ 5 в **Северной Америки**:\n",
    "\n",
    "- Shooter ~ 28%\n",
    "- Action ~ 26%\n",
    "- Sports ~ 16%\n",
    "- Role-Playing ~ 12%\n",
    "- Misc ~ 5%\n",
    "\n",
    "Топ 5 в **Европе**:\n",
    "\n",
    "- Action ~ 28%\n",
    "- Shooter ~ 24%\n",
    "- Sports ~ 17%\n",
    "- Role-Playing ~ 11%\n",
    "- Racing ~ 5%\n",
    "\n",
    "Топ 5 в **Японии**:\n",
    "\n",
    "- Action ~ 28%\n",
    "- Shooter ~ 24%\n",
    "- Sports ~ 17%\n",
    "- Role-Playing ~ 10%\n",
    "- Racing ~ 5%"
   ]
  },
  {
   "cell_type": "markdown",
   "metadata": {},
   "source": [
    "### Влияет ли рейтинг ESRB на продажи в отдельном регионе?"
   ]
  },
  {
   "cell_type": "code",
   "execution_count": 49,
   "metadata": {},
   "outputs": [
    {
     "data": {
      "text/plain": [
       "rating\n",
       "M          96.42\n",
       "no_ESRB    64.72\n",
       "E          50.74\n",
       "T          38.95\n",
       "E10+       33.23\n",
       "Name: na_sales, dtype: float64"
      ]
     },
     "execution_count": 49,
     "metadata": {},
     "output_type": "execute_result"
    }
   ],
   "source": [
    "rating_na = actual_df.groupby('rating')['na_sales'].sum()\n",
    "rating_na.sort_values(ascending = False)"
   ]
  },
  {
   "cell_type": "code",
   "execution_count": 50,
   "metadata": {},
   "outputs": [
    {
     "data": {
      "text/plain": [
       "<AxesSubplot:xlabel='rating'>"
      ]
     },
     "execution_count": 50,
     "metadata": {},
     "output_type": "execute_result"
    },
    {
     "data": {
      "image/png": "[encoded data removed]",
      "text/plain": [
       "<Figure size 432x288 with 1 Axes>"
      ]
     },
     "metadata": {
      "needs_background": "light"
     },
     "output_type": "display_data"
    }
   ],
   "source": [
    "rating_na.plot(kind='bar')"
   ]
  },
  {
   "cell_type": "markdown",
   "metadata": {},
   "source": [
    "Самым популярным в Северной Аереки являются игры с рейтингом М (согласно Википедии, 17+), наимеьшим, судя по объёму продаж, являются игры с рейтингом Е10+ (согласно Википедии, 10+)."
   ]
  },
  {
   "cell_type": "code",
   "execution_count": 51,
   "metadata": {},
   "outputs": [
    {
     "data": {
      "text/plain": [
       "rating\n",
       "M          93.44\n",
       "no_ESRB    58.95\n",
       "E          58.06\n",
       "T          34.07\n",
       "E10+       26.16\n",
       "Name: eu_sales, dtype: float64"
      ]
     },
     "execution_count": 51,
     "metadata": {},
     "output_type": "execute_result"
    }
   ],
   "source": [
    "rating_eu = actual_df.groupby('rating')['eu_sales'].sum()\n",
    "rating_eu.sort_values(ascending = False)"
   ]
  },
  {
   "cell_type": "code",
   "execution_count": 52,
   "metadata": {},
   "outputs": [
    {
     "data": {
      "text/plain": [
       "<AxesSubplot:xlabel='rating'>"
      ]
     },
     "execution_count": 52,
     "metadata": {},
     "output_type": "execute_result"
    },
    {
     "data": {
      "image/png": "[encoded data removed]",
      "text/plain": [
       "<Figure size 432x288 with 1 Axes>"
      ]
     },
     "metadata": {
      "needs_background": "light"
     },
     "output_type": "display_data"
    }
   ],
   "source": [
    "rating_eu.plot(kind='bar')"
   ]
  },
  {
   "cell_type": "markdown",
   "metadata": {},
   "source": [
    "Самым популярным в Европе являются игры с рейтингом М (согласно Википедии, 17+), наимеьшим, судя по объёму продаж, являются игры с рейтингом Е10+ (согласно Википедии, 10+)."
   ]
  },
  {
   "cell_type": "code",
   "execution_count": 53,
   "metadata": {},
   "outputs": [
    {
     "data": {
      "text/plain": [
       "rating\n",
       "no_ESRB    56.90\n",
       "T          14.78\n",
       "E           8.94\n",
       "M           8.01\n",
       "E10+        4.46\n",
       "Name: jp_sales, dtype: float64"
      ]
     },
     "execution_count": 53,
     "metadata": {},
     "output_type": "execute_result"
    }
   ],
   "source": [
    "rating_jp = actual_df.groupby('rating')['jp_sales'].sum()\n",
    "rating_jp.sort_values(ascending = False)"
   ]
  },
  {
   "cell_type": "code",
   "execution_count": 54,
   "metadata": {
    "scrolled": false
   },
   "outputs": [
    {
     "data": {
      "text/plain": [
       "<AxesSubplot:xlabel='rating'>"
      ]
     },
     "execution_count": 54,
     "metadata": {},
     "output_type": "execute_result"
    },
    {
     "data": {
      "image/png": "[encoded data removed]",
      "text/plain": [
       "<Figure size 432x288 with 1 Axes>"
      ]
     },
     "metadata": {
      "needs_background": "light"
     },
     "output_type": "display_data"
    }
   ],
   "source": [
    "rating_jp.plot(kind='bar')"
   ]
  },
  {
   "cell_type": "markdown",
   "metadata": {},
   "source": [
    "Самым популярным в Японии являются игры без рейтинга. Возможно это говорит о том, что в Японии не учитывают рейтинг  ESRB. Меньше всего игр с рейтингом  Е10+ (согласно Википедии, 10+)."
   ]
  },
  {
   "cell_type": "markdown",
   "metadata": {},
   "source": [
    "### Вывод"
   ]
  },
  {
   "cell_type": "markdown",
   "metadata": {},
   "source": [
    "Подведем итоги:\n",
    "\n",
    "- рейтинг ESRB одинаково влияет на объём продаж в Северной Америке, Европе\n",
    "- в Японии данный рейтинг не влияет на обьем продаж, самые популярные игры - игры без рейтинга"
   ]
  },
  {
   "cell_type": "markdown",
   "metadata": {},
   "source": [
    "## Проверим гипотезы"
   ]
  },
  {
   "cell_type": "markdown",
   "metadata": {},
   "source": [
    "### Гипотеза №1: Средние пользовательские рейтинги платформ Xbox One и PC одинаковые.\n",
    "\n",
    "- Нулевая гипотеза - Средние пользовательские рейтинги платформ Xbox One и PC одинаковые.\n",
    "- Альтернативная гипотеза - Средние пользовательские рейтинги платформ Xbox One и PC разные.\n",
    "- Для проверки гипотезы нам понадобятся данные пользовательских оценок платформ XOne и РС."
   ]
  },
  {
   "cell_type": "code",
   "execution_count": 55,
   "metadata": {},
   "outputs": [],
   "source": [
    "mean_xone = actual_df.query('platform ==\"XOne\"') "
   ]
  },
  {
   "cell_type": "code",
   "execution_count": 56,
   "metadata": {},
   "outputs": [],
   "source": [
    "mean_pc = actual_df.query('platform ==\"PC\"')\n",
    "mean_pc_user = mean_pc['user_score']"
   ]
  },
  {
   "cell_type": "code",
   "execution_count": 57,
   "metadata": {},
   "outputs": [
    {
     "name": "stdout",
     "output_type": "stream",
     "text": [
      "p-значение: 0.05712374867374811\n",
      "Гипотеза неверна\n"
     ]
    }
   ],
   "source": [
    "prev_screens_value = mean_xone['user_score'].mean()\n",
    "\n",
    "alpha = .05 \n",
    "\n",
    "results = st.ttest_1samp(\n",
    "    mean_pc_user, \n",
    "    prev_screens_value, nan_policy='omit')\n",
    "\n",
    "print('p-значение:', results.pvalue)\n",
    "\n",
    "\n",
    "if(mean_pc_user.mean() < prev_screens_value):\n",
    "    print(\"Гипотеза неверна\")\n",
    "else:\n",
    "    print(\"Гипотеза верна\") "
   ]
  },
  {
   "cell_type": "markdown",
   "metadata": {},
   "source": [
    "### Гипотеза 2: Средние пользовательские рейтинги жанров Action и Sports разные.\n",
    "\n",
    "Нулевая гипотеза - Средние пользовательские рейтинги жанров Action и Sports одинаковые.\n",
    "\n",
    "Альтернативная гипотеза - Средние пользовательские рейтинги платформ Xbox One и PC разные/больше/меньше.\n",
    "\n",
    "Гипотеза является двусторонняя, поскольку возможное отклонение в разные стороны.\n",
    "\n",
    "Для проверки гипотезы нам понадобятся данные пользовательских оценок жанров Action и Sports."
   ]
  },
  {
   "cell_type": "code",
   "execution_count": 58,
   "metadata": {},
   "outputs": [],
   "source": [
    "g_action =  actual_df.query('genre ==\"Action\"') "
   ]
  },
  {
   "cell_type": "code",
   "execution_count": 59,
   "metadata": {},
   "outputs": [],
   "source": [
    "g_sports =  actual_df.query('genre ==\"Sports\"')\n",
    "g_sports_mean = g_sports['user_score']"
   ]
  },
  {
   "cell_type": "code",
   "execution_count": 60,
   "metadata": {
    "scrolled": false
   },
   "outputs": [
    {
     "name": "stdout",
     "output_type": "stream",
     "text": [
      "p-значение: 4.94681198605686e-16\n",
      "Гипотеза неверна\n"
     ]
    }
   ],
   "source": [
    "interested_value = g_action['user_score'].mean()\n",
    "\n",
    "alpha = .05 \n",
    "\n",
    "results = st.ttest_1samp(\n",
    "    g_sports_mean, \n",
    "    interested_value, nan_policy='omit')\n",
    "\n",
    "print('p-значение:', results.pvalue)\n",
    "\n",
    "if results.pvalue < alpha:\n",
    "    print(\"Гипотеза неверна\")\n",
    "else:\n",
    "    print(\"Гипотеза верна\") "
   ]
  },
  {
   "cell_type": "markdown",
   "metadata": {},
   "source": [
    "## Общий вывод"
   ]
  },
  {
   "cell_type": "markdown",
   "metadata": {},
   "source": [
    "В данном проекте мы изучили данные о продажах игр, оценках пользователей и экспертов, жанрах и платформах.\n",
    "\n",
    "Нашей целью было определить наиболее перспективный продукт. И основываясь, на нашем исследовании, то для большей части пользователей (из нашего исследования) стоит выпускать на платформе PS4  и в жанре Shooter или Action и обязательно нужно учитывать возрастной рейтинг  ESRB, самый популярный рейтинг - М (согласно Википедии, 17+)."
   ]
  },
  {
   "cell_type": "code",
   "execution_count": null,
   "metadata": {},
   "outputs": [],
   "source": []
  }
 ],
 "metadata": {
  "ExecuteTimeLog": [
   {
    "duration": 146,
    "start_time": "2022-02-22T18:12:02.338Z"
   },
   {
    "duration": 608,
    "start_time": "2022-02-22T18:12:32.018Z"
   },
   {
    "duration": 53,
    "start_time": "2022-02-22T18:19:54.967Z"
   },
   {
    "duration": 10,
    "start_time": "2022-02-22T18:21:11.925Z"
   },
   {
    "duration": 8,
    "start_time": "2022-02-22T18:21:31.216Z"
   },
   {
    "duration": 5,
    "start_time": "2022-02-22T18:29:39.864Z"
   },
   {
    "duration": 20,
    "start_time": "2022-02-22T18:29:51.834Z"
   },
   {
    "duration": 16,
    "start_time": "2022-02-22T18:30:01.534Z"
   },
   {
    "duration": 19,
    "start_time": "2022-02-22T18:37:47.616Z"
   },
   {
    "duration": 9,
    "start_time": "2022-02-22T18:39:35.660Z"
   },
   {
    "duration": 7,
    "start_time": "2022-02-22T18:39:54.250Z"
   },
   {
    "duration": 8,
    "start_time": "2022-02-22T18:41:17.970Z"
   },
   {
    "duration": 13,
    "start_time": "2022-02-22T18:42:02.043Z"
   },
   {
    "duration": 97,
    "start_time": "2022-02-22T18:47:50.000Z"
   },
   {
    "duration": 15,
    "start_time": "2022-02-22T18:47:58.827Z"
   },
   {
    "duration": 4,
    "start_time": "2022-02-22T18:50:19.072Z"
   },
   {
    "duration": 15,
    "start_time": "2022-02-22T18:50:28.824Z"
   },
   {
    "duration": 355,
    "start_time": "2022-02-22T18:55:14.018Z"
   },
   {
    "duration": 302,
    "start_time": "2022-02-22T18:55:32.224Z"
   },
   {
    "duration": 13,
    "start_time": "2022-02-22T18:58:05.280Z"
   },
   {
    "duration": 89,
    "start_time": "2022-02-22T18:58:31.398Z"
   },
   {
    "duration": 13,
    "start_time": "2022-02-22T18:58:42.290Z"
   },
   {
    "duration": 4,
    "start_time": "2022-02-22T19:02:24.849Z"
   },
   {
    "duration": 12,
    "start_time": "2022-02-22T19:02:34.147Z"
   },
   {
    "duration": 15,
    "start_time": "2022-02-22T19:12:17.317Z"
   },
   {
    "duration": 11,
    "start_time": "2022-02-22T19:12:28.370Z"
   },
   {
    "duration": 321,
    "start_time": "2022-02-22T19:13:12.968Z"
   },
   {
    "duration": 2,
    "start_time": "2022-02-22T19:47:17.038Z"
   },
   {
    "duration": 12,
    "start_time": "2022-02-22T19:52:50.664Z"
   },
   {
    "duration": 9,
    "start_time": "2022-02-22T19:52:59.891Z"
   },
   {
    "duration": 1980,
    "start_time": "2022-02-22T19:53:16.609Z"
   },
   {
    "duration": 10,
    "start_time": "2022-02-22T19:53:47.151Z"
   },
   {
    "duration": 13,
    "start_time": "2022-02-22T19:54:22.521Z"
   },
   {
    "duration": 623,
    "start_time": "2022-02-22T19:54:34.079Z"
   },
   {
    "duration": 9,
    "start_time": "2022-02-22T19:54:34.704Z"
   },
   {
    "duration": 14,
    "start_time": "2022-02-22T19:54:34.715Z"
   },
   {
    "duration": 21,
    "start_time": "2022-02-22T19:54:34.731Z"
   },
   {
    "duration": 21,
    "start_time": "2022-02-22T19:54:34.753Z"
   },
   {
    "duration": 373,
    "start_time": "2022-02-22T19:54:34.775Z"
   },
   {
    "duration": -787,
    "start_time": "2022-02-22T19:54:35.937Z"
   },
   {
    "duration": -787,
    "start_time": "2022-02-22T19:54:35.938Z"
   },
   {
    "duration": 288,
    "start_time": "2022-02-22T19:55:16.503Z"
   },
   {
    "duration": 647,
    "start_time": "2022-02-22T19:55:44.632Z"
   },
   {
    "duration": 9,
    "start_time": "2022-02-22T19:55:45.280Z"
   },
   {
    "duration": 9,
    "start_time": "2022-02-22T19:55:45.291Z"
   },
   {
    "duration": 11,
    "start_time": "2022-02-22T19:55:45.301Z"
   },
   {
    "duration": 27,
    "start_time": "2022-02-22T19:55:45.314Z"
   },
   {
    "duration": 954,
    "start_time": "2022-02-22T19:55:45.343Z"
   },
   {
    "duration": -858,
    "start_time": "2022-02-22T19:55:47.157Z"
   },
   {
    "duration": -857,
    "start_time": "2022-02-22T19:55:47.158Z"
   },
   {
    "duration": 300,
    "start_time": "2022-02-22T19:58:22.767Z"
   },
   {
    "duration": 282,
    "start_time": "2022-02-22T19:58:50.044Z"
   },
   {
    "duration": 12,
    "start_time": "2022-02-22T19:59:10.406Z"
   },
   {
    "duration": 14,
    "start_time": "2022-02-22T19:59:21.206Z"
   },
   {
    "duration": 594,
    "start_time": "2022-02-22T20:01:33.965Z"
   },
   {
    "duration": 10,
    "start_time": "2022-02-22T20:01:34.560Z"
   },
   {
    "duration": 7,
    "start_time": "2022-02-22T20:01:34.572Z"
   },
   {
    "duration": 14,
    "start_time": "2022-02-22T20:01:34.581Z"
   },
   {
    "duration": 12,
    "start_time": "2022-02-22T20:01:34.596Z"
   },
   {
    "duration": 30,
    "start_time": "2022-02-22T20:01:34.609Z"
   },
   {
    "duration": 14,
    "start_time": "2022-02-22T20:01:34.641Z"
   },
   {
    "duration": 3,
    "start_time": "2022-02-22T20:01:34.657Z"
   },
   {
    "duration": 14,
    "start_time": "2022-02-22T20:10:12.376Z"
   },
   {
    "duration": 8,
    "start_time": "2022-02-22T20:12:42.308Z"
   },
   {
    "duration": 5,
    "start_time": "2022-02-22T20:12:57.138Z"
   },
   {
    "duration": 10,
    "start_time": "2022-02-22T20:13:04.496Z"
   },
   {
    "duration": 13,
    "start_time": "2022-02-22T20:15:15.013Z"
   },
   {
    "duration": 18,
    "start_time": "2022-02-22T20:15:37.097Z"
   },
   {
    "duration": 14,
    "start_time": "2022-02-22T20:16:39.707Z"
   },
   {
    "duration": 19,
    "start_time": "2022-02-22T20:28:30.351Z"
   },
   {
    "duration": 14,
    "start_time": "2022-02-22T20:28:41.880Z"
   },
   {
    "duration": 5,
    "start_time": "2022-02-22T20:30:51.661Z"
   },
   {
    "duration": 6,
    "start_time": "2022-02-22T20:31:01.749Z"
   },
   {
    "duration": 9,
    "start_time": "2022-02-22T20:34:45.321Z"
   },
   {
    "duration": 9,
    "start_time": "2022-02-22T20:34:50.380Z"
   },
   {
    "duration": 12,
    "start_time": "2022-02-22T20:34:55.489Z"
   },
   {
    "duration": 8,
    "start_time": "2022-02-22T20:34:59.481Z"
   },
   {
    "duration": 10,
    "start_time": "2022-02-22T20:35:04.851Z"
   },
   {
    "duration": 8,
    "start_time": "2022-02-22T20:35:14.703Z"
   },
   {
    "duration": 3017,
    "start_time": "2022-02-22T20:35:28.893Z"
   },
   {
    "duration": -701,
    "start_time": "2022-02-22T20:35:32.617Z"
   },
   {
    "duration": 777,
    "start_time": "2022-02-22T20:35:41.026Z"
   },
   {
    "duration": 9,
    "start_time": "2022-02-22T20:35:41.805Z"
   },
   {
    "duration": 7,
    "start_time": "2022-02-22T20:35:41.816Z"
   },
   {
    "duration": 18,
    "start_time": "2022-02-22T20:35:41.825Z"
   },
   {
    "duration": 10,
    "start_time": "2022-02-22T20:35:41.844Z"
   },
   {
    "duration": 13,
    "start_time": "2022-02-22T20:35:41.855Z"
   },
   {
    "duration": 14,
    "start_time": "2022-02-22T20:35:41.869Z"
   },
   {
    "duration": 3,
    "start_time": "2022-02-22T20:35:41.886Z"
   },
   {
    "duration": 45,
    "start_time": "2022-02-22T20:35:41.890Z"
   },
   {
    "duration": 10,
    "start_time": "2022-02-22T20:35:41.936Z"
   },
   {
    "duration": 13,
    "start_time": "2022-02-22T20:35:41.948Z"
   },
   {
    "duration": 7,
    "start_time": "2022-02-22T20:35:41.962Z"
   },
   {
    "duration": 10,
    "start_time": "2022-02-22T20:36:29.974Z"
   },
   {
    "duration": 5,
    "start_time": "2022-02-22T20:36:58.328Z"
   },
   {
    "duration": 6,
    "start_time": "2022-02-22T20:37:34.482Z"
   },
   {
    "duration": 628,
    "start_time": "2022-02-22T20:37:59.528Z"
   },
   {
    "duration": 8,
    "start_time": "2022-02-22T20:38:00.158Z"
   },
   {
    "duration": 8,
    "start_time": "2022-02-22T20:38:00.168Z"
   },
   {
    "duration": 14,
    "start_time": "2022-02-22T20:38:00.178Z"
   },
   {
    "duration": 10,
    "start_time": "2022-02-22T20:38:00.193Z"
   },
   {
    "duration": 32,
    "start_time": "2022-02-22T20:38:00.204Z"
   },
   {
    "duration": 13,
    "start_time": "2022-02-22T20:38:00.238Z"
   },
   {
    "duration": 2,
    "start_time": "2022-02-22T20:38:00.253Z"
   },
   {
    "duration": 18,
    "start_time": "2022-02-22T20:38:00.257Z"
   },
   {
    "duration": 9,
    "start_time": "2022-02-22T20:38:00.276Z"
   },
   {
    "duration": 15,
    "start_time": "2022-02-22T20:38:00.286Z"
   },
   {
    "duration": 31,
    "start_time": "2022-02-22T20:38:00.302Z"
   },
   {
    "duration": 5,
    "start_time": "2022-02-22T20:38:00.334Z"
   },
   {
    "duration": 6,
    "start_time": "2022-02-22T20:38:29.421Z"
   },
   {
    "duration": 5,
    "start_time": "2022-02-22T20:38:58.627Z"
   },
   {
    "duration": 5,
    "start_time": "2022-02-22T20:40:51.092Z"
   },
   {
    "duration": 15,
    "start_time": "2022-02-22T20:44:11.750Z"
   },
   {
    "duration": 23,
    "start_time": "2022-02-22T20:49:56.355Z"
   },
   {
    "duration": 14,
    "start_time": "2022-02-22T20:50:36.786Z"
   },
   {
    "duration": 5,
    "start_time": "2022-02-22T20:52:22.058Z"
   },
   {
    "duration": 5,
    "start_time": "2022-02-22T20:54:45.178Z"
   },
   {
    "duration": 5,
    "start_time": "2022-02-22T20:54:59.301Z"
   },
   {
    "duration": 627,
    "start_time": "2022-02-22T21:06:05.253Z"
   },
   {
    "duration": 9,
    "start_time": "2022-02-22T21:06:05.882Z"
   },
   {
    "duration": 7,
    "start_time": "2022-02-22T21:06:05.896Z"
   },
   {
    "duration": 19,
    "start_time": "2022-02-22T21:06:05.905Z"
   },
   {
    "duration": 10,
    "start_time": "2022-02-22T21:06:05.932Z"
   },
   {
    "duration": 16,
    "start_time": "2022-02-22T21:06:05.944Z"
   },
   {
    "duration": 13,
    "start_time": "2022-02-22T21:06:05.962Z"
   },
   {
    "duration": 13,
    "start_time": "2022-02-22T21:06:05.976Z"
   },
   {
    "duration": 12,
    "start_time": "2022-02-22T21:06:05.990Z"
   },
   {
    "duration": 37,
    "start_time": "2022-02-22T21:06:06.003Z"
   },
   {
    "duration": 11,
    "start_time": "2022-02-22T21:06:06.041Z"
   },
   {
    "duration": 5,
    "start_time": "2022-02-22T21:06:06.053Z"
   },
   {
    "duration": 18,
    "start_time": "2022-02-22T21:06:06.060Z"
   },
   {
    "duration": 7,
    "start_time": "2022-02-22T21:08:14.206Z"
   },
   {
    "duration": 10,
    "start_time": "2022-02-22T21:09:12.503Z"
   },
   {
    "duration": 6,
    "start_time": "2022-02-22T21:09:52.334Z"
   },
   {
    "duration": 22,
    "start_time": "2022-02-22T21:10:07.256Z"
   },
   {
    "duration": 16,
    "start_time": "2022-02-22T21:10:15.594Z"
   },
   {
    "duration": 16,
    "start_time": "2022-02-22T21:10:30.394Z"
   },
   {
    "duration": 16,
    "start_time": "2022-02-22T21:11:06.796Z"
   },
   {
    "duration": 627,
    "start_time": "2022-02-22T21:38:02.937Z"
   },
   {
    "duration": 10,
    "start_time": "2022-02-22T21:38:03.566Z"
   },
   {
    "duration": 8,
    "start_time": "2022-02-22T21:38:03.577Z"
   },
   {
    "duration": 16,
    "start_time": "2022-02-22T21:38:03.587Z"
   },
   {
    "duration": 27,
    "start_time": "2022-02-22T21:38:03.605Z"
   },
   {
    "duration": 14,
    "start_time": "2022-02-22T21:38:03.634Z"
   },
   {
    "duration": 19,
    "start_time": "2022-02-22T21:38:03.650Z"
   },
   {
    "duration": 16,
    "start_time": "2022-02-22T21:38:03.671Z"
   },
   {
    "duration": 9,
    "start_time": "2022-02-22T21:38:03.689Z"
   },
   {
    "duration": 44,
    "start_time": "2022-02-22T21:38:03.700Z"
   },
   {
    "duration": 8,
    "start_time": "2022-02-22T21:38:03.745Z"
   },
   {
    "duration": 4,
    "start_time": "2022-02-22T21:38:03.755Z"
   },
   {
    "duration": 14,
    "start_time": "2022-02-22T21:38:03.761Z"
   },
   {
    "duration": 14,
    "start_time": "2022-02-22T21:38:03.777Z"
   },
   {
    "duration": 5,
    "start_time": "2022-02-22T21:43:23.297Z"
   },
   {
    "duration": 5,
    "start_time": "2022-02-22T21:43:31.257Z"
   },
   {
    "duration": 8,
    "start_time": "2022-02-22T21:43:57.484Z"
   },
   {
    "duration": 236,
    "start_time": "2022-02-22T21:45:13.544Z"
   },
   {
    "duration": 177,
    "start_time": "2022-02-22T21:45:36.643Z"
   },
   {
    "duration": 165,
    "start_time": "2022-02-22T21:45:57.713Z"
   },
   {
    "duration": 205,
    "start_time": "2022-02-22T21:46:08.475Z"
   },
   {
    "duration": 7,
    "start_time": "2022-02-22T21:52:27.323Z"
   },
   {
    "duration": 8,
    "start_time": "2022-02-22T22:04:06.045Z"
   },
   {
    "duration": 11,
    "start_time": "2022-02-22T22:04:13.405Z"
   },
   {
    "duration": 7,
    "start_time": "2022-02-22T22:07:06.479Z"
   },
   {
    "duration": 7,
    "start_time": "2022-02-22T22:07:26.010Z"
   },
   {
    "duration": 11,
    "start_time": "2022-02-22T22:07:39.269Z"
   },
   {
    "duration": 373,
    "start_time": "2022-02-22T22:09:09.835Z"
   },
   {
    "duration": 13,
    "start_time": "2022-02-22T22:09:21.444Z"
   },
   {
    "duration": 21,
    "start_time": "2022-02-22T22:10:45.095Z"
   },
   {
    "duration": 211,
    "start_time": "2022-02-26T13:07:24.192Z"
   },
   {
    "duration": 582,
    "start_time": "2022-02-26T13:07:31.666Z"
   },
   {
    "duration": 10,
    "start_time": "2022-02-26T13:07:32.250Z"
   },
   {
    "duration": 8,
    "start_time": "2022-02-26T13:07:32.262Z"
   },
   {
    "duration": 13,
    "start_time": "2022-02-26T13:07:32.272Z"
   },
   {
    "duration": 11,
    "start_time": "2022-02-26T13:07:32.287Z"
   },
   {
    "duration": 42,
    "start_time": "2022-02-26T13:07:32.300Z"
   },
   {
    "duration": 14,
    "start_time": "2022-02-26T13:07:32.343Z"
   },
   {
    "duration": 12,
    "start_time": "2022-02-26T13:07:32.358Z"
   },
   {
    "duration": 10,
    "start_time": "2022-02-26T13:07:32.372Z"
   },
   {
    "duration": 14,
    "start_time": "2022-02-26T13:07:32.384Z"
   },
   {
    "duration": 39,
    "start_time": "2022-02-26T13:07:32.400Z"
   },
   {
    "duration": 5,
    "start_time": "2022-02-26T13:07:32.441Z"
   },
   {
    "duration": 15,
    "start_time": "2022-02-26T13:07:32.447Z"
   },
   {
    "duration": 16,
    "start_time": "2022-02-26T13:07:32.463Z"
   },
   {
    "duration": 12,
    "start_time": "2022-02-26T13:07:32.481Z"
   },
   {
    "duration": 9,
    "start_time": "2022-02-26T13:07:32.532Z"
   },
   {
    "duration": 274,
    "start_time": "2022-02-26T13:07:32.542Z"
   },
   {
    "duration": 15,
    "start_time": "2022-02-26T13:07:32.818Z"
   },
   {
    "duration": 23,
    "start_time": "2022-02-26T13:07:52.253Z"
   },
   {
    "duration": 240,
    "start_time": "2022-02-26T13:08:15.156Z"
   },
   {
    "duration": 22,
    "start_time": "2022-02-26T13:08:20.072Z"
   },
   {
    "duration": 28,
    "start_time": "2022-02-26T13:08:29.646Z"
   },
   {
    "duration": 23,
    "start_time": "2022-02-26T13:08:46.506Z"
   },
   {
    "duration": 22,
    "start_time": "2022-02-26T13:09:00.572Z"
   },
   {
    "duration": 21,
    "start_time": "2022-02-26T13:09:04.800Z"
   },
   {
    "duration": 266,
    "start_time": "2022-02-26T17:59:22.617Z"
   },
   {
    "duration": 834,
    "start_time": "2022-02-26T17:59:30.582Z"
   },
   {
    "duration": 14,
    "start_time": "2022-02-26T17:59:31.418Z"
   },
   {
    "duration": 24,
    "start_time": "2022-02-26T17:59:31.434Z"
   },
   {
    "duration": 36,
    "start_time": "2022-02-26T17:59:31.461Z"
   },
   {
    "duration": 17,
    "start_time": "2022-02-26T17:59:31.499Z"
   },
   {
    "duration": 21,
    "start_time": "2022-02-26T17:59:31.519Z"
   },
   {
    "duration": 51,
    "start_time": "2022-02-26T17:59:31.543Z"
   },
   {
    "duration": 21,
    "start_time": "2022-02-26T17:59:31.598Z"
   },
   {
    "duration": 18,
    "start_time": "2022-02-26T17:59:31.623Z"
   },
   {
    "duration": 57,
    "start_time": "2022-02-26T17:59:31.644Z"
   },
   {
    "duration": 33,
    "start_time": "2022-02-26T17:59:31.704Z"
   },
   {
    "duration": 7,
    "start_time": "2022-02-26T17:59:31.740Z"
   },
   {
    "duration": 45,
    "start_time": "2022-02-26T17:59:31.749Z"
   },
   {
    "duration": 30,
    "start_time": "2022-02-26T17:59:31.797Z"
   },
   {
    "duration": 18,
    "start_time": "2022-02-26T17:59:31.830Z"
   },
   {
    "duration": 40,
    "start_time": "2022-02-26T17:59:31.851Z"
   },
   {
    "duration": 413,
    "start_time": "2022-02-26T17:59:31.894Z"
   },
   {
    "duration": 311,
    "start_time": "2022-02-26T17:59:32.309Z"
   },
   {
    "duration": 245,
    "start_time": "2022-02-26T17:59:48.678Z"
   },
   {
    "duration": 21,
    "start_time": "2022-02-26T18:00:07.079Z"
   },
   {
    "duration": 32,
    "start_time": "2022-02-26T18:00:13.811Z"
   },
   {
    "duration": 28,
    "start_time": "2022-02-26T18:00:27.588Z"
   },
   {
    "duration": 29,
    "start_time": "2022-02-26T18:01:25.884Z"
   },
   {
    "duration": 71,
    "start_time": "2022-02-26T18:07:29.107Z"
   },
   {
    "duration": 76,
    "start_time": "2022-02-26T18:07:47.500Z"
   },
   {
    "duration": 40,
    "start_time": "2022-02-26T18:09:16.860Z"
   },
   {
    "duration": 73,
    "start_time": "2022-02-26T18:13:28.191Z"
   },
   {
    "duration": 241,
    "start_time": "2022-02-26T18:14:53.760Z"
   },
   {
    "duration": 252,
    "start_time": "2022-02-26T18:15:03.883Z"
   },
   {
    "duration": 81,
    "start_time": "2022-02-26T18:18:07.429Z"
   },
   {
    "duration": 229,
    "start_time": "2022-02-26T19:06:03.891Z"
   },
   {
    "duration": 238,
    "start_time": "2022-02-26T19:06:23.253Z"
   },
   {
    "duration": 246,
    "start_time": "2022-02-26T19:06:32.727Z"
   },
   {
    "duration": 55,
    "start_time": "2022-02-26T19:10:45.123Z"
   },
   {
    "duration": 647,
    "start_time": "2022-02-26T19:11:33.382Z"
   },
   {
    "duration": 517,
    "start_time": "2022-02-26T19:20:26.540Z"
   },
   {
    "duration": 547,
    "start_time": "2022-02-26T19:20:32.734Z"
   },
   {
    "duration": 610,
    "start_time": "2022-02-26T19:22:09.489Z"
   },
   {
    "duration": 72,
    "start_time": "2022-02-26T19:23:11.765Z"
   },
   {
    "duration": 72,
    "start_time": "2022-02-26T19:23:19.993Z"
   },
   {
    "duration": 150,
    "start_time": "2022-02-26T19:23:25.315Z"
   },
   {
    "duration": 506,
    "start_time": "2022-02-26T19:23:37.605Z"
   },
   {
    "duration": 515,
    "start_time": "2022-02-26T19:23:49.483Z"
   },
   {
    "duration": 622,
    "start_time": "2022-02-26T19:23:58.567Z"
   },
   {
    "duration": 775,
    "start_time": "2022-02-26T19:25:11.881Z"
   },
   {
    "duration": 16,
    "start_time": "2022-02-26T19:25:12.659Z"
   },
   {
    "duration": 11,
    "start_time": "2022-02-26T19:25:12.687Z"
   },
   {
    "duration": 22,
    "start_time": "2022-02-26T19:25:12.701Z"
   },
   {
    "duration": 16,
    "start_time": "2022-02-26T19:25:12.725Z"
   },
   {
    "duration": 55,
    "start_time": "2022-02-26T19:25:12.744Z"
   },
   {
    "duration": 21,
    "start_time": "2022-02-26T19:25:12.802Z"
   },
   {
    "duration": 20,
    "start_time": "2022-02-26T19:25:12.825Z"
   },
   {
    "duration": 41,
    "start_time": "2022-02-26T19:25:12.848Z"
   },
   {
    "duration": 23,
    "start_time": "2022-02-26T19:25:12.892Z"
   },
   {
    "duration": 14,
    "start_time": "2022-02-26T19:25:12.918Z"
   },
   {
    "duration": 6,
    "start_time": "2022-02-26T19:25:12.934Z"
   },
   {
    "duration": 59,
    "start_time": "2022-02-26T19:25:12.942Z"
   },
   {
    "duration": 29,
    "start_time": "2022-02-26T19:25:13.003Z"
   },
   {
    "duration": 14,
    "start_time": "2022-02-26T19:25:13.034Z"
   },
   {
    "duration": 40,
    "start_time": "2022-02-26T19:25:13.050Z"
   },
   {
    "duration": 697,
    "start_time": "2022-02-26T19:25:13.093Z"
   },
   {
    "duration": 130,
    "start_time": "2022-02-26T19:25:13.662Z"
   },
   {
    "duration": 311,
    "start_time": "2022-02-26T19:25:44.080Z"
   },
   {
    "duration": 520,
    "start_time": "2022-02-26T19:25:50.269Z"
   },
   {
    "duration": 528,
    "start_time": "2022-02-26T19:25:56.481Z"
   },
   {
    "duration": 584,
    "start_time": "2022-02-26T19:26:01.537Z"
   },
   {
    "duration": 621,
    "start_time": "2022-02-26T19:26:07.545Z"
   },
   {
    "duration": 977,
    "start_time": "2022-02-26T19:26:38.139Z"
   },
   {
    "duration": 700,
    "start_time": "2022-02-26T19:28:24.943Z"
   },
   {
    "duration": 58,
    "start_time": "2022-02-26T19:28:41.219Z"
   },
   {
    "duration": 10,
    "start_time": "2022-02-26T19:33:13.256Z"
   },
   {
    "duration": 25,
    "start_time": "2022-02-26T19:33:50.258Z"
   },
   {
    "duration": 25,
    "start_time": "2022-02-26T19:34:08.897Z"
   },
   {
    "duration": 229,
    "start_time": "2022-02-26T19:34:29.469Z"
   },
   {
    "duration": 221,
    "start_time": "2022-02-26T19:34:36.799Z"
   },
   {
    "duration": 259,
    "start_time": "2022-02-26T19:37:19.194Z"
   },
   {
    "duration": 24,
    "start_time": "2022-02-26T19:37:27.442Z"
   },
   {
    "duration": 35,
    "start_time": "2022-02-26T19:37:45.602Z"
   },
   {
    "duration": 30,
    "start_time": "2022-02-26T19:39:19.085Z"
   },
   {
    "duration": 13,
    "start_time": "2022-02-26T19:39:51.038Z"
   },
   {
    "duration": 12,
    "start_time": "2022-02-26T19:40:50.010Z"
   },
   {
    "duration": 224,
    "start_time": "2022-02-26T19:41:04.268Z"
   },
   {
    "duration": 254,
    "start_time": "2022-02-26T19:41:09.632Z"
   },
   {
    "duration": 12,
    "start_time": "2022-02-26T19:41:37.714Z"
   },
   {
    "duration": 16,
    "start_time": "2022-02-26T19:41:48.699Z"
   },
   {
    "duration": 10,
    "start_time": "2022-02-26T19:42:03.526Z"
   },
   {
    "duration": 7,
    "start_time": "2022-02-26T19:43:02.073Z"
   },
   {
    "duration": 11,
    "start_time": "2022-02-26T19:43:18.655Z"
   },
   {
    "duration": 271,
    "start_time": "2022-02-26T19:44:28.455Z"
   },
   {
    "duration": 674,
    "start_time": "2022-02-26T19:45:03.622Z"
   },
   {
    "duration": 210,
    "start_time": "2022-02-26T19:47:07.888Z"
   },
   {
    "duration": 224,
    "start_time": "2022-02-26T19:47:54.227Z"
   },
   {
    "duration": 205,
    "start_time": "2022-02-26T19:49:39.062Z"
   },
   {
    "duration": 809,
    "start_time": "2022-02-26T19:50:07.245Z"
   },
   {
    "duration": 14,
    "start_time": "2022-02-26T19:50:08.057Z"
   },
   {
    "duration": 18,
    "start_time": "2022-02-26T19:50:08.074Z"
   },
   {
    "duration": 23,
    "start_time": "2022-02-26T19:50:08.095Z"
   },
   {
    "duration": 19,
    "start_time": "2022-02-26T19:50:08.120Z"
   },
   {
    "duration": 52,
    "start_time": "2022-02-26T19:50:08.142Z"
   },
   {
    "duration": 21,
    "start_time": "2022-02-26T19:50:08.196Z"
   },
   {
    "duration": 19,
    "start_time": "2022-02-26T19:50:08.220Z"
   },
   {
    "duration": 52,
    "start_time": "2022-02-26T19:50:08.243Z"
   },
   {
    "duration": 24,
    "start_time": "2022-02-26T19:50:08.299Z"
   },
   {
    "duration": 14,
    "start_time": "2022-02-26T19:50:08.326Z"
   },
   {
    "duration": 45,
    "start_time": "2022-02-26T19:50:08.342Z"
   },
   {
    "duration": 24,
    "start_time": "2022-02-26T19:50:08.390Z"
   },
   {
    "duration": 28,
    "start_time": "2022-02-26T19:50:08.417Z"
   },
   {
    "duration": 43,
    "start_time": "2022-02-26T19:50:08.448Z"
   },
   {
    "duration": 10,
    "start_time": "2022-02-26T19:50:08.494Z"
   },
   {
    "duration": 426,
    "start_time": "2022-02-26T19:50:08.506Z"
   },
   {
    "duration": 325,
    "start_time": "2022-02-26T19:50:08.934Z"
   },
   {
    "duration": 1166,
    "start_time": "2022-02-26T19:50:08.095Z"
   },
   {
    "duration": 1164,
    "start_time": "2022-02-26T19:50:08.098Z"
   },
   {
    "duration": 11,
    "start_time": "2022-02-26T19:50:26.820Z"
   },
   {
    "duration": 67,
    "start_time": "2022-02-26T19:52:10.296Z"
   },
   {
    "duration": 55,
    "start_time": "2022-02-26T19:52:32.798Z"
   },
   {
    "duration": 261,
    "start_time": "2022-02-26T19:53:08.319Z"
   },
   {
    "duration": 241,
    "start_time": "2022-02-26T19:53:30.630Z"
   },
   {
    "duration": 231,
    "start_time": "2022-02-26T19:53:39.157Z"
   },
   {
    "duration": 56,
    "start_time": "2022-02-26T19:53:46.288Z"
   },
   {
    "duration": 217,
    "start_time": "2022-02-26T19:54:41.788Z"
   },
   {
    "duration": 18,
    "start_time": "2022-02-26T19:55:30.681Z"
   },
   {
    "duration": 219,
    "start_time": "2022-02-26T19:56:10.395Z"
   },
   {
    "duration": 211,
    "start_time": "2022-02-26T19:56:17.997Z"
   },
   {
    "duration": 18,
    "start_time": "2022-02-26T19:56:49.070Z"
   },
   {
    "duration": 283,
    "start_time": "2022-02-26T19:57:05.747Z"
   },
   {
    "duration": 226,
    "start_time": "2022-02-26T19:57:20.828Z"
   },
   {
    "duration": 214,
    "start_time": "2022-02-26T19:57:43.128Z"
   },
   {
    "duration": 16,
    "start_time": "2022-02-26T19:59:57.532Z"
   },
   {
    "duration": 5815,
    "start_time": "2022-02-26T20:03:56.231Z"
   },
   {
    "duration": 5789,
    "start_time": "2022-02-26T20:04:18.475Z"
   },
   {
    "duration": 1027,
    "start_time": "2022-02-26T20:04:40.998Z"
   },
   {
    "duration": 22,
    "start_time": "2022-02-26T20:04:42.028Z"
   },
   {
    "duration": 38,
    "start_time": "2022-02-26T20:04:42.053Z"
   },
   {
    "duration": 25,
    "start_time": "2022-02-26T20:04:42.094Z"
   },
   {
    "duration": 19,
    "start_time": "2022-02-26T20:04:42.121Z"
   },
   {
    "duration": 65,
    "start_time": "2022-02-26T20:04:42.143Z"
   },
   {
    "duration": 33,
    "start_time": "2022-02-26T20:04:42.210Z"
   },
   {
    "duration": 49,
    "start_time": "2022-02-26T20:04:42.246Z"
   },
   {
    "duration": 19,
    "start_time": "2022-02-26T20:04:42.301Z"
   },
   {
    "duration": 65,
    "start_time": "2022-02-26T20:04:42.323Z"
   },
   {
    "duration": 15,
    "start_time": "2022-02-26T20:04:42.391Z"
   },
   {
    "duration": 9,
    "start_time": "2022-02-26T20:04:42.409Z"
   },
   {
    "duration": 35,
    "start_time": "2022-02-26T20:04:42.421Z"
   },
   {
    "duration": 39,
    "start_time": "2022-02-26T20:04:42.488Z"
   },
   {
    "duration": 19,
    "start_time": "2022-02-26T20:04:42.530Z"
   },
   {
    "duration": 37,
    "start_time": "2022-02-26T20:04:42.552Z"
   },
   {
    "duration": 615,
    "start_time": "2022-02-26T20:04:42.592Z"
   },
   {
    "duration": 417,
    "start_time": "2022-02-26T20:04:43.211Z"
   },
   {
    "duration": 1189,
    "start_time": "2022-02-26T20:04:42.442Z"
   },
   {
    "duration": 1063,
    "start_time": "2022-02-26T20:05:39.364Z"
   },
   {
    "duration": 15,
    "start_time": "2022-02-26T20:05:40.430Z"
   },
   {
    "duration": 14,
    "start_time": "2022-02-26T20:05:40.448Z"
   },
   {
    "duration": 43,
    "start_time": "2022-02-26T20:05:40.465Z"
   },
   {
    "duration": 21,
    "start_time": "2022-02-26T20:05:40.511Z"
   },
   {
    "duration": 24,
    "start_time": "2022-02-26T20:05:40.535Z"
   },
   {
    "duration": 21,
    "start_time": "2022-02-26T20:05:40.587Z"
   },
   {
    "duration": 20,
    "start_time": "2022-02-26T20:05:40.611Z"
   },
   {
    "duration": 22,
    "start_time": "2022-02-26T20:05:40.636Z"
   },
   {
    "duration": 23,
    "start_time": "2022-02-26T20:05:40.688Z"
   },
   {
    "duration": 14,
    "start_time": "2022-02-26T20:05:40.713Z"
   },
   {
    "duration": 6,
    "start_time": "2022-02-26T20:05:40.730Z"
   },
   {
    "duration": 63,
    "start_time": "2022-02-26T20:05:40.739Z"
   },
   {
    "duration": 37,
    "start_time": "2022-02-26T20:05:40.806Z"
   },
   {
    "duration": 42,
    "start_time": "2022-02-26T20:05:40.847Z"
   },
   {
    "duration": 13,
    "start_time": "2022-02-26T20:05:40.892Z"
   },
   {
    "duration": 471,
    "start_time": "2022-02-26T20:05:40.908Z"
   },
   {
    "duration": 421,
    "start_time": "2022-02-26T20:05:41.386Z"
   },
   {
    "duration": 1184,
    "start_time": "2022-02-26T20:05:40.625Z"
   },
   {
    "duration": 18,
    "start_time": "2022-02-26T20:06:25.360Z"
   },
   {
    "duration": 346,
    "start_time": "2022-02-26T20:12:33.199Z"
   },
   {
    "duration": 6411,
    "start_time": "2022-02-26T20:15:29.492Z"
   },
   {
    "duration": 17,
    "start_time": "2022-02-26T20:16:11.982Z"
   },
   {
    "duration": 6162,
    "start_time": "2022-02-26T20:16:14.882Z"
   },
   {
    "duration": 5656,
    "start_time": "2022-02-26T20:16:28.784Z"
   },
   {
    "duration": 3051,
    "start_time": "2022-02-26T20:17:02.640Z"
   },
   {
    "duration": 30,
    "start_time": "2022-02-26T20:17:43.532Z"
   },
   {
    "duration": 24,
    "start_time": "2022-02-26T20:21:19.830Z"
   },
   {
    "duration": 589,
    "start_time": "2022-02-26T20:21:34.216Z"
   },
   {
    "duration": 952,
    "start_time": "2022-02-26T20:22:18.538Z"
   },
   {
    "duration": 510,
    "start_time": "2022-02-26T20:23:28.470Z"
   },
   {
    "duration": 527,
    "start_time": "2022-02-26T20:24:31.838Z"
   },
   {
    "duration": 500,
    "start_time": "2022-02-26T20:27:38.358Z"
   },
   {
    "duration": 363,
    "start_time": "2022-02-26T20:28:00.168Z"
   },
   {
    "duration": 513,
    "start_time": "2022-02-26T20:30:30.248Z"
   },
   {
    "duration": 26,
    "start_time": "2022-02-26T20:31:27.596Z"
   },
   {
    "duration": 522,
    "start_time": "2022-02-26T20:31:28.356Z"
   },
   {
    "duration": 509,
    "start_time": "2022-02-26T20:32:29.721Z"
   },
   {
    "duration": 316,
    "start_time": "2022-02-26T20:35:38.090Z"
   },
   {
    "duration": 297,
    "start_time": "2022-02-26T20:36:13.727Z"
   },
   {
    "duration": 540,
    "start_time": "2022-02-26T20:40:08.780Z"
   },
   {
    "duration": 415,
    "start_time": "2022-02-26T20:41:42.259Z"
   },
   {
    "duration": 367,
    "start_time": "2022-02-26T20:41:56.480Z"
   },
   {
    "duration": 312,
    "start_time": "2022-02-26T20:43:51.598Z"
   },
   {
    "duration": 554,
    "start_time": "2022-02-26T20:45:28.610Z"
   },
   {
    "duration": 387,
    "start_time": "2022-02-26T20:46:17.900Z"
   },
   {
    "duration": 538,
    "start_time": "2022-02-26T20:46:48.254Z"
   },
   {
    "duration": 372,
    "start_time": "2022-02-26T20:49:09.499Z"
   },
   {
    "duration": 402,
    "start_time": "2022-02-26T20:49:19.470Z"
   },
   {
    "duration": 383,
    "start_time": "2022-02-26T20:49:32.428Z"
   },
   {
    "duration": 444,
    "start_time": "2022-02-26T20:50:07.270Z"
   },
   {
    "duration": 882,
    "start_time": "2022-02-26T20:51:56.668Z"
   },
   {
    "duration": 14,
    "start_time": "2022-02-26T20:51:57.552Z"
   },
   {
    "duration": 19,
    "start_time": "2022-02-26T20:51:57.569Z"
   },
   {
    "duration": 21,
    "start_time": "2022-02-26T20:51:57.591Z"
   },
   {
    "duration": 17,
    "start_time": "2022-02-26T20:51:57.614Z"
   },
   {
    "duration": 19,
    "start_time": "2022-02-26T20:51:57.633Z"
   },
   {
    "duration": 22,
    "start_time": "2022-02-26T20:51:57.687Z"
   },
   {
    "duration": 20,
    "start_time": "2022-02-26T20:51:57.712Z"
   },
   {
    "duration": 17,
    "start_time": "2022-02-26T20:51:57.734Z"
   },
   {
    "duration": 51,
    "start_time": "2022-02-26T20:51:57.754Z"
   },
   {
    "duration": 12,
    "start_time": "2022-02-26T20:51:57.807Z"
   },
   {
    "duration": 6,
    "start_time": "2022-02-26T20:51:57.822Z"
   },
   {
    "duration": 59,
    "start_time": "2022-02-26T20:51:57.830Z"
   },
   {
    "duration": 28,
    "start_time": "2022-02-26T20:51:57.891Z"
   },
   {
    "duration": 14,
    "start_time": "2022-02-26T20:51:57.921Z"
   },
   {
    "duration": 10,
    "start_time": "2022-02-26T20:51:57.937Z"
   },
   {
    "duration": 329,
    "start_time": "2022-02-26T20:51:57.949Z"
   },
   {
    "duration": 21,
    "start_time": "2022-02-26T20:51:58.280Z"
   },
   {
    "duration": 316,
    "start_time": "2022-02-26T20:51:58.304Z"
   },
   {
    "duration": 468,
    "start_time": "2022-02-26T20:51:58.623Z"
   },
   {
    "duration": 73,
    "start_time": "2022-02-26T21:01:40.782Z"
   },
   {
    "duration": 501,
    "start_time": "2022-02-26T21:01:42.204Z"
   },
   {
    "duration": 68,
    "start_time": "2022-02-26T21:27:50.693Z"
   },
   {
    "duration": 376,
    "start_time": "2022-02-26T21:35:18.990Z"
   },
   {
    "duration": 304,
    "start_time": "2022-02-26T21:35:52.133Z"
   },
   {
    "duration": 8,
    "start_time": "2022-02-26T21:36:06.644Z"
   },
   {
    "duration": 34,
    "start_time": "2022-02-26T21:36:13.998Z"
   },
   {
    "duration": 10,
    "start_time": "2022-02-26T21:37:50.887Z"
   },
   {
    "duration": 10,
    "start_time": "2022-02-26T21:39:08.954Z"
   },
   {
    "duration": 140,
    "start_time": "2022-02-26T21:47:30.065Z"
   },
   {
    "duration": 69,
    "start_time": "2022-02-26T21:48:04.925Z"
   },
   {
    "duration": 5721,
    "start_time": "2022-02-26T21:48:51.179Z"
   },
   {
    "duration": 634,
    "start_time": "2022-02-26T21:49:50.046Z"
   },
   {
    "duration": 515,
    "start_time": "2022-02-26T21:50:59.331Z"
   },
   {
    "duration": 10,
    "start_time": "2022-02-26T21:54:10.327Z"
   },
   {
    "duration": 80,
    "start_time": "2022-02-26T21:55:48.977Z"
   },
   {
    "duration": 86,
    "start_time": "2022-02-26T21:56:11.042Z"
   },
   {
    "duration": 472,
    "start_time": "2022-02-26T21:56:29.218Z"
   },
   {
    "duration": 64,
    "start_time": "2022-02-26T22:23:27.739Z"
   },
   {
    "duration": 265,
    "start_time": "2022-02-26T22:23:54.372Z"
   },
   {
    "duration": 526,
    "start_time": "2022-02-26T22:24:13.928Z"
   },
   {
    "duration": 509,
    "start_time": "2022-02-26T22:24:47.340Z"
   },
   {
    "duration": 519,
    "start_time": "2022-02-26T22:24:56.902Z"
   },
   {
    "duration": 538,
    "start_time": "2022-02-26T22:25:14.710Z"
   },
   {
    "duration": 368,
    "start_time": "2022-02-26T22:25:48.513Z"
   },
   {
    "duration": 587,
    "start_time": "2022-02-26T22:26:36.631Z"
   },
   {
    "duration": 629,
    "start_time": "2022-02-26T22:26:59.331Z"
   },
   {
    "duration": 543,
    "start_time": "2022-02-26T22:27:11.669Z"
   },
   {
    "duration": 324,
    "start_time": "2022-02-26T22:30:50.074Z"
   },
   {
    "duration": 256,
    "start_time": "2022-02-26T22:31:11.678Z"
   },
   {
    "duration": 243,
    "start_time": "2022-02-26T22:31:29.183Z"
   },
   {
    "duration": 1485,
    "start_time": "2022-02-26T22:31:42.140Z"
   },
   {
    "duration": 14,
    "start_time": "2022-02-26T22:31:43.628Z"
   },
   {
    "duration": 14,
    "start_time": "2022-02-26T22:31:43.645Z"
   },
   {
    "duration": 37,
    "start_time": "2022-02-26T22:31:43.662Z"
   },
   {
    "duration": 16,
    "start_time": "2022-02-26T22:31:43.702Z"
   },
   {
    "duration": 21,
    "start_time": "2022-02-26T22:31:43.721Z"
   },
   {
    "duration": 54,
    "start_time": "2022-02-26T22:31:43.744Z"
   },
   {
    "duration": 20,
    "start_time": "2022-02-26T22:31:43.800Z"
   },
   {
    "duration": 16,
    "start_time": "2022-02-26T22:31:43.826Z"
   },
   {
    "duration": 60,
    "start_time": "2022-02-26T22:31:43.845Z"
   },
   {
    "duration": 14,
    "start_time": "2022-02-26T22:31:43.907Z"
   },
   {
    "duration": 8,
    "start_time": "2022-02-26T22:31:43.923Z"
   },
   {
    "duration": 30,
    "start_time": "2022-02-26T22:31:43.933Z"
   },
   {
    "duration": 46,
    "start_time": "2022-02-26T22:31:43.965Z"
   },
   {
    "duration": 15,
    "start_time": "2022-02-26T22:31:44.013Z"
   },
   {
    "duration": 9,
    "start_time": "2022-02-26T22:31:44.030Z"
   },
   {
    "duration": 429,
    "start_time": "2022-02-26T22:31:44.041Z"
   },
   {
    "duration": 21,
    "start_time": "2022-02-26T22:31:44.472Z"
   },
   {
    "duration": 74,
    "start_time": "2022-02-26T22:31:44.495Z"
   },
   {
    "duration": 1327,
    "start_time": "2022-02-26T22:31:43.244Z"
   },
   {
    "duration": 1328,
    "start_time": "2022-02-26T22:31:43.245Z"
   },
   {
    "duration": 1266,
    "start_time": "2022-02-26T22:31:43.308Z"
   },
   {
    "duration": 1262,
    "start_time": "2022-02-26T22:31:43.313Z"
   },
   {
    "duration": 1262,
    "start_time": "2022-02-26T22:31:43.314Z"
   },
   {
    "duration": 455,
    "start_time": "2022-02-26T22:32:01.585Z"
   },
   {
    "duration": 36,
    "start_time": "2022-02-26T22:32:03.969Z"
   },
   {
    "duration": 11,
    "start_time": "2022-02-26T22:32:05.067Z"
   },
   {
    "duration": 466,
    "start_time": "2022-02-26T22:32:06.026Z"
   },
   {
    "duration": 225,
    "start_time": "2022-02-26T22:32:07.668Z"
   },
   {
    "duration": 210,
    "start_time": "2022-02-26T22:32:43.155Z"
   },
   {
    "duration": 763,
    "start_time": "2022-02-27T15:43:49.758Z"
   },
   {
    "duration": 346,
    "start_time": "2022-02-27T15:44:01.729Z"
   },
   {
    "duration": 1500,
    "start_time": "2022-02-27T15:44:10.369Z"
   },
   {
    "duration": 14,
    "start_time": "2022-02-27T15:44:11.872Z"
   },
   {
    "duration": 11,
    "start_time": "2022-02-27T15:44:11.888Z"
   },
   {
    "duration": 27,
    "start_time": "2022-02-27T15:44:11.901Z"
   },
   {
    "duration": 16,
    "start_time": "2022-02-27T15:44:11.931Z"
   },
   {
    "duration": 50,
    "start_time": "2022-02-27T15:44:11.950Z"
   },
   {
    "duration": 20,
    "start_time": "2022-02-27T15:44:12.002Z"
   },
   {
    "duration": 19,
    "start_time": "2022-02-27T15:44:12.025Z"
   },
   {
    "duration": 48,
    "start_time": "2022-02-27T15:44:12.047Z"
   },
   {
    "duration": 22,
    "start_time": "2022-02-27T15:44:12.098Z"
   },
   {
    "duration": 15,
    "start_time": "2022-02-27T15:44:12.122Z"
   },
   {
    "duration": 42,
    "start_time": "2022-02-27T15:44:12.140Z"
   },
   {
    "duration": 32,
    "start_time": "2022-02-27T15:44:12.185Z"
   },
   {
    "duration": 27,
    "start_time": "2022-02-27T15:44:12.219Z"
   },
   {
    "duration": 48,
    "start_time": "2022-02-27T15:44:12.248Z"
   },
   {
    "duration": 14,
    "start_time": "2022-02-27T15:44:12.299Z"
   },
   {
    "duration": 335,
    "start_time": "2022-02-27T15:44:12.316Z"
   },
   {
    "duration": 30,
    "start_time": "2022-02-27T15:44:12.654Z"
   },
   {
    "duration": 469,
    "start_time": "2022-02-27T15:44:12.686Z"
   },
   {
    "duration": 44,
    "start_time": "2022-02-27T15:44:13.157Z"
   },
   {
    "duration": 10,
    "start_time": "2022-02-27T15:44:13.204Z"
   },
   {
    "duration": 510,
    "start_time": "2022-02-27T15:44:13.217Z"
   },
   {
    "duration": 261,
    "start_time": "2022-02-27T15:44:13.729Z"
   },
   {
    "duration": 369,
    "start_time": "2022-02-27T15:44:13.992Z"
   },
   {
    "duration": 317,
    "start_time": "2022-02-27T15:44:44.550Z"
   },
   {
    "duration": 503,
    "start_time": "2022-02-27T15:45:11.712Z"
   },
   {
    "duration": 436,
    "start_time": "2022-02-27T15:45:35.858Z"
   },
   {
    "duration": 741,
    "start_time": "2022-02-27T15:50:04.661Z"
   },
   {
    "duration": 735,
    "start_time": "2022-02-27T15:50:15.468Z"
   },
   {
    "duration": 320,
    "start_time": "2022-02-27T15:50:24.020Z"
   },
   {
    "duration": 286,
    "start_time": "2022-02-27T15:50:34.310Z"
   },
   {
    "duration": 256,
    "start_time": "2022-02-27T15:50:40.716Z"
   },
   {
    "duration": 328,
    "start_time": "2022-02-27T15:50:46.193Z"
   },
   {
    "duration": 327,
    "start_time": "2022-02-27T15:50:55.234Z"
   },
   {
    "duration": 232,
    "start_time": "2022-02-27T15:51:02.328Z"
   },
   {
    "duration": 258,
    "start_time": "2022-02-27T15:51:09.919Z"
   },
   {
    "duration": 297,
    "start_time": "2022-02-27T15:51:21.672Z"
   },
   {
    "duration": 279,
    "start_time": "2022-02-27T15:51:26.694Z"
   },
   {
    "duration": 435,
    "start_time": "2022-02-27T15:51:31.950Z"
   },
   {
    "duration": 360,
    "start_time": "2022-02-27T15:51:40.773Z"
   },
   {
    "duration": 454,
    "start_time": "2022-02-27T15:52:52.701Z"
   },
   {
    "duration": 364,
    "start_time": "2022-02-27T15:53:03.105Z"
   },
   {
    "duration": 365,
    "start_time": "2022-02-27T15:53:22.892Z"
   },
   {
    "duration": 362,
    "start_time": "2022-02-27T15:53:29.015Z"
   },
   {
    "duration": 343,
    "start_time": "2022-02-27T15:53:41.119Z"
   },
   {
    "duration": 376,
    "start_time": "2022-02-27T15:53:48.856Z"
   },
   {
    "duration": 467,
    "start_time": "2022-02-27T15:53:58.645Z"
   },
   {
    "duration": 460,
    "start_time": "2022-02-27T15:58:35.938Z"
   },
   {
    "duration": 373,
    "start_time": "2022-02-27T16:02:10.192Z"
   },
   {
    "duration": 384,
    "start_time": "2022-02-27T16:05:55.272Z"
   },
   {
    "duration": 230,
    "start_time": "2022-02-27T16:06:11.699Z"
   },
   {
    "duration": 220,
    "start_time": "2022-02-27T16:06:19.262Z"
   },
   {
    "duration": 304,
    "start_time": "2022-02-27T16:06:54.258Z"
   },
   {
    "duration": 453,
    "start_time": "2022-02-27T16:07:04.736Z"
   },
   {
    "duration": 51,
    "start_time": "2022-02-27T16:07:16.555Z"
   },
   {
    "duration": 240,
    "start_time": "2022-02-27T16:07:37.123Z"
   },
   {
    "duration": 306,
    "start_time": "2022-02-27T16:07:42.514Z"
   },
   {
    "duration": 50,
    "start_time": "2022-02-27T16:07:50.254Z"
   },
   {
    "duration": 375,
    "start_time": "2022-02-27T16:08:29.671Z"
   },
   {
    "duration": 53,
    "start_time": "2022-02-27T16:08:37.550Z"
   },
   {
    "duration": 247,
    "start_time": "2022-02-27T16:09:04.329Z"
   },
   {
    "duration": 52,
    "start_time": "2022-02-27T16:09:14.599Z"
   },
   {
    "duration": 379,
    "start_time": "2022-02-27T16:09:27.586Z"
   },
   {
    "duration": 365,
    "start_time": "2022-02-27T16:09:36.627Z"
   },
   {
    "duration": 357,
    "start_time": "2022-02-27T16:09:51.145Z"
   },
   {
    "duration": 507,
    "start_time": "2022-02-27T16:10:12.217Z"
   },
   {
    "duration": 346,
    "start_time": "2022-02-27T16:10:18.385Z"
   },
   {
    "duration": 394,
    "start_time": "2022-02-27T16:10:23.007Z"
   },
   {
    "duration": 401,
    "start_time": "2022-02-27T16:10:46.146Z"
   },
   {
    "duration": 1536,
    "start_time": "2022-02-27T16:11:21.755Z"
   },
   {
    "duration": 16,
    "start_time": "2022-02-27T16:11:23.295Z"
   },
   {
    "duration": 13,
    "start_time": "2022-02-27T16:11:23.315Z"
   },
   {
    "duration": 63,
    "start_time": "2022-02-27T16:11:23.331Z"
   },
   {
    "duration": 17,
    "start_time": "2022-02-27T16:11:23.396Z"
   },
   {
    "duration": 21,
    "start_time": "2022-02-27T16:11:23.415Z"
   },
   {
    "duration": 49,
    "start_time": "2022-02-27T16:11:23.439Z"
   },
   {
    "duration": 20,
    "start_time": "2022-02-27T16:11:23.492Z"
   },
   {
    "duration": 19,
    "start_time": "2022-02-27T16:11:23.514Z"
   },
   {
    "duration": 51,
    "start_time": "2022-02-27T16:11:23.535Z"
   },
   {
    "duration": 11,
    "start_time": "2022-02-27T16:11:23.589Z"
   },
   {
    "duration": 6,
    "start_time": "2022-02-27T16:11:23.603Z"
   },
   {
    "duration": 25,
    "start_time": "2022-02-27T16:11:23.611Z"
   },
   {
    "duration": 72,
    "start_time": "2022-02-27T16:11:23.638Z"
   },
   {
    "duration": 13,
    "start_time": "2022-02-27T16:11:23.712Z"
   },
   {
    "duration": 10,
    "start_time": "2022-02-27T16:11:23.727Z"
   },
   {
    "duration": 325,
    "start_time": "2022-02-27T16:11:23.739Z"
   },
   {
    "duration": 26,
    "start_time": "2022-02-27T16:11:24.068Z"
   },
   {
    "duration": 487,
    "start_time": "2022-02-27T16:11:24.096Z"
   },
   {
    "duration": 35,
    "start_time": "2022-02-27T16:11:24.586Z"
   },
   {
    "duration": 11,
    "start_time": "2022-02-27T16:11:24.623Z"
   },
   {
    "duration": 519,
    "start_time": "2022-02-27T16:11:24.637Z"
   },
   {
    "duration": 408,
    "start_time": "2022-02-27T16:11:25.161Z"
   },
   {
    "duration": 54,
    "start_time": "2022-02-27T16:11:25.572Z"
   },
   {
    "duration": 393,
    "start_time": "2022-02-27T16:11:25.629Z"
   },
   {
    "duration": 383,
    "start_time": "2022-02-27T16:12:21.231Z"
   },
   {
    "duration": 421,
    "start_time": "2022-02-27T16:12:37.716Z"
   },
   {
    "duration": 494,
    "start_time": "2022-02-27T16:13:02.281Z"
   },
   {
    "duration": 420,
    "start_time": "2022-02-27T16:13:34.655Z"
   },
   {
    "duration": 51,
    "start_time": "2022-02-27T16:14:47.260Z"
   },
   {
    "duration": 499,
    "start_time": "2022-02-27T17:34:13.725Z"
   },
   {
    "duration": 418,
    "start_time": "2022-02-27T17:35:39.933Z"
   },
   {
    "duration": 440,
    "start_time": "2022-02-27T17:35:53.727Z"
   },
   {
    "duration": 358,
    "start_time": "2022-02-27T17:55:03.607Z"
   },
   {
    "duration": 540,
    "start_time": "2022-02-27T17:55:33.167Z"
   },
   {
    "duration": 406,
    "start_time": "2022-02-27T17:55:47.680Z"
   },
   {
    "duration": 455,
    "start_time": "2022-02-27T17:56:35.944Z"
   },
   {
    "duration": 589,
    "start_time": "2022-02-27T17:56:42.052Z"
   },
   {
    "duration": 412,
    "start_time": "2022-02-27T17:56:48.744Z"
   },
   {
    "duration": 415,
    "start_time": "2022-02-27T17:56:55.953Z"
   },
   {
    "duration": 431,
    "start_time": "2022-02-27T17:57:00.766Z"
   },
   {
    "duration": 504,
    "start_time": "2022-02-27T17:57:34.534Z"
   },
   {
    "duration": 401,
    "start_time": "2022-02-27T17:57:43.184Z"
   },
   {
    "duration": 379,
    "start_time": "2022-02-27T17:58:12.206Z"
   },
   {
    "duration": 12,
    "start_time": "2022-02-27T18:06:24.602Z"
   },
   {
    "duration": 414,
    "start_time": "2022-02-27T18:07:05.764Z"
   },
   {
    "duration": 13,
    "start_time": "2022-02-27T18:07:15.470Z"
   },
   {
    "duration": 9460,
    "start_time": "2022-02-27T18:10:38.828Z"
   },
   {
    "duration": 119,
    "start_time": "2022-02-27T18:12:07.567Z"
   },
   {
    "duration": 17,
    "start_time": "2022-02-27T18:12:24.767Z"
   },
   {
    "duration": 827,
    "start_time": "2022-02-27T18:12:52.204Z"
   },
   {
    "duration": 918,
    "start_time": "2022-02-27T18:13:13.058Z"
   },
   {
    "duration": 314,
    "start_time": "2022-02-27T18:16:39.779Z"
   },
   {
    "duration": 18,
    "start_time": "2022-02-27T18:16:55.408Z"
   },
   {
    "duration": 290,
    "start_time": "2022-02-27T18:17:17.718Z"
   },
   {
    "duration": 17,
    "start_time": "2022-02-27T18:17:20.824Z"
   },
   {
    "duration": 25,
    "start_time": "2022-02-27T18:17:27.881Z"
   },
   {
    "duration": 225,
    "start_time": "2022-02-27T18:18:38.453Z"
   },
   {
    "duration": 26,
    "start_time": "2022-02-27T18:18:53.119Z"
   },
   {
    "duration": 25,
    "start_time": "2022-02-27T18:19:34.300Z"
   },
   {
    "duration": 495,
    "start_time": "2022-02-27T18:19:37.169Z"
   },
   {
    "duration": 28,
    "start_time": "2022-02-27T18:19:53.235Z"
   },
   {
    "duration": 895,
    "start_time": "2022-02-27T18:19:56.350Z"
   },
   {
    "duration": 902,
    "start_time": "2022-02-27T18:22:22.696Z"
   },
   {
    "duration": 937,
    "start_time": "2022-02-27T18:22:27.395Z"
   },
   {
    "duration": 1071,
    "start_time": "2022-02-27T18:22:32.036Z"
   },
   {
    "duration": 23,
    "start_time": "2022-02-27T18:23:52.546Z"
   },
   {
    "duration": 29,
    "start_time": "2022-02-27T18:24:06.423Z"
   },
   {
    "duration": 1580,
    "start_time": "2022-02-27T18:24:13.464Z"
   },
   {
    "duration": 1436,
    "start_time": "2022-02-27T18:25:38.382Z"
   },
   {
    "duration": 13,
    "start_time": "2022-02-27T18:25:39.821Z"
   },
   {
    "duration": 11,
    "start_time": "2022-02-27T18:25:39.838Z"
   },
   {
    "duration": 49,
    "start_time": "2022-02-27T18:25:39.851Z"
   },
   {
    "duration": 16,
    "start_time": "2022-02-27T18:25:39.902Z"
   },
   {
    "duration": 19,
    "start_time": "2022-02-27T18:25:39.920Z"
   },
   {
    "duration": 53,
    "start_time": "2022-02-27T18:25:39.942Z"
   },
   {
    "duration": 19,
    "start_time": "2022-02-27T18:25:39.998Z"
   },
   {
    "duration": 18,
    "start_time": "2022-02-27T18:25:40.021Z"
   },
   {
    "duration": 59,
    "start_time": "2022-02-27T18:25:40.042Z"
   },
   {
    "duration": 14,
    "start_time": "2022-02-27T18:25:40.103Z"
   },
   {
    "duration": 6,
    "start_time": "2022-02-27T18:25:40.119Z"
   },
   {
    "duration": 55,
    "start_time": "2022-02-27T18:25:40.127Z"
   },
   {
    "duration": 27,
    "start_time": "2022-02-27T18:25:40.186Z"
   },
   {
    "duration": 13,
    "start_time": "2022-02-27T18:25:40.216Z"
   },
   {
    "duration": 10,
    "start_time": "2022-02-27T18:25:40.231Z"
   },
   {
    "duration": 332,
    "start_time": "2022-02-27T18:25:40.243Z"
   },
   {
    "duration": 17,
    "start_time": "2022-02-27T18:25:40.578Z"
   },
   {
    "duration": 463,
    "start_time": "2022-02-27T18:25:40.597Z"
   },
   {
    "duration": 46,
    "start_time": "2022-02-27T18:25:41.062Z"
   },
   {
    "duration": 9,
    "start_time": "2022-02-27T18:25:41.111Z"
   },
   {
    "duration": 487,
    "start_time": "2022-02-27T18:25:41.122Z"
   },
   {
    "duration": 422,
    "start_time": "2022-02-27T18:25:41.611Z"
   },
   {
    "duration": 67,
    "start_time": "2022-02-27T18:25:42.035Z"
   },
   {
    "duration": 27,
    "start_time": "2022-02-27T18:25:42.104Z"
   },
   {
    "duration": 1594,
    "start_time": "2022-02-27T18:25:42.133Z"
   },
   {
    "duration": 14,
    "start_time": "2022-02-27T18:25:43.732Z"
   },
   {
    "duration": 45,
    "start_time": "2022-02-27T18:25:43.749Z"
   },
   {
    "duration": 26,
    "start_time": "2022-02-27T18:26:27.737Z"
   },
   {
    "duration": 26,
    "start_time": "2022-02-27T18:26:39.687Z"
   },
   {
    "duration": 27,
    "start_time": "2022-02-27T18:33:24.508Z"
   },
   {
    "duration": 24,
    "start_time": "2022-02-27T18:33:47.005Z"
   },
   {
    "duration": 1433,
    "start_time": "2022-02-27T18:33:57.363Z"
   },
   {
    "duration": 14,
    "start_time": "2022-02-27T18:34:28.107Z"
   },
   {
    "duration": 14,
    "start_time": "2022-02-27T18:34:43.665Z"
   },
   {
    "duration": 327,
    "start_time": "2022-02-27T18:41:05.029Z"
   },
   {
    "duration": 404,
    "start_time": "2022-02-27T18:41:27.638Z"
   },
   {
    "duration": 416,
    "start_time": "2022-02-27T18:42:30.985Z"
   },
   {
    "duration": 461,
    "start_time": "2022-02-27T18:42:43.724Z"
   },
   {
    "duration": 6,
    "start_time": "2022-02-27T18:54:25.422Z"
   },
   {
    "duration": 9,
    "start_time": "2022-02-27T18:54:30.464Z"
   },
   {
    "duration": 10,
    "start_time": "2022-02-27T18:55:36.233Z"
   },
   {
    "duration": 11,
    "start_time": "2022-02-27T18:57:16.932Z"
   },
   {
    "duration": 11,
    "start_time": "2022-02-27T18:57:59.085Z"
   },
   {
    "duration": 399,
    "start_time": "2022-02-27T18:59:36.896Z"
   },
   {
    "duration": 12,
    "start_time": "2022-02-27T18:59:44.989Z"
   },
   {
    "duration": 10,
    "start_time": "2022-02-27T18:59:52.475Z"
   },
   {
    "duration": 10,
    "start_time": "2022-02-27T18:59:56.840Z"
   },
   {
    "duration": 489,
    "start_time": "2022-02-27T19:07:37.443Z"
   },
   {
    "duration": 448,
    "start_time": "2022-02-27T19:07:44.601Z"
   },
   {
    "duration": 243,
    "start_time": "2022-02-27T19:07:58.251Z"
   },
   {
    "duration": 575,
    "start_time": "2022-02-27T19:11:04.553Z"
   },
   {
    "duration": 440,
    "start_time": "2022-02-27T19:11:38.525Z"
   },
   {
    "duration": 574,
    "start_time": "2022-02-27T19:11:49.751Z"
   },
   {
    "duration": 130,
    "start_time": "2022-02-27T19:13:16.755Z"
   },
   {
    "duration": 159,
    "start_time": "2022-02-27T19:13:31.803Z"
   },
   {
    "duration": 300,
    "start_time": "2022-02-27T19:13:49.967Z"
   },
   {
    "duration": 364,
    "start_time": "2022-02-27T19:14:30.627Z"
   },
   {
    "duration": 385,
    "start_time": "2022-02-27T19:14:46.670Z"
   },
   {
    "duration": 423,
    "start_time": "2022-02-27T19:14:51.653Z"
   },
   {
    "duration": 487,
    "start_time": "2022-02-27T19:15:00.692Z"
   },
   {
    "duration": 707,
    "start_time": "2022-02-27T19:15:06.013Z"
   },
   {
    "duration": 615,
    "start_time": "2022-02-27T19:15:12.634Z"
   },
   {
    "duration": 559,
    "start_time": "2022-02-27T19:15:24.544Z"
   },
   {
    "duration": 668,
    "start_time": "2022-02-27T19:15:30.336Z"
   },
   {
    "duration": 528,
    "start_time": "2022-02-27T19:16:00.660Z"
   },
   {
    "duration": 545,
    "start_time": "2022-02-27T19:16:34.633Z"
   },
   {
    "duration": 266,
    "start_time": "2022-02-27T19:16:44.711Z"
   },
   {
    "duration": 288,
    "start_time": "2022-02-27T19:16:53.857Z"
   },
   {
    "duration": 334,
    "start_time": "2022-02-27T19:17:00.831Z"
   },
   {
    "duration": 11,
    "start_time": "2022-02-27T19:27:17.054Z"
   },
   {
    "duration": 323,
    "start_time": "2022-02-27T19:27:49.322Z"
   },
   {
    "duration": 11,
    "start_time": "2022-02-27T19:28:46.513Z"
   },
   {
    "duration": 333,
    "start_time": "2022-02-27T19:29:28.394Z"
   },
   {
    "duration": 316,
    "start_time": "2022-02-27T19:29:46.612Z"
   },
   {
    "duration": 72,
    "start_time": "2022-02-27T19:30:25.456Z"
   },
   {
    "duration": 12,
    "start_time": "2022-02-27T19:31:08.960Z"
   },
   {
    "duration": 341,
    "start_time": "2022-02-27T19:31:23.079Z"
   },
   {
    "duration": 225,
    "start_time": "2022-02-27T19:41:52.254Z"
   },
   {
    "duration": 605,
    "start_time": "2022-02-27T19:41:57.140Z"
   },
   {
    "duration": 4,
    "start_time": "2022-02-27T19:42:07.422Z"
   },
   {
    "duration": 6,
    "start_time": "2022-02-27T19:42:14.434Z"
   },
   {
    "duration": 1458,
    "start_time": "2022-02-27T19:42:32.730Z"
   },
   {
    "duration": 14,
    "start_time": "2022-02-27T19:42:34.191Z"
   },
   {
    "duration": 12,
    "start_time": "2022-02-27T19:42:34.208Z"
   },
   {
    "duration": 23,
    "start_time": "2022-02-27T19:42:34.223Z"
   },
   {
    "duration": 17,
    "start_time": "2022-02-27T19:42:34.282Z"
   },
   {
    "duration": 21,
    "start_time": "2022-02-27T19:42:34.302Z"
   },
   {
    "duration": 60,
    "start_time": "2022-02-27T19:42:34.326Z"
   },
   {
    "duration": 20,
    "start_time": "2022-02-27T19:42:34.388Z"
   },
   {
    "duration": 17,
    "start_time": "2022-02-27T19:42:34.412Z"
   },
   {
    "duration": 23,
    "start_time": "2022-02-27T19:42:34.433Z"
   },
   {
    "duration": 13,
    "start_time": "2022-02-27T19:42:34.483Z"
   },
   {
    "duration": 8,
    "start_time": "2022-02-27T19:42:34.499Z"
   },
   {
    "duration": 31,
    "start_time": "2022-02-27T19:42:34.509Z"
   },
   {
    "duration": 29,
    "start_time": "2022-02-27T19:42:34.582Z"
   },
   {
    "duration": 14,
    "start_time": "2022-02-27T19:42:34.613Z"
   },
   {
    "duration": 10,
    "start_time": "2022-02-27T19:42:34.630Z"
   },
   {
    "duration": 343,
    "start_time": "2022-02-27T19:42:34.642Z"
   },
   {
    "duration": 17,
    "start_time": "2022-02-27T19:42:34.988Z"
   },
   {
    "duration": 479,
    "start_time": "2022-02-27T19:42:35.008Z"
   },
   {
    "duration": 36,
    "start_time": "2022-02-27T19:42:35.490Z"
   },
   {
    "duration": 17,
    "start_time": "2022-02-27T19:42:35.529Z"
   },
   {
    "duration": 516,
    "start_time": "2022-02-27T19:42:35.549Z"
   },
   {
    "duration": 458,
    "start_time": "2022-02-27T19:42:36.068Z"
   },
   {
    "duration": 77,
    "start_time": "2022-02-27T19:42:36.530Z"
   },
   {
    "duration": 27,
    "start_time": "2022-02-27T19:42:36.610Z"
   },
   {
    "duration": 1620,
    "start_time": "2022-02-27T19:42:36.639Z"
   },
   {
    "duration": 23,
    "start_time": "2022-02-27T19:42:38.264Z"
   },
   {
    "duration": 14,
    "start_time": "2022-02-27T19:42:38.290Z"
   },
   {
    "duration": 26,
    "start_time": "2022-02-27T19:42:38.306Z"
   },
   {
    "duration": 1504,
    "start_time": "2022-02-27T19:42:38.334Z"
   },
   {
    "duration": 17,
    "start_time": "2022-02-27T19:42:39.841Z"
   },
   {
    "duration": 32,
    "start_time": "2022-02-27T19:42:39.860Z"
   },
   {
    "duration": 441,
    "start_time": "2022-02-27T19:42:39.894Z"
   },
   {
    "duration": 10,
    "start_time": "2022-02-27T19:42:40.338Z"
   },
   {
    "duration": 293,
    "start_time": "2022-02-27T19:42:40.351Z"
   },
   {
    "duration": 11,
    "start_time": "2022-02-27T19:42:40.647Z"
   },
   {
    "duration": 295,
    "start_time": "2022-02-27T19:42:40.661Z"
   },
   {
    "duration": 10,
    "start_time": "2022-02-27T19:42:40.958Z"
   },
   {
    "duration": 293,
    "start_time": "2022-02-27T19:42:40.970Z"
   },
   {
    "duration": 20,
    "start_time": "2022-02-27T19:42:41.265Z"
   },
   {
    "duration": 342,
    "start_time": "2022-02-27T19:42:41.288Z"
   },
   {
    "duration": 12,
    "start_time": "2022-02-27T19:42:41.632Z"
   },
   {
    "duration": 356,
    "start_time": "2022-02-27T19:42:41.647Z"
   },
   {
    "duration": 13,
    "start_time": "2022-02-27T19:42:42.006Z"
   },
   {
    "duration": 452,
    "start_time": "2022-02-27T19:42:42.022Z"
   },
   {
    "duration": 7,
    "start_time": "2022-02-27T19:42:42.481Z"
   },
   {
    "duration": 6,
    "start_time": "2022-02-27T19:43:02.315Z"
   },
   {
    "duration": 5,
    "start_time": "2022-02-27T19:43:14.833Z"
   },
   {
    "duration": 6,
    "start_time": "2022-02-27T19:43:25.063Z"
   },
   {
    "duration": 421,
    "start_time": "2022-02-27T19:44:02.484Z"
   },
   {
    "duration": 281,
    "start_time": "2022-02-27T19:44:30.493Z"
   },
   {
    "duration": 38,
    "start_time": "2022-02-27T19:44:37.110Z"
   },
   {
    "duration": 35,
    "start_time": "2022-02-27T19:44:48.758Z"
   },
   {
    "duration": 376,
    "start_time": "2022-02-27T19:45:01.159Z"
   },
   {
    "duration": 221,
    "start_time": "2022-02-27T19:45:46.951Z"
   },
   {
    "duration": 6,
    "start_time": "2022-02-27T19:45:52.855Z"
   },
   {
    "duration": 1438,
    "start_time": "2022-02-27T19:47:24.828Z"
   },
   {
    "duration": 33,
    "start_time": "2022-02-27T19:47:50.238Z"
   },
   {
    "duration": 265,
    "start_time": "2022-02-27T19:48:15.764Z"
   },
   {
    "duration": 34,
    "start_time": "2022-02-27T19:48:23.206Z"
   },
   {
    "duration": 221,
    "start_time": "2022-02-27T19:49:15.051Z"
   },
   {
    "duration": 7,
    "start_time": "2022-02-27T19:49:22.876Z"
   },
   {
    "duration": 8,
    "start_time": "2022-02-27T19:51:33.145Z"
   },
   {
    "duration": 230,
    "start_time": "2022-02-27T19:51:43.461Z"
   },
   {
    "duration": 11,
    "start_time": "2022-02-27T19:51:47.560Z"
   },
   {
    "duration": 6,
    "start_time": "2022-02-27T19:52:11.924Z"
   },
   {
    "duration": 9,
    "start_time": "2022-02-27T19:52:16.610Z"
   },
   {
    "duration": 6972,
    "start_time": "2022-02-27T19:53:16.761Z"
   },
   {
    "duration": 221,
    "start_time": "2022-02-27T19:54:01.429Z"
   },
   {
    "duration": 284,
    "start_time": "2022-02-27T19:54:11.793Z"
   },
   {
    "duration": 222,
    "start_time": "2022-02-27T19:54:25.053Z"
   },
   {
    "duration": 210,
    "start_time": "2022-02-27T19:54:46.197Z"
   },
   {
    "duration": 9,
    "start_time": "2022-02-27T20:01:21.033Z"
   },
   {
    "duration": 216,
    "start_time": "2022-02-27T20:01:51.937Z"
   },
   {
    "duration": 10,
    "start_time": "2022-02-27T20:02:09.678Z"
   },
   {
    "duration": 10,
    "start_time": "2022-02-27T20:02:36.331Z"
   },
   {
    "duration": 203,
    "start_time": "2022-02-27T20:02:49.523Z"
   },
   {
    "duration": 10,
    "start_time": "2022-02-27T20:03:39.527Z"
   },
   {
    "duration": 227,
    "start_time": "2022-02-27T20:03:55.346Z"
   },
   {
    "duration": 34,
    "start_time": "2022-02-27T20:27:06.846Z"
   },
   {
    "duration": 9,
    "start_time": "2022-02-27T20:27:44.355Z"
   },
   {
    "duration": 9,
    "start_time": "2022-02-27T20:28:32.315Z"
   },
   {
    "duration": 59,
    "start_time": "2022-02-27T20:45:36.716Z"
   },
   {
    "duration": 1456,
    "start_time": "2022-02-27T20:45:45.436Z"
   },
   {
    "duration": 13,
    "start_time": "2022-02-27T20:45:46.895Z"
   },
   {
    "duration": 13,
    "start_time": "2022-02-27T20:45:46.911Z"
   },
   {
    "duration": 20,
    "start_time": "2022-02-27T20:45:46.927Z"
   },
   {
    "duration": 47,
    "start_time": "2022-02-27T20:45:46.949Z"
   },
   {
    "duration": 20,
    "start_time": "2022-02-27T20:45:46.999Z"
   },
   {
    "duration": 20,
    "start_time": "2022-02-27T20:45:47.021Z"
   },
   {
    "duration": 56,
    "start_time": "2022-02-27T20:45:47.043Z"
   },
   {
    "duration": 17,
    "start_time": "2022-02-27T20:45:47.103Z"
   },
   {
    "duration": 22,
    "start_time": "2022-02-27T20:45:47.123Z"
   },
   {
    "duration": 43,
    "start_time": "2022-02-27T20:45:47.147Z"
   },
   {
    "duration": 6,
    "start_time": "2022-02-27T20:45:47.193Z"
   },
   {
    "duration": 23,
    "start_time": "2022-02-27T20:45:47.202Z"
   },
   {
    "duration": 63,
    "start_time": "2022-02-27T20:45:47.227Z"
   },
   {
    "duration": 14,
    "start_time": "2022-02-27T20:45:47.293Z"
   },
   {
    "duration": 12,
    "start_time": "2022-02-27T20:45:47.309Z"
   },
   {
    "duration": 318,
    "start_time": "2022-02-27T20:45:47.323Z"
   },
   {
    "duration": 17,
    "start_time": "2022-02-27T20:45:47.643Z"
   },
   {
    "duration": 461,
    "start_time": "2022-02-27T20:45:47.662Z"
   },
   {
    "duration": 34,
    "start_time": "2022-02-27T20:45:48.126Z"
   },
   {
    "duration": 26,
    "start_time": "2022-02-27T20:45:48.162Z"
   },
   {
    "duration": 482,
    "start_time": "2022-02-27T20:45:48.190Z"
   },
   {
    "duration": 438,
    "start_time": "2022-02-27T20:45:48.675Z"
   },
   {
    "duration": 67,
    "start_time": "2022-02-27T20:45:49.117Z"
   },
   {
    "duration": 27,
    "start_time": "2022-02-27T20:45:49.186Z"
   },
   {
    "duration": 1579,
    "start_time": "2022-02-27T20:45:49.216Z"
   },
   {
    "duration": 13,
    "start_time": "2022-02-27T20:45:50.803Z"
   },
   {
    "duration": 17,
    "start_time": "2022-02-27T20:45:50.818Z"
   },
   {
    "duration": 55,
    "start_time": "2022-02-27T20:45:50.837Z"
   },
   {
    "duration": 1616,
    "start_time": "2022-02-27T20:45:50.894Z"
   },
   {
    "duration": 14,
    "start_time": "2022-02-27T20:45:52.512Z"
   },
   {
    "duration": 13,
    "start_time": "2022-02-27T20:45:52.528Z"
   },
   {
    "duration": 447,
    "start_time": "2022-02-27T20:45:52.543Z"
   },
   {
    "duration": 10,
    "start_time": "2022-02-27T20:45:52.992Z"
   },
   {
    "duration": 288,
    "start_time": "2022-02-27T20:45:53.004Z"
   },
   {
    "duration": 10,
    "start_time": "2022-02-27T20:45:53.295Z"
   },
   {
    "duration": 302,
    "start_time": "2022-02-27T20:45:53.308Z"
   },
   {
    "duration": 11,
    "start_time": "2022-02-27T20:45:53.612Z"
   },
   {
    "duration": 287,
    "start_time": "2022-02-27T20:45:53.625Z"
   },
   {
    "duration": 10,
    "start_time": "2022-02-27T20:45:53.915Z"
   },
   {
    "duration": 358,
    "start_time": "2022-02-27T20:45:53.928Z"
   },
   {
    "duration": 11,
    "start_time": "2022-02-27T20:45:54.288Z"
   },
   {
    "duration": 345,
    "start_time": "2022-02-27T20:45:54.301Z"
   },
   {
    "duration": 10,
    "start_time": "2022-02-27T20:45:54.649Z"
   },
   {
    "duration": 435,
    "start_time": "2022-02-27T20:45:54.662Z"
   },
   {
    "duration": 10,
    "start_time": "2022-02-27T20:45:55.099Z"
   },
   {
    "duration": 235,
    "start_time": "2022-02-27T20:45:55.111Z"
   },
   {
    "duration": 9,
    "start_time": "2022-02-27T20:45:55.349Z"
   },
   {
    "duration": 235,
    "start_time": "2022-02-27T20:45:55.362Z"
   },
   {
    "duration": 9,
    "start_time": "2022-02-27T20:45:55.600Z"
   },
   {
    "duration": 254,
    "start_time": "2022-02-27T20:45:55.613Z"
   },
   {
    "duration": 18,
    "start_time": "2022-02-27T20:45:55.869Z"
   },
   {
    "duration": 12,
    "start_time": "2022-02-27T20:45:55.890Z"
   },
   {
    "duration": 8,
    "start_time": "2022-02-27T20:50:48.573Z"
   },
   {
    "duration": 8,
    "start_time": "2022-02-27T20:52:56.686Z"
   },
   {
    "duration": 8,
    "start_time": "2022-02-27T20:53:08.242Z"
   },
   {
    "duration": 66,
    "start_time": "2022-02-27T20:53:23.475Z"
   },
   {
    "duration": 555,
    "start_time": "2022-02-27T20:53:42.116Z"
   },
   {
    "duration": 10,
    "start_time": "2022-02-27T20:55:16.646Z"
   },
   {
    "duration": 465,
    "start_time": "2022-02-27T20:55:31.765Z"
   },
   {
    "duration": 6,
    "start_time": "2022-02-27T20:55:51.108Z"
   },
   {
    "duration": 7,
    "start_time": "2022-02-27T20:57:40.825Z"
   },
   {
    "duration": 221,
    "start_time": "2022-02-27T20:59:48.025Z"
   },
   {
    "duration": 8,
    "start_time": "2022-02-27T21:00:06.086Z"
   },
   {
    "duration": 10,
    "start_time": "2022-02-27T21:01:05.419Z"
   },
   {
    "duration": 9,
    "start_time": "2022-02-27T21:03:41.869Z"
   },
   {
    "duration": 5,
    "start_time": "2022-02-27T21:05:11.653Z"
   },
   {
    "duration": 10,
    "start_time": "2022-02-27T21:12:12.234Z"
   },
   {
    "duration": 11,
    "start_time": "2022-02-27T21:12:15.747Z"
   },
   {
    "duration": 8,
    "start_time": "2022-02-27T21:13:17.236Z"
   },
   {
    "duration": 11,
    "start_time": "2022-02-27T21:13:53.287Z"
   },
   {
    "duration": 12,
    "start_time": "2022-02-27T21:14:39.550Z"
   },
   {
    "duration": 8,
    "start_time": "2022-02-27T21:15:03.428Z"
   },
   {
    "duration": 7,
    "start_time": "2022-02-27T21:15:44.074Z"
   },
   {
    "duration": 8,
    "start_time": "2022-02-27T21:17:47.940Z"
   },
   {
    "duration": 7,
    "start_time": "2022-02-27T21:18:38.251Z"
   },
   {
    "duration": 7,
    "start_time": "2022-02-27T21:20:43.567Z"
   },
   {
    "duration": 1843,
    "start_time": "2022-02-27T21:21:13.737Z"
   },
   {
    "duration": 15,
    "start_time": "2022-02-27T21:21:15.583Z"
   },
   {
    "duration": 12,
    "start_time": "2022-02-27T21:21:15.601Z"
   },
   {
    "duration": 25,
    "start_time": "2022-02-27T21:21:15.617Z"
   },
   {
    "duration": 53,
    "start_time": "2022-02-27T21:21:15.645Z"
   },
   {
    "duration": 22,
    "start_time": "2022-02-27T21:21:15.701Z"
   },
   {
    "duration": 23,
    "start_time": "2022-02-27T21:21:15.726Z"
   },
   {
    "duration": 23,
    "start_time": "2022-02-27T21:21:15.784Z"
   },
   {
    "duration": 15,
    "start_time": "2022-02-27T21:21:15.810Z"
   },
   {
    "duration": 56,
    "start_time": "2022-02-27T21:21:15.828Z"
   },
   {
    "duration": 14,
    "start_time": "2022-02-27T21:21:15.887Z"
   },
   {
    "duration": 7,
    "start_time": "2022-02-27T21:21:15.903Z"
   },
   {
    "duration": 26,
    "start_time": "2022-02-27T21:21:15.913Z"
   },
   {
    "duration": 68,
    "start_time": "2022-02-27T21:21:15.942Z"
   },
   {
    "duration": 16,
    "start_time": "2022-02-27T21:21:16.013Z"
   },
   {
    "duration": 12,
    "start_time": "2022-02-27T21:21:16.032Z"
   },
   {
    "duration": 327,
    "start_time": "2022-02-27T21:21:16.082Z"
   },
   {
    "duration": 22,
    "start_time": "2022-02-27T21:21:16.412Z"
   },
   {
    "duration": 476,
    "start_time": "2022-02-27T21:21:16.437Z"
   },
   {
    "duration": 37,
    "start_time": "2022-02-27T21:21:16.915Z"
   },
   {
    "duration": 34,
    "start_time": "2022-02-27T21:21:16.955Z"
   },
   {
    "duration": 503,
    "start_time": "2022-02-27T21:21:16.992Z"
   },
   {
    "duration": 452,
    "start_time": "2022-02-27T21:21:17.501Z"
   },
   {
    "duration": 65,
    "start_time": "2022-02-27T21:21:17.956Z"
   },
   {
    "duration": 27,
    "start_time": "2022-02-27T21:21:18.023Z"
   },
   {
    "duration": 1983,
    "start_time": "2022-02-27T21:21:18.053Z"
   },
   {
    "duration": 13,
    "start_time": "2022-02-27T21:21:20.039Z"
   },
   {
    "duration": 35,
    "start_time": "2022-02-27T21:21:20.055Z"
   },
   {
    "duration": 28,
    "start_time": "2022-02-27T21:21:20.092Z"
   },
   {
    "duration": 1500,
    "start_time": "2022-02-27T21:21:20.123Z"
   },
   {
    "duration": 14,
    "start_time": "2022-02-27T21:21:21.625Z"
   },
   {
    "duration": 42,
    "start_time": "2022-02-27T21:21:21.642Z"
   },
   {
    "duration": 413,
    "start_time": "2022-02-27T21:21:21.686Z"
   },
   {
    "duration": 10,
    "start_time": "2022-02-27T21:21:22.102Z"
   },
   {
    "duration": 298,
    "start_time": "2022-02-27T21:21:22.115Z"
   },
   {
    "duration": 12,
    "start_time": "2022-02-27T21:21:22.417Z"
   },
   {
    "duration": 300,
    "start_time": "2022-02-27T21:21:22.431Z"
   },
   {
    "duration": 11,
    "start_time": "2022-02-27T21:21:22.733Z"
   },
   {
    "duration": 290,
    "start_time": "2022-02-27T21:21:22.747Z"
   },
   {
    "duration": 11,
    "start_time": "2022-02-27T21:21:23.039Z"
   },
   {
    "duration": 348,
    "start_time": "2022-02-27T21:21:23.052Z"
   },
   {
    "duration": 11,
    "start_time": "2022-02-27T21:21:23.402Z"
   },
   {
    "duration": 350,
    "start_time": "2022-02-27T21:21:23.415Z"
   },
   {
    "duration": 20,
    "start_time": "2022-02-27T21:21:23.767Z"
   },
   {
    "duration": 434,
    "start_time": "2022-02-27T21:21:23.790Z"
   },
   {
    "duration": 10,
    "start_time": "2022-02-27T21:21:24.227Z"
   },
   {
    "duration": 232,
    "start_time": "2022-02-27T21:21:24.240Z"
   },
   {
    "duration": 14,
    "start_time": "2022-02-27T21:21:24.475Z"
   },
   {
    "duration": 217,
    "start_time": "2022-02-27T21:21:24.491Z"
   },
   {
    "duration": 10,
    "start_time": "2022-02-27T21:21:24.710Z"
   },
   {
    "duration": 241,
    "start_time": "2022-02-27T21:21:24.722Z"
   },
   {
    "duration": 9,
    "start_time": "2022-02-27T21:21:24.965Z"
   },
   {
    "duration": 6,
    "start_time": "2022-02-27T21:21:24.983Z"
   },
   {
    "duration": 11,
    "start_time": "2022-02-27T21:21:24.992Z"
   },
   {
    "duration": 14,
    "start_time": "2022-02-27T21:21:25.006Z"
   },
   {
    "duration": 9,
    "start_time": "2022-02-27T21:21:25.023Z"
   },
   {
    "duration": 9,
    "start_time": "2022-02-27T21:21:41.495Z"
   },
   {
    "duration": 10,
    "start_time": "2022-02-27T21:21:47.017Z"
   },
   {
    "duration": 8,
    "start_time": "2022-02-27T21:21:55.366Z"
   },
   {
    "duration": 9,
    "start_time": "2022-02-27T21:23:16.459Z"
   },
   {
    "duration": 7,
    "start_time": "2022-02-27T21:23:25.055Z"
   },
   {
    "duration": 7,
    "start_time": "2022-02-27T21:23:26.145Z"
   },
   {
    "duration": 9,
    "start_time": "2022-02-27T21:23:26.865Z"
   },
   {
    "duration": 8,
    "start_time": "2022-02-27T21:23:38.155Z"
   },
   {
    "duration": 7,
    "start_time": "2022-02-27T21:23:39.174Z"
   },
   {
    "duration": 8,
    "start_time": "2022-02-27T21:24:13.959Z"
   },
   {
    "duration": 7,
    "start_time": "2022-02-27T21:24:31.651Z"
   },
   {
    "duration": 8,
    "start_time": "2022-02-27T21:24:58.711Z"
   },
   {
    "duration": 8,
    "start_time": "2022-02-27T21:41:33.840Z"
   },
   {
    "duration": 1470,
    "start_time": "2022-02-27T21:41:42.343Z"
   },
   {
    "duration": 20,
    "start_time": "2022-02-27T21:41:43.817Z"
   },
   {
    "duration": 18,
    "start_time": "2022-02-27T21:41:43.841Z"
   },
   {
    "duration": 40,
    "start_time": "2022-02-27T21:41:43.862Z"
   },
   {
    "duration": 16,
    "start_time": "2022-02-27T21:41:43.905Z"
   },
   {
    "duration": 23,
    "start_time": "2022-02-27T21:41:43.924Z"
   },
   {
    "duration": 25,
    "start_time": "2022-02-27T21:41:43.982Z"
   },
   {
    "duration": 21,
    "start_time": "2022-02-27T21:41:44.010Z"
   },
   {
    "duration": 51,
    "start_time": "2022-02-27T21:41:44.037Z"
   },
   {
    "duration": 24,
    "start_time": "2022-02-27T21:41:44.092Z"
   },
   {
    "duration": 13,
    "start_time": "2022-02-27T21:41:44.119Z"
   },
   {
    "duration": 7,
    "start_time": "2022-02-27T21:41:44.135Z"
   },
   {
    "duration": 26,
    "start_time": "2022-02-27T21:41:44.184Z"
   },
   {
    "duration": 26,
    "start_time": "2022-02-27T21:41:44.212Z"
   },
   {
    "duration": 51,
    "start_time": "2022-02-27T21:41:44.240Z"
   },
   {
    "duration": 11,
    "start_time": "2022-02-27T21:41:44.294Z"
   },
   {
    "duration": 313,
    "start_time": "2022-02-27T21:41:44.307Z"
   },
   {
    "duration": 17,
    "start_time": "2022-02-27T21:41:44.622Z"
   },
   {
    "duration": 468,
    "start_time": "2022-02-27T21:41:44.642Z"
   },
   {
    "duration": 34,
    "start_time": "2022-02-27T21:41:45.112Z"
   },
   {
    "duration": 36,
    "start_time": "2022-02-27T21:41:45.148Z"
   },
   {
    "duration": 497,
    "start_time": "2022-02-27T21:41:45.186Z"
   },
   {
    "duration": 427,
    "start_time": "2022-02-27T21:41:45.686Z"
   },
   {
    "duration": 72,
    "start_time": "2022-02-27T21:41:46.115Z"
   },
   {
    "duration": 28,
    "start_time": "2022-02-27T21:41:46.191Z"
   },
   {
    "duration": 1576,
    "start_time": "2022-02-27T21:41:46.222Z"
   },
   {
    "duration": 12,
    "start_time": "2022-02-27T21:41:47.808Z"
   },
   {
    "duration": 30,
    "start_time": "2022-02-27T21:41:47.824Z"
   },
   {
    "duration": 44,
    "start_time": "2022-02-27T21:41:47.856Z"
   },
   {
    "duration": 1533,
    "start_time": "2022-02-27T21:41:47.903Z"
   },
   {
    "duration": 16,
    "start_time": "2022-02-27T21:41:49.439Z"
   },
   {
    "duration": 32,
    "start_time": "2022-02-27T21:41:49.458Z"
   },
   {
    "duration": 517,
    "start_time": "2022-02-27T21:41:49.493Z"
   },
   {
    "duration": 12,
    "start_time": "2022-02-27T21:41:50.013Z"
   },
   {
    "duration": 307,
    "start_time": "2022-02-27T21:41:50.027Z"
   },
   {
    "duration": 12,
    "start_time": "2022-02-27T21:41:50.336Z"
   },
   {
    "duration": 313,
    "start_time": "2022-02-27T21:41:50.350Z"
   },
   {
    "duration": 18,
    "start_time": "2022-02-27T21:41:50.665Z"
   },
   {
    "duration": 358,
    "start_time": "2022-02-27T21:41:50.686Z"
   },
   {
    "duration": 15,
    "start_time": "2022-02-27T21:41:51.047Z"
   },
   {
    "duration": 503,
    "start_time": "2022-02-27T21:41:51.065Z"
   },
   {
    "duration": 19,
    "start_time": "2022-02-27T21:41:51.570Z"
   },
   {
    "duration": 344,
    "start_time": "2022-02-27T21:41:51.591Z"
   },
   {
    "duration": 11,
    "start_time": "2022-02-27T21:41:51.938Z"
   },
   {
    "duration": 468,
    "start_time": "2022-02-27T21:41:51.951Z"
   },
   {
    "duration": 10,
    "start_time": "2022-02-27T21:41:52.421Z"
   },
   {
    "duration": 240,
    "start_time": "2022-02-27T21:41:52.433Z"
   },
   {
    "duration": 12,
    "start_time": "2022-02-27T21:41:52.683Z"
   },
   {
    "duration": 234,
    "start_time": "2022-02-27T21:41:52.698Z"
   },
   {
    "duration": 11,
    "start_time": "2022-02-27T21:41:52.935Z"
   },
   {
    "duration": 260,
    "start_time": "2022-02-27T21:41:52.948Z"
   },
   {
    "duration": 6,
    "start_time": "2022-02-27T21:41:53.211Z"
   },
   {
    "duration": 11,
    "start_time": "2022-02-27T21:41:53.219Z"
   },
   {
    "duration": 9,
    "start_time": "2022-02-27T21:41:53.232Z"
   },
   {
    "duration": 38,
    "start_time": "2022-02-27T21:41:53.244Z"
   },
   {
    "duration": 8,
    "start_time": "2022-02-27T21:41:53.285Z"
   },
   {
    "duration": 14,
    "start_time": "2022-02-27T21:41:53.295Z"
   },
   {
    "duration": 51,
    "start_time": "2022-04-02T08:51:39.789Z"
   },
   {
    "duration": 7,
    "start_time": "2022-04-02T08:51:40.328Z"
   },
   {
    "duration": 1478,
    "start_time": "2022-04-02T08:51:48.038Z"
   },
   {
    "duration": 17,
    "start_time": "2022-04-02T08:51:49.518Z"
   },
   {
    "duration": 10,
    "start_time": "2022-04-02T08:51:49.537Z"
   },
   {
    "duration": 17,
    "start_time": "2022-04-02T08:51:49.549Z"
   },
   {
    "duration": 16,
    "start_time": "2022-04-02T08:51:49.569Z"
   },
   {
    "duration": 49,
    "start_time": "2022-04-02T08:51:49.586Z"
   },
   {
    "duration": 19,
    "start_time": "2022-04-02T08:51:49.637Z"
   },
   {
    "duration": 17,
    "start_time": "2022-04-02T08:51:49.658Z"
   },
   {
    "duration": 12,
    "start_time": "2022-04-02T08:51:49.677Z"
   },
   {
    "duration": 48,
    "start_time": "2022-04-02T08:51:49.691Z"
   },
   {
    "duration": 12,
    "start_time": "2022-04-02T08:51:49.741Z"
   },
   {
    "duration": 6,
    "start_time": "2022-04-02T08:51:49.756Z"
   },
   {
    "duration": 20,
    "start_time": "2022-04-02T08:51:49.764Z"
   },
   {
    "duration": 53,
    "start_time": "2022-04-02T08:51:49.788Z"
   },
   {
    "duration": 12,
    "start_time": "2022-04-02T08:51:49.843Z"
   },
   {
    "duration": 7,
    "start_time": "2022-04-02T08:51:49.857Z"
   },
   {
    "duration": 180,
    "start_time": "2022-04-02T08:51:49.866Z"
   },
   {
    "duration": 11,
    "start_time": "2022-04-02T08:51:50.048Z"
   },
   {
    "duration": 267,
    "start_time": "2022-04-02T08:51:50.061Z"
   },
   {
    "duration": 26,
    "start_time": "2022-04-02T08:51:50.330Z"
   },
   {
    "duration": 8,
    "start_time": "2022-04-02T08:51:50.358Z"
   },
   {
    "duration": 269,
    "start_time": "2022-04-02T08:51:50.367Z"
   },
   {
    "duration": 166,
    "start_time": "2022-04-02T08:51:50.637Z"
   },
   {
    "duration": 44,
    "start_time": "2022-04-02T08:51:50.805Z"
   },
   {
    "duration": 21,
    "start_time": "2022-04-02T08:51:50.850Z"
   },
   {
    "duration": 711,
    "start_time": "2022-04-02T08:51:50.872Z"
   },
   {
    "duration": 10,
    "start_time": "2022-04-02T08:51:51.584Z"
   },
   {
    "duration": 12,
    "start_time": "2022-04-02T08:51:51.596Z"
   },
   {
    "duration": 38,
    "start_time": "2022-04-02T08:51:51.609Z"
   },
   {
    "duration": 725,
    "start_time": "2022-04-02T08:51:51.648Z"
   },
   {
    "duration": 12,
    "start_time": "2022-04-02T08:51:52.374Z"
   },
   {
    "duration": 10,
    "start_time": "2022-04-02T08:51:52.387Z"
   },
   {
    "duration": 245,
    "start_time": "2022-04-02T08:51:52.399Z"
   },
   {
    "duration": 7,
    "start_time": "2022-04-02T08:51:52.647Z"
   },
   {
    "duration": 246,
    "start_time": "2022-04-02T08:51:52.656Z"
   },
   {
    "duration": 9,
    "start_time": "2022-04-02T08:51:52.904Z"
   },
   {
    "duration": 258,
    "start_time": "2022-04-02T08:51:52.915Z"
   },
   {
    "duration": 8,
    "start_time": "2022-04-02T08:51:53.176Z"
   },
   {
    "duration": 225,
    "start_time": "2022-04-02T08:51:53.186Z"
   },
   {
    "duration": 8,
    "start_time": "2022-04-02T08:51:53.413Z"
   },
   {
    "duration": 303,
    "start_time": "2022-04-02T08:51:53.436Z"
   },
   {
    "duration": 7,
    "start_time": "2022-04-02T08:51:53.741Z"
   },
   {
    "duration": 298,
    "start_time": "2022-04-02T08:51:53.750Z"
   },
   {
    "duration": 7,
    "start_time": "2022-04-02T08:51:54.050Z"
   },
   {
    "duration": 296,
    "start_time": "2022-04-02T08:51:54.059Z"
   },
   {
    "duration": 8,
    "start_time": "2022-04-02T08:51:54.357Z"
   },
   {
    "duration": 221,
    "start_time": "2022-04-02T08:51:54.366Z"
   },
   {
    "duration": 8,
    "start_time": "2022-04-02T08:51:54.588Z"
   },
   {
    "duration": 121,
    "start_time": "2022-04-02T08:51:54.597Z"
   },
   {
    "duration": 18,
    "start_time": "2022-04-02T08:51:54.719Z"
   },
   {
    "duration": 141,
    "start_time": "2022-04-02T08:51:54.738Z"
   },
   {
    "duration": 5,
    "start_time": "2022-04-02T08:51:54.881Z"
   },
   {
    "duration": 13,
    "start_time": "2022-04-02T08:51:54.888Z"
   },
   {
    "duration": 10,
    "start_time": "2022-04-02T08:51:54.902Z"
   },
   {
    "duration": 22,
    "start_time": "2022-04-02T08:51:54.913Z"
   },
   {
    "duration": 11,
    "start_time": "2022-04-02T08:51:54.937Z"
   },
   {
    "duration": 12,
    "start_time": "2022-04-02T08:51:54.950Z"
   },
   {
    "duration": 224,
    "start_time": "2022-04-12T17:50:00.909Z"
   },
   {
    "duration": 166,
    "start_time": "2022-04-12T18:13:07.939Z"
   },
   {
    "duration": 71,
    "start_time": "2022-04-13T12:04:08.746Z"
   },
   {
    "duration": 2069,
    "start_time": "2022-04-13T12:04:17.284Z"
   },
   {
    "duration": 22,
    "start_time": "2022-04-13T12:04:19.356Z"
   },
   {
    "duration": 17,
    "start_time": "2022-04-13T12:04:19.380Z"
   },
   {
    "duration": 40,
    "start_time": "2022-04-13T12:04:19.400Z"
   },
   {
    "duration": 23,
    "start_time": "2022-04-13T12:04:19.442Z"
   },
   {
    "duration": 23,
    "start_time": "2022-04-13T12:04:19.467Z"
   },
   {
    "duration": 26,
    "start_time": "2022-04-13T12:04:19.524Z"
   },
   {
    "duration": 22,
    "start_time": "2022-04-13T12:04:19.552Z"
   },
   {
    "duration": 51,
    "start_time": "2022-04-13T12:04:19.576Z"
   },
   {
    "duration": 25,
    "start_time": "2022-04-13T12:04:19.630Z"
   },
   {
    "duration": 15,
    "start_time": "2022-04-13T12:04:19.657Z"
   },
   {
    "duration": 7,
    "start_time": "2022-04-13T12:04:19.674Z"
   },
   {
    "duration": 58,
    "start_time": "2022-04-13T12:04:19.683Z"
   },
   {
    "duration": 28,
    "start_time": "2022-04-13T12:04:19.743Z"
   },
   {
    "duration": 11,
    "start_time": "2022-04-13T12:04:19.773Z"
   },
   {
    "duration": 10,
    "start_time": "2022-04-13T12:04:19.825Z"
   },
   {
    "duration": 15,
    "start_time": "2022-04-13T12:04:19.837Z"
   },
   {
    "duration": 272,
    "start_time": "2022-04-13T12:04:19.854Z"
   },
   {
    "duration": 15,
    "start_time": "2022-04-13T12:04:20.128Z"
   },
   {
    "duration": 383,
    "start_time": "2022-04-13T12:04:20.146Z"
   },
   {
    "duration": 37,
    "start_time": "2022-04-13T12:04:20.532Z"
   },
   {
    "duration": 9,
    "start_time": "2022-04-13T12:04:20.571Z"
   },
   {
    "duration": 408,
    "start_time": "2022-04-13T12:04:20.582Z"
   },
   {
    "duration": 279,
    "start_time": "2022-04-13T12:04:20.993Z"
   },
   {
    "duration": 64,
    "start_time": "2022-04-13T12:04:21.274Z"
   },
   {
    "duration": 29,
    "start_time": "2022-04-13T12:04:21.340Z"
   },
   {
    "duration": 1091,
    "start_time": "2022-04-13T12:04:21.372Z"
   },
   {
    "duration": 14,
    "start_time": "2022-04-13T12:04:22.469Z"
   },
   {
    "duration": 39,
    "start_time": "2022-04-13T12:04:22.485Z"
   },
   {
    "duration": 25,
    "start_time": "2022-04-13T12:04:22.526Z"
   },
   {
    "duration": 1131,
    "start_time": "2022-04-13T12:04:22.553Z"
   },
   {
    "duration": 14,
    "start_time": "2022-04-13T12:04:23.686Z"
   },
   {
    "duration": 35,
    "start_time": "2022-04-13T12:04:23.702Z"
   },
   {
    "duration": 347,
    "start_time": "2022-04-13T12:04:23.739Z"
   },
   {
    "duration": 11,
    "start_time": "2022-04-13T12:04:24.088Z"
   },
   {
    "duration": 354,
    "start_time": "2022-04-13T12:04:24.101Z"
   },
   {
    "duration": 11,
    "start_time": "2022-04-13T12:04:24.457Z"
   },
   {
    "duration": 347,
    "start_time": "2022-04-13T12:04:24.470Z"
   },
   {
    "duration": 12,
    "start_time": "2022-04-13T12:04:24.819Z"
   },
   {
    "duration": 336,
    "start_time": "2022-04-13T12:04:24.833Z"
   },
   {
    "duration": 10,
    "start_time": "2022-04-13T12:04:25.172Z"
   },
   {
    "duration": 431,
    "start_time": "2022-04-13T12:04:25.184Z"
   },
   {
    "duration": 15,
    "start_time": "2022-04-13T12:04:25.617Z"
   },
   {
    "duration": 431,
    "start_time": "2022-04-13T12:04:25.634Z"
   },
   {
    "duration": 10,
    "start_time": "2022-04-13T12:04:26.068Z"
   },
   {
    "duration": 448,
    "start_time": "2022-04-13T12:04:26.080Z"
   },
   {
    "duration": 10,
    "start_time": "2022-04-13T12:04:26.531Z"
   },
   {
    "duration": 308,
    "start_time": "2022-04-13T12:04:26.543Z"
   },
   {
    "duration": 10,
    "start_time": "2022-04-13T12:04:26.853Z"
   },
   {
    "duration": 198,
    "start_time": "2022-04-13T12:04:26.865Z"
   },
   {
    "duration": 10,
    "start_time": "2022-04-13T12:04:27.065Z"
   },
   {
    "duration": 209,
    "start_time": "2022-04-13T12:04:27.078Z"
   },
   {
    "duration": 7,
    "start_time": "2022-04-13T12:04:27.289Z"
   },
   {
    "duration": 26,
    "start_time": "2022-04-13T12:04:27.298Z"
   },
   {
    "duration": 13,
    "start_time": "2022-04-13T12:04:27.328Z"
   },
   {
    "duration": 13,
    "start_time": "2022-04-13T12:04:27.344Z"
   },
   {
    "duration": 13,
    "start_time": "2022-04-13T12:04:27.360Z"
   },
   {
    "duration": 14,
    "start_time": "2022-04-13T12:04:27.376Z"
   },
   {
    "duration": 11,
    "start_time": "2022-04-13T12:06:52.544Z"
   },
   {
    "duration": 16,
    "start_time": "2022-04-13T12:06:59.403Z"
   },
   {
    "duration": 13,
    "start_time": "2022-04-13T12:07:06.038Z"
   },
   {
    "duration": 169,
    "start_time": "2022-04-13T12:07:51.006Z"
   },
   {
    "duration": 1667,
    "start_time": "2022-04-13T12:08:50.840Z"
   },
   {
    "duration": 22,
    "start_time": "2022-04-13T12:08:52.510Z"
   },
   {
    "duration": 21,
    "start_time": "2022-04-13T12:08:52.534Z"
   },
   {
    "duration": 24,
    "start_time": "2022-04-13T12:08:52.558Z"
   },
   {
    "duration": 51,
    "start_time": "2022-04-13T12:08:52.584Z"
   },
   {
    "duration": 25,
    "start_time": "2022-04-13T12:08:52.637Z"
   },
   {
    "duration": 27,
    "start_time": "2022-04-13T12:08:52.664Z"
   },
   {
    "duration": 25,
    "start_time": "2022-04-13T12:08:52.725Z"
   },
   {
    "duration": 18,
    "start_time": "2022-04-13T12:08:52.752Z"
   },
   {
    "duration": 59,
    "start_time": "2022-04-13T12:08:52.776Z"
   },
   {
    "duration": 12,
    "start_time": "2022-04-13T12:08:52.837Z"
   },
   {
    "duration": 9,
    "start_time": "2022-04-13T12:08:52.852Z"
   },
   {
    "duration": 63,
    "start_time": "2022-04-13T12:08:52.863Z"
   },
   {
    "duration": 27,
    "start_time": "2022-04-13T12:08:52.928Z"
   },
   {
    "duration": 17,
    "start_time": "2022-04-13T12:08:52.958Z"
   },
   {
    "duration": 10,
    "start_time": "2022-04-13T12:08:52.977Z"
   },
   {
    "duration": 41,
    "start_time": "2022-04-13T12:08:52.989Z"
   },
   {
    "duration": 360,
    "start_time": "2022-04-13T12:08:53.032Z"
   },
   {
    "duration": 29,
    "start_time": "2022-04-13T12:08:53.395Z"
   },
   {
    "duration": 473,
    "start_time": "2022-04-13T12:08:53.428Z"
   },
   {
    "duration": 39,
    "start_time": "2022-04-13T12:08:53.903Z"
   },
   {
    "duration": 11,
    "start_time": "2022-04-13T12:08:53.944Z"
   },
   {
    "duration": 391,
    "start_time": "2022-04-13T12:08:53.957Z"
   },
   {
    "duration": 279,
    "start_time": "2022-04-13T12:08:54.351Z"
   },
   {
    "duration": 49,
    "start_time": "2022-04-13T12:08:54.632Z"
   },
   {
    "duration": 60,
    "start_time": "2022-04-13T12:08:54.684Z"
   },
   {
    "duration": 1077,
    "start_time": "2022-04-13T12:08:54.747Z"
   },
   {
    "duration": 14,
    "start_time": "2022-04-13T12:08:55.830Z"
   },
   {
    "duration": 18,
    "start_time": "2022-04-13T12:08:55.847Z"
   },
   {
    "duration": 58,
    "start_time": "2022-04-13T12:08:55.868Z"
   },
   {
    "duration": 2196,
    "start_time": "2022-04-13T12:08:55.928Z"
   },
   {
    "duration": 21,
    "start_time": "2022-04-13T12:08:58.127Z"
   },
   {
    "duration": 76,
    "start_time": "2022-04-13T12:08:58.150Z"
   },
   {
    "duration": 573,
    "start_time": "2022-04-13T12:08:58.229Z"
   },
   {
    "duration": 23,
    "start_time": "2022-04-13T12:08:58.804Z"
   },
   {
    "duration": 344,
    "start_time": "2022-04-13T12:08:58.829Z"
   },
   {
    "duration": 10,
    "start_time": "2022-04-13T12:08:59.175Z"
   },
   {
    "duration": 347,
    "start_time": "2022-04-13T12:08:59.187Z"
   },
   {
    "duration": 11,
    "start_time": "2022-04-13T12:08:59.536Z"
   },
   {
    "duration": 332,
    "start_time": "2022-04-13T12:08:59.549Z"
   },
   {
    "duration": 10,
    "start_time": "2022-04-13T12:08:59.883Z"
   },
   {
    "duration": 433,
    "start_time": "2022-04-13T12:08:59.895Z"
   },
   {
    "duration": 11,
    "start_time": "2022-04-13T12:09:00.330Z"
   },
   {
    "duration": 430,
    "start_time": "2022-04-13T12:09:00.343Z"
   },
   {
    "duration": 10,
    "start_time": "2022-04-13T12:09:00.775Z"
   },
   {
    "duration": 626,
    "start_time": "2022-04-13T12:09:00.788Z"
   },
   {
    "duration": 15,
    "start_time": "2022-04-13T12:09:01.416Z"
   },
   {
    "duration": 386,
    "start_time": "2022-04-13T12:09:01.434Z"
   },
   {
    "duration": 12,
    "start_time": "2022-04-13T12:09:01.824Z"
   },
   {
    "duration": 195,
    "start_time": "2022-04-13T12:09:01.839Z"
   },
   {
    "duration": 10,
    "start_time": "2022-04-13T12:09:02.036Z"
   },
   {
    "duration": 215,
    "start_time": "2022-04-13T12:09:02.050Z"
   },
   {
    "duration": 8,
    "start_time": "2022-04-13T12:09:02.268Z"
   },
   {
    "duration": 16,
    "start_time": "2022-04-13T12:09:02.278Z"
   },
   {
    "duration": 30,
    "start_time": "2022-04-13T12:09:02.297Z"
   },
   {
    "duration": 20,
    "start_time": "2022-04-13T12:09:02.329Z"
   },
   {
    "duration": 27,
    "start_time": "2022-04-13T12:09:02.352Z"
   },
   {
    "duration": 59,
    "start_time": "2022-04-13T12:09:02.382Z"
   },
   {
    "duration": 262,
    "start_time": "2022-04-13T12:10:50.848Z"
   },
   {
    "duration": 131,
    "start_time": "2022-04-13T12:42:11.046Z"
   },
   {
    "duration": 133,
    "start_time": "2022-04-13T12:42:20.839Z"
   },
   {
    "duration": 100,
    "start_time": "2022-04-13T12:42:30.506Z"
   },
   {
    "duration": 105,
    "start_time": "2022-04-13T12:42:39.598Z"
   },
   {
    "duration": 113,
    "start_time": "2022-04-13T12:42:49.076Z"
   },
   {
    "duration": 266,
    "start_time": "2022-04-13T12:43:02.372Z"
   },
   {
    "duration": 1014,
    "start_time": "2022-04-13T12:43:08.222Z"
   },
   {
    "duration": 263,
    "start_time": "2022-04-13T12:43:18.676Z"
   },
   {
    "duration": 283,
    "start_time": "2022-04-13T12:43:32.651Z"
   },
   {
    "duration": 134,
    "start_time": "2022-04-13T12:46:02.449Z"
   },
   {
    "duration": 283,
    "start_time": "2022-04-13T12:46:20.760Z"
   },
   {
    "duration": 275,
    "start_time": "2022-04-13T12:47:27.073Z"
   },
   {
    "duration": 320,
    "start_time": "2022-04-13T12:48:47.801Z"
   },
   {
    "duration": 278,
    "start_time": "2022-04-13T12:49:10.076Z"
   },
   {
    "duration": 381,
    "start_time": "2022-04-13T12:53:18.771Z"
   },
   {
    "duration": 398,
    "start_time": "2022-04-13T12:59:15.271Z"
   },
   {
    "duration": 414,
    "start_time": "2022-04-13T13:00:16.033Z"
   },
   {
    "duration": 536,
    "start_time": "2022-04-13T13:00:19.253Z"
   },
   {
    "duration": 414,
    "start_time": "2022-04-13T13:00:43.485Z"
   },
   {
    "duration": 49,
    "start_time": "2022-04-13T13:02:37.658Z"
   },
   {
    "duration": 35,
    "start_time": "2022-04-13T13:02:54.403Z"
   },
   {
    "duration": 2388,
    "start_time": "2022-04-13T13:03:05.862Z"
   },
   {
    "duration": 33,
    "start_time": "2022-04-13T13:03:08.254Z"
   },
   {
    "duration": 39,
    "start_time": "2022-04-13T13:03:08.291Z"
   },
   {
    "duration": 35,
    "start_time": "2022-04-13T13:03:08.334Z"
   },
   {
    "duration": 59,
    "start_time": "2022-04-13T13:03:08.371Z"
   },
   {
    "duration": 23,
    "start_time": "2022-04-13T13:03:08.433Z"
   },
   {
    "duration": 27,
    "start_time": "2022-04-13T13:03:08.458Z"
   },
   {
    "duration": 56,
    "start_time": "2022-04-13T13:03:08.488Z"
   },
   {
    "duration": 22,
    "start_time": "2022-04-13T13:03:08.547Z"
   },
   {
    "duration": 52,
    "start_time": "2022-04-13T13:03:08.575Z"
   },
   {
    "duration": 12,
    "start_time": "2022-04-13T13:03:08.630Z"
   },
   {
    "duration": 8,
    "start_time": "2022-04-13T13:03:08.644Z"
   },
   {
    "duration": 26,
    "start_time": "2022-04-13T13:03:08.654Z"
   },
   {
    "duration": 71,
    "start_time": "2022-04-13T13:03:08.682Z"
   },
   {
    "duration": 16,
    "start_time": "2022-04-13T13:03:08.755Z"
   },
   {
    "duration": 12,
    "start_time": "2022-04-13T13:03:08.774Z"
   },
   {
    "duration": 43,
    "start_time": "2022-04-13T13:03:08.789Z"
   },
   {
    "duration": 437,
    "start_time": "2022-04-13T13:03:08.835Z"
   },
   {
    "duration": 16,
    "start_time": "2022-04-13T13:03:09.275Z"
   },
   {
    "duration": 623,
    "start_time": "2022-04-13T13:03:09.294Z"
   },
   {
    "duration": 38,
    "start_time": "2022-04-13T13:03:09.920Z"
   },
   {
    "duration": 12,
    "start_time": "2022-04-13T13:03:09.960Z"
   },
   {
    "duration": 394,
    "start_time": "2022-04-13T13:03:09.975Z"
   },
   {
    "duration": 302,
    "start_time": "2022-04-13T13:03:10.372Z"
   },
   {
    "duration": 432,
    "start_time": "2022-04-13T13:03:10.676Z"
   },
   {
    "duration": 51,
    "start_time": "2022-04-13T13:03:11.111Z"
   },
   {
    "duration": 28,
    "start_time": "2022-04-13T13:03:11.164Z"
   },
   {
    "duration": 1242,
    "start_time": "2022-04-13T13:03:11.198Z"
   },
   {
    "duration": 13,
    "start_time": "2022-04-13T13:03:12.443Z"
   },
   {
    "duration": 14,
    "start_time": "2022-04-13T13:03:12.458Z"
   },
   {
    "duration": 52,
    "start_time": "2022-04-13T13:03:12.474Z"
   },
   {
    "duration": 969,
    "start_time": "2022-04-13T13:03:12.528Z"
   },
   {
    "duration": 32,
    "start_time": "2022-04-13T13:03:13.499Z"
   },
   {
    "duration": 103,
    "start_time": "2022-04-13T13:03:13.534Z"
   },
   {
    "duration": 553,
    "start_time": "2022-04-13T13:03:13.641Z"
   },
   {
    "duration": 14,
    "start_time": "2022-04-13T13:03:14.196Z"
   },
   {
    "duration": 551,
    "start_time": "2022-04-13T13:03:14.226Z"
   },
   {
    "duration": 15,
    "start_time": "2022-04-13T13:03:14.780Z"
   },
   {
    "duration": 679,
    "start_time": "2022-04-13T13:03:14.799Z"
   },
   {
    "duration": 14,
    "start_time": "2022-04-13T13:03:15.481Z"
   },
   {
    "duration": 335,
    "start_time": "2022-04-13T13:03:15.498Z"
   },
   {
    "duration": 10,
    "start_time": "2022-04-13T13:03:15.836Z"
   },
   {
    "duration": 430,
    "start_time": "2022-04-13T13:03:15.849Z"
   },
   {
    "duration": 11,
    "start_time": "2022-04-13T13:03:16.281Z"
   },
   {
    "duration": 533,
    "start_time": "2022-04-13T13:03:16.294Z"
   },
   {
    "duration": 11,
    "start_time": "2022-04-13T13:03:16.829Z"
   },
   {
    "duration": 421,
    "start_time": "2022-04-13T13:03:16.842Z"
   },
   {
    "duration": 10,
    "start_time": "2022-04-13T13:03:17.265Z"
   },
   {
    "duration": 210,
    "start_time": "2022-04-13T13:03:17.278Z"
   },
   {
    "duration": 10,
    "start_time": "2022-04-13T13:03:17.490Z"
   },
   {
    "duration": 197,
    "start_time": "2022-04-13T13:03:17.502Z"
   },
   {
    "duration": 10,
    "start_time": "2022-04-13T13:03:17.701Z"
   },
   {
    "duration": 199,
    "start_time": "2022-04-13T13:03:17.725Z"
   },
   {
    "duration": 7,
    "start_time": "2022-04-13T13:03:17.926Z"
   },
   {
    "duration": 22,
    "start_time": "2022-04-13T13:03:17.936Z"
   },
   {
    "duration": 13,
    "start_time": "2022-04-13T13:03:17.962Z"
   },
   {
    "duration": 10,
    "start_time": "2022-04-13T13:03:17.978Z"
   },
   {
    "duration": 35,
    "start_time": "2022-04-13T13:03:17.990Z"
   },
   {
    "duration": 11,
    "start_time": "2022-04-13T13:03:18.028Z"
   },
   {
    "duration": 15,
    "start_time": "2022-04-13T13:06:09.521Z"
   },
   {
    "duration": 206,
    "start_time": "2022-04-13T13:06:17.981Z"
   },
   {
    "duration": 12,
    "start_time": "2022-04-13T13:06:31.423Z"
   },
   {
    "duration": 362,
    "start_time": "2022-04-13T13:06:36.675Z"
   },
   {
    "duration": 13,
    "start_time": "2022-04-13T13:06:46.429Z"
   },
   {
    "duration": 216,
    "start_time": "2022-04-13T13:06:47.749Z"
   },
   {
    "duration": 105,
    "start_time": "2022-04-13T13:09:32.856Z"
   },
   {
    "duration": 9,
    "start_time": "2022-04-13T13:50:56.312Z"
   },
   {
    "duration": 9,
    "start_time": "2022-04-13T13:52:00.104Z"
   },
   {
    "duration": 107,
    "start_time": "2022-04-14T12:45:36.241Z"
   },
   {
    "duration": 112,
    "start_time": "2022-04-14T12:50:05.482Z"
   },
   {
    "duration": 1479,
    "start_time": "2022-04-14T12:52:06.164Z"
   },
   {
    "duration": 14,
    "start_time": "2022-04-14T12:52:07.645Z"
   },
   {
    "duration": 9,
    "start_time": "2022-04-14T12:52:07.661Z"
   },
   {
    "duration": 15,
    "start_time": "2022-04-14T12:52:07.674Z"
   },
   {
    "duration": 15,
    "start_time": "2022-04-14T12:52:07.690Z"
   },
   {
    "duration": 14,
    "start_time": "2022-04-14T12:52:07.707Z"
   },
   {
    "duration": 17,
    "start_time": "2022-04-14T12:52:07.722Z"
   },
   {
    "duration": 44,
    "start_time": "2022-04-14T12:52:07.740Z"
   },
   {
    "duration": 11,
    "start_time": "2022-04-14T12:52:07.785Z"
   },
   {
    "duration": 15,
    "start_time": "2022-04-14T12:52:07.799Z"
   },
   {
    "duration": 11,
    "start_time": "2022-04-14T12:52:07.815Z"
   },
   {
    "duration": 8,
    "start_time": "2022-04-14T12:52:07.827Z"
   },
   {
    "duration": 41,
    "start_time": "2022-04-14T12:52:07.836Z"
   },
   {
    "duration": 4,
    "start_time": "2022-04-14T12:52:07.879Z"
   },
   {
    "duration": 20,
    "start_time": "2022-04-14T12:52:07.884Z"
   },
   {
    "duration": 7,
    "start_time": "2022-04-14T12:52:07.906Z"
   },
   {
    "duration": 7,
    "start_time": "2022-04-14T12:52:07.914Z"
   },
   {
    "duration": 8,
    "start_time": "2022-04-14T12:52:07.922Z"
   },
   {
    "duration": 172,
    "start_time": "2022-04-14T12:52:07.932Z"
   },
   {
    "duration": 8,
    "start_time": "2022-04-14T12:52:08.106Z"
   },
   {
    "duration": 235,
    "start_time": "2022-04-14T12:52:08.115Z"
   },
   {
    "duration": 23,
    "start_time": "2022-04-14T12:52:08.351Z"
   },
   {
    "duration": 6,
    "start_time": "2022-04-14T12:52:08.376Z"
   },
   {
    "duration": 220,
    "start_time": "2022-04-14T12:52:08.384Z"
   },
   {
    "duration": 157,
    "start_time": "2022-04-14T12:52:08.606Z"
   },
   {
    "duration": 253,
    "start_time": "2022-04-14T12:52:08.764Z"
   },
   {
    "duration": 32,
    "start_time": "2022-04-14T12:52:09.019Z"
   },
   {
    "duration": 31,
    "start_time": "2022-04-14T12:52:09.054Z"
   },
   {
    "duration": 669,
    "start_time": "2022-04-14T12:52:09.087Z"
   },
   {
    "duration": 16,
    "start_time": "2022-04-14T12:52:09.758Z"
   },
   {
    "duration": 17,
    "start_time": "2022-04-14T12:52:09.775Z"
   },
   {
    "duration": 27,
    "start_time": "2022-04-14T12:52:09.794Z"
   },
   {
    "duration": 553,
    "start_time": "2022-04-14T12:52:09.822Z"
   },
   {
    "duration": 10,
    "start_time": "2022-04-14T12:52:10.377Z"
   },
   {
    "duration": 9,
    "start_time": "2022-04-14T12:52:10.388Z"
   },
   {
    "duration": 212,
    "start_time": "2022-04-14T12:52:10.399Z"
   },
   {
    "duration": 8,
    "start_time": "2022-04-14T12:52:10.613Z"
   },
   {
    "duration": 218,
    "start_time": "2022-04-14T12:52:10.623Z"
   },
   {
    "duration": 7,
    "start_time": "2022-04-14T12:52:10.843Z"
   },
   {
    "duration": 208,
    "start_time": "2022-04-14T12:52:10.851Z"
   },
   {
    "duration": 14,
    "start_time": "2022-04-14T12:52:11.060Z"
   },
   {
    "duration": 189,
    "start_time": "2022-04-14T12:52:11.076Z"
   },
   {
    "duration": 7,
    "start_time": "2022-04-14T12:52:11.267Z"
   },
   {
    "duration": 265,
    "start_time": "2022-04-14T12:52:11.276Z"
   },
   {
    "duration": 7,
    "start_time": "2022-04-14T12:52:11.543Z"
   },
   {
    "duration": 625,
    "start_time": "2022-04-14T12:52:11.551Z"
   },
   {
    "duration": 7,
    "start_time": "2022-04-14T12:52:12.178Z"
   },
   {
    "duration": 505,
    "start_time": "2022-04-14T12:52:12.187Z"
   },
   {
    "duration": 7,
    "start_time": "2022-04-14T12:52:12.694Z"
   },
   {
    "duration": 279,
    "start_time": "2022-04-14T12:52:12.703Z"
   },
   {
    "duration": 7,
    "start_time": "2022-04-14T12:52:12.984Z"
   },
   {
    "duration": 147,
    "start_time": "2022-04-14T12:52:12.993Z"
   },
   {
    "duration": 8,
    "start_time": "2022-04-14T12:52:13.142Z"
   },
   {
    "duration": 150,
    "start_time": "2022-04-14T12:52:13.151Z"
   },
   {
    "duration": 4,
    "start_time": "2022-04-14T12:52:13.303Z"
   },
   {
    "duration": 7,
    "start_time": "2022-04-14T12:52:13.309Z"
   },
   {
    "duration": 7,
    "start_time": "2022-04-14T12:52:13.318Z"
   },
   {
    "duration": 6,
    "start_time": "2022-04-14T12:52:13.326Z"
   },
   {
    "duration": 9,
    "start_time": "2022-04-14T12:52:13.334Z"
   },
   {
    "duration": 7,
    "start_time": "2022-04-14T12:52:13.344Z"
   },
   {
    "duration": 7,
    "start_time": "2022-04-14T12:52:48.272Z"
   },
   {
    "duration": 101,
    "start_time": "2022-04-14T12:52:49.737Z"
   },
   {
    "duration": 9,
    "start_time": "2022-04-14T12:52:55.992Z"
   },
   {
    "duration": 7,
    "start_time": "2022-04-14T12:53:00.831Z"
   },
   {
    "duration": 7,
    "start_time": "2022-04-14T13:02:59.514Z"
   },
   {
    "duration": 103,
    "start_time": "2022-04-14T13:03:01.230Z"
   },
   {
    "duration": 1235,
    "start_time": "2022-04-14T13:03:10.595Z"
   },
   {
    "duration": 14,
    "start_time": "2022-04-14T13:03:11.832Z"
   },
   {
    "duration": 9,
    "start_time": "2022-04-14T13:03:11.848Z"
   },
   {
    "duration": 25,
    "start_time": "2022-04-14T13:03:11.860Z"
   },
   {
    "duration": 16,
    "start_time": "2022-04-14T13:03:11.887Z"
   },
   {
    "duration": 15,
    "start_time": "2022-04-14T13:03:11.905Z"
   },
   {
    "duration": 18,
    "start_time": "2022-04-14T13:03:11.922Z"
   },
   {
    "duration": 45,
    "start_time": "2022-04-14T13:03:11.941Z"
   },
   {
    "duration": 12,
    "start_time": "2022-04-14T13:03:11.988Z"
   },
   {
    "duration": 19,
    "start_time": "2022-04-14T13:03:12.004Z"
   },
   {
    "duration": 11,
    "start_time": "2022-04-14T13:03:12.025Z"
   },
   {
    "duration": 38,
    "start_time": "2022-04-14T13:03:12.038Z"
   },
   {
    "duration": 16,
    "start_time": "2022-04-14T13:03:12.078Z"
   },
   {
    "duration": 17,
    "start_time": "2022-04-14T13:03:12.096Z"
   },
   {
    "duration": 26,
    "start_time": "2022-04-14T13:03:12.115Z"
   },
   {
    "duration": 7,
    "start_time": "2022-04-14T13:03:12.143Z"
   },
   {
    "duration": 22,
    "start_time": "2022-04-14T13:03:12.152Z"
   },
   {
    "duration": 7,
    "start_time": "2022-04-14T13:03:12.176Z"
   },
   {
    "duration": 153,
    "start_time": "2022-04-14T13:03:12.185Z"
   },
   {
    "duration": 8,
    "start_time": "2022-04-14T13:03:12.340Z"
   },
   {
    "duration": 228,
    "start_time": "2022-04-14T13:03:12.349Z"
   },
   {
    "duration": 26,
    "start_time": "2022-04-14T13:03:12.579Z"
   },
   {
    "duration": 6,
    "start_time": "2022-04-14T13:03:12.607Z"
   },
   {
    "duration": 232,
    "start_time": "2022-04-14T13:03:12.615Z"
   },
   {
    "duration": 160,
    "start_time": "2022-04-14T13:03:12.849Z"
   },
   {
    "duration": 252,
    "start_time": "2022-04-14T13:03:13.010Z"
   },
   {
    "duration": 37,
    "start_time": "2022-04-14T13:03:13.264Z"
   },
   {
    "duration": 19,
    "start_time": "2022-04-14T13:03:13.305Z"
   },
   {
    "duration": 701,
    "start_time": "2022-04-14T13:03:13.326Z"
   },
   {
    "duration": 10,
    "start_time": "2022-04-14T13:03:14.029Z"
   },
   {
    "duration": 17,
    "start_time": "2022-04-14T13:03:14.040Z"
   },
   {
    "duration": 24,
    "start_time": "2022-04-14T13:03:14.059Z"
   },
   {
    "duration": 548,
    "start_time": "2022-04-14T13:03:14.085Z"
   },
   {
    "duration": 10,
    "start_time": "2022-04-14T13:03:14.635Z"
   },
   {
    "duration": 13,
    "start_time": "2022-04-14T13:03:14.647Z"
   },
   {
    "duration": 198,
    "start_time": "2022-04-14T13:03:14.662Z"
   },
   {
    "duration": 15,
    "start_time": "2022-04-14T13:03:14.862Z"
   },
   {
    "duration": 214,
    "start_time": "2022-04-14T13:03:14.878Z"
   },
   {
    "duration": 7,
    "start_time": "2022-04-14T13:03:15.094Z"
   },
   {
    "duration": 209,
    "start_time": "2022-04-14T13:03:15.103Z"
   },
   {
    "duration": 8,
    "start_time": "2022-04-14T13:03:15.313Z"
   },
   {
    "duration": 197,
    "start_time": "2022-04-14T13:03:15.322Z"
   },
   {
    "duration": 7,
    "start_time": "2022-04-14T13:03:15.521Z"
   },
   {
    "duration": 258,
    "start_time": "2022-04-14T13:03:15.530Z"
   },
   {
    "duration": 8,
    "start_time": "2022-04-14T13:03:15.789Z"
   },
   {
    "duration": 609,
    "start_time": "2022-04-14T13:03:15.799Z"
   },
   {
    "duration": 8,
    "start_time": "2022-04-14T13:03:16.409Z"
   },
   {
    "duration": 503,
    "start_time": "2022-04-14T13:03:16.474Z"
   },
   {
    "duration": 7,
    "start_time": "2022-04-14T13:03:16.979Z"
   },
   {
    "duration": 218,
    "start_time": "2022-04-14T13:03:16.987Z"
   },
   {
    "duration": 7,
    "start_time": "2022-04-14T13:03:17.206Z"
   },
   {
    "duration": 183,
    "start_time": "2022-04-14T13:03:17.215Z"
   },
   {
    "duration": 6,
    "start_time": "2022-04-14T13:03:17.399Z"
   },
   {
    "duration": 119,
    "start_time": "2022-04-14T13:03:17.407Z"
   },
   {
    "duration": 5,
    "start_time": "2022-04-14T13:03:17.528Z"
   },
   {
    "duration": 10,
    "start_time": "2022-04-14T13:03:17.535Z"
   },
   {
    "duration": 8,
    "start_time": "2022-04-14T13:03:17.546Z"
   },
   {
    "duration": 18,
    "start_time": "2022-04-14T13:03:17.556Z"
   },
   {
    "duration": 5,
    "start_time": "2022-04-14T13:03:17.576Z"
   },
   {
    "duration": 10,
    "start_time": "2022-04-14T13:03:17.582Z"
   },
   {
    "duration": 106,
    "start_time": "2022-04-14T13:08:23.797Z"
   },
   {
    "duration": 1226,
    "start_time": "2022-04-14T13:11:25.885Z"
   },
   {
    "duration": 14,
    "start_time": "2022-04-14T13:11:27.113Z"
   },
   {
    "duration": 9,
    "start_time": "2022-04-14T13:11:27.129Z"
   },
   {
    "duration": 16,
    "start_time": "2022-04-14T13:11:27.140Z"
   },
   {
    "duration": 15,
    "start_time": "2022-04-14T13:11:27.173Z"
   },
   {
    "duration": 27,
    "start_time": "2022-04-14T13:11:27.189Z"
   },
   {
    "duration": 20,
    "start_time": "2022-04-14T13:11:27.217Z"
   },
   {
    "duration": 38,
    "start_time": "2022-04-14T13:11:27.238Z"
   },
   {
    "duration": 26,
    "start_time": "2022-04-14T13:11:27.277Z"
   },
   {
    "duration": 25,
    "start_time": "2022-04-14T13:11:27.306Z"
   },
   {
    "duration": 13,
    "start_time": "2022-04-14T13:11:27.333Z"
   },
   {
    "duration": 14,
    "start_time": "2022-04-14T13:11:27.347Z"
   },
   {
    "duration": 35,
    "start_time": "2022-04-14T13:11:27.362Z"
   },
   {
    "duration": 4,
    "start_time": "2022-04-14T13:11:27.399Z"
   },
   {
    "duration": 42,
    "start_time": "2022-04-14T13:11:27.405Z"
   },
   {
    "duration": 8,
    "start_time": "2022-04-14T13:11:27.448Z"
   },
   {
    "duration": 7,
    "start_time": "2022-04-14T13:11:27.457Z"
   },
   {
    "duration": 30,
    "start_time": "2022-04-14T13:11:27.465Z"
   },
   {
    "duration": 151,
    "start_time": "2022-04-14T13:11:27.496Z"
   },
   {
    "duration": 10,
    "start_time": "2022-04-14T13:11:27.648Z"
   },
   {
    "duration": 222,
    "start_time": "2022-04-14T13:11:27.659Z"
   },
   {
    "duration": 24,
    "start_time": "2022-04-14T13:11:27.883Z"
   },
   {
    "duration": 7,
    "start_time": "2022-04-14T13:11:27.908Z"
   },
   {
    "duration": 226,
    "start_time": "2022-04-14T13:11:27.917Z"
   },
   {
    "duration": 170,
    "start_time": "2022-04-14T13:11:28.144Z"
   },
   {
    "duration": 259,
    "start_time": "2022-04-14T13:11:28.316Z"
   },
   {
    "duration": 30,
    "start_time": "2022-04-14T13:11:28.577Z"
   },
   {
    "duration": 19,
    "start_time": "2022-04-14T13:11:28.611Z"
   },
   {
    "duration": 710,
    "start_time": "2022-04-14T13:11:28.631Z"
   },
   {
    "duration": 9,
    "start_time": "2022-04-14T13:11:29.343Z"
   },
   {
    "duration": 24,
    "start_time": "2022-04-14T13:11:29.354Z"
   },
   {
    "duration": 16,
    "start_time": "2022-04-14T13:11:29.379Z"
   },
   {
    "duration": 566,
    "start_time": "2022-04-14T13:11:29.397Z"
   },
   {
    "duration": 16,
    "start_time": "2022-04-14T13:11:29.964Z"
   },
   {
    "duration": 15,
    "start_time": "2022-04-14T13:11:29.981Z"
   },
   {
    "duration": 210,
    "start_time": "2022-04-14T13:11:29.998Z"
   },
   {
    "duration": 8,
    "start_time": "2022-04-14T13:11:30.209Z"
   },
   {
    "duration": 220,
    "start_time": "2022-04-14T13:11:30.219Z"
   },
   {
    "duration": 8,
    "start_time": "2022-04-14T13:11:30.441Z"
   },
   {
    "duration": 228,
    "start_time": "2022-04-14T13:11:30.450Z"
   },
   {
    "duration": 8,
    "start_time": "2022-04-14T13:11:30.679Z"
   },
   {
    "duration": 218,
    "start_time": "2022-04-14T13:11:30.689Z"
   },
   {
    "duration": 7,
    "start_time": "2022-04-14T13:11:30.909Z"
   },
   {
    "duration": 278,
    "start_time": "2022-04-14T13:11:30.918Z"
   },
   {
    "duration": 8,
    "start_time": "2022-04-14T13:11:31.197Z"
   },
   {
    "duration": 369,
    "start_time": "2022-04-14T13:11:31.206Z"
   },
   {
    "duration": 8,
    "start_time": "2022-04-14T13:11:31.577Z"
   },
   {
    "duration": 260,
    "start_time": "2022-04-14T13:11:31.587Z"
   },
   {
    "duration": 8,
    "start_time": "2022-04-14T13:11:31.849Z"
   },
   {
    "duration": 132,
    "start_time": "2022-04-14T13:11:31.858Z"
   },
   {
    "duration": 7,
    "start_time": "2022-04-14T13:11:31.992Z"
   },
   {
    "duration": 119,
    "start_time": "2022-04-14T13:11:32.001Z"
   },
   {
    "duration": 8,
    "start_time": "2022-04-14T13:11:32.122Z"
   },
   {
    "duration": 128,
    "start_time": "2022-04-14T13:11:32.132Z"
   },
   {
    "duration": 6,
    "start_time": "2022-04-14T13:11:32.261Z"
   },
   {
    "duration": 21,
    "start_time": "2022-04-14T13:11:32.268Z"
   },
   {
    "duration": 30,
    "start_time": "2022-04-14T13:11:32.290Z"
   },
   {
    "duration": 13,
    "start_time": "2022-04-14T13:11:32.322Z"
   },
   {
    "duration": 33,
    "start_time": "2022-04-14T13:11:32.337Z"
   },
   {
    "duration": 21,
    "start_time": "2022-04-14T13:11:32.372Z"
   },
   {
    "duration": 70,
    "start_time": "2022-05-07T13:51:15.445Z"
   },
   {
    "duration": 1611,
    "start_time": "2022-05-07T13:51:26.425Z"
   },
   {
    "duration": 21,
    "start_time": "2022-05-07T13:51:28.039Z"
   },
   {
    "duration": 14,
    "start_time": "2022-05-07T13:51:28.063Z"
   },
   {
    "duration": 50,
    "start_time": "2022-05-07T13:51:28.080Z"
   },
   {
    "duration": 21,
    "start_time": "2022-05-07T13:51:28.132Z"
   },
   {
    "duration": 22,
    "start_time": "2022-05-07T13:51:28.155Z"
   },
   {
    "duration": 57,
    "start_time": "2022-05-07T13:51:28.179Z"
   },
   {
    "duration": 21,
    "start_time": "2022-05-07T13:51:28.238Z"
   },
   {
    "duration": 16,
    "start_time": "2022-05-07T13:51:28.261Z"
   },
   {
    "duration": 54,
    "start_time": "2022-05-07T13:51:28.281Z"
   },
   {
    "duration": 13,
    "start_time": "2022-05-07T13:51:28.337Z"
   },
   {
    "duration": 8,
    "start_time": "2022-05-07T13:51:28.352Z"
   },
   {
    "duration": 26,
    "start_time": "2022-05-07T13:51:28.362Z"
   },
   {
    "duration": 6,
    "start_time": "2022-05-07T13:51:28.424Z"
   },
   {
    "duration": 30,
    "start_time": "2022-05-07T13:51:28.432Z"
   },
   {
    "duration": 11,
    "start_time": "2022-05-07T13:51:28.464Z"
   },
   {
    "duration": 11,
    "start_time": "2022-05-07T13:51:28.477Z"
   },
   {
    "duration": 10,
    "start_time": "2022-05-07T13:51:28.525Z"
   },
   {
    "duration": 259,
    "start_time": "2022-05-07T13:51:28.537Z"
   },
   {
    "duration": 12,
    "start_time": "2022-05-07T13:51:28.798Z"
   },
   {
    "duration": 358,
    "start_time": "2022-05-07T13:51:28.825Z"
   },
   {
    "duration": 56,
    "start_time": "2022-05-07T13:51:29.185Z"
   },
   {
    "duration": 13,
    "start_time": "2022-05-07T13:51:29.243Z"
   },
   {
    "duration": 430,
    "start_time": "2022-05-07T13:51:29.259Z"
   },
   {
    "duration": 316,
    "start_time": "2022-05-07T13:51:29.691Z"
   },
   {
    "duration": 472,
    "start_time": "2022-05-07T13:51:30.010Z"
   },
   {
    "duration": 19,
    "start_time": "2022-05-07T13:51:30.485Z"
   },
   {
    "duration": 55,
    "start_time": "2022-05-07T13:51:30.527Z"
   },
   {
    "duration": 53,
    "start_time": "2022-05-07T13:51:30.584Z"
   },
   {
    "duration": 1249,
    "start_time": "2022-05-07T13:51:30.640Z"
   },
   {
    "duration": 14,
    "start_time": "2022-05-07T13:51:31.892Z"
   },
   {
    "duration": 18,
    "start_time": "2022-05-07T13:51:31.925Z"
   },
   {
    "duration": 31,
    "start_time": "2022-05-07T13:51:31.946Z"
   },
   {
    "duration": 1069,
    "start_time": "2022-05-07T13:51:31.980Z"
   },
   {
    "duration": 15,
    "start_time": "2022-05-07T13:51:33.052Z"
   },
   {
    "duration": 17,
    "start_time": "2022-05-07T13:51:33.069Z"
   },
   {
    "duration": 372,
    "start_time": "2022-05-07T13:51:33.089Z"
   },
   {
    "duration": 11,
    "start_time": "2022-05-07T13:51:33.463Z"
   },
   {
    "duration": 368,
    "start_time": "2022-05-07T13:51:33.477Z"
   },
   {
    "duration": 12,
    "start_time": "2022-05-07T13:51:33.848Z"
   },
   {
    "duration": 400,
    "start_time": "2022-05-07T13:51:33.863Z"
   },
   {
    "duration": 16,
    "start_time": "2022-05-07T13:51:34.266Z"
   },
   {
    "duration": 526,
    "start_time": "2022-05-07T13:51:34.285Z"
   },
   {
    "duration": 16,
    "start_time": "2022-05-07T13:51:34.814Z"
   },
   {
    "duration": 466,
    "start_time": "2022-05-07T13:51:34.833Z"
   },
   {
    "duration": 25,
    "start_time": "2022-05-07T13:51:35.301Z"
   },
   {
    "duration": 553,
    "start_time": "2022-05-07T13:51:35.329Z"
   },
   {
    "duration": 10,
    "start_time": "2022-05-07T13:51:35.884Z"
   },
   {
    "duration": 459,
    "start_time": "2022-05-07T13:51:35.897Z"
   },
   {
    "duration": 11,
    "start_time": "2022-05-07T13:51:36.358Z"
   },
   {
    "duration": 219,
    "start_time": "2022-05-07T13:51:36.371Z"
   },
   {
    "duration": 11,
    "start_time": "2022-05-07T13:51:36.593Z"
   },
   {
    "duration": 197,
    "start_time": "2022-05-07T13:51:36.625Z"
   },
   {
    "duration": 9,
    "start_time": "2022-05-07T13:51:36.825Z"
   },
   {
    "duration": 531,
    "start_time": "2022-05-07T13:51:36.836Z"
   },
   {
    "duration": 7,
    "start_time": "2022-05-07T13:51:37.369Z"
   },
   {
    "duration": 15,
    "start_time": "2022-05-07T13:51:37.378Z"
   },
   {
    "duration": 10,
    "start_time": "2022-05-07T13:51:37.396Z"
   },
   {
    "duration": 8,
    "start_time": "2022-05-07T13:51:37.426Z"
   },
   {
    "duration": 12,
    "start_time": "2022-05-07T13:51:37.436Z"
   },
   {
    "duration": 17,
    "start_time": "2022-05-07T13:51:37.450Z"
   },
   {
    "duration": 1517,
    "start_time": "2022-06-27T13:36:52.114Z"
   },
   {
    "duration": 15,
    "start_time": "2022-06-27T13:36:53.633Z"
   },
   {
    "duration": 15,
    "start_time": "2022-06-27T13:36:53.649Z"
   },
   {
    "duration": 16,
    "start_time": "2022-06-27T13:36:53.666Z"
   },
   {
    "duration": 42,
    "start_time": "2022-06-27T13:36:53.684Z"
   },
   {
    "duration": 17,
    "start_time": "2022-06-27T13:36:53.728Z"
   },
   {
    "duration": 19,
    "start_time": "2022-06-27T13:36:53.747Z"
   },
   {
    "duration": 16,
    "start_time": "2022-06-27T13:36:53.767Z"
   },
   {
    "duration": 42,
    "start_time": "2022-06-27T13:36:53.785Z"
   },
   {
    "duration": 17,
    "start_time": "2022-06-27T13:36:53.830Z"
   },
   {
    "duration": 17,
    "start_time": "2022-06-27T13:36:53.848Z"
   },
   {
    "duration": 5,
    "start_time": "2022-06-27T13:36:53.867Z"
   },
   {
    "duration": 21,
    "start_time": "2022-06-27T13:36:53.874Z"
   },
   {
    "duration": 5,
    "start_time": "2022-06-27T13:36:53.897Z"
   },
   {
    "duration": 39,
    "start_time": "2022-06-27T13:36:53.903Z"
   },
   {
    "duration": 7,
    "start_time": "2022-06-27T13:36:53.944Z"
   },
   {
    "duration": 20,
    "start_time": "2022-06-27T13:36:53.952Z"
   },
   {
    "duration": 160,
    "start_time": "2022-06-27T13:36:53.973Z"
   },
   {
    "duration": 9,
    "start_time": "2022-06-27T13:36:54.135Z"
   },
   {
    "duration": 279,
    "start_time": "2022-06-27T13:36:54.146Z"
   },
   {
    "duration": 35,
    "start_time": "2022-06-27T13:36:54.427Z"
   },
   {
    "duration": 24,
    "start_time": "2022-06-27T13:36:54.464Z"
   },
   {
    "duration": 333,
    "start_time": "2022-06-27T13:36:54.490Z"
   },
   {
    "duration": 187,
    "start_time": "2022-06-27T13:36:54.827Z"
   },
   {
    "duration": 276,
    "start_time": "2022-06-27T13:36:55.016Z"
   },
   {
    "duration": 13,
    "start_time": "2022-06-27T13:36:55.294Z"
   },
   {
    "duration": 46,
    "start_time": "2022-06-27T13:36:55.309Z"
   },
   {
    "duration": 20,
    "start_time": "2022-06-27T13:36:55.359Z"
   },
   {
    "duration": 777,
    "start_time": "2022-06-27T13:36:55.381Z"
   },
   {
    "duration": 10,
    "start_time": "2022-06-27T13:36:56.160Z"
   },
   {
    "duration": 14,
    "start_time": "2022-06-27T13:36:56.171Z"
   },
   {
    "duration": 21,
    "start_time": "2022-06-27T13:36:56.186Z"
   },
   {
    "duration": 649,
    "start_time": "2022-06-27T13:36:56.209Z"
   },
   {
    "duration": 11,
    "start_time": "2022-06-27T13:36:56.860Z"
   },
   {
    "duration": 19,
    "start_time": "2022-06-27T13:36:56.872Z"
   },
   {
    "duration": 222,
    "start_time": "2022-06-27T13:36:56.893Z"
   },
   {
    "duration": 15,
    "start_time": "2022-06-27T13:36:57.117Z"
   },
   {
    "duration": 229,
    "start_time": "2022-06-27T13:36:57.133Z"
   },
   {
    "duration": 8,
    "start_time": "2022-06-27T13:36:57.364Z"
   },
   {
    "duration": 223,
    "start_time": "2022-06-27T13:36:57.373Z"
   },
   {
    "duration": 8,
    "start_time": "2022-06-27T13:36:57.597Z"
   },
   {
    "duration": 221,
    "start_time": "2022-06-27T13:36:57.607Z"
   },
   {
    "duration": 7,
    "start_time": "2022-06-27T13:36:57.830Z"
   },
   {
    "duration": 275,
    "start_time": "2022-06-27T13:36:57.838Z"
   },
   {
    "duration": 13,
    "start_time": "2022-06-27T13:36:58.114Z"
   },
   {
    "duration": 382,
    "start_time": "2022-06-27T13:36:58.128Z"
   },
   {
    "duration": 14,
    "start_time": "2022-06-27T13:36:58.512Z"
   },
   {
    "duration": 281,
    "start_time": "2022-06-27T13:36:58.528Z"
   },
   {
    "duration": 15,
    "start_time": "2022-06-27T13:36:58.811Z"
   },
   {
    "duration": 125,
    "start_time": "2022-06-27T13:36:58.827Z"
   },
   {
    "duration": 8,
    "start_time": "2022-06-27T13:36:58.954Z"
   },
   {
    "duration": 120,
    "start_time": "2022-06-27T13:36:58.963Z"
   },
   {
    "duration": 8,
    "start_time": "2022-06-27T13:36:59.085Z"
   },
   {
    "duration": 118,
    "start_time": "2022-06-27T13:36:59.095Z"
   },
   {
    "duration": 6,
    "start_time": "2022-06-27T13:36:59.225Z"
   },
   {
    "duration": 15,
    "start_time": "2022-06-27T13:36:59.232Z"
   },
   {
    "duration": 23,
    "start_time": "2022-06-27T13:36:59.249Z"
   },
   {
    "duration": 20,
    "start_time": "2022-06-27T13:36:59.273Z"
   },
   {
    "duration": 11,
    "start_time": "2022-06-27T13:36:59.295Z"
   },
   {
    "duration": 19,
    "start_time": "2022-06-27T13:36:59.307Z"
   }
  ],
  "kernelspec": {
   "display_name": "Python 3 (ipykernel)",
   "language": "python",
   "name": "python3"
  },
  "language_info": {
   "codemirror_mode": {
    "name": "ipython",
    "version": 3
   },
   "file_extension": ".py",
   "mimetype": "text/x-python",
   "name": "python",
   "nbconvert_exporter": "python",
   "pygments_lexer": "ipython3",
   "version": "3.9.5"
  },
  "toc": {
   "base_numbering": 1,
   "nav_menu": {},
   "number_sections": true,
   "sideBar": true,
   "skip_h1_title": true,
   "title_cell": "Table of Contents",
   "title_sidebar": "Contents",
   "toc_cell": false,
   "toc_position": {
    "height": "calc(100% - 180px)",
    "left": "10px",
    "top": "150px",
    "width": "255.594px"
   },
   "toc_section_display": true,
   "toc_window_display": false
  }
 },
 "nbformat": 4,
 "nbformat_minor": 2
}
