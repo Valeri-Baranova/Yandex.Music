{
 "cells": [
  {
   "cell_type": "markdown",
   "metadata": {},
   "source": [
    "# Определение перспективного тарифа для телеком-компании\n",
    "\n",
    "Предварительный анализ тарифов на небольшой выборке клиентов. В распоряжении данные 500 пользователей «Мегалайна»: кто они, откуда, каким тарифом пользуются, сколько звонков и сообщений каждый отправил за 2018 год. Нужно проанализировать поведение клиентов и сделать вывод — какой тариф лучше.\n",
    "\n",
    "**Описание данных**\n",
    "\n",
    "Таблица users (информация о пользователях):\n",
    "\n",
    "- user_id — уникальный идентификатор пользователя\n",
    "- first_name — имя пользователя\n",
    "- last_name — фамилия пользователя\n",
    "- age — возраст пользователя (годы)\n",
    "- reg_date — дата подключения тарифа (день, месяц, год)\n",
    "- churn_date — дата прекращения пользования тарифом (если значение пропущено, то тариф ещё действовал на момент выгрузки данных)\n",
    "- city — город проживания пользователя\n",
    "- tariff — название тарифного плана\n",
    "\n",
    "Таблица calls (информация о звонках):\n",
    "\n",
    "- id — уникальный номер звонка\n",
    "- call_date — дата звонка\n",
    "- duration — длительность звонка в минутах\n",
    "- user_id — идентификатор пользователя, сделавшего звонок\n",
    "\n",
    "Таблица messages (информация о сообщениях):\n",
    "\n",
    "- id — уникальный номер сообщения\n",
    "- message_date — дата сообщения\n",
    "- user_id — идентификатор пользователя, отправившего сообщение\n",
    "\n",
    "Таблица internet (информация об интернет-сессиях):\n",
    "\n",
    "- id — уникальный номер сессии\n",
    "- mb_used — объём потраченного за сессию интернет-трафика (в мегабайтах)\n",
    "- session_date — дата интернет-сессии\n",
    "- user_id — идентификатор пользователя\n",
    "\n",
    "Таблица tariffs (информация о тарифах):\n",
    "\n",
    "- tariff_name — название тарифа\n",
    "- rub_monthly_fee — ежемесячная абонентская плата в рублях\n",
    "- minutes_included — количество минут разговора в месяц, включённых в абонентскую плату\n",
    "- messages_included — количество сообщений в месяц, включённых в абонентскую плату\n",
    "- mb_per_month_included — объём интернет-трафика, включённого в абонентскую плату (в мегабайтах)\n",
    "- rub_per_minute — стоимость минуты разговора сверх тарифного пакета (например, если в тарифе 100 минут разговора в месяц, то со 101 минуты будет взиматься плата)\n",
    "- rub_per_message — стоимость отправки сообщения сверх тарифного пакета\n",
    "- rub_per_gb — стоимость дополнительного гигабайта интернет-трафика сверх тарифного пакета (1 гигабайт = 1024 мегабайта)"
   ]
  },
  {
   "cell_type": "markdown",
   "metadata": {},
   "source": [
    "## Изучение данных из файла"
   ]
  },
  {
   "cell_type": "code",
   "execution_count": 1,
   "metadata": {},
   "outputs": [],
   "source": [
    "import pandas as pd\n",
    "import numpy as np\n",
    "import warnings\n",
    "import matplotlib.pyplot as plt\n",
    "warnings.filterwarnings(\"ignore\")\n",
    "from scipy import stats as st"
   ]
  },
  {
   "cell_type": "markdown",
   "metadata": {},
   "source": [
    "### Изучим данные таблицы calls (информация о звонках):"
   ]
  },
  {
   "cell_type": "code",
   "execution_count": 2,
   "metadata": {},
   "outputs": [
    {
     "data": {
      "text/html": [
       "<div>\n",
       "<style scoped>\n",
       "    .dataframe tbody tr th:only-of-type {\n",
       "        vertical-align: middle;\n",
       "    }\n",
       "\n",
       "    .dataframe tbody tr th {\n",
       "        vertical-align: top;\n",
       "    }\n",
       "\n",
       "    .dataframe thead th {\n",
       "        text-align: right;\n",
       "    }\n",
       "</style>\n",
       "<table border=\"1\" class=\"dataframe\">\n",
       "  <thead>\n",
       "    <tr style=\"text-align: right;\">\n",
       "      <th></th>\n",
       "      <th>id</th>\n",
       "      <th>call_date</th>\n",
       "      <th>duration</th>\n",
       "      <th>user_id</th>\n",
       "    </tr>\n",
       "  </thead>\n",
       "  <tbody>\n",
       "    <tr>\n",
       "      <th>0</th>\n",
       "      <td>1000_0</td>\n",
       "      <td>2018-07-25</td>\n",
       "      <td>0.00</td>\n",
       "      <td>1000</td>\n",
       "    </tr>\n",
       "    <tr>\n",
       "      <th>1</th>\n",
       "      <td>1000_1</td>\n",
       "      <td>2018-08-17</td>\n",
       "      <td>0.00</td>\n",
       "      <td>1000</td>\n",
       "    </tr>\n",
       "    <tr>\n",
       "      <th>2</th>\n",
       "      <td>1000_2</td>\n",
       "      <td>2018-06-11</td>\n",
       "      <td>2.85</td>\n",
       "      <td>1000</td>\n",
       "    </tr>\n",
       "    <tr>\n",
       "      <th>3</th>\n",
       "      <td>1000_3</td>\n",
       "      <td>2018-09-21</td>\n",
       "      <td>13.80</td>\n",
       "      <td>1000</td>\n",
       "    </tr>\n",
       "    <tr>\n",
       "      <th>4</th>\n",
       "      <td>1000_4</td>\n",
       "      <td>2018-12-15</td>\n",
       "      <td>5.18</td>\n",
       "      <td>1000</td>\n",
       "    </tr>\n",
       "    <tr>\n",
       "      <th>5</th>\n",
       "      <td>1000_5</td>\n",
       "      <td>2018-11-02</td>\n",
       "      <td>0.00</td>\n",
       "      <td>1000</td>\n",
       "    </tr>\n",
       "    <tr>\n",
       "      <th>6</th>\n",
       "      <td>1000_6</td>\n",
       "      <td>2018-10-18</td>\n",
       "      <td>0.00</td>\n",
       "      <td>1000</td>\n",
       "    </tr>\n",
       "    <tr>\n",
       "      <th>7</th>\n",
       "      <td>1000_7</td>\n",
       "      <td>2018-08-22</td>\n",
       "      <td>18.31</td>\n",
       "      <td>1000</td>\n",
       "    </tr>\n",
       "    <tr>\n",
       "      <th>8</th>\n",
       "      <td>1000_8</td>\n",
       "      <td>2018-09-15</td>\n",
       "      <td>18.44</td>\n",
       "      <td>1000</td>\n",
       "    </tr>\n",
       "    <tr>\n",
       "      <th>9</th>\n",
       "      <td>1000_9</td>\n",
       "      <td>2018-08-15</td>\n",
       "      <td>0.00</td>\n",
       "      <td>1000</td>\n",
       "    </tr>\n",
       "  </tbody>\n",
       "</table>\n",
       "</div>"
      ],
      "text/plain": [
       "       id   call_date  duration  user_id\n",
       "0  1000_0  2018-07-25      0.00     1000\n",
       "1  1000_1  2018-08-17      0.00     1000\n",
       "2  1000_2  2018-06-11      2.85     1000\n",
       "3  1000_3  2018-09-21     13.80     1000\n",
       "4  1000_4  2018-12-15      5.18     1000\n",
       "5  1000_5  2018-11-02      0.00     1000\n",
       "6  1000_6  2018-10-18      0.00     1000\n",
       "7  1000_7  2018-08-22     18.31     1000\n",
       "8  1000_8  2018-09-15     18.44     1000\n",
       "9  1000_9  2018-08-15      0.00     1000"
      ]
     },
     "execution_count": 2,
     "metadata": {},
     "output_type": "execute_result"
    }
   ],
   "source": []
  },
  {
   "cell_type": "code",
   "execution_count": 3,
   "metadata": {},
   "outputs": [
    {
     "name": "stdout",
     "output_type": "stream",
     "text": [
      "<class 'pandas.core.frame.DataFrame'>\n",
      "RangeIndex: 202607 entries, 0 to 202606\n",
      "Data columns (total 4 columns):\n",
      " #   Column     Non-Null Count   Dtype  \n",
      "---  ------     --------------   -----  \n",
      " 0   id         202607 non-null  object \n",
      " 1   call_date  202607 non-null  object \n",
      " 2   duration   202607 non-null  float64\n",
      " 3   user_id    202607 non-null  int64  \n",
      "dtypes: float64(1), int64(1), object(2)\n",
      "memory usage: 4.6+ MB\n"
     ]
    }
   ],
   "source": [
    "df_calls.info() # получаем общие сведения"
   ]
  },
  {
   "cell_type": "code",
   "execution_count": 4,
   "metadata": {},
   "outputs": [
    {
     "data": {
      "text/plain": [
       "0   2018-07-25\n",
       "1   2018-08-17\n",
       "2   2018-06-11\n",
       "3   2018-09-21\n",
       "4   2018-12-15\n",
       "Name: call_date, dtype: datetime64[ns]"
      ]
     },
     "execution_count": 4,
     "metadata": {},
     "output_type": "execute_result"
    }
   ],
   "source": [
    "df_calls['call_date'] = pd.to_datetime(df_calls['call_date'], format='%Y-%m-%dT%H:%M:%S')\n",
    "df_calls['call_date'].head()"
   ]
  },
  {
   "cell_type": "code",
   "execution_count": 5,
   "metadata": {},
   "outputs": [
    {
     "data": {
      "text/plain": [
       "0.00     39613\n",
       "4.49       142\n",
       "5.50       142\n",
       "6.15       141\n",
       "6.38       141\n",
       "         ...  \n",
       "26.94        1\n",
       "32.19        1\n",
       "26.32        1\n",
       "27.41        1\n",
       "26.90        1\n",
       "Name: duration, Length: 2871, dtype: int64"
      ]
     },
     "execution_count": 5,
     "metadata": {},
     "output_type": "execute_result"
    }
   ],
   "source": [
    "df_calls['duration'].value_counts()"
   ]
  },
  {
   "cell_type": "code",
   "execution_count": 6,
   "metadata": {},
   "outputs": [
    {
     "data": {
      "text/plain": [
       "0"
      ]
     },
     "execution_count": 6,
     "metadata": {},
     "output_type": "execute_result"
    }
   ],
   "source": [
    "df_calls.duplicated().sum() # проверяем наличие дубликатов"
   ]
  },
  {
   "cell_type": "markdown",
   "metadata": {},
   "source": [
    "В таблице calls нет дубликатов и пропусков, но есть звонки длительность 0 минут и их доля мала(окло 3%), что нормально. Это объясняется наличем пропущенных звонков."
   ]
  },
  {
   "cell_type": "markdown",
   "metadata": {},
   "source": [
    "### Изучим таблицу internet (информация об интернет-сессиях):"
   ]
  },
  {
   "cell_type": "code",
   "execution_count": 7,
   "metadata": {},
   "outputs": [
    {
     "data": {
      "text/html": [
       "<div>\n",
       "<style scoped>\n",
       "    .dataframe tbody tr th:only-of-type {\n",
       "        vertical-align: middle;\n",
       "    }\n",
       "\n",
       "    .dataframe tbody tr th {\n",
       "        vertical-align: top;\n",
       "    }\n",
       "\n",
       "    .dataframe thead th {\n",
       "        text-align: right;\n",
       "    }\n",
       "</style>\n",
       "<table border=\"1\" class=\"dataframe\">\n",
       "  <thead>\n",
       "    <tr style=\"text-align: right;\">\n",
       "      <th></th>\n",
       "      <th>Unnamed: 0</th>\n",
       "      <th>id</th>\n",
       "      <th>mb_used</th>\n",
       "      <th>session_date</th>\n",
       "      <th>user_id</th>\n",
       "    </tr>\n",
       "  </thead>\n",
       "  <tbody>\n",
       "    <tr>\n",
       "      <th>0</th>\n",
       "      <td>0</td>\n",
       "      <td>1000_0</td>\n",
       "      <td>112.95</td>\n",
       "      <td>2018-11-25</td>\n",
       "      <td>1000</td>\n",
       "    </tr>\n",
       "    <tr>\n",
       "      <th>1</th>\n",
       "      <td>1</td>\n",
       "      <td>1000_1</td>\n",
       "      <td>1052.81</td>\n",
       "      <td>2018-09-07</td>\n",
       "      <td>1000</td>\n",
       "    </tr>\n",
       "    <tr>\n",
       "      <th>2</th>\n",
       "      <td>2</td>\n",
       "      <td>1000_2</td>\n",
       "      <td>1197.26</td>\n",
       "      <td>2018-06-25</td>\n",
       "      <td>1000</td>\n",
       "    </tr>\n",
       "    <tr>\n",
       "      <th>3</th>\n",
       "      <td>3</td>\n",
       "      <td>1000_3</td>\n",
       "      <td>550.27</td>\n",
       "      <td>2018-08-22</td>\n",
       "      <td>1000</td>\n",
       "    </tr>\n",
       "    <tr>\n",
       "      <th>4</th>\n",
       "      <td>4</td>\n",
       "      <td>1000_4</td>\n",
       "      <td>302.56</td>\n",
       "      <td>2018-09-24</td>\n",
       "      <td>1000</td>\n",
       "    </tr>\n",
       "    <tr>\n",
       "      <th>5</th>\n",
       "      <td>5</td>\n",
       "      <td>1000_5</td>\n",
       "      <td>399.97</td>\n",
       "      <td>2018-10-02</td>\n",
       "      <td>1000</td>\n",
       "    </tr>\n",
       "    <tr>\n",
       "      <th>6</th>\n",
       "      <td>6</td>\n",
       "      <td>1000_6</td>\n",
       "      <td>540.08</td>\n",
       "      <td>2018-09-07</td>\n",
       "      <td>1000</td>\n",
       "    </tr>\n",
       "    <tr>\n",
       "      <th>7</th>\n",
       "      <td>7</td>\n",
       "      <td>1000_7</td>\n",
       "      <td>415.70</td>\n",
       "      <td>2018-07-11</td>\n",
       "      <td>1000</td>\n",
       "    </tr>\n",
       "    <tr>\n",
       "      <th>8</th>\n",
       "      <td>8</td>\n",
       "      <td>1000_8</td>\n",
       "      <td>505.40</td>\n",
       "      <td>2018-10-08</td>\n",
       "      <td>1000</td>\n",
       "    </tr>\n",
       "    <tr>\n",
       "      <th>9</th>\n",
       "      <td>9</td>\n",
       "      <td>1000_9</td>\n",
       "      <td>345.54</td>\n",
       "      <td>2018-09-03</td>\n",
       "      <td>1000</td>\n",
       "    </tr>\n",
       "  </tbody>\n",
       "</table>\n",
       "</div>"
      ],
      "text/plain": [
       "   Unnamed: 0      id  mb_used session_date  user_id\n",
       "0           0  1000_0   112.95   2018-11-25     1000\n",
       "1           1  1000_1  1052.81   2018-09-07     1000\n",
       "2           2  1000_2  1197.26   2018-06-25     1000\n",
       "3           3  1000_3   550.27   2018-08-22     1000\n",
       "4           4  1000_4   302.56   2018-09-24     1000\n",
       "5           5  1000_5   399.97   2018-10-02     1000\n",
       "6           6  1000_6   540.08   2018-09-07     1000\n",
       "7           7  1000_7   415.70   2018-07-11     1000\n",
       "8           8  1000_8   505.40   2018-10-08     1000\n",
       "9           9  1000_9   345.54   2018-09-03     1000"
      ]
     },
     "execution_count": 7,
     "metadata": {},
     "output_type": "execute_result"
    }
   ],
   "source": [
    "df_internet = pd.read_csv('C://Users//valer//Портфолио//internet.csv')\n",
    "df_internet.head(10)"
   ]
  },
  {
   "cell_type": "code",
   "execution_count": 8,
   "metadata": {},
   "outputs": [
    {
     "name": "stdout",
     "output_type": "stream",
     "text": [
      "<class 'pandas.core.frame.DataFrame'>\n",
      "RangeIndex: 149396 entries, 0 to 149395\n",
      "Data columns (total 5 columns):\n",
      " #   Column        Non-Null Count   Dtype  \n",
      "---  ------        --------------   -----  \n",
      " 0   Unnamed: 0    149396 non-null  int64  \n",
      " 1   id            149396 non-null  object \n",
      " 2   mb_used       149396 non-null  float64\n",
      " 3   session_date  149396 non-null  object \n",
      " 4   user_id       149396 non-null  int64  \n",
      "dtypes: float64(1), int64(2), object(2)\n",
      "memory usage: 4.6+ MB\n"
     ]
    }
   ],
   "source": [
    "df_internet.info()"
   ]
  },
  {
   "cell_type": "code",
   "execution_count": 9,
   "metadata": {},
   "outputs": [
    {
     "data": {
      "text/plain": [
       "0   2018-11-25\n",
       "1   2018-09-07\n",
       "2   2018-06-25\n",
       "3   2018-08-22\n",
       "4   2018-09-24\n",
       "Name: session_date, dtype: datetime64[ns]"
      ]
     },
     "execution_count": 9,
     "metadata": {},
     "output_type": "execute_result"
    }
   ],
   "source": [
    "df_internet['session_date'] = pd.to_datetime(df_internet['session_date'], format='%Y-%m-%dT%H:%M:%S')\n",
    "df_internet['session_date'].head()"
   ]
  },
  {
   "cell_type": "code",
   "execution_count": 10,
   "metadata": {},
   "outputs": [
    {
     "data": {
      "text/plain": [
       "0"
      ]
     },
     "execution_count": 10,
     "metadata": {},
     "output_type": "execute_result"
    }
   ],
   "source": [
    "df_internet.duplicated().sum() # проверяем наличие дубликатов"
   ]
  },
  {
   "cell_type": "code",
   "execution_count": 11,
   "metadata": {},
   "outputs": [
    {
     "data": {
      "text/plain": [
       "0.00      19598\n",
       "335.91        9\n",
       "447.30        9\n",
       "197.56        9\n",
       "199.11        8\n",
       "          ...  \n",
       "643.43        1\n",
       "973.04        1\n",
       "834.51        1\n",
       "777.30        1\n",
       "23.72         1\n",
       "Name: mb_used, Length: 70003, dtype: int64"
      ]
     },
     "execution_count": 11,
     "metadata": {},
     "output_type": "execute_result"
    }
   ],
   "source": [
    "df_internet['mb_used'].value_counts()"
   ]
  },
  {
   "cell_type": "markdown",
   "metadata": {},
   "source": [
    "В таблице interne нет дубликатов и пропусков, но есть  объём потраченного за сессию интернет-трафика  0 мгб и их доля незначительна(окло 28%), что нормально. Это объясняется тем, что пользователь не пользовался услугой."
   ]
  },
  {
   "cell_type": "markdown",
   "metadata": {},
   "source": [
    "### Изучим таблицу messages (информация о сообщениях):"
   ]
  },
  {
   "cell_type": "code",
   "execution_count": 12,
   "metadata": {},
   "outputs": [
    {
     "data": {
      "text/html": [
       "<div>\n",
       "<style scoped>\n",
       "    .dataframe tbody tr th:only-of-type {\n",
       "        vertical-align: middle;\n",
       "    }\n",
       "\n",
       "    .dataframe tbody tr th {\n",
       "        vertical-align: top;\n",
       "    }\n",
       "\n",
       "    .dataframe thead th {\n",
       "        text-align: right;\n",
       "    }\n",
       "</style>\n",
       "<table border=\"1\" class=\"dataframe\">\n",
       "  <thead>\n",
       "    <tr style=\"text-align: right;\">\n",
       "      <th></th>\n",
       "      <th>id</th>\n",
       "      <th>message_date</th>\n",
       "      <th>user_id</th>\n",
       "    </tr>\n",
       "  </thead>\n",
       "  <tbody>\n",
       "    <tr>\n",
       "      <th>0</th>\n",
       "      <td>1000_0</td>\n",
       "      <td>2018-06-27</td>\n",
       "      <td>1000</td>\n",
       "    </tr>\n",
       "    <tr>\n",
       "      <th>1</th>\n",
       "      <td>1000_1</td>\n",
       "      <td>2018-10-08</td>\n",
       "      <td>1000</td>\n",
       "    </tr>\n",
       "    <tr>\n",
       "      <th>2</th>\n",
       "      <td>1000_2</td>\n",
       "      <td>2018-08-04</td>\n",
       "      <td>1000</td>\n",
       "    </tr>\n",
       "    <tr>\n",
       "      <th>3</th>\n",
       "      <td>1000_3</td>\n",
       "      <td>2018-06-16</td>\n",
       "      <td>1000</td>\n",
       "    </tr>\n",
       "    <tr>\n",
       "      <th>4</th>\n",
       "      <td>1000_4</td>\n",
       "      <td>2018-12-05</td>\n",
       "      <td>1000</td>\n",
       "    </tr>\n",
       "    <tr>\n",
       "      <th>5</th>\n",
       "      <td>1000_5</td>\n",
       "      <td>2018-06-20</td>\n",
       "      <td>1000</td>\n",
       "    </tr>\n",
       "    <tr>\n",
       "      <th>6</th>\n",
       "      <td>1000_6</td>\n",
       "      <td>2018-11-19</td>\n",
       "      <td>1000</td>\n",
       "    </tr>\n",
       "    <tr>\n",
       "      <th>7</th>\n",
       "      <td>1000_7</td>\n",
       "      <td>2018-10-29</td>\n",
       "      <td>1000</td>\n",
       "    </tr>\n",
       "    <tr>\n",
       "      <th>8</th>\n",
       "      <td>1000_8</td>\n",
       "      <td>2018-06-25</td>\n",
       "      <td>1000</td>\n",
       "    </tr>\n",
       "    <tr>\n",
       "      <th>9</th>\n",
       "      <td>1000_9</td>\n",
       "      <td>2018-12-18</td>\n",
       "      <td>1000</td>\n",
       "    </tr>\n",
       "  </tbody>\n",
       "</table>\n",
       "</div>"
      ],
      "text/plain": [
       "       id message_date  user_id\n",
       "0  1000_0   2018-06-27     1000\n",
       "1  1000_1   2018-10-08     1000\n",
       "2  1000_2   2018-08-04     1000\n",
       "3  1000_3   2018-06-16     1000\n",
       "4  1000_4   2018-12-05     1000\n",
       "5  1000_5   2018-06-20     1000\n",
       "6  1000_6   2018-11-19     1000\n",
       "7  1000_7   2018-10-29     1000\n",
       "8  1000_8   2018-06-25     1000\n",
       "9  1000_9   2018-12-18     1000"
      ]
     },
     "execution_count": 12,
     "metadata": {},
     "output_type": "execute_result"
    }
   ],
   "source": [
    "df_messages = pd.read_csv('C://Users//valer//Портфолио//messages.csv')\n",
    "df_messages.head(10)"
   ]
  },
  {
   "cell_type": "code",
   "execution_count": 13,
   "metadata": {},
   "outputs": [
    {
     "name": "stdout",
     "output_type": "stream",
     "text": [
      "<class 'pandas.core.frame.DataFrame'>\n",
      "RangeIndex: 123036 entries, 0 to 123035\n",
      "Data columns (total 3 columns):\n",
      " #   Column        Non-Null Count   Dtype \n",
      "---  ------        --------------   ----- \n",
      " 0   id            123036 non-null  object\n",
      " 1   message_date  123036 non-null  object\n",
      " 2   user_id       123036 non-null  int64 \n",
      "dtypes: int64(1), object(2)\n",
      "memory usage: 1.9+ MB\n"
     ]
    }
   ],
   "source": [
    "df_messages.info()"
   ]
  },
  {
   "cell_type": "code",
   "execution_count": 14,
   "metadata": {},
   "outputs": [
    {
     "data": {
      "text/plain": [
       "0   2018-06-27\n",
       "1   2018-10-08\n",
       "2   2018-08-04\n",
       "3   2018-06-16\n",
       "4   2018-12-05\n",
       "Name: message_date, dtype: datetime64[ns]"
      ]
     },
     "execution_count": 14,
     "metadata": {},
     "output_type": "execute_result"
    }
   ],
   "source": [
    "df_messages['message_date'] = pd.to_datetime(df_messages['message_date'], format='%Y-%m-%dT%H:%M:%S')\n",
    "df_messages['message_date'].head()"
   ]
  },
  {
   "cell_type": "code",
   "execution_count": 15,
   "metadata": {},
   "outputs": [
    {
     "data": {
      "text/plain": [
       "0"
      ]
     },
     "execution_count": 15,
     "metadata": {},
     "output_type": "execute_result"
    }
   ],
   "source": [
    "df_messages.duplicated().sum() # проверяем наличие дубликатов"
   ]
  },
  {
   "cell_type": "markdown",
   "metadata": {},
   "source": [
    "В таблице messages нет дубликатов и пропусков. "
   ]
  },
  {
   "cell_type": "markdown",
   "metadata": {},
   "source": [
    "### Изучим таблицу tariffs (информация о тарифах):"
   ]
  },
  {
   "cell_type": "code",
   "execution_count": 16,
   "metadata": {},
   "outputs": [
    {
     "data": {
      "text/html": [
       "<div>\n",
       "<style scoped>\n",
       "    .dataframe tbody tr th:only-of-type {\n",
       "        vertical-align: middle;\n",
       "    }\n",
       "\n",
       "    .dataframe tbody tr th {\n",
       "        vertical-align: top;\n",
       "    }\n",
       "\n",
       "    .dataframe thead th {\n",
       "        text-align: right;\n",
       "    }\n",
       "</style>\n",
       "<table border=\"1\" class=\"dataframe\">\n",
       "  <thead>\n",
       "    <tr style=\"text-align: right;\">\n",
       "      <th></th>\n",
       "      <th>messages_included</th>\n",
       "      <th>mb_per_month_included</th>\n",
       "      <th>minutes_included</th>\n",
       "      <th>rub_monthly_fee</th>\n",
       "      <th>rub_per_gb</th>\n",
       "      <th>rub_per_message</th>\n",
       "      <th>rub_per_minute</th>\n",
       "      <th>tariff_name</th>\n",
       "    </tr>\n",
       "  </thead>\n",
       "  <tbody>\n",
       "    <tr>\n",
       "      <th>0</th>\n",
       "      <td>50</td>\n",
       "      <td>15360</td>\n",
       "      <td>500</td>\n",
       "      <td>550</td>\n",
       "      <td>200</td>\n",
       "      <td>3</td>\n",
       "      <td>3</td>\n",
       "      <td>smart</td>\n",
       "    </tr>\n",
       "    <tr>\n",
       "      <th>1</th>\n",
       "      <td>1000</td>\n",
       "      <td>30720</td>\n",
       "      <td>3000</td>\n",
       "      <td>1950</td>\n",
       "      <td>150</td>\n",
       "      <td>1</td>\n",
       "      <td>1</td>\n",
       "      <td>ultra</td>\n",
       "    </tr>\n",
       "  </tbody>\n",
       "</table>\n",
       "</div>"
      ],
      "text/plain": [
       "   messages_included  mb_per_month_included  minutes_included  \\\n",
       "0                 50                  15360               500   \n",
       "1               1000                  30720              3000   \n",
       "\n",
       "   rub_monthly_fee  rub_per_gb  rub_per_message  rub_per_minute tariff_name  \n",
       "0              550         200                3               3       smart  \n",
       "1             1950         150                1               1       ultra  "
      ]
     },
     "execution_count": 16,
     "metadata": {},
     "output_type": "execute_result"
    }
   ],
   "source": [
    "df_tariffs = pd.read_csv('C://Users//valer//Портфолио//tariffs.csv')\n",
    "df_tariffs.head()"
   ]
  },
  {
   "cell_type": "code",
   "execution_count": 17,
   "metadata": {},
   "outputs": [
    {
     "name": "stdout",
     "output_type": "stream",
     "text": [
      "<class 'pandas.core.frame.DataFrame'>\n",
      "RangeIndex: 2 entries, 0 to 1\n",
      "Data columns (total 8 columns):\n",
      " #   Column                 Non-Null Count  Dtype \n",
      "---  ------                 --------------  ----- \n",
      " 0   messages_included      2 non-null      int64 \n",
      " 1   mb_per_month_included  2 non-null      int64 \n",
      " 2   minutes_included       2 non-null      int64 \n",
      " 3   rub_monthly_fee        2 non-null      int64 \n",
      " 4   rub_per_gb             2 non-null      int64 \n",
      " 5   rub_per_message        2 non-null      int64 \n",
      " 6   rub_per_minute         2 non-null      int64 \n",
      " 7   tariff_name            2 non-null      object\n",
      "dtypes: int64(7), object(1)\n",
      "memory usage: 184.0+ bytes\n"
     ]
    }
   ],
   "source": [
    "df_tariffs.info()"
   ]
  },
  {
   "cell_type": "markdown",
   "metadata": {},
   "source": [
    "### Изучим таблицу users (информация о пользователях):"
   ]
  },
  {
   "cell_type": "code",
   "execution_count": 18,
   "metadata": {},
   "outputs": [
    {
     "data": {
      "text/html": [
       "<div>\n",
       "<style scoped>\n",
       "    .dataframe tbody tr th:only-of-type {\n",
       "        vertical-align: middle;\n",
       "    }\n",
       "\n",
       "    .dataframe tbody tr th {\n",
       "        vertical-align: top;\n",
       "    }\n",
       "\n",
       "    .dataframe thead th {\n",
       "        text-align: right;\n",
       "    }\n",
       "</style>\n",
       "<table border=\"1\" class=\"dataframe\">\n",
       "  <thead>\n",
       "    <tr style=\"text-align: right;\">\n",
       "      <th></th>\n",
       "      <th>user_id</th>\n",
       "      <th>age</th>\n",
       "      <th>churn_date</th>\n",
       "      <th>city</th>\n",
       "      <th>first_name</th>\n",
       "      <th>last_name</th>\n",
       "      <th>reg_date</th>\n",
       "      <th>tariff</th>\n",
       "    </tr>\n",
       "  </thead>\n",
       "  <tbody>\n",
       "    <tr>\n",
       "      <th>0</th>\n",
       "      <td>1000</td>\n",
       "      <td>52</td>\n",
       "      <td>NaN</td>\n",
       "      <td>Краснодар</td>\n",
       "      <td>Рафаил</td>\n",
       "      <td>Верещагин</td>\n",
       "      <td>2018-05-25</td>\n",
       "      <td>ultra</td>\n",
       "    </tr>\n",
       "    <tr>\n",
       "      <th>1</th>\n",
       "      <td>1001</td>\n",
       "      <td>41</td>\n",
       "      <td>NaN</td>\n",
       "      <td>Москва</td>\n",
       "      <td>Иван</td>\n",
       "      <td>Ежов</td>\n",
       "      <td>2018-11-01</td>\n",
       "      <td>smart</td>\n",
       "    </tr>\n",
       "    <tr>\n",
       "      <th>2</th>\n",
       "      <td>1002</td>\n",
       "      <td>59</td>\n",
       "      <td>NaN</td>\n",
       "      <td>Стерлитамак</td>\n",
       "      <td>Евгений</td>\n",
       "      <td>Абрамович</td>\n",
       "      <td>2018-06-17</td>\n",
       "      <td>smart</td>\n",
       "    </tr>\n",
       "    <tr>\n",
       "      <th>3</th>\n",
       "      <td>1003</td>\n",
       "      <td>23</td>\n",
       "      <td>NaN</td>\n",
       "      <td>Москва</td>\n",
       "      <td>Белла</td>\n",
       "      <td>Белякова</td>\n",
       "      <td>2018-08-17</td>\n",
       "      <td>ultra</td>\n",
       "    </tr>\n",
       "    <tr>\n",
       "      <th>4</th>\n",
       "      <td>1004</td>\n",
       "      <td>68</td>\n",
       "      <td>NaN</td>\n",
       "      <td>Новокузнецк</td>\n",
       "      <td>Татьяна</td>\n",
       "      <td>Авдеенко</td>\n",
       "      <td>2018-05-14</td>\n",
       "      <td>ultra</td>\n",
       "    </tr>\n",
       "    <tr>\n",
       "      <th>5</th>\n",
       "      <td>1005</td>\n",
       "      <td>67</td>\n",
       "      <td>NaN</td>\n",
       "      <td>Набережные Челны</td>\n",
       "      <td>Афанасий</td>\n",
       "      <td>Горлов</td>\n",
       "      <td>2018-01-25</td>\n",
       "      <td>smart</td>\n",
       "    </tr>\n",
       "    <tr>\n",
       "      <th>6</th>\n",
       "      <td>1006</td>\n",
       "      <td>21</td>\n",
       "      <td>NaN</td>\n",
       "      <td>Ульяновск</td>\n",
       "      <td>Леонид</td>\n",
       "      <td>Ермолаев</td>\n",
       "      <td>2018-02-26</td>\n",
       "      <td>smart</td>\n",
       "    </tr>\n",
       "    <tr>\n",
       "      <th>7</th>\n",
       "      <td>1007</td>\n",
       "      <td>65</td>\n",
       "      <td>NaN</td>\n",
       "      <td>Москва</td>\n",
       "      <td>Юна</td>\n",
       "      <td>Березина</td>\n",
       "      <td>2018-04-19</td>\n",
       "      <td>smart</td>\n",
       "    </tr>\n",
       "    <tr>\n",
       "      <th>8</th>\n",
       "      <td>1008</td>\n",
       "      <td>63</td>\n",
       "      <td>NaN</td>\n",
       "      <td>Челябинск</td>\n",
       "      <td>Рустэм</td>\n",
       "      <td>Пономарёв</td>\n",
       "      <td>2018-12-19</td>\n",
       "      <td>smart</td>\n",
       "    </tr>\n",
       "    <tr>\n",
       "      <th>9</th>\n",
       "      <td>1009</td>\n",
       "      <td>24</td>\n",
       "      <td>NaN</td>\n",
       "      <td>Пермь</td>\n",
       "      <td>Василиса</td>\n",
       "      <td>Блинова</td>\n",
       "      <td>2018-03-22</td>\n",
       "      <td>smart</td>\n",
       "    </tr>\n",
       "  </tbody>\n",
       "</table>\n",
       "</div>"
      ],
      "text/plain": [
       "   user_id  age churn_date              city first_name  last_name  \\\n",
       "0     1000   52        NaN         Краснодар     Рафаил  Верещагин   \n",
       "1     1001   41        NaN            Москва       Иван       Ежов   \n",
       "2     1002   59        NaN       Стерлитамак    Евгений  Абрамович   \n",
       "3     1003   23        NaN            Москва      Белла   Белякова   \n",
       "4     1004   68        NaN       Новокузнецк    Татьяна   Авдеенко   \n",
       "5     1005   67        NaN  Набережные Челны   Афанасий     Горлов   \n",
       "6     1006   21        NaN         Ульяновск     Леонид   Ермолаев   \n",
       "7     1007   65        NaN            Москва        Юна   Березина   \n",
       "8     1008   63        NaN         Челябинск     Рустэм  Пономарёв   \n",
       "9     1009   24        NaN             Пермь   Василиса    Блинова   \n",
       "\n",
       "     reg_date tariff  \n",
       "0  2018-05-25  ultra  \n",
       "1  2018-11-01  smart  \n",
       "2  2018-06-17  smart  \n",
       "3  2018-08-17  ultra  \n",
       "4  2018-05-14  ultra  \n",
       "5  2018-01-25  smart  \n",
       "6  2018-02-26  smart  \n",
       "7  2018-04-19  smart  \n",
       "8  2018-12-19  smart  \n",
       "9  2018-03-22  smart  "
      ]
     },
     "execution_count": 18,
     "metadata": {},
     "output_type": "execute_result"
    }
   ],
   "source": [
    "df_users = pd.read_csv('C://Users//valer//Портфолио//users.csv')\n",
    "df_users.head(10)"
   ]
  },
  {
   "cell_type": "code",
   "execution_count": 19,
   "metadata": {},
   "outputs": [
    {
     "name": "stdout",
     "output_type": "stream",
     "text": [
      "<class 'pandas.core.frame.DataFrame'>\n",
      "RangeIndex: 500 entries, 0 to 499\n",
      "Data columns (total 8 columns):\n",
      " #   Column      Non-Null Count  Dtype \n",
      "---  ------      --------------  ----- \n",
      " 0   user_id     500 non-null    int64 \n",
      " 1   age         500 non-null    int64 \n",
      " 2   churn_date  38 non-null     object\n",
      " 3   city        500 non-null    object\n",
      " 4   first_name  500 non-null    object\n",
      " 5   last_name   500 non-null    object\n",
      " 6   reg_date    500 non-null    object\n",
      " 7   tariff      500 non-null    object\n",
      "dtypes: int64(2), object(6)\n",
      "memory usage: 19.6+ KB\n"
     ]
    }
   ],
   "source": [
    "df_users.info()"
   ]
  },
  {
   "cell_type": "code",
   "execution_count": 20,
   "metadata": {},
   "outputs": [
    {
     "data": {
      "text/plain": [
       "0"
      ]
     },
     "execution_count": 20,
     "metadata": {},
     "output_type": "execute_result"
    }
   ],
   "source": [
    "df_users.duplicated().sum() # проверяем наличие дубликатов"
   ]
  },
  {
   "cell_type": "code",
   "execution_count": 21,
   "metadata": {},
   "outputs": [
    {
     "data": {
      "text/plain": [
       "0   2018-05-25\n",
       "1   2018-11-01\n",
       "2   2018-06-17\n",
       "3   2018-08-17\n",
       "4   2018-05-14\n",
       "Name: reg_date, dtype: datetime64[ns]"
      ]
     },
     "execution_count": 21,
     "metadata": {},
     "output_type": "execute_result"
    }
   ],
   "source": [
    "df_users['reg_date'] = pd.to_datetime(df_users['reg_date'], format='%Y-%m-%dT%H:%M:%S')\n",
    "df_users['reg_date'].head()"
   ]
  },
  {
   "cell_type": "markdown",
   "metadata": {},
   "source": [
    "В таблице users нет дубликатов. В столбце churn_date  есть пропуски, но они означают, что тариф ещё действовал на момент выгрузки данных"
   ]
  },
  {
   "cell_type": "markdown",
   "metadata": {},
   "source": [
    "**Bывод**"
   ]
  },
  {
   "cell_type": "markdown",
   "metadata": {},
   "source": [
    "Мы прверили детасеты на наличие попусков и дубликатов, выяснили причину пропусков и пришли к решению не удалять их. Также изменили тип данных связанных с датой."
   ]
  },
  {
   "cell_type": "markdown",
   "metadata": {},
   "source": [
    "**Посчитаем для каждого пользователя:**"
   ]
  },
  {
   "cell_type": "markdown",
   "metadata": {},
   "source": [
    "### Количество сделанных звонков и израсходованных минут разговора по месяцам:"
   ]
  },
  {
   "cell_type": "code",
   "execution_count": 22,
   "metadata": {},
   "outputs": [],
   "source": [
    "df_calls['month'] = df_calls['call_date'].dt.month"
   ]
  },
  {
   "cell_type": "code",
   "execution_count": 23,
   "metadata": {},
   "outputs": [],
   "source": [
    "df_calls['duration'] = np.ceil(df_calls['duration']) # округлим в большую сторону, согласно условию"
   ]
  },
  {
   "cell_type": "markdown",
   "metadata": {},
   "source": [
    "### Количество отправленных сообщений по месяцам:"
   ]
  },
  {
   "cell_type": "code",
   "execution_count": 24,
   "metadata": {},
   "outputs": [],
   "source": [
    "df_messages['month'] = df_messages['message_date'].dt.month"
   ]
  },
  {
   "cell_type": "markdown",
   "metadata": {},
   "source": [
    "### Oбъем израсходованного интернет-трафика по месяцам"
   ]
  },
  {
   "cell_type": "code",
   "execution_count": 25,
   "metadata": {},
   "outputs": [],
   "source": [
    "df_internet['month'] = df_internet['session_date'].dt.month"
   ]
  },
  {
   "cell_type": "markdown",
   "metadata": {},
   "source": [
    "### Помесячную выручку с каждого пользователя "
   ]
  },
  {
   "cell_type": "markdown",
   "metadata": {},
   "source": [
    "Для удобства соединим все таблицы в одну"
   ]
  },
  {
   "cell_type": "code",
   "execution_count": 26,
   "metadata": {},
   "outputs": [
    {
     "data": {
      "text/html": [
       "<div>\n",
       "<style scoped>\n",
       "    .dataframe tbody tr th:only-of-type {\n",
       "        vertical-align: middle;\n",
       "    }\n",
       "\n",
       "    .dataframe tbody tr th {\n",
       "        vertical-align: top;\n",
       "    }\n",
       "\n",
       "    .dataframe thead th {\n",
       "        text-align: right;\n",
       "    }\n",
       "</style>\n",
       "<table border=\"1\" class=\"dataframe\">\n",
       "  <thead>\n",
       "    <tr style=\"text-align: right;\">\n",
       "      <th></th>\n",
       "      <th>user_id</th>\n",
       "      <th>month</th>\n",
       "      <th>duration</th>\n",
       "      <th>id</th>\n",
       "      <th>mb_used</th>\n",
       "      <th>gb_used</th>\n",
       "      <th>tariff</th>\n",
       "      <th>city</th>\n",
       "    </tr>\n",
       "  </thead>\n",
       "  <tbody>\n",
       "    <tr>\n",
       "      <th>0</th>\n",
       "      <td>1000</td>\n",
       "      <td>5</td>\n",
       "      <td>159.0</td>\n",
       "      <td>22.0</td>\n",
       "      <td>2253.49</td>\n",
       "      <td>3.0</td>\n",
       "      <td>ultra</td>\n",
       "      <td>Краснодар</td>\n",
       "    </tr>\n",
       "    <tr>\n",
       "      <th>1</th>\n",
       "      <td>1000</td>\n",
       "      <td>6</td>\n",
       "      <td>172.0</td>\n",
       "      <td>60.0</td>\n",
       "      <td>23233.77</td>\n",
       "      <td>23.0</td>\n",
       "      <td>0</td>\n",
       "      <td>0</td>\n",
       "    </tr>\n",
       "    <tr>\n",
       "      <th>2</th>\n",
       "      <td>1000</td>\n",
       "      <td>7</td>\n",
       "      <td>340.0</td>\n",
       "      <td>75.0</td>\n",
       "      <td>14003.64</td>\n",
       "      <td>14.0</td>\n",
       "      <td>0</td>\n",
       "      <td>0</td>\n",
       "    </tr>\n",
       "    <tr>\n",
       "      <th>3</th>\n",
       "      <td>1000</td>\n",
       "      <td>8</td>\n",
       "      <td>408.0</td>\n",
       "      <td>81.0</td>\n",
       "      <td>14055.93</td>\n",
       "      <td>14.0</td>\n",
       "      <td>0</td>\n",
       "      <td>0</td>\n",
       "    </tr>\n",
       "    <tr>\n",
       "      <th>4</th>\n",
       "      <td>1000</td>\n",
       "      <td>9</td>\n",
       "      <td>466.0</td>\n",
       "      <td>57.0</td>\n",
       "      <td>14568.91</td>\n",
       "      <td>15.0</td>\n",
       "      <td>0</td>\n",
       "      <td>0</td>\n",
       "    </tr>\n",
       "    <tr>\n",
       "      <th>...</th>\n",
       "      <td>...</td>\n",
       "      <td>...</td>\n",
       "      <td>...</td>\n",
       "      <td>...</td>\n",
       "      <td>...</td>\n",
       "      <td>...</td>\n",
       "      <td>...</td>\n",
       "      <td>...</td>\n",
       "    </tr>\n",
       "    <tr>\n",
       "      <th>3209</th>\n",
       "      <td>1489</td>\n",
       "      <td>9</td>\n",
       "      <td>0.0</td>\n",
       "      <td>32.0</td>\n",
       "      <td>17206.30</td>\n",
       "      <td>17.0</td>\n",
       "      <td>0</td>\n",
       "      <td>0</td>\n",
       "    </tr>\n",
       "    <tr>\n",
       "      <th>3210</th>\n",
       "      <td>1489</td>\n",
       "      <td>10</td>\n",
       "      <td>0.0</td>\n",
       "      <td>21.0</td>\n",
       "      <td>19559.44</td>\n",
       "      <td>20.0</td>\n",
       "      <td>0</td>\n",
       "      <td>0</td>\n",
       "    </tr>\n",
       "    <tr>\n",
       "      <th>3211</th>\n",
       "      <td>1489</td>\n",
       "      <td>11</td>\n",
       "      <td>0.0</td>\n",
       "      <td>20.0</td>\n",
       "      <td>17491.56</td>\n",
       "      <td>18.0</td>\n",
       "      <td>0</td>\n",
       "      <td>0</td>\n",
       "    </tr>\n",
       "    <tr>\n",
       "      <th>3212</th>\n",
       "      <td>1489</td>\n",
       "      <td>12</td>\n",
       "      <td>0.0</td>\n",
       "      <td>35.0</td>\n",
       "      <td>17322.51</td>\n",
       "      <td>17.0</td>\n",
       "      <td>0</td>\n",
       "      <td>0</td>\n",
       "    </tr>\n",
       "    <tr>\n",
       "      <th>3213</th>\n",
       "      <td>1476</td>\n",
       "      <td>4</td>\n",
       "      <td>0.0</td>\n",
       "      <td>0.0</td>\n",
       "      <td>530.78</td>\n",
       "      <td>1.0</td>\n",
       "      <td>ultra</td>\n",
       "      <td>Москва</td>\n",
       "    </tr>\n",
       "  </tbody>\n",
       "</table>\n",
       "<p>3214 rows × 8 columns</p>\n",
       "</div>"
      ],
      "text/plain": [
       "      user_id  month  duration    id   mb_used  gb_used tariff       city\n",
       "0        1000      5     159.0  22.0   2253.49      3.0  ultra  Краснодар\n",
       "1        1000      6     172.0  60.0  23233.77     23.0      0          0\n",
       "2        1000      7     340.0  75.0  14003.64     14.0      0          0\n",
       "3        1000      8     408.0  81.0  14055.93     14.0      0          0\n",
       "4        1000      9     466.0  57.0  14568.91     15.0      0          0\n",
       "...       ...    ...       ...   ...       ...      ...    ...        ...\n",
       "3209     1489      9       0.0  32.0  17206.30     17.0      0          0\n",
       "3210     1489     10       0.0  21.0  19559.44     20.0      0          0\n",
       "3211     1489     11       0.0  20.0  17491.56     18.0      0          0\n",
       "3212     1489     12       0.0  35.0  17322.51     17.0      0          0\n",
       "3213     1476      4       0.0   0.0    530.78      1.0  ultra     Москва\n",
       "\n",
       "[3214 rows x 8 columns]"
      ]
     },
     "execution_count": 26,
     "metadata": {},
     "output_type": "execute_result"
    }
   ],
   "source": [
    "\n",
    "c = df_calls.pivot_table(index=['user_id', 'month'], values='duration', aggfunc='sum')\n",
    "m = df_messages.pivot_table(index=['user_id', 'month'], values='id', aggfunc='count')\n",
    "i = df_internet.pivot_table(index=['user_id', 'month'], values='mb_used', aggfunc='sum')\n",
    "i['gb_used'] = np.ceil(i['mb_used']/1024)\n",
    "df_users['month'] = df_users['reg_date'].dt.month\n",
    "us = df_users[['user_id','tariff', 'city', 'month']]\n",
    "total_inf = c.merge(m, on=['user_id', 'month'], how='outer').merge(i, on=['user_id', 'month'], how='outer').merge(us, on=['user_id', 'month'],how='left').fillna(0)\n",
    "total_inf"
   ]
  },
  {
   "cell_type": "markdown",
   "metadata": {},
   "source": [
    "Так как расценки у тарифоф разные, то разделим на 2 таблицы расчётов выручки:"
   ]
  },
  {
   "cell_type": "markdown",
   "metadata": {},
   "source": [
    "Для тарифа ultra:"
   ]
  },
  {
   "cell_type": "code",
   "execution_count": 27,
   "metadata": {},
   "outputs": [
    {
     "data": {
      "text/html": [
       "<div>\n",
       "<style scoped>\n",
       "    .dataframe tbody tr th:only-of-type {\n",
       "        vertical-align: middle;\n",
       "    }\n",
       "\n",
       "    .dataframe tbody tr th {\n",
       "        vertical-align: top;\n",
       "    }\n",
       "\n",
       "    .dataframe thead th {\n",
       "        text-align: right;\n",
       "    }\n",
       "</style>\n",
       "<table border=\"1\" class=\"dataframe\">\n",
       "  <thead>\n",
       "    <tr style=\"text-align: right;\">\n",
       "      <th></th>\n",
       "      <th>user_id</th>\n",
       "      <th>month</th>\n",
       "      <th>duration</th>\n",
       "      <th>id</th>\n",
       "      <th>mb_used</th>\n",
       "      <th>gb_used</th>\n",
       "      <th>tariff</th>\n",
       "      <th>city</th>\n",
       "    </tr>\n",
       "  </thead>\n",
       "  <tbody>\n",
       "    <tr>\n",
       "      <th>0</th>\n",
       "      <td>1000</td>\n",
       "      <td>5</td>\n",
       "      <td>159.0</td>\n",
       "      <td>22.0</td>\n",
       "      <td>2253.49</td>\n",
       "      <td>3.0</td>\n",
       "      <td>ultra</td>\n",
       "      <td>Краснодар</td>\n",
       "    </tr>\n",
       "    <tr>\n",
       "      <th>17</th>\n",
       "      <td>1003</td>\n",
       "      <td>8</td>\n",
       "      <td>380.0</td>\n",
       "      <td>37.0</td>\n",
       "      <td>8565.21</td>\n",
       "      <td>9.0</td>\n",
       "      <td>ultra</td>\n",
       "      <td>Москва</td>\n",
       "    </tr>\n",
       "    <tr>\n",
       "      <th>22</th>\n",
       "      <td>1004</td>\n",
       "      <td>5</td>\n",
       "      <td>35.0</td>\n",
       "      <td>95.0</td>\n",
       "      <td>13403.98</td>\n",
       "      <td>14.0</td>\n",
       "      <td>ultra</td>\n",
       "      <td>Новокузнецк</td>\n",
       "    </tr>\n",
       "    <tr>\n",
       "      <th>98</th>\n",
       "      <td>1013</td>\n",
       "      <td>11</td>\n",
       "      <td>369.0</td>\n",
       "      <td>17.0</td>\n",
       "      <td>9780.03</td>\n",
       "      <td>10.0</td>\n",
       "      <td>ultra</td>\n",
       "      <td>Иваново</td>\n",
       "    </tr>\n",
       "    <tr>\n",
       "      <th>117</th>\n",
       "      <td>1016</td>\n",
       "      <td>11</td>\n",
       "      <td>28.0</td>\n",
       "      <td>39.0</td>\n",
       "      <td>7382.23</td>\n",
       "      <td>8.0</td>\n",
       "      <td>ultra</td>\n",
       "      <td>Омск</td>\n",
       "    </tr>\n",
       "    <tr>\n",
       "      <th>...</th>\n",
       "      <td>...</td>\n",
       "      <td>...</td>\n",
       "      <td>...</td>\n",
       "      <td>...</td>\n",
       "      <td>...</td>\n",
       "      <td>...</td>\n",
       "      <td>...</td>\n",
       "      <td>...</td>\n",
       "    </tr>\n",
       "    <tr>\n",
       "      <th>3182</th>\n",
       "      <td>1106</td>\n",
       "      <td>4</td>\n",
       "      <td>0.0</td>\n",
       "      <td>9.0</td>\n",
       "      <td>2923.49</td>\n",
       "      <td>3.0</td>\n",
       "      <td>ultra</td>\n",
       "      <td>Калуга</td>\n",
       "    </tr>\n",
       "    <tr>\n",
       "      <th>3191</th>\n",
       "      <td>1231</td>\n",
       "      <td>5</td>\n",
       "      <td>0.0</td>\n",
       "      <td>55.0</td>\n",
       "      <td>10858.89</td>\n",
       "      <td>11.0</td>\n",
       "      <td>ultra</td>\n",
       "      <td>Чебоксары</td>\n",
       "    </tr>\n",
       "    <tr>\n",
       "      <th>3199</th>\n",
       "      <td>1328</td>\n",
       "      <td>10</td>\n",
       "      <td>0.0</td>\n",
       "      <td>6.0</td>\n",
       "      <td>22427.98</td>\n",
       "      <td>22.0</td>\n",
       "      <td>ultra</td>\n",
       "      <td>Мурманск</td>\n",
       "    </tr>\n",
       "    <tr>\n",
       "      <th>3203</th>\n",
       "      <td>1473</td>\n",
       "      <td>8</td>\n",
       "      <td>0.0</td>\n",
       "      <td>17.0</td>\n",
       "      <td>12905.40</td>\n",
       "      <td>13.0</td>\n",
       "      <td>ultra</td>\n",
       "      <td>Красноярск</td>\n",
       "    </tr>\n",
       "    <tr>\n",
       "      <th>3213</th>\n",
       "      <td>1476</td>\n",
       "      <td>4</td>\n",
       "      <td>0.0</td>\n",
       "      <td>0.0</td>\n",
       "      <td>530.78</td>\n",
       "      <td>1.0</td>\n",
       "      <td>ultra</td>\n",
       "      <td>Москва</td>\n",
       "    </tr>\n",
       "  </tbody>\n",
       "</table>\n",
       "<p>148 rows × 8 columns</p>\n",
       "</div>"
      ],
      "text/plain": [
       "      user_id  month  duration    id   mb_used  gb_used tariff         city\n",
       "0        1000      5     159.0  22.0   2253.49      3.0  ultra    Краснодар\n",
       "17       1003      8     380.0  37.0   8565.21      9.0  ultra       Москва\n",
       "22       1004      5      35.0  95.0  13403.98     14.0  ultra  Новокузнецк\n",
       "98       1013     11     369.0  17.0   9780.03     10.0  ultra      Иваново\n",
       "117      1016     11      28.0  39.0   7382.23      8.0  ultra         Омск\n",
       "...       ...    ...       ...   ...       ...      ...    ...          ...\n",
       "3182     1106      4       0.0   9.0   2923.49      3.0  ultra       Калуга\n",
       "3191     1231      5       0.0  55.0  10858.89     11.0  ultra    Чебоксары\n",
       "3199     1328     10       0.0   6.0  22427.98     22.0  ultra     Мурманск\n",
       "3203     1473      8       0.0  17.0  12905.40     13.0  ultra   Красноярск\n",
       "3213     1476      4       0.0   0.0    530.78      1.0  ultra       Москва\n",
       "\n",
       "[148 rows x 8 columns]"
      ]
     },
     "execution_count": 27,
     "metadata": {},
     "output_type": "execute_result"
    }
   ],
   "source": [
    "inf_ultra = total_inf.query('tariff == \"ultra\"')\n",
    "inf_ultra[['month', 'duration', 'id', 'gb_used']].fillna(0)\n",
    "inf_ultra"
   ]
  },
  {
   "cell_type": "code",
   "execution_count": 28,
   "metadata": {},
   "outputs": [
    {
     "data": {
      "text/html": [
       "<div>\n",
       "<style scoped>\n",
       "    .dataframe tbody tr th:only-of-type {\n",
       "        vertical-align: middle;\n",
       "    }\n",
       "\n",
       "    .dataframe tbody tr th {\n",
       "        vertical-align: top;\n",
       "    }\n",
       "\n",
       "    .dataframe thead th {\n",
       "        text-align: right;\n",
       "    }\n",
       "</style>\n",
       "<table border=\"1\" class=\"dataframe\">\n",
       "  <thead>\n",
       "    <tr style=\"text-align: right;\">\n",
       "      <th></th>\n",
       "      <th>user_id</th>\n",
       "      <th>profit</th>\n",
       "      <th>month</th>\n",
       "      <th>city</th>\n",
       "    </tr>\n",
       "  </thead>\n",
       "  <tbody>\n",
       "    <tr>\n",
       "      <th>0</th>\n",
       "      <td>1000</td>\n",
       "      <td>1950.0</td>\n",
       "      <td>5</td>\n",
       "      <td>Краснодар</td>\n",
       "    </tr>\n",
       "    <tr>\n",
       "      <th>17</th>\n",
       "      <td>1003</td>\n",
       "      <td>1950.0</td>\n",
       "      <td>8</td>\n",
       "      <td>Москва</td>\n",
       "    </tr>\n",
       "    <tr>\n",
       "      <th>22</th>\n",
       "      <td>1004</td>\n",
       "      <td>1950.0</td>\n",
       "      <td>5</td>\n",
       "      <td>Новокузнецк</td>\n",
       "    </tr>\n",
       "    <tr>\n",
       "      <th>98</th>\n",
       "      <td>1013</td>\n",
       "      <td>1950.0</td>\n",
       "      <td>11</td>\n",
       "      <td>Иваново</td>\n",
       "    </tr>\n",
       "    <tr>\n",
       "      <th>117</th>\n",
       "      <td>1016</td>\n",
       "      <td>1950.0</td>\n",
       "      <td>11</td>\n",
       "      <td>Омск</td>\n",
       "    </tr>\n",
       "    <tr>\n",
       "      <th>...</th>\n",
       "      <td>...</td>\n",
       "      <td>...</td>\n",
       "      <td>...</td>\n",
       "      <td>...</td>\n",
       "    </tr>\n",
       "    <tr>\n",
       "      <th>3182</th>\n",
       "      <td>1106</td>\n",
       "      <td>1950.0</td>\n",
       "      <td>4</td>\n",
       "      <td>Калуга</td>\n",
       "    </tr>\n",
       "    <tr>\n",
       "      <th>3191</th>\n",
       "      <td>1231</td>\n",
       "      <td>1950.0</td>\n",
       "      <td>5</td>\n",
       "      <td>Чебоксары</td>\n",
       "    </tr>\n",
       "    <tr>\n",
       "      <th>3199</th>\n",
       "      <td>1328</td>\n",
       "      <td>1950.0</td>\n",
       "      <td>10</td>\n",
       "      <td>Мурманск</td>\n",
       "    </tr>\n",
       "    <tr>\n",
       "      <th>3203</th>\n",
       "      <td>1473</td>\n",
       "      <td>1950.0</td>\n",
       "      <td>8</td>\n",
       "      <td>Красноярск</td>\n",
       "    </tr>\n",
       "    <tr>\n",
       "      <th>3213</th>\n",
       "      <td>1476</td>\n",
       "      <td>1950.0</td>\n",
       "      <td>4</td>\n",
       "      <td>Москва</td>\n",
       "    </tr>\n",
       "  </tbody>\n",
       "</table>\n",
       "<p>148 rows × 4 columns</p>\n",
       "</div>"
      ],
      "text/plain": [
       "      user_id  profit  month         city\n",
       "0        1000  1950.0      5    Краснодар\n",
       "17       1003  1950.0      8       Москва\n",
       "22       1004  1950.0      5  Новокузнецк\n",
       "98       1013  1950.0     11      Иваново\n",
       "117      1016  1950.0     11         Омск\n",
       "...       ...     ...    ...          ...\n",
       "3182     1106  1950.0      4       Калуга\n",
       "3191     1231  1950.0      5    Чебоксары\n",
       "3199     1328  1950.0     10     Мурманск\n",
       "3203     1473  1950.0      8   Красноярск\n",
       "3213     1476  1950.0      4       Москва\n",
       "\n",
       "[148 rows x 4 columns]"
      ]
     },
     "execution_count": 28,
     "metadata": {},
     "output_type": "execute_result"
    }
   ],
   "source": [
    "inf_ultra.loc[inf_ultra['duration'] < 3000, 'duration'] = 0\n",
    "inf_ultra.loc[inf_ultra['id'] < 1000, 'id'] = 0\n",
    "inf_ultra.loc[inf_ultra['gb_used'] < 30, 'gb_used'] = 0\n",
    "\n",
    "inf_ultra['profit'] = (inf_ultra['duration']*1 + inf_ultra['id']*1 + inf_ultra['gb_used']*150)+1950\n",
    "inf_ultra[['user_id', 'profit', 'month', 'city']]"
   ]
  },
  {
   "cell_type": "markdown",
   "metadata": {},
   "source": [
    "Для тарифа inf_smart:"
   ]
  },
  {
   "cell_type": "code",
   "execution_count": 29,
   "metadata": {},
   "outputs": [
    {
     "data": {
      "text/html": [
       "<div>\n",
       "<style scoped>\n",
       "    .dataframe tbody tr th:only-of-type {\n",
       "        vertical-align: middle;\n",
       "    }\n",
       "\n",
       "    .dataframe tbody tr th {\n",
       "        vertical-align: top;\n",
       "    }\n",
       "\n",
       "    .dataframe thead th {\n",
       "        text-align: right;\n",
       "    }\n",
       "</style>\n",
       "<table border=\"1\" class=\"dataframe\">\n",
       "  <thead>\n",
       "    <tr style=\"text-align: right;\">\n",
       "      <th></th>\n",
       "      <th>user_id</th>\n",
       "      <th>month</th>\n",
       "      <th>duration</th>\n",
       "      <th>id</th>\n",
       "      <th>mb_used</th>\n",
       "      <th>gb_used</th>\n",
       "      <th>tariff</th>\n",
       "      <th>city</th>\n",
       "    </tr>\n",
       "  </thead>\n",
       "  <tbody>\n",
       "    <tr>\n",
       "      <th>8</th>\n",
       "      <td>1001</td>\n",
       "      <td>11</td>\n",
       "      <td>430.0</td>\n",
       "      <td>0.0</td>\n",
       "      <td>18429.34</td>\n",
       "      <td>18.0</td>\n",
       "      <td>smart</td>\n",
       "      <td>Москва</td>\n",
       "    </tr>\n",
       "    <tr>\n",
       "      <th>10</th>\n",
       "      <td>1002</td>\n",
       "      <td>6</td>\n",
       "      <td>117.0</td>\n",
       "      <td>4.0</td>\n",
       "      <td>10856.82</td>\n",
       "      <td>11.0</td>\n",
       "      <td>smart</td>\n",
       "      <td>Стерлитамак</td>\n",
       "    </tr>\n",
       "    <tr>\n",
       "      <th>30</th>\n",
       "      <td>1005</td>\n",
       "      <td>1</td>\n",
       "      <td>95.0</td>\n",
       "      <td>7.0</td>\n",
       "      <td>2727.97</td>\n",
       "      <td>3.0</td>\n",
       "      <td>smart</td>\n",
       "      <td>Набережные Челны</td>\n",
       "    </tr>\n",
       "    <tr>\n",
       "      <th>42</th>\n",
       "      <td>1006</td>\n",
       "      <td>2</td>\n",
       "      <td>42.0</td>\n",
       "      <td>0.0</td>\n",
       "      <td>1392.15</td>\n",
       "      <td>2.0</td>\n",
       "      <td>smart</td>\n",
       "      <td>Ульяновск</td>\n",
       "    </tr>\n",
       "    <tr>\n",
       "      <th>53</th>\n",
       "      <td>1007</td>\n",
       "      <td>4</td>\n",
       "      <td>198.0</td>\n",
       "      <td>11.0</td>\n",
       "      <td>8022.76</td>\n",
       "      <td>8.0</td>\n",
       "      <td>smart</td>\n",
       "      <td>Москва</td>\n",
       "    </tr>\n",
       "    <tr>\n",
       "      <th>...</th>\n",
       "      <td>...</td>\n",
       "      <td>...</td>\n",
       "      <td>...</td>\n",
       "      <td>...</td>\n",
       "      <td>...</td>\n",
       "      <td>...</td>\n",
       "      <td>...</td>\n",
       "      <td>...</td>\n",
       "    </tr>\n",
       "    <tr>\n",
       "      <th>3151</th>\n",
       "      <td>1496</td>\n",
       "      <td>1</td>\n",
       "      <td>48.0</td>\n",
       "      <td>9.0</td>\n",
       "      <td>3762.73</td>\n",
       "      <td>4.0</td>\n",
       "      <td>smart</td>\n",
       "      <td>Вологда</td>\n",
       "    </tr>\n",
       "    <tr>\n",
       "      <th>3163</th>\n",
       "      <td>1497</td>\n",
       "      <td>10</td>\n",
       "      <td>490.0</td>\n",
       "      <td>20.0</td>\n",
       "      <td>11500.29</td>\n",
       "      <td>12.0</td>\n",
       "      <td>smart</td>\n",
       "      <td>Челябинск</td>\n",
       "    </tr>\n",
       "    <tr>\n",
       "      <th>3166</th>\n",
       "      <td>1498</td>\n",
       "      <td>7</td>\n",
       "      <td>175.0</td>\n",
       "      <td>20.0</td>\n",
       "      <td>7476.24</td>\n",
       "      <td>8.0</td>\n",
       "      <td>smart</td>\n",
       "      <td>Владикавказ</td>\n",
       "    </tr>\n",
       "    <tr>\n",
       "      <th>3170</th>\n",
       "      <td>1499</td>\n",
       "      <td>9</td>\n",
       "      <td>70.0</td>\n",
       "      <td>11.0</td>\n",
       "      <td>1845.75</td>\n",
       "      <td>2.0</td>\n",
       "      <td>smart</td>\n",
       "      <td>Пермь</td>\n",
       "    </tr>\n",
       "    <tr>\n",
       "      <th>3208</th>\n",
       "      <td>1489</td>\n",
       "      <td>8</td>\n",
       "      <td>0.0</td>\n",
       "      <td>17.0</td>\n",
       "      <td>11050.56</td>\n",
       "      <td>11.0</td>\n",
       "      <td>smart</td>\n",
       "      <td>Санкт-Петербург</td>\n",
       "    </tr>\n",
       "  </tbody>\n",
       "</table>\n",
       "<p>350 rows × 8 columns</p>\n",
       "</div>"
      ],
      "text/plain": [
       "      user_id  month  duration    id   mb_used  gb_used tariff  \\\n",
       "8        1001     11     430.0   0.0  18429.34     18.0  smart   \n",
       "10       1002      6     117.0   4.0  10856.82     11.0  smart   \n",
       "30       1005      1      95.0   7.0   2727.97      3.0  smart   \n",
       "42       1006      2      42.0   0.0   1392.15      2.0  smart   \n",
       "53       1007      4     198.0  11.0   8022.76      8.0  smart   \n",
       "...       ...    ...       ...   ...       ...      ...    ...   \n",
       "3151     1496      1      48.0   9.0   3762.73      4.0  smart   \n",
       "3163     1497     10     490.0  20.0  11500.29     12.0  smart   \n",
       "3166     1498      7     175.0  20.0   7476.24      8.0  smart   \n",
       "3170     1499      9      70.0  11.0   1845.75      2.0  smart   \n",
       "3208     1489      8       0.0  17.0  11050.56     11.0  smart   \n",
       "\n",
       "                  city  \n",
       "8               Москва  \n",
       "10         Стерлитамак  \n",
       "30    Набережные Челны  \n",
       "42           Ульяновск  \n",
       "53              Москва  \n",
       "...                ...  \n",
       "3151           Вологда  \n",
       "3163         Челябинск  \n",
       "3166       Владикавказ  \n",
       "3170             Пермь  \n",
       "3208   Санкт-Петербург  \n",
       "\n",
       "[350 rows x 8 columns]"
      ]
     },
     "execution_count": 29,
     "metadata": {},
     "output_type": "execute_result"
    }
   ],
   "source": [
    "inf_smart = total_inf.query('tariff == \"smart\"')\n",
    "inf_smart[['month', 'duration', 'id', 'gb_used']].fillna(0)\n",
    "inf_smart"
   ]
  },
  {
   "cell_type": "code",
   "execution_count": 30,
   "metadata": {},
   "outputs": [
    {
     "data": {
      "text/html": [
       "<div>\n",
       "<style scoped>\n",
       "    .dataframe tbody tr th:only-of-type {\n",
       "        vertical-align: middle;\n",
       "    }\n",
       "\n",
       "    .dataframe tbody tr th {\n",
       "        vertical-align: top;\n",
       "    }\n",
       "\n",
       "    .dataframe thead th {\n",
       "        text-align: right;\n",
       "    }\n",
       "</style>\n",
       "<table border=\"1\" class=\"dataframe\">\n",
       "  <thead>\n",
       "    <tr style=\"text-align: right;\">\n",
       "      <th></th>\n",
       "      <th>user_id</th>\n",
       "      <th>profit</th>\n",
       "      <th>month</th>\n",
       "      <th>city</th>\n",
       "    </tr>\n",
       "  </thead>\n",
       "  <tbody>\n",
       "    <tr>\n",
       "      <th>8</th>\n",
       "      <td>1001</td>\n",
       "      <td>4150.0</td>\n",
       "      <td>11</td>\n",
       "      <td>Москва</td>\n",
       "    </tr>\n",
       "    <tr>\n",
       "      <th>10</th>\n",
       "      <td>1002</td>\n",
       "      <td>550.0</td>\n",
       "      <td>6</td>\n",
       "      <td>Стерлитамак</td>\n",
       "    </tr>\n",
       "    <tr>\n",
       "      <th>30</th>\n",
       "      <td>1005</td>\n",
       "      <td>550.0</td>\n",
       "      <td>1</td>\n",
       "      <td>Набережные Челны</td>\n",
       "    </tr>\n",
       "    <tr>\n",
       "      <th>42</th>\n",
       "      <td>1006</td>\n",
       "      <td>550.0</td>\n",
       "      <td>2</td>\n",
       "      <td>Ульяновск</td>\n",
       "    </tr>\n",
       "    <tr>\n",
       "      <th>53</th>\n",
       "      <td>1007</td>\n",
       "      <td>550.0</td>\n",
       "      <td>4</td>\n",
       "      <td>Москва</td>\n",
       "    </tr>\n",
       "    <tr>\n",
       "      <th>...</th>\n",
       "      <td>...</td>\n",
       "      <td>...</td>\n",
       "      <td>...</td>\n",
       "      <td>...</td>\n",
       "    </tr>\n",
       "    <tr>\n",
       "      <th>3151</th>\n",
       "      <td>1496</td>\n",
       "      <td>550.0</td>\n",
       "      <td>1</td>\n",
       "      <td>Вологда</td>\n",
       "    </tr>\n",
       "    <tr>\n",
       "      <th>3163</th>\n",
       "      <td>1497</td>\n",
       "      <td>550.0</td>\n",
       "      <td>10</td>\n",
       "      <td>Челябинск</td>\n",
       "    </tr>\n",
       "    <tr>\n",
       "      <th>3166</th>\n",
       "      <td>1498</td>\n",
       "      <td>550.0</td>\n",
       "      <td>7</td>\n",
       "      <td>Владикавказ</td>\n",
       "    </tr>\n",
       "    <tr>\n",
       "      <th>3170</th>\n",
       "      <td>1499</td>\n",
       "      <td>550.0</td>\n",
       "      <td>9</td>\n",
       "      <td>Пермь</td>\n",
       "    </tr>\n",
       "    <tr>\n",
       "      <th>3208</th>\n",
       "      <td>1489</td>\n",
       "      <td>550.0</td>\n",
       "      <td>8</td>\n",
       "      <td>Санкт-Петербург</td>\n",
       "    </tr>\n",
       "  </tbody>\n",
       "</table>\n",
       "<p>350 rows × 4 columns</p>\n",
       "</div>"
      ],
      "text/plain": [
       "      user_id  profit  month              city\n",
       "8        1001  4150.0     11            Москва\n",
       "10       1002   550.0      6       Стерлитамак\n",
       "30       1005   550.0      1  Набережные Челны\n",
       "42       1006   550.0      2         Ульяновск\n",
       "53       1007   550.0      4            Москва\n",
       "...       ...     ...    ...               ...\n",
       "3151     1496   550.0      1           Вологда\n",
       "3163     1497   550.0     10         Челябинск\n",
       "3166     1498   550.0      7       Владикавказ\n",
       "3170     1499   550.0      9             Пермь\n",
       "3208     1489   550.0      8   Санкт-Петербург\n",
       "\n",
       "[350 rows x 4 columns]"
      ]
     },
     "execution_count": 30,
     "metadata": {},
     "output_type": "execute_result"
    }
   ],
   "source": [
    "inf_smart.loc[inf_smart['duration'] < 500, 'duration'] = 0\n",
    "inf_smart.loc[inf_smart['id'] < 50, 'id'] = 0\n",
    "inf_smart.loc[inf_smart['gb_used'] < 15, 'gb_used'] = 0\n",
    "\n",
    "inf_smart['profit'] = (inf_smart['duration']*3 + inf_smart['id']*3 + inf_smart['gb_used']*200)+550\n",
    "inf_smart[['user_id', 'profit', 'month', 'city']]"
   ]
  },
  {
   "cell_type": "markdown",
   "metadata": {},
   "source": [
    "### Вывод\n",
    "\n",
    "В данном шаге мы изучили данные, изменили понадобности тип данных. А также получили данные:\n",
    "- о количестве и длительности звонков по месяцам для каждого пользователя\n",
    "- о количестве отправленных сообщениях по месяцам для каждого пользователя\n",
    "- об объёме израсходованного интернет-трафика по месяцам для каждого пользователя\n",
    "\n",
    "Посчитали помесячную выручку с каждого пользователя."
   ]
  },
  {
   "cell_type": "markdown",
   "metadata": {},
   "source": [
    "## Анализ данных"
   ]
  },
  {
   "cell_type": "markdown",
   "metadata": {},
   "source": [
    " Анализ поведения клиентов оператора, исходя из выборки"
   ]
  },
  {
   "cell_type": "markdown",
   "metadata": {},
   "source": [
    "### Посчитаем среднее количество, дисперсию и стандартное отклонение по тарифу smart"
   ]
  },
  {
   "cell_type": "code",
   "execution_count": 31,
   "metadata": {},
   "outputs": [
    {
     "data": {
      "text/html": [
       "<div>\n",
       "<style scoped>\n",
       "    .dataframe tbody tr th:only-of-type {\n",
       "        vertical-align: middle;\n",
       "    }\n",
       "\n",
       "    .dataframe tbody tr th {\n",
       "        vertical-align: top;\n",
       "    }\n",
       "\n",
       "    .dataframe thead tr th {\n",
       "        text-align: left;\n",
       "    }\n",
       "\n",
       "    .dataframe thead tr:last-of-type th {\n",
       "        text-align: right;\n",
       "    }\n",
       "</style>\n",
       "<table border=\"1\" class=\"dataframe\">\n",
       "  <thead>\n",
       "    <tr>\n",
       "      <th></th>\n",
       "      <th colspan=\"3\" halign=\"left\">mean</th>\n",
       "      <th colspan=\"3\" halign=\"left\">std</th>\n",
       "      <th colspan=\"3\" halign=\"left\">var</th>\n",
       "    </tr>\n",
       "    <tr>\n",
       "      <th></th>\n",
       "      <th>duration</th>\n",
       "      <th>gb_used</th>\n",
       "      <th>id</th>\n",
       "      <th>duration</th>\n",
       "      <th>gb_used</th>\n",
       "      <th>id</th>\n",
       "      <th>duration</th>\n",
       "      <th>gb_used</th>\n",
       "      <th>id</th>\n",
       "    </tr>\n",
       "    <tr>\n",
       "      <th>tariff</th>\n",
       "      <th></th>\n",
       "      <th></th>\n",
       "      <th></th>\n",
       "      <th></th>\n",
       "      <th></th>\n",
       "      <th></th>\n",
       "      <th></th>\n",
       "      <th></th>\n",
       "      <th></th>\n",
       "    </tr>\n",
       "  </thead>\n",
       "  <tbody>\n",
       "    <tr>\n",
       "      <th>smart</th>\n",
       "      <td>244.14</td>\n",
       "      <td>9.737143</td>\n",
       "      <td>19.334286</td>\n",
       "      <td>161.277637</td>\n",
       "      <td>5.701208</td>\n",
       "      <td>20.79108</td>\n",
       "      <td>26010.476046</td>\n",
       "      <td>32.503774</td>\n",
       "      <td>432.269022</td>\n",
       "    </tr>\n",
       "  </tbody>\n",
       "</table>\n",
       "</div>"
      ],
      "text/plain": [
       "           mean                              std                      \\\n",
       "       duration   gb_used         id    duration   gb_used        id   \n",
       "tariff                                                                 \n",
       "smart    244.14  9.737143  19.334286  161.277637  5.701208  20.79108   \n",
       "\n",
       "                 var                         \n",
       "            duration    gb_used          id  \n",
       "tariff                                       \n",
       "smart   26010.476046  32.503774  432.269022  "
      ]
     },
     "execution_count": 31,
     "metadata": {},
     "output_type": "execute_result"
    }
   ],
   "source": [
    "analis= total_inf.query('tariff == \"smart\"')\n",
    "\n",
    "analisis = analis.pivot_table(index='tariff', values=['duration', 'id', 'gb_used'],\n",
    "                       aggfunc=['mean', 'std', 'var'])\n",
    "analisis"
   ]
  },
  {
   "cell_type": "markdown",
   "metadata": {},
   "source": [
    "Среднее отклонение длительности завонков: 161\n",
    "\n",
    "Среднее отклонение количесвто сообщений: 20\n",
    "\n",
    "Среднее отклонение израсходованного интернет-трафика: 6\n",
    "\n",
    "Дисперсия длительности завонков: 26011\n",
    "\n",
    "Дисперсия количесвто сообщений: 432\n",
    "\n",
    "Дисперсия израсходованного интернет-трафика: 32.5"
   ]
  },
  {
   "cell_type": "markdown",
   "metadata": {},
   "source": [
    "Судя по средним значениям, большинство укладывается в бесплатный лимит количества звонков и сообщений, интернета(интернет-трафик лишь на немного превышают)"
   ]
  },
  {
   "cell_type": "code",
   "execution_count": 32,
   "metadata": {},
   "outputs": [
    {
     "data": {
      "image/png": "[encoded data removed]",
      "text/plain": [
       "<Figure size 432x288 with 1 Axes>"
      ]
     },
     "metadata": {
      "needs_background": "light"
     },
     "output_type": "display_data"
    }
   ],
   "source": [
    "analis['duration'].hist(bins='auto')\n",
    "plt.title('Длительность звоноков')\n",
    "plt.ylabel('Длительность звонка, мин')\n",
    "plt.show()"
   ]
  },
  {
   "cell_type": "code",
   "execution_count": 33,
   "metadata": {},
   "outputs": [
    {
     "data": {
      "image/png": "[encoded data removed]",
      "text/plain": [
       "<Figure size 432x288 with 1 Axes>"
      ]
     },
     "metadata": {
      "needs_background": "light"
     },
     "output_type": "display_data"
    }
   ],
   "source": [
    "analis['id'].hist(bins='auto')\n",
    "plt.title('Общее количесвто отправленных сообщений')\n",
    "plt.ylabel('Кол-во сообщений')\n",
    "plt.show()"
   ]
  },
  {
   "cell_type": "code",
   "execution_count": 34,
   "metadata": {},
   "outputs": [
    {
     "data": {
      "image/png": "[encoded data removed]",
      "text/plain": [
       "<Figure size 432x288 with 1 Axes>"
      ]
     },
     "metadata": {
      "needs_background": "light"
     },
     "output_type": "display_data"
    }
   ],
   "source": [
    "analis['gb_used'].hist(bins='auto')\n",
    "plt.title('Использование интернт-трафика')\n",
    "plt.ylabel('Объём использованного трафика')\n",
    "plt.show()"
   ]
  },
  {
   "cell_type": "markdown",
   "metadata": {},
   "source": [
    "На рисунке наглядно видно, что вывоводы сделанные на основе расчетов верны. Большая часть пользователей не привышает бесплатного лимита колличества сообщений, но немного привышает лимит израсходованных минут и интернета."
   ]
  },
  {
   "cell_type": "code",
   "execution_count": 35,
   "metadata": {},
   "outputs": [
    {
     "data": {
      "text/plain": [
       "550.0     250\n",
       "3550.0     10\n",
       "3750.0     10\n",
       "3950.0      6\n",
       "4550.0      4\n",
       "         ... \n",
       "2338.0      1\n",
       "712.0       1\n",
       "4059.0      1\n",
       "6903.0      1\n",
       "793.0       1\n",
       "Name: profit, Length: 65, dtype: int64"
      ]
     },
     "execution_count": 35,
     "metadata": {},
     "output_type": "execute_result"
    }
   ],
   "source": [
    "inf_smart['profit'].value_counts()"
   ]
  },
  {
   "cell_type": "markdown",
   "metadata": {},
   "source": [
    "Однако, если посмтореть данные по выручке, то видно, что лишь примерно 20% пользователей пользуется только основным пакетом услуг входящий в тариф. И судя по тому, как резуий разрыв в объёме суммы(на второй по количеству пользователей позиции доход в 3950), то можно предположить, что в основном такой разрыв появляется за счет дополнительной пкокупки Гб интернета, так как он самый дорогой из всех дополнительных услуг(200 руб. за 1 Гб)."
   ]
  },
  {
   "cell_type": "markdown",
   "metadata": {},
   "source": [
    "### Посчитаем среднее количество, дисперсию и стандартное отклонение по тарифу ultra"
   ]
  },
  {
   "cell_type": "code",
   "execution_count": 36,
   "metadata": {},
   "outputs": [
    {
     "data": {
      "text/html": [
       "<div>\n",
       "<style scoped>\n",
       "    .dataframe tbody tr th:only-of-type {\n",
       "        vertical-align: middle;\n",
       "    }\n",
       "\n",
       "    .dataframe tbody tr th {\n",
       "        vertical-align: top;\n",
       "    }\n",
       "\n",
       "    .dataframe thead tr th {\n",
       "        text-align: left;\n",
       "    }\n",
       "\n",
       "    .dataframe thead tr:last-of-type th {\n",
       "        text-align: right;\n",
       "    }\n",
       "</style>\n",
       "<table border=\"1\" class=\"dataframe\">\n",
       "  <thead>\n",
       "    <tr>\n",
       "      <th></th>\n",
       "      <th colspan=\"3\" halign=\"left\">mean</th>\n",
       "      <th colspan=\"3\" halign=\"left\">std</th>\n",
       "      <th colspan=\"3\" halign=\"left\">var</th>\n",
       "    </tr>\n",
       "    <tr>\n",
       "      <th></th>\n",
       "      <th>duration</th>\n",
       "      <th>gb_used</th>\n",
       "      <th>id</th>\n",
       "      <th>duration</th>\n",
       "      <th>gb_used</th>\n",
       "      <th>id</th>\n",
       "      <th>duration</th>\n",
       "      <th>gb_used</th>\n",
       "      <th>id</th>\n",
       "    </tr>\n",
       "    <tr>\n",
       "      <th>tariff</th>\n",
       "      <th></th>\n",
       "      <th></th>\n",
       "      <th></th>\n",
       "      <th></th>\n",
       "      <th></th>\n",
       "      <th></th>\n",
       "      <th></th>\n",
       "      <th></th>\n",
       "      <th></th>\n",
       "    </tr>\n",
       "  </thead>\n",
       "  <tbody>\n",
       "    <tr>\n",
       "      <th>ultra</th>\n",
       "      <td>301.202703</td>\n",
       "      <td>11.385135</td>\n",
       "      <td>31.864865</td>\n",
       "      <td>267.69609</td>\n",
       "      <td>8.259831</td>\n",
       "      <td>37.016387</td>\n",
       "      <td>71661.196727</td>\n",
       "      <td>68.224812</td>\n",
       "      <td>1370.212907</td>\n",
       "    </tr>\n",
       "  </tbody>\n",
       "</table>\n",
       "</div>"
      ],
      "text/plain": [
       "              mean                              std                       \\\n",
       "          duration    gb_used         id   duration   gb_used         id   \n",
       "tariff                                                                     \n",
       "ultra   301.202703  11.385135  31.864865  267.69609  8.259831  37.016387   \n",
       "\n",
       "                 var                          \n",
       "            duration    gb_used           id  \n",
       "tariff                                        \n",
       "ultra   71661.196727  68.224812  1370.212907  "
      ]
     },
     "execution_count": 36,
     "metadata": {},
     "output_type": "execute_result"
    }
   ],
   "source": [
    "a = total_inf.query('tariff == \"ultra\"')\n",
    "a_1 = a.pivot_table(index='tariff', values=['duration', 'id', 'gb_used'],\n",
    "                       aggfunc=['mean', 'std', 'var'])\n",
    "a_1"
   ]
  },
  {
   "cell_type": "markdown",
   "metadata": {},
   "source": [
    "Судя по средним величинам, минуты и колличество сообщений не привышает беплатного лимита и не расходуется даже половины, а вот интернета  хватает. Проиллюстрируем на гистограмме"
   ]
  },
  {
   "cell_type": "markdown",
   "metadata": {},
   "source": [
    "Среднее отклонение длительности завонков: 268\n",
    "\n",
    "Среднее отклонение количесвто сообщений: 37\n",
    "\n",
    "Среднее отклонение израсходованного интернет-трафика: 8\n",
    "\n",
    "Дисперсия длительности завонков:  71661\n",
    "\n",
    "Дисперсия количесвто сообщений:  1370\n",
    "\n",
    "Дисперсия израсходованного интернет-трафика: 68"
   ]
  },
  {
   "cell_type": "code",
   "execution_count": 37,
   "metadata": {},
   "outputs": [
    {
     "data": {
      "image/png": "[encoded data removed]",
      "text/plain": [
       "<Figure size 432x288 with 1 Axes>"
      ]
     },
     "metadata": {
      "needs_background": "light"
     },
     "output_type": "display_data"
    }
   ],
   "source": [
    "a['duration'].hist(bins='auto')\n",
    "plt.title('Длительность звоноков')\n",
    "plt.ylabel('Длительность звонка, мин')\n",
    "plt.show()"
   ]
  },
  {
   "cell_type": "code",
   "execution_count": 38,
   "metadata": {},
   "outputs": [
    {
     "data": {
      "image/png": "[encoded data removed]",
      "text/plain": [
       "<Figure size 432x288 with 1 Axes>"
      ]
     },
     "metadata": {
      "needs_background": "light"
     },
     "output_type": "display_data"
    }
   ],
   "source": [
    "a['gb_used'].hist(bins='auto')\n",
    "plt.title('Использование интернт-трафика')\n",
    "plt.ylabel('Объём использованного трафика')\n",
    "plt.show()"
   ]
  },
  {
   "cell_type": "code",
   "execution_count": 39,
   "metadata": {},
   "outputs": [
    {
     "data": {
      "image/png": "[encoded data removed]",
      "text/plain": [
       "<Figure size 432x288 with 1 Axes>"
      ]
     },
     "metadata": {
      "needs_background": "light"
     },
     "output_type": "display_data"
    }
   ],
   "source": [
    "a['gb_used'].hist(bins='auto')\n",
    "plt.title('Использование интернт-трафика')\n",
    "plt.ylabel('Объём использованного трафика')\n",
    "plt.show()"
   ]
  },
  {
   "cell_type": "markdown",
   "metadata": {},
   "source": [
    "На рисунке наглядно видно, что вывоводы сделанные на основе расчетов верны. Минут и колличества сообщений, объём использованного интернет-трафика не привышает беплатного лимита."
   ]
  },
  {
   "cell_type": "code",
   "execution_count": 40,
   "metadata": {},
   "outputs": [
    {
     "data": {
      "text/plain": [
       "1950.0    143\n",
       "6450.0      2\n",
       "6900.0      1\n",
       "7200.0      1\n",
       "6750.0      1\n",
       "Name: profit, dtype: int64"
      ]
     },
     "execution_count": 40,
     "metadata": {},
     "output_type": "execute_result"
    }
   ],
   "source": [
    "inf_ultra['profit'].value_counts()"
   ]
  },
  {
   "cell_type": "markdown",
   "metadata": {},
   "source": [
    "Посмотря статистику, около 85% пользователей тарифа \"Ультра\", пользуется только основным пакетом услуг входящий в тариф. Так как на гистограмме видно, что докупают пользователи, только интрнет трафик. Это и объяснет, такой разрыв в доходах от пользователей."
   ]
  },
  {
   "cell_type": "markdown",
   "metadata": {},
   "source": [
    "### Вывод\n",
    "Проаналазировав данный о двух тарифах, можно сделать следующие выводы:\n",
    "\n",
    "- Тариф \"Смарт\":\n",
    "\n",
    "1. Колличество сообщений используется в рамках бесплатного тарифа\n",
    "\n",
    "2. Колличество израсходованных минут и интернета превышает лимит\n",
    "\n",
    "3. Большинство пользователей докупают дополнительные услуги (Гб интернета или минуты звонков)\n",
    "\n",
    "- Тариф \"Ультра\":\n",
    "\n",
    "1. Колличество  израсходованных минут и сообщений используется в рамках бесплатного тарифа\n",
    "\n",
    "2. Пользователям не хватает только интернет-трафика и лишь иалой части клиентов\n",
    "\n",
    "3. В общем малая часть нуждается в покупке дополнительных услуг."
   ]
  },
  {
   "cell_type": "markdown",
   "metadata": {},
   "source": [
    "## Проверка гипотез"
   ]
  },
  {
   "cell_type": "markdown",
   "metadata": {},
   "source": [
    "### Гипотеза 1\n",
    "\n",
    "Средняя выручка пользователей тарифов «Ультра» и «Смарт» различаются\n",
    "\n",
    "Нулевая гипотеза (Н0) - средняя выручка тарифов одиникова\n",
    "\n",
    "Альтернативная гипотеза - средняя выручка тарифов различается"
   ]
  },
  {
   "cell_type": "code",
   "execution_count": 41,
   "metadata": {},
   "outputs": [],
   "source": [
    "smart_tt = inf_smart['profit']"
   ]
  },
  {
   "cell_type": "code",
   "execution_count": 42,
   "metadata": {},
   "outputs": [],
   "source": [
    "ultra_tt = inf_ultra['profit'] "
   ]
  },
  {
   "cell_type": "code",
   "execution_count": 43,
   "metadata": {},
   "outputs": [
    {
     "name": "stdout",
     "output_type": "stream",
     "text": [
      "p-значение: 2.5833427923530154e-07\n",
      "Гипотеза неверна\n"
     ]
    }
   ],
   "source": [
    "\n",
    "alpha = .05 # критический уровень статистической значимости\n",
    "\n",
    "results = st.ttest_ind(\n",
    "    smart_tt, \n",
    "    ultra_tt,\n",
    "    equal_var=False)\n",
    "\n",
    "\n",
    "print('p-значение:', results.pvalue)\n",
    "\n",
    "\n",
    "if (results.pvalue < alpha):\n",
    "    print(\"Гипотеза неверна\")\n",
    "else:\n",
    "    print(\"Гипотеза верна\") \n"
   ]
  },
  {
   "cell_type": "markdown",
   "metadata": {},
   "source": [
    "Вероятность получить такое или большее различее случано около 0%.\n",
    "Средняя выручка тарифов действительно разная, отвергаеи 0 гипотезу"
   ]
  },
  {
   "cell_type": "markdown",
   "metadata": {},
   "source": [
    "### Гипотеза 2\n",
    "\n",
    "Средняя выручка пользователей из Москвы отличается от выручки пользователей из других регионов.\n",
    "\n",
    "Нулевая гипотеза (Н0) - средняя выручка пользователей из Москвы и из других регионов одинакова.\n",
    "\n",
    "Альтернативная гипотеза - средняя выручка пользователей из Москвы и из других регионов различается."
   ]
  },
  {
   "cell_type": "code",
   "execution_count": 44,
   "metadata": {},
   "outputs": [],
   "source": [
    "ultra_moscow = inf_ultra.query('city == \"Москва\"')\n",
    "smart_moscow = inf_smart.query('city == \"Москва\"')\n",
    "\n",
    "ultra_nomoscow = inf_ultra.query('city != \"Москва\"')\n",
    "smart_nomoscow = inf_smart.query('city != \"Москва\"')\n"
   ]
  },
  {
   "cell_type": "code",
   "execution_count": 45,
   "metadata": {},
   "outputs": [],
   "source": [
    "msc = ultra_moscow['profit']\n",
    "no_msc =ultra_nomoscow['profit']\n",
    "\n",
    "msc1 = smart_moscow['profit']\n",
    "nomsc1 = smart_nomoscow['profit']\n"
   ]
  },
  {
   "cell_type": "code",
   "execution_count": 46,
   "metadata": {},
   "outputs": [
    {
     "name": "stdout",
     "output_type": "stream",
     "text": [
      "p-значение: 0.9566882668240435\n",
      "Гипотеза верна\n"
     ]
    }
   ],
   "source": [
    "\n",
    "alpha = .05 # уровень статистической значимости\n",
    "\n",
    "results = st.ttest_ind( \n",
    "    msc,\n",
    "    no_msc,\n",
    "   equal_var=False)\n",
    "\n",
    "\n",
    "print('p-значение:', results.pvalue)\n",
    "\n",
    "\n",
    "if (results.pvalue < alpha):\n",
    "    print(\"Гипотеза неверна\")\n",
    "else:\n",
    "    print(\"Гипотеза верна\") "
   ]
  },
  {
   "cell_type": "markdown",
   "metadata": {},
   "source": [
    "Малая вероятность, чтобы делать вывод о разности между выборками. Принимаем 0 гипотезу."
   ]
  },
  {
   "cell_type": "code",
   "execution_count": 47,
   "metadata": {},
   "outputs": [
    {
     "name": "stdout",
     "output_type": "stream",
     "text": [
      "p-значение: 0.9780893007301433\n",
      "Гипотеза верна\n"
     ]
    }
   ],
   "source": [
    "\n",
    "alpha = .05 # уровень статистической значимости\n",
    "\n",
    "results = st.ttest_ind(\n",
    "    msc1, \n",
    "    nomsc1,\n",
    "    equal_var=False)\n",
    "\n",
    "\n",
    "print('p-значение:', results.pvalue)\n",
    "\n",
    "\n",
    "if (results.pvalue < alpha):\n",
    "    print(\"Гипотеза неверна\")\n",
    "else:\n",
    "    print(\"Гипотеза верна\") "
   ]
  },
  {
   "cell_type": "markdown",
   "metadata": {},
   "source": [
    "Данные значения говрят  о том, что небольшой зачение р-значение не может характеризовать различия между выбраными территориальными зонами. Принимаем нулевую гипотезу. Не смотря на то, что выручка разная. "
   ]
  },
  {
   "cell_type": "markdown",
   "metadata": {},
   "source": [
    "## Вывод"
   ]
  },
  {
   "cell_type": "markdown",
   "metadata": {},
   "source": [
    "В данном проекте мы проанализировали данный о пользователях:\n",
    "\n",
    "- потраченных минут звоноков\n",
    "- количестве отправленных сообщених\n",
    "- потраченном интернет-трафики\n"
   ]
  },
  {
   "cell_type": "markdown",
   "metadata": {},
   "source": [
    "В процессе изучения тарифов, были сделаны следующие выводы,а именно:\n",
    "\n",
    "1. Количество сообщений и минут звонков в болшей части пользователей не превышала бесплатного лимита в двух тарифах.\n",
    "\n",
    "2. Интернет-трафик в обоих предложениях превышает лимит, но в разных долях.\n",
    "\n",
    "3. Так же мы выяснили, что выручка у тарифов разная.\n",
    "\n",
    "4. Выручка между Москвой и регионами несильно различается.\n"
   ]
  },
  {
   "cell_type": "markdown",
   "metadata": {},
   "source": [
    "Подводя итоги, определим лучший тариф:"
   ]
  },
  {
   "cell_type": "markdown",
   "metadata": {},
   "source": [
    "Исходя из всех исследований в работе, мы выяснили,что чаще переплачивают за дополнительные усуги пользватели тарифа \"Смарт\", а значит пользователям даного тарифа(большинству) не хватает колличетсва услуг, входящих в базовый тариф. В основном переплачивают за интерет и звонки.  А в тарифе \"Ультра\" переплачивают за интернет, но гораздо меньшяя часть пользователей. \n",
    "\n",
    "Учитывая велечину и частоту перплаты по тарифу \"Смарт\" пользователями и то, что дополнительный 1Гб интернета там самый дорогой(тоже самое касается и дополнительних минут). То выходит выгоднее подключить тариф \"Ультра\". Несмотря на то, что количество пользователей разное в тарифах, даже если взять одинаковое число пользователей, процент использующий только базовый тариф людей, не будет таким большим как в тарифе \"Ультра\"."
   ]
  },
  {
   "cell_type": "code",
   "execution_count": null,
   "metadata": {},
   "outputs": [],
   "source": []
  }
 ],
 "metadata": {
  "ExecuteTimeLog": [
   {
    "duration": 516,
    "start_time": "2022-03-05T08:51:21.057Z"
   },
   {
    "duration": 149,
    "start_time": "2022-03-05T08:52:24.287Z"
   },
   {
    "duration": 20,
    "start_time": "2022-03-05T08:53:22.354Z"
   },
   {
    "duration": 74,
    "start_time": "2022-03-05T08:54:06.224Z"
   },
   {
    "duration": 19,
    "start_time": "2022-03-05T08:55:02.212Z"
   },
   {
    "duration": 76,
    "start_time": "2022-03-05T08:55:03.012Z"
   },
   {
    "duration": 351,
    "start_time": "2022-03-05T09:06:20.470Z"
   },
   {
    "duration": 319,
    "start_time": "2022-03-05T09:06:34.198Z"
   },
   {
    "duration": 559,
    "start_time": "2022-03-05T09:06:56.222Z"
   },
   {
    "duration": 5,
    "start_time": "2022-03-05T09:08:35.421Z"
   },
   {
    "duration": 5,
    "start_time": "2022-03-05T09:08:46.260Z"
   },
   {
    "duration": 10,
    "start_time": "2022-03-05T09:08:58.678Z"
   },
   {
    "duration": 4,
    "start_time": "2022-03-05T09:10:16.675Z"
   },
   {
    "duration": 5,
    "start_time": "2022-03-05T09:11:31.303Z"
   },
   {
    "duration": 298,
    "start_time": "2022-03-05T09:12:20.305Z"
   },
   {
    "duration": 5,
    "start_time": "2022-03-05T09:13:28.006Z"
   },
   {
    "duration": 9,
    "start_time": "2022-03-05T09:13:43.835Z"
   },
   {
    "duration": 118,
    "start_time": "2022-03-05T09:18:03.928Z"
   },
   {
    "duration": 16,
    "start_time": "2022-03-05T09:18:34.629Z"
   },
   {
    "duration": 48,
    "start_time": "2022-03-05T09:18:48.169Z"
   },
   {
    "duration": 115,
    "start_time": "2022-03-05T09:19:04.437Z"
   },
   {
    "duration": 125,
    "start_time": "2022-03-05T09:25:59.223Z"
   },
   {
    "duration": 121,
    "start_time": "2022-03-05T09:26:06.723Z"
   },
   {
    "duration": 6,
    "start_time": "2022-03-05T09:26:49.480Z"
   },
   {
    "duration": 14,
    "start_time": "2022-03-05T09:27:46.943Z"
   },
   {
    "duration": 83,
    "start_time": "2022-03-05T09:44:40.684Z"
   },
   {
    "duration": 14,
    "start_time": "2022-03-05T09:45:15.674Z"
   },
   {
    "duration": 37,
    "start_time": "2022-03-05T09:45:33.784Z"
   },
   {
    "duration": 38,
    "start_time": "2022-03-05T09:46:00.097Z"
   },
   {
    "duration": 33,
    "start_time": "2022-03-05T09:48:53.034Z"
   },
   {
    "duration": 5,
    "start_time": "2022-03-05T09:49:10.488Z"
   },
   {
    "duration": 23,
    "start_time": "2022-03-05T09:49:19.520Z"
   },
   {
    "duration": 6,
    "start_time": "2022-03-05T09:49:20.810Z"
   },
   {
    "duration": 94,
    "start_time": "2022-03-05T09:49:59.285Z"
   },
   {
    "duration": 67,
    "start_time": "2022-03-05T09:51:30.832Z"
   },
   {
    "duration": 48,
    "start_time": "2022-03-05T09:52:52.423Z"
   },
   {
    "duration": 7,
    "start_time": "2022-03-05T09:53:49.994Z"
   },
   {
    "duration": 8,
    "start_time": "2022-03-05T09:55:27.232Z"
   },
   {
    "duration": 280,
    "start_time": "2022-03-05T10:07:36.742Z"
   },
   {
    "duration": 297,
    "start_time": "2022-03-05T10:07:47.610Z"
   },
   {
    "duration": 26,
    "start_time": "2022-03-05T10:07:55.420Z"
   },
   {
    "duration": 21,
    "start_time": "2022-03-05T10:09:18.666Z"
   },
   {
    "duration": 18,
    "start_time": "2022-03-05T10:10:51.628Z"
   },
   {
    "duration": 6,
    "start_time": "2022-03-05T10:11:26.028Z"
   },
   {
    "duration": 7,
    "start_time": "2022-03-05T10:12:29.226Z"
   },
   {
    "duration": 556,
    "start_time": "2022-03-05T10:14:36.664Z"
   },
   {
    "duration": 141,
    "start_time": "2022-03-05T10:14:37.222Z"
   },
   {
    "duration": 22,
    "start_time": "2022-03-05T10:14:37.365Z"
   },
   {
    "duration": 30,
    "start_time": "2022-03-05T10:14:37.401Z"
   },
   {
    "duration": 10,
    "start_time": "2022-03-05T10:14:37.432Z"
   },
   {
    "duration": 89,
    "start_time": "2022-03-05T10:14:37.444Z"
   },
   {
    "duration": 121,
    "start_time": "2022-03-05T10:14:37.535Z"
   },
   {
    "duration": 15,
    "start_time": "2022-03-05T10:14:37.659Z"
   },
   {
    "duration": 36,
    "start_time": "2022-03-05T10:14:37.676Z"
   },
   {
    "duration": 49,
    "start_time": "2022-03-05T10:14:37.714Z"
   },
   {
    "duration": 13,
    "start_time": "2022-03-05T10:14:37.765Z"
   },
   {
    "duration": 84,
    "start_time": "2022-03-05T10:14:37.780Z"
   },
   {
    "duration": 12,
    "start_time": "2022-03-05T10:14:37.866Z"
   },
   {
    "duration": 33,
    "start_time": "2022-03-05T10:14:37.880Z"
   },
   {
    "duration": 33,
    "start_time": "2022-03-05T10:14:37.914Z"
   },
   {
    "duration": 21,
    "start_time": "2022-03-05T10:14:37.949Z"
   },
   {
    "duration": 20,
    "start_time": "2022-03-05T10:14:37.971Z"
   },
   {
    "duration": 86,
    "start_time": "2022-03-05T10:14:37.993Z"
   },
   {
    "duration": 17,
    "start_time": "2022-03-05T10:14:38.080Z"
   },
   {
    "duration": 26,
    "start_time": "2022-03-05T10:14:38.099Z"
   },
   {
    "duration": 41,
    "start_time": "2022-03-05T10:14:38.127Z"
   },
   {
    "duration": 345,
    "start_time": "2022-03-05T10:32:12.541Z"
   },
   {
    "duration": 8,
    "start_time": "2022-03-05T10:32:17.013Z"
   },
   {
    "duration": 9,
    "start_time": "2022-03-05T10:32:21.932Z"
   },
   {
    "duration": 175,
    "start_time": "2022-03-05T10:34:09.049Z"
   },
   {
    "duration": 341,
    "start_time": "2022-03-05T10:34:18.161Z"
   },
   {
    "duration": 23,
    "start_time": "2022-03-05T10:34:25.801Z"
   },
   {
    "duration": 616,
    "start_time": "2022-03-05T10:36:11.552Z"
   },
   {
    "duration": 5659,
    "start_time": "2022-03-05T10:36:06.511Z"
   },
   {
    "duration": 536,
    "start_time": "2022-03-05T10:36:24.691Z"
   },
   {
    "duration": 18,
    "start_time": "2022-03-05T10:36:28.411Z"
   },
   {
    "duration": 18,
    "start_time": "2022-03-05T10:36:29.192Z"
   },
   {
    "duration": 10,
    "start_time": "2022-03-05T10:36:29.212Z"
   },
   {
    "duration": 11,
    "start_time": "2022-03-05T10:36:36.800Z"
   },
   {
    "duration": 215,
    "start_time": "2022-03-06T12:32:16.475Z"
   },
   {
    "duration": 180,
    "start_time": "2022-03-06T12:32:17.013Z"
   },
   {
    "duration": 568,
    "start_time": "2022-03-06T12:32:24.087Z"
   },
   {
    "duration": 181,
    "start_time": "2022-03-06T12:32:24.657Z"
   },
   {
    "duration": 27,
    "start_time": "2022-03-06T12:32:24.841Z"
   },
   {
    "duration": 34,
    "start_time": "2022-03-06T12:32:24.870Z"
   },
   {
    "duration": 36,
    "start_time": "2022-03-06T12:32:24.906Z"
   },
   {
    "duration": 124,
    "start_time": "2022-03-06T12:32:24.944Z"
   },
   {
    "duration": 153,
    "start_time": "2022-03-06T12:32:25.070Z"
   },
   {
    "duration": 33,
    "start_time": "2022-03-06T12:32:25.226Z"
   },
   {
    "duration": 23,
    "start_time": "2022-03-06T12:32:25.262Z"
   },
   {
    "duration": 83,
    "start_time": "2022-03-06T12:32:25.287Z"
   },
   {
    "duration": 16,
    "start_time": "2022-03-06T12:32:25.372Z"
   },
   {
    "duration": 113,
    "start_time": "2022-03-06T12:32:25.390Z"
   },
   {
    "duration": 14,
    "start_time": "2022-03-06T12:32:25.505Z"
   },
   {
    "duration": 38,
    "start_time": "2022-03-06T12:32:25.521Z"
   },
   {
    "duration": 42,
    "start_time": "2022-03-06T12:32:25.562Z"
   },
   {
    "duration": 17,
    "start_time": "2022-03-06T12:32:25.605Z"
   },
   {
    "duration": 10,
    "start_time": "2022-03-06T12:32:25.639Z"
   },
   {
    "duration": 37,
    "start_time": "2022-03-06T12:32:25.651Z"
   },
   {
    "duration": 6,
    "start_time": "2022-03-06T12:32:25.690Z"
   },
   {
    "duration": 15,
    "start_time": "2022-03-06T12:32:25.698Z"
   },
   {
    "duration": 9,
    "start_time": "2022-03-06T12:32:25.715Z"
   },
   {
    "duration": 17,
    "start_time": "2022-03-06T12:32:25.725Z"
   },
   {
    "duration": 13,
    "start_time": "2022-03-06T12:32:25.747Z"
   },
   {
    "duration": 7,
    "start_time": "2022-03-06T12:32:54.217Z"
   },
   {
    "duration": 23,
    "start_time": "2022-03-06T12:33:08.758Z"
   },
   {
    "duration": 9,
    "start_time": "2022-03-06T12:33:09.975Z"
   },
   {
    "duration": 3,
    "start_time": "2022-03-06T12:35:18.692Z"
   },
   {
    "duration": 4,
    "start_time": "2022-03-06T12:35:19.267Z"
   },
   {
    "duration": 26,
    "start_time": "2022-03-06T12:35:51.528Z"
   },
   {
    "duration": 10,
    "start_time": "2022-03-06T12:35:51.847Z"
   },
   {
    "duration": 33,
    "start_time": "2022-03-06T12:36:14.719Z"
   },
   {
    "duration": 248,
    "start_time": "2022-03-06T12:41:17.178Z"
   },
   {
    "duration": 179,
    "start_time": "2022-03-06T12:41:29.276Z"
   },
   {
    "duration": 243,
    "start_time": "2022-03-06T12:41:35.753Z"
   },
   {
    "duration": 173,
    "start_time": "2022-03-06T12:41:52.298Z"
   },
   {
    "duration": 16,
    "start_time": "2022-03-06T12:42:06.027Z"
   },
   {
    "duration": 15,
    "start_time": "2022-03-06T12:42:46.757Z"
   },
   {
    "duration": 16,
    "start_time": "2022-03-06T12:44:19.090Z"
   },
   {
    "duration": 15,
    "start_time": "2022-03-06T12:45:22.818Z"
   },
   {
    "duration": 150,
    "start_time": "2022-03-06T12:46:28.047Z"
   },
   {
    "duration": 160,
    "start_time": "2022-03-06T12:46:32.985Z"
   },
   {
    "duration": 156,
    "start_time": "2022-03-06T12:46:59.311Z"
   },
   {
    "duration": 24,
    "start_time": "2022-03-06T12:47:45.632Z"
   },
   {
    "duration": 30,
    "start_time": "2022-03-06T12:48:08.124Z"
   },
   {
    "duration": 17,
    "start_time": "2022-03-06T12:48:42.835Z"
   },
   {
    "duration": 602,
    "start_time": "2022-03-06T12:50:24.020Z"
   },
   {
    "duration": 174,
    "start_time": "2022-03-06T12:50:24.624Z"
   },
   {
    "duration": 20,
    "start_time": "2022-03-06T12:50:24.801Z"
   },
   {
    "duration": 51,
    "start_time": "2022-03-06T12:50:24.824Z"
   },
   {
    "duration": 14,
    "start_time": "2022-03-06T12:50:24.877Z"
   },
   {
    "duration": 136,
    "start_time": "2022-03-06T12:50:24.893Z"
   },
   {
    "duration": 147,
    "start_time": "2022-03-06T12:50:25.031Z"
   },
   {
    "duration": 17,
    "start_time": "2022-03-06T12:50:25.181Z"
   },
   {
    "duration": 46,
    "start_time": "2022-03-06T12:50:25.202Z"
   },
   {
    "duration": 58,
    "start_time": "2022-03-06T12:50:25.251Z"
   },
   {
    "duration": 30,
    "start_time": "2022-03-06T12:50:25.311Z"
   },
   {
    "duration": 96,
    "start_time": "2022-03-06T12:50:25.343Z"
   },
   {
    "duration": 19,
    "start_time": "2022-03-06T12:50:25.441Z"
   },
   {
    "duration": 19,
    "start_time": "2022-03-06T12:50:25.462Z"
   },
   {
    "duration": 68,
    "start_time": "2022-03-06T12:50:25.482Z"
   },
   {
    "duration": 17,
    "start_time": "2022-03-06T12:50:25.552Z"
   },
   {
    "duration": 7,
    "start_time": "2022-03-06T12:50:25.571Z"
   },
   {
    "duration": 28,
    "start_time": "2022-03-06T12:50:25.580Z"
   },
   {
    "duration": 6,
    "start_time": "2022-03-06T12:50:25.610Z"
   },
   {
    "duration": 8,
    "start_time": "2022-03-06T12:50:25.617Z"
   },
   {
    "duration": 12,
    "start_time": "2022-03-06T12:50:25.637Z"
   },
   {
    "duration": 238,
    "start_time": "2022-03-06T12:50:25.651Z"
   },
   {
    "duration": 18,
    "start_time": "2022-03-06T12:52:13.241Z"
   },
   {
    "duration": 19,
    "start_time": "2022-03-06T12:52:21.847Z"
   },
   {
    "duration": 134,
    "start_time": "2022-03-06T12:52:42.732Z"
   },
   {
    "duration": 225,
    "start_time": "2022-03-06T12:52:59.125Z"
   },
   {
    "duration": 16,
    "start_time": "2022-03-06T12:53:19.191Z"
   },
   {
    "duration": 174,
    "start_time": "2022-03-06T12:53:22.266Z"
   },
   {
    "duration": 21,
    "start_time": "2022-03-06T12:54:13.998Z"
   },
   {
    "duration": 13,
    "start_time": "2022-03-06T12:54:42.051Z"
   },
   {
    "duration": 20,
    "start_time": "2022-03-06T12:55:22.798Z"
   },
   {
    "duration": 189,
    "start_time": "2022-03-06T13:18:35.801Z"
   },
   {
    "duration": 2325,
    "start_time": "2022-03-06T13:18:57.798Z"
   },
   {
    "duration": 22,
    "start_time": "2022-03-06T13:19:10.324Z"
   },
   {
    "duration": 171,
    "start_time": "2022-03-06T13:20:17.039Z"
   },
   {
    "duration": 14,
    "start_time": "2022-03-06T13:20:22.995Z"
   },
   {
    "duration": 4,
    "start_time": "2022-03-06T13:20:23.935Z"
   },
   {
    "duration": 10,
    "start_time": "2022-03-06T13:20:34.019Z"
   },
   {
    "duration": 14,
    "start_time": "2022-03-06T13:21:20.113Z"
   },
   {
    "duration": 14,
    "start_time": "2022-03-06T13:21:26.776Z"
   },
   {
    "duration": 14,
    "start_time": "2022-03-06T13:21:26.932Z"
   },
   {
    "duration": 9,
    "start_time": "2022-03-06T13:28:14.412Z"
   },
   {
    "duration": 31,
    "start_time": "2022-03-06T13:28:58.977Z"
   },
   {
    "duration": 14,
    "start_time": "2022-03-06T13:29:21.169Z"
   },
   {
    "duration": 173,
    "start_time": "2022-03-06T13:45:03.602Z"
   },
   {
    "duration": 13,
    "start_time": "2022-03-06T13:45:29.941Z"
   },
   {
    "duration": 15,
    "start_time": "2022-03-06T13:47:40.940Z"
   },
   {
    "duration": 11,
    "start_time": "2022-03-06T13:47:41.691Z"
   },
   {
    "duration": 14,
    "start_time": "2022-03-06T13:47:42.692Z"
   },
   {
    "duration": 20,
    "start_time": "2022-03-06T13:47:54.580Z"
   },
   {
    "duration": 184,
    "start_time": "2022-03-06T13:48:44.397Z"
   },
   {
    "duration": 19,
    "start_time": "2022-03-06T13:49:10.816Z"
   },
   {
    "duration": 10,
    "start_time": "2022-03-06T13:49:13.253Z"
   },
   {
    "duration": 19,
    "start_time": "2022-03-06T13:49:14.419Z"
   },
   {
    "duration": 14,
    "start_time": "2022-03-06T13:49:24.123Z"
   },
   {
    "duration": 10,
    "start_time": "2022-03-06T13:49:25.327Z"
   },
   {
    "duration": 19,
    "start_time": "2022-03-06T13:49:25.922Z"
   },
   {
    "duration": 19,
    "start_time": "2022-03-06T13:49:34.925Z"
   },
   {
    "duration": 10,
    "start_time": "2022-03-06T13:49:35.443Z"
   },
   {
    "duration": 68,
    "start_time": "2022-03-06T13:57:07.775Z"
   },
   {
    "duration": 59,
    "start_time": "2022-03-06T13:57:13.599Z"
   },
   {
    "duration": 188,
    "start_time": "2022-03-06T13:57:17.680Z"
   },
   {
    "duration": 59,
    "start_time": "2022-03-06T14:07:53.828Z"
   },
   {
    "duration": 14,
    "start_time": "2022-03-06T14:07:58.257Z"
   },
   {
    "duration": 20,
    "start_time": "2022-03-06T14:07:58.847Z"
   },
   {
    "duration": 11,
    "start_time": "2022-03-06T14:08:00.369Z"
   },
   {
    "duration": 34,
    "start_time": "2022-03-06T14:08:40.528Z"
   },
   {
    "duration": 38,
    "start_time": "2022-03-06T14:08:49.051Z"
   },
   {
    "duration": 19,
    "start_time": "2022-03-06T14:08:54.179Z"
   },
   {
    "duration": 64,
    "start_time": "2022-03-06T14:09:15.071Z"
   },
   {
    "duration": 17,
    "start_time": "2022-03-06T14:09:20.489Z"
   },
   {
    "duration": 21,
    "start_time": "2022-03-06T14:12:22.229Z"
   },
   {
    "duration": 177,
    "start_time": "2022-03-06T14:12:30.905Z"
   },
   {
    "duration": 26,
    "start_time": "2022-03-06T14:13:31.696Z"
   },
   {
    "duration": 191,
    "start_time": "2022-03-06T14:14:35.062Z"
   },
   {
    "duration": 583,
    "start_time": "2022-03-06T14:15:03.326Z"
   },
   {
    "duration": 170,
    "start_time": "2022-03-06T14:15:03.911Z"
   },
   {
    "duration": 22,
    "start_time": "2022-03-06T14:15:04.083Z"
   },
   {
    "duration": 46,
    "start_time": "2022-03-06T14:15:04.106Z"
   },
   {
    "duration": 12,
    "start_time": "2022-03-06T14:15:04.153Z"
   },
   {
    "duration": 117,
    "start_time": "2022-03-06T14:15:04.167Z"
   },
   {
    "duration": 139,
    "start_time": "2022-03-06T14:15:04.285Z"
   },
   {
    "duration": 21,
    "start_time": "2022-03-06T14:15:04.426Z"
   },
   {
    "duration": 24,
    "start_time": "2022-03-06T14:15:04.449Z"
   },
   {
    "duration": 76,
    "start_time": "2022-03-06T14:15:04.474Z"
   },
   {
    "duration": 16,
    "start_time": "2022-03-06T14:15:04.552Z"
   },
   {
    "duration": 102,
    "start_time": "2022-03-06T14:15:04.570Z"
   },
   {
    "duration": 14,
    "start_time": "2022-03-06T14:15:04.674Z"
   },
   {
    "duration": 22,
    "start_time": "2022-03-06T14:15:04.690Z"
   },
   {
    "duration": 59,
    "start_time": "2022-03-06T14:15:04.714Z"
   },
   {
    "duration": 17,
    "start_time": "2022-03-06T14:15:04.775Z"
   },
   {
    "duration": 18,
    "start_time": "2022-03-06T14:15:04.793Z"
   },
   {
    "duration": 52,
    "start_time": "2022-03-06T14:15:04.813Z"
   },
   {
    "duration": 6,
    "start_time": "2022-03-06T14:15:04.866Z"
   },
   {
    "duration": 9,
    "start_time": "2022-03-06T14:15:04.874Z"
   },
   {
    "duration": 8,
    "start_time": "2022-03-06T14:15:04.885Z"
   },
   {
    "duration": 122,
    "start_time": "2022-03-06T14:15:04.895Z"
   },
   {
    "duration": 54,
    "start_time": "2022-03-06T14:15:05.021Z"
   },
   {
    "duration": 71,
    "start_time": "2022-03-06T14:15:05.077Z"
   },
   {
    "duration": 18,
    "start_time": "2022-03-06T14:15:05.150Z"
   },
   {
    "duration": 12,
    "start_time": "2022-03-06T14:15:05.170Z"
   },
   {
    "duration": 337,
    "start_time": "2022-03-06T14:15:24.506Z"
   },
   {
    "duration": 92,
    "start_time": "2022-03-06T14:15:43.720Z"
   },
   {
    "duration": 184,
    "start_time": "2022-03-06T14:16:22.488Z"
   },
   {
    "duration": 181,
    "start_time": "2022-03-06T14:22:35.206Z"
   },
   {
    "duration": 23,
    "start_time": "2022-03-06T14:22:44.111Z"
   },
   {
    "duration": 26,
    "start_time": "2022-03-06T14:22:58.514Z"
   },
   {
    "duration": 35,
    "start_time": "2022-03-06T14:23:17.732Z"
   },
   {
    "duration": 33,
    "start_time": "2022-03-06T14:23:46.791Z"
   },
   {
    "duration": 15,
    "start_time": "2022-03-06T14:24:13.976Z"
   },
   {
    "duration": 19,
    "start_time": "2022-03-06T14:26:40.021Z"
   },
   {
    "duration": 13,
    "start_time": "2022-03-06T14:26:41.402Z"
   },
   {
    "duration": 7,
    "start_time": "2022-03-06T14:27:16.356Z"
   },
   {
    "duration": 179,
    "start_time": "2022-03-06T14:27:34.655Z"
   },
   {
    "duration": 176,
    "start_time": "2022-03-06T14:28:04.427Z"
   },
   {
    "duration": 17,
    "start_time": "2022-03-06T14:29:17.841Z"
   },
   {
    "duration": 180,
    "start_time": "2022-03-06T14:29:18.616Z"
   },
   {
    "duration": 24,
    "start_time": "2022-03-06T14:29:49.261Z"
   },
   {
    "duration": 28,
    "start_time": "2022-03-06T14:29:54.710Z"
   },
   {
    "duration": 33,
    "start_time": "2022-03-06T14:30:10.566Z"
   },
   {
    "duration": 14,
    "start_time": "2022-03-06T14:30:17.295Z"
   },
   {
    "duration": 176,
    "start_time": "2022-03-06T14:30:43.362Z"
   },
   {
    "duration": 15,
    "start_time": "2022-03-06T14:32:18.443Z"
   },
   {
    "duration": 15,
    "start_time": "2022-03-06T14:32:57.726Z"
   },
   {
    "duration": 15,
    "start_time": "2022-03-06T14:32:59.985Z"
   },
   {
    "duration": 37,
    "start_time": "2022-03-06T14:33:15.747Z"
   },
   {
    "duration": 16,
    "start_time": "2022-03-06T14:33:22.582Z"
   },
   {
    "duration": 21,
    "start_time": "2022-03-06T14:34:41.035Z"
   },
   {
    "duration": 285,
    "start_time": "2022-03-06T14:34:49.303Z"
   },
   {
    "duration": 35,
    "start_time": "2022-03-06T14:34:57.083Z"
   },
   {
    "duration": 17,
    "start_time": "2022-03-06T14:35:12.222Z"
   },
   {
    "duration": 36,
    "start_time": "2022-03-06T14:35:12.794Z"
   },
   {
    "duration": 635,
    "start_time": "2022-03-06T14:35:53.825Z"
   },
   {
    "duration": 165,
    "start_time": "2022-03-06T14:35:54.462Z"
   },
   {
    "duration": 26,
    "start_time": "2022-03-06T14:35:54.631Z"
   },
   {
    "duration": 30,
    "start_time": "2022-03-06T14:35:54.659Z"
   },
   {
    "duration": 14,
    "start_time": "2022-03-06T14:35:54.691Z"
   },
   {
    "duration": 141,
    "start_time": "2022-03-06T14:35:54.707Z"
   },
   {
    "duration": 139,
    "start_time": "2022-03-06T14:35:54.852Z"
   },
   {
    "duration": 17,
    "start_time": "2022-03-06T14:35:54.993Z"
   },
   {
    "duration": 40,
    "start_time": "2022-03-06T14:35:55.012Z"
   },
   {
    "duration": 58,
    "start_time": "2022-03-06T14:35:55.053Z"
   },
   {
    "duration": 28,
    "start_time": "2022-03-06T14:35:55.112Z"
   },
   {
    "duration": 1759,
    "start_time": "2022-03-06T14:35:55.142Z"
   },
   {
    "duration": 16,
    "start_time": "2022-03-06T14:35:56.904Z"
   },
   {
    "duration": 33,
    "start_time": "2022-03-06T14:35:56.922Z"
   },
   {
    "duration": 57,
    "start_time": "2022-03-06T14:35:56.957Z"
   },
   {
    "duration": 31,
    "start_time": "2022-03-06T14:35:57.016Z"
   },
   {
    "duration": 10,
    "start_time": "2022-03-06T14:35:57.049Z"
   },
   {
    "duration": 54,
    "start_time": "2022-03-06T14:35:57.061Z"
   },
   {
    "duration": 6,
    "start_time": "2022-03-06T14:35:57.117Z"
   },
   {
    "duration": 8,
    "start_time": "2022-03-06T14:35:57.126Z"
   },
   {
    "duration": 6,
    "start_time": "2022-03-06T14:35:57.136Z"
   },
   {
    "duration": 22,
    "start_time": "2022-03-06T14:35:57.145Z"
   },
   {
    "duration": 29,
    "start_time": "2022-03-06T14:35:57.168Z"
   },
   {
    "duration": 50,
    "start_time": "2022-03-06T14:35:57.199Z"
   },
   {
    "duration": 12,
    "start_time": "2022-03-06T14:35:57.251Z"
   },
   {
    "duration": 46,
    "start_time": "2022-03-06T14:35:57.264Z"
   },
   {
    "duration": 39,
    "start_time": "2022-03-06T14:35:57.312Z"
   },
   {
    "duration": 4458,
    "start_time": "2022-03-06T14:41:59.031Z"
   },
   {
    "duration": 18,
    "start_time": "2022-03-06T14:42:27.986Z"
   },
   {
    "duration": 207,
    "start_time": "2022-03-06T14:46:05.012Z"
   },
   {
    "duration": 34,
    "start_time": "2022-03-06T14:46:36.695Z"
   },
   {
    "duration": 213,
    "start_time": "2022-03-07T14:21:54.324Z"
   },
   {
    "duration": 205,
    "start_time": "2022-03-07T14:22:01.783Z"
   },
   {
    "duration": 604,
    "start_time": "2022-03-07T14:22:12.104Z"
   },
   {
    "duration": 175,
    "start_time": "2022-03-07T14:22:12.710Z"
   },
   {
    "duration": 21,
    "start_time": "2022-03-07T14:22:12.887Z"
   },
   {
    "duration": 49,
    "start_time": "2022-03-07T14:22:12.910Z"
   },
   {
    "duration": 12,
    "start_time": "2022-03-07T14:22:12.961Z"
   },
   {
    "duration": 117,
    "start_time": "2022-03-07T14:22:12.975Z"
   },
   {
    "duration": 130,
    "start_time": "2022-03-07T14:22:13.093Z"
   },
   {
    "duration": 26,
    "start_time": "2022-03-07T14:22:13.225Z"
   },
   {
    "duration": 25,
    "start_time": "2022-03-07T14:22:13.253Z"
   },
   {
    "duration": 70,
    "start_time": "2022-03-07T14:22:13.280Z"
   },
   {
    "duration": 14,
    "start_time": "2022-03-07T14:22:13.352Z"
   },
   {
    "duration": 96,
    "start_time": "2022-03-07T14:22:13.368Z"
   },
   {
    "duration": 15,
    "start_time": "2022-03-07T14:22:13.466Z"
   },
   {
    "duration": 21,
    "start_time": "2022-03-07T14:22:13.482Z"
   },
   {
    "duration": 60,
    "start_time": "2022-03-07T14:22:13.505Z"
   },
   {
    "duration": 17,
    "start_time": "2022-03-07T14:22:13.567Z"
   },
   {
    "duration": 11,
    "start_time": "2022-03-07T14:22:13.586Z"
   },
   {
    "duration": 40,
    "start_time": "2022-03-07T14:22:13.599Z"
   },
   {
    "duration": 8,
    "start_time": "2022-03-07T14:22:13.641Z"
   },
   {
    "duration": 11,
    "start_time": "2022-03-07T14:22:13.651Z"
   },
   {
    "duration": 9,
    "start_time": "2022-03-07T14:22:13.664Z"
   },
   {
    "duration": 25,
    "start_time": "2022-03-07T14:22:13.675Z"
   },
   {
    "duration": 47,
    "start_time": "2022-03-07T14:22:13.703Z"
   },
   {
    "duration": 30,
    "start_time": "2022-03-07T14:22:13.752Z"
   },
   {
    "duration": 15,
    "start_time": "2022-03-07T14:22:13.784Z"
   },
   {
    "duration": 40,
    "start_time": "2022-03-07T14:22:13.800Z"
   },
   {
    "duration": 33,
    "start_time": "2022-03-07T14:22:13.841Z"
   },
   {
    "duration": 16,
    "start_time": "2022-03-07T14:22:13.876Z"
   },
   {
    "duration": 49,
    "start_time": "2022-03-07T14:22:13.894Z"
   },
   {
    "duration": 15,
    "start_time": "2022-03-07T14:22:13.945Z"
   },
   {
    "duration": 8,
    "start_time": "2022-03-07T14:24:23.233Z"
   },
   {
    "duration": 30,
    "start_time": "2022-03-07T14:25:35.825Z"
   },
   {
    "duration": 25,
    "start_time": "2022-03-07T14:26:58.418Z"
   },
   {
    "duration": 253,
    "start_time": "2022-03-07T14:27:25.614Z"
   },
   {
    "duration": 27,
    "start_time": "2022-03-07T14:27:39.509Z"
   },
   {
    "duration": 8,
    "start_time": "2022-03-07T14:27:57.872Z"
   },
   {
    "duration": 28,
    "start_time": "2022-03-07T14:27:58.263Z"
   },
   {
    "duration": 16,
    "start_time": "2022-03-07T14:28:38.532Z"
   },
   {
    "duration": 10,
    "start_time": "2022-03-07T14:29:22.262Z"
   },
   {
    "duration": 21,
    "start_time": "2022-03-07T14:30:05.782Z"
   },
   {
    "duration": 24,
    "start_time": "2022-03-07T14:30:27.267Z"
   },
   {
    "duration": 23,
    "start_time": "2022-03-07T14:33:13.030Z"
   },
   {
    "duration": 12,
    "start_time": "2022-03-07T14:37:54.274Z"
   },
   {
    "duration": 29,
    "start_time": "2022-03-07T14:38:00.035Z"
   },
   {
    "duration": 8,
    "start_time": "2022-03-07T14:38:28.168Z"
   },
   {
    "duration": 64,
    "start_time": "2022-03-07T14:42:39.136Z"
   },
   {
    "duration": 8,
    "start_time": "2022-03-07T14:42:45.344Z"
   },
   {
    "duration": 53,
    "start_time": "2022-03-07T14:42:50.716Z"
   },
   {
    "duration": 8,
    "start_time": "2022-03-07T14:42:53.771Z"
   },
   {
    "duration": 172,
    "start_time": "2022-03-07T14:43:53.391Z"
   },
   {
    "duration": 179,
    "start_time": "2022-03-07T14:44:47.036Z"
   },
   {
    "duration": 223,
    "start_time": "2022-03-07T14:46:11.399Z"
   },
   {
    "duration": 184,
    "start_time": "2022-03-07T14:46:17.357Z"
   },
   {
    "duration": 2,
    "start_time": "2022-03-07T14:46:42.084Z"
   },
   {
    "duration": 168,
    "start_time": "2022-03-07T14:46:46.979Z"
   },
   {
    "duration": 201,
    "start_time": "2022-03-07T14:50:30.008Z"
   },
   {
    "duration": 177,
    "start_time": "2022-03-07T14:52:37.981Z"
   },
   {
    "duration": 178,
    "start_time": "2022-03-07T14:56:19.378Z"
   },
   {
    "duration": 177,
    "start_time": "2022-03-07T14:56:38.257Z"
   },
   {
    "duration": 10,
    "start_time": "2022-03-07T14:56:49.520Z"
   },
   {
    "duration": 10,
    "start_time": "2022-03-07T14:57:02.330Z"
   },
   {
    "duration": 8,
    "start_time": "2022-03-07T14:57:15.810Z"
   },
   {
    "duration": 9,
    "start_time": "2022-03-07T14:57:34.218Z"
   },
   {
    "duration": 9,
    "start_time": "2022-03-07T14:59:09.004Z"
   },
   {
    "duration": 169,
    "start_time": "2022-03-07T14:59:29.565Z"
   },
   {
    "duration": 571,
    "start_time": "2022-03-07T14:59:35.843Z"
   },
   {
    "duration": 167,
    "start_time": "2022-03-07T14:59:36.416Z"
   },
   {
    "duration": 22,
    "start_time": "2022-03-07T14:59:36.586Z"
   },
   {
    "duration": 42,
    "start_time": "2022-03-07T14:59:36.610Z"
   },
   {
    "duration": 13,
    "start_time": "2022-03-07T14:59:36.654Z"
   },
   {
    "duration": 121,
    "start_time": "2022-03-07T14:59:36.668Z"
   },
   {
    "duration": 138,
    "start_time": "2022-03-07T14:59:36.791Z"
   },
   {
    "duration": 22,
    "start_time": "2022-03-07T14:59:36.931Z"
   },
   {
    "duration": 23,
    "start_time": "2022-03-07T14:59:36.956Z"
   },
   {
    "duration": 87,
    "start_time": "2022-03-07T14:59:36.981Z"
   },
   {
    "duration": 16,
    "start_time": "2022-03-07T14:59:37.070Z"
   },
   {
    "duration": 102,
    "start_time": "2022-03-07T14:59:37.088Z"
   },
   {
    "duration": 14,
    "start_time": "2022-03-07T14:59:37.192Z"
   },
   {
    "duration": 37,
    "start_time": "2022-03-07T14:59:37.208Z"
   },
   {
    "duration": 42,
    "start_time": "2022-03-07T14:59:37.247Z"
   },
   {
    "duration": 17,
    "start_time": "2022-03-07T14:59:37.290Z"
   },
   {
    "duration": 10,
    "start_time": "2022-03-07T14:59:37.309Z"
   },
   {
    "duration": 33,
    "start_time": "2022-03-07T14:59:37.320Z"
   },
   {
    "duration": 6,
    "start_time": "2022-03-07T14:59:37.354Z"
   },
   {
    "duration": 8,
    "start_time": "2022-03-07T14:59:37.361Z"
   },
   {
    "duration": 11,
    "start_time": "2022-03-07T14:59:37.371Z"
   },
   {
    "duration": 25,
    "start_time": "2022-03-07T14:59:37.384Z"
   },
   {
    "duration": 46,
    "start_time": "2022-03-07T14:59:37.411Z"
   },
   {
    "duration": 33,
    "start_time": "2022-03-07T14:59:37.459Z"
   },
   {
    "duration": 231,
    "start_time": "2022-03-07T14:59:37.493Z"
   },
   {
    "duration": -14,
    "start_time": "2022-03-07T14:59:37.740Z"
   },
   {
    "duration": -21,
    "start_time": "2022-03-07T14:59:37.748Z"
   },
   {
    "duration": -25,
    "start_time": "2022-03-07T14:59:37.753Z"
   },
   {
    "duration": -32,
    "start_time": "2022-03-07T14:59:37.761Z"
   },
   {
    "duration": -37,
    "start_time": "2022-03-07T14:59:37.767Z"
   },
   {
    "duration": -46,
    "start_time": "2022-03-07T14:59:37.777Z"
   },
   {
    "duration": -50,
    "start_time": "2022-03-07T14:59:37.782Z"
   },
   {
    "duration": 213,
    "start_time": "2022-03-07T14:59:58.310Z"
   },
   {
    "duration": 179,
    "start_time": "2022-03-07T15:00:04.389Z"
   },
   {
    "duration": 3,
    "start_time": "2022-03-07T15:20:38.895Z"
   },
   {
    "duration": 176,
    "start_time": "2022-03-07T15:20:54.999Z"
   },
   {
    "duration": 567,
    "start_time": "2022-03-07T15:21:05.769Z"
   },
   {
    "duration": 177,
    "start_time": "2022-03-07T15:21:06.337Z"
   },
   {
    "duration": 27,
    "start_time": "2022-03-07T15:21:06.517Z"
   },
   {
    "duration": 33,
    "start_time": "2022-03-07T15:21:06.547Z"
   },
   {
    "duration": 14,
    "start_time": "2022-03-07T15:21:06.582Z"
   },
   {
    "duration": 132,
    "start_time": "2022-03-07T15:21:06.598Z"
   },
   {
    "duration": 133,
    "start_time": "2022-03-07T15:21:06.737Z"
   },
   {
    "duration": 18,
    "start_time": "2022-03-07T15:21:06.872Z"
   },
   {
    "duration": 23,
    "start_time": "2022-03-07T15:21:06.892Z"
   },
   {
    "duration": 83,
    "start_time": "2022-03-07T15:21:06.917Z"
   },
   {
    "duration": 16,
    "start_time": "2022-03-07T15:21:07.002Z"
   },
   {
    "duration": 94,
    "start_time": "2022-03-07T15:21:07.037Z"
   },
   {
    "duration": 17,
    "start_time": "2022-03-07T15:21:07.133Z"
   },
   {
    "duration": 24,
    "start_time": "2022-03-07T15:21:07.151Z"
   },
   {
    "duration": 61,
    "start_time": "2022-03-07T15:21:07.177Z"
   },
   {
    "duration": 17,
    "start_time": "2022-03-07T15:21:07.240Z"
   },
   {
    "duration": 11,
    "start_time": "2022-03-07T15:21:07.258Z"
   },
   {
    "duration": 55,
    "start_time": "2022-03-07T15:21:07.271Z"
   },
   {
    "duration": 6,
    "start_time": "2022-03-07T15:21:07.327Z"
   },
   {
    "duration": 10,
    "start_time": "2022-03-07T15:21:07.335Z"
   },
   {
    "duration": 6,
    "start_time": "2022-03-07T15:21:07.347Z"
   },
   {
    "duration": 25,
    "start_time": "2022-03-07T15:21:07.354Z"
   },
   {
    "duration": 28,
    "start_time": "2022-03-07T15:21:07.382Z"
   },
   {
    "duration": 46,
    "start_time": "2022-03-07T15:21:07.412Z"
   },
   {
    "duration": 233,
    "start_time": "2022-03-07T15:21:07.459Z"
   },
   {
    "duration": 96,
    "start_time": "2022-03-07T15:21:07.598Z"
   },
   {
    "duration": 90,
    "start_time": "2022-03-07T15:21:07.605Z"
   },
   {
    "duration": 85,
    "start_time": "2022-03-07T15:21:07.611Z"
   },
   {
    "duration": 79,
    "start_time": "2022-03-07T15:21:07.618Z"
   },
   {
    "duration": 64,
    "start_time": "2022-03-07T15:21:07.633Z"
   },
   {
    "duration": 56,
    "start_time": "2022-03-07T15:21:07.642Z"
   },
   {
    "duration": 50,
    "start_time": "2022-03-07T15:21:07.649Z"
   },
   {
    "duration": 193,
    "start_time": "2022-03-07T15:21:55.952Z"
   },
   {
    "duration": 9,
    "start_time": "2022-03-07T15:22:25.534Z"
   },
   {
    "duration": 16,
    "start_time": "2022-03-07T15:22:51.447Z"
   },
   {
    "duration": 8,
    "start_time": "2022-03-07T15:23:01.778Z"
   },
   {
    "duration": 14,
    "start_time": "2022-03-07T15:23:23.245Z"
   },
   {
    "duration": 595,
    "start_time": "2022-03-07T15:24:00.541Z"
   },
   {
    "duration": 178,
    "start_time": "2022-03-07T15:24:01.138Z"
   },
   {
    "duration": 26,
    "start_time": "2022-03-07T15:24:01.318Z"
   },
   {
    "duration": 51,
    "start_time": "2022-03-07T15:24:01.347Z"
   },
   {
    "duration": 14,
    "start_time": "2022-03-07T15:24:01.399Z"
   },
   {
    "duration": 124,
    "start_time": "2022-03-07T15:24:01.415Z"
   },
   {
    "duration": 149,
    "start_time": "2022-03-07T15:24:01.541Z"
   },
   {
    "duration": 18,
    "start_time": "2022-03-07T15:24:01.692Z"
   },
   {
    "duration": 51,
    "start_time": "2022-03-07T15:24:01.713Z"
   },
   {
    "duration": 81,
    "start_time": "2022-03-07T15:24:01.766Z"
   },
   {
    "duration": 18,
    "start_time": "2022-03-07T15:24:01.849Z"
   },
   {
    "duration": 111,
    "start_time": "2022-03-07T15:24:01.869Z"
   },
   {
    "duration": 15,
    "start_time": "2022-03-07T15:24:01.982Z"
   },
   {
    "duration": 45,
    "start_time": "2022-03-07T15:24:01.998Z"
   },
   {
    "duration": 44,
    "start_time": "2022-03-07T15:24:02.045Z"
   },
   {
    "duration": 17,
    "start_time": "2022-03-07T15:24:02.091Z"
   },
   {
    "duration": 23,
    "start_time": "2022-03-07T15:24:02.109Z"
   },
   {
    "duration": 40,
    "start_time": "2022-03-07T15:24:02.134Z"
   },
   {
    "duration": 15,
    "start_time": "2022-03-07T15:24:02.175Z"
   },
   {
    "duration": 15,
    "start_time": "2022-03-07T15:24:02.192Z"
   },
   {
    "duration": 18,
    "start_time": "2022-03-07T15:24:02.209Z"
   },
   {
    "duration": 34,
    "start_time": "2022-03-07T15:24:02.229Z"
   },
   {
    "duration": 30,
    "start_time": "2022-03-07T15:24:02.267Z"
   },
   {
    "duration": 44,
    "start_time": "2022-03-07T15:24:02.299Z"
   },
   {
    "duration": 16,
    "start_time": "2022-03-07T15:24:02.345Z"
   },
   {
    "duration": 15,
    "start_time": "2022-03-07T15:24:02.363Z"
   },
   {
    "duration": 62,
    "start_time": "2022-03-07T15:24:02.380Z"
   },
   {
    "duration": 17,
    "start_time": "2022-03-07T15:24:02.444Z"
   },
   {
    "duration": 36,
    "start_time": "2022-03-07T15:24:02.462Z"
   },
   {
    "duration": 39,
    "start_time": "2022-03-07T15:24:02.500Z"
   },
   {
    "duration": 24,
    "start_time": "2022-03-07T15:24:02.540Z"
   },
   {
    "duration": 226,
    "start_time": "2022-03-07T15:24:02.566Z"
   },
   {
    "duration": 27,
    "start_time": "2022-03-07T15:24:56.835Z"
   },
   {
    "duration": 30,
    "start_time": "2022-03-07T15:27:07.066Z"
   },
   {
    "duration": 29,
    "start_time": "2022-03-07T15:27:35.046Z"
   },
   {
    "duration": 585,
    "start_time": "2022-03-07T15:27:46.828Z"
   },
   {
    "duration": 168,
    "start_time": "2022-03-07T15:27:47.415Z"
   },
   {
    "duration": 21,
    "start_time": "2022-03-07T15:27:47.585Z"
   },
   {
    "duration": 43,
    "start_time": "2022-03-07T15:27:47.608Z"
   },
   {
    "duration": 13,
    "start_time": "2022-03-07T15:27:47.652Z"
   },
   {
    "duration": 121,
    "start_time": "2022-03-07T15:27:47.666Z"
   },
   {
    "duration": 140,
    "start_time": "2022-03-07T15:27:47.788Z"
   },
   {
    "duration": 21,
    "start_time": "2022-03-07T15:27:47.931Z"
   },
   {
    "duration": 25,
    "start_time": "2022-03-07T15:27:47.955Z"
   },
   {
    "duration": 90,
    "start_time": "2022-03-07T15:27:47.982Z"
   },
   {
    "duration": 16,
    "start_time": "2022-03-07T15:27:48.074Z"
   },
   {
    "duration": 105,
    "start_time": "2022-03-07T15:27:48.092Z"
   },
   {
    "duration": 16,
    "start_time": "2022-03-07T15:27:48.198Z"
   },
   {
    "duration": 37,
    "start_time": "2022-03-07T15:27:48.215Z"
   },
   {
    "duration": 39,
    "start_time": "2022-03-07T15:27:48.253Z"
   },
   {
    "duration": 16,
    "start_time": "2022-03-07T15:27:48.294Z"
   },
   {
    "duration": 8,
    "start_time": "2022-03-07T15:27:48.312Z"
   },
   {
    "duration": 30,
    "start_time": "2022-03-07T15:27:48.339Z"
   },
   {
    "duration": 10,
    "start_time": "2022-03-07T15:27:48.370Z"
   },
   {
    "duration": 7,
    "start_time": "2022-03-07T15:27:48.381Z"
   },
   {
    "duration": 6,
    "start_time": "2022-03-07T15:27:48.390Z"
   },
   {
    "duration": 24,
    "start_time": "2022-03-07T15:27:48.398Z"
   },
   {
    "duration": 43,
    "start_time": "2022-03-07T15:27:48.424Z"
   },
   {
    "duration": 33,
    "start_time": "2022-03-07T15:27:48.469Z"
   },
   {
    "duration": 36,
    "start_time": "2022-03-07T15:27:48.503Z"
   },
   {
    "duration": 14,
    "start_time": "2022-03-07T15:27:48.540Z"
   },
   {
    "duration": 33,
    "start_time": "2022-03-07T15:27:48.556Z"
   },
   {
    "duration": 17,
    "start_time": "2022-03-07T15:27:48.591Z"
   },
   {
    "duration": 59,
    "start_time": "2022-03-07T15:27:48.610Z"
   },
   {
    "duration": 21,
    "start_time": "2022-03-07T15:27:48.671Z"
   },
   {
    "duration": 23,
    "start_time": "2022-03-07T15:27:48.693Z"
   },
   {
    "duration": 229,
    "start_time": "2022-03-07T15:27:48.738Z"
   },
   {
    "duration": 30,
    "start_time": "2022-03-07T15:28:58.905Z"
   },
   {
    "duration": 29,
    "start_time": "2022-03-07T15:29:09.519Z"
   },
   {
    "duration": 32,
    "start_time": "2022-03-07T15:30:15.483Z"
   },
   {
    "duration": 35,
    "start_time": "2022-03-07T15:30:23.362Z"
   },
   {
    "duration": 588,
    "start_time": "2022-03-07T15:30:38.252Z"
   },
   {
    "duration": 169,
    "start_time": "2022-03-07T15:30:38.842Z"
   },
   {
    "duration": 27,
    "start_time": "2022-03-07T15:30:39.013Z"
   },
   {
    "duration": 30,
    "start_time": "2022-03-07T15:30:39.042Z"
   },
   {
    "duration": 11,
    "start_time": "2022-03-07T15:30:39.074Z"
   },
   {
    "duration": 132,
    "start_time": "2022-03-07T15:30:39.087Z"
   },
   {
    "duration": 132,
    "start_time": "2022-03-07T15:30:39.221Z"
   },
   {
    "duration": 16,
    "start_time": "2022-03-07T15:30:39.356Z"
   },
   {
    "duration": 23,
    "start_time": "2022-03-07T15:30:39.374Z"
   },
   {
    "duration": 85,
    "start_time": "2022-03-07T15:30:39.399Z"
   },
   {
    "duration": 15,
    "start_time": "2022-03-07T15:30:39.485Z"
   },
   {
    "duration": 99,
    "start_time": "2022-03-07T15:30:39.501Z"
   },
   {
    "duration": 14,
    "start_time": "2022-03-07T15:30:39.602Z"
   },
   {
    "duration": 37,
    "start_time": "2022-03-07T15:30:39.618Z"
   },
   {
    "duration": 39,
    "start_time": "2022-03-07T15:30:39.656Z"
   },
   {
    "duration": 18,
    "start_time": "2022-03-07T15:30:39.697Z"
   },
   {
    "duration": 25,
    "start_time": "2022-03-07T15:30:39.717Z"
   },
   {
    "duration": 30,
    "start_time": "2022-03-07T15:30:39.744Z"
   },
   {
    "duration": 6,
    "start_time": "2022-03-07T15:30:39.777Z"
   },
   {
    "duration": 16,
    "start_time": "2022-03-07T15:30:39.785Z"
   },
   {
    "duration": 19,
    "start_time": "2022-03-07T15:30:39.803Z"
   },
   {
    "duration": 31,
    "start_time": "2022-03-07T15:30:39.824Z"
   },
   {
    "duration": 29,
    "start_time": "2022-03-07T15:30:39.859Z"
   },
   {
    "duration": 32,
    "start_time": "2022-03-07T15:30:39.891Z"
   },
   {
    "duration": 15,
    "start_time": "2022-03-07T15:30:39.938Z"
   },
   {
    "duration": 16,
    "start_time": "2022-03-07T15:30:39.955Z"
   },
   {
    "duration": 54,
    "start_time": "2022-03-07T15:30:39.972Z"
   },
   {
    "duration": 26,
    "start_time": "2022-03-07T15:30:40.028Z"
   },
   {
    "duration": 52,
    "start_time": "2022-03-07T15:30:40.055Z"
   },
   {
    "duration": 29,
    "start_time": "2022-03-07T15:30:40.110Z"
   },
   {
    "duration": 26,
    "start_time": "2022-03-07T15:30:40.141Z"
   },
   {
    "duration": 249,
    "start_time": "2022-03-07T15:30:40.169Z"
   },
   {
    "duration": 14,
    "start_time": "2022-03-07T15:31:52.272Z"
   },
   {
    "duration": 31,
    "start_time": "2022-03-07T15:33:27.302Z"
   },
   {
    "duration": 21,
    "start_time": "2022-03-07T15:37:37.447Z"
   },
   {
    "duration": 174,
    "start_time": "2022-03-07T15:38:31.013Z"
   },
   {
    "duration": 171,
    "start_time": "2022-03-07T15:39:46.240Z"
   },
   {
    "duration": 24,
    "start_time": "2022-03-07T15:40:12.897Z"
   },
   {
    "duration": 24,
    "start_time": "2022-03-07T15:40:31.121Z"
   },
   {
    "duration": 4,
    "start_time": "2022-03-07T15:43:14.423Z"
   },
   {
    "duration": 25,
    "start_time": "2022-03-07T15:43:35.218Z"
   },
   {
    "duration": 22,
    "start_time": "2022-03-07T15:43:51.663Z"
   },
   {
    "duration": 196,
    "start_time": "2022-03-07T15:44:42.635Z"
   },
   {
    "duration": 19,
    "start_time": "2022-03-07T15:44:55.723Z"
   },
   {
    "duration": 20,
    "start_time": "2022-03-07T15:45:01.054Z"
   },
   {
    "duration": 22,
    "start_time": "2022-03-07T15:45:08.321Z"
   },
   {
    "duration": 549,
    "start_time": "2022-03-07T15:46:43.168Z"
   },
   {
    "duration": 165,
    "start_time": "2022-03-07T15:46:43.720Z"
   },
   {
    "duration": 20,
    "start_time": "2022-03-07T15:46:43.887Z"
   },
   {
    "duration": 43,
    "start_time": "2022-03-07T15:46:43.908Z"
   },
   {
    "duration": 12,
    "start_time": "2022-03-07T15:46:43.952Z"
   },
   {
    "duration": 112,
    "start_time": "2022-03-07T15:46:43.965Z"
   },
   {
    "duration": 136,
    "start_time": "2022-03-07T15:46:44.079Z"
   },
   {
    "duration": 22,
    "start_time": "2022-03-07T15:46:44.217Z"
   },
   {
    "duration": 22,
    "start_time": "2022-03-07T15:46:44.241Z"
   },
   {
    "duration": 73,
    "start_time": "2022-03-07T15:46:44.265Z"
   },
   {
    "duration": 15,
    "start_time": "2022-03-07T15:46:44.340Z"
   },
   {
    "duration": 94,
    "start_time": "2022-03-07T15:46:44.357Z"
   },
   {
    "duration": 14,
    "start_time": "2022-03-07T15:46:44.452Z"
   },
   {
    "duration": 19,
    "start_time": "2022-03-07T15:46:44.468Z"
   },
   {
    "duration": 64,
    "start_time": "2022-03-07T15:46:44.488Z"
   },
   {
    "duration": 16,
    "start_time": "2022-03-07T15:46:44.554Z"
   },
   {
    "duration": 9,
    "start_time": "2022-03-07T15:46:44.571Z"
   },
   {
    "duration": 69,
    "start_time": "2022-03-07T15:46:44.582Z"
   },
   {
    "duration": 7,
    "start_time": "2022-03-07T15:46:44.653Z"
   },
   {
    "duration": 19,
    "start_time": "2022-03-07T15:46:44.661Z"
   },
   {
    "duration": 7,
    "start_time": "2022-03-07T15:46:44.681Z"
   },
   {
    "duration": 26,
    "start_time": "2022-03-07T15:46:44.690Z"
   },
   {
    "duration": 42,
    "start_time": "2022-03-07T15:46:44.719Z"
   },
   {
    "duration": 34,
    "start_time": "2022-03-07T15:46:44.763Z"
   },
   {
    "duration": 13,
    "start_time": "2022-03-07T15:46:44.798Z"
   },
   {
    "duration": 35,
    "start_time": "2022-03-07T15:46:44.813Z"
   },
   {
    "duration": 36,
    "start_time": "2022-03-07T15:46:44.850Z"
   },
   {
    "duration": 17,
    "start_time": "2022-03-07T15:46:44.887Z"
   },
   {
    "duration": 57,
    "start_time": "2022-03-07T15:46:44.906Z"
   },
   {
    "duration": 22,
    "start_time": "2022-03-07T15:46:44.965Z"
   },
   {
    "duration": 50,
    "start_time": "2022-03-07T15:46:44.989Z"
   },
   {
    "duration": 5,
    "start_time": "2022-03-07T15:46:45.042Z"
   },
   {
    "duration": 31,
    "start_time": "2022-03-07T15:46:45.049Z"
   },
   {
    "duration": 28,
    "start_time": "2022-03-07T15:52:20.526Z"
   },
   {
    "duration": 34,
    "start_time": "2022-03-07T15:54:05.341Z"
   },
   {
    "duration": 23,
    "start_time": "2022-03-07T15:54:46.079Z"
   },
   {
    "duration": 52,
    "start_time": "2022-03-07T15:54:49.545Z"
   },
   {
    "duration": 29,
    "start_time": "2022-03-07T15:55:00.439Z"
   },
   {
    "duration": 4294,
    "start_time": "2022-03-07T15:55:51.110Z"
   },
   {
    "duration": 198,
    "start_time": "2022-03-07T15:56:03.342Z"
   },
   {
    "duration": 4203,
    "start_time": "2022-03-07T15:57:28.721Z"
   },
   {
    "duration": 163,
    "start_time": "2022-03-07T15:57:47.132Z"
   },
   {
    "duration": 185,
    "start_time": "2022-03-07T15:58:03.559Z"
   },
   {
    "duration": 28,
    "start_time": "2022-03-07T15:58:16.996Z"
   },
   {
    "duration": 59,
    "start_time": "2022-03-07T18:13:07.294Z"
   },
   {
    "duration": 6,
    "start_time": "2022-03-07T18:13:20.742Z"
   },
   {
    "duration": 22,
    "start_time": "2022-03-07T18:13:27.673Z"
   },
   {
    "duration": 24,
    "start_time": "2022-03-07T18:17:44.377Z"
   },
   {
    "duration": 18,
    "start_time": "2022-03-07T18:17:54.746Z"
   },
   {
    "duration": 181,
    "start_time": "2022-03-07T18:20:02.565Z"
   },
   {
    "duration": 195,
    "start_time": "2022-03-07T18:20:15.014Z"
   },
   {
    "duration": 580,
    "start_time": "2022-03-07T18:20:46.221Z"
   },
   {
    "duration": 159,
    "start_time": "2022-03-07T18:20:46.803Z"
   },
   {
    "duration": 20,
    "start_time": "2022-03-07T18:20:46.964Z"
   },
   {
    "duration": 29,
    "start_time": "2022-03-07T18:20:46.986Z"
   },
   {
    "duration": 29,
    "start_time": "2022-03-07T18:20:47.017Z"
   },
   {
    "duration": 113,
    "start_time": "2022-03-07T18:20:47.048Z"
   },
   {
    "duration": 133,
    "start_time": "2022-03-07T18:20:47.164Z"
   },
   {
    "duration": 17,
    "start_time": "2022-03-07T18:20:47.299Z"
   },
   {
    "duration": 37,
    "start_time": "2022-03-07T18:20:47.318Z"
   },
   {
    "duration": 57,
    "start_time": "2022-03-07T18:20:47.357Z"
   },
   {
    "duration": 27,
    "start_time": "2022-03-07T18:20:47.416Z"
   },
   {
    "duration": 94,
    "start_time": "2022-03-07T18:20:47.445Z"
   },
   {
    "duration": 14,
    "start_time": "2022-03-07T18:20:47.540Z"
   },
   {
    "duration": 19,
    "start_time": "2022-03-07T18:20:47.556Z"
   },
   {
    "duration": 62,
    "start_time": "2022-03-07T18:20:47.576Z"
   },
   {
    "duration": 17,
    "start_time": "2022-03-07T18:20:47.640Z"
   },
   {
    "duration": 9,
    "start_time": "2022-03-07T18:20:47.658Z"
   },
   {
    "duration": 31,
    "start_time": "2022-03-07T18:20:47.668Z"
   },
   {
    "duration": 5,
    "start_time": "2022-03-07T18:20:47.701Z"
   },
   {
    "duration": 10,
    "start_time": "2022-03-07T18:20:47.708Z"
   },
   {
    "duration": 10,
    "start_time": "2022-03-07T18:20:47.720Z"
   },
   {
    "duration": 28,
    "start_time": "2022-03-07T18:20:47.732Z"
   },
   {
    "duration": 31,
    "start_time": "2022-03-07T18:20:47.763Z"
   },
   {
    "duration": 51,
    "start_time": "2022-03-07T18:20:47.796Z"
   },
   {
    "duration": 14,
    "start_time": "2022-03-07T18:20:47.849Z"
   },
   {
    "duration": 15,
    "start_time": "2022-03-07T18:20:47.865Z"
   },
   {
    "duration": 58,
    "start_time": "2022-03-07T18:20:47.881Z"
   },
   {
    "duration": 17,
    "start_time": "2022-03-07T18:20:47.941Z"
   },
   {
    "duration": 40,
    "start_time": "2022-03-07T18:20:47.959Z"
   },
   {
    "duration": 41,
    "start_time": "2022-03-07T18:20:48.001Z"
   },
   {
    "duration": 21,
    "start_time": "2022-03-07T18:20:48.044Z"
   },
   {
    "duration": 243,
    "start_time": "2022-03-07T18:20:48.067Z"
   },
   {
    "duration": 7,
    "start_time": "2022-03-07T18:21:15.276Z"
   },
   {
    "duration": 20,
    "start_time": "2022-03-07T18:21:24.942Z"
   },
   {
    "duration": 182,
    "start_time": "2022-03-07T18:22:54.063Z"
   },
   {
    "duration": 195,
    "start_time": "2022-03-07T18:23:08.044Z"
   },
   {
    "duration": 45,
    "start_time": "2022-03-07T18:23:26.162Z"
   },
   {
    "duration": 10,
    "start_time": "2022-03-07T18:32:47.625Z"
   },
   {
    "duration": 51,
    "start_time": "2022-03-07T18:32:55.616Z"
   },
   {
    "duration": 184,
    "start_time": "2022-03-07T18:33:07.039Z"
   },
   {
    "duration": 54,
    "start_time": "2022-03-07T18:34:04.870Z"
   },
   {
    "duration": 64,
    "start_time": "2022-03-07T18:34:42.271Z"
   },
   {
    "duration": 60,
    "start_time": "2022-03-07T18:34:55.710Z"
   },
   {
    "duration": 52,
    "start_time": "2022-03-07T18:35:05.235Z"
   },
   {
    "duration": 56,
    "start_time": "2022-03-07T18:35:09.518Z"
   },
   {
    "duration": 27,
    "start_time": "2022-03-07T18:35:24.837Z"
   },
   {
    "duration": 61,
    "start_time": "2022-03-07T18:35:32.085Z"
   },
   {
    "duration": 248,
    "start_time": "2022-03-07T18:37:39.335Z"
   },
   {
    "duration": 7,
    "start_time": "2022-03-07T18:40:21.695Z"
   },
   {
    "duration": 177,
    "start_time": "2022-03-07T18:42:13.693Z"
   },
   {
    "duration": 176,
    "start_time": "2022-03-07T18:42:23.214Z"
   },
   {
    "duration": 175,
    "start_time": "2022-03-07T18:42:29.550Z"
   },
   {
    "duration": 181,
    "start_time": "2022-03-07T18:45:46.183Z"
   },
   {
    "duration": 4191,
    "start_time": "2022-03-07T18:47:12.042Z"
   },
   {
    "duration": 11,
    "start_time": "2022-03-07T18:47:38.816Z"
   },
   {
    "duration": 4,
    "start_time": "2022-03-07T18:47:50.966Z"
   },
   {
    "duration": 66,
    "start_time": "2022-03-07T18:48:38.676Z"
   },
   {
    "duration": 4,
    "start_time": "2022-03-07T18:48:46.947Z"
   },
   {
    "duration": 60,
    "start_time": "2022-03-07T18:48:49.233Z"
   },
   {
    "duration": 530,
    "start_time": "2022-03-07T18:49:03.198Z"
   },
   {
    "duration": 170,
    "start_time": "2022-03-07T18:49:03.731Z"
   },
   {
    "duration": 33,
    "start_time": "2022-03-07T18:49:03.905Z"
   },
   {
    "duration": 31,
    "start_time": "2022-03-07T18:49:03.940Z"
   },
   {
    "duration": 13,
    "start_time": "2022-03-07T18:49:03.972Z"
   },
   {
    "duration": 134,
    "start_time": "2022-03-07T18:49:03.986Z"
   },
   {
    "duration": 144,
    "start_time": "2022-03-07T18:49:04.122Z"
   },
   {
    "duration": 17,
    "start_time": "2022-03-07T18:49:04.269Z"
   },
   {
    "duration": 30,
    "start_time": "2022-03-07T18:49:04.288Z"
   },
   {
    "duration": 73,
    "start_time": "2022-03-07T18:49:04.320Z"
   },
   {
    "duration": 15,
    "start_time": "2022-03-07T18:49:04.395Z"
   },
   {
    "duration": 109,
    "start_time": "2022-03-07T18:49:04.412Z"
   },
   {
    "duration": 23,
    "start_time": "2022-03-07T18:49:04.523Z"
   },
   {
    "duration": 26,
    "start_time": "2022-03-07T18:49:04.548Z"
   },
   {
    "duration": 45,
    "start_time": "2022-03-07T18:49:04.576Z"
   },
   {
    "duration": 17,
    "start_time": "2022-03-07T18:49:04.638Z"
   },
   {
    "duration": 10,
    "start_time": "2022-03-07T18:49:04.656Z"
   },
   {
    "duration": 27,
    "start_time": "2022-03-07T18:49:04.668Z"
   },
   {
    "duration": 6,
    "start_time": "2022-03-07T18:49:04.697Z"
   },
   {
    "duration": 9,
    "start_time": "2022-03-07T18:49:04.705Z"
   },
   {
    "duration": 22,
    "start_time": "2022-03-07T18:49:04.717Z"
   },
   {
    "duration": 25,
    "start_time": "2022-03-07T18:49:04.742Z"
   },
   {
    "duration": 29,
    "start_time": "2022-03-07T18:49:04.769Z"
   },
   {
    "duration": 54,
    "start_time": "2022-03-07T18:49:04.800Z"
   },
   {
    "duration": 15,
    "start_time": "2022-03-07T18:49:04.855Z"
   },
   {
    "duration": 17,
    "start_time": "2022-03-07T18:49:04.872Z"
   },
   {
    "duration": 50,
    "start_time": "2022-03-07T18:49:04.890Z"
   },
   {
    "duration": 17,
    "start_time": "2022-03-07T18:49:04.942Z"
   },
   {
    "duration": 41,
    "start_time": "2022-03-07T18:49:04.961Z"
   },
   {
    "duration": 47,
    "start_time": "2022-03-07T18:49:05.003Z"
   },
   {
    "duration": 25,
    "start_time": "2022-03-07T18:49:05.052Z"
   },
   {
    "duration": 4,
    "start_time": "2022-03-07T18:49:05.079Z"
   },
   {
    "duration": 27,
    "start_time": "2022-03-07T18:49:05.085Z"
   },
   {
    "duration": 73,
    "start_time": "2022-03-07T18:49:42.741Z"
   },
   {
    "duration": 22,
    "start_time": "2022-03-07T18:49:48.865Z"
   },
   {
    "duration": 23,
    "start_time": "2022-03-07T18:50:02.035Z"
   },
   {
    "duration": 22,
    "start_time": "2022-03-07T18:50:08.333Z"
   },
   {
    "duration": 24,
    "start_time": "2022-03-07T18:50:23.371Z"
   },
   {
    "duration": 576,
    "start_time": "2022-03-07T18:50:30.269Z"
   },
   {
    "duration": 177,
    "start_time": "2022-03-07T18:50:30.848Z"
   },
   {
    "duration": 28,
    "start_time": "2022-03-07T18:50:31.028Z"
   },
   {
    "duration": 34,
    "start_time": "2022-03-07T18:50:31.058Z"
   },
   {
    "duration": 14,
    "start_time": "2022-03-07T18:50:31.094Z"
   },
   {
    "duration": 129,
    "start_time": "2022-03-07T18:50:31.110Z"
   },
   {
    "duration": 150,
    "start_time": "2022-03-07T18:50:31.242Z"
   },
   {
    "duration": 18,
    "start_time": "2022-03-07T18:50:31.395Z"
   },
   {
    "duration": 40,
    "start_time": "2022-03-07T18:50:31.415Z"
   },
   {
    "duration": 62,
    "start_time": "2022-03-07T18:50:31.457Z"
   },
   {
    "duration": 17,
    "start_time": "2022-03-07T18:50:31.538Z"
   },
   {
    "duration": 104,
    "start_time": "2022-03-07T18:50:31.556Z"
   },
   {
    "duration": 15,
    "start_time": "2022-03-07T18:50:31.663Z"
   },
   {
    "duration": 30,
    "start_time": "2022-03-07T18:50:31.680Z"
   },
   {
    "duration": 61,
    "start_time": "2022-03-07T18:50:31.712Z"
   },
   {
    "duration": 19,
    "start_time": "2022-03-07T18:50:31.775Z"
   },
   {
    "duration": 13,
    "start_time": "2022-03-07T18:50:31.796Z"
   },
   {
    "duration": 52,
    "start_time": "2022-03-07T18:50:31.811Z"
   },
   {
    "duration": 7,
    "start_time": "2022-03-07T18:50:31.866Z"
   },
   {
    "duration": 28,
    "start_time": "2022-03-07T18:50:31.875Z"
   },
   {
    "duration": 26,
    "start_time": "2022-03-07T18:50:31.905Z"
   },
   {
    "duration": 59,
    "start_time": "2022-03-07T18:50:31.935Z"
   },
   {
    "duration": 30,
    "start_time": "2022-03-07T18:50:31.996Z"
   },
   {
    "duration": 57,
    "start_time": "2022-03-07T18:50:32.028Z"
   },
   {
    "duration": 14,
    "start_time": "2022-03-07T18:50:32.087Z"
   },
   {
    "duration": 16,
    "start_time": "2022-03-07T18:50:32.103Z"
   },
   {
    "duration": 40,
    "start_time": "2022-03-07T18:50:32.121Z"
   },
   {
    "duration": 17,
    "start_time": "2022-03-07T18:50:32.163Z"
   },
   {
    "duration": 61,
    "start_time": "2022-03-07T18:50:32.182Z"
   },
   {
    "duration": 21,
    "start_time": "2022-03-07T18:50:32.244Z"
   },
   {
    "duration": 61,
    "start_time": "2022-03-07T18:50:32.266Z"
   },
   {
    "duration": 3,
    "start_time": "2022-03-07T18:50:32.329Z"
   },
   {
    "duration": 51,
    "start_time": "2022-03-07T18:50:32.333Z"
   },
   {
    "duration": 247,
    "start_time": "2022-03-07T18:51:32.316Z"
   },
   {
    "duration": 18,
    "start_time": "2022-03-07T18:53:53.756Z"
   },
   {
    "duration": 5,
    "start_time": "2022-03-07T18:54:00.988Z"
   },
   {
    "duration": 551,
    "start_time": "2022-03-07T18:54:38.172Z"
   },
   {
    "duration": 169,
    "start_time": "2022-03-07T18:54:38.725Z"
   },
   {
    "duration": 21,
    "start_time": "2022-03-07T18:54:38.896Z"
   },
   {
    "duration": 43,
    "start_time": "2022-03-07T18:54:38.920Z"
   },
   {
    "duration": 13,
    "start_time": "2022-03-07T18:54:38.964Z"
   },
   {
    "duration": 120,
    "start_time": "2022-03-07T18:54:38.978Z"
   },
   {
    "duration": 143,
    "start_time": "2022-03-07T18:54:39.100Z"
   },
   {
    "duration": 17,
    "start_time": "2022-03-07T18:54:39.245Z"
   },
   {
    "duration": 22,
    "start_time": "2022-03-07T18:54:39.264Z"
   },
   {
    "duration": 79,
    "start_time": "2022-03-07T18:54:39.288Z"
   },
   {
    "duration": 14,
    "start_time": "2022-03-07T18:54:39.369Z"
   },
   {
    "duration": 98,
    "start_time": "2022-03-07T18:54:39.385Z"
   },
   {
    "duration": 15,
    "start_time": "2022-03-07T18:54:39.484Z"
   },
   {
    "duration": 37,
    "start_time": "2022-03-07T18:54:39.501Z"
   },
   {
    "duration": 39,
    "start_time": "2022-03-07T18:54:39.540Z"
   },
   {
    "duration": 16,
    "start_time": "2022-03-07T18:54:39.581Z"
   },
   {
    "duration": 9,
    "start_time": "2022-03-07T18:54:39.599Z"
   },
   {
    "duration": 30,
    "start_time": "2022-03-07T18:54:39.609Z"
   },
   {
    "duration": 6,
    "start_time": "2022-03-07T18:54:39.640Z"
   },
   {
    "duration": 16,
    "start_time": "2022-03-07T18:54:39.648Z"
   },
   {
    "duration": 7,
    "start_time": "2022-03-07T18:54:39.666Z"
   },
   {
    "duration": 24,
    "start_time": "2022-03-07T18:54:39.675Z"
   },
   {
    "duration": 45,
    "start_time": "2022-03-07T18:54:39.702Z"
   },
   {
    "duration": 34,
    "start_time": "2022-03-07T18:54:39.749Z"
   },
   {
    "duration": 13,
    "start_time": "2022-03-07T18:54:39.785Z"
   },
   {
    "duration": 39,
    "start_time": "2022-03-07T18:54:39.799Z"
   },
   {
    "duration": 37,
    "start_time": "2022-03-07T18:54:39.840Z"
   },
   {
    "duration": 18,
    "start_time": "2022-03-07T18:54:39.879Z"
   },
   {
    "duration": 58,
    "start_time": "2022-03-07T18:54:39.899Z"
   },
   {
    "duration": 21,
    "start_time": "2022-03-07T18:54:39.959Z"
   },
   {
    "duration": 23,
    "start_time": "2022-03-07T18:54:39.981Z"
   },
   {
    "duration": 44,
    "start_time": "2022-03-07T18:54:40.005Z"
   },
   {
    "duration": 5,
    "start_time": "2022-03-07T18:54:40.051Z"
   },
   {
    "duration": 248,
    "start_time": "2022-03-07T18:54:40.058Z"
   },
   {
    "duration": 4,
    "start_time": "2022-03-07T18:55:02.479Z"
   },
   {
    "duration": 21,
    "start_time": "2022-03-07T18:55:03.267Z"
   },
   {
    "duration": 581,
    "start_time": "2022-03-07T18:55:38.610Z"
   },
   {
    "duration": 163,
    "start_time": "2022-03-07T18:55:39.193Z"
   },
   {
    "duration": 22,
    "start_time": "2022-03-07T18:55:39.359Z"
   },
   {
    "duration": 30,
    "start_time": "2022-03-07T18:55:39.383Z"
   },
   {
    "duration": 29,
    "start_time": "2022-03-07T18:55:39.414Z"
   },
   {
    "duration": 114,
    "start_time": "2022-03-07T18:55:39.445Z"
   },
   {
    "duration": 132,
    "start_time": "2022-03-07T18:55:39.561Z"
   },
   {
    "duration": 18,
    "start_time": "2022-03-07T18:55:39.695Z"
   },
   {
    "duration": 39,
    "start_time": "2022-03-07T18:55:39.716Z"
   },
   {
    "duration": 54,
    "start_time": "2022-03-07T18:55:39.757Z"
   },
   {
    "duration": 34,
    "start_time": "2022-03-07T18:55:39.813Z"
   },
   {
    "duration": 100,
    "start_time": "2022-03-07T18:55:39.848Z"
   },
   {
    "duration": 14,
    "start_time": "2022-03-07T18:55:39.950Z"
   },
   {
    "duration": 22,
    "start_time": "2022-03-07T18:55:39.966Z"
   },
   {
    "duration": 58,
    "start_time": "2022-03-07T18:55:39.990Z"
   },
   {
    "duration": 18,
    "start_time": "2022-03-07T18:55:40.050Z"
   },
   {
    "duration": 17,
    "start_time": "2022-03-07T18:55:40.070Z"
   },
   {
    "duration": 31,
    "start_time": "2022-03-07T18:55:40.089Z"
   },
   {
    "duration": 12,
    "start_time": "2022-03-07T18:55:40.122Z"
   },
   {
    "duration": 18,
    "start_time": "2022-03-07T18:55:40.135Z"
   },
   {
    "duration": 10,
    "start_time": "2022-03-07T18:55:40.155Z"
   },
   {
    "duration": 33,
    "start_time": "2022-03-07T18:55:40.167Z"
   },
   {
    "duration": 29,
    "start_time": "2022-03-07T18:55:40.203Z"
   },
   {
    "duration": 33,
    "start_time": "2022-03-07T18:55:40.234Z"
   },
   {
    "duration": 14,
    "start_time": "2022-03-07T18:55:40.269Z"
   },
   {
    "duration": 15,
    "start_time": "2022-03-07T18:55:40.285Z"
   },
   {
    "duration": 57,
    "start_time": "2022-03-07T18:55:40.302Z"
   },
   {
    "duration": 17,
    "start_time": "2022-03-07T18:55:40.361Z"
   },
   {
    "duration": 59,
    "start_time": "2022-03-07T18:55:40.380Z"
   },
   {
    "duration": 22,
    "start_time": "2022-03-07T18:55:40.440Z"
   },
   {
    "duration": 24,
    "start_time": "2022-03-07T18:55:40.463Z"
   },
   {
    "duration": 17,
    "start_time": "2022-03-07T18:55:40.489Z"
   },
   {
    "duration": 33,
    "start_time": "2022-03-07T18:55:40.508Z"
   },
   {
    "duration": 34,
    "start_time": "2022-03-07T18:55:40.543Z"
   },
   {
    "duration": 12,
    "start_time": "2022-03-07T18:56:30.554Z"
   },
   {
    "duration": 241,
    "start_time": "2022-03-07T18:57:45.395Z"
   },
   {
    "duration": 21,
    "start_time": "2022-03-07T18:57:52.166Z"
   },
   {
    "duration": 9,
    "start_time": "2022-03-07T18:58:40.631Z"
   },
   {
    "duration": 168,
    "start_time": "2022-03-07T18:58:44.131Z"
   },
   {
    "duration": 539,
    "start_time": "2022-03-07T18:58:57.696Z"
   },
   {
    "duration": 170,
    "start_time": "2022-03-07T18:58:58.237Z"
   },
   {
    "duration": 22,
    "start_time": "2022-03-07T18:58:58.408Z"
   },
   {
    "duration": 31,
    "start_time": "2022-03-07T18:58:58.437Z"
   },
   {
    "duration": 13,
    "start_time": "2022-03-07T18:58:58.469Z"
   },
   {
    "duration": 129,
    "start_time": "2022-03-07T18:58:58.483Z"
   },
   {
    "duration": 139,
    "start_time": "2022-03-07T18:58:58.613Z"
   },
   {
    "duration": 17,
    "start_time": "2022-03-07T18:58:58.754Z"
   },
   {
    "duration": 24,
    "start_time": "2022-03-07T18:58:58.773Z"
   },
   {
    "duration": 79,
    "start_time": "2022-03-07T18:58:58.798Z"
   },
   {
    "duration": 15,
    "start_time": "2022-03-07T18:58:58.878Z"
   },
   {
    "duration": 107,
    "start_time": "2022-03-07T18:58:58.894Z"
   },
   {
    "duration": 14,
    "start_time": "2022-03-07T18:58:59.002Z"
   },
   {
    "duration": 41,
    "start_time": "2022-03-07T18:58:59.018Z"
   },
   {
    "duration": 44,
    "start_time": "2022-03-07T18:58:59.060Z"
   },
   {
    "duration": 18,
    "start_time": "2022-03-07T18:58:59.106Z"
   },
   {
    "duration": 19,
    "start_time": "2022-03-07T18:58:59.125Z"
   },
   {
    "duration": 35,
    "start_time": "2022-03-07T18:58:59.146Z"
   },
   {
    "duration": 7,
    "start_time": "2022-03-07T18:58:59.183Z"
   },
   {
    "duration": 9,
    "start_time": "2022-03-07T18:58:59.191Z"
   },
   {
    "duration": 6,
    "start_time": "2022-03-07T18:58:59.202Z"
   },
   {
    "duration": 35,
    "start_time": "2022-03-07T18:58:59.210Z"
   },
   {
    "duration": 28,
    "start_time": "2022-03-07T18:58:59.248Z"
   },
   {
    "duration": 35,
    "start_time": "2022-03-07T18:58:59.278Z"
   },
   {
    "duration": 32,
    "start_time": "2022-03-07T18:58:59.314Z"
   },
   {
    "duration": 17,
    "start_time": "2022-03-07T18:58:59.347Z"
   },
   {
    "duration": 35,
    "start_time": "2022-03-07T18:58:59.366Z"
   },
   {
    "duration": 42,
    "start_time": "2022-03-07T18:58:59.403Z"
   },
   {
    "duration": 42,
    "start_time": "2022-03-07T18:58:59.447Z"
   },
   {
    "duration": 23,
    "start_time": "2022-03-07T18:58:59.491Z"
   },
   {
    "duration": 25,
    "start_time": "2022-03-07T18:58:59.537Z"
   },
   {
    "duration": 18,
    "start_time": "2022-03-07T18:58:59.564Z"
   },
   {
    "duration": 12,
    "start_time": "2022-03-07T18:58:59.584Z"
   },
   {
    "duration": 40,
    "start_time": "2022-03-07T18:58:59.598Z"
   },
   {
    "duration": 237,
    "start_time": "2022-03-07T18:59:10.639Z"
   },
   {
    "duration": 187,
    "start_time": "2022-03-07T18:59:55.557Z"
   },
   {
    "duration": 182,
    "start_time": "2022-03-07T19:01:50.104Z"
   },
   {
    "duration": 164,
    "start_time": "2022-03-07T19:04:26.361Z"
   },
   {
    "duration": 170,
    "start_time": "2022-03-07T19:04:32.699Z"
   },
   {
    "duration": 562,
    "start_time": "2022-03-07T19:04:39.804Z"
   },
   {
    "duration": 168,
    "start_time": "2022-03-07T19:04:40.368Z"
   },
   {
    "duration": 21,
    "start_time": "2022-03-07T19:04:40.540Z"
   },
   {
    "duration": 31,
    "start_time": "2022-03-07T19:04:40.563Z"
   },
   {
    "duration": 12,
    "start_time": "2022-03-07T19:04:40.595Z"
   },
   {
    "duration": 133,
    "start_time": "2022-03-07T19:04:40.609Z"
   },
   {
    "duration": 140,
    "start_time": "2022-03-07T19:04:40.744Z"
   },
   {
    "duration": 17,
    "start_time": "2022-03-07T19:04:40.886Z"
   },
   {
    "duration": 40,
    "start_time": "2022-03-07T19:04:40.904Z"
   },
   {
    "duration": 59,
    "start_time": "2022-03-07T19:04:40.945Z"
   },
   {
    "duration": 32,
    "start_time": "2022-03-07T19:04:41.006Z"
   },
   {
    "duration": 94,
    "start_time": "2022-03-07T19:04:41.039Z"
   },
   {
    "duration": 14,
    "start_time": "2022-03-07T19:04:41.138Z"
   },
   {
    "duration": 19,
    "start_time": "2022-03-07T19:04:41.155Z"
   },
   {
    "duration": 63,
    "start_time": "2022-03-07T19:04:41.176Z"
   },
   {
    "duration": 15,
    "start_time": "2022-03-07T19:04:41.241Z"
   },
   {
    "duration": 9,
    "start_time": "2022-03-07T19:04:41.258Z"
   },
   {
    "duration": 26,
    "start_time": "2022-03-07T19:04:41.268Z"
   },
   {
    "duration": 6,
    "start_time": "2022-03-07T19:04:41.296Z"
   },
   {
    "duration": 11,
    "start_time": "2022-03-07T19:04:41.304Z"
   },
   {
    "duration": 22,
    "start_time": "2022-03-07T19:04:41.317Z"
   },
   {
    "duration": 22,
    "start_time": "2022-03-07T19:04:41.342Z"
   },
   {
    "duration": 29,
    "start_time": "2022-03-07T19:04:41.366Z"
   },
   {
    "duration": 54,
    "start_time": "2022-03-07T19:04:41.397Z"
   },
   {
    "duration": 15,
    "start_time": "2022-03-07T19:04:41.453Z"
   },
   {
    "duration": 14,
    "start_time": "2022-03-07T19:04:41.470Z"
   },
   {
    "duration": 57,
    "start_time": "2022-03-07T19:04:41.485Z"
   },
   {
    "duration": 17,
    "start_time": "2022-03-07T19:04:41.544Z"
   },
   {
    "duration": 40,
    "start_time": "2022-03-07T19:04:41.563Z"
   },
   {
    "duration": 43,
    "start_time": "2022-03-07T19:04:41.604Z"
   },
   {
    "duration": 24,
    "start_time": "2022-03-07T19:04:41.650Z"
   },
   {
    "duration": 17,
    "start_time": "2022-03-07T19:04:41.676Z"
   },
   {
    "duration": 43,
    "start_time": "2022-03-07T19:04:41.695Z"
   },
   {
    "duration": 20,
    "start_time": "2022-03-07T19:04:41.740Z"
   },
   {
    "duration": 605,
    "start_time": "2022-03-07T19:05:09.681Z"
   },
   {
    "duration": 166,
    "start_time": "2022-03-07T19:05:10.289Z"
   },
   {
    "duration": 23,
    "start_time": "2022-03-07T19:05:10.458Z"
   },
   {
    "duration": 33,
    "start_time": "2022-03-07T19:05:10.483Z"
   },
   {
    "duration": 15,
    "start_time": "2022-03-07T19:05:10.539Z"
   },
   {
    "duration": 129,
    "start_time": "2022-03-07T19:05:10.556Z"
   },
   {
    "duration": 135,
    "start_time": "2022-03-07T19:05:10.688Z"
   },
   {
    "duration": 22,
    "start_time": "2022-03-07T19:05:10.826Z"
   },
   {
    "duration": 24,
    "start_time": "2022-03-07T19:05:10.850Z"
   },
   {
    "duration": 80,
    "start_time": "2022-03-07T19:05:10.876Z"
   },
   {
    "duration": 16,
    "start_time": "2022-03-07T19:05:10.957Z"
   },
   {
    "duration": 103,
    "start_time": "2022-03-07T19:05:10.974Z"
   },
   {
    "duration": 14,
    "start_time": "2022-03-07T19:05:11.079Z"
   },
   {
    "duration": 20,
    "start_time": "2022-03-07T19:05:11.095Z"
   },
   {
    "duration": 58,
    "start_time": "2022-03-07T19:05:11.117Z"
   },
   {
    "duration": 17,
    "start_time": "2022-03-07T19:05:11.176Z"
   },
   {
    "duration": 7,
    "start_time": "2022-03-07T19:05:11.195Z"
   },
   {
    "duration": 33,
    "start_time": "2022-03-07T19:05:11.204Z"
   },
   {
    "duration": 6,
    "start_time": "2022-03-07T19:05:11.239Z"
   },
   {
    "duration": 8,
    "start_time": "2022-03-07T19:05:11.246Z"
   },
   {
    "duration": 10,
    "start_time": "2022-03-07T19:05:11.256Z"
   },
   {
    "duration": 26,
    "start_time": "2022-03-07T19:05:11.268Z"
   },
   {
    "duration": 50,
    "start_time": "2022-03-07T19:05:11.297Z"
   },
   {
    "duration": 34,
    "start_time": "2022-03-07T19:05:11.349Z"
   },
   {
    "duration": 14,
    "start_time": "2022-03-07T19:05:11.385Z"
   },
   {
    "duration": 36,
    "start_time": "2022-03-07T19:05:11.401Z"
   },
   {
    "duration": 35,
    "start_time": "2022-03-07T19:05:11.439Z"
   },
   {
    "duration": 18,
    "start_time": "2022-03-07T19:05:11.476Z"
   },
   {
    "duration": 62,
    "start_time": "2022-03-07T19:05:11.495Z"
   },
   {
    "duration": 20,
    "start_time": "2022-03-07T19:05:11.560Z"
   },
   {
    "duration": 24,
    "start_time": "2022-03-07T19:05:11.582Z"
   },
   {
    "duration": 43,
    "start_time": "2022-03-07T19:05:11.609Z"
   },
   {
    "duration": 13,
    "start_time": "2022-03-07T19:05:11.654Z"
   },
   {
    "duration": 20,
    "start_time": "2022-03-07T19:05:11.668Z"
   },
   {
    "duration": 22,
    "start_time": "2022-03-07T19:05:37.744Z"
   },
   {
    "duration": 239,
    "start_time": "2022-03-07T19:06:07.952Z"
   },
   {
    "duration": 191,
    "start_time": "2022-03-07T19:06:18.903Z"
   },
   {
    "duration": 23,
    "start_time": "2022-03-07T19:06:30.748Z"
   },
   {
    "duration": 27,
    "start_time": "2022-03-07T19:09:33.836Z"
   },
   {
    "duration": 25,
    "start_time": "2022-03-07T19:09:45.490Z"
   },
   {
    "duration": 26,
    "start_time": "2022-03-07T19:09:53.519Z"
   },
   {
    "duration": 622,
    "start_time": "2022-03-07T19:10:03.817Z"
   },
   {
    "duration": 183,
    "start_time": "2022-03-07T19:10:04.441Z"
   },
   {
    "duration": 22,
    "start_time": "2022-03-07T19:10:04.626Z"
   },
   {
    "duration": 31,
    "start_time": "2022-03-07T19:10:04.650Z"
   },
   {
    "duration": 13,
    "start_time": "2022-03-07T19:10:04.683Z"
   },
   {
    "duration": 140,
    "start_time": "2022-03-07T19:10:04.698Z"
   },
   {
    "duration": 139,
    "start_time": "2022-03-07T19:10:04.840Z"
   },
   {
    "duration": 17,
    "start_time": "2022-03-07T19:10:04.982Z"
   },
   {
    "duration": 39,
    "start_time": "2022-03-07T19:10:05.002Z"
   },
   {
    "duration": 71,
    "start_time": "2022-03-07T19:10:05.043Z"
   },
   {
    "duration": 29,
    "start_time": "2022-03-07T19:10:05.116Z"
   },
   {
    "duration": 99,
    "start_time": "2022-03-07T19:10:05.147Z"
   },
   {
    "duration": 15,
    "start_time": "2022-03-07T19:10:05.248Z"
   },
   {
    "duration": 21,
    "start_time": "2022-03-07T19:10:05.265Z"
   },
   {
    "duration": 68,
    "start_time": "2022-03-07T19:10:05.288Z"
   },
   {
    "duration": 18,
    "start_time": "2022-03-07T19:10:05.357Z"
   },
   {
    "duration": 8,
    "start_time": "2022-03-07T19:10:05.377Z"
   },
   {
    "duration": 28,
    "start_time": "2022-03-07T19:10:05.386Z"
   },
   {
    "duration": 6,
    "start_time": "2022-03-07T19:10:05.416Z"
   },
   {
    "duration": 21,
    "start_time": "2022-03-07T19:10:05.423Z"
   },
   {
    "duration": 10,
    "start_time": "2022-03-07T19:10:05.446Z"
   },
   {
    "duration": 27,
    "start_time": "2022-03-07T19:10:05.457Z"
   },
   {
    "duration": 51,
    "start_time": "2022-03-07T19:10:05.487Z"
   },
   {
    "duration": 36,
    "start_time": "2022-03-07T19:10:05.540Z"
   },
   {
    "duration": 16,
    "start_time": "2022-03-07T19:10:05.577Z"
   },
   {
    "duration": 15,
    "start_time": "2022-03-07T19:10:05.595Z"
   },
   {
    "duration": 63,
    "start_time": "2022-03-07T19:10:05.611Z"
   },
   {
    "duration": 17,
    "start_time": "2022-03-07T19:10:05.676Z"
   },
   {
    "duration": 63,
    "start_time": "2022-03-07T19:10:05.695Z"
   },
   {
    "duration": 20,
    "start_time": "2022-03-07T19:10:05.760Z"
   },
   {
    "duration": 23,
    "start_time": "2022-03-07T19:10:05.782Z"
   },
   {
    "duration": 38,
    "start_time": "2022-03-07T19:10:05.807Z"
   },
   {
    "duration": 12,
    "start_time": "2022-03-07T19:10:05.848Z"
   },
   {
    "duration": 20,
    "start_time": "2022-03-07T19:10:05.861Z"
   },
   {
    "duration": 258,
    "start_time": "2022-03-07T19:13:28.378Z"
   },
   {
    "duration": 14,
    "start_time": "2022-03-07T19:17:44.239Z"
   },
   {
    "duration": 57,
    "start_time": "2022-03-07T19:21:58.587Z"
   },
   {
    "duration": 58,
    "start_time": "2022-03-07T19:22:05.445Z"
   },
   {
    "duration": 182,
    "start_time": "2022-03-07T19:22:12.148Z"
   },
   {
    "duration": 204,
    "start_time": "2022-03-07T19:22:29.963Z"
   },
   {
    "duration": 229,
    "start_time": "2022-03-07T19:22:46.111Z"
   },
   {
    "duration": 572,
    "start_time": "2022-03-07T19:22:53.497Z"
   },
   {
    "duration": 171,
    "start_time": "2022-03-07T19:22:54.071Z"
   },
   {
    "duration": 34,
    "start_time": "2022-03-07T19:22:54.245Z"
   },
   {
    "duration": 33,
    "start_time": "2022-03-07T19:22:54.281Z"
   },
   {
    "duration": 34,
    "start_time": "2022-03-07T19:22:54.315Z"
   },
   {
    "duration": 124,
    "start_time": "2022-03-07T19:22:54.351Z"
   },
   {
    "duration": 141,
    "start_time": "2022-03-07T19:22:54.478Z"
   },
   {
    "duration": 31,
    "start_time": "2022-03-07T19:22:54.621Z"
   },
   {
    "duration": 22,
    "start_time": "2022-03-07T19:22:54.654Z"
   },
   {
    "duration": 81,
    "start_time": "2022-03-07T19:22:54.678Z"
   },
   {
    "duration": 16,
    "start_time": "2022-03-07T19:22:54.761Z"
   },
   {
    "duration": 104,
    "start_time": "2022-03-07T19:22:54.779Z"
   },
   {
    "duration": 14,
    "start_time": "2022-03-07T19:22:54.885Z"
   },
   {
    "duration": 21,
    "start_time": "2022-03-07T19:22:54.900Z"
   },
   {
    "duration": 40,
    "start_time": "2022-03-07T19:22:54.938Z"
   },
   {
    "duration": 16,
    "start_time": "2022-03-07T19:22:54.980Z"
   },
   {
    "duration": 8,
    "start_time": "2022-03-07T19:22:54.998Z"
   },
   {
    "duration": 41,
    "start_time": "2022-03-07T19:22:55.008Z"
   },
   {
    "duration": 6,
    "start_time": "2022-03-07T19:22:55.051Z"
   },
   {
    "duration": 15,
    "start_time": "2022-03-07T19:22:55.059Z"
   },
   {
    "duration": 10,
    "start_time": "2022-03-07T19:22:55.075Z"
   },
   {
    "duration": 29,
    "start_time": "2022-03-07T19:22:55.086Z"
   },
   {
    "duration": 46,
    "start_time": "2022-03-07T19:22:55.117Z"
   },
   {
    "duration": 34,
    "start_time": "2022-03-07T19:22:55.164Z"
   },
   {
    "duration": 14,
    "start_time": "2022-03-07T19:22:55.201Z"
   },
   {
    "duration": 32,
    "start_time": "2022-03-07T19:22:55.216Z"
   },
   {
    "duration": 37,
    "start_time": "2022-03-07T19:22:55.250Z"
   },
   {
    "duration": 17,
    "start_time": "2022-03-07T19:22:55.289Z"
   },
   {
    "duration": 60,
    "start_time": "2022-03-07T19:22:55.308Z"
   },
   {
    "duration": 20,
    "start_time": "2022-03-07T19:22:55.369Z"
   },
   {
    "duration": 22,
    "start_time": "2022-03-07T19:22:55.391Z"
   },
   {
    "duration": 32,
    "start_time": "2022-03-07T19:22:55.415Z"
   },
   {
    "duration": 286,
    "start_time": "2022-03-07T19:22:55.449Z"
   },
   {
    "duration": 9,
    "start_time": "2022-03-07T19:26:38.958Z"
   },
   {
    "duration": 165,
    "start_time": "2022-03-07T19:26:45.653Z"
   },
   {
    "duration": 550,
    "start_time": "2022-03-07T19:26:53.591Z"
   },
   {
    "duration": 175,
    "start_time": "2022-03-07T19:26:54.143Z"
   },
   {
    "duration": 32,
    "start_time": "2022-03-07T19:26:54.324Z"
   },
   {
    "duration": 34,
    "start_time": "2022-03-07T19:26:54.358Z"
   },
   {
    "duration": 14,
    "start_time": "2022-03-07T19:26:54.394Z"
   },
   {
    "duration": 144,
    "start_time": "2022-03-07T19:26:54.410Z"
   },
   {
    "duration": 142,
    "start_time": "2022-03-07T19:26:54.557Z"
   },
   {
    "duration": 17,
    "start_time": "2022-03-07T19:26:54.702Z"
   },
   {
    "duration": 35,
    "start_time": "2022-03-07T19:26:54.720Z"
   },
   {
    "duration": 61,
    "start_time": "2022-03-07T19:26:54.758Z"
   },
   {
    "duration": 28,
    "start_time": "2022-03-07T19:26:54.821Z"
   },
   {
    "duration": 104,
    "start_time": "2022-03-07T19:26:54.851Z"
   },
   {
    "duration": 15,
    "start_time": "2022-03-07T19:26:54.956Z"
   },
   {
    "duration": 23,
    "start_time": "2022-03-07T19:26:54.973Z"
   },
   {
    "duration": 67,
    "start_time": "2022-03-07T19:26:54.998Z"
   },
   {
    "duration": 18,
    "start_time": "2022-03-07T19:26:55.066Z"
   },
   {
    "duration": 12,
    "start_time": "2022-03-07T19:26:55.085Z"
   },
   {
    "duration": 44,
    "start_time": "2022-03-07T19:26:55.099Z"
   },
   {
    "duration": 6,
    "start_time": "2022-03-07T19:26:55.145Z"
   },
   {
    "duration": 11,
    "start_time": "2022-03-07T19:26:55.153Z"
   },
   {
    "duration": 9,
    "start_time": "2022-03-07T19:26:55.165Z"
   },
   {
    "duration": 22,
    "start_time": "2022-03-07T19:26:55.177Z"
   },
   {
    "duration": 45,
    "start_time": "2022-03-07T19:26:55.201Z"
   },
   {
    "duration": 31,
    "start_time": "2022-03-07T19:26:55.248Z"
   },
   {
    "duration": 14,
    "start_time": "2022-03-07T19:26:55.280Z"
   },
   {
    "duration": 14,
    "start_time": "2022-03-07T19:26:55.295Z"
   },
   {
    "duration": 55,
    "start_time": "2022-03-07T19:26:55.311Z"
   },
   {
    "duration": 17,
    "start_time": "2022-03-07T19:26:55.368Z"
   },
   {
    "duration": 56,
    "start_time": "2022-03-07T19:26:55.387Z"
   },
   {
    "duration": 20,
    "start_time": "2022-03-07T19:26:55.445Z"
   },
   {
    "duration": 23,
    "start_time": "2022-03-07T19:26:55.467Z"
   },
   {
    "duration": 12,
    "start_time": "2022-03-07T19:26:55.491Z"
   },
   {
    "duration": 39,
    "start_time": "2022-03-07T19:26:55.505Z"
   },
   {
    "duration": 275,
    "start_time": "2022-03-07T19:27:05.875Z"
   },
   {
    "duration": 173,
    "start_time": "2022-03-07T19:29:54.526Z"
   },
   {
    "duration": 174,
    "start_time": "2022-03-07T19:30:17.604Z"
   },
   {
    "duration": 587,
    "start_time": "2022-03-07T19:30:25.644Z"
   },
   {
    "duration": 171,
    "start_time": "2022-03-07T19:30:26.233Z"
   },
   {
    "duration": 21,
    "start_time": "2022-03-07T19:30:26.406Z"
   },
   {
    "duration": 34,
    "start_time": "2022-03-07T19:30:26.429Z"
   },
   {
    "duration": 11,
    "start_time": "2022-03-07T19:30:26.465Z"
   },
   {
    "duration": 127,
    "start_time": "2022-03-07T19:30:26.478Z"
   },
   {
    "duration": 144,
    "start_time": "2022-03-07T19:30:26.606Z"
   },
   {
    "duration": 18,
    "start_time": "2022-03-07T19:30:26.752Z"
   },
   {
    "duration": 24,
    "start_time": "2022-03-07T19:30:26.772Z"
   },
   {
    "duration": 92,
    "start_time": "2022-03-07T19:30:26.798Z"
   },
   {
    "duration": 16,
    "start_time": "2022-03-07T19:30:26.892Z"
   },
   {
    "duration": 108,
    "start_time": "2022-03-07T19:30:26.910Z"
   },
   {
    "duration": 22,
    "start_time": "2022-03-07T19:30:27.020Z"
   },
   {
    "duration": 21,
    "start_time": "2022-03-07T19:30:27.043Z"
   },
   {
    "duration": 40,
    "start_time": "2022-03-07T19:30:27.065Z"
   },
   {
    "duration": 34,
    "start_time": "2022-03-07T19:30:27.106Z"
   },
   {
    "duration": 6,
    "start_time": "2022-03-07T19:30:27.142Z"
   },
   {
    "duration": 32,
    "start_time": "2022-03-07T19:30:27.149Z"
   },
   {
    "duration": 6,
    "start_time": "2022-03-07T19:30:27.183Z"
   },
   {
    "duration": 13,
    "start_time": "2022-03-07T19:30:27.191Z"
   },
   {
    "duration": 9,
    "start_time": "2022-03-07T19:30:27.206Z"
   },
   {
    "duration": 37,
    "start_time": "2022-03-07T19:30:27.216Z"
   },
   {
    "duration": 31,
    "start_time": "2022-03-07T19:30:27.257Z"
   },
   {
    "duration": 56,
    "start_time": "2022-03-07T19:30:27.290Z"
   },
   {
    "duration": 14,
    "start_time": "2022-03-07T19:30:27.348Z"
   },
   {
    "duration": 14,
    "start_time": "2022-03-07T19:30:27.364Z"
   },
   {
    "duration": 33,
    "start_time": "2022-03-07T19:30:27.380Z"
   },
   {
    "duration": 37,
    "start_time": "2022-03-07T19:30:27.415Z"
   },
   {
    "duration": 43,
    "start_time": "2022-03-07T19:30:27.454Z"
   },
   {
    "duration": 45,
    "start_time": "2022-03-07T19:30:27.498Z"
   },
   {
    "duration": 23,
    "start_time": "2022-03-07T19:30:27.544Z"
   },
   {
    "duration": 12,
    "start_time": "2022-03-07T19:30:27.569Z"
   },
   {
    "duration": 239,
    "start_time": "2022-03-07T19:30:27.583Z"
   },
   {
    "duration": 166,
    "start_time": "2022-03-07T19:31:17.320Z"
   },
   {
    "duration": 554,
    "start_time": "2022-03-07T19:31:24.790Z"
   },
   {
    "duration": 164,
    "start_time": "2022-03-07T19:31:25.346Z"
   },
   {
    "duration": 25,
    "start_time": "2022-03-07T19:31:25.512Z"
   },
   {
    "duration": 31,
    "start_time": "2022-03-07T19:31:25.540Z"
   },
   {
    "duration": 13,
    "start_time": "2022-03-07T19:31:25.572Z"
   },
   {
    "duration": 127,
    "start_time": "2022-03-07T19:31:25.586Z"
   },
   {
    "duration": 136,
    "start_time": "2022-03-07T19:31:25.715Z"
   },
   {
    "duration": 16,
    "start_time": "2022-03-07T19:31:25.854Z"
   },
   {
    "duration": 23,
    "start_time": "2022-03-07T19:31:25.872Z"
   },
   {
    "duration": 87,
    "start_time": "2022-03-07T19:31:25.897Z"
   },
   {
    "duration": 16,
    "start_time": "2022-03-07T19:31:25.985Z"
   },
   {
    "duration": 100,
    "start_time": "2022-03-07T19:31:26.003Z"
   },
   {
    "duration": 14,
    "start_time": "2022-03-07T19:31:26.105Z"
   },
   {
    "duration": 33,
    "start_time": "2022-03-07T19:31:26.121Z"
   },
   {
    "duration": 41,
    "start_time": "2022-03-07T19:31:26.155Z"
   },
   {
    "duration": 16,
    "start_time": "2022-03-07T19:31:26.198Z"
   },
   {
    "duration": 25,
    "start_time": "2022-03-07T19:31:26.216Z"
   },
   {
    "duration": 33,
    "start_time": "2022-03-07T19:31:26.243Z"
   },
   {
    "duration": 6,
    "start_time": "2022-03-07T19:31:26.278Z"
   },
   {
    "duration": 9,
    "start_time": "2022-03-07T19:31:26.285Z"
   },
   {
    "duration": 6,
    "start_time": "2022-03-07T19:31:26.296Z"
   },
   {
    "duration": 25,
    "start_time": "2022-03-07T19:31:26.303Z"
   },
   {
    "duration": 29,
    "start_time": "2022-03-07T19:31:26.339Z"
   },
   {
    "duration": 32,
    "start_time": "2022-03-07T19:31:26.370Z"
   },
   {
    "duration": 34,
    "start_time": "2022-03-07T19:31:26.404Z"
   },
   {
    "duration": 15,
    "start_time": "2022-03-07T19:31:26.440Z"
   },
   {
    "duration": 35,
    "start_time": "2022-03-07T19:31:26.456Z"
   },
   {
    "duration": 18,
    "start_time": "2022-03-07T19:31:26.493Z"
   },
   {
    "duration": 62,
    "start_time": "2022-03-07T19:31:26.513Z"
   },
   {
    "duration": 21,
    "start_time": "2022-03-07T19:31:26.577Z"
   },
   {
    "duration": 49,
    "start_time": "2022-03-07T19:31:26.600Z"
   },
   {
    "duration": 13,
    "start_time": "2022-03-07T19:31:26.651Z"
   },
   {
    "duration": 9,
    "start_time": "2022-03-07T19:31:26.666Z"
   },
   {
    "duration": 25,
    "start_time": "2022-03-07T19:31:33.151Z"
   },
   {
    "duration": 26,
    "start_time": "2022-03-07T19:31:42.045Z"
   },
   {
    "duration": 12,
    "start_time": "2022-03-07T19:32:08.210Z"
   },
   {
    "duration": 31,
    "start_time": "2022-03-07T19:32:08.659Z"
   },
   {
    "duration": 551,
    "start_time": "2022-03-07T19:32:15.292Z"
   },
   {
    "duration": 168,
    "start_time": "2022-03-07T19:32:15.845Z"
   },
   {
    "duration": 28,
    "start_time": "2022-03-07T19:32:16.016Z"
   },
   {
    "duration": 31,
    "start_time": "2022-03-07T19:32:16.046Z"
   },
   {
    "duration": 13,
    "start_time": "2022-03-07T19:32:16.079Z"
   },
   {
    "duration": 135,
    "start_time": "2022-03-07T19:32:16.093Z"
   },
   {
    "duration": 143,
    "start_time": "2022-03-07T19:32:16.231Z"
   },
   {
    "duration": 17,
    "start_time": "2022-03-07T19:32:16.376Z"
   },
   {
    "duration": 24,
    "start_time": "2022-03-07T19:32:16.395Z"
   },
   {
    "duration": 79,
    "start_time": "2022-03-07T19:32:16.420Z"
   },
   {
    "duration": 18,
    "start_time": "2022-03-07T19:32:16.500Z"
   },
   {
    "duration": 112,
    "start_time": "2022-03-07T19:32:16.519Z"
   },
   {
    "duration": 17,
    "start_time": "2022-03-07T19:32:16.633Z"
   },
   {
    "duration": 22,
    "start_time": "2022-03-07T19:32:16.652Z"
   },
   {
    "duration": 61,
    "start_time": "2022-03-07T19:32:16.676Z"
   },
   {
    "duration": 17,
    "start_time": "2022-03-07T19:32:16.739Z"
   },
   {
    "duration": 10,
    "start_time": "2022-03-07T19:32:16.757Z"
   },
   {
    "duration": 34,
    "start_time": "2022-03-07T19:32:16.769Z"
   },
   {
    "duration": 7,
    "start_time": "2022-03-07T19:32:16.804Z"
   },
   {
    "duration": 16,
    "start_time": "2022-03-07T19:32:16.813Z"
   },
   {
    "duration": 10,
    "start_time": "2022-03-07T19:32:16.831Z"
   },
   {
    "duration": 22,
    "start_time": "2022-03-07T19:32:16.844Z"
   },
   {
    "duration": 29,
    "start_time": "2022-03-07T19:32:16.868Z"
   },
   {
    "duration": 55,
    "start_time": "2022-03-07T19:32:16.899Z"
   },
   {
    "duration": 15,
    "start_time": "2022-03-07T19:32:16.955Z"
   },
   {
    "duration": 15,
    "start_time": "2022-03-07T19:32:16.972Z"
   },
   {
    "duration": 59,
    "start_time": "2022-03-07T19:32:16.988Z"
   },
   {
    "duration": 18,
    "start_time": "2022-03-07T19:32:17.049Z"
   },
   {
    "duration": 45,
    "start_time": "2022-03-07T19:32:17.069Z"
   },
   {
    "duration": 37,
    "start_time": "2022-03-07T19:32:17.115Z"
   },
   {
    "duration": 24,
    "start_time": "2022-03-07T19:32:17.154Z"
   },
   {
    "duration": 11,
    "start_time": "2022-03-07T19:32:17.179Z"
   },
   {
    "duration": 46,
    "start_time": "2022-03-07T19:32:17.192Z"
   },
   {
    "duration": 14,
    "start_time": "2022-03-07T19:32:34.181Z"
   },
   {
    "duration": 21,
    "start_time": "2022-03-07T19:32:35.804Z"
   },
   {
    "duration": 551,
    "start_time": "2022-03-07T19:32:44.162Z"
   },
   {
    "duration": 171,
    "start_time": "2022-03-07T19:32:44.715Z"
   },
   {
    "duration": 20,
    "start_time": "2022-03-07T19:32:44.888Z"
   },
   {
    "duration": 41,
    "start_time": "2022-03-07T19:32:44.910Z"
   },
   {
    "duration": 12,
    "start_time": "2022-03-07T19:32:44.953Z"
   },
   {
    "duration": 131,
    "start_time": "2022-03-07T19:32:44.966Z"
   },
   {
    "duration": 154,
    "start_time": "2022-03-07T19:32:45.100Z"
   },
   {
    "duration": 17,
    "start_time": "2022-03-07T19:32:45.256Z"
   },
   {
    "duration": 22,
    "start_time": "2022-03-07T19:32:45.275Z"
   },
   {
    "duration": 91,
    "start_time": "2022-03-07T19:32:45.299Z"
   },
   {
    "duration": 16,
    "start_time": "2022-03-07T19:32:45.391Z"
   },
   {
    "duration": 97,
    "start_time": "2022-03-07T19:32:45.409Z"
   },
   {
    "duration": 14,
    "start_time": "2022-03-07T19:32:45.507Z"
   },
   {
    "duration": 31,
    "start_time": "2022-03-07T19:32:45.523Z"
   },
   {
    "duration": 43,
    "start_time": "2022-03-07T19:32:45.555Z"
   },
   {
    "duration": 17,
    "start_time": "2022-03-07T19:32:45.599Z"
   },
   {
    "duration": 24,
    "start_time": "2022-03-07T19:32:45.617Z"
   },
   {
    "duration": 46,
    "start_time": "2022-03-07T19:32:45.643Z"
   },
   {
    "duration": 8,
    "start_time": "2022-03-07T19:32:45.690Z"
   },
   {
    "duration": 11,
    "start_time": "2022-03-07T19:32:45.699Z"
   },
   {
    "duration": 11,
    "start_time": "2022-03-07T19:32:45.712Z"
   },
   {
    "duration": 24,
    "start_time": "2022-03-07T19:32:45.725Z"
   },
   {
    "duration": 27,
    "start_time": "2022-03-07T19:32:45.753Z"
   },
   {
    "duration": 34,
    "start_time": "2022-03-07T19:32:45.783Z"
   },
   {
    "duration": 33,
    "start_time": "2022-03-07T19:32:45.819Z"
   },
   {
    "duration": 15,
    "start_time": "2022-03-07T19:32:45.854Z"
   },
   {
    "duration": 37,
    "start_time": "2022-03-07T19:32:45.870Z"
   },
   {
    "duration": 41,
    "start_time": "2022-03-07T19:32:45.909Z"
   },
   {
    "duration": 41,
    "start_time": "2022-03-07T19:32:45.952Z"
   },
   {
    "duration": 48,
    "start_time": "2022-03-07T19:32:45.995Z"
   },
   {
    "duration": 25,
    "start_time": "2022-03-07T19:32:46.046Z"
   },
   {
    "duration": 11,
    "start_time": "2022-03-07T19:32:46.073Z"
   },
   {
    "duration": 22,
    "start_time": "2022-03-07T19:32:46.086Z"
   },
   {
    "duration": 236,
    "start_time": "2022-03-07T19:33:50.670Z"
   },
   {
    "duration": 23,
    "start_time": "2022-03-07T19:34:05.741Z"
   },
   {
    "duration": 193,
    "start_time": "2022-03-07T19:34:37.740Z"
   },
   {
    "duration": 14,
    "start_time": "2022-03-07T19:34:50.535Z"
   },
   {
    "duration": 585,
    "start_time": "2022-03-07T19:35:03.733Z"
   },
   {
    "duration": 171,
    "start_time": "2022-03-07T19:35:04.320Z"
   },
   {
    "duration": 22,
    "start_time": "2022-03-07T19:35:04.493Z"
   },
   {
    "duration": 43,
    "start_time": "2022-03-07T19:35:04.517Z"
   },
   {
    "duration": 12,
    "start_time": "2022-03-07T19:35:04.562Z"
   },
   {
    "duration": 122,
    "start_time": "2022-03-07T19:35:04.576Z"
   },
   {
    "duration": 142,
    "start_time": "2022-03-07T19:35:04.700Z"
   },
   {
    "duration": 18,
    "start_time": "2022-03-07T19:35:04.844Z"
   },
   {
    "duration": 24,
    "start_time": "2022-03-07T19:35:04.864Z"
   },
   {
    "duration": 89,
    "start_time": "2022-03-07T19:35:04.890Z"
   },
   {
    "duration": 18,
    "start_time": "2022-03-07T19:35:04.981Z"
   },
   {
    "duration": 110,
    "start_time": "2022-03-07T19:35:05.001Z"
   },
   {
    "duration": 25,
    "start_time": "2022-03-07T19:35:05.113Z"
   },
   {
    "duration": 22,
    "start_time": "2022-03-07T19:35:05.140Z"
   },
   {
    "duration": 50,
    "start_time": "2022-03-07T19:35:05.164Z"
   },
   {
    "duration": 18,
    "start_time": "2022-03-07T19:35:05.238Z"
   },
   {
    "duration": 12,
    "start_time": "2022-03-07T19:35:05.257Z"
   },
   {
    "duration": 27,
    "start_time": "2022-03-07T19:35:05.271Z"
   },
   {
    "duration": 6,
    "start_time": "2022-03-07T19:35:05.300Z"
   },
   {
    "duration": 9,
    "start_time": "2022-03-07T19:35:05.307Z"
   },
   {
    "duration": 20,
    "start_time": "2022-03-07T19:35:05.318Z"
   },
   {
    "duration": 23,
    "start_time": "2022-03-07T19:35:05.340Z"
   },
   {
    "duration": 29,
    "start_time": "2022-03-07T19:35:05.366Z"
   },
   {
    "duration": 51,
    "start_time": "2022-03-07T19:35:05.397Z"
   },
   {
    "duration": 15,
    "start_time": "2022-03-07T19:35:05.449Z"
   },
   {
    "duration": 15,
    "start_time": "2022-03-07T19:35:05.465Z"
   },
   {
    "duration": 57,
    "start_time": "2022-03-07T19:35:05.482Z"
   },
   {
    "duration": 18,
    "start_time": "2022-03-07T19:35:05.540Z"
   },
   {
    "duration": 46,
    "start_time": "2022-03-07T19:35:05.560Z"
   },
   {
    "duration": 38,
    "start_time": "2022-03-07T19:35:05.608Z"
   },
   {
    "duration": 25,
    "start_time": "2022-03-07T19:35:05.648Z"
   },
   {
    "duration": 13,
    "start_time": "2022-03-07T19:35:05.675Z"
   },
   {
    "duration": 10,
    "start_time": "2022-03-07T19:35:05.690Z"
   },
   {
    "duration": 24,
    "start_time": "2022-03-07T19:35:14.869Z"
   },
   {
    "duration": 11,
    "start_time": "2022-03-07T19:35:48.082Z"
   },
   {
    "duration": 29,
    "start_time": "2022-03-07T19:35:55.083Z"
   },
   {
    "duration": 618,
    "start_time": "2022-03-07T19:36:18.730Z"
   },
   {
    "duration": 178,
    "start_time": "2022-03-07T19:36:19.351Z"
   },
   {
    "duration": 33,
    "start_time": "2022-03-07T19:36:19.533Z"
   },
   {
    "duration": 29,
    "start_time": "2022-03-07T19:36:19.569Z"
   },
   {
    "duration": 13,
    "start_time": "2022-03-07T19:36:19.600Z"
   },
   {
    "duration": 135,
    "start_time": "2022-03-07T19:36:19.615Z"
   },
   {
    "duration": 137,
    "start_time": "2022-03-07T19:36:19.752Z"
   },
   {
    "duration": 17,
    "start_time": "2022-03-07T19:36:19.892Z"
   },
   {
    "duration": 36,
    "start_time": "2022-03-07T19:36:19.911Z"
   },
   {
    "duration": 57,
    "start_time": "2022-03-07T19:36:19.949Z"
   },
   {
    "duration": 32,
    "start_time": "2022-03-07T19:36:20.007Z"
   },
   {
    "duration": 98,
    "start_time": "2022-03-07T19:36:20.041Z"
   },
   {
    "duration": 15,
    "start_time": "2022-03-07T19:36:20.140Z"
   },
   {
    "duration": 21,
    "start_time": "2022-03-07T19:36:20.156Z"
   },
   {
    "duration": 62,
    "start_time": "2022-03-07T19:36:20.179Z"
   },
   {
    "duration": 17,
    "start_time": "2022-03-07T19:36:20.242Z"
   },
   {
    "duration": 8,
    "start_time": "2022-03-07T19:36:20.261Z"
   },
   {
    "duration": 39,
    "start_time": "2022-03-07T19:36:20.270Z"
   },
   {
    "duration": 6,
    "start_time": "2022-03-07T19:36:20.311Z"
   },
   {
    "duration": 11,
    "start_time": "2022-03-07T19:36:20.319Z"
   },
   {
    "duration": 8,
    "start_time": "2022-03-07T19:36:20.332Z"
   },
   {
    "duration": 24,
    "start_time": "2022-03-07T19:36:20.341Z"
   },
   {
    "duration": 32,
    "start_time": "2022-03-07T19:36:20.368Z"
   },
   {
    "duration": 62,
    "start_time": "2022-03-07T19:36:20.402Z"
   },
   {
    "duration": 17,
    "start_time": "2022-03-07T19:36:20.466Z"
   },
   {
    "duration": 16,
    "start_time": "2022-03-07T19:36:20.485Z"
   },
   {
    "duration": 60,
    "start_time": "2022-03-07T19:36:20.503Z"
   },
   {
    "duration": 18,
    "start_time": "2022-03-07T19:36:20.566Z"
   },
   {
    "duration": 66,
    "start_time": "2022-03-07T19:36:20.586Z"
   },
   {
    "duration": 22,
    "start_time": "2022-03-07T19:36:20.654Z"
   },
   {
    "duration": 28,
    "start_time": "2022-03-07T19:36:20.678Z"
   },
   {
    "duration": 35,
    "start_time": "2022-03-07T19:36:20.707Z"
   },
   {
    "duration": 37,
    "start_time": "2022-03-07T19:36:20.744Z"
   },
   {
    "duration": 224,
    "start_time": "2022-03-07T19:45:53.303Z"
   },
   {
    "duration": 19,
    "start_time": "2022-03-07T19:46:19.922Z"
   },
   {
    "duration": 17,
    "start_time": "2022-03-07T19:46:48.674Z"
   },
   {
    "duration": 9,
    "start_time": "2022-03-07T19:52:53.053Z"
   },
   {
    "duration": 21,
    "start_time": "2022-03-07T19:53:03.489Z"
   },
   {
    "duration": 17,
    "start_time": "2022-03-07T19:53:21.623Z"
   },
   {
    "duration": 597,
    "start_time": "2022-03-07T19:53:34.147Z"
   },
   {
    "duration": 172,
    "start_time": "2022-03-07T19:53:34.746Z"
   },
   {
    "duration": 26,
    "start_time": "2022-03-07T19:53:34.920Z"
   },
   {
    "duration": 28,
    "start_time": "2022-03-07T19:53:34.948Z"
   },
   {
    "duration": 12,
    "start_time": "2022-03-07T19:53:34.977Z"
   },
   {
    "duration": 134,
    "start_time": "2022-03-07T19:53:34.991Z"
   },
   {
    "duration": 139,
    "start_time": "2022-03-07T19:53:35.126Z"
   },
   {
    "duration": 16,
    "start_time": "2022-03-07T19:53:35.268Z"
   },
   {
    "duration": 22,
    "start_time": "2022-03-07T19:53:35.286Z"
   },
   {
    "duration": 82,
    "start_time": "2022-03-07T19:53:35.310Z"
   },
   {
    "duration": 15,
    "start_time": "2022-03-07T19:53:35.394Z"
   },
   {
    "duration": 109,
    "start_time": "2022-03-07T19:53:35.411Z"
   },
   {
    "duration": 20,
    "start_time": "2022-03-07T19:53:35.522Z"
   },
   {
    "duration": 22,
    "start_time": "2022-03-07T19:53:35.544Z"
   },
   {
    "duration": 42,
    "start_time": "2022-03-07T19:53:35.568Z"
   },
   {
    "duration": 33,
    "start_time": "2022-03-07T19:53:35.612Z"
   },
   {
    "duration": 10,
    "start_time": "2022-03-07T19:53:35.646Z"
   },
   {
    "duration": 27,
    "start_time": "2022-03-07T19:53:35.658Z"
   },
   {
    "duration": 6,
    "start_time": "2022-03-07T19:53:35.687Z"
   },
   {
    "duration": 7,
    "start_time": "2022-03-07T19:53:35.695Z"
   },
   {
    "duration": 7,
    "start_time": "2022-03-07T19:53:35.704Z"
   },
   {
    "duration": 41,
    "start_time": "2022-03-07T19:53:35.712Z"
   },
   {
    "duration": 28,
    "start_time": "2022-03-07T19:53:35.757Z"
   },
   {
    "duration": 55,
    "start_time": "2022-03-07T19:53:35.787Z"
   },
   {
    "duration": 14,
    "start_time": "2022-03-07T19:53:35.844Z"
   },
   {
    "duration": 15,
    "start_time": "2022-03-07T19:53:35.859Z"
   },
   {
    "duration": 36,
    "start_time": "2022-03-07T19:53:35.876Z"
   },
   {
    "duration": 38,
    "start_time": "2022-03-07T19:53:35.914Z"
   },
   {
    "duration": 43,
    "start_time": "2022-03-07T19:53:35.954Z"
   },
   {
    "duration": 41,
    "start_time": "2022-03-07T19:53:35.999Z"
   },
   {
    "duration": 27,
    "start_time": "2022-03-07T19:53:36.042Z"
   },
   {
    "duration": 14,
    "start_time": "2022-03-07T19:53:36.071Z"
   },
   {
    "duration": 29,
    "start_time": "2022-03-07T19:53:36.087Z"
   },
   {
    "duration": 20,
    "start_time": "2022-03-07T19:53:36.138Z"
   },
   {
    "duration": 19,
    "start_time": "2022-03-07T19:53:36.160Z"
   },
   {
    "duration": 18,
    "start_time": "2022-03-07T19:53:36.181Z"
   },
   {
    "duration": 540,
    "start_time": "2022-03-07T19:54:06.986Z"
   },
   {
    "duration": 162,
    "start_time": "2022-03-07T19:54:07.528Z"
   },
   {
    "duration": 21,
    "start_time": "2022-03-07T19:54:07.692Z"
   },
   {
    "duration": 42,
    "start_time": "2022-03-07T19:54:07.715Z"
   },
   {
    "duration": 12,
    "start_time": "2022-03-07T19:54:07.759Z"
   },
   {
    "duration": 118,
    "start_time": "2022-03-07T19:54:07.773Z"
   },
   {
    "duration": 135,
    "start_time": "2022-03-07T19:54:07.892Z"
   },
   {
    "duration": 22,
    "start_time": "2022-03-07T19:54:08.030Z"
   },
   {
    "duration": 21,
    "start_time": "2022-03-07T19:54:08.055Z"
   },
   {
    "duration": 73,
    "start_time": "2022-03-07T19:54:08.078Z"
   },
   {
    "duration": 17,
    "start_time": "2022-03-07T19:54:08.152Z"
   },
   {
    "duration": 193,
    "start_time": "2022-03-07T19:54:08.170Z"
   },
   {
    "duration": 15,
    "start_time": "2022-03-07T19:54:08.364Z"
   },
   {
    "duration": 74,
    "start_time": "2022-03-07T19:54:08.380Z"
   },
   {
    "duration": 94,
    "start_time": "2022-03-07T19:54:08.456Z"
   },
   {
    "duration": 16,
    "start_time": "2022-03-07T19:54:08.552Z"
   },
   {
    "duration": 6,
    "start_time": "2022-03-07T19:54:08.570Z"
   },
   {
    "duration": 71,
    "start_time": "2022-03-07T19:54:08.577Z"
   },
   {
    "duration": 7,
    "start_time": "2022-03-07T19:54:08.649Z"
   },
   {
    "duration": 10,
    "start_time": "2022-03-07T19:54:08.658Z"
   },
   {
    "duration": 6,
    "start_time": "2022-03-07T19:54:08.670Z"
   },
   {
    "duration": 66,
    "start_time": "2022-03-07T19:54:08.677Z"
   },
   {
    "duration": 30,
    "start_time": "2022-03-07T19:54:08.746Z"
   },
   {
    "duration": 35,
    "start_time": "2022-03-07T19:54:08.778Z"
   },
   {
    "duration": 35,
    "start_time": "2022-03-07T19:54:08.815Z"
   },
   {
    "duration": 16,
    "start_time": "2022-03-07T19:54:08.851Z"
   },
   {
    "duration": 36,
    "start_time": "2022-03-07T19:54:08.868Z"
   },
   {
    "duration": 37,
    "start_time": "2022-03-07T19:54:08.906Z"
   },
   {
    "duration": 40,
    "start_time": "2022-03-07T19:54:08.945Z"
   },
   {
    "duration": 20,
    "start_time": "2022-03-07T19:54:08.987Z"
   },
   {
    "duration": 48,
    "start_time": "2022-03-07T19:54:09.008Z"
   },
   {
    "duration": 11,
    "start_time": "2022-03-07T19:54:09.058Z"
   },
   {
    "duration": 21,
    "start_time": "2022-03-07T19:54:09.071Z"
   },
   {
    "duration": 17,
    "start_time": "2022-03-07T19:54:09.094Z"
   },
   {
    "duration": 6,
    "start_time": "2022-03-07T19:54:09.137Z"
   },
   {
    "duration": 19,
    "start_time": "2022-03-07T19:54:09.145Z"
   },
   {
    "duration": 14,
    "start_time": "2022-03-07T19:58:26.957Z"
   },
   {
    "duration": 24,
    "start_time": "2022-03-07T19:58:34.908Z"
   },
   {
    "duration": 19,
    "start_time": "2022-03-07T19:59:11.237Z"
   },
   {
    "duration": 11,
    "start_time": "2022-03-07T20:00:58.750Z"
   },
   {
    "duration": 22,
    "start_time": "2022-03-07T20:01:00.959Z"
   },
   {
    "duration": 598,
    "start_time": "2022-03-07T20:01:07.319Z"
   },
   {
    "duration": 173,
    "start_time": "2022-03-07T20:01:07.919Z"
   },
   {
    "duration": 21,
    "start_time": "2022-03-07T20:01:08.095Z"
   },
   {
    "duration": 42,
    "start_time": "2022-03-07T20:01:08.118Z"
   },
   {
    "duration": 13,
    "start_time": "2022-03-07T20:01:08.162Z"
   },
   {
    "duration": 129,
    "start_time": "2022-03-07T20:01:08.176Z"
   },
   {
    "duration": 143,
    "start_time": "2022-03-07T20:01:08.307Z"
   },
   {
    "duration": 17,
    "start_time": "2022-03-07T20:01:08.452Z"
   },
   {
    "duration": 30,
    "start_time": "2022-03-07T20:01:08.471Z"
   },
   {
    "duration": 69,
    "start_time": "2022-03-07T20:01:08.502Z"
   },
   {
    "duration": 15,
    "start_time": "2022-03-07T20:01:08.572Z"
   },
   {
    "duration": 101,
    "start_time": "2022-03-07T20:01:08.588Z"
   },
   {
    "duration": 13,
    "start_time": "2022-03-07T20:01:08.690Z"
   },
   {
    "duration": 23,
    "start_time": "2022-03-07T20:01:08.705Z"
   },
   {
    "duration": 40,
    "start_time": "2022-03-07T20:01:08.738Z"
   },
   {
    "duration": 17,
    "start_time": "2022-03-07T20:01:08.780Z"
   },
   {
    "duration": 10,
    "start_time": "2022-03-07T20:01:08.799Z"
   },
   {
    "duration": 33,
    "start_time": "2022-03-07T20:01:08.811Z"
   },
   {
    "duration": 32,
    "start_time": "2022-03-07T20:01:08.846Z"
   },
   {
    "duration": 20,
    "start_time": "2022-03-07T20:01:08.880Z"
   },
   {
    "duration": 7,
    "start_time": "2022-03-07T20:01:08.902Z"
   },
   {
    "duration": 24,
    "start_time": "2022-03-07T20:01:08.910Z"
   },
   {
    "duration": 30,
    "start_time": "2022-03-07T20:01:08.937Z"
   },
   {
    "duration": 34,
    "start_time": "2022-03-07T20:01:08.969Z"
   },
   {
    "duration": 41,
    "start_time": "2022-03-07T20:01:09.005Z"
   },
   {
    "duration": 15,
    "start_time": "2022-03-07T20:01:09.047Z"
   },
   {
    "duration": 35,
    "start_time": "2022-03-07T20:01:09.064Z"
   },
   {
    "duration": 38,
    "start_time": "2022-03-07T20:01:09.101Z"
   },
   {
    "duration": 43,
    "start_time": "2022-03-07T20:01:09.141Z"
   },
   {
    "duration": 21,
    "start_time": "2022-03-07T20:01:09.186Z"
   },
   {
    "duration": 44,
    "start_time": "2022-03-07T20:01:09.209Z"
   },
   {
    "duration": 10,
    "start_time": "2022-03-07T20:01:09.254Z"
   },
   {
    "duration": 19,
    "start_time": "2022-03-07T20:01:09.266Z"
   },
   {
    "duration": 16,
    "start_time": "2022-03-07T20:01:09.287Z"
   },
   {
    "duration": 44,
    "start_time": "2022-03-07T20:01:09.304Z"
   },
   {
    "duration": 17,
    "start_time": "2022-03-07T20:01:09.349Z"
   },
   {
    "duration": 22,
    "start_time": "2022-03-07T20:01:37.403Z"
   },
   {
    "duration": 596,
    "start_time": "2022-03-07T20:01:45.246Z"
   },
   {
    "duration": 168,
    "start_time": "2022-03-07T20:01:45.844Z"
   },
   {
    "duration": 27,
    "start_time": "2022-03-07T20:01:46.014Z"
   },
   {
    "duration": 36,
    "start_time": "2022-03-07T20:01:46.044Z"
   },
   {
    "duration": 14,
    "start_time": "2022-03-07T20:01:46.082Z"
   },
   {
    "duration": 128,
    "start_time": "2022-03-07T20:01:46.098Z"
   },
   {
    "duration": 137,
    "start_time": "2022-03-07T20:01:46.237Z"
   },
   {
    "duration": 16,
    "start_time": "2022-03-07T20:01:46.377Z"
   },
   {
    "duration": 21,
    "start_time": "2022-03-07T20:01:46.395Z"
   },
   {
    "duration": 72,
    "start_time": "2022-03-07T20:01:46.418Z"
   },
   {
    "duration": 14,
    "start_time": "2022-03-07T20:01:46.492Z"
   },
   {
    "duration": 103,
    "start_time": "2022-03-07T20:01:46.508Z"
   },
   {
    "duration": 14,
    "start_time": "2022-03-07T20:01:46.612Z"
   },
   {
    "duration": 28,
    "start_time": "2022-03-07T20:01:46.628Z"
   },
   {
    "duration": 37,
    "start_time": "2022-03-07T20:01:46.658Z"
   },
   {
    "duration": 16,
    "start_time": "2022-03-07T20:01:46.696Z"
   },
   {
    "duration": 24,
    "start_time": "2022-03-07T20:01:46.714Z"
   },
   {
    "duration": 25,
    "start_time": "2022-03-07T20:01:46.741Z"
   },
   {
    "duration": 7,
    "start_time": "2022-03-07T20:01:46.769Z"
   },
   {
    "duration": 13,
    "start_time": "2022-03-07T20:01:46.778Z"
   },
   {
    "duration": 8,
    "start_time": "2022-03-07T20:01:46.793Z"
   },
   {
    "duration": 42,
    "start_time": "2022-03-07T20:01:46.803Z"
   },
   {
    "duration": 29,
    "start_time": "2022-03-07T20:01:46.848Z"
   },
   {
    "duration": 33,
    "start_time": "2022-03-07T20:01:46.879Z"
   },
   {
    "duration": 35,
    "start_time": "2022-03-07T20:01:46.914Z"
   },
   {
    "duration": 15,
    "start_time": "2022-03-07T20:01:46.951Z"
   },
   {
    "duration": 35,
    "start_time": "2022-03-07T20:01:46.967Z"
   },
   {
    "duration": 38,
    "start_time": "2022-03-07T20:01:47.004Z"
   },
   {
    "duration": 41,
    "start_time": "2022-03-07T20:01:47.044Z"
   },
   {
    "duration": 20,
    "start_time": "2022-03-07T20:01:47.087Z"
   },
   {
    "duration": 44,
    "start_time": "2022-03-07T20:01:47.109Z"
   },
   {
    "duration": 11,
    "start_time": "2022-03-07T20:01:47.154Z"
   },
   {
    "duration": 27,
    "start_time": "2022-03-07T20:01:47.167Z"
   },
   {
    "duration": 17,
    "start_time": "2022-03-07T20:01:47.195Z"
   },
   {
    "duration": 37,
    "start_time": "2022-03-07T20:01:47.213Z"
   },
   {
    "duration": 16,
    "start_time": "2022-03-07T20:01:47.252Z"
   },
   {
    "duration": 8,
    "start_time": "2022-03-07T20:02:09.264Z"
   },
   {
    "duration": 549,
    "start_time": "2022-03-07T20:02:49.586Z"
   },
   {
    "duration": 169,
    "start_time": "2022-03-07T20:02:50.136Z"
   },
   {
    "duration": 32,
    "start_time": "2022-03-07T20:02:50.307Z"
   },
   {
    "duration": 32,
    "start_time": "2022-03-07T20:02:50.341Z"
   },
   {
    "duration": 13,
    "start_time": "2022-03-07T20:02:50.375Z"
   },
   {
    "duration": 137,
    "start_time": "2022-03-07T20:02:50.390Z"
   },
   {
    "duration": 143,
    "start_time": "2022-03-07T20:02:50.529Z"
   },
   {
    "duration": 17,
    "start_time": "2022-03-07T20:02:50.674Z"
   },
   {
    "duration": 28,
    "start_time": "2022-03-07T20:02:50.693Z"
   },
   {
    "duration": 67,
    "start_time": "2022-03-07T20:02:50.723Z"
   },
   {
    "duration": 15,
    "start_time": "2022-03-07T20:02:50.792Z"
   },
   {
    "duration": 108,
    "start_time": "2022-03-07T20:02:50.809Z"
   },
   {
    "duration": 19,
    "start_time": "2022-03-07T20:02:50.919Z"
   },
   {
    "duration": 20,
    "start_time": "2022-03-07T20:02:50.939Z"
   },
   {
    "duration": 41,
    "start_time": "2022-03-07T20:02:50.960Z"
   },
   {
    "duration": 36,
    "start_time": "2022-03-07T20:02:51.002Z"
   },
   {
    "duration": 7,
    "start_time": "2022-03-07T20:02:51.040Z"
   },
   {
    "duration": 31,
    "start_time": "2022-03-07T20:02:51.048Z"
   },
   {
    "duration": 5,
    "start_time": "2022-03-07T20:02:51.081Z"
   },
   {
    "duration": 9,
    "start_time": "2022-03-07T20:02:51.088Z"
   },
   {
    "duration": 7,
    "start_time": "2022-03-07T20:02:51.098Z"
   },
   {
    "duration": 41,
    "start_time": "2022-03-07T20:02:51.107Z"
   },
   {
    "duration": 29,
    "start_time": "2022-03-07T20:02:51.151Z"
   },
   {
    "duration": 34,
    "start_time": "2022-03-07T20:02:51.182Z"
   },
   {
    "duration": 35,
    "start_time": "2022-03-07T20:02:51.217Z"
   },
   {
    "duration": 16,
    "start_time": "2022-03-07T20:02:51.253Z"
   },
   {
    "duration": 34,
    "start_time": "2022-03-07T20:02:51.271Z"
   },
   {
    "duration": 42,
    "start_time": "2022-03-07T20:02:51.307Z"
   },
   {
    "duration": 41,
    "start_time": "2022-03-07T20:02:51.351Z"
   },
   {
    "duration": 21,
    "start_time": "2022-03-07T20:02:51.394Z"
   },
   {
    "duration": 42,
    "start_time": "2022-03-07T20:02:51.417Z"
   },
   {
    "duration": 11,
    "start_time": "2022-03-07T20:02:51.461Z"
   },
   {
    "duration": 17,
    "start_time": "2022-03-07T20:02:51.473Z"
   },
   {
    "duration": 16,
    "start_time": "2022-03-07T20:02:51.492Z"
   },
   {
    "duration": 20,
    "start_time": "2022-03-07T20:02:51.537Z"
   },
   {
    "duration": 15,
    "start_time": "2022-03-07T20:02:51.559Z"
   },
   {
    "duration": 530,
    "start_time": "2022-03-07T20:03:41.787Z"
   },
   {
    "duration": 157,
    "start_time": "2022-03-07T20:03:42.319Z"
   },
   {
    "duration": 21,
    "start_time": "2022-03-07T20:03:42.478Z"
   },
   {
    "duration": 42,
    "start_time": "2022-03-07T20:03:42.500Z"
   },
   {
    "duration": 12,
    "start_time": "2022-03-07T20:03:42.544Z"
   },
   {
    "duration": 117,
    "start_time": "2022-03-07T20:03:42.558Z"
   },
   {
    "duration": 127,
    "start_time": "2022-03-07T20:03:42.677Z"
   },
   {
    "duration": 17,
    "start_time": "2022-03-07T20:03:42.806Z"
   },
   {
    "duration": 32,
    "start_time": "2022-03-07T20:03:42.825Z"
   },
   {
    "duration": 60,
    "start_time": "2022-03-07T20:03:42.858Z"
   },
   {
    "duration": 33,
    "start_time": "2022-03-07T20:03:42.920Z"
   },
   {
    "duration": 99,
    "start_time": "2022-03-07T20:03:42.954Z"
   },
   {
    "duration": 14,
    "start_time": "2022-03-07T20:03:43.054Z"
   },
   {
    "duration": 18,
    "start_time": "2022-03-07T20:03:43.070Z"
   },
   {
    "duration": 61,
    "start_time": "2022-03-07T20:03:43.090Z"
   },
   {
    "duration": 17,
    "start_time": "2022-03-07T20:03:43.152Z"
   },
   {
    "duration": 6,
    "start_time": "2022-03-07T20:03:43.171Z"
   },
   {
    "duration": 26,
    "start_time": "2022-03-07T20:03:43.179Z"
   },
   {
    "duration": 6,
    "start_time": "2022-03-07T20:03:43.207Z"
   },
   {
    "duration": 8,
    "start_time": "2022-03-07T20:03:43.214Z"
   },
   {
    "duration": 6,
    "start_time": "2022-03-07T20:03:43.238Z"
   },
   {
    "duration": 26,
    "start_time": "2022-03-07T20:03:43.246Z"
   },
   {
    "duration": 28,
    "start_time": "2022-03-07T20:03:43.275Z"
   },
   {
    "duration": 53,
    "start_time": "2022-03-07T20:03:43.305Z"
   },
   {
    "duration": 13,
    "start_time": "2022-03-07T20:03:43.360Z"
   },
   {
    "duration": 14,
    "start_time": "2022-03-07T20:03:43.375Z"
   },
   {
    "duration": 55,
    "start_time": "2022-03-07T20:03:43.390Z"
   },
   {
    "duration": 16,
    "start_time": "2022-03-07T20:03:43.447Z"
   },
   {
    "duration": 41,
    "start_time": "2022-03-07T20:03:43.464Z"
   },
   {
    "duration": 37,
    "start_time": "2022-03-07T20:03:43.506Z"
   },
   {
    "duration": 22,
    "start_time": "2022-03-07T20:03:43.544Z"
   },
   {
    "duration": 11,
    "start_time": "2022-03-07T20:03:43.568Z"
   },
   {
    "duration": 32,
    "start_time": "2022-03-07T20:03:43.581Z"
   },
   {
    "duration": 31,
    "start_time": "2022-03-07T20:03:43.615Z"
   },
   {
    "duration": 17,
    "start_time": "2022-03-07T20:03:43.648Z"
   },
   {
    "duration": 14,
    "start_time": "2022-03-07T20:03:43.666Z"
   },
   {
    "duration": 601,
    "start_time": "2022-03-07T20:04:04.815Z"
   },
   {
    "duration": 170,
    "start_time": "2022-03-07T20:04:05.418Z"
   },
   {
    "duration": 54,
    "start_time": "2022-03-07T20:04:05.590Z"
   },
   {
    "duration": 38,
    "start_time": "2022-03-07T20:04:05.646Z"
   },
   {
    "duration": 13,
    "start_time": "2022-03-07T20:04:05.686Z"
   },
   {
    "duration": 122,
    "start_time": "2022-03-07T20:04:05.700Z"
   },
   {
    "duration": 140,
    "start_time": "2022-03-07T20:04:05.824Z"
   },
   {
    "duration": 38,
    "start_time": "2022-03-07T20:04:05.966Z"
   },
   {
    "duration": 36,
    "start_time": "2022-03-07T20:04:06.006Z"
   },
   {
    "duration": 64,
    "start_time": "2022-03-07T20:04:06.043Z"
   },
   {
    "duration": 33,
    "start_time": "2022-03-07T20:04:06.109Z"
   },
   {
    "duration": 94,
    "start_time": "2022-03-07T20:04:06.144Z"
   },
   {
    "duration": 33,
    "start_time": "2022-03-07T20:04:06.241Z"
   },
   {
    "duration": 22,
    "start_time": "2022-03-07T20:04:06.276Z"
   },
   {
    "duration": 71,
    "start_time": "2022-03-07T20:04:06.300Z"
   },
   {
    "duration": 17,
    "start_time": "2022-03-07T20:04:06.373Z"
   },
   {
    "duration": 8,
    "start_time": "2022-03-07T20:04:06.392Z"
   },
   {
    "duration": 26,
    "start_time": "2022-03-07T20:04:06.402Z"
   },
   {
    "duration": 8,
    "start_time": "2022-03-07T20:04:06.429Z"
   },
   {
    "duration": 9,
    "start_time": "2022-03-07T20:04:06.439Z"
   },
   {
    "duration": 6,
    "start_time": "2022-03-07T20:04:06.450Z"
   },
   {
    "duration": 23,
    "start_time": "2022-03-07T20:04:06.458Z"
   },
   {
    "duration": 64,
    "start_time": "2022-03-07T20:04:06.484Z"
   },
   {
    "duration": 34,
    "start_time": "2022-03-07T20:04:06.550Z"
   },
   {
    "duration": 14,
    "start_time": "2022-03-07T20:04:06.586Z"
   },
   {
    "duration": 39,
    "start_time": "2022-03-07T20:04:06.601Z"
   },
   {
    "duration": 42,
    "start_time": "2022-03-07T20:04:06.642Z"
   },
   {
    "duration": 17,
    "start_time": "2022-03-07T20:04:06.686Z"
   },
   {
    "duration": 62,
    "start_time": "2022-03-07T20:04:06.704Z"
   },
   {
    "duration": 19,
    "start_time": "2022-03-07T20:04:06.768Z"
   },
   {
    "duration": 24,
    "start_time": "2022-03-07T20:04:06.788Z"
   },
   {
    "duration": 31,
    "start_time": "2022-03-07T20:04:06.814Z"
   },
   {
    "duration": 17,
    "start_time": "2022-03-07T20:04:06.847Z"
   },
   {
    "duration": 14,
    "start_time": "2022-03-07T20:04:06.866Z"
   },
   {
    "duration": 18,
    "start_time": "2022-03-07T20:04:06.881Z"
   },
   {
    "duration": 43,
    "start_time": "2022-03-07T20:04:06.900Z"
   },
   {
    "duration": 533,
    "start_time": "2022-03-07T20:04:18.288Z"
   },
   {
    "duration": 158,
    "start_time": "2022-03-07T20:04:18.823Z"
   },
   {
    "duration": 20,
    "start_time": "2022-03-07T20:04:18.983Z"
   },
   {
    "duration": 41,
    "start_time": "2022-03-07T20:04:19.004Z"
   },
   {
    "duration": 12,
    "start_time": "2022-03-07T20:04:19.046Z"
   },
   {
    "duration": 116,
    "start_time": "2022-03-07T20:04:19.060Z"
   },
   {
    "duration": 144,
    "start_time": "2022-03-07T20:04:19.177Z"
   },
   {
    "duration": 21,
    "start_time": "2022-03-07T20:04:19.323Z"
   },
   {
    "duration": 24,
    "start_time": "2022-03-07T20:04:19.346Z"
   },
   {
    "duration": 67,
    "start_time": "2022-03-07T20:04:19.372Z"
   },
   {
    "duration": 14,
    "start_time": "2022-03-07T20:04:19.441Z"
   },
   {
    "duration": 98,
    "start_time": "2022-03-07T20:04:19.457Z"
   },
   {
    "duration": 14,
    "start_time": "2022-03-07T20:04:19.557Z"
   },
   {
    "duration": 20,
    "start_time": "2022-03-07T20:04:19.573Z"
   },
   {
    "duration": 63,
    "start_time": "2022-03-07T20:04:19.595Z"
   },
   {
    "duration": 16,
    "start_time": "2022-03-07T20:04:19.660Z"
   },
   {
    "duration": 9,
    "start_time": "2022-03-07T20:04:19.678Z"
   },
   {
    "duration": 30,
    "start_time": "2022-03-07T20:04:19.688Z"
   },
   {
    "duration": 6,
    "start_time": "2022-03-07T20:04:19.720Z"
   },
   {
    "duration": 11,
    "start_time": "2022-03-07T20:04:19.727Z"
   },
   {
    "duration": 7,
    "start_time": "2022-03-07T20:04:19.740Z"
   },
   {
    "duration": 25,
    "start_time": "2022-03-07T20:04:19.749Z"
   },
   {
    "duration": 28,
    "start_time": "2022-03-07T20:04:19.778Z"
   },
   {
    "duration": 60,
    "start_time": "2022-03-07T20:04:19.808Z"
   },
   {
    "duration": 15,
    "start_time": "2022-03-07T20:04:19.870Z"
   },
   {
    "duration": 15,
    "start_time": "2022-03-07T20:04:19.886Z"
   },
   {
    "duration": 65,
    "start_time": "2022-03-07T20:04:19.903Z"
   },
   {
    "duration": 17,
    "start_time": "2022-03-07T20:04:19.970Z"
   },
   {
    "duration": 54,
    "start_time": "2022-03-07T20:04:19.989Z"
   },
   {
    "duration": 23,
    "start_time": "2022-03-07T20:04:20.046Z"
   },
   {
    "duration": 23,
    "start_time": "2022-03-07T20:04:20.071Z"
   },
   {
    "duration": 10,
    "start_time": "2022-03-07T20:04:20.096Z"
   },
   {
    "duration": 19,
    "start_time": "2022-03-07T20:04:20.139Z"
   },
   {
    "duration": 18,
    "start_time": "2022-03-07T20:04:20.159Z"
   },
   {
    "duration": 19,
    "start_time": "2022-03-07T20:04:20.178Z"
   },
   {
    "duration": 49,
    "start_time": "2022-03-07T20:04:20.198Z"
   },
   {
    "duration": 20,
    "start_time": "2022-03-07T20:04:39.325Z"
   },
   {
    "duration": 546,
    "start_time": "2022-03-07T20:04:47.594Z"
   },
   {
    "duration": 162,
    "start_time": "2022-03-07T20:04:48.142Z"
   },
   {
    "duration": 21,
    "start_time": "2022-03-07T20:04:48.306Z"
   },
   {
    "duration": 30,
    "start_time": "2022-03-07T20:04:48.337Z"
   },
   {
    "duration": 12,
    "start_time": "2022-03-07T20:04:48.369Z"
   },
   {
    "duration": 118,
    "start_time": "2022-03-07T20:04:48.382Z"
   },
   {
    "duration": 126,
    "start_time": "2022-03-07T20:04:48.501Z"
   },
   {
    "duration": 23,
    "start_time": "2022-03-07T20:04:48.630Z"
   },
   {
    "duration": 23,
    "start_time": "2022-03-07T20:04:48.655Z"
   },
   {
    "duration": 77,
    "start_time": "2022-03-07T20:04:48.679Z"
   },
   {
    "duration": 15,
    "start_time": "2022-03-07T20:04:48.758Z"
   },
   {
    "duration": 101,
    "start_time": "2022-03-07T20:04:48.774Z"
   },
   {
    "duration": 15,
    "start_time": "2022-03-07T20:04:48.877Z"
   },
   {
    "duration": 20,
    "start_time": "2022-03-07T20:04:48.893Z"
   },
   {
    "duration": 59,
    "start_time": "2022-03-07T20:04:48.914Z"
   },
   {
    "duration": 16,
    "start_time": "2022-03-07T20:04:48.975Z"
   },
   {
    "duration": 9,
    "start_time": "2022-03-07T20:04:48.993Z"
   },
   {
    "duration": 28,
    "start_time": "2022-03-07T20:04:49.003Z"
   },
   {
    "duration": 9,
    "start_time": "2022-03-07T20:04:49.033Z"
   },
   {
    "duration": 11,
    "start_time": "2022-03-07T20:04:49.043Z"
   },
   {
    "duration": 6,
    "start_time": "2022-03-07T20:04:49.056Z"
   },
   {
    "duration": 29,
    "start_time": "2022-03-07T20:04:49.064Z"
   },
   {
    "duration": 47,
    "start_time": "2022-03-07T20:04:49.096Z"
   },
   {
    "duration": 35,
    "start_time": "2022-03-07T20:04:49.145Z"
   },
   {
    "duration": 13,
    "start_time": "2022-03-07T20:04:49.182Z"
   },
   {
    "duration": 42,
    "start_time": "2022-03-07T20:04:49.196Z"
   },
   {
    "duration": 36,
    "start_time": "2022-03-07T20:04:49.240Z"
   },
   {
    "duration": 17,
    "start_time": "2022-03-07T20:04:49.278Z"
   },
   {
    "duration": 64,
    "start_time": "2022-03-07T20:04:49.297Z"
   },
   {
    "duration": 20,
    "start_time": "2022-03-07T20:04:49.363Z"
   },
   {
    "duration": 23,
    "start_time": "2022-03-07T20:04:49.385Z"
   },
   {
    "duration": 31,
    "start_time": "2022-03-07T20:04:49.410Z"
   },
   {
    "duration": 23,
    "start_time": "2022-03-07T20:04:49.443Z"
   },
   {
    "duration": 16,
    "start_time": "2022-03-07T20:04:49.468Z"
   },
   {
    "duration": 20,
    "start_time": "2022-03-07T20:04:49.486Z"
   },
   {
    "duration": 18,
    "start_time": "2022-03-07T20:04:49.537Z"
   },
   {
    "duration": 320,
    "start_time": "2022-03-07T20:05:02.741Z"
   },
   {
    "duration": 14,
    "start_time": "2022-03-07T20:09:52.419Z"
   },
   {
    "duration": 31,
    "start_time": "2022-03-07T20:10:16.827Z"
   },
   {
    "duration": 35,
    "start_time": "2022-03-07T20:10:24.654Z"
   },
   {
    "duration": 572,
    "start_time": "2022-03-07T20:10:32.972Z"
   },
   {
    "duration": 169,
    "start_time": "2022-03-07T20:10:33.547Z"
   },
   {
    "duration": 25,
    "start_time": "2022-03-07T20:10:33.718Z"
   },
   {
    "duration": 29,
    "start_time": "2022-03-07T20:10:33.745Z"
   },
   {
    "duration": 12,
    "start_time": "2022-03-07T20:10:33.776Z"
   },
   {
    "duration": 138,
    "start_time": "2022-03-07T20:10:33.790Z"
   },
   {
    "duration": 150,
    "start_time": "2022-03-07T20:10:33.930Z"
   },
   {
    "duration": 19,
    "start_time": "2022-03-07T20:10:34.082Z"
   },
   {
    "duration": 40,
    "start_time": "2022-03-07T20:10:34.104Z"
   },
   {
    "duration": 63,
    "start_time": "2022-03-07T20:10:34.146Z"
   },
   {
    "duration": 36,
    "start_time": "2022-03-07T20:10:34.211Z"
   },
   {
    "duration": 101,
    "start_time": "2022-03-07T20:10:34.249Z"
   },
   {
    "duration": 16,
    "start_time": "2022-03-07T20:10:34.352Z"
   },
   {
    "duration": 20,
    "start_time": "2022-03-07T20:10:34.370Z"
   },
   {
    "duration": 73,
    "start_time": "2022-03-07T20:10:34.392Z"
   },
   {
    "duration": 17,
    "start_time": "2022-03-07T20:10:34.467Z"
   },
   {
    "duration": 9,
    "start_time": "2022-03-07T20:10:34.485Z"
   },
   {
    "duration": 32,
    "start_time": "2022-03-07T20:10:34.495Z"
   },
   {
    "duration": 12,
    "start_time": "2022-03-07T20:10:34.529Z"
   },
   {
    "duration": 8,
    "start_time": "2022-03-07T20:10:34.543Z"
   },
   {
    "duration": 7,
    "start_time": "2022-03-07T20:10:34.553Z"
   },
   {
    "duration": 27,
    "start_time": "2022-03-07T20:10:34.562Z"
   },
   {
    "duration": 51,
    "start_time": "2022-03-07T20:10:34.592Z"
   },
   {
    "duration": 35,
    "start_time": "2022-03-07T20:10:34.645Z"
   },
   {
    "duration": 14,
    "start_time": "2022-03-07T20:10:34.682Z"
   },
   {
    "duration": 16,
    "start_time": "2022-03-07T20:10:34.698Z"
   },
   {
    "duration": 35,
    "start_time": "2022-03-07T20:10:34.738Z"
   },
   {
    "duration": 18,
    "start_time": "2022-03-07T20:10:34.775Z"
   },
   {
    "duration": 62,
    "start_time": "2022-03-07T20:10:34.795Z"
   },
   {
    "duration": 21,
    "start_time": "2022-03-07T20:10:34.859Z"
   },
   {
    "duration": 23,
    "start_time": "2022-03-07T20:10:34.882Z"
   },
   {
    "duration": 33,
    "start_time": "2022-03-07T20:10:34.906Z"
   },
   {
    "duration": 305,
    "start_time": "2022-03-07T20:10:34.941Z"
   },
   {
    "duration": 151,
    "start_time": "2022-03-07T20:10:35.097Z"
   },
   {
    "duration": 144,
    "start_time": "2022-03-07T20:10:35.105Z"
   },
   {
    "duration": 135,
    "start_time": "2022-03-07T20:10:35.115Z"
   },
   {
    "duration": 19,
    "start_time": "2022-03-07T20:10:58.142Z"
   },
   {
    "duration": 12,
    "start_time": "2022-03-07T20:11:14.449Z"
   },
   {
    "duration": 20,
    "start_time": "2022-03-07T20:11:25.534Z"
   },
   {
    "duration": 532,
    "start_time": "2022-03-07T20:11:35.804Z"
   },
   {
    "duration": 162,
    "start_time": "2022-03-07T20:11:36.338Z"
   },
   {
    "duration": 22,
    "start_time": "2022-03-07T20:11:36.502Z"
   },
   {
    "duration": 42,
    "start_time": "2022-03-07T20:11:36.527Z"
   },
   {
    "duration": 13,
    "start_time": "2022-03-07T20:11:36.571Z"
   },
   {
    "duration": 129,
    "start_time": "2022-03-07T20:11:36.586Z"
   },
   {
    "duration": 134,
    "start_time": "2022-03-07T20:11:36.717Z"
   },
   {
    "duration": 17,
    "start_time": "2022-03-07T20:11:36.853Z"
   },
   {
    "duration": 30,
    "start_time": "2022-03-07T20:11:36.872Z"
   },
   {
    "duration": 70,
    "start_time": "2022-03-07T20:11:36.904Z"
   },
   {
    "duration": 15,
    "start_time": "2022-03-07T20:11:36.976Z"
   },
   {
    "duration": 104,
    "start_time": "2022-03-07T20:11:36.993Z"
   },
   {
    "duration": 14,
    "start_time": "2022-03-07T20:11:37.099Z"
   },
   {
    "duration": 36,
    "start_time": "2022-03-07T20:11:37.115Z"
   },
   {
    "duration": 39,
    "start_time": "2022-03-07T20:11:37.153Z"
   },
   {
    "duration": 17,
    "start_time": "2022-03-07T20:11:37.194Z"
   },
   {
    "duration": 12,
    "start_time": "2022-03-07T20:11:37.212Z"
   },
   {
    "duration": 25,
    "start_time": "2022-03-07T20:11:37.238Z"
   },
   {
    "duration": 7,
    "start_time": "2022-03-07T20:11:37.265Z"
   },
   {
    "duration": 11,
    "start_time": "2022-03-07T20:11:37.273Z"
   },
   {
    "duration": 12,
    "start_time": "2022-03-07T20:11:37.285Z"
   },
   {
    "duration": 25,
    "start_time": "2022-03-07T20:11:37.298Z"
   },
   {
    "duration": 29,
    "start_time": "2022-03-07T20:11:37.339Z"
   },
   {
    "duration": 37,
    "start_time": "2022-03-07T20:11:37.370Z"
   },
   {
    "duration": 35,
    "start_time": "2022-03-07T20:11:37.408Z"
   },
   {
    "duration": 14,
    "start_time": "2022-03-07T20:11:37.445Z"
   },
   {
    "duration": 34,
    "start_time": "2022-03-07T20:11:37.461Z"
   },
   {
    "duration": 18,
    "start_time": "2022-03-07T20:11:37.496Z"
   },
   {
    "duration": 59,
    "start_time": "2022-03-07T20:11:37.516Z"
   },
   {
    "duration": 20,
    "start_time": "2022-03-07T20:11:37.576Z"
   },
   {
    "duration": 42,
    "start_time": "2022-03-07T20:11:37.597Z"
   },
   {
    "duration": 13,
    "start_time": "2022-03-07T20:11:37.640Z"
   },
   {
    "duration": 20,
    "start_time": "2022-03-07T20:11:37.655Z"
   },
   {
    "duration": 17,
    "start_time": "2022-03-07T20:11:37.676Z"
   },
   {
    "duration": 47,
    "start_time": "2022-03-07T20:11:37.694Z"
   },
   {
    "duration": 17,
    "start_time": "2022-03-07T20:11:37.742Z"
   },
   {
    "duration": 20,
    "start_time": "2022-03-07T20:12:02.581Z"
   },
   {
    "duration": 24,
    "start_time": "2022-03-07T20:12:09.066Z"
   },
   {
    "duration": 15,
    "start_time": "2022-03-07T20:12:11.638Z"
   },
   {
    "duration": 14,
    "start_time": "2022-03-07T20:12:19.400Z"
   },
   {
    "duration": 22,
    "start_time": "2022-03-07T20:12:20.151Z"
   },
   {
    "duration": 614,
    "start_time": "2022-03-07T20:12:31.056Z"
   },
   {
    "duration": 164,
    "start_time": "2022-03-07T20:12:31.672Z"
   },
   {
    "duration": 22,
    "start_time": "2022-03-07T20:12:31.839Z"
   },
   {
    "duration": 32,
    "start_time": "2022-03-07T20:12:31.863Z"
   },
   {
    "duration": 13,
    "start_time": "2022-03-07T20:12:31.897Z"
   },
   {
    "duration": 130,
    "start_time": "2022-03-07T20:12:31.911Z"
   },
   {
    "duration": 137,
    "start_time": "2022-03-07T20:12:32.043Z"
   },
   {
    "duration": 17,
    "start_time": "2022-03-07T20:12:32.182Z"
   },
   {
    "duration": 56,
    "start_time": "2022-03-07T20:12:32.201Z"
   },
   {
    "duration": 62,
    "start_time": "2022-03-07T20:12:32.258Z"
   },
   {
    "duration": 25,
    "start_time": "2022-03-07T20:12:32.321Z"
   },
   {
    "duration": 95,
    "start_time": "2022-03-07T20:12:32.348Z"
   },
   {
    "duration": 13,
    "start_time": "2022-03-07T20:12:32.445Z"
   },
   {
    "duration": 19,
    "start_time": "2022-03-07T20:12:32.460Z"
   },
   {
    "duration": 63,
    "start_time": "2022-03-07T20:12:32.481Z"
   },
   {
    "duration": 17,
    "start_time": "2022-03-07T20:12:32.546Z"
   },
   {
    "duration": 6,
    "start_time": "2022-03-07T20:12:32.564Z"
   },
   {
    "duration": 30,
    "start_time": "2022-03-07T20:12:32.572Z"
   },
   {
    "duration": 6,
    "start_time": "2022-03-07T20:12:32.604Z"
   },
   {
    "duration": 21,
    "start_time": "2022-03-07T20:12:32.612Z"
   },
   {
    "duration": 7,
    "start_time": "2022-03-07T20:12:32.635Z"
   },
   {
    "duration": 28,
    "start_time": "2022-03-07T20:12:32.644Z"
   },
   {
    "duration": 29,
    "start_time": "2022-03-07T20:12:32.675Z"
   },
   {
    "duration": 57,
    "start_time": "2022-03-07T20:12:32.706Z"
   },
   {
    "duration": 15,
    "start_time": "2022-03-07T20:12:32.765Z"
   },
   {
    "duration": 15,
    "start_time": "2022-03-07T20:12:32.781Z"
   },
   {
    "duration": 52,
    "start_time": "2022-03-07T20:12:32.798Z"
   },
   {
    "duration": 17,
    "start_time": "2022-03-07T20:12:32.851Z"
   },
   {
    "duration": 39,
    "start_time": "2022-03-07T20:12:32.870Z"
   },
   {
    "duration": 36,
    "start_time": "2022-03-07T20:12:32.910Z"
   },
   {
    "duration": 21,
    "start_time": "2022-03-07T20:12:32.947Z"
   },
   {
    "duration": 14,
    "start_time": "2022-03-07T20:12:32.969Z"
   },
   {
    "duration": 18,
    "start_time": "2022-03-07T20:12:32.985Z"
   },
   {
    "duration": 48,
    "start_time": "2022-03-07T20:12:33.005Z"
   },
   {
    "duration": 19,
    "start_time": "2022-03-07T20:12:33.055Z"
   },
   {
    "duration": 17,
    "start_time": "2022-03-07T20:12:33.076Z"
   },
   {
    "duration": 13,
    "start_time": "2022-03-07T20:12:46.167Z"
   },
   {
    "duration": 24,
    "start_time": "2022-03-07T20:12:47.172Z"
   },
   {
    "duration": 553,
    "start_time": "2022-03-07T20:13:18.585Z"
   },
   {
    "duration": 178,
    "start_time": "2022-03-07T20:13:19.140Z"
   },
   {
    "duration": 27,
    "start_time": "2022-03-07T20:13:19.320Z"
   },
   {
    "duration": 28,
    "start_time": "2022-03-07T20:13:19.349Z"
   },
   {
    "duration": 12,
    "start_time": "2022-03-07T20:13:19.379Z"
   },
   {
    "duration": 122,
    "start_time": "2022-03-07T20:13:19.392Z"
   },
   {
    "duration": 142,
    "start_time": "2022-03-07T20:13:19.517Z"
   },
   {
    "duration": 20,
    "start_time": "2022-03-07T20:13:19.662Z"
   },
   {
    "duration": 24,
    "start_time": "2022-03-07T20:13:19.685Z"
   },
   {
    "duration": 82,
    "start_time": "2022-03-07T20:13:19.711Z"
   },
   {
    "duration": 15,
    "start_time": "2022-03-07T20:13:19.795Z"
   },
   {
    "duration": 105,
    "start_time": "2022-03-07T20:13:19.811Z"
   },
   {
    "duration": 25,
    "start_time": "2022-03-07T20:13:19.917Z"
   },
   {
    "duration": 20,
    "start_time": "2022-03-07T20:13:19.944Z"
   },
   {
    "duration": 44,
    "start_time": "2022-03-07T20:13:19.965Z"
   },
   {
    "duration": 34,
    "start_time": "2022-03-07T20:13:20.011Z"
   },
   {
    "duration": 10,
    "start_time": "2022-03-07T20:13:20.047Z"
   },
   {
    "duration": 32,
    "start_time": "2022-03-07T20:13:20.059Z"
   },
   {
    "duration": 6,
    "start_time": "2022-03-07T20:13:20.093Z"
   },
   {
    "duration": 10,
    "start_time": "2022-03-07T20:13:20.101Z"
   },
   {
    "duration": 9,
    "start_time": "2022-03-07T20:13:20.113Z"
   },
   {
    "duration": 42,
    "start_time": "2022-03-07T20:13:20.123Z"
   },
   {
    "duration": 29,
    "start_time": "2022-03-07T20:13:20.168Z"
   },
   {
    "duration": 47,
    "start_time": "2022-03-07T20:13:20.199Z"
   },
   {
    "duration": 14,
    "start_time": "2022-03-07T20:13:20.248Z"
   },
   {
    "duration": 15,
    "start_time": "2022-03-07T20:13:20.264Z"
   },
   {
    "duration": 58,
    "start_time": "2022-03-07T20:13:20.281Z"
   },
   {
    "duration": 19,
    "start_time": "2022-03-07T20:13:20.340Z"
   },
   {
    "duration": 42,
    "start_time": "2022-03-07T20:13:20.360Z"
   },
   {
    "duration": 41,
    "start_time": "2022-03-07T20:13:20.404Z"
   },
   {
    "duration": 23,
    "start_time": "2022-03-07T20:13:20.447Z"
   },
   {
    "duration": 13,
    "start_time": "2022-03-07T20:13:20.471Z"
   },
   {
    "duration": 20,
    "start_time": "2022-03-07T20:13:20.485Z"
   },
   {
    "duration": 46,
    "start_time": "2022-03-07T20:13:20.506Z"
   },
   {
    "duration": 19,
    "start_time": "2022-03-07T20:13:20.553Z"
   },
   {
    "duration": 22,
    "start_time": "2022-03-07T20:13:20.573Z"
   },
   {
    "duration": 22,
    "start_time": "2022-03-07T20:13:51.482Z"
   },
   {
    "duration": 573,
    "start_time": "2022-03-07T20:14:04.872Z"
   },
   {
    "duration": 162,
    "start_time": "2022-03-07T20:14:05.447Z"
   },
   {
    "duration": 31,
    "start_time": "2022-03-07T20:14:05.611Z"
   },
   {
    "duration": 31,
    "start_time": "2022-03-07T20:14:05.644Z"
   },
   {
    "duration": 12,
    "start_time": "2022-03-07T20:14:05.677Z"
   },
   {
    "duration": 126,
    "start_time": "2022-03-07T20:14:05.691Z"
   },
   {
    "duration": 142,
    "start_time": "2022-03-07T20:14:05.818Z"
   },
   {
    "duration": 18,
    "start_time": "2022-03-07T20:14:05.962Z"
   },
   {
    "duration": 23,
    "start_time": "2022-03-07T20:14:05.982Z"
   },
   {
    "duration": 83,
    "start_time": "2022-03-07T20:14:06.006Z"
   },
   {
    "duration": 17,
    "start_time": "2022-03-07T20:14:06.091Z"
   },
   {
    "duration": 110,
    "start_time": "2022-03-07T20:14:06.111Z"
   },
   {
    "duration": 20,
    "start_time": "2022-03-07T20:14:06.223Z"
   },
   {
    "duration": 21,
    "start_time": "2022-03-07T20:14:06.246Z"
   },
   {
    "duration": 41,
    "start_time": "2022-03-07T20:14:06.269Z"
   },
   {
    "duration": 19,
    "start_time": "2022-03-07T20:14:06.337Z"
   },
   {
    "duration": 7,
    "start_time": "2022-03-07T20:14:06.358Z"
   },
   {
    "duration": 28,
    "start_time": "2022-03-07T20:14:06.367Z"
   },
   {
    "duration": 8,
    "start_time": "2022-03-07T20:14:06.397Z"
   },
   {
    "duration": 35,
    "start_time": "2022-03-07T20:14:06.407Z"
   },
   {
    "duration": 8,
    "start_time": "2022-03-07T20:14:06.444Z"
   },
   {
    "duration": 25,
    "start_time": "2022-03-07T20:14:06.454Z"
   },
   {
    "duration": 29,
    "start_time": "2022-03-07T20:14:06.482Z"
   },
   {
    "duration": 54,
    "start_time": "2022-03-07T20:14:06.513Z"
   },
   {
    "duration": 15,
    "start_time": "2022-03-07T20:14:06.568Z"
   },
   {
    "duration": 14,
    "start_time": "2022-03-07T20:14:06.585Z"
   },
   {
    "duration": 67,
    "start_time": "2022-03-07T20:14:06.601Z"
   },
   {
    "duration": 17,
    "start_time": "2022-03-07T20:14:06.670Z"
   },
   {
    "duration": 55,
    "start_time": "2022-03-07T20:14:06.689Z"
   },
   {
    "duration": 19,
    "start_time": "2022-03-07T20:14:06.746Z"
   },
   {
    "duration": 21,
    "start_time": "2022-03-07T20:14:06.767Z"
   },
   {
    "duration": 11,
    "start_time": "2022-03-07T20:14:06.790Z"
   },
   {
    "duration": 47,
    "start_time": "2022-03-07T20:14:06.803Z"
   },
   {
    "duration": 15,
    "start_time": "2022-03-07T20:14:06.852Z"
   },
   {
    "duration": 18,
    "start_time": "2022-03-07T20:14:06.869Z"
   },
   {
    "duration": 15,
    "start_time": "2022-03-07T20:14:06.889Z"
   },
   {
    "duration": 228,
    "start_time": "2022-03-07T20:14:26.806Z"
   },
   {
    "duration": 21,
    "start_time": "2022-03-07T20:14:44.603Z"
   },
   {
    "duration": 8,
    "start_time": "2022-03-07T20:15:07.313Z"
   },
   {
    "duration": 10,
    "start_time": "2022-03-07T20:15:18.564Z"
   },
   {
    "duration": 32,
    "start_time": "2022-03-07T20:15:25.359Z"
   },
   {
    "duration": 568,
    "start_time": "2022-03-07T20:15:33.465Z"
   },
   {
    "duration": 177,
    "start_time": "2022-03-07T20:15:34.035Z"
   },
   {
    "duration": 30,
    "start_time": "2022-03-07T20:15:34.216Z"
   },
   {
    "duration": 29,
    "start_time": "2022-03-07T20:15:34.248Z"
   },
   {
    "duration": 13,
    "start_time": "2022-03-07T20:15:34.278Z"
   },
   {
    "duration": 130,
    "start_time": "2022-03-07T20:15:34.292Z"
   },
   {
    "duration": 142,
    "start_time": "2022-03-07T20:15:34.424Z"
   },
   {
    "duration": 17,
    "start_time": "2022-03-07T20:15:34.568Z"
   },
   {
    "duration": 21,
    "start_time": "2022-03-07T20:15:34.587Z"
   },
   {
    "duration": 74,
    "start_time": "2022-03-07T20:15:34.609Z"
   },
   {
    "duration": 15,
    "start_time": "2022-03-07T20:15:34.685Z"
   },
   {
    "duration": 109,
    "start_time": "2022-03-07T20:15:34.702Z"
   },
   {
    "duration": 15,
    "start_time": "2022-03-07T20:15:34.812Z"
   },
   {
    "duration": 28,
    "start_time": "2022-03-07T20:15:34.828Z"
   },
   {
    "duration": 40,
    "start_time": "2022-03-07T20:15:34.858Z"
   },
   {
    "duration": 17,
    "start_time": "2022-03-07T20:15:34.900Z"
   },
   {
    "duration": 7,
    "start_time": "2022-03-07T20:15:34.938Z"
   },
   {
    "duration": 26,
    "start_time": "2022-03-07T20:15:34.946Z"
   },
   {
    "duration": 5,
    "start_time": "2022-03-07T20:15:34.974Z"
   },
   {
    "duration": 11,
    "start_time": "2022-03-07T20:15:34.981Z"
   },
   {
    "duration": 8,
    "start_time": "2022-03-07T20:15:34.994Z"
   },
   {
    "duration": 40,
    "start_time": "2022-03-07T20:15:35.005Z"
   },
   {
    "duration": 31,
    "start_time": "2022-03-07T20:15:35.047Z"
   },
   {
    "duration": 35,
    "start_time": "2022-03-07T20:15:35.080Z"
   },
   {
    "duration": 34,
    "start_time": "2022-03-07T20:15:35.117Z"
   },
   {
    "duration": 15,
    "start_time": "2022-03-07T20:15:35.153Z"
   },
   {
    "duration": 34,
    "start_time": "2022-03-07T20:15:35.170Z"
   },
   {
    "duration": 39,
    "start_time": "2022-03-07T20:15:35.205Z"
   },
   {
    "duration": 41,
    "start_time": "2022-03-07T20:15:35.246Z"
   },
   {
    "duration": 20,
    "start_time": "2022-03-07T20:15:35.288Z"
   },
   {
    "duration": 47,
    "start_time": "2022-03-07T20:15:35.309Z"
   },
   {
    "duration": 12,
    "start_time": "2022-03-07T20:15:35.358Z"
   },
   {
    "duration": 25,
    "start_time": "2022-03-07T20:15:35.372Z"
   },
   {
    "duration": 17,
    "start_time": "2022-03-07T20:15:35.399Z"
   },
   {
    "duration": 40,
    "start_time": "2022-03-07T20:15:35.417Z"
   },
   {
    "duration": 24,
    "start_time": "2022-03-07T20:15:35.459Z"
   },
   {
    "duration": 18,
    "start_time": "2022-03-07T20:19:27.595Z"
   },
   {
    "duration": 632,
    "start_time": "2022-03-07T20:19:36.036Z"
   },
   {
    "duration": 165,
    "start_time": "2022-03-07T20:19:36.670Z"
   },
   {
    "duration": 20,
    "start_time": "2022-03-07T20:19:36.837Z"
   },
   {
    "duration": 29,
    "start_time": "2022-03-07T20:19:36.859Z"
   },
   {
    "duration": 12,
    "start_time": "2022-03-07T20:19:36.890Z"
   },
   {
    "duration": 124,
    "start_time": "2022-03-07T20:19:36.903Z"
   },
   {
    "duration": 137,
    "start_time": "2022-03-07T20:19:37.029Z"
   },
   {
    "duration": 17,
    "start_time": "2022-03-07T20:19:37.168Z"
   },
   {
    "duration": 21,
    "start_time": "2022-03-07T20:19:37.187Z"
   },
   {
    "duration": 74,
    "start_time": "2022-03-07T20:19:37.210Z"
   },
   {
    "duration": 15,
    "start_time": "2022-03-07T20:19:37.286Z"
   },
   {
    "duration": 101,
    "start_time": "2022-03-07T20:19:37.303Z"
   },
   {
    "duration": 13,
    "start_time": "2022-03-07T20:19:37.406Z"
   },
   {
    "duration": 32,
    "start_time": "2022-03-07T20:19:37.421Z"
   },
   {
    "duration": 40,
    "start_time": "2022-03-07T20:19:37.454Z"
   },
   {
    "duration": 16,
    "start_time": "2022-03-07T20:19:37.496Z"
   },
   {
    "duration": 24,
    "start_time": "2022-03-07T20:19:37.514Z"
   },
   {
    "duration": 27,
    "start_time": "2022-03-07T20:19:37.540Z"
   },
   {
    "duration": 6,
    "start_time": "2022-03-07T20:19:37.569Z"
   },
   {
    "duration": 8,
    "start_time": "2022-03-07T20:19:37.576Z"
   },
   {
    "duration": 6,
    "start_time": "2022-03-07T20:19:37.585Z"
   },
   {
    "duration": 33,
    "start_time": "2022-03-07T20:19:37.593Z"
   },
   {
    "duration": 34,
    "start_time": "2022-03-07T20:19:37.629Z"
   },
   {
    "duration": 33,
    "start_time": "2022-03-07T20:19:37.665Z"
   },
   {
    "duration": 14,
    "start_time": "2022-03-07T20:19:37.699Z"
   },
   {
    "duration": 35,
    "start_time": "2022-03-07T20:19:37.715Z"
   },
   {
    "duration": 33,
    "start_time": "2022-03-07T20:19:37.751Z"
   },
   {
    "duration": 18,
    "start_time": "2022-03-07T20:19:37.786Z"
   },
   {
    "duration": 61,
    "start_time": "2022-03-07T20:19:37.806Z"
   },
   {
    "duration": 19,
    "start_time": "2022-03-07T20:19:37.869Z"
   },
   {
    "duration": 49,
    "start_time": "2022-03-07T20:19:37.890Z"
   },
   {
    "duration": 14,
    "start_time": "2022-03-07T20:19:37.941Z"
   },
   {
    "duration": 22,
    "start_time": "2022-03-07T20:19:37.957Z"
   },
   {
    "duration": 243,
    "start_time": "2022-03-07T20:19:37.981Z"
   },
   {
    "duration": 199,
    "start_time": "2022-03-07T20:19:38.027Z"
   },
   {
    "duration": 190,
    "start_time": "2022-03-07T20:19:38.037Z"
   },
   {
    "duration": 20,
    "start_time": "2022-03-07T20:20:12.685Z"
   },
   {
    "duration": 23,
    "start_time": "2022-03-07T20:22:32.939Z"
   },
   {
    "duration": 26,
    "start_time": "2022-03-07T20:24:41.412Z"
   },
   {
    "duration": 551,
    "start_time": "2022-03-07T20:25:21.869Z"
   },
   {
    "duration": 168,
    "start_time": "2022-03-07T20:25:22.422Z"
   },
   {
    "duration": 20,
    "start_time": "2022-03-07T20:25:22.592Z"
   },
   {
    "duration": 44,
    "start_time": "2022-03-07T20:25:22.614Z"
   },
   {
    "duration": 13,
    "start_time": "2022-03-07T20:25:22.660Z"
   },
   {
    "duration": 116,
    "start_time": "2022-03-07T20:25:22.675Z"
   },
   {
    "duration": 133,
    "start_time": "2022-03-07T20:25:22.792Z"
   },
   {
    "duration": 21,
    "start_time": "2022-03-07T20:25:22.927Z"
   },
   {
    "duration": 21,
    "start_time": "2022-03-07T20:25:22.951Z"
   },
   {
    "duration": 75,
    "start_time": "2022-03-07T20:25:22.974Z"
   },
   {
    "duration": 15,
    "start_time": "2022-03-07T20:25:23.051Z"
   },
   {
    "duration": 96,
    "start_time": "2022-03-07T20:25:23.067Z"
   },
   {
    "duration": 14,
    "start_time": "2022-03-07T20:25:23.165Z"
   },
   {
    "duration": 22,
    "start_time": "2022-03-07T20:25:23.181Z"
   },
   {
    "duration": 61,
    "start_time": "2022-03-07T20:25:23.205Z"
   },
   {
    "duration": 16,
    "start_time": "2022-03-07T20:25:23.268Z"
   },
   {
    "duration": 6,
    "start_time": "2022-03-07T20:25:23.286Z"
   },
   {
    "duration": 41,
    "start_time": "2022-03-07T20:25:23.294Z"
   },
   {
    "duration": 6,
    "start_time": "2022-03-07T20:25:23.337Z"
   },
   {
    "duration": 8,
    "start_time": "2022-03-07T20:25:23.344Z"
   },
   {
    "duration": 8,
    "start_time": "2022-03-07T20:25:23.354Z"
   },
   {
    "duration": 24,
    "start_time": "2022-03-07T20:25:23.363Z"
   },
   {
    "duration": 28,
    "start_time": "2022-03-07T20:25:23.388Z"
   },
   {
    "duration": 49,
    "start_time": "2022-03-07T20:25:23.418Z"
   },
   {
    "duration": 14,
    "start_time": "2022-03-07T20:25:23.468Z"
   },
   {
    "duration": 15,
    "start_time": "2022-03-07T20:25:23.483Z"
   },
   {
    "duration": 60,
    "start_time": "2022-03-07T20:25:23.502Z"
   },
   {
    "duration": 18,
    "start_time": "2022-03-07T20:25:23.564Z"
   },
   {
    "duration": 56,
    "start_time": "2022-03-07T20:25:23.583Z"
   },
   {
    "duration": 21,
    "start_time": "2022-03-07T20:25:23.641Z"
   },
   {
    "duration": 24,
    "start_time": "2022-03-07T20:25:23.663Z"
   },
   {
    "duration": 12,
    "start_time": "2022-03-07T20:25:23.689Z"
   },
   {
    "duration": 47,
    "start_time": "2022-03-07T20:25:23.703Z"
   },
   {
    "duration": 16,
    "start_time": "2022-03-07T20:25:23.752Z"
   },
   {
    "duration": 18,
    "start_time": "2022-03-07T20:25:23.770Z"
   },
   {
    "duration": 15,
    "start_time": "2022-03-07T20:25:23.790Z"
   },
   {
    "duration": 33,
    "start_time": "2022-03-07T20:27:51.315Z"
   },
   {
    "duration": 4314,
    "start_time": "2022-03-07T20:28:52.809Z"
   },
   {
    "duration": 590,
    "start_time": "2022-03-07T20:29:55.638Z"
   },
   {
    "duration": 178,
    "start_time": "2022-03-07T20:29:56.230Z"
   },
   {
    "duration": 31,
    "start_time": "2022-03-07T20:29:56.411Z"
   },
   {
    "duration": 42,
    "start_time": "2022-03-07T20:29:56.444Z"
   },
   {
    "duration": 17,
    "start_time": "2022-03-07T20:29:56.487Z"
   },
   {
    "duration": 136,
    "start_time": "2022-03-07T20:29:56.507Z"
   },
   {
    "duration": 160,
    "start_time": "2022-03-07T20:29:56.645Z"
   },
   {
    "duration": 17,
    "start_time": "2022-03-07T20:29:56.807Z"
   },
   {
    "duration": 24,
    "start_time": "2022-03-07T20:29:56.838Z"
   },
   {
    "duration": 83,
    "start_time": "2022-03-07T20:29:56.864Z"
   },
   {
    "duration": 22,
    "start_time": "2022-03-07T20:29:56.949Z"
   },
   {
    "duration": 130,
    "start_time": "2022-03-07T20:29:56.974Z"
   },
   {
    "duration": 17,
    "start_time": "2022-03-07T20:29:57.106Z"
   },
   {
    "duration": 27,
    "start_time": "2022-03-07T20:29:57.142Z"
   },
   {
    "duration": 52,
    "start_time": "2022-03-07T20:29:57.171Z"
   },
   {
    "duration": 24,
    "start_time": "2022-03-07T20:29:57.225Z"
   },
   {
    "duration": 33,
    "start_time": "2022-03-07T20:29:57.252Z"
   },
   {
    "duration": 43,
    "start_time": "2022-03-07T20:29:57.288Z"
   },
   {
    "duration": 17,
    "start_time": "2022-03-07T20:29:57.334Z"
   },
   {
    "duration": 30,
    "start_time": "2022-03-07T20:29:57.355Z"
   },
   {
    "duration": 12,
    "start_time": "2022-03-07T20:29:57.387Z"
   },
   {
    "duration": 30,
    "start_time": "2022-03-07T20:29:57.401Z"
   },
   {
    "duration": 45,
    "start_time": "2022-03-07T20:29:57.435Z"
   },
   {
    "duration": 40,
    "start_time": "2022-03-07T20:29:57.483Z"
   },
   {
    "duration": 30,
    "start_time": "2022-03-07T20:29:57.525Z"
   },
   {
    "duration": 66,
    "start_time": "2022-03-07T20:29:57.557Z"
   },
   {
    "duration": 66,
    "start_time": "2022-03-07T20:29:57.625Z"
   },
   {
    "duration": 20,
    "start_time": "2022-03-07T20:29:57.693Z"
   },
   {
    "duration": 53,
    "start_time": "2022-03-07T20:29:57.715Z"
   },
   {
    "duration": 30,
    "start_time": "2022-03-07T20:29:57.770Z"
   },
   {
    "duration": 50,
    "start_time": "2022-03-07T20:29:57.802Z"
   },
   {
    "duration": 13,
    "start_time": "2022-03-07T20:29:57.855Z"
   },
   {
    "duration": 32,
    "start_time": "2022-03-07T20:29:57.870Z"
   },
   {
    "duration": 37,
    "start_time": "2022-03-07T20:29:57.904Z"
   },
   {
    "duration": 24,
    "start_time": "2022-03-07T20:29:57.943Z"
   },
   {
    "duration": 4877,
    "start_time": "2022-03-07T20:29:57.969Z"
   },
   {
    "duration": 21,
    "start_time": "2022-03-07T20:30:02.827Z"
   },
   {
    "duration": 4381,
    "start_time": "2022-03-07T20:30:29.684Z"
   },
   {
    "duration": 11,
    "start_time": "2022-03-07T20:34:29.144Z"
   },
   {
    "duration": 22,
    "start_time": "2022-03-07T20:34:31.644Z"
   },
   {
    "duration": 573,
    "start_time": "2022-03-07T20:34:37.941Z"
   },
   {
    "duration": 169,
    "start_time": "2022-03-07T20:34:38.515Z"
   },
   {
    "duration": 23,
    "start_time": "2022-03-07T20:34:38.686Z"
   },
   {
    "duration": 40,
    "start_time": "2022-03-07T20:34:38.711Z"
   },
   {
    "duration": 14,
    "start_time": "2022-03-07T20:34:38.754Z"
   },
   {
    "duration": 127,
    "start_time": "2022-03-07T20:34:38.770Z"
   },
   {
    "duration": 128,
    "start_time": "2022-03-07T20:34:38.899Z"
   },
   {
    "duration": 24,
    "start_time": "2022-03-07T20:34:39.029Z"
   },
   {
    "duration": 22,
    "start_time": "2022-03-07T20:34:39.055Z"
   },
   {
    "duration": 73,
    "start_time": "2022-03-07T20:34:39.078Z"
   },
   {
    "duration": 15,
    "start_time": "2022-03-07T20:34:39.153Z"
   },
   {
    "duration": 104,
    "start_time": "2022-03-07T20:34:39.169Z"
   },
   {
    "duration": 13,
    "start_time": "2022-03-07T20:34:39.275Z"
   },
   {
    "duration": 25,
    "start_time": "2022-03-07T20:34:39.290Z"
   },
   {
    "duration": 55,
    "start_time": "2022-03-07T20:34:39.317Z"
   },
   {
    "duration": 16,
    "start_time": "2022-03-07T20:34:39.373Z"
   },
   {
    "duration": 5,
    "start_time": "2022-03-07T20:34:39.391Z"
   },
   {
    "duration": 26,
    "start_time": "2022-03-07T20:34:39.398Z"
   },
   {
    "duration": 13,
    "start_time": "2022-03-07T20:34:39.426Z"
   },
   {
    "duration": 9,
    "start_time": "2022-03-07T20:34:39.440Z"
   },
   {
    "duration": 8,
    "start_time": "2022-03-07T20:34:39.450Z"
   },
   {
    "duration": 24,
    "start_time": "2022-03-07T20:34:39.459Z"
   },
   {
    "duration": 55,
    "start_time": "2022-03-07T20:34:39.486Z"
   },
   {
    "duration": 35,
    "start_time": "2022-03-07T20:34:39.544Z"
   },
   {
    "duration": 16,
    "start_time": "2022-03-07T20:34:39.581Z"
   },
   {
    "duration": 38,
    "start_time": "2022-03-07T20:34:39.599Z"
   },
   {
    "duration": 36,
    "start_time": "2022-03-07T20:34:39.639Z"
   },
   {
    "duration": 17,
    "start_time": "2022-03-07T20:34:39.677Z"
   },
   {
    "duration": 66,
    "start_time": "2022-03-07T20:34:39.696Z"
   },
   {
    "duration": 20,
    "start_time": "2022-03-07T20:34:39.764Z"
   },
   {
    "duration": 22,
    "start_time": "2022-03-07T20:34:39.785Z"
   },
   {
    "duration": 32,
    "start_time": "2022-03-07T20:34:39.808Z"
   },
   {
    "duration": 19,
    "start_time": "2022-03-07T20:34:39.842Z"
   },
   {
    "duration": 15,
    "start_time": "2022-03-07T20:34:39.862Z"
   },
   {
    "duration": 18,
    "start_time": "2022-03-07T20:34:39.878Z"
   },
   {
    "duration": 240,
    "start_time": "2022-03-07T20:34:39.898Z"
   },
   {
    "duration": 276,
    "start_time": "2022-03-07T20:34:39.864Z"
   },
   {
    "duration": 24,
    "start_time": "2022-03-07T20:35:54.206Z"
   },
   {
    "duration": 12,
    "start_time": "2022-03-07T20:35:55.035Z"
   },
   {
    "duration": 21,
    "start_time": "2022-03-07T20:36:02.925Z"
   },
   {
    "duration": 595,
    "start_time": "2022-03-07T20:37:00.536Z"
   },
   {
    "duration": 170,
    "start_time": "2022-03-07T20:37:01.133Z"
   },
   {
    "duration": 20,
    "start_time": "2022-03-07T20:37:01.305Z"
   },
   {
    "duration": 36,
    "start_time": "2022-03-07T20:37:01.327Z"
   },
   {
    "duration": 12,
    "start_time": "2022-03-07T20:37:01.365Z"
   },
   {
    "duration": 129,
    "start_time": "2022-03-07T20:37:01.379Z"
   },
   {
    "duration": 151,
    "start_time": "2022-03-07T20:37:01.510Z"
   },
   {
    "duration": 18,
    "start_time": "2022-03-07T20:37:01.664Z"
   },
   {
    "duration": 23,
    "start_time": "2022-03-07T20:37:01.684Z"
   },
   {
    "duration": 83,
    "start_time": "2022-03-07T20:37:01.709Z"
   },
   {
    "duration": 19,
    "start_time": "2022-03-07T20:37:01.794Z"
   },
   {
    "duration": 125,
    "start_time": "2022-03-07T20:37:01.815Z"
   },
   {
    "duration": 17,
    "start_time": "2022-03-07T20:37:01.943Z"
   },
   {
    "duration": 29,
    "start_time": "2022-03-07T20:37:01.962Z"
   },
   {
    "duration": 74,
    "start_time": "2022-03-07T20:37:01.993Z"
   },
   {
    "duration": 18,
    "start_time": "2022-03-07T20:37:02.069Z"
   },
   {
    "duration": 8,
    "start_time": "2022-03-07T20:37:02.089Z"
   },
   {
    "duration": 37,
    "start_time": "2022-03-07T20:37:02.099Z"
   },
   {
    "duration": 6,
    "start_time": "2022-03-07T20:37:02.139Z"
   },
   {
    "duration": 9,
    "start_time": "2022-03-07T20:37:02.147Z"
   },
   {
    "duration": 8,
    "start_time": "2022-03-07T20:37:02.157Z"
   },
   {
    "duration": 25,
    "start_time": "2022-03-07T20:37:02.167Z"
   },
   {
    "duration": 58,
    "start_time": "2022-03-07T20:37:02.196Z"
   },
   {
    "duration": 33,
    "start_time": "2022-03-07T20:37:02.257Z"
   },
   {
    "duration": 16,
    "start_time": "2022-03-07T20:37:02.292Z"
   },
   {
    "duration": 40,
    "start_time": "2022-03-07T20:37:02.310Z"
   },
   {
    "duration": 35,
    "start_time": "2022-03-07T20:37:02.352Z"
   },
   {
    "duration": 17,
    "start_time": "2022-03-07T20:37:02.389Z"
   },
   {
    "duration": 68,
    "start_time": "2022-03-07T20:37:02.408Z"
   },
   {
    "duration": 20,
    "start_time": "2022-03-07T20:37:02.478Z"
   },
   {
    "duration": 50,
    "start_time": "2022-03-07T20:37:02.500Z"
   },
   {
    "duration": 12,
    "start_time": "2022-03-07T20:37:02.552Z"
   },
   {
    "duration": 20,
    "start_time": "2022-03-07T20:37:02.566Z"
   },
   {
    "duration": 17,
    "start_time": "2022-03-07T20:37:02.588Z"
   },
   {
    "duration": 49,
    "start_time": "2022-03-07T20:37:02.607Z"
   },
   {
    "duration": 231,
    "start_time": "2022-03-07T20:37:02.658Z"
   },
   {
    "duration": 295,
    "start_time": "2022-03-07T20:37:02.597Z"
   },
   {
    "duration": 20,
    "start_time": "2022-03-07T20:38:58.262Z"
   },
   {
    "duration": 23,
    "start_time": "2022-03-07T20:39:11.479Z"
   },
   {
    "duration": 11,
    "start_time": "2022-03-07T20:39:14.906Z"
   },
   {
    "duration": 21,
    "start_time": "2022-03-07T20:39:17.637Z"
   },
   {
    "duration": 21,
    "start_time": "2022-03-07T20:40:09.278Z"
   },
   {
    "duration": 553,
    "start_time": "2022-03-07T20:40:21.975Z"
   },
   {
    "duration": 172,
    "start_time": "2022-03-07T20:40:22.530Z"
   },
   {
    "duration": 21,
    "start_time": "2022-03-07T20:40:22.704Z"
   },
   {
    "duration": 40,
    "start_time": "2022-03-07T20:40:22.726Z"
   },
   {
    "duration": 12,
    "start_time": "2022-03-07T20:40:22.768Z"
   },
   {
    "duration": 139,
    "start_time": "2022-03-07T20:40:22.782Z"
   },
   {
    "duration": 151,
    "start_time": "2022-03-07T20:40:22.922Z"
   },
   {
    "duration": 18,
    "start_time": "2022-03-07T20:40:23.075Z"
   },
   {
    "duration": 26,
    "start_time": "2022-03-07T20:40:23.095Z"
   },
   {
    "duration": 75,
    "start_time": "2022-03-07T20:40:23.122Z"
   },
   {
    "duration": 15,
    "start_time": "2022-03-07T20:40:23.199Z"
   },
   {
    "duration": 105,
    "start_time": "2022-03-07T20:40:23.216Z"
   },
   {
    "duration": 22,
    "start_time": "2022-03-07T20:40:23.323Z"
   },
   {
    "duration": 20,
    "start_time": "2022-03-07T20:40:23.347Z"
   },
   {
    "duration": 36,
    "start_time": "2022-03-07T20:40:23.369Z"
   },
   {
    "duration": 34,
    "start_time": "2022-03-07T20:40:23.406Z"
   },
   {
    "duration": 8,
    "start_time": "2022-03-07T20:40:23.442Z"
   },
   {
    "duration": 27,
    "start_time": "2022-03-07T20:40:23.451Z"
   },
   {
    "duration": 6,
    "start_time": "2022-03-07T20:40:23.479Z"
   },
   {
    "duration": 7,
    "start_time": "2022-03-07T20:40:23.487Z"
   },
   {
    "duration": 8,
    "start_time": "2022-03-07T20:40:23.495Z"
   },
   {
    "duration": 45,
    "start_time": "2022-03-07T20:40:23.504Z"
   },
   {
    "duration": 29,
    "start_time": "2022-03-07T20:40:23.552Z"
   },
   {
    "duration": 31,
    "start_time": "2022-03-07T20:40:23.582Z"
   },
   {
    "duration": 36,
    "start_time": "2022-03-07T20:40:23.615Z"
   },
   {
    "duration": 15,
    "start_time": "2022-03-07T20:40:23.652Z"
   },
   {
    "duration": 34,
    "start_time": "2022-03-07T20:40:23.669Z"
   },
   {
    "duration": 42,
    "start_time": "2022-03-07T20:40:23.705Z"
   },
   {
    "duration": 41,
    "start_time": "2022-03-07T20:40:23.749Z"
   },
   {
    "duration": 20,
    "start_time": "2022-03-07T20:40:23.792Z"
   },
   {
    "duration": 41,
    "start_time": "2022-03-07T20:40:23.814Z"
   },
   {
    "duration": 13,
    "start_time": "2022-03-07T20:40:23.857Z"
   },
   {
    "duration": 20,
    "start_time": "2022-03-07T20:40:23.871Z"
   },
   {
    "duration": 239,
    "start_time": "2022-03-07T20:40:23.893Z"
   },
   {
    "duration": 310,
    "start_time": "2022-03-07T20:40:23.824Z"
   },
   {
    "duration": 304,
    "start_time": "2022-03-07T20:40:23.832Z"
   },
   {
    "duration": 298,
    "start_time": "2022-03-07T20:40:23.839Z"
   },
   {
    "duration": 4206,
    "start_time": "2022-03-07T20:44:07.854Z"
   },
   {
    "duration": 189,
    "start_time": "2022-03-07T20:44:24.528Z"
   },
   {
    "duration": 183,
    "start_time": "2022-03-07T20:47:53.926Z"
   },
   {
    "duration": 171,
    "start_time": "2022-03-07T20:48:18.315Z"
   },
   {
    "duration": 17,
    "start_time": "2022-03-07T20:49:35.724Z"
   },
   {
    "duration": 20,
    "start_time": "2022-03-07T20:49:49.871Z"
   },
   {
    "duration": 544,
    "start_time": "2022-03-07T20:56:36.501Z"
   },
   {
    "duration": 165,
    "start_time": "2022-03-07T20:56:37.047Z"
   },
   {
    "duration": 26,
    "start_time": "2022-03-07T20:56:37.217Z"
   },
   {
    "duration": 29,
    "start_time": "2022-03-07T20:56:37.245Z"
   },
   {
    "duration": 12,
    "start_time": "2022-03-07T20:56:37.275Z"
   },
   {
    "duration": 128,
    "start_time": "2022-03-07T20:56:37.289Z"
   },
   {
    "duration": 139,
    "start_time": "2022-03-07T20:56:37.420Z"
   },
   {
    "duration": 16,
    "start_time": "2022-03-07T20:56:37.561Z"
   },
   {
    "duration": 23,
    "start_time": "2022-03-07T20:56:37.579Z"
   },
   {
    "duration": 80,
    "start_time": "2022-03-07T20:56:37.604Z"
   },
   {
    "duration": 16,
    "start_time": "2022-03-07T20:56:37.686Z"
   },
   {
    "duration": 108,
    "start_time": "2022-03-07T20:56:37.704Z"
   },
   {
    "duration": 24,
    "start_time": "2022-03-07T20:56:37.814Z"
   },
   {
    "duration": 22,
    "start_time": "2022-03-07T20:56:37.839Z"
   },
   {
    "duration": 41,
    "start_time": "2022-03-07T20:56:37.863Z"
   },
   {
    "duration": 33,
    "start_time": "2022-03-07T20:56:37.906Z"
   },
   {
    "duration": 10,
    "start_time": "2022-03-07T20:56:37.941Z"
   },
   {
    "duration": 26,
    "start_time": "2022-03-07T20:56:37.953Z"
   },
   {
    "duration": 6,
    "start_time": "2022-03-07T20:56:37.981Z"
   },
   {
    "duration": 8,
    "start_time": "2022-03-07T20:56:37.989Z"
   },
   {
    "duration": 7,
    "start_time": "2022-03-07T20:56:37.998Z"
   },
   {
    "duration": 42,
    "start_time": "2022-03-07T20:56:38.008Z"
   },
   {
    "duration": 30,
    "start_time": "2022-03-07T20:56:38.052Z"
   },
   {
    "duration": 30,
    "start_time": "2022-03-07T20:56:38.084Z"
   },
   {
    "duration": 34,
    "start_time": "2022-03-07T20:56:38.116Z"
   },
   {
    "duration": 15,
    "start_time": "2022-03-07T20:56:38.151Z"
   },
   {
    "duration": 33,
    "start_time": "2022-03-07T20:56:38.167Z"
   },
   {
    "duration": 38,
    "start_time": "2022-03-07T20:56:38.202Z"
   },
   {
    "duration": 42,
    "start_time": "2022-03-07T20:56:38.241Z"
   },
   {
    "duration": 20,
    "start_time": "2022-03-07T20:56:38.285Z"
   },
   {
    "duration": 49,
    "start_time": "2022-03-07T20:56:38.306Z"
   },
   {
    "duration": 11,
    "start_time": "2022-03-07T20:56:38.357Z"
   },
   {
    "duration": 19,
    "start_time": "2022-03-07T20:56:38.370Z"
   },
   {
    "duration": 266,
    "start_time": "2022-03-07T20:56:38.390Z"
   },
   {
    "duration": 51,
    "start_time": "2022-03-07T20:56:38.607Z"
   },
   {
    "duration": 42,
    "start_time": "2022-03-07T20:56:38.616Z"
   },
   {
    "duration": 36,
    "start_time": "2022-03-07T20:56:38.623Z"
   },
   {
    "duration": 26,
    "start_time": "2022-03-07T20:57:06.494Z"
   },
   {
    "duration": 19,
    "start_time": "2022-03-07T20:57:45.239Z"
   },
   {
    "duration": 576,
    "start_time": "2022-03-07T20:57:54.706Z"
   },
   {
    "duration": 170,
    "start_time": "2022-03-07T20:57:55.284Z"
   },
   {
    "duration": 21,
    "start_time": "2022-03-07T20:57:55.456Z"
   },
   {
    "duration": 33,
    "start_time": "2022-03-07T20:57:55.479Z"
   },
   {
    "duration": 33,
    "start_time": "2022-03-07T20:57:55.514Z"
   },
   {
    "duration": 116,
    "start_time": "2022-03-07T20:57:55.549Z"
   },
   {
    "duration": 142,
    "start_time": "2022-03-07T20:57:55.667Z"
   },
   {
    "duration": 16,
    "start_time": "2022-03-07T20:57:55.811Z"
   },
   {
    "duration": 24,
    "start_time": "2022-03-07T20:57:55.838Z"
   },
   {
    "duration": 79,
    "start_time": "2022-03-07T20:57:55.863Z"
   },
   {
    "duration": 17,
    "start_time": "2022-03-07T20:57:55.944Z"
   },
   {
    "duration": 114,
    "start_time": "2022-03-07T20:57:55.963Z"
   },
   {
    "duration": 16,
    "start_time": "2022-03-07T20:57:56.079Z"
   },
   {
    "duration": 21,
    "start_time": "2022-03-07T20:57:56.097Z"
   },
   {
    "duration": 43,
    "start_time": "2022-03-07T20:57:56.138Z"
   },
   {
    "duration": 18,
    "start_time": "2022-03-07T20:57:56.183Z"
   },
   {
    "duration": 8,
    "start_time": "2022-03-07T20:57:56.203Z"
   },
   {
    "duration": 50,
    "start_time": "2022-03-07T20:57:56.212Z"
   },
   {
    "duration": 7,
    "start_time": "2022-03-07T20:57:56.264Z"
   },
   {
    "duration": 11,
    "start_time": "2022-03-07T20:57:56.273Z"
   },
   {
    "duration": 8,
    "start_time": "2022-03-07T20:57:56.286Z"
   },
   {
    "duration": 44,
    "start_time": "2022-03-07T20:57:56.296Z"
   },
   {
    "duration": 33,
    "start_time": "2022-03-07T20:57:56.343Z"
   },
   {
    "duration": 32,
    "start_time": "2022-03-07T20:57:56.379Z"
   },
   {
    "duration": 36,
    "start_time": "2022-03-07T20:57:56.413Z"
   },
   {
    "duration": 15,
    "start_time": "2022-03-07T20:57:56.451Z"
   },
   {
    "duration": 34,
    "start_time": "2022-03-07T20:57:56.467Z"
   },
   {
    "duration": 42,
    "start_time": "2022-03-07T20:57:56.503Z"
   },
   {
    "duration": 44,
    "start_time": "2022-03-07T20:57:56.547Z"
   },
   {
    "duration": 20,
    "start_time": "2022-03-07T20:57:56.593Z"
   },
   {
    "duration": 44,
    "start_time": "2022-03-07T20:57:56.615Z"
   },
   {
    "duration": 11,
    "start_time": "2022-03-07T20:57:56.660Z"
   },
   {
    "duration": 19,
    "start_time": "2022-03-07T20:57:56.673Z"
   },
   {
    "duration": 249,
    "start_time": "2022-03-07T20:57:56.694Z"
   },
   {
    "duration": 285,
    "start_time": "2022-03-07T20:57:56.661Z"
   },
   {
    "duration": 277,
    "start_time": "2022-03-07T20:57:56.671Z"
   },
   {
    "duration": 270,
    "start_time": "2022-03-07T20:57:56.679Z"
   },
   {
    "duration": 644,
    "start_time": "2022-03-07T20:59:11.739Z"
   },
   {
    "duration": 170,
    "start_time": "2022-03-07T20:59:12.386Z"
   },
   {
    "duration": 23,
    "start_time": "2022-03-07T20:59:12.559Z"
   },
   {
    "duration": 59,
    "start_time": "2022-03-07T20:59:12.585Z"
   },
   {
    "duration": 16,
    "start_time": "2022-03-07T20:59:12.646Z"
   },
   {
    "duration": 118,
    "start_time": "2022-03-07T20:59:12.664Z"
   },
   {
    "duration": 141,
    "start_time": "2022-03-07T20:59:12.784Z"
   },
   {
    "duration": 22,
    "start_time": "2022-03-07T20:59:12.927Z"
   },
   {
    "duration": 23,
    "start_time": "2022-03-07T20:59:12.951Z"
   },
   {
    "duration": 81,
    "start_time": "2022-03-07T20:59:12.976Z"
   },
   {
    "duration": 18,
    "start_time": "2022-03-07T20:59:13.059Z"
   },
   {
    "duration": 109,
    "start_time": "2022-03-07T20:59:13.079Z"
   },
   {
    "duration": 14,
    "start_time": "2022-03-07T20:59:13.190Z"
   },
   {
    "duration": 36,
    "start_time": "2022-03-07T20:59:13.206Z"
   },
   {
    "duration": 43,
    "start_time": "2022-03-07T20:59:13.244Z"
   },
   {
    "duration": 16,
    "start_time": "2022-03-07T20:59:13.289Z"
   },
   {
    "duration": 13,
    "start_time": "2022-03-07T20:59:13.307Z"
   },
   {
    "duration": 39,
    "start_time": "2022-03-07T20:59:13.322Z"
   },
   {
    "duration": 7,
    "start_time": "2022-03-07T20:59:13.363Z"
   },
   {
    "duration": 8,
    "start_time": "2022-03-07T20:59:13.372Z"
   },
   {
    "duration": 10,
    "start_time": "2022-03-07T20:59:13.382Z"
   },
   {
    "duration": 26,
    "start_time": "2022-03-07T20:59:13.393Z"
   },
   {
    "duration": 43,
    "start_time": "2022-03-07T20:59:13.423Z"
   },
   {
    "duration": 33,
    "start_time": "2022-03-07T20:59:13.468Z"
   },
   {
    "duration": 36,
    "start_time": "2022-03-07T20:59:13.503Z"
   },
   {
    "duration": 16,
    "start_time": "2022-03-07T20:59:13.542Z"
   },
   {
    "duration": 37,
    "start_time": "2022-03-07T20:59:13.560Z"
   },
   {
    "duration": 46,
    "start_time": "2022-03-07T20:59:13.600Z"
   },
   {
    "duration": 41,
    "start_time": "2022-03-07T20:59:13.648Z"
   },
   {
    "duration": 20,
    "start_time": "2022-03-07T20:59:13.691Z"
   },
   {
    "duration": 46,
    "start_time": "2022-03-07T20:59:13.714Z"
   },
   {
    "duration": 13,
    "start_time": "2022-03-07T20:59:13.763Z"
   },
   {
    "duration": 20,
    "start_time": "2022-03-07T20:59:13.778Z"
   },
   {
    "duration": 275,
    "start_time": "2022-03-07T20:59:13.799Z"
   },
   {
    "duration": 304,
    "start_time": "2022-03-07T20:59:13.773Z"
   },
   {
    "duration": 297,
    "start_time": "2022-03-07T20:59:13.781Z"
   },
   {
    "duration": 290,
    "start_time": "2022-03-07T20:59:13.789Z"
   },
   {
    "duration": 21,
    "start_time": "2022-03-07T21:00:21.396Z"
   },
   {
    "duration": 23,
    "start_time": "2022-03-07T21:00:41.079Z"
   },
   {
    "duration": 12,
    "start_time": "2022-03-07T21:00:46.287Z"
   },
   {
    "duration": 18,
    "start_time": "2022-03-07T21:00:59.070Z"
   },
   {
    "duration": 19,
    "start_time": "2022-03-07T21:01:49.505Z"
   },
   {
    "duration": 192,
    "start_time": "2022-03-07T21:02:09.172Z"
   },
   {
    "duration": 16,
    "start_time": "2022-03-07T21:02:36.594Z"
   },
   {
    "duration": 20,
    "start_time": "2022-03-07T21:02:40.350Z"
   },
   {
    "duration": 17,
    "start_time": "2022-03-07T21:03:13.976Z"
   },
   {
    "duration": 24,
    "start_time": "2022-03-07T21:03:26.742Z"
   },
   {
    "duration": 4627,
    "start_time": "2022-03-07T21:04:02.427Z"
   },
   {
    "duration": 179,
    "start_time": "2022-03-07T21:04:07.056Z"
   },
   {
    "duration": 23,
    "start_time": "2022-03-07T21:04:07.238Z"
   },
   {
    "duration": 31,
    "start_time": "2022-03-07T21:04:07.264Z"
   },
   {
    "duration": 13,
    "start_time": "2022-03-07T21:04:07.297Z"
   },
   {
    "duration": 140,
    "start_time": "2022-03-07T21:04:07.312Z"
   },
   {
    "duration": 147,
    "start_time": "2022-03-07T21:04:07.455Z"
   },
   {
    "duration": 19,
    "start_time": "2022-03-07T21:04:07.604Z"
   },
   {
    "duration": 25,
    "start_time": "2022-03-07T21:04:07.638Z"
   },
   {
    "duration": 82,
    "start_time": "2022-03-07T21:04:07.665Z"
   },
   {
    "duration": 17,
    "start_time": "2022-03-07T21:04:07.749Z"
   },
   {
    "duration": 106,
    "start_time": "2022-03-07T21:04:07.768Z"
   },
   {
    "duration": 14,
    "start_time": "2022-03-07T21:04:07.876Z"
   },
   {
    "duration": 21,
    "start_time": "2022-03-07T21:04:07.892Z"
   },
   {
    "duration": 65,
    "start_time": "2022-03-07T21:04:07.915Z"
   },
   {
    "duration": 17,
    "start_time": "2022-03-07T21:04:07.982Z"
   },
   {
    "duration": 8,
    "start_time": "2022-03-07T21:04:08.001Z"
   },
   {
    "duration": 34,
    "start_time": "2022-03-07T21:04:08.013Z"
   },
   {
    "duration": 6,
    "start_time": "2022-03-07T21:04:08.049Z"
   },
   {
    "duration": 9,
    "start_time": "2022-03-07T21:04:08.057Z"
   },
   {
    "duration": 6,
    "start_time": "2022-03-07T21:04:08.068Z"
   },
   {
    "duration": 23,
    "start_time": "2022-03-07T21:04:08.076Z"
   },
   {
    "duration": 63,
    "start_time": "2022-03-07T21:04:08.101Z"
   },
   {
    "duration": 32,
    "start_time": "2022-03-07T21:04:08.166Z"
   },
   {
    "duration": 15,
    "start_time": "2022-03-07T21:04:08.200Z"
   },
   {
    "duration": 32,
    "start_time": "2022-03-07T21:04:08.216Z"
   },
   {
    "duration": 35,
    "start_time": "2022-03-07T21:04:08.251Z"
   },
   {
    "duration": 18,
    "start_time": "2022-03-07T21:04:08.288Z"
   },
   {
    "duration": 68,
    "start_time": "2022-03-07T21:04:08.308Z"
   },
   {
    "duration": 20,
    "start_time": "2022-03-07T21:04:08.378Z"
   },
   {
    "duration": 43,
    "start_time": "2022-03-07T21:04:08.400Z"
   },
   {
    "duration": 14,
    "start_time": "2022-03-07T21:04:08.445Z"
   },
   {
    "duration": 18,
    "start_time": "2022-03-07T21:04:08.461Z"
   },
   {
    "duration": 17,
    "start_time": "2022-03-07T21:04:08.481Z"
   },
   {
    "duration": 48,
    "start_time": "2022-03-07T21:04:08.499Z"
   },
   {
    "duration": 265,
    "start_time": "2022-03-07T21:04:08.548Z"
   },
   {
    "duration": 384,
    "start_time": "2022-03-07T21:04:08.431Z"
   },
   {
    "duration": 659,
    "start_time": "2022-03-07T21:16:00.927Z"
   },
   {
    "duration": 185,
    "start_time": "2022-03-07T21:16:01.587Z"
   },
   {
    "duration": 23,
    "start_time": "2022-03-07T21:16:01.774Z"
   },
   {
    "duration": 55,
    "start_time": "2022-03-07T21:16:01.799Z"
   },
   {
    "duration": 14,
    "start_time": "2022-03-07T21:16:01.856Z"
   },
   {
    "duration": 131,
    "start_time": "2022-03-07T21:16:01.872Z"
   },
   {
    "duration": 151,
    "start_time": "2022-03-07T21:16:02.005Z"
   },
   {
    "duration": 18,
    "start_time": "2022-03-07T21:16:02.158Z"
   },
   {
    "duration": 23,
    "start_time": "2022-03-07T21:16:02.179Z"
   },
   {
    "duration": 82,
    "start_time": "2022-03-07T21:16:02.204Z"
   },
   {
    "duration": 15,
    "start_time": "2022-03-07T21:16:02.288Z"
   },
   {
    "duration": 104,
    "start_time": "2022-03-07T21:16:02.305Z"
   },
   {
    "duration": 15,
    "start_time": "2022-03-07T21:16:02.410Z"
   },
   {
    "duration": 21,
    "start_time": "2022-03-07T21:16:02.438Z"
   },
   {
    "duration": 49,
    "start_time": "2022-03-07T21:16:02.461Z"
   },
   {
    "duration": 28,
    "start_time": "2022-03-07T21:16:02.511Z"
   },
   {
    "duration": 18,
    "start_time": "2022-03-07T21:16:02.540Z"
   },
   {
    "duration": 33,
    "start_time": "2022-03-07T21:16:02.560Z"
   },
   {
    "duration": 18,
    "start_time": "2022-03-07T21:16:02.595Z"
   },
   {
    "duration": 18,
    "start_time": "2022-03-07T21:16:02.615Z"
   },
   {
    "duration": 12,
    "start_time": "2022-03-07T21:16:02.635Z"
   },
   {
    "duration": 28,
    "start_time": "2022-03-07T21:16:02.649Z"
   },
   {
    "duration": 361,
    "start_time": "2022-03-07T21:16:02.681Z"
   },
   {
    "duration": 405,
    "start_time": "2022-03-07T21:16:02.639Z"
   },
   {
    "duration": 399,
    "start_time": "2022-03-07T21:16:02.646Z"
   },
   {
    "duration": 393,
    "start_time": "2022-03-07T21:16:02.653Z"
   },
   {
    "duration": 386,
    "start_time": "2022-03-07T21:16:02.661Z"
   },
   {
    "duration": 377,
    "start_time": "2022-03-07T21:16:02.671Z"
   },
   {
    "duration": 371,
    "start_time": "2022-03-07T21:16:02.678Z"
   },
   {
    "duration": 364,
    "start_time": "2022-03-07T21:16:02.686Z"
   },
   {
    "duration": 334,
    "start_time": "2022-03-07T21:16:02.717Z"
   },
   {
    "duration": 327,
    "start_time": "2022-03-07T21:16:02.725Z"
   },
   {
    "duration": 322,
    "start_time": "2022-03-07T21:16:02.731Z"
   },
   {
    "duration": 315,
    "start_time": "2022-03-07T21:16:02.739Z"
   },
   {
    "duration": 311,
    "start_time": "2022-03-07T21:16:02.744Z"
   },
   {
    "duration": 305,
    "start_time": "2022-03-07T21:16:02.751Z"
   },
   {
    "duration": 300,
    "start_time": "2022-03-07T21:16:02.757Z"
   },
   {
    "duration": 633,
    "start_time": "2022-03-07T21:17:12.416Z"
   },
   {
    "duration": 165,
    "start_time": "2022-03-07T21:17:13.050Z"
   },
   {
    "duration": 29,
    "start_time": "2022-03-07T21:17:13.217Z"
   },
   {
    "duration": 32,
    "start_time": "2022-03-07T21:17:13.248Z"
   },
   {
    "duration": 14,
    "start_time": "2022-03-07T21:17:13.282Z"
   },
   {
    "duration": 141,
    "start_time": "2022-03-07T21:17:13.298Z"
   },
   {
    "duration": 151,
    "start_time": "2022-03-07T21:17:13.441Z"
   },
   {
    "duration": 19,
    "start_time": "2022-03-07T21:17:13.596Z"
   },
   {
    "duration": 36,
    "start_time": "2022-03-07T21:17:13.618Z"
   },
   {
    "duration": 65,
    "start_time": "2022-03-07T21:17:13.656Z"
   },
   {
    "duration": 17,
    "start_time": "2022-03-07T21:17:13.738Z"
   },
   {
    "duration": 114,
    "start_time": "2022-03-07T21:17:13.757Z"
   },
   {
    "duration": 15,
    "start_time": "2022-03-07T21:17:13.873Z"
   },
   {
    "duration": 22,
    "start_time": "2022-03-07T21:17:13.889Z"
   },
   {
    "duration": 61,
    "start_time": "2022-03-07T21:17:13.913Z"
   },
   {
    "duration": 16,
    "start_time": "2022-03-07T21:17:13.976Z"
   },
   {
    "duration": 10,
    "start_time": "2022-03-07T21:17:13.993Z"
   },
   {
    "duration": 28,
    "start_time": "2022-03-07T21:17:14.004Z"
   },
   {
    "duration": 6,
    "start_time": "2022-03-07T21:17:14.037Z"
   },
   {
    "duration": 10,
    "start_time": "2022-03-07T21:17:14.045Z"
   },
   {
    "duration": 6,
    "start_time": "2022-03-07T21:17:14.057Z"
   },
   {
    "duration": 28,
    "start_time": "2022-03-07T21:17:14.065Z"
   },
   {
    "duration": 51,
    "start_time": "2022-03-07T21:17:14.096Z"
   },
   {
    "duration": 25,
    "start_time": "2022-03-07T21:17:14.150Z"
   },
   {
    "duration": 773,
    "start_time": "2022-03-07T21:17:14.177Z"
   },
   {
    "duration": 274,
    "start_time": "2022-03-07T21:17:14.678Z"
   },
   {
    "duration": 267,
    "start_time": "2022-03-07T21:17:14.686Z"
   },
   {
    "duration": 262,
    "start_time": "2022-03-07T21:17:14.692Z"
   },
   {
    "duration": 258,
    "start_time": "2022-03-07T21:17:14.697Z"
   },
   {
    "duration": 251,
    "start_time": "2022-03-07T21:17:14.704Z"
   },
   {
    "duration": 248,
    "start_time": "2022-03-07T21:17:14.709Z"
   },
   {
    "duration": 243,
    "start_time": "2022-03-07T21:17:14.715Z"
   },
   {
    "duration": 240,
    "start_time": "2022-03-07T21:17:14.720Z"
   },
   {
    "duration": 235,
    "start_time": "2022-03-07T21:17:14.726Z"
   },
   {
    "duration": 231,
    "start_time": "2022-03-07T21:17:14.731Z"
   },
   {
    "duration": 226,
    "start_time": "2022-03-07T21:17:14.737Z"
   },
   {
    "duration": 222,
    "start_time": "2022-03-07T21:17:14.743Z"
   },
   {
    "duration": 583,
    "start_time": "2022-03-07T21:18:06.366Z"
   },
   {
    "duration": 171,
    "start_time": "2022-03-07T21:18:06.951Z"
   },
   {
    "duration": 25,
    "start_time": "2022-03-07T21:18:07.124Z"
   },
   {
    "duration": 29,
    "start_time": "2022-03-07T21:18:07.151Z"
   },
   {
    "duration": 11,
    "start_time": "2022-03-07T21:18:07.182Z"
   },
   {
    "duration": 133,
    "start_time": "2022-03-07T21:18:07.195Z"
   },
   {
    "duration": 139,
    "start_time": "2022-03-07T21:18:07.330Z"
   },
   {
    "duration": 18,
    "start_time": "2022-03-07T21:18:07.471Z"
   },
   {
    "duration": 23,
    "start_time": "2022-03-07T21:18:07.491Z"
   },
   {
    "duration": 78,
    "start_time": "2022-03-07T21:18:07.516Z"
   },
   {
    "duration": 15,
    "start_time": "2022-03-07T21:18:07.596Z"
   },
   {
    "duration": 102,
    "start_time": "2022-03-07T21:18:07.613Z"
   },
   {
    "duration": 24,
    "start_time": "2022-03-07T21:18:07.717Z"
   },
   {
    "duration": 18,
    "start_time": "2022-03-07T21:18:07.742Z"
   },
   {
    "duration": 41,
    "start_time": "2022-03-07T21:18:07.762Z"
   },
   {
    "duration": 35,
    "start_time": "2022-03-07T21:18:07.804Z"
   },
   {
    "duration": 7,
    "start_time": "2022-03-07T21:18:07.841Z"
   },
   {
    "duration": 27,
    "start_time": "2022-03-07T21:18:07.850Z"
   },
   {
    "duration": 6,
    "start_time": "2022-03-07T21:18:07.878Z"
   },
   {
    "duration": 9,
    "start_time": "2022-03-07T21:18:07.885Z"
   },
   {
    "duration": 7,
    "start_time": "2022-03-07T21:18:07.895Z"
   },
   {
    "duration": 39,
    "start_time": "2022-03-07T21:18:07.904Z"
   },
   {
    "duration": 26,
    "start_time": "2022-03-07T21:18:07.946Z"
   },
   {
    "duration": 32,
    "start_time": "2022-03-07T21:18:07.974Z"
   },
   {
    "duration": 5,
    "start_time": "2022-03-07T21:18:08.007Z"
   },
   {
    "duration": 35,
    "start_time": "2022-03-07T21:18:08.014Z"
   },
   {
    "duration": 27,
    "start_time": "2022-03-07T21:18:08.051Z"
   },
   {
    "duration": 16,
    "start_time": "2022-03-07T21:18:08.080Z"
   },
   {
    "duration": 52,
    "start_time": "2022-03-07T21:18:08.098Z"
   },
   {
    "duration": 6,
    "start_time": "2022-03-07T21:18:08.152Z"
   },
   {
    "duration": 10,
    "start_time": "2022-03-07T21:18:08.160Z"
   },
   {
    "duration": 8,
    "start_time": "2022-03-07T21:18:08.171Z"
   },
   {
    "duration": 23,
    "start_time": "2022-03-07T21:18:08.181Z"
   },
   {
    "duration": 36,
    "start_time": "2022-03-07T21:18:08.205Z"
   },
   {
    "duration": 21,
    "start_time": "2022-03-07T21:18:08.242Z"
   },
   {
    "duration": 310,
    "start_time": "2022-03-07T21:18:08.265Z"
   },
   {
    "duration": 392,
    "start_time": "2022-03-07T21:18:08.184Z"
   },
   {
    "duration": 20,
    "start_time": "2022-03-07T21:18:45.273Z"
   },
   {
    "duration": 262,
    "start_time": "2022-03-07T21:20:25.919Z"
   },
   {
    "duration": 20,
    "start_time": "2022-03-07T21:20:39.019Z"
   },
   {
    "duration": 585,
    "start_time": "2022-03-07T21:20:54.709Z"
   },
   {
    "duration": 160,
    "start_time": "2022-03-07T21:20:55.295Z"
   },
   {
    "duration": 20,
    "start_time": "2022-03-07T21:20:55.457Z"
   },
   {
    "duration": 29,
    "start_time": "2022-03-07T21:20:55.478Z"
   },
   {
    "duration": 29,
    "start_time": "2022-03-07T21:20:55.509Z"
   },
   {
    "duration": 103,
    "start_time": "2022-03-07T21:20:55.540Z"
   },
   {
    "duration": 134,
    "start_time": "2022-03-07T21:20:55.644Z"
   },
   {
    "duration": 17,
    "start_time": "2022-03-07T21:20:55.780Z"
   },
   {
    "duration": 21,
    "start_time": "2022-03-07T21:20:55.799Z"
   },
   {
    "duration": 70,
    "start_time": "2022-03-07T21:20:55.822Z"
   },
   {
    "duration": 16,
    "start_time": "2022-03-07T21:20:55.894Z"
   },
   {
    "duration": 106,
    "start_time": "2022-03-07T21:20:55.912Z"
   },
   {
    "duration": 19,
    "start_time": "2022-03-07T21:20:56.019Z"
   },
   {
    "duration": 20,
    "start_time": "2022-03-07T21:20:56.040Z"
   },
   {
    "duration": 43,
    "start_time": "2022-03-07T21:20:56.061Z"
   },
   {
    "duration": 34,
    "start_time": "2022-03-07T21:20:56.105Z"
   },
   {
    "duration": 11,
    "start_time": "2022-03-07T21:20:56.140Z"
   },
   {
    "duration": 27,
    "start_time": "2022-03-07T21:20:56.153Z"
   },
   {
    "duration": 5,
    "start_time": "2022-03-07T21:20:56.182Z"
   },
   {
    "duration": 10,
    "start_time": "2022-03-07T21:20:56.189Z"
   },
   {
    "duration": 9,
    "start_time": "2022-03-07T21:20:56.201Z"
   },
   {
    "duration": 39,
    "start_time": "2022-03-07T21:20:56.211Z"
   },
   {
    "duration": 30,
    "start_time": "2022-03-07T21:20:56.253Z"
   },
   {
    "duration": 54,
    "start_time": "2022-03-07T21:20:56.285Z"
   },
   {
    "duration": 7,
    "start_time": "2022-03-07T21:20:56.340Z"
   },
   {
    "duration": 17,
    "start_time": "2022-03-07T21:20:56.348Z"
   },
   {
    "duration": 30,
    "start_time": "2022-03-07T21:20:56.366Z"
   },
   {
    "duration": 18,
    "start_time": "2022-03-07T21:20:56.397Z"
   },
   {
    "duration": 34,
    "start_time": "2022-03-07T21:20:56.438Z"
   },
   {
    "duration": 8,
    "start_time": "2022-03-07T21:20:56.474Z"
   },
   {
    "duration": 16,
    "start_time": "2022-03-07T21:20:56.483Z"
   },
   {
    "duration": 6,
    "start_time": "2022-03-07T21:20:56.501Z"
   },
   {
    "duration": 45,
    "start_time": "2022-03-07T21:20:56.508Z"
   },
   {
    "duration": 18,
    "start_time": "2022-03-07T21:20:56.555Z"
   },
   {
    "duration": 20,
    "start_time": "2022-03-07T21:20:56.575Z"
   },
   {
    "duration": 42,
    "start_time": "2022-03-07T21:20:56.597Z"
   },
   {
    "duration": 20,
    "start_time": "2022-03-07T21:25:04.213Z"
   },
   {
    "duration": 17,
    "start_time": "2022-03-07T21:26:24.479Z"
   },
   {
    "duration": 569,
    "start_time": "2022-03-07T21:27:38.146Z"
   },
   {
    "duration": 164,
    "start_time": "2022-03-07T21:27:38.716Z"
   },
   {
    "duration": 21,
    "start_time": "2022-03-07T21:27:38.882Z"
   },
   {
    "duration": 40,
    "start_time": "2022-03-07T21:27:38.904Z"
   },
   {
    "duration": 11,
    "start_time": "2022-03-07T21:27:38.946Z"
   },
   {
    "duration": 127,
    "start_time": "2022-03-07T21:27:38.959Z"
   },
   {
    "duration": 133,
    "start_time": "2022-03-07T21:27:39.088Z"
   },
   {
    "duration": 25,
    "start_time": "2022-03-07T21:27:39.224Z"
   },
   {
    "duration": 22,
    "start_time": "2022-03-07T21:27:39.252Z"
   },
   {
    "duration": 77,
    "start_time": "2022-03-07T21:27:39.275Z"
   },
   {
    "duration": 15,
    "start_time": "2022-03-07T21:27:39.353Z"
   },
   {
    "duration": 97,
    "start_time": "2022-03-07T21:27:39.370Z"
   },
   {
    "duration": 15,
    "start_time": "2022-03-07T21:27:39.468Z"
   },
   {
    "duration": 20,
    "start_time": "2022-03-07T21:27:39.485Z"
   },
   {
    "duration": 65,
    "start_time": "2022-03-07T21:27:39.508Z"
   },
   {
    "duration": 18,
    "start_time": "2022-03-07T21:27:39.575Z"
   },
   {
    "duration": 7,
    "start_time": "2022-03-07T21:27:39.595Z"
   },
   {
    "duration": 38,
    "start_time": "2022-03-07T21:27:39.604Z"
   },
   {
    "duration": 6,
    "start_time": "2022-03-07T21:27:39.644Z"
   },
   {
    "duration": 10,
    "start_time": "2022-03-07T21:27:39.652Z"
   },
   {
    "duration": 7,
    "start_time": "2022-03-07T21:27:39.663Z"
   },
   {
    "duration": 24,
    "start_time": "2022-03-07T21:27:39.672Z"
   },
   {
    "duration": 56,
    "start_time": "2022-03-07T21:27:39.699Z"
   },
   {
    "duration": 34,
    "start_time": "2022-03-07T21:27:39.757Z"
   },
   {
    "duration": 5,
    "start_time": "2022-03-07T21:27:39.793Z"
   },
   {
    "duration": 19,
    "start_time": "2022-03-07T21:27:39.799Z"
   },
   {
    "duration": 48,
    "start_time": "2022-03-07T21:27:39.820Z"
   },
   {
    "duration": 17,
    "start_time": "2022-03-07T21:27:39.870Z"
   },
   {
    "duration": 56,
    "start_time": "2022-03-07T21:27:39.889Z"
   },
   {
    "duration": 8,
    "start_time": "2022-03-07T21:27:39.946Z"
   },
   {
    "duration": 10,
    "start_time": "2022-03-07T21:27:39.955Z"
   },
   {
    "duration": 6,
    "start_time": "2022-03-07T21:27:39.967Z"
   },
   {
    "duration": 25,
    "start_time": "2022-03-07T21:27:39.974Z"
   },
   {
    "duration": 40,
    "start_time": "2022-03-07T21:27:40.000Z"
   },
   {
    "duration": 23,
    "start_time": "2022-03-07T21:27:40.042Z"
   },
   {
    "duration": 23,
    "start_time": "2022-03-07T21:27:40.067Z"
   },
   {
    "duration": 48,
    "start_time": "2022-03-07T21:27:40.091Z"
   },
   {
    "duration": 317,
    "start_time": "2022-03-08T12:45:16.517Z"
   },
   {
    "duration": 620,
    "start_time": "2022-03-08T12:45:23.896Z"
   },
   {
    "duration": 174,
    "start_time": "2022-03-08T12:45:24.518Z"
   },
   {
    "duration": 21,
    "start_time": "2022-03-08T12:45:24.694Z"
   },
   {
    "duration": 51,
    "start_time": "2022-03-08T12:45:24.717Z"
   },
   {
    "duration": 20,
    "start_time": "2022-03-08T12:45:24.770Z"
   },
   {
    "duration": 106,
    "start_time": "2022-03-08T12:45:24.791Z"
   },
   {
    "duration": 136,
    "start_time": "2022-03-08T12:45:24.899Z"
   },
   {
    "duration": 18,
    "start_time": "2022-03-08T12:45:25.038Z"
   },
   {
    "duration": 32,
    "start_time": "2022-03-08T12:45:25.058Z"
   },
   {
    "duration": 70,
    "start_time": "2022-03-08T12:45:25.092Z"
   },
   {
    "duration": 15,
    "start_time": "2022-03-08T12:45:25.164Z"
   },
   {
    "duration": 120,
    "start_time": "2022-03-08T12:45:25.181Z"
   },
   {
    "duration": 15,
    "start_time": "2022-03-08T12:45:25.302Z"
   },
   {
    "duration": 46,
    "start_time": "2022-03-08T12:45:25.318Z"
   },
   {
    "duration": 57,
    "start_time": "2022-03-08T12:45:25.365Z"
   },
   {
    "duration": 20,
    "start_time": "2022-03-08T12:45:25.424Z"
   },
   {
    "duration": 49,
    "start_time": "2022-03-08T12:45:25.446Z"
   },
   {
    "duration": 57,
    "start_time": "2022-03-08T12:45:25.497Z"
   },
   {
    "duration": 34,
    "start_time": "2022-03-08T12:45:25.555Z"
   },
   {
    "duration": 29,
    "start_time": "2022-03-08T12:45:25.591Z"
   },
   {
    "duration": 27,
    "start_time": "2022-03-08T12:45:25.622Z"
   },
   {
    "duration": 61,
    "start_time": "2022-03-08T12:45:25.651Z"
   },
   {
    "duration": 33,
    "start_time": "2022-03-08T12:45:25.716Z"
   },
   {
    "duration": 38,
    "start_time": "2022-03-08T12:45:25.751Z"
   },
   {
    "duration": 10,
    "start_time": "2022-03-08T12:45:25.791Z"
   },
   {
    "duration": 59,
    "start_time": "2022-03-08T12:45:25.803Z"
   },
   {
    "duration": 46,
    "start_time": "2022-03-08T12:45:25.864Z"
   },
   {
    "duration": 30,
    "start_time": "2022-03-08T12:45:25.912Z"
   },
   {
    "duration": 52,
    "start_time": "2022-03-08T12:45:25.944Z"
   },
   {
    "duration": 8,
    "start_time": "2022-03-08T12:45:25.998Z"
   },
   {
    "duration": 50,
    "start_time": "2022-03-08T12:45:26.007Z"
   },
   {
    "duration": 31,
    "start_time": "2022-03-08T12:45:26.059Z"
   },
   {
    "duration": 47,
    "start_time": "2022-03-08T12:45:26.091Z"
   },
   {
    "duration": 44,
    "start_time": "2022-03-08T12:45:26.140Z"
   },
   {
    "duration": 24,
    "start_time": "2022-03-08T12:45:26.185Z"
   },
   {
    "duration": 47,
    "start_time": "2022-03-08T12:45:26.210Z"
   },
   {
    "duration": 20,
    "start_time": "2022-03-08T12:45:26.259Z"
   },
   {
    "duration": 30,
    "start_time": "2022-03-08T12:45:26.281Z"
   },
   {
    "duration": 7,
    "start_time": "2022-03-08T12:46:28.115Z"
   },
   {
    "duration": 7,
    "start_time": "2022-03-08T12:46:34.439Z"
   },
   {
    "duration": 6,
    "start_time": "2022-03-08T12:46:39.354Z"
   },
   {
    "duration": 7,
    "start_time": "2022-03-08T12:46:57.295Z"
   },
   {
    "duration": 9,
    "start_time": "2022-03-08T12:47:15.934Z"
   },
   {
    "duration": 23,
    "start_time": "2022-03-08T12:47:40.910Z"
   },
   {
    "duration": 361,
    "start_time": "2022-03-08T12:49:20.868Z"
   },
   {
    "duration": 569,
    "start_time": "2022-03-08T12:49:36.432Z"
   },
   {
    "duration": 181,
    "start_time": "2022-03-08T12:49:37.003Z"
   },
   {
    "duration": 21,
    "start_time": "2022-03-08T12:49:37.186Z"
   },
   {
    "duration": 31,
    "start_time": "2022-03-08T12:49:37.209Z"
   },
   {
    "duration": 12,
    "start_time": "2022-03-08T12:49:37.242Z"
   },
   {
    "duration": 111,
    "start_time": "2022-03-08T12:49:37.255Z"
   },
   {
    "duration": 135,
    "start_time": "2022-03-08T12:49:37.376Z"
   },
   {
    "duration": 18,
    "start_time": "2022-03-08T12:49:37.513Z"
   },
   {
    "duration": 23,
    "start_time": "2022-03-08T12:49:37.534Z"
   },
   {
    "duration": 56,
    "start_time": "2022-03-08T12:49:37.576Z"
   },
   {
    "duration": 16,
    "start_time": "2022-03-08T12:49:37.634Z"
   },
   {
    "duration": 107,
    "start_time": "2022-03-08T12:49:37.651Z"
   },
   {
    "duration": 22,
    "start_time": "2022-03-08T12:49:37.759Z"
   },
   {
    "duration": 20,
    "start_time": "2022-03-08T12:49:37.783Z"
   },
   {
    "duration": 42,
    "start_time": "2022-03-08T12:49:37.804Z"
   },
   {
    "duration": 37,
    "start_time": "2022-03-08T12:49:37.848Z"
   },
   {
    "duration": 9,
    "start_time": "2022-03-08T12:49:37.886Z"
   },
   {
    "duration": 37,
    "start_time": "2022-03-08T12:49:37.896Z"
   },
   {
    "duration": 9,
    "start_time": "2022-03-08T12:49:37.934Z"
   },
   {
    "duration": 14,
    "start_time": "2022-03-08T12:49:37.945Z"
   },
   {
    "duration": 8,
    "start_time": "2022-03-08T12:49:37.960Z"
   },
   {
    "duration": 28,
    "start_time": "2022-03-08T12:49:37.970Z"
   },
   {
    "duration": 28,
    "start_time": "2022-03-08T12:49:38.002Z"
   },
   {
    "duration": 52,
    "start_time": "2022-03-08T12:49:38.032Z"
   },
   {
    "duration": 7,
    "start_time": "2022-03-08T12:49:38.085Z"
   },
   {
    "duration": 17,
    "start_time": "2022-03-08T12:49:38.094Z"
   },
   {
    "duration": 29,
    "start_time": "2022-03-08T12:49:38.113Z"
   },
   {
    "duration": 43,
    "start_time": "2022-03-08T12:49:38.144Z"
   },
   {
    "duration": 33,
    "start_time": "2022-03-08T12:49:38.189Z"
   },
   {
    "duration": 8,
    "start_time": "2022-03-08T12:49:38.224Z"
   },
   {
    "duration": 10,
    "start_time": "2022-03-08T12:49:38.234Z"
   },
   {
    "duration": 32,
    "start_time": "2022-03-08T12:49:38.245Z"
   },
   {
    "duration": 22,
    "start_time": "2022-03-08T12:49:38.279Z"
   },
   {
    "duration": 19,
    "start_time": "2022-03-08T12:49:38.303Z"
   },
   {
    "duration": 21,
    "start_time": "2022-03-08T12:49:38.324Z"
   },
   {
    "duration": 50,
    "start_time": "2022-03-08T12:49:38.347Z"
   },
   {
    "duration": 443,
    "start_time": "2022-03-08T12:49:38.398Z"
   },
   {
    "duration": 327,
    "start_time": "2022-03-08T12:49:38.516Z"
   },
   {
    "duration": 274,
    "start_time": "2022-03-08T12:49:55.821Z"
   },
   {
    "duration": 262,
    "start_time": "2022-03-08T12:50:13.871Z"
   },
   {
    "duration": 258,
    "start_time": "2022-03-08T12:50:53.023Z"
   },
   {
    "duration": 11,
    "start_time": "2022-03-08T12:51:26.387Z"
   },
   {
    "duration": 12,
    "start_time": "2022-03-08T12:51:38.024Z"
   },
   {
    "duration": 89,
    "start_time": "2022-03-08T12:52:18.944Z"
   },
   {
    "duration": 249,
    "start_time": "2022-03-08T12:52:26.998Z"
   },
   {
    "duration": 21,
    "start_time": "2022-03-08T12:53:40.775Z"
   },
   {
    "duration": 19,
    "start_time": "2022-03-08T12:54:09.365Z"
   },
   {
    "duration": 5,
    "start_time": "2022-03-08T12:54:33.257Z"
   },
   {
    "duration": 16,
    "start_time": "2022-03-08T12:55:11.726Z"
   },
   {
    "duration": 22,
    "start_time": "2022-03-08T12:55:25.469Z"
   },
   {
    "duration": 7,
    "start_time": "2022-03-08T13:00:12.136Z"
   },
   {
    "duration": 8,
    "start_time": "2022-03-08T13:02:05.761Z"
   },
   {
    "duration": 23,
    "start_time": "2022-03-08T13:03:45.365Z"
   },
   {
    "duration": 9,
    "start_time": "2022-03-08T13:03:45.997Z"
   },
   {
    "duration": 545,
    "start_time": "2022-03-08T13:11:33.864Z"
   },
   {
    "duration": 560,
    "start_time": "2022-03-08T13:12:45.411Z"
   },
   {
    "duration": 460,
    "start_time": "2022-03-08T13:12:51.366Z"
   },
   {
    "duration": 471,
    "start_time": "2022-03-08T13:15:31.374Z"
   },
   {
    "duration": 22,
    "start_time": "2022-03-08T13:16:32.747Z"
   },
   {
    "duration": 468,
    "start_time": "2022-03-08T13:17:38.751Z"
   },
   {
    "duration": 8,
    "start_time": "2022-03-08T13:17:57.202Z"
   },
   {
    "duration": 8,
    "start_time": "2022-03-08T13:18:09.851Z"
   },
   {
    "duration": 7,
    "start_time": "2022-03-08T13:18:21.324Z"
   },
   {
    "duration": 265,
    "start_time": "2022-03-08T13:20:49.741Z"
   },
   {
    "duration": 681,
    "start_time": "2022-03-08T13:21:06.404Z"
   },
   {
    "duration": 664,
    "start_time": "2022-03-08T13:21:13.440Z"
   },
   {
    "duration": 715,
    "start_time": "2022-03-08T13:21:31.569Z"
   },
   {
    "duration": 112,
    "start_time": "2022-03-09T09:24:50.075Z"
   },
   {
    "duration": 1160,
    "start_time": "2022-03-09T09:43:54.288Z"
   },
   {
    "duration": 226,
    "start_time": "2022-03-09T09:43:55.451Z"
   },
   {
    "duration": 26,
    "start_time": "2022-03-09T09:43:55.680Z"
   },
   {
    "duration": 65,
    "start_time": "2022-03-09T09:43:55.709Z"
   },
   {
    "duration": 16,
    "start_time": "2022-03-09T09:43:55.776Z"
   },
   {
    "duration": 148,
    "start_time": "2022-03-09T09:43:55.794Z"
   },
   {
    "duration": 188,
    "start_time": "2022-03-09T09:43:55.945Z"
   },
   {
    "duration": 22,
    "start_time": "2022-03-09T09:43:56.135Z"
   },
   {
    "duration": 31,
    "start_time": "2022-03-09T09:43:56.162Z"
   },
   {
    "duration": 118,
    "start_time": "2022-03-09T09:43:56.196Z"
   },
   {
    "duration": 28,
    "start_time": "2022-03-09T09:43:56.317Z"
   },
   {
    "duration": 126,
    "start_time": "2022-03-09T09:43:56.348Z"
   },
   {
    "duration": 19,
    "start_time": "2022-03-09T09:43:56.476Z"
   },
   {
    "duration": 48,
    "start_time": "2022-03-09T09:43:56.498Z"
   },
   {
    "duration": 50,
    "start_time": "2022-03-09T09:43:56.548Z"
   },
   {
    "duration": 38,
    "start_time": "2022-03-09T09:43:56.600Z"
   },
   {
    "duration": 10,
    "start_time": "2022-03-09T09:43:56.641Z"
   },
   {
    "duration": 45,
    "start_time": "2022-03-09T09:43:56.654Z"
   },
   {
    "duration": 9,
    "start_time": "2022-03-09T09:43:56.701Z"
   },
   {
    "duration": 24,
    "start_time": "2022-03-09T09:43:56.713Z"
   },
   {
    "duration": 9,
    "start_time": "2022-03-09T09:43:56.739Z"
   },
   {
    "duration": 33,
    "start_time": "2022-03-09T09:43:56.751Z"
   },
   {
    "duration": 70,
    "start_time": "2022-03-09T09:43:56.787Z"
   },
   {
    "duration": 47,
    "start_time": "2022-03-09T09:43:56.860Z"
   },
   {
    "duration": 31,
    "start_time": "2022-03-09T09:43:56.909Z"
   },
   {
    "duration": 20,
    "start_time": "2022-03-09T09:43:56.943Z"
   },
   {
    "duration": 64,
    "start_time": "2022-03-09T09:43:56.968Z"
   },
   {
    "duration": 24,
    "start_time": "2022-03-09T09:43:57.035Z"
   },
   {
    "duration": 43,
    "start_time": "2022-03-09T09:43:57.061Z"
   },
   {
    "duration": 27,
    "start_time": "2022-03-09T09:43:57.107Z"
   },
   {
    "duration": 14,
    "start_time": "2022-03-09T09:43:57.136Z"
   },
   {
    "duration": 9,
    "start_time": "2022-03-09T09:43:57.152Z"
   },
   {
    "duration": 37,
    "start_time": "2022-03-09T09:43:57.163Z"
   },
   {
    "duration": 57,
    "start_time": "2022-03-09T09:43:57.202Z"
   },
   {
    "duration": 29,
    "start_time": "2022-03-09T09:43:57.261Z"
   },
   {
    "duration": 56,
    "start_time": "2022-03-09T09:43:57.293Z"
   },
   {
    "duration": 29,
    "start_time": "2022-03-09T09:43:57.352Z"
   },
   {
    "duration": 57,
    "start_time": "2022-03-09T09:43:57.384Z"
   },
   {
    "duration": 9,
    "start_time": "2022-03-09T09:43:57.444Z"
   },
   {
    "duration": 1094,
    "start_time": "2022-03-09T09:43:57.455Z"
   },
   {
    "duration": 35,
    "start_time": "2022-03-09T09:43:58.552Z"
   },
   {
    "duration": 9,
    "start_time": "2022-03-09T09:43:58.591Z"
   },
   {
    "duration": 934,
    "start_time": "2022-03-09T09:43:58.603Z"
   },
   {
    "duration": 6,
    "start_time": "2022-03-09T09:47:42.208Z"
   },
   {
    "duration": 6,
    "start_time": "2022-03-09T09:48:34.062Z"
   },
   {
    "duration": 4,
    "start_time": "2022-03-09T09:50:12.297Z"
   },
   {
    "duration": 6,
    "start_time": "2022-03-09T09:50:12.786Z"
   },
   {
    "duration": 8,
    "start_time": "2022-03-09T09:50:47.616Z"
   },
   {
    "duration": 1257,
    "start_time": "2022-03-09T09:51:30.726Z"
   },
   {
    "duration": 224,
    "start_time": "2022-03-09T09:51:31.986Z"
   },
   {
    "duration": 36,
    "start_time": "2022-03-09T09:51:32.213Z"
   },
   {
    "duration": 60,
    "start_time": "2022-03-09T09:51:32.251Z"
   },
   {
    "duration": 24,
    "start_time": "2022-03-09T09:51:32.313Z"
   },
   {
    "duration": 137,
    "start_time": "2022-03-09T09:51:32.339Z"
   },
   {
    "duration": 192,
    "start_time": "2022-03-09T09:51:32.478Z"
   },
   {
    "duration": 23,
    "start_time": "2022-03-09T09:51:32.673Z"
   },
   {
    "duration": 52,
    "start_time": "2022-03-09T09:51:32.699Z"
   },
   {
    "duration": 95,
    "start_time": "2022-03-09T09:51:32.753Z"
   },
   {
    "duration": 20,
    "start_time": "2022-03-09T09:51:32.851Z"
   },
   {
    "duration": 137,
    "start_time": "2022-03-09T09:51:32.873Z"
   },
   {
    "duration": 23,
    "start_time": "2022-03-09T09:51:33.012Z"
   },
   {
    "duration": 31,
    "start_time": "2022-03-09T09:51:33.037Z"
   },
   {
    "duration": 70,
    "start_time": "2022-03-09T09:51:33.070Z"
   },
   {
    "duration": 26,
    "start_time": "2022-03-09T09:51:33.142Z"
   },
   {
    "duration": 10,
    "start_time": "2022-03-09T09:51:33.170Z"
   },
   {
    "duration": 53,
    "start_time": "2022-03-09T09:51:33.182Z"
   },
   {
    "duration": 8,
    "start_time": "2022-03-09T09:51:33.237Z"
   },
   {
    "duration": 13,
    "start_time": "2022-03-09T09:51:33.247Z"
   },
   {
    "duration": 14,
    "start_time": "2022-03-09T09:51:33.262Z"
   },
   {
    "duration": 60,
    "start_time": "2022-03-09T09:51:33.279Z"
   },
   {
    "duration": 33,
    "start_time": "2022-03-09T09:51:33.344Z"
   },
   {
    "duration": 65,
    "start_time": "2022-03-09T09:51:33.380Z"
   },
   {
    "duration": 9,
    "start_time": "2022-03-09T09:51:33.447Z"
   },
   {
    "duration": 26,
    "start_time": "2022-03-09T09:51:33.458Z"
   },
   {
    "duration": 58,
    "start_time": "2022-03-09T09:51:33.486Z"
   },
   {
    "duration": 25,
    "start_time": "2022-03-09T09:51:33.546Z"
   },
   {
    "duration": 59,
    "start_time": "2022-03-09T09:51:33.573Z"
   },
   {
    "duration": 11,
    "start_time": "2022-03-09T09:51:33.635Z"
   },
   {
    "duration": 14,
    "start_time": "2022-03-09T09:51:33.649Z"
   },
   {
    "duration": 12,
    "start_time": "2022-03-09T09:51:33.666Z"
   },
   {
    "duration": 57,
    "start_time": "2022-03-09T09:51:33.681Z"
   },
   {
    "duration": 30,
    "start_time": "2022-03-09T09:51:33.740Z"
   },
   {
    "duration": 30,
    "start_time": "2022-03-09T09:51:33.772Z"
   },
   {
    "duration": 55,
    "start_time": "2022-03-09T09:51:33.805Z"
   },
   {
    "duration": 31,
    "start_time": "2022-03-09T09:51:33.862Z"
   },
   {
    "duration": 58,
    "start_time": "2022-03-09T09:51:33.895Z"
   },
   {
    "duration": 9,
    "start_time": "2022-03-09T09:51:33.955Z"
   },
   {
    "duration": 1088,
    "start_time": "2022-03-09T09:51:33.966Z"
   },
   {
    "duration": 31,
    "start_time": "2022-03-09T09:51:35.057Z"
   },
   {
    "duration": 10,
    "start_time": "2022-03-09T09:51:35.090Z"
   },
   {
    "duration": 921,
    "start_time": "2022-03-09T09:51:35.133Z"
   },
   {
    "duration": 4,
    "start_time": "2022-03-09T09:51:36.056Z"
   },
   {
    "duration": 9,
    "start_time": "2022-03-09T09:51:36.062Z"
   },
   {
    "duration": 13,
    "start_time": "2022-03-09T09:51:36.073Z"
   },
   {
    "duration": 8,
    "start_time": "2022-03-09T09:53:00.244Z"
   },
   {
    "duration": 6,
    "start_time": "2022-03-09T09:53:22.461Z"
   },
   {
    "duration": 4,
    "start_time": "2022-03-09T09:53:40.322Z"
   },
   {
    "duration": 6,
    "start_time": "2022-03-09T09:53:42.183Z"
   },
   {
    "duration": 8,
    "start_time": "2022-03-09T09:53:43.545Z"
   },
   {
    "duration": 9,
    "start_time": "2022-03-09T09:55:02.273Z"
   },
   {
    "duration": 8,
    "start_time": "2022-03-09T09:55:08.210Z"
   },
   {
    "duration": 6,
    "start_time": "2022-03-09T09:55:23.152Z"
   },
   {
    "duration": 8,
    "start_time": "2022-03-09T09:55:50.535Z"
   },
   {
    "duration": 4,
    "start_time": "2022-03-09T09:55:56.634Z"
   },
   {
    "duration": 6,
    "start_time": "2022-03-09T09:55:57.714Z"
   },
   {
    "duration": 6,
    "start_time": "2022-03-09T09:56:04.984Z"
   },
   {
    "duration": 448,
    "start_time": "2022-03-09T09:57:58.568Z"
   },
   {
    "duration": 8,
    "start_time": "2022-03-09T09:58:14.258Z"
   },
   {
    "duration": 8,
    "start_time": "2022-03-09T09:58:39.838Z"
   },
   {
    "duration": 8,
    "start_time": "2022-03-09T09:59:21.619Z"
   },
   {
    "duration": 11,
    "start_time": "2022-03-09T10:03:23.230Z"
   },
   {
    "duration": 39,
    "start_time": "2022-03-09T10:03:29.553Z"
   },
   {
    "duration": 9,
    "start_time": "2022-03-09T10:04:54.888Z"
   },
   {
    "duration": 33,
    "start_time": "2022-03-09T10:04:55.775Z"
   },
   {
    "duration": 30,
    "start_time": "2022-03-09T10:05:02.344Z"
   },
   {
    "duration": 32,
    "start_time": "2022-03-09T10:05:04.176Z"
   },
   {
    "duration": 30,
    "start_time": "2022-03-09T10:05:05.936Z"
   },
   {
    "duration": 30,
    "start_time": "2022-03-09T10:05:09.167Z"
   },
   {
    "duration": 32,
    "start_time": "2022-03-09T10:05:17.607Z"
   },
   {
    "duration": 31,
    "start_time": "2022-03-09T10:05:27.808Z"
   },
   {
    "duration": 1192,
    "start_time": "2022-03-09T10:05:35.446Z"
   },
   {
    "duration": 225,
    "start_time": "2022-03-09T10:05:36.641Z"
   },
   {
    "duration": 28,
    "start_time": "2022-03-09T10:05:36.869Z"
   },
   {
    "duration": 66,
    "start_time": "2022-03-09T10:05:36.900Z"
   },
   {
    "duration": 17,
    "start_time": "2022-03-09T10:05:36.968Z"
   },
   {
    "duration": 137,
    "start_time": "2022-03-09T10:05:36.987Z"
   },
   {
    "duration": 182,
    "start_time": "2022-03-09T10:05:37.126Z"
   },
   {
    "duration": 26,
    "start_time": "2022-03-09T10:05:37.310Z"
   },
   {
    "duration": 32,
    "start_time": "2022-03-09T10:05:37.340Z"
   },
   {
    "duration": 106,
    "start_time": "2022-03-09T10:05:37.376Z"
   },
   {
    "duration": 18,
    "start_time": "2022-03-09T10:05:37.485Z"
   },
   {
    "duration": 133,
    "start_time": "2022-03-09T10:05:37.506Z"
   },
   {
    "duration": 19,
    "start_time": "2022-03-09T10:05:37.641Z"
   },
   {
    "duration": 27,
    "start_time": "2022-03-09T10:05:37.662Z"
   },
   {
    "duration": 79,
    "start_time": "2022-03-09T10:05:37.692Z"
   },
   {
    "duration": 25,
    "start_time": "2022-03-09T10:05:37.774Z"
   },
   {
    "duration": 9,
    "start_time": "2022-03-09T10:05:37.802Z"
   },
   {
    "duration": 44,
    "start_time": "2022-03-09T10:05:37.814Z"
   },
   {
    "duration": 9,
    "start_time": "2022-03-09T10:05:37.860Z"
   },
   {
    "duration": 9,
    "start_time": "2022-03-09T10:05:37.872Z"
   },
   {
    "duration": 9,
    "start_time": "2022-03-09T10:05:37.884Z"
   },
   {
    "duration": 61,
    "start_time": "2022-03-09T10:05:37.895Z"
   },
   {
    "duration": 43,
    "start_time": "2022-03-09T10:05:37.959Z"
   },
   {
    "duration": 80,
    "start_time": "2022-03-09T10:05:38.005Z"
   },
   {
    "duration": 10,
    "start_time": "2022-03-09T10:05:38.088Z"
   },
   {
    "duration": 46,
    "start_time": "2022-03-09T10:05:38.101Z"
   },
   {
    "duration": 36,
    "start_time": "2022-03-09T10:05:38.154Z"
   },
   {
    "duration": 53,
    "start_time": "2022-03-09T10:05:38.194Z"
   },
   {
    "duration": 45,
    "start_time": "2022-03-09T10:05:38.250Z"
   },
   {
    "duration": 13,
    "start_time": "2022-03-09T10:05:38.297Z"
   },
   {
    "duration": 32,
    "start_time": "2022-03-09T10:05:38.313Z"
   },
   {
    "duration": 9,
    "start_time": "2022-03-09T10:05:38.348Z"
   },
   {
    "duration": 36,
    "start_time": "2022-03-09T10:05:38.360Z"
   },
   {
    "duration": 64,
    "start_time": "2022-03-09T10:05:38.399Z"
   },
   {
    "duration": 33,
    "start_time": "2022-03-09T10:05:38.466Z"
   },
   {
    "duration": 30,
    "start_time": "2022-03-09T10:05:38.533Z"
   },
   {
    "duration": 32,
    "start_time": "2022-03-09T10:05:38.565Z"
   },
   {
    "duration": 59,
    "start_time": "2022-03-09T10:05:38.599Z"
   },
   {
    "duration": 10,
    "start_time": "2022-03-09T10:05:38.660Z"
   },
   {
    "duration": 1184,
    "start_time": "2022-03-09T10:05:38.672Z"
   },
   {
    "duration": 33,
    "start_time": "2022-03-09T10:05:39.859Z"
   },
   {
    "duration": 38,
    "start_time": "2022-03-09T10:05:39.894Z"
   },
   {
    "duration": 909,
    "start_time": "2022-03-09T10:05:39.934Z"
   },
   {
    "duration": 4,
    "start_time": "2022-03-09T10:05:40.846Z"
   },
   {
    "duration": 8,
    "start_time": "2022-03-09T10:05:40.852Z"
   },
   {
    "duration": 8,
    "start_time": "2022-03-09T10:05:40.862Z"
   },
   {
    "duration": 79,
    "start_time": "2022-03-09T10:05:40.872Z"
   },
   {
    "duration": 34,
    "start_time": "2022-03-09T10:06:37.717Z"
   },
   {
    "duration": 7,
    "start_time": "2022-03-09T10:07:10.807Z"
   },
   {
    "duration": 9,
    "start_time": "2022-03-09T10:07:39.365Z"
   },
   {
    "duration": 7,
    "start_time": "2022-03-09T10:08:20.036Z"
   },
   {
    "duration": 708,
    "start_time": "2022-03-09T10:09:25.806Z"
   },
   {
    "duration": 9,
    "start_time": "2022-03-09T10:10:30.057Z"
   },
   {
    "duration": 8,
    "start_time": "2022-03-09T10:10:31.237Z"
   },
   {
    "duration": 6,
    "start_time": "2022-03-09T10:10:54.576Z"
   },
   {
    "duration": 7,
    "start_time": "2022-03-09T10:11:20.906Z"
   },
   {
    "duration": 12,
    "start_time": "2022-03-09T10:12:49.196Z"
   },
   {
    "duration": 21,
    "start_time": "2022-03-09T10:12:56.426Z"
   },
   {
    "duration": 12,
    "start_time": "2022-03-09T10:13:17.704Z"
   },
   {
    "duration": 12,
    "start_time": "2022-03-09T10:15:29.517Z"
   },
   {
    "duration": 13,
    "start_time": "2022-03-09T10:15:36.447Z"
   },
   {
    "duration": 17,
    "start_time": "2022-03-09T10:15:45.924Z"
   },
   {
    "duration": 19,
    "start_time": "2022-03-09T10:16:05.624Z"
   },
   {
    "duration": 14,
    "start_time": "2022-03-09T10:16:33.526Z"
   },
   {
    "duration": 13,
    "start_time": "2022-03-09T10:16:53.547Z"
   },
   {
    "duration": 14,
    "start_time": "2022-03-09T10:17:06.594Z"
   },
   {
    "duration": 13,
    "start_time": "2022-03-09T10:18:40.361Z"
   },
   {
    "duration": 14,
    "start_time": "2022-03-09T10:18:54.359Z"
   },
   {
    "duration": 13,
    "start_time": "2022-03-09T10:21:08.631Z"
   },
   {
    "duration": 12,
    "start_time": "2022-03-09T10:21:36.244Z"
   },
   {
    "duration": 12,
    "start_time": "2022-03-09T10:22:00.389Z"
   },
   {
    "duration": 11,
    "start_time": "2022-03-09T10:22:00.980Z"
   },
   {
    "duration": 594,
    "start_time": "2022-03-09T10:22:01.510Z"
   },
   {
    "duration": 11,
    "start_time": "2022-03-09T10:22:31.686Z"
   },
   {
    "duration": 21,
    "start_time": "2022-03-09T10:22:42.699Z"
   },
   {
    "duration": 349,
    "start_time": "2022-03-09T10:22:45.432Z"
   },
   {
    "duration": 12,
    "start_time": "2022-03-09T10:23:57.841Z"
   },
   {
    "duration": 7,
    "start_time": "2022-03-09T10:23:58.564Z"
   },
   {
    "duration": 8,
    "start_time": "2022-03-09T10:25:52.103Z"
   },
   {
    "duration": 324,
    "start_time": "2022-03-09T15:18:27.002Z"
   },
   {
    "duration": 1209,
    "start_time": "2022-03-09T15:18:53.598Z"
   },
   {
    "duration": 212,
    "start_time": "2022-03-09T15:18:54.810Z"
   },
   {
    "duration": 29,
    "start_time": "2022-03-09T15:18:55.025Z"
   },
   {
    "duration": 69,
    "start_time": "2022-03-09T15:18:55.057Z"
   },
   {
    "duration": 17,
    "start_time": "2022-03-09T15:18:55.128Z"
   },
   {
    "duration": 144,
    "start_time": "2022-03-09T15:18:55.147Z"
   },
   {
    "duration": 185,
    "start_time": "2022-03-09T15:18:55.294Z"
   },
   {
    "duration": 24,
    "start_time": "2022-03-09T15:18:55.486Z"
   },
   {
    "duration": 33,
    "start_time": "2022-03-09T15:18:55.513Z"
   },
   {
    "duration": 124,
    "start_time": "2022-03-09T15:18:55.549Z"
   },
   {
    "duration": 29,
    "start_time": "2022-03-09T15:18:55.677Z"
   },
   {
    "duration": 131,
    "start_time": "2022-03-09T15:18:55.709Z"
   },
   {
    "duration": 21,
    "start_time": "2022-03-09T15:18:55.843Z"
   },
   {
    "duration": 48,
    "start_time": "2022-03-09T15:18:55.867Z"
   },
   {
    "duration": 76,
    "start_time": "2022-03-09T15:18:55.919Z"
   },
   {
    "duration": 20,
    "start_time": "2022-03-09T15:18:55.998Z"
   },
   {
    "duration": 12,
    "start_time": "2022-03-09T15:18:56.021Z"
   },
   {
    "duration": 34,
    "start_time": "2022-03-09T15:18:56.035Z"
   },
   {
    "duration": 10,
    "start_time": "2022-03-09T15:18:56.086Z"
   },
   {
    "duration": 11,
    "start_time": "2022-03-09T15:18:56.098Z"
   },
   {
    "duration": 9,
    "start_time": "2022-03-09T15:18:56.111Z"
   },
   {
    "duration": 66,
    "start_time": "2022-03-09T15:18:56.122Z"
   },
   {
    "duration": 34,
    "start_time": "2022-03-09T15:18:56.194Z"
   },
   {
    "duration": 60,
    "start_time": "2022-03-09T15:18:56.231Z"
   },
   {
    "duration": 8,
    "start_time": "2022-03-09T15:18:56.293Z"
   },
   {
    "duration": 21,
    "start_time": "2022-03-09T15:18:56.303Z"
   },
   {
    "duration": 71,
    "start_time": "2022-03-09T15:18:56.327Z"
   },
   {
    "duration": 24,
    "start_time": "2022-03-09T15:18:56.400Z"
   },
   {
    "duration": 42,
    "start_time": "2022-03-09T15:18:56.427Z"
   },
   {
    "duration": 10,
    "start_time": "2022-03-09T15:18:56.487Z"
   },
   {
    "duration": 12,
    "start_time": "2022-03-09T15:18:56.500Z"
   },
   {
    "duration": 8,
    "start_time": "2022-03-09T15:18:56.514Z"
   },
   {
    "duration": 64,
    "start_time": "2022-03-09T15:18:56.524Z"
   },
   {
    "duration": 29,
    "start_time": "2022-03-09T15:18:56.591Z"
   },
   {
    "duration": 32,
    "start_time": "2022-03-09T15:18:56.622Z"
   },
   {
    "duration": 56,
    "start_time": "2022-03-09T15:18:56.656Z"
   },
   {
    "duration": 32,
    "start_time": "2022-03-09T15:18:56.714Z"
   },
   {
    "duration": 56,
    "start_time": "2022-03-09T15:18:56.749Z"
   },
   {
    "duration": 8,
    "start_time": "2022-03-09T15:18:56.807Z"
   },
   {
    "duration": 1095,
    "start_time": "2022-03-09T15:18:56.818Z"
   },
   {
    "duration": 30,
    "start_time": "2022-03-09T15:18:57.915Z"
   },
   {
    "duration": 8,
    "start_time": "2022-03-09T15:18:57.947Z"
   },
   {
    "duration": 938,
    "start_time": "2022-03-09T15:18:57.958Z"
   },
   {
    "duration": 3,
    "start_time": "2022-03-09T15:18:58.898Z"
   },
   {
    "duration": 9,
    "start_time": "2022-03-09T15:18:58.905Z"
   },
   {
    "duration": 10,
    "start_time": "2022-03-09T15:18:58.916Z"
   },
   {
    "duration": 13,
    "start_time": "2022-03-09T15:18:58.929Z"
   },
   {
    "duration": 48,
    "start_time": "2022-03-09T15:18:58.944Z"
   },
   {
    "duration": 14,
    "start_time": "2022-03-09T15:18:58.994Z"
   },
   {
    "duration": 15,
    "start_time": "2022-03-09T15:18:59.010Z"
   },
   {
    "duration": 371,
    "start_time": "2022-03-10T08:31:22.429Z"
   },
   {
    "duration": 951,
    "start_time": "2022-03-10T08:31:29.379Z"
   },
   {
    "duration": 160,
    "start_time": "2022-03-10T08:31:30.332Z"
   },
   {
    "duration": 18,
    "start_time": "2022-03-10T08:31:30.493Z"
   },
   {
    "duration": 34,
    "start_time": "2022-03-10T08:31:30.513Z"
   },
   {
    "duration": 12,
    "start_time": "2022-03-10T08:31:30.548Z"
   },
   {
    "duration": 103,
    "start_time": "2022-03-10T08:31:30.561Z"
   },
   {
    "duration": 125,
    "start_time": "2022-03-10T08:31:30.665Z"
   },
   {
    "duration": 15,
    "start_time": "2022-03-10T08:31:30.792Z"
   },
   {
    "duration": 28,
    "start_time": "2022-03-10T08:31:30.808Z"
   },
   {
    "duration": 48,
    "start_time": "2022-03-10T08:31:30.837Z"
   },
   {
    "duration": 25,
    "start_time": "2022-03-10T08:31:30.886Z"
   },
   {
    "duration": 85,
    "start_time": "2022-03-10T08:31:30.913Z"
   },
   {
    "duration": 13,
    "start_time": "2022-03-10T08:31:31.000Z"
   },
   {
    "duration": 32,
    "start_time": "2022-03-10T08:31:31.014Z"
   },
   {
    "duration": 36,
    "start_time": "2022-03-10T08:31:31.048Z"
   },
   {
    "duration": 21,
    "start_time": "2022-03-10T08:31:31.086Z"
   },
   {
    "duration": 25,
    "start_time": "2022-03-10T08:31:31.109Z"
   },
   {
    "duration": 62,
    "start_time": "2022-03-10T08:31:31.136Z"
   },
   {
    "duration": 5,
    "start_time": "2022-03-10T08:31:31.200Z"
   },
   {
    "duration": 12,
    "start_time": "2022-03-10T08:31:31.207Z"
   },
   {
    "duration": 6,
    "start_time": "2022-03-10T08:31:31.221Z"
   },
   {
    "duration": 22,
    "start_time": "2022-03-10T08:31:31.228Z"
   },
   {
    "duration": 23,
    "start_time": "2022-03-10T08:31:31.253Z"
   },
   {
    "duration": 44,
    "start_time": "2022-03-10T08:31:31.278Z"
   },
   {
    "duration": 5,
    "start_time": "2022-03-10T08:31:31.323Z"
   },
   {
    "duration": 16,
    "start_time": "2022-03-10T08:31:31.330Z"
   },
   {
    "duration": 24,
    "start_time": "2022-03-10T08:31:31.347Z"
   },
   {
    "duration": 32,
    "start_time": "2022-03-10T08:31:31.373Z"
   },
   {
    "duration": 29,
    "start_time": "2022-03-10T08:31:31.407Z"
   },
   {
    "duration": 6,
    "start_time": "2022-03-10T08:31:31.438Z"
   },
   {
    "duration": 10,
    "start_time": "2022-03-10T08:31:31.446Z"
   },
   {
    "duration": 6,
    "start_time": "2022-03-10T08:31:31.457Z"
   },
   {
    "duration": 37,
    "start_time": "2022-03-10T08:31:31.464Z"
   },
   {
    "duration": 16,
    "start_time": "2022-03-10T08:31:31.505Z"
   },
   {
    "duration": 19,
    "start_time": "2022-03-10T08:31:31.522Z"
   },
   {
    "duration": 17,
    "start_time": "2022-03-10T08:31:31.542Z"
   },
   {
    "duration": 20,
    "start_time": "2022-03-10T08:31:31.560Z"
   },
   {
    "duration": 18,
    "start_time": "2022-03-10T08:31:31.605Z"
   },
   {
    "duration": 5,
    "start_time": "2022-03-10T08:31:31.624Z"
   },
   {
    "duration": 608,
    "start_time": "2022-03-10T08:31:31.631Z"
   },
   {
    "duration": 17,
    "start_time": "2022-03-10T08:31:32.240Z"
   },
   {
    "duration": 5,
    "start_time": "2022-03-10T08:31:32.259Z"
   },
   {
    "duration": 495,
    "start_time": "2022-03-10T08:31:32.265Z"
   },
   {
    "duration": 3,
    "start_time": "2022-03-10T08:31:32.762Z"
   },
   {
    "duration": 11,
    "start_time": "2022-03-10T08:31:32.767Z"
   },
   {
    "duration": 6,
    "start_time": "2022-03-10T08:31:32.780Z"
   },
   {
    "duration": 21,
    "start_time": "2022-03-10T08:31:32.788Z"
   },
   {
    "duration": 9,
    "start_time": "2022-03-10T08:31:32.811Z"
   },
   {
    "duration": 6,
    "start_time": "2022-03-10T08:31:32.821Z"
   },
   {
    "duration": 9,
    "start_time": "2022-03-10T08:31:32.829Z"
   },
   {
    "duration": 416,
    "start_time": "2022-03-10T08:40:25.596Z"
   },
   {
    "duration": 314,
    "start_time": "2022-03-10T08:41:24.681Z"
   },
   {
    "duration": 320,
    "start_time": "2022-03-10T08:41:32.590Z"
   },
   {
    "duration": 5,
    "start_time": "2022-03-10T08:45:54.779Z"
   },
   {
    "duration": 9,
    "start_time": "2022-03-10T08:47:02.930Z"
   },
   {
    "duration": 5,
    "start_time": "2022-03-10T08:50:57.537Z"
   },
   {
    "duration": 6,
    "start_time": "2022-03-10T08:52:40.060Z"
   },
   {
    "duration": 6,
    "start_time": "2022-03-10T08:53:01.245Z"
   },
   {
    "duration": 7,
    "start_time": "2022-03-10T08:53:26.671Z"
   },
   {
    "duration": 393,
    "start_time": "2022-03-10T11:32:32.295Z"
   },
   {
    "duration": 1167,
    "start_time": "2022-03-10T11:32:40.794Z"
   },
   {
    "duration": 207,
    "start_time": "2022-03-10T11:32:41.964Z"
   },
   {
    "duration": 26,
    "start_time": "2022-03-10T11:32:42.174Z"
   },
   {
    "duration": 70,
    "start_time": "2022-03-10T11:32:42.204Z"
   },
   {
    "duration": 18,
    "start_time": "2022-03-10T11:32:42.276Z"
   },
   {
    "duration": 140,
    "start_time": "2022-03-10T11:32:42.296Z"
   },
   {
    "duration": 181,
    "start_time": "2022-03-10T11:32:42.439Z"
   },
   {
    "duration": 33,
    "start_time": "2022-03-10T11:32:42.625Z"
   },
   {
    "duration": 35,
    "start_time": "2022-03-10T11:32:42.661Z"
   },
   {
    "duration": 116,
    "start_time": "2022-03-10T11:32:42.699Z"
   },
   {
    "duration": 34,
    "start_time": "2022-03-10T11:32:42.818Z"
   },
   {
    "duration": 117,
    "start_time": "2022-03-10T11:32:42.854Z"
   },
   {
    "duration": 19,
    "start_time": "2022-03-10T11:32:42.973Z"
   },
   {
    "duration": 27,
    "start_time": "2022-03-10T11:32:42.995Z"
   },
   {
    "duration": 51,
    "start_time": "2022-03-10T11:32:43.052Z"
   },
   {
    "duration": 20,
    "start_time": "2022-03-10T11:32:43.106Z"
   },
   {
    "duration": 30,
    "start_time": "2022-03-10T11:32:43.128Z"
   },
   {
    "duration": 36,
    "start_time": "2022-03-10T11:32:43.160Z"
   },
   {
    "duration": 9,
    "start_time": "2022-03-10T11:32:43.198Z"
   },
   {
    "duration": 9,
    "start_time": "2022-03-10T11:32:43.209Z"
   },
   {
    "duration": 32,
    "start_time": "2022-03-10T11:32:43.220Z"
   },
   {
    "duration": 30,
    "start_time": "2022-03-10T11:32:43.255Z"
   },
   {
    "duration": 61,
    "start_time": "2022-03-10T11:32:43.291Z"
   },
   {
    "duration": 44,
    "start_time": "2022-03-10T11:32:43.355Z"
   },
   {
    "duration": 8,
    "start_time": "2022-03-10T11:32:43.401Z"
   },
   {
    "duration": 50,
    "start_time": "2022-03-10T11:32:43.411Z"
   },
   {
    "duration": 33,
    "start_time": "2022-03-10T11:32:43.463Z"
   },
   {
    "duration": 24,
    "start_time": "2022-03-10T11:32:43.498Z"
   },
   {
    "duration": 57,
    "start_time": "2022-03-10T11:32:43.524Z"
   },
   {
    "duration": 10,
    "start_time": "2022-03-10T11:32:43.583Z"
   },
   {
    "duration": 13,
    "start_time": "2022-03-10T11:32:43.595Z"
   },
   {
    "duration": 9,
    "start_time": "2022-03-10T11:32:43.610Z"
   },
   {
    "duration": 61,
    "start_time": "2022-03-10T11:32:43.621Z"
   },
   {
    "duration": 29,
    "start_time": "2022-03-10T11:32:43.685Z"
   },
   {
    "duration": 59,
    "start_time": "2022-03-10T11:32:43.717Z"
   },
   {
    "duration": 29,
    "start_time": "2022-03-10T11:32:43.779Z"
   },
   {
    "duration": 59,
    "start_time": "2022-03-10T11:32:43.810Z"
   },
   {
    "duration": 31,
    "start_time": "2022-03-10T11:32:43.871Z"
   },
   {
    "duration": 8,
    "start_time": "2022-03-10T11:32:43.905Z"
   },
   {
    "duration": 1083,
    "start_time": "2022-03-10T11:32:43.915Z"
   },
   {
    "duration": 51,
    "start_time": "2022-03-10T11:32:45.000Z"
   },
   {
    "duration": 10,
    "start_time": "2022-03-10T11:32:45.053Z"
   },
   {
    "duration": 898,
    "start_time": "2022-03-10T11:32:45.065Z"
   },
   {
    "duration": 4,
    "start_time": "2022-03-10T11:32:45.967Z"
   },
   {
    "duration": 16,
    "start_time": "2022-03-10T11:32:45.974Z"
   },
   {
    "duration": 10,
    "start_time": "2022-03-10T11:32:45.992Z"
   },
   {
    "duration": 49,
    "start_time": "2022-03-10T11:32:46.004Z"
   },
   {
    "duration": 14,
    "start_time": "2022-03-10T11:32:46.056Z"
   },
   {
    "duration": 10,
    "start_time": "2022-03-10T11:32:46.072Z"
   },
   {
    "duration": 11,
    "start_time": "2022-03-10T11:32:46.085Z"
   },
   {
    "duration": 361,
    "start_time": "2022-03-10T11:32:46.098Z"
   },
   {
    "duration": 13,
    "start_time": "2022-03-10T11:35:21.716Z"
   },
   {
    "duration": 252,
    "start_time": "2022-03-10T11:38:15.663Z"
   },
   {
    "duration": 1177,
    "start_time": "2022-03-10T11:41:23.276Z"
   },
   {
    "duration": 203,
    "start_time": "2022-03-10T11:41:24.456Z"
   },
   {
    "duration": 27,
    "start_time": "2022-03-10T11:41:24.662Z"
   },
   {
    "duration": 65,
    "start_time": "2022-03-10T11:41:24.693Z"
   },
   {
    "duration": 18,
    "start_time": "2022-03-10T11:41:24.760Z"
   },
   {
    "duration": 143,
    "start_time": "2022-03-10T11:41:24.781Z"
   },
   {
    "duration": 191,
    "start_time": "2022-03-10T11:41:24.926Z"
   },
   {
    "duration": 35,
    "start_time": "2022-03-10T11:41:25.123Z"
   },
   {
    "duration": 38,
    "start_time": "2022-03-10T11:41:25.162Z"
   },
   {
    "duration": 101,
    "start_time": "2022-03-10T11:41:25.203Z"
   },
   {
    "duration": 19,
    "start_time": "2022-03-10T11:41:25.307Z"
   },
   {
    "duration": 136,
    "start_time": "2022-03-10T11:41:25.328Z"
   },
   {
    "duration": 19,
    "start_time": "2022-03-10T11:41:25.466Z"
   },
   {
    "duration": 27,
    "start_time": "2022-03-10T11:41:25.487Z"
   },
   {
    "duration": 75,
    "start_time": "2022-03-10T11:41:25.516Z"
   },
   {
    "duration": 22,
    "start_time": "2022-03-10T11:41:25.593Z"
   },
   {
    "duration": 15,
    "start_time": "2022-03-10T11:41:25.618Z"
   },
   {
    "duration": 31,
    "start_time": "2022-03-10T11:41:25.652Z"
   },
   {
    "duration": 9,
    "start_time": "2022-03-10T11:41:25.685Z"
   },
   {
    "duration": 21,
    "start_time": "2022-03-10T11:41:25.696Z"
   },
   {
    "duration": 9,
    "start_time": "2022-03-10T11:41:25.719Z"
   },
   {
    "duration": 45,
    "start_time": "2022-03-10T11:41:25.731Z"
   },
   {
    "duration": 35,
    "start_time": "2022-03-10T11:41:25.782Z"
   },
   {
    "duration": 68,
    "start_time": "2022-03-10T11:41:25.820Z"
   },
   {
    "duration": 8,
    "start_time": "2022-03-10T11:41:25.891Z"
   },
   {
    "duration": 25,
    "start_time": "2022-03-10T11:41:25.901Z"
   },
   {
    "duration": 59,
    "start_time": "2022-03-10T11:41:25.929Z"
   },
   {
    "duration": 24,
    "start_time": "2022-03-10T11:41:25.991Z"
   },
   {
    "duration": 68,
    "start_time": "2022-03-10T11:41:26.018Z"
   },
   {
    "duration": 12,
    "start_time": "2022-03-10T11:41:26.088Z"
   },
   {
    "duration": 25,
    "start_time": "2022-03-10T11:41:26.102Z"
   },
   {
    "duration": 23,
    "start_time": "2022-03-10T11:41:26.129Z"
   },
   {
    "duration": 39,
    "start_time": "2022-03-10T11:41:26.155Z"
   },
   {
    "duration": 54,
    "start_time": "2022-03-10T11:41:26.197Z"
   },
   {
    "duration": 33,
    "start_time": "2022-03-10T11:41:26.253Z"
   },
   {
    "duration": 30,
    "start_time": "2022-03-10T11:41:26.289Z"
   },
   {
    "duration": 56,
    "start_time": "2022-03-10T11:41:26.322Z"
   },
   {
    "duration": 33,
    "start_time": "2022-03-10T11:41:26.381Z"
   },
   {
    "duration": 35,
    "start_time": "2022-03-10T11:41:26.417Z"
   },
   {
    "duration": 1061,
    "start_time": "2022-03-10T11:41:26.454Z"
   },
   {
    "duration": 45,
    "start_time": "2022-03-10T11:41:27.518Z"
   },
   {
    "duration": 10,
    "start_time": "2022-03-10T11:41:27.565Z"
   },
   {
    "duration": 928,
    "start_time": "2022-03-10T11:41:27.577Z"
   },
   {
    "duration": 4,
    "start_time": "2022-03-10T11:41:28.507Z"
   },
   {
    "duration": 11,
    "start_time": "2022-03-10T11:41:28.514Z"
   },
   {
    "duration": 29,
    "start_time": "2022-03-10T11:41:28.527Z"
   },
   {
    "duration": 26,
    "start_time": "2022-03-10T11:41:28.558Z"
   },
   {
    "duration": 13,
    "start_time": "2022-03-10T11:41:28.586Z"
   },
   {
    "duration": 5,
    "start_time": "2022-03-10T11:41:28.601Z"
   },
   {
    "duration": 9,
    "start_time": "2022-03-10T11:41:28.608Z"
   },
   {
    "duration": 34,
    "start_time": "2022-03-10T11:41:28.619Z"
   },
   {
    "duration": 360,
    "start_time": "2022-03-10T11:41:28.656Z"
   },
   {
    "duration": 247,
    "start_time": "2022-03-10T11:43:58.649Z"
   },
   {
    "duration": 8,
    "start_time": "2022-03-10T11:44:54.087Z"
   },
   {
    "duration": 10,
    "start_time": "2022-03-10T11:44:56.400Z"
   },
   {
    "duration": 277,
    "start_time": "2022-03-10T11:44:58.778Z"
   },
   {
    "duration": 8,
    "start_time": "2022-03-10T11:46:29.331Z"
   },
   {
    "duration": 864,
    "start_time": "2022-03-19T10:44:07.497Z"
   },
   {
    "duration": 253,
    "start_time": "2022-03-19T10:44:08.364Z"
   },
   {
    "duration": 29,
    "start_time": "2022-03-19T10:44:08.619Z"
   },
   {
    "duration": 92,
    "start_time": "2022-03-19T10:44:08.650Z"
   },
   {
    "duration": 64,
    "start_time": "2022-03-19T10:44:08.745Z"
   },
   {
    "duration": 213,
    "start_time": "2022-03-19T10:44:08.811Z"
   },
   {
    "duration": 298,
    "start_time": "2022-03-19T10:44:09.026Z"
   },
   {
    "duration": 24,
    "start_time": "2022-03-19T10:44:09.325Z"
   },
   {
    "duration": 79,
    "start_time": "2022-03-19T10:44:09.351Z"
   },
   {
    "duration": 116,
    "start_time": "2022-03-19T10:44:09.432Z"
   },
   {
    "duration": 64,
    "start_time": "2022-03-19T10:44:09.550Z"
   },
   {
    "duration": 200,
    "start_time": "2022-03-19T10:44:09.615Z"
   },
   {
    "duration": 21,
    "start_time": "2022-03-19T10:44:09.817Z"
   },
   {
    "duration": 80,
    "start_time": "2022-03-19T10:44:09.841Z"
   },
   {
    "duration": 98,
    "start_time": "2022-03-19T10:44:09.923Z"
   },
   {
    "duration": 16,
    "start_time": "2022-03-19T10:44:10.023Z"
   },
   {
    "duration": 11,
    "start_time": "2022-03-19T10:44:10.041Z"
   },
   {
    "duration": 82,
    "start_time": "2022-03-19T10:44:10.054Z"
   },
   {
    "duration": 13,
    "start_time": "2022-03-19T10:44:10.138Z"
   },
   {
    "duration": 11,
    "start_time": "2022-03-19T10:44:10.153Z"
   },
   {
    "duration": 46,
    "start_time": "2022-03-19T10:44:10.165Z"
   },
   {
    "duration": 30,
    "start_time": "2022-03-19T10:44:10.213Z"
   },
   {
    "duration": 30,
    "start_time": "2022-03-19T10:44:10.245Z"
   },
   {
    "duration": 64,
    "start_time": "2022-03-19T10:44:10.276Z"
   },
   {
    "duration": 6,
    "start_time": "2022-03-19T10:44:10.342Z"
   },
   {
    "duration": 20,
    "start_time": "2022-03-19T10:44:10.349Z"
   },
   {
    "duration": 46,
    "start_time": "2022-03-19T10:44:10.370Z"
   },
   {
    "duration": 18,
    "start_time": "2022-03-19T10:44:10.417Z"
   },
   {
    "duration": 30,
    "start_time": "2022-03-19T10:44:10.436Z"
   },
   {
    "duration": 8,
    "start_time": "2022-03-19T10:44:10.467Z"
   },
   {
    "duration": 13,
    "start_time": "2022-03-19T10:44:10.476Z"
   },
   {
    "duration": 5,
    "start_time": "2022-03-19T10:44:10.508Z"
   },
   {
    "duration": 23,
    "start_time": "2022-03-19T10:44:10.514Z"
   },
   {
    "duration": 18,
    "start_time": "2022-03-19T10:44:10.539Z"
   },
   {
    "duration": 20,
    "start_time": "2022-03-19T10:44:10.559Z"
   },
   {
    "duration": 50,
    "start_time": "2022-03-19T10:44:10.580Z"
   },
   {
    "duration": 18,
    "start_time": "2022-03-19T10:44:10.632Z"
   },
   {
    "duration": 22,
    "start_time": "2022-03-19T10:44:10.652Z"
   },
   {
    "duration": 7,
    "start_time": "2022-03-19T10:44:10.676Z"
   },
   {
    "duration": 702,
    "start_time": "2022-03-19T10:44:10.710Z"
   },
   {
    "duration": 21,
    "start_time": "2022-03-19T10:44:11.416Z"
   },
   {
    "duration": 6,
    "start_time": "2022-03-19T10:44:11.439Z"
   },
   {
    "duration": 453,
    "start_time": "2022-03-19T10:44:11.447Z"
   },
   {
    "duration": 7,
    "start_time": "2022-03-19T10:44:11.902Z"
   },
   {
    "duration": 6,
    "start_time": "2022-03-19T10:44:11.911Z"
   },
   {
    "duration": 7,
    "start_time": "2022-03-19T10:44:11.919Z"
   },
   {
    "duration": 11,
    "start_time": "2022-03-19T10:44:11.928Z"
   },
   {
    "duration": 9,
    "start_time": "2022-03-19T10:44:11.941Z"
   },
   {
    "duration": 4,
    "start_time": "2022-03-19T10:44:11.952Z"
   },
   {
    "duration": 6,
    "start_time": "2022-03-19T10:44:11.958Z"
   },
   {
    "duration": 49,
    "start_time": "2022-03-19T10:44:11.966Z"
   },
   {
    "duration": 6,
    "start_time": "2022-03-19T10:44:12.017Z"
   },
   {
    "duration": 13,
    "start_time": "2022-03-19T10:46:46.348Z"
   },
   {
    "duration": 11,
    "start_time": "2022-03-19T10:48:19.753Z"
   },
   {
    "duration": 10,
    "start_time": "2022-03-19T10:50:58.726Z"
   },
   {
    "duration": 14,
    "start_time": "2022-03-19T10:51:16.310Z"
   },
   {
    "duration": 15,
    "start_time": "2022-03-19T10:51:34.560Z"
   },
   {
    "duration": 19,
    "start_time": "2022-03-19T10:51:46.094Z"
   },
   {
    "duration": 3,
    "start_time": "2022-03-19T10:52:01.686Z"
   },
   {
    "duration": 165,
    "start_time": "2022-03-19T10:52:01.691Z"
   },
   {
    "duration": 27,
    "start_time": "2022-03-19T10:52:01.858Z"
   },
   {
    "duration": 45,
    "start_time": "2022-03-19T10:52:01.887Z"
   },
   {
    "duration": 10,
    "start_time": "2022-03-19T10:52:01.933Z"
   },
   {
    "duration": 109,
    "start_time": "2022-03-19T10:52:01.945Z"
   },
   {
    "duration": 137,
    "start_time": "2022-03-19T10:52:02.056Z"
   },
   {
    "duration": 28,
    "start_time": "2022-03-19T10:52:02.195Z"
   },
   {
    "duration": 25,
    "start_time": "2022-03-19T10:52:02.225Z"
   },
   {
    "duration": 75,
    "start_time": "2022-03-19T10:52:02.252Z"
   },
   {
    "duration": 14,
    "start_time": "2022-03-19T10:52:02.329Z"
   },
   {
    "duration": 95,
    "start_time": "2022-03-19T10:52:02.345Z"
   },
   {
    "duration": 21,
    "start_time": "2022-03-19T10:52:02.442Z"
   },
   {
    "duration": 22,
    "start_time": "2022-03-19T10:52:02.465Z"
   },
   {
    "duration": 41,
    "start_time": "2022-03-19T10:52:02.508Z"
   },
   {
    "duration": 16,
    "start_time": "2022-03-19T10:52:02.551Z"
   },
   {
    "duration": 12,
    "start_time": "2022-03-19T10:52:02.569Z"
   },
   {
    "duration": 25,
    "start_time": "2022-03-19T10:52:02.608Z"
   },
   {
    "duration": 12,
    "start_time": "2022-03-19T10:52:02.635Z"
   },
   {
    "duration": 9,
    "start_time": "2022-03-19T10:52:02.648Z"
   },
   {
    "duration": 7,
    "start_time": "2022-03-19T10:52:02.658Z"
   },
   {
    "duration": 45,
    "start_time": "2022-03-19T10:52:02.667Z"
   },
   {
    "duration": 26,
    "start_time": "2022-03-19T10:52:02.714Z"
   },
   {
    "duration": 35,
    "start_time": "2022-03-19T10:52:02.742Z"
   },
   {
    "duration": 32,
    "start_time": "2022-03-19T10:52:02.779Z"
   },
   {
    "duration": 16,
    "start_time": "2022-03-19T10:52:02.813Z"
   },
   {
    "duration": 28,
    "start_time": "2022-03-19T10:52:02.831Z"
   },
   {
    "duration": 18,
    "start_time": "2022-03-19T10:52:02.862Z"
   },
   {
    "duration": 53,
    "start_time": "2022-03-19T10:52:02.882Z"
   },
   {
    "duration": 7,
    "start_time": "2022-03-19T10:52:02.937Z"
   },
   {
    "duration": 14,
    "start_time": "2022-03-19T10:52:04.855Z"
   },
   {
    "duration": 18,
    "start_time": "2022-03-19T11:09:04.028Z"
   },
   {
    "duration": 91,
    "start_time": "2022-03-19T11:15:17.648Z"
   },
   {
    "duration": 282,
    "start_time": "2022-03-19T11:15:28.280Z"
   },
   {
    "duration": 36,
    "start_time": "2022-03-19T11:16:00.860Z"
   },
   {
    "duration": 48,
    "start_time": "2022-03-21T13:00:06.681Z"
   },
   {
    "duration": 842,
    "start_time": "2022-03-21T13:00:25.821Z"
   },
   {
    "duration": 156,
    "start_time": "2022-03-21T13:00:26.665Z"
   },
   {
    "duration": 30,
    "start_time": "2022-03-21T13:00:26.823Z"
   },
   {
    "duration": 43,
    "start_time": "2022-03-21T13:00:26.855Z"
   },
   {
    "duration": 11,
    "start_time": "2022-03-21T13:00:26.900Z"
   },
   {
    "duration": 128,
    "start_time": "2022-03-21T13:00:26.913Z"
   },
   {
    "duration": 132,
    "start_time": "2022-03-21T13:00:27.043Z"
   },
   {
    "duration": 20,
    "start_time": "2022-03-21T13:00:27.177Z"
   },
   {
    "duration": 25,
    "start_time": "2022-03-21T13:00:27.199Z"
   },
   {
    "duration": 61,
    "start_time": "2022-03-21T13:00:27.237Z"
   },
   {
    "duration": 15,
    "start_time": "2022-03-21T13:00:27.300Z"
   },
   {
    "duration": 109,
    "start_time": "2022-03-21T13:00:27.317Z"
   },
   {
    "duration": 19,
    "start_time": "2022-03-21T13:00:27.427Z"
   },
   {
    "duration": 38,
    "start_time": "2022-03-21T13:00:27.447Z"
   },
   {
    "duration": 59,
    "start_time": "2022-03-21T13:00:27.487Z"
   },
   {
    "duration": 15,
    "start_time": "2022-03-21T13:00:27.548Z"
   },
   {
    "duration": 29,
    "start_time": "2022-03-21T13:00:27.565Z"
   },
   {
    "duration": 69,
    "start_time": "2022-03-21T13:00:27.596Z"
   },
   {
    "duration": 10,
    "start_time": "2022-03-21T13:00:27.667Z"
   },
   {
    "duration": 21,
    "start_time": "2022-03-21T13:00:27.679Z"
   },
   {
    "duration": 37,
    "start_time": "2022-03-21T13:00:27.702Z"
   },
   {
    "duration": 45,
    "start_time": "2022-03-21T13:00:27.741Z"
   },
   {
    "duration": 40,
    "start_time": "2022-03-21T13:00:27.788Z"
   },
   {
    "duration": 5,
    "start_time": "2022-03-21T13:00:27.830Z"
   },
   {
    "duration": 67,
    "start_time": "2022-03-21T13:00:27.837Z"
   },
   {
    "duration": 6,
    "start_time": "2022-03-21T13:00:27.905Z"
   },
   {
    "duration": 40,
    "start_time": "2022-03-21T13:00:27.913Z"
   },
   {
    "duration": 32,
    "start_time": "2022-03-21T13:00:27.957Z"
   },
   {
    "duration": 39,
    "start_time": "2022-03-21T13:00:27.991Z"
   },
   {
    "duration": 36,
    "start_time": "2022-03-21T13:00:28.031Z"
   },
   {
    "duration": 7,
    "start_time": "2022-03-21T13:00:28.068Z"
   },
   {
    "duration": 27,
    "start_time": "2022-03-21T13:00:28.077Z"
   },
   {
    "duration": 18,
    "start_time": "2022-03-21T13:00:28.106Z"
   },
   {
    "duration": 50,
    "start_time": "2022-03-21T13:00:28.126Z"
   },
   {
    "duration": 21,
    "start_time": "2022-03-21T13:00:28.178Z"
   },
   {
    "duration": 32,
    "start_time": "2022-03-21T13:00:28.201Z"
   },
   {
    "duration": 35,
    "start_time": "2022-03-21T13:00:28.235Z"
   },
   {
    "duration": 28,
    "start_time": "2022-03-21T13:00:28.272Z"
   },
   {
    "duration": 46,
    "start_time": "2022-03-21T13:00:28.301Z"
   },
   {
    "duration": 20,
    "start_time": "2022-03-21T13:00:28.349Z"
   },
   {
    "duration": 881,
    "start_time": "2022-03-21T13:00:28.372Z"
   },
   {
    "duration": 21,
    "start_time": "2022-03-21T13:00:29.255Z"
   },
   {
    "duration": 42,
    "start_time": "2022-03-21T13:00:29.278Z"
   },
   {
    "duration": 413,
    "start_time": "2022-03-21T13:00:29.322Z"
   },
   {
    "duration": 250,
    "start_time": "2022-03-21T13:00:29.737Z"
   },
   {
    "duration": 32,
    "start_time": "2022-03-21T13:00:29.989Z"
   },
   {
    "duration": 15,
    "start_time": "2022-03-21T13:00:30.023Z"
   },
   {
    "duration": 26,
    "start_time": "2022-03-21T13:00:30.040Z"
   },
   {
    "duration": 32,
    "start_time": "2022-03-21T13:00:30.067Z"
   },
   {
    "duration": 41,
    "start_time": "2022-03-21T13:00:30.100Z"
   },
   {
    "duration": 53,
    "start_time": "2022-03-21T13:00:30.143Z"
   },
   {
    "duration": 32,
    "start_time": "2022-03-21T13:00:30.198Z"
   },
   {
    "duration": 36,
    "start_time": "2022-03-21T13:00:30.232Z"
   },
   {
    "duration": 42,
    "start_time": "2022-03-21T13:00:30.269Z"
   },
   {
    "duration": 47,
    "start_time": "2022-03-21T13:00:30.313Z"
   },
   {
    "duration": 747,
    "start_time": "2022-03-21T13:01:05.140Z"
   },
   {
    "duration": 844,
    "start_time": "2022-03-21T13:01:18.042Z"
   },
   {
    "duration": 189,
    "start_time": "2022-03-21T13:01:18.888Z"
   },
   {
    "duration": 24,
    "start_time": "2022-03-21T13:01:19.079Z"
   },
   {
    "duration": 46,
    "start_time": "2022-03-21T13:01:19.105Z"
   },
   {
    "duration": 10,
    "start_time": "2022-03-21T13:01:19.153Z"
   },
   {
    "duration": 109,
    "start_time": "2022-03-21T13:01:19.164Z"
   },
   {
    "duration": 133,
    "start_time": "2022-03-21T13:01:19.275Z"
   },
   {
    "duration": 21,
    "start_time": "2022-03-21T13:01:19.410Z"
   },
   {
    "duration": 25,
    "start_time": "2022-03-21T13:01:19.432Z"
   },
   {
    "duration": 66,
    "start_time": "2022-03-21T13:01:19.459Z"
   },
   {
    "duration": 15,
    "start_time": "2022-03-21T13:01:19.526Z"
   },
   {
    "duration": 95,
    "start_time": "2022-03-21T13:01:19.543Z"
   },
   {
    "duration": 17,
    "start_time": "2022-03-21T13:01:19.640Z"
   },
   {
    "duration": 45,
    "start_time": "2022-03-21T13:01:19.659Z"
   },
   {
    "duration": 43,
    "start_time": "2022-03-21T13:01:19.706Z"
   },
   {
    "duration": 15,
    "start_time": "2022-03-21T13:01:19.750Z"
   },
   {
    "duration": 9,
    "start_time": "2022-03-21T13:01:19.767Z"
   },
   {
    "duration": 59,
    "start_time": "2022-03-21T13:01:19.778Z"
   },
   {
    "duration": 10,
    "start_time": "2022-03-21T13:01:19.838Z"
   },
   {
    "duration": 24,
    "start_time": "2022-03-21T13:01:19.850Z"
   },
   {
    "duration": 7,
    "start_time": "2022-03-21T13:01:19.875Z"
   },
   {
    "duration": 61,
    "start_time": "2022-03-21T13:01:19.883Z"
   },
   {
    "duration": 25,
    "start_time": "2022-03-21T13:01:19.946Z"
   },
   {
    "duration": 4,
    "start_time": "2022-03-21T13:01:19.972Z"
   },
   {
    "duration": 66,
    "start_time": "2022-03-21T13:01:19.978Z"
   },
   {
    "duration": 5,
    "start_time": "2022-03-21T13:01:20.046Z"
   },
   {
    "duration": 20,
    "start_time": "2022-03-21T13:01:20.053Z"
   },
   {
    "duration": 79,
    "start_time": "2022-03-21T13:01:20.077Z"
   },
   {
    "duration": 15,
    "start_time": "2022-03-21T13:01:20.158Z"
   },
   {
    "duration": 86,
    "start_time": "2022-03-21T13:01:20.175Z"
   },
   {
    "duration": 7,
    "start_time": "2022-03-21T13:01:20.263Z"
   },
   {
    "duration": 33,
    "start_time": "2022-03-21T13:01:20.271Z"
   },
   {
    "duration": 29,
    "start_time": "2022-03-21T13:01:20.306Z"
   },
   {
    "duration": 31,
    "start_time": "2022-03-21T13:01:20.337Z"
   },
   {
    "duration": 22,
    "start_time": "2022-03-21T13:01:20.370Z"
   },
   {
    "duration": 17,
    "start_time": "2022-03-21T13:01:20.394Z"
   },
   {
    "duration": 37,
    "start_time": "2022-03-21T13:01:20.413Z"
   },
   {
    "duration": 23,
    "start_time": "2022-03-21T13:01:20.451Z"
   },
   {
    "duration": 27,
    "start_time": "2022-03-21T13:01:20.476Z"
   },
   {
    "duration": 15,
    "start_time": "2022-03-21T13:01:20.505Z"
   },
   {
    "duration": 698,
    "start_time": "2022-03-21T13:01:20.521Z"
   },
   {
    "duration": 27,
    "start_time": "2022-03-21T13:01:21.220Z"
   },
   {
    "duration": 7,
    "start_time": "2022-03-21T13:01:21.248Z"
   },
   {
    "duration": 423,
    "start_time": "2022-03-21T13:01:21.256Z"
   },
   {
    "duration": 246,
    "start_time": "2022-03-21T13:01:21.681Z"
   },
   {
    "duration": 36,
    "start_time": "2022-03-21T13:01:21.929Z"
   },
   {
    "duration": 6,
    "start_time": "2022-03-21T13:01:21.967Z"
   },
   {
    "duration": 21,
    "start_time": "2022-03-21T13:01:21.974Z"
   },
   {
    "duration": 41,
    "start_time": "2022-03-21T13:01:21.996Z"
   },
   {
    "duration": 22,
    "start_time": "2022-03-21T13:01:22.039Z"
   },
   {
    "duration": 20,
    "start_time": "2022-03-21T13:01:22.063Z"
   },
   {
    "duration": 29,
    "start_time": "2022-03-21T13:01:22.085Z"
   },
   {
    "duration": 22,
    "start_time": "2022-03-21T13:01:22.115Z"
   },
   {
    "duration": 40,
    "start_time": "2022-03-21T13:01:22.138Z"
   },
   {
    "duration": 21,
    "start_time": "2022-03-21T13:01:22.179Z"
   },
   {
    "duration": 17,
    "start_time": "2022-03-21T15:33:40.050Z"
   },
   {
    "duration": 28,
    "start_time": "2022-03-21T15:33:40.723Z"
   },
   {
    "duration": 25,
    "start_time": "2022-03-21T15:33:46.912Z"
   },
   {
    "duration": 39,
    "start_time": "2022-03-21T15:33:59.055Z"
   },
   {
    "duration": 30,
    "start_time": "2022-03-21T15:34:07.284Z"
   },
   {
    "duration": 924,
    "start_time": "2022-03-21T15:36:30.745Z"
   },
   {
    "duration": 175,
    "start_time": "2022-03-21T15:36:31.671Z"
   },
   {
    "duration": 45,
    "start_time": "2022-03-21T15:36:31.848Z"
   },
   {
    "duration": 55,
    "start_time": "2022-03-21T15:36:31.896Z"
   },
   {
    "duration": 13,
    "start_time": "2022-03-21T15:36:31.953Z"
   },
   {
    "duration": 150,
    "start_time": "2022-03-21T15:36:31.968Z"
   },
   {
    "duration": 167,
    "start_time": "2022-03-21T15:36:32.120Z"
   },
   {
    "duration": 22,
    "start_time": "2022-03-21T15:36:32.289Z"
   },
   {
    "duration": 68,
    "start_time": "2022-03-21T15:36:32.313Z"
   },
   {
    "duration": 66,
    "start_time": "2022-03-21T15:36:32.384Z"
   },
   {
    "duration": 18,
    "start_time": "2022-03-21T15:36:32.452Z"
   },
   {
    "duration": 98,
    "start_time": "2022-03-21T15:36:32.472Z"
   },
   {
    "duration": 20,
    "start_time": "2022-03-21T15:36:32.572Z"
   },
   {
    "duration": 35,
    "start_time": "2022-03-21T15:36:32.594Z"
   },
   {
    "duration": 52,
    "start_time": "2022-03-21T15:36:32.630Z"
   },
   {
    "duration": 17,
    "start_time": "2022-03-21T15:36:32.684Z"
   },
   {
    "duration": 11,
    "start_time": "2022-03-21T15:36:32.703Z"
   },
   {
    "duration": 54,
    "start_time": "2022-03-21T15:36:32.715Z"
   },
   {
    "duration": 10,
    "start_time": "2022-03-21T15:36:32.771Z"
   },
   {
    "duration": 32,
    "start_time": "2022-03-21T15:36:32.783Z"
   },
   {
    "duration": 21,
    "start_time": "2022-03-21T15:36:32.817Z"
   },
   {
    "duration": 44,
    "start_time": "2022-03-21T15:36:32.839Z"
   },
   {
    "duration": 30,
    "start_time": "2022-03-21T15:36:32.885Z"
   },
   {
    "duration": 6,
    "start_time": "2022-03-21T15:36:32.916Z"
   },
   {
    "duration": 69,
    "start_time": "2022-03-21T15:36:32.923Z"
   },
   {
    "duration": 5,
    "start_time": "2022-03-21T15:36:32.993Z"
   },
   {
    "duration": 32,
    "start_time": "2022-03-21T15:36:32.999Z"
   },
   {
    "duration": 35,
    "start_time": "2022-03-21T15:36:33.035Z"
   },
   {
    "duration": 16,
    "start_time": "2022-03-21T15:36:33.072Z"
   },
   {
    "duration": 37,
    "start_time": "2022-03-21T15:36:33.090Z"
   },
   {
    "duration": 8,
    "start_time": "2022-03-21T15:36:33.129Z"
   },
   {
    "duration": 24,
    "start_time": "2022-03-21T15:36:33.139Z"
   },
   {
    "duration": 18,
    "start_time": "2022-03-21T15:36:33.165Z"
   },
   {
    "duration": 38,
    "start_time": "2022-03-21T15:36:33.185Z"
   },
   {
    "duration": 27,
    "start_time": "2022-03-21T15:36:33.225Z"
   },
   {
    "duration": 2394,
    "start_time": "2022-03-21T15:36:33.254Z"
   },
   {
    "duration": 1,
    "start_time": "2022-03-21T15:36:35.649Z"
   },
   {
    "duration": 0,
    "start_time": "2022-03-21T15:36:35.651Z"
   },
   {
    "duration": 0,
    "start_time": "2022-03-21T15:36:35.652Z"
   },
   {
    "duration": 0,
    "start_time": "2022-03-21T15:36:35.653Z"
   },
   {
    "duration": 0,
    "start_time": "2022-03-21T15:36:35.654Z"
   },
   {
    "duration": 0,
    "start_time": "2022-03-21T15:36:35.655Z"
   },
   {
    "duration": 0,
    "start_time": "2022-03-21T15:36:35.656Z"
   },
   {
    "duration": 0,
    "start_time": "2022-03-21T15:36:35.657Z"
   },
   {
    "duration": 0,
    "start_time": "2022-03-21T15:36:35.658Z"
   },
   {
    "duration": 0,
    "start_time": "2022-03-21T15:36:35.659Z"
   },
   {
    "duration": 0,
    "start_time": "2022-03-21T15:36:35.660Z"
   },
   {
    "duration": 0,
    "start_time": "2022-03-21T15:36:35.660Z"
   },
   {
    "duration": 0,
    "start_time": "2022-03-21T15:36:35.662Z"
   },
   {
    "duration": 0,
    "start_time": "2022-03-21T15:36:35.663Z"
   },
   {
    "duration": 0,
    "start_time": "2022-03-21T15:36:35.663Z"
   },
   {
    "duration": 0,
    "start_time": "2022-03-21T15:36:35.665Z"
   },
   {
    "duration": 0,
    "start_time": "2022-03-21T15:36:35.665Z"
   },
   {
    "duration": 0,
    "start_time": "2022-03-21T15:36:35.667Z"
   },
   {
    "duration": 0,
    "start_time": "2022-03-21T15:36:35.668Z"
   },
   {
    "duration": 25,
    "start_time": "2022-03-21T15:38:23.542Z"
   },
   {
    "duration": 876,
    "start_time": "2022-03-21T15:38:29.687Z"
   },
   {
    "duration": 161,
    "start_time": "2022-03-21T15:38:30.565Z"
   },
   {
    "duration": 31,
    "start_time": "2022-03-21T15:38:30.728Z"
   },
   {
    "duration": 35,
    "start_time": "2022-03-21T15:38:30.761Z"
   },
   {
    "duration": 12,
    "start_time": "2022-03-21T15:38:30.798Z"
   },
   {
    "duration": 143,
    "start_time": "2022-03-21T15:38:30.812Z"
   },
   {
    "duration": 156,
    "start_time": "2022-03-21T15:38:30.956Z"
   },
   {
    "duration": 28,
    "start_time": "2022-03-21T15:38:31.114Z"
   },
   {
    "duration": 55,
    "start_time": "2022-03-21T15:38:31.144Z"
   },
   {
    "duration": 66,
    "start_time": "2022-03-21T15:38:31.202Z"
   },
   {
    "duration": 16,
    "start_time": "2022-03-21T15:38:31.270Z"
   },
   {
    "duration": 108,
    "start_time": "2022-03-21T15:38:31.288Z"
   },
   {
    "duration": 20,
    "start_time": "2022-03-21T15:38:31.398Z"
   },
   {
    "duration": 41,
    "start_time": "2022-03-21T15:38:31.419Z"
   },
   {
    "duration": 50,
    "start_time": "2022-03-21T15:38:31.462Z"
   },
   {
    "duration": 31,
    "start_time": "2022-03-21T15:38:31.513Z"
   },
   {
    "duration": 12,
    "start_time": "2022-03-21T15:38:31.546Z"
   },
   {
    "duration": 42,
    "start_time": "2022-03-21T15:38:31.560Z"
   },
   {
    "duration": 13,
    "start_time": "2022-03-21T15:38:31.604Z"
   },
   {
    "duration": 11,
    "start_time": "2022-03-21T15:38:31.619Z"
   },
   {
    "duration": 13,
    "start_time": "2022-03-21T15:38:31.632Z"
   },
   {
    "duration": 32,
    "start_time": "2022-03-21T15:38:31.647Z"
   },
   {
    "duration": 32,
    "start_time": "2022-03-21T15:38:31.681Z"
   },
   {
    "duration": 25,
    "start_time": "2022-03-21T15:38:31.715Z"
   },
   {
    "duration": 45,
    "start_time": "2022-03-21T15:38:31.742Z"
   },
   {
    "duration": 5,
    "start_time": "2022-03-21T15:38:31.789Z"
   },
   {
    "duration": 22,
    "start_time": "2022-03-21T15:38:31.796Z"
   },
   {
    "duration": 36,
    "start_time": "2022-03-21T15:38:31.839Z"
   },
   {
    "duration": 19,
    "start_time": "2022-03-21T15:38:31.877Z"
   },
   {
    "duration": 54,
    "start_time": "2022-03-21T15:38:31.898Z"
   },
   {
    "duration": 9,
    "start_time": "2022-03-21T15:38:31.954Z"
   },
   {
    "duration": 26,
    "start_time": "2022-03-21T15:38:31.964Z"
   },
   {
    "duration": 14,
    "start_time": "2022-03-21T15:38:31.992Z"
   },
   {
    "duration": 49,
    "start_time": "2022-03-21T15:38:32.008Z"
   },
   {
    "duration": 44,
    "start_time": "2022-03-21T15:38:32.060Z"
   },
   {
    "duration": 21,
    "start_time": "2022-03-21T15:38:32.106Z"
   },
   {
    "duration": 35,
    "start_time": "2022-03-21T15:38:32.129Z"
   },
   {
    "duration": 26,
    "start_time": "2022-03-21T15:38:32.166Z"
   },
   {
    "duration": 36,
    "start_time": "2022-03-21T15:38:32.194Z"
   },
   {
    "duration": 8,
    "start_time": "2022-03-21T15:38:32.232Z"
   },
   {
    "duration": 808,
    "start_time": "2022-03-21T15:38:32.242Z"
   },
   {
    "duration": 29,
    "start_time": "2022-03-21T15:38:33.053Z"
   },
   {
    "duration": 10,
    "start_time": "2022-03-21T15:38:33.084Z"
   },
   {
    "duration": 463,
    "start_time": "2022-03-21T15:38:33.096Z"
   },
   {
    "duration": 265,
    "start_time": "2022-03-21T15:38:33.561Z"
   },
   {
    "duration": 40,
    "start_time": "2022-03-21T15:38:33.828Z"
   },
   {
    "duration": 3,
    "start_time": "2022-03-21T15:38:33.870Z"
   },
   {
    "duration": 18,
    "start_time": "2022-03-21T15:38:33.874Z"
   },
   {
    "duration": 22,
    "start_time": "2022-03-21T15:38:33.893Z"
   },
   {
    "duration": 22,
    "start_time": "2022-03-21T15:38:33.917Z"
   },
   {
    "duration": 33,
    "start_time": "2022-03-21T15:38:33.941Z"
   },
   {
    "duration": 6,
    "start_time": "2022-03-21T15:38:33.976Z"
   },
   {
    "duration": 14,
    "start_time": "2022-03-21T15:38:33.983Z"
   },
   {
    "duration": 11,
    "start_time": "2022-03-21T15:38:33.999Z"
   },
   {
    "duration": 19,
    "start_time": "2022-03-21T15:38:34.011Z"
   },
   {
    "duration": 10,
    "start_time": "2022-03-21T15:52:55.566Z"
   },
   {
    "duration": 11,
    "start_time": "2022-03-21T15:52:57.660Z"
   },
   {
    "duration": 6,
    "start_time": "2022-03-21T15:53:03.919Z"
   },
   {
    "duration": 26,
    "start_time": "2022-03-21T15:53:13.577Z"
   },
   {
    "duration": 25,
    "start_time": "2022-03-21T15:53:22.437Z"
   },
   {
    "duration": 27,
    "start_time": "2022-03-21T15:53:28.854Z"
   },
   {
    "duration": 878,
    "start_time": "2022-03-21T15:53:44.306Z"
   },
   {
    "duration": 162,
    "start_time": "2022-03-21T15:53:45.187Z"
   },
   {
    "duration": 28,
    "start_time": "2022-03-21T15:53:45.350Z"
   },
   {
    "duration": 34,
    "start_time": "2022-03-21T15:53:45.381Z"
   },
   {
    "duration": 28,
    "start_time": "2022-03-21T15:53:45.417Z"
   },
   {
    "duration": 117,
    "start_time": "2022-03-21T15:53:45.447Z"
   },
   {
    "duration": 140,
    "start_time": "2022-03-21T15:53:45.566Z"
   },
   {
    "duration": 31,
    "start_time": "2022-03-21T15:53:45.707Z"
   },
   {
    "duration": 24,
    "start_time": "2022-03-21T15:53:45.740Z"
   },
   {
    "duration": 72,
    "start_time": "2022-03-21T15:53:45.766Z"
   },
   {
    "duration": 14,
    "start_time": "2022-03-21T15:53:45.840Z"
   },
   {
    "duration": 100,
    "start_time": "2022-03-21T15:53:45.856Z"
   },
   {
    "duration": 20,
    "start_time": "2022-03-21T15:53:45.957Z"
   },
   {
    "duration": 27,
    "start_time": "2022-03-21T15:53:45.979Z"
   },
   {
    "duration": 69,
    "start_time": "2022-03-21T15:53:46.008Z"
   },
   {
    "duration": 17,
    "start_time": "2022-03-21T15:53:46.080Z"
   },
   {
    "duration": 12,
    "start_time": "2022-03-21T15:53:46.098Z"
   },
   {
    "duration": 41,
    "start_time": "2022-03-21T15:53:46.112Z"
   },
   {
    "duration": 11,
    "start_time": "2022-03-21T15:53:46.154Z"
   },
   {
    "duration": 7,
    "start_time": "2022-03-21T15:53:46.167Z"
   },
   {
    "duration": 12,
    "start_time": "2022-03-21T15:53:46.176Z"
   },
   {
    "duration": 23,
    "start_time": "2022-03-21T15:53:46.190Z"
   },
   {
    "duration": 39,
    "start_time": "2022-03-21T15:53:46.215Z"
   },
   {
    "duration": 5,
    "start_time": "2022-03-21T15:53:46.256Z"
   },
   {
    "duration": 42,
    "start_time": "2022-03-21T15:53:46.262Z"
   },
   {
    "duration": 5,
    "start_time": "2022-03-21T15:53:46.305Z"
   },
   {
    "duration": 37,
    "start_time": "2022-03-21T15:53:46.311Z"
   },
   {
    "duration": 28,
    "start_time": "2022-03-21T15:53:46.352Z"
   },
   {
    "duration": 17,
    "start_time": "2022-03-21T15:53:46.382Z"
   },
   {
    "duration": 48,
    "start_time": "2022-03-21T15:53:46.401Z"
   },
   {
    "duration": 8,
    "start_time": "2022-03-21T15:53:46.451Z"
   },
   {
    "duration": 11,
    "start_time": "2022-03-21T15:53:46.461Z"
   },
   {
    "duration": 6,
    "start_time": "2022-03-21T15:53:46.474Z"
   },
   {
    "duration": 27,
    "start_time": "2022-03-21T15:53:46.481Z"
   },
   {
    "duration": 45,
    "start_time": "2022-03-21T15:53:46.510Z"
   },
   {
    "duration": 16,
    "start_time": "2022-03-21T15:53:46.556Z"
   },
   {
    "duration": 21,
    "start_time": "2022-03-21T15:53:46.573Z"
   },
   {
    "duration": 43,
    "start_time": "2022-03-21T15:53:46.596Z"
   },
   {
    "duration": 21,
    "start_time": "2022-03-21T15:53:46.641Z"
   },
   {
    "duration": 6,
    "start_time": "2022-03-21T15:53:46.664Z"
   },
   {
    "duration": 713,
    "start_time": "2022-03-21T15:53:46.672Z"
   },
   {
    "duration": 22,
    "start_time": "2022-03-21T15:53:47.387Z"
   },
   {
    "duration": 6,
    "start_time": "2022-03-21T15:53:47.411Z"
   },
   {
    "duration": 434,
    "start_time": "2022-03-21T15:53:47.418Z"
   },
   {
    "duration": 254,
    "start_time": "2022-03-21T15:53:47.854Z"
   },
   {
    "duration": 41,
    "start_time": "2022-03-21T15:53:48.110Z"
   },
   {
    "duration": 3,
    "start_time": "2022-03-21T15:53:48.153Z"
   },
   {
    "duration": 11,
    "start_time": "2022-03-21T15:53:48.157Z"
   },
   {
    "duration": 20,
    "start_time": "2022-03-21T15:53:48.170Z"
   },
   {
    "duration": 14,
    "start_time": "2022-03-21T15:53:48.192Z"
   },
   {
    "duration": 25,
    "start_time": "2022-03-21T15:53:48.207Z"
   },
   {
    "duration": 7,
    "start_time": "2022-03-21T15:53:48.233Z"
   },
   {
    "duration": 13,
    "start_time": "2022-03-21T15:53:48.241Z"
   },
   {
    "duration": 22,
    "start_time": "2022-03-21T15:53:48.255Z"
   },
   {
    "duration": 9,
    "start_time": "2022-03-21T15:53:48.279Z"
   },
   {
    "duration": 119,
    "start_time": "2022-03-21T15:55:43.206Z"
   },
   {
    "duration": 898,
    "start_time": "2022-03-21T15:58:11.666Z"
   },
   {
    "duration": 174,
    "start_time": "2022-03-21T15:58:12.566Z"
   },
   {
    "duration": 26,
    "start_time": "2022-03-21T15:58:12.742Z"
   },
   {
    "duration": 36,
    "start_time": "2022-03-21T15:58:12.771Z"
   },
   {
    "duration": 30,
    "start_time": "2022-03-21T15:58:12.809Z"
   },
   {
    "duration": 122,
    "start_time": "2022-03-21T15:58:12.841Z"
   },
   {
    "duration": 152,
    "start_time": "2022-03-21T15:58:12.964Z"
   },
   {
    "duration": 31,
    "start_time": "2022-03-21T15:58:13.118Z"
   },
   {
    "duration": 25,
    "start_time": "2022-03-21T15:58:13.151Z"
   },
   {
    "duration": 78,
    "start_time": "2022-03-21T15:58:13.179Z"
   },
   {
    "duration": 15,
    "start_time": "2022-03-21T15:58:13.259Z"
   },
   {
    "duration": 103,
    "start_time": "2022-03-21T15:58:13.275Z"
   },
   {
    "duration": 18,
    "start_time": "2022-03-21T15:58:13.380Z"
   },
   {
    "duration": 38,
    "start_time": "2022-03-21T15:58:13.400Z"
   },
   {
    "duration": 48,
    "start_time": "2022-03-21T15:58:13.440Z"
   },
   {
    "duration": 15,
    "start_time": "2022-03-21T15:58:13.490Z"
   },
   {
    "duration": 10,
    "start_time": "2022-03-21T15:58:13.508Z"
   },
   {
    "duration": 29,
    "start_time": "2022-03-21T15:58:13.537Z"
   },
   {
    "duration": 11,
    "start_time": "2022-03-21T15:58:13.567Z"
   },
   {
    "duration": 12,
    "start_time": "2022-03-21T15:58:13.581Z"
   },
   {
    "duration": 7,
    "start_time": "2022-03-21T15:58:13.595Z"
   },
   {
    "duration": 36,
    "start_time": "2022-03-21T15:58:13.604Z"
   },
   {
    "duration": 28,
    "start_time": "2022-03-21T15:58:13.642Z"
   },
   {
    "duration": 5,
    "start_time": "2022-03-21T15:58:13.672Z"
   },
   {
    "duration": 66,
    "start_time": "2022-03-21T15:58:13.679Z"
   },
   {
    "duration": 5,
    "start_time": "2022-03-21T15:58:13.747Z"
   },
   {
    "duration": 19,
    "start_time": "2022-03-21T15:58:13.754Z"
   },
   {
    "duration": 30,
    "start_time": "2022-03-21T15:58:13.777Z"
   },
   {
    "duration": 33,
    "start_time": "2022-03-21T15:58:13.809Z"
   },
   {
    "duration": 28,
    "start_time": "2022-03-21T15:58:13.844Z"
   },
   {
    "duration": 9,
    "start_time": "2022-03-21T15:58:13.874Z"
   },
   {
    "duration": 23,
    "start_time": "2022-03-21T15:58:13.884Z"
   },
   {
    "duration": 6,
    "start_time": "2022-03-21T15:58:13.909Z"
   },
   {
    "duration": 47,
    "start_time": "2022-03-21T15:58:13.917Z"
   },
   {
    "duration": 24,
    "start_time": "2022-03-21T15:58:13.966Z"
   },
   {
    "duration": 18,
    "start_time": "2022-03-21T15:58:13.992Z"
   },
   {
    "duration": 45,
    "start_time": "2022-03-21T15:58:14.012Z"
   },
   {
    "duration": 24,
    "start_time": "2022-03-21T15:58:14.059Z"
   },
   {
    "duration": 21,
    "start_time": "2022-03-21T15:58:14.085Z"
   },
   {
    "duration": 7,
    "start_time": "2022-03-21T15:58:14.108Z"
   },
   {
    "duration": 899,
    "start_time": "2022-03-21T15:58:14.139Z"
   },
   {
    "duration": 26,
    "start_time": "2022-03-21T15:58:15.040Z"
   },
   {
    "duration": 8,
    "start_time": "2022-03-21T15:58:15.067Z"
   },
   {
    "duration": 439,
    "start_time": "2022-03-21T15:58:15.077Z"
   },
   {
    "duration": 268,
    "start_time": "2022-03-21T15:58:15.518Z"
   },
   {
    "duration": 30,
    "start_time": "2022-03-21T15:58:15.788Z"
   },
   {
    "duration": 3,
    "start_time": "2022-03-21T15:58:15.819Z"
   },
   {
    "duration": 19,
    "start_time": "2022-03-21T15:58:15.823Z"
   },
   {
    "duration": 6,
    "start_time": "2022-03-21T15:58:15.844Z"
   },
   {
    "duration": 12,
    "start_time": "2022-03-21T15:58:15.852Z"
   },
   {
    "duration": 11,
    "start_time": "2022-03-21T15:58:15.866Z"
   },
   {
    "duration": 5,
    "start_time": "2022-03-21T15:58:15.879Z"
   },
   {
    "duration": 10,
    "start_time": "2022-03-21T15:58:15.886Z"
   },
   {
    "duration": 15,
    "start_time": "2022-03-21T15:58:15.897Z"
   },
   {
    "duration": 28,
    "start_time": "2022-03-21T15:58:15.913Z"
   },
   {
    "duration": 25,
    "start_time": "2022-03-21T16:11:42.588Z"
   },
   {
    "duration": 27,
    "start_time": "2022-03-21T16:12:26.589Z"
   },
   {
    "duration": 800,
    "start_time": "2022-03-21T16:13:12.260Z"
   },
   {
    "duration": 165,
    "start_time": "2022-03-21T16:13:13.062Z"
   },
   {
    "duration": 29,
    "start_time": "2022-03-21T16:13:13.229Z"
   },
   {
    "duration": 42,
    "start_time": "2022-03-21T16:13:13.261Z"
   },
   {
    "duration": 12,
    "start_time": "2022-03-21T16:13:13.305Z"
   },
   {
    "duration": 131,
    "start_time": "2022-03-21T16:13:13.319Z"
   },
   {
    "duration": 143,
    "start_time": "2022-03-21T16:13:13.451Z"
   },
   {
    "duration": 21,
    "start_time": "2022-03-21T16:13:13.596Z"
   },
   {
    "duration": 39,
    "start_time": "2022-03-21T16:13:13.618Z"
   },
   {
    "duration": 79,
    "start_time": "2022-03-21T16:13:13.660Z"
   },
   {
    "duration": 18,
    "start_time": "2022-03-21T16:13:13.741Z"
   },
   {
    "duration": 105,
    "start_time": "2022-03-21T16:13:13.761Z"
   },
   {
    "duration": 21,
    "start_time": "2022-03-21T16:13:13.868Z"
   },
   {
    "duration": 21,
    "start_time": "2022-03-21T16:13:13.892Z"
   },
   {
    "duration": 69,
    "start_time": "2022-03-21T16:13:13.915Z"
   },
   {
    "duration": 16,
    "start_time": "2022-03-21T16:13:13.986Z"
   },
   {
    "duration": 11,
    "start_time": "2022-03-21T16:13:14.004Z"
   },
   {
    "duration": 73,
    "start_time": "2022-03-21T16:13:14.016Z"
   },
   {
    "duration": 11,
    "start_time": "2022-03-21T16:13:14.091Z"
   },
   {
    "duration": 38,
    "start_time": "2022-03-21T16:13:14.104Z"
   },
   {
    "duration": 8,
    "start_time": "2022-03-21T16:13:14.145Z"
   },
   {
    "duration": 34,
    "start_time": "2022-03-21T16:13:14.154Z"
   },
   {
    "duration": 27,
    "start_time": "2022-03-21T16:13:14.190Z"
   },
   {
    "duration": 18,
    "start_time": "2022-03-21T16:13:14.219Z"
   },
   {
    "duration": 40,
    "start_time": "2022-03-21T16:13:14.240Z"
   },
   {
    "duration": 7,
    "start_time": "2022-03-21T16:13:14.282Z"
   },
   {
    "duration": 48,
    "start_time": "2022-03-21T16:13:14.290Z"
   },
   {
    "duration": 30,
    "start_time": "2022-03-21T16:13:14.343Z"
   },
   {
    "duration": 18,
    "start_time": "2022-03-21T16:13:14.375Z"
   },
   {
    "duration": 52,
    "start_time": "2022-03-21T16:13:14.395Z"
   },
   {
    "duration": 10,
    "start_time": "2022-03-21T16:13:14.449Z"
   },
   {
    "duration": 42,
    "start_time": "2022-03-21T16:13:14.460Z"
   },
   {
    "duration": 12,
    "start_time": "2022-03-21T16:13:14.504Z"
   },
   {
    "duration": 43,
    "start_time": "2022-03-21T16:13:14.518Z"
   },
   {
    "duration": 27,
    "start_time": "2022-03-21T16:13:14.563Z"
   },
   {
    "duration": 20,
    "start_time": "2022-03-21T16:13:14.592Z"
   },
   {
    "duration": 44,
    "start_time": "2022-03-21T16:13:14.614Z"
   },
   {
    "duration": 19,
    "start_time": "2022-03-21T16:13:14.660Z"
   },
   {
    "duration": 21,
    "start_time": "2022-03-21T16:13:14.681Z"
   },
   {
    "duration": 34,
    "start_time": "2022-03-21T16:13:14.704Z"
   },
   {
    "duration": 735,
    "start_time": "2022-03-21T16:13:14.741Z"
   },
   {
    "duration": 20,
    "start_time": "2022-03-21T16:13:15.478Z"
   },
   {
    "duration": 6,
    "start_time": "2022-03-21T16:13:15.500Z"
   },
   {
    "duration": 468,
    "start_time": "2022-03-21T16:13:15.507Z"
   },
   {
    "duration": 575,
    "start_time": "2022-03-21T16:13:15.976Z"
   },
   {
    "duration": 86,
    "start_time": "2022-03-21T16:13:16.553Z"
   },
   {
    "duration": 2,
    "start_time": "2022-03-21T16:13:16.641Z"
   },
   {
    "duration": 9,
    "start_time": "2022-03-21T16:13:16.645Z"
   },
   {
    "duration": 7,
    "start_time": "2022-03-21T16:13:16.656Z"
   },
   {
    "duration": 17,
    "start_time": "2022-03-21T16:13:16.664Z"
   },
   {
    "duration": 59,
    "start_time": "2022-03-21T16:13:16.683Z"
   },
   {
    "duration": 7,
    "start_time": "2022-03-21T16:13:16.744Z"
   },
   {
    "duration": 23,
    "start_time": "2022-03-21T16:13:16.752Z"
   },
   {
    "duration": 12,
    "start_time": "2022-03-21T16:13:16.777Z"
   },
   {
    "duration": 48,
    "start_time": "2022-03-21T16:13:16.791Z"
   },
   {
    "duration": 17,
    "start_time": "2022-03-21T16:26:47.764Z"
   },
   {
    "duration": 94,
    "start_time": "2022-03-21T16:28:18.047Z"
   },
   {
    "duration": 12,
    "start_time": "2022-03-21T16:28:26.528Z"
   },
   {
    "duration": 18,
    "start_time": "2022-03-21T16:28:31.917Z"
   },
   {
    "duration": 801,
    "start_time": "2022-03-21T16:45:46.044Z"
   },
   {
    "duration": 171,
    "start_time": "2022-03-21T16:45:46.847Z"
   },
   {
    "duration": 31,
    "start_time": "2022-03-21T16:45:47.021Z"
   },
   {
    "duration": 37,
    "start_time": "2022-03-21T16:45:47.054Z"
   },
   {
    "duration": 12,
    "start_time": "2022-03-21T16:45:47.094Z"
   },
   {
    "duration": 131,
    "start_time": "2022-03-21T16:45:47.108Z"
   },
   {
    "duration": 143,
    "start_time": "2022-03-21T16:45:47.241Z"
   },
   {
    "duration": 21,
    "start_time": "2022-03-21T16:45:47.386Z"
   },
   {
    "duration": 41,
    "start_time": "2022-03-21T16:45:47.409Z"
   },
   {
    "duration": 63,
    "start_time": "2022-03-21T16:45:47.452Z"
   },
   {
    "duration": 34,
    "start_time": "2022-03-21T16:45:47.517Z"
   },
   {
    "duration": 101,
    "start_time": "2022-03-21T16:45:47.552Z"
   },
   {
    "duration": 18,
    "start_time": "2022-03-21T16:45:47.655Z"
   },
   {
    "duration": 22,
    "start_time": "2022-03-21T16:45:47.676Z"
   },
   {
    "duration": 65,
    "start_time": "2022-03-21T16:45:47.700Z"
   },
   {
    "duration": 15,
    "start_time": "2022-03-21T16:45:47.767Z"
   },
   {
    "duration": 10,
    "start_time": "2022-03-21T16:45:47.784Z"
   },
   {
    "duration": 36,
    "start_time": "2022-03-21T16:45:47.796Z"
   },
   {
    "duration": 11,
    "start_time": "2022-03-21T16:45:47.834Z"
   },
   {
    "duration": 7,
    "start_time": "2022-03-21T16:45:47.847Z"
   },
   {
    "duration": 5,
    "start_time": "2022-03-21T16:45:47.856Z"
   },
   {
    "duration": 24,
    "start_time": "2022-03-21T16:45:47.863Z"
   },
   {
    "duration": 51,
    "start_time": "2022-03-21T16:45:47.888Z"
   },
   {
    "duration": 5,
    "start_time": "2022-03-21T16:45:47.941Z"
   },
   {
    "duration": 44,
    "start_time": "2022-03-21T16:45:47.947Z"
   },
   {
    "duration": 5,
    "start_time": "2022-03-21T16:45:47.993Z"
   },
   {
    "duration": 39,
    "start_time": "2022-03-21T16:45:47.999Z"
   },
   {
    "duration": 30,
    "start_time": "2022-03-21T16:45:48.039Z"
   },
   {
    "duration": 17,
    "start_time": "2022-03-21T16:45:48.070Z"
   },
   {
    "duration": 29,
    "start_time": "2022-03-21T16:45:48.088Z"
   },
   {
    "duration": 9,
    "start_time": "2022-03-21T16:45:48.137Z"
   },
   {
    "duration": 10,
    "start_time": "2022-03-21T16:45:48.148Z"
   },
   {
    "duration": 5,
    "start_time": "2022-03-21T16:45:48.160Z"
   },
   {
    "duration": 26,
    "start_time": "2022-03-21T16:45:48.167Z"
   },
   {
    "duration": 155,
    "start_time": "2022-03-21T16:45:48.194Z"
   },
   {
    "duration": 0,
    "start_time": "2022-03-21T16:45:48.351Z"
   },
   {
    "duration": 0,
    "start_time": "2022-03-21T16:45:48.352Z"
   },
   {
    "duration": 0,
    "start_time": "2022-03-21T16:45:48.353Z"
   },
   {
    "duration": 0,
    "start_time": "2022-03-21T16:45:48.354Z"
   },
   {
    "duration": 0,
    "start_time": "2022-03-21T16:45:48.355Z"
   },
   {
    "duration": 0,
    "start_time": "2022-03-21T16:45:48.356Z"
   },
   {
    "duration": 0,
    "start_time": "2022-03-21T16:45:48.356Z"
   },
   {
    "duration": 0,
    "start_time": "2022-03-21T16:45:48.357Z"
   },
   {
    "duration": 0,
    "start_time": "2022-03-21T16:45:48.358Z"
   },
   {
    "duration": 0,
    "start_time": "2022-03-21T16:45:48.359Z"
   },
   {
    "duration": 0,
    "start_time": "2022-03-21T16:45:48.360Z"
   },
   {
    "duration": 0,
    "start_time": "2022-03-21T16:45:48.361Z"
   },
   {
    "duration": 0,
    "start_time": "2022-03-21T16:45:48.362Z"
   },
   {
    "duration": 0,
    "start_time": "2022-03-21T16:45:48.363Z"
   },
   {
    "duration": 0,
    "start_time": "2022-03-21T16:45:48.364Z"
   },
   {
    "duration": 0,
    "start_time": "2022-03-21T16:45:48.365Z"
   },
   {
    "duration": 0,
    "start_time": "2022-03-21T16:45:48.366Z"
   },
   {
    "duration": 0,
    "start_time": "2022-03-21T16:45:48.367Z"
   },
   {
    "duration": 0,
    "start_time": "2022-03-21T16:45:48.368Z"
   },
   {
    "duration": 0,
    "start_time": "2022-03-21T16:45:48.369Z"
   },
   {
    "duration": 0,
    "start_time": "2022-03-21T16:45:48.370Z"
   },
   {
    "duration": 16,
    "start_time": "2022-03-21T16:46:12.455Z"
   },
   {
    "duration": 24,
    "start_time": "2022-03-21T16:46:22.787Z"
   },
   {
    "duration": 23,
    "start_time": "2022-03-21T16:46:44.735Z"
   },
   {
    "duration": 19,
    "start_time": "2022-03-21T16:46:52.766Z"
   },
   {
    "duration": 816,
    "start_time": "2022-03-21T16:47:27.945Z"
   },
   {
    "duration": 159,
    "start_time": "2022-03-21T16:47:28.763Z"
   },
   {
    "duration": 30,
    "start_time": "2022-03-21T16:47:28.924Z"
   },
   {
    "duration": 33,
    "start_time": "2022-03-21T16:47:28.956Z"
   },
   {
    "duration": 13,
    "start_time": "2022-03-21T16:47:28.991Z"
   },
   {
    "duration": 133,
    "start_time": "2022-03-21T16:47:29.005Z"
   },
   {
    "duration": 135,
    "start_time": "2022-03-21T16:47:29.140Z"
   },
   {
    "duration": 21,
    "start_time": "2022-03-21T16:47:29.277Z"
   },
   {
    "duration": 38,
    "start_time": "2022-03-21T16:47:29.300Z"
   },
   {
    "duration": 56,
    "start_time": "2022-03-21T16:47:29.341Z"
   },
   {
    "duration": 14,
    "start_time": "2022-03-21T16:47:29.398Z"
   },
   {
    "duration": 103,
    "start_time": "2022-03-21T16:47:29.414Z"
   },
   {
    "duration": 27,
    "start_time": "2022-03-21T16:47:29.518Z"
   },
   {
    "duration": 20,
    "start_time": "2022-03-21T16:47:29.547Z"
   },
   {
    "duration": 44,
    "start_time": "2022-03-21T16:47:29.569Z"
   },
   {
    "duration": 33,
    "start_time": "2022-03-21T16:47:29.614Z"
   },
   {
    "duration": 13,
    "start_time": "2022-03-21T16:47:29.649Z"
   },
   {
    "duration": 34,
    "start_time": "2022-03-21T16:47:29.664Z"
   },
   {
    "duration": 10,
    "start_time": "2022-03-21T16:47:29.699Z"
   },
   {
    "duration": 12,
    "start_time": "2022-03-21T16:47:29.710Z"
   },
   {
    "duration": 8,
    "start_time": "2022-03-21T16:47:29.724Z"
   },
   {
    "duration": 27,
    "start_time": "2022-03-21T16:47:29.733Z"
   },
   {
    "duration": 25,
    "start_time": "2022-03-21T16:47:29.762Z"
   },
   {
    "duration": 5,
    "start_time": "2022-03-21T16:47:29.789Z"
   },
   {
    "duration": 72,
    "start_time": "2022-03-21T16:47:29.795Z"
   },
   {
    "duration": 6,
    "start_time": "2022-03-21T16:47:29.870Z"
   },
   {
    "duration": 26,
    "start_time": "2022-03-21T16:47:29.878Z"
   },
   {
    "duration": 40,
    "start_time": "2022-03-21T16:47:29.908Z"
   },
   {
    "duration": 17,
    "start_time": "2022-03-21T16:47:29.950Z"
   },
   {
    "duration": 30,
    "start_time": "2022-03-21T16:47:29.969Z"
   },
   {
    "duration": 10,
    "start_time": "2022-03-21T16:47:30.001Z"
   },
   {
    "duration": 30,
    "start_time": "2022-03-21T16:47:30.013Z"
   },
   {
    "duration": 6,
    "start_time": "2022-03-21T16:47:30.045Z"
   },
   {
    "duration": 30,
    "start_time": "2022-03-21T16:47:30.053Z"
   },
   {
    "duration": 24,
    "start_time": "2022-03-21T16:47:30.085Z"
   },
   {
    "duration": 39,
    "start_time": "2022-03-21T16:47:30.111Z"
   },
   {
    "duration": 16,
    "start_time": "2022-03-21T16:47:30.152Z"
   },
   {
    "duration": 27,
    "start_time": "2022-03-21T16:47:30.170Z"
   },
   {
    "duration": 17,
    "start_time": "2022-03-21T16:47:30.198Z"
   },
   {
    "duration": 28,
    "start_time": "2022-03-21T16:47:30.216Z"
   },
   {
    "duration": 5,
    "start_time": "2022-03-21T16:47:30.246Z"
   },
   {
    "duration": 725,
    "start_time": "2022-03-21T16:47:30.253Z"
   },
   {
    "duration": 23,
    "start_time": "2022-03-21T16:47:30.979Z"
   },
   {
    "duration": 7,
    "start_time": "2022-03-21T16:47:31.003Z"
   },
   {
    "duration": 428,
    "start_time": "2022-03-21T16:47:31.012Z"
   },
   {
    "duration": 254,
    "start_time": "2022-03-21T16:47:31.442Z"
   },
   {
    "duration": 43,
    "start_time": "2022-03-21T16:47:31.698Z"
   },
   {
    "duration": 3,
    "start_time": "2022-03-21T16:47:31.743Z"
   },
   {
    "duration": 16,
    "start_time": "2022-03-21T16:47:31.747Z"
   },
   {
    "duration": 15,
    "start_time": "2022-03-21T16:47:31.765Z"
   },
   {
    "duration": 46,
    "start_time": "2022-03-21T16:47:31.782Z"
   },
   {
    "duration": 31,
    "start_time": "2022-03-21T16:47:31.830Z"
   },
   {
    "duration": 5,
    "start_time": "2022-03-21T16:47:31.863Z"
   },
   {
    "duration": 9,
    "start_time": "2022-03-21T16:47:31.870Z"
   },
   {
    "duration": 12,
    "start_time": "2022-03-21T16:47:31.880Z"
   },
   {
    "duration": 8,
    "start_time": "2022-03-21T16:47:31.894Z"
   },
   {
    "duration": 25,
    "start_time": "2022-03-21T16:48:53.902Z"
   },
   {
    "duration": 18,
    "start_time": "2022-03-21T16:48:56.837Z"
   },
   {
    "duration": 818,
    "start_time": "2022-03-21T16:49:07.836Z"
   },
   {
    "duration": 165,
    "start_time": "2022-03-21T16:49:08.655Z"
   },
   {
    "duration": 30,
    "start_time": "2022-03-21T16:49:08.822Z"
   },
   {
    "duration": 36,
    "start_time": "2022-03-21T16:49:08.854Z"
   },
   {
    "duration": 11,
    "start_time": "2022-03-21T16:49:08.891Z"
   },
   {
    "duration": 129,
    "start_time": "2022-03-21T16:49:08.904Z"
   },
   {
    "duration": 136,
    "start_time": "2022-03-21T16:49:09.037Z"
   },
   {
    "duration": 21,
    "start_time": "2022-03-21T16:49:09.175Z"
   },
   {
    "duration": 40,
    "start_time": "2022-03-21T16:49:09.198Z"
   },
   {
    "duration": 58,
    "start_time": "2022-03-21T16:49:09.241Z"
   },
   {
    "duration": 13,
    "start_time": "2022-03-21T16:49:09.301Z"
   },
   {
    "duration": 115,
    "start_time": "2022-03-21T16:49:09.315Z"
   },
   {
    "duration": 19,
    "start_time": "2022-03-21T16:49:09.432Z"
   },
   {
    "duration": 25,
    "start_time": "2022-03-21T16:49:09.452Z"
   },
   {
    "duration": 66,
    "start_time": "2022-03-21T16:49:09.479Z"
   },
   {
    "duration": 17,
    "start_time": "2022-03-21T16:49:09.547Z"
   },
   {
    "duration": 14,
    "start_time": "2022-03-21T16:49:09.566Z"
   },
   {
    "duration": 39,
    "start_time": "2022-03-21T16:49:09.582Z"
   },
   {
    "duration": 11,
    "start_time": "2022-03-21T16:49:09.623Z"
   },
   {
    "duration": 14,
    "start_time": "2022-03-21T16:49:09.635Z"
   },
   {
    "duration": 10,
    "start_time": "2022-03-21T16:49:09.650Z"
   },
   {
    "duration": 28,
    "start_time": "2022-03-21T16:49:09.662Z"
   },
   {
    "duration": 27,
    "start_time": "2022-03-21T16:49:09.692Z"
   },
   {
    "duration": 5,
    "start_time": "2022-03-21T16:49:09.721Z"
   },
   {
    "duration": 52,
    "start_time": "2022-03-21T16:49:09.728Z"
   },
   {
    "duration": 6,
    "start_time": "2022-03-21T16:49:09.782Z"
   },
   {
    "duration": 20,
    "start_time": "2022-03-21T16:49:09.789Z"
   },
   {
    "duration": 47,
    "start_time": "2022-03-21T16:49:09.814Z"
   },
   {
    "duration": 17,
    "start_time": "2022-03-21T16:49:09.863Z"
   },
   {
    "duration": 35,
    "start_time": "2022-03-21T16:49:09.882Z"
   },
   {
    "duration": 19,
    "start_time": "2022-03-21T16:49:09.918Z"
   },
   {
    "duration": 10,
    "start_time": "2022-03-21T16:49:09.939Z"
   },
   {
    "duration": 11,
    "start_time": "2022-03-21T16:49:09.950Z"
   },
   {
    "duration": 30,
    "start_time": "2022-03-21T16:49:09.962Z"
   },
   {
    "duration": 26,
    "start_time": "2022-03-21T16:49:09.994Z"
   },
   {
    "duration": 31,
    "start_time": "2022-03-21T16:49:10.021Z"
   },
   {
    "duration": 10,
    "start_time": "2022-03-21T16:49:10.054Z"
   },
   {
    "duration": 67,
    "start_time": "2022-03-21T16:49:10.065Z"
   },
   {
    "duration": 16,
    "start_time": "2022-03-21T16:49:10.134Z"
   },
   {
    "duration": 32,
    "start_time": "2022-03-21T16:49:10.152Z"
   },
   {
    "duration": 8,
    "start_time": "2022-03-21T16:49:10.186Z"
   },
   {
    "duration": 707,
    "start_time": "2022-03-21T16:49:10.195Z"
   },
   {
    "duration": 23,
    "start_time": "2022-03-21T16:49:10.903Z"
   },
   {
    "duration": 7,
    "start_time": "2022-03-21T16:49:10.937Z"
   },
   {
    "duration": 441,
    "start_time": "2022-03-21T16:49:10.945Z"
   },
   {
    "duration": 260,
    "start_time": "2022-03-21T16:49:11.388Z"
   },
   {
    "duration": 30,
    "start_time": "2022-03-21T16:49:11.649Z"
   },
   {
    "duration": 2,
    "start_time": "2022-03-21T16:49:11.681Z"
   },
   {
    "duration": 9,
    "start_time": "2022-03-21T16:49:11.685Z"
   },
   {
    "duration": 7,
    "start_time": "2022-03-21T16:49:11.696Z"
   },
   {
    "duration": 12,
    "start_time": "2022-03-21T16:49:11.704Z"
   },
   {
    "duration": 12,
    "start_time": "2022-03-21T16:49:11.738Z"
   },
   {
    "duration": 5,
    "start_time": "2022-03-21T16:49:11.752Z"
   },
   {
    "duration": 10,
    "start_time": "2022-03-21T16:49:11.759Z"
   },
   {
    "duration": 9,
    "start_time": "2022-03-21T16:49:11.770Z"
   },
   {
    "duration": 8,
    "start_time": "2022-03-21T16:49:11.780Z"
   },
   {
    "duration": 378,
    "start_time": "2022-03-21T17:41:24.071Z"
   },
   {
    "duration": 394,
    "start_time": "2022-03-21T17:43:47.343Z"
   },
   {
    "duration": 122,
    "start_time": "2022-03-21T17:44:20.880Z"
   },
   {
    "duration": 482,
    "start_time": "2022-03-21T17:44:28.326Z"
   },
   {
    "duration": 52,
    "start_time": "2022-03-22T13:17:25.643Z"
   },
   {
    "duration": 8,
    "start_time": "2022-03-22T13:17:31.191Z"
   },
   {
    "duration": 827,
    "start_time": "2022-03-22T13:17:36.849Z"
   },
   {
    "duration": 163,
    "start_time": "2022-03-22T13:17:37.678Z"
   },
   {
    "duration": 25,
    "start_time": "2022-03-22T13:17:37.844Z"
   },
   {
    "duration": 48,
    "start_time": "2022-03-22T13:17:37.871Z"
   },
   {
    "duration": 12,
    "start_time": "2022-03-22T13:17:37.921Z"
   },
   {
    "duration": 121,
    "start_time": "2022-03-22T13:17:37.935Z"
   },
   {
    "duration": 138,
    "start_time": "2022-03-22T13:17:38.058Z"
   },
   {
    "duration": 32,
    "start_time": "2022-03-22T13:17:38.198Z"
   },
   {
    "duration": 26,
    "start_time": "2022-03-22T13:17:38.231Z"
   },
   {
    "duration": 76,
    "start_time": "2022-03-22T13:17:38.260Z"
   },
   {
    "duration": 14,
    "start_time": "2022-03-22T13:17:38.338Z"
   },
   {
    "duration": 93,
    "start_time": "2022-03-22T13:17:38.354Z"
   },
   {
    "duration": 19,
    "start_time": "2022-03-22T13:17:38.449Z"
   },
   {
    "duration": 21,
    "start_time": "2022-03-22T13:17:38.469Z"
   },
   {
    "duration": 49,
    "start_time": "2022-03-22T13:17:38.509Z"
   },
   {
    "duration": 27,
    "start_time": "2022-03-22T13:17:38.560Z"
   },
   {
    "duration": 25,
    "start_time": "2022-03-22T13:17:38.589Z"
   },
   {
    "duration": 59,
    "start_time": "2022-03-22T13:17:38.617Z"
   },
   {
    "duration": 13,
    "start_time": "2022-03-22T13:17:38.678Z"
   },
   {
    "duration": 11,
    "start_time": "2022-03-22T13:17:38.693Z"
   },
   {
    "duration": 8,
    "start_time": "2022-03-22T13:17:38.706Z"
   },
   {
    "duration": 28,
    "start_time": "2022-03-22T13:17:38.716Z"
   },
   {
    "duration": 26,
    "start_time": "2022-03-22T13:17:38.747Z"
   },
   {
    "duration": 4,
    "start_time": "2022-03-22T13:17:38.775Z"
   },
   {
    "duration": 59,
    "start_time": "2022-03-22T13:17:38.781Z"
   },
   {
    "duration": 4,
    "start_time": "2022-03-22T13:17:38.842Z"
   },
   {
    "duration": 17,
    "start_time": "2022-03-22T13:17:38.848Z"
   },
   {
    "duration": 49,
    "start_time": "2022-03-22T13:17:38.868Z"
   },
   {
    "duration": 18,
    "start_time": "2022-03-22T13:17:38.919Z"
   },
   {
    "duration": 28,
    "start_time": "2022-03-22T13:17:38.939Z"
   },
   {
    "duration": 9,
    "start_time": "2022-03-22T13:17:38.969Z"
   },
   {
    "duration": 36,
    "start_time": "2022-03-22T13:17:38.980Z"
   },
   {
    "duration": 6,
    "start_time": "2022-03-22T13:17:39.018Z"
   },
   {
    "duration": 27,
    "start_time": "2022-03-22T13:17:39.026Z"
   },
   {
    "duration": 58,
    "start_time": "2022-03-22T13:17:39.054Z"
   },
   {
    "duration": 26,
    "start_time": "2022-03-22T13:17:39.114Z"
   },
   {
    "duration": 3,
    "start_time": "2022-03-22T13:17:39.141Z"
   },
   {
    "duration": 25,
    "start_time": "2022-03-22T13:17:39.146Z"
   },
   {
    "duration": 48,
    "start_time": "2022-03-22T13:17:39.173Z"
   },
   {
    "duration": 21,
    "start_time": "2022-03-22T13:17:39.222Z"
   },
   {
    "duration": 8,
    "start_time": "2022-03-22T13:17:39.245Z"
   },
   {
    "duration": 806,
    "start_time": "2022-03-22T13:17:39.255Z"
   },
   {
    "duration": 0,
    "start_time": "2022-03-22T13:17:40.064Z"
   },
   {
    "duration": 0,
    "start_time": "2022-03-22T13:17:40.065Z"
   },
   {
    "duration": 0,
    "start_time": "2022-03-22T13:17:40.067Z"
   },
   {
    "duration": 0,
    "start_time": "2022-03-22T13:17:40.068Z"
   },
   {
    "duration": 0,
    "start_time": "2022-03-22T13:17:40.070Z"
   },
   {
    "duration": 0,
    "start_time": "2022-03-22T13:17:40.071Z"
   },
   {
    "duration": 0,
    "start_time": "2022-03-22T13:17:40.073Z"
   },
   {
    "duration": 0,
    "start_time": "2022-03-22T13:17:40.074Z"
   },
   {
    "duration": 0,
    "start_time": "2022-03-22T13:17:40.076Z"
   },
   {
    "duration": 0,
    "start_time": "2022-03-22T13:17:40.078Z"
   },
   {
    "duration": 0,
    "start_time": "2022-03-22T13:17:40.108Z"
   },
   {
    "duration": 0,
    "start_time": "2022-03-22T13:17:40.110Z"
   },
   {
    "duration": 0,
    "start_time": "2022-03-22T13:17:40.111Z"
   },
   {
    "duration": 0,
    "start_time": "2022-03-22T13:17:40.113Z"
   },
   {
    "duration": 4,
    "start_time": "2022-03-22T13:18:25.208Z"
   },
   {
    "duration": 1072,
    "start_time": "2022-03-22T13:18:32.222Z"
   },
   {
    "duration": 187,
    "start_time": "2022-03-22T13:18:33.296Z"
   },
   {
    "duration": 31,
    "start_time": "2022-03-22T13:18:33.485Z"
   },
   {
    "duration": 37,
    "start_time": "2022-03-22T13:18:33.518Z"
   },
   {
    "duration": 11,
    "start_time": "2022-03-22T13:18:33.556Z"
   },
   {
    "duration": 114,
    "start_time": "2022-03-22T13:18:33.569Z"
   },
   {
    "duration": 144,
    "start_time": "2022-03-22T13:18:33.685Z"
   },
   {
    "duration": 22,
    "start_time": "2022-03-22T13:18:33.830Z"
   },
   {
    "duration": 23,
    "start_time": "2022-03-22T13:18:33.854Z"
   },
   {
    "duration": 75,
    "start_time": "2022-03-22T13:18:33.879Z"
   },
   {
    "duration": 16,
    "start_time": "2022-03-22T13:18:33.955Z"
   },
   {
    "duration": 104,
    "start_time": "2022-03-22T13:18:33.972Z"
   },
   {
    "duration": 31,
    "start_time": "2022-03-22T13:18:34.078Z"
   },
   {
    "duration": 21,
    "start_time": "2022-03-22T13:18:34.110Z"
   },
   {
    "duration": 40,
    "start_time": "2022-03-22T13:18:34.133Z"
   },
   {
    "duration": 35,
    "start_time": "2022-03-22T13:18:34.174Z"
   },
   {
    "duration": 10,
    "start_time": "2022-03-22T13:18:34.211Z"
   },
   {
    "duration": 40,
    "start_time": "2022-03-22T13:18:34.222Z"
   },
   {
    "duration": 11,
    "start_time": "2022-03-22T13:18:34.263Z"
   },
   {
    "duration": 13,
    "start_time": "2022-03-22T13:18:34.275Z"
   },
   {
    "duration": 7,
    "start_time": "2022-03-22T13:18:34.290Z"
   },
   {
    "duration": 27,
    "start_time": "2022-03-22T13:18:34.298Z"
   },
   {
    "duration": 27,
    "start_time": "2022-03-22T13:18:34.326Z"
   },
   {
    "duration": 4,
    "start_time": "2022-03-22T13:18:34.354Z"
   },
   {
    "duration": 65,
    "start_time": "2022-03-22T13:18:34.359Z"
   },
   {
    "duration": 5,
    "start_time": "2022-03-22T13:18:34.426Z"
   },
   {
    "duration": 20,
    "start_time": "2022-03-22T13:18:34.433Z"
   },
   {
    "duration": 25,
    "start_time": "2022-03-22T13:18:34.458Z"
   },
   {
    "duration": 30,
    "start_time": "2022-03-22T13:18:34.485Z"
   },
   {
    "duration": 26,
    "start_time": "2022-03-22T13:18:34.516Z"
   },
   {
    "duration": 8,
    "start_time": "2022-03-22T13:18:34.544Z"
   },
   {
    "duration": 9,
    "start_time": "2022-03-22T13:18:34.554Z"
   },
   {
    "duration": 5,
    "start_time": "2022-03-22T13:18:34.565Z"
   },
   {
    "duration": 59,
    "start_time": "2022-03-22T13:18:34.571Z"
   },
   {
    "duration": 25,
    "start_time": "2022-03-22T13:18:34.632Z"
   },
   {
    "duration": 19,
    "start_time": "2022-03-22T13:18:34.659Z"
   },
   {
    "duration": 3,
    "start_time": "2022-03-22T13:18:34.680Z"
   },
   {
    "duration": 26,
    "start_time": "2022-03-22T13:18:34.709Z"
   },
   {
    "duration": 17,
    "start_time": "2022-03-22T13:18:34.737Z"
   },
   {
    "duration": 21,
    "start_time": "2022-03-22T13:18:34.756Z"
   },
   {
    "duration": 35,
    "start_time": "2022-03-22T13:18:34.778Z"
   },
   {
    "duration": 246,
    "start_time": "2022-03-22T13:18:34.814Z"
   },
   {
    "duration": 21,
    "start_time": "2022-03-22T13:18:35.062Z"
   },
   {
    "duration": 7,
    "start_time": "2022-03-22T13:18:35.084Z"
   },
   {
    "duration": 427,
    "start_time": "2022-03-22T13:18:35.092Z"
   },
   {
    "duration": 265,
    "start_time": "2022-03-22T13:18:35.521Z"
   },
   {
    "duration": 40,
    "start_time": "2022-03-22T13:18:35.788Z"
   },
   {
    "duration": 2,
    "start_time": "2022-03-22T13:18:35.830Z"
   },
   {
    "duration": 13,
    "start_time": "2022-03-22T13:18:35.834Z"
   },
   {
    "duration": 6,
    "start_time": "2022-03-22T13:18:35.848Z"
   },
   {
    "duration": 16,
    "start_time": "2022-03-22T13:18:35.856Z"
   },
   {
    "duration": 14,
    "start_time": "2022-03-22T13:18:35.873Z"
   },
   {
    "duration": 22,
    "start_time": "2022-03-22T13:18:35.888Z"
   },
   {
    "duration": 33,
    "start_time": "2022-03-22T13:18:35.912Z"
   },
   {
    "duration": 25,
    "start_time": "2022-03-22T13:18:35.947Z"
   },
   {
    "duration": 31,
    "start_time": "2022-03-22T13:18:35.974Z"
   },
   {
    "duration": 233,
    "start_time": "2022-03-22T13:19:11.940Z"
   },
   {
    "duration": 426,
    "start_time": "2022-03-22T13:19:17.848Z"
   },
   {
    "duration": 460,
    "start_time": "2022-03-22T13:19:48.560Z"
   },
   {
    "duration": 413,
    "start_time": "2022-03-22T13:20:06.114Z"
   },
   {
    "duration": 908,
    "start_time": "2022-03-22T13:20:38.502Z"
   },
   {
    "duration": 161,
    "start_time": "2022-03-22T13:20:39.412Z"
   },
   {
    "duration": 28,
    "start_time": "2022-03-22T13:20:39.575Z"
   },
   {
    "duration": 34,
    "start_time": "2022-03-22T13:20:39.609Z"
   },
   {
    "duration": 11,
    "start_time": "2022-03-22T13:20:39.645Z"
   },
   {
    "duration": 117,
    "start_time": "2022-03-22T13:20:39.657Z"
   },
   {
    "duration": 136,
    "start_time": "2022-03-22T13:20:39.775Z"
   },
   {
    "duration": 22,
    "start_time": "2022-03-22T13:20:39.913Z"
   },
   {
    "duration": 23,
    "start_time": "2022-03-22T13:20:39.937Z"
   },
   {
    "duration": 80,
    "start_time": "2022-03-22T13:20:39.963Z"
   },
   {
    "duration": 14,
    "start_time": "2022-03-22T13:20:40.045Z"
   },
   {
    "duration": 102,
    "start_time": "2022-03-22T13:20:40.060Z"
   },
   {
    "duration": 20,
    "start_time": "2022-03-22T13:20:40.163Z"
   },
   {
    "duration": 35,
    "start_time": "2022-03-22T13:20:40.184Z"
   },
   {
    "duration": 42,
    "start_time": "2022-03-22T13:20:40.221Z"
   },
   {
    "duration": 15,
    "start_time": "2022-03-22T13:20:40.265Z"
   },
   {
    "duration": 34,
    "start_time": "2022-03-22T13:20:40.281Z"
   },
   {
    "duration": 47,
    "start_time": "2022-03-22T13:20:40.316Z"
   },
   {
    "duration": 11,
    "start_time": "2022-03-22T13:20:40.364Z"
   },
   {
    "duration": 14,
    "start_time": "2022-03-22T13:20:40.376Z"
   },
   {
    "duration": 8,
    "start_time": "2022-03-22T13:20:40.391Z"
   },
   {
    "duration": 32,
    "start_time": "2022-03-22T13:20:40.400Z"
   },
   {
    "duration": 28,
    "start_time": "2022-03-22T13:20:40.434Z"
   },
   {
    "duration": 4,
    "start_time": "2022-03-22T13:20:40.463Z"
   },
   {
    "duration": 51,
    "start_time": "2022-03-22T13:20:40.469Z"
   },
   {
    "duration": 4,
    "start_time": "2022-03-22T13:20:40.522Z"
   },
   {
    "duration": 22,
    "start_time": "2022-03-22T13:20:40.527Z"
   },
   {
    "duration": 28,
    "start_time": "2022-03-22T13:20:40.553Z"
   },
   {
    "duration": 35,
    "start_time": "2022-03-22T13:20:40.582Z"
   },
   {
    "duration": 27,
    "start_time": "2022-03-22T13:20:40.619Z"
   },
   {
    "duration": 9,
    "start_time": "2022-03-22T13:20:40.648Z"
   },
   {
    "duration": 9,
    "start_time": "2022-03-22T13:20:40.659Z"
   },
   {
    "duration": 5,
    "start_time": "2022-03-22T13:20:40.669Z"
   },
   {
    "duration": 56,
    "start_time": "2022-03-22T13:20:40.676Z"
   },
   {
    "duration": 26,
    "start_time": "2022-03-22T13:20:40.734Z"
   },
   {
    "duration": 18,
    "start_time": "2022-03-22T13:20:40.761Z"
   },
   {
    "duration": 3,
    "start_time": "2022-03-22T13:20:40.781Z"
   },
   {
    "duration": 24,
    "start_time": "2022-03-22T13:20:40.809Z"
   },
   {
    "duration": 18,
    "start_time": "2022-03-22T13:20:40.835Z"
   },
   {
    "duration": 20,
    "start_time": "2022-03-22T13:20:40.855Z"
   },
   {
    "duration": 37,
    "start_time": "2022-03-22T13:20:40.877Z"
   },
   {
    "duration": 670,
    "start_time": "2022-03-22T13:20:40.916Z"
   },
   {
    "duration": 31,
    "start_time": "2022-03-22T13:20:41.588Z"
   },
   {
    "duration": 8,
    "start_time": "2022-03-22T13:20:41.621Z"
   },
   {
    "duration": 433,
    "start_time": "2022-03-22T13:20:41.630Z"
   },
   {
    "duration": 279,
    "start_time": "2022-03-22T13:20:42.065Z"
   },
   {
    "duration": 31,
    "start_time": "2022-03-22T13:20:42.346Z"
   },
   {
    "duration": 2,
    "start_time": "2022-03-22T13:20:42.379Z"
   },
   {
    "duration": 6,
    "start_time": "2022-03-22T13:20:42.383Z"
   },
   {
    "duration": 4,
    "start_time": "2022-03-22T13:20:42.409Z"
   },
   {
    "duration": 11,
    "start_time": "2022-03-22T13:20:42.415Z"
   },
   {
    "duration": 12,
    "start_time": "2022-03-22T13:20:42.427Z"
   },
   {
    "duration": 6,
    "start_time": "2022-03-22T13:20:42.441Z"
   },
   {
    "duration": 7,
    "start_time": "2022-03-22T13:20:42.449Z"
   },
   {
    "duration": 7,
    "start_time": "2022-03-22T13:20:42.458Z"
   },
   {
    "duration": 5,
    "start_time": "2022-03-22T13:20:42.466Z"
   },
   {
    "duration": 70,
    "start_time": "2022-03-31T07:14:20.450Z"
   },
   {
    "duration": 1154,
    "start_time": "2022-03-31T07:14:28.347Z"
   },
   {
    "duration": 223,
    "start_time": "2022-03-31T07:14:29.504Z"
   },
   {
    "duration": 53,
    "start_time": "2022-03-31T07:14:29.730Z"
   },
   {
    "duration": 54,
    "start_time": "2022-03-31T07:14:29.786Z"
   },
   {
    "duration": 36,
    "start_time": "2022-03-31T07:14:29.842Z"
   },
   {
    "duration": 162,
    "start_time": "2022-03-31T07:14:29.880Z"
   },
   {
    "duration": 196,
    "start_time": "2022-03-31T07:14:30.044Z"
   },
   {
    "duration": 40,
    "start_time": "2022-03-31T07:14:30.242Z"
   },
   {
    "duration": 37,
    "start_time": "2022-03-31T07:14:30.285Z"
   },
   {
    "duration": 130,
    "start_time": "2022-03-31T07:14:30.326Z"
   },
   {
    "duration": 27,
    "start_time": "2022-03-31T07:14:30.458Z"
   },
   {
    "duration": 141,
    "start_time": "2022-03-31T07:14:30.487Z"
   },
   {
    "duration": 26,
    "start_time": "2022-03-31T07:14:30.630Z"
   },
   {
    "duration": 46,
    "start_time": "2022-03-31T07:14:30.658Z"
   },
   {
    "duration": 80,
    "start_time": "2022-03-31T07:14:30.706Z"
   },
   {
    "duration": 27,
    "start_time": "2022-03-31T07:14:30.788Z"
   },
   {
    "duration": 15,
    "start_time": "2022-03-31T07:14:30.817Z"
   },
   {
    "duration": 45,
    "start_time": "2022-03-31T07:14:30.834Z"
   },
   {
    "duration": 15,
    "start_time": "2022-03-31T07:14:30.883Z"
   },
   {
    "duration": 14,
    "start_time": "2022-03-31T07:14:30.900Z"
   },
   {
    "duration": 17,
    "start_time": "2022-03-31T07:14:30.917Z"
   },
   {
    "duration": 63,
    "start_time": "2022-03-31T07:14:30.936Z"
   },
   {
    "duration": 34,
    "start_time": "2022-03-31T07:14:31.001Z"
   },
   {
    "duration": 5,
    "start_time": "2022-03-31T07:14:31.037Z"
   },
   {
    "duration": 74,
    "start_time": "2022-03-31T07:14:31.044Z"
   },
   {
    "duration": 6,
    "start_time": "2022-03-31T07:14:31.121Z"
   },
   {
    "duration": 45,
    "start_time": "2022-03-31T07:14:31.129Z"
   },
   {
    "duration": 36,
    "start_time": "2022-03-31T07:14:31.179Z"
   },
   {
    "duration": 25,
    "start_time": "2022-03-31T07:14:31.218Z"
   },
   {
    "duration": 76,
    "start_time": "2022-03-31T07:14:31.245Z"
   },
   {
    "duration": 15,
    "start_time": "2022-03-31T07:14:31.324Z"
   },
   {
    "duration": 40,
    "start_time": "2022-03-31T07:14:31.342Z"
   },
   {
    "duration": 8,
    "start_time": "2022-03-31T07:14:31.385Z"
   },
   {
    "duration": 52,
    "start_time": "2022-03-31T07:14:31.395Z"
   },
   {
    "duration": 51,
    "start_time": "2022-03-31T07:14:31.449Z"
   },
   {
    "duration": 29,
    "start_time": "2022-03-31T07:14:31.502Z"
   },
   {
    "duration": 66,
    "start_time": "2022-03-31T07:14:31.533Z"
   },
   {
    "duration": 26,
    "start_time": "2022-03-31T07:14:31.602Z"
   },
   {
    "duration": 55,
    "start_time": "2022-03-31T07:14:31.631Z"
   },
   {
    "duration": 9,
    "start_time": "2022-03-31T07:14:31.688Z"
   },
   {
    "duration": 1409,
    "start_time": "2022-03-31T07:14:31.699Z"
   },
   {
    "duration": 33,
    "start_time": "2022-03-31T07:14:33.111Z"
   },
   {
    "duration": 50,
    "start_time": "2022-03-31T07:14:33.146Z"
   },
   {
    "duration": 9,
    "start_time": "2022-03-31T07:14:33.199Z"
   },
   {
    "duration": 680,
    "start_time": "2022-03-31T07:14:33.209Z"
   },
   {
    "duration": 422,
    "start_time": "2022-03-31T07:14:33.891Z"
   },
   {
    "duration": 60,
    "start_time": "2022-03-31T07:14:34.315Z"
   },
   {
    "duration": 4,
    "start_time": "2022-03-31T07:14:34.377Z"
   },
   {
    "duration": 24,
    "start_time": "2022-03-31T07:14:34.383Z"
   },
   {
    "duration": 33,
    "start_time": "2022-03-31T07:14:34.409Z"
   },
   {
    "duration": 44,
    "start_time": "2022-03-31T07:14:34.444Z"
   },
   {
    "duration": 21,
    "start_time": "2022-03-31T07:14:34.491Z"
   },
   {
    "duration": 11,
    "start_time": "2022-03-31T07:14:34.514Z"
   },
   {
    "duration": 12,
    "start_time": "2022-03-31T07:14:34.527Z"
   },
   {
    "duration": 14,
    "start_time": "2022-03-31T07:14:34.541Z"
   },
   {
    "duration": 18,
    "start_time": "2022-03-31T07:14:34.557Z"
   },
   {
    "duration": 150,
    "start_time": "2022-03-31T07:16:55.648Z"
   },
   {
    "duration": 11,
    "start_time": "2022-03-31T07:17:13.364Z"
   },
   {
    "duration": 7,
    "start_time": "2022-03-31T07:17:20.657Z"
   },
   {
    "duration": 16,
    "start_time": "2022-03-31T07:17:26.109Z"
   },
   {
    "duration": 12,
    "start_time": "2022-03-31T07:17:35.091Z"
   },
   {
    "duration": 11,
    "start_time": "2022-03-31T07:17:37.933Z"
   },
   {
    "duration": 7,
    "start_time": "2022-03-31T07:17:51.686Z"
   },
   {
    "duration": 11,
    "start_time": "2022-03-31T07:18:08.291Z"
   },
   {
    "duration": 15,
    "start_time": "2022-03-31T07:18:14.389Z"
   },
   {
    "duration": 9,
    "start_time": "2022-03-31T07:21:36.063Z"
   },
   {
    "duration": 10,
    "start_time": "2022-03-31T07:26:16.315Z"
   },
   {
    "duration": 9,
    "start_time": "2022-03-31T07:32:27.093Z"
   },
   {
    "duration": 10,
    "start_time": "2022-03-31T08:07:49.444Z"
   },
   {
    "duration": 35,
    "start_time": "2022-03-31T08:30:30.513Z"
   },
   {
    "duration": 31,
    "start_time": "2022-03-31T08:30:47.579Z"
   },
   {
    "duration": 9,
    "start_time": "2022-03-31T08:31:29.341Z"
   },
   {
    "duration": 9,
    "start_time": "2022-03-31T08:50:28.808Z"
   },
   {
    "duration": 4,
    "start_time": "2022-03-31T09:17:49.549Z"
   },
   {
    "duration": 4,
    "start_time": "2022-03-31T09:17:50.230Z"
   },
   {
    "duration": 13,
    "start_time": "2022-03-31T09:19:50.701Z"
   },
   {
    "duration": 4,
    "start_time": "2022-03-31T09:19:58.122Z"
   },
   {
    "duration": 4,
    "start_time": "2022-03-31T09:19:59.262Z"
   },
   {
    "duration": 8,
    "start_time": "2022-03-31T09:20:01.326Z"
   },
   {
    "duration": 14,
    "start_time": "2022-03-31T09:25:50.484Z"
   },
   {
    "duration": 8,
    "start_time": "2022-03-31T09:27:17.943Z"
   },
   {
    "duration": 7,
    "start_time": "2022-03-31T09:29:15.391Z"
   },
   {
    "duration": 7,
    "start_time": "2022-03-31T09:29:22.365Z"
   },
   {
    "duration": 7,
    "start_time": "2022-03-31T09:29:34.063Z"
   },
   {
    "duration": 1538,
    "start_time": "2022-03-31T09:30:44.856Z"
   },
   {
    "duration": 345,
    "start_time": "2022-03-31T09:30:46.398Z"
   },
   {
    "duration": 69,
    "start_time": "2022-03-31T09:30:46.746Z"
   },
   {
    "duration": 101,
    "start_time": "2022-03-31T09:30:46.819Z"
   },
   {
    "duration": 24,
    "start_time": "2022-03-31T09:30:46.924Z"
   },
   {
    "duration": 172,
    "start_time": "2022-03-31T09:30:46.951Z"
   },
   {
    "duration": 279,
    "start_time": "2022-03-31T09:30:47.125Z"
   },
   {
    "duration": 48,
    "start_time": "2022-03-31T09:30:47.407Z"
   },
   {
    "duration": 38,
    "start_time": "2022-03-31T09:30:47.474Z"
   },
   {
    "duration": 138,
    "start_time": "2022-03-31T09:30:47.516Z"
   },
   {
    "duration": 20,
    "start_time": "2022-03-31T09:30:47.657Z"
   },
   {
    "duration": 128,
    "start_time": "2022-03-31T09:30:47.679Z"
   },
   {
    "duration": 42,
    "start_time": "2022-03-31T09:30:47.809Z"
   },
   {
    "duration": 99,
    "start_time": "2022-03-31T09:30:47.853Z"
   },
   {
    "duration": 82,
    "start_time": "2022-03-31T09:30:47.955Z"
   },
   {
    "duration": 21,
    "start_time": "2022-03-31T09:30:48.040Z"
   },
   {
    "duration": 40,
    "start_time": "2022-03-31T09:30:48.063Z"
   },
   {
    "duration": 83,
    "start_time": "2022-03-31T09:30:48.105Z"
   },
   {
    "duration": 18,
    "start_time": "2022-03-31T09:30:48.192Z"
   },
   {
    "duration": 14,
    "start_time": "2022-03-31T09:30:48.213Z"
   },
   {
    "duration": 9,
    "start_time": "2022-03-31T09:30:48.273Z"
   },
   {
    "duration": 34,
    "start_time": "2022-03-31T09:30:48.285Z"
   },
   {
    "duration": 85,
    "start_time": "2022-03-31T09:30:48.321Z"
   },
   {
    "duration": 21,
    "start_time": "2022-03-31T09:30:48.409Z"
   },
   {
    "duration": 116,
    "start_time": "2022-03-31T09:30:48.476Z"
   },
   {
    "duration": 9,
    "start_time": "2022-03-31T09:30:48.595Z"
   },
   {
    "duration": 77,
    "start_time": "2022-03-31T09:30:48.607Z"
   },
   {
    "duration": 104,
    "start_time": "2022-03-31T09:30:48.693Z"
   },
   {
    "duration": 78,
    "start_time": "2022-03-31T09:30:48.801Z"
   },
   {
    "duration": 102,
    "start_time": "2022-03-31T09:30:48.882Z"
   },
   {
    "duration": 16,
    "start_time": "2022-03-31T09:30:48.987Z"
   },
   {
    "duration": 77,
    "start_time": "2022-03-31T09:30:49.006Z"
   },
   {
    "duration": 8,
    "start_time": "2022-03-31T09:30:49.085Z"
   },
   {
    "duration": 100,
    "start_time": "2022-03-31T09:30:49.096Z"
   },
   {
    "duration": 96,
    "start_time": "2022-03-31T09:30:49.199Z"
   },
   {
    "duration": 95,
    "start_time": "2022-03-31T09:30:49.298Z"
   },
   {
    "duration": 114,
    "start_time": "2022-03-31T09:30:49.396Z"
   },
   {
    "duration": 92,
    "start_time": "2022-03-31T09:30:49.513Z"
   },
   {
    "duration": 104,
    "start_time": "2022-03-31T09:30:49.608Z"
   },
   {
    "duration": 83,
    "start_time": "2022-03-31T09:30:49.715Z"
   },
   {
    "duration": 2582,
    "start_time": "2022-03-31T09:30:49.801Z"
   },
   {
    "duration": 12,
    "start_time": "2022-03-31T09:30:52.386Z"
   },
   {
    "duration": 33,
    "start_time": "2022-03-31T09:30:52.400Z"
   },
   {
    "duration": 38,
    "start_time": "2022-03-31T09:30:52.435Z"
   },
   {
    "duration": 677,
    "start_time": "2022-03-31T09:30:52.476Z"
   },
   {
    "duration": 18,
    "start_time": "2022-03-31T09:30:53.156Z"
   },
   {
    "duration": 433,
    "start_time": "2022-03-31T09:30:53.177Z"
   },
   {
    "duration": 62,
    "start_time": "2022-03-31T09:30:53.613Z"
   },
   {
    "duration": 3,
    "start_time": "2022-03-31T09:30:53.677Z"
   },
   {
    "duration": 6,
    "start_time": "2022-03-31T09:30:53.682Z"
   },
   {
    "duration": 8,
    "start_time": "2022-03-31T09:30:53.690Z"
   },
   {
    "duration": 13,
    "start_time": "2022-03-31T09:30:53.700Z"
   },
   {
    "duration": 184,
    "start_time": "2022-03-31T09:30:53.715Z"
   },
   {
    "duration": 0,
    "start_time": "2022-03-31T09:30:53.901Z"
   },
   {
    "duration": 0,
    "start_time": "2022-03-31T09:30:53.903Z"
   },
   {
    "duration": 12,
    "start_time": "2022-03-31T09:31:22.294Z"
   },
   {
    "duration": 10,
    "start_time": "2022-03-31T09:31:27.590Z"
   },
   {
    "duration": 12,
    "start_time": "2022-03-31T09:31:28.068Z"
   },
   {
    "duration": 17,
    "start_time": "2022-03-31T09:32:28.910Z"
   },
   {
    "duration": 8,
    "start_time": "2022-03-31T09:32:30.875Z"
   },
   {
    "duration": 8,
    "start_time": "2022-03-31T09:32:32.060Z"
   },
   {
    "duration": 8,
    "start_time": "2022-03-31T09:32:38.745Z"
   },
   {
    "duration": 6,
    "start_time": "2022-03-31T09:33:06.528Z"
   },
   {
    "duration": 8,
    "start_time": "2022-03-31T09:33:28.767Z"
   },
   {
    "duration": 788,
    "start_time": "2022-03-31T10:22:36.081Z"
   },
   {
    "duration": 158,
    "start_time": "2022-03-31T10:22:36.871Z"
   },
   {
    "duration": 26,
    "start_time": "2022-03-31T10:22:37.030Z"
   },
   {
    "duration": 36,
    "start_time": "2022-03-31T10:22:37.059Z"
   },
   {
    "duration": 37,
    "start_time": "2022-03-31T10:22:37.096Z"
   },
   {
    "duration": 109,
    "start_time": "2022-03-31T10:22:37.134Z"
   },
   {
    "duration": 131,
    "start_time": "2022-03-31T10:22:37.245Z"
   },
   {
    "duration": 21,
    "start_time": "2022-03-31T10:22:37.377Z"
   },
   {
    "duration": 41,
    "start_time": "2022-03-31T10:22:37.399Z"
   },
   {
    "duration": 58,
    "start_time": "2022-03-31T10:22:37.442Z"
   },
   {
    "duration": 14,
    "start_time": "2022-03-31T10:22:37.502Z"
   },
   {
    "duration": 87,
    "start_time": "2022-03-31T10:22:37.533Z"
   },
   {
    "duration": 26,
    "start_time": "2022-03-31T10:22:37.621Z"
   },
   {
    "duration": 20,
    "start_time": "2022-03-31T10:22:37.649Z"
   },
   {
    "duration": 43,
    "start_time": "2022-03-31T10:22:37.670Z"
   },
   {
    "duration": 15,
    "start_time": "2022-03-31T10:22:37.733Z"
   },
   {
    "duration": 13,
    "start_time": "2022-03-31T10:22:37.750Z"
   },
   {
    "duration": 27,
    "start_time": "2022-03-31T10:22:37.764Z"
   },
   {
    "duration": 10,
    "start_time": "2022-03-31T10:22:37.793Z"
   },
   {
    "duration": 12,
    "start_time": "2022-03-31T10:22:37.804Z"
   },
   {
    "duration": 17,
    "start_time": "2022-03-31T10:22:37.817Z"
   },
   {
    "duration": 25,
    "start_time": "2022-03-31T10:22:37.836Z"
   },
   {
    "duration": 23,
    "start_time": "2022-03-31T10:22:37.863Z"
   },
   {
    "duration": 4,
    "start_time": "2022-03-31T10:22:37.887Z"
   },
   {
    "duration": 58,
    "start_time": "2022-03-31T10:22:37.893Z"
   },
   {
    "duration": 5,
    "start_time": "2022-03-31T10:22:37.952Z"
   },
   {
    "duration": 20,
    "start_time": "2022-03-31T10:22:37.959Z"
   },
   {
    "duration": 26,
    "start_time": "2022-03-31T10:22:37.983Z"
   },
   {
    "duration": 28,
    "start_time": "2022-03-31T10:22:38.011Z"
   },
   {
    "duration": 38,
    "start_time": "2022-03-31T10:22:38.041Z"
   },
   {
    "duration": 9,
    "start_time": "2022-03-31T10:22:38.081Z"
   },
   {
    "duration": 10,
    "start_time": "2022-03-31T10:22:38.092Z"
   },
   {
    "duration": 6,
    "start_time": "2022-03-31T10:22:38.103Z"
   },
   {
    "duration": 47,
    "start_time": "2022-03-31T10:22:38.110Z"
   },
   {
    "duration": 25,
    "start_time": "2022-03-31T10:22:38.158Z"
   },
   {
    "duration": 17,
    "start_time": "2022-03-31T10:22:38.184Z"
   },
   {
    "duration": 43,
    "start_time": "2022-03-31T10:22:38.203Z"
   },
   {
    "duration": 18,
    "start_time": "2022-03-31T10:22:38.248Z"
   },
   {
    "duration": 32,
    "start_time": "2022-03-31T10:22:38.268Z"
   },
   {
    "duration": 6,
    "start_time": "2022-03-31T10:22:38.302Z"
   },
   {
    "duration": 820,
    "start_time": "2022-03-31T10:22:38.310Z"
   },
   {
    "duration": 8,
    "start_time": "2022-03-31T10:22:39.132Z"
   },
   {
    "duration": 24,
    "start_time": "2022-03-31T10:22:39.142Z"
   },
   {
    "duration": 7,
    "start_time": "2022-03-31T10:22:39.168Z"
   },
   {
    "duration": 389,
    "start_time": "2022-03-31T10:22:39.177Z"
   },
   {
    "duration": 7,
    "start_time": "2022-03-31T10:22:39.568Z"
   },
   {
    "duration": 245,
    "start_time": "2022-03-31T10:22:39.577Z"
   },
   {
    "duration": 36,
    "start_time": "2022-03-31T10:22:39.824Z"
   },
   {
    "duration": 3,
    "start_time": "2022-03-31T10:22:39.862Z"
   },
   {
    "duration": 6,
    "start_time": "2022-03-31T10:22:39.867Z"
   },
   {
    "duration": 7,
    "start_time": "2022-03-31T10:22:39.874Z"
   },
   {
    "duration": 13,
    "start_time": "2022-03-31T10:22:39.883Z"
   },
   {
    "duration": 36,
    "start_time": "2022-03-31T10:22:39.897Z"
   },
   {
    "duration": 6,
    "start_time": "2022-03-31T10:22:39.935Z"
   },
   {
    "duration": 7,
    "start_time": "2022-03-31T10:22:39.943Z"
   },
   {
    "duration": 1081,
    "start_time": "2022-04-01T07:20:40.113Z"
   },
   {
    "duration": 213,
    "start_time": "2022-04-01T07:20:41.197Z"
   },
   {
    "duration": 57,
    "start_time": "2022-04-01T07:20:41.412Z"
   },
   {
    "duration": 52,
    "start_time": "2022-04-01T07:20:41.471Z"
   },
   {
    "duration": 40,
    "start_time": "2022-04-01T07:20:41.527Z"
   },
   {
    "duration": 133,
    "start_time": "2022-04-01T07:20:41.570Z"
   },
   {
    "duration": 173,
    "start_time": "2022-04-01T07:20:41.705Z"
   },
   {
    "duration": 28,
    "start_time": "2022-04-01T07:20:41.881Z"
   },
   {
    "duration": 58,
    "start_time": "2022-04-01T07:20:41.911Z"
   },
   {
    "duration": 98,
    "start_time": "2022-04-01T07:20:41.971Z"
   },
   {
    "duration": 16,
    "start_time": "2022-04-01T07:20:42.071Z"
   },
   {
    "duration": 126,
    "start_time": "2022-04-01T07:20:42.089Z"
   },
   {
    "duration": 25,
    "start_time": "2022-04-01T07:20:42.217Z"
   },
   {
    "duration": 47,
    "start_time": "2022-04-01T07:20:42.246Z"
   },
   {
    "duration": 53,
    "start_time": "2022-04-01T07:20:42.295Z"
   },
   {
    "duration": 19,
    "start_time": "2022-04-01T07:20:42.368Z"
   },
   {
    "duration": 14,
    "start_time": "2022-04-01T07:20:42.389Z"
   },
   {
    "duration": 33,
    "start_time": "2022-04-01T07:20:42.405Z"
   },
   {
    "duration": 34,
    "start_time": "2022-04-01T07:20:42.440Z"
   },
   {
    "duration": 9,
    "start_time": "2022-04-01T07:20:42.476Z"
   },
   {
    "duration": 9,
    "start_time": "2022-04-01T07:20:42.487Z"
   },
   {
    "duration": 32,
    "start_time": "2022-04-01T07:20:42.498Z"
   },
   {
    "duration": 58,
    "start_time": "2022-04-01T07:20:42.533Z"
   },
   {
    "duration": 5,
    "start_time": "2022-04-01T07:20:42.593Z"
   },
   {
    "duration": 68,
    "start_time": "2022-04-01T07:20:42.600Z"
   },
   {
    "duration": 7,
    "start_time": "2022-04-01T07:20:42.670Z"
   },
   {
    "duration": 23,
    "start_time": "2022-04-01T07:20:42.679Z"
   },
   {
    "duration": 32,
    "start_time": "2022-04-01T07:20:42.704Z"
   },
   {
    "duration": 47,
    "start_time": "2022-04-01T07:20:42.738Z"
   },
   {
    "duration": 33,
    "start_time": "2022-04-01T07:20:42.787Z"
   },
   {
    "duration": 12,
    "start_time": "2022-04-01T07:20:42.822Z"
   },
   {
    "duration": 196,
    "start_time": "2022-04-01T07:23:27.574Z"
   },
   {
    "duration": 86,
    "start_time": "2022-04-01T07:23:37.340Z"
   },
   {
    "duration": 114,
    "start_time": "2022-04-01T07:23:42.645Z"
   },
   {
    "duration": 112,
    "start_time": "2022-04-01T07:23:51.568Z"
   },
   {
    "duration": 130,
    "start_time": "2022-04-01T07:24:01.804Z"
   }
  ],
  "kernelspec": {
   "display_name": "Python 3 (ipykernel)",
   "language": "python",
   "name": "python3"
  },
  "language_info": {
   "codemirror_mode": {
    "name": "ipython",
    "version": 3
   },
   "file_extension": ".py",
   "mimetype": "text/x-python",
   "name": "python",
   "nbconvert_exporter": "python",
   "pygments_lexer": "ipython3",
   "version": "3.9.7"
  },
  "toc": {
   "base_numbering": 1,
   "nav_menu": {},
   "number_sections": true,
   "sideBar": true,
   "skip_h1_title": true,
   "title_cell": "Table of Contents",
   "title_sidebar": "Contents",
   "toc_cell": false,
   "toc_position": {
    "height": "calc(100% - 180px)",
    "left": "10px",
    "top": "150px",
    "width": "256px"
   },
   "toc_section_display": true,
   "toc_window_display": true
  }
 },
 "nbformat": 4,
 "nbformat_minor": 2
}
